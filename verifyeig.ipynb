{
 "cells": [
  {
   "cell_type": "markdown",
   "id": "395c47d9-5053-467f-ad79-40f1044674f4",
   "metadata": {
    "tags": []
   },
   "source": [
    "# 部分固有値と付随する固有ベクトル（部分固有対）の精度保証付き数値計算\n",
    "\n",
    "MATLABの区間演算パッケージである[INTLAB](https://www.tuhh.de/ti3/rump/intlab/)には一般化固有値問題の固有値・固有ベクトルを精度保証付きで計算する`verifyeig`という関数が実装されている。本稿では、文献1および2を参考に`verifyeig`関数のアルゴリズムを説明し、一般固有値問題 \n",
    "\n",
    "$$\n",
    "Ax=\\lambda Bx\n",
    "$$\n",
    "\n",
    "を満たす固有値 $\\lambda\\in\\mathbb{C}$ と固有ベクトル $x\\in\\mathbb{C}^n$ ($n$ は行列の次元) を求める実装を紹介する。\n",
    "\n",
    "行列 $A,B\\in \\mathbb{C}^{n\\times n}$ を与え、$B$ は正則、$B^{-1}A$ が対角化可能、かつ全ての固有値 $\\lambda$ が重複固有値でないと仮定する。写像 $F:\\mathbb{C}^{n+1}\\to\\mathbb{C}^{n+1}$ を\n",
    "\n",
    "$$\n",
    "    F(\\lambda, x) := \\begin{bmatrix}x^Hx -1\\\\ Ax-\\lambda Bx\\end{bmatrix}\n",
    "$$\n",
    "\n",
    "と定義すると $F(\\lambda, x)=0$ をみたす $(\\lambda, x)$ は一般化固有値問題の固有対となる（固有ベクトルは $\\|x\\|_2=1$ と正規化されている）。いま $\\bar x\\in \\mathbb{C}^n$, $\\bar \\lambda \\in \\mathbb{C}$ を $F(\\bar\\lambda,\\bar x)\\approx 0$ とする近似解とし、\n",
    "$R\\in \\mathbb{C}^{n+1\\times n+1}$ を写像 $F$ の近似解におけるヤコビ行列の近似逆行列（$R\\approx DF(\\bar\\lambda,\\bar x)^{-1}$）とする。部分固有値・固有ベクトルの精度保証付き数値計算には次の定理を利用する。\n",
    "\n",
    "**定理** $\\boldsymbol{y}\\in \\mathbb{IC}^n, \\boldsymbol{d} \\in \\mathbb{IC}$ をある区間ベクトルと区間として、$\\boldsymbol{w}:=(\\boldsymbol{d},\\boldsymbol{y}^T)^T\\in \\mathbb{IC}^{n+1}$ とする（${}^T$はベクトルの単なる転置を意味する）。 さらに\n",
    "\n",
    "$$\n",
    "    g(\\boldsymbol{w}):=z+\\left(I-R\\cdot DF\\left(\\bar\\lambda + \\boldsymbol{d}, \\bar x + \\boldsymbol{y}\\right)\\right)\\boldsymbol{w}\n",
    "$$\n",
    "\n",
    "と定義する。上の式のヤコビ行列 $DF(\\lambda,x)$ と $z$ は\n",
    "\n",
    "$$\n",
    "DF(\\lambda,x):=\n",
    "\\begin{bmatrix}\n",
    "0 & 2x^T\\\\\n",
    "-B\\boldsymbol{x} & A-\\boldsymbol{\\lambda}B \\\\\n",
    "\\end{bmatrix},\\quad\n",
    "z:=-R\n",
    "\\left[\\begin{array}\n",
    "a\\bar x_1^2+\\bar x_2^2+\\dots +\\bar x_n^2-1 \\\\\n",
    "A\\bar x-\\bar\\lambda B\\bar x \\\\\n",
    "\\end{array}\\right] \n",
    "$$\n",
    "\n",
    "で与えられる。\n",
    "このとき $\\mathrm{int}(\\boldsymbol{w})$ を区間ベクトル $\\boldsymbol{w}$ の（要素ごとの）内部とすると、$g(\\boldsymbol{w})\\subset \\mathrm{int}(\\boldsymbol{w})$ ならば、一般固有値問題 $Ax=\\lambda Bx$ の真の固有値 $\\lambda$ が\n",
    "$\\bar \\lambda +\\boldsymbol{d}$ 内に唯一存在し、対応する固有ベクトルが $\\bar x + \\boldsymbol{y}$ に包含される。"
   ]
  },
  {
   "cell_type": "markdown",
   "id": "9b976357-f6cc-4eef-bb04-5de1c54471eb",
   "metadata": {},
   "source": [
    "この定理をもとに精度保証付き数値計算を次のように実装する。\n",
    "\n",
    "1. 近似固有値 $\\bar{\\lambda}$、近似固有ベクトル $\\bar{x}$ を入力し、これらが実数であるときは実数の区間・区間ベクトルで、いずれかが複素数であるときは複素数の区間・区間ベクトルで $\\boldsymbol{y}$, $\\boldsymbol{d}$ を定義し、候補ベクトル $\\boldsymbol{w}=(\\boldsymbol{d},\\boldsymbol{y}^T)^T$ を作成する。\n",
    "1. ヤコビ行列$DF$ と $z$、$g(\\boldsymbol{w}):=z+\\left(I-R\\cdot DF\\left(\\bar\\lambda + \\boldsymbol{d}, \\bar x + \\boldsymbol{y}\\right)\\right)\\boldsymbol{w}$ を区間演算により計算する。\n",
    "1. $g(\\boldsymbol{w})\\subsetneq \\boldsymbol{w}$を満たすとき、$(\\bar\\lambda,\\bar x)^T+g(\\boldsymbol{w})$ の値を返す。\n",
    "\n",
    "上記の手順に従って次元 $n=30$ のある行列 $A,B\\in \\mathbb{C}^{n\\times n}$ に対し、$Ax=\\lambda Bx$ を考える。\n",
    "まず近似固有値$\\bar{\\lambda}$、近似固有ベクトル$\\bar{x}$を計算する。"
   ]
  },
  {
   "cell_type": "code",
   "execution_count": 1,
   "id": "0a2ad074-cca0-4a3e-b867-cfcff8def16f",
   "metadata": {},
   "outputs": [
    {
     "name": "stdout",
     "output_type": "stream",
     "text": [
      "Julia Version 1.7.3\n",
      "Commit 742b9abb4d (2022-05-06 12:58 UTC)\n",
      "Platform Info:\n",
      "  OS: Windows (x86_64-w64-mingw32)\n",
      "  CPU: Intel(R) Core(TM) i9-10900K CPU @ 3.70GHz\n",
      "  WORD_SIZE: 64\n",
      "  LIBM: libopenlibm\n",
      "  LLVM: libLLVM-12.0.1 (ORCJIT, skylake)\n",
      "Environment:\n",
      "  JULIA_NUM_THREADS = 4\n"
     ]
    }
   ],
   "source": [
    "versioninfo()"
   ]
  },
  {
   "cell_type": "code",
   "execution_count": 2,
   "id": "ad74b358-4346-475e-80d6-072b7da32862",
   "metadata": {},
   "outputs": [
    {
     "data": {
      "text/plain": [
       "GeneralizedEigen{ComplexF64, ComplexF64, Matrix{ComplexF64}, Vector{ComplexF64}}\n",
       "values:\n",
       "30-element Vector{ComplexF64}:\n",
       "  -6.800445951042474 + 0.0im\n",
       " -3.5354257648408782 - 1.728356967038503im\n",
       " -3.5354257648408782 + 1.7283569670385028im\n",
       " -1.0414617846086751 - 0.18640273721267706im\n",
       "  -1.041461784608675 + 0.18640273721267706im\n",
       " -0.9259474705662194 - 1.5651922183921942im\n",
       " -0.9259474705662193 + 1.5651922183921942im\n",
       " -0.5895227577251448 - 0.5761135900175108im\n",
       " -0.5895227577251448 + 0.5761135900175107im\n",
       " -0.5358026833639461 - 4.386244195024188im\n",
       " -0.5358026833639461 + 4.3862441950241875im\n",
       " -0.3068743351976202 - 0.3834508272365941im\n",
       " -0.3068743351976202 + 0.3834508272365941im\n",
       "                     ⋮\n",
       "  0.2305905063504978 - 0.5093608184061266im\n",
       " 0.23059050635049783 + 0.5093608184061265im\n",
       "  0.3436179670069986 - 0.10621792313817505im\n",
       "  0.3436179670069986 + 0.10621792313817506im\n",
       " 0.47204425812533235 - 1.4075125226125946im\n",
       " 0.47204425812533235 + 1.4075125226125949im\n",
       "  0.8624198086581915 - 0.188579189846087im\n",
       "  0.8624198086581915 + 0.188579189846087im\n",
       "  1.0463512741103949 - 1.876614182361521im\n",
       "  1.0463512741103949 + 1.8766141823615208im\n",
       "  1.1374095375442996 - 0.7607737736696665im\n",
       "  1.1374095375442999 + 0.7607737736696665im\n",
       "vectors:\n",
       "30×30 Matrix{ComplexF64}:\n",
       "   0.257323+0.0im   -0.150796-0.26071im    …    0.0224175-0.0256045im\n",
       "   0.344333+0.0im    0.184625+0.0863525im       -0.500416-0.35474im\n",
       "   -0.10377+0.0im    0.612031+0.387969im        0.0239282+0.478458im\n",
       "   0.752436+0.0im    0.135406+0.570921im       -0.0590458-0.186063im\n",
       "  -0.150372+0.0im    -0.12447-0.10428im          0.231356+0.257799im\n",
       "  -0.262048+0.0im    0.234684+0.0207065im  …    -0.137763-0.449447im\n",
       "  -0.620442+0.0im   -0.357381-0.232709im      -0.00671709-0.0220076im\n",
       "  -0.525143+0.0im  0.00269725+0.0697605im       0.0434131+0.429638im\n",
       "   0.434842+0.0im     -0.0734-0.0663697im        0.113211-0.240358im\n",
       "       -1.0+0.0im    0.602553+0.0326335im       -0.277008-0.161267im\n",
       "   0.516028+0.0im   -0.510323+0.0866494im  …     0.131476-0.347344im\n",
       "  -0.153892+0.0im    0.523093-0.111671im         0.154985-0.297328im\n",
       "   0.690159+0.0im  -0.0649073+0.126077im       -0.0890431-0.723183im\n",
       "           ⋮                               ⋱  \n",
       "    0.83774+0.0im   0.0590578-0.294814im        -0.383158+0.137978im\n",
       " -0.0885104+0.0im   -0.646654-0.17092im         -0.112489+0.329407im\n",
       "   0.141729+0.0im    0.116582+0.156292im   …    0.0030058-0.0196854im\n",
       " -0.0664485+0.0im     0.33997+0.469769im       -0.0301759-0.0512551im\n",
       "   0.177547+0.0im    0.590649+0.246965im        0.0764571+0.0418987im\n",
       "  -0.351289+0.0im   -0.436142-0.203682im        0.0427891+0.472867im\n",
       "   0.143645+0.0im   0.0501757-0.0677776im       -0.472371+0.146543im\n",
       " -0.0617577+0.0im    0.110559+0.226439im   …     0.170127+0.194072im\n",
       " -0.0597627+0.0im  -0.0104135-0.340309im        -0.189703-0.0199542im\n",
       " -0.0872294+0.0im   -0.205111+0.206456im         0.450177+0.277467im\n",
       " -0.0238787+0.0im    0.423871+0.0296863im       -0.240049-0.588332im\n",
       "   0.246982+0.0im    0.236248-0.0854617im       -0.264307-0.735693im"
      ]
     },
     "execution_count": 2,
     "metadata": {},
     "output_type": "execute_result"
    }
   ],
   "source": [
    "using LinearAlgebra\n",
    "n = 30\n",
    "A, B = randn(n,n), randn(n,n)\n",
    "λ, x = eigen(A, B)"
   ]
  },
  {
   "cell_type": "markdown",
   "id": "007b9fac-8dda-400f-8503-05a22bd6207c",
   "metadata": {},
   "source": [
    "1. 近似固有値 $\\bar{\\lambda}$、近似固有ベクトル $\\bar{x}$ を入力し、これらが実数であるときは実数の区間・区間ベクトルで、いずれかが複素数であるときは複素数の区間・区間ベクトルで $\\boldsymbol{y}$, $\\boldsymbol{d}$ を定義し、候補ベクトル $\\boldsymbol{w}=(\\boldsymbol{d},\\boldsymbol{y}^T)^T$ を作成する。\n",
    "\n",
    "候補ベクトルの区間幅は大きすぎたり、小さすぎたりすると定理の検証が失敗する。そのため**ある程度**小さい大きさを選ぶ必要がある。今回の実装では $\\epsilon=10^{-9}$ とした。"
   ]
  },
  {
   "cell_type": "code",
   "execution_count": 3,
   "id": "ca1396bd-1d6e-4845-98ac-331db7ced1d7",
   "metadata": {},
   "outputs": [
    {
     "data": {
      "text/plain": [
       "31-element Vector{Interval{Float64}}:\n",
       " [-1.00001e-09, 1.00001e-09]\n",
       " [-1.00001e-09, 1.00001e-09]\n",
       " [-1.00001e-09, 1.00001e-09]\n",
       " [-1.00001e-09, 1.00001e-09]\n",
       " [-1.00001e-09, 1.00001e-09]\n",
       " [-1.00001e-09, 1.00001e-09]\n",
       " [-1.00001e-09, 1.00001e-09]\n",
       " [-1.00001e-09, 1.00001e-09]\n",
       " [-1.00001e-09, 1.00001e-09]\n",
       " [-1.00001e-09, 1.00001e-09]\n",
       " [-1.00001e-09, 1.00001e-09]\n",
       " [-1.00001e-09, 1.00001e-09]\n",
       " [-1.00001e-09, 1.00001e-09]\n",
       "   ⋮\n",
       " [-1.00001e-09, 1.00001e-09]\n",
       " [-1.00001e-09, 1.00001e-09]\n",
       " [-1.00001e-09, 1.00001e-09]\n",
       " [-1.00001e-09, 1.00001e-09]\n",
       " [-1.00001e-09, 1.00001e-09]\n",
       " [-1.00001e-09, 1.00001e-09]\n",
       " [-1.00001e-09, 1.00001e-09]\n",
       " [-1.00001e-09, 1.00001e-09]\n",
       " [-1.00001e-09, 1.00001e-09]\n",
       " [-1.00001e-09, 1.00001e-09]\n",
       " [-1.00001e-09, 1.00001e-09]\n",
       " [-1.00001e-09, 1.00001e-09]"
      ]
     },
     "execution_count": 3,
     "metadata": {},
     "output_type": "execute_result"
    }
   ],
   "source": [
    "using IntervalArithmetic\n",
    "lam = λ[1]\n",
    "x1 = x[:,1] # 対応する固有ベクトル\n",
    "x = x1./sqrt(x1'*x1)\n",
    "ysize = length(x)\n",
    "\n",
    "ϵ = 1e-9 # size of candidate vector\n",
    "\n",
    "if isreal(lam) && isreal(x)\n",
    "    lam = real(lam)\n",
    "    x = real(x)\n",
    "    id = ϵ*interval(-1,1)\n",
    "    iy =  ϵ*interval.(-ones(ysize),ones(ysize))\n",
    "else\n",
    "    id =Complex(interval(-ϵ,ϵ),interval(-ϵ,ϵ))\n",
    "    iy = Complex.(interval(-ϵ,ϵ)*ones(ysize),interval(-ϵ,ϵ)*ones(ysize))\n",
    "end\n",
    "iw = [id;iy]"
   ]
  },
  {
   "cell_type": "markdown",
   "id": "b67d6910-ea6d-4cbc-acdb-2fbdb2151d1c",
   "metadata": {},
   "source": [
    "2. ヤコビ行列$DF$ と $z$、$g(\\boldsymbol{w}):=z+\\left(I-R\\cdot DF\\left(\\bar\\lambda + \\boldsymbol{d}, \\bar x + \\boldsymbol{y}\\right)\\right)\\boldsymbol{w}$ を区間演算により計算する。"
   ]
  },
  {
   "cell_type": "code",
   "execution_count": 4,
   "id": "bb0c62bc-5941-4f16-9c47-fa697e9aa06e",
   "metadata": {},
   "outputs": [
    {
     "data": {
      "text/plain": [
       "31-element Vector{Interval{Float64}}:\n",
       " [-2.63968e-13, 2.24998e-13]\n",
       " [-9.45051e-15, 8.71733e-15]\n",
       " [-5.48651e-15, 5.13011e-15]\n",
       " [-1.27422e-14, 1.51166e-14]\n",
       " [-1.70401e-14, 1.90648e-14]\n",
       " [-3.10465e-15, 2.81724e-15]\n",
       " [-7.43464e-15, 7.85539e-15]\n",
       " [-1.0438e-14, 8.92675e-15]\n",
       " [-3.44542e-15, 3.9286e-15]\n",
       " [-3.91808e-15, 4.22219e-15]\n",
       " [-8.0929e-15, 9.79665e-15]\n",
       " [-5.66363e-15, 5.02728e-15]\n",
       " [-9.15937e-15, 9.09832e-15]\n",
       "   ⋮\n",
       " [-8.92552e-15, 8.41739e-15]\n",
       " [-1.34397e-14, 1.23845e-14]\n",
       " [-5.708e-15, 6.67696e-15]\n",
       " [-1.63964e-14, 1.84501e-14]\n",
       " [-1.09402e-14, 1.23645e-14]\n",
       " [-8.75459e-15, 7.47277e-15]\n",
       " [-6.62039e-15, 6.44366e-15]\n",
       " [-5.8684e-15, 6.5665e-15]\n",
       " [-8.04379e-15, 7.46748e-15]\n",
       " [-5.17537e-15, 5.49279e-15]\n",
       " [-7.435e-15, 7.90553e-15]\n",
       " [-4.1786e-15, 4.64709e-15]"
      ]
     },
     "execution_count": 4,
     "metadata": {},
     "output_type": "execute_result"
    }
   ],
   "source": [
    "ix = map(Interval,x)\n",
    "iDF = [0 transpose(2*(x+iy)) ; -B*(x+iy) A-(lam.+id)*B]\n",
    "R = inv(mid.(iDF))\n",
    "z = -R*[dot(ix,ix)-1;A*ix-lam*B*ix]\n",
    "gw = z+(I-R*iDF)*iw"
   ]
  },
  {
   "cell_type": "markdown",
   "id": "816e3ef6-5584-4552-b1f0-12c15a62ad58",
   "metadata": {},
   "source": [
    "3. $g(\\boldsymbol{w})\\subsetneq \\boldsymbol{w}$を満たすとき、$(\\bar\\lambda,\\bar x)^T+g(\\boldsymbol{w})$ の値を返す。"
   ]
  },
  {
   "cell_type": "code",
   "execution_count": 5,
   "id": "be7008a9-fa3c-4718-b813-93d7b753f836",
   "metadata": {},
   "outputs": [
    {
     "data": {
      "text/plain": [
       "true"
      ]
     },
     "execution_count": 5,
     "metadata": {},
     "output_type": "execute_result"
    }
   ],
   "source": [
    "all(gw .⊂ iw)"
   ]
  },
  {
   "cell_type": "code",
   "execution_count": 6,
   "id": "b93a27ed-9bb2-4d73-a4e6-67641aab12b7",
   "metadata": {},
   "outputs": [
    {
     "data": {
      "text/plain": [
       "31-element Vector{Interval{Float64}}:\n",
       " [-6.80045, -6.80044]\n",
       "  [0.116945, 0.116946]\n",
       "  [0.156488, 0.156489]\n",
       " [-0.0471603, -0.0471602]\n",
       "  [0.341958, 0.341959]\n",
       " [-0.0683396, -0.0683395]\n",
       " [-0.119093, -0.119092]\n",
       " [-0.281972, -0.281971]\n",
       " [-0.238661, -0.23866]\n",
       "  [0.197621, 0.197622]\n",
       " [-0.454469, -0.454468]\n",
       "  [0.234518, 0.234519]\n",
       " [-0.0699391, -0.069939]\n",
       "   ⋮\n",
       "  [0.380726, 0.380727]\n",
       " [-0.0402252, -0.0402251]\n",
       "  [0.0644114, 0.0644115]\n",
       " [-0.0301988, -0.0301987]\n",
       "  [0.0806893, 0.0806894]\n",
       " [-0.15965, -0.159649]\n",
       "  [0.065282, 0.0652821]\n",
       " [-0.028067, -0.0280669]\n",
       " [-0.0271603, -0.0271602]\n",
       " [-0.0396431, -0.039643]\n",
       " [-0.0108522, -0.0108521]\n",
       "  [0.112245, 0.112246]"
      ]
     },
     "execution_count": 6,
     "metadata": {},
     "output_type": "execute_result"
    }
   ],
   "source": [
    "[lam;x]+gw"
   ]
  },
  {
   "cell_type": "markdown",
   "id": "3af37888-4923-48d5-8e06-7c81597eb311",
   "metadata": {},
   "source": [
    "この第一成分は対象の固有値の厳密な包含である。"
   ]
  },
  {
   "cell_type": "code",
   "execution_count": 7,
   "id": "17e37283-6871-4d1c-a18e-7dd0d74fb995",
   "metadata": {},
   "outputs": [
    {
     "data": {
      "text/plain": [
       "[-6.80045, -6.80044]"
      ]
     },
     "execution_count": 7,
     "metadata": {},
     "output_type": "execute_result"
    }
   ],
   "source": [
    "lam + gw[1]"
   ]
  },
  {
   "cell_type": "markdown",
   "id": "cb2f4e66-57ac-496a-ac04-abfd4a8cf71b",
   "metadata": {},
   "source": [
    "この手順を`verifyeig関数`として定義する。"
   ]
  },
  {
   "cell_type": "code",
   "execution_count": 8,
   "id": "e30f5503-7761-4f28-beeb-f60801c8dfe2",
   "metadata": {},
   "outputs": [
    {
     "data": {
      "text/plain": [
       "verifyeig (generic function with 2 methods)"
      ]
     },
     "execution_count": 8,
     "metadata": {},
     "output_type": "execute_result"
    }
   ],
   "source": [
    "function verifyeig(A,lam,x,B = I)\n",
    "x = x./sqrt(x'*x)\n",
    "ysize = length(x)\n",
    "\n",
    "ϵ = 1e-9 \n",
    "\n",
    "if isreal(lam) && isreal(x)\n",
    "    lam = real(lam)\n",
    "    x = real(x)\n",
    "    id = ϵ*interval.(-1,1)\n",
    "    iy =  ϵ*interval.(-ones(ysize),ones(ysize))\n",
    "else\n",
    "    id =Complex(interval(-ϵ,ϵ),interval(-ϵ,ϵ))\n",
    "    iy = Complex.(interval(-ϵ,ϵ)*ones(ysize),interval(-ϵ,ϵ)*ones(ysize))\n",
    "end\n",
    "    \n",
    "iw = [id;iy]\n",
    "# DF(w) = [0 transpose(2*(x+w[2:end])) ; -B*(x+w[2:end]) A-(lam+w[1]).*B]\n",
    "DF(w) = [0 transpose(2*(x+w[2:end])) ; -B*(x+w[2:end]) A-(lam.+w[1])[1]*B]\n",
    "g(w) = z+(I-R*DF(w))*w\n",
    "zero =zeros(ysize+1)\n",
    "R = inv(DF(zero))\n",
    "# R = inv(DF([lam;x]))  \n",
    "z = -R*[dot(x,x)-1;A*x-lam*B*x]\n",
    "gw = g(iw)\n",
    "if all(gw .⊂ iw)\n",
    "    return lam .+ gw[1] \n",
    "else\n",
    "    return NaN\n",
    "end\n",
    "end\n"
   ]
  },
  {
   "cell_type": "markdown",
   "id": "6eeba5f2-e93f-4b27-9853-3c316069fb62",
   "metadata": {},
   "source": [
    "部分固有対の精度保証方法であるので、全固有値を精度保証するには向かない。以下のように全固有値を精度保証するには $O(n^4)$ のオーダーが必要になる。全固有値を精度保証するには、例えば、[標準固有値問題の精度保証付き数値解法](https://www.risk.tsukuba.ac.jp/~takitoshi/tutorial/verifyalleig.html)のような方法が有効である。"
   ]
  },
  {
   "cell_type": "code",
   "execution_count": 9,
   "id": "cb92add8-c971-4930-bf14-6ec4efc28f8b",
   "metadata": {},
   "outputs": [
    {
     "data": {
      "text/plain": [
       "GeneralizedEigen{ComplexF64, ComplexF64, Matrix{ComplexF64}, Vector{ComplexF64}}\n",
       "values:\n",
       "30-element Vector{ComplexF64}:\n",
       "  -3.0002460825065427 + 0.0im\n",
       "  -1.5873573516967034 + 0.0im\n",
       "  -1.4013789764054334 + 0.9279343300212451im\n",
       "  -1.4013789764054332 - 0.9279343300212451im\n",
       "  -0.7362326897050494 - 0.5029574504872121im\n",
       "  -0.7362326897050494 + 0.5029574504872121im\n",
       "  -0.5579774473635717 - 1.1464574837201806im\n",
       "  -0.5579774473635716 + 1.1464574837201806im\n",
       "  -0.4070550755914696 + 0.0im\n",
       " -0.24683607727112783 - 0.5092703882360076im\n",
       "  -0.2468360772711278 + 0.5092703882360076im\n",
       " -0.23968591003633477 + 0.24606455086823745im\n",
       " -0.23968591003633472 - 0.24606455086823747im\n",
       "                      ⋮\n",
       "  0.18040559200244788 - 0.48567462795962757im\n",
       "  0.18040559200244788 + 0.48567462795962757im\n",
       "  0.28208644428899027 - 0.1620755558225438im\n",
       "  0.28208644428899027 + 0.1620755558225438im\n",
       "   0.6487102027040698 - 6.902215965378197im\n",
       "   0.6487102027040698 + 6.902215965378196im\n",
       "    0.876296873087635 - 0.7321852745422632im\n",
       "   0.8762968730876352 + 0.7321852745422631im\n",
       "    1.332287979534583 - 0.5026626208685044im\n",
       "    1.332287979534583 + 0.5026626208685044im\n",
       "    1.570058445159239 + 0.0im\n",
       "    3.022241483438228 + 0.0im\n",
       "vectors:\n",
       "30×30 Matrix{ComplexF64}:\n",
       "   0.609273+0.0im   -0.724877+0.0im  …  -0.0721261+0.0im   0.335693+0.0im\n",
       "   0.172761+0.0im   -0.337273+0.0im       0.170061+0.0im   0.176072+0.0im\n",
       "    0.11295+0.0im   -0.787587+0.0im            1.0+0.0im  -0.245329+0.0im\n",
       "  -0.434366+0.0im    0.823849+0.0im       0.489207+0.0im   0.316422+0.0im\n",
       "  -0.387639+0.0im   -0.401194+0.0im      -0.691998+0.0im  -0.946292+0.0im\n",
       "  -0.781539+0.0im  -0.0780655+0.0im  …  -0.0326406+0.0im    0.93815+0.0im\n",
       "       -1.0+0.0im    0.252022+0.0im       0.145354+0.0im   0.908932+0.0im\n",
       "  -0.186971+0.0im    0.134759+0.0im       -0.27791+0.0im   0.313692+0.0im\n",
       "   0.777822+0.0im        -1.0+0.0im      -0.225484+0.0im  -0.413315+0.0im\n",
       "  0.0878538+0.0im     0.10826+0.0im       0.183853+0.0im   0.274142+0.0im\n",
       "   0.099131+0.0im   -0.637085+0.0im  …   -0.579367+0.0im   0.146375+0.0im\n",
       " -0.0823516+0.0im    0.342505+0.0im     -0.0855198+0.0im  -0.160223+0.0im\n",
       "   0.526623+0.0im    -0.57874+0.0im       0.142927+0.0im   0.229416+0.0im\n",
       "           ⋮                         ⋱                    \n",
       "   0.166477+0.0im   0.0557454+0.0im      -0.530623+0.0im       -1.0+0.0im\n",
       "  -0.436002+0.0im    0.205801+0.0im     -0.0859953+0.0im  -0.117342+0.0im\n",
       "  -0.561402+0.0im    0.758329+0.0im  …  -0.0126918+0.0im  -0.246519+0.0im\n",
       "  -0.157228+0.0im    0.634755+0.0im       0.228612+0.0im   0.123007+0.0im\n",
       "   0.459001+0.0im   -0.900861+0.0im      -0.455406+0.0im  -0.647756+0.0im\n",
       "     -0.169+0.0im   0.0157124+0.0im      0.0464461+0.0im    0.47175+0.0im\n",
       "  0.0323362+0.0im   0.0710638+0.0im     -0.0313191+0.0im  -0.103219+0.0im\n",
       "   0.363641+0.0im   -0.526629+0.0im  …   -0.655057+0.0im  -0.107353+0.0im\n",
       "   0.513254+0.0im   0.0933941+0.0im       0.444447+0.0im  -0.917915+0.0im\n",
       "  -0.227442+0.0im    0.858346+0.0im         0.2428+0.0im   0.220906+0.0im\n",
       "   0.425061+0.0im   -0.450706+0.0im       0.689657+0.0im   0.611137+0.0im\n",
       "   0.183834+0.0im  -0.0735508+0.0im       0.619072+0.0im   0.985868+0.0im"
      ]
     },
     "execution_count": 9,
     "metadata": {},
     "output_type": "execute_result"
    }
   ],
   "source": [
    "A, B = randn(n,n), randn(n,n)\n",
    "λ, x = eigen(A, B)"
   ]
  },
  {
   "cell_type": "code",
   "execution_count": 10,
   "id": "5b5f4409-3fe2-43f8-bd32-65487532768a",
   "metadata": {},
   "outputs": [
    {
     "name": "stdout",
     "output_type": "stream",
     "text": [
      "ilam = verifyeig(A, λ[i], x[:, i], B) = [-3.00025, -3.00024]\n",
      "ilam = verifyeig(A, λ[i], x[:, i], B) = [-1.58736, -1.58735]\n",
      "ilam = verifyeig(A, λ[i], x[:, i], B) = [-1.40138, -1.40137] + [0.927934, 0.927935]im\n",
      "ilam = verifyeig(A, λ[i], x[:, i], B) = [-1.40138, -1.40137] + [-0.927935, -0.927934]im\n",
      "ilam = verifyeig(A, λ[i], x[:, i], B) = [-0.736233, -0.736232] + [-0.502958, -0.502957]im\n",
      "ilam = verifyeig(A, λ[i], x[:, i], B) = [-0.736233, -0.736232] + [0.502957, 0.502958]im\n",
      "ilam = verifyeig(A, λ[i], x[:, i], B) = [-0.557978, -0.557977] + [-1.14646, -1.14645]im\n",
      "ilam = verifyeig(A, λ[i], x[:, i], B) = [-0.557978, -0.557977] + [1.14645, 1.14646]im\n",
      "ilam = verifyeig(A, λ[i], x[:, i], B) = [-0.407056, -0.407055]\n",
      "ilam = verifyeig(A, λ[i], x[:, i], B) = [-0.246837, -0.246836] + [-0.509271, -0.50927]im\n",
      "ilam = verifyeig(A, λ[i], x[:, i], B) = [-0.246837, -0.246836] + [0.50927, 0.509271]im\n",
      "ilam = verifyeig(A, λ[i], x[:, i], B) = [-0.239686, -0.239685] + [0.246064, 0.246065]im\n",
      "ilam = verifyeig(A, λ[i], x[:, i], B) = [-0.239686, -0.239685] + [-0.246065, -0.246064]im\n",
      "ilam = verifyeig(A, λ[i], x[:, i], B) = [-0.055706, -0.0557059]\n",
      "ilam = verifyeig(A, λ[i], x[:, i], B) = [0.133096, 0.133097] + [-1.18544, -1.18543]im\n",
      "ilam = verifyeig(A, λ[i], x[:, i], B) = [0.133096, 0.133097] + [1.18543, 1.18544]im\n",
      "ilam = verifyeig(A, λ[i], x[:, i], B) = [0.152496, 0.152497] + [0.802199, 0.8022]im\n",
      "ilam = verifyeig(A, λ[i], x[:, i], B) = [0.152496, 0.152497] + [-0.8022, -0.802199]im\n",
      "ilam = verifyeig(A, λ[i], x[:, i], B) = [0.180405, 0.180406] + [-0.485675, -0.485674]im\n",
      "ilam = verifyeig(A, λ[i], x[:, i], B) = [0.180405, 0.180406] + [0.485674, 0.485675]im\n",
      "ilam = verifyeig(A, λ[i], x[:, i], B) = [0.282086, 0.282087] + [-0.162076, -0.162075]im\n",
      "ilam = verifyeig(A, λ[i], x[:, i], B) = [0.282086, 0.282087] + [0.162075, 0.162076]im\n",
      "ilam = verifyeig(A, λ[i], x[:, i], B) = [0.64871, 0.648711] + [-6.90222, -6.90221]im\n",
      "ilam = verifyeig(A, λ[i], x[:, i], B) = [0.64871, 0.648711] + [6.90221, 6.90222]im\n",
      "ilam = verifyeig(A, λ[i], x[:, i], B) = [0.876296, 0.876297] + [-0.732186, -0.732185]im\n",
      "ilam = verifyeig(A, λ[i], x[:, i], B) = [0.876296, 0.876297] + [0.732185, 0.732186]im\n",
      "ilam = verifyeig(A, λ[i], x[:, i], B) = [1.33228, 1.33229] + [-0.502663, -0.502662]im\n",
      "ilam = verifyeig(A, λ[i], x[:, i], B) = [1.33228, 1.33229] + [0.502662, 0.502663]im\n",
      "ilam = verifyeig(A, λ[i], x[:, i], B) = [1.57005, 1.57006]\n",
      "ilam = verifyeig(A, λ[i], x[:, i], B) = [3.02224, 3.02225]\n"
     ]
    }
   ],
   "source": [
    "# ilam = zeros(Interval,length(λ))\n",
    "for i = 1:length(λ)\n",
    "    @show ilam = verifyeig(A,λ[i],x[:,i],B)\n",
    "end"
   ]
  },
  {
   "cell_type": "markdown",
   "id": "06d1cccf-ad3d-407f-9a3c-37648947a5b5",
   "metadata": {},
   "source": [
    "**TODO**　固有値が縮退し多重固有値である場合や複数の固有値がクラスター形成している場合、この方法は失敗する。この場合の精度保証付き数値計算方法は文献3にある。今後この方法を実装していきたい。\n",
    "\n",
    "\n",
    "本資料は以下のような文献・Web ページ等を参考に書いている。\n",
    "\n",
    "### 参考文献\n",
    "\n",
    "1. 大石進一編著, 精度保証付き数値計算の基礎, コロナ社, 2018.<br>\n",
    "（精度保証付き数値計算の教科書、3.4.2章にある「非線形方程式を利用した精度保証法」を実装した）\n",
    "\n",
    "1. S.M. Rump. Guaranteed Inclusions for the Complex Generalized Eigenproblem. Computing, 42:225-238, 1989.<br>\n",
    "（今回の方法を初めて発表した原著論文）\n",
    "\n",
    "1. S.M. Rump. Computational Error Bounds for Multiple or Nearly Multiple Eigenvalues. Linear Algebra and its Applications (LAA), 324:209–226, 2001.<br>\n",
    "（多重固有値や多数の固有値のクラスターに対する精度保証付き数値計算方法。INTLABの`verifyeig.m`にはこの方法も実装されている）\n",
    "\n",
    "\n",
    "<div align=\"right\">近藤慎佑, <a href=\"http://www.risk.tsukuba.ac.jp/~takitoshi/\">高安亮紀</a>，2022年9月19日</div>"
   ]
  }
 ],
 "metadata": {
  "kernelspec": {
   "display_name": "Julia 1.7.3",
   "language": "julia",
   "name": "julia-1.7"
  },
  "language_info": {
   "file_extension": ".jl",
   "mimetype": "application/julia",
   "name": "julia",
   "version": "1.7.3"
  }
 },
 "nbformat": 4,
 "nbformat_minor": 5
}
