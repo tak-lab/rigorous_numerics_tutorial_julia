{
 "cells": [
  {
   "cell_type": "markdown",
   "id": "395c47d9-5053-467f-ad79-40f1044674f4",
   "metadata": {
    "tags": []
   },
   "source": [
    "# 部分固有値と付随する固有ベクトル（部分固有対）の精度保証付き数値計算\n",
    "\n",
    "MATLABの区間演算パッケージである[INTLAB](https://www.tuhh.de/ti3/rump/intlab/)には一般化固有値問題の固有値・固有ベクトルを精度保証付きで計算する`verifyeig`という関数が実装されている。本稿では、文献1および2を参考に`verifyeig`関数のアルゴリズムを説明し、一般化固有値問題 \n",
    "\n",
    "$$\n",
    "Ax=\\lambda Bx\n",
    "$$\n",
    "\n",
    "を満たす固有値 $\\lambda\\in\\mathbb{C}$ と固有ベクトル $x\\in\\mathbb{C}^n$ ($n$ は行列の次元) を求める実装を紹介する。\n",
    "\n",
    "行列 $A,B\\in \\mathbb{C}^{n\\times n}$ を与え、$B$ は正則、$B^{-1}A$ が対角化可能、かつ全ての固有値 $\\lambda$ が重複固有値でないと仮定する。写像 $F:\\mathbb{C}^{n+1}\\to\\mathbb{C}^{n+1}$ を\n",
    "\n",
    "$$\n",
    "    F(\\lambda, x) := \\begin{bmatrix}x^Hx -1\\\\ Ax-\\lambda Bx\\end{bmatrix}\n",
    "$$\n",
    "\n",
    "と定義すると $F(\\lambda, x)=0$ をみたす $(\\lambda, x)$ は一般化固有値問題の固有対となる（固有ベクトルは $\\|x\\|_2=1$ と正規化されている）。いま $\\bar x\\in \\mathbb{C}^n$, $\\bar \\lambda \\in \\mathbb{C}$ を $F(\\bar\\lambda,\\bar x)\\approx 0$ とする近似解とし、\n",
    "$R\\in \\mathbb{C}^{n+1\\times n+1}$ を写像 $F$ の近似解におけるヤコビ行列の近似逆行列（$R\\approx DF(\\bar\\lambda,\\bar x)^{-1}$）とする。部分固有値・固有ベクトルの精度保証付き数値計算には次の定理を利用する。\n",
    "\n",
    "**定理** $\\boldsymbol{y}\\in \\mathbb{IC}^n, \\boldsymbol{d} \\in \\mathbb{IC}$ をある区間ベクトルと区間として、$\\boldsymbol{w}:=(\\boldsymbol{d},\\boldsymbol{y}^T)^T\\in \\mathbb{IC}^{n+1}$ とする（${}^T$はベクトルの単なる転置を意味する）。 さらに\n",
    "\n",
    "$$\n",
    "    g(\\boldsymbol{w}):=z+\\left(I-R\\cdot DF\\left(\\bar\\lambda + \\boldsymbol{d}, \\bar x + \\boldsymbol{y}\\right)\\right)\\boldsymbol{w}\n",
    "$$\n",
    "\n",
    "と定義する。上の式のヤコビ行列 $DF(\\lambda,x)$ と $z$ は\n",
    "\n",
    "$$\n",
    "\\begin{align*}\n",
    "DF(\\lambda,x):=\n",
    "\\begin{bmatrix}\n",
    "0 & 2x^T\\\\\n",
    "-B\\boldsymbol{x} & A-\\boldsymbol{\\lambda}B \\\\\n",
    "\\end{bmatrix},\\quad\n",
    "z:=-R\n",
    "\\left[\\begin{array}\n",
    "a\\bar x_1^2+\\bar x_2^2+\\dots +\\bar x_n^2-1 \\\\\n",
    "A\\bar x-\\bar\\lambda B\\bar x \\\\\n",
    "\\end{array}\\right]\n",
    "\\end{align*}\n",
    "$$\n",
    "\n",
    "で与えられる。\n",
    "このとき $\\mathrm{int}(\\boldsymbol{w})$ を区間ベクトル $\\boldsymbol{w}$ の（要素ごとの）内部とすると、$g(\\boldsymbol{w})\\subset \\mathrm{int}(\\boldsymbol{w})$ ならば、一般化固有値問題 $Ax=\\lambda Bx$ の真の固有値 $\\lambda$ が\n",
    "$\\bar \\lambda +\\boldsymbol{d}$ 内に唯一存在し、対応する固有ベクトルが $\\bar x + \\boldsymbol{y}$ に包含される。"
   ]
  },
  {
   "cell_type": "markdown",
   "id": "9b976357-f6cc-4eef-bb04-5de1c54471eb",
   "metadata": {},
   "source": [
    "この定理をもとに精度保証付き数値計算を次のように実装する。\n",
    "\n",
    "1. 近似固有値 $\\bar{\\lambda}$、近似固有ベクトル $\\bar{x}$ を入力し、これらが実数であるときは実数の区間・区間ベクトルで、いずれかが複素数であるときは複素数の区間・区間ベクトルで $\\boldsymbol{y}$, $\\boldsymbol{d}$ を定義し、候補ベクトル $\\boldsymbol{w}=(\\boldsymbol{d},\\boldsymbol{y}^T)^T$ を作成する。\n",
    "1. ヤコビ行列$DF$ と $z$、$g(\\boldsymbol{w}):=z+\\left(I-R\\cdot DF\\left(\\bar\\lambda + \\boldsymbol{d}, \\bar x + \\boldsymbol{y}\\right)\\right)\\boldsymbol{w}$ を区間演算により計算する。\n",
    "1. $g(\\boldsymbol{w})\\subsetneq \\boldsymbol{w}$を満たすとき、$(\\bar\\lambda,\\bar x)^T+g(\\boldsymbol{w})$ の値を返す。\n",
    "\n",
    "上記の手順に従って次元 $n=30$ のある行列 $A,B\\in \\mathbb{C}^{n\\times n}$ に対し、$Ax=\\lambda Bx$ を考える。\n",
    "まず近似固有値$\\bar{\\lambda}$、近似固有ベクトル$\\bar{x}$を計算する。"
   ]
  },
  {
   "cell_type": "code",
   "execution_count": 1,
   "id": "0a2ad074-cca0-4a3e-b867-cfcff8def16f",
   "metadata": {},
   "outputs": [
    {
     "name": "stdout",
     "output_type": "stream",
     "text": [
      "Julia Version 1.10.0\n",
      "Commit 3120989f39b (2023-12-25 18:01 UTC)\n",
      "Build Info:\n",
      "  Official https://julialang.org/ release\n",
      "Platform Info:\n",
      "  OS: macOS (arm64-apple-darwin22.4.0)\n",
      "  CPU: 14 × Apple M3 Max\n",
      "  WORD_SIZE: 64\n",
      "  LIBM: libopenlibm\n",
      "  LLVM: libLLVM-15.0.7 (ORCJIT, apple-m1)\n",
      "  Threads: 2 on 10 virtual cores\n"
     ]
    }
   ],
   "source": [
    "versioninfo()"
   ]
  },
  {
   "cell_type": "code",
   "execution_count": 2,
   "id": "69106119",
   "metadata": {},
   "outputs": [
    {
     "name": "stdout",
     "output_type": "stream",
     "text": [
      "\u001b[32m\u001b[1mStatus\u001b[22m\u001b[39m `~/.julia/environments/v1.10/Project.toml`\n",
      "  \u001b[90m[d1acc4aa] \u001b[39mIntervalArithmetic v0.22.6\n"
     ]
    }
   ],
   "source": [
    "using Pkg\n",
    "Pkg.status(\"IntervalArithmetic\")"
   ]
  },
  {
   "cell_type": "code",
   "execution_count": 3,
   "id": "ad74b358-4346-475e-80d6-072b7da32862",
   "metadata": {},
   "outputs": [
    {
     "data": {
      "text/plain": [
       "GeneralizedEigen{ComplexF64, ComplexF64, Matrix{ComplexF64}, Vector{ComplexF64}}\n",
       "values:\n",
       "30-element Vector{ComplexF64}:\n",
       "   -8.807235191171742 + 0.0im\n",
       "  -1.8720739353881435 - 0.4211957322307501im\n",
       "  -1.8720739353881435 + 0.42119573223075013im\n",
       "  -1.2450164394864036 - 2.338661769764113im\n",
       "  -1.2450164394864036 + 2.338661769764113im\n",
       "  -1.1558402670064905 + 0.0im\n",
       "   -0.789551856115187 - 1.002224359974505im\n",
       "   -0.789551856115187 + 1.002224359974505im\n",
       "  -0.5393502183046783 - 0.7116749651587355im\n",
       "  -0.5393502183046783 + 0.7116749651587354im\n",
       "  -0.3675440335623449 + 0.0im\n",
       " -0.22852573744671337 - 0.1592805432423365im\n",
       " -0.22852573744671337 + 0.15928054324233654im\n",
       "                      ⋮\n",
       "    0.281692718115899 - 0.545904155982315im\n",
       "    0.281692718115899 + 0.5459041559823149im\n",
       "   0.2965924537980811 - 0.8603906140438535im\n",
       "   0.2965924537980811 + 0.8603906140438535im\n",
       "   0.5212264660922051 + 0.0im\n",
       "   0.8420124984325313 - 0.4056142428796466im\n",
       "   0.8420124984325315 + 0.4056142428796465im\n",
       "   0.8668146997815379 + 0.0im\n",
       "   1.2621456553888593 + 0.0im\n",
       "    1.560528109473799 - 1.3546291706469042im\n",
       "    1.560528109473799 + 1.354629170646904im\n",
       "   186.07116084856375 + 0.0im\n",
       "vectors:\n",
       "30×30 Matrix{ComplexF64}:\n",
       "    0.20217+0.0im   0.0318037+0.0280408im   …     0.234905+0.0im\n",
       "  -0.217436+0.0im    0.364885+0.312187im          -0.20174+0.0im\n",
       "       -1.0+0.0im    0.211263+0.346095im              -1.0+0.0im\n",
       "   -0.26971+0.0im   0.0893835+0.155071im         -0.300353+0.0im\n",
       " -0.0561925+0.0im   0.0777207+0.195086im         0.0945225+0.0im\n",
       "   0.253824+0.0im   -0.176184-0.131949im    …     0.250935+0.0im\n",
       "   -0.16729+0.0im    0.252789+0.191767im         0.0614289+0.0im\n",
       "  -0.321578+0.0im   0.0476998+0.0385842im         -0.31054+0.0im\n",
       "  -0.348441+0.0im    0.126015+0.237507im         -0.238223+0.0im\n",
       "   -0.18753+0.0im    0.491601+0.191111im         0.0205939+0.0im\n",
       " -0.0727752+0.0im  -0.0939492-0.101164im    …  -0.00795106+0.0im\n",
       "  -0.438972+0.0im   0.0789246+0.187319im         -0.349904+0.0im\n",
       "  0.0625889+0.0im   0.0358692+0.00392634im       0.0791018+0.0im\n",
       "           ⋮                                ⋱  \n",
       " -0.0121096+0.0im    0.059365+0.0364191im       -0.0724114+0.0im\n",
       "  -0.146576+0.0im   -0.130795-0.116416im          -0.12067+0.0im\n",
       "  -0.311531+0.0im   0.0906312+0.390606im    …    -0.176047+0.0im\n",
       " 0.00415899+0.0im    0.333781+0.246889im         0.0806722+0.0im\n",
       "   0.224384+0.0im   -0.270805-0.0337405im         0.210771+0.0im\n",
       "  -0.207086+0.0im    0.120852+0.105772im         -0.331818+0.0im\n",
       "   0.310787+0.0im    0.236172+0.0814331im         0.527194+0.0im\n",
       "  -0.296509+0.0im    0.311386+0.265348im    …     -0.14192+0.0im\n",
       "  -0.540491+0.0im    0.507163+0.492837im         -0.233728+0.0im\n",
       "  -0.341711+0.0im  -0.0338126-0.0721759im        -0.508083+0.0im\n",
       "   0.243982+0.0im  -0.0719414-0.250216im         0.0968205+0.0im\n",
       "  -0.039231+0.0im    0.161358+0.112677im         0.0785697+0.0im"
      ]
     },
     "execution_count": 3,
     "metadata": {},
     "output_type": "execute_result"
    }
   ],
   "source": [
    "using LinearAlgebra\n",
    "n = 30\n",
    "A, B = randn(n, n), randn(n, n)\n",
    "λ, x = eigen(A, B)"
   ]
  },
  {
   "cell_type": "markdown",
   "id": "007b9fac-8dda-400f-8503-05a22bd6207c",
   "metadata": {},
   "source": [
    "1. 近似固有値 $\\bar{\\lambda}$、近似固有ベクトル $\\bar{x}$ を入力し、これらが実数であるときは実数の区間・区間ベクトルで、いずれかが複素数であるときは複素数の区間・区間ベクトルで $\\boldsymbol{y}$, $\\boldsymbol{d}$ を定義し、候補ベクトル $\\boldsymbol{w}=(\\boldsymbol{d},\\boldsymbol{y}^T)^T$ を作成する。\n",
    "\n",
    "候補ベクトルの区間幅は大きすぎたり、小さすぎたりすると定理の検証が失敗する。そのため**ある程度**小さい大きさを選ぶ必要がある。今回の実装では $\\epsilon=10^{-9}$ とした。"
   ]
  },
  {
   "cell_type": "code",
   "execution_count": 4,
   "id": "ca1396bd-1d6e-4845-98ac-331db7ced1d7",
   "metadata": {},
   "outputs": [
    {
     "data": {
      "text/plain": [
       "31-element Vector{Interval{Float64}}:\n",
       " [-1.00001e-09, 1.00001e-09]_com\n",
       " [-1.00001e-09, 1.00001e-09]_com\n",
       " [-1.00001e-09, 1.00001e-09]_com\n",
       " [-1.00001e-09, 1.00001e-09]_com\n",
       " [-1.00001e-09, 1.00001e-09]_com\n",
       " [-1.00001e-09, 1.00001e-09]_com\n",
       " [-1.00001e-09, 1.00001e-09]_com\n",
       " [-1.00001e-09, 1.00001e-09]_com\n",
       " [-1.00001e-09, 1.00001e-09]_com\n",
       " [-1.00001e-09, 1.00001e-09]_com\n",
       " [-1.00001e-09, 1.00001e-09]_com\n",
       " [-1.00001e-09, 1.00001e-09]_com\n",
       " [-1.00001e-09, 1.00001e-09]_com\n",
       "   ⋮\n",
       " [-1.00001e-09, 1.00001e-09]_com\n",
       " [-1.00001e-09, 1.00001e-09]_com\n",
       " [-1.00001e-09, 1.00001e-09]_com\n",
       " [-1.00001e-09, 1.00001e-09]_com\n",
       " [-1.00001e-09, 1.00001e-09]_com\n",
       " [-1.00001e-09, 1.00001e-09]_com\n",
       " [-1.00001e-09, 1.00001e-09]_com\n",
       " [-1.00001e-09, 1.00001e-09]_com\n",
       " [-1.00001e-09, 1.00001e-09]_com\n",
       " [-1.00001e-09, 1.00001e-09]_com\n",
       " [-1.00001e-09, 1.00001e-09]_com\n",
       " [-1.00001e-09, 1.00001e-09]_com"
      ]
     },
     "execution_count": 4,
     "metadata": {},
     "output_type": "execute_result"
    }
   ],
   "source": [
    "using IntervalArithmetic\n",
    "lam = λ[1]\n",
    "x1 = x[:, 1] # 対応する固有ベクトル\n",
    "x = x1 ./ sqrt(x1' * x1)\n",
    "ysize = length(x)\n",
    "\n",
    "ϵ = 1e-9 # size of candidate vector\n",
    "\n",
    "if isreal(lam) && isreal(x)\n",
    "    lam = real(lam)\n",
    "    x = real(x)\n",
    "    id = interval(0, ϵ; format=:midpoint)\n",
    "    iy = interval.(zeros(ysize), ϵ; format=:midpoint)\n",
    "    iI = interval(Matrix{Float64}(I, n + 1, n + 1))\n",
    "    izero = interval(0)\n",
    "else\n",
    "    id = Complex(interval.(0, ϵ; format=:midpoint), interval.(0, ϵ; format=:midpoint))\n",
    "    iy = Complex.(interval.(zeros(ysize), ϵ; format=:midpoint), interval.(zeros(ysize), ϵ; format=:midpoint))\n",
    "    iI = interval(Matrix{Complex{Float64}}(I, n + 1, n + 1))\n",
    "    izero = interval(0 + 0im)\n",
    "end\n",
    "iw = [id; iy]"
   ]
  },
  {
   "cell_type": "markdown",
   "id": "b67d6910-ea6d-4cbc-acdb-2fbdb2151d1c",
   "metadata": {},
   "source": [
    "2. ヤコビ行列$DF$ と $z$、$g(\\boldsymbol{w}):=z+\\left(I-R\\cdot DF\\left(\\bar\\lambda + \\boldsymbol{d}, \\bar x + \\boldsymbol{y}\\right)\\right)\\boldsymbol{w}$ を区間演算により計算する。"
   ]
  },
  {
   "cell_type": "code",
   "execution_count": 5,
   "id": "bb0c62bc-5941-4f16-9c47-fa697e9aa06e",
   "metadata": {},
   "outputs": [
    {
     "data": {
      "text/plain": [
       "31-element Vector{Interval{Float64}}:\n",
       " [-1.53421e-12, 1.60364e-12]_com\n",
       " [-6.28847e-15, 5.87119e-15]_com\n",
       " [-6.2841e-15, 6.24573e-15]_com\n",
       " [-1.33737e-14, 1.35622e-14]_com\n",
       " [-5.34187e-15, 5.95928e-15]_com\n",
       " [-1.65682e-14, 1.55644e-14]_com\n",
       " [-4.44868e-15, 4.00426e-15]_com\n",
       " [-2.1826e-14, 2.10103e-14]_com\n",
       " [-5.66461e-15, 6.17318e-15]_com\n",
       " [-9.08141e-15, 8.89336e-15]_com\n",
       " [-1.68061e-14, 1.59398e-14]_com\n",
       " [-3.91177e-15, 3.74838e-15]_com\n",
       " [-3.26079e-15, 3.35143e-15]_com\n",
       "   ⋮\n",
       " [-3.99718e-15, 4.32441e-15]_com\n",
       " [-9.42529e-15, 9.6057e-15]_com\n",
       " [-1.38155e-14, 1.34268e-14]_com\n",
       " [-1.58001e-14, 1.49484e-14]_com\n",
       " [-3.53401e-15, 3.64503e-15]_com\n",
       " [-1.14521e-14, 1.23865e-14]_com\n",
       " [-2.50687e-14, 2.35591e-14]_com\n",
       " [-1.37185e-14, 1.32005e-14]_com\n",
       " [-2.83772e-14, 2.69667e-14]_com\n",
       " [-2.06638e-14, 2.20965e-14]_com\n",
       " [-1.31275e-14, 1.3718e-14]_com\n",
       " [-1.19503e-14, 1.15808e-14]_com"
      ]
     },
     "execution_count": 5,
     "metadata": {},
     "output_type": "execute_result"
    }
   ],
   "source": [
    "ix = interval(x);\n",
    "ilam = interval(lam);\n",
    "iA = interval(A);\n",
    "iB = interval(B);\n",
    "iDF = [izero transpose(interval(2) * (ix + iy)); -iB*(ix+iy) iA-(ilam.+id)*iB]\n",
    "R = inv(mid.(iDF));\n",
    "iR = interval(R);\n",
    "z = -iR * [dot(ix, ix) - interval(1); iA * ix - ilam * iB * ix]\n",
    "gw = z + (iI - iR * iDF) * iw"
   ]
  },
  {
   "cell_type": "markdown",
   "id": "816e3ef6-5584-4552-b1f0-12c15a62ad58",
   "metadata": {},
   "source": [
    "3. $g(\\boldsymbol{w})\\subsetneq \\boldsymbol{w}$を満たすとき、$(\\bar\\lambda,\\bar x)^T+g(\\boldsymbol{w})$ の値を返す。"
   ]
  },
  {
   "cell_type": "code",
   "execution_count": 6,
   "id": "be7008a9-fa3c-4718-b813-93d7b753f836",
   "metadata": {},
   "outputs": [
    {
     "data": {
      "text/plain": [
       "true"
      ]
     },
     "execution_count": 6,
     "metadata": {},
     "output_type": "execute_result"
    }
   ],
   "source": [
    "all(issubset_interval.(gw, iw))"
   ]
  },
  {
   "cell_type": "code",
   "execution_count": 7,
   "id": "b93a27ed-9bb2-4d73-a4e6-67641aab12b7",
   "metadata": {},
   "outputs": [
    {
     "data": {
      "text/plain": [
       "31-element Vector{Interval{Float64}}:\n",
       " [-8.80724, -8.80723]_com\n",
       " [0.121617, 0.121618]_com\n",
       " [-0.130802, -0.130801]_com\n",
       " [-0.601561, -0.60156]_com\n",
       " [-0.162248, -0.162246]_com\n",
       " [-0.0338032, -0.0338031]_com\n",
       " [0.15269, 0.152691]_com\n",
       " [-0.100636, -0.100635]_com\n",
       " [-0.193449, -0.193448]_com\n",
       " [-0.209609, -0.209608]_com\n",
       " [-0.112811, -0.11281]_com\n",
       " [-0.0437788, -0.0437787]_com\n",
       " [-0.264069, -0.264068]_com\n",
       "   ⋮\n",
       " [-0.00728467, -0.00728466]_com\n",
       " [-0.0881746, -0.0881745]_com\n",
       " [-0.187405, -0.187404]_com\n",
       " [0.00250188, 0.00250189]_com\n",
       " [0.13498, 0.134981]_com\n",
       " [-0.124575, -0.124574]_com\n",
       " [0.186956, 0.186958]_com\n",
       " [-0.178369, -0.178368]_com\n",
       " [-0.325139, -0.325138]_com\n",
       " [-0.205561, -0.205559]_com\n",
       " [0.146769, 0.14677]_com\n",
       " [-0.0235999, -0.0235998]_com"
      ]
     },
     "execution_count": 7,
     "metadata": {},
     "output_type": "execute_result"
    }
   ],
   "source": [
    "[ilam; ix] + gw"
   ]
  },
  {
   "cell_type": "markdown",
   "id": "3af37888-4923-48d5-8e06-7c81597eb311",
   "metadata": {},
   "source": [
    "この第一成分は対象の固有値の厳密な包含である。"
   ]
  },
  {
   "cell_type": "code",
   "execution_count": 8,
   "id": "17e37283-6871-4d1c-a18e-7dd0d74fb995",
   "metadata": {},
   "outputs": [
    {
     "data": {
      "text/plain": [
       "[-8.80724, -8.80723]_com"
      ]
     },
     "execution_count": 8,
     "metadata": {},
     "output_type": "execute_result"
    }
   ],
   "source": [
    "ilam + gw[1]"
   ]
  },
  {
   "cell_type": "markdown",
   "id": "cb2f4e66-57ac-496a-ac04-abfd4a8cf71b",
   "metadata": {},
   "source": [
    "この手順を`verifyeig関数`として定義する。"
   ]
  },
  {
   "cell_type": "code",
   "execution_count": 9,
   "id": "e30f5503-7761-4f28-beeb-f60801c8dfe2",
   "metadata": {},
   "outputs": [
    {
     "data": {
      "text/plain": [
       "verifyeig (generic function with 2 methods)"
      ]
     },
     "execution_count": 9,
     "metadata": {},
     "output_type": "execute_result"
    }
   ],
   "source": [
    "using IntervalArithmetic\n",
    "function verifyeig(A, lam, x, B=B = Matrix(I,size(A)))\n",
    "    x = x ./ sqrt(x' * x)\n",
    "    ysize = length(x)\n",
    "\n",
    "    ϵ = 1e-9 # size of candidate vector\n",
    "\n",
    "    if isreal(lam) && isreal(x)\n",
    "        lam = real(lam)\n",
    "        x = real(x)\n",
    "        id = interval(0, ϵ; format=:midpoint)\n",
    "        iy = interval.(zeros(ysize), ϵ; format=:midpoint)\n",
    "        iI = interval(Matrix{Float64}(I, ysize + 1, ysize + 1))\n",
    "        izero = interval(0)\n",
    "    else\n",
    "        id = Complex(interval.(0, ϵ; format=:midpoint), interval.(0, ϵ; format=:midpoint))\n",
    "        iy = Complex.(interval.(zeros(ysize), ϵ; format=:midpoint), interval.(zeros(ysize), ϵ; format=:midpoint))\n",
    "        iI = interval(Matrix{Complex{Float64}}(I, ysize + 1, ysize + 1))\n",
    "        izero = interval(0 + 0im)\n",
    "    end\n",
    "    iw = [id; iy]\n",
    "\n",
    "    # DF(w) = [0 transpose(2*(x+w[2:end])) ; -B*(x+w[2:end]) A-(lam+w[1]).*B]\n",
    "    ix = interval(x)\n",
    "    ilam = interval(lam)\n",
    "    iA = interval(A)\n",
    "    iB = interval(B)\n",
    "\n",
    "    iDF(w) = [izero transpose(interval(2) * (ix + w[2:end])); -iB*(ix+w[2:end]) iA-(ilam.+w[1])*iB]\n",
    "    R = inv(mid.(iDF(zeros(ysize + 1))))\n",
    "    iR = interval(R)\n",
    "    z = -iR * [dot(ix, ix) - interval(1); iA * ix - ilam * iB * ix]\n",
    "    g(w) = z + (iI - iR * iDF(w)) * w\n",
    "    gw = g(iw)\n",
    "    if all(issubset_interval.(gw, iw))\n",
    "        while maximum(radius, gw) / norm([lam; x], 1) > 5e-13\n",
    "            iw = gw\n",
    "            gw = g(iw)\n",
    "        end\n",
    "        return ilam + gw[1]\n",
    "    else\n",
    "        return NaN\n",
    "    end\n",
    "end\n"
   ]
  },
  {
   "cell_type": "markdown",
   "id": "6eeba5f2-e93f-4b27-9853-3c316069fb62",
   "metadata": {},
   "source": [
    "部分固有対の精度保証方法であるので、全固有値を精度保証するには向かない。以下のように全固有値を精度保証するには $O(n^4)$ のオーダーが必要になる。全固有値を精度保証するには、例えば、[標準固有値問題の精度保証付き数値解法](https://www.risk.tsukuba.ac.jp/~takitoshi/tutorial/verifyalleig.html)のような方法が有効である。"
   ]
  },
  {
   "cell_type": "code",
   "execution_count": 10,
   "id": "cb92add8-c971-4930-bf14-6ec4efc28f8b",
   "metadata": {},
   "outputs": [
    {
     "data": {
      "text/plain": [
       "GeneralizedEigen{ComplexF64, ComplexF64, Matrix{ComplexF64}, Vector{ComplexF64}}\n",
       "values:\n",
       "30-element Vector{ComplexF64}:\n",
       "   -3.927248809102562 + 0.0im\n",
       "   -2.342175403774986 + 0.0im\n",
       "  -1.8204436211401438 + 0.0im\n",
       "  -0.9825359650919164 + 0.9062641005675697im\n",
       "  -0.9825359650919163 - 0.9062641005675698im\n",
       "  -0.9369434243815118 + 0.0im\n",
       "  -0.7678548617673059 + 0.0im\n",
       "  -0.6336042505433659 - 4.4581246542775945im\n",
       "  -0.6336042505433657 + 4.4581246542775945im\n",
       " -0.41284829356200076 + 0.0im\n",
       "  -0.3207959087791363 + 0.0im\n",
       " -0.26666982104990433 - 0.36793157410745986im\n",
       " -0.26666982104990433 + 0.36793157410745986im\n",
       "                      ⋮\n",
       " -0.04156652673607428 + 0.8154422472066382im\n",
       "   0.2577455745317516 - 0.18455474115985465im\n",
       "   0.2577455745317516 + 0.18455474115985465im\n",
       "   0.6689537858084744 - 0.24860338555344522im\n",
       "   0.6689537858084744 + 0.24860338555344522im\n",
       "   0.7723122085046161 + 0.6492318019823247im\n",
       "   0.7723122085046162 - 0.6492318019823247im\n",
       "   1.1473309779693959 - 0.10819027220057749im\n",
       "   1.1473309779693959 + 0.10819027220057749im\n",
       "   1.7003772980863652 + 0.0im\n",
       "   1.7723005862476457 - 2.661353859339048im\n",
       "   1.7723005862476457 + 2.661353859339048im\n",
       "vectors:\n",
       "30×30 Matrix{ComplexF64}:\n",
       "  -0.696811+0.0im   -0.920033+0.0im  …    0.867718+0.0608822im\n",
       "  -0.637245+0.0im   -0.236322+0.0im        0.24356+0.228255im\n",
       "  -0.630751+0.0im    -0.86956+0.0im       0.486714-0.0649732im\n",
       " 0.00190353+0.0im   -0.102257+0.0im      -0.334326-0.375381im\n",
       " -0.0135138+0.0im    0.452453+0.0im      -0.128828+0.209189im\n",
       "  0.0991277+0.0im    0.461829+0.0im  …   -0.179949-0.13841im\n",
       "  0.0410025+0.0im   -0.674928+0.0im       0.408206+0.591794im\n",
       "  0.0469751+0.0im    0.187833+0.0im      -0.276895+0.386155im\n",
       " 0.00228834+0.0im   -0.833872+0.0im      0.0625323-0.136356im\n",
       "   0.123516+0.0im  -0.0498425+0.0im      -0.090858+0.091819im\n",
       "   -0.54912+0.0im    0.768362+0.0im  …    0.138197-0.169806im\n",
       "   0.241703+0.0im   -0.568661+0.0im       0.172141+0.26653im\n",
       "   0.317403+0.0im   -0.551095+0.0im       0.236936-0.0286702im\n",
       "           ⋮                         ⋱  \n",
       "        1.0+0.0im    0.742088+0.0im       -0.20981+0.116056im\n",
       "  -0.189429+0.0im    0.174489+0.0im      -0.130892-0.10924im\n",
       "  -0.010899+0.0im   0.0251151+0.0im  …    0.289061-0.191932im\n",
       "   0.150996+0.0im   -0.278616+0.0im     -0.0761204-0.171493im\n",
       "  -0.110771+0.0im         1.0+0.0im      0.0302184+0.598693im\n",
       "  -0.229355+0.0im     0.44826+0.0im        0.44877+0.289908im\n",
       "   0.852991+0.0im    0.715839+0.0im      -0.261972+0.551214im\n",
       "   0.540259+0.0im    0.099366+0.0im  …   -0.718619-0.13813im\n",
       "   -0.70162+0.0im   -0.413567+0.0im       0.349212+0.152074im\n",
       "   0.133896+0.0im  -0.0737264+0.0im       0.358246-0.0728801im\n",
       "   0.246352+0.0im     0.18205+0.0im     0.00756773+0.0964924im\n",
       "   0.317812+0.0im    -0.35158+0.0im      -0.473799-0.141664im"
      ]
     },
     "execution_count": 10,
     "metadata": {},
     "output_type": "execute_result"
    }
   ],
   "source": [
    "using LinearAlgebra\n",
    "n = 30\n",
    "A, B = randn(n, n), randn(n, n)\n",
    "λ, x = eigen(A, B)"
   ]
  },
  {
   "cell_type": "code",
   "execution_count": 11,
   "id": "5b5f4409-3fe2-43f8-bd32-65487532768a",
   "metadata": {},
   "outputs": [
    {
     "name": "stdout",
     "output_type": "stream",
     "text": [
      "ilam = verifyeig(A, λ[i], x[:, i], B) = Interval{Float64}(-3.9272488091026454, -3.9272488091024935, com)\n",
      "ilam = verifyeig(A, λ[i], x[:, i], B) = Interval{Float64}(-2.3421754037750544, -2.342175403774924, com)\n",
      "ilam = verifyeig(A, λ[i], x[:, i], B) = Interval{Float64}(-1.8204436211401773, -1.820443621140108, com)\n",
      "ilam = verifyeig(A, λ[i], x[:, i], B) = Interval{Float64}(-0.9825359650919452, -0.9825359650918856, com) + Interval{Float64}(0.9062641005675408, 0.9062641005675977, com)im\n",
      "ilam = verifyeig(A, λ[i], x[:, i], B) = Interval{Float64}(-0.9825359650919446, -0.9825359650918858, com) + Interval{Float64}(-0.9062641005675972, -0.9062641005675407, com)im\n",
      "ilam = verifyeig(A, λ[i], x[:, i], B) = Interval{Float64}(-0.9369434243815297, -0.9369434243814961, com)\n",
      "ilam = verifyeig(A, λ[i], x[:, i], B) = Interval{Float64}(-0.7678548617673198, -0.7678548617672895, com)\n",
      "ilam = verifyeig(A, λ[i], x[:, i], B) = Interval{Float64}(-0.6336042505435233, -0.6336042505432147, com) + Interval{Float64}(-4.458124654277739, -4.458124654277461, com)im\n",
      "ilam = verifyeig(A, λ[i], x[:, i], B) = Interval{Float64}(-0.6336042505435259, -0.6336042505432139, com) + Interval{Float64}(4.458124654277459, 4.45812465427774, com)im\n",
      "ilam = verifyeig(A, λ[i], x[:, i], B) = Interval{Float64}(-0.4128482935620064, -0.41284829356199426, com)\n",
      "ilam = verifyeig(A, λ[i], x[:, i], B) = Interval{Float64}(-0.32079590877914593, -0.320795908779129, com)\n",
      "ilam = verifyeig(A, λ[i], x[:, i], B) = Interval{Float64}(-0.26666982104991177, -0.2666698210498967, com) + Interval{Float64}(-0.3679315741074671, -0.3679315741074521, com)im\n",
      "ilam = verifyeig(A, λ[i], x[:, i], B) = Interval{Float64}(-0.26666982104991177, -0.2666698210498967, com) + Interval{Float64}(0.3679315741074521, 0.3679315741074671, com)im\n",
      "ilam = verifyeig(A, λ[i], x[:, i], B) = Interval{Float64}(-0.20595380010554623, -0.20595380010549347, com) + Interval{Float64}(1.0529535033506603, 1.0529535033507122, com)im\n",
      "ilam = verifyeig(A, λ[i], x[:, i], B) = Interval{Float64}(-0.20595380010554612, -0.20595380010549386, com) + Interval{Float64}(-1.0529535033507118, -1.0529535033506605, com)im\n",
      "ilam = verifyeig(A, λ[i], x[:, i], B) = Interval{Float64}(-0.09080177424957564, -0.0908017742495591, com) + Interval{Float64}(-0.18038183818252132, -0.1803818381825058, com)im\n",
      "ilam = verifyeig(A, λ[i], x[:, i], B) = Interval{Float64}(-0.09080177424957567, -0.09080177424955913, com) + Interval{Float64}(0.1803818381825058, 0.1803818381825213, com)im\n",
      "ilam = verifyeig(A, λ[i], x[:, i], B) = Interval{Float64}(-0.04156652673609379, -0.04156652673605269, com) + Interval{Float64}(-0.8154422472066599, -0.8154422472066175, com)im\n",
      "ilam = verifyeig(A, λ[i], x[:, i], B) = Interval{Float64}(-0.04156652673609379, -0.04156652673605269, com) + Interval{Float64}(0.8154422472066175, 0.8154422472066599, com)im\n",
      "ilam = verifyeig(A, λ[i], x[:, i], B) = Interval{Float64}(0.25774557453174884, 0.25774557453175456, com) + Interval{Float64}(-0.18455474115985773, -0.18455474115985138, com)im\n",
      "ilam = verifyeig(A, λ[i], x[:, i], B) = Interval{Float64}(0.25774557453174884, 0.25774557453175456, com) + Interval{Float64}(0.18455474115985138, 0.18455474115985773, com)im\n",
      "ilam = verifyeig(A, λ[i], x[:, i], B) = Interval{Float64}(0.668953785808457, 0.6689537858084947, com) + Interval{Float64}(-0.24860338555346076, -0.24860338555342834, com)im\n",
      "ilam = verifyeig(A, λ[i], x[:, i], B) = Interval{Float64}(0.668953785808457, 0.6689537858084947, com) + Interval{Float64}(0.24860338555342834, 0.24860338555346076, com)im\n",
      "ilam = verifyeig(A, λ[i], x[:, i], B) = Interval{Float64}(0.7723122085045907, 0.7723122085046473, com) + Interval{Float64}(0.6492318019822947, 0.6492318019823529, com)im\n",
      "ilam = verifyeig(A, λ[i], x[:, i], B) = Interval{Float64}(0.7723122085045908, 0.7723122085046472, com) + Interval{Float64}(-0.6492318019823528, -0.6492318019822946, com)im\n",
      "ilam = verifyeig(A, λ[i], x[:, i], B) = Interval{Float64}(1.1473309779693606, 1.1473309779694252, com) + Interval{Float64}(-0.10819027220060964, -0.10819027220054633, com)im\n",
      "ilam = verifyeig(A, λ[i], x[:, i], B) = Interval{Float64}(1.1473309779693606, 1.1473309779694252, com) + Interval{Float64}(0.10819027220054633, 0.10819027220060964, com)im\n",
      "ilam = verifyeig(A, λ[i], x[:, i], B) = Interval{Float64}(1.7003772980863459, 1.7003772980864003, com)\n",
      "ilam = verifyeig(A, λ[i], x[:, i], B) = Interval{Float64}(1.7723005862475718, 1.77230058624774, com) + Interval{Float64}(-2.6613538593391373, -2.661353859338972, com)im\n",
      "ilam = verifyeig(A, λ[i], x[:, i], B) = Interval{Float64}(1.7723005862475718, 1.77230058624774, com) + Interval{Float64}(2.661353859338972, 2.6613538593391373, com)im\n"
     ]
    }
   ],
   "source": [
    "# ilam = zeros(Interval,length(λ))\n",
    "for i = 1:length(λ)\n",
    "    @show ilam = verifyeig(A, λ[i], x[:, i], B)\n",
    "end"
   ]
  },
  {
   "cell_type": "markdown",
   "id": "06d1cccf-ad3d-407f-9a3c-37648947a5b5",
   "metadata": {},
   "source": [
    "**TODO**　固有値が縮退し多重固有値である場合や複数の固有値がクラスター形成している場合、この方法は失敗する。この場合の精度保証付き数値計算方法は文献3にある。今後この方法を実装していきたい。\n",
    "\n",
    "\n",
    "本資料は以下のような文献・Web ページ等を参考に書いている。\n",
    "\n",
    "### 参考文献\n",
    "\n",
    "1. 大石進一編著, 精度保証付き数値計算の基礎, コロナ社, 2018.<br>\n",
    "（精度保証付き数値計算の教科書、3.4.2章にある「非線形方程式を利用した精度保証法」を実装した）\n",
    "\n",
    "1. S.M. Rump. Guaranteed Inclusions for the Complex Generalized Eigenproblem. Computing, 42:225-238, 1989.<br>\n",
    "（今回の方法を初めて発表した原著論文）\n",
    "\n",
    "1. S.M. Rump. Computational Error Bounds for Multiple or Nearly Multiple Eigenvalues. Linear Algebra and its Applications (LAA), 324:209–226, 2001.<br>\n",
    "（多重固有値や多数の固有値のクラスターに対する精度保証付き数値計算方法。INTLABの`verifyeig.m`にはこの方法も実装されている）\n",
    "\n",
    "\n",
    "<div align=\"right\">近藤慎佑, <a href=\"http://www.risk.tsukuba.ac.jp/~takitoshi/\">高安亮紀</a>，2022年9月19日（最終更新：2024年2月5日）</div>"
   ]
  }
 ],
 "metadata": {
  "kernelspec": {
   "display_name": "Julia (multi-threads) 1.10.0",
   "language": "julia",
   "name": "julia-n-threads-1.10"
  },
  "language_info": {
   "file_extension": ".jl",
   "mimetype": "application/julia",
   "name": "julia",
   "version": "1.10.0"
  }
 },
 "nbformat": 4,
 "nbformat_minor": 5
}
