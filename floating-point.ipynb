{
 "cells": [
  {
   "cell_type": "markdown",
   "metadata": {},
   "source": [
    "# 浮動小数点数\n",
    "計算機で扱える数「整数」と「浮動小数点数」について解説する。\n",
    "\n",
    "## そもそも数値計算とは？\n",
    "* 数値計算（数値解析）とは…数学の問題を有限桁の浮動小数点数を使って「数値的」に解く．数式処理とは違う\n",
    "* 数値計算でできること，できないこと\n",
    "* 数値計算は誤差との戦い\n",
    "* 整数（integer）と浮動小数点数（binary32/binary64）\n",
    "\n",
    "## 整数型\n",
    "Juliaで整数は\n",
    "\n",
    "|型| 機械内表現 |\n",
    "|:-----------|:----------|\n",
    "| Int8    | 8bit整数  |\n",
    "| Int16    | 16bit整数  |\n",
    "| Int32    | 32bit整数  |\n",
    "| Int64   | 64bit整数 |\n",
    "| Int128   | 128bit整数 |\n",
    "| BigInt   | 任意精度 |\n",
    "\n",
    "\n",
    "のような数値がある．"
   ]
  },
  {
   "cell_type": "code",
   "execution_count": 1,
   "metadata": {
    "tags": []
   },
   "outputs": [
    {
     "name": "stdout",
     "output_type": "stream",
     "text": [
      "Julia Version 1.9.0\n",
      "Commit 8e630552924 (2023-05-07 11:25 UTC)\n",
      "Platform Info:\n",
      "  OS: macOS (arm64-apple-darwin22.4.0)\n",
      "  CPU: 8 × Apple M2\n",
      "  WORD_SIZE: 64\n",
      "  LIBM: libopenlibm\n",
      "  LLVM: libLLVM-14.0.6 (ORCJIT, apple-m1)\n",
      "  Threads: 2 on 4 virtual cores\n"
     ]
    }
   ],
   "source": [
    "versioninfo()"
   ]
  },
  {
   "cell_type": "code",
   "execution_count": 2,
   "metadata": {},
   "outputs": [
    {
     "data": {
      "text/plain": [
       "10"
      ]
     },
     "execution_count": 2,
     "metadata": {},
     "output_type": "execute_result"
    }
   ],
   "source": [
    "a = Int32(10)"
   ]
  },
  {
   "cell_type": "code",
   "execution_count": 3,
   "metadata": {},
   "outputs": [
    {
     "data": {
      "text/plain": [
       "-2147483648"
      ]
     },
     "execution_count": 3,
     "metadata": {},
     "output_type": "execute_result"
    }
   ],
   "source": [
    "b = Int32(2147483647) + Int32(1)"
   ]
  },
  {
   "cell_type": "code",
   "execution_count": 4,
   "metadata": {},
   "outputs": [
    {
     "data": {
      "text/plain": [
       "2147483647"
      ]
     },
     "execution_count": 4,
     "metadata": {},
     "output_type": "execute_result"
    }
   ],
   "source": [
    "c = typemax(Int32)"
   ]
  },
  {
   "cell_type": "markdown",
   "metadata": {},
   "source": [
    "これからInt32の最大値が2147483647であることがわかり\n",
    "$2^{31}-1=2147483647$\n",
    "である．\n",
    "\n",
    "説明のために32bit整数（Int32）を考えると\n",
    "\n",
    "|ビットパターン | 数値 |\n",
    "|:-----------:|:----------:|\n",
    "|01111111111111111111111111111111 | 2147483647|\n",
    "|00000000000000000000000000000010 | 2|\n",
    "|00000000000000000000000000000001 | 1|\n",
    "|00000000000000000000000000000000 | 0|\n",
    "|11111111111111111111111111111111 | -1|\n",
    "|11111111111111111111111111111110 |-2|\n",
    "|10000000000000000000000000000000 |-2147483648|\n",
    "\n",
    "このような負の数の表現形式を「**2の補数形式**」と呼ぶ．\n",
    "32個の各bitが次のような重みをもっていると考えられる．\n",
    "\n",
    "$$\\fbox{$-2^{31}$}\\fbox{$2^{30}$}\\fbox{$2^{29}$}\\,\\cdots\\fbox{$2^{1}$}\\fbox{$2^{0}$}$$\n",
    "\n",
    "2の補数形式の場合，$n$ビットで $-2^{n-1}$〜$2^{n-1}-1$の範囲の数を表現できる．つまり\n",
    "\n",
    "|型|表現範囲|\n",
    "|:-|:-:|\n",
    "|Int8|-128〜127|\n",
    "|Int16|-32768〜32767|\n",
    "|Int32|-2147483648〜2147483647|\n",
    "|Int64|-9223372036854775808〜9223372036854775807|\n",
    "|Int128|-170141183460469231731687303715884105728〜170141183460469231731687303715884105727|\n",
    "\n",
    "の範囲の整数が表せる．\n"
   ]
  },
  {
   "cell_type": "code",
   "execution_count": 5,
   "metadata": {},
   "outputs": [
    {
     "data": {
      "text/plain": [
       "2147483648"
      ]
     },
     "execution_count": 5,
     "metadata": {},
     "output_type": "execute_result"
    }
   ],
   "source": [
    "2147483647+1"
   ]
  },
  {
   "cell_type": "code",
   "execution_count": 6,
   "metadata": {},
   "outputs": [
    {
     "data": {
      "text/plain": [
       "-9223372036854775808"
      ]
     },
     "execution_count": 6,
     "metadata": {},
     "output_type": "execute_result"
    }
   ],
   "source": [
    "9223372036854775807+1"
   ]
  },
  {
   "cell_type": "markdown",
   "metadata": {},
   "source": [
    "## 浮動小数点数\n",
    "\n",
    "**浮動小数点数**（Float64/double, Float32/float）は，「浮動小数点形式」と呼ばれる形式で表現できる．\n",
    "\n",
    "例えば，「$1234.5$」を「$1.2345\\times 10^3$」のように， 小数点の位置を1番左の数値と左から2番目の数値の間に移動（「正規化」と呼ぶ）し，それに指数を掛けた形式で数を表現する．\n",
    "この「$1.2345$」の部分を「仮数部」，「$10^3$」の部分（厳密には$~^3$）を「指数部」という．\n",
    "\n",
    "浮動小数点数は仮数部の長さ，指数部の長さ，基数が2，10，16など，多様な規格が考えられる．\n",
    "そこで1985年にWilliam Kahanが中心となって\n",
    "\n",
    "[IEEE 754: Standard for Binary Floating-Point Arithmetic](https://ja.wikipedia.org/wiki/IEEE_754)\n",
    "\n",
    "という標準規格が制定された．最近では世に出るハードウェアのほぼ全てがこの規格に従っている．\n",
    "\n",
    "### 倍精度 (Float64/double, binary64)\n",
    "倍精度は，符号（$\\pm$）に1ビット．指数部に11ビット，仮数部に 52ビットを使う．\n",
    "全部で64ビット=8バイトである．\n",
    "\n",
    "$\\fbox{1（符号）}\\fbox{11（指数部）}\\fbox{52（仮数部）}$\n",
    "\n",
    "* 符号は，0なら正，1なら負\n",
    "* 指数部は「$\\times 2^{\\mbox{指数}}$」の指数の部分に$1023$を加えたものが11ビット符号無しの整数の形で格納されている\n",
    "* 仮数部は，実際の仮数部の先頭の「1」を取り除いた残りが格納されている．仮数部の先頭は必ず1にしてメモリに格納しないことで1ビット分精度を稼いでいる\n",
    "\n",
    "数値$x$は\n",
    "\n",
    "$$x=\\pm\\; 1.d_1d_2\\cdots d_{52}\\times 2^{m}=\\pm\\left(\\frac{1}{2^0}+\\frac{d_1}{2^1}+\\frac{d_2}{2^2}+\\cdots+\\frac{d_{52}}{2^{52}}\\right)2^{e}_{(10)}$$\n",
    "\n",
    "と書ける（$-1022\\le e\\le 1023$，$m$：$e+1023$の2進表現）．\n",
    "\n",
    "例えば，5.25は2進数で書くと\n",
    "$$\n",
    "\t101.01_{(2)} = \\left(\\frac{1}{2^0}+\\frac{0}{2^1}+\\frac{1}{2^2}+\\frac{0}{2^{3}}+\\frac{1}{2^4}\\right)\\times 2^2_{(10)}\n",
    "$$\n",
    "であるから，計算機内では\n",
    "\n",
    "$\\fbox{0}\\fbox{10000000001}\\fbox{0101000000000000000000000000000000000000000000000000}$\n",
    "\n",
    "のように格納されている。指数部の「1000000001」は、「2+1023=1025」 を2進数にしたもの．\n",
    "\n",
    "これは**正規化数**と呼ばれる数の範囲．\n",
    "\n",
    "実際にJuliaのbitstring関数を使って浮動小数点数を見てみよう．"
   ]
  },
  {
   "cell_type": "code",
   "execution_count": 7,
   "metadata": {
    "tags": []
   },
   "outputs": [
    {
     "name": "stdout",
     "output_type": "stream",
     "text": [
      "0100000000010101000000000000000000000000000000000000000000000000\n",
      "0100000000010100111101011100001010001111010111000010100011110110\n"
     ]
    }
   ],
   "source": [
    "x = 5.25\n",
    "println(bitstring(x))\n",
    "println(bitstring(5.24))"
   ]
  },
  {
   "cell_type": "code",
   "execution_count": 8,
   "metadata": {},
   "outputs": [
    {
     "name": "stdout",
     "output_type": "stream",
     "text": [
      "0\n",
      "10000000001\n",
      "0101000000000000000000000000000000000000000000000000\n"
     ]
    }
   ],
   "source": [
    "binx = bitstring(x) \n",
    "sign = binx[1]; println(sign)\n",
    "exp  = binx[2:12]; println(exp)\n",
    "frac = binx[13:end]; println(frac)"
   ]
  },
  {
   "cell_type": "markdown",
   "metadata": {},
   "source": [
    "符号はsign = 0で正の数, 指数部はexp-1023=1025-1023=**2**，  \n",
    "仮数部はfrac=(101000000000000000000000000000000000000000000000000)$_2$で2進数表示され，実際の値は**1.3125**，  \n",
    "元の浮動小数点数に戻すと\n",
    "\n",
    "$$(-1)^{\\mathrm{sign}}*\\mathrm{frac2}*2^{\\mathrm{exp}-1023}=5.25$$\n",
    "\n",
    "で次のように確かに元の数に戻ることがわかる．"
   ]
  },
  {
   "cell_type": "code",
   "execution_count": 9,
   "metadata": {},
   "outputs": [
    {
     "name": "stdout",
     "output_type": "stream",
     "text": [
      "1.3125\n",
      "2\n",
      "5.25\n"
     ]
    }
   ],
   "source": [
    "aa = [parse(Int, f) for f in frac];\n",
    "bb = 2. .^(1:52);\n",
    "dfrac = 1 + sum(aa ./ bb); println(dfrac)\n",
    "cc = [parse(Int, f) for f in exp]\n",
    "dexp = sum(cc .* (2 .^(10:-1:0))) - 1023; println(dexp)\n",
    "x = (-1)^(parse(Int,sign))*dfrac*2^(dexp); println(x)"
   ]
  },
  {
   "cell_type": "markdown",
   "metadata": {},
   "source": [
    "次に$e$の範囲$-1022\\le e\\le 1023$に注目する．\n",
    "\n",
    "$e+1023$が11ビット符号無しの整数なら範囲は$0$〜$2047$であるが，$e$範囲から\n",
    "$e+1023=0$のときと$e+1023=2047$のときが使われていない．\n",
    "\n",
    "これらは**特殊な数を表す**のに使われる．それらは\n",
    "\n",
    "* 零\n",
    "* 無限大 (Inf)\n",
    "* NaN (Not a Number)\n",
    "* 非正規化数\n",
    "\n",
    "と呼ばれる．\n",
    "\n",
    "#### 零\n",
    "指数部が$e+1023=0$かつ仮数部が0のとき.\n",
    "\n",
    "$$\\pm\\; 0.00\\cdots 0\\times 2^{0}={\\pm\\left(\\frac{0}{2^0}+\\frac{0}{2^1}+\\frac{0}{2^2}+\\cdots+\\frac{0}{2^{52}}\\right)2^{-1023}}_{(10)}.$$\n",
    "\n",
    "\n"
   ]
  },
  {
   "cell_type": "code",
   "execution_count": 10,
   "metadata": {},
   "outputs": [
    {
     "name": "stdout",
     "output_type": "stream",
     "text": [
      "0.0\n",
      "0000000000000000000000000000000000000000000000000000000000000000\n",
      "-0.0\n",
      "1000000000000000000000000000000000000000000000000000000000000000\n"
     ]
    },
    {
     "data": {
      "text/plain": [
       "(nothing, nothing)"
      ]
     },
     "execution_count": 10,
     "metadata": {},
     "output_type": "execute_result"
    }
   ],
   "source": [
    "x = 0.0; println(x), println(bitstring(x))\n",
    "x = -0.0; println(x), println(bitstring(x))"
   ]
  },
  {
   "cell_type": "markdown",
   "metadata": {},
   "source": [
    "#### 無限大\n",
    "$e+1023=2047$かつ仮数部が0のとき，$\\pm\\infty$を表す．\n",
    "\n",
    "$$\\pm\\; 1.00\\cdots 0\\times 2^{m}={\\pm\\left(\\frac{1}{2^0}+\\frac{0}{2^1}+\\frac{0}{2^2}+\\cdots+\\frac{0}{2^{52}}\\right)2^{1024}}_{(10)},$$\n",
    "\n",
    "$m$: 2047の2進表現. このとき**オーバーフロー**が起こるという."
   ]
  },
  {
   "cell_type": "code",
   "execution_count": 11,
   "metadata": {},
   "outputs": [
    {
     "name": "stdout",
     "output_type": "stream",
     "text": [
      "Inf\n",
      "0111111111110000000000000000000000000000000000000000000000000000\n",
      "-Inf\n",
      "1111111111110000000000000000000000000000000000000000000000000000\n"
     ]
    },
    {
     "data": {
      "text/plain": [
       "(nothing, nothing)"
      ]
     },
     "execution_count": 11,
     "metadata": {},
     "output_type": "execute_result"
    }
   ],
   "source": [
    "x = Inf; println(x), println(bitstring(x))\n",
    "println(-x), println(bitstring(-x))"
   ]
  },
  {
   "cell_type": "markdown",
   "metadata": {},
   "source": [
    "#### NaN (Not a Number)\n",
    "$e+1023=2047$かつ仮数部が0でないとき．\n",
    "\n",
    "負数の平方根など，不可能な演算の結果を表すのに使われる．"
   ]
  },
  {
   "cell_type": "code",
   "execution_count": 12,
   "metadata": {},
   "outputs": [
    {
     "name": "stdout",
     "output_type": "stream",
     "text": [
      "0111111111110000000000000000000000000000000000000000000000000000\n",
      "NaN\n",
      "0111111111111000000000000000000000000000000000000000000000000000\n",
      "NaN\n",
      "0111111111111000000000000000000000000000000000000000000000000000\n",
      "NaN\n",
      "0111111111111000000000000000000000000000000000000000000000000000\n"
     ]
    },
    {
     "data": {
      "text/plain": [
       "(nothing, nothing)"
      ]
     },
     "execution_count": 12,
     "metadata": {},
     "output_type": "execute_result"
    }
   ],
   "source": [
    "x = Inf; println(bitstring(x))\n",
    "x = NaN; println(x), println(bitstring(x))\n",
    "x = Inf - Inf; println(x), println(bitstring(x))\n",
    "x = Inf / Inf; println(x), println(bitstring(x))"
   ]
  },
  {
   "cell_type": "markdown",
   "metadata": {},
   "source": [
    "\n",
    "#### 正規化数の最大最小\n",
    "正の正規化数の最大の数は，$e+1023=2046$, かつ仮数部のビットが全て1のとき．\n",
    "\n",
    "$${\\left(\\frac{{1}}{2^0}+\\frac{1}{2^1}+\\frac{1}{2^2}+\\cdots+\\frac{1}{2^{52}}\\right)2^{{1023}}}_{(10)}= 2^{1024}-2^{971}\\approx10^{308.25}$$\n",
    "\n",
    "であり，これを1ビットでも超えたら無限大になる．これを**オーバーフロー**という．\n",
    "\n"
   ]
  },
  {
   "cell_type": "code",
   "execution_count": 13,
   "metadata": {},
   "outputs": [
    {
     "name": "stdout",
     "output_type": "stream",
     "text": [
      "1.7976931348623157e308\n",
      "0111111111101111111111111111111111111111111111111111111111111111\n",
      "Inf\n",
      "0111111111110000000000000000000000000000000000000000000000000000\n"
     ]
    }
   ],
   "source": [
    "x = (2. ^ 53 - 1) * 2. ^ 971\n",
    "println(x)\n",
    "println(bitstring(x))\n",
    "x = (2. ^ 53) * 2. ^ 971\n",
    "println(x)\n",
    "println(bitstring(x))"
   ]
  },
  {
   "cell_type": "markdown",
   "metadata": {},
   "source": [
    "正の正規化数の最小の数は，$e+1023=1$, かつ仮数部のビットが全て0のとき．\n",
    "\n",
    "$${\\left(\\frac{{1}}{2^0}+\\frac{0}{2^1}+\\frac{0}{2^2}+\\cdots+\\frac{0}{2^{52}}\\right)2^{-1022}}_{(10)}= 2^{-1022}\\approx10^{-307.65}$$\n",
    "\n",
    "であり，これを下回ると**アンダーフロー**というが，IEEE 754 では，ここでアンダーフローさせないで仮数部を使った「悪あがき」をする．次の例を見てみよう."
   ]
  },
  {
   "cell_type": "code",
   "execution_count": 14,
   "metadata": {},
   "outputs": [
    {
     "name": "stdout",
     "output_type": "stream",
     "text": [
      "2.2250738585072014e-308\n",
      "0000000000010000000000000000000000000000000000000000000000000000\n",
      "2.225073858507201e-308\n",
      "0000000000001111111111111111111111111111111111111111111111111111\n"
     ]
    }
   ],
   "source": [
    "x = 2. ^ (-1022)\n",
    "println(x)\n",
    "println(bitstring(x))\n",
    "y = x-2^(-1074);\n",
    "println(y)\n",
    "println(bitstring(y))"
   ]
  },
  {
   "cell_type": "markdown",
   "metadata": {},
   "source": [
    "#### 非正規化数\n",
    "指数部が$e+1023=0$かつ仮数部が0でないとき，\n",
    "\n",
    "仮数部の最初の桁を$0$にして\n",
    "\n",
    "$$\\pm\\; 0.d_1d_2\\cdots d_{52}\\times 2^{0}={\\pm\\left(\\frac{\\color{red}0}{2^0}+\\frac{d_1}{2^1}+\\frac{d_2}{2^2}+\\cdots+\\frac{d_{52}}{2^{52}}\\right)2^{{\\color{red}{-1022}}}}_{(10)}.$$\n",
    "\n",
    "という数の表現をする．つまり指数部が$e+1023=1$よりも小さくなったら、正規化しないで指数部は$e+1023=1$のままにする. 代わりに仮数部の最初の桁を$0$にする.\n",
    "このような決まりによって, 非正規化数は文字通り「正規化していない」数となる．\n",
    "\n",
    "#### 漸近アンダーフロー\n",
    "上の例のように正規化数の最小数の最終bitを1だけ減らすと\n",
    "\n",
    "$${\\left(\\frac{{0}}{2^0}+\\frac{1}{2^1}+\\frac{1}{2^2}+\\cdots+\\frac{1}{2^{52}}\\right)2^{-1022}}_{(10)}$$\n",
    "\n",
    "となり，これを正規化すると\n",
    "\n",
    "$${\\left(\\frac{{1}}{2^0}+\\frac{1}{2^1}+\\frac{1}{2^2}+\\cdots+\\frac{0}{2^{52}}\\right)2^{-1023}}_{(10)}$$\n",
    "\n",
    "となって，指数部の下限$-1022\\le e$を超えてしまう．\n",
    "そこで，「$2^{-1022}$を下回ったら正規化をやめて指数部を$2^{-1022}$に固定して仮数部の最初の桁を0としてみて格納する」ルールが発動し, 非正規化数での数の表現が始まる.\n",
    "以下, 1ビットずつ減らしていくと\n",
    "\n",
    "$${\\left(\\frac{{0}}{2^0}+\\frac{1}{2^1}+\\frac{1}{2^2}+\\cdots+\\frac{1}{2^{52}}\\right)2^{-1022}}_{(10)}$$\n",
    "$${\\left(\\frac{{0}}{2^0}+\\frac{1}{2^1}+\\frac{1}{2^2}+\\cdots+\\frac{0}{2^{52}}\\right)2^{-1022}}_{(10)}$$\n",
    "$$\\vdots$$\n",
    "$$\\left(\\frac{{0}}{2^0}+\\frac{1}{2^1}+\\frac{0}{2^2}+\\cdots+\\frac{0}{2^{52}}\\right)2^{-1022}$$\n",
    "$${\\left(\\frac{{0}}{2^0}+\\frac{0}{2^1}+\\frac{1}{2^2}+\\cdots+\\frac{1}{2^{52}}\\right)2^{-1022}}_{(10)}$$\n",
    "$$\\vdots$$\n",
    "$${\\left(\\frac{{0}}{2^0}+\\frac{0}{2^1}+\\frac{0}{2^2}+\\cdots+\\frac{1}{2^{52}}\\right)2^{-1022}}_{(10)}=2^{-1074}\\approx10^{-323.31}$$\n",
    "\n",
    "のような数が表現できる．ただし，$2^{-1022}$と$2^{-1074}$の間の数は，本来53ビットあるべき仮数部の長さが52ビット〜1ビットまで減ってしまっており，精度が低下していることに注意が必要である．"
   ]
  },
  {
   "cell_type": "code",
   "execution_count": 15,
   "metadata": {},
   "outputs": [
    {
     "name": "stdout",
     "output_type": "stream",
     "text": [
      "5.0e-324\n",
      "0000000000000000000000000000000000000000000000000000000000000001\n",
      "0.0\n",
      "0000000000000000000000000000000000000000000000000000000000000000\n"
     ]
    }
   ],
   "source": [
    "x = 2. ^ (-1074)\n",
    "println(x)\n",
    "println(bitstring(x))\n",
    "\n",
    "x = (2. ^ (-1074)) / 2\n",
    "println(x)\n",
    "println(bitstring(x))"
   ]
  },
  {
   "cell_type": "markdown",
   "metadata": {},
   "source": [
    "### 浮動小数点数まとめ\n",
    "\n",
    "倍精度(binary64, Float64/double)は\n",
    "\n",
    "||仮数部が0|仮数部が0でない|\n",
    "|:-:|:-:|:-:|\n",
    "|$e+1023=0$            | $\\pm0$      | 非正規化数|\n",
    "|$1\\le e+1023\\le 2046$ | 正規化数     | 正規化数 |\n",
    "|$e+1023=2047$         | $\\pm\\infty$ | NaN|\n",
    "\n",
    "\n",
    "単精度 (binary32, Float32/float) は\n",
    "\n",
    "\n",
    "||仮数部が0|仮数部が0でない|\n",
    "|:-:|:-:|:-:|\n",
    "|$e+127=0$            | $\\pm0$      | 非正規化数|\n",
    "|$1\\le e+127\\le 254$ | 正規化数     | 正規化数 |\n",
    "|$e+127=255$         | $\\pm\\infty$ | NaN|"
   ]
  },
  {
   "cell_type": "markdown",
   "metadata": {},
   "source": [
    "今後，浮動小数点数全体の集合を$\\mathbb{F}$と表すことにする．特に断りがなければ，浮動小数点数は倍精度浮動小数点数（64bit）とする．IEEE754では**binary64**とも呼ばれている．\n",
    "\n",
    "### 謝辞\n",
    "\n",
    "本資料は筆者が学生の頃に精度保証付き数値計算を教えて下さった[柏木雅英](http://www.kashi.info.waseda.ac.jp/~kashi/)先生の「数値解析特論」の講義資料が基になっています.\n",
    "また, 以下のような文献・Web ページ等を参考にこの文章は書いています.\n",
    "\n",
    "### 参考文献\n",
    "\n",
    "1. 伊理正夫, 藤野和建, 数値計算の常識, 共立出版, 1985.<br>\n",
    "(Twitterとかでも度々話題に上がる名著. IEEE754 の制定の年にすでに浮動小数点数に対する注意が詰まっている書籍が出版されている)\n",
    "1. 齊藤宣一, 数値解析入門, 東京大学出版会, 2012.<br>\n",
    "(数値解析学の現在最も詳しい教科書. 浮動小数点数についても1章に詳しく記述がある.)\n",
    "1. 大石進一編著, 精度保証付き数値計算の基礎, コロナ社, 2018.<br>\n",
    "(精度保証付き数値計算の教科書. 浮動小数点数および区間演算に詳しい. この1章が読めたら大したもの)\n",
    "1. [ushiostarfish, IEEE 754 浮動小数点入門.](https://ushiostarfish.hatenablog.com/entry/2019/08/12/210023)<br>\n",
    "(IEEE 754 浮動小数点数を細かく紹介し, 丸め誤差の詳細, および区間演算について触れている)\n",
    "1. Nick Higham, [What Is Floating-Point Arithmetic](https://nhigham.com/2020/05/04/what-is-floating-point-arithmetic/)/[IEEE Standard Arithmetic](https://nhigham.com/2020/05/07/what-is-ieee-standard-arithmetic/).<br>\n",
    "(数値解析の超有名人によるブログ記事, (IEEE754/854)浮動小数点数について端的にまとめられている)"
   ]
  },
  {
   "cell_type": "markdown",
   "metadata": {},
   "source": [
    "<div align=\"right\"><a href=\"http://www.risk.tsukuba.ac.jp/~takitoshi/\">高安亮紀</a>，2020年7月17日（最終更新：2023年5月20日）</div>"
   ]
  }
 ],
 "metadata": {
  "kernelspec": {
   "display_name": "Julia 1.9.3",
   "language": "julia",
   "name": "julia-1.9"
  },
  "language_info": {
   "file_extension": ".jl",
   "mimetype": "application/julia",
   "name": "julia",
   "version": "1.9.3"
  }
 },
 "nbformat": 4,
 "nbformat_minor": 4
}
