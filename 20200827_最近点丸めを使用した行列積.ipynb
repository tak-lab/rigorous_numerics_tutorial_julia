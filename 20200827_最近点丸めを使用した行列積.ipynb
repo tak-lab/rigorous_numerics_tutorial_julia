{
 "cells": [
  {
   "cell_type": "code",
   "execution_count": 56,
   "metadata": {},
   "outputs": [
    {
     "data": {
      "text/plain": [
       "mm_ufp (generic function with 1 method)"
      ]
     },
     "execution_count": 56,
     "metadata": {},
     "output_type": "execute_result"
    }
   ],
   "source": [
    "function mm_ufp(A_mid,A_rad,B_mid,B_rad)\n",
    "#現在の丸めモードは最近点であると仮定\n",
    "\n",
    "    #system_dependent('setround',0.5)\n",
    "    u=2^-53;\n",
    "    n=length(A_mid);\n",
    "    realmin = 2^-1022;\n",
    "    \n",
    "    if 2*(n+2)*u>=1\n",
    "        error(\"failed!(2(n+2)u>=1)\")\n",
    "    \n",
    "    else\n",
    "        C_mid = A_mid*B_mid;\n",
    "        C_rad = (n+2)*u*ufp(abs(A_mid)*abs(B_mid))+realmin;\n",
    "    \n",
    "        AmBr=abs(A_mid)*B_rad;\n",
    "        AmBr=succ_near(AmBr+((n+2)*u*ufp(AmBr)+realmin));\n",
    "    \n",
    "        ArBm=A_rad*abs(B_mid);\n",
    "        ArBm=succ_near(ArBm+((n+2)*u*ufp(ArBm)+realmin));\n",
    "    \n",
    "        ArBr=A_rad*B_rad;\n",
    "        ArBr=succ_near(ArBr+((n+2)*u*ufp(ArBr)+realmin));\n",
    "    \n",
    "        rad_sum=C_rad+AmBr+ArBm+ArBr;\n",
    "        AmBr=0;ArBm=0;ArBr=0\n",
    "    \n",
    "        C_rad = succ_near((rad_sum)+3*u*ufp(rad_sum));\n",
    "\n",
    "        rad_sum=0    \n",
    "    end\n",
    "end"
   ]
  },
  {
   "cell_type": "code",
   "execution_count": 57,
   "metadata": {},
   "outputs": [
    {
     "data": {
      "text/plain": [
       "ufp (generic function with 1 method)"
      ]
     },
     "execution_count": 57,
     "metadata": {},
     "output_type": "execute_result"
    }
   ],
   "source": [
    "function ufp(P)\n",
    "    u=2^-53;\n",
    "    a=2^52+1;\n",
    "    Q=a*P;\n",
    "    T=(1-u)*Q;\n",
    "    return S=abs(Q-T);\n",
    "end"
   ]
  },
  {
   "cell_type": "code",
   "execution_count": 58,
   "metadata": {},
   "outputs": [
    {
     "data": {
      "text/plain": [
       "succ_near (generic function with 1 method)"
      ]
     },
     "execution_count": 58,
     "metadata": {},
     "output_type": "execute_result"
    }
   ],
   "source": [
    "function succ_near(c)\n",
    "    eta=2^-1074;\n",
    "    u=2^-53;\n",
    "    phi=u*(1+2*u);\n",
    "    \n",
    "    if abs(c)>=(1/2)*u^-2*eta\n",
    "        e=phi*abs(c);\n",
    "        succ=c+e;\n",
    "    elseif abs(c)<u^-1*eta\n",
    "        succ=c+eta;\n",
    "    else\n",
    "        C=u^-1*c;\n",
    "        e=phi*abs(C);\n",
    "        succ=(C+e)*u;\n",
    "    end\n",
    "end"
   ]
  },
  {
   "cell_type": "markdown",
   "metadata": {},
   "source": [
    "JuliaにはMatlabでいうところのclear関数は存在しない。\n",
    "(https://discourse.julialang.org/t/why-julia-has-no-clear-variable/6541)"
   ]
  },
  {
   "cell_type": "code",
   "execution_count": null,
   "metadata": {},
   "outputs": [],
   "source": []
  }
 ],
 "metadata": {
  "kernelspec": {
   "display_name": "Julia 1.5.0",
   "language": "julia",
   "name": "julia-1.5"
  },
  "language_info": {
   "file_extension": ".jl",
   "mimetype": "application/julia",
   "name": "julia",
   "version": "1.5.0"
  }
 },
 "nbformat": 4,
 "nbformat_minor": 4
}
