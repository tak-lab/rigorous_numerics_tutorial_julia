{
 "cells": [
  {
   "cell_type": "markdown",
   "id": "eeec2db9-5ec3-4dab-a1c0-4427e7a1079b",
   "metadata": {},
   "source": [
    "# Chebyshev補間の最大値最小値\n",
    "\n",
    "Chebyshev補間によって与えられた関数の最大最小を以下のような手順で求める。\n",
    "\n",
    "1. Chebyshev係数から[Chebyshev補間の微分](https://www.risk.tsukuba.ac.jp/~takitoshi/tutorial/Chebdiff.html)を計算する\n",
    "1. 微分した[Chebyshev補間の零点を計算](https://www.risk.tsukuba.ac.jp/~takitoshi/tutorial/Chebroot.html)し、極大値・極小値を求める\n",
    "1. 元のChebyshev補間の端点の値と極大値・極小値を比較し、最大・最小値を求める\n"
   ]
  },
  {
   "cell_type": "markdown",
   "id": "295fde8b-8846-4163-bbd8-67da8f4d0629",
   "metadata": {},
   "source": [
    "### 1. Chebyshev補間を行い、Chebyshev係数を求める。\n",
    "\n",
    "Chebyshev補間については、`Chebyshev_series`で作成した`Cheb`関数を使用することで、関数を適切な多項式の数では関する事ができる。"
   ]
  },
  {
   "cell_type": "code",
   "execution_count": 12,
   "id": "c53de356-0d76-4398-85e6-0bb504269964",
   "metadata": {},
   "outputs": [
    {
     "data": {
      "text/plain": [
       "11-element Vector{Float64}:\n",
       " -1.0\n",
       " -0.9510565162951536\n",
       " -0.8090169943749475\n",
       " -0.5877852522924731\n",
       " -0.30901699437494745\n",
       "  0.0\n",
       "  0.30901699437494745\n",
       "  0.5877852522924731\n",
       "  0.8090169943749475\n",
       "  0.9510565162951536\n",
       "  1.0"
      ]
     },
     "execution_count": 12,
     "metadata": {},
     "output_type": "execute_result"
    }
   ],
   "source": [
    "chebpts(10)"
   ]
  },
  {
   "cell_type": "code",
   "execution_count": 11,
   "id": "f8c9a997-a6f5-47c2-8158-0194506b608f",
   "metadata": {},
   "outputs": [
    {
     "data": {
      "text/plain": [
       "20-element Vector{Float64}:\n",
       "  0.0\n",
       "  0.5692306863595056\n",
       "  0.0\n",
       " -0.6669166724059791\n",
       "  0.0\n",
       "  0.10428236873423688\n",
       "  0.0\n",
       " -0.006840633536991628\n",
       "  0.0\n",
       "  0.0002500068849502345\n",
       "  0.0\n",
       " -5.85024830876735e-6\n",
       "  0.0\n",
       "  9.534772756236639e-8\n",
       "  0.0\n",
       " -1.14563837492903e-9\n",
       "  0.0\n",
       "  1.0574698107039368e-11\n",
       "  0.0\n",
       " -7.735734567535396e-14"
      ]
     },
     "execution_count": 11,
     "metadata": {},
     "output_type": "execute_result"
    }
   ],
   "source": [
    "include(\"FourierChebyshev.jl\")\n",
    "f(x) = sinpi(x)\n",
    "a = cheb(f)"
   ]
  },
  {
   "cell_type": "markdown",
   "id": "afecd310-a3e1-4a74-932f-9d5d910fb879",
   "metadata": {},
   "source": [
    "### 2. Chebyshev補間の微分を計算する。\n",
    "極大値・極小値を計算する為にChebyshev補間の微分を計算する。`Chebyshev_differential`で作成した`Cheb_diff`関数を使用してChebyshev補間の微分の係数を計算する。"
   ]
  },
  {
   "cell_type": "code",
   "execution_count": 3,
   "id": "b53006b6-9af8-44cb-bc9e-f76674e064e3",
   "metadata": {},
   "outputs": [
    {
     "data": {
      "text/plain": [
       "20×2 Matrix{Float64}:\n",
       " -0.955805      0.0\n",
       "  0.0          -5.61808\n",
       " -3.05007       0.0\n",
       "  0.0           6.5822\n",
       "  0.951429      0.0\n",
       "  0.0          -1.02923\n",
       " -0.091395      0.0\n",
       "  0.0           0.0675143\n",
       "  0.00437386    0.0\n",
       "  0.0          -0.00246747\n",
       " -0.00012626    0.0\n",
       "  0.0           5.77396e-5\n",
       "  2.44503e-6    0.0\n",
       "  0.0          -9.41046e-7\n",
       " -3.40126e-8    0.0\n",
       "  0.0           1.13054e-8\n",
       "  3.566e-10     0.0\n",
       "  0.0          -1.05825e-10\n",
       " -2.93958e-12   0.0\n",
       "  0.0           0.0"
      ]
     },
     "execution_count": 3,
     "metadata": {},
     "output_type": "execute_result"
    }
   ],
   "source": [
    "reshape([chebdiff(a);chebdiff(chebdiff(a))],20,2)"
   ]
  },
  {
   "cell_type": "markdown",
   "id": "5c90eaaa-e4f4-423c-bb16-788b92f40e52",
   "metadata": {},
   "source": [
    "Chebyshev係数が区間で入力された場合には以下を使用する。"
   ]
  },
  {
   "cell_type": "code",
   "execution_count": 4,
   "id": "a3f46523-c0a1-4652-8ac9-5ec5001dfbe2",
   "metadata": {},
   "outputs": [
    {
     "data": {
      "text/plain": [
       "chebdiff (generic function with 2 methods)"
      ]
     },
     "execution_count": 4,
     "metadata": {},
     "output_type": "execute_result"
    }
   ],
   "source": [
    "using IntervalArithmetic,LinearAlgebra\n",
    "\n",
    "function chebdiff(ia::Vector{Interval{T}}; I=[-1,1])where T # Input is Two-sided (inverval)\n",
    "    M = length(a)\n",
    "    ib = zeros(Interval{T},M+1)\n",
    "    for r = M-1:-1:1\n",
    "        ib[r] = ib[r+2] + 2*r*ia[r+1]\n",
    "    end\n",
    "    ib[1] /= 2.0\n",
    "    return ib[1:end-2]*(2/(interval(I[2])-I[1])) # Output is Two-sided (interval)\n",
    "end"
   ]
  },
  {
   "cell_type": "markdown",
   "id": "fdbb04c1-c8a1-4737-9c93-26bedd4a288b",
   "metadata": {},
   "source": [
    "### 3. 微分した関数の零点を計算することで極大・極小値を求める。"
   ]
  },
  {
   "cell_type": "code",
   "execution_count": 5,
   "id": "0682ba62-5206-47cd-a150-3676f8225264",
   "metadata": {},
   "outputs": [
    {
     "data": {
      "text/plain": [
       "verifyeig (generic function with 2 methods)"
      ]
     },
     "execution_count": 5,
     "metadata": {},
     "output_type": "execute_result"
    }
   ],
   "source": [
    "function verifyeig(A,lam,x,B = I)\n",
    "    x = x./sqrt(x'*x)\n",
    "    ysize = length(x)\n",
    "    ix = map(Interval,x)\n",
    "    DF(w) = [0 transpose(2*(x+w[2:end])) ; -B*(x+w[2:end]) A-(lam.+w[1])*B]\n",
    "    zero =zeros(ysize+1)\n",
    "    R = inv(mid.(DF(zero)))\n",
    "    z = -R*[dot(x,x)-1;A*x-lam*B*x]\n",
    "    # ϵ = 2*maximum(sup,abs.(z))\n",
    "    r = abs.(mid.(z))\n",
    "    u = 2*r .+ (sum(r)/length(r))\n",
    "    # u = ϵ*ones(ysize+1)\n",
    "    if isreal(lam) && isreal(x)\n",
    "        lam = real(lam)\n",
    "        # x = real(x)\n",
    "        iw = interval.(-u,u)\n",
    "        # id = ϵ*interval.(-1,1)\n",
    "        # iy =  ϵ*interval.(-ones(ysize),ones(ysize))\n",
    "    else\n",
    "        iw = Complex(interval.(-u,u),interval.(-u,u))\n",
    "        # id =Complex(interval(-ϵ,ϵ),interval(-ϵ,ϵ))\n",
    "        # iy = Complex.(interval(-ϵ,ϵ)*ones(ysize),interval(-ϵ,ϵ)*ones(ysize))\n",
    "    end    \n",
    "    # iw = [id;iy]\n",
    "\n",
    "    g(w) = z + (I-R*DF(w)) * w\n",
    "    gw = g(iw)\n",
    "    if all(gw .⊂ iw)\n",
    "        while maximum(radius,gw) >= 5e-10\n",
    "            gw = g(gw)       \n",
    "        end\n",
    "        return lam .+ gw[1] \n",
    "    else\n",
    "        return NaN\n",
    "    end\n",
    "end"
   ]
  },
  {
   "cell_type": "code",
   "execution_count": 6,
   "id": "d70b62d1-9695-4378-bd3e-481a9a42225c",
   "metadata": {},
   "outputs": [
    {
     "data": {
      "text/plain": [
       "cheb_root (generic function with 2 methods)"
      ]
     },
     "execution_count": 6,
     "metadata": {},
     "output_type": "execute_result"
    }
   ],
   "source": [
    "function cheb_root(ia::Vector{Interval{T}}, I=[-1,1])where T\n",
    "    I_lo = I[1]; I_up = I[2]\n",
    "    a = mid.(ia)\n",
    "    n = length(ia)\n",
    "    du = [1; ones(n-3)*0.5]\n",
    "    dl = ones(n-2)*0.5\n",
    "    d  = zeros(n-1)\n",
    "    C_1  = Tridiagonal(dl, d, du)\n",
    "    iC_1 = map(Interval, C_1)\n",
    "    C_2 = zeros(n-1,n-1)\n",
    "    C_2[end,:] = a[1:end-1]/a[n]\n",
    "    iC_2 = 0.5*map(Interval,C_2)\n",
    "    C = iC_1-iC_2\n",
    "    C_mid = mid.(C)\n",
    "    lam, x = eigen(C_mid)\n",
    "    ε = 100*eps()*(I_up-I_lo)*0.5 \n",
    "    ind = findall((-1-ε .≤ real(lam) .≤ 1+ε) .& (imag(lam) .≈ 0))\n",
    "    lam = real(lam[ind]) #\n",
    "    x = real(x[:,ind])　#Approximate eigenvector\n",
    "    \n",
    "    ilam = zeros(Interval,length(lam))\n",
    "    for i = 1:length(lam)\n",
    "         ilam[i] = verifyeig(C,lam[i],x[:,i])\n",
    "    end\n",
    "\n",
    "    if I_lo==-1.0 && I_up==1.0\n",
    "        return ilam\n",
    "    else\n",
    "        return (1.0 .- ilam).*I_lo/2 + (1.0 .+ ilam).*I_up/2\n",
    "    end\n",
    "    # return ilam\n",
    "    # return (1.0 .- ilam).*I[1]/2 + (1.0 .+ ilam).*I[2]/2\n",
    "end"
   ]
  },
  {
   "cell_type": "code",
   "execution_count": 7,
   "id": "ae278e15-5172-42f3-8c05-a19fd8589fbe",
   "metadata": {},
   "outputs": [
    {
     "data": {
      "image/png": "[encoded data removed]",
      "image/svg+xml": [
       "<?xml version=\"1.0\" encoding=\"utf-8\"?>\n",
       "<svg xmlns=\"http://www.w3.org/2000/svg\" xmlns:xlink=\"http://www.w3.org/1999/xlink\" width=\"600\" height=\"400\" viewBox=\"0 0 2400 1600\">\n",
       "<defs>\n",
       "  <clipPath id=\"clip990\">\n",
       "    <rect x=\"0\" y=\"0\" width=\"2400\" height=\"1600\"/>\n",
       "  </clipPath>\n",
       "</defs>\n",
       "<path clip-path=\"url(#clip990)\" d=\"M0 1600 L2400 1600 L2400 0 L0 0  Z\" fill=\"#ffffff\" fill-rule=\"evenodd\" fill-opacity=\"1\"/>\n",
       "<defs>\n",
       "  <clipPath id=\"clip991\">\n",
       "    <rect x=\"480\" y=\"0\" width=\"1681\" height=\"1600\"/>\n",
       "  </clipPath>\n",
       "</defs>\n",
       "<path clip-path=\"url(#clip990)\" d=\"M193.936 1486.45 L2352.76 1486.45 L2352.76 47.2441 L193.936 47.2441  Z\" fill=\"#ffffff\" fill-rule=\"evenodd\" fill-opacity=\"1\"/>\n",
       "<defs>\n",
       "  <clipPath id=\"clip992\">\n",
       "    <rect x=\"193\" y=\"47\" width=\"2160\" height=\"1440\"/>\n",
       "  </clipPath>\n",
       "</defs>\n",
       "<polyline clip-path=\"url(#clip992)\" style=\"stroke:#000000; stroke-linecap:round; stroke-linejoin:round; stroke-width:2; stroke-opacity:0.1; fill:none\" points=\"255.035,1486.45 255.035,47.2441 \"/>\n",
       "<polyline clip-path=\"url(#clip992)\" style=\"stroke:#000000; stroke-linecap:round; stroke-linejoin:round; stroke-width:2; stroke-opacity:0.1; fill:none\" points=\"764.19,1486.45 764.19,47.2441 \"/>\n",
       "<polyline clip-path=\"url(#clip992)\" style=\"stroke:#000000; stroke-linecap:round; stroke-linejoin:round; stroke-width:2; stroke-opacity:0.1; fill:none\" points=\"1273.35,1486.45 1273.35,47.2441 \"/>\n",
       "<polyline clip-path=\"url(#clip992)\" style=\"stroke:#000000; stroke-linecap:round; stroke-linejoin:round; stroke-width:2; stroke-opacity:0.1; fill:none\" points=\"1782.5,1486.45 1782.5,47.2441 \"/>\n",
       "<polyline clip-path=\"url(#clip992)\" style=\"stroke:#000000; stroke-linecap:round; stroke-linejoin:round; stroke-width:2; stroke-opacity:0.1; fill:none\" points=\"2291.66,1486.45 2291.66,47.2441 \"/>\n",
       "<polyline clip-path=\"url(#clip990)\" style=\"stroke:#000000; stroke-linecap:round; stroke-linejoin:round; stroke-width:4; stroke-opacity:1; fill:none\" points=\"193.936,1486.45 2352.76,1486.45 \"/>\n",
       "<polyline clip-path=\"url(#clip990)\" style=\"stroke:#000000; stroke-linecap:round; stroke-linejoin:round; stroke-width:4; stroke-opacity:1; fill:none\" points=\"255.035,1486.45 255.035,1467.55 \"/>\n",
       "<polyline clip-path=\"url(#clip990)\" style=\"stroke:#000000; stroke-linecap:round; stroke-linejoin:round; stroke-width:4; stroke-opacity:1; fill:none\" points=\"764.19,1486.45 764.19,1467.55 \"/>\n",
       "<polyline clip-path=\"url(#clip990)\" style=\"stroke:#000000; stroke-linecap:round; stroke-linejoin:round; stroke-width:4; stroke-opacity:1; fill:none\" points=\"1273.35,1486.45 1273.35,1467.55 \"/>\n",
       "<polyline clip-path=\"url(#clip990)\" style=\"stroke:#000000; stroke-linecap:round; stroke-linejoin:round; stroke-width:4; stroke-opacity:1; fill:none\" points=\"1782.5,1486.45 1782.5,1467.55 \"/>\n",
       "<polyline clip-path=\"url(#clip990)\" style=\"stroke:#000000; stroke-linecap:round; stroke-linejoin:round; stroke-width:4; stroke-opacity:1; fill:none\" points=\"2291.66,1486.45 2291.66,1467.55 \"/>\n",
       "<path clip-path=\"url(#clip990)\" d=\"M201.563 1532.02 L231.239 1532.02 L231.239 1535.95 L201.563 1535.95 L201.563 1532.02 Z\" fill=\"#000000\" fill-rule=\"nonzero\" fill-opacity=\"1\" /><path clip-path=\"url(#clip990)\" d=\"M242.141 1544.91 L249.78 1544.91 L249.78 1518.55 L241.47 1520.21 L241.47 1515.95 L249.734 1514.29 L254.41 1514.29 L254.41 1544.91 L262.049 1544.91 L262.049 1548.85 L242.141 1548.85 L242.141 1544.91 Z\" fill=\"#000000\" fill-rule=\"nonzero\" fill-opacity=\"1\" /><path clip-path=\"url(#clip990)\" d=\"M271.493 1542.97 L276.377 1542.97 L276.377 1548.85 L271.493 1548.85 L271.493 1542.97 Z\" fill=\"#000000\" fill-rule=\"nonzero\" fill-opacity=\"1\" /><path clip-path=\"url(#clip990)\" d=\"M296.562 1517.37 Q292.951 1517.37 291.122 1520.93 Q289.317 1524.47 289.317 1531.6 Q289.317 1538.71 291.122 1542.27 Q292.951 1545.82 296.562 1545.82 Q300.196 1545.82 302.002 1542.27 Q303.831 1538.71 303.831 1531.6 Q303.831 1524.47 302.002 1520.93 Q300.196 1517.37 296.562 1517.37 M296.562 1513.66 Q302.372 1513.66 305.428 1518.27 Q308.507 1522.85 308.507 1531.6 Q308.507 1540.33 305.428 1544.94 Q302.372 1549.52 296.562 1549.52 Q290.752 1549.52 287.673 1544.94 Q284.618 1540.33 284.618 1531.6 Q284.618 1522.85 287.673 1518.27 Q290.752 1513.66 296.562 1513.66 Z\" fill=\"#000000\" fill-rule=\"nonzero\" fill-opacity=\"1\" /><path clip-path=\"url(#clip990)\" d=\"M711.216 1532.02 L740.892 1532.02 L740.892 1535.95 L711.216 1535.95 L711.216 1532.02 Z\" fill=\"#000000\" fill-rule=\"nonzero\" fill-opacity=\"1\" /><path clip-path=\"url(#clip990)\" d=\"M760.984 1517.37 Q757.373 1517.37 755.545 1520.93 Q753.739 1524.47 753.739 1531.6 Q753.739 1538.71 755.545 1542.27 Q757.373 1545.82 760.984 1545.82 Q764.619 1545.82 766.424 1542.27 Q768.253 1538.71 768.253 1531.6 Q768.253 1524.47 766.424 1520.93 Q764.619 1517.37 760.984 1517.37 M760.984 1513.66 Q766.794 1513.66 769.85 1518.27 Q772.929 1522.85 772.929 1531.6 Q772.929 1540.33 769.85 1544.94 Q766.794 1549.52 760.984 1549.52 Q755.174 1549.52 752.095 1544.94 Q749.04 1540.33 749.04 1531.6 Q749.04 1522.85 752.095 1518.27 Q755.174 1513.66 760.984 1513.66 Z\" fill=\"#000000\" fill-rule=\"nonzero\" fill-opacity=\"1\" /><path clip-path=\"url(#clip990)\" d=\"M781.146 1542.97 L786.03 1542.97 L786.03 1548.85 L781.146 1548.85 L781.146 1542.97 Z\" fill=\"#000000\" fill-rule=\"nonzero\" fill-opacity=\"1\" /><path clip-path=\"url(#clip990)\" d=\"M796.262 1514.29 L814.618 1514.29 L814.618 1518.22 L800.544 1518.22 L800.544 1526.7 Q801.563 1526.35 802.581 1526.19 Q803.6 1526 804.618 1526 Q810.405 1526 813.785 1529.17 Q817.165 1532.34 817.165 1537.76 Q817.165 1543.34 813.692 1546.44 Q810.22 1549.52 803.901 1549.52 Q801.725 1549.52 799.456 1549.15 Q797.211 1548.78 794.804 1548.04 L794.804 1543.34 Q796.887 1544.47 799.109 1545.03 Q801.331 1545.58 803.808 1545.58 Q807.813 1545.58 810.151 1543.48 Q812.489 1541.37 812.489 1537.76 Q812.489 1534.15 810.151 1532.04 Q807.813 1529.94 803.808 1529.94 Q801.933 1529.94 800.058 1530.35 Q798.206 1530.77 796.262 1531.65 L796.262 1514.29 Z\" fill=\"#000000\" fill-rule=\"nonzero\" fill-opacity=\"1\" /><path clip-path=\"url(#clip990)\" d=\"M1250.73 1517.37 Q1247.12 1517.37 1245.29 1520.93 Q1243.49 1524.47 1243.49 1531.6 Q1243.49 1538.71 1245.29 1542.27 Q1247.12 1545.82 1250.73 1545.82 Q1254.36 1545.82 1256.17 1542.27 Q1258 1538.71 1258 1531.6 Q1258 1524.47 1256.17 1520.93 Q1254.36 1517.37 1250.73 1517.37 M1250.73 1513.66 Q1256.54 1513.66 1259.6 1518.27 Q1262.67 1522.85 1262.67 1531.6 Q1262.67 1540.33 1259.6 1544.94 Q1256.54 1549.52 1250.73 1549.52 Q1244.92 1549.52 1241.84 1544.94 Q1238.79 1540.33 1238.79 1531.6 Q1238.79 1522.85 1241.84 1518.27 Q1244.92 1513.66 1250.73 1513.66 Z\" fill=\"#000000\" fill-rule=\"nonzero\" fill-opacity=\"1\" /><path clip-path=\"url(#clip990)\" d=\"M1270.89 1542.97 L1275.78 1542.97 L1275.78 1548.85 L1270.89 1548.85 L1270.89 1542.97 Z\" fill=\"#000000\" fill-rule=\"nonzero\" fill-opacity=\"1\" /><path clip-path=\"url(#clip990)\" d=\"M1295.96 1517.37 Q1292.35 1517.37 1290.52 1520.93 Q1288.72 1524.47 1288.72 1531.6 Q1288.72 1538.71 1290.52 1542.27 Q1292.35 1545.82 1295.96 1545.82 Q1299.6 1545.82 1301.4 1542.27 Q1303.23 1538.71 1303.23 1531.6 Q1303.23 1524.47 1301.4 1520.93 Q1299.6 1517.37 1295.96 1517.37 M1295.96 1513.66 Q1301.77 1513.66 1304.83 1518.27 Q1307.91 1522.85 1307.91 1531.6 Q1307.91 1540.33 1304.83 1544.94 Q1301.77 1549.52 1295.96 1549.52 Q1290.15 1549.52 1287.07 1544.94 Q1284.02 1540.33 1284.02 1531.6 Q1284.02 1522.85 1287.07 1518.27 Q1290.15 1513.66 1295.96 1513.66 Z\" fill=\"#000000\" fill-rule=\"nonzero\" fill-opacity=\"1\" /><path clip-path=\"url(#clip990)\" d=\"M1760.38 1517.37 Q1756.77 1517.37 1754.94 1520.93 Q1753.14 1524.47 1753.14 1531.6 Q1753.14 1538.71 1754.94 1542.27 Q1756.77 1545.82 1760.38 1545.82 Q1764.02 1545.82 1765.82 1542.27 Q1767.65 1538.71 1767.65 1531.6 Q1767.65 1524.47 1765.82 1520.93 Q1764.02 1517.37 1760.38 1517.37 M1760.38 1513.66 Q1766.19 1513.66 1769.25 1518.27 Q1772.33 1522.85 1772.33 1531.6 Q1772.33 1540.33 1769.25 1544.94 Q1766.19 1549.52 1760.38 1549.52 Q1754.57 1549.52 1751.49 1544.94 Q1748.44 1540.33 1748.44 1531.6 Q1748.44 1522.85 1751.49 1518.27 Q1754.57 1513.66 1760.38 1513.66 Z\" fill=\"#000000\" fill-rule=\"nonzero\" fill-opacity=\"1\" /><path clip-path=\"url(#clip990)\" d=\"M1780.55 1542.97 L1785.43 1542.97 L1785.43 1548.85 L1780.55 1548.85 L1780.55 1542.97 Z\" fill=\"#000000\" fill-rule=\"nonzero\" fill-opacity=\"1\" /><path clip-path=\"url(#clip990)\" d=\"M1795.66 1514.29 L1814.02 1514.29 L1814.02 1518.22 L1799.94 1518.22 L1799.94 1526.7 Q1800.96 1526.35 1801.98 1526.19 Q1803 1526 1804.02 1526 Q1809.8 1526 1813.18 1529.17 Q1816.56 1532.34 1816.56 1537.76 Q1816.56 1543.34 1813.09 1546.44 Q1809.62 1549.52 1803.3 1549.52 Q1801.12 1549.52 1798.86 1549.15 Q1796.61 1548.78 1794.2 1548.04 L1794.2 1543.34 Q1796.29 1544.47 1798.51 1545.03 Q1800.73 1545.58 1803.21 1545.58 Q1807.21 1545.58 1809.55 1543.48 Q1811.89 1541.37 1811.89 1537.76 Q1811.89 1534.15 1809.55 1532.04 Q1807.21 1529.94 1803.21 1529.94 Q1801.33 1529.94 1799.46 1530.35 Q1797.61 1530.77 1795.66 1531.65 L1795.66 1514.29 Z\" fill=\"#000000\" fill-rule=\"nonzero\" fill-opacity=\"1\" /><path clip-path=\"url(#clip990)\" d=\"M2258.81 1544.91 L2266.45 1544.91 L2266.45 1518.55 L2258.14 1520.21 L2258.14 1515.95 L2266.4 1514.29 L2271.08 1514.29 L2271.08 1544.91 L2278.72 1544.91 L2278.72 1548.85 L2258.81 1548.85 L2258.81 1544.91 Z\" fill=\"#000000\" fill-rule=\"nonzero\" fill-opacity=\"1\" /><path clip-path=\"url(#clip990)\" d=\"M2288.16 1542.97 L2293.05 1542.97 L2293.05 1548.85 L2288.16 1548.85 L2288.16 1542.97 Z\" fill=\"#000000\" fill-rule=\"nonzero\" fill-opacity=\"1\" /><path clip-path=\"url(#clip990)\" d=\"M2313.23 1517.37 Q2309.62 1517.37 2307.79 1520.93 Q2305.99 1524.47 2305.99 1531.6 Q2305.99 1538.71 2307.79 1542.27 Q2309.62 1545.82 2313.23 1545.82 Q2316.87 1545.82 2318.67 1542.27 Q2320.5 1538.71 2320.5 1531.6 Q2320.5 1524.47 2318.67 1520.93 Q2316.87 1517.37 2313.23 1517.37 M2313.23 1513.66 Q2319.04 1513.66 2322.1 1518.27 Q2325.18 1522.85 2325.18 1531.6 Q2325.18 1540.33 2322.1 1544.94 Q2319.04 1549.52 2313.23 1549.52 Q2307.42 1549.52 2304.34 1544.94 Q2301.29 1540.33 2301.29 1531.6 Q2301.29 1522.85 2304.34 1518.27 Q2307.42 1513.66 2313.23 1513.66 Z\" fill=\"#000000\" fill-rule=\"nonzero\" fill-opacity=\"1\" /><polyline clip-path=\"url(#clip992)\" style=\"stroke:#000000; stroke-linecap:round; stroke-linejoin:round; stroke-width:2; stroke-opacity:0.1; fill:none\" points=\"193.936,1445.72 2352.76,1445.72 \"/>\n",
       "<polyline clip-path=\"url(#clip992)\" style=\"stroke:#000000; stroke-linecap:round; stroke-linejoin:round; stroke-width:2; stroke-opacity:0.1; fill:none\" points=\"193.936,1106.28 2352.76,1106.28 \"/>\n",
       "<polyline clip-path=\"url(#clip992)\" style=\"stroke:#000000; stroke-linecap:round; stroke-linejoin:round; stroke-width:2; stroke-opacity:0.1; fill:none\" points=\"193.936,766.846 2352.76,766.846 \"/>\n",
       "<polyline clip-path=\"url(#clip992)\" style=\"stroke:#000000; stroke-linecap:round; stroke-linejoin:round; stroke-width:2; stroke-opacity:0.1; fill:none\" points=\"193.936,427.411 2352.76,427.411 \"/>\n",
       "<polyline clip-path=\"url(#clip992)\" style=\"stroke:#000000; stroke-linecap:round; stroke-linejoin:round; stroke-width:2; stroke-opacity:0.1; fill:none\" points=\"193.936,87.9763 2352.76,87.9763 \"/>\n",
       "<polyline clip-path=\"url(#clip990)\" style=\"stroke:#000000; stroke-linecap:round; stroke-linejoin:round; stroke-width:4; stroke-opacity:1; fill:none\" points=\"193.936,1486.45 193.936,47.2441 \"/>\n",
       "<polyline clip-path=\"url(#clip990)\" style=\"stroke:#000000; stroke-linecap:round; stroke-linejoin:round; stroke-width:4; stroke-opacity:1; fill:none\" points=\"193.936,1445.72 212.834,1445.72 \"/>\n",
       "<polyline clip-path=\"url(#clip990)\" style=\"stroke:#000000; stroke-linecap:round; stroke-linejoin:round; stroke-width:4; stroke-opacity:1; fill:none\" points=\"193.936,1106.28 212.834,1106.28 \"/>\n",
       "<polyline clip-path=\"url(#clip990)\" style=\"stroke:#000000; stroke-linecap:round; stroke-linejoin:round; stroke-width:4; stroke-opacity:1; fill:none\" points=\"193.936,766.846 212.834,766.846 \"/>\n",
       "<polyline clip-path=\"url(#clip990)\" style=\"stroke:#000000; stroke-linecap:round; stroke-linejoin:round; stroke-width:4; stroke-opacity:1; fill:none\" points=\"193.936,427.411 212.834,427.411 \"/>\n",
       "<polyline clip-path=\"url(#clip990)\" style=\"stroke:#000000; stroke-linecap:round; stroke-linejoin:round; stroke-width:4; stroke-opacity:1; fill:none\" points=\"193.936,87.9763 212.834,87.9763 \"/>\n",
       "<path clip-path=\"url(#clip990)\" d=\"M50.9921 1446.17 L80.6679 1446.17 L80.6679 1450.1 L50.9921 1450.1 L50.9921 1446.17 Z\" fill=\"#000000\" fill-rule=\"nonzero\" fill-opacity=\"1\" /><path clip-path=\"url(#clip990)\" d=\"M91.5706 1459.06 L99.2095 1459.06 L99.2095 1432.69 L90.8993 1434.36 L90.8993 1430.1 L99.1632 1428.44 L103.839 1428.44 L103.839 1459.06 L111.478 1459.06 L111.478 1463 L91.5706 1463 L91.5706 1459.06 Z\" fill=\"#000000\" fill-rule=\"nonzero\" fill-opacity=\"1\" /><path clip-path=\"url(#clip990)\" d=\"M120.922 1457.12 L125.807 1457.12 L125.807 1463 L120.922 1463 L120.922 1457.12 Z\" fill=\"#000000\" fill-rule=\"nonzero\" fill-opacity=\"1\" /><path clip-path=\"url(#clip990)\" d=\"M145.992 1431.51 Q142.381 1431.51 140.552 1435.08 Q138.746 1438.62 138.746 1445.75 Q138.746 1452.86 140.552 1456.42 Q142.381 1459.96 145.992 1459.96 Q149.626 1459.96 151.431 1456.42 Q153.26 1452.86 153.26 1445.75 Q153.26 1438.62 151.431 1435.08 Q149.626 1431.51 145.992 1431.51 M145.992 1427.81 Q151.802 1427.81 154.857 1432.42 Q157.936 1437 157.936 1445.75 Q157.936 1454.48 154.857 1459.08 Q151.802 1463.67 145.992 1463.67 Q140.181 1463.67 137.103 1459.08 Q134.047 1454.48 134.047 1445.75 Q134.047 1437 137.103 1432.42 Q140.181 1427.81 145.992 1427.81 Z\" fill=\"#000000\" fill-rule=\"nonzero\" fill-opacity=\"1\" /><path clip-path=\"url(#clip990)\" d=\"M51.9875 1106.73 L81.6633 1106.73 L81.6633 1110.67 L51.9875 1110.67 L51.9875 1106.73 Z\" fill=\"#000000\" fill-rule=\"nonzero\" fill-opacity=\"1\" /><path clip-path=\"url(#clip990)\" d=\"M101.756 1092.08 Q98.1447 1092.08 96.316 1095.64 Q94.5104 1099.19 94.5104 1106.32 Q94.5104 1113.42 96.316 1116.99 Q98.1447 1120.53 101.756 1120.53 Q105.39 1120.53 107.196 1116.99 Q109.024 1113.42 109.024 1106.32 Q109.024 1099.19 107.196 1095.64 Q105.39 1092.08 101.756 1092.08 M101.756 1088.38 Q107.566 1088.38 110.621 1092.98 Q113.7 1097.57 113.7 1106.32 Q113.7 1115.04 110.621 1119.65 Q107.566 1124.23 101.756 1124.23 Q95.9456 1124.23 92.8669 1119.65 Q89.8114 1115.04 89.8114 1106.32 Q89.8114 1097.57 92.8669 1092.98 Q95.9456 1088.38 101.756 1088.38 Z\" fill=\"#000000\" fill-rule=\"nonzero\" fill-opacity=\"1\" /><path clip-path=\"url(#clip990)\" d=\"M121.918 1117.68 L126.802 1117.68 L126.802 1123.56 L121.918 1123.56 L121.918 1117.68 Z\" fill=\"#000000\" fill-rule=\"nonzero\" fill-opacity=\"1\" /><path clip-path=\"url(#clip990)\" d=\"M137.033 1089 L155.39 1089 L155.39 1092.94 L141.316 1092.94 L141.316 1101.41 Q142.334 1101.06 143.353 1100.9 Q144.371 1100.71 145.39 1100.71 Q151.177 1100.71 154.556 1103.89 Q157.936 1107.06 157.936 1112.47 Q157.936 1118.05 154.464 1121.15 Q150.992 1124.23 144.672 1124.23 Q142.496 1124.23 140.228 1123.86 Q137.982 1123.49 135.575 1122.75 L135.575 1118.05 Q137.658 1119.19 139.881 1119.74 Q142.103 1120.3 144.58 1120.3 Q148.584 1120.3 150.922 1118.19 Q153.26 1116.08 153.26 1112.47 Q153.26 1108.86 150.922 1106.76 Q148.584 1104.65 144.58 1104.65 Q142.705 1104.65 140.83 1105.07 Q138.978 1105.48 137.033 1106.36 L137.033 1089 Z\" fill=\"#000000\" fill-rule=\"nonzero\" fill-opacity=\"1\" /><path clip-path=\"url(#clip990)\" d=\"M100.76 752.645 Q97.1493 752.645 95.3206 756.209 Q93.515 759.751 93.515 766.881 Q93.515 773.987 95.3206 777.552 Q97.1493 781.094 100.76 781.094 Q104.395 781.094 106.2 777.552 Q108.029 773.987 108.029 766.881 Q108.029 759.751 106.2 756.209 Q104.395 752.645 100.76 752.645 M100.76 748.941 Q106.571 748.941 109.626 753.547 Q112.705 758.131 112.705 766.881 Q112.705 775.608 109.626 780.214 Q106.571 784.797 100.76 784.797 Q94.9502 784.797 91.8715 780.214 Q88.816 775.608 88.816 766.881 Q88.816 758.131 91.8715 753.547 Q94.9502 748.941 100.76 748.941 Z\" fill=\"#000000\" fill-rule=\"nonzero\" fill-opacity=\"1\" /><path clip-path=\"url(#clip990)\" d=\"M120.922 778.246 L125.807 778.246 L125.807 784.126 L120.922 784.126 L120.922 778.246 Z\" fill=\"#000000\" fill-rule=\"nonzero\" fill-opacity=\"1\" /><path clip-path=\"url(#clip990)\" d=\"M145.992 752.645 Q142.381 752.645 140.552 756.209 Q138.746 759.751 138.746 766.881 Q138.746 773.987 140.552 777.552 Q142.381 781.094 145.992 781.094 Q149.626 781.094 151.431 777.552 Q153.26 773.987 153.26 766.881 Q153.26 759.751 151.431 756.209 Q149.626 752.645 145.992 752.645 M145.992 748.941 Q151.802 748.941 154.857 753.547 Q157.936 758.131 157.936 766.881 Q157.936 775.608 154.857 780.214 Q151.802 784.797 145.992 784.797 Q140.181 784.797 137.103 780.214 Q134.047 775.608 134.047 766.881 Q134.047 758.131 137.103 753.547 Q140.181 748.941 145.992 748.941 Z\" fill=\"#000000\" fill-rule=\"nonzero\" fill-opacity=\"1\" /><path clip-path=\"url(#clip990)\" d=\"M101.756 413.21 Q98.1447 413.21 96.316 416.775 Q94.5104 420.316 94.5104 427.446 Q94.5104 434.552 96.316 438.117 Q98.1447 441.659 101.756 441.659 Q105.39 441.659 107.196 438.117 Q109.024 434.552 109.024 427.446 Q109.024 420.316 107.196 416.775 Q105.39 413.21 101.756 413.21 M101.756 409.506 Q107.566 409.506 110.621 414.113 Q113.7 418.696 113.7 427.446 Q113.7 436.173 110.621 440.779 Q107.566 445.362 101.756 445.362 Q95.9456 445.362 92.8669 440.779 Q89.8114 436.173 89.8114 427.446 Q89.8114 418.696 92.8669 414.113 Q95.9456 409.506 101.756 409.506 Z\" fill=\"#000000\" fill-rule=\"nonzero\" fill-opacity=\"1\" /><path clip-path=\"url(#clip990)\" d=\"M121.918 438.812 L126.802 438.812 L126.802 444.691 L121.918 444.691 L121.918 438.812 Z\" fill=\"#000000\" fill-rule=\"nonzero\" fill-opacity=\"1\" /><path clip-path=\"url(#clip990)\" d=\"M137.033 410.131 L155.39 410.131 L155.39 414.066 L141.316 414.066 L141.316 422.538 Q142.334 422.191 143.353 422.029 Q144.371 421.844 145.39 421.844 Q151.177 421.844 154.556 425.015 Q157.936 428.187 157.936 433.603 Q157.936 439.182 154.464 442.284 Q150.992 445.362 144.672 445.362 Q142.496 445.362 140.228 444.992 Q137.982 444.622 135.575 443.881 L135.575 439.182 Q137.658 440.316 139.881 440.872 Q142.103 441.427 144.58 441.427 Q148.584 441.427 150.922 439.321 Q153.26 437.214 153.26 433.603 Q153.26 429.992 150.922 427.886 Q148.584 425.779 144.58 425.779 Q142.705 425.779 140.83 426.196 Q138.978 426.613 137.033 427.492 L137.033 410.131 Z\" fill=\"#000000\" fill-rule=\"nonzero\" fill-opacity=\"1\" /><path clip-path=\"url(#clip990)\" d=\"M91.5706 101.321 L99.2095 101.321 L99.2095 74.9555 L90.8993 76.6222 L90.8993 72.3629 L99.1632 70.6963 L103.839 70.6963 L103.839 101.321 L111.478 101.321 L111.478 105.256 L91.5706 105.256 L91.5706 101.321 Z\" fill=\"#000000\" fill-rule=\"nonzero\" fill-opacity=\"1\" /><path clip-path=\"url(#clip990)\" d=\"M120.922 99.3767 L125.807 99.3767 L125.807 105.256 L120.922 105.256 L120.922 99.3767 Z\" fill=\"#000000\" fill-rule=\"nonzero\" fill-opacity=\"1\" /><path clip-path=\"url(#clip990)\" d=\"M145.992 73.775 Q142.381 73.775 140.552 77.3398 Q138.746 80.8814 138.746 88.011 Q138.746 95.1174 140.552 98.6822 Q142.381 102.224 145.992 102.224 Q149.626 102.224 151.431 98.6822 Q153.26 95.1174 153.26 88.011 Q153.26 80.8814 151.431 77.3398 Q149.626 73.775 145.992 73.775 M145.992 70.0713 Q151.802 70.0713 154.857 74.6777 Q157.936 79.261 157.936 88.011 Q157.936 96.7378 154.857 101.344 Q151.802 105.928 145.992 105.928 Q140.181 105.928 137.103 101.344 Q134.047 96.7378 134.047 88.011 Q134.047 79.261 137.103 74.6777 Q140.181 70.0713 145.992 70.0713 Z\" fill=\"#000000\" fill-rule=\"nonzero\" fill-opacity=\"1\" /><polyline clip-path=\"url(#clip992)\" style=\"stroke:#009af9; stroke-linecap:round; stroke-linejoin:round; stroke-width:4; stroke-opacity:1; fill:none\" points=\"255.035,766.846 261.664,780.73 268.294,794.609 298.945,858.53 329.596,921.632 360.247,983.351 390.898,1043.14 409.318,1077.91 427.737,1111.68 446.157,1144.34 464.577,1175.77 480.151,1201.33 495.725,1225.88 511.299,1249.37 526.872,1271.75 543.79,1294.73 560.707,1316.28 577.625,1336.34 594.542,1354.84 610.139,1370.48 625.735,1384.72 641.332,1397.53 656.928,1408.88 673.649,1419.4 690.37,1428.19 707.091,1435.21 723.812,1440.46 743.185,1444.29 762.558,1445.71 781.931,1444.7 801.304,1441.27 818.52,1436.2 835.737,1429.25 852.953,1420.42 870.17,1409.75 885.267,1398.9 900.364,1386.68 915.461,1373.12 930.558,1358.24 947.018,1340.56 963.478,1321.4 979.938,1300.81 996.398,1278.84 1012.96,1255.41 1029.51,1230.7 1046.07,1204.79 1062.63,1177.73 1080.94,1146.57 1099.24,1114.2 1117.55,1080.72 1135.86,1046.24 1170.69,978.262 1205.53,907.842 1277.98,757.15 1338.96,630.364 1376.19,555.056 1413.41,482.539 1430.46,450.518 1447.51,419.373 1464.57,389.189 1481.62,360.049 1497.36,334.135 1513.11,309.242 1528.86,285.428 1544.61,262.751 1560.56,240.993 1576.51,220.508 1592.46,201.346 1608.42,183.554 1626.29,165.294 1644.17,148.863 1662.05,134.312 1679.93,121.685 1696.13,111.936 1712.33,103.823 1728.53,97.3658 1744.73,92.5805 1763.28,89.1699 1781.83,87.9778 1800.37,89.0079 1818.92,92.257 1836.1,97.2347 1853.27,104.092 1870.44,112.809 1887.62,123.361 1904.55,135.533 1921.48,149.427 1938.41,165.005 1955.34,182.225 1971.78,200.471 1988.22,220.173 2004.66,241.281 2021.1,263.74 2037.95,288.106 2054.8,313.766 2071.66,340.651 2088.51,368.687 2106.97,400.636 2125.44,433.773 2143.9,467.99 2162.36,503.177 2216,609.836 2269.65,720.784 2280.65,743.802 2291.66,766.846 \"/>\n",
       "<circle clip-path=\"url(#clip992)\" cx=\"764.19\" cy=\"1445.72\" r=\"14.4\" fill=\"#e26f46\" fill-rule=\"evenodd\" fill-opacity=\"1\" stroke=\"#000000\" stroke-opacity=\"1\" stroke-width=\"3.2\"/>\n",
       "<circle clip-path=\"url(#clip992)\" cx=\"1782.5\" cy=\"87.9763\" r=\"14.4\" fill=\"#e26f46\" fill-rule=\"evenodd\" fill-opacity=\"1\" stroke=\"#000000\" stroke-opacity=\"1\" stroke-width=\"3.2\"/>\n",
       "<path clip-path=\"url(#clip990)\" d=\"M265.897 250.738 L534.209 250.738 L534.209 95.2176 L265.897 95.2176  Z\" fill=\"#ffffff\" fill-rule=\"evenodd\" fill-opacity=\"1\"/>\n",
       "<polyline clip-path=\"url(#clip990)\" style=\"stroke:#000000; stroke-linecap:round; stroke-linejoin:round; stroke-width:4; stroke-opacity:1; fill:none\" points=\"265.897,250.738 534.209,250.738 534.209,95.2176 265.897,95.2176 265.897,250.738 \"/>\n",
       "<polyline clip-path=\"url(#clip990)\" style=\"stroke:#009af9; stroke-linecap:round; stroke-linejoin:round; stroke-width:4; stroke-opacity:1; fill:none\" points=\"289.884,147.058 433.805,147.058 \"/>\n",
       "<path clip-path=\"url(#clip990)\" d=\"M471.634 166.745 Q469.829 171.375 468.116 172.787 Q466.403 174.199 463.532 174.199 L460.13 174.199 L460.13 170.634 L462.63 170.634 Q464.389 170.634 465.361 169.8 Q466.333 168.967 467.514 165.865 L468.278 163.921 L457.792 138.412 L462.306 138.412 L470.407 158.689 L478.509 138.412 L483.023 138.412 L471.634 166.745 Z\" fill=\"#000000\" fill-rule=\"nonzero\" fill-opacity=\"1\" /><path clip-path=\"url(#clip990)\" d=\"M490.315 160.402 L497.954 160.402 L497.954 134.037 L489.643 135.703 L489.643 131.444 L497.907 129.778 L502.583 129.778 L502.583 160.402 L510.222 160.402 L510.222 164.338 L490.315 164.338 L490.315 160.402 Z\" fill=\"#000000\" fill-rule=\"nonzero\" fill-opacity=\"1\" /><circle clip-path=\"url(#clip990)\" cx=\"361.844\" cy=\"198.898\" r=\"20.48\" fill=\"#e26f46\" fill-rule=\"evenodd\" fill-opacity=\"1\" stroke=\"#000000\" stroke-opacity=\"1\" stroke-width=\"4.55111\"/>\n",
       "<path clip-path=\"url(#clip990)\" d=\"M471.634 218.585 Q469.829 223.215 468.116 224.627 Q466.403 226.039 463.532 226.039 L460.13 226.039 L460.13 222.474 L462.63 222.474 Q464.389 222.474 465.361 221.64 Q466.333 220.807 467.514 217.705 L468.278 215.761 L457.792 190.252 L462.306 190.252 L470.407 210.529 L478.509 190.252 L483.023 190.252 L471.634 218.585 Z\" fill=\"#000000\" fill-rule=\"nonzero\" fill-opacity=\"1\" /><path clip-path=\"url(#clip990)\" d=\"M493.532 212.242 L509.852 212.242 L509.852 216.178 L487.907 216.178 L487.907 212.242 Q490.569 209.488 495.153 204.858 Q499.759 200.205 500.94 198.863 Q503.185 196.34 504.065 194.604 Q504.967 192.844 504.967 191.155 Q504.967 188.4 503.023 186.664 Q501.102 184.928 498 184.928 Q495.801 184.928 493.347 185.692 Q490.917 186.455 488.139 188.006 L488.139 183.284 Q490.963 182.15 493.417 181.571 Q495.87 180.993 497.907 180.993 Q503.278 180.993 506.472 183.678 Q509.666 186.363 509.666 190.854 Q509.666 192.983 508.856 194.905 Q508.069 196.803 505.963 199.395 Q505.384 200.067 502.282 203.284 Q499.18 206.479 493.532 212.242 Z\" fill=\"#000000\" fill-rule=\"nonzero\" fill-opacity=\"1\" /></svg>\n"
      ],
      "text/html": [
       "<?xml version=\"1.0\" encoding=\"utf-8\"?>\n",
       "<svg xmlns=\"http://www.w3.org/2000/svg\" xmlns:xlink=\"http://www.w3.org/1999/xlink\" width=\"600\" height=\"400\" viewBox=\"0 0 2400 1600\">\n",
       "<defs>\n",
       "  <clipPath id=\"clip040\">\n",
       "    <rect x=\"0\" y=\"0\" width=\"2400\" height=\"1600\"/>\n",
       "  </clipPath>\n",
       "</defs>\n",
       "<path clip-path=\"url(#clip040)\" d=\"M0 1600 L2400 1600 L2400 0 L0 0  Z\" fill=\"#ffffff\" fill-rule=\"evenodd\" fill-opacity=\"1\"/>\n",
       "<defs>\n",
       "  <clipPath id=\"clip041\">\n",
       "    <rect x=\"480\" y=\"0\" width=\"1681\" height=\"1600\"/>\n",
       "  </clipPath>\n",
       "</defs>\n",
       "<path clip-path=\"url(#clip040)\" d=\"M193.936 1486.45 L2352.76 1486.45 L2352.76 47.2441 L193.936 47.2441  Z\" fill=\"#ffffff\" fill-rule=\"evenodd\" fill-opacity=\"1\"/>\n",
       "<defs>\n",
       "  <clipPath id=\"clip042\">\n",
       "    <rect x=\"193\" y=\"47\" width=\"2160\" height=\"1440\"/>\n",
       "  </clipPath>\n",
       "</defs>\n",
       "<polyline clip-path=\"url(#clip042)\" style=\"stroke:#000000; stroke-linecap:round; stroke-linejoin:round; stroke-width:2; stroke-opacity:0.1; fill:none\" points=\"255.035,1486.45 255.035,47.2441 \"/>\n",
       "<polyline clip-path=\"url(#clip042)\" style=\"stroke:#000000; stroke-linecap:round; stroke-linejoin:round; stroke-width:2; stroke-opacity:0.1; fill:none\" points=\"764.19,1486.45 764.19,47.2441 \"/>\n",
       "<polyline clip-path=\"url(#clip042)\" style=\"stroke:#000000; stroke-linecap:round; stroke-linejoin:round; stroke-width:2; stroke-opacity:0.1; fill:none\" points=\"1273.35,1486.45 1273.35,47.2441 \"/>\n",
       "<polyline clip-path=\"url(#clip042)\" style=\"stroke:#000000; stroke-linecap:round; stroke-linejoin:round; stroke-width:2; stroke-opacity:0.1; fill:none\" points=\"1782.5,1486.45 1782.5,47.2441 \"/>\n",
       "<polyline clip-path=\"url(#clip042)\" style=\"stroke:#000000; stroke-linecap:round; stroke-linejoin:round; stroke-width:2; stroke-opacity:0.1; fill:none\" points=\"2291.66,1486.45 2291.66,47.2441 \"/>\n",
       "<polyline clip-path=\"url(#clip040)\" style=\"stroke:#000000; stroke-linecap:round; stroke-linejoin:round; stroke-width:4; stroke-opacity:1; fill:none\" points=\"193.936,1486.45 2352.76,1486.45 \"/>\n",
       "<polyline clip-path=\"url(#clip040)\" style=\"stroke:#000000; stroke-linecap:round; stroke-linejoin:round; stroke-width:4; stroke-opacity:1; fill:none\" points=\"255.035,1486.45 255.035,1467.55 \"/>\n",
       "<polyline clip-path=\"url(#clip040)\" style=\"stroke:#000000; stroke-linecap:round; stroke-linejoin:round; stroke-width:4; stroke-opacity:1; fill:none\" points=\"764.19,1486.45 764.19,1467.55 \"/>\n",
       "<polyline clip-path=\"url(#clip040)\" style=\"stroke:#000000; stroke-linecap:round; stroke-linejoin:round; stroke-width:4; stroke-opacity:1; fill:none\" points=\"1273.35,1486.45 1273.35,1467.55 \"/>\n",
       "<polyline clip-path=\"url(#clip040)\" style=\"stroke:#000000; stroke-linecap:round; stroke-linejoin:round; stroke-width:4; stroke-opacity:1; fill:none\" points=\"1782.5,1486.45 1782.5,1467.55 \"/>\n",
       "<polyline clip-path=\"url(#clip040)\" style=\"stroke:#000000; stroke-linecap:round; stroke-linejoin:round; stroke-width:4; stroke-opacity:1; fill:none\" points=\"2291.66,1486.45 2291.66,1467.55 \"/>\n",
       "<path clip-path=\"url(#clip040)\" d=\"M201.563 1532.02 L231.239 1532.02 L231.239 1535.95 L201.563 1535.95 L201.563 1532.02 Z\" fill=\"#000000\" fill-rule=\"nonzero\" fill-opacity=\"1\" /><path clip-path=\"url(#clip040)\" d=\"M242.141 1544.91 L249.78 1544.91 L249.78 1518.55 L241.47 1520.21 L241.47 1515.95 L249.734 1514.29 L254.41 1514.29 L254.41 1544.91 L262.049 1544.91 L262.049 1548.85 L242.141 1548.85 L242.141 1544.91 Z\" fill=\"#000000\" fill-rule=\"nonzero\" fill-opacity=\"1\" /><path clip-path=\"url(#clip040)\" d=\"M271.493 1542.97 L276.377 1542.97 L276.377 1548.85 L271.493 1548.85 L271.493 1542.97 Z\" fill=\"#000000\" fill-rule=\"nonzero\" fill-opacity=\"1\" /><path clip-path=\"url(#clip040)\" d=\"M296.562 1517.37 Q292.951 1517.37 291.122 1520.93 Q289.317 1524.47 289.317 1531.6 Q289.317 1538.71 291.122 1542.27 Q292.951 1545.82 296.562 1545.82 Q300.196 1545.82 302.002 1542.27 Q303.831 1538.71 303.831 1531.6 Q303.831 1524.47 302.002 1520.93 Q300.196 1517.37 296.562 1517.37 M296.562 1513.66 Q302.372 1513.66 305.428 1518.27 Q308.507 1522.85 308.507 1531.6 Q308.507 1540.33 305.428 1544.94 Q302.372 1549.52 296.562 1549.52 Q290.752 1549.52 287.673 1544.94 Q284.618 1540.33 284.618 1531.6 Q284.618 1522.85 287.673 1518.27 Q290.752 1513.66 296.562 1513.66 Z\" fill=\"#000000\" fill-rule=\"nonzero\" fill-opacity=\"1\" /><path clip-path=\"url(#clip040)\" d=\"M711.216 1532.02 L740.892 1532.02 L740.892 1535.95 L711.216 1535.95 L711.216 1532.02 Z\" fill=\"#000000\" fill-rule=\"nonzero\" fill-opacity=\"1\" /><path clip-path=\"url(#clip040)\" d=\"M760.984 1517.37 Q757.373 1517.37 755.545 1520.93 Q753.739 1524.47 753.739 1531.6 Q753.739 1538.71 755.545 1542.27 Q757.373 1545.82 760.984 1545.82 Q764.619 1545.82 766.424 1542.27 Q768.253 1538.71 768.253 1531.6 Q768.253 1524.47 766.424 1520.93 Q764.619 1517.37 760.984 1517.37 M760.984 1513.66 Q766.794 1513.66 769.85 1518.27 Q772.929 1522.85 772.929 1531.6 Q772.929 1540.33 769.85 1544.94 Q766.794 1549.52 760.984 1549.52 Q755.174 1549.52 752.095 1544.94 Q749.04 1540.33 749.04 1531.6 Q749.04 1522.85 752.095 1518.27 Q755.174 1513.66 760.984 1513.66 Z\" fill=\"#000000\" fill-rule=\"nonzero\" fill-opacity=\"1\" /><path clip-path=\"url(#clip040)\" d=\"M781.146 1542.97 L786.03 1542.97 L786.03 1548.85 L781.146 1548.85 L781.146 1542.97 Z\" fill=\"#000000\" fill-rule=\"nonzero\" fill-opacity=\"1\" /><path clip-path=\"url(#clip040)\" d=\"M796.262 1514.29 L814.618 1514.29 L814.618 1518.22 L800.544 1518.22 L800.544 1526.7 Q801.563 1526.35 802.581 1526.19 Q803.6 1526 804.618 1526 Q810.405 1526 813.785 1529.17 Q817.165 1532.34 817.165 1537.76 Q817.165 1543.34 813.692 1546.44 Q810.22 1549.52 803.901 1549.52 Q801.725 1549.52 799.456 1549.15 Q797.211 1548.78 794.804 1548.04 L794.804 1543.34 Q796.887 1544.47 799.109 1545.03 Q801.331 1545.58 803.808 1545.58 Q807.813 1545.58 810.151 1543.48 Q812.489 1541.37 812.489 1537.76 Q812.489 1534.15 810.151 1532.04 Q807.813 1529.94 803.808 1529.94 Q801.933 1529.94 800.058 1530.35 Q798.206 1530.77 796.262 1531.65 L796.262 1514.29 Z\" fill=\"#000000\" fill-rule=\"nonzero\" fill-opacity=\"1\" /><path clip-path=\"url(#clip040)\" d=\"M1250.73 1517.37 Q1247.12 1517.37 1245.29 1520.93 Q1243.49 1524.47 1243.49 1531.6 Q1243.49 1538.71 1245.29 1542.27 Q1247.12 1545.82 1250.73 1545.82 Q1254.36 1545.82 1256.17 1542.27 Q1258 1538.71 1258 1531.6 Q1258 1524.47 1256.17 1520.93 Q1254.36 1517.37 1250.73 1517.37 M1250.73 1513.66 Q1256.54 1513.66 1259.6 1518.27 Q1262.67 1522.85 1262.67 1531.6 Q1262.67 1540.33 1259.6 1544.94 Q1256.54 1549.52 1250.73 1549.52 Q1244.92 1549.52 1241.84 1544.94 Q1238.79 1540.33 1238.79 1531.6 Q1238.79 1522.85 1241.84 1518.27 Q1244.92 1513.66 1250.73 1513.66 Z\" fill=\"#000000\" fill-rule=\"nonzero\" fill-opacity=\"1\" /><path clip-path=\"url(#clip040)\" d=\"M1270.89 1542.97 L1275.78 1542.97 L1275.78 1548.85 L1270.89 1548.85 L1270.89 1542.97 Z\" fill=\"#000000\" fill-rule=\"nonzero\" fill-opacity=\"1\" /><path clip-path=\"url(#clip040)\" d=\"M1295.96 1517.37 Q1292.35 1517.37 1290.52 1520.93 Q1288.72 1524.47 1288.72 1531.6 Q1288.72 1538.71 1290.52 1542.27 Q1292.35 1545.82 1295.96 1545.82 Q1299.6 1545.82 1301.4 1542.27 Q1303.23 1538.71 1303.23 1531.6 Q1303.23 1524.47 1301.4 1520.93 Q1299.6 1517.37 1295.96 1517.37 M1295.96 1513.66 Q1301.77 1513.66 1304.83 1518.27 Q1307.91 1522.85 1307.91 1531.6 Q1307.91 1540.33 1304.83 1544.94 Q1301.77 1549.52 1295.96 1549.52 Q1290.15 1549.52 1287.07 1544.94 Q1284.02 1540.33 1284.02 1531.6 Q1284.02 1522.85 1287.07 1518.27 Q1290.15 1513.66 1295.96 1513.66 Z\" fill=\"#000000\" fill-rule=\"nonzero\" fill-opacity=\"1\" /><path clip-path=\"url(#clip040)\" d=\"M1760.38 1517.37 Q1756.77 1517.37 1754.94 1520.93 Q1753.14 1524.47 1753.14 1531.6 Q1753.14 1538.71 1754.94 1542.27 Q1756.77 1545.82 1760.38 1545.82 Q1764.02 1545.82 1765.82 1542.27 Q1767.65 1538.71 1767.65 1531.6 Q1767.65 1524.47 1765.82 1520.93 Q1764.02 1517.37 1760.38 1517.37 M1760.38 1513.66 Q1766.19 1513.66 1769.25 1518.27 Q1772.33 1522.85 1772.33 1531.6 Q1772.33 1540.33 1769.25 1544.94 Q1766.19 1549.52 1760.38 1549.52 Q1754.57 1549.52 1751.49 1544.94 Q1748.44 1540.33 1748.44 1531.6 Q1748.44 1522.85 1751.49 1518.27 Q1754.57 1513.66 1760.38 1513.66 Z\" fill=\"#000000\" fill-rule=\"nonzero\" fill-opacity=\"1\" /><path clip-path=\"url(#clip040)\" d=\"M1780.55 1542.97 L1785.43 1542.97 L1785.43 1548.85 L1780.55 1548.85 L1780.55 1542.97 Z\" fill=\"#000000\" fill-rule=\"nonzero\" fill-opacity=\"1\" /><path clip-path=\"url(#clip040)\" d=\"M1795.66 1514.29 L1814.02 1514.29 L1814.02 1518.22 L1799.94 1518.22 L1799.94 1526.7 Q1800.96 1526.35 1801.98 1526.19 Q1803 1526 1804.02 1526 Q1809.8 1526 1813.18 1529.17 Q1816.56 1532.34 1816.56 1537.76 Q1816.56 1543.34 1813.09 1546.44 Q1809.62 1549.52 1803.3 1549.52 Q1801.12 1549.52 1798.86 1549.15 Q1796.61 1548.78 1794.2 1548.04 L1794.2 1543.34 Q1796.29 1544.47 1798.51 1545.03 Q1800.73 1545.58 1803.21 1545.58 Q1807.21 1545.58 1809.55 1543.48 Q1811.89 1541.37 1811.89 1537.76 Q1811.89 1534.15 1809.55 1532.04 Q1807.21 1529.94 1803.21 1529.94 Q1801.33 1529.94 1799.46 1530.35 Q1797.61 1530.77 1795.66 1531.65 L1795.66 1514.29 Z\" fill=\"#000000\" fill-rule=\"nonzero\" fill-opacity=\"1\" /><path clip-path=\"url(#clip040)\" d=\"M2258.81 1544.91 L2266.45 1544.91 L2266.45 1518.55 L2258.14 1520.21 L2258.14 1515.95 L2266.4 1514.29 L2271.08 1514.29 L2271.08 1544.91 L2278.72 1544.91 L2278.72 1548.85 L2258.81 1548.85 L2258.81 1544.91 Z\" fill=\"#000000\" fill-rule=\"nonzero\" fill-opacity=\"1\" /><path clip-path=\"url(#clip040)\" d=\"M2288.16 1542.97 L2293.05 1542.97 L2293.05 1548.85 L2288.16 1548.85 L2288.16 1542.97 Z\" fill=\"#000000\" fill-rule=\"nonzero\" fill-opacity=\"1\" /><path clip-path=\"url(#clip040)\" d=\"M2313.23 1517.37 Q2309.62 1517.37 2307.79 1520.93 Q2305.99 1524.47 2305.99 1531.6 Q2305.99 1538.71 2307.79 1542.27 Q2309.62 1545.82 2313.23 1545.82 Q2316.87 1545.82 2318.67 1542.27 Q2320.5 1538.71 2320.5 1531.6 Q2320.5 1524.47 2318.67 1520.93 Q2316.87 1517.37 2313.23 1517.37 M2313.23 1513.66 Q2319.04 1513.66 2322.1 1518.27 Q2325.18 1522.85 2325.18 1531.6 Q2325.18 1540.33 2322.1 1544.94 Q2319.04 1549.52 2313.23 1549.52 Q2307.42 1549.52 2304.34 1544.94 Q2301.29 1540.33 2301.29 1531.6 Q2301.29 1522.85 2304.34 1518.27 Q2307.42 1513.66 2313.23 1513.66 Z\" fill=\"#000000\" fill-rule=\"nonzero\" fill-opacity=\"1\" /><polyline clip-path=\"url(#clip042)\" style=\"stroke:#000000; stroke-linecap:round; stroke-linejoin:round; stroke-width:2; stroke-opacity:0.1; fill:none\" points=\"193.936,1445.72 2352.76,1445.72 \"/>\n",
       "<polyline clip-path=\"url(#clip042)\" style=\"stroke:#000000; stroke-linecap:round; stroke-linejoin:round; stroke-width:2; stroke-opacity:0.1; fill:none\" points=\"193.936,1106.28 2352.76,1106.28 \"/>\n",
       "<polyline clip-path=\"url(#clip042)\" style=\"stroke:#000000; stroke-linecap:round; stroke-linejoin:round; stroke-width:2; stroke-opacity:0.1; fill:none\" points=\"193.936,766.846 2352.76,766.846 \"/>\n",
       "<polyline clip-path=\"url(#clip042)\" style=\"stroke:#000000; stroke-linecap:round; stroke-linejoin:round; stroke-width:2; stroke-opacity:0.1; fill:none\" points=\"193.936,427.411 2352.76,427.411 \"/>\n",
       "<polyline clip-path=\"url(#clip042)\" style=\"stroke:#000000; stroke-linecap:round; stroke-linejoin:round; stroke-width:2; stroke-opacity:0.1; fill:none\" points=\"193.936,87.9763 2352.76,87.9763 \"/>\n",
       "<polyline clip-path=\"url(#clip040)\" style=\"stroke:#000000; stroke-linecap:round; stroke-linejoin:round; stroke-width:4; stroke-opacity:1; fill:none\" points=\"193.936,1486.45 193.936,47.2441 \"/>\n",
       "<polyline clip-path=\"url(#clip040)\" style=\"stroke:#000000; stroke-linecap:round; stroke-linejoin:round; stroke-width:4; stroke-opacity:1; fill:none\" points=\"193.936,1445.72 212.834,1445.72 \"/>\n",
       "<polyline clip-path=\"url(#clip040)\" style=\"stroke:#000000; stroke-linecap:round; stroke-linejoin:round; stroke-width:4; stroke-opacity:1; fill:none\" points=\"193.936,1106.28 212.834,1106.28 \"/>\n",
       "<polyline clip-path=\"url(#clip040)\" style=\"stroke:#000000; stroke-linecap:round; stroke-linejoin:round; stroke-width:4; stroke-opacity:1; fill:none\" points=\"193.936,766.846 212.834,766.846 \"/>\n",
       "<polyline clip-path=\"url(#clip040)\" style=\"stroke:#000000; stroke-linecap:round; stroke-linejoin:round; stroke-width:4; stroke-opacity:1; fill:none\" points=\"193.936,427.411 212.834,427.411 \"/>\n",
       "<polyline clip-path=\"url(#clip040)\" style=\"stroke:#000000; stroke-linecap:round; stroke-linejoin:round; stroke-width:4; stroke-opacity:1; fill:none\" points=\"193.936,87.9763 212.834,87.9763 \"/>\n",
       "<path clip-path=\"url(#clip040)\" d=\"M50.9921 1446.17 L80.6679 1446.17 L80.6679 1450.1 L50.9921 1450.1 L50.9921 1446.17 Z\" fill=\"#000000\" fill-rule=\"nonzero\" fill-opacity=\"1\" /><path clip-path=\"url(#clip040)\" d=\"M91.5706 1459.06 L99.2095 1459.06 L99.2095 1432.69 L90.8993 1434.36 L90.8993 1430.1 L99.1632 1428.44 L103.839 1428.44 L103.839 1459.06 L111.478 1459.06 L111.478 1463 L91.5706 1463 L91.5706 1459.06 Z\" fill=\"#000000\" fill-rule=\"nonzero\" fill-opacity=\"1\" /><path clip-path=\"url(#clip040)\" d=\"M120.922 1457.12 L125.807 1457.12 L125.807 1463 L120.922 1463 L120.922 1457.12 Z\" fill=\"#000000\" fill-rule=\"nonzero\" fill-opacity=\"1\" /><path clip-path=\"url(#clip040)\" d=\"M145.992 1431.51 Q142.381 1431.51 140.552 1435.08 Q138.746 1438.62 138.746 1445.75 Q138.746 1452.86 140.552 1456.42 Q142.381 1459.96 145.992 1459.96 Q149.626 1459.96 151.431 1456.42 Q153.26 1452.86 153.26 1445.75 Q153.26 1438.62 151.431 1435.08 Q149.626 1431.51 145.992 1431.51 M145.992 1427.81 Q151.802 1427.81 154.857 1432.42 Q157.936 1437 157.936 1445.75 Q157.936 1454.48 154.857 1459.08 Q151.802 1463.67 145.992 1463.67 Q140.181 1463.67 137.103 1459.08 Q134.047 1454.48 134.047 1445.75 Q134.047 1437 137.103 1432.42 Q140.181 1427.81 145.992 1427.81 Z\" fill=\"#000000\" fill-rule=\"nonzero\" fill-opacity=\"1\" /><path clip-path=\"url(#clip040)\" d=\"M51.9875 1106.73 L81.6633 1106.73 L81.6633 1110.67 L51.9875 1110.67 L51.9875 1106.73 Z\" fill=\"#000000\" fill-rule=\"nonzero\" fill-opacity=\"1\" /><path clip-path=\"url(#clip040)\" d=\"M101.756 1092.08 Q98.1447 1092.08 96.316 1095.64 Q94.5104 1099.19 94.5104 1106.32 Q94.5104 1113.42 96.316 1116.99 Q98.1447 1120.53 101.756 1120.53 Q105.39 1120.53 107.196 1116.99 Q109.024 1113.42 109.024 1106.32 Q109.024 1099.19 107.196 1095.64 Q105.39 1092.08 101.756 1092.08 M101.756 1088.38 Q107.566 1088.38 110.621 1092.98 Q113.7 1097.57 113.7 1106.32 Q113.7 1115.04 110.621 1119.65 Q107.566 1124.23 101.756 1124.23 Q95.9456 1124.23 92.8669 1119.65 Q89.8114 1115.04 89.8114 1106.32 Q89.8114 1097.57 92.8669 1092.98 Q95.9456 1088.38 101.756 1088.38 Z\" fill=\"#000000\" fill-rule=\"nonzero\" fill-opacity=\"1\" /><path clip-path=\"url(#clip040)\" d=\"M121.918 1117.68 L126.802 1117.68 L126.802 1123.56 L121.918 1123.56 L121.918 1117.68 Z\" fill=\"#000000\" fill-rule=\"nonzero\" fill-opacity=\"1\" /><path clip-path=\"url(#clip040)\" d=\"M137.033 1089 L155.39 1089 L155.39 1092.94 L141.316 1092.94 L141.316 1101.41 Q142.334 1101.06 143.353 1100.9 Q144.371 1100.71 145.39 1100.71 Q151.177 1100.71 154.556 1103.89 Q157.936 1107.06 157.936 1112.47 Q157.936 1118.05 154.464 1121.15 Q150.992 1124.23 144.672 1124.23 Q142.496 1124.23 140.228 1123.86 Q137.982 1123.49 135.575 1122.75 L135.575 1118.05 Q137.658 1119.19 139.881 1119.74 Q142.103 1120.3 144.58 1120.3 Q148.584 1120.3 150.922 1118.19 Q153.26 1116.08 153.26 1112.47 Q153.26 1108.86 150.922 1106.76 Q148.584 1104.65 144.58 1104.65 Q142.705 1104.65 140.83 1105.07 Q138.978 1105.48 137.033 1106.36 L137.033 1089 Z\" fill=\"#000000\" fill-rule=\"nonzero\" fill-opacity=\"1\" /><path clip-path=\"url(#clip040)\" d=\"M100.76 752.645 Q97.1493 752.645 95.3206 756.209 Q93.515 759.751 93.515 766.881 Q93.515 773.987 95.3206 777.552 Q97.1493 781.094 100.76 781.094 Q104.395 781.094 106.2 777.552 Q108.029 773.987 108.029 766.881 Q108.029 759.751 106.2 756.209 Q104.395 752.645 100.76 752.645 M100.76 748.941 Q106.571 748.941 109.626 753.547 Q112.705 758.131 112.705 766.881 Q112.705 775.608 109.626 780.214 Q106.571 784.797 100.76 784.797 Q94.9502 784.797 91.8715 780.214 Q88.816 775.608 88.816 766.881 Q88.816 758.131 91.8715 753.547 Q94.9502 748.941 100.76 748.941 Z\" fill=\"#000000\" fill-rule=\"nonzero\" fill-opacity=\"1\" /><path clip-path=\"url(#clip040)\" d=\"M120.922 778.246 L125.807 778.246 L125.807 784.126 L120.922 784.126 L120.922 778.246 Z\" fill=\"#000000\" fill-rule=\"nonzero\" fill-opacity=\"1\" /><path clip-path=\"url(#clip040)\" d=\"M145.992 752.645 Q142.381 752.645 140.552 756.209 Q138.746 759.751 138.746 766.881 Q138.746 773.987 140.552 777.552 Q142.381 781.094 145.992 781.094 Q149.626 781.094 151.431 777.552 Q153.26 773.987 153.26 766.881 Q153.26 759.751 151.431 756.209 Q149.626 752.645 145.992 752.645 M145.992 748.941 Q151.802 748.941 154.857 753.547 Q157.936 758.131 157.936 766.881 Q157.936 775.608 154.857 780.214 Q151.802 784.797 145.992 784.797 Q140.181 784.797 137.103 780.214 Q134.047 775.608 134.047 766.881 Q134.047 758.131 137.103 753.547 Q140.181 748.941 145.992 748.941 Z\" fill=\"#000000\" fill-rule=\"nonzero\" fill-opacity=\"1\" /><path clip-path=\"url(#clip040)\" d=\"M101.756 413.21 Q98.1447 413.21 96.316 416.775 Q94.5104 420.316 94.5104 427.446 Q94.5104 434.552 96.316 438.117 Q98.1447 441.659 101.756 441.659 Q105.39 441.659 107.196 438.117 Q109.024 434.552 109.024 427.446 Q109.024 420.316 107.196 416.775 Q105.39 413.21 101.756 413.21 M101.756 409.506 Q107.566 409.506 110.621 414.113 Q113.7 418.696 113.7 427.446 Q113.7 436.173 110.621 440.779 Q107.566 445.362 101.756 445.362 Q95.9456 445.362 92.8669 440.779 Q89.8114 436.173 89.8114 427.446 Q89.8114 418.696 92.8669 414.113 Q95.9456 409.506 101.756 409.506 Z\" fill=\"#000000\" fill-rule=\"nonzero\" fill-opacity=\"1\" /><path clip-path=\"url(#clip040)\" d=\"M121.918 438.812 L126.802 438.812 L126.802 444.691 L121.918 444.691 L121.918 438.812 Z\" fill=\"#000000\" fill-rule=\"nonzero\" fill-opacity=\"1\" /><path clip-path=\"url(#clip040)\" d=\"M137.033 410.131 L155.39 410.131 L155.39 414.066 L141.316 414.066 L141.316 422.538 Q142.334 422.191 143.353 422.029 Q144.371 421.844 145.39 421.844 Q151.177 421.844 154.556 425.015 Q157.936 428.187 157.936 433.603 Q157.936 439.182 154.464 442.284 Q150.992 445.362 144.672 445.362 Q142.496 445.362 140.228 444.992 Q137.982 444.622 135.575 443.881 L135.575 439.182 Q137.658 440.316 139.881 440.872 Q142.103 441.427 144.58 441.427 Q148.584 441.427 150.922 439.321 Q153.26 437.214 153.26 433.603 Q153.26 429.992 150.922 427.886 Q148.584 425.779 144.58 425.779 Q142.705 425.779 140.83 426.196 Q138.978 426.613 137.033 427.492 L137.033 410.131 Z\" fill=\"#000000\" fill-rule=\"nonzero\" fill-opacity=\"1\" /><path clip-path=\"url(#clip040)\" d=\"M91.5706 101.321 L99.2095 101.321 L99.2095 74.9555 L90.8993 76.6222 L90.8993 72.3629 L99.1632 70.6963 L103.839 70.6963 L103.839 101.321 L111.478 101.321 L111.478 105.256 L91.5706 105.256 L91.5706 101.321 Z\" fill=\"#000000\" fill-rule=\"nonzero\" fill-opacity=\"1\" /><path clip-path=\"url(#clip040)\" d=\"M120.922 99.3767 L125.807 99.3767 L125.807 105.256 L120.922 105.256 L120.922 99.3767 Z\" fill=\"#000000\" fill-rule=\"nonzero\" fill-opacity=\"1\" /><path clip-path=\"url(#clip040)\" d=\"M145.992 73.775 Q142.381 73.775 140.552 77.3398 Q138.746 80.8814 138.746 88.011 Q138.746 95.1174 140.552 98.6822 Q142.381 102.224 145.992 102.224 Q149.626 102.224 151.431 98.6822 Q153.26 95.1174 153.26 88.011 Q153.26 80.8814 151.431 77.3398 Q149.626 73.775 145.992 73.775 M145.992 70.0713 Q151.802 70.0713 154.857 74.6777 Q157.936 79.261 157.936 88.011 Q157.936 96.7378 154.857 101.344 Q151.802 105.928 145.992 105.928 Q140.181 105.928 137.103 101.344 Q134.047 96.7378 134.047 88.011 Q134.047 79.261 137.103 74.6777 Q140.181 70.0713 145.992 70.0713 Z\" fill=\"#000000\" fill-rule=\"nonzero\" fill-opacity=\"1\" /><polyline clip-path=\"url(#clip042)\" style=\"stroke:#009af9; stroke-linecap:round; stroke-linejoin:round; stroke-width:4; stroke-opacity:1; fill:none\" points=\"255.035,766.846 261.664,780.73 268.294,794.609 298.945,858.53 329.596,921.632 360.247,983.351 390.898,1043.14 409.318,1077.91 427.737,1111.68 446.157,1144.34 464.577,1175.77 480.151,1201.33 495.725,1225.88 511.299,1249.37 526.872,1271.75 543.79,1294.73 560.707,1316.28 577.625,1336.34 594.542,1354.84 610.139,1370.48 625.735,1384.72 641.332,1397.53 656.928,1408.88 673.649,1419.4 690.37,1428.19 707.091,1435.21 723.812,1440.46 743.185,1444.29 762.558,1445.71 781.931,1444.7 801.304,1441.27 818.52,1436.2 835.737,1429.25 852.953,1420.42 870.17,1409.75 885.267,1398.9 900.364,1386.68 915.461,1373.12 930.558,1358.24 947.018,1340.56 963.478,1321.4 979.938,1300.81 996.398,1278.84 1012.96,1255.41 1029.51,1230.7 1046.07,1204.79 1062.63,1177.73 1080.94,1146.57 1099.24,1114.2 1117.55,1080.72 1135.86,1046.24 1170.69,978.262 1205.53,907.842 1277.98,757.15 1338.96,630.364 1376.19,555.056 1413.41,482.539 1430.46,450.518 1447.51,419.373 1464.57,389.189 1481.62,360.049 1497.36,334.135 1513.11,309.242 1528.86,285.428 1544.61,262.751 1560.56,240.993 1576.51,220.508 1592.46,201.346 1608.42,183.554 1626.29,165.294 1644.17,148.863 1662.05,134.312 1679.93,121.685 1696.13,111.936 1712.33,103.823 1728.53,97.3658 1744.73,92.5805 1763.28,89.1699 1781.83,87.9778 1800.37,89.0079 1818.92,92.257 1836.1,97.2347 1853.27,104.092 1870.44,112.809 1887.62,123.361 1904.55,135.533 1921.48,149.427 1938.41,165.005 1955.34,182.225 1971.78,200.471 1988.22,220.173 2004.66,241.281 2021.1,263.74 2037.95,288.106 2054.8,313.766 2071.66,340.651 2088.51,368.687 2106.97,400.636 2125.44,433.773 2143.9,467.99 2162.36,503.177 2216,609.836 2269.65,720.784 2280.65,743.802 2291.66,766.846 \"/>\n",
       "<circle clip-path=\"url(#clip042)\" cx=\"764.19\" cy=\"1445.72\" r=\"14.4\" fill=\"#e26f46\" fill-rule=\"evenodd\" fill-opacity=\"1\" stroke=\"#000000\" stroke-opacity=\"1\" stroke-width=\"3.2\"/>\n",
       "<circle clip-path=\"url(#clip042)\" cx=\"1782.5\" cy=\"87.9763\" r=\"14.4\" fill=\"#e26f46\" fill-rule=\"evenodd\" fill-opacity=\"1\" stroke=\"#000000\" stroke-opacity=\"1\" stroke-width=\"3.2\"/>\n",
       "<path clip-path=\"url(#clip040)\" d=\"M265.897 250.738 L534.209 250.738 L534.209 95.2176 L265.897 95.2176  Z\" fill=\"#ffffff\" fill-rule=\"evenodd\" fill-opacity=\"1\"/>\n",
       "<polyline clip-path=\"url(#clip040)\" style=\"stroke:#000000; stroke-linecap:round; stroke-linejoin:round; stroke-width:4; stroke-opacity:1; fill:none\" points=\"265.897,250.738 534.209,250.738 534.209,95.2176 265.897,95.2176 265.897,250.738 \"/>\n",
       "<polyline clip-path=\"url(#clip040)\" style=\"stroke:#009af9; stroke-linecap:round; stroke-linejoin:round; stroke-width:4; stroke-opacity:1; fill:none\" points=\"289.884,147.058 433.805,147.058 \"/>\n",
       "<path clip-path=\"url(#clip040)\" d=\"M471.634 166.745 Q469.829 171.375 468.116 172.787 Q466.403 174.199 463.532 174.199 L460.13 174.199 L460.13 170.634 L462.63 170.634 Q464.389 170.634 465.361 169.8 Q466.333 168.967 467.514 165.865 L468.278 163.921 L457.792 138.412 L462.306 138.412 L470.407 158.689 L478.509 138.412 L483.023 138.412 L471.634 166.745 Z\" fill=\"#000000\" fill-rule=\"nonzero\" fill-opacity=\"1\" /><path clip-path=\"url(#clip040)\" d=\"M490.315 160.402 L497.954 160.402 L497.954 134.037 L489.643 135.703 L489.643 131.444 L497.907 129.778 L502.583 129.778 L502.583 160.402 L510.222 160.402 L510.222 164.338 L490.315 164.338 L490.315 160.402 Z\" fill=\"#000000\" fill-rule=\"nonzero\" fill-opacity=\"1\" /><circle clip-path=\"url(#clip040)\" cx=\"361.844\" cy=\"198.898\" r=\"20.48\" fill=\"#e26f46\" fill-rule=\"evenodd\" fill-opacity=\"1\" stroke=\"#000000\" stroke-opacity=\"1\" stroke-width=\"4.55111\"/>\n",
       "<path clip-path=\"url(#clip040)\" d=\"M471.634 218.585 Q469.829 223.215 468.116 224.627 Q466.403 226.039 463.532 226.039 L460.13 226.039 L460.13 222.474 L462.63 222.474 Q464.389 222.474 465.361 221.64 Q466.333 220.807 467.514 217.705 L468.278 215.761 L457.792 190.252 L462.306 190.252 L470.407 210.529 L478.509 190.252 L483.023 190.252 L471.634 218.585 Z\" fill=\"#000000\" fill-rule=\"nonzero\" fill-opacity=\"1\" /><path clip-path=\"url(#clip040)\" d=\"M493.532 212.242 L509.852 212.242 L509.852 216.178 L487.907 216.178 L487.907 212.242 Q490.569 209.488 495.153 204.858 Q499.759 200.205 500.94 198.863 Q503.185 196.34 504.065 194.604 Q504.967 192.844 504.967 191.155 Q504.967 188.4 503.023 186.664 Q501.102 184.928 498 184.928 Q495.801 184.928 493.347 185.692 Q490.917 186.455 488.139 188.006 L488.139 183.284 Q490.963 182.15 493.417 181.571 Q495.87 180.993 497.907 180.993 Q503.278 180.993 506.472 183.678 Q509.666 186.363 509.666 190.854 Q509.666 192.983 508.856 194.905 Q508.069 196.803 505.963 199.395 Q505.384 200.067 502.282 203.284 Q499.18 206.479 493.532 212.242 Z\" fill=\"#000000\" fill-rule=\"nonzero\" fill-opacity=\"1\" /></svg>\n"
      ]
     },
     "execution_count": 7,
     "metadata": {},
     "output_type": "execute_result"
    }
   ],
   "source": [
    "f(x) = sinpi(x)\n",
    "a = cheb(f)\n",
    "ia = map(Interval,a)\n",
    "ib = chebdiff(ia)\n",
    "ix = cheb_root(ib)\n",
    "x = mid.(ix)\n",
    "plot(f,-1,1)\n",
    "scatter!(x,f.(x))"
   ]
  },
  {
   "cell_type": "code",
   "execution_count": 7,
   "id": "64b24a08-89cc-4894-9502-19647c5cd333",
   "metadata": {},
   "outputs": [
    {
     "data": {
      "image/svg+xml": [
       "<?xml version=\"1.0\" encoding=\"utf-8\"?>\n",
       "<svg xmlns=\"http://www.w3.org/2000/svg\" xmlns:xlink=\"http://www.w3.org/1999/xlink\" width=\"600\" height=\"400\" viewBox=\"0 0 2400 1600\">\n",
       "<defs>\n",
       "  <clipPath id=\"clip220\">\n",
       "    <rect x=\"0\" y=\"0\" width=\"2400\" height=\"1600\"/>\n",
       "  </clipPath>\n",
       "</defs>\n",
       "<path clip-path=\"url(#clip220)\" d=\"M0 1600 L2400 1600 L2400 0 L0 0  Z\" fill=\"#ffffff\" fill-rule=\"evenodd\" fill-opacity=\"1\"/>\n",
       "<defs>\n",
       "  <clipPath id=\"clip221\">\n",
       "    <rect x=\"480\" y=\"0\" width=\"1681\" height=\"1600\"/>\n",
       "  </clipPath>\n",
       "</defs>\n",
       "<path clip-path=\"url(#clip220)\" d=\"M147.108 1486.45 L2352.76 1486.45 L2352.76 47.2441 L147.108 47.2441  Z\" fill=\"#ffffff\" fill-rule=\"evenodd\" fill-opacity=\"1\"/>\n",
       "<defs>\n",
       "  <clipPath id=\"clip222\">\n",
       "    <rect x=\"147\" y=\"47\" width=\"2207\" height=\"1440\"/>\n",
       "  </clipPath>\n",
       "</defs>\n",
       "<polyline clip-path=\"url(#clip222)\" style=\"stroke:#000000; stroke-linecap:round; stroke-linejoin:round; stroke-width:2; stroke-opacity:0.1; fill:none\" points=\"209.532,1486.45 209.532,47.2441 \"/>\n",
       "<polyline clip-path=\"url(#clip222)\" style=\"stroke:#000000; stroke-linecap:round; stroke-linejoin:round; stroke-width:2; stroke-opacity:0.1; fill:none\" points=\"729.732,1486.45 729.732,47.2441 \"/>\n",
       "<polyline clip-path=\"url(#clip222)\" style=\"stroke:#000000; stroke-linecap:round; stroke-linejoin:round; stroke-width:2; stroke-opacity:0.1; fill:none\" points=\"1249.93,1486.45 1249.93,47.2441 \"/>\n",
       "<polyline clip-path=\"url(#clip222)\" style=\"stroke:#000000; stroke-linecap:round; stroke-linejoin:round; stroke-width:2; stroke-opacity:0.1; fill:none\" points=\"1770.13,1486.45 1770.13,47.2441 \"/>\n",
       "<polyline clip-path=\"url(#clip222)\" style=\"stroke:#000000; stroke-linecap:round; stroke-linejoin:round; stroke-width:2; stroke-opacity:0.1; fill:none\" points=\"2290.33,1486.45 2290.33,47.2441 \"/>\n",
       "<polyline clip-path=\"url(#clip220)\" style=\"stroke:#000000; stroke-linecap:round; stroke-linejoin:round; stroke-width:4; stroke-opacity:1; fill:none\" points=\"147.108,1486.45 2352.76,1486.45 \"/>\n",
       "<polyline clip-path=\"url(#clip220)\" style=\"stroke:#000000; stroke-linecap:round; stroke-linejoin:round; stroke-width:4; stroke-opacity:1; fill:none\" points=\"209.532,1486.45 209.532,1467.55 \"/>\n",
       "<polyline clip-path=\"url(#clip220)\" style=\"stroke:#000000; stroke-linecap:round; stroke-linejoin:round; stroke-width:4; stroke-opacity:1; fill:none\" points=\"729.732,1486.45 729.732,1467.55 \"/>\n",
       "<polyline clip-path=\"url(#clip220)\" style=\"stroke:#000000; stroke-linecap:round; stroke-linejoin:round; stroke-width:4; stroke-opacity:1; fill:none\" points=\"1249.93,1486.45 1249.93,1467.55 \"/>\n",
       "<polyline clip-path=\"url(#clip220)\" style=\"stroke:#000000; stroke-linecap:round; stroke-linejoin:round; stroke-width:4; stroke-opacity:1; fill:none\" points=\"1770.13,1486.45 1770.13,1467.55 \"/>\n",
       "<polyline clip-path=\"url(#clip220)\" style=\"stroke:#000000; stroke-linecap:round; stroke-linejoin:round; stroke-width:4; stroke-opacity:1; fill:none\" points=\"2290.33,1486.45 2290.33,1467.55 \"/>\n",
       "<path clip-path=\"url(#clip220)\" d=\"M156.06 1532.02 L185.735 1532.02 L185.735 1535.95 L156.06 1535.95 L156.06 1532.02 Z\" fill=\"#000000\" fill-rule=\"nonzero\" fill-opacity=\"1\" /><path clip-path=\"url(#clip220)\" d=\"M196.638 1544.91 L204.277 1544.91 L204.277 1518.55 L195.967 1520.21 L195.967 1515.95 L204.231 1514.29 L208.907 1514.29 L208.907 1544.91 L216.545 1544.91 L216.545 1548.85 L196.638 1548.85 L196.638 1544.91 Z\" fill=\"#000000\" fill-rule=\"nonzero\" fill-opacity=\"1\" /><path clip-path=\"url(#clip220)\" d=\"M225.99 1542.97 L230.874 1542.97 L230.874 1548.85 L225.99 1548.85 L225.99 1542.97 Z\" fill=\"#000000\" fill-rule=\"nonzero\" fill-opacity=\"1\" /><path clip-path=\"url(#clip220)\" d=\"M251.059 1517.37 Q247.448 1517.37 245.619 1520.93 Q243.814 1524.47 243.814 1531.6 Q243.814 1538.71 245.619 1542.27 Q247.448 1545.82 251.059 1545.82 Q254.693 1545.82 256.499 1542.27 Q258.328 1538.71 258.328 1531.6 Q258.328 1524.47 256.499 1520.93 Q254.693 1517.37 251.059 1517.37 M251.059 1513.66 Q256.869 1513.66 259.925 1518.27 Q263.003 1522.85 263.003 1531.6 Q263.003 1540.33 259.925 1544.94 Q256.869 1549.52 251.059 1549.52 Q245.249 1549.52 242.17 1544.94 Q239.115 1540.33 239.115 1531.6 Q239.115 1522.85 242.17 1518.27 Q245.249 1513.66 251.059 1513.66 Z\" fill=\"#000000\" fill-rule=\"nonzero\" fill-opacity=\"1\" /><path clip-path=\"url(#clip220)\" d=\"M676.757 1532.02 L706.433 1532.02 L706.433 1535.95 L676.757 1535.95 L676.757 1532.02 Z\" fill=\"#000000\" fill-rule=\"nonzero\" fill-opacity=\"1\" /><path clip-path=\"url(#clip220)\" d=\"M726.526 1517.37 Q722.915 1517.37 721.086 1520.93 Q719.28 1524.47 719.28 1531.6 Q719.28 1538.71 721.086 1542.27 Q722.915 1545.82 726.526 1545.82 Q730.16 1545.82 731.965 1542.27 Q733.794 1538.71 733.794 1531.6 Q733.794 1524.47 731.965 1520.93 Q730.16 1517.37 726.526 1517.37 M726.526 1513.66 Q732.336 1513.66 735.391 1518.27 Q738.47 1522.85 738.47 1531.6 Q738.47 1540.33 735.391 1544.94 Q732.336 1549.52 726.526 1549.52 Q720.715 1549.52 717.637 1544.94 Q714.581 1540.33 714.581 1531.6 Q714.581 1522.85 717.637 1518.27 Q720.715 1513.66 726.526 1513.66 Z\" fill=\"#000000\" fill-rule=\"nonzero\" fill-opacity=\"1\" /><path clip-path=\"url(#clip220)\" d=\"M746.688 1542.97 L751.572 1542.97 L751.572 1548.85 L746.688 1548.85 L746.688 1542.97 Z\" fill=\"#000000\" fill-rule=\"nonzero\" fill-opacity=\"1\" /><path clip-path=\"url(#clip220)\" d=\"M761.803 1514.29 L780.16 1514.29 L780.16 1518.22 L766.086 1518.22 L766.086 1526.7 Q767.104 1526.35 768.123 1526.19 Q769.141 1526 770.16 1526 Q775.947 1526 779.326 1529.17 Q782.706 1532.34 782.706 1537.76 Q782.706 1543.34 779.234 1546.44 Q775.761 1549.52 769.442 1549.52 Q767.266 1549.52 764.998 1549.15 Q762.752 1548.78 760.345 1548.04 L760.345 1543.34 Q762.428 1544.47 764.65 1545.03 Q766.873 1545.58 769.349 1545.58 Q773.354 1545.58 775.692 1543.48 Q778.03 1541.37 778.03 1537.76 Q778.03 1534.15 775.692 1532.04 Q773.354 1529.94 769.349 1529.94 Q767.474 1529.94 765.6 1530.35 Q763.748 1530.77 761.803 1531.65 L761.803 1514.29 Z\" fill=\"#000000\" fill-rule=\"nonzero\" fill-opacity=\"1\" /><path clip-path=\"url(#clip220)\" d=\"M1227.32 1517.37 Q1223.71 1517.37 1221.88 1520.93 Q1220.07 1524.47 1220.07 1531.6 Q1220.07 1538.71 1221.88 1542.27 Q1223.71 1545.82 1227.32 1545.82 Q1230.95 1545.82 1232.76 1542.27 Q1234.58 1538.71 1234.58 1531.6 Q1234.58 1524.47 1232.76 1520.93 Q1230.95 1517.37 1227.32 1517.37 M1227.32 1513.66 Q1233.13 1513.66 1236.18 1518.27 Q1239.26 1522.85 1239.26 1531.6 Q1239.26 1540.33 1236.18 1544.94 Q1233.13 1549.52 1227.32 1549.52 Q1221.51 1549.52 1218.43 1544.94 Q1215.37 1540.33 1215.37 1531.6 Q1215.37 1522.85 1218.43 1518.27 Q1221.51 1513.66 1227.32 1513.66 Z\" fill=\"#000000\" fill-rule=\"nonzero\" fill-opacity=\"1\" /><path clip-path=\"url(#clip220)\" d=\"M1247.48 1542.97 L1252.36 1542.97 L1252.36 1548.85 L1247.48 1548.85 L1247.48 1542.97 Z\" fill=\"#000000\" fill-rule=\"nonzero\" fill-opacity=\"1\" /><path clip-path=\"url(#clip220)\" d=\"M1272.55 1517.37 Q1268.94 1517.37 1267.11 1520.93 Q1265.3 1524.47 1265.3 1531.6 Q1265.3 1538.71 1267.11 1542.27 Q1268.94 1545.82 1272.55 1545.82 Q1276.18 1545.82 1277.99 1542.27 Q1279.82 1538.71 1279.82 1531.6 Q1279.82 1524.47 1277.99 1520.93 Q1276.18 1517.37 1272.55 1517.37 M1272.55 1513.66 Q1278.36 1513.66 1281.41 1518.27 Q1284.49 1522.85 1284.49 1531.6 Q1284.49 1540.33 1281.41 1544.94 Q1278.36 1549.52 1272.55 1549.52 Q1266.74 1549.52 1263.66 1544.94 Q1260.6 1540.33 1260.6 1531.6 Q1260.6 1522.85 1263.66 1518.27 Q1266.74 1513.66 1272.55 1513.66 Z\" fill=\"#000000\" fill-rule=\"nonzero\" fill-opacity=\"1\" /><path clip-path=\"url(#clip220)\" d=\"M1748.01 1517.37 Q1744.4 1517.37 1742.57 1520.93 Q1740.77 1524.47 1740.77 1531.6 Q1740.77 1538.71 1742.57 1542.27 Q1744.4 1545.82 1748.01 1545.82 Q1751.65 1545.82 1753.45 1542.27 Q1755.28 1538.71 1755.28 1531.6 Q1755.28 1524.47 1753.45 1520.93 Q1751.65 1517.37 1748.01 1517.37 M1748.01 1513.66 Q1753.82 1513.66 1756.88 1518.27 Q1759.96 1522.85 1759.96 1531.6 Q1759.96 1540.33 1756.88 1544.94 Q1753.82 1549.52 1748.01 1549.52 Q1742.2 1549.52 1739.13 1544.94 Q1736.07 1540.33 1736.07 1531.6 Q1736.07 1522.85 1739.13 1518.27 Q1742.2 1513.66 1748.01 1513.66 Z\" fill=\"#000000\" fill-rule=\"nonzero\" fill-opacity=\"1\" /><path clip-path=\"url(#clip220)\" d=\"M1768.18 1542.97 L1773.06 1542.97 L1773.06 1548.85 L1768.18 1548.85 L1768.18 1542.97 Z\" fill=\"#000000\" fill-rule=\"nonzero\" fill-opacity=\"1\" /><path clip-path=\"url(#clip220)\" d=\"M1783.29 1514.29 L1801.65 1514.29 L1801.65 1518.22 L1787.57 1518.22 L1787.57 1526.7 Q1788.59 1526.35 1789.61 1526.19 Q1790.63 1526 1791.65 1526 Q1797.43 1526 1800.81 1529.17 Q1804.19 1532.34 1804.19 1537.76 Q1804.19 1543.34 1800.72 1546.44 Q1797.25 1549.52 1790.93 1549.52 Q1788.75 1549.52 1786.49 1549.15 Q1784.24 1548.78 1781.83 1548.04 L1781.83 1543.34 Q1783.92 1544.47 1786.14 1545.03 Q1788.36 1545.58 1790.84 1545.58 Q1794.84 1545.58 1797.18 1543.48 Q1799.52 1541.37 1799.52 1537.76 Q1799.52 1534.15 1797.18 1532.04 Q1794.84 1529.94 1790.84 1529.94 Q1788.96 1529.94 1787.09 1530.35 Q1785.24 1530.77 1783.29 1531.65 L1783.29 1514.29 Z\" fill=\"#000000\" fill-rule=\"nonzero\" fill-opacity=\"1\" /><path clip-path=\"url(#clip220)\" d=\"M2257.48 1544.91 L2265.12 1544.91 L2265.12 1518.55 L2256.81 1520.21 L2256.81 1515.95 L2265.08 1514.29 L2269.75 1514.29 L2269.75 1544.91 L2277.39 1544.91 L2277.39 1548.85 L2257.48 1548.85 L2257.48 1544.91 Z\" fill=\"#000000\" fill-rule=\"nonzero\" fill-opacity=\"1\" /><path clip-path=\"url(#clip220)\" d=\"M2286.84 1542.97 L2291.72 1542.97 L2291.72 1548.85 L2286.84 1548.85 L2286.84 1542.97 Z\" fill=\"#000000\" fill-rule=\"nonzero\" fill-opacity=\"1\" /><path clip-path=\"url(#clip220)\" d=\"M2311.91 1517.37 Q2308.29 1517.37 2306.47 1520.93 Q2304.66 1524.47 2304.66 1531.6 Q2304.66 1538.71 2306.47 1542.27 Q2308.29 1545.82 2311.91 1545.82 Q2315.54 1545.82 2317.35 1542.27 Q2319.17 1538.71 2319.17 1531.6 Q2319.17 1524.47 2317.35 1520.93 Q2315.54 1517.37 2311.91 1517.37 M2311.91 1513.66 Q2317.72 1513.66 2320.77 1518.27 Q2323.85 1522.85 2323.85 1531.6 Q2323.85 1540.33 2320.77 1544.94 Q2317.72 1549.52 2311.91 1549.52 Q2306.1 1549.52 2303.02 1544.94 Q2299.96 1540.33 2299.96 1531.6 Q2299.96 1522.85 2303.02 1518.27 Q2306.1 1513.66 2311.91 1513.66 Z\" fill=\"#000000\" fill-rule=\"nonzero\" fill-opacity=\"1\" /><polyline clip-path=\"url(#clip222)\" style=\"stroke:#000000; stroke-linecap:round; stroke-linejoin:round; stroke-width:2; stroke-opacity:0.1; fill:none\" points=\"147.108,1431.12 2352.76,1431.12 \"/>\n",
       "<polyline clip-path=\"url(#clip222)\" style=\"stroke:#000000; stroke-linecap:round; stroke-linejoin:round; stroke-width:2; stroke-opacity:0.1; fill:none\" points=\"147.108,1041 2352.76,1041 \"/>\n",
       "<polyline clip-path=\"url(#clip222)\" style=\"stroke:#000000; stroke-linecap:round; stroke-linejoin:round; stroke-width:2; stroke-opacity:0.1; fill:none\" points=\"147.108,650.885 2352.76,650.885 \"/>\n",
       "<polyline clip-path=\"url(#clip222)\" style=\"stroke:#000000; stroke-linecap:round; stroke-linejoin:round; stroke-width:2; stroke-opacity:0.1; fill:none\" points=\"147.108,260.766 2352.76,260.766 \"/>\n",
       "<polyline clip-path=\"url(#clip220)\" style=\"stroke:#000000; stroke-linecap:round; stroke-linejoin:round; stroke-width:4; stroke-opacity:1; fill:none\" points=\"147.108,1486.45 147.108,47.2441 \"/>\n",
       "<polyline clip-path=\"url(#clip220)\" style=\"stroke:#000000; stroke-linecap:round; stroke-linejoin:round; stroke-width:4; stroke-opacity:1; fill:none\" points=\"147.108,1431.12 166.005,1431.12 \"/>\n",
       "<polyline clip-path=\"url(#clip220)\" style=\"stroke:#000000; stroke-linecap:round; stroke-linejoin:round; stroke-width:4; stroke-opacity:1; fill:none\" points=\"147.108,1041 166.005,1041 \"/>\n",
       "<polyline clip-path=\"url(#clip220)\" style=\"stroke:#000000; stroke-linecap:round; stroke-linejoin:round; stroke-width:4; stroke-opacity:1; fill:none\" points=\"147.108,650.885 166.005,650.885 \"/>\n",
       "<polyline clip-path=\"url(#clip220)\" style=\"stroke:#000000; stroke-linecap:round; stroke-linejoin:round; stroke-width:4; stroke-opacity:1; fill:none\" points=\"147.108,260.766 166.005,260.766 \"/>\n",
       "<path clip-path=\"url(#clip220)\" d=\"M50.9921 1431.57 L80.6679 1431.57 L80.6679 1435.51 L50.9921 1435.51 L50.9921 1431.57 Z\" fill=\"#000000\" fill-rule=\"nonzero\" fill-opacity=\"1\" /><path clip-path=\"url(#clip220)\" d=\"M94.7882 1444.47 L111.108 1444.47 L111.108 1448.4 L89.1632 1448.4 L89.1632 1444.47 Q91.8252 1441.71 96.4085 1437.08 Q101.015 1432.43 102.196 1431.09 Q104.441 1428.56 105.321 1426.83 Q106.223 1425.07 106.223 1423.38 Q106.223 1420.62 104.279 1418.89 Q102.358 1417.15 99.2558 1417.15 Q97.0567 1417.15 94.603 1417.92 Q92.1725 1418.68 89.3947 1420.23 L89.3947 1415.51 Q92.2188 1414.37 94.6724 1413.8 Q97.1261 1413.22 99.1632 1413.22 Q104.534 1413.22 107.728 1415.9 Q110.922 1418.59 110.922 1423.08 Q110.922 1425.21 110.112 1427.13 Q109.325 1429.03 107.219 1431.62 Q106.64 1432.29 103.538 1435.51 Q100.436 1438.7 94.7882 1444.47 Z\" fill=\"#000000\" fill-rule=\"nonzero\" fill-opacity=\"1\" /><path clip-path=\"url(#clip220)\" d=\"M99.1632 1026.8 Q95.5521 1026.8 93.7234 1030.37 Q91.9178 1033.91 91.9178 1041.04 Q91.9178 1048.14 93.7234 1051.71 Q95.5521 1055.25 99.1632 1055.25 Q102.797 1055.25 104.603 1051.71 Q106.432 1048.14 106.432 1041.04 Q106.432 1033.91 104.603 1030.37 Q102.797 1026.8 99.1632 1026.8 M99.1632 1023.1 Q104.973 1023.1 108.029 1027.7 Q111.108 1032.29 111.108 1041.04 Q111.108 1049.76 108.029 1054.37 Q104.973 1058.95 99.1632 1058.95 Q93.353 1058.95 90.2743 1054.37 Q87.2188 1049.76 87.2188 1041.04 Q87.2188 1032.29 90.2743 1027.7 Q93.353 1023.1 99.1632 1023.1 Z\" fill=\"#000000\" fill-rule=\"nonzero\" fill-opacity=\"1\" /><path clip-path=\"url(#clip220)\" d=\"M94.7882 664.229 L111.108 664.229 L111.108 668.165 L89.1632 668.165 L89.1632 664.229 Q91.8252 661.475 96.4085 656.845 Q101.015 652.192 102.196 650.85 Q104.441 648.327 105.321 646.591 Q106.223 644.831 106.223 643.142 Q106.223 640.387 104.279 638.651 Q102.358 636.915 99.2558 636.915 Q97.0567 636.915 94.603 637.679 Q92.1725 638.442 89.3947 639.993 L89.3947 635.271 Q92.2188 634.137 94.6724 633.558 Q97.1261 632.98 99.1632 632.98 Q104.534 632.98 107.728 635.665 Q110.922 638.35 110.922 642.841 Q110.922 644.97 110.112 646.891 Q109.325 648.79 107.219 651.382 Q106.64 652.054 103.538 655.271 Q100.436 658.466 94.7882 664.229 Z\" fill=\"#000000\" fill-rule=\"nonzero\" fill-opacity=\"1\" /><path clip-path=\"url(#clip220)\" d=\"M101.524 247.56 L89.7188 266.009 L101.524 266.009 L101.524 247.56 M100.297 243.486 L106.177 243.486 L106.177 266.009 L111.108 266.009 L111.108 269.898 L106.177 269.898 L106.177 278.046 L101.524 278.046 L101.524 269.898 L85.9225 269.898 L85.9225 265.384 L100.297 243.486 Z\" fill=\"#000000\" fill-rule=\"nonzero\" fill-opacity=\"1\" /><polyline clip-path=\"url(#clip222)\" style=\"stroke:#009af9; stroke-linecap:round; stroke-linejoin:round; stroke-width:4; stroke-opacity:1; fill:none\" points=\"209.532,1236.06 212.918,1244.06 216.305,1252.27 219.692,1260.65 223.079,1269.2 238.737,1309.86 254.394,1350.2 262.223,1369.23 270.052,1386.96 277.881,1402.99 285.71,1416.95 289.625,1423.04 293.539,1428.48 297.454,1433.24 301.368,1437.28 309.197,1443.06 317.026,1445.61 320.94,1445.61 324.855,1444.75 328.769,1443.01 332.684,1440.39 336.598,1436.87 340.513,1432.47 344.427,1427.18 348.342,1421.01 353.046,1412.46 357.751,1402.69 362.456,1391.73 367.161,1379.64 371.866,1366.47 376.571,1352.27 381.276,1337.12 385.981,1321.09 395.39,1286.71 404.8,1249.84 414.21,1211.26 423.619,1171.79 439.531,1105.45 455.443,1043.16 463.398,1014.78 471.354,988.828 479.31,965.72 487.266,945.805 491.587,936.436 495.908,928.139 500.229,920.95 504.55,914.9 508.871,910.011 513.193,906.304 517.514,903.79 521.835,902.477 526.156,902.367 530.477,903.455 534.798,905.73 539.119,909.176 543.44,913.772 547.761,919.492 552.083,926.303 556.404,934.167 564.371,951.286 572.338,971.537 580.306,994.571 588.273,1020 604.208,1076.29 620.143,1136.73 637.226,1201.74 654.31,1262.44 662.852,1289.82 671.394,1314.57 675.665,1325.83 679.936,1336.28 684.207,1345.88 688.478,1354.59 693.426,1363.52 698.374,1371.17 703.323,1377.48 708.271,1382.44 713.219,1386.01 718.167,1388.18 723.116,1388.94 728.064,1388.3 733.012,1386.26 737.961,1382.84 742.909,1378.06 747.857,1371.96 752.805,1364.57 757.754,1355.95 762.702,1346.13 767.65,1335.19 776.445,1313.17 785.24,1288.19 794.035,1260.7 802.83,1231.2 820.42,1168.22 838.01,1103.51 845.722,1075.7 853.434,1048.73 861.147,1022.94 868.859,998.628 876.571,976.091 884.284,955.589 891.996,937.353 899.709,921.582 908.117,907.39 916.526,896.487 920.73,892.305 924.934,888.983 929.138,886.526 933.343,884.936 941.751,884.347 950.16,887.165 958.568,893.286 966.977,902.556 975.435,914.854 983.894,929.887 992.352,947.365 1000.81,966.964 1017.73,1011.08 1034.64,1059.14 1053.35,1112.92 1072.05,1163.11 1081.4,1185.56 1090.76,1205.64 1100.11,1222.93 1109.46,1237.08 1118.36,1247.36 1127.26,1254.35 1131.71,1256.56 1136.16,1257.91 1140.6,1258.37 1145.05,1257.96 1149.5,1256.66 1153.95,1254.48 1158.4,1251.43 1162.85,1247.53 1171.75,1237.2 1180.65,1223.66 1189.9,1206.4 1199.15,1186.21 1208.4,1163.44 1217.65,1138.49 1236.16,1083.87 1254.66,1026.2 1270.24,978.3 1285.81,933.558 1293.6,913.083 1301.39,894.221 1309.18,877.208 1316.97,862.257 1321.72,854.224 1326.48,847.066 1331.23,840.816 1335.98,835.502 1340.74,831.147 1345.49,827.772 1350.25,825.389 1355,824.009 1359.76,823.636 1364.51,824.269 1369.26,825.904 1374.02,828.529 1378.77,832.13 1383.53,836.687 1388.28,842.174 1393.04,848.563 1401.75,862.49 1410.46,879.08 1419.17,898.04 1427.88,919.038 1445.3,965.646 1462.72,1015.64 1478.81,1061.75 1494.9,1104.91 1502.94,1124.52 1510.99,1142.4 1519.03,1158.25 1527.08,1171.8 1531.15,1177.71 1535.23,1182.94 1539.3,1187.47 1543.38,1191.27 1551.52,1196.6 1559.67,1198.82 1567.82,1197.82 1575.97,1193.57 1584.12,1186.06 1592.27,1175.35 1596.84,1167.98 1601.4,1159.66 1605.97,1150.42 1610.54,1140.27 1615.1,1129.27 1619.67,1117.46 1624.24,1104.87 1628.8,1091.55 1637.93,1062.96 1647.07,1032.13 1656.2,999.574 1665.33,965.82 1681.88,903.469 1698.44,842.631 1706.71,813.9 1714.99,786.876 1723.26,761.978 1731.54,739.599 1736.28,728.064 1741.01,717.538 1745.75,708.079 1750.49,699.744 1755.23,692.581 1759.97,686.636 1764.7,681.949 1769.44,678.554 1774.18,676.479 1778.92,675.747 1783.65,676.375 1788.39,678.372 1793.13,681.742 1797.87,686.484 1802.6,692.587 1807.34,700.037 1811.73,708.115 1816.11,717.306 1820.5,727.582 1824.89,738.91 1829.27,751.254 1833.66,764.572 1838.05,778.819 1842.43,793.944 1851.21,826.605 1859.98,862.071 1868.75,899.799 1877.53,939.192 1894.83,1019.22 1912.13,1097.92 1920.77,1135.04 1929.42,1169.74 1933.75,1185.97 1938.07,1201.34 1942.4,1215.78 1946.72,1229.19 1950.92,1241.16 1955.12,1252.04 1959.32,1261.74 1963.52,1270.22 1967.72,1277.41 1971.92,1283.25 1976.12,1287.7 1980.31,1290.71 1984.51,1292.22 1988.71,1292.22 1992.91,1290.65 1997.11,1287.49 2001.31,1282.71 2005.51,1276.31 2009.71,1268.25 2013.91,1258.54 2018.21,1246.86 2022.51,1233.44 2026.82,1218.29 2031.12,1201.43 2035.43,1182.88 2039.73,1162.67 2044.04,1140.83 2048.34,1117.42 2052.65,1092.47 2056.95,1066.06 2061.25,1038.24 2065.56,1009.09 2069.86,978.685 2074.17,947.107 2078.47,914.448 2082.78,880.808 2092.21,804.177 2101.64,724.535 2111.07,643.204 2120.5,561.624 2129.94,481.335 2139.37,403.96 2144.08,366.89 2148.8,331.186 2153.52,297.064 2158.23,264.744 2161.66,242.523 2165.08,221.452 2168.51,201.615 2171.93,183.094 2175.36,165.973 2178.78,150.333 2182.21,136.256 2185.64,123.821 2189.06,113.106 2192.49,104.189 2195.91,97.1453 2199.34,92.0482 2202.76,88.9692 2206.19,87.9776 2209.61,89.14 2213.04,92.5206 2216.46,98.1806 2219.89,106.178 2223.31,116.569 2226.74,129.403 2230.17,144.729 2233.59,162.591 2237.02,183.029 2240.44,206.078 2243.87,231.769 2247.29,260.128 2250.72,291.177 2254.14,324.932 2257.57,361.404 2260.99,400.597 2264.42,442.512 2267.84,487.141 2270.66,525.782 2273.47,566.233 2276.28,608.479 2279.09,652.503 2281.9,698.287 2284.71,745.806 2287.52,795.035 2290.33,845.944 \"/>\n",
       "<circle clip-path=\"url(#clip222)\" cx=\"319.015\" cy=\"1445.72\" r=\"14.4\" fill=\"#e26f46\" fill-rule=\"evenodd\" fill-opacity=\"1\" stroke=\"#000000\" stroke-opacity=\"1\" stroke-width=\"3.2\"/>\n",
       "<circle clip-path=\"url(#clip222)\" cx=\"524.391\" cy=\"902.267\" r=\"14.4\" fill=\"#e26f46\" fill-rule=\"evenodd\" fill-opacity=\"1\" stroke=\"#000000\" stroke-opacity=\"1\" stroke-width=\"3.2\"/>\n",
       "<circle clip-path=\"url(#clip222)\" cx=\"723.325\" cy=\"1388.94\" r=\"14.4\" fill=\"#e26f46\" fill-rule=\"evenodd\" fill-opacity=\"1\" stroke=\"#000000\" stroke-opacity=\"1\" stroke-width=\"3.2\"/>\n",
       "<circle clip-path=\"url(#clip222)\" cx=\"938.981\" cy=\"884.161\" r=\"14.4\" fill=\"#e26f46\" fill-rule=\"evenodd\" fill-opacity=\"1\" stroke=\"#000000\" stroke-opacity=\"1\" stroke-width=\"3.2\"/>\n",
       "<circle clip-path=\"url(#clip222)\" cx=\"1140.73\" cy=\"1258.37\" r=\"14.4\" fill=\"#e26f46\" fill-rule=\"evenodd\" fill-opacity=\"1\" stroke=\"#000000\" stroke-opacity=\"1\" stroke-width=\"3.2\"/>\n",
       "<circle clip-path=\"url(#clip222)\" cx=\"1359.14\" cy=\"823.627\" r=\"14.4\" fill=\"#e26f46\" fill-rule=\"evenodd\" fill-opacity=\"1\" stroke=\"#000000\" stroke-opacity=\"1\" stroke-width=\"3.2\"/>\n",
       "<circle clip-path=\"url(#clip222)\" cx=\"1561.24\" cy=\"1198.88\" r=\"14.4\" fill=\"#e26f46\" fill-rule=\"evenodd\" fill-opacity=\"1\" stroke=\"#000000\" stroke-opacity=\"1\" stroke-width=\"3.2\"/>\n",
       "<circle clip-path=\"url(#clip222)\" cx=\"1779.11\" cy=\"675.746\" r=\"14.4\" fill=\"#e26f46\" fill-rule=\"evenodd\" fill-opacity=\"1\" stroke=\"#000000\" stroke-opacity=\"1\" stroke-width=\"3.2\"/>\n",
       "<circle clip-path=\"url(#clip222)\" cx=\"1986.59\" cy=\"1292.41\" r=\"14.4\" fill=\"#e26f46\" fill-rule=\"evenodd\" fill-opacity=\"1\" stroke=\"#000000\" stroke-opacity=\"1\" stroke-width=\"3.2\"/>\n",
       "<circle clip-path=\"url(#clip222)\" cx=\"2206.07\" cy=\"87.9763\" r=\"14.4\" fill=\"#e26f46\" fill-rule=\"evenodd\" fill-opacity=\"1\" stroke=\"#000000\" stroke-opacity=\"1\" stroke-width=\"3.2\"/>\n",
       "<path clip-path=\"url(#clip220)\" d=\"M220.629 250.738 L493.624 250.738 L493.624 95.2176 L220.629 95.2176  Z\" fill=\"#ffffff\" fill-rule=\"evenodd\" fill-opacity=\"1\"/>\n",
       "<polyline clip-path=\"url(#clip220)\" style=\"stroke:#000000; stroke-linecap:round; stroke-linejoin:round; stroke-width:4; stroke-opacity:1; fill:none\" points=\"220.629,250.738 493.624,250.738 493.624,95.2176 220.629,95.2176 220.629,250.738 \"/>\n",
       "<polyline clip-path=\"url(#clip220)\" style=\"stroke:#009af9; stroke-linecap:round; stroke-linejoin:round; stroke-width:4; stroke-opacity:1; fill:none\" points=\"245.136,147.058 392.18,147.058 \"/>\n",
       "<path clip-path=\"url(#clip220)\" d=\"M430.529 166.745 Q428.724 171.375 427.011 172.787 Q425.298 174.199 422.427 174.199 L419.025 174.199 L419.025 170.634 L421.525 170.634 Q423.284 170.634 424.256 169.8 Q425.228 168.967 426.409 165.865 L427.173 163.921 L416.687 138.412 L421.201 138.412 L429.302 158.689 L437.404 138.412 L441.918 138.412 L430.529 166.745 Z\" fill=\"#000000\" fill-rule=\"nonzero\" fill-opacity=\"1\" /><path clip-path=\"url(#clip220)\" d=\"M449.21 160.402 L456.849 160.402 L456.849 134.037 L448.538 135.703 L448.538 131.444 L456.802 129.778 L461.478 129.778 L461.478 160.402 L469.117 160.402 L469.117 164.338 L449.21 164.338 L449.21 160.402 Z\" fill=\"#000000\" fill-rule=\"nonzero\" fill-opacity=\"1\" /><circle clip-path=\"url(#clip220)\" cx=\"318.658\" cy=\"198.898\" r=\"23.04\" fill=\"#e26f46\" fill-rule=\"evenodd\" fill-opacity=\"1\" stroke=\"#000000\" stroke-opacity=\"1\" stroke-width=\"5.12\"/>\n",
       "<path clip-path=\"url(#clip220)\" d=\"M430.529 218.585 Q428.724 223.215 427.011 224.627 Q425.298 226.039 422.427 226.039 L419.025 226.039 L419.025 222.474 L421.525 222.474 Q423.284 222.474 424.256 221.64 Q425.228 220.807 426.409 217.705 L427.173 215.761 L416.687 190.252 L421.201 190.252 L429.302 210.529 L437.404 190.252 L441.918 190.252 L430.529 218.585 Z\" fill=\"#000000\" fill-rule=\"nonzero\" fill-opacity=\"1\" /><path clip-path=\"url(#clip220)\" d=\"M452.427 212.242 L468.747 212.242 L468.747 216.178 L446.802 216.178 L446.802 212.242 Q449.464 209.488 454.048 204.858 Q458.654 200.205 459.835 198.863 Q462.08 196.34 462.96 194.604 Q463.862 192.844 463.862 191.155 Q463.862 188.4 461.918 186.664 Q459.997 184.928 456.895 184.928 Q454.696 184.928 452.242 185.692 Q449.812 186.455 447.034 188.006 L447.034 183.284 Q449.858 182.15 452.312 181.571 Q454.765 180.993 456.802 180.993 Q462.173 180.993 465.367 183.678 Q468.562 186.363 468.562 190.854 Q468.562 192.983 467.751 194.905 Q466.964 196.803 464.858 199.395 Q464.279 200.067 461.177 203.284 Q458.075 206.479 452.427 212.242 Z\" fill=\"#000000\" fill-rule=\"nonzero\" fill-opacity=\"1\" /></svg>\n"
      ]
     },
     "execution_count": 7,
     "metadata": {},
     "output_type": "execute_result"
    }
   ],
   "source": [
    "using SpecialFunctions\n",
    "f(x) = exp(erf(x^2)+x^5)*sinpi(5x) + x\n",
    "a = cheb(f)\n",
    "ia = map(Interval,a)\n",
    "ib = chebdiff(ia)\n",
    "ix = cheb_root(ib)\n",
    "x = mid.(ix)\n",
    "plot(f,-1,1)\n",
    "scatter!(x,f.(x))"
   ]
  },
  {
   "cell_type": "markdown",
   "id": "57e0e08a-c203-49d9-be96-e881d467c5ca",
   "metadata": {},
   "source": [
    "### 4.端点の値を計算する。"
   ]
  },
  {
   "cell_type": "markdown",
   "id": "702341f1-e566-49ae-b7d8-4282b72d0eef",
   "metadata": {},
   "source": [
    "### 5.端点の値と極大値・極小値を比較し最大値、最小値を求める。"
   ]
  }
 ],
 "metadata": {
  "kernelspec": {
   "display_name": "Julia 1.9.4",
   "language": "julia",
   "name": "julia-1.9"
  },
  "language_info": {
   "file_extension": ".jl",
   "mimetype": "application/julia",
   "name": "julia",
   "version": "1.9.4"
  }
 },
 "nbformat": 4,
 "nbformat_minor": 5
}
