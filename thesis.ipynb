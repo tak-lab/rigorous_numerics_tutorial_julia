{
 "cells": [
  {
   "cell_type": "code",
   "execution_count": 1,
   "metadata": {},
   "outputs": [
    {
     "data": {
      "text/plain": [
       "Df (generic function with 1 method)"
      ]
     },
     "execution_count": 1,
     "metadata": {},
     "output_type": "execute_result"
    }
   ],
   "source": [
    "using LinearAlgebra, IntervalArithmetic, ForwardDiff\n",
    "\n",
    "# 候補区間Xを定義\n",
    "X = [(-0.4.. -0.3),(-0.3.. -0.2),\n",
    "    (-0.3.. -0.2),(-0.2.. -0.1),\n",
    "    (-0.1.. -0.0),(-0.1.. -0.0),\n",
    "    (0.0..0.01),(2.0..3.0),\n",
    "    (2.0..3.0),(2.0..3.0)]\n",
    "\n",
    "# 計算対象となる方程式を定義\n",
    "g(x) = 2.5x^3-10.5x^2+11.8x\n",
    "\n",
    "f1(x1,x2,x3,x4,x5,x6,x7,x8,x9,x10) = g(x1)+x1+x2+x3+x4+x5+x6+x7+x8+x9+x10-1\n",
    "f2(x1, x2, x3, x4, x5, x6,x7,x8,x9,x10) = g(x2)+x1+x2+x3+x4+x5+x6+x7+x8+x9+x10-2\n",
    "f3(x1, x2, x3, x4, x5, x6,x7,x8,x9,x10) = g(x3)+x1+x2+x3+x4+x5+x6+x7+x8+x9+x10-3\n",
    "f4(x1, x2, x3, x4, x5, x6,x7,x8,x9,x10) = g(x4)+x1+x2+x3+x4+x5+x6+x7+x8+x9+x10-4\n",
    "f5(x1, x2, x3, x4, x5, x6,x7,x8,x9,x10) = g(x5)+x1+x2+x3+x4+x5+x6+x7+x8+x9+x10-5\n",
    "f6(x1, x2, x3, x4, x5, x6,x7,x8,x9,x10) = g(x6)+x1+x2+x3+x4+x5+x6+x7+x8+x9+x10-6\n",
    "f7(x1, x2, x3, x4, x5, x6,x7,x8,x9,x10) = g(x7)+x1+x2+x3+x4+x5+x6+x7+x8+x9+x10-7\n",
    "f8(x1, x2, x3, x4, x5, x6,x7,x8,x9,x10) = g(x8)+x1+x2+x3+x4+x5+x6+x7+x8+x9+x10-8\n",
    "f9(x1, x2, x3, x4, x5, x6,x7,x8,x9,x10) = g(x9)+x1+x2+x3+x4+x5+x6+x7+x8+x9+x10-9\n",
    "f10(x1, x2, x3, x4, x5, x6,x7,x8,x9,x10) = g(x10)+x1+x2+x3+x4+x5+x6+x7+x8+x9+x10-10\n",
    "\n",
    "F( (x1,x2,x3,x4,x5,x6,x7,x8,x9,x10) ) = [f1(x1,x2,x3,x4,x5,x6,x7,x8,x9,x10); f2(x1,x2,x3,x4,x5,x6,x7,x8,x9,x10);\n",
    "    f3(x1,x2,x3,x4,x5,x6,x7,x8,x9,x10);f4(x1,x2,x3,x4,x5,x6,x7,x8,x9,x10);\n",
    "    f5(x1,x2,x3,x4,x5,x6,x7,x8,x9,x10);f6(x1,x2,x3,x4,x5,x6,x7,x8,x9,x10);\n",
    "    f7(x1,x2,x3,x4,x5,x6,x7,x8,x9,x10);f8(x1,x2,x3,x4,x5,x6,x7,x8,x9,x10);\n",
    "    f9(x1,x2,x3,x4,x5,x6,x7,x8,x9,x10);f10(x1,x2,x3,x4,x5,x6,x7,x8,x9,x10);]\n",
    "\n",
    "Df((x1,x2,x3,x4,x5,x6,x7,x8,x9,x10) ) = [7.5x1^2-21x1^2+12.8 1 1 1 1 1 1 1 1 1;\n",
    "1 7.5x2^2-21x2^2+12.8 1 1 1 1 1 1 1 1;\n",
    "1 1 7.5x3^2-21x3^2+12.8 1 1 1 1 1 1 1;\n",
    "1 1 1 7.5x4^2-21x4^2+12.8 1 1 1 1 1 1;\n",
    "1 1 1 1 7.5x5^2-21x5^2+12.8 1 1 1 1 1;\n",
    "1 1 1 1 1 7.5x6^2-21x6^2+12.8 1 1 1 1;\n",
    "1 1 1 1 1 1 7.5x7^2-21x7^2+12.8 1 1 1;\n",
    "1 1 1 1 1 1 1 7.5x8^2-21x8^2+12.8 1 1;\n",
    "1 1 1 1 1 1 1 1 7.5x9^2-21x9^2+12.8 1;\n",
    "1 1 1 1 1 1 1 1 1 7.5x9^2-21x9^2+12.8;]"
   ]
  },
  {
   "cell_type": "code",
   "execution_count": 6,
   "metadata": {},
   "outputs": [
    {
     "data": {
      "text/plain": [
       "verifynlss_krawczyk (generic function with 1 method)"
      ]
     },
     "execution_count": 6,
     "metadata": {},
     "output_type": "execute_result"
    }
   ],
   "source": [
    "#ニュートン法で近似解を計算する\n",
    "function newton(F,x0)\n",
    "    #初期値を設定\n",
    "    tol = 5e-10; count = 0;\n",
    "    x = x0;\n",
    "    Fx = F(x);\n",
    "    println(\"Before iteration: $(norm(Fx,Inf))\")\n",
    "    #条件の範囲内で計算を回す\n",
    "    while maximum(abs.(Fx)) ≥ tol && count ≤ 20\n",
    "        DF = ForwardDiff.jacobian(F,x);\n",
    "        x -= DF\\Fx;\n",
    "        Fx = F(x);\n",
    "        println(\"After $(count) th iteration: $(norm(Fx,Inf))\")\n",
    "        count += 1;\n",
    "    end\n",
    "    return x\n",
    "end\n",
    "\n",
    "#クラフチック法を計算する\n",
    "function krawczyk(F,X)\n",
    "    iDF = ForwardDiff.jacobian(F,X);\n",
    "    c = mid.(X); ic = map(Interval,c);\n",
    "    DF = ForwardDiff.jacobian(F,c);\n",
    "    R = inv(DF);\n",
    "    M = Matrix{Float64}(I,size(R)) - R*iDF;\n",
    "    #クラフチック写像の値を返す\n",
    "    return c - R*F(ic) + M*(X - c)\n",
    "end\n",
    "\n",
    "#最終的に完成した関数\n",
    "function verifynlss_krawczyk(F,c)\n",
    "    DF = ForwardDiff.jacobian(F,c)\n",
    "    R = inv(DF)\n",
    "    r = abs.(R*F(c))\n",
    "    u = r .+ (sum(r)/length(r))\n",
    "    X = c .± u\n",
    "    K = krawczyk(F,X)\n",
    "    #範囲内に入っていたら、さらに範囲の精度をあげていく\n",
    "    if all(K .⊂ X)\n",
    "        tol = 5e-10\n",
    "        count = 0\n",
    "        while maximum(radius.(K)) >= tol && count ≤ 100\n",
    "            K = krawczyk(F,K)\n",
    "            count += 1\n",
    "            radius.(K)\n",
    "        end\n",
    "        success = 1\n",
    "        return success, K\n",
    "    end\n",
    "    println(\"Oh my way, verification is failed...return a improved approximate solution\") # cをNewton法で改善しても良い。\n",
    "    success = 0\n",
    "    return success, newton(F,c)\n",
    "end\n",
    "\n",
    "# success, X = verifynlss_krawczyk(F,[-0.33,-0.28,-0.22,-0.16,-0.09,-0.01,0.06,2.20,2.47,2.61])\n",
    "# if success == 0\n",
    "#     success, X = verifynlss_krawczyk(F,X)\n",
    "# end\n",
    "# success, X"
   ]
  },
  {
   "cell_type": "code",
   "execution_count": 7,
   "metadata": {},
   "outputs": [
    {
     "name": "stdout",
     "output_type": "stream",
     "text": [
      "Before iteration: 1.3424999999999994\n",
      "After 0 th iteration: 0.30886698543880975\n",
      "After 1 th iteration: 0.042872429654563504\n",
      "After 2 th iteration: 0.001538935163766908\n",
      "After 3 th iteration: 2.269030513701864e-6\n",
      "After 4 th iteration: 4.952482868247898e-12\n"
     ]
    },
    {
     "data": {
      "text/plain": [
       "10-element Array{Float64,1}:\n",
       " -0.3354530832297739\n",
       " -0.2828512314544382\n",
       " -0.2261366063545622\n",
       " -0.164364623112089\n",
       " -0.09617922680493231\n",
       " -0.019512906781618936\n",
       "  0.0690674406959464\n",
       "  2.202988195425023\n",
       "  2.4710752069830084\n",
       "  2.615635620753133"
      ]
     },
     "execution_count": 7,
     "metadata": {},
     "output_type": "execute_result"
    }
   ],
   "source": [
    "#近似解を計算\n",
    "t = newton(F,mid.(X))"
   ]
  },
  {
   "cell_type": "code",
   "execution_count": 8,
   "metadata": {},
   "outputs": [
    {
     "name": "stdout",
     "output_type": "stream",
     "text": [
      "  160.376 μs (2128 allocations: 95.38 KiB)\n"
     ]
    },
    {
     "data": {
      "text/plain": [
       "(1, Interval{Float64}[[-0.335454, -0.335453], [-0.282852, -0.282851], [-0.226137, -0.226136], [-0.164365, -0.164364], [-0.0961793, -0.0961792], [-0.019513, -0.0195129], [0.0690674, 0.0690675], [2.20298, 2.20299], [2.47107, 2.47108], [2.61563, 2.61564]])"
      ]
     },
     "execution_count": 8,
     "metadata": {},
     "output_type": "execute_result"
    }
   ],
   "source": [
    "using BenchmarkTools\n",
    "#クラフチックでの時間測定\n",
    "@btime verifynlss_krawczyk($F,$t)"
   ]
  },
  {
   "cell_type": "code",
   "execution_count": 9,
   "metadata": {},
   "outputs": [
    {
     "data": {
      "text/plain": [
       "verifylss_iAib (generic function with 1 method)"
      ]
     },
     "execution_count": 9,
     "metadata": {},
     "output_type": "execute_result"
    }
   ],
   "source": [
    "include(\"IntervalLinearAlgebra.jl\");\n",
    "\n",
    "#区間連立1次方程式を解く関数\n",
    "function verifylss_iAib(iA,ib) \n",
    "    A = mid.(iA)\n",
    "    b = mid.(ib)\n",
    "    x̄ = A\\b\n",
    "    n = length(x̄)\n",
    "    R = inv(A)\n",
    "    #########\n",
    "    G = Matrix{Float64}(I, n, n) - R*iA\n",
    "    α = opnorm(G,Inf)# Interval arithmetic\n",
    "    #########\n",
    "    if α < 1\n",
    "        x̄ = map(Interval,x̄)\n",
    "        r = iA*x̄ - ib # Interval arithmetic\n",
    "        Rr = R*r\n",
    "        err = abs.(Rr) + supremum(norm(Rr,Inf))/(1-α)*(abs.(G)*ones(n)) # Interval arithmetic\n",
    "    else\n",
    "        println(\"Oh my way, verification is failed...\")\n",
    "        err = nan\n",
    "    end\n",
    "    return x̄ .± supremum.(err)\n",
    "end"
   ]
  },
  {
   "cell_type": "code",
   "execution_count": 12,
   "metadata": {},
   "outputs": [
    {
     "data": {
      "text/plain": [
       "verifynlss_IntervalNewton (generic function with 1 method)"
      ]
     },
     "execution_count": 12,
     "metadata": {},
     "output_type": "execute_result"
    }
   ],
   "source": [
    "#ニュートン法を計算\n",
    "function newton(F,x0)\n",
    "    #初期値を設定\n",
    "    tol = 5e-10; count = 0;\n",
    "    x = x0;\n",
    "    Fx = F(x);\n",
    "    #条件によってニュートン法をまわす\n",
    "    while maximum(abs.(Fx)) ≥ tol && count ≤ 20\n",
    "        DF = ForwardDiff.jacobian(F,x);\n",
    "        x -= DF\\Fx;\n",
    "        Fx = F(x);\n",
    "        count += 1;\n",
    "    end\n",
    "    return x\n",
    "end\n",
    "\n",
    "#N(c,X)を計算する関数\n",
    "function IntervalNewton(F,X)\n",
    "    c = mid.(X);\n",
    "    ic = map(Interval,c);\n",
    "    M = ForwardDiff.jacobian(F,X);\n",
    "    b = F(ic);\n",
    "    #N(c,X)の値を返す\n",
    "#     return ic - verifylss_iAib(M,b)\n",
    "    return ic - M\\b\n",
    "end\n",
    "\n",
    "#最終的に構築した関数\n",
    "function verifynlss_IntervalNewton(F, c)\n",
    "    DF = ForwardDiff.jacobian(F,c);\n",
    "    R = inv(DF);\n",
    "    r = abs.(R*F(c));\n",
    "    u = r .+ (sum(r)/length(r));\n",
    "    X = c .± u;\n",
    "    K = IntervalNewton(F,X);\n",
    "    #範囲内に入っていたら、さらに解の精度をあげる\n",
    "    if all(K .⊂ X)\n",
    "        tol = 5e-10;\n",
    "        while maximum(radius.(K)) >= tol && count ≤ 100\n",
    "            K = IntervalNewton(F,K)\n",
    "        end\n",
    "        success = 1\n",
    "        return success, K\n",
    "    end\n",
    "    println(\"Oh my way, verification is failed...return a improved approximate solution\") \n",
    "    success = 0\n",
    "    return success, newton(F,c)\n",
    "end"
   ]
  },
  {
   "cell_type": "code",
   "execution_count": 13,
   "metadata": {},
   "outputs": [
    {
     "name": "stdout",
     "output_type": "stream",
     "text": [
      "  142.252 μs (2131 allocations: 87.70 KiB)\n"
     ]
    },
    {
     "data": {
      "text/plain": [
       "(1, Interval{Float64}[[-0.335454, -0.335453], [-0.282852, -0.282851], [-0.226137, -0.226136], [-0.164365, -0.164364], [-0.0961793, -0.0961792], [-0.019513, -0.0195129], [0.0690674, 0.0690675], [2.20298, 2.20299], [2.47107, 2.47108], [2.61563, 2.61564]])"
      ]
     },
     "execution_count": 13,
     "metadata": {},
     "output_type": "execute_result"
    }
   ],
   "source": [
    "#区間ニュートンでの時間測定\n",
    "@btime verifynlss_IntervalNewton($F,$t)"
   ]
  },
  {
   "cell_type": "markdown",
   "metadata": {},
   "source": [
    "- 平野晃, クラフチックの方法による非線形方程式の解の精度保証と高速化, 早稲田大学理工学部情報学科卒業論文, 2004 ([http://hdl.handle.net/2065/669](\thttp://hdl.handle.net/2065/669))."
   ]
  }
 ],
 "metadata": {
  "kernelspec": {
   "display_name": "Julia 1.5.0",
   "language": "julia",
   "name": "julia-1.5"
  },
  "language_info": {
   "file_extension": ".jl",
   "mimetype": "application/julia",
   "name": "julia",
   "version": "1.5.0"
  }
 },
 "nbformat": 4,
 "nbformat_minor": 4
}
