{
 "cells": [
  {
   "cell_type": "markdown",
   "metadata": {},
   "source": [
    "# 区間演算\n",
    "\n",
    "区間の表現，区間演算について述べる．精度保証付き数値計算の基本的な原理は，実数値で与えられる真の値の上限と下限を浮動小数点数により浮動小数点演算を用いて包み込むことである．\n",
    "\n",
    "$\\mathbb{R}$上の区間を\n",
    "$$\n",
    "\t\\boldsymbol{a}:=\\{x\\in\\mathbb{R}:\\underline{a}\\le x\\le\\overline{a},~\\underline{a}, \\overline{a}\\in\\mathbb{R}\\}=[\\underline{a}, \\overline{a}]\n",
    "$$\n",
    "\n",
    "と表し，区間の全体を$\\mathbb{IR}$とする．\n",
    "この時 $\\underline{a}$ を区間の下端，$\\overline{a}$ を区間の上端という．\n",
    "さらに区間の\n",
    "\n",
    "$$\n",
    "\\begin{array}{ll}\n",
    "\\mbox{直径（diameter）:}&\\mathrm{d}(\\boldsymbol{a})=\\overline{a}-\\underline{a}\\in\\mathbb{R}\\\\\n",
    "\\mbox{半径（radious）:}&\\mathrm{rad}(\\boldsymbol{a})=\\frac{\\overline{a}-\\underline{a}}{2}\\in\\mathbb{R}\\\\\n",
    "\\mbox{中点（center）:}&\\mathrm{mid}(\\boldsymbol{a})=\\frac{\\overline{a}+\\underline{a}}{2}\\in\\mathbb{R}\\\\\n",
    "\\mbox{最小絶対値:}&\\mathrm{mig}(\\boldsymbol{a})=\\min\\{|a|:a\\in\\boldsymbol{a}\\}\\in\\mathbb{R}\\\\\n",
    "\\mbox{最大絶対値:}&\\mathrm{mag}(\\boldsymbol{a})=\\max\\{|a|:a\\in\\boldsymbol{a}\\}\\in\\mathbb{R}\\\\\n",
    "\\end{array}\n",
    "$$\n",
    "\n",
    "をそれぞれ表すとする．\n",
    "\n",
    "Juliaで区間を扱うために[IntervalArithmetic.jl](https://github.com/JuliaIntervals/IntervalArithmetic.jl)パッケージを使う.\n",
    "IntervalArithmetic.jlパッケージを使うには``julia>``状態で`]`を入力すると, パッケージモードになる. そこで\n",
    "\n",
    "```julia:\n",
    "(v1.3) pkg> add IntervalArithmetic\n",
    "```\n",
    "\n",
    "と入力して, インストールする.\n",
    "あるいはREPLで\n",
    "\n",
    "```julia:\n",
    "using Pkg\n",
    "Pkg.add(\"IntervalArithmetic\")\n",
    "```\n",
    "\n",
    "としてもインストールされる.\n",
    "インストールが完了したら, \n",
    "\n",
    "```julia:\n",
    "using IntervalArithmetic\n",
    "```\n",
    "\n",
    "としてパッケージを呼び出す."
   ]
  },
  {
   "cell_type": "code",
   "execution_count": 1,
   "metadata": {},
   "outputs": [
    {
     "name": "stdout",
     "output_type": "stream",
     "text": [
      "[-2, 1]\n",
      "d(a) = 3.0\n",
      "rad(a) = 1.5\n",
      "mid(a) = -0.5\n",
      "mig(a) = 0.0\n",
      "mag(a) = 2.0\n"
     ]
    }
   ],
   "source": [
    "using IntervalArithmetic\n",
    "\n",
    "a = interval(-2, 1);\n",
    "# a = -2. .. 1.    # .. operator\n",
    "println(a)\n",
    "\n",
    "print(\"d(a) = \")\n",
    "println(diam(a))\n",
    "\n",
    "print(\"rad(a) = \")\n",
    "println(radius(a))\n",
    "\n",
    "print(\"mid(a) = \")\n",
    "println(mid(a))\n",
    "\n",
    "print(\"mig(a) = \")\n",
    "println(mig(a))\n",
    "\n",
    "print(\"mag(a) = \")\n",
    "println(mag(a))\n",
    "\n",
    "# @format midpoint 3\n",
    "# @format full\n",
    "# @format standard 10"
   ]
  },
  {
   "cell_type": "markdown",
   "metadata": {},
   "source": [
    "## 区間演算（上端下端型）\n",
    "\n",
    "区間$\\boldsymbol{X}=[a,b]$, $\\boldsymbol{Y}=[c,d]$に対して，四則演算を定義する：\n",
    "\n",
    "\\begin{align*}\n",
    "\t\\boldsymbol{X}+\\boldsymbol{Y}&=[a+c,b+d]\\\\\n",
    "\t\\boldsymbol{X}-\\boldsymbol{Y}&=[a-d,b-c]\\\\\n",
    "\t\\boldsymbol{X}\\times\\boldsymbol{Y}&=[\\min\\{ac,ad,bc,bd\\},\\max\\{ac,ad,bc,bd\\}]\\\\\n",
    "\t\\boldsymbol{X}\\div\\boldsymbol{Y}&=[\\min\\{a/c,a/d,b/c,b/d\\},\\max\\{a/c,a/d,b/c,b/d\\}]\n",
    "\\end{align*}\n",
    "\n",
    "$\\times,~\\div$は場合分けをする．\n",
    "\n",
    "||$c>0$|$0\\in\\boldsymbol{Y}$|$d<0$|\n",
    "|:-------------:|:-------------:|:-------------:|:-------------:|\n",
    "|$a>0$|$[ac,bd]$|$[bc,bd]$|$[bc,ad]$|\n",
    "|$0\\in\\boldsymbol{X}$|$[ad,bd]$|A|$[bc,ac]$|\n",
    "|$b<0$|$[ad,bc]$|$[ad,ad]$|$[bd,ac]$|\n",
    "\n",
    "ただし A$=[\\min\\{ad,bc\\},\\max\\{ad,bc\\}].$\n",
    "\n",
    "注：区間内全ての要素について演算を行うため無限回の計算が必要のように思えるが，これをまとめて実現するのが区間演算．さらに除算で割る区間$\\boldsymbol{Y}$に0が含まれる（$0\\in\\boldsymbol{Y}$）と演算結果は無限大を含むことになる．\n"
   ]
  },
  {
   "cell_type": "code",
   "execution_count": 2,
   "metadata": {},
   "outputs": [
    {
     "name": "stdout",
     "output_type": "stream",
     "text": [
      "[-1, 4]\n",
      "[-5, 0]\n",
      "[-6, 3]\n",
      "[-2, 1]\n",
      "[-∞, ∞]\n"
     ]
    }
   ],
   "source": [
    "X = interval(-2, 1)\n",
    "Y = interval(1, 3)\n",
    "\n",
    "println(X + Y)\n",
    "println(X - Y)\n",
    "println(X * Y)\n",
    "println(X / Y)\n",
    "println(Y / X)"
   ]
  },
  {
   "cell_type": "markdown",
   "metadata": {},
   "source": [
    "包含関係の単調性が成立する．すなわち $\\boldsymbol{X}_1\\subseteq \\boldsymbol{X}_2$ かつ $\\boldsymbol{Y}_1\\subseteq \\boldsymbol{Y}_2$ ならば $\\boldsymbol{X}_1\\circ\\boldsymbol{Y}_1\\subseteq \\boldsymbol{X}_2\\circ\\boldsymbol{Y}_2$ が成立する．ここで，$\\circ\\in\\{+,-,\\times,\\div\\}$とする．\n",
    "\n",
    "さらに $+$, $\\times$ に関しては，交換則と結合則が成立する．\n",
    "\n",
    "$$\n",
    "    \\boldsymbol{X}\\circ\\boldsymbol{Y}=\\boldsymbol{Y}\\circ\\boldsymbol{X},~\\boldsymbol{X}\\circ(\\boldsymbol{Y}\\circ\\boldsymbol{Z})=(\\boldsymbol{X}\\circ\\boldsymbol{Y})\\circ\\boldsymbol{Z},\\quad\\circ\\in\\{+,\\times\\}.\n",
    "$$\n",
    "\n",
    "しかし，加法と乗法の逆元は存在しない．すなわち分配則が成立しない．劣分配則のみ成立する．\n",
    "\n",
    "$$\n",
    "    \\boldsymbol{X}(\\boldsymbol{Y}+\\boldsymbol{Z})\\subseteq\\boldsymbol{X}\\boldsymbol{Y}+\\boldsymbol{X}\\boldsymbol{Z}.\n",
    "$$"
   ]
  },
  {
   "cell_type": "code",
   "execution_count": 3,
   "metadata": {},
   "outputs": [
    {
     "name": "stdout",
     "output_type": "stream",
     "text": [
      "[-3, 3]\n",
      "[-4, 4]\n",
      "true\n"
     ]
    }
   ],
   "source": [
    "X = interval(-1, 1)\n",
    "Y = interval(1, 2)\n",
    "Z = interval(-2, 1)\n",
    "\n",
    "println(X * (Y + Z))\n",
    "println(X * Y + X * Z)\n",
    "println((X * (Y + Z) ⊂ X * Y + X * Z))"
   ]
  },
  {
   "cell_type": "markdown",
   "metadata": {},
   "source": [
    "## 中心半径型区間演算\n",
    "\n",
    "上端下端型区間の他に区間を中心と半径で表す型もある．それを**中心半径型区間**という．中心半径型（mid-rad 型）区間は実数 $x\\in\\mathbb{R}$ に対して，区間の中心を $x_c$，半径を $x_r$ としたとき\n",
    "\n",
    "$$\n",
    "    \\boldsymbol{x}=\\langle x_c,x_r\\rangle=\\left\\{x:x_c-x_r\\le x\\le x_c+x_r\\right\\}\n",
    "$$\n",
    "\n",
    "と表される．中心半径型区間と上端下端型区間の間には次のような関係が成り立つ：\n",
    "\n",
    "$$\n",
    "    \\boldsymbol{x}=[\\underline{x},\\overline{x}]=[x_c-x_r,x_c+x_r]=\\left\\langle\\frac{\\underline{x}+\\overline{x}}{2},\\frac{\\underline{x}-\\overline{x}}{2}\\right\\rangle=\\langle x_c,x_r\\rangle=\\boldsymbol{x}\n",
    "$$\n",
    "\n",
    "中心半径型区間 $\\boldsymbol{x}=\\langle x_c,x_r\\rangle$, $\\boldsymbol{y}=\\langle y_c,y_r\\rangle$ に対して，四則演算を定義する．\n",
    "\n",
    "\\begin{align*}\n",
    "    \\boldsymbol{x}+\\boldsymbol{y}&=\\langle x_c+y_c,x_r+y_r\\rangle\\\\\n",
    "    \\boldsymbol{x}-\\boldsymbol{y}&=\\langle x_c-y_c,x_r+y_r\\rangle\\\\\n",
    "    \\boldsymbol{x}\\times\\boldsymbol{y}&\\subseteq\\langle x_cy_c,|x_c|y_r+|y_c|x_r+x_ry_r\\rangle\\\\\n",
    "    \\boldsymbol{x}\\div\\boldsymbol{y}&=\\frac{\\boldsymbol{x}\\times\\boldsymbol{y}}{\\underline{y}\\overline{y}}=\\frac{\\boldsymbol{x}\\times\\boldsymbol{y}}{y_c^2-y_r^2}\n",
    "\\end{align*}\n",
    "\n",
    "ちなみに乗算は$\\mathop{sgn}(\\cdot)$を括弧内の符号を返す関数とすると\n",
    "\n",
    "$$\n",
    "    \\boldsymbol{x}\\times\\boldsymbol{y}=\\langle x_cy_c+\\delta_1,\\delta_2\\rangle\n",
    "$$\n",
    "\n",
    "と書ける．ここで\n",
    "\n",
    "$$\n",
    "    \\delta_1=\\mathop{sgn}(x_cy_c)\\min\\left\\{x_r|y_c|,|x_c|y_r,x_ry_r\\right\\}\n",
    "$$\n",
    "$$\n",
    "\\delta_2=\\max\\left\\{x_r(|y_c|+y_r),(|x_c|+x_r)y_r,x_r|y_c|+|x_c|y_r\\right\\}\n",
    "$$\n",
    "\n",
    "である．"
   ]
  },
  {
   "cell_type": "code",
   "execution_count": 4,
   "metadata": {},
   "outputs": [
    {
     "name": "stdout",
     "output_type": "stream",
     "text": [
      "1.5 ± 1.5\n",
      "-1.5 ± 1.5\n",
      "0 ± 2\n",
      "0 ± 1\n"
     ]
    }
   ],
   "source": [
    "X = 0 ± 1;\n",
    "Y = 1.5 ± 0.5;\n",
    "Z = -0.5 ± 1.5;\n",
    "\n",
    "@format midpoint 3\n",
    "println(X + Y)\n",
    "println(X - Y)\n",
    "println(X * Y)\n",
    "println(X / Y)"
   ]
  },
  {
   "cell_type": "markdown",
   "metadata": {},
   "source": [
    "## 関数の値域評価\n",
    "\n",
    "$ \\boldsymbol{I}\\in\\mathbb{IR}$をある区間とし，$f:D\\subset\\mathbb{R}\\to\\mathbb{R}$を領域 $D$ で連続な関数とする．\n",
    "このとき関数 $f$ は $\\mathbb{IR}$ 上の関数として拡張できる．\n",
    "\n",
    "$$\n",
    "\tf(\\boldsymbol{I})=\\{f(x):x\\in\\boldsymbol{I}\\}\n",
    "$$\n",
    "\n",
    "この $f(\\boldsymbol{I})$ は関数の値域で，これを厳密に計算することは非線形関数の場合不可能である．よって\n",
    "\n",
    "$$\n",
    "\tf(\\boldsymbol{I})\\subseteq [a,b]\n",
    "$$\n",
    "\n",
    "となる区間 $[a,b]$ で関数の値域を包含する．これを $f$ の区間 $\\boldsymbol{I}$ における**区間拡張**（区間拡張は一意的でないことに注意！）といい，$f_{[\\,]}(\\boldsymbol{I})=[a,b]$ と表す．\n",
    "\n",
    "#### 注意\n",
    "IEEE 754 標準規格における丸めに従っているのは「**四則演算・平方根**」だけ．それ以外の関数（例えば，$\\sin$，$\\cos$ などは）丸めの向きの\n",
    "変更が不可能（**自作するか，丸めに対応し作成されたものを使う**こと）．ただし，デフォルトの関数も精度が十分に高く作られているため，精度保証などを考えない場合はそれで十分．\n",
    "\n",
    "### 例\n",
    "\n",
    "例えば，関数 $f(x)=x^2+2x$ を考える．関数に区間を単純に代入すると\n",
    "\\begin{align*}\n",
    "\tx&\\in[0.9,1.1]\\\\\n",
    "\tx^2&\\in[0.81,1.21]\\\\\n",
    "\t2x&\\in[1.8,2.2]\\\\\n",
    "\tx^2+2x&\\in[2.61,3.41]\\\\\n",
    "\\end{align*}"
   ]
  },
  {
   "cell_type": "code",
   "execution_count": 5,
   "metadata": {},
   "outputs": [
    {
     "data": {
      "image/png": "[encoded data removed]",
      "text/plain": [
       "Figure(PyObject <Figure size 640x480 with 1 Axes>)"
      ]
     },
     "metadata": {},
     "output_type": "display_data"
    },
    {
     "name": "stdout",
     "output_type": "stream",
     "text": [
      "[2.609999999, 3.410000001]\n"
     ]
    }
   ],
   "source": [
    "@format standard 10\n",
    "using PyPlot\n",
    "\n",
    "function f(x)\n",
    "    return x.^2+2x\n",
    "end\n",
    "\n",
    "x = range(-3, 3, step = 0.1);\n",
    "y = f(x);\n",
    "\n",
    "plot(x, y)\n",
    "println(f(0.9 .. 1.1))"
   ]
  },
  {
   "cell_type": "code",
   "execution_count": 6,
   "metadata": {},
   "outputs": [
    {
     "name": "stdout",
     "output_type": "stream",
     "text": [
      "2.6100000000000003\n",
      "3.41\n"
     ]
    }
   ],
   "source": [
    "println(f(0.9))\n",
    "println(f(1.1))"
   ]
  },
  {
   "cell_type": "markdown",
   "metadata": {},
   "source": [
    "$f(x)=x^2+2x$ のときは値域評価が区間拡張を利用しても精度が良い．一方で"
   ]
  },
  {
   "cell_type": "markdown",
   "metadata": {},
   "source": [
    "$f(x)=x^2-2x$;\n",
    "\n",
    "\\begin{align*}\n",
    "\tx&\\in[0.9,1.1]\\\\\n",
    "\tx^2&\\in[0.81,1.21]\\\\\n",
    "\t2x&\\in[1.8,2.2]\\\\\n",
    "\tx^2-2x&\\in[-1.39,-0.59]\\mbox{（幅0.8!）}\\\\\n",
    "\\end{align*}\n"
   ]
  },
  {
   "cell_type": "code",
   "execution_count": 7,
   "metadata": {},
   "outputs": [
    {
     "data": {
      "image/png": "[encoded data removed]",
      "text/plain": [
       "Figure(PyObject <Figure size 640x480 with 1 Axes>)"
      ]
     },
     "metadata": {},
     "output_type": "display_data"
    },
    {
     "name": "stdout",
     "output_type": "stream",
     "text": [
      "[-1.390000001, -0.5899999999]\n",
      "-1\n",
      "-0.99\n"
     ]
    }
   ],
   "source": [
    "function f(x)\n",
    "    return x.^2 - 2x\n",
    "end\n",
    "\n",
    "x = range(0.9, 1.1, step=0.01);\n",
    "y = f(x);\n",
    "\n",
    "plot(x, y)\n",
    "\n",
    "println(f(0.9 .. 1.1))\n",
    "println(f(1))\n",
    "println(f(1.1))"
   ]
  },
  {
   "cell_type": "markdown",
   "metadata": {},
   "source": [
    "これから値域は $[-1,-0.99]$，一方で区間演算による区間拡張は $[-1.39,-0.59]$．だいぶ過大評価になってしまう．そこで区間幅を改良したい\n",
    "\n",
    "**アイディア1.** $f(x)=x(x-2)$;\n",
    "\n",
    "\\begin{align*}\n",
    "\t&x\\in[0.9,1.1]\\\\\n",
    "\t&x(x-2)=[0.9,1.1]\\times[-1.1,-0.9]=[-1.21,-0.81]\\mbox{（幅0.4）}\n",
    "\\end{align*}\n",
    "\n",
    "大分改善された．もう一声！\n",
    "\n",
    "**アイディア2.** $f(x)=(x-1)^2-1$;\n",
    "\n",
    "\\begin{align*}\n",
    "\tx\\in[0.9,1.1]&\\\\\n",
    "\t(x-1)^2-1=&[-0.1,0.1]^2-1\\\\\n",
    "\t=&[{\\color{red}{0}},0.01]-1\\\\\n",
    "\t=&[-1,-0.99]\\mbox{（幅0.01）}\n",
    "\\end{align*}"
   ]
  },
  {
   "cell_type": "code",
   "execution_count": 9,
   "metadata": {},
   "outputs": [
    {
     "name": "stdout",
     "output_type": "stream",
     "text": [
      "[-1.390000001, -0.5899999999]\n",
      "[-1.210000001, -0.8099999999]\n",
      "[-1, -0.9899999999]\n"
     ]
    }
   ],
   "source": [
    "x = @interval(0.9, 1.1)\n",
    "\n",
    "println(x^2 - 2x)\n",
    "println(x * (x-2))\n",
    "println((x-1)^2 - 1)\n",
    "# println(bitstring(0.9))\n",
    "# println(bitstring(x.lo))"
   ]
  },
  {
   "cell_type": "markdown",
   "metadata": {},
   "source": [
    "区間の定義で、実数を端点にする時は`@interval`を使う。端点が浮動小数点で良い場合は`interval`でOK. `interval`の方が呼び出しは早い。例えば、0.1を含む区間は`interval`での定義では0.1に一番近い浮動小数点数を端点にもつ点区間が返されて、厳密な包含にならない。"
   ]
  },
  {
   "cell_type": "code",
   "execution_count": 24,
   "metadata": {},
   "outputs": [
    {
     "name": "stdout",
     "output_type": "stream",
     "text": [
      "0011111110111001100110011001100110011001100110011001100110011010\n",
      "0011111110111001100110011001100110011001100110011001100110011010\n",
      "0011111110111001100110011001100110011001100110011001100110011010\n",
      "0011111110111001100110011001100110011001100110011001100110011010\n",
      "0011111110111001100110011001100110011001100110011001100110011001\n",
      "0011111110111001100110011001100110011001100110011001100110011010\n"
     ]
    }
   ],
   "source": [
    "x = interval(0.1)\n",
    "println(bitstring(0.1))\n",
    "println(bitstring(x.lo))\n",
    "println(bitstring(x.hi))\n",
    "\n",
    "x = @interval(0.1)\n",
    "println(bitstring(0.1))\n",
    "println(bitstring(x.lo))\n",
    "println(bitstring(x.hi))"
   ]
  },
  {
   "cell_type": "code",
   "execution_count": 9,
   "metadata": {},
   "outputs": [
    {
     "data": {
      "image/png": "[encoded data removed]",
      "text/plain": [
       "Figure(PyObject <Figure size 640x480 with 1 Axes>)"
      ]
     },
     "metadata": {},
     "output_type": "display_data"
    },
    {
     "name": "stdout",
     "output_type": "stream",
     "text": [
      "[1.988546365, 2.440000001]\n",
      "[-∞, 2.939882027]\n"
     ]
    }
   ],
   "source": [
    "# Kahan's example\n",
    "f(x) = (1/80) * log(abs(3*(1 - x) + 1)) + x.^2 + 1;\n",
    "x = range(0, 2, step = 0.1);\n",
    "y = f.(x);\n",
    "plot(x, y)\n",
    "println(f(1.0..1.2))\n",
    "println(f(1.3..1.4))"
   ]
  },
  {
   "cell_type": "markdown",
   "metadata": {},
   "source": [
    "### 区間幅の抑制のための工夫\n",
    "\n",
    "1. **区間分割**\n",
    "$$\n",
    "\t\\boldsymbol{I}=\\boldsymbol{I}_1\\cup\\boldsymbol{I}_2\n",
    "$$\n",
    "と考えて，$f_{[\\,]}(\\boldsymbol{I}_1)\\cup f_{[\\,]}(\\boldsymbol{I}_2)$を計算する．\n",
    "\n",
    "1. **平均値形式**  \n",
    "区間拡張$f_{[\\,]}(\\boldsymbol{I})$を\n",
    "$$\n",
    "\tf_{[\\,]}(\\boldsymbol{I})=f(c)+f'_{[\\,]}(\\boldsymbol{I})(\\boldsymbol{I}-c),~c=\\mathrm{mid}(\\boldsymbol{I})\n",
    "$$\n",
    "によって得る．ただし$f'_{[\\,]}(\\boldsymbol{I})$は区間$\\boldsymbol{I}$における$f$の1階微分の区間拡張．\n",
    "\n"
   ]
  },
  {
   "cell_type": "markdown",
   "metadata": {
    "collapsed": true
   },
   "source": [
    "## 機械区間演算\n",
    "\n",
    "区間演算をコンピュータで実現するには$\\mathbb{R}$の代わりに$\\mathbb{F}$を使った区間が必要．そのような区間全体を\n",
    "\n",
    "$$\n",
    "\t\\mathbb{IF}:=\\{\\boldsymbol{x}\\in\\mathbb{IR}: \\underline{x},~\\overline{x}\\in\\mathbb{F}\\}\n",
    "$$\n",
    "\n",
    "と定義する．IEEE754規格に準拠したシステム上では演算後の丸めの向きを制御することができる．\n",
    "演算結果が浮動小数点数でない場合，丸めの向きを制御して計算する．\n",
    "いま$a,b\\in\\mathbb{F}$に対して，$\\circ\\in\\{+,-,\\times,\\div\\}$として\n",
    "\n",
    "\\begin{align*}\n",
    "\t\\mathtt{fl}_{\\bigtriangledown}\\!\\left(a\\circ b\\right)&:=\\max\\{x\\in\\mathbb{F}:x\\le a\\circ b\\}\\mbox{（下向き丸め）}\\\\\n",
    "\t\\mathtt{fl}_{\\bigtriangleup}\\!\\left(a\\circ b\\right)&:=\\min\\{x\\in\\mathbb{F}:x\\ge a\\circ b\\}\\mbox{（上向き丸め）}\n",
    "\\end{align*}\n",
    "\n",
    "とすると\n",
    "\n",
    "$$\n",
    "\t\\mathtt{fl}_{\\bigtriangledown}\\!\\left(a\\circ b\\right)\\le a\\circ b\\le\\mathtt{fl}_{\\bigtriangleup}\\!\\left(a\\circ b\\right)\n",
    "$$\n",
    "\n",
    "が成立する．\n",
    "\n",
    "$\\boldsymbol{X}=[a,b]$, $\\boldsymbol{Y}=[c,d]$ ($a,b,c,d\\in\\mathbb{F}$)に対して，機械区間演算は次のように実現できる．\n",
    "\n",
    "\\begin{align*}\n",
    "\t\\boldsymbol{X}+\\boldsymbol{Y}&=[\\mathtt{fl}_{\\bigtriangledown}\\!\\left(a+c\\right),\\mathtt{fl}_{\\bigtriangleup}\\!\\left(b+d\\right)]\\\\\n",
    "\t\\boldsymbol{X}-\\boldsymbol{Y}&=[\\mathtt{fl}_{\\bigtriangledown}\\!\\left(a-d\\right),\\mathtt{fl}_{\\bigtriangleup}\\!\\left(b-c\\right)]\\\\\n",
    "\t\\boldsymbol{X}\\times\\boldsymbol{Y}&=[\\mathtt{fl}_{\\bigtriangledown}\\!\\left(\\min\\{ac,ad,bc,bd\\}\\right),\\mathtt{fl}_{\\bigtriangleup}\\!\\left(\\max\\{ac,ad,bc,bd\\}\\right)]\\\\\n",
    "\t\\boldsymbol{X}\\div\\boldsymbol{Y}&=[\\mathtt{fl}_{\\bigtriangledown}\\!\\left(\\min\\{a/c,a/d,b/c,b/d\\}\\right),\\mathtt{fl}_{\\bigtriangleup}\\!\\left(\\max\\{a/c,a/d,b/c,b/d\\}\\right)]\n",
    "\\end{align*}\n",
    "\n",
    "\n",
    "|$\\boldsymbol{X}\\times\\boldsymbol{Y}$|$c>0$|$0\\in\\boldsymbol{Y}$|$d<0$|\n",
    "|:-------------:|:-------------:|:-------------:|:-------------:|\n",
    "|$a>0$|$[\\mathtt{fl}_{\\bigtriangledown}\\!\\left(ac\\right),\\mathtt{fl}_{\\bigtriangleup}\\!\\left(bd\\right)]$|$[\\mathtt{fl}_{\\bigtriangledown}\\!\\left(bc\\right),\\mathtt{fl}_{\\bigtriangleup}\\!\\left(bd\\right)]$|$[\\mathtt{fl}_{\\bigtriangledown}\\!\\left(bc\\right),\\mathtt{fl}_{\\bigtriangleup}\\!\\left(ad\\right)]$|\n",
    "|$0\\in\\boldsymbol{X}$|$[\\mathtt{fl}_{\\bigtriangledown}\\!\\left(ad\\right),\\mathtt{fl}_{\\bigtriangleup}\\!\\left(bd\\right)]$|B|$[\\mathtt{fl}_{\\bigtriangledown}\\!\\left(bc\\right),\\mathtt{fl}_{\\bigtriangleup}\\!\\left(ac\\right)]$|\n",
    "|$b<0$|$[\\mathtt{fl}_{\\bigtriangledown}\\!\\left(ad\\right),\\mathtt{fl}_{\\bigtriangleup}\\!\\left(bc\\right)]$|$[\\mathtt{fl}_{\\bigtriangledown}\\!\\left(ad\\right),\\mathtt{fl}_{\\bigtriangleup}\\!\\left(ad\\right)]$|$[\\mathtt{fl}_{\\bigtriangledown}\\!\\left(bd\\right),\\mathtt{fl}_{\\bigtriangleup}\\!\\left(ac\\right)]$|\n",
    "\n",
    "ただし B $=[\\min\\{\\mathtt{fl}_{\\bigtriangledown}\\!\\left(ad\\right),\\mathtt{fl}_{\\bigtriangledown}\\!\\left(bc\\right)\\},\\max\\{\\mathtt{fl}_{\\bigtriangleup}\\!\\left(ad\\right),\\mathtt{fl}_{\\bigtriangleup}\\!\\left(bc\\right)\\}].$"
   ]
  },
  {
   "cell_type": "markdown",
   "metadata": {},
   "source": [
    "## ベクトル・行列の区間演算\n",
    "\n",
    "上で述べた丸めの向きを制御することにより，ベクトル $x,y\\in\\mathbb{F}^n$ の内積 $x^Ty$，行列 $A, B\\in\\mathbb{F}^n$ の積，あるいは，ベクトル行列積 $Ax$ の結果を区間で厳密に包含することができる．\n",
    "\n",
    "$$\n",
    "\t\\mathtt{fl}_{\\bigtriangledown}\\!\\left(x^Ty\\right)\\le x^Ty\\le\\mathtt{fl}_{\\bigtriangleup}\\!\\left(x^Ty\\right)\n",
    "$$\n",
    "\n",
    "$$\n",
    "\t\\mathtt{fl}_{\\bigtriangledown}\\!\\left(Ax\\right)\\le Ax\\le\\mathtt{fl}_{\\bigtriangleup}\\!\\left(Ax\\right)\n",
    "$$\n",
    "\n",
    "$$\n",
    "\t\\mathtt{fl}_{\\bigtriangledown}\\!\\left(AB\\right)\\le AB\\le\\mathtt{fl}_{\\bigtriangleup}\\!\\left(AB\\right)\n",
    "$$\n",
    "\n",
    "このようにすると丸め方向の制御で区間演算が容易にできる．しかし，行列ベクトル積，行列積を高速に実装することは職人芸のレベルの難しさである（例えば，キャシュサイズをみて最適なブロック分割などを行う）．そのため通常は数値計算ライブラリを利用するのが主流である．\n",
    "\n",
    "### 注意\n",
    "\n",
    "Juliaでは現状、丸め方向の制御ができない。従って、上で紹介しているような区間演算ができない（と思う）。並列計算とかBLASを使った計算とかがまだできない模様。"
   ]
  },
  {
   "cell_type": "code",
   "execution_count": 7,
   "metadata": {
    "scrolled": true
   },
   "outputs": [],
   "source": [
    "# MATLABの表記は\n",
    "# n=1e8; x = randn(n,1); y=randn(n,1);\n",
    "# tic, setround(1), xy_up = x'*y; setround(-1), xy_down = x'*y; setround(0), x_interval = infsup(xy_down,xy_up), toc\n",
    "# n = 1e8: 0.16284 (sec)\n",
    "n = 1000;\n",
    "# x = IntervalBox(randn(n));\n",
    "# y = IntervalBox(randn(n));\n",
    "setrounding(Interval, :fast)\n",
    "x = randn(n);\n",
    "y = randn(n);\n",
    "x_int = map(Interval, x);\n",
    "y_int = map(Interval, y);\n",
    "\n",
    "#@time dot(x,y); dot(x,y)\n",
    "using BenchmarkTools\n",
    "@benchmark dot(x_int, y_int);"
   ]
  },
  {
   "cell_type": "code",
   "execution_count": 23,
   "metadata": {},
   "outputs": [
    {
     "name": "stdout",
     "output_type": "stream",
     "text": [
      "  0.033411 seconds (1 allocation: 15.750 KiB)\n"
     ]
    }
   ],
   "source": [
    "A = randn(n,n);\n",
    "B = randn(n,n);\n",
    "A_int = map(Interval, A);\n",
    "B_int = map(Interval, B);\n",
    "\n",
    "@time A_int*x;"
   ]
  },
  {
   "cell_type": "code",
   "execution_count": 34,
   "metadata": {},
   "outputs": [
    {
     "name": "stdout",
     "output_type": "stream",
     "text": [
      " 32.310645 seconds (8 allocations: 15.259 MiB)\n"
     ]
    }
   ],
   "source": [
    "@time A_int*B;"
   ]
  },
  {
   "cell_type": "markdown",
   "metadata": {},
   "source": [
    "\n",
    "### 参考文献\n",
    "\n",
    "1. [Calculating with sets: Interval methods in Julia](https://github.com/dpsanders/IntervalsJuliaCon2020)\n",
    "1. [IntervalArithmetic.jl: Basic usage](https://github.com/JuliaIntervals/IntervalArithmetic.jl/blob/master/docs/src/usage.md)\n",
    "1. matsueushi, [デフォルトの丸めモードで上付き丸め、下付き丸めをエミュレートする(Julia)](https://matsueushi.github.io/posts/rounding-emulator/)\n",
    "1. matsueushi, [Juliaで丸めモードを指定して浮動小数点数の計算をする(したい)](https://matsueushi.github.io/posts/julia-rounding/)\n",
    "\n",
    "\n",
    "<div align=\"right\">[高安亮紀](http://www.risk.tsukuba.ac.jp/~takitoshi/)，2016年12月7日</div>"
   ]
  },
  {
   "cell_type": "code",
   "execution_count": null,
   "metadata": {},
   "outputs": [],
   "source": []
  }
 ],
 "metadata": {
  "kernelspec": {
   "display_name": "Julia 1.5.0",
   "language": "julia",
   "name": "julia-1.5"
  },
  "language_info": {
   "file_extension": ".jl",
   "mimetype": "application/julia",
   "name": "julia",
   "version": "1.5.0"
  }
 },
 "nbformat": 4,
 "nbformat_minor": 1
}
