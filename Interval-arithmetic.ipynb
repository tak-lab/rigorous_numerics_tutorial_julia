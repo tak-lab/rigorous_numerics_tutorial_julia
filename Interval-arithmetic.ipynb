{
 "cells": [
  {
   "cell_type": "markdown",
   "metadata": {},
   "source": [
    "# 区間演算\n",
    "\n",
    "区間の表現，区間演算について述べる．精度保証付き数値計算の基本的な原理は，実数値で与えられる真の値の上限と下限を浮動小数点数により浮動小数点演算を用いて包み込むことである．\n",
    "\n",
    "$\\mathbb{R}$上の区間を\n",
    "$$\n",
    "\t\\boldsymbol{a}:=\\{x\\in\\mathbb{R}:\\underline{a}\\le x\\le\\overline{a},~\\underline{a}, \\overline{a}\\in\\mathbb{R}\\}=[\\underline{a}, \\overline{a}]\n",
    "$$\n",
    "\n",
    "と表し，区間の全体を$\\mathbb{IR}$とする．\n",
    "この時 $\\underline{a}$ を区間の下端，$\\overline{a}$ を区間の上端という．\n",
    "さらに区間の\n",
    "\n",
    "$$\n",
    "\\begin{array}{ll}\n",
    "\\mbox{直径（diameter）:}&\\mathrm{d}(\\boldsymbol{a})=\\overline{a}-\\underline{a}\\in\\mathbb{R}\\\\\n",
    "\\mbox{半径（radious）:}&\\mathrm{rad}(\\boldsymbol{a})=\\frac{\\overline{a}-\\underline{a}}{2}\\in\\mathbb{R}\\\\\n",
    "\\mbox{中点（center）:}&\\mathrm{mid}(\\boldsymbol{a})=\\frac{\\overline{a}+\\underline{a}}{2}\\in\\mathbb{R}\\\\\n",
    "\\mbox{最小絶対値:}&\\mathrm{mig}(\\boldsymbol{a})=\\min\\{|a|:a\\in\\boldsymbol{a}\\}\\in\\mathbb{R}\\\\\n",
    "\\mbox{最大絶対値:}&\\mathrm{mag}(\\boldsymbol{a})=\\max\\{|a|:a\\in\\boldsymbol{a}\\}\\in\\mathbb{R}\\\\\n",
    "\\end{array}\n",
    "$$\n",
    "\n",
    "をそれぞれ表すとする．\n",
    "\n",
    "Juliaで区間を扱うために[IntervalArithmetic.jl](https://github.com/JuliaIntervals/IntervalArithmetic.jl)パッケージを使う.\n",
    "IntervalArithmetic.jlパッケージを使うには``julia>``状態で`]`を入力すると, パッケージモードになる. そこで\n",
    "\n",
    "```julia:\n",
    "(v1.3) pkg> add IntervalArithmetic\n",
    "```\n",
    "\n",
    "と入力して, インストールする.\n",
    "あるいはREPLで\n",
    "\n",
    "```julia:\n",
    "using Pkg\n",
    "Pkg.add(\"IntervalArithmetic\")\n",
    "```\n",
    "\n",
    "としてもインストールされる.\n",
    "インストールが完了したら, \n",
    "\n",
    "```julia:\n",
    "using IntervalArithmetic\n",
    "```\n",
    "\n",
    "としてパッケージを呼び出す."
   ]
  },
  {
   "cell_type": "code",
   "execution_count": 1,
   "metadata": {},
   "outputs": [
    {
     "name": "stdout",
     "output_type": "stream",
     "text": [
      "[-2, 1]\n",
      "d(a) = 3.0\n",
      "rad(a) = 1.5\n",
      "mid(a) = -0.5\n",
      "mig(a) = 0.0\n",
      "mag(a) = 2.0\n"
     ]
    }
   ],
   "source": [
    "using IntervalArithmetic\n",
    "\n",
    "a = interval(-2, 1);\n",
    "# a = -2. .. 1.    # .. operator\n",
    "println(a)\n",
    "\n",
    "print(\"d(a) = \")\n",
    "println(diam(a))\n",
    "\n",
    "print(\"rad(a) = \")\n",
    "println(radius(a))\n",
    "\n",
    "print(\"mid(a) = \")\n",
    "println(mid(a))\n",
    "\n",
    "print(\"mig(a) = \")\n",
    "println(mig(a))\n",
    "\n",
    "print(\"mag(a) = \")\n",
    "println(mag(a))\n",
    "\n",
    "# @format midpoint 3\n",
    "# @format full\n",
    "# @format standard 10"
   ]
  },
  {
   "cell_type": "markdown",
   "metadata": {},
   "source": [
    "## 区間演算（上端下端型）\n",
    "\n",
    "区間$\\boldsymbol{X}=[a,b]$, $\\boldsymbol{Y}=[c,d]$に対して，四則演算を定義する：\n",
    "\n",
    "\\begin{align*}\n",
    "\t\\boldsymbol{X}+\\boldsymbol{Y}&=[a+c,b+d]\\\\\n",
    "\t\\boldsymbol{X}-\\boldsymbol{Y}&=[a-d,b-c]\\\\\n",
    "\t\\boldsymbol{X}\\times\\boldsymbol{Y}&=[\\min\\{ac,ad,bc,bd\\},\\max\\{ac,ad,bc,bd\\}]\\\\\n",
    "\t\\boldsymbol{X}\\div\\boldsymbol{Y}&=[\\min\\{a/c,a/d,b/c,b/d\\},\\max\\{a/c,a/d,b/c,b/d\\}]\n",
    "\\end{align*}\n",
    "\n",
    "$\\times,~\\div$は場合分けをする．\n",
    "\n",
    "||$c>0$|$0\\in\\boldsymbol{Y}$|$d<0$|\n",
    "|:-------------:|:-------------:|:---------------:|:-------------:|\n",
    "|$a>0$|$[ac,bd]$|$[bc,bd]$|$[bc,ad]$|\n",
    "|$0\\in\\boldsymbol{X}$|$[ad,bd]$|$A$|$[bc,ac]$|\n",
    "|$b<0$|$[ad,bc]$|$[ad,ad]$|$[bd,ac]$|\n",
    "\n",
    "ただし $A=[\\min\\{ad,bc\\},\\max\\{ad,bc\\}].$\n",
    "\n",
    "注：区間内全ての要素について演算を行うため無限回の計算が必要のように思えるが，これをまとめて実現するのが区間演算．さらに除算で割る区間$\\boldsymbol{Y}$に0が含まれる（$0\\in\\boldsymbol{Y}$）と演算結果は無限大を含むことになる．\n"
   ]
  },
  {
   "cell_type": "code",
   "execution_count": 2,
   "metadata": {},
   "outputs": [
    {
     "name": "stdout",
     "output_type": "stream",
     "text": [
      "[-1, 4]\n",
      "[-5, 0]\n",
      "[-6, 3]\n",
      "[-2, 1]\n",
      "[-∞, ∞]\n"
     ]
    }
   ],
   "source": [
    "X = interval(-2, 1)\n",
    "Y = interval(1, 3)\n",
    "\n",
    "println(X + Y)\n",
    "println(X - Y)\n",
    "println(X * Y)\n",
    "println(X / Y)\n",
    "println(Y / X)"
   ]
  },
  {
   "cell_type": "markdown",
   "metadata": {},
   "source": [
    "包含関係の単調性が成立する．すなわち $\\boldsymbol{X}_1\\subseteq \\boldsymbol{X}_2$ かつ $\\boldsymbol{Y}_1\\subseteq \\boldsymbol{Y}_2$ ならば $\\boldsymbol{X}_1\\circ\\boldsymbol{Y}_1\\subseteq \\boldsymbol{X}_2\\circ\\boldsymbol{Y}_2$ が成立する．ここで，$\\circ\\in\\{+,-,\\times,\\div\\}$とする．\n",
    "\n",
    "さらに $+$, $\\times$ に関しては，交換則と結合則が成立する．\n",
    "\n",
    "$$\n",
    "    \\boldsymbol{X}\\circ\\boldsymbol{Y}=\\boldsymbol{Y}\\circ\\boldsymbol{X},~\\boldsymbol{X}\\circ(\\boldsymbol{Y}\\circ\\boldsymbol{Z})=(\\boldsymbol{X}\\circ\\boldsymbol{Y})\\circ\\boldsymbol{Z},\\quad\\circ\\in\\{+,\\times\\}.\n",
    "$$\n",
    "\n",
    "しかし，加法と乗法の逆元は存在しない．すなわち分配則が成立しない．劣分配則のみ成立する．\n",
    "\n",
    "$$\n",
    "    \\boldsymbol{X}(\\boldsymbol{Y}+\\boldsymbol{Z})\\subseteq\\boldsymbol{X}\\boldsymbol{Y}+\\boldsymbol{X}\\boldsymbol{Z}.\n",
    "$$"
   ]
  },
  {
   "cell_type": "code",
   "execution_count": 3,
   "metadata": {},
   "outputs": [
    {
     "name": "stdout",
     "output_type": "stream",
     "text": [
      "[-3, 3]\n",
      "[-4, 4]\n",
      "true\n"
     ]
    }
   ],
   "source": [
    "X = interval(-1, 1)\n",
    "Y = interval(1, 2)\n",
    "Z = interval(-2, 1)\n",
    "\n",
    "println(X * (Y + Z))\n",
    "println(X * Y + X * Z)\n",
    "println((X * (Y + Z) ⊂ X * Y + X * Z))"
   ]
  },
  {
   "cell_type": "markdown",
   "metadata": {},
   "source": [
    "## 中心半径型区間演算\n",
    "\n",
    "上端下端型区間の他に区間を中心と半径で表す型もある．それを**中心半径型区間**という．中心半径型（mid-rad 型）区間は実数 $x\\in\\mathbb{R}$ に対して，区間の中心を $x_c$，半径を $x_r$ としたとき\n",
    "\n",
    "$$\n",
    "    \\boldsymbol{x}=\\langle x_c,x_r\\rangle=\\left\\{x:x_c-x_r\\le x\\le x_c+x_r\\right\\}\n",
    "$$\n",
    "\n",
    "と表される．中心半径型区間と上端下端型区間の間には次のような関係が成り立つ：\n",
    "\n",
    "$$\n",
    "    \\boldsymbol{x}=[\\underline{x},\\overline{x}]=[x_c-x_r,x_c+x_r]=\\left\\langle\\frac{\\underline{x}+\\overline{x}}{2},\\frac{\\underline{x}-\\overline{x}}{2}\\right\\rangle=\\langle x_c,x_r\\rangle=\\boldsymbol{x}\n",
    "$$\n",
    "\n",
    "中心半径型区間 $\\boldsymbol{x}=\\langle x_c,x_r\\rangle$, $\\boldsymbol{y}=\\langle y_c,y_r\\rangle$ に対して，四則演算を定義する．\n",
    "\n",
    "\\begin{align*}\n",
    "    \\boldsymbol{x}+\\boldsymbol{y}&=\\langle x_c+y_c,x_r+y_r\\rangle\\\\\n",
    "    \\boldsymbol{x}-\\boldsymbol{y}&=\\langle x_c-y_c,x_r+y_r\\rangle\\\\\n",
    "    \\boldsymbol{x}\\times\\boldsymbol{y}&\\subseteq\\langle x_cy_c,|x_c|y_r+|y_c|x_r+x_ry_r\\rangle\\\\\n",
    "    \\boldsymbol{x}\\div\\boldsymbol{y}&=\\frac{\\boldsymbol{x}\\times\\boldsymbol{y}}{\\underline{y}\\overline{y}}=\\frac{\\boldsymbol{x}\\times\\boldsymbol{y}}{y_c^2-y_r^2}\n",
    "\\end{align*}\n",
    "\n",
    "ちなみに乗算は$\\mathop{sgn}(\\cdot)$を括弧内の符号を返す関数とすると\n",
    "\n",
    "$$\n",
    "    \\boldsymbol{x}\\times\\boldsymbol{y}=\\langle x_cy_c+\\delta_1,\\delta_2\\rangle\n",
    "$$\n",
    "\n",
    "と書ける．ここで\n",
    "\n",
    "$$\n",
    "    \\delta_1=\\mathop{sgn}(x_cy_c)\\min\\left\\{x_r|y_c|,|x_c|y_r,x_ry_r\\right\\}\n",
    "$$\n",
    "$$\n",
    "\\delta_2=\\max\\left\\{x_r(|y_c|+y_r),(|x_c|+x_r)y_r,x_r|y_c|+|x_c|y_r\\right\\}\n",
    "$$\n",
    "\n",
    "である．"
   ]
  },
  {
   "cell_type": "code",
   "execution_count": 4,
   "metadata": {},
   "outputs": [
    {
     "name": "stdout",
     "output_type": "stream",
     "text": [
      "1.5 ± 1.5\n",
      "-1.5 ± 1.5\n",
      "0 ± 2\n",
      "0 ± 1\n"
     ]
    }
   ],
   "source": [
    "X = 0 ± 1;\n",
    "Y = 1.5 ± 0.5;\n",
    "Z = -0.5 ± 1.5;\n",
    "\n",
    "@format midpoint 3\n",
    "println(X + Y)\n",
    "println(X - Y)\n",
    "println(X * Y)\n",
    "println(X / Y)"
   ]
  },
  {
   "cell_type": "markdown",
   "metadata": {},
   "source": [
    "## 関数の値域評価\n",
    "\n",
    "$ \\boldsymbol{I}\\in\\mathbb{IR}$をある区間とし，$f:D\\subset\\mathbb{R}\\to\\mathbb{R}$を領域 $D$ で連続な関数とする．\n",
    "このとき関数 $f$ は $\\mathbb{IR}$ 上の関数として拡張できる．\n",
    "\n",
    "$$\n",
    "\tf(\\boldsymbol{I})=\\{f(x):x\\in\\boldsymbol{I}\\}\n",
    "$$\n",
    "\n",
    "この $f(\\boldsymbol{I})$ は関数の値域で，これを厳密に計算することは非線形関数の場合不可能である．よって\n",
    "\n",
    "$$\n",
    "\tf(\\boldsymbol{I})\\subseteq [a,b]\n",
    "$$\n",
    "\n",
    "となる区間 $[a,b]$ で関数の値域を包含する．これを $f$ の区間 $\\boldsymbol{I}$ における**区間拡張**（区間拡張は一意的でないことに注意！）といい，$f_{[\\,]}(\\boldsymbol{I})=[a,b]$ と表す．\n",
    "\n",
    "#### 注意\n",
    "IEEE 754 標準規格における丸めに従っているのは「**四則演算・平方根**」だけ．それ以外の関数（例えば，$\\sin$，$\\cos$ などは）丸めの向きの\n",
    "変更が不可能（**自作するか，丸めに対応し作成されたものを使う**こと）．ただし，デフォルトの関数も精度が十分に高く作られているため，精度保証などを考えない場合はそれで十分．\n",
    "\n",
    "### 例\n",
    "\n",
    "例えば，関数 $f(x)=x^2+2x$ を考える．関数に区間を単純に代入すると\n",
    "\\begin{align*}\n",
    "\tx&\\in[0.9,1.1]\\\\\n",
    "\tx^2&\\in[0.81,1.21]\\\\\n",
    "\t2x&\\in[1.8,2.2]\\\\\n",
    "\tx^2+2x&\\in[2.61,3.41]\\\\\n",
    "\\end{align*}"
   ]
  },
  {
   "cell_type": "code",
   "execution_count": 5,
   "metadata": {},
   "outputs": [
    {
     "name": "stdout",
     "output_type": "stream",
     "text": [
      "[2.609999999, 3.410000001]\n"
     ]
    },
    {
     "data": {
      "image/svg+xml": [
       "<?xml version=\"1.0\" encoding=\"utf-8\"?>\n",
       "<svg xmlns=\"http://www.w3.org/2000/svg\" xmlns:xlink=\"http://www.w3.org/1999/xlink\" width=\"600\" height=\"400\" viewBox=\"0 0 2400 1600\">\n",
       "<defs>\n",
       "  <clipPath id=\"clip680\">\n",
       "    <rect x=\"0\" y=\"0\" width=\"2400\" height=\"1600\"/>\n",
       "  </clipPath>\n",
       "</defs>\n",
       "<path clip-path=\"url(#clip680)\" d=\"\n",
       "M0 1600 L2400 1600 L2400 0 L0 0  Z\n",
       "  \" fill=\"#ffffff\" fill-rule=\"evenodd\" fill-opacity=\"1\"/>\n",
       "<defs>\n",
       "  <clipPath id=\"clip681\">\n",
       "    <rect x=\"480\" y=\"0\" width=\"1681\" height=\"1600\"/>\n",
       "  </clipPath>\n",
       "</defs>\n",
       "<path clip-path=\"url(#clip680)\" d=\"\n",
       "M197.852 1423.18 L2352.76 1423.18 L2352.76 47.2441 L197.852 47.2441  Z\n",
       "  \" fill=\"#ffffff\" fill-rule=\"evenodd\" fill-opacity=\"1\"/>\n",
       "<defs>\n",
       "  <clipPath id=\"clip682\">\n",
       "    <rect x=\"197\" y=\"47\" width=\"2156\" height=\"1377\"/>\n",
       "  </clipPath>\n",
       "</defs>\n",
       "<polyline clip-path=\"url(#clip682)\" style=\"stroke:#000000; stroke-width:2; stroke-opacity:0.1; fill:none\" points=\"\n",
       "  258.84,1423.18 258.84,47.2441 \n",
       "  \"/>\n",
       "<polyline clip-path=\"url(#clip682)\" style=\"stroke:#000000; stroke-width:2; stroke-opacity:0.1; fill:none\" points=\"\n",
       "  597.662,1423.18 597.662,47.2441 \n",
       "  \"/>\n",
       "<polyline clip-path=\"url(#clip682)\" style=\"stroke:#000000; stroke-width:2; stroke-opacity:0.1; fill:none\" points=\"\n",
       "  936.483,1423.18 936.483,47.2441 \n",
       "  \"/>\n",
       "<polyline clip-path=\"url(#clip682)\" style=\"stroke:#000000; stroke-width:2; stroke-opacity:0.1; fill:none\" points=\"\n",
       "  1275.3,1423.18 1275.3,47.2441 \n",
       "  \"/>\n",
       "<polyline clip-path=\"url(#clip682)\" style=\"stroke:#000000; stroke-width:2; stroke-opacity:0.1; fill:none\" points=\"\n",
       "  1614.13,1423.18 1614.13,47.2441 \n",
       "  \"/>\n",
       "<polyline clip-path=\"url(#clip682)\" style=\"stroke:#000000; stroke-width:2; stroke-opacity:0.1; fill:none\" points=\"\n",
       "  1952.95,1423.18 1952.95,47.2441 \n",
       "  \"/>\n",
       "<polyline clip-path=\"url(#clip682)\" style=\"stroke:#000000; stroke-width:2; stroke-opacity:0.1; fill:none\" points=\"\n",
       "  2291.77,1423.18 2291.77,47.2441 \n",
       "  \"/>\n",
       "<polyline clip-path=\"url(#clip682)\" style=\"stroke:#000000; stroke-width:2; stroke-opacity:0.1; fill:none\" points=\"\n",
       "  197.852,1303.11 2352.76,1303.11 \n",
       "  \"/>\n",
       "<polyline clip-path=\"url(#clip682)\" style=\"stroke:#000000; stroke-width:2; stroke-opacity:0.1; fill:none\" points=\"\n",
       "  197.852,897.469 2352.76,897.469 \n",
       "  \"/>\n",
       "<polyline clip-path=\"url(#clip682)\" style=\"stroke:#000000; stroke-width:2; stroke-opacity:0.1; fill:none\" points=\"\n",
       "  197.852,491.827 2352.76,491.827 \n",
       "  \"/>\n",
       "<polyline clip-path=\"url(#clip682)\" style=\"stroke:#000000; stroke-width:2; stroke-opacity:0.1; fill:none\" points=\"\n",
       "  197.852,86.1857 2352.76,86.1857 \n",
       "  \"/>\n",
       "<polyline clip-path=\"url(#clip680)\" style=\"stroke:#000000; stroke-width:4; stroke-opacity:1; fill:none\" points=\"\n",
       "  197.852,1423.18 2352.76,1423.18 \n",
       "  \"/>\n",
       "<polyline clip-path=\"url(#clip680)\" style=\"stroke:#000000; stroke-width:4; stroke-opacity:1; fill:none\" points=\"\n",
       "  197.852,1423.18 197.852,47.2441 \n",
       "  \"/>\n",
       "<polyline clip-path=\"url(#clip680)\" style=\"stroke:#000000; stroke-width:4; stroke-opacity:1; fill:none\" points=\"\n",
       "  258.84,1423.18 258.84,1406.67 \n",
       "  \"/>\n",
       "<polyline clip-path=\"url(#clip680)\" style=\"stroke:#000000; stroke-width:4; stroke-opacity:1; fill:none\" points=\"\n",
       "  597.662,1423.18 597.662,1406.67 \n",
       "  \"/>\n",
       "<polyline clip-path=\"url(#clip680)\" style=\"stroke:#000000; stroke-width:4; stroke-opacity:1; fill:none\" points=\"\n",
       "  936.483,1423.18 936.483,1406.67 \n",
       "  \"/>\n",
       "<polyline clip-path=\"url(#clip680)\" style=\"stroke:#000000; stroke-width:4; stroke-opacity:1; fill:none\" points=\"\n",
       "  1275.3,1423.18 1275.3,1406.67 \n",
       "  \"/>\n",
       "<polyline clip-path=\"url(#clip680)\" style=\"stroke:#000000; stroke-width:4; stroke-opacity:1; fill:none\" points=\"\n",
       "  1614.13,1423.18 1614.13,1406.67 \n",
       "  \"/>\n",
       "<polyline clip-path=\"url(#clip680)\" style=\"stroke:#000000; stroke-width:4; stroke-opacity:1; fill:none\" points=\"\n",
       "  1952.95,1423.18 1952.95,1406.67 \n",
       "  \"/>\n",
       "<polyline clip-path=\"url(#clip680)\" style=\"stroke:#000000; stroke-width:4; stroke-opacity:1; fill:none\" points=\"\n",
       "  2291.77,1423.18 2291.77,1406.67 \n",
       "  \"/>\n",
       "<polyline clip-path=\"url(#clip680)\" style=\"stroke:#000000; stroke-width:4; stroke-opacity:1; fill:none\" points=\"\n",
       "  197.852,1303.11 223.711,1303.11 \n",
       "  \"/>\n",
       "<polyline clip-path=\"url(#clip680)\" style=\"stroke:#000000; stroke-width:4; stroke-opacity:1; fill:none\" points=\"\n",
       "  197.852,897.469 223.711,897.469 \n",
       "  \"/>\n",
       "<polyline clip-path=\"url(#clip680)\" style=\"stroke:#000000; stroke-width:4; stroke-opacity:1; fill:none\" points=\"\n",
       "  197.852,491.827 223.711,491.827 \n",
       "  \"/>\n",
       "<polyline clip-path=\"url(#clip680)\" style=\"stroke:#000000; stroke-width:4; stroke-opacity:1; fill:none\" points=\"\n",
       "  197.852,86.1857 223.711,86.1857 \n",
       "  \"/>\n",
       "<path clip-path=\"url(#clip680)\" d=\"M 0 0 M239.419 1461.77 L251.896 1461.77 L251.896 1465.56 L239.419 1465.56 L239.419 1461.77 Z\" fill=\"#000000\" fill-rule=\"evenodd\" fill-opacity=\"1\" /><path clip-path=\"url(#clip680)\" d=\"M 0 0 M271.132 1458.02 Q274.488 1458.74 276.363 1461 Q278.262 1463.27 278.262 1466.61 Q278.262 1471.72 274.743 1474.52 Q271.225 1477.32 264.743 1477.32 Q262.567 1477.32 260.252 1476.88 Q257.961 1476.47 255.507 1475.61 L255.507 1471.1 Q257.451 1472.23 259.766 1472.81 Q262.081 1473.39 264.604 1473.39 Q269.002 1473.39 271.294 1471.65 Q273.609 1469.92 273.609 1466.61 Q273.609 1463.55 271.456 1461.84 Q269.326 1460.1 265.507 1460.1 L261.479 1460.1 L261.479 1456.26 L265.692 1456.26 Q269.141 1456.26 270.97 1454.89 Q272.799 1453.5 272.799 1450.91 Q272.799 1448.25 270.9 1446.84 Q269.025 1445.4 265.507 1445.4 Q263.586 1445.4 261.387 1445.82 Q259.188 1446.24 256.549 1447.11 L256.549 1442.95 Q259.211 1442.21 261.525 1441.84 Q263.863 1441.47 265.924 1441.47 Q271.248 1441.47 274.35 1443.9 Q277.451 1446.3 277.451 1450.43 Q277.451 1453.3 275.808 1455.29 Q274.164 1457.25 271.132 1458.02 Z\" fill=\"#000000\" fill-rule=\"evenodd\" fill-opacity=\"1\" /><path clip-path=\"url(#clip680)\" d=\"M 0 0 M578.715 1461.77 L591.192 1461.77 L591.192 1465.56 L578.715 1465.56 L578.715 1461.77 Z\" fill=\"#000000\" fill-rule=\"evenodd\" fill-opacity=\"1\" /><path clip-path=\"url(#clip680)\" d=\"M 0 0 M600.289 1472.72 L616.608 1472.72 L616.608 1476.65 L594.664 1476.65 L594.664 1472.72 Q597.326 1469.96 601.909 1465.33 Q606.516 1460.68 607.696 1459.34 Q609.942 1456.81 610.821 1455.08 Q611.724 1453.32 611.724 1451.63 Q611.724 1448.87 609.78 1447.14 Q607.858 1445.4 604.756 1445.4 Q602.557 1445.4 600.104 1446.17 Q597.673 1446.93 594.895 1448.48 L594.895 1443.76 Q597.719 1442.62 600.173 1442.05 Q602.627 1441.47 604.664 1441.47 Q610.034 1441.47 613.229 1444.15 Q616.423 1446.84 616.423 1451.33 Q616.423 1453.46 615.613 1455.38 Q614.826 1457.28 612.719 1459.87 Q612.141 1460.54 609.039 1463.76 Q605.937 1466.95 600.289 1472.72 Z\" fill=\"#000000\" fill-rule=\"evenodd\" fill-opacity=\"1\" /><path clip-path=\"url(#clip680)\" d=\"M 0 0 M917.351 1461.77 L929.828 1461.77 L929.828 1465.56 L917.351 1465.56 L917.351 1461.77 Z\" fill=\"#000000\" fill-rule=\"evenodd\" fill-opacity=\"1\" /><path clip-path=\"url(#clip680)\" d=\"M 0 0 M935.707 1472.72 L943.346 1472.72 L943.346 1446.35 L935.036 1448.02 L935.036 1443.76 L943.3 1442.09 L947.976 1442.09 L947.976 1472.72 L955.615 1472.72 L955.615 1476.65 L935.707 1476.65 L935.707 1472.72 Z\" fill=\"#000000\" fill-rule=\"evenodd\" fill-opacity=\"1\" /><path clip-path=\"url(#clip680)\" d=\"M 0 0 M1275.3 1445.17 Q1271.69 1445.17 1269.86 1448.74 Q1268.06 1452.28 1268.06 1459.41 Q1268.06 1466.51 1269.86 1470.08 Q1271.69 1473.62 1275.3 1473.62 Q1278.94 1473.62 1280.74 1470.08 Q1282.57 1466.51 1282.57 1459.41 Q1282.57 1452.28 1280.74 1448.74 Q1278.94 1445.17 1275.3 1445.17 M1275.3 1441.47 Q1281.11 1441.47 1284.17 1446.07 Q1287.25 1450.66 1287.25 1459.41 Q1287.25 1468.13 1284.17 1472.74 Q1281.11 1477.32 1275.3 1477.32 Q1269.49 1477.32 1266.42 1472.74 Q1263.36 1468.13 1263.36 1459.41 Q1263.36 1450.66 1266.42 1446.07 Q1269.49 1441.47 1275.3 1441.47 Z\" fill=\"#000000\" fill-rule=\"evenodd\" fill-opacity=\"1\" /><path clip-path=\"url(#clip680)\" d=\"M 0 0 M1604.51 1472.72 L1612.15 1472.72 L1612.15 1446.35 L1603.84 1448.02 L1603.84 1443.76 L1612.1 1442.09 L1616.78 1442.09 L1616.78 1472.72 L1624.41 1472.72 L1624.41 1476.65 L1604.51 1476.65 L1604.51 1472.72 Z\" fill=\"#000000\" fill-rule=\"evenodd\" fill-opacity=\"1\" /><path clip-path=\"url(#clip680)\" d=\"M 0 0 M1947.6 1472.72 L1963.92 1472.72 L1963.92 1476.65 L1941.97 1476.65 L1941.97 1472.72 Q1944.64 1469.96 1949.22 1465.33 Q1953.83 1460.68 1955.01 1459.34 Q1957.25 1456.81 1958.13 1455.08 Q1959.03 1453.32 1959.03 1451.63 Q1959.03 1448.87 1957.09 1447.14 Q1955.17 1445.4 1952.07 1445.4 Q1949.87 1445.4 1947.41 1446.17 Q1944.98 1446.93 1942.21 1448.48 L1942.21 1443.76 Q1945.03 1442.62 1947.48 1442.05 Q1949.94 1441.47 1951.97 1441.47 Q1957.34 1441.47 1960.54 1444.15 Q1963.73 1446.84 1963.73 1451.33 Q1963.73 1453.46 1962.92 1455.38 Q1962.14 1457.28 1960.03 1459.87 Q1959.45 1460.54 1956.35 1463.76 Q1953.25 1466.95 1947.6 1472.72 Z\" fill=\"#000000\" fill-rule=\"evenodd\" fill-opacity=\"1\" /><path clip-path=\"url(#clip680)\" d=\"M 0 0 M2296.02 1458.02 Q2299.37 1458.74 2301.25 1461 Q2303.15 1463.27 2303.15 1466.61 Q2303.15 1471.72 2299.63 1474.52 Q2296.11 1477.32 2289.63 1477.32 Q2287.45 1477.32 2285.14 1476.88 Q2282.84 1476.47 2280.39 1475.61 L2280.39 1471.1 Q2282.34 1472.23 2284.65 1472.81 Q2286.96 1473.39 2289.49 1473.39 Q2293.89 1473.39 2296.18 1471.65 Q2298.49 1469.92 2298.49 1466.61 Q2298.49 1463.55 2296.34 1461.84 Q2294.21 1460.1 2290.39 1460.1 L2286.36 1460.1 L2286.36 1456.26 L2290.58 1456.26 Q2294.03 1456.26 2295.85 1454.89 Q2297.68 1453.5 2297.68 1450.91 Q2297.68 1448.25 2295.78 1446.84 Q2293.91 1445.4 2290.39 1445.4 Q2288.47 1445.4 2286.27 1445.82 Q2284.07 1446.24 2281.43 1447.11 L2281.43 1442.95 Q2284.09 1442.21 2286.41 1441.84 Q2288.75 1441.47 2290.81 1441.47 Q2296.13 1441.47 2299.23 1443.9 Q2302.34 1446.3 2302.34 1450.43 Q2302.34 1453.3 2300.69 1455.29 Q2299.05 1457.25 2296.02 1458.02 Z\" fill=\"#000000\" fill-rule=\"evenodd\" fill-opacity=\"1\" /><path clip-path=\"url(#clip680)\" d=\"M 0 0 M161.908 1288.91 Q158.297 1288.91 156.468 1292.47 Q154.663 1296.02 154.663 1303.14 Q154.663 1310.25 156.468 1313.82 Q158.297 1317.36 161.908 1317.36 Q165.542 1317.36 167.348 1313.82 Q169.177 1310.25 169.177 1303.14 Q169.177 1296.02 167.348 1292.47 Q165.542 1288.91 161.908 1288.91 M161.908 1285.2 Q167.718 1285.2 170.774 1289.81 Q173.852 1294.39 173.852 1303.14 Q173.852 1311.87 170.774 1316.48 Q167.718 1321.06 161.908 1321.06 Q156.098 1321.06 153.019 1316.48 Q149.964 1311.87 149.964 1303.14 Q149.964 1294.39 153.019 1289.81 Q156.098 1285.2 161.908 1285.2 Z\" fill=\"#000000\" fill-rule=\"evenodd\" fill-opacity=\"1\" /><path clip-path=\"url(#clip680)\" d=\"M 0 0 M152.95 880.189 L171.306 880.189 L171.306 884.124 L157.232 884.124 L157.232 892.596 Q158.251 892.249 159.269 892.087 Q160.288 891.901 161.306 891.901 Q167.093 891.901 170.473 895.073 Q173.852 898.244 173.852 903.661 Q173.852 909.239 170.38 912.341 Q166.908 915.42 160.589 915.42 Q158.413 915.42 156.144 915.049 Q153.899 914.679 151.492 913.938 L151.492 909.239 Q153.575 910.374 155.797 910.929 Q158.019 911.485 160.496 911.485 Q164.501 911.485 166.839 909.378 Q169.177 907.272 169.177 903.661 Q169.177 900.05 166.839 897.943 Q164.501 895.837 160.496 895.837 Q158.621 895.837 156.746 896.253 Q154.894 896.67 152.95 897.55 L152.95 880.189 Z\" fill=\"#000000\" fill-rule=\"evenodd\" fill-opacity=\"1\" /><path clip-path=\"url(#clip680)\" d=\"M 0 0 M126.931 505.172 L134.57 505.172 L134.57 478.806 L126.26 480.473 L126.26 476.214 L134.524 474.547 L139.2 474.547 L139.2 505.172 L146.839 505.172 L146.839 509.107 L126.931 509.107 L126.931 505.172 Z\" fill=\"#000000\" fill-rule=\"evenodd\" fill-opacity=\"1\" /><path clip-path=\"url(#clip680)\" d=\"M 0 0 M161.908 477.626 Q158.297 477.626 156.468 481.191 Q154.663 484.732 154.663 491.862 Q154.663 498.968 156.468 502.533 Q158.297 506.075 161.908 506.075 Q165.542 506.075 167.348 502.533 Q169.177 498.968 169.177 491.862 Q169.177 484.732 167.348 481.191 Q165.542 477.626 161.908 477.626 M161.908 473.922 Q167.718 473.922 170.774 478.529 Q173.852 483.112 173.852 491.862 Q173.852 500.589 170.774 505.195 Q167.718 509.778 161.908 509.778 Q156.098 509.778 153.019 505.195 Q149.964 500.589 149.964 491.862 Q149.964 483.112 153.019 478.529 Q156.098 473.922 161.908 473.922 Z\" fill=\"#000000\" fill-rule=\"evenodd\" fill-opacity=\"1\" /><path clip-path=\"url(#clip680)\" d=\"M 0 0 M127.927 99.5305 L135.566 99.5305 L135.566 73.1649 L127.256 74.8316 L127.256 70.5723 L135.519 68.9057 L140.195 68.9057 L140.195 99.5305 L147.834 99.5305 L147.834 103.466 L127.927 103.466 L127.927 99.5305 Z\" fill=\"#000000\" fill-rule=\"evenodd\" fill-opacity=\"1\" /><path clip-path=\"url(#clip680)\" d=\"M 0 0 M152.95 68.9057 L171.306 68.9057 L171.306 72.8408 L157.232 72.8408 L157.232 81.313 Q158.251 80.9658 159.269 80.8038 Q160.288 80.6186 161.306 80.6186 Q167.093 80.6186 170.473 83.7899 Q173.852 86.9611 173.852 92.3778 Q173.852 97.9564 170.38 101.058 Q166.908 104.137 160.589 104.137 Q158.413 104.137 156.144 103.767 Q153.899 103.396 151.492 102.655 L151.492 97.9564 Q153.575 99.0907 155.797 99.6462 Q158.019 100.202 160.496 100.202 Q164.501 100.202 166.839 98.0953 Q169.177 95.9889 169.177 92.3778 Q169.177 88.7667 166.839 86.6602 Q164.501 84.5537 160.496 84.5537 Q158.621 84.5537 156.746 84.9704 Q154.894 85.3871 152.95 86.2667 L152.95 68.9057 Z\" fill=\"#000000\" fill-rule=\"evenodd\" fill-opacity=\"1\" /><path clip-path=\"url(#clip680)\" d=\"M 0 0 M1291.92 1520.4 L1279.03 1537.74 L1292.59 1556.04 L1285.68 1556.04 L1275.3 1542.04 L1264.93 1556.04 L1258.02 1556.04 L1271.87 1537.39 L1259.2 1520.4 L1266.11 1520.4 L1275.56 1533.1 L1285.01 1520.4 L1291.92 1520.4 Z\" fill=\"#000000\" fill-rule=\"evenodd\" fill-opacity=\"1\" /><path clip-path=\"url(#clip680)\" d=\"M 0 0 M38.479 762.107 L43.3487 762.107 L43.3487 767.709 Q43.3487 770.86 44.6219 772.101 Q45.895 773.311 49.2052 773.311 L52.3562 773.311 L52.3562 763.667 L56.9077 763.667 L56.9077 773.311 L88.0042 773.311 L88.0042 779.199 L56.9077 779.199 L56.9077 784.801 L52.3562 784.801 L52.3562 779.199 L49.8736 779.199 Q43.9216 779.199 41.2162 776.43 Q38.479 773.661 38.479 767.645 L38.479 762.107 Z\" fill=\"#000000\" fill-rule=\"evenodd\" fill-opacity=\"1\" /><path clip-path=\"url(#clip680)\" d=\"M 0 0 M38.5426 741.896 Q45.8632 746.161 53.0246 748.23 Q60.186 750.299 67.5384 750.299 Q74.8908 750.299 82.1159 748.23 Q89.3091 746.129 96.5979 741.896 L96.5979 746.989 Q89.1182 751.763 81.8931 754.15 Q74.668 756.505 67.5384 756.505 Q60.4406 756.505 53.2474 754.15 Q46.0542 751.795 38.5426 746.989 L38.5426 741.896 Z\" fill=\"#000000\" fill-rule=\"evenodd\" fill-opacity=\"1\" /><path clip-path=\"url(#clip680)\" d=\"M 0 0 M52.3562 706.121 L69.7028 719.011 L88.0042 705.452 L88.0042 712.359 L73.9996 722.735 L88.0042 733.111 L88.0042 740.018 L69.3526 726.173 L52.3562 738.84 L52.3562 731.934 L65.0558 722.481 L52.3562 713.027 L52.3562 706.121 Z\" fill=\"#000000\" fill-rule=\"evenodd\" fill-opacity=\"1\" /><path clip-path=\"url(#clip680)\" d=\"M 0 0 M38.5426 700.232 L38.5426 695.14 Q46.0542 690.366 53.2474 688.01 Q60.4406 685.623 67.5384 685.623 Q74.668 685.623 81.8931 688.01 Q89.1182 690.366 96.5979 695.14 L96.5979 700.232 Q89.3091 695.999 82.1159 693.93 Q74.8908 691.83 67.5384 691.83 Q60.186 691.83 53.0246 693.93 Q45.8632 695.999 38.5426 700.232 Z\" fill=\"#000000\" fill-rule=\"evenodd\" fill-opacity=\"1\" /><polyline clip-path=\"url(#clip682)\" style=\"stroke:#009af9; stroke-width:8; stroke-opacity:1; fill:none\" points=\"\n",
       "  258.84,1059.73 292.722,1091.37 326.605,1121.38 360.487,1149.78 394.369,1176.55 428.251,1201.7 462.133,1225.23 496.015,1247.13 529.897,1267.41 563.779,1286.07 \n",
       "  597.662,1303.11 631.544,1318.52 665.426,1332.32 699.308,1344.49 733.19,1355.03 767.072,1363.96 800.954,1371.26 834.837,1376.94 868.719,1380.99 902.601,1383.43 \n",
       "  936.483,1384.24 970.365,1383.43 1004.25,1380.99 1038.13,1376.94 1072.01,1371.26 1105.89,1363.96 1139.78,1355.03 1173.66,1344.49 1207.54,1332.32 1241.42,1318.52 \n",
       "  1275.3,1303.11 1309.19,1286.07 1343.07,1267.41 1376.95,1247.13 1410.83,1225.23 1444.71,1201.7 1478.6,1176.55 1512.48,1149.78 1546.36,1121.38 1580.24,1091.37 \n",
       "  1614.13,1059.73 1648.01,1026.46 1681.89,991.577 1715.77,955.07 1749.65,916.939 1783.54,877.186 1817.42,835.811 1851.3,792.813 1885.18,748.192 1919.06,701.949 \n",
       "  1952.95,654.084 1986.83,604.595 2020.71,553.485 2054.59,500.751 2088.48,446.395 2122.36,390.417 2156.24,332.816 2190.12,273.592 2224,212.746 2257.89,150.277 \n",
       "  2291.77,86.1857 \n",
       "  \"/>\n",
       "</svg>\n"
      ]
     },
     "execution_count": 5,
     "metadata": {},
     "output_type": "execute_result"
    }
   ],
   "source": [
    "@format standard 10\n",
    "using Plots\n",
    "\n",
    "function f(x)\n",
    "    return x.^2+2x\n",
    "end\n",
    "\n",
    "x = range(-3, 3, step = 0.1);\n",
    "y = f(x);\n",
    "\n",
    "println(f(0.9 .. 1.1))\n",
    "plot(x, y, xlabel=\"x\", ylabel=\"f(x)\", linewidth =2, legend = false)"
   ]
  },
  {
   "cell_type": "code",
   "execution_count": 6,
   "metadata": {},
   "outputs": [
    {
     "name": "stdout",
     "output_type": "stream",
     "text": [
      "2.6100000000000003\n",
      "3.41\n"
     ]
    }
   ],
   "source": [
    "println(f(0.9))\n",
    "println(f(1.1))"
   ]
  },
  {
   "cell_type": "markdown",
   "metadata": {},
   "source": [
    "$f(x)=x^2+2x$ のときは値域評価が区間拡張を利用しても精度が良い．一方で"
   ]
  },
  {
   "cell_type": "markdown",
   "metadata": {},
   "source": [
    "$f(x)=x^2-2x$;\n",
    "\n",
    "\\begin{align*}\n",
    "\tx&\\in[0.9,1.1]\\\\\n",
    "\tx^2&\\in[0.81,1.21]\\\\\n",
    "\t2x&\\in[1.8,2.2]\\\\\n",
    "\tx^2-2x&\\in[-1.39,-0.59]\\mbox{（幅0.8!）}\\\\\n",
    "\\end{align*}\n"
   ]
  },
  {
   "cell_type": "code",
   "execution_count": 7,
   "metadata": {},
   "outputs": [
    {
     "name": "stdout",
     "output_type": "stream",
     "text": [
      "[-1.390000001, -0.5899999999]\n",
      "-1\n",
      "-0.99\n"
     ]
    },
    {
     "data": {
      "image/svg+xml": [
       "<?xml version=\"1.0\" encoding=\"utf-8\"?>\n",
       "<svg xmlns=\"http://www.w3.org/2000/svg\" xmlns:xlink=\"http://www.w3.org/1999/xlink\" width=\"600\" height=\"400\" viewBox=\"0 0 2400 1600\">\n",
       "<defs>\n",
       "  <clipPath id=\"clip720\">\n",
       "    <rect x=\"0\" y=\"0\" width=\"2400\" height=\"1600\"/>\n",
       "  </clipPath>\n",
       "</defs>\n",
       "<path clip-path=\"url(#clip720)\" d=\"\n",
       "M0 1600 L2400 1600 L2400 0 L0 0  Z\n",
       "  \" fill=\"#ffffff\" fill-rule=\"evenodd\" fill-opacity=\"1\"/>\n",
       "<defs>\n",
       "  <clipPath id=\"clip721\">\n",
       "    <rect x=\"480\" y=\"0\" width=\"1681\" height=\"1600\"/>\n",
       "  </clipPath>\n",
       "</defs>\n",
       "<path clip-path=\"url(#clip720)\" d=\"\n",
       "M307.389 1423.18 L2352.76 1423.18 L2352.76 47.2441 L307.389 47.2441  Z\n",
       "  \" fill=\"#ffffff\" fill-rule=\"evenodd\" fill-opacity=\"1\"/>\n",
       "<defs>\n",
       "  <clipPath id=\"clip722\">\n",
       "    <rect x=\"307\" y=\"47\" width=\"2046\" height=\"1377\"/>\n",
       "  </clipPath>\n",
       "</defs>\n",
       "<polyline clip-path=\"url(#clip722)\" style=\"stroke:#000000; stroke-width:2; stroke-opacity:0.1; fill:none\" points=\"\n",
       "  365.277,1423.18 365.277,47.2441 \n",
       "  \"/>\n",
       "<polyline clip-path=\"url(#clip722)\" style=\"stroke:#000000; stroke-width:2; stroke-opacity:0.1; fill:none\" points=\"\n",
       "  847.675,1423.18 847.675,47.2441 \n",
       "  \"/>\n",
       "<polyline clip-path=\"url(#clip722)\" style=\"stroke:#000000; stroke-width:2; stroke-opacity:0.1; fill:none\" points=\"\n",
       "  1330.07,1423.18 1330.07,47.2441 \n",
       "  \"/>\n",
       "<polyline clip-path=\"url(#clip722)\" style=\"stroke:#000000; stroke-width:2; stroke-opacity:0.1; fill:none\" points=\"\n",
       "  1812.47,1423.18 1812.47,47.2441 \n",
       "  \"/>\n",
       "<polyline clip-path=\"url(#clip722)\" style=\"stroke:#000000; stroke-width:2; stroke-opacity:0.1; fill:none\" points=\"\n",
       "  2294.87,1423.18 2294.87,47.2441 \n",
       "  \"/>\n",
       "<polyline clip-path=\"url(#clip722)\" style=\"stroke:#000000; stroke-width:2; stroke-opacity:0.1; fill:none\" points=\"\n",
       "  307.389,1384.24 2352.76,1384.24 \n",
       "  \"/>\n",
       "<polyline clip-path=\"url(#clip722)\" style=\"stroke:#000000; stroke-width:2; stroke-opacity:0.1; fill:none\" points=\"\n",
       "  307.389,1059.73 2352.76,1059.73 \n",
       "  \"/>\n",
       "<polyline clip-path=\"url(#clip722)\" style=\"stroke:#000000; stroke-width:2; stroke-opacity:0.1; fill:none\" points=\"\n",
       "  307.389,735.212 2352.76,735.212 \n",
       "  \"/>\n",
       "<polyline clip-path=\"url(#clip722)\" style=\"stroke:#000000; stroke-width:2; stroke-opacity:0.1; fill:none\" points=\"\n",
       "  307.389,410.699 2352.76,410.699 \n",
       "  \"/>\n",
       "<polyline clip-path=\"url(#clip722)\" style=\"stroke:#000000; stroke-width:2; stroke-opacity:0.1; fill:none\" points=\"\n",
       "  307.389,86.1857 2352.76,86.1857 \n",
       "  \"/>\n",
       "<polyline clip-path=\"url(#clip720)\" style=\"stroke:#000000; stroke-width:4; stroke-opacity:1; fill:none\" points=\"\n",
       "  307.389,1423.18 2352.76,1423.18 \n",
       "  \"/>\n",
       "<polyline clip-path=\"url(#clip720)\" style=\"stroke:#000000; stroke-width:4; stroke-opacity:1; fill:none\" points=\"\n",
       "  307.389,1423.18 307.389,47.2441 \n",
       "  \"/>\n",
       "<polyline clip-path=\"url(#clip720)\" style=\"stroke:#000000; stroke-width:4; stroke-opacity:1; fill:none\" points=\"\n",
       "  365.277,1423.18 365.277,1406.67 \n",
       "  \"/>\n",
       "<polyline clip-path=\"url(#clip720)\" style=\"stroke:#000000; stroke-width:4; stroke-opacity:1; fill:none\" points=\"\n",
       "  847.675,1423.18 847.675,1406.67 \n",
       "  \"/>\n",
       "<polyline clip-path=\"url(#clip720)\" style=\"stroke:#000000; stroke-width:4; stroke-opacity:1; fill:none\" points=\"\n",
       "  1330.07,1423.18 1330.07,1406.67 \n",
       "  \"/>\n",
       "<polyline clip-path=\"url(#clip720)\" style=\"stroke:#000000; stroke-width:4; stroke-opacity:1; fill:none\" points=\"\n",
       "  1812.47,1423.18 1812.47,1406.67 \n",
       "  \"/>\n",
       "<polyline clip-path=\"url(#clip720)\" style=\"stroke:#000000; stroke-width:4; stroke-opacity:1; fill:none\" points=\"\n",
       "  2294.87,1423.18 2294.87,1406.67 \n",
       "  \"/>\n",
       "<polyline clip-path=\"url(#clip720)\" style=\"stroke:#000000; stroke-width:4; stroke-opacity:1; fill:none\" points=\"\n",
       "  307.389,1384.24 331.933,1384.24 \n",
       "  \"/>\n",
       "<polyline clip-path=\"url(#clip720)\" style=\"stroke:#000000; stroke-width:4; stroke-opacity:1; fill:none\" points=\"\n",
       "  307.389,1059.73 331.933,1059.73 \n",
       "  \"/>\n",
       "<polyline clip-path=\"url(#clip720)\" style=\"stroke:#000000; stroke-width:4; stroke-opacity:1; fill:none\" points=\"\n",
       "  307.389,735.212 331.933,735.212 \n",
       "  \"/>\n",
       "<polyline clip-path=\"url(#clip720)\" style=\"stroke:#000000; stroke-width:4; stroke-opacity:1; fill:none\" points=\"\n",
       "  307.389,410.699 331.933,410.699 \n",
       "  \"/>\n",
       "<polyline clip-path=\"url(#clip720)\" style=\"stroke:#000000; stroke-width:4; stroke-opacity:1; fill:none\" points=\"\n",
       "  307.389,86.1857 331.933,86.1857 \n",
       "  \"/>\n",
       "<path clip-path=\"url(#clip720)\" d=\"M 0 0 M333.379 1445.17 Q329.768 1445.17 327.939 1448.74 Q326.133 1452.28 326.133 1459.41 Q326.133 1466.51 327.939 1470.08 Q329.768 1473.62 333.379 1473.62 Q337.013 1473.62 338.818 1470.08 Q340.647 1466.51 340.647 1459.41 Q340.647 1452.28 338.818 1448.74 Q337.013 1445.17 333.379 1445.17 M333.379 1441.47 Q339.189 1441.47 342.244 1446.07 Q345.323 1450.66 345.323 1459.41 Q345.323 1468.13 342.244 1472.74 Q339.189 1477.32 333.379 1477.32 Q327.569 1477.32 324.49 1472.74 Q321.434 1468.13 321.434 1459.41 Q321.434 1450.66 324.49 1446.07 Q327.569 1441.47 333.379 1441.47 Z\" fill=\"#000000\" fill-rule=\"evenodd\" fill-opacity=\"1\" /><path clip-path=\"url(#clip720)\" d=\"M 0 0 M350.393 1470.77 L355.277 1470.77 L355.277 1476.65 L350.393 1476.65 L350.393 1470.77 Z\" fill=\"#000000\" fill-rule=\"evenodd\" fill-opacity=\"1\" /><path clip-path=\"url(#clip720)\" d=\"M 0 0 M360.485 1475.93 L360.485 1471.68 Q362.244 1472.51 364.05 1472.95 Q365.855 1473.39 367.591 1473.39 Q372.221 1473.39 374.652 1470.29 Q377.105 1467.16 377.453 1460.82 Q376.11 1462.81 374.05 1463.87 Q371.99 1464.94 369.49 1464.94 Q364.304 1464.94 361.272 1461.81 Q358.263 1458.67 358.263 1453.23 Q358.263 1447.9 361.411 1444.68 Q364.559 1441.47 369.791 1441.47 Q375.786 1441.47 378.934 1446.07 Q382.105 1450.66 382.105 1459.41 Q382.105 1467.58 378.216 1472.46 Q374.351 1477.32 367.8 1477.32 Q366.041 1477.32 364.235 1476.98 Q362.429 1476.63 360.485 1475.93 M369.791 1461.28 Q372.939 1461.28 374.767 1459.13 Q376.619 1456.98 376.619 1453.23 Q376.619 1449.5 374.767 1447.35 Q372.939 1445.17 369.791 1445.17 Q366.642 1445.17 364.791 1447.35 Q362.962 1449.5 362.962 1453.23 Q362.962 1456.98 364.791 1459.13 Q366.642 1461.28 369.791 1461.28 Z\" fill=\"#000000\" fill-rule=\"evenodd\" fill-opacity=\"1\" /><path clip-path=\"url(#clip720)\" d=\"M 0 0 M397.175 1445.17 Q393.564 1445.17 391.735 1448.74 Q389.929 1452.28 389.929 1459.41 Q389.929 1466.51 391.735 1470.08 Q393.564 1473.62 397.175 1473.62 Q400.809 1473.62 402.614 1470.08 Q404.443 1466.51 404.443 1459.41 Q404.443 1452.28 402.614 1448.74 Q400.809 1445.17 397.175 1445.17 M397.175 1441.47 Q402.985 1441.47 406.04 1446.07 Q409.119 1450.66 409.119 1459.41 Q409.119 1468.13 406.04 1472.74 Q402.985 1477.32 397.175 1477.32 Q391.365 1477.32 388.286 1472.74 Q385.23 1468.13 385.23 1459.41 Q385.23 1450.66 388.286 1446.07 Q391.365 1441.47 397.175 1441.47 Z\" fill=\"#000000\" fill-rule=\"evenodd\" fill-opacity=\"1\" /><path clip-path=\"url(#clip720)\" d=\"M 0 0 M816.274 1445.17 Q812.663 1445.17 810.834 1448.74 Q809.029 1452.28 809.029 1459.41 Q809.029 1466.51 810.834 1470.08 Q812.663 1473.62 816.274 1473.62 Q819.909 1473.62 821.714 1470.08 Q823.543 1466.51 823.543 1459.41 Q823.543 1452.28 821.714 1448.74 Q819.909 1445.17 816.274 1445.17 M816.274 1441.47 Q822.084 1441.47 825.14 1446.07 Q828.219 1450.66 828.219 1459.41 Q828.219 1468.13 825.14 1472.74 Q822.084 1477.32 816.274 1477.32 Q810.464 1477.32 807.385 1472.74 Q804.33 1468.13 804.33 1459.41 Q804.33 1450.66 807.385 1446.07 Q810.464 1441.47 816.274 1441.47 Z\" fill=\"#000000\" fill-rule=\"evenodd\" fill-opacity=\"1\" /><path clip-path=\"url(#clip720)\" d=\"M 0 0 M833.288 1470.77 L838.172 1470.77 L838.172 1476.65 L833.288 1476.65 L833.288 1470.77 Z\" fill=\"#000000\" fill-rule=\"evenodd\" fill-opacity=\"1\" /><path clip-path=\"url(#clip720)\" d=\"M 0 0 M843.381 1475.93 L843.381 1471.68 Q845.14 1472.51 846.945 1472.95 Q848.751 1473.39 850.487 1473.39 Q855.117 1473.39 857.547 1470.29 Q860.001 1467.16 860.348 1460.82 Q859.006 1462.81 856.945 1463.87 Q854.885 1464.94 852.385 1464.94 Q847.2 1464.94 844.168 1461.81 Q841.158 1458.67 841.158 1453.23 Q841.158 1447.9 844.307 1444.68 Q847.455 1441.47 852.686 1441.47 Q858.681 1441.47 861.83 1446.07 Q865.001 1450.66 865.001 1459.41 Q865.001 1467.58 861.112 1472.46 Q857.246 1477.32 850.695 1477.32 Q848.936 1477.32 847.131 1476.98 Q845.325 1476.63 843.381 1475.93 M852.686 1461.28 Q855.834 1461.28 857.663 1459.13 Q859.515 1456.98 859.515 1453.23 Q859.515 1449.5 857.663 1447.35 Q855.834 1445.17 852.686 1445.17 Q849.538 1445.17 847.686 1447.35 Q845.857 1449.5 845.857 1453.23 Q845.857 1456.98 847.686 1459.13 Q849.538 1461.28 852.686 1461.28 Z\" fill=\"#000000\" fill-rule=\"evenodd\" fill-opacity=\"1\" /><path clip-path=\"url(#clip720)\" d=\"M 0 0 M870.117 1442.09 L888.473 1442.09 L888.473 1446.03 L874.399 1446.03 L874.399 1454.5 Q875.417 1454.15 876.436 1453.99 Q877.454 1453.8 878.473 1453.8 Q884.26 1453.8 887.64 1456.98 Q891.019 1460.15 891.019 1465.56 Q891.019 1471.14 887.547 1474.24 Q884.075 1477.32 877.755 1477.32 Q875.58 1477.32 873.311 1476.95 Q871.066 1476.58 868.658 1475.84 L868.658 1471.14 Q870.742 1472.28 872.964 1472.83 Q875.186 1473.39 877.663 1473.39 Q881.667 1473.39 884.005 1471.28 Q886.343 1469.18 886.343 1465.56 Q886.343 1461.95 884.005 1459.85 Q881.667 1457.74 877.663 1457.74 Q875.788 1457.74 873.913 1458.16 Q872.061 1458.57 870.117 1459.45 L870.117 1442.09 Z\" fill=\"#000000\" fill-rule=\"evenodd\" fill-opacity=\"1\" /><path clip-path=\"url(#clip720)\" d=\"M 0 0 M1288.46 1472.72 L1296.1 1472.72 L1296.1 1446.35 L1287.79 1448.02 L1287.79 1443.76 L1296.06 1442.09 L1300.73 1442.09 L1300.73 1472.72 L1308.37 1472.72 L1308.37 1476.65 L1288.46 1476.65 L1288.46 1472.72 Z\" fill=\"#000000\" fill-rule=\"evenodd\" fill-opacity=\"1\" /><path clip-path=\"url(#clip720)\" d=\"M 0 0 M1313.44 1470.77 L1318.32 1470.77 L1318.32 1476.65 L1313.44 1476.65 L1313.44 1470.77 Z\" fill=\"#000000\" fill-rule=\"evenodd\" fill-opacity=\"1\" /><path clip-path=\"url(#clip720)\" d=\"M 0 0 M1333.39 1445.17 Q1329.78 1445.17 1327.95 1448.74 Q1326.15 1452.28 1326.15 1459.41 Q1326.15 1466.51 1327.95 1470.08 Q1329.78 1473.62 1333.39 1473.62 Q1337.03 1473.62 1338.83 1470.08 Q1340.66 1466.51 1340.66 1459.41 Q1340.66 1452.28 1338.83 1448.74 Q1337.03 1445.17 1333.39 1445.17 M1333.39 1441.47 Q1339.2 1441.47 1342.26 1446.07 Q1345.34 1450.66 1345.34 1459.41 Q1345.34 1468.13 1342.26 1472.74 Q1339.2 1477.32 1333.39 1477.32 Q1327.58 1477.32 1324.51 1472.74 Q1321.45 1468.13 1321.45 1459.41 Q1321.45 1450.66 1324.51 1446.07 Q1327.58 1441.47 1333.39 1441.47 Z\" fill=\"#000000\" fill-rule=\"evenodd\" fill-opacity=\"1\" /><path clip-path=\"url(#clip720)\" d=\"M 0 0 M1360.41 1445.17 Q1356.8 1445.17 1354.97 1448.74 Q1353.16 1452.28 1353.16 1459.41 Q1353.16 1466.51 1354.97 1470.08 Q1356.8 1473.62 1360.41 1473.62 Q1364.04 1473.62 1365.85 1470.08 Q1367.68 1466.51 1367.68 1459.41 Q1367.68 1452.28 1365.85 1448.74 Q1364.04 1445.17 1360.41 1445.17 M1360.41 1441.47 Q1366.22 1441.47 1369.27 1446.07 Q1372.35 1450.66 1372.35 1459.41 Q1372.35 1468.13 1369.27 1472.74 Q1366.22 1477.32 1360.41 1477.32 Q1354.6 1477.32 1351.52 1472.74 Q1348.46 1468.13 1348.46 1459.41 Q1348.46 1450.66 1351.52 1446.07 Q1354.6 1441.47 1360.41 1441.47 Z\" fill=\"#000000\" fill-rule=\"evenodd\" fill-opacity=\"1\" /><path clip-path=\"url(#clip720)\" d=\"M 0 0 M1771.36 1472.72 L1779 1472.72 L1779 1446.35 L1770.69 1448.02 L1770.69 1443.76 L1778.95 1442.09 L1783.63 1442.09 L1783.63 1472.72 L1791.27 1472.72 L1791.27 1476.65 L1771.36 1476.65 L1771.36 1472.72 Z\" fill=\"#000000\" fill-rule=\"evenodd\" fill-opacity=\"1\" /><path clip-path=\"url(#clip720)\" d=\"M 0 0 M1796.34 1470.77 L1801.22 1470.77 L1801.22 1476.65 L1796.34 1476.65 L1796.34 1470.77 Z\" fill=\"#000000\" fill-rule=\"evenodd\" fill-opacity=\"1\" /><path clip-path=\"url(#clip720)\" d=\"M 0 0 M1816.29 1445.17 Q1812.68 1445.17 1810.85 1448.74 Q1809.04 1452.28 1809.04 1459.41 Q1809.04 1466.51 1810.85 1470.08 Q1812.68 1473.62 1816.29 1473.62 Q1819.92 1473.62 1821.73 1470.08 Q1823.56 1466.51 1823.56 1459.41 Q1823.56 1452.28 1821.73 1448.74 Q1819.92 1445.17 1816.29 1445.17 M1816.29 1441.47 Q1822.1 1441.47 1825.16 1446.07 Q1828.23 1450.66 1828.23 1459.41 Q1828.23 1468.13 1825.16 1472.74 Q1822.1 1477.32 1816.29 1477.32 Q1810.48 1477.32 1807.4 1472.74 Q1804.35 1468.13 1804.35 1459.41 Q1804.35 1450.66 1807.4 1446.07 Q1810.48 1441.47 1816.29 1441.47 Z\" fill=\"#000000\" fill-rule=\"evenodd\" fill-opacity=\"1\" /><path clip-path=\"url(#clip720)\" d=\"M 0 0 M1833.35 1442.09 L1851.71 1442.09 L1851.71 1446.03 L1837.63 1446.03 L1837.63 1454.5 Q1838.65 1454.15 1839.67 1453.99 Q1840.69 1453.8 1841.71 1453.8 Q1847.49 1453.8 1850.87 1456.98 Q1854.25 1460.15 1854.25 1465.56 Q1854.25 1471.14 1850.78 1474.24 Q1847.31 1477.32 1840.99 1477.32 Q1838.81 1477.32 1836.54 1476.95 Q1834.3 1476.58 1831.89 1475.84 L1831.89 1471.14 Q1833.97 1472.28 1836.2 1472.83 Q1838.42 1473.39 1840.9 1473.39 Q1844.9 1473.39 1847.24 1471.28 Q1849.58 1469.18 1849.58 1465.56 Q1849.58 1461.95 1847.24 1459.85 Q1844.9 1457.74 1840.9 1457.74 Q1839.02 1457.74 1837.15 1458.16 Q1835.29 1458.57 1833.35 1459.45 L1833.35 1442.09 Z\" fill=\"#000000\" fill-rule=\"evenodd\" fill-opacity=\"1\" /><path clip-path=\"url(#clip720)\" d=\"M 0 0 M2253.87 1472.72 L2261.51 1472.72 L2261.51 1446.35 L2253.2 1448.02 L2253.2 1443.76 L2261.47 1442.09 L2266.14 1442.09 L2266.14 1472.72 L2273.78 1472.72 L2273.78 1476.65 L2253.87 1476.65 L2253.87 1472.72 Z\" fill=\"#000000\" fill-rule=\"evenodd\" fill-opacity=\"1\" /><path clip-path=\"url(#clip720)\" d=\"M 0 0 M2278.85 1470.77 L2283.73 1470.77 L2283.73 1476.65 L2278.85 1476.65 L2278.85 1470.77 Z\" fill=\"#000000\" fill-rule=\"evenodd\" fill-opacity=\"1\" /><path clip-path=\"url(#clip720)\" d=\"M 0 0 M2289.61 1472.72 L2297.25 1472.72 L2297.25 1446.35 L2288.94 1448.02 L2288.94 1443.76 L2297.21 1442.09 L2301.88 1442.09 L2301.88 1472.72 L2309.52 1472.72 L2309.52 1476.65 L2289.61 1476.65 L2289.61 1472.72 Z\" fill=\"#000000\" fill-rule=\"evenodd\" fill-opacity=\"1\" /><path clip-path=\"url(#clip720)\" d=\"M 0 0 M2324.59 1445.17 Q2320.98 1445.17 2319.15 1448.74 Q2317.34 1452.28 2317.34 1459.41 Q2317.34 1466.51 2319.15 1470.08 Q2320.98 1473.62 2324.59 1473.62 Q2328.22 1473.62 2330.03 1470.08 Q2331.86 1466.51 2331.86 1459.41 Q2331.86 1452.28 2330.03 1448.74 Q2328.22 1445.17 2324.59 1445.17 M2324.59 1441.47 Q2330.4 1441.47 2333.46 1446.07 Q2336.53 1450.66 2336.53 1459.41 Q2336.53 1468.13 2333.46 1472.74 Q2330.4 1477.32 2324.59 1477.32 Q2318.78 1477.32 2315.7 1472.74 Q2312.65 1468.13 2312.65 1459.41 Q2312.65 1450.66 2315.7 1446.07 Q2318.78 1441.47 2324.59 1441.47 Z\" fill=\"#000000\" fill-rule=\"evenodd\" fill-opacity=\"1\" /><path clip-path=\"url(#clip720)\" d=\"M 0 0 M127.117 1386.63 L139.593 1386.63 L139.593 1390.43 L127.117 1390.43 L127.117 1386.63 Z\" fill=\"#000000\" fill-rule=\"evenodd\" fill-opacity=\"1\" /><path clip-path=\"url(#clip720)\" d=\"M 0 0 M145.473 1397.58 L153.112 1397.58 L153.112 1371.22 L144.802 1372.88 L144.802 1368.62 L153.066 1366.96 L157.741 1366.96 L157.741 1397.58 L165.38 1397.58 L165.38 1401.52 L145.473 1401.52 L145.473 1397.58 Z\" fill=\"#000000\" fill-rule=\"evenodd\" fill-opacity=\"1\" /><path clip-path=\"url(#clip720)\" d=\"M 0 0 M170.45 1395.64 L175.334 1395.64 L175.334 1401.52 L170.45 1401.52 L170.45 1395.64 Z\" fill=\"#000000\" fill-rule=\"evenodd\" fill-opacity=\"1\" /><path clip-path=\"url(#clip720)\" d=\"M 0 0 M190.403 1370.04 Q186.792 1370.04 184.964 1373.6 Q183.158 1377.14 183.158 1384.27 Q183.158 1391.38 184.964 1394.94 Q186.792 1398.49 190.403 1398.49 Q194.038 1398.49 195.843 1394.94 Q197.672 1391.38 197.672 1384.27 Q197.672 1377.14 195.843 1373.6 Q194.038 1370.04 190.403 1370.04 M190.403 1366.33 Q196.213 1366.33 199.269 1370.94 Q202.348 1375.52 202.348 1384.27 Q202.348 1393 199.269 1397.61 Q196.213 1402.19 190.403 1402.19 Q184.593 1402.19 181.514 1397.61 Q178.459 1393 178.459 1384.27 Q178.459 1375.52 181.514 1370.94 Q184.593 1366.33 190.403 1366.33 Z\" fill=\"#000000\" fill-rule=\"evenodd\" fill-opacity=\"1\" /><path clip-path=\"url(#clip720)\" d=\"M 0 0 M217.417 1370.04 Q213.806 1370.04 211.977 1373.6 Q210.172 1377.14 210.172 1384.27 Q210.172 1391.38 211.977 1394.94 Q213.806 1398.49 217.417 1398.49 Q221.051 1398.49 222.857 1394.94 Q224.686 1391.38 224.686 1384.27 Q224.686 1377.14 222.857 1373.6 Q221.051 1370.04 217.417 1370.04 M217.417 1366.33 Q223.227 1366.33 226.283 1370.94 Q229.361 1375.52 229.361 1384.27 Q229.361 1393 226.283 1397.61 Q223.227 1402.19 217.417 1402.19 Q211.607 1402.19 208.528 1397.61 Q205.473 1393 205.473 1384.27 Q205.473 1375.52 208.528 1370.94 Q211.607 1366.33 217.417 1366.33 Z\" fill=\"#000000\" fill-rule=\"evenodd\" fill-opacity=\"1\" /><path clip-path=\"url(#clip720)\" d=\"M 0 0 M244.431 1370.04 Q240.82 1370.04 238.991 1373.6 Q237.185 1377.14 237.185 1384.27 Q237.185 1391.38 238.991 1394.94 Q240.82 1398.49 244.431 1398.49 Q248.065 1398.49 249.871 1394.94 Q251.699 1391.38 251.699 1384.27 Q251.699 1377.14 249.871 1373.6 Q248.065 1370.04 244.431 1370.04 M244.431 1366.33 Q250.241 1366.33 253.297 1370.94 Q256.375 1375.52 256.375 1384.27 Q256.375 1393 253.297 1397.61 Q250.241 1402.19 244.431 1402.19 Q238.621 1402.19 235.542 1397.61 Q232.486 1393 232.486 1384.27 Q232.486 1375.52 235.542 1370.94 Q238.621 1366.33 244.431 1366.33 Z\" fill=\"#000000\" fill-rule=\"evenodd\" fill-opacity=\"1\" /><path clip-path=\"url(#clip720)\" d=\"M 0 0 M271.445 1370.04 Q267.833 1370.04 266.005 1373.6 Q264.199 1377.14 264.199 1384.27 Q264.199 1391.38 266.005 1394.94 Q267.833 1398.49 271.445 1398.49 Q275.079 1398.49 276.884 1394.94 Q278.713 1391.38 278.713 1384.27 Q278.713 1377.14 276.884 1373.6 Q275.079 1370.04 271.445 1370.04 M271.445 1366.33 Q277.255 1366.33 280.31 1370.94 Q283.389 1375.52 283.389 1384.27 Q283.389 1393 280.31 1397.61 Q277.255 1402.19 271.445 1402.19 Q265.634 1402.19 262.556 1397.61 Q259.5 1393 259.5 1384.27 Q259.5 1375.52 262.556 1370.94 Q265.634 1366.33 271.445 1366.33 Z\" fill=\"#000000\" fill-rule=\"evenodd\" fill-opacity=\"1\" /><path clip-path=\"url(#clip720)\" d=\"M 0 0 M128.158 1062.12 L140.635 1062.12 L140.635 1065.92 L128.158 1065.92 L128.158 1062.12 Z\" fill=\"#000000\" fill-rule=\"evenodd\" fill-opacity=\"1\" /><path clip-path=\"url(#clip720)\" d=\"M 0 0 M155.704 1045.52 Q152.093 1045.52 150.265 1049.09 Q148.459 1052.63 148.459 1059.76 Q148.459 1066.87 150.265 1070.43 Q152.093 1073.97 155.704 1073.97 Q159.339 1073.97 161.144 1070.43 Q162.973 1066.87 162.973 1059.76 Q162.973 1052.63 161.144 1049.09 Q159.339 1045.52 155.704 1045.52 M155.704 1041.82 Q161.515 1041.82 164.57 1046.43 Q167.649 1051.01 167.649 1059.76 Q167.649 1068.49 164.57 1073.09 Q161.515 1077.68 155.704 1077.68 Q149.894 1077.68 146.816 1073.09 Q143.76 1068.49 143.76 1059.76 Q143.76 1051.01 146.816 1046.43 Q149.894 1041.82 155.704 1041.82 Z\" fill=\"#000000\" fill-rule=\"evenodd\" fill-opacity=\"1\" /><path clip-path=\"url(#clip720)\" d=\"M 0 0 M172.718 1071.13 L177.602 1071.13 L177.602 1077.01 L172.718 1077.01 L172.718 1071.13 Z\" fill=\"#000000\" fill-rule=\"evenodd\" fill-opacity=\"1\" /><path clip-path=\"url(#clip720)\" d=\"M 0 0 M182.811 1076.29 L182.811 1072.03 Q184.57 1072.86 186.376 1073.3 Q188.181 1073.74 189.917 1073.74 Q194.547 1073.74 196.977 1070.64 Q199.431 1067.51 199.778 1061.17 Q198.436 1063.16 196.376 1064.23 Q194.315 1065.29 191.815 1065.29 Q186.63 1065.29 183.598 1062.17 Q180.589 1059.02 180.589 1053.58 Q180.589 1048.26 183.737 1045.04 Q186.885 1041.82 192.116 1041.82 Q198.112 1041.82 201.26 1046.43 Q204.431 1051.01 204.431 1059.76 Q204.431 1067.93 200.542 1072.82 Q196.676 1077.68 190.126 1077.68 Q188.366 1077.68 186.561 1077.33 Q184.755 1076.98 182.811 1076.29 M192.116 1061.63 Q195.264 1061.63 197.093 1059.48 Q198.945 1057.33 198.945 1053.58 Q198.945 1049.85 197.093 1047.7 Q195.264 1045.52 192.116 1045.52 Q188.968 1045.52 187.116 1047.7 Q185.288 1049.85 185.288 1053.58 Q185.288 1057.33 187.116 1059.48 Q188.968 1061.63 192.116 1061.63 Z\" fill=\"#000000\" fill-rule=\"evenodd\" fill-opacity=\"1\" /><path clip-path=\"url(#clip720)\" d=\"M 0 0 M209.639 1076.29 L209.639 1072.03 Q211.399 1072.86 213.204 1073.3 Q215.01 1073.74 216.746 1073.74 Q221.375 1073.74 223.806 1070.64 Q226.26 1067.51 226.607 1061.17 Q225.264 1063.16 223.204 1064.23 Q221.144 1065.29 218.644 1065.29 Q213.459 1065.29 210.426 1062.17 Q207.417 1059.02 207.417 1053.58 Q207.417 1048.26 210.565 1045.04 Q213.713 1041.82 218.945 1041.82 Q224.94 1041.82 228.088 1046.43 Q231.26 1051.01 231.26 1059.76 Q231.26 1067.93 227.371 1072.82 Q223.505 1077.68 216.954 1077.68 Q215.195 1077.68 213.389 1077.33 Q211.584 1076.98 209.639 1076.29 M218.945 1061.63 Q222.093 1061.63 223.922 1059.48 Q225.774 1057.33 225.774 1053.58 Q225.774 1049.85 223.922 1047.7 Q222.093 1045.52 218.945 1045.52 Q215.797 1045.52 213.945 1047.7 Q212.116 1049.85 212.116 1053.58 Q212.116 1057.33 213.945 1059.48 Q215.797 1061.63 218.945 1061.63 Z\" fill=\"#000000\" fill-rule=\"evenodd\" fill-opacity=\"1\" /><path clip-path=\"url(#clip720)\" d=\"M 0 0 M235.148 1042.45 L257.371 1042.45 L257.371 1044.44 L244.824 1077.01 L239.94 1077.01 L251.746 1046.38 L235.148 1046.38 L235.148 1042.45 Z\" fill=\"#000000\" fill-rule=\"evenodd\" fill-opacity=\"1\" /><path clip-path=\"url(#clip720)\" d=\"M 0 0 M262.486 1042.45 L280.843 1042.45 L280.843 1046.38 L266.769 1046.38 L266.769 1054.85 Q267.787 1054.51 268.806 1054.34 Q269.824 1054.16 270.843 1054.16 Q276.63 1054.16 280.009 1057.33 Q283.389 1060.5 283.389 1065.92 Q283.389 1071.5 279.917 1074.6 Q276.445 1077.68 270.125 1077.68 Q267.949 1077.68 265.681 1077.31 Q263.435 1076.94 261.028 1076.19 L261.028 1071.5 Q263.111 1072.63 265.333 1073.19 Q267.556 1073.74 270.033 1073.74 Q274.037 1073.74 276.375 1071.63 Q278.713 1069.53 278.713 1065.92 Q278.713 1062.31 276.375 1060.2 Q274.037 1058.09 270.033 1058.09 Q268.158 1058.09 266.283 1058.51 Q264.431 1058.93 262.486 1059.81 L262.486 1042.45 Z\" fill=\"#000000\" fill-rule=\"evenodd\" fill-opacity=\"1\" /><path clip-path=\"url(#clip720)\" d=\"M 0 0 M127.256 737.608 L139.732 737.608 L139.732 741.404 L127.256 741.404 L127.256 737.608 Z\" fill=\"#000000\" fill-rule=\"evenodd\" fill-opacity=\"1\" /><path clip-path=\"url(#clip720)\" d=\"M 0 0 M154.802 721.011 Q151.191 721.011 149.362 724.575 Q147.556 728.117 147.556 735.247 Q147.556 742.353 149.362 745.918 Q151.191 749.46 154.802 749.46 Q158.436 749.46 160.241 745.918 Q162.07 742.353 162.07 735.247 Q162.07 728.117 160.241 724.575 Q158.436 721.011 154.802 721.011 M154.802 717.307 Q160.612 717.307 163.667 721.913 Q166.746 726.497 166.746 735.247 Q166.746 743.973 163.667 748.58 Q160.612 753.163 154.802 753.163 Q148.992 753.163 145.913 748.58 Q142.857 743.973 142.857 735.247 Q142.857 726.497 145.913 721.913 Q148.992 717.307 154.802 717.307 Z\" fill=\"#000000\" fill-rule=\"evenodd\" fill-opacity=\"1\" /><path clip-path=\"url(#clip720)\" d=\"M 0 0 M171.815 746.612 L176.7 746.612 L176.7 752.492 L171.815 752.492 L171.815 746.612 Z\" fill=\"#000000\" fill-rule=\"evenodd\" fill-opacity=\"1\" /><path clip-path=\"url(#clip720)\" d=\"M 0 0 M181.908 751.774 L181.908 747.515 Q183.667 748.348 185.473 748.788 Q187.278 749.228 189.014 749.228 Q193.644 749.228 196.075 746.126 Q198.528 743.001 198.876 736.659 Q197.533 738.649 195.473 739.714 Q193.413 740.779 190.913 740.779 Q185.727 740.779 182.695 737.654 Q179.686 734.506 179.686 729.066 Q179.686 723.742 182.834 720.525 Q185.982 717.307 191.214 717.307 Q197.209 717.307 200.357 721.913 Q203.528 726.497 203.528 735.247 Q203.528 743.418 199.639 748.302 Q195.774 753.163 189.223 753.163 Q187.464 753.163 185.658 752.816 Q183.852 752.469 181.908 751.774 M191.214 737.122 Q194.362 737.122 196.19 734.969 Q198.042 732.816 198.042 729.066 Q198.042 725.339 196.19 723.187 Q194.362 721.011 191.214 721.011 Q188.065 721.011 186.214 723.187 Q184.385 725.339 184.385 729.066 Q184.385 732.816 186.214 734.969 Q188.065 737.122 191.214 737.122 Z\" fill=\"#000000\" fill-rule=\"evenodd\" fill-opacity=\"1\" /><path clip-path=\"url(#clip720)\" d=\"M 0 0 M208.737 751.774 L208.737 747.515 Q210.496 748.348 212.301 748.788 Q214.107 749.228 215.843 749.228 Q220.473 749.228 222.903 746.126 Q225.357 743.001 225.704 736.659 Q224.361 738.649 222.301 739.714 Q220.241 740.779 217.741 740.779 Q212.556 740.779 209.524 737.654 Q206.514 734.506 206.514 729.066 Q206.514 723.742 209.662 720.525 Q212.811 717.307 218.042 717.307 Q224.037 717.307 227.186 721.913 Q230.357 726.497 230.357 735.247 Q230.357 743.418 226.468 748.302 Q222.602 753.163 216.051 753.163 Q214.292 753.163 212.487 752.816 Q210.681 752.469 208.737 751.774 M218.042 737.122 Q221.19 737.122 223.019 734.969 Q224.871 732.816 224.871 729.066 Q224.871 725.339 223.019 723.187 Q221.19 721.011 218.042 721.011 Q214.894 721.011 213.042 723.187 Q211.213 725.339 211.213 729.066 Q211.213 732.816 213.042 734.969 Q214.894 737.122 218.042 737.122 Z\" fill=\"#000000\" fill-rule=\"evenodd\" fill-opacity=\"1\" /><path clip-path=\"url(#clip720)\" d=\"M 0 0 M235.473 717.932 L253.829 717.932 L253.829 721.867 L239.755 721.867 L239.755 730.339 Q240.773 729.992 241.792 729.83 Q242.81 729.645 243.829 729.645 Q249.616 729.645 252.996 732.816 Q256.375 735.987 256.375 741.404 Q256.375 746.983 252.903 750.085 Q249.431 753.163 243.111 753.163 Q240.935 753.163 238.667 752.793 Q236.422 752.423 234.014 751.682 L234.014 746.983 Q236.098 748.117 238.32 748.673 Q240.542 749.228 243.019 749.228 Q247.023 749.228 249.361 747.122 Q251.699 745.015 251.699 741.404 Q251.699 737.793 249.361 735.687 Q247.023 733.58 243.019 733.58 Q241.144 733.58 239.269 733.997 Q237.417 734.413 235.473 735.293 L235.473 717.932 Z\" fill=\"#000000\" fill-rule=\"evenodd\" fill-opacity=\"1\" /><path clip-path=\"url(#clip720)\" d=\"M 0 0 M271.445 721.011 Q267.833 721.011 266.005 724.575 Q264.199 728.117 264.199 735.247 Q264.199 742.353 266.005 745.918 Q267.833 749.46 271.445 749.46 Q275.079 749.46 276.884 745.918 Q278.713 742.353 278.713 735.247 Q278.713 728.117 276.884 724.575 Q275.079 721.011 271.445 721.011 M271.445 717.307 Q277.255 717.307 280.31 721.913 Q283.389 726.497 283.389 735.247 Q283.389 743.973 280.31 748.58 Q277.255 753.163 271.445 753.163 Q265.634 753.163 262.556 748.58 Q259.5 743.973 259.5 735.247 Q259.5 726.497 262.556 721.913 Q265.634 717.307 271.445 717.307 Z\" fill=\"#000000\" fill-rule=\"evenodd\" fill-opacity=\"1\" /><path clip-path=\"url(#clip720)\" d=\"M 0 0 M128.853 413.095 L141.33 413.095 L141.33 416.891 L128.853 416.891 L128.853 413.095 Z\" fill=\"#000000\" fill-rule=\"evenodd\" fill-opacity=\"1\" /><path clip-path=\"url(#clip720)\" d=\"M 0 0 M156.399 396.498 Q152.788 396.498 150.959 400.062 Q149.154 403.604 149.154 410.734 Q149.154 417.84 150.959 421.405 Q152.788 424.946 156.399 424.946 Q160.033 424.946 161.839 421.405 Q163.667 417.84 163.667 410.734 Q163.667 403.604 161.839 400.062 Q160.033 396.498 156.399 396.498 M156.399 392.794 Q162.209 392.794 165.265 397.4 Q168.343 401.984 168.343 410.734 Q168.343 419.46 165.265 424.067 Q162.209 428.65 156.399 428.65 Q150.589 428.65 147.51 424.067 Q144.455 419.46 144.455 410.734 Q144.455 401.984 147.51 397.4 Q150.589 392.794 156.399 392.794 Z\" fill=\"#000000\" fill-rule=\"evenodd\" fill-opacity=\"1\" /><path clip-path=\"url(#clip720)\" d=\"M 0 0 M173.413 422.099 L178.297 422.099 L178.297 427.979 L173.413 427.979 L173.413 422.099 Z\" fill=\"#000000\" fill-rule=\"evenodd\" fill-opacity=\"1\" /><path clip-path=\"url(#clip720)\" d=\"M 0 0 M183.505 427.261 L183.505 423.002 Q185.264 423.835 187.07 424.275 Q188.876 424.715 190.612 424.715 Q195.241 424.715 197.672 421.613 Q200.126 418.488 200.473 412.146 Q199.13 414.136 197.07 415.201 Q195.01 416.266 192.51 416.266 Q187.325 416.266 184.292 413.141 Q181.283 409.993 181.283 404.553 Q181.283 399.229 184.431 396.011 Q187.579 392.794 192.811 392.794 Q198.806 392.794 201.954 397.4 Q205.125 401.984 205.125 410.734 Q205.125 418.905 201.237 423.789 Q197.371 428.65 190.82 428.65 Q189.061 428.65 187.255 428.303 Q185.45 427.956 183.505 427.261 M192.811 412.609 Q195.959 412.609 197.788 410.456 Q199.639 408.303 199.639 404.553 Q199.639 400.826 197.788 398.673 Q195.959 396.498 192.811 396.498 Q189.663 396.498 187.811 398.673 Q185.982 400.826 185.982 404.553 Q185.982 408.303 187.811 410.456 Q189.663 412.609 192.811 412.609 Z\" fill=\"#000000\" fill-rule=\"evenodd\" fill-opacity=\"1\" /><path clip-path=\"url(#clip720)\" d=\"M 0 0 M210.334 427.261 L210.334 423.002 Q212.093 423.835 213.899 424.275 Q215.704 424.715 217.44 424.715 Q222.07 424.715 224.5 421.613 Q226.954 418.488 227.301 412.146 Q225.959 414.136 223.899 415.201 Q221.838 416.266 219.338 416.266 Q214.153 416.266 211.121 413.141 Q208.112 409.993 208.112 404.553 Q208.112 399.229 211.26 396.011 Q214.408 392.794 219.639 392.794 Q225.635 392.794 228.783 397.4 Q231.954 401.984 231.954 410.734 Q231.954 418.905 228.065 423.789 Q224.199 428.65 217.649 428.65 Q215.889 428.65 214.084 428.303 Q212.278 427.956 210.334 427.261 M219.639 412.609 Q222.787 412.609 224.616 410.456 Q226.468 408.303 226.468 404.553 Q226.468 400.826 224.616 398.673 Q222.787 396.498 219.639 396.498 Q216.491 396.498 214.639 398.673 Q212.811 400.826 212.811 404.553 Q212.811 408.303 214.639 410.456 Q216.491 412.609 219.639 412.609 Z\" fill=\"#000000\" fill-rule=\"evenodd\" fill-opacity=\"1\" /><path clip-path=\"url(#clip720)\" d=\"M 0 0 M241.051 424.044 L257.371 424.044 L257.371 427.979 L235.426 427.979 L235.426 424.044 Q238.088 421.289 242.672 416.659 Q247.278 412.007 248.459 410.664 Q250.704 408.141 251.584 406.405 Q252.486 404.646 252.486 402.956 Q252.486 400.201 250.542 398.465 Q248.621 396.729 245.519 396.729 Q243.32 396.729 240.866 397.493 Q238.435 398.257 235.658 399.808 L235.658 395.085 Q238.482 393.951 240.935 393.373 Q243.389 392.794 245.426 392.794 Q250.797 392.794 253.991 395.479 Q257.185 398.164 257.185 402.655 Q257.185 404.785 256.375 406.706 Q255.588 408.604 253.482 411.197 Q252.903 411.868 249.801 415.085 Q246.699 418.28 241.051 424.044 Z\" fill=\"#000000\" fill-rule=\"evenodd\" fill-opacity=\"1\" /><path clip-path=\"url(#clip720)\" d=\"M 0 0 M262.486 393.419 L280.843 393.419 L280.843 397.354 L266.769 397.354 L266.769 405.826 Q267.787 405.479 268.806 405.317 Q269.824 405.132 270.843 405.132 Q276.63 405.132 280.009 408.303 Q283.389 411.474 283.389 416.891 Q283.389 422.47 279.917 425.571 Q276.445 428.65 270.125 428.65 Q267.949 428.65 265.681 428.28 Q263.435 427.909 261.028 427.169 L261.028 422.47 Q263.111 423.604 265.333 424.159 Q267.556 424.715 270.033 424.715 Q274.037 424.715 276.375 422.608 Q278.713 420.502 278.713 416.891 Q278.713 413.28 276.375 411.173 Q274.037 409.067 270.033 409.067 Q268.158 409.067 266.283 409.484 Q264.431 409.9 262.486 410.78 L262.486 393.419 Z\" fill=\"#000000\" fill-rule=\"evenodd\" fill-opacity=\"1\" /><path clip-path=\"url(#clip720)\" d=\"M 0 0 M126.26 88.5815 L138.737 88.5815 L138.737 92.3778 L126.26 92.3778 L126.26 88.5815 Z\" fill=\"#000000\" fill-rule=\"evenodd\" fill-opacity=\"1\" /><path clip-path=\"url(#clip720)\" d=\"M 0 0 M153.806 71.9844 Q150.195 71.9844 148.367 75.5492 Q146.561 79.0908 146.561 86.2204 Q146.561 93.3268 148.367 96.8916 Q150.195 100.433 153.806 100.433 Q157.441 100.433 159.246 96.8916 Q161.075 93.3268 161.075 86.2204 Q161.075 79.0908 159.246 75.5492 Q157.441 71.9844 153.806 71.9844 M153.806 68.2807 Q159.616 68.2807 162.672 72.8871 Q165.751 77.4704 165.751 86.2204 Q165.751 94.9472 162.672 99.5537 Q159.616 104.137 153.806 104.137 Q147.996 104.137 144.917 99.5537 Q141.862 94.9472 141.862 86.2204 Q141.862 77.4704 144.917 72.8871 Q147.996 68.2807 153.806 68.2807 Z\" fill=\"#000000\" fill-rule=\"evenodd\" fill-opacity=\"1\" /><path clip-path=\"url(#clip720)\" d=\"M 0 0 M170.82 97.5861 L175.704 97.5861 L175.704 103.466 L170.82 103.466 L170.82 97.5861 Z\" fill=\"#000000\" fill-rule=\"evenodd\" fill-opacity=\"1\" /><path clip-path=\"url(#clip720)\" d=\"M 0 0 M180.913 102.748 L180.913 98.4888 Q182.672 99.3222 184.477 99.762 Q186.283 100.202 188.019 100.202 Q192.649 100.202 195.079 97.1 Q197.533 93.975 197.88 87.6324 Q196.538 89.6232 194.477 90.688 Q192.417 91.7528 189.917 91.7528 Q184.732 91.7528 181.7 88.6278 Q178.69 85.4797 178.69 80.0399 Q178.69 74.7158 181.839 71.4983 Q184.987 68.2807 190.218 68.2807 Q196.213 68.2807 199.362 72.8871 Q202.533 77.4704 202.533 86.2204 Q202.533 94.3916 198.644 99.2759 Q194.778 104.137 188.227 104.137 Q186.468 104.137 184.663 103.79 Q182.857 103.443 180.913 102.748 M190.218 88.0954 Q193.366 88.0954 195.195 85.9426 Q197.047 83.7899 197.047 80.0399 Q197.047 76.313 195.195 74.1603 Q193.366 71.9844 190.218 71.9844 Q187.07 71.9844 185.218 74.1603 Q183.389 76.313 183.389 80.0399 Q183.389 83.7899 185.218 85.9426 Q187.07 88.0954 190.218 88.0954 Z\" fill=\"#000000\" fill-rule=\"evenodd\" fill-opacity=\"1\" /><path clip-path=\"url(#clip720)\" d=\"M 0 0 M207.741 102.748 L207.741 98.4888 Q209.5 99.3222 211.306 99.762 Q213.112 100.202 214.848 100.202 Q219.477 100.202 221.908 97.1 Q224.361 93.975 224.709 87.6324 Q223.366 89.6232 221.306 90.688 Q219.246 91.7528 216.746 91.7528 Q211.561 91.7528 208.528 88.6278 Q205.519 85.4797 205.519 80.0399 Q205.519 74.7158 208.667 71.4983 Q211.815 68.2807 217.047 68.2807 Q223.042 68.2807 226.19 72.8871 Q229.361 77.4704 229.361 86.2204 Q229.361 94.3916 225.473 99.2759 Q221.607 104.137 215.056 104.137 Q213.297 104.137 211.491 103.79 Q209.686 103.443 207.741 102.748 M217.047 88.0954 Q220.195 88.0954 222.024 85.9426 Q223.875 83.7899 223.875 80.0399 Q223.875 76.313 222.024 74.1603 Q220.195 71.9844 217.047 71.9844 Q213.899 71.9844 212.047 74.1603 Q210.218 76.313 210.218 80.0399 Q210.218 83.7899 212.047 85.9426 Q213.899 88.0954 217.047 88.0954 Z\" fill=\"#000000\" fill-rule=\"evenodd\" fill-opacity=\"1\" /><path clip-path=\"url(#clip720)\" d=\"M 0 0 M244.431 71.9844 Q240.82 71.9844 238.991 75.5492 Q237.185 79.0908 237.185 86.2204 Q237.185 93.3268 238.991 96.8916 Q240.82 100.433 244.431 100.433 Q248.065 100.433 249.871 96.8916 Q251.699 93.3268 251.699 86.2204 Q251.699 79.0908 249.871 75.5492 Q248.065 71.9844 244.431 71.9844 M244.431 68.2807 Q250.241 68.2807 253.297 72.8871 Q256.375 77.4704 256.375 86.2204 Q256.375 94.9472 253.297 99.5537 Q250.241 104.137 244.431 104.137 Q238.621 104.137 235.542 99.5537 Q232.486 94.9472 232.486 86.2204 Q232.486 77.4704 235.542 72.8871 Q238.621 68.2807 244.431 68.2807 Z\" fill=\"#000000\" fill-rule=\"evenodd\" fill-opacity=\"1\" /><path clip-path=\"url(#clip720)\" d=\"M 0 0 M271.445 71.9844 Q267.833 71.9844 266.005 75.5492 Q264.199 79.0908 264.199 86.2204 Q264.199 93.3268 266.005 96.8916 Q267.833 100.433 271.445 100.433 Q275.079 100.433 276.884 96.8916 Q278.713 93.3268 278.713 86.2204 Q278.713 79.0908 276.884 75.5492 Q275.079 71.9844 271.445 71.9844 M271.445 68.2807 Q277.255 68.2807 280.31 72.8871 Q283.389 77.4704 283.389 86.2204 Q283.389 94.9472 280.31 99.5537 Q277.255 104.137 271.445 104.137 Q265.634 104.137 262.556 99.5537 Q259.5 94.9472 259.5 86.2204 Q259.5 77.4704 262.556 72.8871 Q265.634 68.2807 271.445 68.2807 Z\" fill=\"#000000\" fill-rule=\"evenodd\" fill-opacity=\"1\" /><path clip-path=\"url(#clip720)\" d=\"M 0 0 M1346.69 1520.4 L1333.8 1537.74 L1347.36 1556.04 L1340.45 1556.04 L1330.07 1542.04 L1319.7 1556.04 L1312.79 1556.04 L1326.63 1537.39 L1313.97 1520.4 L1320.87 1520.4 L1330.33 1533.1 L1339.78 1520.4 L1346.69 1520.4 Z\" fill=\"#000000\" fill-rule=\"evenodd\" fill-opacity=\"1\" /><path clip-path=\"url(#clip720)\" d=\"M 0 0 M38.479 762.107 L43.3487 762.107 L43.3487 767.709 Q43.3487 770.86 44.6219 772.101 Q45.895 773.311 49.2052 773.311 L52.3562 773.311 L52.3562 763.667 L56.9077 763.667 L56.9077 773.311 L88.0042 773.311 L88.0042 779.199 L56.9077 779.199 L56.9077 784.801 L52.3562 784.801 L52.3562 779.199 L49.8736 779.199 Q43.9216 779.199 41.2162 776.43 Q38.479 773.661 38.479 767.645 L38.479 762.107 Z\" fill=\"#000000\" fill-rule=\"evenodd\" fill-opacity=\"1\" /><path clip-path=\"url(#clip720)\" d=\"M 0 0 M38.5426 741.896 Q45.8632 746.161 53.0246 748.23 Q60.186 750.299 67.5384 750.299 Q74.8908 750.299 82.1159 748.23 Q89.3091 746.129 96.5979 741.896 L96.5979 746.989 Q89.1182 751.763 81.8931 754.15 Q74.668 756.505 67.5384 756.505 Q60.4406 756.505 53.2474 754.15 Q46.0542 751.795 38.5426 746.989 L38.5426 741.896 Z\" fill=\"#000000\" fill-rule=\"evenodd\" fill-opacity=\"1\" /><path clip-path=\"url(#clip720)\" d=\"M 0 0 M52.3562 706.121 L69.7028 719.011 L88.0042 705.452 L88.0042 712.359 L73.9996 722.735 L88.0042 733.111 L88.0042 740.018 L69.3526 726.173 L52.3562 738.84 L52.3562 731.934 L65.0558 722.481 L52.3562 713.027 L52.3562 706.121 Z\" fill=\"#000000\" fill-rule=\"evenodd\" fill-opacity=\"1\" /><path clip-path=\"url(#clip720)\" d=\"M 0 0 M38.5426 700.232 L38.5426 695.14 Q46.0542 690.366 53.2474 688.01 Q60.4406 685.623 67.5384 685.623 Q74.668 685.623 81.8931 688.01 Q89.1182 690.366 96.5979 695.14 L96.5979 700.232 Q89.3091 695.999 82.1159 693.93 Q74.8908 691.83 67.5384 691.83 Q60.186 691.83 53.0246 693.93 Q45.8632 695.999 38.5426 700.232 Z\" fill=\"#000000\" fill-rule=\"evenodd\" fill-opacity=\"1\" /><polyline clip-path=\"url(#clip722)\" style=\"stroke:#009af9; stroke-width:8; stroke-opacity:1; fill:none\" points=\"\n",
       "  365.277,86.1857 374.925,112.017 384.573,137.589 394.221,162.901 403.869,187.953 413.516,212.746 423.164,237.279 432.812,261.553 442.46,285.567 452.108,309.321 \n",
       "  461.756,332.816 471.404,356.051 481.052,379.026 490.7,401.742 500.348,424.199 509.996,446.395 519.644,468.332 529.292,490.01 538.94,511.428 548.588,532.586 \n",
       "  558.236,553.485 567.884,574.124 577.532,594.503 587.18,614.623 596.828,634.483 606.476,654.084 616.124,673.425 625.772,692.506 635.419,711.328 645.067,729.89 \n",
       "  654.715,748.192 664.363,766.235 674.011,784.019 683.659,801.542 693.307,818.807 702.955,835.811 712.603,852.556 722.251,869.041 731.899,885.267 741.547,901.233 \n",
       "  751.195,916.939 760.843,932.386 770.491,947.573 780.139,962.501 789.787,977.169 799.435,991.577 809.083,1005.73 818.731,1019.62 828.379,1033.24 838.027,1046.61 \n",
       "  847.675,1059.73 857.323,1072.58 866.97,1085.17 876.618,1097.5 886.266,1109.57 895.914,1121.38 905.562,1132.94 915.21,1144.23 924.858,1155.26 934.506,1166.04 \n",
       "  944.154,1176.55 953.802,1186.8 963.45,1196.8 973.098,1206.53 982.746,1216.01 992.394,1225.23 1002.04,1234.18 1011.69,1242.88 1021.34,1251.32 1030.99,1259.5 \n",
       "  1040.63,1267.41 1050.28,1275.07 1059.93,1282.47 1069.58,1289.61 1079.23,1296.49 1088.87,1303.11 1098.52,1309.47 1108.17,1315.57 1117.82,1321.41 1127.47,1326.99 \n",
       "  1137.11,1332.32 1146.76,1337.38 1156.41,1342.18 1166.06,1346.72 1175.71,1351.01 1185.35,1355.03 1195,1358.8 1204.65,1362.3 1214.3,1365.55 1223.94,1368.53 \n",
       "  1233.59,1371.26 1243.24,1373.72 1252.89,1375.93 1262.54,1377.88 1272.18,1379.57 1281.83,1380.99 1291.48,1382.16 1301.13,1383.07 1310.78,1383.72 1320.42,1384.11 \n",
       "  1330.07,1384.24 1339.72,1384.11 1349.37,1383.72 1359.02,1383.07 1368.66,1382.16 1378.31,1380.99 1387.96,1379.57 1397.61,1377.88 1407.26,1375.93 1416.9,1373.72 \n",
       "  1426.55,1371.26 1436.2,1368.53 1445.85,1365.55 1455.5,1362.3 1465.14,1358.8 1474.79,1355.03 1484.44,1351.01 1494.09,1346.72 1503.74,1342.18 1513.38,1337.38 \n",
       "  1523.03,1332.32 1532.68,1326.99 1542.33,1321.41 1551.98,1315.57 1561.62,1309.47 1571.27,1303.11 1580.92,1296.49 1590.57,1289.61 1600.22,1282.47 1609.86,1275.07 \n",
       "  1619.51,1267.41 1629.16,1259.5 1638.81,1251.32 1648.46,1242.88 1658.1,1234.18 1667.75,1225.23 1677.4,1216.01 1687.05,1206.53 1696.69,1196.8 1706.34,1186.8 \n",
       "  1715.99,1176.55 1725.64,1166.04 1735.29,1155.26 1744.93,1144.23 1754.58,1132.94 1764.23,1121.38 1773.88,1109.57 1783.53,1097.5 1793.17,1085.17 1802.82,1072.58 \n",
       "  1812.47,1059.73 1822.12,1046.61 1831.77,1033.24 1841.41,1019.62 1851.06,1005.73 1860.71,991.577 1870.36,977.169 1880.01,962.501 1889.65,947.573 1899.3,932.386 \n",
       "  1908.95,916.939 1918.6,901.233 1928.25,885.267 1937.89,869.041 1947.54,852.556 1957.19,835.811 1966.84,818.807 1976.49,801.542 1986.13,784.019 1995.78,766.235 \n",
       "  2005.43,748.192 2015.08,729.89 2024.73,711.328 2034.37,692.506 2044.02,673.425 2053.67,654.084 2063.32,634.483 2072.97,614.623 2082.61,594.503 2092.26,574.124 \n",
       "  2101.91,553.485 2111.56,532.586 2121.2,511.428 2130.85,490.01 2140.5,468.332 2150.15,446.395 2159.8,424.199 2169.44,401.742 2179.09,379.026 2188.74,356.051 \n",
       "  2198.39,332.816 2208.04,309.321 2217.68,285.567 2227.33,261.553 2236.98,237.279 2246.63,212.746 2256.28,187.953 2265.92,162.901 2275.57,137.589 2285.22,112.017 \n",
       "  2294.87,86.1857 \n",
       "  \"/>\n",
       "</svg>\n"
      ]
     },
     "execution_count": 7,
     "metadata": {},
     "output_type": "execute_result"
    }
   ],
   "source": [
    "function f(x)\n",
    "    return x.^2 - 2x\n",
    "end\n",
    "\n",
    "x = range(0.9, 1.1, step=0.001);\n",
    "y = f(x);\n",
    "\n",
    "println(f(0.9 .. 1.1))\n",
    "println(f(1))\n",
    "println(f(1.1))\n",
    "\n",
    "plot(x, y, xlabel=\"x\", ylabel=\"f(x)\", linewidth =2, legend = false)"
   ]
  },
  {
   "cell_type": "markdown",
   "metadata": {},
   "source": [
    "これから値域は $[-1,-0.99]$，一方で区間演算による区間拡張は $[-1.39,-0.59]$．だいぶ過大評価になってしまう．そこで区間幅を改良したい\n",
    "\n",
    "**アイディア1.** $f(x)=x(x-2)$;\n",
    "\n",
    "\\begin{align*}\n",
    "\t&x\\in[0.9,1.1]\\\\\n",
    "\t&x(x-2)=[0.9,1.1]\\times[-1.1,-0.9]=[-1.21,-0.81]\\mbox{（幅0.4）}\n",
    "\\end{align*}\n",
    "\n",
    "大分改善された．もう一声！\n",
    "\n",
    "**アイディア2.** $f(x)=(x-1)^2-1$;\n",
    "\n",
    "\\begin{align*}\n",
    "\tx\\in[0.9,1.1]&\\\\\n",
    "\t(x-1)^2-1=&[-0.1,0.1]^2-1\\\\\n",
    "\t=&[{\\color{red}{0}},0.01]-1\\\\\n",
    "\t=&[-1,-0.99]\\mbox{（幅0.01）}\n",
    "\\end{align*}"
   ]
  },
  {
   "cell_type": "code",
   "execution_count": 8,
   "metadata": {},
   "outputs": [
    {
     "name": "stdout",
     "output_type": "stream",
     "text": [
      "[-1.390000001, -0.5899999999]\n",
      "[-1.210000001, -0.8099999999]\n",
      "[-1, -0.9899999999]\n"
     ]
    }
   ],
   "source": [
    "x = @interval(0.9, 1.1)\n",
    "\n",
    "println(x^2 - 2x)\n",
    "println(x * (x-2))\n",
    "println((x-1)^2 - 1)"
   ]
  },
  {
   "cell_type": "markdown",
   "metadata": {},
   "source": [
    "#### 注意\n",
    "\n",
    "区間の定義で、実数を端点にする時は`@interval`を使う。端点が浮動小数点の場合は`interval`でOK. `interval`の方が呼び出しは早い。例えば、0.1を含む区間は`interval`での定義では0.1に一番近い浮動小数点数を端点にもつ点区間が返されて、厳密な包含にならない。"
   ]
  },
  {
   "cell_type": "code",
   "execution_count": 9,
   "metadata": {},
   "outputs": [
    {
     "name": "stdout",
     "output_type": "stream",
     "text": [
      "  0.000000 seconds\n",
      "0011111110111001100110011001100110011001100110011001100110011010\n",
      "0011111110111001100110011001100110011001100110011001100110011010\n",
      "0011111110111001100110011001100110011001100110011001100110011010\n",
      "  0.002210 seconds (341 allocations: 26.156 KiB)\n",
      "0011111110111001100110011001100110011001100110011001100110011010\n",
      "0011111110111001100110011001100110011001100110011001100110011001\n",
      "0011111110111001100110011001100110011001100110011001100110011010\n"
     ]
    }
   ],
   "source": [
    "@time x = interval(0.1)\n",
    "println(bitstring(0.1))\n",
    "println(bitstring(x.lo))\n",
    "println(bitstring(x.hi))\n",
    "\n",
    "@time x = @interval(0.1)\n",
    "println(bitstring(0.1))\n",
    "println(bitstring(x.lo))\n",
    "println(bitstring(x.hi))"
   ]
  },
  {
   "cell_type": "code",
   "execution_count": 10,
   "metadata": {},
   "outputs": [
    {
     "name": "stdout",
     "output_type": "stream",
     "text": [
      "[1.988546365, 2.440000001]\n",
      "[-∞, 2.939882027]\n"
     ]
    },
    {
     "data": {
      "image/svg+xml": [
       "<?xml version=\"1.0\" encoding=\"utf-8\"?>\n",
       "<svg xmlns=\"http://www.w3.org/2000/svg\" xmlns:xlink=\"http://www.w3.org/1999/xlink\" width=\"600\" height=\"400\" viewBox=\"0 0 2400 1600\">\n",
       "<defs>\n",
       "  <clipPath id=\"clip760\">\n",
       "    <rect x=\"0\" y=\"0\" width=\"2400\" height=\"1600\"/>\n",
       "  </clipPath>\n",
       "</defs>\n",
       "<path clip-path=\"url(#clip760)\" d=\"\n",
       "M0 1600 L2400 1600 L2400 0 L0 0  Z\n",
       "  \" fill=\"#ffffff\" fill-rule=\"evenodd\" fill-opacity=\"1\"/>\n",
       "<defs>\n",
       "  <clipPath id=\"clip761\">\n",
       "    <rect x=\"480\" y=\"0\" width=\"1681\" height=\"1600\"/>\n",
       "  </clipPath>\n",
       "</defs>\n",
       "<path clip-path=\"url(#clip760)\" d=\"\n",
       "M175.445 1423.18 L2352.76 1423.18 L2352.76 47.2441 L175.445 47.2441  Z\n",
       "  \" fill=\"#ffffff\" fill-rule=\"evenodd\" fill-opacity=\"1\"/>\n",
       "<defs>\n",
       "  <clipPath id=\"clip762\">\n",
       "    <rect x=\"175\" y=\"47\" width=\"2178\" height=\"1377\"/>\n",
       "  </clipPath>\n",
       "</defs>\n",
       "<polyline clip-path=\"url(#clip762)\" style=\"stroke:#000000; stroke-width:2; stroke-opacity:0.1; fill:none\" points=\"\n",
       "  237.067,1423.18 237.067,47.2441 \n",
       "  \"/>\n",
       "<polyline clip-path=\"url(#clip762)\" style=\"stroke:#000000; stroke-width:2; stroke-opacity:0.1; fill:none\" points=\"\n",
       "  750.584,1423.18 750.584,47.2441 \n",
       "  \"/>\n",
       "<polyline clip-path=\"url(#clip762)\" style=\"stroke:#000000; stroke-width:2; stroke-opacity:0.1; fill:none\" points=\"\n",
       "  1264.1,1423.18 1264.1,47.2441 \n",
       "  \"/>\n",
       "<polyline clip-path=\"url(#clip762)\" style=\"stroke:#000000; stroke-width:2; stroke-opacity:0.1; fill:none\" points=\"\n",
       "  1777.62,1423.18 1777.62,47.2441 \n",
       "  \"/>\n",
       "<polyline clip-path=\"url(#clip762)\" style=\"stroke:#000000; stroke-width:2; stroke-opacity:0.1; fill:none\" points=\"\n",
       "  2291.13,1423.18 2291.13,47.2441 \n",
       "  \"/>\n",
       "<polyline clip-path=\"url(#clip762)\" style=\"stroke:#000000; stroke-width:2; stroke-opacity:0.1; fill:none\" points=\"\n",
       "  175.445,1389.87 2352.76,1389.87 \n",
       "  \"/>\n",
       "<polyline clip-path=\"url(#clip762)\" style=\"stroke:#000000; stroke-width:2; stroke-opacity:0.1; fill:none\" points=\"\n",
       "  175.445,1064.66 2352.76,1064.66 \n",
       "  \"/>\n",
       "<polyline clip-path=\"url(#clip762)\" style=\"stroke:#000000; stroke-width:2; stroke-opacity:0.1; fill:none\" points=\"\n",
       "  175.445,739.439 2352.76,739.439 \n",
       "  \"/>\n",
       "<polyline clip-path=\"url(#clip762)\" style=\"stroke:#000000; stroke-width:2; stroke-opacity:0.1; fill:none\" points=\"\n",
       "  175.445,414.221 2352.76,414.221 \n",
       "  \"/>\n",
       "<polyline clip-path=\"url(#clip762)\" style=\"stroke:#000000; stroke-width:2; stroke-opacity:0.1; fill:none\" points=\"\n",
       "  175.445,89.0035 2352.76,89.0035 \n",
       "  \"/>\n",
       "<polyline clip-path=\"url(#clip760)\" style=\"stroke:#000000; stroke-width:4; stroke-opacity:1; fill:none\" points=\"\n",
       "  175.445,1423.18 2352.76,1423.18 \n",
       "  \"/>\n",
       "<polyline clip-path=\"url(#clip760)\" style=\"stroke:#000000; stroke-width:4; stroke-opacity:1; fill:none\" points=\"\n",
       "  175.445,1423.18 175.445,47.2441 \n",
       "  \"/>\n",
       "<polyline clip-path=\"url(#clip760)\" style=\"stroke:#000000; stroke-width:4; stroke-opacity:1; fill:none\" points=\"\n",
       "  237.067,1423.18 237.067,1406.67 \n",
       "  \"/>\n",
       "<polyline clip-path=\"url(#clip760)\" style=\"stroke:#000000; stroke-width:4; stroke-opacity:1; fill:none\" points=\"\n",
       "  750.584,1423.18 750.584,1406.67 \n",
       "  \"/>\n",
       "<polyline clip-path=\"url(#clip760)\" style=\"stroke:#000000; stroke-width:4; stroke-opacity:1; fill:none\" points=\"\n",
       "  1264.1,1423.18 1264.1,1406.67 \n",
       "  \"/>\n",
       "<polyline clip-path=\"url(#clip760)\" style=\"stroke:#000000; stroke-width:4; stroke-opacity:1; fill:none\" points=\"\n",
       "  1777.62,1423.18 1777.62,1406.67 \n",
       "  \"/>\n",
       "<polyline clip-path=\"url(#clip760)\" style=\"stroke:#000000; stroke-width:4; stroke-opacity:1; fill:none\" points=\"\n",
       "  2291.13,1423.18 2291.13,1406.67 \n",
       "  \"/>\n",
       "<polyline clip-path=\"url(#clip760)\" style=\"stroke:#000000; stroke-width:4; stroke-opacity:1; fill:none\" points=\"\n",
       "  175.445,1389.87 201.573,1389.87 \n",
       "  \"/>\n",
       "<polyline clip-path=\"url(#clip760)\" style=\"stroke:#000000; stroke-width:4; stroke-opacity:1; fill:none\" points=\"\n",
       "  175.445,1064.66 201.573,1064.66 \n",
       "  \"/>\n",
       "<polyline clip-path=\"url(#clip760)\" style=\"stroke:#000000; stroke-width:4; stroke-opacity:1; fill:none\" points=\"\n",
       "  175.445,739.439 201.573,739.439 \n",
       "  \"/>\n",
       "<polyline clip-path=\"url(#clip760)\" style=\"stroke:#000000; stroke-width:4; stroke-opacity:1; fill:none\" points=\"\n",
       "  175.445,414.221 201.573,414.221 \n",
       "  \"/>\n",
       "<polyline clip-path=\"url(#clip760)\" style=\"stroke:#000000; stroke-width:4; stroke-opacity:1; fill:none\" points=\"\n",
       "  175.445,89.0035 201.573,89.0035 \n",
       "  \"/>\n",
       "<path clip-path=\"url(#clip760)\" d=\"M 0 0 M218.584 1445.17 Q214.972 1445.17 213.144 1448.74 Q211.338 1452.28 211.338 1459.41 Q211.338 1466.51 213.144 1470.08 Q214.972 1473.62 218.584 1473.62 Q222.218 1473.62 224.023 1470.08 Q225.852 1466.51 225.852 1459.41 Q225.852 1452.28 224.023 1448.74 Q222.218 1445.17 218.584 1445.17 M218.584 1441.47 Q224.394 1441.47 227.449 1446.07 Q230.528 1450.66 230.528 1459.41 Q230.528 1468.13 227.449 1472.74 Q224.394 1477.32 218.584 1477.32 Q212.773 1477.32 209.695 1472.74 Q206.639 1468.13 206.639 1459.41 Q206.639 1450.66 209.695 1446.07 Q212.773 1441.47 218.584 1441.47 Z\" fill=\"#000000\" fill-rule=\"evenodd\" fill-opacity=\"1\" /><path clip-path=\"url(#clip760)\" d=\"M 0 0 M235.597 1470.77 L240.482 1470.77 L240.482 1476.65 L235.597 1476.65 L235.597 1470.77 Z\" fill=\"#000000\" fill-rule=\"evenodd\" fill-opacity=\"1\" /><path clip-path=\"url(#clip760)\" d=\"M 0 0 M255.551 1445.17 Q251.94 1445.17 250.111 1448.74 Q248.306 1452.28 248.306 1459.41 Q248.306 1466.51 250.111 1470.08 Q251.94 1473.62 255.551 1473.62 Q259.185 1473.62 260.991 1470.08 Q262.819 1466.51 262.819 1459.41 Q262.819 1452.28 260.991 1448.74 Q259.185 1445.17 255.551 1445.17 M255.551 1441.47 Q261.361 1441.47 264.417 1446.07 Q267.495 1450.66 267.495 1459.41 Q267.495 1468.13 264.417 1472.74 Q261.361 1477.32 255.551 1477.32 Q249.741 1477.32 246.662 1472.74 Q243.607 1468.13 243.607 1459.41 Q243.607 1450.66 246.662 1446.07 Q249.741 1441.47 255.551 1441.47 Z\" fill=\"#000000\" fill-rule=\"evenodd\" fill-opacity=\"1\" /><path clip-path=\"url(#clip760)\" d=\"M 0 0 M732.598 1445.17 Q728.987 1445.17 727.158 1448.74 Q725.353 1452.28 725.353 1459.41 Q725.353 1466.51 727.158 1470.08 Q728.987 1473.62 732.598 1473.62 Q736.232 1473.62 738.038 1470.08 Q739.866 1466.51 739.866 1459.41 Q739.866 1452.28 738.038 1448.74 Q736.232 1445.17 732.598 1445.17 M732.598 1441.47 Q738.408 1441.47 741.464 1446.07 Q744.542 1450.66 744.542 1459.41 Q744.542 1468.13 741.464 1472.74 Q738.408 1477.32 732.598 1477.32 Q726.788 1477.32 723.709 1472.74 Q720.653 1468.13 720.653 1459.41 Q720.653 1450.66 723.709 1446.07 Q726.788 1441.47 732.598 1441.47 Z\" fill=\"#000000\" fill-rule=\"evenodd\" fill-opacity=\"1\" /><path clip-path=\"url(#clip760)\" d=\"M 0 0 M749.612 1470.77 L754.496 1470.77 L754.496 1476.65 L749.612 1476.65 L749.612 1470.77 Z\" fill=\"#000000\" fill-rule=\"evenodd\" fill-opacity=\"1\" /><path clip-path=\"url(#clip760)\" d=\"M 0 0 M759.612 1442.09 L777.968 1442.09 L777.968 1446.03 L763.894 1446.03 L763.894 1454.5 Q764.913 1454.15 765.931 1453.99 Q766.95 1453.8 767.968 1453.8 Q773.755 1453.8 777.135 1456.98 Q780.514 1460.15 780.514 1465.56 Q780.514 1471.14 777.042 1474.24 Q773.57 1477.32 767.25 1477.32 Q765.075 1477.32 762.806 1476.95 Q760.561 1476.58 758.153 1475.84 L758.153 1471.14 Q760.237 1472.28 762.459 1472.83 Q764.681 1473.39 767.158 1473.39 Q771.162 1473.39 773.5 1471.28 Q775.838 1469.18 775.838 1465.56 Q775.838 1461.95 773.5 1459.85 Q771.162 1457.74 767.158 1457.74 Q765.283 1457.74 763.408 1458.16 Q761.556 1458.57 759.612 1459.45 L759.612 1442.09 Z\" fill=\"#000000\" fill-rule=\"evenodd\" fill-opacity=\"1\" /><path clip-path=\"url(#clip760)\" d=\"M 0 0 M1236 1472.72 L1243.64 1472.72 L1243.64 1446.35 L1235.33 1448.02 L1235.33 1443.76 L1243.59 1442.09 L1248.27 1442.09 L1248.27 1472.72 L1255.91 1472.72 L1255.91 1476.65 L1236 1476.65 L1236 1472.72 Z\" fill=\"#000000\" fill-rule=\"evenodd\" fill-opacity=\"1\" /><path clip-path=\"url(#clip760)\" d=\"M 0 0 M1260.98 1470.77 L1265.86 1470.77 L1265.86 1476.65 L1260.98 1476.65 L1260.98 1470.77 Z\" fill=\"#000000\" fill-rule=\"evenodd\" fill-opacity=\"1\" /><path clip-path=\"url(#clip760)\" d=\"M 0 0 M1280.93 1445.17 Q1277.32 1445.17 1275.49 1448.74 Q1273.68 1452.28 1273.68 1459.41 Q1273.68 1466.51 1275.49 1470.08 Q1277.32 1473.62 1280.93 1473.62 Q1284.56 1473.62 1286.37 1470.08 Q1288.2 1466.51 1288.2 1459.41 Q1288.2 1452.28 1286.37 1448.74 Q1284.56 1445.17 1280.93 1445.17 M1280.93 1441.47 Q1286.74 1441.47 1289.79 1446.07 Q1292.87 1450.66 1292.87 1459.41 Q1292.87 1468.13 1289.79 1472.74 Q1286.74 1477.32 1280.93 1477.32 Q1275.12 1477.32 1272.04 1472.74 Q1268.98 1468.13 1268.98 1459.41 Q1268.98 1450.66 1272.04 1446.07 Q1275.12 1441.47 1280.93 1441.47 Z\" fill=\"#000000\" fill-rule=\"evenodd\" fill-opacity=\"1\" /><path clip-path=\"url(#clip760)\" d=\"M 0 0 M1750.01 1472.72 L1757.65 1472.72 L1757.65 1446.35 L1749.34 1448.02 L1749.34 1443.76 L1757.61 1442.09 L1762.28 1442.09 L1762.28 1472.72 L1769.92 1472.72 L1769.92 1476.65 L1750.01 1476.65 L1750.01 1472.72 Z\" fill=\"#000000\" fill-rule=\"evenodd\" fill-opacity=\"1\" /><path clip-path=\"url(#clip760)\" d=\"M 0 0 M1774.99 1470.77 L1779.87 1470.77 L1779.87 1476.65 L1774.99 1476.65 L1774.99 1470.77 Z\" fill=\"#000000\" fill-rule=\"evenodd\" fill-opacity=\"1\" /><path clip-path=\"url(#clip760)\" d=\"M 0 0 M1784.99 1442.09 L1803.35 1442.09 L1803.35 1446.03 L1789.27 1446.03 L1789.27 1454.5 Q1790.29 1454.15 1791.31 1453.99 Q1792.33 1453.8 1793.35 1453.8 Q1799.13 1453.8 1802.51 1456.98 Q1805.89 1460.15 1805.89 1465.56 Q1805.89 1471.14 1802.42 1474.24 Q1798.95 1477.32 1792.63 1477.32 Q1790.45 1477.32 1788.18 1476.95 Q1785.94 1476.58 1783.53 1475.84 L1783.53 1471.14 Q1785.61 1472.28 1787.84 1472.83 Q1790.06 1473.39 1792.54 1473.39 Q1796.54 1473.39 1798.88 1471.28 Q1801.22 1469.18 1801.22 1465.56 Q1801.22 1461.95 1798.88 1459.85 Q1796.54 1457.74 1792.54 1457.74 Q1790.66 1457.74 1788.79 1458.16 Q1786.93 1458.57 1784.99 1459.45 L1784.99 1442.09 Z\" fill=\"#000000\" fill-rule=\"evenodd\" fill-opacity=\"1\" /><path clip-path=\"url(#clip760)\" d=\"M 0 0 M2267.3 1472.72 L2283.62 1472.72 L2283.62 1476.65 L2261.68 1476.65 L2261.68 1472.72 Q2264.34 1469.96 2268.92 1465.33 Q2273.53 1460.68 2274.71 1459.34 Q2276.96 1456.81 2277.84 1455.08 Q2278.74 1453.32 2278.74 1451.63 Q2278.74 1448.87 2276.79 1447.14 Q2274.87 1445.4 2271.77 1445.4 Q2269.57 1445.4 2267.12 1446.17 Q2264.69 1446.93 2261.91 1448.48 L2261.91 1443.76 Q2264.73 1442.62 2267.19 1442.05 Q2269.64 1441.47 2271.68 1441.47 Q2277.05 1441.47 2280.24 1444.15 Q2283.44 1446.84 2283.44 1451.33 Q2283.44 1453.46 2282.63 1455.38 Q2281.84 1457.28 2279.73 1459.87 Q2279.15 1460.54 2276.05 1463.76 Q2272.95 1466.95 2267.3 1472.72 Z\" fill=\"#000000\" fill-rule=\"evenodd\" fill-opacity=\"1\" /><path clip-path=\"url(#clip760)\" d=\"M 0 0 M2288.69 1470.77 L2293.58 1470.77 L2293.58 1476.65 L2288.69 1476.65 L2288.69 1470.77 Z\" fill=\"#000000\" fill-rule=\"evenodd\" fill-opacity=\"1\" /><path clip-path=\"url(#clip760)\" d=\"M 0 0 M2308.65 1445.17 Q2305.03 1445.17 2303.21 1448.74 Q2301.4 1452.28 2301.4 1459.41 Q2301.4 1466.51 2303.21 1470.08 Q2305.03 1473.62 2308.65 1473.62 Q2312.28 1473.62 2314.09 1470.08 Q2315.91 1466.51 2315.91 1459.41 Q2315.91 1452.28 2314.09 1448.74 Q2312.28 1445.17 2308.65 1445.17 M2308.65 1441.47 Q2314.46 1441.47 2317.51 1446.07 Q2320.59 1450.66 2320.59 1459.41 Q2320.59 1468.13 2317.51 1472.74 Q2314.46 1477.32 2308.65 1477.32 Q2302.84 1477.32 2299.76 1472.74 Q2296.7 1468.13 2296.7 1459.41 Q2296.7 1450.66 2299.76 1446.07 Q2302.84 1441.47 2308.65 1441.47 Z\" fill=\"#000000\" fill-rule=\"evenodd\" fill-opacity=\"1\" /><path clip-path=\"url(#clip760)\" d=\"M 0 0 M131.538 1403.22 L139.177 1403.22 L139.177 1376.85 L130.867 1378.52 L130.867 1374.26 L139.13 1372.59 L143.806 1372.59 L143.806 1403.22 L151.445 1403.22 L151.445 1407.15 L131.538 1407.15 L131.538 1403.22 Z\" fill=\"#000000\" fill-rule=\"evenodd\" fill-opacity=\"1\" /><path clip-path=\"url(#clip760)\" d=\"M 0 0 M135.126 1078 L151.445 1078 L151.445 1081.94 L129.501 1081.94 L129.501 1078 Q132.163 1075.25 136.746 1070.62 Q141.353 1065.96 142.533 1064.62 Q144.779 1062.1 145.658 1060.36 Q146.561 1058.6 146.561 1056.91 Q146.561 1054.16 144.617 1052.42 Q142.695 1050.69 139.593 1050.69 Q137.394 1050.69 134.941 1051.45 Q132.51 1052.21 129.732 1053.77 L129.732 1049.04 Q132.556 1047.91 135.01 1047.33 Q137.464 1046.75 139.501 1046.75 Q144.871 1046.75 148.066 1049.44 Q151.26 1052.12 151.26 1056.61 Q151.26 1058.74 150.45 1060.66 Q149.663 1062.56 147.556 1065.15 Q146.978 1065.83 143.876 1069.04 Q140.774 1072.24 135.126 1078 Z\" fill=\"#000000\" fill-rule=\"evenodd\" fill-opacity=\"1\" /><path clip-path=\"url(#clip760)\" d=\"M 0 0 M144.316 738.085 Q147.672 738.802 149.547 741.071 Q151.445 743.339 151.445 746.672 Q151.445 751.788 147.927 754.589 Q144.408 757.39 137.927 757.39 Q135.751 757.39 133.436 756.95 Q131.144 756.533 128.691 755.677 L128.691 751.163 Q130.635 752.297 132.95 752.876 Q135.265 753.455 137.788 753.455 Q142.186 753.455 144.478 751.719 Q146.792 749.983 146.792 746.672 Q146.792 743.617 144.64 741.904 Q142.51 740.168 138.691 740.168 L134.663 740.168 L134.663 736.325 L138.876 736.325 Q142.325 736.325 144.154 734.96 Q145.982 733.571 145.982 730.978 Q145.982 728.316 144.084 726.904 Q142.209 725.469 138.691 725.469 Q136.769 725.469 134.57 725.885 Q132.371 726.302 129.732 727.182 L129.732 723.015 Q132.394 722.274 134.709 721.904 Q137.047 721.534 139.107 721.534 Q144.431 721.534 147.533 723.964 Q150.635 726.372 150.635 730.492 Q150.635 733.362 148.992 735.353 Q147.348 737.321 144.316 738.085 Z\" fill=\"#000000\" fill-rule=\"evenodd\" fill-opacity=\"1\" /><path clip-path=\"url(#clip760)\" d=\"M 0 0 M141.862 401.015 L130.056 419.464 L141.862 419.464 L141.862 401.015 M140.635 396.941 L146.515 396.941 L146.515 419.464 L151.445 419.464 L151.445 423.353 L146.515 423.353 L146.515 431.501 L141.862 431.501 L141.862 423.353 L126.26 423.353 L126.26 418.839 L140.635 396.941 Z\" fill=\"#000000\" fill-rule=\"evenodd\" fill-opacity=\"1\" /><path clip-path=\"url(#clip760)\" d=\"M 0 0 M130.543 71.7235 L148.899 71.7235 L148.899 75.6586 L134.825 75.6586 L134.825 84.1308 Q135.843 83.7836 136.862 83.6216 Q137.88 83.4364 138.899 83.4364 Q144.686 83.4364 148.066 86.6076 Q151.445 89.7789 151.445 95.1956 Q151.445 100.774 147.973 103.876 Q144.501 106.955 138.181 106.955 Q136.005 106.955 133.737 106.584 Q131.492 106.214 129.084 105.473 L129.084 100.774 Q131.168 101.908 133.39 102.464 Q135.612 103.02 138.089 103.02 Q142.093 103.02 144.431 100.913 Q146.769 98.8067 146.769 95.1956 Q146.769 91.5845 144.431 89.478 Q142.093 87.3715 138.089 87.3715 Q136.214 87.3715 134.339 87.7882 Q132.487 88.2049 130.543 89.0845 L130.543 71.7235 Z\" fill=\"#000000\" fill-rule=\"evenodd\" fill-opacity=\"1\" /><path clip-path=\"url(#clip760)\" d=\"M 0 0 M1280.72 1520.4 L1267.82 1537.74 L1281.38 1556.04 L1274.48 1556.04 L1264.1 1542.04 L1253.72 1556.04 L1246.82 1556.04 L1260.66 1537.39 L1248 1520.4 L1254.9 1520.4 L1264.36 1533.1 L1273.81 1520.4 L1280.72 1520.4 Z\" fill=\"#000000\" fill-rule=\"evenodd\" fill-opacity=\"1\" /><path clip-path=\"url(#clip760)\" d=\"M 0 0 M38.479 762.107 L43.3487 762.107 L43.3487 767.709 Q43.3487 770.86 44.6219 772.101 Q45.895 773.311 49.2052 773.311 L52.3562 773.311 L52.3562 763.667 L56.9077 763.667 L56.9077 773.311 L88.0042 773.311 L88.0042 779.199 L56.9077 779.199 L56.9077 784.801 L52.3562 784.801 L52.3562 779.199 L49.8736 779.199 Q43.9216 779.199 41.2162 776.43 Q38.479 773.661 38.479 767.645 L38.479 762.107 Z\" fill=\"#000000\" fill-rule=\"evenodd\" fill-opacity=\"1\" /><path clip-path=\"url(#clip760)\" d=\"M 0 0 M38.5426 741.896 Q45.8632 746.161 53.0246 748.23 Q60.186 750.299 67.5384 750.299 Q74.8908 750.299 82.1159 748.23 Q89.3091 746.129 96.5979 741.896 L96.5979 746.989 Q89.1182 751.763 81.8931 754.15 Q74.668 756.505 67.5384 756.505 Q60.4406 756.505 53.2474 754.15 Q46.0542 751.795 38.5426 746.989 L38.5426 741.896 Z\" fill=\"#000000\" fill-rule=\"evenodd\" fill-opacity=\"1\" /><path clip-path=\"url(#clip760)\" d=\"M 0 0 M52.3562 706.121 L69.7028 719.011 L88.0042 705.452 L88.0042 712.359 L73.9996 722.735 L88.0042 733.111 L88.0042 740.018 L69.3526 726.173 L52.3562 738.84 L52.3562 731.934 L65.0558 722.481 L52.3562 713.027 L52.3562 706.121 Z\" fill=\"#000000\" fill-rule=\"evenodd\" fill-opacity=\"1\" /><path clip-path=\"url(#clip760)\" d=\"M 0 0 M38.5426 700.232 L38.5426 695.14 Q46.0542 690.366 53.2474 688.01 Q60.4406 685.623 67.5384 685.623 Q74.668 685.623 81.8931 688.01 Q89.1182 690.366 96.5979 695.14 L96.5979 700.232 Q89.3091 695.999 82.1159 693.93 Q74.8908 691.83 67.5384 691.83 Q60.186 691.83 53.0246 693.93 Q45.8632 695.999 38.5426 700.232 Z\" fill=\"#000000\" fill-rule=\"evenodd\" fill-opacity=\"1\" /><polyline clip-path=\"url(#clip762)\" style=\"stroke:#009af9; stroke-width:8; stroke-opacity:1; fill:none\" points=\"\n",
       "  237.067,1384.24 339.771,1381.3 442.474,1371.89 545.177,1356 647.881,1333.65 750.584,1304.84 853.287,1269.59 955.991,1227.91 1058.69,1179.82 1161.4,1125.38 \n",
       "  1264.1,1064.66 1366.8,997.811 1469.51,925.285 1572.21,849.617 1674.91,758.99 1777.62,660.952 1880.32,558.224 1983.02,449.608 2085.73,334.801 2188.43,213.681 \n",
       "  2291.13,86.1857 \n",
       "  \"/>\n",
       "</svg>\n"
      ]
     },
     "execution_count": 10,
     "metadata": {},
     "output_type": "execute_result"
    }
   ],
   "source": [
    "# Kahan's example\n",
    "f(x) = (1/80) * log(abs(3*(1 - x) + 1)) + x.^2 + 1;\n",
    "x = range(0, 2, step = 0.1);\n",
    "y = f.(x);\n",
    "\n",
    "println(f(1.0..1.2))\n",
    "println(f(1.3..1.4))\n",
    "plot(x, y, xlabel=\"x\", ylabel=\"f(x)\", linewidth =2, legend = false)"
   ]
  },
  {
   "cell_type": "markdown",
   "metadata": {},
   "source": [
    "### 区間幅の抑制のための工夫\n",
    "\n",
    "1. **区間分割**\n",
    "$$\n",
    "\t\\boldsymbol{I}=\\boldsymbol{I}_1\\cup\\boldsymbol{I}_2\n",
    "$$\n",
    "と考えて，$f_{[\\,]}(\\boldsymbol{I}_1)\\cup f_{[\\,]}(\\boldsymbol{I}_2)$を計算する．\n",
    "\n",
    "1. **平均値形式**  \n",
    "区間拡張$f_{[\\,]}(\\boldsymbol{I})$を\n",
    "$$\n",
    "\tf_{[\\,]}(\\boldsymbol{I})=f(c)+f'_{[\\,]}(\\boldsymbol{I})(\\boldsymbol{I}-c),~c=\\mathrm{mid}(\\boldsymbol{I})\n",
    "$$\n",
    "によって得る．ただし$f'_{[\\,]}(\\boldsymbol{I})$は区間$\\boldsymbol{I}$における$f$の1階微分の区間拡張．\n",
    "\n"
   ]
  },
  {
   "cell_type": "markdown",
   "metadata": {
    "collapsed": true
   },
   "source": [
    "## 機械区間演算\n",
    "\n",
    "区間演算をコンピュータで実現するには$\\mathbb{R}$の代わりに$\\mathbb{F}$を使った区間が必要．そのような区間全体を\n",
    "\n",
    "$$\n",
    "\t\\mathbb{IF}:=\\{\\boldsymbol{x}\\in\\mathbb{IR}: \\underline{x},~\\overline{x}\\in\\mathbb{F}\\}\n",
    "$$\n",
    "\n",
    "と定義する．IEEE754規格に準拠したシステム上では演算後の丸めの向きを制御することができる．\n",
    "演算結果が浮動小数点数でない場合，丸めの向きを制御して計算する．\n",
    "いま$a,b\\in\\mathbb{F}$に対して，$\\circ\\in\\{+,-,\\times,\\div\\}$として\n",
    "\n",
    "\\begin{align*}\n",
    "\t\\mathtt{fl}_{\\bigtriangledown}\\!\\left(a\\circ b\\right)&:=\\max\\{x\\in\\mathbb{F}:x\\le a\\circ b\\}\\mbox{（下向き丸め）}\\\\\n",
    "\t\\mathtt{fl}_{\\bigtriangleup}\\!\\left(a\\circ b\\right)&:=\\min\\{x\\in\\mathbb{F}:x\\ge a\\circ b\\}\\mbox{（上向き丸め）}\n",
    "\\end{align*}\n",
    "\n",
    "とすると\n",
    "\n",
    "$$\n",
    "\t\\mathtt{fl}_{\\bigtriangledown}\\!\\left(a\\circ b\\right)\\le a\\circ b\\le\\mathtt{fl}_{\\bigtriangleup}\\!\\left(a\\circ b\\right)\n",
    "$$\n",
    "\n",
    "が成立する．\n",
    "\n",
    "$\\boldsymbol{X}=[a,b]$, $\\boldsymbol{Y}=[c,d]$ ($a,b,c,d\\in\\mathbb{F}$)に対して，機械区間演算は次のように実現できる．\n",
    "\n",
    "\\begin{align*}\n",
    "\t\\boldsymbol{X}+\\boldsymbol{Y}&=[\\mathtt{fl}_{\\bigtriangledown}\\!\\left(a+c\\right),\\mathtt{fl}_{\\bigtriangleup}\\!\\left(b+d\\right)]\\\\\n",
    "\t\\boldsymbol{X}-\\boldsymbol{Y}&=[\\mathtt{fl}_{\\bigtriangledown}\\!\\left(a-d\\right),\\mathtt{fl}_{\\bigtriangleup}\\!\\left(b-c\\right)]\\\\\n",
    "\t\\boldsymbol{X}\\times\\boldsymbol{Y}&=[\\mathtt{fl}_{\\bigtriangledown}\\!\\left(\\min\\{ac,ad,bc,bd\\}\\right),\\mathtt{fl}_{\\bigtriangleup}\\!\\left(\\max\\{ac,ad,bc,bd\\}\\right)]\\\\\n",
    "\t\\boldsymbol{X}\\div\\boldsymbol{Y}&=[\\mathtt{fl}_{\\bigtriangledown}\\!\\left(\\min\\{a/c,a/d,b/c,b/d\\}\\right),\\mathtt{fl}_{\\bigtriangleup}\\!\\left(\\max\\{a/c,a/d,b/c,b/d\\}\\right)]\n",
    "\\end{align*}\n",
    "\n",
    "\n",
    "|$\\boldsymbol{X}\\times\\boldsymbol{Y}$|$c>0$|$0\\in\\boldsymbol{Y}$|$d<0$|\n",
    "|:-------------:|:-------------:|:-------------:|:-------------:|\n",
    "|$a>0$|$[\\mathtt{fl}_{\\bigtriangledown}\\!\\left(ac\\right),\\mathtt{fl}_{\\bigtriangleup}\\!\\left(bd\\right)]$|$[\\mathtt{fl}_{\\bigtriangledown}\\!\\left(bc\\right),\\mathtt{fl}_{\\bigtriangleup}\\!\\left(bd\\right)]$|$[\\mathtt{fl}_{\\bigtriangledown}\\!\\left(bc\\right),\\mathtt{fl}_{\\bigtriangleup}\\!\\left(ad\\right)]$|\n",
    "|$0\\in\\boldsymbol{X}$|$[\\mathtt{fl}_{\\bigtriangledown}\\!\\left(ad\\right),\\mathtt{fl}_{\\bigtriangleup}\\!\\left(bd\\right)]$|$B$|$[\\mathtt{fl}_{\\bigtriangledown}\\!\\left(bc\\right),\\mathtt{fl}_{\\bigtriangleup}\\!\\left(ac\\right)]$|\n",
    "|$b<0$|$[\\mathtt{fl}_{\\bigtriangledown}\\!\\left(ad\\right),\\mathtt{fl}_{\\bigtriangleup}\\!\\left(bc\\right)]$|$[\\mathtt{fl}_{\\bigtriangledown}\\!\\left(ad\\right),\\mathtt{fl}_{\\bigtriangleup}\\!\\left(ad\\right)]$|$[\\mathtt{fl}_{\\bigtriangledown}\\!\\left(bd\\right),\\mathtt{fl}_{\\bigtriangleup}\\!\\left(ac\\right)]$|\n",
    "\n",
    "ただし $B=[\\min\\{\\mathtt{fl}_{\\bigtriangledown}\\!\\left(ad\\right),\\mathtt{fl}_{\\bigtriangledown}\\!\\left(bc\\right)\\},\\max\\{\\mathtt{fl}_{\\bigtriangleup}\\!\\left(ad\\right),\\mathtt{fl}_{\\bigtriangleup}\\!\\left(bc\\right)\\}].$"
   ]
  },
  {
   "cell_type": "markdown",
   "metadata": {},
   "source": [
    "## ベクトル・行列の区間演算\n",
    "\n",
    "上で述べた丸めの向きを制御することにより，ベクトル $x,y\\in\\mathbb{F}^n$ の内積 $x^Ty$，行列 $A, B\\in\\mathbb{F}^n$ の積，あるいは，ベクトル行列積 $Ax$ の結果を区間で厳密に包含することができる．\n",
    "\n",
    "$$\n",
    "\t\\mathtt{fl}_{\\bigtriangledown}\\!\\left(x^Ty\\right)\\le x^Ty\\le\\mathtt{fl}_{\\bigtriangleup}\\!\\left(x^Ty\\right)\n",
    "$$\n",
    "\n",
    "$$\n",
    "\t\\mathtt{fl}_{\\bigtriangledown}\\!\\left(Ax\\right)\\le Ax\\le\\mathtt{fl}_{\\bigtriangleup}\\!\\left(Ax\\right)\n",
    "$$\n",
    "\n",
    "$$\n",
    "\t\\mathtt{fl}_{\\bigtriangledown}\\!\\left(AB\\right)\\le AB\\le\\mathtt{fl}_{\\bigtriangleup}\\!\\left(AB\\right)\n",
    "$$\n",
    "\n",
    "このようにすると丸め方向の制御で区間演算が容易にできる．しかし，行列ベクトル積，行列積を高速に実装することは職人芸のレベルの難しさである（例えば，キャシュサイズをみて最適なブロック分割などを行う）．そのため通常は数値計算ライブラリを利用するのが主流である．\n",
    "\n",
    "#### 注意\n",
    "\n",
    "Juliaでは現状、丸め方向の制御ができない。従って、上で紹介しているような区間演算ができない（と思う）。丸め方向を指定してBLASを使った区間演算とかはできない模様（本当？）。現状は各演算を区間演算にした演算が以下のようにできている。"
   ]
  },
  {
   "cell_type": "code",
   "execution_count": 11,
   "metadata": {
    "scrolled": true
   },
   "outputs": [
    {
     "name": "stdout",
     "output_type": "stream",
     "text": [
      "  0.152659 seconds (1.09 M allocations: 42.182 MiB)\n"
     ]
    }
   ],
   "source": [
    "# MATLABの表記だったら\n",
    "# n=1e8; x = randn(n,1); y=randn(n,1);\n",
    "# tic, setround(1), xy_up = x'*y; setround(-1), xy_down = x'*y; setround(0), x_interval = infsup(xy_down,xy_up), toc\n",
    "# n = 1e8: 0.16284 (sec)\n",
    "n = 1000;\n",
    "# x = IntervalBox(randn(n));\n",
    "# y = IntervalBox(randn(n));\n",
    "setrounding(Interval, :fast)\n",
    "x = randn(n);\n",
    "y = randn(n);\n",
    "x_int = map(Interval, x);\n",
    "y_int = map(Interval, y);\n",
    "\n",
    "@time dot(x_int,y_int);"
   ]
  },
  {
   "cell_type": "code",
   "execution_count": 12,
   "metadata": {},
   "outputs": [
    {
     "name": "stdout",
     "output_type": "stream",
     "text": [
      "  0.226556 seconds (899.68 k allocations: 37.201 MiB)\n"
     ]
    }
   ],
   "source": [
    "A = randn(n,n);\n",
    "B = randn(n,n);\n",
    "A_int = map(Interval, A);\n",
    "B_int = map(Interval, B);\n",
    "@time A_int*x;"
   ]
  },
  {
   "cell_type": "code",
   "execution_count": 13,
   "metadata": {},
   "outputs": [
    {
     "name": "stdout",
     "output_type": "stream",
     "text": [
      " 27.595644 seconds (3.79 M allocations: 181.553 MiB, 0.23% gc time)\n"
     ]
    }
   ],
   "source": [
    "@time A_int*B;"
   ]
  },
  {
   "cell_type": "markdown",
   "metadata": {},
   "source": [
    "### 謝辞\n",
    "\n",
    "本資料も筆者が学生の頃に精度保証付き数値計算を教えて下さった[柏木雅英](http://www.kashi.info.waseda.ac.jp/~kashi/)先生の「数値解析特論」の講義資料が基になっています.\n",
    "また, 以下のような文献・Web ページ等を参考にこの文章は書いています.\n",
    "\n",
    "### 参考文献\n",
    "\n",
    "1. 大石進一編著, 精度保証付き数値計算の基礎, コロナ社, 2018.<br>\n",
    "(精度保証付き数値計算の教科書. 浮動小数点数および区間演算に詳しい. この1章が読めたら大したもの)\n",
    "1. [Calculating with sets: Interval methods in Julia](https://github.com/dpsanders/IntervalsJuliaCon2020).<br>\n",
    "(Juliaで区間演算をするJuliaCon2020のチュートリアル資料、[動画](https://youtu.be/LAuRCy9jUU8)も公開されている)\n",
    "1. [IntervalArithmetic.jl: Basic usage](https://github.com/JuliaIntervals/IntervalArithmetic.jl/blob/master/docs/src/usage.md).<br>\n",
    "(IntervalArithmetic.jlの区間演算の説明ページ)\n",
    "1. matsueushi, [デフォルトの丸めモードで上付き丸め、下付き丸めをエミュレートする(Julia)](https://matsueushi.github.io/posts/rounding-emulator/).<br>\n",
    "(IntervalArithmetic.jlの丸め変更はこれを使用しているようです)\n",
    "1. matsueushi, [Juliaで丸めモードを指定して浮動小数点数の計算をする(したい)](https://matsueushi.github.io/posts/julia-rounding/).<br>\n",
    "(丸めモードの指定ができない！？最近点丸めだけで区間演算しないといけないのか...)\n",
    "\n",
    "\n",
    "<div align=\"right\"><a href=\"http://www.risk.tsukuba.ac.jp/~takitoshi/\">高安亮紀</a>，2020年8月6日</div>"
   ]
  },
  {
   "cell_type": "code",
   "execution_count": null,
   "metadata": {},
   "outputs": [],
   "source": []
  }
 ],
 "metadata": {
  "kernelspec": {
   "display_name": "Julia 1.5.0",
   "language": "julia",
   "name": "julia-1.5"
  },
  "language_info": {
   "file_extension": ".jl",
   "mimetype": "application/julia",
   "name": "julia",
   "version": "1.5.0"
  }
 },
 "nbformat": 4,
 "nbformat_minor": 1
}
