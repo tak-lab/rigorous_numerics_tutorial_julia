{
 "cells": [
  {
   "cell_type": "markdown",
   "metadata": {},
   "source": [
    "#  Juliaで高速なベクトル・行列の区間演算をしたい\n",
    "\n",
    "ベクトルの内積、行列ベクトル積、行列積の区間演算はとても重要。すなわち\n",
    "$x, y\\in\\mathbb{IF}^n$, $A, B\\in\\mathbb{IF}^{n\\times n}$ に対して、それぞれ$x^Ty \\subset \\alpha$, $Ax\\subset z$, $AB\\subset C$となる\n",
    "$$\n",
    "\\alpha\\in\\mathbb{IF},\\quad z\\in\\mathbb{IF}^n,\\quad C\\in\\mathbb{IF}^{n\\times n}\n",
    "$$\n",
    "を求める方法を考える。\n",
    "\n",
    "## 素朴な方法\n",
    "\n",
    "最も素朴な方法は各演算を区間演算に変更した方式である。\n",
    "\n",
    "$$\n",
    "    \\alpha = \\sum_{k = 1}^n x_ky_k\n",
    "$$\n",
    "\n",
    "$$\n",
    "    z_i = \\sum_{k = 1}^n A_{i,k}x_k\\quad (1\\le i\\le n)\n",
    "$$\n",
    "\n",
    "$$\n",
    "    C_{ij} = \\sum_{k+1}^n A_{i,k}B_{k,j}\\quad (1\\le i,j\\le n)\n",
    "$$\n",
    "\n",
    "特にJuliaの`IntervalArithmetic.jl`パッケージでは、この方法で区間演算が行なわれている。しかし、この方法だとプログラムの最適化が難しく、計算機の性能を十分に引き出した実装が難しく、計算時間がかかってしまう。"
   ]
  },
  {
   "cell_type": "code",
   "execution_count": 1,
   "metadata": {},
   "outputs": [
    {
     "name": "stdout",
     "output_type": "stream",
     "text": [
      "  68.880 μs (6007 allocations: 93.88 KiB)\n"
     ]
    }
   ],
   "source": [
    "using IntervalArithmetic, BenchmarkTools\n",
    "\n",
    "n = 1000;\n",
    "x = randn(n);\n",
    "y = randn(n);\n",
    "\n",
    "x_int = map(Interval, x);\n",
    "y_int = map(Interval, y);\n",
    "\n",
    "@btime alpha = dot(x_int,y_int) # Level 1\n",
    "\n",
    "# setrounding(Interval, :fast)\n",
    "\n",
    "# function dot_vec()\n",
    "#     n = 1000; x = randn(n); y = randn(n);\n",
    "#     x_int = map(Interval, x); y_int = map(Interval, y);\n",
    "#     alpha = dot(x_int,y_int);\n",
    "# end\n",
    "# @btime dot_vec()"
   ]
  },
  {
   "cell_type": "code",
   "execution_count": 6,
   "metadata": {},
   "outputs": [
    {
     "name": "stdout",
     "output_type": "stream",
     "text": [
      "  0.048367 seconds (1 allocation: 15.750 KiB)\n",
      "  0.045054 seconds\n",
      "true\n",
      "true\n"
     ]
    }
   ],
   "source": [
    "using LinearAlgebra\n",
    "n = 1000; A = randn(n,n); x = randn(n); \n",
    "A_int = map(Interval, A); x_int = map(Interval, x); y = similar(x_int);\n",
    "@time z = A_int*x_int; # Level 2\n",
    "@time mul!(y,A_int,x_int) # Level 2\n",
    "println(y ⊆ z)\n",
    "println(z ⊆ y)\n",
    "\n",
    "# @test z ⊆ y\n",
    "# @btime z = A_int*x_int;"
   ]
  },
  {
   "cell_type": "code",
   "execution_count": 7,
   "metadata": {},
   "outputs": [
    {
     "name": "stdout",
     "output_type": "stream",
     "text": [
      "  3.852204 seconds (15.35 M allocations: 561.659 MiB, 7.77% gc time)\n",
      "  0.038983 seconds (8 allocations: 156.656 KiB)\n",
      "  0.038238 seconds (8 allocations: 156.656 KiB)\n"
     ]
    }
   ],
   "source": [
    "n = 100;\n",
    "A = randn(n,n);\n",
    "B = randn(n,n);\n",
    "A_int = map(Interval, A);\n",
    "B_int = map(Interval, B);\n",
    "@time C = A_int*B_int;  # Level 3\n",
    "@time C = A_int*B_int;\n",
    "@time C = A_int*B_int;"
   ]
  },
  {
   "cell_type": "markdown",
   "metadata": {},
   "source": [
    "このくらいの計算スピードならば、体感として、そこまで遅い印象はないが、そこそこ大きなサイズの行列積（Level 3 BLAS）は計算時間がかかってしまう。例えば、"
   ]
  },
  {
   "cell_type": "code",
   "execution_count": 8,
   "metadata": {},
   "outputs": [
    {
     "name": "stdout",
     "output_type": "stream",
     "text": [
      "  42.809 s (8 allocations: 15.26 MiB)\n"
     ]
    }
   ],
   "source": [
    "n = 1000; A = randn(n,n); B = randn(n,n);\n",
    "A_int = map(Interval, A); B_int = map(Interval, B);\n",
    "@btime C = A_int*B_int;  # Level 3"
   ]
  },
  {
   "cell_type": "markdown",
   "metadata": {},
   "source": [
    "これ(Level 3)を高速化したい。考えられる方法は\n",
    "\n",
    "1. 並列化（[Loopvectrization](https://github.com/chriselrod/LoopVectorization.jl), [Tullio](https://github.com/mcabbott/Tullio.jl), `@simd`命令）\n",
    "\n",
    "Tullioパッケージを使うと行列積を自動的に並列化して計算してくれる。小さいサイズの行列積はそこまで高速化されないが、ある程度行列サイズが大きくなると区間行列積の自動並列によって、計算時間が短くなることが観測される。ただし、`JULIA_NUM_THREADS`という環境変数で使用するスレッド数をあらかじめ定義しておく必要がある。例えばmacOSでzshというシェルを使っているなら、`~/.zshrc`というファイル内に\n",
    "\n",
    "``export JULIA_NUM_THREADS=8``\n",
    "\n",
    "と計算スレッド数を指定しておく必要がある。CPUのコア数分だけ指定したら良い？"
   ]
  },
  {
   "cell_type": "code",
   "execution_count": 9,
   "metadata": {},
   "outputs": [
    {
     "name": "stdout",
     "output_type": "stream",
     "text": [
      "  37.167 ms (8 allocations: 156.66 KiB)\n",
      "  9.903 ms (52 allocations: 159.41 KiB)\n"
     ]
    }
   ],
   "source": [
    "using LoopVectorization, BenchmarkTools, IntervalArithmetic, Tullio\n",
    "\n",
    "tullio_gemm(A, B) = @tullio C[i,j] := A[i,k] * B[k,j]\n",
    "\n",
    "n = 100;\n",
    "A = map(Interval,randn(n,n));\n",
    "B = map(Interval,randn(n,n));\n",
    "\n",
    "@btime C = A*B;\n",
    "@btime C1 = tullio_gemm(A,B);"
   ]
  },
  {
   "cell_type": "code",
   "execution_count": 11,
   "metadata": {},
   "outputs": [
    {
     "name": "stdout",
     "output_type": "stream",
     "text": [
      "  5.530151 seconds (123 allocations: 15.266 MiB, 0.04% gc time)\n"
     ]
    }
   ],
   "source": [
    "# Threads.nthreads()\n",
    "n = 1000;\n",
    "A = map(Interval,randn(n,n)); B = map(Interval,randn(n,n));\n",
    "# @btime C = A*B; # ≤ 40 sec\n",
    "# setrounding(Interval, :tight)\n",
    "@time C1 = tullio_gemm(A,B); # ≈ 6 sec\n"
   ]
  },
  {
   "cell_type": "markdown",
   "metadata": {},
   "source": [
    "次、行列、ベクトルの配列に\n",
    "\n",
    "2. [StaticArrays](https://github.com/JuliaArrays/StaticArrays.jl_)を使うと[速いらしい](https://qiita.com/cometscome_phys/items/669273a49ab2417d3af8)\n",
    "\n",
    "StaticArraysは小さいサイズでは多少計算時間が変わるが、要素数が多くなるほどコンパイルに時間がかかり、全体の経過時間は長くなってしまった。要素数が100以下なら`StaticArrays`が使えると上記[Webサイト](https://github.com/JuliaArrays/StaticArrays.jl_)に書いてありました。\n",
    "\n",
    "残るは\n",
    "\n",
    "3. BLAS-Level 3を使う区間演算を実装する、だけど丸め方向が変えられないので、丸めの向きを変えない区間演算を実装する必要あり\n",
    "    - 内積は文献3.の定理8 (今回は実装しない)\n",
    "    - 行列ベクトル積は？？ (今回は実装しない)\n",
    "    - 行列積は文献3.の4節、アルゴリズム5\n",
    "\n",
    " \n",
    " ## BLASを使う\n",
    " \n",
    " まずJuliaの中で、[BLAS](https://ja.wikipedia.org/wiki/Basic_Linear_Algebra_Subprograms)を使うには``LinearAlgebra``パッケージが必要。"
   ]
  },
  {
   "cell_type": "code",
   "execution_count": 12,
   "metadata": {},
   "outputs": [
    {
     "name": "stdout",
     "output_type": "stream",
     "text": [
      "  833.565 ms (2 allocations: 190.73 MiB)\n",
      "  913.556 ms (0 allocations: 0 bytes)\n"
     ]
    }
   ],
   "source": [
    "using LinearAlgebra, BenchmarkTools\n",
    "# versioninfo()\n",
    "# BLAS.vendor()\n",
    "n = 5000;\n",
    "A, B, C = randn(n,n), randn(n,n), zeros(n,n);\n",
    "\n",
    "@btime C = A*B;\n",
    "@btime mul!($C, $A, $B);"
   ]
  },
  {
   "cell_type": "markdown",
   "metadata": {},
   "source": [
    "このようにBLASを使うと、物凄いスピードで数値計算ができる。ただし、行列の内部の型がFloat64に限られるのと、丸め方向を変更した計算ができないため、区間演算の結果が粗くなる（区間幅が増加する）。以下、丸め方向を変更しない区間行列積を実装する。\n",
    "\n",
    "**定義**　$\\mathbf{u}=2^{-53}$を倍精度の**単位相対丸め**とする。$\\mathbf{S}_{\\min}=2^{-1074}$を倍精度浮動小数点数の正の最小数とする。$\\mathbf{F}_{\\min}=2^{-1022}$を倍精度浮動小数点数の正規化数の正の最小数とする。 \n",
    "\n",
    "**注意**　単位相対丸めは$1$と$1$よりも小さい最大の浮動小数点数との差を表す。つまり\n",
    "\n",
    "$$\n",
    "1-\\mathbf{u}<a<1\n",
    "$$\n",
    "\n",
    "となる$a\\in\\mathbb{F}$は存在しない。\n",
    "\n",
    "**注意**　単位相対丸めとは別に**計算機イプシロン**（unit roundoff, machine epsilon）という単位もあり、こちらは$1$と$1$よりも大きい最小の浮動小数点数との差を表し、64bit浮動小数点数では$2^{-52}$でこちらを$\\mathbf{u}$と書く流儀もある（こっちが主流？）ので、注意が必要。Juliaでは`eps(Float64)`とすると$2^{-52}$の数値が得られる。"
   ]
  },
  {
   "cell_type": "code",
   "execution_count": 13,
   "metadata": {},
   "outputs": [
    {
     "name": "stdout",
     "output_type": "stream",
     "text": [
      "0011111111110000000000000000000000000000000000000000000000000000\n",
      "0011111111101111111111111111111111111111111111111111111111111111\n",
      "0000000000000000000000000000000000000000000000000000000000000001\n",
      "0000000000010000000000000000000000000000000000000000000000000000\n",
      "2.220446049250313e-16\n",
      "2.220446049250313e-16\n"
     ]
    }
   ],
   "source": [
    "u = 2.0^-53;\n",
    "s_min = 2.0^-1074;\n",
    "f_min = 2.0^-1022;\n",
    "println(bitstring(1.0))\n",
    "println(bitstring(1.0-u))\n",
    "println(bitstring(s_min))\n",
    "println(bitstring(f_min))\n",
    "println(eps(Float64))\n",
    "println(2*u)"
   ]
  },
  {
   "cell_type": "markdown",
   "metadata": {},
   "source": [
    "**定義**　実数$a\\in\\mathbb{R}$に対する**U**nit in the **F**irst **P**lace (ufp)は次のように定める。\n",
    "\n",
    "$$\n",
    " \\mbox{ufp}(a):= 2^{\\lfloor\\log_2|a|\\rfloor} (a\\neq 0),\\quad \\mbox{ufp}(0)=0.\n",
    "$$\n",
    "\n",
    "関数 $\\mbox{ufp}$ は実数$a$を2進数表記した先頭ビットを返す。4回の浮動小数点演算で求めることができる。関数 $\\mbox{ufp}$ を使うと $\\mbox{ufp}(a)\\le a < 2\\mbox{ufp}$ が成立する。"
   ]
  },
  {
   "cell_type": "code",
   "execution_count": 14,
   "metadata": {},
   "outputs": [
    {
     "data": {
      "text/plain": [
       "ufp (generic function with 1 method)"
      ]
     },
     "execution_count": 14,
     "metadata": {},
     "output_type": "execute_result"
    }
   ],
   "source": [
    "function ufp(P)\n",
    "    u = 2.0^(-53);\n",
    "    ϕ = 2.0^52 + 1;\n",
    "    q = ϕ * P;\n",
    "    T = (1 - u)*q;\n",
    "    return abs(q - T);\n",
    "end"
   ]
  },
  {
   "cell_type": "code",
   "execution_count": 15,
   "metadata": {},
   "outputs": [
    {
     "name": "stdout",
     "output_type": "stream",
     "text": [
      "0011111111101111111111111111111111111111111111111111111111111111\n",
      "0011111111100000000000000000000000000000000000000000000000000000\n",
      "0011111111110000000000000000000000000000000000000000000000000000\n"
     ]
    }
   ],
   "source": [
    "p = 1.0 - u;\n",
    "println(bitstring(p))\n",
    "println(bitstring(ufp(p)))\n",
    "println(bitstring(2*ufp(p)))"
   ]
  },
  {
   "cell_type": "markdown",
   "metadata": {},
   "source": [
    "**定義**　$c\\in\\mathbb{R}$として、\n",
    "\n",
    "- $\\mbox{pred}$: $c$ より小さい最大の浮動小数点数を返す関数, $\\mbox{pred}(c):=\\max\\{f\\in \\mathbb{F}:f<c\\}$\n",
    "- $\\mbox{succ}$: $c$ より大きい最小の浮動小数点数を返す関数, $\\mbox{succ}(c):=\\min\\{f\\in \\mathbb{F}:c<f\\}$\n",
    "\n",
    "\n",
    "これらを使うと $a$, $b\\in\\mathbb{F}$, $\\circ\\in\\{+,-,\\times,\\div\\}$ で\n",
    "\n",
    "$$\n",
    "    \\mbox{pred}(\\mbox{fl}(a\\circ b))<a\\circ b<\\mbox{succ}(\\mbox{fl}(a\\circ b))\n",
    "$$\n",
    "\n",
    "が成り立つ。ここで $\\mbox{fl}:\\mathbb{R}\\to\\mathbb{F}$ は入力の実数を最も近い浮動小数点数に写す写像で、$\\mbox{fl}$ 内の演算は全て浮動小数点演算で計算されているとする。\n",
    "\n",
    "また、pred関数, succ関数はベクトル・行列においても各要素に対するsucc, predを考える事で拡張することが出来る。以下では、文献1のRumpによる方法を実装する。これは複雑だが、なるべく非正規化数の演算を避けるように設計されている。"
   ]
  },
  {
   "cell_type": "code",
   "execution_count": 16,
   "metadata": {},
   "outputs": [
    {
     "data": {
      "text/plain": [
       "pred (generic function with 1 method)"
      ]
     },
     "execution_count": 16,
     "metadata": {},
     "output_type": "execute_result"
    }
   ],
   "source": [
    "function succ(c)\n",
    "    s_min = 2.0^-1074;\n",
    "    u = 2.0^-53;\n",
    "    ϕ = u * (1.0 + 2.0 * u);\n",
    "    if abs(c) >= (1. / 2.) * u^(-2) * s_min # 2^(-969)(Float64)\n",
    "        e = ϕ * abs(c);\n",
    "        succ = c + e;\n",
    "    elseif abs(c) < (1. / 2.) * u^(-1) * s_min # 2^(-1022)(Float64)\n",
    "        succ = c + s_min;\n",
    "    else\n",
    "        C = u^(-1) * c;\n",
    "        e = ϕ * abs(C);\n",
    "        succ = (C + e) * u;\n",
    "    end\n",
    "    return succ\n",
    "end\n",
    "\n",
    "function pred(c)\n",
    "    s_min = 2.0^-1074;\n",
    "    u = 2.0^-53;\n",
    "    ϕ = u * (1.0 + 2.0 * u);\n",
    "    if abs(c) >= (1. / 2.) * u^(-2) * s_min # 2^(-969)(Float64)\n",
    "        e = ϕ * abs(c);\n",
    "        pred = c - e;\n",
    "    elseif abs(c) < (1. / 2.) * u^(-1) * s_min # 2^(-1022)(Float64)\n",
    "        pred = c - s_min;\n",
    "    else\n",
    "        C = u^(-1) * c;\n",
    "        e = ϕ * abs(C);\n",
    "        pred = (C - e) * u;\n",
    "    end\n",
    "    return pred\n",
    "end"
   ]
  },
  {
   "cell_type": "code",
   "execution_count": 17,
   "metadata": {},
   "outputs": [
    {
     "name": "stdout",
     "output_type": "stream",
     "text": [
      "0011111110111001100110011001100110011001100110011001100110011011\n",
      "0011111110111001100110011001100110011001100110011001100110011010\n",
      "0011111110111001100110011001100110011001100110011001100110011001\n"
     ]
    }
   ],
   "source": [
    "a = 0.1;\n",
    "println(bitstring(succ(a)))\n",
    "println(bitstring(a))\n",
    "println(bitstring(pred(a)))"
   ]
  },
  {
   "cell_type": "markdown",
   "metadata": {},
   "source": [
    "ベクトルの総和と内積のufpを用いた事前誤差解析を応用して、行列 $A\\in\\mathbb{F}^{m\\times n}$, $B\\in\\mathbb{F}^{n\\times p}$ の積 $AB$ を包含する中心半径型区間行列 $\\langle C,R\\rangle\\in\\mathbb{IF}^{m\\times p}$ を計算する。\n",
    "\n",
    "$$\n",
    "    C=\\mbox{fl}(AB),\\quad R=\\mbox{fl}((n+2)\\mathbf{u}\\cdot \\mbox{ufp}(|A||B|)) + \\mathbf{F}_{\\min}\\cdot e_{m}e_{p}^T).\n",
    "$$\n",
    "\n",
    "ただし $e_n=(1,\\dots,1)^T\\in\\mathbb{F}^{n}$ で $n$ は $2(n+\\mathbf{u})<1$を満たすとする。このとき必要な行列積の計算は、$\\mbox{fl}(AB)$, $\\mbox{fl}(|A||B|)$ の2回である。これらをBLASを用いて計算することにより、高速な数値計算が実行可能である。そして、浮動小数点演算を行った結果 $C$ とその誤差半径を $R$ とし、行列積の真値を包含する。"
   ]
  },
  {
   "cell_type": "code",
   "execution_count": 18,
   "metadata": {},
   "outputs": [
    {
     "data": {
      "text/plain": [
       "mm_ufp (generic function with 1 method)"
      ]
     },
     "execution_count": 18,
     "metadata": {},
     "output_type": "execute_result"
    }
   ],
   "source": [
    "function mm_ufp(A_mid, B_mid)\n",
    "    u = 2.0^(-53);\n",
    "    realmin = 2.0^(-1022);\n",
    "    n = size(A_mid,2);\n",
    "    \n",
    "    if(2*(n+2)*u>=1)\n",
    "        error(\"mm_ufp is failed!(2(n+2)u>=1)\")\n",
    "    end\n",
    "    C_mid = A_mid * B_mid;\n",
    "    C_rad = (n+2) * u * ufp.(abs.(A_mid)*abs.(B_mid)) .+ realmin;\n",
    "        \n",
    "    return C_mid, C_rad;\n",
    "end"
   ]
  },
  {
   "cell_type": "code",
   "execution_count": 57,
   "metadata": {},
   "outputs": [
    {
     "name": "stdout",
     "output_type": "stream",
     "text": [
      "  0.029300 seconds (17 allocations: 53.406 MiB)\n"
     ]
    }
   ],
   "source": [
    "using IntervalArithmetic, LinearAlgebra\n",
    "\n",
    "n = 1000;\n",
    "A = randn(n,n);\n",
    "B = randn(n,n);\n",
    "A_int = map(Interval, A);\n",
    "B_int = map(Interval, B);\n",
    "\n",
    "A_mid = mid.(A_int);\n",
    "# A_rad = radius.(A_int);\n",
    "B_mid = mid.(B_int);\n",
    "# B_rad = radius.(B_int);\n",
    "# C_mid = similar(A_mid)\n",
    "# C_rad = similar(A_rad);\n",
    "@time C_mid, C_rad = mm_ufp(A_mid,B_mid);\n",
    "C_int = C_mid .± C_rad;"
   ]
  },
  {
   "cell_type": "markdown",
   "metadata": {},
   "source": [
    "**注意** `@tullio`マクロで並列化した区間演算（8コア！）で約6秒かかる区間行列積が、BLASを使うと、約0.02秒と300倍程度高速化される。これがBLASの力だー！しかし、BLASの計算はFloat64のみサポートされるため、64ビットの浮動小数点数を用いた区間演算のとき以外は、高速化されない点を注意したい。例えば端点にBigFloatのような多倍長数値を用いたいときなどは、残念ながらBLASを用いたの高速な計算が出来ないのが現状である。また、ufpを用いる区間演算は過大評価になるため、区間幅の増大が避けられない事（概ね10倍大きな区間幅になる）にも注意が必要である。"
   ]
  },
  {
   "cell_type": "code",
   "execution_count": 24,
   "metadata": {},
   "outputs": [
    {
     "name": "stdout",
     "output_type": "stream",
     "text": [
      "8.526512829121202e-12\n",
      "5.695710569852963e-11\n"
     ]
    }
   ],
   "source": [
    "println(maximum(radius.(C1[:])))\n",
    "println(maximum(C_rad[:]))"
   ]
  },
  {
   "cell_type": "markdown",
   "metadata": {},
   "source": [
    "次に区間行列 $A=\\langle A_m,A_r\\rangle\\in\\mathbb{IF}^{m\\times n}$, $B=\\langle B_m,B_r\\rangle\\in\\mathbb{IF}^{n\\times p}$ の積 $AB$ を包含する区間行列 $\\langle C,T\\rangle\\in\\mathbb{IF}^{m\\times p}$ を計算することを考える。はじめに区間行列積 $AB$ は\n",
    "\n",
    "$$\n",
    "    AB\\subseteq \\langle A_mB_m,\\tilde{T}\\rangle,\\quad \\tilde{T}:=|A_m|B_r+A_r(|B_m|+B_r)\n",
    "$$\n",
    "\n",
    "と包含できる。丸め方向の変更ができる場合は、この中心と半径を丸めの向きを変えることで計算し厳密に包含することができる。しかし今回は丸め方向の変更ができないため、事前誤差評価によって中心と半径を厳密に包含する必要がある。いま $n$ は $2(n+\\mathbf{u})<1$ を満たすとし、区間行列の中心同士の積 $A_mB_m$ は\n",
    "\n",
    "$$\n",
    "    C=\\mbox{fl}(A_mB_m),\\quad R=\\mbox{fl}((n+2)\\mathbf{u}\\cdot \\mbox{ufp}(|A_m||B_m|)) + \\mathbf{F}_{\\min}\\cdot e_{m}e_{p}^T).\n",
    "$$\n",
    "\n",
    "として $\\langle C,R\\rangle(=\\mbox{mm_ufp}(A_m,B_m))$ で包含できる。次に $|A_m|B_r$ の上限を考える。\n",
    "\n",
    "\\begin{align*}\n",
    "&T_1:=\\mbox{fl}(|A_m|B_r)\\\\\n",
    "&||A_m|B_r-\\mbox{fl}(|A_m|B_r)|\\le \\mbox{fl}((n+2)\\mathbf{u}\\cdot\\mbox{ufp}(T_1) + \\mathbf{F}_{\\min}\\cdot e_{m}e_{p}^T)=:T_2\\\\\n",
    "&|A_m|B_r\\le T_1+T_2\n",
    "\\end{align*}\n",
    "\n",
    "さらに $|B_m|+B_r$ は\n",
    "\n",
    "$$\n",
    "    |B_m|+B_r\\le\\mbox{succ}(\\mbox{fl}(|B_m|+B_r))=:T_3\n",
    "$$\n",
    "\n",
    "で抑えられる。さらに $A_rT_3$ の上限は\n",
    "\n",
    "\\begin{align*}\n",
    "&T_4:=\\mbox{fl}(A_rT_3)\\\\\n",
    "&|A_rT_3-\\mbox{fl}(A_rT_3)|\\le \\mbox{fl}((n+2)\\mathbf{u}\\cdot\\mbox{ufp}(T_4) + \\mathbf{F}_{\\min}\\cdot e_{m}e_{p}^T)=:T_5\\\\\n",
    "&A_rT_3\\le T_4+T_5.\n",
    "\\end{align*}\n",
    "\n",
    "最後に誤差半径 $T$ は $T_1+T_2+T_3+T_4+T_5+R$の上限で得られ、\n",
    "\n",
    "\\begin{align*}\n",
    "&T_1+T_2+T_3+T_4+T_5+R\\\\\n",
    "&\\le \\mbox{fl}(T_1+T_2+T_3+T_4+T_5+R) + \\mbox{fl}(4\\mathbf{u}(T_1+T_2+T_3+T_4+T_5+R))\\\\\n",
    "&\\le \\mbox{succ}(\\mbox{fl}(T_1+T_2+T_3+T_4+T_5+R) + \\mbox{fl}(4\\mathbf{u}(T_1+T_2+T_3+T_4+T_5+R)))=:T.\n",
    "\\end{align*}\n",
    "\n",
    "したがって、$AB\\subseteq \\langle C,T\\rangle$ となる $C\\in\\mathbb{F}^{m\\times p}$ と $T\\in\\mathbb{F}^{m\\times p}$ が得られる。"
   ]
  },
  {
   "cell_type": "code",
   "execution_count": 26,
   "metadata": {},
   "outputs": [
    {
     "data": {
      "text/plain": [
       "imm_ufp (generic function with 1 method)"
      ]
     },
     "execution_count": 26,
     "metadata": {},
     "output_type": "execute_result"
    }
   ],
   "source": [
    "function imm_ufp(A_mid, A_rad, B_mid, B_rad)\n",
    "    u = 2.0^(-53);\n",
    "    realmin = 2.0^(-1022);\n",
    "    n = size(A_mid,2);\n",
    "    \n",
    "    if(2*(n+2)*u>=1)\n",
    "        error(\"mm_ufp is failed!(2(n+2)u>=1)\")\n",
    "    end\n",
    "#     C, R = mm_ufp(A_mid,B_mid);\n",
    "    C_mid = A_mid * B_mid;\n",
    "    R = (n+2) * u * ufp.(abs.(A_mid)*abs.(B_mid)) .+ realmin;\n",
    "    \n",
    "#     T_1, T_2 = mm_ufp(abs.(A_mid), B_rad);\n",
    "    T1 = abs.(A_mid) * B_rad;\n",
    "    T2 = (n+2)*u*ufp.(T1) .+ realmin;\n",
    "    \n",
    "#     T_3 = succ.(abs.(B_mid)+B_rad);\n",
    "    T3 = succ.(abs.(B_mid)+B_rad)\n",
    "    \n",
    "#     T_4, T_5 = mm_ufp(A_r, T_3);\n",
    "    T4 = A_rad * T3;\n",
    "    T5 = (n+2)*u*ufp.(T4) .+ realmin;\n",
    "    \n",
    "    rad_sum = R + T1 + T2 + T4 + T5;\n",
    "\n",
    "    C_rad = succ.(rad_sum + 4*u*ufp.(rad_sum));\n",
    "    \n",
    "    return C_mid, C_rad;\n",
    "end"
   ]
  },
  {
   "cell_type": "code",
   "execution_count": 60,
   "metadata": {},
   "outputs": [
    {
     "name": "stdout",
     "output_type": "stream",
     "text": [
      "  0.074906 seconds (51 allocations: 183.107 MiB)\n"
     ]
    }
   ],
   "source": [
    "using IntervalArithmetic, LinearAlgebra\n",
    "\n",
    "# n = 1000;\n",
    "# A = randn(n,n);\n",
    "# B = randn(n,n);\n",
    "# A_int = map(Interval, A);\n",
    "# B_int = map(Interval, B);\n",
    "\n",
    "A_mid = mid.(A_int);\n",
    "A_rad = radius.(A_int);\n",
    "B_mid = mid.(B_int);\n",
    "B_rad = radius.(B_int);\n",
    "# C_mid = similar(A_mid)\n",
    "# C_rad = similar(A_rad);\n",
    "@time C1_mid, C1_rad = imm_ufp(A_mid,A_rad,B_mid,B_rad);\n",
    "C1_int = C1_mid .± C1_rad;"
   ]
  },
  {
   "cell_type": "code",
   "execution_count": 61,
   "metadata": {},
   "outputs": [
    {
     "name": "stdout",
     "output_type": "stream",
     "text": [
      "5.695710569852963e-11\n",
      "5.695710569852965e-11\n"
     ]
    }
   ],
   "source": [
    "# CC = A_mid*B_mid .∈ C1;\n",
    "# sum(CC[:])\n",
    "# println(size(C_int))\n",
    "# println(size(C1))\n",
    "# println(maximum(radius.(C1[:])))\n",
    "println(maximum(C_rad[:]))\n",
    "println(maximum(C1_rad[:]))\n",
    "# println(size(C_int))"
   ]
  },
  {
   "cell_type": "markdown",
   "metadata": {},
   "source": [
    "**注意**　`mm_ufp`と`imm_ufp`は入力の行列 $A$, $B$ に応じて使い分けることを計算速度、誤差半径の両面からおすすめする。\n",
    "\n",
    "### 謝辞\n",
    "\n",
    "本資料も筆者が学生の頃に精度保証付き数値計算を教えて下さった[柏木雅英](http://www.kashi.info.waseda.ac.jp/~kashi/)先生の「数値解析特論」の講義資料を参考にしています。また、丸め方向を変更しないBLASを使った区間行列積について[森倉悠介](http://y-m.jp/)先生から助言をいただき、`imm_ufp`のMATLABコードをご提供していただきました。ここに感謝申し上げます。\n",
    "さらに、以下のような文献・Web ページ等を参考にこの文章は書いています。\n",
    "\n",
    "\n",
    "### 参考文献\n",
    "1. S. M. Rump, P. Zimmermann, S. Boldo and G. Melquiond: “Computing predecessor and successor in rounding to nearest”, BIT Vol. 49, No. 2, pp.419–431, 2009.\n",
    "(http://www.ti3.tu-harburg.de/paper/rump/RuZiBoMe08.pdf)\n",
    "(succ, predのRumpの方法が紹介されている)\n",
    "1. 柏木雅英, IEEE754 浮動小数点数の隣の数を計算する方法のまとめ, [http://www.kashi.info.waseda.ac.jp/~kashi/lec2020/nac/succ.pdf](http://www.kashi.info.waseda.ac.jp/~kashi/lec2020/nac/succ.pdf)\n",
    "(succ, predの様々な実装方法が紹介されている)\n",
    "1. 森倉悠介, 事前誤差評価を用いた線形計算の精度保証 –誤差解析から大規模計算まで–, [http://www.sr3.t.u-tokyo.ac.jp/jsiam/slides/2015/morikura_20151224_yokou_ver1.3.pdf](http://www.sr3.t.u-tokyo.ac.jp/jsiam/slides/2015/morikura_20151224_yokou_ver1.3.pdf)\n",
    "(丸め方向を変更しない数値線形代数の区間演算について端的にまとまっている)\n",
    "1. 大石進一編著, 精度保証付き数値計算の基礎, コロナ社, 2018.<br>\n",
    "(精度保証付き数値計算の教科書。2章に浮動小数点数の事前誤差解析の話が、3.2章に区間行列積の高速実装についての話が載っている。ここでは紹介しなかったが、この先にエラーフリー変換という沼が待っている。ぜひご体感あれ。)\n",
    "\n",
    "\n",
    "<div align=\"right\"><a href=\"http://www.risk.tsukuba.ac.jp/~takitoshi/\">高安亮紀</a>，2020年9月25日</div>"
   ]
  }
 ],
 "metadata": {
  "kernelspec": {
   "display_name": "Julia 1.5.0",
   "language": "julia",
   "name": "julia-1.5"
  },
  "language_info": {
   "file_extension": ".jl",
   "mimetype": "application/julia",
   "name": "julia",
   "version": "1.5.0"
  }
 },
 "nbformat": 4,
 "nbformat_minor": 4
}
