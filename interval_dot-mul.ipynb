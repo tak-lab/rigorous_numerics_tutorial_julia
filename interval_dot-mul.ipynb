{
 "cells": [
  {
   "cell_type": "markdown",
   "metadata": {},
   "source": [
    "#  Juliaで高速なベクトル・行列の区間演算をしたい\n",
    "\n",
    "ベクトルの内積、行列ベクトル積、行列積の区間演算はとても重要。すなわち\n",
    "$x, y\\in\\mathbb{IF}^n$, $A, B\\in\\mathbb{IF}^{n\\times n}$ に対して、それぞれ$x^Ty \\subset \\alpha$, $Ax\\subset z$, $AB\\subset C$となる\n",
    "$$\n",
    "\\alpha\\in\\mathbb{IF},\\quad z\\in\\mathbb{IF}^n,\\quad C\\in\\mathbb{IF}^{n\\times n}\n",
    "$$\n",
    "を求める方法を考える。\n",
    "\n",
    "## 素朴な方法\n",
    "\n",
    "最も素朴な方法は各演算を区間演算に変更した方式である。\n",
    "\n",
    "$$\n",
    "    \\alpha = \\sum_{k = 1}^n x_ky_k\n",
    "$$\n",
    "\n",
    "$$\n",
    "    z_i = \\sum_{k = 1}^n A_{i,k}x_k\\quad (1\\le i\\le n)\n",
    "$$\n",
    "\n",
    "$$\n",
    "    C_{ij} = \\sum_{k+1}^n A_{i,k}B_{k,j}\\quad (1\\le i,j\\le n)\n",
    "$$\n",
    "\n",
    "特にJuliaの`IntervalArithmetic.jl`パッケージでは、この方法で区間演算が行なわれている。しかし、この方法だとプログラムの最適化が難しく、計算機の性能を十分に引き出した実装が難しく、計算時間がかかってしまう。"
   ]
  },
  {
   "cell_type": "code",
   "execution_count": 1,
   "metadata": {},
   "outputs": [
    {
     "name": "stdout",
     "output_type": "stream",
     "text": [
      "  70.484 μs (6007 allocations: 93.88 KiB)\n"
     ]
    }
   ],
   "source": [
    "using IntervalArithmetic, BenchmarkTools\n",
    "\n",
    "n = 1000;\n",
    "x = randn(n);\n",
    "y = randn(n);\n",
    "\n",
    "x_int = map(Interval, x);\n",
    "y_int = map(Interval, y);\n",
    "\n",
    "@btime alpha = dot(x_int,y_int)\n",
    "\n",
    "# setrounding(Interval, :fast)\n",
    "\n",
    "# function dot_vec()\n",
    "#     n = 1000; x = randn(n); y = randn(n);\n",
    "#     x_int = map(Interval, x); y_int = map(Interval, y);\n",
    "#     alpha = dot(x_int,y_int);\n",
    "# end\n",
    "# @btime dot_vec()"
   ]
  },
  {
   "cell_type": "code",
   "execution_count": 3,
   "metadata": {},
   "outputs": [
    {
     "name": "stdout",
     "output_type": "stream",
     "text": [
      "  0.046617 seconds (1 allocation: 15.750 KiB)\n",
      "  0.042867 seconds\n",
      "true\n",
      "true\n"
     ]
    }
   ],
   "source": [
    "using LinearAlgebra\n",
    "n = 1000; A = randn(n,n); x = randn(n); \n",
    "A_int = map(Interval, A); x_int = map(Interval, x); y = similar(x_int);\n",
    "@time z = A_int*x_int;\n",
    "@time mul!(y,A_int,x_int)\n",
    "println(y ⊆ z)\n",
    "println(z ⊆ y)\n",
    "\n",
    "# @test z ⊆ y\n",
    "# @btime z = A_int*x_int;"
   ]
  },
  {
   "cell_type": "code",
   "execution_count": 4,
   "metadata": {},
   "outputs": [
    {
     "name": "stdout",
     "output_type": "stream",
     "text": [
      "  3.890780 seconds (15.35 M allocations: 561.659 MiB, 7.95% gc time)\n",
      "  0.040158 seconds (8 allocations: 156.656 KiB)\n",
      "  0.040228 seconds (8 allocations: 156.656 KiB)\n"
     ]
    }
   ],
   "source": [
    "n = 100;\n",
    "A = randn(n,n);\n",
    "B = randn(n,n);\n",
    "A_int = map(Interval, A);\n",
    "B_int = map(Interval, B);\n",
    "@time C = A_int*B_int;\n",
    "@time C = A_int*B_int;\n",
    "@time C = A_int*B_int;"
   ]
  },
  {
   "cell_type": "code",
   "execution_count": 41,
   "metadata": {},
   "outputs": [
    {
     "name": "stdout",
     "output_type": "stream",
     "text": [
      "  41.813 s (8 allocations: 15.26 MiB)\n"
     ]
    }
   ],
   "source": [
    "n = 1000; A = randn(n,n); B = randn(n,n);\n",
    "A_int = map(Interval, A); B_int = map(Interval, B);\n",
    "@btime C = A_int*B_int;"
   ]
  },
  {
   "cell_type": "markdown",
   "metadata": {},
   "source": [
    "これを高速化したい。考えられる方法は\n",
    "\n",
    "1. 並列化したい（[Loopvectrization](https://github.com/chriselrod/LoopVectorization.jl), [Tullio](https://github.com/mcabbott/Tullio.jl)?, @simd命令）\n",
    "\n",
    "Tullioを使うと小さいサイズでの行列積は遅いが、ある程度サイズが大きくなると区間行列積を自動的に並列化してくれ、計算時間も短くなることが観測された。ただし、`JULIA_NUM_THREADS`という環境変数で使用するスレッド数をあらかじめ定義しておく必要がある。例えばmacOSでzshというシェルを使っているなら、`~/.zshrc`というファイル内に`export JULIA_NUM_THREADS=8`と計算スレッド数をしておく必要がある。\n",
    "\n",
    "2. [StaticArrays](https://github.com/JuliaArrays/StaticArrays.jl_)を使うと[速いらしい](https://qiita.com/cometscome_phys/items/669273a49ab2417d3af8)\n",
    "\n",
    "StaticArraysは小さいサイズでは多少計算時間が変わるが、要素数が多くなるほどコンパイルに時間がかかり、全体の経過時間は長くなってしまった。要素数が100以下なら`StaticArrays`が使えると上記[Webサイト](https://github.com/JuliaArrays/StaticArrays.jl_)に書いてありました。\n",
    "\n"
   ]
  },
  {
   "cell_type": "code",
   "execution_count": 6,
   "metadata": {},
   "outputs": [
    {
     "name": "stdout",
     "output_type": "stream",
     "text": [
      "  88.405 ms (6000020 allocations: 91.71 MiB)\n",
      "  10.218 ms (52 allocations: 159.41 KiB)\n"
     ]
    }
   ],
   "source": [
    "using LoopVectorization, BenchmarkTools, IntervalArithmetic, Tullio\n",
    "\n",
    "# @inline function gemmavx!(C, A, B)\n",
    "#     @avx for i ∈ 1:size(A,1), j ∈ 1:size(B,2)\n",
    "#         Cᵢⱼ = 0.0\n",
    "#         for k ∈ 1:size(A,2)\n",
    "#             Cᵢⱼ += A[i,k] * B[k,j]\n",
    "#         end\n",
    "#         C[i,j] = Cᵢⱼ\n",
    "#     end\n",
    "# end\n",
    "\n",
    "# function jgemm!(C, A, B)\n",
    "#     C .= 0\n",
    "#     M, N = size(C); K = size(B,1)\n",
    "#     @inbounds for n ∈ 1:N, k ∈ 1:K\n",
    "#         @simd ivdep for m ∈ 1:M\n",
    "#             C[m,n] += A[m,k] * B[k,n]\n",
    "#         end\n",
    "#     end\n",
    "# end\n",
    "\n",
    "tullio_gemm(A, B) = @tullio C[i,j] := A[i,k] * B[k,j]\n",
    "\n",
    "n = 100;\n",
    "A = map(Interval,randn(n,n));\n",
    "B = map(Interval,randn(n,n));\n",
    "# C = similar(A);\n",
    "# @btime gemmavx!(C,A,B)\n",
    "# @btime jgemm!(C,A,B)\n",
    "@btime C = A*B;\n",
    "@btime C1 = tullio_gemm(A,B);"
   ]
  },
  {
   "cell_type": "code",
   "execution_count": 18,
   "metadata": {},
   "outputs": [
    {
     "name": "stdout",
     "output_type": "stream",
     "text": [
      "  6.252 s (124 allocations: 15.27 MiB)\n"
     ]
    }
   ],
   "source": [
    "# Threads.nthreads()\n",
    "n = 1000;\n",
    "A = map(Interval,randn(n,n)); B = map(Interval,randn(n,n));\n",
    "# @btime C = A*B; # ≤ 40 sec\n",
    "@btime C1 = tullio_gemm(A,B); # ≈ 6 sec\n"
   ]
  },
  {
   "cell_type": "markdown",
   "metadata": {},
   "source": [
    "残るは\n",
    "\n",
    "3. BLASを使う区間演算を実装する、だけど丸め方向が変えられないので、丸めの向きを変えない区間演算を実装する必要あり\n",
    "    - 内積は森倉定理8 (区間ベクトルの内積はいる？)\n",
    "    - 行列ベクトル積はいる？\n",
    "    - 行列積は森倉4節\n",
    " \n",
    " \n",
    " ## BLASを使う\n",
    " \n",
    " まずJuliaの中で、[BLAS](https://ja.wikipedia.org/wiki/Basic_Linear_Algebra_Subprograms)を使うには``LinearAlgebra``パッケージが必要。"
   ]
  },
  {
   "cell_type": "code",
   "execution_count": 9,
   "metadata": {},
   "outputs": [
    {
     "name": "stdout",
     "output_type": "stream",
     "text": [
      "  755.193 ms (2 allocations: 190.73 MiB)\n",
      "  816.399 ms (0 allocations: 0 bytes)\n"
     ]
    }
   ],
   "source": [
    "using LinearAlgebra, BenchmarkTools\n",
    "# versioninfo()\n",
    "# BLAS.vendor()\n",
    "n = 5000;\n",
    "A, B, C = randn(n,n), randn(n,n), zeros(n,n);\n",
    "\n",
    "@btime C = A*B;\n",
    "@btime mul!($C, $A, $B);"
   ]
  },
  {
   "cell_type": "markdown",
   "metadata": {},
   "source": [
    "このようにBLASを使うと、物凄いスピードで数値計算ができる。ただし、行列の内部の型がfloat64に限られるのと、丸め方向を変更した計算ができないため、区間演算の結果が粗くなる（区間幅が増加する）。\n",
    "\n",
    "**定義**　$\\mathbf{u}=2^{-53}$を倍精度の**単位相対丸め**とする。$\\mathbf{S}_{\\min}=2^{-1074}$を倍精度浮動小数点数の正の最小数とする。$\\mathbf{F}_{\\min}=2^{-1022}$を倍精度浮動小数点数の正規化数の正の最小数とする。 \n",
    "\n",
    "**注意**　単位相対丸めは$1$と$1$よりも小さい最大の浮動小数点数との差を表す。つまり\n",
    "$$\n",
    "1-\\mathbf{u}<a<1\n",
    "$$\n",
    "となる$a\\in\\mathbb{F}$は存在しない。\n",
    "\n",
    "**注意**　単位相対丸めとは別に**計算機イプシロン**（unit roundoff, machine epsilon）という単位もあり、こちらは$1$と$1$よりも大きい最小の浮動小数点数との差を表し、64bit浮動小数点数では$2^{-52}$でこちらを$\\mathbf{u}$と書く流儀もある（こっちが主流？）ので、注意が必要。Juliaでは`eps(Float64)`とすると数値が得られる。"
   ]
  },
  {
   "cell_type": "code",
   "execution_count": 2,
   "metadata": {},
   "outputs": [
    {
     "name": "stdout",
     "output_type": "stream",
     "text": [
      "0011111111110000000000000000000000000000000000000000000000000000\n",
      "0011111111101111111111111111111111111111111111111111111111111111\n",
      "0000000000000000000000000000000000000000000000000000000000000001\n",
      "0000000000010000000000000000000000000000000000000000000000000000\n",
      "2.220446049250313e-16\n",
      "2.220446049250313e-16\n"
     ]
    }
   ],
   "source": [
    "u = 2.0^-53;\n",
    "s_min = 2.0^-1074;\n",
    "f_min = 2.0^-1022;\n",
    "println(bitstring(1.0))\n",
    "println(bitstring(1.0-u))\n",
    "println(bitstring(s_min))\n",
    "println(bitstring(f_min))\n",
    "println(eps(Float64))\n",
    "println(2*u)"
   ]
  },
  {
   "cell_type": "markdown",
   "metadata": {},
   "source": [
    "**定義**　実数$a\\in\\mathbb{R}$に対する**U**nit in the **F**irst **P**lace (ufp)は次のように定める。\n",
    "\n",
    "$$\n",
    " \\mbox{ufp}(a):= 2^{\\lfloor\\log_2|a|\\rfloor} (a\\neq 0),\\quad \\mbox{ufp}(0)=0.\n",
    "$$\n",
    "\n",
    "関数$\\mbox{ufp}$は実数$a$を2進数表記した先頭ビットを返す。4回の浮動小数点演算で求めることができる。\n",
    "\n",
    "**アルゴリズム**\n",
    "\n",
    "```\n",
    "function s = ufp(p)\n",
    "    phi = (2*u)^{-1} + 1;\n",
    "    q = phi * p;\n",
    "    s = |q - (1-u)q|;\n",
    "end\n",
    "```\n",
    "\n",
    "関数$\\mbox{ufp}$を使うと$\\mbox{ufp}(a)\\le a < 2\\mbox{ufp}$が成立する。"
   ]
  },
  {
   "cell_type": "code",
   "execution_count": 8,
   "metadata": {},
   "outputs": [
    {
     "data": {
      "text/plain": [
       "ufp (generic function with 1 method)"
      ]
     },
     "execution_count": 8,
     "metadata": {},
     "output_type": "execute_result"
    }
   ],
   "source": [
    "function ufp(P)\n",
    "    u = 2.0^(-53);\n",
    "    ϕ = 2.0^52 + 1;\n",
    "    q = ϕ * P;\n",
    "    T = (1 - u)*q;\n",
    "    return abs(q - T);\n",
    "end"
   ]
  },
  {
   "cell_type": "code",
   "execution_count": 10,
   "metadata": {},
   "outputs": [
    {
     "name": "stdout",
     "output_type": "stream",
     "text": [
      "0011111111101111111111111111111111111111111111111111111111111111\n",
      "0011111111100000000000000000000000000000000000000000000000000000\n",
      "0011111111110000000000000000000000000000000000000000000000000000\n"
     ]
    }
   ],
   "source": [
    "p = 1.0 - u;\n",
    "println(bitstring(p))\n",
    "println(bitstring(ufp(p)))\n",
    "println(bitstring(2*ufp(p)))"
   ]
  },
  {
   "cell_type": "markdown",
   "metadata": {},
   "source": [
    "**定義**　$c\\in\\mathbb{R}$として、\n",
    "\n",
    "- $\\mbox{pred}$: $r$より小さい最大の浮動小数点数を返す関数, $\\mbox{pred}(c):=\\max\\{f\\in \\mathbb{F}:f<c\\}$\n",
    "- $\\mbox{succ}$: $r$より大きい最小の浮動小数点数を返す関数, $\\mbox{succ}(c):=\\min\\{f\\in \\mathbb{F}:c<f\\}$\n",
    "\n",
    "\n",
    "これらを使うと$a$, $b\\in\\mathbb{F}$, $\\circ\\in\\{+,-,\\times,\\div\\}$で\n",
    "$$\n",
    "    \\mbox{pred}(\\mbox{fl}(a\\circ b))<a\\circ b<\\mbox{succ}(\\mbox{fl}(a\\circ b))\n",
    "$$\n",
    "が成り立つ。\n",
    "\n",
    "また、pred関数, succ関数はベクトル・行列においても各要素に対するsucc, predを考える事で拡張することが出来る。"
   ]
  },
  {
   "cell_type": "code",
   "execution_count": 9,
   "metadata": {},
   "outputs": [
    {
     "data": {
      "text/plain": [
       "pred (generic function with 1 method)"
      ]
     },
     "execution_count": 9,
     "metadata": {},
     "output_type": "execute_result"
    }
   ],
   "source": [
    "function succ(c)\n",
    "    s_min = 2.0^-1074;\n",
    "    u = 2.0^-53;\n",
    "    ϕ = u * (1.0 + 2.0 * u);\n",
    "    if abs(c) >= (1. / 2.) * u^(-2) * s_min # 2^(-969)(Float64)\n",
    "        e = ϕ * abs(c);\n",
    "        succ = c + e;\n",
    "    elseif abs(c) < (1. / 2.) * u^(-1) * s_min # 2^(-1022)(Float64)\n",
    "        succ = c + s_min;\n",
    "    else\n",
    "        C = u^(-1) * c;\n",
    "        e = ϕ * abs(C);\n",
    "        succ = (C + e) * u;\n",
    "    end\n",
    "    return succ\n",
    "end\n",
    "\n",
    "function pred(c)\n",
    "    s_min = 2.0^-1074;\n",
    "    u = 2.0^-53;\n",
    "    ϕ = u * (1.0 + 2.0 * u);\n",
    "    if abs(c) >= (1. / 2.) * u^(-2) * s_min # 2^(-969)(Float64)\n",
    "        e = ϕ * abs(c);\n",
    "        pred = c - e;\n",
    "    elseif abs(c) < (1. / 2.) * u^(-1) * s_min # 2^(-1022)(Float64)\n",
    "        pred = c - s_min;\n",
    "    else\n",
    "        C = u^(-1) * c;\n",
    "        e = ϕ * abs(C);\n",
    "        pred = (C - e) * u;\n",
    "    end\n",
    "    return pred\n",
    "end"
   ]
  },
  {
   "cell_type": "code",
   "execution_count": 24,
   "metadata": {},
   "outputs": [
    {
     "name": "stdout",
     "output_type": "stream",
     "text": [
      "0011111110111001100110011001100110011001100110011001100110011011\n",
      "0011111110111001100110011001100110011001100110011001100110011010\n",
      "0011111110111001100110011001100110011001100110011001100110011001\n"
     ]
    }
   ],
   "source": [
    "a = 0.1;\n",
    "println(bitstring(succ(a)))\n",
    "println(bitstring(a))\n",
    "println(bitstring(pred(a)))"
   ]
  },
  {
   "cell_type": "markdown",
   "metadata": {},
   "source": [
    "`mm_ufp`の説明が必要"
   ]
  },
  {
   "cell_type": "code",
   "execution_count": 10,
   "metadata": {},
   "outputs": [
    {
     "data": {
      "text/plain": [
       "mm_ufp (generic function with 1 method)"
      ]
     },
     "execution_count": 10,
     "metadata": {},
     "output_type": "execute_result"
    }
   ],
   "source": [
    "function mm_ufp(A_mid, A_rad, B_mid, B_rad)\n",
    "    u = 2.0^(-53);\n",
    "    realmin = 2.0^(-1022);\n",
    "    n = size(A_mid,2);\n",
    "    \n",
    "    if(2*(n+2)*u>=1)\n",
    "        error(\"mm_ufp is failed!(2(n+2)u>=1)\")\n",
    "    end\n",
    "    C_mid = A_mid * B_mid;\n",
    "    C_rad = (n+2) * u * ufp.(abs.(A_mid)*abs.(B_mid)) .+ realmin;\n",
    "    \n",
    "    AmBr = abs.(A_mid) * B_rad;\n",
    "    AmBr = succ.(AmBr + ((n+2)*u*ufp.(AmBr) .+ realmin));\n",
    "    \n",
    "    ArBm = A_rad * abs.(B_mid);\n",
    "    ArBm = succ.(ArBm + ((n+2)*u*ufp.(ArBm) .+ realmin));\n",
    "\n",
    "    ArBr = A_rad * B_rad;\n",
    "    ArBr = succ.(ArBr + ((n+2)*u*ufp.(ArBr) .+ realmin));\n",
    "\n",
    "    rad_sum = C_rad + AmBr + ArBm + ArBr;\n",
    "\n",
    "    C_rad = succ.(rad_sum + 3*u*ufp.(rad_sum));\n",
    "    \n",
    "    return C_mid, C_rad;\n",
    "end"
   ]
  },
  {
   "cell_type": "code",
   "execution_count": 19,
   "metadata": {},
   "outputs": [
    {
     "name": "stdout",
     "output_type": "stream",
     "text": [
      "  0.170253 seconds (67 allocations: 244.143 MiB, 5.10% gc time)\n"
     ]
    }
   ],
   "source": [
    "using IntervalArithmetic, LinearAlgebra\n",
    "\n",
    "# n = 100;\n",
    "# A = randn(n,n);\n",
    "# B = randn(n,n);\n",
    "# A_int = map(Interval, A);\n",
    "# B_int = map(Interval, B);\n",
    "# # @time C = A_int*B_int;\n",
    "A_int = A;\n",
    "B_int = B;\n",
    "\n",
    "A_mid = mid.(A_int);\n",
    "A_rad = radius.(A_int);\n",
    "B_mid = mid.(B_int);\n",
    "B_rad = radius.(B_int);\n",
    "C_mid = similar(A_mid)\n",
    "C_rad = similar(A_rad);\n",
    "@time C_mid, C_rad = mm_ufp(A_mid,A_rad,B_mid,B_rad);\n",
    "C_int = C_mid .± C_rad;"
   ]
  },
  {
   "cell_type": "code",
   "execution_count": 20,
   "metadata": {},
   "outputs": [
    {
     "name": "stdout",
     "output_type": "stream",
     "text": [
      "(1000, 1000)\n",
      "(1000, 1000)\n",
      "7.44648787076585e-12\n",
      "5.695710569852965e-11\n"
     ]
    }
   ],
   "source": [
    "# C .⊂ C_int\n",
    "# println(size(C_int))\n",
    "# println(size(C1))\n",
    "println(maximum(radius.(C1[:])))\n",
    "println(maximum(C_rad[:]))"
   ]
  },
  {
   "cell_type": "code",
   "execution_count": null,
   "metadata": {},
   "outputs": [],
   "source": []
  },
  {
   "cell_type": "markdown",
   "metadata": {},
   "source": [
    "## 参考文献\n",
    "1. S. M. Rump, P. Zimmermann, S. Boldo and G. Melquiond: “Computing predecessor and successor in rounding to nearest”, BIT Vol. 49, No. 2, pp.419–431, 2009.\n",
    "(http://www.ti3.tu-harburg.de/paper/rump/RuZiBoMe08.pdf)\n",
    "1. 柏木雅英, IEEE754 浮動小数点数の隣の数を計算する方法のまとめ, [http://www.kashi.info.waseda.ac.jp/~kashi/lec2020/nac/succ.pdf](http://www.kashi.info.waseda.ac.jp/~kashi/lec2020/nac/succ.pdf)"
   ]
  }
 ],
 "metadata": {
  "kernelspec": {
   "display_name": "Julia 1.5.0",
   "language": "julia",
   "name": "julia-1.5"
  },
  "language_info": {
   "file_extension": ".jl",
   "mimetype": "application/julia",
   "name": "julia",
   "version": "1.5.0"
  }
 },
 "nbformat": 4,
 "nbformat_minor": 4
}
