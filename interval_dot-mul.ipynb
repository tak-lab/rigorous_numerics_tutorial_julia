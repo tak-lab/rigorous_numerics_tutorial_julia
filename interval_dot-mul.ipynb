{
 "cells": [
  {
   "cell_type": "markdown",
   "metadata": {},
   "source": [
    "#  Juliaで高速なベクトル・行列の区間演算をしたい\n",
    "\n",
    "ベクトルの内積、行列ベクトル積、行列積の区間演算はとても重要。すなわち\n",
    "$x, y\\in\\mathbb{IF}^n$, $A, B\\in\\mathbb{IF}^{n\\times n}$ に対して、それぞれ$x^Ty \\subset \\alpha$, $Ax\\subset z$, $AB\\subset C$となる$\\alpha\\in\\mathbb{IF}$, $z\\in\\mathbb{IF}^n$, $C\\in\\mathbb{IF}^{n\\times n}$を求める方法を考える。\n",
    "\n",
    "## 素朴な方法\n",
    "\n",
    "最も素朴な方法は各演算を区間演算に変更した方式である。\n",
    "\n",
    "$$\n",
    "    \\alpha = \\sum_{k = 1}^n x_ky_k\n",
    "$$\n",
    "\n",
    "$$\n",
    "    z_i = \\sum_{k = 1}^n A_{i,k}x_k\\quad (1\\le i\\le n)\n",
    "$$\n",
    "\n",
    "$$\n",
    "    C_{ij} = \\sum_{k+1}^n A_{i,k}B_{k,j}\\quad (1\\le i,j\\le n)\n",
    "$$\n",
    "\n",
    "特にJuliaでは、計算を関数で包む事で、高速な計算ができることがあるらしい。\n"
   ]
  },
  {
   "cell_type": "code",
   "execution_count": 37,
   "metadata": {},
   "outputs": [
    {
     "name": "stdout",
     "output_type": "stream",
     "text": [
      "  70.605 μs (6007 allocations: 93.88 KiB)\n",
      "  79.435 μs (6011 allocations: 141.25 KiB)\n"
     ]
    },
    {
     "data": {
      "text/plain": [
       "[20.6663, 20.6664]"
      ]
     },
     "execution_count": 37,
     "metadata": {},
     "output_type": "execute_result"
    }
   ],
   "source": [
    "using IntervalArithmetic, BenchmarkTools\n",
    "\n",
    "n = 1000;\n",
    "x = randn(n);\n",
    "y = randn(n);\n",
    "\n",
    "x_int = map(Interval, x);\n",
    "y_int = map(Interval, y);\n",
    "\n",
    "@btime alpha = dot(x_int,y_int)\n",
    "\n",
    "function dot_vec()\n",
    "    n = 1000; x = randn(n); y = randn(n);\n",
    "    x_int = map(Interval, x); y_int = map(Interval, y);\n",
    "    alpha = dot(x_int,y_int);\n",
    "end\n",
    "@btime dot_vec()"
   ]
  },
  {
   "cell_type": "code",
   "execution_count": 40,
   "metadata": {},
   "outputs": [
    {
     "name": "stdout",
     "output_type": "stream",
     "text": [
      "  39.466 ms (1 allocation: 15.75 KiB)\n"
     ]
    }
   ],
   "source": [
    "# function interval_gemv()\n",
    "n = 1000; A = randn(n,n); x = randn(n);\n",
    "A_int = map(Interval, A); x_int = map(Interval, x);\n",
    "@btime z = A_int*x_int;\n",
    "#     return z\n",
    "# end"
   ]
  },
  {
   "cell_type": "code",
   "execution_count": 41,
   "metadata": {},
   "outputs": [
    {
     "name": "stdout",
     "output_type": "stream",
     "text": [
      "  41.813 s (8 allocations: 15.26 MiB)\n"
     ]
    }
   ],
   "source": [
    "n = 1000; A = randn(n,n); B = randn(n,n);\n",
    "A_int = map(Interval, A); B_int = map(Interval, B);\n",
    "@btime C = A_int*B_int;"
   ]
  },
  {
   "cell_type": "markdown",
   "metadata": {},
   "source": [
    "これを高速化したい。考えられる方法は\n",
    "\n",
    "- 並列化したい（[Loopvectrization](https://github.com/chriselrod/LoopVectorization.jl), [Tullio](https://github.com/mcabbott/Tullio.jl)?, @simd命令）\n",
    "- [StaticArrays](https://github.com/JuliaArrays/StaticArrays.jl_)を使うと[速いらしい](https://qiita.com/cometscome_phys/items/669273a49ab2417d3af8)\n",
    "- BLASを使う、だけど丸め方向が変えられないので、丸めの向きを変えない区間演算\n",
    "    - 内積は森倉定理8あるいは教科書の定理2.4(p.38)\n",
    "    - 行列ベクトル積は？\n",
    "    - 行列積は森倉4節\n",
    " "
   ]
  },
  {
   "cell_type": "code",
   "execution_count": 42,
   "metadata": {},
   "outputs": [
    {
     "name": "stdout",
     "output_type": "stream",
     "text": [
      "  4.364 s (0 allocations: 0 bytes)\n",
      "  4.155 s (8 allocations: 3.82 MiB)\n"
     ]
    }
   ],
   "source": [
    "using LoopVectorization, LinearAlgebra, StructArrays, BenchmarkTools, Test\n",
    "using IntervalArithmetic\n",
    "BLAS.set_num_threads(8);\n",
    "# function mul_avx!(C::StructArray{Interval{Float64},2},\n",
    "#                   A::StructArray{Interval{Float64},2},\n",
    "#                   B::StructArray{Interval{Float64},2})\n",
    "#     @avx for m ∈ 1:size(A,1), n ∈ 1:size(B,2)\n",
    "#             Cmn = zero(eltype(C))\n",
    "#             for k ∈ 1:size(A,2)\n",
    "#                 Cmn += A[m,k] * B[k,n]\n",
    "#             end\n",
    "#             C[m,n] = Cmn\n",
    "#          end\n",
    "# end\n",
    "\n",
    "function mul_avx!(C, A, B)\n",
    "           @avx for m ∈ axes(A,1), n ∈ axes(B,2)\n",
    "               Cmn = zero(eltype(C))\n",
    "               for k ∈ axes(A,2)\n",
    "                   Cmn += A[m,k] * B[k,n]\n",
    "               end\n",
    "               C[m,n] = Cmn\n",
    "           end\n",
    "       end\n",
    "\n",
    "n = 500;\n",
    "# A = StructArray(map(Interval,randn(n,n)));\n",
    "# B = StructArray(map(Interval,randn(n,n)));\n",
    "# C = StructArray(map(Interval,zeros(n,n)));\n",
    "setrounding(Interval, :fast)\n",
    "A = map(Interval,randn(n,n));\n",
    "B = map(Interval,randn(n,n));\n",
    "# C = map(Interval,zeros(n,n));\n",
    "# A = randn(n,n);\n",
    "# B = randn(n,n);\n",
    "# C = zeros(n,n);\n",
    "C = similar(A);\n",
    "\n",
    "@btime mul_avx!($C, $A, $B)\n",
    "@btime C1 = A*B;\n",
    "# @test C1 ⊆ C\n",
    "\n",
    "# using Gaius\n",
    "# @btime blocked_mul!(C2, A, B)"
   ]
  }
 ],
 "metadata": {
  "kernelspec": {
   "display_name": "Julia 1.5.0",
   "language": "julia",
   "name": "julia-1.5"
  },
  "language_info": {
   "file_extension": ".jl",
   "mimetype": "application/julia",
   "name": "julia",
   "version": "1.5.0"
  }
 },
 "nbformat": 4,
 "nbformat_minor": 4
}
