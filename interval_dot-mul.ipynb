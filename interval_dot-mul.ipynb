{
 "cells": [
  {
   "cell_type": "markdown",
   "metadata": {},
   "source": [
    "#  Juliaで高速なベクトル・行列の区間演算をしたい\n",
    "\n",
    "ベクトルの内積、行列ベクトル積、行列積の区間演算はとても重要。すなわち\n",
    "$x, y\\in\\mathbb{IF}^n$, $A, B\\in\\mathbb{IF}^{n\\times n}$ に対して、それぞれ$x^Ty \\subset \\alpha$, $Ax\\subset z$, $AB\\subset C$となる\n",
    "$$\n",
    "\\alpha\\in\\mathbb{IF},\\quad z\\in\\mathbb{IF}^n,\\quad C\\in\\mathbb{IF}^{n\\times n}\n",
    "$$\n",
    "を求める方法を考える。\n",
    "\n",
    "## 素朴な方法\n",
    "\n",
    "最も素朴な方法は各演算を区間演算に変更した方式である。\n",
    "\n",
    "$$\n",
    "    \\alpha = \\sum_{k = 1}^n x_ky_k\n",
    "$$\n",
    "\n",
    "$$\n",
    "    z_i = \\sum_{k = 1}^n A_{i,k}x_k\\quad (1\\le i\\le n)\n",
    "$$\n",
    "\n",
    "$$\n",
    "    C_{ij} = \\sum_{k+1}^n A_{i,k}B_{k,j}\\quad (1\\le i,j\\le n)\n",
    "$$\n",
    "\n",
    "特にJuliaの`IntervalArithmetic.jl`パッケージでは、この方法で区間演算が行なわれている。しかし、この方法だとプログラムの最適化が難しく、計算機の性能を十分に引き出した実装が難しく、計算時間がかかってしまう。"
   ]
  },
  {
   "cell_type": "code",
   "execution_count": 3,
   "metadata": {},
   "outputs": [
    {
     "name": "stdout",
     "output_type": "stream",
     "text": [
      "  69.187 μs (6007 allocations: 93.88 KiB)\n"
     ]
    }
   ],
   "source": [
    "using IntervalArithmetic, BenchmarkTools\n",
    "\n",
    "n = 1000;\n",
    "x = randn(n);\n",
    "y = randn(n);\n",
    "\n",
    "x_int = map(Interval, x);\n",
    "y_int = map(Interval, y);\n",
    "\n",
    "@btime alpha = dot(x_int,y_int)\n",
    "\n",
    "# setrounding(Interval, :fast)\n",
    "\n",
    "# function dot_vec()\n",
    "#     n = 1000; x = randn(n); y = randn(n);\n",
    "#     x_int = map(Interval, x); y_int = map(Interval, y);\n",
    "#     alpha = dot(x_int,y_int);\n",
    "# end\n",
    "# @btime dot_vec()"
   ]
  },
  {
   "cell_type": "code",
   "execution_count": 5,
   "metadata": {},
   "outputs": [
    {
     "name": "stdout",
     "output_type": "stream",
     "text": [
      "  0.046672 seconds (1 allocation: 15.750 KiB)\n",
      "  0.045570 seconds\n",
      "true\n",
      "true\n"
     ]
    }
   ],
   "source": [
    "using LinearAlgebra\n",
    "n = 1000; A = randn(n,n); x = randn(n); \n",
    "A_int = map(Interval, A); x_int = map(Interval, x); y = similar(x_int);\n",
    "@time z = A_int*x_int;\n",
    "@time mul!(y,A_int,x_int)\n",
    "println(y ⊆ z)\n",
    "println(z ⊆ y)\n",
    "\n",
    "# @test z ⊆ y\n",
    "# @btime z = A_int*x_int;"
   ]
  },
  {
   "cell_type": "code",
   "execution_count": 8,
   "metadata": {},
   "outputs": [
    {
     "name": "stdout",
     "output_type": "stream",
     "text": [
      "  0.048638 seconds (8 allocations: 156.656 KiB)\n",
      "  0.046084 seconds (8 allocations: 156.656 KiB)\n",
      "  0.046330 seconds (8 allocations: 156.656 KiB)\n"
     ]
    }
   ],
   "source": [
    "n = 100;\n",
    "A = randn(n,n);\n",
    "B = randn(n,n);\n",
    "A_int = map(Interval, A);\n",
    "B_int = map(Interval, B);\n",
    "@time C = A_int*B_int;\n",
    "@time C = A_int*B_int;\n",
    "@time C = A_int*B_int;"
   ]
  },
  {
   "cell_type": "code",
   "execution_count": 41,
   "metadata": {},
   "outputs": [
    {
     "name": "stdout",
     "output_type": "stream",
     "text": [
      "  41.813 s (8 allocations: 15.26 MiB)\n"
     ]
    }
   ],
   "source": [
    "n = 1000; A = randn(n,n); B = randn(n,n);\n",
    "A_int = map(Interval, A); B_int = map(Interval, B);\n",
    "@btime C = A_int*B_int;"
   ]
  },
  {
   "cell_type": "markdown",
   "metadata": {},
   "source": [
    "これを高速化したい。考えられる方法は\n",
    "\n",
    "1. 並列化したい（[Loopvectrization](https://github.com/chriselrod/LoopVectorization.jl), [Tullio](https://github.com/mcabbott/Tullio.jl)?, @simd命令）\n",
    "1. [StaticArrays](https://github.com/JuliaArrays/StaticArrays.jl_)を使うと[速いらしい](https://qiita.com/cometscome_phys/items/669273a49ab2417d3af8)\n",
    "\n",
    "一つ目はまだ未実験、二つ目は小さいサイズでは多少計算時間が変わるが、要素数が多くなるほどコンパイルに時間がかかり、全体の経過時間は長くなってしまった。要素数が100以下なら`StaticArrays`が使えると上記Webサイトに書いてありました。\n",
    "\n",
    "そこで残るは\n",
    "\n",
    "3. BLASを使う区間演算を実装する、だけど丸め方向が変えられないので、丸めの向きを変えない区間演算\n",
    "    - 内積は森倉定理8あるいは教科書の定理2.4(p.38)\n",
    "    - 行列ベクトル積は？\n",
    "    - 行列積は森倉4節\n",
    " \n",
    " \n",
    " ## BLASを使う\n",
    " \n",
    " まずJuliaの中で、[BLAS](https://ja.wikipedia.org/wiki/Basic_Linear_Algebra_Subprograms)を使うには``LinearAlgebra``パッケージが必要。"
   ]
  },
  {
   "cell_type": "code",
   "execution_count": 9,
   "metadata": {},
   "outputs": [
    {
     "name": "stdout",
     "output_type": "stream",
     "text": [
      "  755.193 ms (2 allocations: 190.73 MiB)\n",
      "  816.399 ms (0 allocations: 0 bytes)\n"
     ]
    }
   ],
   "source": [
    "using LinearAlgebra, BenchmarkTools\n",
    "# versioninfo()\n",
    "# BLAS.vendor()\n",
    "n = 5000;\n",
    "A, B, C = randn(n,n), randn(n,n), zeros(n,n);\n",
    "\n",
    "@btime C = A*B;\n",
    "@btime mul!($C, $A, $B);"
   ]
  },
  {
   "cell_type": "markdown",
   "metadata": {},
   "source": [
    "このようにBLASを使うと、物凄いスピードで数値計算ができる。ただし、行列の内部の型がfloat64に限られるのと、丸め方向を変更した計算ができないため、区間演算の結果が粗くなる（区間幅が増加する）。\n",
    "\n",
    "**定義**　$\\mathbf{u}=2^{-53}$を倍精度の単位相対丸めとする。$\\mathbf{S}_{\\min}=2^{-1074}$を倍精度浮動小数点数の正の最小数とする。$\\mathbf{F}_{\\min}=2^{-1022}$を倍精度浮動小数点数の正規化数の正の最小数とする。 \n",
    "\n",
    "**注意**　単位相対丸めは$1$と$1$よりも小さい最大の浮動小数点数との差を表す。つまり\n",
    "$$\n",
    "1-\\mathbf{u}<a<1\n",
    "$$\n",
    "となる$a\\in\\mathbb{F}$は存在しない。\n",
    "\n",
    "**注意**　単位相対丸めとは別に計算機イプシロン（unit roundoff, machine epsilon）という単位もあり、こちらは$1$と$1$よりも大きい最小の浮動小数点数との差を表し、64bit浮動小数点数では$2^{-52}$でこちらを$\\mathbf{u}$と書く流儀もある（こっちが主流？）ので、注意が必要。Juliaでは`eps(Float64)`とすると数値が得られる。"
   ]
  },
  {
   "cell_type": "code",
   "execution_count": 11,
   "metadata": {},
   "outputs": [
    {
     "name": "stdout",
     "output_type": "stream",
     "text": [
      "0011111111110000000000000000000000000000000000000000000000000000\n",
      "0011111111101111111111111111111111111111111111111111111111111111\n",
      "0000000000000000000000000000000000000000000000000000000000000001\n",
      "0000000000010000000000000000000000000000000000000000000000000000\n"
     ]
    }
   ],
   "source": [
    "u = 2.0^-53;\n",
    "s_min = 2.0^-1074;\n",
    "f_min = 2.0^-1022;\n",
    "println(bitstring(1.0))\n",
    "println(bitstring(1.0-u))\n",
    "println(bitstring(s_min))\n",
    "println(bitstring(f_min))"
   ]
  },
  {
   "cell_type": "code",
   "execution_count": 2,
   "metadata": {},
   "outputs": [
    {
     "data": {
      "text/plain": [
       ":mkl"
      ]
     },
     "execution_count": 2,
     "metadata": {},
     "output_type": "execute_result"
    }
   ],
   "source": [
    "function [C_mid,C_rad]=mm_ufp(A_mid,A_rad,B_mid,B_rad)\n",
    "%現在の丸めモードは最近点であると仮定\n",
    "\n",
    "    %system_dependent('setround',0.5)\n",
    "    u=2^-53;\n",
    "    n=length(A_mid);\n",
    "\n",
    "    if(2*(n+2)*u>=1)\n",
    "        error('mm_ufp failed!(2(n+2)u>=1)'),\n",
    "    end\n",
    "    \n",
    "    C_mid = A_mid*B_mid;\n",
    "    C_rad = (n+2)*u*ufp(abs(A_mid)*abs(B_mid))+realmin;\n",
    "    \n",
    "    AmBr=abs(A_mid)*B_rad;\n",
    "    AmBr=succ_near(AmBr+((n+2)*u*ufp(AmBr)+realmin));\n",
    "    \n",
    "    ArBm=A_rad*abs(B_mid);\n",
    "    ArBm=succ_near(ArBm+((n+2)*u*ufp(ArBm)+realmin));\n",
    "    \n",
    "    ArBr=A_rad*B_rad;\n",
    "    ArBr=succ_near(ArBr+((n+2)*u*ufp(ArBr)+realmin));\n",
    "    \n",
    "    rad_sum=C_rad+AmBr+ArBm+ArBr;\n",
    "    clear AmBr ArBm ArBr\n",
    "    \n",
    "    C_rad = succ_near((rad_sum)+3*u*ufp(rad_sum));\n",
    "\n",
    "    clear rad_sum\n",
    "    \n",
    "end\n",
    "\n",
    "function S = ufp(P)\n",
    "    \n",
    "    u=2^-53;\n",
    "    a=2^52+1;\n",
    "    Q=a*P;\n",
    "    T=(1-u)*Q;\n",
    "    S=abs(Q-T);\n",
    "\n",
    "end\n",
    "\n",
    "function [succ] = succ_near(c)\n",
    "\n",
    "eta=2^-1074;\n",
    "u=2^-53;\n",
    "phi=u*(1+2*u);\n",
    "if abs(c)>=(1/2)*u^-2*eta\n",
    "e=phi*abs(c);\n",
    "succ=c+e;\n",
    "elseif abs(c)<u^-1*eta\n",
    "succ=c+eta;\n",
    "else\n",
    "C=u^-1*c;\n",
    "e=phi*abs(C);\n",
    "succ=(C+e)*u;\n",
    "end\n",
    "end\n",
    "\n",
    "\n"
   ]
  }
 ],
 "metadata": {
  "kernelspec": {
   "display_name": "Julia 1.5.0",
   "language": "julia",
   "name": "julia-1.5"
  },
  "language_info": {
   "file_extension": ".jl",
   "mimetype": "application/julia",
   "name": "julia",
   "version": "1.5.0"
  }
 },
 "nbformat": 4,
 "nbformat_minor": 4
}
