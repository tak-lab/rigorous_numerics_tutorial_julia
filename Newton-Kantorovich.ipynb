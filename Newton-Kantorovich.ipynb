{
 "cells": [
  {
   "cell_type": "markdown",
   "metadata": {},
   "source": [
    "# Newton-Kantorovich type argumentを利用した非線形方程式の精度保障付き数値解法\n",
    "\n",
    "まず、Newton-Kantorovich type argumentの定理について説明する。\n",
    "\n",
    "**定理** 　有界線型作用素 $A^{\\dagger} \\in \\mathcal{L}(X, Y), A \\in \\mathcal{L}(Y, X)$ を考え、作用素 $F: X \\rightarrow Y$ が $C^{1}$ -Fréchet微分可能とする。また $A$ が単射で $AF : X \\rightarrow X$ とする。今、$\\bar{x} \\in X$に対して、\n",
    "\n",
    "$$\n",
    "\\begin{aligned}\n",
    "\\|A F(\\bar{x})\\|_{X} & \\leq Y_{0} \\\\\n",
    "\\left\\|I-A A^{\\dagger}\\right\\|_{\\mathcal{L}(X)} & \\leq Z_{0} \\\\\n",
    "\\left\\|A\\left(D F(\\bar{x})-A^{\\dagger}\\right)\\right\\|_{\\mathcal{L}(X)} & \\leq Z_{1} \\\\\n",
    "\\|A(D F(b)-D F(\\bar{x}))\\|_{\\mathcal{L}(X)} & \\leq Z_{2}(r) r, \\quad \\text { for all } b \\in \\overline{B(\\bar{x}, r)}\n",
    "\\end{aligned}\n",
    "$$\n",
    "\n",
    "が成り立つとする。このとき、radii polynomialを以下で定義する。\n",
    "\n",
    "$$\n",
    "p(r) := Z_{2}(r)r^2-(1-Z_1-Z_0)r+Y_0\n",
    "$$\n",
    "\n",
    "これに対し、 $p(r_0)<0$ となる $r_0>0$ が存在すれば、 $F(\\tilde{x})=0$ をみたす解 $\\tilde{x}$ が $b \\in \\overline{B(\\bar{x}, r)}$ 内に一意存在する。\n",
    "\n",
    "ここで、 $DF(\\bar{x})$ を $F$ の$\\bar{x}$ におけるFréchet微分、 $A^{\\dagger}$ を $DF(\\bar{x})$の近似、 $A$を $A^{\\dagger}$ の近似左逆作用素とする。（ $AA^{\\dagger} \\approx I$ とするのが一般的である。） \n",
    "\n",
    "この定理を考えるにあたり、簡易ニュートン写像、有界線形作用素、Fréchet微分を用いている。以下では、これらの定義を説明する。"
   ]
  },
  {
   "cell_type": "markdown",
   "metadata": {},
   "source": [
    "## 簡易ニュートン写像\n",
    "\n",
    "**定義**　 $X,Y$ をBanach空間とし、写像 $F:X\\rightarrow Y$ に対して、\n",
    "\n",
    "$$\n",
    "F(x)=0 \\quad \\text{in}  Y\n",
    "$$\n",
    "\n",
    "という（非線形）作用素方程式を考える。\n",
    "このとき写像 $T:X\\rightarrow X$ を\n",
    "\n",
    "$$\n",
    "T(x):=x-AF(x)\n",
    "$$\n",
    "\n",
    "と定義したとき、これを簡易ニュートン写像という。\n",
    "\n",
    "### Banach空間\n",
    "\n",
    "**定義** Banach空間とは、完備なノルム空間のことをいう。"
   ]
  },
  {
   "cell_type": "markdown",
   "metadata": {},
   "source": [
    "## 有界線形作用素\n",
    "\n",
    "Banach空間 $X$ から $Y$への有界線形作用素全体を\n",
    "\n",
    "$$\n",
    " \\mathcal{L}(X, Y):=\\{E:X\\rightarrow Y:E\\text{が線形},\\|E\\|_{ \\mathcal{L}(X, Y)}<\\infty \\}\n",
    "$$\n",
    "\n",
    "とする。ここで $\\|\\cdot\\|_{ \\mathcal{L}(X, Y)}$ は作用素ノルム\n",
    "\n",
    "$$\n",
    "\\|E\\|_{\\mathcal{L}(X, Y)}:=\\sup _{\\|x\\|_{X}=1}\\|E x\\|_{Y}\n",
    "$$\n",
    "\n",
    "を表す。そして空間 $\\left\\langle\\mathcal{L}(X, Y),\\|\\cdot\\|_{\\mathcal{L}(X, Y)}\\right\\rangle$ はBanach空間となる。"
   ]
  },
  {
   "cell_type": "markdown",
   "metadata": {},
   "source": [
    "## Fréchet微分\n",
    "\n",
    "**定義**  作用素 $F:X\\rightarrow Y$が $x_0 \\in X$ でFréchet微分可能であるとは、ある有界線形作用素 $E:X \\rightarrow Y$ が存在して、\n",
    "\n",
    "$$\n",
    "\\lim _{\\|h\\|_{X} \\rightarrow 0} \\frac{\\left\\|F\\left(x_{0}+h\\right) F\\left(x_{0}\\right)-E h\\right\\|_{Y}}{\\|h\\|_{X}}=0\n",
    "$$\n",
    "\n",
    "が成り立つことをいう。このとき、 $E$ は作用素 $F$ の $x_0$ におけるFréchet微分といい、 $E=DF(x_0)$ とかく。　もしも作用素 $F:X\\rightarrow Y$ がすべての $x\\in X$ に対してFréchet微分可能ならば、 $F$ は $X$ において $C^1$ -Fréchet微分可能という。"
   ]
  },
  {
   "cell_type": "markdown",
   "metadata": {},
   "source": [
    "## Root finding\n",
    "\n",
    "関数 $x^2-2=0$の解 $\\tilde{x}=\\pm \\sqrt{2}$ を求めることを考える。"
   ]
  },
  {
   "cell_type": "code",
   "execution_count": 34,
   "metadata": {
    "scrolled": true
   },
   "outputs": [
    {
     "name": "stdout",
     "output_type": "stream",
     "text": [
      "1.4142135623730951\n"
     ]
    }
   ],
   "source": [
    "F(x) = x^2-2;\n",
    "Df(x) = 2*x;\n",
    "\n",
    "count =0;\n",
    "tol = 1e-12;\n",
    "x_0 =1.0;\n",
    "x = x_0;\n",
    "Fx = F(x);\n",
    "DF = Df(x);\n",
    "\n",
    "while count ≤10;\n",
    "    dx = -F(x)/Df(x); \n",
    "    x = x+dx;\n",
    "    count += 1;\n",
    "end\n",
    "println(x)"
   ]
  },
  {
   "cell_type": "code",
   "execution_count": 33,
   "metadata": {},
   "outputs": [
    {
     "name": "stdout",
     "output_type": "stream",
     "text": [
      "1.4142135623730951\n"
     ]
    }
   ],
   "source": []
  },
  {
   "cell_type": "code",
   "execution_count": null,
   "metadata": {},
   "outputs": [],
   "source": []
  }
 ],
 "metadata": {
  "kernelspec": {
   "display_name": "Julia 1.4.2",
   "language": "julia",
   "name": "julia-1.4"
  },
  "language_info": {
   "file_extension": ".jl",
   "mimetype": "application/julia",
   "name": "julia",
   "version": "1.4.2"
  }
 },
 "nbformat": 4,
 "nbformat_minor": 4
}
