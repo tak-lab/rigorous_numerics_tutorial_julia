{
 "cells": [
  {
   "cell_type": "markdown",
   "metadata": {},
   "source": [
    "# Newton-Kantorovich 型定理を利用した有限次元非線形方程式の精度保証付き数値解法\n",
    "\n",
    "Newton-Kantorovich型定理は[Newton-Kantorovichの定理](https://ja.wikipedia.org/wiki/%E3%83%8B%E3%83%A5%E3%83%BC%E3%83%88%E3%83%B3%EF%BC%9D%E3%82%AB%E3%83%B3%E3%83%88%E3%83%AD%E3%83%93%E3%83%83%E3%83%81%E3%81%AE%E5%AE%9A%E7%90%86)を精度保証付き数値計算用にアレンジした定理である。\n",
    "\n",
    "**定理** 　有界線型作用素 $A^{\\dagger} \\in \\mathcal{L}(X, Y), A \\in \\mathcal{L}(Y, X)$ を考え, 作用素 $F: X \\rightarrow Y$ が $C^{1}$ -Fréchet微分可能とする。また $A$ が単射で $AF : X \\rightarrow X$ とする。今, $\\bar{x} \\in X$に対して, \n",
    "\n",
    "$$\n",
    "\\begin{aligned}\n",
    "\\|A F(\\bar{x})\\|_{X} & \\leq Y_{0} \\\\\n",
    "\\left\\|I-A A^{\\dagger}\\right\\|_{\\mathcal{L}(X)} & \\leq Z_{0} \\\\\n",
    "\\left\\|A\\left(D F(\\bar{x})-A^{\\dagger}\\right)\\right\\|_{\\mathcal{L}(X)} & \\leq Z_{1} \\\\\n",
    "\\|A(D F(b)-D F(\\bar{x}))\\|_{\\mathcal{L}(X)} & \\leq Z_{2}(r) r, \\quad \\text { for all } b \\in \\overline{B(\\bar{x}, r)}\n",
    "\\end{aligned}\n",
    "$$\n",
    "\n",
    "が成り立つとする。このとき, radii polynomialを以下で定義する。\n",
    "\n",
    "$$\n",
    "p(r) := Z_{2}(r)r^2-(1-Z_1-Z_0)r+Y_0.\n",
    "$$\n",
    "\n",
    "これに対し,  $p(r_0)<0$ となる $r_0>0$ が存在すれば,  $F(\\tilde{x})=0$ をみたす解 $\\tilde{x}$ が $b \\in \\overline{B(\\bar{x}, r)}$ 内に一意存在する。\n",
    "\n",
    "ここで、 $DF(\\bar{x})$ を $F$ の$\\bar{x}$ におけるFréchet微分, $A^{\\dagger}$ を $DF(\\bar{x})$の近似, $A$を $A^{\\dagger}$ の近似左逆作用素とする。（ $AA^{\\dagger} \\approx I$ とするのが一般的である。） \n",
    "\n",
    "この定理を説明するために, 簡易ニュートン写像, 有界線形作用素, Fréchet微分が必要である。以下では, これらの定義を説明する。"
   ]
  },
  {
   "cell_type": "markdown",
   "metadata": {},
   "source": [
    "## 簡易ニュートン写像\n",
    "\n",
    "**定義**　 $X$, $Y$ をBanach空間とし, 写像 $F:X\\rightarrow Y$ に対して, \n",
    "\n",
    "$$\n",
    "F(x)=0 \\quad \\text{in}~Y\n",
    "$$\n",
    "\n",
    "という（非線形）作用素方程式を考える。\n",
    "このとき写像 $T:X\\rightarrow X$ を\n",
    "\n",
    "$$\n",
    "T(x):=x-AF(x)\n",
    "$$\n",
    "\n",
    "と定義したとき, これを簡易ニュートン写像という。ここで,  $A:Y\\rightarrow X$ はある全単射な線形作用素である。このとき, $\\bar{x}$を $f(\\bar{x}) \\approx 0$ の近似解とし, $\\bar{x}$ の近傍を\n",
    "\n",
    "$$\n",
    "\\begin{array}{ll}\n",
    "B(\\bar{x}, r):=\\{x \\in X:\\|x-\\bar{x}\\|<r\\} & \\text { (開球) } \\\\\n",
    "\\overline{B(\\bar{x}, r)}:=\\{x \\in X:\\|x-\\bar{x}\\| \\leq r\\} & \\text { (閉球) }\n",
    "\\end{array}\n",
    "$$\n",
    "\n",
    "で定義する。このときもし, $B(\\bar{x}, r)$ 上で写像 $T$ が縮小写像となれば, Banachの不動点定理から $F(\\bar{x})=0$をみたす解 $\\tilde{x} \\in B(\\bar{x}, r)$がただ1つ存在することになる。\n",
    "\n",
    "このように解の存在を仮定せずに近似解近傍での収束をいう定理を Newton 法の半局所的収束定理という。\n",
    "\n",
    "### Banach空間\n",
    "\n",
    "**定義**　Banach空間とは, 完備なノルム空間のことをいう。"
   ]
  },
  {
   "cell_type": "markdown",
   "metadata": {},
   "source": [
    "### 有界線形作用素\n",
    "\n",
    "Banach空間 $X$ から $Y$への有界線形作用素全体を\n",
    "\n",
    "$$\n",
    " \\mathcal{L}(X, Y):=\\{E:X\\rightarrow Y:E\\text{が線形},\\|E\\|_{ \\mathcal{L}(X, Y)}<\\infty \\}\n",
    "$$\n",
    "\n",
    "とする。ここで $\\|\\cdot\\|_{ \\mathcal{L}(X, Y)}$ は作用素ノルム\n",
    "\n",
    "$$\n",
    "\\|E\\|_{\\mathcal{L}(X, Y)}:=\\sup _{\\|x\\|_{X}=1}\\|E x\\|_{Y}\n",
    "$$\n",
    "\n",
    "を表す。そして空間 $\\left\\langle\\mathcal{L}(X, Y),\\|\\cdot\\|_{\\mathcal{L}(X, Y)}\\right\\rangle$ はBanach空間となる。"
   ]
  },
  {
   "cell_type": "markdown",
   "metadata": {},
   "source": [
    "### Fréchet微分\n",
    "\n",
    "**定義**　作用素 $F:X\\rightarrow Y$が $x_0 \\in X$ でFréchet微分可能であるとは, ある有界線形作用素 $E:X \\rightarrow Y$ が存在して, \n",
    "\n",
    "$$\n",
    "\\lim _{\\|h\\|_{X} \\rightarrow 0} \\frac{\\left\\|F\\left(x_{0}+h\\right) - F\\left(x_{0}\\right)-E h\\right\\|_{Y}}{\\|h\\|_{X}}=0\n",
    "$$\n",
    "\n",
    "が成り立つことをいう。このとき, $E$ は作用素 $F$ の $x_0$ におけるFréchet微分といい, $E=DF(x_0)$ とかく。　もしも作用素 $F:X\\rightarrow Y$ がすべての $x\\in X$ に対してFréchet微分可能ならば, $F$ は $X$ において $C^1$ -Fréchet微分可能という。"
   ]
  },
  {
   "cell_type": "markdown",
   "metadata": {},
   "source": [
    "### 例１．多項式の根の求解\n",
    "\n",
    "関数 $f(x):=x^2-2=0$ の解 $\\tilde{x}=\\pm \\sqrt{2}$ を求めることを考える。"
   ]
  },
  {
   "cell_type": "code",
   "execution_count": 1,
   "metadata": {},
   "outputs": [
    {
     "name": "stdout",
     "output_type": "stream",
     "text": [
      "Julia Version 1.6.3\n",
      "Commit ae8452a9e0 (2021-09-23 17:34 UTC)\n",
      "Platform Info:\n",
      "  OS: Windows (x86_64-w64-mingw32)\n",
      "  CPU: Intel(R) Core(TM) i9-10900K CPU @ 3.70GHz\n",
      "  WORD_SIZE: 64\n",
      "  LIBM: libopenlibm\n",
      "  LLVM: libLLVM-11.0.1 (ORCJIT, skylake)\n"
     ]
    }
   ],
   "source": [
    "versioninfo()"
   ]
  },
  {
   "cell_type": "code",
   "execution_count": 2,
   "metadata": {},
   "outputs": [
    {
     "name": "stdout",
     "output_type": "stream",
     "text": [
      "Before iteration: -1.0\n",
      "After 1 th iteration: 0.25\n",
      "After 2 th iteration: 0.006944444444444642\n",
      "After 3 th iteration: 6.007304882871267e-6\n",
      "After 4 th iteration: 4.510614104447086e-12\n",
      "After 5 th iteration: 4.440892098500626e-16\n",
      "1.4142135623730951\n"
     ]
    }
   ],
   "source": [
    "F(x)  = x^2-2\n",
    "Df(x) = 2*x\n",
    "\n",
    "num_itr = 0\n",
    "tol = 1e-12\n",
    "x_0 =1.0\n",
    "x = x_0\n",
    "Fx = F(x)\n",
    "# DF = Df(x)\n",
    "println(\"Before iteration: $(Fx)\")\n",
    "\n",
    "#ニュートン法を計算する\n",
    "while num_itr ≤ 10\n",
    "    dx = Fx/Df(x) \n",
    "    x = x - dx\n",
    "    num_itr += 1\n",
    "    Fx = F(x)\n",
    "    println(\"After $(num_itr) th iteration: $(Fx)\")\n",
    "    if abs(Fx) < tol\n",
    "        break\n",
    "    end\n",
    "end\n",
    "\n",
    "println(x)"
   ]
  },
  {
   "cell_type": "markdown",
   "metadata": {},
   "source": [
    "上記のソースコードで, $f(\\bar{x}) \\approx 0$ となる近似解が得られる。この $\\bar{x}$ について $Df(\\bar{x})=2\\bar{x}$ より, $A^{\\dagger}=Df(\\bar{x}), A=Df(\\bar{x})^{-1}=1/(2\\bar{x})$とすると、 \n",
    "\n",
    "$$\n",
    "|A f(\\bar{x})|=\\left|\\frac{f(\\bar{x})}{2 \\bar{x}}\\right|=: Y_{0}, \\quad\\left|1-A A^{\\dagger}\\right|=: Z_{0}(=0), \\quad\\left|A\\left(D f(\\bar{x})-A^{\\dagger}\\right)\\right|=: Z_{1}(=0).\n",
    "$$\n",
    "\n",
    "任意の $b \\in \\overline{B(\\bar{x}, r)}$ について\n",
    "\n",
    "$$\n",
    "|A(D f(b)-D f(\\bar{x}))|=\\left|\\frac{1}{2 \\bar{x}}(2 b-2 \\bar{x})\\right|=\\frac{|b-\\bar{x}|}{|\\bar{x}|} \\leq \\frac{r}{|\\bar{x}|}=: Z_{2} r.\n",
    "$$\n",
    "\n",
    "よって, Newton-Kantorovich 型定理における $p(r)$ は\n",
    "\n",
    "$$\n",
    "p(r):=Z_{2}r^2-(1-Z_{1}-Z{0})r+Y_{0}\n",
    "$$\n",
    "\n",
    "で定義される。ここで, $a=Z_{2},\\quad b=-(1-Z_{1}-Z{0}),\\quad c=Y_{0}$ とすると, $b^2-4ac<0$ ならば $p(r_0)<0$ を満たす $r_0>0$ は存在しない。逆に, $b^2-4ac>0$ ならば\n",
    "\n",
    "$$\n",
    "\\frac{-b-\\sqrt{b^{2}-4 a c}}{2 a} \\leq r_{0} \\leq \\frac{-b+\\sqrt{b^{2}-4 a c}}{2 a}\n",
    "$$\n",
    "\n",
    "を満たすr_0で検証が成功する。以下は各boundを計算した結果である。"
   ]
  },
  {
   "cell_type": "code",
   "execution_count": 3,
   "metadata": {},
   "outputs": [
    {
     "name": "stdout",
     "output_type": "stream",
     "text": [
      "Y0 = [0, 1.5701e-16]\n",
      "Z0 = [0, 2.22045e-16]\n",
      "Z2 = [0.707106, 0.707107]\n",
      "(sup(r_min), inf(r_max)) = (3.9252311467094383e-16, 1.4142135623730943)\n"
     ]
    },
    {
     "data": {
      "text/plain": [
       "[1.41421, 1.41422]"
      ]
     },
     "execution_count": 3,
     "metadata": {},
     "output_type": "execute_result"
    }
   ],
   "source": [
    "using IntervalArithmetic\n",
    "ix = map(Interval,x)\n",
    "\n",
    "#Y0 bound 区間演算 ver.\n",
    "Y0 = abs(F(ix))/abs(2ix)\n",
    "@show Y0\n",
    "\n",
    "#Z0 bound 区間演算\n",
    "Z0 = abs(1 - (1/ix)*ix)\n",
    "@show Z0\n",
    "\n",
    "#Z1 bound\n",
    "Z1 = 0\n",
    "\n",
    "#Z2 bound 区間演算\n",
    "Z2 = 1/abs(ix)\n",
    "@show Z2\n",
    "\n",
    "#p(r)を求める\n",
    "a =Z2\n",
    "b = -(1-Z1-Z0)\n",
    "c = Y0\n",
    "\n",
    "if b^2-4*a*c < 0\n",
    "    println(\"error: connot find the root of radii polynomial\")\n",
    "else\n",
    "    r_min = (-b - sqrt(b^2-4*a*c))/2/a\n",
    "    r_max = (-b + sqrt(b^2-4*a*c))/2/a\n",
    "end\n",
    "@show sup(r_min), inf(r_max)\n",
    "\n",
    "r0 = sup(r_min);\n",
    "if a*r0^2 + b*r0 + c < 0 # validate p(r0) < 0\n",
    "    sol = x ± sup(r_min)\n",
    "end"
   ]
  },
  {
   "cell_type": "markdown",
   "metadata": {},
   "source": [
    "### 例２．Logistic map の 3 周期解\n",
    "\n",
    "変数 $x$ に対して\n",
    "\n",
    "$$\n",
    "x \\mapsto \\lambda x(1-x), \\quad \\lambda \\in \\mathbb{R}\n",
    "$$\n",
    "\n",
    "という写像をロジスティック写像という。 この写像が $x_{1} \\rightarrow x_{2} \\rightarrow x_{3} \\rightarrow x_{1}$ という値で変化する3周期解を計算する\n",
    "\n",
    "#### 問題1\n",
    "\n",
    "与えられた $\\lambda \\in \\mathbb{R}$ に対して, \n",
    "\n",
    "$$\n",
    "\\left\\{\\begin{array}{l}\n",
    "x_{1}-\\lambda x_{3}\\left(1-x_{3}\\right)=0 \\\\\n",
    "x_{2}-\\lambda x_{1}\\left(1-x_{1}\\right)=0 \\\\\n",
    "x_{3}-\\lambda x_{2}\\left(1-x_{2}\\right)=0\n",
    "\\end{array}\\right.\n",
    "$$\n",
    "\n",
    "をみたす $x=(x_1,x_2,x_3)^T\\in \\mathbb{R}$ を求めよ。写像 $F:\\mathbb{R}^3 \\rightarrow \\mathbb{R}^3$は以下のようにおくことができる\n",
    "\n",
    "$$\n",
    "F(x):=\\left[\\begin{array}{l}\n",
    "x_{1}-\\lambda x_{3}\\left(1-x_{3}\\right) \\\\\n",
    "x_{2}-\\lambda x_{1}\\left(1-x_{1}\\right) \\\\\n",
    "x_{3}-\\lambda x_{2}\\left(1-x_{2}\\right)\n",
    "\\end{array}\\right].\n",
    "$$\n",
    "\n",
    "ある $x\\in \\mathbb{R}^3$におけるJacobi行列は以下ようにおくことができる\n",
    "\n",
    "$$\n",
    "DF(x):=\\left[\\begin{array}{ccc}\n",
    "1 & 0 & -\\lambda\\left(1-2 x_{3}\\right) \\\\\n",
    "-\\lambda\\left(1-2 x_{1}\\right) & 1 & 0 \\\\\n",
    "0 & -\\lambda\\left(1-2 x_{2}\\right) & 1\n",
    "\\end{array}\\right].\n",
    "$$"
   ]
  },
  {
   "cell_type": "markdown",
   "metadata": {},
   "source": [
    "はじめに、パラメータ値 $\\lambda = 3.82843$（または $4$）として, 初期値を$x_0=(1,-1,1)^T$とすると、次のコードで近似解 $\\bar{x}$ が得られる。"
   ]
  },
  {
   "cell_type": "code",
   "execution_count": 4,
   "metadata": {},
   "outputs": [
    {
     "name": "stdout",
     "output_type": "stream",
     "text": [
      "Before iteration: 4.440892098500626e-16\n",
      "After 1 th iteration: 2.03673166837743\n",
      "After 2 th iteration: 0.3993271142646321\n",
      "After 3 th iteration: 0.04038340591257372\n",
      "After 4 th iteration: 0.0007521985462234371\n",
      "After 5 th iteration: 0.00017604037191443211\n",
      "After 6 th iteration: 4.392700242539238e-5\n",
      "After 7 th iteration: 1.082028315235739e-5\n",
      "After 8 th iteration: 2.5508341786606437e-6\n",
      "After 9 th iteration: 5.075334114090779e-7\n",
      "After 10 th iteration: 5.542976666550459e-8\n",
      "After 11 th iteration: 1.0823354434918997e-9\n",
      "After 12 th iteration: 4.46975789714088e-13\n",
      "X = [0.9562724718522855, 0.16008745214881528, 0.5147686297331594]\n"
     ]
    }
   ],
   "source": [
    "using LinearAlgebra\n",
    "#初期値を設定\n",
    "lam = 3.82843\n",
    "#lam = 4\n",
    "\n",
    "#写像Fを定義する\n",
    "F((x, y, z)) = [x - lam*z*(1-z)\n",
    "    y - lam*x*(1-x)\n",
    "    z - lam*y*(1-y)]\n",
    "\n",
    "#ヤコビ行列DFを定義\n",
    "Df((x, y, z)) = [1 0 -lam*(1-2*z);\n",
    "    -lam*(1-2*x) 1 0;\n",
    "    0 -lam*(1-2*y) 1]\n",
    "\n",
    "#初期値を設定\n",
    "tol = 1e-12\n",
    "p = Inf\n",
    "X0 = [1; -1; 1]\n",
    "X = X0\n",
    "\n",
    "\n",
    "num_itr = 0\n",
    "FX = F(X)\n",
    "# DF = Df(x)\n",
    "println(\"Before iteration: $(norm(Fx,p))\")\n",
    "\n",
    "#ニュートン法を計算する\n",
    "while num_itr ≤ 100\n",
    "    dx = Df(X)\\FX\n",
    "    X = X - dx\n",
    "    num_itr += 1\n",
    "    FX = F(X)\n",
    "    println(\"After $(num_itr) th iteration: $(norm(FX,p))\")\n",
    "    if norm(FX,p) < tol\n",
    "        break\n",
    "    end\n",
    "end\n",
    "\n",
    "@show X;"
   ]
  },
  {
   "cell_type": "markdown",
   "metadata": {},
   "source": [
    "次に、 radii polynomial $p(r)$を計算する。上記の計算によって得られた近似解 $\\bar{x}$ について, $A^{\\dagger}=Df(\\bar{x})$, $A \\approx Df(\\bar{x})^{-1}$とする。\n",
    "\n",
    "よって、 $Y_0,Z_0,Z_1,Z_2$ boundsは以下のようになる。\n",
    "\n",
    "$$\n",
    "\\|A F(\\bar{x})\\| \\leq Y_{0}, \\quad\\left\\|I-A A^{\\dagger}\\right\\|=\\|I-A D F(\\bar{x})\\| \\leq Z_{0}, \\quad\\left\\|A\\left(D F(\\bar{x})-A^{\\dagger}\\right)\\right\\|=Z_{1}(=0).\n",
    "$$\n",
    "\n",
    "また、任意の $b \\in \\overline{B(\\bar{x}, r)}:=\\{b\\mid \\|b-\\bar{x}\\|\\le r\\}$ について,\n",
    "\n",
    "$$\n",
    "\\begin{aligned}\n",
    "\\|A(D F(b)-D F(\\bar{x}))\\| &=\\| A\\left[\\begin{array}{ccc}\n",
    "0 & 0 & 2 \\lambda\\left(x_{3}-\\bar{x}_{3}\\right) \\\\\n",
    "2 \\lambda\\left(x_{2}-\\bar{x}_{2}\\right) & 0 & 0 \\\\\n",
    "0 & 2 \\lambda\\left(x_{1}-\\bar{x}_{1}\\right) & 0\n",
    "\\end{array}\\right] \\\\\n",
    "& \\leq 2|\\lambda|\\|A\\|\\|b-\\bar{x}\\| \\\\\n",
    "& \\leq 2|\\lambda|\\|A\\| r=: Z_{2} r .\n",
    "\\end{aligned}\n",
    "$$\n",
    "\n",
    "よって, radii polynomial $p(r)$は, \n",
    "\n",
    "$$\n",
    "p(r):=Z_{2}r^2-(1-Z_{1}-Z_{0})r+Y_0\n",
    "$$\n",
    "\n",
    "で定義される。Root finding と同様に、 $a=Z_{2},\\quad b=-(1-Z_{1}-Z{0}),\\quad c=Y_{0}$ とすると, もし $b^2-4ac>0$ ならば\n",
    "\n",
    "$$\n",
    "\\frac{-b-\\sqrt{b^{2}-4 a c}}{2 a} \\leq r_{0} \\leq \\frac{-b+\\sqrt{b^{2}-4 a c}}{2 a}\n",
    "$$\n",
    "\n",
    "を満たすr_0で検証が成功する。以下は, これらの検証を行ったソースコードである。"
   ]
  },
  {
   "cell_type": "code",
   "execution_count": 5,
   "metadata": {},
   "outputs": [
    {
     "name": "stdout",
     "output_type": "stream",
     "text": [
      "Y0 = [1.41122e-10, 1.41208e-10]\n",
      "Z0 = [0, 1.06582e-13]\n",
      "Z2 = [3445.25, 3445.26]\n",
      "(sup(r_min), inf(r_max)) = (1.4120746319646334e-10, 0.00029025423568418093)\n"
     ]
    },
    {
     "data": {
      "text/plain": [
       "3-element Vector{Interval{Float64}}:\n",
       " [0.956272, 0.956273]\n",
       " [0.160087, 0.160088]\n",
       " [0.514768, 0.514769]"
      ]
     },
     "execution_count": 5,
     "metadata": {},
     "output_type": "execute_result"
    }
   ],
   "source": [
    "using IntervalArithmetic\n",
    "iX = map(Interval,X)\n",
    "A = inv(Df(X))\n",
    "\n",
    "Y0 = norm(A*F(iX),p)\n",
    "@show Y0\n",
    "Z0 = opnorm(Matrix{Float64}(I,size(A)) - A*Df(iX),p)\n",
    "@show Z0\n",
    "Z1 = 0\n",
    "Z2 = 2*lam*opnorm(map(Interval,A),p)\n",
    "@show Z2\n",
    "\n",
    "# p(r) = Z2*rˆ2 - (1-Z1-Z0)*r + Y0\n",
    "a = Z2\n",
    "b = -(1-Z1-Z0)\n",
    "c = Y0\n",
    "\n",
    "if b^2-4*a*c < 0\n",
    "    println(\"error: cannot find root of radii polynomial\")\n",
    "else\n",
    "    r_min = (-b - sqrt(b^2-4*a*c))/2/a\n",
    "    r_max = (-b + sqrt(b^2-4*a*c))/2/a\n",
    "end\n",
    "\n",
    "@show sup(r_min), inf(r_max)\n",
    "\n",
    "r0 = sup(r_min)\n",
    "if a*r0^2 + b*r0 + c < 0 # validate p(r0) < 0\n",
    "    sol = X .± sup(r_min)\n",
    "end"
   ]
  },
  {
   "cell_type": "markdown",
   "metadata": {},
   "source": [
    "次に, パラメータ $\\lambda$ もわからない場合を考えていく。上記の計算では, パラメータ値 $\\lambda$ を事前に与えたが, パラメータ値自体も分からない場合はそれ自身も未知数として  $x = (\\lambda, x1, x2, x3)^T \\in \\mathbb{R}^4$ を計算することを考える。"
   ]
  },
  {
   "cell_type": "markdown",
   "metadata": {},
   "source": [
    "#### 問題2\n",
    "\n",
    "次をみたす $x = (\\lambda,x_1,x_2,x_3) \\in \\mathbb{R}^4$ を求めよ\n",
    "\n",
    "$$\n",
    "\\left\\{\\begin{array}{l}\n",
    "x_{1}-\\lambda x_{3}\\left(1-x_{3}\\right)=0 \\\\\n",
    "x_{2}-\\lambda x_{1}\\left(1-x_{1}\\right)=0 \\\\\n",
    "x_{3}-\\lambda x_{2}\\left(1-x_{2}\\right)=0\n",
    "\\end{array}\\right.\n",
    "$$\n",
    "\n",
    "ただし, 問題2は未知数4つに対して, 方程式が3つしかないため正確な解を導くのが困難である。このため**位相条件**と呼ばれる式を追加する。\n",
    "\n",
    "$$\n",
    "\\eta(x):=x_{1}+x_{2}+x_{3}-\\eta_{0}, \\quad \\eta_{0} \\in \\mathbb{R}\n",
    "$$\n",
    "\n",
    "これにより写像$F:\\mathbb{R}^4 \\rightarrow \\mathbb{R}^4$を\n",
    "\n",
    "$$\n",
    "F(x):=\\left[\\begin{array}{l}\n",
    "x_{1}+x_{2}+x_{3}-\\eta_{0} \\\\\n",
    "x_{1}-\\lambda x_{3}\\left(1-x_{3}\\right) \\\\\n",
    "x_{2}-\\lambda x_{1}\\left(1-x_{1}\\right) \\\\\n",
    "x_{3}-\\lambda x_{2}\\left(1-x_{2}\\right)\n",
    "\\end{array}\\right]\n",
    "$$\n",
    "\n",
    "と定義する。ある$x \\in \\mathbb{R}^4$おけるJacobi行列は以下のように表すことができる。\n",
    "\n",
    "$$\n",
    "D F(x)=\\left[\\begin{array}{cccc}\n",
    "0 & 1 & 1 & 1 \\\\\n",
    "-x_{3}\\left(1-x_{3}\\right) & 1 & 0 & -\\lambda\\left(1-2 x_{3}\\right) \\\\\n",
    "-x_{1}\\left(1-x_{1}\\right) & -\\lambda\\left(1-2 x_{1}\\right) & 1 & 0 \\\\\n",
    "-x_{2}\\left(1-x_{2}\\right) & 0 & -\\lambda\\left(1-2 x_{2}\\right) & 1\n",
    "\\end{array}\\right].\n",
    "$$"
   ]
  },
  {
   "cell_type": "markdown",
   "metadata": {},
   "source": [
    "いま  $\\eta= 1.6311$ として, 初期値を $x_0 = (3, 1, −1, 1)^T$ とすると近似解 $\\bar{x}$ が得られる。"
   ]
  },
  {
   "cell_type": "code",
   "execution_count": 6,
   "metadata": {},
   "outputs": [
    {
     "name": "stdout",
     "output_type": "stream",
     "text": [
      "Before iteration: 7.0\n",
      "After 1 th iteration: 0.8511155751995336\n",
      "After 2 th iteration: 0.15669460068680974\n",
      "After 3 th iteration: 0.0019454003044703239\n",
      "After 4 th iteration: 8.397146644245623e-6\n",
      "After 5 th iteration: 6.360290072393582e-11\n",
      "After 6 th iteration: 1.3877787807814457e-16\n",
      "X = [3.828429696603496, 0.9562749287915785, 0.1600788558411345, 0.5147462153672872]\n"
     ]
    }
   ],
   "source": [
    "using LinearAlgebra,IntervalArithmetic\n",
    "eta = 1.6311\n",
    "\n",
    "#写像 F を定義する\n",
    "F((lam, x, y, z)) = [x + y + z - eta\n",
    "    x - lam*z*(1-z)\n",
    "    y - lam*x*(1-x)\n",
    "    z - lam*y*(1-y)]\n",
    "\n",
    "#ヤコビ行列Dfを定義\n",
    "Df((lam, x, y, z)) = [0 1 1 1\n",
    "    -z*(1-z ) 1 0 -lam*(1-2*z)\n",
    "    -x*(1-x) -lam*(1-2*x) 1 0\n",
    "    -y*(1-y) 0 -lam*(1-2*y) 1]\n",
    "\n",
    "#初期値を設定\n",
    "tol = 1e-12\n",
    "p = Inf\n",
    "X0 = [3.0;1.0;-1.0;1.0]\n",
    "X = X0\n",
    "\n",
    "num_itr = 0\n",
    "FX = F(X)\n",
    "\n",
    "println(\"Before iteration: $(norm(FX,p))\")\n",
    "\n",
    "#ニュートン法を計算する\n",
    "while num_itr ≤ 500\n",
    "    dx = Df(X)\\FX\n",
    "    X = X - dx\n",
    "    num_itr += 1\n",
    "    FX = F(X)\n",
    "    println(\"After $(num_itr) th iteration: $(norm(FX,p))\")\n",
    "    if norm(FX,p) < tol\n",
    "        break\n",
    "    end\n",
    "end\n",
    "\n",
    "@show X;"
   ]
  },
  {
   "cell_type": "markdown",
   "metadata": {},
   "source": [
    "上記の計算により、近似解が得られる。近似解 $X$ について、$A^{\\dagger}=Df(X)$, $A \\approx Df(X)^{-1}$とする。\n",
    "\n",
    "よって、 $Y_0,Z_0,Z_1,Z_2$ boundは以下のようになる。\n",
    "\n",
    "$$\n",
    "\\|A F(X)\\| \\leq Y_{0}, \\quad\\left\\|I-A A^{\\dagger}\\right\\|=\\|I-A D F(X)\\| \\leq Z_{0}, \\quad\\left\\|A\\left(D F(X)-A^{\\dagger}\\right)\\right\\|=Z_{1}(=0).\n",
    "$$\n",
    "\n",
    "また、任意の $b \\in \\overline{B(X, r)}$ について,\n",
    "\n",
    "$$\n",
    "\\begin{aligned}\n",
    "&\\|A(D F(b)-D F(X))\\|\\\\\n",
    "&=\\left\\|A\\left[\\begin{array}{cccc}\n",
    "0 & 0 & 0 & 0 \\\\\n",
    "-\\left(x_{3}-\\bar{x}_{3}\\right)\\left(1-\\left(x_{3}+\\bar{x}_{3}\\right)\\right) & 0 & 0 & c_{3} \\\\\n",
    "-\\left(x_{1}-\\bar{x}_{1}\\right)\\left(1-\\left(x_{1}+\\bar{x}_{1}\\right)\\right) & c_{1} & 0 & 0 \\\\\n",
    "-\\left(x_{2}-\\bar{x}_{2}\\right)\\left(1-\\left(x_{2}+\\bar{x}_{2}\\right)\\right) & 0 & c_{2} & 0\n",
    "\\end{array}\\right]\\right\\|\\\\\n",
    "&\\leq\\|A\\|\\left\\|\\left[\\begin{array}{cccc}\n",
    "0 & 0 & 0 & 0 \\\\\n",
    "1+2\\left|\\bar{x}_{3}\\right|+r & 0 & 0 & \\left(1+\\left(\\left|\\bar{x}_{3}\\right|+r\\right)\\right)+|\\bar{\\lambda}|+r \\\\\n",
    "1+2\\left|\\bar{x}_{1}\\right|+r & \\left.\\left(1+\\left(\\left|\\bar{x}_{1}\\right|+r\\right)\\right)+|\\bar{\\lambda}|+r\\right) & 0 & 0 \\\\\n",
    "1+2\\left|\\bar{x}_{2}\\right|+r & 0 & \\left(1+\\left(\\left|\\bar{x}_{2}\\right|+r\\right)\\right)+|\\bar{\\lambda}|+r & 0\n",
    "\\end{array}\\right]\\right\\| \\|b-\\bar{x} \\|\\\\\n",
    "&\\leq\\|A\\| \\|B(r)\\| r=: Z_{2}(r) r\n",
    "\\end{aligned}\n",
    "$$\n",
    "\n",
    "2行目から3行目にかけての式変形は以下のようになっている。\n",
    "\n",
    "\\begin{align}\n",
    "|-(x_3-\\bar{x}_3)(1-(x_3+\\bar{x}_3))| &\\le |-(x_3-\\bar{x}_3)(1-(x_3-\\bar{x}_3+2\\bar{x}_3))|\\\\\n",
    "&\\le |x_3-\\bar{x}_3|(1+|x_3-\\bar{x}_3|+2|\\bar{x}_3|))\\\\\n",
    "&\\le \\|b-\\bar{x}\\|(1+\\|b-\\bar{x}\\|+2|\\bar{x}_3|))\\\\\n",
    "&\\le \\|b-\\bar{x}\\|(1+r+2|\\bar{x}_3|)).\n",
    "\\end{align}\n",
    "\n",
    "ただし\n",
    "\n",
    "$$\n",
    "\\begin{array}{c}\n",
    "c_{i}=-(\\lambda-\\bar{\\lambda})\\left(1-x_{i}\\right)+\\bar{\\lambda}\\left(x_{i}-\\bar{x}_{i}\\right) \\quad(i=1,2,3) \\\\\n",
    "B(r) := {\\left[\\begin{array}{cccc}\n",
    "0 & 0 & 0 & 0 \\\\\n",
    "1+2\\left|\\bar{x}_{3}\\right|+r & 0 & 0 & \\left(1+\\left(\\left|\\bar{x}_{3}\\right|+r\\right)\\right)+|\\bar{\\lambda}|+r \\\\\n",
    "1+2\\left|\\bar{x}_{1}\\right|+r & \\left.\\left(1+\\left(\\left|\\bar{x}_{1}\\right|+r\\right)\\right)+|\\bar{\\lambda}|+r\\right) & 0 & 0 \\\\\n",
    "1+2\\left|\\bar{x}_{2}\\right|+r & 0 & \\left(1+\\left(\\left|\\bar{x}_{2}\\right|+r\\right)\\right)+|\\bar{\\lambda}|+r & 0\n",
    "\\end{array}\\right]}\n",
    "\\end{array}\n",
    "$$\n",
    "\n",
    "とした。"
   ]
  },
  {
   "cell_type": "code",
   "execution_count": 7,
   "metadata": {},
   "outputs": [
    {
     "data": {
      "text/plain": [
       "newton (generic function with 1 method)"
      ]
     },
     "execution_count": 7,
     "metadata": {},
     "output_type": "execute_result"
    }
   ],
   "source": [
    "using ForwardDiff\n",
    "#ニュートン法で近似解を計算する\n",
    "function newton(F,x0)\n",
    "    #初期値を設定\n",
    "    tol = 1e-12; count = 0\n",
    "    x = x0\n",
    "    Fx = F(x)\n",
    "    #条件の範囲内で計算を回す\n",
    "    while maximum(abs.(Fx))/minimum(abs.(x)) ≥ tol && count ≤ 20\n",
    "        DF = ForwardDiff.derivative(F,x)\n",
    "        x -= DF\\Fx\n",
    "        Fx = F(x)\n",
    "        count += 1\n",
    "    end\n",
    "    return x\n",
    "end"
   ]
  },
  {
   "cell_type": "code",
   "execution_count": 8,
   "metadata": {},
   "outputs": [
    {
     "name": "stdout",
     "output_type": "stream",
     "text": [
      "Y0 = [1.69897e-16, 1.31603e-15]\n",
      "Z0 = [0, 3.05312e-15]\n"
     ]
    },
    {
     "data": {
      "text/plain": [
       "0"
      ]
     },
     "execution_count": 8,
     "metadata": {},
     "output_type": "execute_result"
    }
   ],
   "source": [
    "using IntervalArithmetic,LinearAlgebra\n",
    "iX = map(Interval,X)\n",
    "A = inv(Df(X))\n",
    "\n",
    "#Y0boundを計算\n",
    "Y0 = norm(A*F(iX),p)\n",
    "@show Y0\n",
    "#Z0boundを計算\n",
    "Z0 = opnorm(Matrix{Float64}(I,size(A)) - A*Df(iX),p)\n",
    "@show Z0\n",
    "#Z1boundを計算\n",
    "Z1 = 0"
   ]
  },
  {
   "cell_type": "markdown",
   "metadata": {},
   "source": [
    "上の2つの例と違うのは、$Z_2(r)$ が $r$ に対する関数になっている点である。そこで、radii polynomialの零点を精度保証付き数値計算で求め、その点の上界の一点で $p(r)<0$ を区間演算で確認する。そしてその点を $r_0$ とする。 "
   ]
  },
  {
   "cell_type": "code",
   "execution_count": 9,
   "metadata": {},
   "outputs": [
    {
     "data": {
      "text/plain": [
       "p_func (generic function with 1 method)"
      ]
     },
     "execution_count": 9,
     "metadata": {},
     "output_type": "execute_result"
    }
   ],
   "source": [
    "#Z2boundを計算\n",
    "λ, x, y, z = X\n",
    "B(r) = [0 0 0 0;\n",
    "    (1+(2*z+r)) 0 0 (1+(z+r))+(λ+r);\n",
    "    (1+(2*x+r)) (1+(x+r))+(λ+r) 0 0;\n",
    "    (1+(2*y+r)) 0 (1+(y+r))+(λ+r) 0]\n",
    "Z2_func(r) = norm(A*B(r),p)\n",
    "Z1_sup = 0\n",
    "Z0_sup = sup(Z0)\n",
    "Y0_sup = sup(Y0)\n",
    "p_func(r) = Z2_func(r)*r^2 - (1-Z1_sup-Z0_sup)*r + Y0_sup"
   ]
  },
  {
   "cell_type": "code",
   "execution_count": 10,
   "metadata": {},
   "outputs": [
    {
     "data": {
      "text/plain": [
       "1.3160289065085752e-15"
      ]
     },
     "execution_count": 10,
     "metadata": {},
     "output_type": "execute_result"
    }
   ],
   "source": [
    "#ニュートン法を回す\n",
    "x0 = newton(p_func,1e-10)"
   ]
  },
  {
   "cell_type": "code",
   "execution_count": 11,
   "metadata": {},
   "outputs": [
    {
     "data": {
      "text/plain": [
       "[1.21602e-15, 1.41603e-15]"
      ]
     },
     "execution_count": 11,
     "metadata": {},
     "output_type": "execute_result"
    }
   ],
   "source": [
    "using ForwardDiff\n",
    "# verifynlss_krawczyk(p_func,1e-10)\n",
    "#rの初期値を決める\n",
    "c = x0\n",
    "DF = ForwardDiff.derivative(p_func,c)\n",
    "R = inv(DF)\n",
    "r = abs.(R*p_func(c))\n",
    "u = r .+ (sum(r)/length(r)) + 1e-16\n",
    "#候補区間が決定\n",
    "iX = c .± u"
   ]
  },
  {
   "cell_type": "code",
   "execution_count": 12,
   "metadata": {
    "scrolled": true,
    "tags": []
   },
   "outputs": [
    {
     "data": {
      "text/plain": [
       "KrawczykZ2 (generic function with 1 method)"
      ]
     },
     "execution_count": 12,
     "metadata": {},
     "output_type": "execute_result"
    }
   ],
   "source": [
    "function KrawczykZ2(F,x)\n",
    "    X = map(Interval,x)\n",
    "    #元の関数では微分できない部分を先に計算\n",
    "    dB = ForwardDiff.derivative(B,X)\n",
    "    dZ2 = norm(map(Interval,A)*dB,p)\n",
    "    dp_func(r) = dZ2*r^2 + 2*Z2_func(r)*r - (1-Z1_sup-Z0_sup);\n",
    "    iDF = dp_func(X)\n",
    "\n",
    "    #Krawczyk(F,X)の計算\n",
    "    DF =  ForwardDiff.derivative(p_func,x)\n",
    "    R = inv(DF)\n",
    "    M = 1 - R*iDF\n",
    "    return x - R*p_func(X) + M*(X - x)\n",
    "end"
   ]
  },
  {
   "cell_type": "code",
   "execution_count": 13,
   "metadata": {},
   "outputs": [
    {
     "data": {
      "text/plain": [
       "[1.31602e-15, 1.31603e-15]"
      ]
     },
     "execution_count": 13,
     "metadata": {},
     "output_type": "execute_result"
    }
   ],
   "source": [
    "#解の包含範囲をできるだけ狭くする\n",
    "K = KrawczykZ2(F,x0)\n",
    "\n",
    "# K .⊂ iX\n",
    "\n",
    "if all(K .⊂ iX)\n",
    "    tol2 = 5e-10\n",
    "    count2 = 0\n",
    "    while maximum(radius.(K)) >= tol2 && count2 ≤ 100\n",
    "        K = KrawczykZ2(F,K)\n",
    "        count2 += 1\n",
    "        radius.(K)\n",
    "    end\n",
    "    return K\n",
    "end"
   ]
  },
  {
   "cell_type": "code",
   "execution_count": 14,
   "metadata": {},
   "outputs": [
    {
     "data": {
      "text/plain": [
       "true"
      ]
     },
     "execution_count": 14,
     "metadata": {},
     "output_type": "execute_result"
    }
   ],
   "source": [
    "#p(r)<0になっているかどうかを確認する\n",
    "p_func(interval(sup(K)))<0"
   ]
  },
  {
   "cell_type": "code",
   "execution_count": 15,
   "metadata": {},
   "outputs": [
    {
     "data": {
      "text/plain": [
       "4-element Vector{Interval{Float64}}:\n",
       " [3.82842, 3.82843]\n",
       " [0.956274, 0.956275]\n",
       " [0.160078, 0.160079]\n",
       " [0.514746, 0.514747]"
      ]
     },
     "execution_count": 15,
     "metadata": {},
     "output_type": "execute_result"
    }
   ],
   "source": [
    "#検証結果を出力\n",
    "r0 = sup(K)\n",
    "result= X .± r0 "
   ]
  },
  {
   "cell_type": "markdown",
   "metadata": {},
   "source": [
    "最後に、radii polynomialの原点近傍をプロットすると $p(r)<0$ となる部分があることが確認できる。"
   ]
  },
  {
   "cell_type": "code",
   "execution_count": 16,
   "metadata": {},
   "outputs": [
    {
     "data": {
      "image/svg+xml": [
       "<?xml version=\"1.0\" encoding=\"utf-8\"?>\n",
       "<svg xmlns=\"http://www.w3.org/2000/svg\" xmlns:xlink=\"http://www.w3.org/1999/xlink\" width=\"800\" height=\"400\" viewBox=\"0 0 3200 1600\">\n",
       "<defs>\n",
       "  <clipPath id=\"clip460\">\n",
       "    <rect x=\"0\" y=\"0\" width=\"3200\" height=\"1600\"/>\n",
       "  </clipPath>\n",
       "</defs>\n",
       "<path clip-path=\"url(#clip460)\" d=\"\n",
       "M0 1600 L3200 1600 L3200 0 L0 0  Z\n",
       "  \" fill=\"#ffffff\" fill-rule=\"evenodd\" fill-opacity=\"1\"/>\n",
       "<defs>\n",
       "  <clipPath id=\"clip461\">\n",
       "    <rect x=\"640\" y=\"0\" width=\"2241\" height=\"1600\"/>\n",
       "  </clipPath>\n",
       "</defs>\n",
       "<path clip-path=\"url(#clip460)\" d=\"\n",
       "M310.664 1464.55 L3152.76 1464.55 L3152.76 108.352 L310.664 108.352  Z\n",
       "  \" fill=\"#ffffff\" fill-rule=\"evenodd\" fill-opacity=\"1\"/>\n",
       "<defs>\n",
       "  <clipPath id=\"clip462\">\n",
       "    <rect x=\"310\" y=\"108\" width=\"2843\" height=\"1357\"/>\n",
       "  </clipPath>\n",
       "</defs>\n",
       "<polyline clip-path=\"url(#clip462)\" style=\"stroke:#000000; stroke-linecap:butt; stroke-linejoin:round; stroke-width:2; stroke-opacity:0.1; fill:none\" points=\"\n",
       "  391.101,1464.55 391.101,108.352 \n",
       "  \"/>\n",
       "<polyline clip-path=\"url(#clip462)\" style=\"stroke:#000000; stroke-linecap:butt; stroke-linejoin:round; stroke-width:2; stroke-opacity:0.1; fill:none\" points=\"\n",
       "  837.97,1464.55 837.97,108.352 \n",
       "  \"/>\n",
       "<polyline clip-path=\"url(#clip462)\" style=\"stroke:#000000; stroke-linecap:butt; stroke-linejoin:round; stroke-width:2; stroke-opacity:0.1; fill:none\" points=\"\n",
       "  1284.84,1464.55 1284.84,108.352 \n",
       "  \"/>\n",
       "<polyline clip-path=\"url(#clip462)\" style=\"stroke:#000000; stroke-linecap:butt; stroke-linejoin:round; stroke-width:2; stroke-opacity:0.1; fill:none\" points=\"\n",
       "  1731.71,1464.55 1731.71,108.352 \n",
       "  \"/>\n",
       "<polyline clip-path=\"url(#clip462)\" style=\"stroke:#000000; stroke-linecap:butt; stroke-linejoin:round; stroke-width:2; stroke-opacity:0.1; fill:none\" points=\"\n",
       "  2178.58,1464.55 2178.58,108.352 \n",
       "  \"/>\n",
       "<polyline clip-path=\"url(#clip462)\" style=\"stroke:#000000; stroke-linecap:butt; stroke-linejoin:round; stroke-width:2; stroke-opacity:0.1; fill:none\" points=\"\n",
       "  2625.45,1464.55 2625.45,108.352 \n",
       "  \"/>\n",
       "<polyline clip-path=\"url(#clip462)\" style=\"stroke:#000000; stroke-linecap:butt; stroke-linejoin:round; stroke-width:2; stroke-opacity:0.1; fill:none\" points=\"\n",
       "  3072.32,1464.55 3072.32,108.352 \n",
       "  \"/>\n",
       "<polyline clip-path=\"url(#clip460)\" style=\"stroke:#000000; stroke-linecap:butt; stroke-linejoin:round; stroke-width:4; stroke-opacity:1; fill:none\" points=\"\n",
       "  310.664,1464.55 3152.76,1464.55 \n",
       "  \"/>\n",
       "<polyline clip-path=\"url(#clip460)\" style=\"stroke:#000000; stroke-linecap:butt; stroke-linejoin:round; stroke-width:4; stroke-opacity:1; fill:none\" points=\"\n",
       "  391.101,1464.55 391.101,1448.27 \n",
       "  \"/>\n",
       "<polyline clip-path=\"url(#clip460)\" style=\"stroke:#000000; stroke-linecap:butt; stroke-linejoin:round; stroke-width:4; stroke-opacity:1; fill:none\" points=\"\n",
       "  837.97,1464.55 837.97,1448.27 \n",
       "  \"/>\n",
       "<polyline clip-path=\"url(#clip460)\" style=\"stroke:#000000; stroke-linecap:butt; stroke-linejoin:round; stroke-width:4; stroke-opacity:1; fill:none\" points=\"\n",
       "  1284.84,1464.55 1284.84,1448.27 \n",
       "  \"/>\n",
       "<polyline clip-path=\"url(#clip460)\" style=\"stroke:#000000; stroke-linecap:butt; stroke-linejoin:round; stroke-width:4; stroke-opacity:1; fill:none\" points=\"\n",
       "  1731.71,1464.55 1731.71,1448.27 \n",
       "  \"/>\n",
       "<polyline clip-path=\"url(#clip460)\" style=\"stroke:#000000; stroke-linecap:butt; stroke-linejoin:round; stroke-width:4; stroke-opacity:1; fill:none\" points=\"\n",
       "  2178.58,1464.55 2178.58,1448.27 \n",
       "  \"/>\n",
       "<polyline clip-path=\"url(#clip460)\" style=\"stroke:#000000; stroke-linecap:butt; stroke-linejoin:round; stroke-width:4; stroke-opacity:1; fill:none\" points=\"\n",
       "  2625.45,1464.55 2625.45,1448.27 \n",
       "  \"/>\n",
       "<polyline clip-path=\"url(#clip460)\" style=\"stroke:#000000; stroke-linecap:butt; stroke-linejoin:round; stroke-width:4; stroke-opacity:1; fill:none\" points=\"\n",
       "  3072.32,1464.55 3072.32,1448.27 \n",
       "  \"/>\n",
       "<path clip-path=\"url(#clip460)\" d=\"M353.404 1500.14 Q349.793 1500.14 347.964 1503.7 Q346.159 1507.25 346.159 1514.37 Q346.159 1521.48 347.964 1525.05 Q349.793 1528.59 353.404 1528.59 Q357.038 1528.59 358.844 1525.05 Q360.673 1521.48 360.673 1514.37 Q360.673 1507.25 358.844 1503.7 Q357.038 1500.14 353.404 1500.14 M353.404 1496.44 Q359.214 1496.44 362.27 1501.04 Q365.348 1505.62 365.348 1514.37 Q365.348 1523.1 362.27 1527.71 Q359.214 1532.29 353.404 1532.29 Q347.594 1532.29 344.515 1527.71 Q341.46 1523.1 341.46 1514.37 Q341.46 1505.62 344.515 1501.04 Q347.594 1496.44 353.404 1496.44 Z\" fill=\"#000000\" fill-rule=\"evenodd\" fill-opacity=\"1\" /><path clip-path=\"url(#clip460)\" d=\"M373.566 1525.74 L378.45 1525.74 L378.45 1531.62 L373.566 1531.62 L373.566 1525.74 Z\" fill=\"#000000\" fill-rule=\"evenodd\" fill-opacity=\"1\" /><path clip-path=\"url(#clip460)\" d=\"M398.635 1500.14 Q395.024 1500.14 393.195 1503.7 Q391.39 1507.25 391.39 1514.37 Q391.39 1521.48 393.195 1525.05 Q395.024 1528.59 398.635 1528.59 Q402.27 1528.59 404.075 1525.05 Q405.904 1521.48 405.904 1514.37 Q405.904 1507.25 404.075 1503.7 Q402.27 1500.14 398.635 1500.14 M398.635 1496.44 Q404.445 1496.44 407.501 1501.04 Q410.58 1505.62 410.58 1514.37 Q410.58 1523.1 407.501 1527.71 Q404.445 1532.29 398.635 1532.29 Q392.825 1532.29 389.746 1527.71 Q386.691 1523.1 386.691 1514.37 Q386.691 1505.62 389.746 1501.04 Q392.825 1496.44 398.635 1496.44 Z\" fill=\"#000000\" fill-rule=\"evenodd\" fill-opacity=\"1\" /><path clip-path=\"url(#clip460)\" d=\"M428.797 1500.14 Q425.186 1500.14 423.357 1503.7 Q421.552 1507.25 421.552 1514.37 Q421.552 1521.48 423.357 1525.05 Q425.186 1528.59 428.797 1528.59 Q432.431 1528.59 434.237 1525.05 Q436.066 1521.48 436.066 1514.37 Q436.066 1507.25 434.237 1503.7 Q432.431 1500.14 428.797 1500.14 M428.797 1496.44 Q434.607 1496.44 437.663 1501.04 Q440.742 1505.62 440.742 1514.37 Q440.742 1523.1 437.663 1527.71 Q434.607 1532.29 428.797 1532.29 Q422.987 1532.29 419.908 1527.71 Q416.853 1523.1 416.853 1514.37 Q416.853 1505.62 419.908 1501.04 Q422.987 1496.44 428.797 1496.44 Z\" fill=\"#000000\" fill-rule=\"evenodd\" fill-opacity=\"1\" /><path clip-path=\"url(#clip460)\" d=\"M800.887 1500.14 Q797.276 1500.14 795.447 1503.7 Q793.642 1507.25 793.642 1514.37 Q793.642 1521.48 795.447 1525.05 Q797.276 1528.59 800.887 1528.59 Q804.521 1528.59 806.327 1525.05 Q808.156 1521.48 808.156 1514.37 Q808.156 1507.25 806.327 1503.7 Q804.521 1500.14 800.887 1500.14 M800.887 1496.44 Q806.697 1496.44 809.753 1501.04 Q812.832 1505.62 812.832 1514.37 Q812.832 1523.1 809.753 1527.71 Q806.697 1532.29 800.887 1532.29 Q795.077 1532.29 791.998 1527.71 Q788.943 1523.1 788.943 1514.37 Q788.943 1505.62 791.998 1501.04 Q795.077 1496.44 800.887 1496.44 Z\" fill=\"#000000\" fill-rule=\"evenodd\" fill-opacity=\"1\" /><path clip-path=\"url(#clip460)\" d=\"M821.049 1525.74 L825.933 1525.74 L825.933 1531.62 L821.049 1531.62 L821.049 1525.74 Z\" fill=\"#000000\" fill-rule=\"evenodd\" fill-opacity=\"1\" /><path clip-path=\"url(#clip460)\" d=\"M846.118 1500.14 Q842.507 1500.14 840.679 1503.7 Q838.873 1507.25 838.873 1514.37 Q838.873 1521.48 840.679 1525.05 Q842.507 1528.59 846.118 1528.59 Q849.753 1528.59 851.558 1525.05 Q853.387 1521.48 853.387 1514.37 Q853.387 1507.25 851.558 1503.7 Q849.753 1500.14 846.118 1500.14 M846.118 1496.44 Q851.929 1496.44 854.984 1501.04 Q858.063 1505.62 858.063 1514.37 Q858.063 1523.1 854.984 1527.71 Q851.929 1532.29 846.118 1532.29 Q840.308 1532.29 837.23 1527.71 Q834.174 1523.1 834.174 1514.37 Q834.174 1505.62 837.23 1501.04 Q840.308 1496.44 846.118 1496.44 Z\" fill=\"#000000\" fill-rule=\"evenodd\" fill-opacity=\"1\" /><path clip-path=\"url(#clip460)\" d=\"M867.091 1527.69 L874.729 1527.69 L874.729 1501.32 L866.419 1502.99 L866.419 1498.73 L874.683 1497.06 L879.359 1497.06 L879.359 1527.69 L886.998 1527.69 L886.998 1531.62 L867.091 1531.62 L867.091 1527.69 Z\" fill=\"#000000\" fill-rule=\"evenodd\" fill-opacity=\"1\" /><path clip-path=\"url(#clip460)\" d=\"M1247.94 1500.14 Q1244.33 1500.14 1242.5 1503.7 Q1240.7 1507.25 1240.7 1514.37 Q1240.7 1521.48 1242.5 1525.05 Q1244.33 1528.59 1247.94 1528.59 Q1251.58 1528.59 1253.38 1525.05 Q1255.21 1521.48 1255.21 1514.37 Q1255.21 1507.25 1253.38 1503.7 Q1251.58 1500.14 1247.94 1500.14 M1247.94 1496.44 Q1253.75 1496.44 1256.81 1501.04 Q1259.89 1505.62 1259.89 1514.37 Q1259.89 1523.1 1256.81 1527.71 Q1253.75 1532.29 1247.94 1532.29 Q1242.13 1532.29 1239.05 1527.71 Q1236 1523.1 1236 1514.37 Q1236 1505.62 1239.05 1501.04 Q1242.13 1496.44 1247.94 1496.44 Z\" fill=\"#000000\" fill-rule=\"evenodd\" fill-opacity=\"1\" /><path clip-path=\"url(#clip460)\" d=\"M1268.1 1525.74 L1272.99 1525.74 L1272.99 1531.62 L1268.1 1531.62 L1268.1 1525.74 Z\" fill=\"#000000\" fill-rule=\"evenodd\" fill-opacity=\"1\" /><path clip-path=\"url(#clip460)\" d=\"M1293.17 1500.14 Q1289.56 1500.14 1287.73 1503.7 Q1285.93 1507.25 1285.93 1514.37 Q1285.93 1521.48 1287.73 1525.05 Q1289.56 1528.59 1293.17 1528.59 Q1296.81 1528.59 1298.61 1525.05 Q1300.44 1521.48 1300.44 1514.37 Q1300.44 1507.25 1298.61 1503.7 Q1296.81 1500.14 1293.17 1500.14 M1293.17 1496.44 Q1298.98 1496.44 1302.04 1501.04 Q1305.12 1505.62 1305.12 1514.37 Q1305.12 1523.1 1302.04 1527.71 Q1298.98 1532.29 1293.17 1532.29 Q1287.36 1532.29 1284.28 1527.71 Q1281.23 1523.1 1281.23 1514.37 Q1281.23 1505.62 1284.28 1501.04 Q1287.36 1496.44 1293.17 1496.44 Z\" fill=\"#000000\" fill-rule=\"evenodd\" fill-opacity=\"1\" /><path clip-path=\"url(#clip460)\" d=\"M1317.36 1527.69 L1333.68 1527.69 L1333.68 1531.62 L1311.74 1531.62 L1311.74 1527.69 Q1314.4 1524.93 1318.98 1520.3 Q1323.59 1515.65 1324.77 1514.31 Q1327.02 1511.78 1327.9 1510.05 Q1328.8 1508.29 1328.8 1506.6 Q1328.8 1503.84 1326.85 1502.11 Q1324.93 1500.37 1321.83 1500.37 Q1319.63 1500.37 1317.18 1501.13 Q1314.75 1501.9 1311.97 1503.45 L1311.97 1498.73 Q1314.79 1497.59 1317.25 1497.01 Q1319.7 1496.44 1321.74 1496.44 Q1327.11 1496.44 1330.3 1499.12 Q1333.5 1501.81 1333.5 1506.3 Q1333.5 1508.43 1332.69 1510.35 Q1331.9 1512.25 1329.79 1514.84 Q1329.21 1515.51 1326.11 1518.73 Q1323.01 1521.92 1317.36 1527.69 Z\" fill=\"#000000\" fill-rule=\"evenodd\" fill-opacity=\"1\" /><path clip-path=\"url(#clip460)\" d=\"M1694.34 1500.14 Q1690.73 1500.14 1688.9 1503.7 Q1687.09 1507.25 1687.09 1514.37 Q1687.09 1521.48 1688.9 1525.05 Q1690.73 1528.59 1694.34 1528.59 Q1697.97 1528.59 1699.78 1525.05 Q1701.61 1521.48 1701.61 1514.37 Q1701.61 1507.25 1699.78 1503.7 Q1697.97 1500.14 1694.34 1500.14 M1694.34 1496.44 Q1700.15 1496.44 1703.2 1501.04 Q1706.28 1505.62 1706.28 1514.37 Q1706.28 1523.1 1703.2 1527.71 Q1700.15 1532.29 1694.34 1532.29 Q1688.53 1532.29 1685.45 1527.71 Q1682.39 1523.1 1682.39 1514.37 Q1682.39 1505.62 1685.45 1501.04 Q1688.53 1496.44 1694.34 1496.44 Z\" fill=\"#000000\" fill-rule=\"evenodd\" fill-opacity=\"1\" /><path clip-path=\"url(#clip460)\" d=\"M1714.5 1525.74 L1719.38 1525.74 L1719.38 1531.62 L1714.5 1531.62 L1714.5 1525.74 Z\" fill=\"#000000\" fill-rule=\"evenodd\" fill-opacity=\"1\" /><path clip-path=\"url(#clip460)\" d=\"M1739.57 1500.14 Q1735.96 1500.14 1734.13 1503.7 Q1732.32 1507.25 1732.32 1514.37 Q1732.32 1521.48 1734.13 1525.05 Q1735.96 1528.59 1739.57 1528.59 Q1743.2 1528.59 1745.01 1525.05 Q1746.84 1521.48 1746.84 1514.37 Q1746.84 1507.25 1745.01 1503.7 Q1743.2 1500.14 1739.57 1500.14 M1739.57 1496.44 Q1745.38 1496.44 1748.43 1501.04 Q1751.51 1505.62 1751.51 1514.37 Q1751.51 1523.1 1748.43 1527.71 Q1745.38 1532.29 1739.57 1532.29 Q1733.76 1532.29 1730.68 1527.71 Q1727.62 1523.1 1727.62 1514.37 Q1727.62 1505.62 1730.68 1501.04 Q1733.76 1496.44 1739.57 1496.44 Z\" fill=\"#000000\" fill-rule=\"evenodd\" fill-opacity=\"1\" /><path clip-path=\"url(#clip460)\" d=\"M1773.9 1512.99 Q1777.25 1513.7 1779.13 1515.97 Q1781.03 1518.24 1781.03 1521.57 Q1781.03 1526.69 1777.51 1529.49 Q1773.99 1532.29 1767.51 1532.29 Q1765.33 1532.29 1763.02 1531.85 Q1760.73 1531.43 1758.27 1530.58 L1758.27 1526.06 Q1760.22 1527.2 1762.53 1527.78 Q1764.85 1528.36 1767.37 1528.36 Q1771.77 1528.36 1774.06 1526.62 Q1776.37 1524.88 1776.37 1521.57 Q1776.37 1518.52 1774.22 1516.81 Q1772.09 1515.07 1768.27 1515.07 L1764.24 1515.07 L1764.24 1511.23 L1768.46 1511.23 Q1771.91 1511.23 1773.74 1509.86 Q1775.56 1508.47 1775.56 1505.88 Q1775.56 1503.22 1773.67 1501.81 Q1771.79 1500.37 1768.27 1500.37 Q1766.35 1500.37 1764.15 1500.79 Q1761.95 1501.2 1759.31 1502.08 L1759.31 1497.92 Q1761.98 1497.18 1764.29 1496.81 Q1766.63 1496.44 1768.69 1496.44 Q1774.01 1496.44 1777.11 1498.87 Q1780.22 1501.27 1780.22 1505.39 Q1780.22 1508.26 1778.57 1510.25 Q1776.93 1512.22 1773.9 1512.99 Z\" fill=\"#000000\" fill-rule=\"evenodd\" fill-opacity=\"1\" /><path clip-path=\"url(#clip460)\" d=\"M2140.64 1500.14 Q2137.03 1500.14 2135.2 1503.7 Q2133.39 1507.25 2133.39 1514.37 Q2133.39 1521.48 2135.2 1525.05 Q2137.03 1528.59 2140.64 1528.59 Q2144.27 1528.59 2146.08 1525.05 Q2147.91 1521.48 2147.91 1514.37 Q2147.91 1507.25 2146.08 1503.7 Q2144.27 1500.14 2140.64 1500.14 M2140.64 1496.44 Q2146.45 1496.44 2149.51 1501.04 Q2152.58 1505.62 2152.58 1514.37 Q2152.58 1523.1 2149.51 1527.71 Q2146.45 1532.29 2140.64 1532.29 Q2134.83 1532.29 2131.75 1527.71 Q2128.7 1523.1 2128.7 1514.37 Q2128.7 1505.62 2131.75 1501.04 Q2134.83 1496.44 2140.64 1496.44 Z\" fill=\"#000000\" fill-rule=\"evenodd\" fill-opacity=\"1\" /><path clip-path=\"url(#clip460)\" d=\"M2160.8 1525.74 L2165.69 1525.74 L2165.69 1531.62 L2160.8 1531.62 L2160.8 1525.74 Z\" fill=\"#000000\" fill-rule=\"evenodd\" fill-opacity=\"1\" /><path clip-path=\"url(#clip460)\" d=\"M2185.87 1500.14 Q2182.26 1500.14 2180.43 1503.7 Q2178.63 1507.25 2178.63 1514.37 Q2178.63 1521.48 2180.43 1525.05 Q2182.26 1528.59 2185.87 1528.59 Q2189.51 1528.59 2191.31 1525.05 Q2193.14 1521.48 2193.14 1514.37 Q2193.14 1507.25 2191.31 1503.7 Q2189.51 1500.14 2185.87 1500.14 M2185.87 1496.44 Q2191.68 1496.44 2194.74 1501.04 Q2197.82 1505.62 2197.82 1514.37 Q2197.82 1523.1 2194.74 1527.71 Q2191.68 1532.29 2185.87 1532.29 Q2180.06 1532.29 2176.98 1527.71 Q2173.93 1523.1 2173.93 1514.37 Q2173.93 1505.62 2176.98 1501.04 Q2180.06 1496.44 2185.87 1496.44 Z\" fill=\"#000000\" fill-rule=\"evenodd\" fill-opacity=\"1\" /><path clip-path=\"url(#clip460)\" d=\"M2218.88 1501.13 L2207.07 1519.58 L2218.88 1519.58 L2218.88 1501.13 M2217.65 1497.06 L2223.53 1497.06 L2223.53 1519.58 L2228.46 1519.58 L2228.46 1523.47 L2223.53 1523.47 L2223.53 1531.62 L2218.88 1531.62 L2218.88 1523.47 L2203.28 1523.47 L2203.28 1518.96 L2217.65 1497.06 Z\" fill=\"#000000\" fill-rule=\"evenodd\" fill-opacity=\"1\" /><path clip-path=\"url(#clip460)\" d=\"M2588.25 1500.14 Q2584.64 1500.14 2582.81 1503.7 Q2581.01 1507.25 2581.01 1514.37 Q2581.01 1521.48 2582.81 1525.05 Q2584.64 1528.59 2588.25 1528.59 Q2591.88 1528.59 2593.69 1525.05 Q2595.52 1521.48 2595.52 1514.37 Q2595.52 1507.25 2593.69 1503.7 Q2591.88 1500.14 2588.25 1500.14 M2588.25 1496.44 Q2594.06 1496.44 2597.12 1501.04 Q2600.2 1505.62 2600.2 1514.37 Q2600.2 1523.1 2597.12 1527.71 Q2594.06 1532.29 2588.25 1532.29 Q2582.44 1532.29 2579.36 1527.71 Q2576.31 1523.1 2576.31 1514.37 Q2576.31 1505.62 2579.36 1501.04 Q2582.44 1496.44 2588.25 1496.44 Z\" fill=\"#000000\" fill-rule=\"evenodd\" fill-opacity=\"1\" /><path clip-path=\"url(#clip460)\" d=\"M2608.41 1525.74 L2613.3 1525.74 L2613.3 1531.62 L2608.41 1531.62 L2608.41 1525.74 Z\" fill=\"#000000\" fill-rule=\"evenodd\" fill-opacity=\"1\" /><path clip-path=\"url(#clip460)\" d=\"M2633.48 1500.14 Q2629.87 1500.14 2628.04 1503.7 Q2626.24 1507.25 2626.24 1514.37 Q2626.24 1521.48 2628.04 1525.05 Q2629.87 1528.59 2633.48 1528.59 Q2637.12 1528.59 2638.92 1525.05 Q2640.75 1521.48 2640.75 1514.37 Q2640.75 1507.25 2638.92 1503.7 Q2637.12 1500.14 2633.48 1500.14 M2633.48 1496.44 Q2639.29 1496.44 2642.35 1501.04 Q2645.43 1505.62 2645.43 1514.37 Q2645.43 1523.1 2642.35 1527.71 Q2639.29 1532.29 2633.48 1532.29 Q2627.67 1532.29 2624.59 1527.71 Q2621.54 1523.1 2621.54 1514.37 Q2621.54 1505.62 2624.59 1501.04 Q2627.67 1496.44 2633.48 1496.44 Z\" fill=\"#000000\" fill-rule=\"evenodd\" fill-opacity=\"1\" /><path clip-path=\"url(#clip460)\" d=\"M2653.69 1497.06 L2672.05 1497.06 L2672.05 1501 L2657.97 1501 L2657.97 1509.47 Q2658.99 1509.12 2660.01 1508.96 Q2661.03 1508.77 2662.05 1508.77 Q2667.83 1508.77 2671.21 1511.94 Q2674.59 1515.12 2674.59 1520.53 Q2674.59 1526.11 2671.12 1529.21 Q2667.65 1532.29 2661.33 1532.29 Q2659.15 1532.29 2656.88 1531.92 Q2654.64 1531.55 2652.23 1530.81 L2652.23 1526.11 Q2654.32 1527.25 2656.54 1527.8 Q2658.76 1528.36 2661.24 1528.36 Q2665.24 1528.36 2667.58 1526.25 Q2669.92 1524.14 2669.92 1520.53 Q2669.92 1516.92 2667.58 1514.81 Q2665.24 1512.71 2661.24 1512.71 Q2659.36 1512.71 2657.49 1513.12 Q2655.63 1513.54 2653.69 1514.42 L2653.69 1497.06 Z\" fill=\"#000000\" fill-rule=\"evenodd\" fill-opacity=\"1\" /><path clip-path=\"url(#clip460)\" d=\"M3034.54 1500.14 Q3030.93 1500.14 3029.1 1503.7 Q3027.3 1507.25 3027.3 1514.37 Q3027.3 1521.48 3029.1 1525.05 Q3030.93 1528.59 3034.54 1528.59 Q3038.18 1528.59 3039.98 1525.05 Q3041.81 1521.48 3041.81 1514.37 Q3041.81 1507.25 3039.98 1503.7 Q3038.18 1500.14 3034.54 1500.14 M3034.54 1496.44 Q3040.35 1496.44 3043.41 1501.04 Q3046.49 1505.62 3046.49 1514.37 Q3046.49 1523.1 3043.41 1527.71 Q3040.35 1532.29 3034.54 1532.29 Q3028.73 1532.29 3025.65 1527.71 Q3022.6 1523.1 3022.6 1514.37 Q3022.6 1505.62 3025.65 1501.04 Q3028.73 1496.44 3034.54 1496.44 Z\" fill=\"#000000\" fill-rule=\"evenodd\" fill-opacity=\"1\" /><path clip-path=\"url(#clip460)\" d=\"M3054.7 1525.74 L3059.59 1525.74 L3059.59 1531.62 L3054.7 1531.62 L3054.7 1525.74 Z\" fill=\"#000000\" fill-rule=\"evenodd\" fill-opacity=\"1\" /><path clip-path=\"url(#clip460)\" d=\"M3079.77 1500.14 Q3076.16 1500.14 3074.33 1503.7 Q3072.53 1507.25 3072.53 1514.37 Q3072.53 1521.48 3074.33 1525.05 Q3076.16 1528.59 3079.77 1528.59 Q3083.41 1528.59 3085.21 1525.05 Q3087.04 1521.48 3087.04 1514.37 Q3087.04 1507.25 3085.21 1503.7 Q3083.41 1500.14 3079.77 1500.14 M3079.77 1496.44 Q3085.58 1496.44 3088.64 1501.04 Q3091.72 1505.62 3091.72 1514.37 Q3091.72 1523.1 3088.64 1527.71 Q3085.58 1532.29 3079.77 1532.29 Q3073.96 1532.29 3070.88 1527.71 Q3067.83 1523.1 3067.83 1514.37 Q3067.83 1505.62 3070.88 1501.04 Q3073.96 1496.44 3079.77 1496.44 Z\" fill=\"#000000\" fill-rule=\"evenodd\" fill-opacity=\"1\" /><path clip-path=\"url(#clip460)\" d=\"M3110.51 1512.48 Q3107.37 1512.48 3105.51 1514.63 Q3103.68 1516.78 3103.68 1520.53 Q3103.68 1524.26 3105.51 1526.44 Q3107.37 1528.59 3110.51 1528.59 Q3113.66 1528.59 3115.49 1526.44 Q3117.34 1524.26 3117.34 1520.53 Q3117.34 1516.78 3115.49 1514.63 Q3113.66 1512.48 3110.51 1512.48 M3119.8 1497.82 L3119.8 1502.08 Q3118.04 1501.25 3116.23 1500.81 Q3114.45 1500.37 3112.69 1500.37 Q3108.06 1500.37 3105.61 1503.5 Q3103.18 1506.62 3102.83 1512.94 Q3104.19 1510.93 3106.25 1509.86 Q3108.31 1508.77 3110.79 1508.77 Q3116 1508.77 3119.01 1511.94 Q3122.04 1515.09 3122.04 1520.53 Q3122.04 1525.86 3118.89 1529.07 Q3115.75 1532.29 3110.51 1532.29 Q3104.52 1532.29 3101.35 1527.71 Q3098.18 1523.1 3098.18 1514.37 Q3098.18 1506.18 3102.06 1501.32 Q3105.95 1496.44 3112.5 1496.44 Q3114.26 1496.44 3116.05 1496.78 Q3117.85 1497.13 3119.8 1497.82 Z\" fill=\"#000000\" fill-rule=\"evenodd\" fill-opacity=\"1\" /><path clip-path=\"url(#clip460)\" d=\"M1743.85 1565.42 Q1743.85 1567.13 1742.72 1568.22 Q1741.63 1569.32 1740.21 1569.32 Q1738.99 1569.32 1738.34 1568.61 Q1737.7 1567.9 1737.7 1567 Q1737.7 1565.71 1738.7 1564.65 Q1739.7 1563.59 1741.15 1563.36 Q1740.08 1562.59 1738.38 1562.59 Q1735.58 1562.59 1733.1 1564.74 Q1732 1565.74 1730.81 1567.58 Q1729.62 1569.38 1729.39 1570.16 L1727.3 1578.75 Q1727.1 1579.72 1725.91 1584.36 Q1724.75 1588.96 1724.66 1589.16 Q1724.34 1590.06 1723.63 1590.54 Q1722.92 1591.02 1722.21 1591.02 Q1721.4 1591.02 1720.86 1590.54 Q1720.31 1590.06 1720.31 1589.22 Q1720.31 1589.09 1720.41 1588.61 Q1720.5 1588.13 1720.66 1587.45 Q1720.82 1586.77 1720.89 1586.39 L1724.72 1571.15 Q1725.43 1568.38 1725.59 1567.51 Q1725.78 1566.61 1725.78 1565.61 Q1725.78 1563.88 1725.24 1563.23 Q1724.69 1562.59 1723.72 1562.59 Q1722.05 1562.59 1720.95 1564.58 Q1719.86 1566.58 1718.92 1570.45 Q1718.63 1571.51 1718.44 1571.73 Q1718.28 1571.96 1717.8 1571.96 Q1716.99 1571.93 1716.99 1571.28 Q1716.99 1571.12 1717.25 1570.09 Q1717.51 1569.03 1717.99 1567.48 Q1718.51 1565.9 1719.05 1564.91 Q1719.38 1564.23 1719.67 1563.78 Q1719.96 1563.33 1720.53 1562.62 Q1721.11 1561.91 1721.98 1561.52 Q1722.85 1561.14 1723.92 1561.14 Q1726.24 1561.14 1727.88 1562.55 Q1729.55 1563.97 1729.94 1566.19 Q1730.74 1565.03 1731.74 1564.04 Q1732.74 1563.01 1734.58 1562.07 Q1736.41 1561.14 1738.38 1561.14 Q1740.82 1561.14 1742.34 1562.39 Q1743.85 1563.62 1743.85 1565.42 Z\" fill=\"#000000\" fill-rule=\"evenodd\" fill-opacity=\"1\" /><polyline clip-path=\"url(#clip462)\" style=\"stroke:#000000; stroke-linecap:butt; stroke-linejoin:round; stroke-width:2; stroke-opacity:0.1; fill:none\" points=\"\n",
       "  310.664,1410.8 3152.76,1410.8 \n",
       "  \"/>\n",
       "<polyline clip-path=\"url(#clip462)\" style=\"stroke:#000000; stroke-linecap:butt; stroke-linejoin:round; stroke-width:2; stroke-opacity:0.1; fill:none\" points=\"\n",
       "  310.664,1192.72 3152.76,1192.72 \n",
       "  \"/>\n",
       "<polyline clip-path=\"url(#clip462)\" style=\"stroke:#000000; stroke-linecap:butt; stroke-linejoin:round; stroke-width:2; stroke-opacity:0.1; fill:none\" points=\"\n",
       "  310.664,974.65 3152.76,974.65 \n",
       "  \"/>\n",
       "<polyline clip-path=\"url(#clip462)\" style=\"stroke:#000000; stroke-linecap:butt; stroke-linejoin:round; stroke-width:2; stroke-opacity:0.1; fill:none\" points=\"\n",
       "  310.664,756.575 3152.76,756.575 \n",
       "  \"/>\n",
       "<polyline clip-path=\"url(#clip462)\" style=\"stroke:#000000; stroke-linecap:butt; stroke-linejoin:round; stroke-width:2; stroke-opacity:0.1; fill:none\" points=\"\n",
       "  310.664,538.499 3152.76,538.499 \n",
       "  \"/>\n",
       "<polyline clip-path=\"url(#clip462)\" style=\"stroke:#000000; stroke-linecap:butt; stroke-linejoin:round; stroke-width:2; stroke-opacity:0.1; fill:none\" points=\"\n",
       "  310.664,320.424 3152.76,320.424 \n",
       "  \"/>\n",
       "<polyline clip-path=\"url(#clip460)\" style=\"stroke:#000000; stroke-linecap:butt; stroke-linejoin:round; stroke-width:4; stroke-opacity:1; fill:none\" points=\"\n",
       "  310.664,1464.55 310.664,108.352 \n",
       "  \"/>\n",
       "<polyline clip-path=\"url(#clip460)\" style=\"stroke:#000000; stroke-linecap:butt; stroke-linejoin:round; stroke-width:4; stroke-opacity:1; fill:none\" points=\"\n",
       "  310.664,1410.8 344.769,1410.8 \n",
       "  \"/>\n",
       "<polyline clip-path=\"url(#clip460)\" style=\"stroke:#000000; stroke-linecap:butt; stroke-linejoin:round; stroke-width:4; stroke-opacity:1; fill:none\" points=\"\n",
       "  310.664,1192.72 344.769,1192.72 \n",
       "  \"/>\n",
       "<polyline clip-path=\"url(#clip460)\" style=\"stroke:#000000; stroke-linecap:butt; stroke-linejoin:round; stroke-width:4; stroke-opacity:1; fill:none\" points=\"\n",
       "  310.664,974.65 344.769,974.65 \n",
       "  \"/>\n",
       "<polyline clip-path=\"url(#clip460)\" style=\"stroke:#000000; stroke-linecap:butt; stroke-linejoin:round; stroke-width:4; stroke-opacity:1; fill:none\" points=\"\n",
       "  310.664,756.575 344.769,756.575 \n",
       "  \"/>\n",
       "<polyline clip-path=\"url(#clip460)\" style=\"stroke:#000000; stroke-linecap:butt; stroke-linejoin:round; stroke-width:4; stroke-opacity:1; fill:none\" points=\"\n",
       "  310.664,538.499 344.769,538.499 \n",
       "  \"/>\n",
       "<polyline clip-path=\"url(#clip460)\" style=\"stroke:#000000; stroke-linecap:butt; stroke-linejoin:round; stroke-width:4; stroke-opacity:1; fill:none\" points=\"\n",
       "  310.664,320.424 344.769,320.424 \n",
       "  \"/>\n",
       "<path clip-path=\"url(#clip460)\" d=\"M95.3964 1411.25 L125.072 1411.25 L125.072 1415.19 L95.3964 1415.19 L95.3964 1411.25 Z\" fill=\"#000000\" fill-rule=\"evenodd\" fill-opacity=\"1\" /><path clip-path=\"url(#clip460)\" d=\"M145.165 1396.6 Q141.554 1396.6 139.725 1400.16 Q137.919 1403.71 137.919 1410.83 Q137.919 1417.94 139.725 1421.51 Q141.554 1425.05 145.165 1425.05 Q148.799 1425.05 150.604 1421.51 Q152.433 1417.94 152.433 1410.83 Q152.433 1403.71 150.604 1400.16 Q148.799 1396.6 145.165 1396.6 M145.165 1392.9 Q150.975 1392.9 154.03 1397.5 Q157.109 1402.08 157.109 1410.83 Q157.109 1419.56 154.03 1424.17 Q150.975 1428.75 145.165 1428.75 Q139.355 1428.75 136.276 1424.17 Q133.22 1419.56 133.22 1410.83 Q133.22 1402.08 136.276 1397.5 Q139.355 1392.9 145.165 1392.9 Z\" fill=\"#000000\" fill-rule=\"evenodd\" fill-opacity=\"1\" /><path clip-path=\"url(#clip460)\" d=\"M165.327 1422.2 L170.211 1422.2 L170.211 1428.08 L165.327 1428.08 L165.327 1422.2 Z\" fill=\"#000000\" fill-rule=\"evenodd\" fill-opacity=\"1\" /><path clip-path=\"url(#clip460)\" d=\"M190.396 1396.6 Q186.785 1396.6 184.956 1400.16 Q183.151 1403.71 183.151 1410.83 Q183.151 1417.94 184.956 1421.51 Q186.785 1425.05 190.396 1425.05 Q194.03 1425.05 195.836 1421.51 Q197.664 1417.94 197.664 1410.83 Q197.664 1403.71 195.836 1400.16 Q194.03 1396.6 190.396 1396.6 M190.396 1392.9 Q196.206 1392.9 199.262 1397.5 Q202.34 1402.08 202.34 1410.83 Q202.34 1419.56 199.262 1424.17 Q196.206 1428.75 190.396 1428.75 Q184.586 1428.75 181.507 1424.17 Q178.452 1419.56 178.452 1410.83 Q178.452 1402.08 181.507 1397.5 Q184.586 1392.9 190.396 1392.9 Z\" fill=\"#000000\" fill-rule=\"evenodd\" fill-opacity=\"1\" /><path clip-path=\"url(#clip460)\" d=\"M211.368 1424.14 L219.007 1424.14 L219.007 1397.78 L210.697 1399.45 L210.697 1395.19 L218.961 1393.52 L223.636 1393.52 L223.636 1424.14 L231.275 1424.14 L231.275 1428.08 L211.368 1428.08 L211.368 1424.14 Z\" fill=\"#000000\" fill-rule=\"evenodd\" fill-opacity=\"1\" /><path clip-path=\"url(#clip460)\" d=\"M250.72 1396.6 Q247.109 1396.6 245.28 1400.16 Q243.474 1403.71 243.474 1410.83 Q243.474 1417.94 245.28 1421.51 Q247.109 1425.05 250.72 1425.05 Q254.354 1425.05 256.159 1421.51 Q257.988 1417.94 257.988 1410.83 Q257.988 1403.71 256.159 1400.16 Q254.354 1396.6 250.72 1396.6 M250.72 1392.9 Q256.53 1392.9 259.585 1397.5 Q262.664 1402.08 262.664 1410.83 Q262.664 1419.56 259.585 1424.17 Q256.53 1428.75 250.72 1428.75 Q244.909 1428.75 241.831 1424.17 Q238.775 1419.56 238.775 1410.83 Q238.775 1402.08 241.831 1397.5 Q244.909 1392.9 250.72 1392.9 Z\" fill=\"#000000\" fill-rule=\"evenodd\" fill-opacity=\"1\" /><path clip-path=\"url(#clip460)\" d=\"M96.3918 1193.18 L126.068 1193.18 L126.068 1197.11 L96.3918 1197.11 L96.3918 1193.18 Z\" fill=\"#000000\" fill-rule=\"evenodd\" fill-opacity=\"1\" /><path clip-path=\"url(#clip460)\" d=\"M146.16 1178.52 Q142.549 1178.52 140.72 1182.09 Q138.915 1185.63 138.915 1192.76 Q138.915 1199.87 140.72 1203.43 Q142.549 1206.97 146.16 1206.97 Q149.794 1206.97 151.6 1203.43 Q153.429 1199.87 153.429 1192.76 Q153.429 1185.63 151.6 1182.09 Q149.794 1178.52 146.16 1178.52 M146.16 1174.82 Q151.97 1174.82 155.026 1179.43 Q158.104 1184.01 158.104 1192.76 Q158.104 1201.49 155.026 1206.09 Q151.97 1210.68 146.16 1210.68 Q140.35 1210.68 137.271 1206.09 Q134.216 1201.49 134.216 1192.76 Q134.216 1184.01 137.271 1179.43 Q140.35 1174.82 146.16 1174.82 Z\" fill=\"#000000\" fill-rule=\"evenodd\" fill-opacity=\"1\" /><path clip-path=\"url(#clip460)\" d=\"M166.322 1204.13 L171.206 1204.13 L171.206 1210 L166.322 1210 L166.322 1204.13 Z\" fill=\"#000000\" fill-rule=\"evenodd\" fill-opacity=\"1\" /><path clip-path=\"url(#clip460)\" d=\"M191.391 1178.52 Q187.78 1178.52 185.951 1182.09 Q184.146 1185.63 184.146 1192.76 Q184.146 1199.87 185.951 1203.43 Q187.78 1206.97 191.391 1206.97 Q195.026 1206.97 196.831 1203.43 Q198.66 1199.87 198.66 1192.76 Q198.66 1185.63 196.831 1182.09 Q195.026 1178.52 191.391 1178.52 M191.391 1174.82 Q197.201 1174.82 200.257 1179.43 Q203.336 1184.01 203.336 1192.76 Q203.336 1201.49 200.257 1206.09 Q197.201 1210.68 191.391 1210.68 Q185.581 1210.68 182.502 1206.09 Q179.447 1201.49 179.447 1192.76 Q179.447 1184.01 182.502 1179.43 Q185.581 1174.82 191.391 1174.82 Z\" fill=\"#000000\" fill-rule=\"evenodd\" fill-opacity=\"1\" /><path clip-path=\"url(#clip460)\" d=\"M221.553 1178.52 Q217.942 1178.52 216.113 1182.09 Q214.308 1185.63 214.308 1192.76 Q214.308 1199.87 216.113 1203.43 Q217.942 1206.97 221.553 1206.97 Q225.187 1206.97 226.993 1203.43 Q228.822 1199.87 228.822 1192.76 Q228.822 1185.63 226.993 1182.09 Q225.187 1178.52 221.553 1178.52 M221.553 1174.82 Q227.363 1174.82 230.419 1179.43 Q233.498 1184.01 233.498 1192.76 Q233.498 1201.49 230.419 1206.09 Q227.363 1210.68 221.553 1210.68 Q215.743 1210.68 212.664 1206.09 Q209.609 1201.49 209.609 1192.76 Q209.609 1184.01 212.664 1179.43 Q215.743 1174.82 221.553 1174.82 Z\" fill=\"#000000\" fill-rule=\"evenodd\" fill-opacity=\"1\" /><path clip-path=\"url(#clip460)\" d=\"M241.761 1175.44 L260.118 1175.44 L260.118 1179.38 L246.044 1179.38 L246.044 1187.85 Q247.062 1187.51 248.081 1187.34 Q249.099 1187.16 250.118 1187.16 Q255.905 1187.16 259.284 1190.33 Q262.664 1193.5 262.664 1198.92 Q262.664 1204.5 259.192 1207.6 Q255.72 1210.68 249.4 1210.68 Q247.224 1210.68 244.956 1210.31 Q242.71 1209.94 240.303 1209.19 L240.303 1204.5 Q242.386 1205.63 244.609 1206.19 Q246.831 1206.74 249.308 1206.74 Q253.312 1206.74 255.65 1204.63 Q257.988 1202.53 257.988 1198.92 Q257.988 1195.31 255.65 1193.2 Q253.312 1191.09 249.308 1191.09 Q247.433 1191.09 245.558 1191.51 Q243.706 1191.93 241.761 1192.81 L241.761 1175.44 Z\" fill=\"#000000\" fill-rule=\"evenodd\" fill-opacity=\"1\" /><path clip-path=\"url(#clip460)\" d=\"M145.165 960.448 Q141.554 960.448 139.725 964.013 Q137.919 967.555 137.919 974.684 Q137.919 981.791 139.725 985.356 Q141.554 988.897 145.165 988.897 Q148.799 988.897 150.604 985.356 Q152.433 981.791 152.433 974.684 Q152.433 967.555 150.604 964.013 Q148.799 960.448 145.165 960.448 M145.165 956.745 Q150.975 956.745 154.03 961.351 Q157.109 965.934 157.109 974.684 Q157.109 983.411 154.03 988.018 Q150.975 992.601 145.165 992.601 Q139.355 992.601 136.276 988.018 Q133.22 983.411 133.22 974.684 Q133.22 965.934 136.276 961.351 Q139.355 956.745 145.165 956.745 Z\" fill=\"#000000\" fill-rule=\"evenodd\" fill-opacity=\"1\" /><path clip-path=\"url(#clip460)\" d=\"M165.327 986.05 L170.211 986.05 L170.211 991.93 L165.327 991.93 L165.327 986.05 Z\" fill=\"#000000\" fill-rule=\"evenodd\" fill-opacity=\"1\" /><path clip-path=\"url(#clip460)\" d=\"M190.396 960.448 Q186.785 960.448 184.956 964.013 Q183.151 967.555 183.151 974.684 Q183.151 981.791 184.956 985.356 Q186.785 988.897 190.396 988.897 Q194.03 988.897 195.836 985.356 Q197.664 981.791 197.664 974.684 Q197.664 967.555 195.836 964.013 Q194.03 960.448 190.396 960.448 M190.396 956.745 Q196.206 956.745 199.262 961.351 Q202.34 965.934 202.34 974.684 Q202.34 983.411 199.262 988.018 Q196.206 992.601 190.396 992.601 Q184.586 992.601 181.507 988.018 Q178.452 983.411 178.452 974.684 Q178.452 965.934 181.507 961.351 Q184.586 956.745 190.396 956.745 Z\" fill=\"#000000\" fill-rule=\"evenodd\" fill-opacity=\"1\" /><path clip-path=\"url(#clip460)\" d=\"M220.558 960.448 Q216.947 960.448 215.118 964.013 Q213.312 967.555 213.312 974.684 Q213.312 981.791 215.118 985.356 Q216.947 988.897 220.558 988.897 Q224.192 988.897 225.998 985.356 Q227.826 981.791 227.826 974.684 Q227.826 967.555 225.998 964.013 Q224.192 960.448 220.558 960.448 M220.558 956.745 Q226.368 956.745 229.423 961.351 Q232.502 965.934 232.502 974.684 Q232.502 983.411 229.423 988.018 Q226.368 992.601 220.558 992.601 Q214.748 992.601 211.669 988.018 Q208.613 983.411 208.613 974.684 Q208.613 965.934 211.669 961.351 Q214.748 956.745 220.558 956.745 Z\" fill=\"#000000\" fill-rule=\"evenodd\" fill-opacity=\"1\" /><path clip-path=\"url(#clip460)\" d=\"M250.72 960.448 Q247.109 960.448 245.28 964.013 Q243.474 967.555 243.474 974.684 Q243.474 981.791 245.28 985.356 Q247.109 988.897 250.72 988.897 Q254.354 988.897 256.159 985.356 Q257.988 981.791 257.988 974.684 Q257.988 967.555 256.159 964.013 Q254.354 960.448 250.72 960.448 M250.72 956.745 Q256.53 956.745 259.585 961.351 Q262.664 965.934 262.664 974.684 Q262.664 983.411 259.585 988.018 Q256.53 992.601 250.72 992.601 Q244.909 992.601 241.831 988.018 Q238.775 983.411 238.775 974.684 Q238.775 965.934 241.831 961.351 Q244.909 956.745 250.72 956.745 Z\" fill=\"#000000\" fill-rule=\"evenodd\" fill-opacity=\"1\" /><path clip-path=\"url(#clip460)\" d=\"M146.16 742.373 Q142.549 742.373 140.72 745.938 Q138.915 749.48 138.915 756.609 Q138.915 763.716 140.72 767.28 Q142.549 770.822 146.16 770.822 Q149.794 770.822 151.6 767.28 Q153.429 763.716 153.429 756.609 Q153.429 749.48 151.6 745.938 Q149.794 742.373 146.16 742.373 M146.16 738.67 Q151.97 738.67 155.026 743.276 Q158.104 747.859 158.104 756.609 Q158.104 765.336 155.026 769.942 Q151.97 774.526 146.16 774.526 Q140.35 774.526 137.271 769.942 Q134.216 765.336 134.216 756.609 Q134.216 747.859 137.271 743.276 Q140.35 738.67 146.16 738.67 Z\" fill=\"#000000\" fill-rule=\"evenodd\" fill-opacity=\"1\" /><path clip-path=\"url(#clip460)\" d=\"M166.322 767.975 L171.206 767.975 L171.206 773.855 L166.322 773.855 L166.322 767.975 Z\" fill=\"#000000\" fill-rule=\"evenodd\" fill-opacity=\"1\" /><path clip-path=\"url(#clip460)\" d=\"M191.391 742.373 Q187.78 742.373 185.951 745.938 Q184.146 749.48 184.146 756.609 Q184.146 763.716 185.951 767.28 Q187.78 770.822 191.391 770.822 Q195.026 770.822 196.831 767.28 Q198.66 763.716 198.66 756.609 Q198.66 749.48 196.831 745.938 Q195.026 742.373 191.391 742.373 M191.391 738.67 Q197.201 738.67 200.257 743.276 Q203.336 747.859 203.336 756.609 Q203.336 765.336 200.257 769.942 Q197.201 774.526 191.391 774.526 Q185.581 774.526 182.502 769.942 Q179.447 765.336 179.447 756.609 Q179.447 747.859 182.502 743.276 Q185.581 738.67 191.391 738.67 Z\" fill=\"#000000\" fill-rule=\"evenodd\" fill-opacity=\"1\" /><path clip-path=\"url(#clip460)\" d=\"M221.553 742.373 Q217.942 742.373 216.113 745.938 Q214.308 749.48 214.308 756.609 Q214.308 763.716 216.113 767.28 Q217.942 770.822 221.553 770.822 Q225.187 770.822 226.993 767.28 Q228.822 763.716 228.822 756.609 Q228.822 749.48 226.993 745.938 Q225.187 742.373 221.553 742.373 M221.553 738.67 Q227.363 738.67 230.419 743.276 Q233.498 747.859 233.498 756.609 Q233.498 765.336 230.419 769.942 Q227.363 774.526 221.553 774.526 Q215.743 774.526 212.664 769.942 Q209.609 765.336 209.609 756.609 Q209.609 747.859 212.664 743.276 Q215.743 738.67 221.553 738.67 Z\" fill=\"#000000\" fill-rule=\"evenodd\" fill-opacity=\"1\" /><path clip-path=\"url(#clip460)\" d=\"M241.761 739.295 L260.118 739.295 L260.118 743.23 L246.044 743.23 L246.044 751.702 Q247.062 751.355 248.081 751.193 Q249.099 751.007 250.118 751.007 Q255.905 751.007 259.284 754.179 Q262.664 757.35 262.664 762.767 Q262.664 768.345 259.192 771.447 Q255.72 774.526 249.4 774.526 Q247.224 774.526 244.956 774.155 Q242.71 773.785 240.303 773.044 L240.303 768.345 Q242.386 769.48 244.609 770.035 Q246.831 770.591 249.308 770.591 Q253.312 770.591 255.65 768.484 Q257.988 766.378 257.988 762.767 Q257.988 759.156 255.65 757.049 Q253.312 754.943 249.308 754.943 Q247.433 754.943 245.558 755.359 Q243.706 755.776 241.761 756.656 L241.761 739.295 Z\" fill=\"#000000\" fill-rule=\"evenodd\" fill-opacity=\"1\" /><path clip-path=\"url(#clip460)\" d=\"M145.165 524.298 Q141.554 524.298 139.725 527.863 Q137.919 531.404 137.919 538.534 Q137.919 545.64 139.725 549.205 Q141.554 552.747 145.165 552.747 Q148.799 552.747 150.604 549.205 Q152.433 545.64 152.433 538.534 Q152.433 531.404 150.604 527.863 Q148.799 524.298 145.165 524.298 M145.165 520.594 Q150.975 520.594 154.03 525.201 Q157.109 529.784 157.109 538.534 Q157.109 547.261 154.03 551.867 Q150.975 556.451 145.165 556.451 Q139.355 556.451 136.276 551.867 Q133.22 547.261 133.22 538.534 Q133.22 529.784 136.276 525.201 Q139.355 520.594 145.165 520.594 Z\" fill=\"#000000\" fill-rule=\"evenodd\" fill-opacity=\"1\" /><path clip-path=\"url(#clip460)\" d=\"M165.327 549.9 L170.211 549.9 L170.211 555.779 L165.327 555.779 L165.327 549.9 Z\" fill=\"#000000\" fill-rule=\"evenodd\" fill-opacity=\"1\" /><path clip-path=\"url(#clip460)\" d=\"M190.396 524.298 Q186.785 524.298 184.956 527.863 Q183.151 531.404 183.151 538.534 Q183.151 545.64 184.956 549.205 Q186.785 552.747 190.396 552.747 Q194.03 552.747 195.836 549.205 Q197.664 545.64 197.664 538.534 Q197.664 531.404 195.836 527.863 Q194.03 524.298 190.396 524.298 M190.396 520.594 Q196.206 520.594 199.262 525.201 Q202.34 529.784 202.34 538.534 Q202.34 547.261 199.262 551.867 Q196.206 556.451 190.396 556.451 Q184.586 556.451 181.507 551.867 Q178.452 547.261 178.452 538.534 Q178.452 529.784 181.507 525.201 Q184.586 520.594 190.396 520.594 Z\" fill=\"#000000\" fill-rule=\"evenodd\" fill-opacity=\"1\" /><path clip-path=\"url(#clip460)\" d=\"M211.368 551.844 L219.007 551.844 L219.007 525.479 L210.697 527.145 L210.697 522.886 L218.961 521.219 L223.636 521.219 L223.636 551.844 L231.275 551.844 L231.275 555.779 L211.368 555.779 L211.368 551.844 Z\" fill=\"#000000\" fill-rule=\"evenodd\" fill-opacity=\"1\" /><path clip-path=\"url(#clip460)\" d=\"M250.72 524.298 Q247.109 524.298 245.28 527.863 Q243.474 531.404 243.474 538.534 Q243.474 545.64 245.28 549.205 Q247.109 552.747 250.72 552.747 Q254.354 552.747 256.159 549.205 Q257.988 545.64 257.988 538.534 Q257.988 531.404 256.159 527.863 Q254.354 524.298 250.72 524.298 M250.72 520.594 Q256.53 520.594 259.585 525.201 Q262.664 529.784 262.664 538.534 Q262.664 547.261 259.585 551.867 Q256.53 556.451 250.72 556.451 Q244.909 556.451 241.831 551.867 Q238.775 547.261 238.775 538.534 Q238.775 529.784 241.831 525.201 Q244.909 520.594 250.72 520.594 Z\" fill=\"#000000\" fill-rule=\"evenodd\" fill-opacity=\"1\" /><path clip-path=\"url(#clip460)\" d=\"M146.16 306.223 Q142.549 306.223 140.72 309.788 Q138.915 313.329 138.915 320.459 Q138.915 327.565 140.72 331.13 Q142.549 334.672 146.16 334.672 Q149.794 334.672 151.6 331.13 Q153.429 327.565 153.429 320.459 Q153.429 313.329 151.6 309.788 Q149.794 306.223 146.16 306.223 M146.16 302.519 Q151.97 302.519 155.026 307.126 Q158.104 311.709 158.104 320.459 Q158.104 329.186 155.026 333.792 Q151.97 338.375 146.16 338.375 Q140.35 338.375 137.271 333.792 Q134.216 329.186 134.216 320.459 Q134.216 311.709 137.271 307.126 Q140.35 302.519 146.16 302.519 Z\" fill=\"#000000\" fill-rule=\"evenodd\" fill-opacity=\"1\" /><path clip-path=\"url(#clip460)\" d=\"M166.322 331.824 L171.206 331.824 L171.206 337.704 L166.322 337.704 L166.322 331.824 Z\" fill=\"#000000\" fill-rule=\"evenodd\" fill-opacity=\"1\" /><path clip-path=\"url(#clip460)\" d=\"M191.391 306.223 Q187.78 306.223 185.951 309.788 Q184.146 313.329 184.146 320.459 Q184.146 327.565 185.951 331.13 Q187.78 334.672 191.391 334.672 Q195.026 334.672 196.831 331.13 Q198.66 327.565 198.66 320.459 Q198.66 313.329 196.831 309.788 Q195.026 306.223 191.391 306.223 M191.391 302.519 Q197.201 302.519 200.257 307.126 Q203.336 311.709 203.336 320.459 Q203.336 329.186 200.257 333.792 Q197.201 338.375 191.391 338.375 Q185.581 338.375 182.502 333.792 Q179.447 329.186 179.447 320.459 Q179.447 311.709 182.502 307.126 Q185.581 302.519 191.391 302.519 Z\" fill=\"#000000\" fill-rule=\"evenodd\" fill-opacity=\"1\" /><path clip-path=\"url(#clip460)\" d=\"M212.363 333.769 L220.002 333.769 L220.002 307.403 L211.692 309.07 L211.692 304.811 L219.956 303.144 L224.632 303.144 L224.632 333.769 L232.271 333.769 L232.271 337.704 L212.363 337.704 L212.363 333.769 Z\" fill=\"#000000\" fill-rule=\"evenodd\" fill-opacity=\"1\" /><path clip-path=\"url(#clip460)\" d=\"M241.761 303.144 L260.118 303.144 L260.118 307.079 L246.044 307.079 L246.044 315.551 Q247.062 315.204 248.081 315.042 Q249.099 314.857 250.118 314.857 Q255.905 314.857 259.284 318.028 Q262.664 321.2 262.664 326.616 Q262.664 332.195 259.192 335.297 Q255.72 338.375 249.4 338.375 Q247.224 338.375 244.956 338.005 Q242.71 337.635 240.303 336.894 L240.303 332.195 Q242.386 333.329 244.609 333.885 Q246.831 334.44 249.308 334.44 Q253.312 334.44 255.65 332.334 Q257.988 330.227 257.988 326.616 Q257.988 323.005 255.65 320.899 Q253.312 318.792 249.308 318.792 Q247.433 318.792 245.558 319.209 Q243.706 319.625 241.761 320.505 L241.761 303.144 Z\" fill=\"#000000\" fill-rule=\"evenodd\" fill-opacity=\"1\" /><path clip-path=\"url(#clip460)\" d=\"M18.9793 812.809 Q23.6814 812.809 28.2224 815.192 Q32.7634 817.543 35.5654 821.246 Q38.3351 824.95 38.3351 828.718 Q38.3351 830.973 37.1112 832.486 Q35.8552 833.968 34.0839 834.773 Q36.2739 835.385 41.5234 836.705 Q46.773 838.026 47.2883 838.026 Q47.5781 838.026 47.707 837.961 Q47.8358 837.897 47.9968 837.607 Q48.1901 837.317 48.2545 836.609 Q48.3511 835.9 48.3511 834.709 Q48.3511 834.097 48.3511 833.871 Q48.3833 833.614 48.5443 833.388 Q48.7053 833.13 49.0596 833.13 Q50.3801 833.13 50.3801 834.322 Q50.3801 835.385 50.2834 837.575 Q50.1868 839.765 50.1868 840.86 Q50.1868 841.794 50.2834 843.662 Q50.3801 845.53 50.3801 846.399 Q50.3801 847.269 49.6071 847.269 Q49.1562 847.269 48.8664 847.14 Q48.6087 847.043 48.4799 846.786 Q48.3833 846.528 48.3511 846.303 Q48.3511 846.109 48.3511 845.723 Q48.3511 844.241 48.0934 843.597 Q47.868 842.953 47.3849 842.728 Q46.934 842.47 45.6458 842.18 L16.274 834.773 Q14.3095 834.322 12.9246 834.322 Q11.1855 834.322 10.5414 834.87 Q9.89728 835.417 9.89728 836.383 Q9.89728 838.058 11.894 839.153 Q13.8908 840.248 17.7555 841.182 Q18.8183 841.472 19.0437 841.665 Q19.2692 841.826 19.2692 842.309 Q19.237 843.114 18.5929 843.114 Q18.4318 843.114 17.4012 842.857 Q16.3385 842.599 14.7926 842.116 Q13.2145 841.601 12.2161 841.053 Q11.5398 840.731 11.0889 840.441 Q10.638 840.151 9.92949 839.572 Q9.22096 838.96 8.83449 838.09 Q8.44802 837.221 8.44802 836.158 Q8.44802 834.097 9.67184 832.39 Q10.8957 830.683 13.3755 830.232 Q11.2177 828.396 9.83287 826.142 Q8.44802 823.887 8.44802 821.601 Q8.44802 817.8 11.411 815.321 Q14.3417 812.809 18.9793 812.809 M16.0808 817.575 Q13.1501 817.575 11.5398 818.702 Q9.89728 819.797 9.89728 821.794 Q9.89728 824.274 12.4093 827.14 Q14.7926 829.974 17.0148 830.554 L29.9293 833.807 L30.9921 834 Q31.1854 834 31.7651 833.903 Q32.3126 833.775 33.2143 833.42 Q34.1161 833.034 34.9212 832.519 Q35.6942 831.971 36.2739 831.005 Q36.8536 830.006 36.8536 828.783 Q36.8536 826.818 35.1145 824.693 Q33.3754 822.535 30.0904 820.924 Q27.9648 819.926 23.3915 818.767 Q18.7861 817.575 16.0808 817.575 Z\" fill=\"#000000\" fill-rule=\"evenodd\" fill-opacity=\"1\" /><path clip-path=\"url(#clip460)\" d=\"M21.1049 805.709 Q9.9617 805.709 0.97626 801.555 Q-2.79183 799.784 -5.948 797.304 Q-9.10417 794.824 -10.489 793.181 Q-11.8739 791.539 -11.8739 791.088 Q-11.8739 790.444 -11.2298 790.412 Q-10.9077 790.412 -10.1026 791.281 Q0.718613 801.909 21.1049 801.877 Q41.5556 801.877 51.9581 791.539 Q53.0853 790.412 53.4396 790.412 Q54.0837 790.412 54.0837 791.088 Q54.0837 791.539 52.7633 793.117 Q51.4428 794.695 48.4155 797.143 Q45.3881 799.59 41.6845 801.362 Q32.699 805.709 21.1049 805.709 Z\" fill=\"#000000\" fill-rule=\"evenodd\" fill-opacity=\"1\" /><path clip-path=\"url(#clip460)\" d=\"M12.7314 753.528 Q14.4383 753.528 15.5333 754.656 Q16.6283 755.751 16.6283 757.168 Q16.6283 758.391 15.9198 759.036 Q15.2113 759.68 14.3095 759.68 Q13.0213 759.68 11.9585 758.681 Q10.8957 757.683 10.6702 756.234 Q9.89728 757.296 9.89728 759.003 Q9.89728 761.805 12.0551 764.285 Q13.0535 765.38 14.8892 766.572 Q16.6927 767.763 17.4657 767.989 L26.0646 770.082 Q27.0308 770.275 31.6684 771.467 Q36.2739 772.626 36.4671 772.723 Q37.3689 773.045 37.852 773.754 Q38.3351 774.462 38.3351 775.171 Q38.3351 775.976 37.852 776.523 Q37.3689 777.071 36.5315 777.071 Q36.4027 777.071 35.9196 776.974 Q35.4365 776.878 34.7602 776.717 Q34.0839 776.556 33.6974 776.491 L18.464 772.659 Q15.6943 771.95 14.8248 771.789 Q13.923 771.596 12.9246 771.596 Q11.1855 771.596 10.5414 772.143 Q9.89728 772.691 9.89728 773.657 Q9.89728 775.332 11.894 776.427 Q13.8908 777.522 17.7555 778.456 Q18.8183 778.746 19.0437 778.939 Q19.2692 779.1 19.2692 779.583 Q19.237 780.388 18.5929 780.388 Q18.4318 780.388 17.4012 780.13 Q16.3385 779.873 14.7926 779.39 Q13.2145 778.874 12.2161 778.327 Q11.5398 778.005 11.0889 777.715 Q10.638 777.425 9.92949 776.845 Q9.22096 776.266 8.83449 775.396 Q8.44802 774.527 8.44802 773.464 Q8.44802 771.145 9.86508 769.503 Q11.2821 767.828 13.5043 767.441 Q12.3449 766.636 11.3465 765.638 Q10.316 764.639 9.38199 762.804 Q8.44802 760.968 8.44802 759.003 Q8.44802 756.556 9.70405 755.042 Q10.9279 753.528 12.7314 753.528 Z\" fill=\"#000000\" fill-rule=\"evenodd\" fill-opacity=\"1\" /><path clip-path=\"url(#clip460)\" d=\"M53.4396 750.953 Q53.1175 750.953 52.3124 750.115 Q41.4912 739.488 21.1049 739.488 Q0.654201 739.488 -9.68388 749.697 Q-10.8755 750.953 -11.2298 750.953 Q-11.8739 750.953 -11.8739 750.309 Q-11.8739 749.858 -10.5534 748.28 Q-9.233 746.669 -6.20565 744.254 Q-3.1783 741.806 0.525378 740.003 Q9.51081 735.655 21.1049 735.655 Q32.2482 735.655 41.2336 739.81 Q45.0017 741.581 48.1578 744.061 Q51.314 746.541 52.6989 748.183 Q54.0837 749.826 54.0837 750.309 Q54.0837 750.953 53.4396 750.953 Z\" fill=\"#000000\" fill-rule=\"evenodd\" fill-opacity=\"1\" /><path clip-path=\"url(#clip460)\" d=\"M1311.77 12.096 L1362.94 12.096 L1362.94 18.9825 L1341.47 18.9825 L1341.47 72.576 L1333.24 72.576 L1333.24 18.9825 L1311.77 18.9825 L1311.77 12.096 Z\" fill=\"#000000\" fill-rule=\"evenodd\" fill-opacity=\"1\" /><path clip-path=\"url(#clip460)\" d=\"M1408.23 45.1919 L1408.23 72.576 L1400.77 72.576 L1400.77 45.4349 Q1400.77 38.994 1398.26 35.7938 Q1395.75 32.5936 1390.73 32.5936 Q1384.69 32.5936 1381.21 36.4419 Q1377.72 40.2903 1377.72 46.9338 L1377.72 72.576 L1370.23 72.576 L1370.23 9.54393 L1377.72 9.54393 L1377.72 34.2544 Q1380.4 30.163 1384 28.1376 Q1387.65 26.1121 1392.39 26.1121 Q1400.2 26.1121 1404.21 30.9732 Q1408.23 35.7938 1408.23 45.1919 Z\" fill=\"#000000\" fill-rule=\"evenodd\" fill-opacity=\"1\" /><path clip-path=\"url(#clip460)\" d=\"M1461.9 48.0275 L1461.9 51.6733 L1427.63 51.6733 Q1428.11 59.3701 1432.25 63.421 Q1436.42 67.4314 1443.83 67.4314 Q1448.13 67.4314 1452.14 66.3781 Q1456.19 65.3249 1460.16 63.2184 L1460.16 70.267 Q1456.15 71.9684 1451.93 72.8596 Q1447.72 73.7508 1443.39 73.7508 Q1432.53 73.7508 1426.17 67.4314 Q1419.85 61.1119 1419.85 50.3365 Q1419.85 39.1965 1425.85 32.6746 Q1431.88 26.1121 1442.09 26.1121 Q1451.25 26.1121 1456.55 32.0264 Q1461.9 37.9003 1461.9 48.0275 M1454.45 45.84 Q1454.36 39.7232 1451 36.0774 Q1447.68 32.4315 1442.17 32.4315 Q1435.93 32.4315 1432.17 35.9558 Q1428.44 39.4801 1427.87 45.8805 L1454.45 45.84 Z\" fill=\"#000000\" fill-rule=\"evenodd\" fill-opacity=\"1\" /><path clip-path=\"url(#clip460)\" d=\"M1526.79 34.1734 Q1525.54 33.4443 1524.04 33.1202 Q1522.58 32.7556 1520.8 32.7556 Q1514.48 32.7556 1511.08 36.8875 Q1507.72 40.9789 1507.72 48.6757 L1507.72 72.576 L1500.22 72.576 L1500.22 27.2059 L1507.72 27.2059 L1507.72 34.2544 Q1510.06 30.1225 1513.83 28.1376 Q1517.6 26.1121 1522.99 26.1121 Q1523.76 26.1121 1524.69 26.2337 Q1525.62 26.3147 1526.75 26.5172 L1526.79 34.1734 Z\" fill=\"#000000\" fill-rule=\"evenodd\" fill-opacity=\"1\" /><path clip-path=\"url(#clip460)\" d=\"M1555.23 49.7694 Q1546.2 49.7694 1542.72 51.8354 Q1539.23 53.9013 1539.23 58.8839 Q1539.23 62.8538 1541.82 65.2034 Q1544.46 67.5124 1548.95 67.5124 Q1555.15 67.5124 1558.88 63.1374 Q1562.65 58.7219 1562.65 51.4303 L1562.65 49.7694 L1555.23 49.7694 M1570.1 46.6907 L1570.1 72.576 L1562.65 72.576 L1562.65 65.6895 Q1560.09 69.8214 1556.29 71.8063 Q1552.48 73.7508 1546.97 73.7508 Q1540 73.7508 1535.87 69.8619 Q1531.78 65.9325 1531.78 59.3701 Q1531.78 51.7138 1536.88 47.825 Q1542.03 43.9361 1552.19 43.9361 L1562.65 43.9361 L1562.65 43.2069 Q1562.65 38.0623 1559.24 35.2672 Q1555.88 32.4315 1549.76 32.4315 Q1545.87 32.4315 1542.19 33.3632 Q1538.5 34.295 1535.1 36.1584 L1535.1 29.2718 Q1539.19 27.692 1543.04 26.9223 Q1546.89 26.1121 1550.53 26.1121 Q1560.38 26.1121 1565.24 31.2163 Q1570.1 36.3204 1570.1 46.6907 Z\" fill=\"#000000\" fill-rule=\"evenodd\" fill-opacity=\"1\" /><path clip-path=\"url(#clip460)\" d=\"M1615.31 34.0924 L1615.31 9.54393 L1622.76 9.54393 L1622.76 72.576 L1615.31 72.576 L1615.31 65.7705 Q1612.96 69.8214 1609.35 71.8063 Q1605.79 73.7508 1600.76 73.7508 Q1592.54 73.7508 1587.36 67.1883 Q1582.21 60.6258 1582.21 49.9314 Q1582.21 39.2371 1587.36 32.6746 Q1592.54 26.1121 1600.76 26.1121 Q1605.79 26.1121 1609.35 28.0971 Q1612.96 30.0415 1615.31 34.0924 M1589.91 49.9314 Q1589.91 58.1548 1593.27 62.8538 Q1596.67 67.5124 1602.59 67.5124 Q1608.5 67.5124 1611.9 62.8538 Q1615.31 58.1548 1615.31 49.9314 Q1615.31 41.7081 1611.9 37.0496 Q1608.5 32.3505 1602.59 32.3505 Q1596.67 32.3505 1593.27 37.0496 Q1589.91 41.7081 1589.91 49.9314 Z\" fill=\"#000000\" fill-rule=\"evenodd\" fill-opacity=\"1\" /><path clip-path=\"url(#clip460)\" d=\"M1638.11 27.2059 L1645.57 27.2059 L1645.57 72.576 L1638.11 72.576 L1638.11 27.2059 M1638.11 9.54393 L1645.57 9.54393 L1645.57 18.9825 L1638.11 18.9825 L1638.11 9.54393 Z\" fill=\"#000000\" fill-rule=\"evenodd\" fill-opacity=\"1\" /><path clip-path=\"url(#clip460)\" d=\"M1661.16 27.2059 L1668.62 27.2059 L1668.62 72.576 L1661.16 72.576 L1661.16 27.2059 M1661.16 9.54393 L1668.62 9.54393 L1668.62 18.9825 L1661.16 18.9825 L1661.16 9.54393 Z\" fill=\"#000000\" fill-rule=\"evenodd\" fill-opacity=\"1\" /><path clip-path=\"url(#clip460)\" d=\"M1717.8 65.7705 L1717.8 89.8329 L1710.3 89.8329 L1710.3 27.2059 L1717.8 27.2059 L1717.8 34.0924 Q1720.14 30.0415 1723.71 28.0971 Q1727.31 26.1121 1732.3 26.1121 Q1740.56 26.1121 1745.71 32.6746 Q1750.89 39.2371 1750.89 49.9314 Q1750.89 60.6258 1745.71 67.1883 Q1740.56 73.7508 1732.3 73.7508 Q1727.31 73.7508 1723.71 71.8063 Q1720.14 69.8214 1717.8 65.7705 M1743.15 49.9314 Q1743.15 41.7081 1739.75 37.0496 Q1736.39 32.3505 1730.47 32.3505 Q1724.56 32.3505 1721.16 37.0496 Q1717.8 41.7081 1717.8 49.9314 Q1717.8 58.1548 1721.16 62.8538 Q1724.56 67.5124 1730.47 67.5124 Q1736.39 67.5124 1739.75 62.8538 Q1743.15 58.1548 1743.15 49.9314 Z\" fill=\"#000000\" fill-rule=\"evenodd\" fill-opacity=\"1\" /><path clip-path=\"url(#clip460)\" d=\"M1780.83 32.4315 Q1774.83 32.4315 1771.35 37.1306 Q1767.86 41.7891 1767.86 49.9314 Q1767.86 58.0738 1771.31 62.7728 Q1774.79 67.4314 1780.83 67.4314 Q1786.78 67.4314 1790.27 62.7323 Q1793.75 58.0333 1793.75 49.9314 Q1793.75 41.8701 1790.27 37.1711 Q1786.78 32.4315 1780.83 32.4315 M1780.83 26.1121 Q1790.55 26.1121 1796.1 32.4315 Q1801.65 38.7509 1801.65 49.9314 Q1801.65 61.0714 1796.1 67.4314 Q1790.55 73.7508 1780.83 73.7508 Q1771.06 73.7508 1765.51 67.4314 Q1760.01 61.0714 1760.01 49.9314 Q1760.01 38.7509 1765.51 32.4315 Q1771.06 26.1121 1780.83 26.1121 Z\" fill=\"#000000\" fill-rule=\"evenodd\" fill-opacity=\"1\" /><path clip-path=\"url(#clip460)\" d=\"M1814 9.54393 L1821.46 9.54393 L1821.46 72.576 L1814 72.576 L1814 9.54393 Z\" fill=\"#000000\" fill-rule=\"evenodd\" fill-opacity=\"1\" /><path clip-path=\"url(#clip460)\" d=\"M1855.93 76.7889 Q1852.77 84.8907 1849.77 87.3618 Q1846.78 89.8329 1841.75 89.8329 L1835.8 89.8329 L1835.8 83.5945 L1840.17 83.5945 Q1843.25 83.5945 1844.95 82.1361 Q1846.65 80.6778 1848.72 75.2496 L1850.06 71.8468 L1831.71 27.2059 L1839.61 27.2059 L1853.78 62.6918 L1867.96 27.2059 L1875.86 27.2059 L1855.93 76.7889 Z\" fill=\"#000000\" fill-rule=\"evenodd\" fill-opacity=\"1\" /><path clip-path=\"url(#clip460)\" d=\"M1923.86 45.1919 L1923.86 72.576 L1916.41 72.576 L1916.41 45.4349 Q1916.41 38.994 1913.9 35.7938 Q1911.39 32.5936 1906.36 32.5936 Q1900.33 32.5936 1896.85 36.4419 Q1893.36 40.2903 1893.36 46.9338 L1893.36 72.576 L1885.87 72.576 L1885.87 27.2059 L1893.36 27.2059 L1893.36 34.2544 Q1896.03 30.163 1899.64 28.1376 Q1903.29 26.1121 1908.03 26.1121 Q1915.84 26.1121 1919.85 30.9732 Q1923.86 35.7938 1923.86 45.1919 Z\" fill=\"#000000\" fill-rule=\"evenodd\" fill-opacity=\"1\" /><path clip-path=\"url(#clip460)\" d=\"M1956.31 32.4315 Q1950.32 32.4315 1946.83 37.1306 Q1943.35 41.7891 1943.35 49.9314 Q1943.35 58.0738 1946.79 62.7728 Q1950.28 67.4314 1956.31 67.4314 Q1962.27 67.4314 1965.75 62.7323 Q1969.23 58.0333 1969.23 49.9314 Q1969.23 41.8701 1965.75 37.1711 Q1962.27 32.4315 1956.31 32.4315 M1956.31 26.1121 Q1966.03 26.1121 1971.58 32.4315 Q1977.13 38.7509 1977.13 49.9314 Q1977.13 61.0714 1971.58 67.4314 Q1966.03 73.7508 1956.31 73.7508 Q1946.55 73.7508 1941 67.4314 Q1935.49 61.0714 1935.49 49.9314 Q1935.49 38.7509 1941 32.4315 Q1946.55 26.1121 1956.31 26.1121 Z\" fill=\"#000000\" fill-rule=\"evenodd\" fill-opacity=\"1\" /><path clip-path=\"url(#clip460)\" d=\"M2024.81 35.9153 Q2027.61 30.8922 2031.5 28.5022 Q2035.39 26.1121 2040.65 26.1121 Q2047.74 26.1121 2051.59 31.0947 Q2055.44 36.0368 2055.44 45.1919 L2055.44 72.576 L2047.94 72.576 L2047.94 45.4349 Q2047.94 38.913 2045.63 35.7533 Q2043.33 32.5936 2038.59 32.5936 Q2032.79 32.5936 2029.43 36.4419 Q2026.07 40.2903 2026.07 46.9338 L2026.07 72.576 L2018.57 72.576 L2018.57 45.4349 Q2018.57 38.8725 2016.27 35.7533 Q2013.96 32.5936 2009.14 32.5936 Q2003.42 32.5936 2000.06 36.4824 Q1996.7 40.3308 1996.7 46.9338 L1996.7 72.576 L1989.21 72.576 L1989.21 27.2059 L1996.7 27.2059 L1996.7 34.2544 Q1999.25 30.082 2002.82 28.0971 Q2006.38 26.1121 2011.28 26.1121 Q2016.23 26.1121 2019.67 28.6237 Q2023.15 31.1352 2024.81 35.9153 Z\" fill=\"#000000\" fill-rule=\"evenodd\" fill-opacity=\"1\" /><path clip-path=\"url(#clip460)\" d=\"M2070.3 27.2059 L2077.76 27.2059 L2077.76 72.576 L2070.3 72.576 L2070.3 27.2059 M2070.3 9.54393 L2077.76 9.54393 L2077.76 18.9825 L2070.3 18.9825 L2070.3 9.54393 Z\" fill=\"#000000\" fill-rule=\"evenodd\" fill-opacity=\"1\" /><path clip-path=\"url(#clip460)\" d=\"M2113.97 49.7694 Q2104.94 49.7694 2101.46 51.8354 Q2097.97 53.9013 2097.97 58.8839 Q2097.97 62.8538 2100.57 65.2034 Q2103.2 67.5124 2107.69 67.5124 Q2113.89 67.5124 2117.62 63.1374 Q2121.39 58.7219 2121.39 51.4303 L2121.39 49.7694 L2113.97 49.7694 M2128.84 46.6907 L2128.84 72.576 L2121.39 72.576 L2121.39 65.6895 Q2118.83 69.8214 2115.03 71.8063 Q2111.22 73.7508 2105.71 73.7508 Q2098.74 73.7508 2094.61 69.8619 Q2090.52 65.9325 2090.52 59.3701 Q2090.52 51.7138 2095.62 47.825 Q2100.77 43.9361 2110.94 43.9361 L2121.39 43.9361 L2121.39 43.2069 Q2121.39 38.0623 2117.98 35.2672 Q2114.62 32.4315 2108.5 32.4315 Q2104.62 32.4315 2100.93 33.3632 Q2097.24 34.295 2093.84 36.1584 L2093.84 29.2718 Q2097.93 27.692 2101.78 26.9223 Q2105.63 26.1121 2109.27 26.1121 Q2119.12 26.1121 2123.98 31.2163 Q2128.84 36.3204 2128.84 46.6907 Z\" fill=\"#000000\" fill-rule=\"evenodd\" fill-opacity=\"1\" /><path clip-path=\"url(#clip460)\" d=\"M2144.19 9.54393 L2151.65 9.54393 L2151.65 72.576 L2144.19 72.576 L2144.19 9.54393 Z\" fill=\"#000000\" fill-rule=\"evenodd\" fill-opacity=\"1\" /><polyline clip-path=\"url(#clip462)\" style=\"stroke:#009af9; stroke-linecap:butt; stroke-linejoin:round; stroke-width:8; stroke-opacity:1; fill:none\" points=\"\n",
       "  391.101,974.65 403.102,986.288 415.103,997.775 526.071,1096.84 637.039,1182.97 703.726,1228.49 770.413,1269.32 826.796,1300.18 883.179,1327.67 1005.67,1375.78 \n",
       "  1118.6,1406 1179.14,1416.61 1239.68,1423.31 1309.81,1426.17 1379.95,1423.76 1504.61,1406.44 1613.93,1377.5 1733.11,1331.25 1853,1269.22 1919.28,1228.23 \n",
       "  1985.56,1182.47 2048.62,1134.49 2111.68,1082.18 2242.82,959.476 2353.21,841.584 2420.6,763.04 2487.99,679.501 2551.33,596.408 2614.68,508.887 2716.16,359.425 \n",
       "  2817.65,198.551 2833.27,172.779 2848.88,146.735 \n",
       "  \"/>\n",
       "<polyline clip-path=\"url(#clip462)\" style=\"stroke:#e26f46; stroke-linecap:butt; stroke-linejoin:round; stroke-width:4; stroke-opacity:1; fill:none\" stroke-dasharray=\"16, 10\" points=\"\n",
       "  391.101,974.65 417.285,974.65 659.397,974.65 804.896,974.65 927.913,974.65 1061.54,974.65 1184.74,974.65 1316.82,974.65 1469.85,974.65 1605.84,974.65 \n",
       "  1725.09,974.65 1855.11,974.65 1985.9,974.65 2130.51,974.65 2268.1,974.65 2411.16,974.65 2531.58,974.65 2678.61,974.65 2816.82,974.65 3038.24,974.65 \n",
       "  3072.32,974.65 \n",
       "  \"/>\n",
       "</svg>\n"
      ]
     },
     "execution_count": 16,
     "metadata": {},
     "output_type": "execute_result"
    }
   ],
   "source": [
    "using Plots\n",
    "plot(p_func,0,0.055,\n",
    "    line       = 2,\n",
    "    size       = (800,400),\n",
    "    legend     = false,\n",
    "    title=\"The radii polynomial\",\n",
    "    xlabel     = \"\\$r\\$\",\n",
    "    ylabel     = \"\\$p\\\\,(r)\\$\", \n",
    ")\n",
    "fzero(x) = 0\n",
    "plot!(fzero,0,0.06,linestyle=:dash)\n",
    "# savefig(\"radii-poly.pdf\")"
   ]
  },
  {
   "cell_type": "markdown",
   "metadata": {},
   "source": [
    "\n",
    "### 参考文献\n",
    "\n",
    "1. 大石進一編著, 精度保証付き数値計算の基礎, コロナ社, 2018.<br>\n",
    "(この本の6章にNewton-Kantorovichの定理とそれを使った精度保証方法が載っている)\n",
    "1. J.-L. Figueras, M. Gameiro, J.-P. Lessard, and R. de la Llave. A framework for the numerical computation and a posteriori verification of invariant objects of evolution equations. SIAM Journal on Applied Dynamical Systems, 16(2):1070–1088, 2017.<br>\n",
    "(Newton-Kantorovich型定理を使ったフレームワークの紹介と応用例のサーベイ)\n",
    "1. J.-P. Lessard, J. B. van den Berg, Rigorous Numerics in Dynamics, Proceedings of Symposia in Applied Mathematics 74, American Mathematical Society, 2018.<br>\n",
    "(力学系におけるNewton-Kantorovich型定理を使った精度保証付き数値計算の簡単な実践例をいくつか紹介している)\n"
   ]
  },
  {
   "cell_type": "markdown",
   "metadata": {},
   "source": [
    "<div align=\"right\">大谷俊輔, <a href=\"http://www.risk.tsukuba.ac.jp/~takitoshi/\">高安亮紀</a>，2021年2月4日, 2022年2月21日（修正）</div>"
   ]
  }
 ],
 "metadata": {
  "kernelspec": {
   "display_name": "Julia 1.6.3",
   "language": "julia",
   "name": "julia-1.6"
  },
  "language_info": {
   "file_extension": ".jl",
   "mimetype": "application/julia",
   "name": "julia",
   "version": "1.6.3"
  }
 },
 "nbformat": 4,
 "nbformat_minor": 4
}
