{
 "cells": [
  {
   "cell_type": "markdown",
   "metadata": {},
   "source": [
    "# Newton-Kantorovich 型定理を利用した有限次元非線形方程式の精度保証付き数値解法\n",
    "\n",
    "まず、Newton-Kantorovich 型定理について説明する。\n",
    "\n",
    "**定理** 　有界線型作用素 $A^{\\dagger} \\in \\mathcal{L}(X, Y), A \\in \\mathcal{L}(Y, X)$ を考え、作用素 $F: X \\rightarrow Y$ が $C^{1}$ -Fréchet微分可能とする。また $A$ が単射で $AF : X \\rightarrow X$ とする。今、$\\bar{x} \\in X$に対して、\n",
    "\n",
    "$$\n",
    "\\begin{aligned}\n",
    "\\|A F(\\bar{x})\\|_{X} & \\leq Y_{0} \\\\\n",
    "\\left\\|I-A A^{\\dagger}\\right\\|_{\\mathcal{L}(X)} & \\leq Z_{0} \\\\\n",
    "\\left\\|A\\left(D F(\\bar{x})-A^{\\dagger}\\right)\\right\\|_{\\mathcal{L}(X)} & \\leq Z_{1} \\\\\n",
    "\\|A(D F(b)-D F(\\bar{x}))\\|_{\\mathcal{L}(X)} & \\leq Z_{2}(r) r, \\quad \\text { for all } b \\in \\overline{B(\\bar{x}, r)}\n",
    "\\end{aligned}\n",
    "$$\n",
    "\n",
    "が成り立つとする。このとき、radii polynomialを以下で定義する。\n",
    "\n",
    "$$\n",
    "p(r) := Z_{2}(r)r^2-(1-Z_1-Z_0)r+Y_0\n",
    "$$\n",
    "\n",
    "これに対し、 $p(r_0)<0$ となる $r_0>0$ が存在すれば、 $F(\\tilde{x})=0$ をみたす解 $\\tilde{x}$ が $b \\in \\overline{B(\\bar{x}, r)}$ 内に一意存在する。\n",
    "\n",
    "ここで、 $DF(\\bar{x})$ を $F$ の$\\bar{x}$ におけるFréchet微分、 $A^{\\dagger}$ を $DF(\\bar{x})$の近似、 $A$を $A^{\\dagger}$ の近似左逆作用素とする。（ $AA^{\\dagger} \\approx I$ とするのが一般的である。） \n",
    "\n",
    "この定理を考えるにあたり、簡易ニュートン写像、有界線形作用素、Fréchet微分を用いている。以下では、これらの定義を説明する。"
   ]
  },
  {
   "cell_type": "markdown",
   "metadata": {},
   "source": [
    "## 簡易ニュートン写像\n",
    "\n",
    "**定義**　 $X,Y$ をBanach空間とし、写像 $F:X\\rightarrow Y$ に対して、\n",
    "\n",
    "$$\n",
    "F(x)=0 \\quad \\text{in}  Y\n",
    "$$\n",
    "\n",
    "という（非線形）作用素方程式を考える。\n",
    "このとき写像 $T:X\\rightarrow X$ を\n",
    "\n",
    "$$\n",
    "T(x):=x-AF(x)\n",
    "$$\n",
    "\n",
    "と定義したとき、これを簡易ニュートン写像という。\n",
    "\n",
    "### Banach空間\n",
    "\n",
    "**定義** Banach空間とは、完備なノルム空間のことをいう。"
   ]
  },
  {
   "cell_type": "markdown",
   "metadata": {},
   "source": [
    "## 有界線形作用素\n",
    "\n",
    "Banach空間 $X$ から $Y$への有界線形作用素全体を\n",
    "\n",
    "$$\n",
    " \\mathcal{L}(X, Y):=\\{E:X\\rightarrow Y:E\\text{が線形},\\|E\\|_{ \\mathcal{L}(X, Y)}<\\infty \\}\n",
    "$$\n",
    "\n",
    "とする。ここで $\\|\\cdot\\|_{ \\mathcal{L}(X, Y)}$ は作用素ノルム\n",
    "\n",
    "$$\n",
    "\\|E\\|_{\\mathcal{L}(X, Y)}:=\\sup _{\\|x\\|_{X}=1}\\|E x\\|_{Y}\n",
    "$$\n",
    "\n",
    "を表す。そして空間 $\\left\\langle\\mathcal{L}(X, Y),\\|\\cdot\\|_{\\mathcal{L}(X, Y)}\\right\\rangle$ はBanach空間となる。"
   ]
  },
  {
   "cell_type": "markdown",
   "metadata": {},
   "source": [
    "## Fréchet微分\n",
    "\n",
    "**定義**  作用素 $F:X\\rightarrow Y$が $x_0 \\in X$ でFréchet微分可能であるとは、ある有界線形作用素 $E:X \\rightarrow Y$ が存在して、\n",
    "\n",
    "$$\n",
    "\\lim _{\\|h\\|_{X} \\rightarrow 0} \\frac{\\left\\|F\\left(x_{0}+h\\right) F\\left(x_{0}\\right)-E h\\right\\|_{Y}}{\\|h\\|_{X}}=0\n",
    "$$\n",
    "\n",
    "が成り立つことをいう。このとき、 $E$ は作用素 $F$ の $x_0$ におけるFréchet微分といい、 $E=DF(x_0)$ とかく。　もしも作用素 $F:X\\rightarrow Y$ がすべての $x\\in X$ に対してFréchet微分可能ならば、 $F$ は $X$ において $C^1$ -Fréchet微分可能という。"
   ]
  },
  {
   "cell_type": "markdown",
   "metadata": {},
   "source": [
    "### Root finding\n",
    "\n",
    "関数 $x^2-2=0$の解 $\\tilde{x}=\\pm \\sqrt{2}$ を求めることを考える。"
   ]
  },
  {
   "cell_type": "code",
   "execution_count": 2,
   "metadata": {
    "scrolled": true
   },
   "outputs": [
    {
     "name": "stdout",
     "output_type": "stream",
     "text": [
      "1.4142135623730951\n"
     ]
    }
   ],
   "source": [
    "F(x) = x^2-2\n",
    "Df(x) = 2*x\n",
    "\n",
    "count =0\n",
    "tol = 1e-12\n",
    "x_0 =1.0\n",
    "x = x_0\n",
    "Fx = F(x)\n",
    "DF = Df(x)\n",
    "\n",
    "#ニュートン法を計算する\n",
    "while count ≤10\n",
    "    dx = -F(x)/Df(x) \n",
    "    x = x + dx\n",
    "    count += 1\n",
    "end\n",
    "println(x)"
   ]
  },
  {
   "cell_type": "markdown",
   "metadata": {},
   "source": [
    "上記のソースコードで、 $f(\\bar{x}) \\approx 0$ となる近似解が得られる。この $\\bar{x}$ について $Df(\\bar{x})=2\\bar{x}$ より、 $A^{\\dagger}=Df(\\bar{x}),A=Df(\\bar{x})^{-1}=1/(2\\bar{x})$とすると、 \n",
    "\n",
    "$$\n",
    "|A f(\\bar{x})|=\\left|\\frac{f(\\bar{x})}{2 \\bar{x}}\\right|=: Y_{0}, \\quad\\left|1-A A^{\\dagger}\\right|=: Z_{0}(=0), \\quad\\left|A\\left(D f(\\bar{x})-A^{\\dagger}\\right)\\right|=: Z_{1}(=0)\n",
    "$$\n",
    "\n",
    "任意の $b \\in \\overline{B(\\bar{x}, r)}$ について\n",
    "\n",
    "$$\n",
    "|A(D f(b)-D f(\\bar{x}))|=\\left|\\frac{1}{2 \\bar{x}}(2 b-2 \\bar{x})\\right|=\\frac{|b-\\bar{x}|}{|\\bar{x}|} \\leq \\frac{r}{|\\bar{x}|}=: Z_{2} r\n",
    "$$\n",
    "\n",
    "よって、Newton-Kantorovich 型定理における $p(r)$ は\n",
    "\n",
    "$$\n",
    "p(r)=:Z_{2}r^2-(1-Z_{1}-Z{0})r+Y_{0}\n",
    "$$\n",
    "\n",
    "で定義される。ここで、 $a=Z_{2},\\quad b=-(1-Z_{1}-Z{0}),\\quad c=Y_{0}$ とすると、 $b^2-4ac<0$ ならばp(r_0)<0を満たすr_0>0は存在しない。逆に、 $b^2-4ac>0$ ならば\n",
    "\n",
    "$$\n",
    "\\frac{-b-\\sqrt{b^{2}-4 a c}}{2 a} \\leq r_{0} \\leq \\frac{-b+\\sqrt{b^{2}-4 a c}}{2 a}\n",
    "$$\n",
    "\n",
    "を満たすr_0で検証が成功する。以下は各boundを計算した結果である。"
   ]
  },
  {
   "cell_type": "code",
   "execution_count": 3,
   "metadata": {},
   "outputs": [
    {
     "data": {
      "text/plain": [
       "(3.9252311467094383e-16, 1.4142135623730943)"
      ]
     },
     "execution_count": 3,
     "metadata": {},
     "output_type": "execute_result"
    }
   ],
   "source": [
    "using IntervalArithmetic\n",
    "ix = map(Interval,x)\n",
    "\n",
    "#Y0 bound 区間演算 ver.\n",
    "Y0 = abs(F(ix))/2/abs(ix)\n",
    "\n",
    "#Z0 bound 区間演算\n",
    "Z0 = abs(1 - (1/ix)*ix)\n",
    "\n",
    "#Z1 bound\n",
    "Z1 = 0\n",
    "\n",
    "#Z2 bound 区間演算\n",
    "Z2 = 1/abs(ix)\n",
    "\n",
    "#p(r)を求める\n",
    "a =Z2\n",
    "b = -(1-Z1-Z0)\n",
    "c = Y0\n",
    "\n",
    "if b^2-4*a*c < 0\n",
    "    println(\"error: connot find root of radii polynomial\")\n",
    "else\n",
    "    r_min = (-b - sqrt(b^2-4*a*c))/2/a\n",
    "    r_max = (-b + sqrt(b^2-4*a*c))/2/a\n",
    "end\n",
    "\n",
    "sup(r_min), inf(r_max)"
   ]
  },
  {
   "cell_type": "markdown",
   "metadata": {},
   "source": [
    "### Logistic map の 3 周期解\n",
    "\n",
    "変数 $x$ に対して\n",
    "\n",
    "$$\n",
    "x \\mapsto \\lambda x(1-x), \\quad \\lambda \\in \\mathbb{R}\n",
    "$$\n",
    "\n",
    "という写像をロジスティック写像という. この写像が $x_{1} \\rightarrow x_{2} \\rightarrow x_{3} \\rightarrow x_{1}$ という値で変化する3周期解を計算する\n",
    "\n",
    "#### 問題1.1.\n",
    "\n",
    "与えられた $\\lambda \\in \\mathbb{R}$ に対して、次をみたす $x=(x_1,x_2,x_3)^T\\in \\mathbb{R}$ を求めよ\n",
    "\n",
    "$$\n",
    "\\left\\{\\begin{array}{l}\n",
    "x_{1}-\\lambda x_{3}\\left(1-x_{3}\\right)=0 \\\\\n",
    "x_{2}-\\lambda x_{1}\\left(1-x_{1}\\right)=0 \\\\\n",
    "x_{3}-\\lambda x_{2}\\left(1-x_{2}\\right)=0\n",
    "\\end{array}\\right.\n",
    "$$\n",
    "\n",
    "写像 $F:\\mathbb{R}^3 \\rightarrow \\mathbb{R}^3$は以下のようにおくことができる\n",
    "\n",
    "$$\n",
    "F(x):=\\left[\\begin{array}{l}\n",
    "x_{1}-\\lambda x_{3}\\left(1-x_{3}\\right) \\\\\n",
    "x_{2}-\\lambda x_{1}\\left(1-x_{1}\\right) \\\\\n",
    "x_{3}-\\lambda x_{2}\\left(1-x_{2}\\right)\n",
    "\\end{array}\\right]\n",
    "$$\n",
    "\n",
    "ある $x\\in \\mathbb{R}^3$におけるJacobi行列は以下ようにおくことができる\n",
    "\n",
    "$$\n",
    "DF(x)=\\left[\\begin{array}{ccc}\n",
    "1 & 0 & -\\lambda\\left(1-2 x_{3}\\right) \\\\\n",
    "-\\lambda\\left(1-2 x_{1}\\right) & 1 & 0 \\\\\n",
    "0 & -\\lambda\\left(1-2 x_{2}\\right) & 1\n",
    "\\end{array}\\right]\n",
    "$$"
   ]
  },
  {
   "cell_type": "markdown",
   "metadata": {},
   "source": [
    "はじめに、パラメータ値 $\\lambda = 3.82843,4$として、初期値を$x_0=(1,-1,1)^T$とすると、次のコードで近似解 $\\bar{x}$ が得られる。"
   ]
  },
  {
   "cell_type": "code",
   "execution_count": 4,
   "metadata": {},
   "outputs": [
    {
     "name": "stdout",
     "output_type": "stream",
     "text": [
      "[0.9562724718522855, 0.16008745214881528, 0.5147686297331594]\n"
     ]
    }
   ],
   "source": [
    "using LinearAlgebra\n",
    "#初期値を設定\n",
    "lam = 3.82843\n",
    "#lam = 4\n",
    "\n",
    "#写像Fを定義する\n",
    "f(x, y, z) = x - lam*z*(1-z) \n",
    "g(x, y, z) = y - lam*x*(1-x)\n",
    "h(x, y, z) = z - lam*y*(1-y)\n",
    "F((x, y, z)) = [f(x, y, z); g(x, y, z); h(x, y, z)]\n",
    "\n",
    "#ヤコビ行列DFを定義\n",
    "Df((x, y, z)) = [1 0 -lam*(1-2*z); -lam*(1-2*x) 1 0; 0 -lam*(1-2*y) 1]\n",
    "\n",
    "#初期値を設定\n",
    "tol = 1e-12\n",
    "p = Inf\n",
    "X0 = [1;-1;1]\n",
    "X = X0\n",
    "\n",
    "count = 0\n",
    "while count ≤100\n",
    "    dx = -Df(X)\\F(X)\n",
    "    X = X+dx\n",
    "    count += 1\n",
    "    if norm(F(X),p) < tol\n",
    "        break\n",
    "    end\n",
    "end\n",
    "println(X)"
   ]
  },
  {
   "cell_type": "markdown",
   "metadata": {},
   "source": [
    "次に、 radii polynomial $p(r)$を計算する。上記の計算によって得られた近似解 $\\bar{x}$ について、$A^{\\dagger}=Df(\\bar{x}), A \\approx Df(\\bar{x})^{-1}$とする。\n",
    "\n",
    "よって、 $Y_0,Z_0,Z_1,Z_2$ boundは以下のようになる。\n",
    "\n",
    "$$\n",
    "\\|A F(\\bar{x})\\| \\leq Y_{0}, \\quad\\left\\|I-A A^{\\dagger}\\right\\|=\\|I-A D F(\\bar{x})\\| \\leq Z_{0}, \\quad\\left\\|A\\left(D F(\\bar{x})-A^{\\dagger}\\right)\\right\\|=Z_{1}(=0)\n",
    "$$\n",
    "\n",
    "また、任意の $b \\in \\overline{B(\\bar{x}, r)}:=\\{b\\mid \\|b-\\bar{x}\\|\\le r\\}$ について,\n",
    "\n",
    "$$\n",
    "\\begin{aligned}\n",
    "\\|A(D F(b)-D F(\\bar{x}))\\| &=\\| A\\left[\\begin{array}{ccc}\n",
    "0 & 0 & 2 \\lambda\\left(x_{3}-\\bar{x}_{3}\\right) \\\\\n",
    "2 \\lambda\\left(x_{2}-\\bar{x}_{2}\\right) & 0 & 0 \\\\\n",
    "0 & 2 \\lambda\\left(x_{1}-\\bar{x}_{1}\\right) & 0\n",
    "\\end{array}\\right] \\\\\n",
    "& \\leq 2|\\lambda|\\|A\\|\\|b-\\bar{x}\\| \\\\\n",
    "& \\leq 2|\\lambda|\\|A\\| r=: Z_{2} r .\n",
    "\\end{aligned}\n",
    "$$\n",
    "\n",
    "よって、radii polynomial $p(r)$は、 $p(r):=Z_{2}r^2-(1-Z_{1}-Z_{0})r+Y_0$ で定義される。Root finding と同様に、 $a=Z_{2},\\quad b=-(1-Z_{1}-Z{0}),\\quad c=Y_{0}$ とすると、もし $b^2-4ac>0$ ならば\n",
    "\n",
    "$$\n",
    "\\frac{-b-\\sqrt{b^{2}-4 a c}}{2 a} \\leq r_{0} \\leq \\frac{-b+\\sqrt{b^{2}-4 a c}}{2 a}\n",
    "$$\n",
    "\n",
    "を満たすr_0で検証が成功する。以下は、これらの検証を行ったソースコードである。"
   ]
  },
  {
   "cell_type": "code",
   "execution_count": 6,
   "metadata": {},
   "outputs": [
    {
     "data": {
      "text/plain": [
       "(1.4120746319646334e-10, 0.00029025423568418093)"
      ]
     },
     "execution_count": 6,
     "metadata": {},
     "output_type": "execute_result"
    }
   ],
   "source": [
    "using IntervalArithmetic\n",
    "iX = map(Interval,X)\n",
    "A = inv(Df(X))\n",
    "\n",
    "Y0 = norm(A*F(iX),p)\n",
    "Z0 = opnorm(Matrix{Float64}(I,size(A)) - A*Df(iX),p)\n",
    "Z1 = 0\n",
    "Z2 = 2*lam*opnorm(map(Interval,A),p)\n",
    "\n",
    "# p(r) = Z2*rˆ2 - (1-Z1-Z0)*r + Y0\n",
    "a = Z2\n",
    "b = -(1-Z1-Z0)\n",
    "c = Y0\n",
    "\n",
    "if b^2-4*a*c < 0\n",
    "    println(\"error: cannot find root of radii polynomial\")\n",
    "else\n",
    "    r_min = (-b - sqrt(b^2-4*a*c))/2/a\n",
    "    r_max = (-b + sqrt(b^2-4*a*c))/2/a\n",
    "end\n",
    "\n",
    "(sup(r_min),inf(r_max))"
   ]
  },
  {
   "cell_type": "markdown",
   "metadata": {},
   "source": [
    "次に、パラメータ $\\lambda$ もわからない場合を考えていく。上記の計算では, パラメータ値 $\\lambda$ を事前に与えたが, パラメータ値自体も分からない場合はそれ自身も未知数として  $x = (\\lambda, x1, x2, x3)^T \\in \\mathbb{R}^4$ を計算することを考える。"
   ]
  },
  {
   "cell_type": "markdown",
   "metadata": {},
   "source": [
    "#### 問題1.2.\n",
    "\n",
    "与えられた $\\lambda \\in \\mathbb{R}$ に対して、次をみたす $x \\in \\mathbb{R}^4$ を求めよ\n",
    "\n",
    "$$\n",
    "\\left\\{\\begin{array}{l}\n",
    "x_{1}-\\lambda x_{3}\\left(1-x_{3}\\right)=0 \\\\\n",
    "x_{2}-\\lambda x_{1}\\left(1-x_{1}\\right)=0 \\\\\n",
    "x_{3}-\\lambda x_{2}\\left(1-x_{2}\\right)=0\n",
    "\\end{array}\\right.\n",
    "$$\n",
    "\n",
    "ただし、問題1.2.は未知数4つに対して、方程式が3つしかないため正確な解を導くのが困難である。このため位相条件と呼ばれる式を追加する。\n",
    "\n",
    "$$\n",
    "\\eta(x):=x_{1}+x_{2}+x_{3}-\\eta_{0}, \\quad \\eta_{0} \\in \\mathbb{R}\n",
    "$$\n",
    "\n",
    "これにより写像$F:\\mathbb{R}^4 \\rightarrow \\mathbb{R}^4$を\n",
    "\n",
    "$$\n",
    "F(x):=\\left[\\begin{array}{l}\n",
    "x_{1}+x_{2}+x_{3}-\\eta_{0} \\\\\n",
    "x_{1}-\\lambda x_{3}\\left(1-x_{3}\\right) \\\\\n",
    "x_{2}-\\lambda x_{1}\\left(1-x_{1}\\right) \\\\\n",
    "x_{3}-\\lambda x_{2}\\left(1-x_{2}\\right)\n",
    "\\end{array}\\right]\n",
    "$$\n",
    "\n",
    "と定義する。ある$x \\in \\mathbb{R}^4$おけるJacobi行列は\n",
    "\n",
    "$$\n",
    "D F(x)=\\left[\\begin{array}{cccc}\n",
    "0 & 1 & 1 & 1 \\\\\n",
    "-x_{3}\\left(1-x_{3}\\right) & 1 & 0 & -\\lambda\\left(1-2 x_{3}\\right) \\\\\n",
    "-x_{1}\\left(1-x_{1}\\right) & -\\lambda\\left(1-2 x_{1}\\right) & 1 & 0 \\\\\n",
    "-x_{2}\\left(1-x_{2}\\right) & 0 & -\\lambda\\left(1-2 x_{2}\\right) & 1\n",
    "\\end{array}\\right]\n",
    "$$\n",
    "\n"
   ]
  },
  {
   "cell_type": "markdown",
   "metadata": {},
   "source": [
    "いま  $\\eta= 1.6311, 1.75$ として, 初期値を $x_0 = (3, 1, −1, 1)^T$ とすると近似解 $X$ が得られる。"
   ]
  },
  {
   "cell_type": "code",
   "execution_count": 9,
   "metadata": {},
   "outputs": [
    {
     "ename": "MethodError",
     "evalue": "MethodError: no method matching t(::Float64, ::Float64, ::Float64, ::Float64)\nClosest candidates are:\n  t(::Any) at In[9]:4",
     "output_type": "error",
     "traceback": [
      "MethodError: no method matching t(::Float64, ::Float64, ::Float64, ::Float64)\nClosest candidates are:\n  t(::Any) at In[9]:4",
      "",
      "Stacktrace:",
      " [1] F(::Array{Float64,1}) at ./In[9]:8",
      " [2] top-level scope at ./In[9]:29"
     ]
    }
   ],
   "source": [
    "eta = 1.6311\n",
    "\n",
    "#写像 F を定義する\n",
    "t((lam, x, y, z)) = x + y + z - eta\n",
    "f((lam, x, y, z)) = x - lam*z*(1-z) \n",
    "g((lam, x, y, z)) = y - lam*x*(1-x)\n",
    "h((lam, x, y, z)) = z - lam*y*(1-y)\n",
    "F((lam, x, y, z)) = [t(lam, x, y, z); f(lam, x, y, z); g(lam, x, y, z); h(lam, x, y, z)]\n",
    "# F(lam, x, y, z) = [x + y + z - eta\n",
    "#     x - lam*z*(1-z)\n",
    "#     y - lam*x*(1-x)\n",
    "#     z - lam*y*(1-y)]\n",
    "\n",
    "\n",
    "#ヤコビ行列DFを定義\n",
    "Df((lam, x, y, z)) = [0 1 1 1;\n",
    "    -z*(1-z ) 1 0 -lam*(1-2*z);\n",
    "    -x*(1-x) -lam*(1-2*x) 1 0;\n",
    "    -y*(1-y) 0 -lam*(1-2*y) 1]\n",
    "\n",
    "#初期値を設定\n",
    "tol = 1e-12\n",
    "p = 1\n",
    "X0 = [3.;1.;-1.;1.]\n",
    "X = X0\n",
    "\n",
    "count = 0\n",
    "while count ≤500\n",
    "    dx = -Df(X)\\F(X)\n",
    "    X = X+dx\n",
    "    count += 1\n",
    "    if norm(dx,p) < tol\n",
    "        break\n",
    "    end\n",
    "end\n",
    "println(X)"
   ]
  },
  {
   "cell_type": "markdown",
   "metadata": {},
   "source": [
    "上記の計算により、近似解が得られる。近似解 $\\bar{x}$ について、$A^{\\dagger}=Df(\\bar{x}), A \\approx Df(\\bar{x})^{-1}$とする。\n",
    "\n",
    "よって、 $Y_0,Z_0,Z_1,Z_2$ boundは以下のようになる。\n",
    "\n",
    "$$\n",
    "\\|A F(\\bar{x})\\| \\leq Y_{0}, \\quad\\left\\|I-A A^{\\dagger}\\right\\|=\\|I-A D F(\\bar{x})\\| \\leq Z_{0}, \\quad\\left\\|A\\left(D F(\\bar{x})-A^{\\dagger}\\right)\\right\\|=Z_{1}(=0)\n",
    "$$\n",
    "\n",
    "また、任意の $b \\in \\overline{B(\\bar{x}, r)}$ について,\n",
    "\n",
    "$$\n",
    "\\begin{aligned}\n",
    "&\\|A(D F(b)-D F(\\bar{x}))\\|\\\\\n",
    "&=\\left\\|A\\left[\\begin{array}{cccc}\n",
    "0 & 0 & 0 & 0 \\\\\n",
    "-\\left(x_{3}-\\bar{x}_{3}\\right)\\left(1-\\left(x_{3}+\\bar{x}_{3}\\right)\\right) & 0 & 0 & c_{3} \\\\\n",
    "-\\left(x_{1}-\\bar{x}_{1}\\right)\\left(1-\\left(x_{1}+\\bar{x}_{1}\\right)\\right) & c_{1} & 0 & 0 \\\\\n",
    "-\\left(x_{2}-\\bar{x}_{2}\\right)\\left(1-\\left(x_{2}+\\bar{x}_{2}\\right)\\right) & 0 & c_{2} & 0\n",
    "\\end{array}\\right]\\right\\|\\\\\n",
    "&\\leq\\|A\\|\\left\\|\\left[\\begin{array}{cccc}\n",
    "0 & 0 & 0 & 0 \\\\\n",
    "1+2\\left|\\bar{x}_{3}\\right|+r & 0 & 0 & \\left(1+\\left(\\left|\\bar{x}_{3}\\right|+r\\right)\\right)+|\\bar{\\lambda}|+r \\\\\n",
    "1+2\\left|\\bar{x}_{1}\\right|+r & \\left.\\left(1+\\left(\\left|\\bar{x}_{1}\\right|+r\\right)\\right)+|\\bar{\\lambda}|+r\\right) & 0 & 0 \\\\\n",
    "1+2\\left|\\bar{x}_{2}\\right|+r & 0 & \\left(1+\\left(\\left|\\bar{x}_{2}\\right|+r\\right)\\right)+|\\bar{\\lambda}|+r & 0\n",
    "\\end{array}\\right]\\right\\| \\|b-\\bar{x} \\|\\\\\n",
    "&\\leq\\|A\\| \\|B(r)\\| r=: Z_{2}(r) r\n",
    "\\end{aligned}\n",
    "$$\n",
    "\n",
    "ただし、\n",
    "\n",
    "$$\n",
    "\\begin{array}{c}\n",
    "c_{i}=-(\\lambda-\\bar{\\lambda})\\left(1-x_{i}\\right)+\\bar{\\lambda}\\left(x_{i}-\\bar{x}_{i}\\right) \\quad(i=1,2,3) \\\\\n",
    "{\\left[\\begin{array}{cccc}\n",
    "0 & 0 & 0 & 0 \\\\\n",
    "1+2\\left|\\bar{x}_{3}\\right|+r & 0 & 0 & \\left(1+\\left(\\left|\\bar{x}_{3}\\right|+r\\right)\\right)+|\\bar{\\lambda}|+r \\\\\n",
    "1+2\\left|\\bar{x}_{1}\\right|+r & \\left.\\left(1+\\left(\\left|\\bar{x}_{1}\\right|+r\\right)\\right)+|\\bar{\\lambda}|+r\\right) & 0 & 0 \\\\\n",
    "1+2\\left|\\bar{x}_{2}\\right|+r & 0 & \\left(1+\\left(\\left|\\bar{x}_{2}\\right|+r\\right)\\right)+|\\bar{\\lambda}|+r & 0\n",
    "\\end{array}\\right]}\n",
    "\\end{array}\n",
    "$$\n",
    "\n",
    "とした。\n",
    "\n",
    "**上の式変形が理解できていない**"
   ]
  },
  {
   "cell_type": "markdown",
   "metadata": {},
   "source": [
    "\\begin{align}\n",
    "|-(x_3-\\bar{x}_3)(1-(x_3+\\bar{x}_3))| &\\le |-(x_3-\\bar{x}_3)(1-(x_3-\\bar{x}_3+2\\bar{x}_3))|\\\\\n",
    "&\\le |x_3-\\bar{x}_3|(1+|x_3-\\bar{x}_3|+2|\\bar{x}_3|))\\\\\n",
    "&\\le \\|b-\\bar{x}\\|(1+\\|b-\\bar{x}\\|+2|\\bar{x}_3|))\\\\\n",
    "&\\le \\|b-\\bar{x}\\|(1+r+2|\\bar{x}_3|))\n",
    "\\end{align}"
   ]
  },
  {
   "cell_type": "code",
   "execution_count": null,
   "metadata": {},
   "outputs": [],
   "source": [
    "using IntervalArithmetic\n",
    "iX = map(Interval,X)\n",
    "A = inv(Df(X))\n",
    "\n",
    "Y0 = norm(A*F(iX),p)\n",
    "Z0 = opnorm(Matrix{Float64}(I,size(A)) - A*Df(iX),p)\n",
    "Z1 = 0\n"
   ]
  }
 ],
 "metadata": {
  "kernelspec": {
   "display_name": "Julia 1.5.0",
   "language": "julia",
   "name": "julia-1.5"
  },
  "language_info": {
   "file_extension": ".jl",
   "mimetype": "application/julia",
   "name": "julia",
   "version": "1.5.0"
  }
 },
 "nbformat": 4,
 "nbformat_minor": 4
}
