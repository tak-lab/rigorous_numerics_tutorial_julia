{
 "cells": [
  {
   "cell_type": "markdown",
   "metadata": {},
   "source": [
    "# Juliaで固有値問題を精度保証付き数値計算したい\n",
    "\n",
    "\n",
    "## 固有値問題とは\n",
    "\n",
    "固有値問題は与えられた行列の固有値および固有ベクトルを求めること。つまり、\n",
    "$\n",
    "\\newcommand{\\C}{\\mathbb{C}}\n",
    "\\newcommand{\\IC}{\\mathbb{IC}}\n",
    "\\newcommand{\\bX}{\\bar{X}}\n",
    "$\n",
    "\n",
    "$$\n",
    "Ax=\\lambda x,\\quad A\\in \\C^{n\\times n}\n",
    "$$\n",
    "\n",
    "を満たす$\\lambda\\in \\C$, $x\\in \\C^{n\\times n}$ ($x\\neq 0$) を求める問題を指す。\n",
    "\n",
    "Juliaで固有値と固有ベクトルを求める際には、`LinearAlgebra`パッケージに含まれている関数`eigen`・`eigvals`・`eigvecs`で求めることができる。\n",
    "\n",
    "|関数| 役割 |\n",
    "|:-----------|:----------|\n",
    "| eigen()    | 固有値・固有ベクトル両方  |\n",
    "| eigvals()    | 固有値  |\n",
    "| eigvecs()  | 固有ベクトル |\n",
    "\n",
    "多分、Lapackの何かを呼び足してるはず。"
   ]
  },
  {
   "cell_type": "code",
   "execution_count": 61,
   "metadata": {},
   "outputs": [
    {
     "data": {
      "text/plain": [
       "Eigen{Float64,Float64,Array{Float64,2},Array{Float64,1}}\n",
       "values:\n",
       "2-element Array{Float64,1}:\n",
       " -1.0\n",
       "  3.0\n",
       "vectors:\n",
       "2×2 Array{Float64,2}:\n",
       " -0.707107  0.707107\n",
       "  0.707107  0.707107"
      ]
     },
     "execution_count": 61,
     "metadata": {},
     "output_type": "execute_result"
    }
   ],
   "source": [
    "using LinearAlgebra\n",
    "val, vec  = eigen([1 2; 2 1])"
   ]
  },
  {
   "cell_type": "code",
   "execution_count": 62,
   "metadata": {},
   "outputs": [
    {
     "data": {
      "text/plain": [
       "2-element Array{Float64,1}:\n",
       " -1.0\n",
       "  3.0"
      ]
     },
     "execution_count": 62,
     "metadata": {},
     "output_type": "execute_result"
    }
   ],
   "source": [
    "val#固有値"
   ]
  },
  {
   "cell_type": "code",
   "execution_count": 63,
   "metadata": {},
   "outputs": [
    {
     "data": {
      "text/plain": [
       "2×2 Array{Float64,2}:\n",
       " -0.707107  0.707107\n",
       "  0.707107  0.707107"
      ]
     },
     "execution_count": 63,
     "metadata": {},
     "output_type": "execute_result"
    }
   ],
   "source": [
    "vec#固有ベクトル"
   ]
  },
  {
   "cell_type": "code",
   "execution_count": 64,
   "metadata": {},
   "outputs": [
    {
     "data": {
      "text/plain": [
       "2-element Array{Float64,1}:\n",
       " -1.0\n",
       "  3.0"
      ]
     },
     "execution_count": 64,
     "metadata": {},
     "output_type": "execute_result"
    }
   ],
   "source": [
    "eigvals([1 2; 2 1])#固有値"
   ]
  },
  {
   "cell_type": "code",
   "execution_count": 65,
   "metadata": {},
   "outputs": [
    {
     "data": {
      "text/plain": [
       "2×2 Array{Float64,2}:\n",
       " -0.707107  0.707107\n",
       "  0.707107  0.707107"
      ]
     },
     "execution_count": 65,
     "metadata": {},
     "output_type": "execute_result"
    }
   ],
   "source": [
    "eigvecs([1 2; 2 1])#固有ベクトル"
   ]
  },
  {
   "cell_type": "markdown",
   "metadata": {},
   "source": [
    "## 密行列の固有値問題に対する精度保証\n",
    "\n",
    "密行列とは、行列内のほとんどの要素が0でない行列のことを指す。ここでは、行列$A\\in\\C^{n\\times n}$ $(i=1,2,\\cdots,n)$ の全ての固有値に対する精度保証アルゴリズムを考える。 \n",
    "\n",
    "### 実装したいアルゴリズム\n",
    "(1)\n",
    "ある行列$A$の全ての近似固有ベクトル$\\bX\\in\\C^{n\\times n}$ $(i=1,2,\\cdots,n)$ を求める。\n",
    "\n",
    "(2)\n",
    "$A\\cdot\\bX$ の包含 $C\\in\\IC^{n\\times n}$ を求める。\n",
    "\n",
    "(3)\n",
    "区間連立1次方程式 $\\bX G=C$ の解集合の包含 $G\\supset\\bX^{-1}\\cdot C$ を求める。\n",
    "\n",
    "(4)\n",
    "$G\\in\\IC^{n\\times n}$ に対してゲルシュゴリンの定理を適用することを考える。"
   ]
  },
  {
   "cell_type": "markdown",
   "metadata": {},
   "source": [
    "#### (1)行列$A$の全ての近似固有ベクトル$\\bX\\in\\C^{n\\times n}$ $(i=1,2,\\cdots,n)$ を求める。\n",
    "\n",
    "行列$A\\in\\C^{n\\times n}$ $(i=1,2,\\cdots,n)$ が対角化可能であるとするとき、$\\lambda_i$ に対する固有ベクトル$x^{(i)}\\in\\C^{n}$ $(i=1,2,\\cdots,n)$ を並べた行列\n",
    "\n",
    "$$\n",
    "X :=[x^{(1)},x^{(2)},\\cdots,x^{(n)}]\\in\\C^{n\\times n}\n",
    "$$\n",
    "\n",
    "によって、$A$ は\n",
    "\n",
    "$$\n",
    "X^{-1}AX = D = \\rm{diag}(\\lambda_1,\\lambda_2,\\cdots,\\lambda_n)\n",
    "$$\n",
    "\n",
    "と対角化される。"
   ]
  },
  {
   "cell_type": "code",
   "execution_count": 66,
   "metadata": {},
   "outputs": [],
   "source": [
    "using LinearAlgebra\n",
    "\n",
    "n =100;\n",
    "A = randn(n,n);\n",
    "\n",
    "λ, X = eigen(A);"
   ]
  },
  {
   "cell_type": "code",
   "execution_count": 67,
   "metadata": {},
   "outputs": [
    {
     "data": {
      "text/plain": [
       "100-element Array{Complex{Float64},1}:\n",
       " -10.766022723425223 - 0.8122874492930389im\n",
       " -10.766022723425223 + 0.8122874492930389im\n",
       "  -8.901198365927415 - 2.472701572517997im\n",
       "  -8.901198365927415 + 2.472701572517997im\n",
       "  -7.796420635615081 - 6.605672668300338im\n",
       "  -7.796420635615081 + 6.605672668300338im\n",
       "   -7.39292803449457 - 1.0096385968492632im\n",
       "   -7.39292803449457 + 1.0096385968492632im\n",
       "  -7.326769092147958 + 0.0im\n",
       "  -7.154711828575033 - 5.267615306775259im\n",
       "  -7.154711828575033 + 5.267615306775259im\n",
       "  -6.628212798009513 - 3.3917662709575174im\n",
       "  -6.628212798009513 + 3.3917662709575174im\n",
       "                     ⋮\n",
       "   6.643063450796827 - 0.6679521100997574im\n",
       "   6.643063450796827 + 0.6679521100997574im\n",
       "   7.138270608605898 - 6.496864665555203im\n",
       "   7.138270608605898 + 6.496864665555203im\n",
       "   7.565808571113444 - 3.5776076639182754im\n",
       "   7.565808571113444 + 3.5776076639182754im\n",
       "   7.925657360977363 - 0.5526696884902491im\n",
       "   7.925657360977363 + 0.5526696884902491im\n",
       "   8.305101345408058 - 2.833982915383298im\n",
       "   8.305101345408058 + 2.833982915383298im\n",
       "   9.001806417515384 - 1.109205372840968im\n",
       "   9.001806417515384 + 1.109205372840968im"
      ]
     },
     "execution_count": 67,
     "metadata": {},
     "output_type": "execute_result"
    }
   ],
   "source": [
    "λ #固有値"
   ]
  },
  {
   "cell_type": "code",
   "execution_count": 68,
   "metadata": {},
   "outputs": [
    {
     "data": {
      "text/plain": [
       "100×100 Array{Complex{Float64},2}:\n",
       " -0.0137179-0.008181im    …   0.00367427-0.0216093im\n",
       "  0.0127764+0.0208956im       -0.0358408+0.0897729im\n",
       " -0.0320241-0.0347265im       -0.0284699-0.0358665im\n",
       " -0.0849695+0.00282483im       0.0831393+0.0348483im\n",
       "    -0.2418-0.0im              0.0116357-0.071323im\n",
       "  -0.160058-0.0326811im   …   -0.0297767+0.0398088im\n",
       " -0.0537056+0.0537747im         0.010946+0.0273993im\n",
       "  0.0312759-0.00732992im        0.034381+0.02923im\n",
       "   0.054274+0.0696518im         0.110116+0.0248822im\n",
       " -0.0243595+0.00054807im      0.00141307-0.0241246im\n",
       "  0.0515867+0.00203391im  …   -0.0225958+0.0810808im\n",
       "  0.0875125-0.0735259im       -0.0312765-0.00474837im\n",
       "   0.114008-0.00602452im       0.0520928-0.020064im\n",
       "           ⋮              ⋱  \n",
       " -0.0449836-0.0277217im        0.0243167-0.00615177im\n",
       "   -0.12139-0.00179806im        0.167622+0.0406149im\n",
       "    0.11091+0.00752602im  …    0.0557256-0.0379002im\n",
       " -0.0884635+0.075204im        -0.0655205+0.0454215im\n",
       " -0.0220236+0.0278526im        0.0139426-0.0150468im\n",
       " -0.0300459+0.0220546im        0.0571555+0.0124965im\n",
       " -0.0919521+0.010352im         0.0476523+0.0305455im\n",
       " 0.00288158+0.00454833im  …    0.0168214+0.101328im\n",
       "   0.133839-0.0318639im       -0.0903401+0.0104451im\n",
       "   0.102848-0.0632105im       -0.0758145+0.0349444im\n",
       " -0.0307433-0.0832712im        -0.106073-0.0239371im\n",
       " -0.0271724-0.0137715im      -0.00784964-0.0586201im"
      ]
     },
     "execution_count": 68,
     "metadata": {},
     "output_type": "execute_result"
    }
   ],
   "source": [
    "X #固有ベクトル"
   ]
  },
  {
   "cell_type": "markdown",
   "metadata": {},
   "source": [
    "しかし、実際のところ上記の数値計算で得られる固有ベクトル $X$ は近似の値 $\\bX\\in \\C^{n\\times n}$ (以下、近似固有ベクトルという) である。しかし、近似固有ベクトルを並べた行列を使って、対角化したものについては、対角優位性が期待できる。この行列を $G$ とすると、\n",
    "\n",
    "$$\n",
    "G := \\bX^{-1}A\\bX\n",
    "$$\n",
    "\n",
    "となり、行列 $G$ の対角成分は行列 $A$ の固有値の近似となる。\n",
    "\n",
    "また、対角優位性とは、ある行列$A=(a_{ij})$について、\n",
    "\n",
    "$$\n",
    "\\left|a_{i i}\\right|>\\sum_{{j} \\colon j \\neq i}\\left|a_{i j}\\right| \\quad(i=1,2, \\ldots, n)\n",
    "$$\n",
    "\n",
    "であること。つまり、行列のどの対角成分の絶対値も、それと同じ列にある非対角成分の和よりも大きい時。"
   ]
  },
  {
   "cell_type": "code",
   "execution_count": 69,
   "metadata": {},
   "outputs": [
    {
     "data": {
      "text/plain": [
       "4.24192376735972e-14"
      ]
     },
     "execution_count": 69,
     "metadata": {},
     "output_type": "execute_result"
    }
   ],
   "source": [
    "G = inv(X)*A*X; #G\n",
    "norm(diag(G) - λ,Inf) # Gの対角成分は固有値λにほぼ一致する"
   ]
  },
  {
   "cell_type": "markdown",
   "metadata": {},
   "source": [
    "#### (2)$A\\cdot\\bX$の包含$C\\in\\IC^{n\\times n}$を求める。\n",
    "\n",
    "``方法1``各演算を区間演算に変更した方式(参考：[interval_dot-mul.ipynb](https://www.risk.tsukuba.ac.jp/~takitoshi/tutorial/interval_dot-mul.html \"タイトル\"))"
   ]
  },
  {
   "cell_type": "code",
   "execution_count": 70,
   "metadata": {},
   "outputs": [
    {
     "name": "stdout",
     "output_type": "stream",
     "text": [
      "  83.545 ms (8 allocations: 312.91 KiB)\n"
     ]
    }
   ],
   "source": [
    "using IntervalArithmetic, BenchmarkTools\n",
    "\n",
    "iA = map(Interval, A);\n",
    "iX = map(Interval, X);\n",
    "\n",
    "@btime C1 = $iA * $iX;"
   ]
  },
  {
   "cell_type": "code",
   "execution_count": 71,
   "metadata": {},
   "outputs": [
    {
     "ename": "LoadError",
     "evalue": "UndefVarError: C1 not defined",
     "output_type": "error",
     "traceback": [
      "UndefVarError: C1 not defined",
      "",
      "Stacktrace:",
      " [1] top-level scope at show.jl:641",
      " [2] include_string(::Function, ::Module, ::String, ::String) at ./loading.jl:1091"
     ]
    }
   ],
   "source": [
    "@show max(maximum(radius.(real(C1[:]))),maximum(radius.(imag(C1[:]))))"
   ]
  },
  {
   "cell_type": "markdown",
   "metadata": {},
   "source": [
    "``方法2``BLASを使う。int_num_linalg.jlの呼び出し。この方が早い。"
   ]
  },
  {
   "cell_type": "code",
   "execution_count": 72,
   "metadata": {},
   "outputs": [
    {
     "name": "stdout",
     "output_type": "stream",
     "text": [
      "  0.299349 seconds (340.56 k allocations: 16.017 MiB)\n"
     ]
    }
   ],
   "source": [
    "using BenchmarkTools\n",
    "include(\"int_num_linalg.jl\"); # int_mulを使用する\n",
    "# @time C1 = mm_comp_interval_alt(iA,iX);\n",
    "@time C = int_mul(A,X); # A, X: complex matrices (not interval)"
   ]
  },
  {
   "cell_type": "code",
   "execution_count": 73,
   "metadata": {},
   "outputs": [
    {
     "data": {
      "text/plain": [
       "9.070522111187529e-14"
      ]
     },
     "execution_count": 73,
     "metadata": {},
     "output_type": "execute_result"
    }
   ],
   "source": [
    "max(maximum(radius.(real(C[:]))),maximum(radius.(imag(C[:]))))"
   ]
  },
  {
   "cell_type": "code",
   "execution_count": 74,
   "metadata": {},
   "outputs": [
    {
     "data": {
      "text/plain": [
       "100×100 Array{Interval{Float64},2}:\n",
       "  [0.141042, 0.141043]     …   [0.0570442, 0.0570443]\n",
       " [-0.120578, -0.120577]       [-0.422209, -0.422208]\n",
       "  [0.316564, 0.316565]        [-0.216498, -0.216497]\n",
       "  [0.917078, 0.917079]         [0.709749, 0.70975]\n",
       "  [2.60322, 2.60323]           [0.183854, 0.183855]\n",
       "  [1.69664, 1.69665]       …  [-0.312201, -0.3122]\n",
       "  [0.621876, 0.621877]         [0.0681427, 0.0681428]\n",
       " [-0.342672, -0.342671]        [0.277068, 0.277069]\n",
       " [-0.527738, -0.527737]        [0.963645, 0.963646]\n",
       "  [0.2627, 0.262701]           [0.0394793, 0.0394794]\n",
       " [-0.553732, -0.553731]    …  [-0.293339, -0.293338]\n",
       " [-1.00189, -1.00188]         [-0.276278, -0.276277]\n",
       " [-1.23231, -1.2323]           [0.491184, 0.491185]\n",
       "   ⋮                       ⋱  \n",
       "  [0.461776, 0.461777]         [0.225717, 0.225718]\n",
       "  [1.30543, 1.30544]           [1.46385, 1.46386]\n",
       " [-1.18795, -1.18794]      …   [0.54367, 0.543671]\n",
       "  [1.01348, 1.01349]          [-0.640185, -0.640184]\n",
       "  [0.25973, 0.259731]          [0.142198, 0.142199]\n",
       "  [0.341389, 0.34139]          [0.500641, 0.500642]\n",
       "  [0.998367, 0.998368]         [0.395075, 0.395076]\n",
       " [-0.0273286, -0.0273285]  …   [0.039029, 0.0390291]\n",
       " [-1.4668, -1.46679]          [-0.82481, -0.824809]\n",
       " [-1.15861, -1.1586]          [-0.721229, -0.721228]\n",
       "  [0.263343, 0.263344]        [-0.928297, -0.928296]\n",
       "  [0.281352, 0.281353]        [-0.00563921, -0.0056392]"
      ]
     },
     "execution_count": 74,
     "metadata": {},
     "output_type": "execute_result"
    }
   ],
   "source": [
    "real(C)"
   ]
  },
  {
   "cell_type": "code",
   "execution_count": 75,
   "metadata": {},
   "outputs": [
    {
     "data": {
      "text/plain": [
       "100×100 Array{Interval{Float64},2}:\n",
       "  [0.0992197, 0.0992198]   …  [-0.190448, -0.190447]\n",
       " [-0.235341, -0.23534]         [0.768363, 0.768364]\n",
       "  [0.399879, 0.39988]         [-0.354442, -0.354441]\n",
       "  [0.0386075, 0.0386076]       [0.405916, 0.405917]\n",
       "  [0.196411, 0.196412]        [-0.62913, -0.629129]\n",
       "  [0.481859, 0.48186]      …   [0.325322, 0.325323]\n",
       " [-0.535315, -0.535314]        [0.258784, 0.258785]\n",
       "  [0.053509, 0.0535091]        [0.301258, 0.301259]\n",
       " [-0.793959, -0.793958]        [0.346126, 0.346127]\n",
       "  [0.0138863, 0.0138864]      [-0.215598, -0.215597]\n",
       " [-0.0638003, -0.0638002]  …   [0.70481, 0.704811]\n",
       "  [0.720496, 0.720497]        [-0.077436, -0.0774359]\n",
       " [-0.0277473, -0.0277472]     [-0.122831, -0.12283]\n",
       "   ⋮                       ⋱  \n",
       "  [0.334992, 0.334993]        [-0.028405, -0.0284049]\n",
       "  [0.117961, 0.117962]         [0.551534, 0.551535]\n",
       " [-0.171117, -0.171116]    …  [-0.27936, -0.279359]\n",
       " [-0.737791, -0.73779]         [0.3362, 0.336201]\n",
       " [-0.281973, -0.281972]       [-0.119983, -0.119982]\n",
       " [-0.213035, -0.213034]        [0.175888, 0.175889]\n",
       " [-0.0367588, -0.0367587]      [0.32782, 0.327821]\n",
       " [-0.0513081, -0.051308]   …   [0.930795, 0.930796]\n",
       "  [0.234332, 0.234333]        [-0.00618136, -0.00618135]\n",
       "  [0.596983, 0.596984]         [0.230469, 0.23047]\n",
       "  [0.921471, 0.921472]        [-0.333134, -0.333133]\n",
       "  [0.170336, 0.170337]        [-0.536394, -0.536393]"
      ]
     },
     "execution_count": 75,
     "metadata": {},
     "output_type": "execute_result"
    }
   ],
   "source": [
    "imag(C)"
   ]
  },
  {
   "cell_type": "code",
   "execution_count": null,
   "metadata": {},
   "outputs": [],
   "source": []
  },
  {
   "cell_type": "markdown",
   "metadata": {},
   "source": [
    "#### 3)区間連立1次方程式 $\\hat XG=C$ の解集合の包含 $G\\supset\\hat X^{-1}\\cdot C$ を求める。"
   ]
  },
  {
   "cell_type": "code",
   "execution_count": 76,
   "metadata": {},
   "outputs": [
    {
     "data": {
      "text/plain": [
       "verifylss_ib (generic function with 1 method)"
      ]
     },
     "execution_count": 76,
     "metadata": {},
     "output_type": "execute_result"
    }
   ],
   "source": [
    "function verifylss_ib(A,ib) # verify the solution element-wisely\n",
    "    b = mid.(real(ib)) + mid.(imag(ib))*im;\n",
    "    x̄ = A\\b;\n",
    "    n = length(x̄);\n",
    "    R = inv(A);\n",
    "    #########\n",
    "    #C_mid, C_rad = mm_ufp(R,A);\n",
    "    G = Matrix{Float64}(I, n, n) - int_mul(R,A);\n",
    "    α = opnorm(G,Inf)# Interval arithmetic\n",
    "    #########\n",
    "    if α < 1\n",
    "        x̄ = map(Interval,x̄);\n",
    "        r = A*x̄ - ib; # Interval arithmetic\n",
    "        Rr = R*r;\n",
    "        err = abs.(Rr) + supremum(norm(Rr,Inf))/(1-α)*(abs.(G)*ones(n)); # Interval arithmetic\n",
    "    else\n",
    "        println(\"Oh my way, verification is failed...\")\n",
    "        err = nan;\n",
    "    end\n",
    "    return x = (real(x̄) .± supremum.(err)) + im*(imag(x̄) .± supremum.(err))\n",
    "end"
   ]
  },
  {
   "cell_type": "code",
   "execution_count": 77,
   "metadata": {},
   "outputs": [
    {
     "data": {
      "text/plain": [
       "100×100 Array{Interval{Float64},2}:\n",
       " [-10.7661, -10.766]           …  [-1.20376e-12, 1.19351e-12]\n",
       "  [-1.36823e-12, 1.373e-12]       [-1.18546e-12, 1.21525e-12]\n",
       "  [-1.72012e-12, 1.72931e-12]     [-1.52936e-12, 1.53534e-12]\n",
       "  [-1.72284e-12, 1.72715e-12]     [-1.53246e-12, 1.53143e-12]\n",
       "  [-1.46338e-12, 1.46928e-12]     [-1.3144e-12, 1.283e-12]\n",
       "  [-1.46186e-12, 1.46901e-12]  …  [-1.30706e-12, 1.28489e-12]\n",
       "  [-4.15053e-12, 4.1562e-12]      [-3.71743e-12, 3.69997e-12]\n",
       "  [-4.15167e-12, 4.15768e-12]     [-3.71497e-12, 3.7012e-12]\n",
       "  [-3.18329e-12, 3.18543e-12]     [-2.78636e-12, 2.81595e-12]\n",
       "  [-1.30406e-12, 1.30779e-12]     [-1.1552e-12, 1.1579e-12]\n",
       "  [-1.3068e-12, 1.30355e-12]   …  [-1.15281e-12, 1.16468e-12]\n",
       "  [-2.2909e-12, 2.28778e-12]      [-2.0163e-12, 2.03774e-12]\n",
       "  [-2.292e-12, 2.28524e-12]       [-2.01574e-12, 2.0349e-12]\n",
       "    ⋮                          ⋱  \n",
       "  [-5.65495e-12, 5.60863e-12]     [-4.91407e-12, 4.91859e-12]\n",
       "  [-5.65898e-12, 5.60935e-12]     [-4.9147e-12, 4.92321e-12]\n",
       "  [-2.09756e-12, 2.13882e-12]  …  [-1.92406e-12, 1.91458e-12]\n",
       "  [-2.0992e-12, 2.1382e-12]       [-1.92088e-12, 1.90949e-12]\n",
       "  [-2.49936e-12, 2.52607e-12]     [-2.2479e-12, 2.23575e-12]\n",
       "  [-2.50101e-12, 2.52518e-12]     [-2.25825e-12, 2.23485e-12]\n",
       "  [-5.5388e-12, 5.58847e-12]      [-4.86256e-12, 4.8629e-12]\n",
       "  [-5.55168e-12, 5.57754e-12]  …  [-4.85927e-12, 4.86569e-12]\n",
       "  [-2.26655e-12, 2.30507e-12]     [-2.0293e-12, 2.0097e-12]\n",
       "  [-2.28799e-12, 2.28713e-12]     [-2.01482e-12, 2.0197e-12]\n",
       "  [-2.13774e-12, 2.15003e-12]     [-1.89463e-12, 1.85571e-12]\n",
       "  [-2.13427e-12, 2.1537e-12]       [9.0018, 9.00181]"
      ]
     },
     "execution_count": 77,
     "metadata": {},
     "output_type": "execute_result"
    }
   ],
   "source": [
    "G = similar(C);\n",
    "for i = 1:n\n",
    "    G[:,i] = verifylss_ib(X,C[:,i]);\n",
    "end\n",
    "real(G)"
   ]
  },
  {
   "cell_type": "code",
   "execution_count": 78,
   "metadata": {},
   "outputs": [
    {
     "data": {
      "text/plain": [
       "2-element Array{Array{T,1} where T,1}:\n",
       " Interval{Float64}[[-10.7661, -10.766], [-10.7661, -10.766], [-8.9012, -8.90119], [-8.9012, -8.90119], [-7.79643, -7.79642], [-7.79643, -7.79642], [-7.39293, -7.39292], [-7.39293, -7.39292], [-7.32677, -7.32676], [-7.15472, -7.15471]  …  [7.13827, 7.13828], [7.13827, 7.13828], [7.5658, 7.56581], [7.5658, 7.56581], [7.92565, 7.92566], [7.92565, 7.92566], [8.3051, 8.30511], [8.3051, 8.30511], [9.0018, 9.00181], [9.0018, 9.00181]]\n",
       " Complex{Float64}[-10.766022723425223 - 0.8122874492930389im, -10.766022723425223 + 0.8122874492930389im, -8.901198365927415 - 2.472701572517997im, -8.901198365927415 + 2.472701572517997im, -7.796420635615081 - 6.605672668300338im, -7.796420635615081 + 6.605672668300338im, -7.39292803449457 - 1.0096385968492632im, -7.39292803449457 + 1.0096385968492632im, -7.326769092147958 + 0.0im, -7.154711828575033 - 5.267615306775259im  …  7.138270608605898 - 6.496864665555203im, 7.138270608605898 + 6.496864665555203im, 7.565808571113444 - 3.5776076639182754im, 7.565808571113444 + 3.5776076639182754im, 7.925657360977363 - 0.5526696884902491im, 7.925657360977363 + 0.5526696884902491im, 8.305101345408058 - 2.833982915383298im, 8.305101345408058 + 2.833982915383298im, 9.001806417515384 - 1.109205372840968im, 9.001806417515384 + 1.109205372840968im]"
      ]
     },
     "execution_count": 78,
     "metadata": {},
     "output_type": "execute_result"
    }
   ],
   "source": [
    "[real(diag(G)), λ]"
   ]
  },
  {
   "cell_type": "code",
   "execution_count": 79,
   "metadata": {},
   "outputs": [
    {
     "data": {
      "text/plain": [
       "[0.240262, 0.240263]"
      ]
     },
     "execution_count": 79,
     "metadata": {},
     "output_type": "execute_result"
    }
   ],
   "source": [
    "C=real(C)+imag(C)\n",
    "C[1,1]"
   ]
  },
  {
   "cell_type": "markdown",
   "metadata": {},
   "source": [
    "#### 4)$G\\in\\IC^{n\\times n}$に対してゲルシュゴリンの定理を適用することを考える。"
   ]
  },
  {
   "cell_type": "markdown",
   "metadata": {},
   "source": [
    "\n",
    "## ゲルシュゴリンの包含定理\n",
    "行列 $A=(A_{ij})\\in \\C^{n\\times n}$について、$A$の全ての固有値$\\lambda_i$は、$\\bigcup_{1\\le i \\le n}  U_i$の内部に存在する。\n",
    "\n",
    "$$\n",
    "A = \\bigcup_{1\\le i \\le n}  U_i\n",
    "$$\n",
    "\n",
    "ただし、\n",
    "\n",
    "$$\n",
    "U_i = \\{z\\in\\mathbb{C}:|z-a_{ii}|\\le \\sum_{j\\neq i}|a_{ij}|\\}\n",
    "$$\n",
    "\n",
    "である。\n",
    "\n",
    "円盤領域$U_i$をゲルシュゴリン円板といい、Aが強い優対角性を持つとき、Aの対角成分がAの固有値の良い近似となる。\n",
    "\n",
    "今回の場合、$G=(g_{ij})$の対角成分$[g_{ii}]$を$c_i$、半径を$\\rm{rad(g_{ii})}$とすると、\n",
    "\n",
    "$$\n",
    "\\begin{array}{ll}\n",
    "\\mbox{ゲルシュゴリン円の中心:}&c_i\\\\\n",
    "\\mbox{ゲルシュゴリン円の半径:}&r_i=\\sum_{j\\neq i}\\rm{mag}(g_{ij})+\\rm{rad}(g_{ii})\\\\\n",
    "\\end{array}\n",
    "$$\n",
    "\n",
    "となる。"
   ]
  },
  {
   "cell_type": "code",
   "execution_count": 98,
   "metadata": {},
   "outputs": [],
   "source": [
    "r = randn(n)\n",
    "for i = 1:n\n",
    "    mr = mag.(real(G[i,:]))\n",
    "    mi = mag.(imag(G[i,:]))\n",
    "    magri = sum(mr + mi)-mag.(real(diag(G)[i]))-mag.(imag(diag(G)[i]))\n",
    "    ra = radius.(real(diag(G)[i])) + radius.(imag(diag(G)[i]))\n",
    "    r[i] = magri+ra\n",
    "end"
   ]
  },
  {
   "cell_type": "code",
   "execution_count": 3,
   "metadata": {},
   "outputs": [
    {
     "data": {
      "text/plain": [
       "[-1, 1]"
      ]
     },
     "execution_count": 3,
     "metadata": {},
     "output_type": "execute_result"
    }
   ],
   "source": [
    "using IntervalArithmetic\n",
    "interval(-1,1)-interval(0)"
   ]
  },
  {
   "cell_type": "code",
   "execution_count": 108,
   "metadata": {},
   "outputs": [
    {
     "data": {
      "text/plain": [
       "100-element Array{Interval{Float64},1}:\n",
       " [-11.5784, -11.5783]\n",
       "  [-9.95374, -9.95373]\n",
       " [-11.3739, -11.3738]\n",
       "  [-6.4285, -6.42849]\n",
       " [-14.4021, -14.402]\n",
       "  [-1.19075, -1.19074]\n",
       "  [-8.40257, -8.40256]\n",
       "  [-6.38329, -6.38328]\n",
       "  [-7.32677, -7.32676]\n",
       " [-12.4224, -12.4223]\n",
       "  [-1.8871, -1.88709]\n",
       " [-10.02, -10.0199]\n",
       "  [-3.23645, -3.23644]\n",
       "    ⋮\n",
       "   [5.97511, 5.97512]\n",
       "   [7.31101, 7.31102]\n",
       "   [0.641405, 0.641406]\n",
       "  [13.6351, 13.6352]\n",
       "   [3.9882, 3.98821]\n",
       "  [11.1434, 11.1435]\n",
       "   [7.37298, 7.37299]\n",
       "   [8.47832, 8.47833]\n",
       "   [5.47111, 5.47112]\n",
       "  [11.139, 11.1391]\n",
       "   [7.8926, 7.89261]\n",
       "  [10.111, 10.1111]"
      ]
     },
     "execution_count": 108,
     "metadata": {},
     "output_type": "execute_result"
    }
   ],
   "source": [
    "c=real(diag(G))+imag(diag(G))"
   ]
  },
  {
   "cell_type": "code",
   "execution_count": 83,
   "metadata": {},
   "outputs": [
    {
     "ename": "LoadError",
     "evalue": "UndefVarError: index not defined",
     "output_type": "error",
     "traceback": [
      "UndefVarError: index not defined",
      "",
      "Stacktrace:",
      " [1] top-level scope at In[83]:2",
      " [2] include_string(::Function, ::Module, ::String, ::String) at ./loading.jl:1091"
     ]
    }
   ],
   "source": [
    "using Plots\n",
    "plot!(index, max_rad, yscale=:log10,\n",
    "    xlabel       =\"Real\",                #X軸のラベル\n",
    "    ylabel       =\"Imaginary\",   #Y軸のラベル\n",
    "    xlims        =(0,41),             #X軸の範囲\n",
    "    title=\"gershgorin\",       #タイトル\n",
    "    linewidth    =2,                  #線幅\n",
    "    seriestype = :scatter,            #点プロットに　\n",
    "    size         =(400,300),          #プロットのサイズ\n",
    ")"
   ]
  },
  {
   "cell_type": "code",
   "execution_count": 117,
   "metadata": {},
   "outputs": [
    {
     "data": {
      "text/plain": [
       "circle (generic function with 1 method)"
      ]
     },
     "execution_count": 117,
     "metadata": {},
     "output_type": "execute_result"
    }
   ],
   "source": [
    "function circle(center, radius; color = black, fill::Bool = true, options...)\n",
    "    # draw\n",
    "end"
   ]
  },
  {
   "cell_type": "code",
   "execution_count": 118,
   "metadata": {},
   "outputs": [
    {
     "ename": "LoadError",
     "evalue": "syntax: invalid keyword argument name \"fill::Bool\" around In[118]:1",
     "output_type": "error",
     "traceback": [
      "syntax: invalid keyword argument name \"fill::Bool\" around In[118]:1",
      "",
      "Stacktrace:",
      " [1] top-level scope at In[118]:1",
      " [2] include_string(::Function, ::Module, ::String, ::String) at ./loading.jl:1091"
     ]
    }
   ],
   "source": [
    "circle(c[1], radius[1]; color = black, fill::Bool = true, option)"
   ]
  },
  {
   "cell_type": "code",
   "execution_count": null,
   "metadata": {},
   "outputs": [],
   "source": []
  },
  {
   "cell_type": "markdown",
   "metadata": {},
   "source": [
    "対角優位\n",
    "http://www.math.ritsumei.ac.jp/~yasutomi/jugyo/Numerical_Analysis/note5.pdf\n",
    "\n",
    "計算途中がでる\n",
    "http://www.cas.cmc.osaka-u.ac.jp/~paoon/misc/julia/post/cg/\n",
    "\n",
    "\n",
    "http://infsup.jp/saito/materials/na19exer.pdf"
   ]
  },
  {
   "cell_type": "markdown",
   "metadata": {},
   "source": []
  }
 ],
 "metadata": {
  "kernelspec": {
   "display_name": "Julia 1.5.0",
   "language": "julia",
   "name": "julia-1.5"
  },
  "language_info": {
   "file_extension": ".jl",
   "mimetype": "application/julia",
   "name": "julia",
   "version": "1.5.0"
  }
 },
 "nbformat": 4,
 "nbformat_minor": 4
}
