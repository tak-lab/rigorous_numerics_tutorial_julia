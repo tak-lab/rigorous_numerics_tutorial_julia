{
 "cells": [
  {
   "cell_type": "code",
   "execution_count": 1,
   "id": "42e30b81",
   "metadata": {},
   "outputs": [
    {
     "data": {
      "text/plain": [
       "1"
      ]
     },
     "execution_count": 1,
     "metadata": {},
     "output_type": "execute_result"
    }
   ],
   "source": [
    "Threads.nthreads()"
   ]
  },
  {
   "cell_type": "code",
   "execution_count": 3,
   "id": "55d9bd17-807b-4ae1-b5e4-a2e8df7e3a47",
   "metadata": {},
   "outputs": [
    {
     "data": {
      "text/plain": [
       "f (generic function with 1 method)"
      ]
     },
     "metadata": {},
     "output_type": "display_data"
    }
   ],
   "source": [
    "f(x) = sin(x)"
   ]
  },
  {
   "cell_type": "code",
   "execution_count": 4,
   "id": "98b36d30-b652-4b73-bc68-3efacdc653f3",
   "metadata": {},
   "outputs": [
    {
     "data": {
      "text/plain": [
       "100000000-element Vector{Float64}:\n",
       "  0.6488815218670269\n",
       " -0.38905042331697814\n",
       "  1.4113533889757908\n",
       "  0.6293867097580864\n",
       " -0.4965669693794891\n",
       " -0.18951588049230653\n",
       "  0.02251079629401766\n",
       " -1.688288353986386\n",
       "  0.9979018708880366\n",
       "  0.6860993643250246\n",
       "  ⋮\n",
       "  1.7176179792770403\n",
       "  0.5861549943154972\n",
       "  1.5844221997479975\n",
       " -1.3421998667134407\n",
       " -0.24091986519785483\n",
       " -1.2250387660791364\n",
       " -0.17431680682853287\n",
       " -0.6718145936834968\n",
       "  2.865945481034396"
      ]
     },
     "metadata": {},
     "output_type": "display_data"
    }
   ],
   "source": [
    "x = randn(100000000)"
   ]
  },
  {
   "cell_type": "code",
   "execution_count": 6,
   "id": "b68418a1-e2d9-4fc4-aedb-22cf9fe5dd11",
   "metadata": {},
   "outputs": [
    {
     "name": "stdout",
     "output_type": "stream",
     "text": [
      "  1.016487 seconds (3 allocations: 762.940 MiB, 2.04% gc time)\n"
     ]
    }
   ],
   "source": [
    "@time f1 = f.(x);"
   ]
  },
  {
   "cell_type": "code",
   "execution_count": 7,
   "id": "c69c4da8-7f36-4999-abac-b0a404e2581d",
   "metadata": {},
   "outputs": [
    {
     "data": {
      "text/plain": [
       "test_threads (generic function with 1 method)"
      ]
     },
     "metadata": {},
     "output_type": "display_data"
    }
   ],
   "source": [
    "function test_threads(f,x)\n",
    "    fval = similar(x)\n",
    "    Threads.@threads for i = 1:length(x)\n",
    "        fval[i] = f(x[i])\n",
    "    end\n",
    "    return fval\n",
    "end"
   ]
  },
  {
   "cell_type": "code",
   "execution_count": 9,
   "id": "8b7528e3-37a8-47f6-8a90-ce56287378a3",
   "metadata": {},
   "outputs": [
    {
     "name": "stdout",
     "output_type": "stream",
     "text": [
      "  0.408296 seconds (25 allocations: 762.942 MiB)\n"
     ]
    }
   ],
   "source": [
    "@time f2 = test_threads(f,x);"
   ]
  },
  {
   "cell_type": "code",
   "execution_count": 10,
   "id": "2b1ced4a-f637-431d-ac34-7e6aab13d949",
   "metadata": {},
   "outputs": [],
   "source": [
    "using Distributed\n",
    "addprocs()\n",
    "@everywhere f(x) = sin(x)\n",
    "using SharedArrays"
   ]
  },
  {
   "cell_type": "code",
   "execution_count": 11,
   "id": "0d4b3e4f-a981-4cd6-8edc-a3a3511092c2",
   "metadata": {},
   "outputs": [
    {
     "data": {
      "text/plain": [
       "test_process (generic function with 1 method)"
      ]
     },
     "metadata": {},
     "output_type": "display_data"
    }
   ],
   "source": [
    "function test_process(f,x)\n",
    "    n = length(x)\n",
    "    fval = SharedArray{Float64}(n)\n",
    "    @distributed for i = 1:n\n",
    "        fval[i] = f(x[i])\n",
    "    end\n",
    "    return fval\n",
    "end\n",
    "# fval"
   ]
  },
  {
   "cell_type": "code",
   "execution_count": 17,
   "id": "863b8abb-8708-4507-8205-9771f07288cf",
   "metadata": {},
   "outputs": [
    {
     "name": "stdout",
     "output_type": "stream",
     "text": [
      "  0.001549 seconds (349 allocations: 20.352 KiB)\n"
     ]
    }
   ],
   "source": [
    "@time f4 = test_process(f,x);"
   ]
  },
  {
   "cell_type": "code",
   "execution_count": 18,
   "id": "f9b85025-9ea1-4c22-b28a-d76d72b68e81",
   "metadata": {},
   "outputs": [
    {
     "data": {
      "text/plain": [
       "0.0"
      ]
     },
     "metadata": {},
     "output_type": "display_data"
    }
   ],
   "source": [
    "using LinearAlgebra\n",
    "norm(f1 - f4)"
   ]
  }
 ],
 "metadata": {
  "kernelspec": {
   "display_name": "Julia 1.10.0",
   "language": "julia",
   "name": "julia-1.10"
  },
  "language_info": {
   "file_extension": ".jl",
   "mimetype": "application/julia",
   "name": "julia",
   "version": "1.10.0"
  }
 },
 "nbformat": 4,
 "nbformat_minor": 5
}
