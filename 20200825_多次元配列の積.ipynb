{
 "cells": [
  {
   "cell_type": "markdown",
   "metadata": {},
   "source": [
    "使い方はここを参考にした。\n",
    "https://github.com/JuliaPackageMirrors/StaticArrays.jl\n"
   ]
  },
  {
   "cell_type": "code",
   "execution_count": 4,
   "metadata": {},
   "outputs": [
    {
     "name": "stderr",
     "output_type": "stream",
     "text": [
      "┌ Info: Precompiling Gaius [bffe22d1-cb55-4f4e-ac2c-f4dd4bf58912]\n",
      "└ @ Base loading.jl:1278\n"
     ]
    }
   ],
   "source": [
    "using IntervalArithmetic, BenchmarkTools,LinearAlgebra,StaticArrays,Gaius"
   ]
  },
  {
   "cell_type": "code",
   "execution_count": 17,
   "metadata": {},
   "outputs": [
    {
     "name": "stdout",
     "output_type": "stream",
     "text": [
      "loop1\n",
      "  0.182368 seconds (1.03 M allocations: 108.193 MiB, 38.00% gc time)\n",
      "  0.208577 seconds (1000.00 k allocations: 106.812 MiB, 46.27% gc time)\n",
      "  0.166075 seconds (1000.00 k allocations: 106.812 MiB, 49.89% gc time)\n",
      "loop2!\n",
      "  0.116463 seconds (1.03 M allocations: 108.193 MiB, 26.40% gc time)\n",
      "  0.139109 seconds (1000.00 k allocations: 106.812 MiB, 45.66% gc time)\n",
      "  0.121371 seconds (1000.00 k allocations: 106.812 MiB, 46.76% gc time)\n"
     ]
    }
   ],
   "source": [
    "mutable struct TestB\n",
    "    U::Array{Array{Float64,1},1} \n",
    "    TestB(n) = new(Array{Array{Float64,1},1}(undef,n))\n",
    "end\n",
    "n = 1000000\n",
    "testB = TestB(n)\n",
    "\n",
    "function loop1(testB)\n",
    "    for i=1:length(testB.U)\n",
    "        testB.U[i] = rand(4)\n",
    "    end\n",
    "end\n",
    "\n",
    "function loop2!(testB)\n",
    "    for i=1:length(testB.U)\n",
    "        testB.U[i] = rand(4)\n",
    "    end\n",
    "end\n",
    "\n",
    "println(\"loop1\")\n",
    "@time loop1(testB)\n",
    "@time loop1(testB)\n",
    "@time loop1(testB)\n",
    "println(\"loop2!\")\n",
    "\n",
    "@time loop2!(testB)\n",
    "@time loop2!(testB)\n",
    "@time loop2!(testB)"
   ]
  },
  {
   "cell_type": "code",
   "execution_count": 13,
   "metadata": {},
   "outputs": [
    {
     "name": "stdout",
     "output_type": "stream",
     "text": [
      "loop1\n",
      "  0.010509 seconds (26.04 k allocations: 1.435 MiB)\n",
      "  0.000005 seconds (10 allocations: 1.094 KiB)\n",
      "  0.000006 seconds (10 allocations: 1.094 KiB)\n"
     ]
    }
   ],
   "source": [
    "mutable struct TestB\n",
    "    U::Array{Array{Float64,1},1} \n",
    "    TestB(n) = new(Array{Array{Float64,1},1}(undef,n))\n",
    "end\n",
    "n = 10\n",
    "testB = TestB(n)\n",
    "\n",
    "function loop1(testB)\n",
    "    for i=1:length(testB.U)\n",
    "        testB.U[i] = rand(4)\n",
    "    end\n",
    "end\n",
    "\n",
    "println(\"loop1\")\n",
    "@time loop1(testB)\n",
    "@time loop1(testB)\n",
    "@time loop1(testB)"
   ]
  },
  {
   "cell_type": "code",
   "execution_count": 16,
   "metadata": {},
   "outputs": [
    {
     "data": {
      "text/plain": [
       "4-element Array{Float64,1}:\n",
       " 0.059331734346788734\n",
       " 0.4455227313215233\n",
       " 0.05606072249917804\n",
       " 0.8962986056428659"
      ]
     },
     "execution_count": 16,
     "metadata": {},
     "output_type": "execute_result"
    }
   ],
   "source": [
    "testB.U[10]"
   ]
  },
  {
   "cell_type": "code",
   "execution_count": null,
   "metadata": {},
   "outputs": [],
   "source": [
    "rand(4)"
   ]
  },
  {
   "cell_type": "code",
   "execution_count": null,
   "metadata": {},
   "outputs": [],
   "source": []
  },
  {
   "cell_type": "code",
   "execution_count": 19,
   "metadata": {},
   "outputs": [
    {
     "name": "stdout",
     "output_type": "stream",
     "text": [
      "loop1\n",
      "  0.390608 seconds (1.44 M allocations: 131.094 MiB, 28.42% gc time)\n",
      "  0.080185 seconds (1000.00 k allocations: 106.812 MiB, 9.20% gc time)\n",
      "  0.076481 seconds (1000.00 k allocations: 106.812 MiB, 7.80% gc time)\n",
      "loop2!\n",
      "  0.098727 seconds (1.03 M allocations: 108.228 MiB, 13.62% gc time)\n",
      "  0.078860 seconds (1000.00 k allocations: 106.812 MiB, 8.41% gc time)\n",
      "  0.068388 seconds (1000.00 k allocations: 106.812 MiB, 8.75% gc time)\n"
     ]
    }
   ],
   "source": [
    "\n",
    "\n",
    "mutable struct TestBst\n",
    "    U::Array{SVector{4,Float64},1} \n",
    "    TestBst(n) = new(Array{SVector{4,Float64},1}(undef,n))\n",
    "end\n",
    "testBst = TestBst(n)\n",
    "\n",
    "println(\"loop1\")\n",
    "@time loop1(testBst)\n",
    "@time loop1(testBst)\n",
    "@time loop1(testBst)\n",
    "\n",
    "println(\"loop2!\")\n",
    "@time loop2!(testBst)\n",
    "@time loop2!(testBst)\n",
    "@time loop2!(testBst)"
   ]
  },
  {
   "cell_type": "code",
   "execution_count": 44,
   "metadata": {},
   "outputs": [
    {
     "name": "stdout",
     "output_type": "stream",
     "text": [
      "loop1\n",
      "  0.000089 seconds (2.00 k allocations: 156.250 KiB)\n",
      "  0.000085 seconds (2.00 k allocations: 156.250 KiB)\n",
      "  0.000089 seconds (2.00 k allocations: 156.250 KiB)\n",
      "loop2!\n",
      "  0.000099 seconds (2.00 k allocations: 156.250 KiB)\n",
      "  0.000084 seconds (2.00 k allocations: 156.250 KiB)\n",
      "  0.000087 seconds (2.00 k allocations: 156.250 KiB)\n"
     ]
    }
   ],
   "source": [
    "mutable struct TestBstm\n",
    "    U::Array{MVector{4,Float64},1} \n",
    "    TestBstm(n) = new(Array{MVector{4,Float64},1}(undef,n))\n",
    "end\n",
    "testBstm = TestBstm(n)\n",
    "\n",
    "println(\"loop1\")\n",
    "@time loop1(testBstm)\n",
    "@time loop1(testBstm)\n",
    "@time loop1(testBstm)\n",
    "\n",
    "println(\"loop2!\")\n",
    "@time loop2!(testBstm)\n",
    "@time loop2!(testBstm)\n",
    "@time loop2!(testBstm)"
   ]
  },
  {
   "cell_type": "code",
   "execution_count": null,
   "metadata": {},
   "outputs": [],
   "source": []
  },
  {
   "cell_type": "code",
   "execution_count": null,
   "metadata": {},
   "outputs": [],
   "source": []
  },
  {
   "cell_type": "code",
   "execution_count": 25,
   "metadata": {},
   "outputs": [
    {
     "data": {
      "text/plain": [
       "TestB([#undef, #undef, #undef, #undef, #undef, #undef, #undef, #undef, #undef, #undef])"
      ]
     },
     "execution_count": 25,
     "metadata": {},
     "output_type": "execute_result"
    }
   ],
   "source": [
    "mutable struct TestB\n",
    "    U::Array{Array{Float64,1},1} \n",
    "    TestB(n) = new(Array{Array{Float64,1},1}(undef,n))\n",
    "end\n",
    "n = 10\n",
    "testB = TestB(n)"
   ]
  },
  {
   "cell_type": "code",
   "execution_count": 26,
   "metadata": {},
   "outputs": [
    {
     "data": {
      "text/plain": [
       "TestBst(SArray{Tuple{4},Float64,1,4}[[0.0, 5.0e-324, 1.0e-323, 1.5e-323], [2.0e-323, 2.5e-323, 3.0e-323, 3.5e-323], [4.0e-323, 4.4e-323, 5.0e-323, 5.4e-323], [6.0e-323, 6.4e-323, 7.0e-323, 7.0e-323], [8.0e-323, 8.4e-323, 9.0e-323, 9.4e-323], [1.0e-322, 1.04e-322, 1.1e-322, 1.14e-322], [1.14e-322, 1.24e-322, 1.3e-322, 1.33e-322], [1.4e-322, 1.43e-322, 1.5e-322, 1.53e-322], [1.6e-322, 1.63e-322, 1.7e-322, 1.73e-322], [1.8e-322, 1.04e-322, 6.0e-323, 3.60739284543e-313]])"
      ]
     },
     "execution_count": 26,
     "metadata": {},
     "output_type": "execute_result"
    }
   ],
   "source": [
    "mutable struct TestBst\n",
    "    U::Array{SVector{4,Float64},1} \n",
    "    TestBst(n) = new(Array{SVector{4,Float64},1}(undef,n))\n",
    "end\n",
    "n=10\n",
    "testBst = TestBst(n)\n"
   ]
  },
  {
   "cell_type": "code",
   "execution_count": 28,
   "metadata": {},
   "outputs": [
    {
     "data": {
      "text/plain": [
       "TestBstm(MArray{Tuple{4},Float64,1,4}[#undef, #undef, #undef, #undef, #undef, #undef, #undef, #undef, #undef, #undef])"
      ]
     },
     "execution_count": 28,
     "metadata": {},
     "output_type": "execute_result"
    }
   ],
   "source": [
    "mutable struct TestBstm\n",
    "    U::Array{MVector{4,Float64},1} \n",
    "    TestBstm(n) = new(Array{MVector{4,Float64},1}(undef,n))\n",
    "end\n",
    "n = 10\n",
    "testBstm = TestBstm(n)"
   ]
  },
  {
   "cell_type": "code",
   "execution_count": null,
   "metadata": {},
   "outputs": [],
   "source": []
  },
  {
   "cell_type": "code",
   "execution_count": 2,
   "metadata": {},
   "outputs": [],
   "source": []
  },
  {
   "cell_type": "code",
   "execution_count": 2,
   "metadata": {},
   "outputs": [
    {
     "name": "stdout",
     "output_type": "stream",
     "text": [
      "  85.854 μs (6017 allocations: 95.92 KiB)\n"
     ]
    },
    {
     "data": {
      "text/plain": [
       "10×10 Array{Interval{Float64},2}:\n",
       "  [2.33712, 2.33713]     [-1.43618, -1.43617]    …   [3.15697, 3.15698]\n",
       " [-2.47256, -2.47255]    [-1.30812, -1.30811]        [2.45367, 2.45368]\n",
       " [-2.01365, -2.01364]    [-0.220074, -0.220073]     [-2.04024, -2.04023]\n",
       " [-1.69602, -1.69601]    [-1.29216, -1.29215]        [4.60867, 4.60868]\n",
       " [-1.20655, -1.20654]     [5.3306, 5.33061]         [-4.44993, -4.44992]\n",
       " [-4.10772, -4.10771]    [-0.123374, -0.123373]  …   [5.7667, 5.76671]\n",
       " [-0.508448, -0.508447]   [1.997, 1.99701]          [-4.78627, -4.78626]\n",
       "  [1.80795, 1.80796]      [0.656784, 0.656785]       [2.30677, 2.30678]\n",
       " [-1.35617, -1.35616]    [-0.324413, -0.324412]      [1.27387, 1.27388]\n",
       " [-3.77398, -3.77397]    [-3.48624, -3.48623]        [0.195351, 0.195352]"
      ]
     },
     "execution_count": 2,
     "metadata": {},
     "output_type": "execute_result"
    }
   ],
   "source": [
    "#多次元配列どうしの積(関数なし)→n=1000で43.136 s (8 allocations: 15.26 MiB)\n",
    "#これが遅すぎる。\n",
    "n = 10\n",
    "A = randn(n,n)\n",
    "B = randn(n,n);\n",
    "A_int = map(Interval, A)\n",
    "B_int = map(Interval, B);\n",
    "@btime C = A_int*B_int"
   ]
  },
  {
   "cell_type": "code",
   "execution_count": 4,
   "metadata": {},
   "outputs": [
    {
     "name": "stdout",
     "output_type": "stream",
     "text": [
      "  96.710 ms (6000020 allocations: 91.71 MiB)\n"
     ]
    },
    {
     "data": {
      "text/plain": [
       "100×100 Array{Interval{Float64},2}:\n",
       "  [18.5026, 18.5027]       …   [-7.01527, -7.01526]\n",
       " [-11.8598, -11.8597]          [13.4415, 13.4416]\n",
       "  [23.3565, 23.3566]            [2.24554, 2.24555]\n",
       "   [5.33565, 5.33566]           [0.583476, 0.583477]\n",
       "  [-6.94305, -6.94304]         [-3.92545, -3.92544]\n",
       "  [10.9567, 10.9568]       …  [-12.479, -12.4789]\n",
       "   [3.32321, 3.32322]          [-7.57304, -7.57303]\n",
       "  [-2.83551, -2.8355]         [-10.0105, -10.0104]\n",
       "  [-3.63862, -3.63861]          [6.98804, 6.98805]\n",
       "   [8.1531, 8.15311]          [-10.23, -10.2299]\n",
       "   [3.29518, 3.29519]      …    [0.232783, 0.232784]\n",
       "  [-4.37244, -4.37243]          [7.75521, 7.75522]\n",
       "   [6.34688, 6.34689]           [1.55943, 1.55944]\n",
       "    ⋮                      ⋱  \n",
       " [-20.0457, -20.0456]          [22.8926, 22.8927]\n",
       " [-11.9282, -11.9281]          [-3.31966, -3.31965]\n",
       "   [2.09678, 2.09679]      …   [15.3862, 15.3863]\n",
       " [-13.0281, -13.028]           [-1.91111, -1.9111]\n",
       "  [13.0868, 13.0869]           [-8.5704, -8.57039]\n",
       "  [-7.61402, -7.61401]         [-7.17907, -7.17906]\n",
       "  [-4.64379, -4.64378]          [2.10738, 2.10739]\n",
       "   [2.15173, 2.15174]      …   [19.9441, 19.9442]\n",
       "   [0.0778545, 0.0778546]       [8.63905, 8.63906]\n",
       " [-15.5312, -15.5311]           [1.61345, 1.61346]\n",
       "  [-1.84739, -1.84738]        [-10.0753, -10.0752]\n",
       "  [19.4568, 19.4569]           [15.3553, 15.3554]"
      ]
     },
     "execution_count": 4,
     "metadata": {},
     "output_type": "execute_result"
    }
   ],
   "source": [
    "n = 100\n",
    "A = randn(n,n)\n",
    "B = randn(n,n);\n",
    "A_int = map(Interval, A)\n",
    "B_int = map(Interval, B);\n",
    "@btime C = A_int*B_int"
   ]
  },
  {
   "cell_type": "code",
   "execution_count": 62,
   "metadata": {},
   "outputs": [
    {
     "name": "stdout",
     "output_type": "stream",
     "text": [
      "  102.915 s (6000000028 allocations: 89.47 GiB)\n"
     ]
    },
    {
     "data": {
      "text/plain": [
       "1000×1000 Array{Interval{Float64},2}:\n",
       " [-14.7513, -14.7512]   [-15.7256, -15.7255]   …    [4.94333, 4.94334]\n",
       " [-16.3479, -16.3478]    [44.8153, 44.8154]         [8.2312, 8.23121]\n",
       "   [7.04881, 7.04882]     [3.49623, 3.49624]       [-9.70518, -9.70517]\n",
       "   [5.05753, 5.05754]    [-6.07192, -6.07191]     [-37.4832, -37.4831]\n",
       "   [6.53195, 6.53196]    [22.9162, 22.9163]       [-43.9351, -43.935]\n",
       " [-10.1512, -10.1511]   [-33.2032, -33.2031]   …   [25.1554, 25.1555]\n",
       " [-27.7906, -27.7905]   [-25.7477, -25.7476]       [-2.13998, -2.13997]\n",
       "  [13.9632, 13.9633]    [-22.0558, -22.0557]       [15.0557, 15.0558]\n",
       "  [44.7458, 44.7459]     [38.7208, 38.7209]        [-8.44565, -8.44564]\n",
       "  [44.9188, 44.9189]      [6.27279, 6.2728]       [-30.1326, -30.1325]\n",
       " [-33.5866, -33.5865]   [-65.2488, -65.2487]   …  [-11.1467, -11.1466]\n",
       "  [58.6243, 58.6244]     [10.7107, 10.7108]        [11.3121, 11.3122]\n",
       "  [34.617, 34.6171]      [28.5556, 28.5557]        [11.9021, 11.9022]\n",
       "    ⋮                                          ⋱  \n",
       " [-21.4356, -21.4355]   [-34.5282, -34.5281]       [34.5483, 34.5484]\n",
       "  [18.9318, 18.9319]      [2.83079, 2.8308]        [88.1666, 88.1667]\n",
       "  [13.0689, 13.069]      [-4.86437, -4.86436]  …   [28.8094, 28.8095]\n",
       " [-20.7727, -20.7726]     [4.38904, 4.38905]      [-22.0322, -22.0321]\n",
       "   [8.12777, 8.12778]   [-21.821, -21.8209]       [-21.3594, -21.3593]\n",
       "  [17.1097, 17.1098]    [-12.2767, -12.2766]       [-4.03287, -4.03286]\n",
       "  [24.183, 24.1831]     [-44.0146, -44.0145]      [-39.7663, -39.7662]\n",
       "  [45.0321, 45.0322]      [6.33768, 6.33769]   …  [-24.2904, -24.2903]\n",
       " [-29.6939, -29.6938]    [37.4522, 37.4523]       [-11.0429, -11.0428]\n",
       "  [23.6307, 23.6308]    [-16.3893, -16.3892]       [10.3541, 10.3542]\n",
       "  [-1.83584, -1.83583]   [39.0581, 39.0582]        [-4.15771, -4.1577]\n",
       "  [20.4019, 20.402]     [-19.3435, -19.3434]       [14.2041, 14.2042]"
      ]
     },
     "execution_count": 62,
     "metadata": {},
     "output_type": "execute_result"
    }
   ],
   "source": [
    "function test()\n",
    "    n = 1000\n",
    "    A = randn(n,n)\n",
    "    B = randn(n,n);\n",
    "    A_int = map(Interval, A)\n",
    "    B_int = map(Interval, B)\n",
    "    alpha = A_int*B_int\n",
    "end\n",
    "@btime test()"
   ]
  },
  {
   "cell_type": "code",
   "execution_count": 61,
   "metadata": {},
   "outputs": [
    {
     "ename": "LoadError",
     "evalue": "UndefVarError: test not defined",
     "output_type": "error",
     "traceback": [
      "UndefVarError: test not defined",
      "",
      "Stacktrace:",
      " [1] top-level scope at In[61]:1",
      " [2] include_string(::Function, ::Module, ::String, ::String) at ./loading.jl:1091"
     ]
    }
   ],
   "source": []
  },
  {
   "cell_type": "code",
   "execution_count": null,
   "metadata": {},
   "outputs": [],
   "source": []
  },
  {
   "cell_type": "code",
   "execution_count": null,
   "metadata": {},
   "outputs": [],
   "source": []
  },
  {
   "cell_type": "code",
   "execution_count": 8,
   "metadata": {},
   "outputs": [
    {
     "ename": "LoadError",
     "evalue": "UndefVarError: MVector not defined",
     "output_type": "error",
     "traceback": [
      "UndefVarError: MVector not defined",
      "",
      "Stacktrace:",
      " [1] top-level scope at In[8]:2",
      " [2] include_string(::Function, ::Module, ::String, ::String) at ./loading.jl:1091"
     ]
    }
   ],
   "source": [
    "n=1000\n",
    "x = MVector{n,Float64}\n",
    "x"
   ]
  },
  {
   "cell_type": "code",
   "execution_count": 3,
   "metadata": {},
   "outputs": [
    {
     "name": "stdout",
     "output_type": "stream",
     "text": [
      "  24.478 μs (1 allocation: 1.59 KiB)\n"
     ]
    },
    {
     "data": {
      "text/plain": [
       "10×10 SArray{Tuple{10,10},Interval{Float64},2,100} with indices SOneTo(10)×SOneTo(10):\n",
       " [-4.6933, -4.69329]      [1.68633, 1.68634]     …  [-0.565766, -0.565765]\n",
       "  [1.25672, 1.25673]     [-3.91671, -3.9167]         [6.10597, 6.10598]\n",
       " [-4.01263, -4.01262]    [-0.195624, -0.195623]     [-3.87737, -3.87736]\n",
       "  [1.24341, 1.24342]     [-2.70752, -2.70751]        [1.3763, 1.37631]\n",
       " [-2.92159, -2.92158]     [0.936937, 0.936938]      [-4.87832, -4.87831]\n",
       " [-3.08518, -3.08517]    [-4.33616, -4.33615]    …   [5.15458, 5.15459]\n",
       " [-0.470775, -0.470774]  [-3.74926, -3.74925]       [-2.52896, -2.52895]\n",
       "  [5.67067, 5.67068]      [0.431221, 0.431222]       [2.49454, 2.49455]\n",
       "  [0.409487, 0.409488]   [-5.28171, -5.2817]        [-3.25128, -3.25127]\n",
       "  [2.83487, 2.83488]     [-1.45761, -1.4576]         [0.706552, 0.706553]"
      ]
     },
     "execution_count": 3,
     "metadata": {},
     "output_type": "execute_result"
    }
   ],
   "source": [
    "n=10\n",
    "A = @SMatrix randn(n, n)\n",
    "B = @SMatrix randn(n, n)\n",
    "A_int = map(Interval, A)\n",
    "B_int = map(Interval, B)\n",
    "@btime A_int*B_int"
   ]
  },
  {
   "cell_type": "code",
   "execution_count": 11,
   "metadata": {},
   "outputs": [
    {
     "name": "stdout",
     "output_type": "stream",
     "text": [
      "  107.733 μs (6001 allocations: 95.34 KiB)\n"
     ]
    },
    {
     "data": {
      "text/plain": [
       "10×10 SArray{Tuple{10,10},Interval{Float64},2,100} with indices SOneTo(10)×SOneTo(10):\n",
       "  [3.27369, 3.2737]    [-3.85936, -3.85935]    …   [0.903987, 0.903988]\n",
       " [-3.02797, -3.02796]  [-1.84802, -1.84801]        [3.73852, 3.73853]\n",
       "  [3.31598, 3.31599]    [0.675053, 0.675054]       [2.28106, 2.28107]\n",
       "  [1.95214, 1.95215]   [-0.5147, -0.514699]        [2.355, 2.35501]\n",
       "  [4.82632, 4.82633]    [3.24143, 3.24144]        [-1.15656, -1.15655]\n",
       " [-1.63112, -1.63111]  [-1.40915, -1.40914]    …   [1.53573, 1.53574]\n",
       " [-2.46954, -2.46953]   [1.40254, 1.40255]        [-1.50979, -1.50978]\n",
       "  [2.20858, 2.20859]   [-1.21448, -1.21447]        [2.97022, 2.97023]\n",
       " [-1.81259, -1.81258]  [-1.04682, -1.04681]       [-0.351632, -0.351631]\n",
       " [-1.75923, -1.75922]  [-0.521595, -0.521594]     [-1.30992, -1.30991]"
      ]
     },
     "execution_count": 11,
     "metadata": {},
     "output_type": "execute_result"
    }
   ],
   "source": [
    "n=10\n",
    "A = @SArray randn(n, n)\n",
    "B = @SArray randn(n, n)\n",
    "A_int = map(Interval, A)\n",
    "B_int = map(Interval, B)\n",
    "@btime A_int*B_int"
   ]
  },
  {
   "cell_type": "code",
   "execution_count": 12,
   "metadata": {},
   "outputs": [
    {
     "ename": "LoadError",
     "evalue": "syntax: invalid syntax (memory-error out of gc handles)",
     "output_type": "error",
     "traceback": [
      "syntax: invalid syntax (memory-error out of gc handles)",
      "",
      "Stacktrace:",
      " [1] top-level scope at In[12]:2",
      " [2] macro expansion at /Users/K/.julia/packages/StaticArrays/l7lu2/src/SMatrix.jl:35 [inlined]",
      " [3] SArray at /Users/K/.julia/packages/StaticArrays/l7lu2/src/SMatrix.jl:32 [inlined]",
      " [4] macro expansion at /Users/K/.julia/packages/StaticArrays/l7lu2/src/arraymath.jl:76 [inlined]",
      " [5] _randn at /Users/K/.julia/packages/StaticArrays/l7lu2/src/arraymath.jl:68 [inlined]",
      " [6] randn at /Users/K/.julia/packages/StaticArrays/l7lu2/src/arraymath.jl:67 [inlined]",
      " [7] randn(::Type{SArray{Tuple{100,100},T,2,L} where L where T}) at /Users/julia/buildbot/worker/package_macos64/build/usr/share/julia/stdlib/v1.5/Random/src/normal.jl:173",
      " [8] top-level scope at /Users/K/.julia/packages/StaticArrays/l7lu2/src/SMatrix.jl:164",
      " [9] include_string(::Function, ::Module, ::String, ::String) at ./loading.jl:1091"
     ]
    }
   ],
   "source": [
    "n=100\n",
    "A = @SMatrix randn(n, n)\n",
    "B = @SMatrix randn(n, n)\n",
    "A_int = map(Interval, A)\n",
    "B_int = map(Interval, B)\n",
    "@btime A_int*B_int"
   ]
  },
  {
   "cell_type": "code",
   "execution_count": 13,
   "metadata": {},
   "outputs": [
    {
     "ename": "LoadError",
     "evalue": "syntax: invalid syntax (memory-error out of gc handles)",
     "output_type": "error",
     "traceback": [
      "syntax: invalid syntax (memory-error out of gc handles)",
      "",
      "Stacktrace:",
      " [1] top-level scope at In[13]:2",
      " [2] macro expansion at /Users/K/.julia/packages/StaticArrays/l7lu2/src/SArray.jl:49 [inlined]",
      " [3] SArray at /Users/K/.julia/packages/StaticArrays/l7lu2/src/SArray.jl:46 [inlined]",
      " [4] macro expansion at /Users/K/.julia/packages/StaticArrays/l7lu2/src/arraymath.jl:76 [inlined]",
      " [5] _randn at /Users/K/.julia/packages/StaticArrays/l7lu2/src/arraymath.jl:68 [inlined]",
      " [6] randn at /Users/K/.julia/packages/StaticArrays/l7lu2/src/arraymath.jl:67 [inlined]",
      " [7] randn(::Type{SArray{Tuple{100,100},T,N,L} where L where N where T}) at /Users/julia/buildbot/worker/package_macos64/build/usr/share/julia/stdlib/v1.5/Random/src/normal.jl:173",
      " [8] top-level scope at /Users/K/.julia/packages/StaticArrays/l7lu2/src/SArray.jl:261",
      " [9] include_string(::Function, ::Module, ::String, ::String) at ./loading.jl:1091"
     ]
    }
   ],
   "source": [
    "n=100\n",
    "A = @SArray randn(n, n)\n",
    "B = @SArray randn(n, n)\n",
    "A_int = map(Interval, A)\n",
    "B_int = map(Interval, B)\n",
    "@btime A_int*B_int"
   ]
  },
  {
   "cell_type": "code",
   "execution_count": null,
   "metadata": {},
   "outputs": [],
   "source": []
  },
  {
   "cell_type": "code",
   "execution_count": null,
   "metadata": {},
   "outputs": [],
   "source": []
  },
  {
   "cell_type": "code",
   "execution_count": null,
   "metadata": {},
   "outputs": [],
   "source": []
  },
  {
   "cell_type": "code",
   "execution_count": 9,
   "metadata": {},
   "outputs": [
    {
     "ename": "LoadError",
     "evalue": "syntax: invalid syntax (memory-error out of gc handles)",
     "output_type": "error",
     "traceback": [
      "syntax: invalid syntax (memory-error out of gc handles)",
      "",
      "Stacktrace:",
      " [1] top-level scope at In[9]:2",
      " [2] macro expansion at /Users/K/.julia/packages/StaticArrays/l7lu2/src/MArray.jl:56 [inlined]",
      " [3] MArray at /Users/K/.julia/packages/StaticArrays/l7lu2/src/MArray.jl:53 [inlined]",
      " [4] macro expansion at /Users/K/.julia/packages/StaticArrays/l7lu2/src/arraymath.jl:76 [inlined]",
      " [5] _randn at /Users/K/.julia/packages/StaticArrays/l7lu2/src/arraymath.jl:68 [inlined]",
      " [6] randn at /Users/K/.julia/packages/StaticArrays/l7lu2/src/arraymath.jl:67 [inlined]",
      " [7] randn(::Type{MArray{Tuple{100,100},T,N,L} where L where N where T}) at /Users/julia/buildbot/worker/package_macos64/build/usr/share/julia/stdlib/v1.5/Random/src/normal.jl:173",
      " [8] macro expansion at /Users/K/.julia/packages/StaticArrays/l7lu2/src/MArray.jl:246 [inlined]",
      " [9] ##core#291() at /Users/K/.julia/packages/BenchmarkTools/eCEpo/src/execution.jl:371",
      " [10] ##sample#292(::BenchmarkTools.Parameters) at /Users/K/.julia/packages/BenchmarkTools/eCEpo/src/execution.jl:377",
      " [11] _run(::BenchmarkTools.Benchmark{Symbol(\"##benchmark#290\")}, ::BenchmarkTools.Parameters; verbose::Bool, pad::String, kwargs::Base.Iterators.Pairs{Symbol,Integer,NTuple{4,Symbol},NamedTuple{(:samples, :evals, :gctrial, :gcsample),Tuple{Int64,Int64,Bool,Bool}}}) at /Users/K/.julia/packages/BenchmarkTools/eCEpo/src/execution.jl:405",
      " [12] (::Base.var\"#inner#2\"{Base.Iterators.Pairs{Symbol,Integer,NTuple{5,Symbol},NamedTuple{(:verbose, :samples, :evals, :gctrial, :gcsample),Tuple{Bool,Int64,Int64,Bool,Bool}}},typeof(BenchmarkTools._run),Tuple{BenchmarkTools.Benchmark{Symbol(\"##benchmark#290\")},BenchmarkTools.Parameters}})() at ./essentials.jl:713",
      " [13] #invokelatest#1 at ./essentials.jl:714 [inlined]",
      " [14] #run_result#37 at /Users/K/.julia/packages/BenchmarkTools/eCEpo/src/execution.jl:32 [inlined]",
      " [15] run(::BenchmarkTools.Benchmark{Symbol(\"##benchmark#290\")}, ::BenchmarkTools.Parameters; progressid::Nothing, nleaves::Float64, ndone::Float64, kwargs::Base.Iterators.Pairs{Symbol,Integer,NTuple{5,Symbol},NamedTuple{(:verbose, :samples, :evals, :gctrial, :gcsample),Tuple{Bool,Int64,Int64,Bool,Bool}}}) at /Users/K/.julia/packages/BenchmarkTools/eCEpo/src/execution.jl:94",
      " [16] #warmup#45 at /Users/K/.julia/packages/BenchmarkTools/eCEpo/src/execution.jl:141 [inlined]",
      " [17] warmup(::BenchmarkTools.Benchmark{Symbol(\"##benchmark#290\")}) at /Users/K/.julia/packages/BenchmarkTools/eCEpo/src/execution.jl:141",
      " [18] top-level scope at /Users/K/.julia/packages/BenchmarkTools/eCEpo/src/execution.jl:481",
      " [19] include_string(::Function, ::Module, ::String, ::String) at ./loading.jl:1091"
     ]
    }
   ],
   "source": [
    "n=100\n",
    "@btime @MArray randn(n, n)"
   ]
  },
  {
   "cell_type": "code",
   "execution_count": 5,
   "metadata": {},
   "outputs": [
    {
     "name": "stdout",
     "output_type": "stream",
     "text": [
      "  1.559 μs (10 allocations: 1.30 KiB)\n"
     ]
    },
    {
     "data": {
      "text/plain": [
       "10×10 SArray{Tuple{10,10},Float64,2,100} with indices SOneTo(10)×SOneTo(10):\n",
       "  1.50505     0.357165    0.79738   …   0.148686   -0.64183     0.65406\n",
       " -0.613825    0.216722    0.398584      0.0693377  -0.607625    0.563828\n",
       " -2.18544     0.842098   -1.05023      -0.778431   -0.692916    0.49994\n",
       "  1.95701     0.361067    0.67519       1.78144    -1.56556    -0.354335\n",
       "  0.318483   -0.0561269   1.20788      -0.332898   -0.0469341   1.85832\n",
       " -0.304686   -0.968645   -1.89357   …   0.855792    0.700053   -0.377916\n",
       " -1.20102    -0.691459   -0.55519       1.37955    -0.152235   -0.690074\n",
       "  0.624707   -1.02862    -0.971145      1.95413    -0.483826   -1.19374\n",
       "  0.221257    1.87       -2.08044       0.458115   -1.96349     0.193889\n",
       " -0.0297127   0.609317    0.175288     -0.857266   -0.877769    1.20654"
      ]
     },
     "execution_count": 5,
     "metadata": {},
     "output_type": "execute_result"
    }
   ],
   "source": [
    "n=100\n",
    "@btime @SArray randn(n, n)"
   ]
  },
  {
   "cell_type": "code",
   "execution_count": 8,
   "metadata": {},
   "outputs": [
    {
     "name": "stdout",
     "output_type": "stream",
     "text": [
      "  26.683 μs (2 allocations: 78.20 KiB)\n"
     ]
    },
    {
     "data": {
      "text/plain": [
       "100×100 Array{Float64,2}:\n",
       "  1.38811    -1.18119    -0.481426   …  -0.843334  -0.474323   -0.754267\n",
       " -0.417703   -0.110565    0.436439      -0.663688   0.279194   -0.439436\n",
       " -0.1175      0.629091    1.1158         0.789421   1.11411    -1.55513\n",
       "  0.589741   -0.218482   -1.37953       -0.719239  -0.944265    0.665723\n",
       " -0.640473   -1.08048     0.113494       1.18672   -0.542853    0.416466\n",
       "  0.696202   -0.268872   -0.125813   …   0.352549   0.142041    0.544048\n",
       " -0.46632    -0.74758    -1.87957        0.521457  -0.253445   -1.96254\n",
       "  1.4959      1.41756    -1.65895       -0.869128  -0.448364    1.99252\n",
       "  0.377172   -0.0755863  -1.19506       -1.01885   -0.840954   -0.152835\n",
       "  2.68984     0.679762    0.155746       0.246895   0.231223   -1.64844\n",
       "  0.476275    0.191581   -0.521235   …  -0.689984  -0.0260881  -0.672264\n",
       "  1.37557    -0.730582    0.658289       0.355961  -0.0339146   0.213533\n",
       " -0.874217    0.495944   -0.560153      -1.99073    0.208136    1.85065\n",
       "  ⋮                                  ⋱                         \n",
       " -0.239662    1.02663    -1.99248        0.256277  -0.528337   -0.712418\n",
       " -0.524093   -0.93274    -0.13273        0.38977   -0.0910942  -1.59115\n",
       "  1.08384    -2.04249    -0.526311   …  -0.322545  -0.39783     0.525293\n",
       " -0.201245   -0.610339   -0.424827      -0.820329   0.758265   -0.0720462\n",
       " -1.0139     -0.87142     0.0683455      0.954559   0.188285    1.6875\n",
       "  1.06533    -0.669493   -1.45339        1.12373    1.60292     2.36612\n",
       " -0.162134   -0.891115   -1.96455       -0.207871   0.179993    0.950317\n",
       " -1.53521    -0.213459   -1.23598    …  -2.24509    0.869024    2.16196\n",
       " -0.41815    -0.766901    1.38152       -1.26698    1.2857     -0.146622\n",
       "  1.42914    -0.487227   -1.62255        0.602704  -0.0207299   0.777161\n",
       "  0.562169   -1.8908      1.62533        0.571639   0.420558   -1.28488\n",
       "  0.0781398   0.773686   -0.486439       1.48021   -1.57159     1.9213"
      ]
     },
     "execution_count": 8,
     "metadata": {},
     "output_type": "execute_result"
    }
   ],
   "source": [
    "n=100\n",
    "@btime randn(n,n)"
   ]
  },
  {
   "cell_type": "code",
   "execution_count": 10,
   "metadata": {},
   "outputs": [
    {
     "data": {
      "text/plain": [
       "4-element Array{Float64,1}:\n",
       " 0.3484152915784118\n",
       " 0.6650288873101204\n",
       " 0.7081240626116099\n",
       " 0.9820750406426815"
      ]
     },
     "execution_count": 10,
     "metadata": {},
     "output_type": "execute_result"
    }
   ],
   "source": []
  },
  {
   "cell_type": "code",
   "execution_count": null,
   "metadata": {},
   "outputs": [],
   "source": []
  },
  {
   "cell_type": "code",
   "execution_count": 7,
   "metadata": {},
   "outputs": [
    {
     "name": "stdout",
     "output_type": "stream",
     "text": [
      "  2.467 s (2 allocations: 190.73 MiB)\n"
     ]
    },
    {
     "data": {
      "text/plain": [
       "5000×5000 Array{Float64,2}:\n",
       "   -7.21534   -66.7418      2.40208  …  -130.931      -83.1046   -151.093\n",
       "  -26.9267     33.0646   -140.264         32.7947     -49.4815    -73.7845\n",
       "  -38.0018    -29.3569     23.7337        -9.33656     25.5179     63.2896\n",
       "   48.9678     27.3374    -19.4438       -39.0979     -41.7046     -9.63095\n",
       " -146.027      53.0342    -67.6227       -57.5988     -84.8451     62.0372\n",
       "  -48.0885     53.0782    -93.2425   …    85.9195    -146.016      54.5118\n",
       "  -78.1394    -69.2379     56.6585       -47.2769    -114.03      -41.8321\n",
       "   -2.37252    70.5746     76.6047        35.4271     164.781     148.134\n",
       " -135.258      76.9325    -30.4526         4.10019      1.09361    86.2719\n",
       "  -33.8999    147.903     -67.7809      -141.583        7.2345     17.513\n",
       "  -54.7536     46.4204     61.0487   …   -20.8863     -22.0573     -7.68529\n",
       "   12.8638    110.352     196.076        -43.5647     -53.8017    118.876\n",
       " -142.476    -131.712      -3.75066     -111.177       57.7683    -40.0716\n",
       "    ⋮                                ⋱                           \n",
       "  -18.2406     73.4222     50.9398       -73.4723       8.91058   145.111\n",
       "   29.1861     -2.01094   -28.4472        30.2789     -49.3964    -30.2165\n",
       "  -18.5143     14.0788    -63.4267   …    31.6779     -26.5826     88.5498\n",
       "  -77.8354     76.0028   -125.811       -142.885      -87.4689    -87.0468\n",
       "   44.8601    -67.148      17.8839        -0.635176    -5.93157  -155.148\n",
       "  -90.2259     15.8829   -101.495         55.1667     -95.2012    -52.0873\n",
       "  -57.9764     36.1622     69.2465        80.0874    -158.04      -70.4344\n",
       " -103.087       3.1969    -90.6904   …    79.2352     -43.0871     71.0164\n",
       "   15.377     104.485     119.583        -16.1566      41.7077   -187.492\n",
       "   51.9793    -33.786      17.1522      -116.526       41.0218    107.49\n",
       "   20.6923   -120.286     -25.6324       -13.9437     -20.6874    -17.5979\n",
       "   40.2883    -16.8167     -5.22963       61.4698      31.414     -90.1413"
      ]
     },
     "execution_count": 7,
     "metadata": {},
     "output_type": "execute_result"
    }
   ],
   "source": [
    "n = 5000\n",
    "A = randn(n,n)\n",
    "B = randn(n,n)\n",
    "C = similar(A)\n",
    "\n",
    "@btime C =A*B\n"
   ]
  },
  {
   "cell_type": "code",
   "execution_count": 6,
   "metadata": {},
   "outputs": [
    {
     "name": "stdout",
     "output_type": "stream",
     "text": [
      "  9.579392 seconds\n"
     ]
    },
    {
     "data": {
      "text/plain": [
       "5000×5000 Array{Float64,2}:\n",
       " -12.8611      -1.57269   81.0665   …    54.8006    -1.00395    27.8871\n",
       "  13.3911      59.0817    59.7921        63.6803    80.0906     94.2207\n",
       " -69.9486      43.1075    -5.40473      -32.4677   -33.8641   -101.465\n",
       "  49.8108      -2.66925   81.8998       -66.0697    16.2635   -172.502\n",
       "  65.4743      77.4009   -13.0862        64.3996  -126.869     -30.5667\n",
       "  44.4671       4.75037   19.9925   …  -112.784     -9.25982   -39.0466\n",
       " -43.4154    -155.447    -23.5259       -97.7044   -62.6836     35.1825\n",
       "  87.1187     -10.9724    82.9786       -18.9121    72.6689     28.3687\n",
       "  54.0713      63.1462   -62.9969       -48.0789   -11.8986     48.7958\n",
       " -71.3368      -2.23769  -60.7184       -27.0228   -37.851     -71.7631\n",
       " -30.6827     -53.231     55.5305   …   -22.5262   119.164      37.0102\n",
       "  79.2678      32.9443    68.9257       131.538    -17.7486     18.9964\n",
       "  36.2539       7.86611   46.5288       -31.2509   -37.2711     26.3806\n",
       "   ⋮                                ⋱                         \n",
       " -16.6463     -12.8861    -2.21423       43.6345    43.069      26.8618\n",
       "  80.9085      -8.40859  -73.571       -146.36      93.991     -14.246\n",
       "  -2.91598     11.3534    30.1895   …   -20.741      6.06308    59.5024\n",
       "  44.2732     -24.7491   -25.0234       -14.2831    69.6002    -47.0264\n",
       "  69.3949     -86.5363   -91.9554        41.8173    59.3776    -80.318\n",
       "  -0.485677    33.9181   -17.5735       -52.68      -3.77247   -66.8952\n",
       " -36.0415      17.7401   -45.6938       -15.5575   -44.603      -3.95296\n",
       "  51.9633     -31.0494   -86.2211   …   -31.1959    80.3692     80.226\n",
       " -45.2953      26.6274    69.2289      -140.483     12.4109   -110.029\n",
       " -25.3848     -14.2197   -67.0236        11.9509    77.5438     72.4998\n",
       "  30.6975     -14.8068    13.7983       -14.3572   124.351      51.0518\n",
       "  58.3148      -9.43012  -48.3112        86.1641    76.9978    121.191"
      ]
     },
     "execution_count": 6,
     "metadata": {},
     "output_type": "execute_result"
    }
   ],
   "source": [
    "@time blocked_mul!(C,A,B)"
   ]
  },
  {
   "cell_type": "code",
   "execution_count": null,
   "metadata": {},
   "outputs": [],
   "source": []
  }
 ],
 "metadata": {
  "kernelspec": {
   "display_name": "Julia 1.5.0",
   "language": "julia",
   "name": "julia-1.5"
  },
  "language_info": {
   "file_extension": ".jl",
   "mimetype": "application/julia",
   "name": "julia",
   "version": "1.5.0"
  }
 },
 "nbformat": 4,
 "nbformat_minor": 4
}
