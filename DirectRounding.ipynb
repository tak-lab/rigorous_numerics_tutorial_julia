{
 "cells": [
  {
   "cell_type": "markdown",
   "id": "e4dbde92-15db-4a49-97f6-c1f12ad8dc34",
   "metadata": {
    "tags": []
   },
   "source": [
    "# Juliaで方向付き丸め\n",
    "\n",
    "## 機械区間演算\n",
    "\n",
    "区間演算をコンピュータで実現するには$\\mathbb{R}$の代わりに$\\mathbb{F}$を使った区間が必要．そのような区間全体を\n",
    "\n",
    "$$\n",
    "\t\\mathbb{IF}:=\\{\\boldsymbol{x}\\in\\mathbb{IR}: \\underline{x},~\\overline{x}\\in\\mathbb{F}\\}\n",
    "$$\n",
    "\n",
    "と定義する．IEEE754規格に準拠したシステム上では演算後の丸めの向きを制御することができる．\n",
    "演算結果が浮動小数点数でない場合，丸めの向きを制御して計算する．\n",
    "いま$a,b\\in\\mathbb{F}$に対して，$\\circ\\in\\{+,-,\\times,\\div\\}$として\n",
    "\n",
    "\\begin{align*}\n",
    "\t\\mathtt{fl}_{\\bigtriangledown}\\!\\left(a\\circ b\\right)&:=\\max\\{x\\in\\mathbb{F}:x\\le a\\circ b\\}\\mbox{（下向き丸め）}\\\\\n",
    "\t\\mathtt{fl}_{\\bigtriangleup}\\!\\left(a\\circ b\\right)&:=\\min\\{x\\in\\mathbb{F}:x\\ge a\\circ b\\}\\mbox{（上向き丸め）}\n",
    "\\end{align*}\n",
    "\n",
    "とすると\n",
    "\n",
    "$$\n",
    "\t\\mathtt{fl}_{\\bigtriangledown}\\!\\left(a\\circ b\\right)\\le a\\circ b\\le\\mathtt{fl}_{\\bigtriangleup}\\!\\left(a\\circ b\\right)\n",
    "$$\n",
    "\n",
    "が成立する．\n",
    "\n",
    "$\\boldsymbol{X}=[a,b]$, $\\boldsymbol{Y}=[c,d]$ ($a,b,c,d\\in\\mathbb{F}$)に対して，機械区間演算は次のように実現できる．\n",
    "\n",
    "\\begin{align*}\n",
    "\t\\boldsymbol{X}+\\boldsymbol{Y}&=[\\mathtt{fl}_{\\bigtriangledown}\\!\\left(a+c\\right),\\mathtt{fl}_{\\bigtriangleup}\\!\\left(b+d\\right)]\\\\\n",
    "\t\\boldsymbol{X}-\\boldsymbol{Y}&=[\\mathtt{fl}_{\\bigtriangledown}\\!\\left(a-d\\right),\\mathtt{fl}_{\\bigtriangleup}\\!\\left(b-c\\right)]\\\\\n",
    "\t\\boldsymbol{X}\\times\\boldsymbol{Y}&=[\\mathtt{fl}_{\\bigtriangledown}\\!\\left(\\min\\{ac,ad,bc,bd\\}\\right),\\mathtt{fl}_{\\bigtriangleup}\\!\\left(\\max\\{ac,ad,bc,bd\\}\\right)]\\\\\n",
    "\t\\boldsymbol{X}\\div\\boldsymbol{Y}&=[\\mathtt{fl}_{\\bigtriangledown}\\!\\left(\\min\\{a/c,a/d,b/c,b/d\\}\\right),\\mathtt{fl}_{\\bigtriangleup}\\!\\left(\\max\\{a/c,a/d,b/c,b/d\\}\\right)]\n",
    "\\end{align*}\n",
    "\n",
    "\n",
    "|$\\boldsymbol{X}\\times\\boldsymbol{Y}$|$c>0$|$0\\in\\boldsymbol{Y}$|$d<0$|\n",
    "|:-------------:|:-------------:|:-------------:|:-------------:|\n",
    "|$a>0$|$[\\mathtt{fl}_{\\bigtriangledown}\\!\\left(ac\\right),\\mathtt{fl}_{\\bigtriangleup}\\!\\left(bd\\right)]$|$[\\mathtt{fl}_{\\bigtriangledown}\\!\\left(bc\\right),\\mathtt{fl}_{\\bigtriangleup}\\!\\left(bd\\right)]$|$[\\mathtt{fl}_{\\bigtriangledown}\\!\\left(bc\\right),\\mathtt{fl}_{\\bigtriangleup}\\!\\left(ad\\right)]$|\n",
    "|$0\\in\\boldsymbol{X}$|$[\\mathtt{fl}_{\\bigtriangledown}\\!\\left(ad\\right),\\mathtt{fl}_{\\bigtriangleup}\\!\\left(bd\\right)]$|$B$|$[\\mathtt{fl}_{\\bigtriangledown}\\!\\left(bc\\right),\\mathtt{fl}_{\\bigtriangleup}\\!\\left(ac\\right)]$|\n",
    "|$b<0$|$[\\mathtt{fl}_{\\bigtriangledown}\\!\\left(ad\\right),\\mathtt{fl}_{\\bigtriangleup}\\!\\left(bc\\right)]$|$[\\mathtt{fl}_{\\bigtriangledown}\\!\\left(ad\\right),\\mathtt{fl}_{\\bigtriangleup}\\!\\left(ad\\right)]$|$[\\mathtt{fl}_{\\bigtriangledown}\\!\\left(bd\\right),\\mathtt{fl}_{\\bigtriangleup}\\!\\left(ac\\right)]$|\n",
    "\n",
    "ただし $B=[\\min\\{\\mathtt{fl}_{\\bigtriangledown}\\!\\left(ad\\right),\\mathtt{fl}_{\\bigtriangledown}\\!\\left(bc\\right)\\},\\max\\{\\mathtt{fl}_{\\bigtriangleup}\\!\\left(ad\\right),\\mathtt{fl}_{\\bigtriangleup}\\!\\left(bc\\right)\\}].$\n",
    "\n",
    "## ベクトル・行列の区間演算\n",
    "\n",
    "上で述べた丸めの向きを制御することにより，ベクトル $x,y\\in\\mathbb{F}^n$ の内積 $x^Ty$，行列 $A, B\\in\\mathbb{F}^n$ の積，あるいは，ベクトル行列積 $Ax$ の結果を区間で厳密に包含することができる．\n",
    "\n",
    "$$\n",
    "\t\\mathtt{fl}_{\\bigtriangledown}\\!\\left(x^Ty\\right)\\le x^Ty\\le\\mathtt{fl}_{\\bigtriangleup}\\!\\left(x^Ty\\right)\n",
    "$$\n",
    "\n",
    "$$\n",
    "\t\\mathtt{fl}_{\\bigtriangledown}\\!\\left(Ax\\right)\\le Ax\\le\\mathtt{fl}_{\\bigtriangleup}\\!\\left(Ax\\right)\n",
    "$$\n",
    "\n",
    "$$\n",
    "\t\\mathtt{fl}_{\\bigtriangledown}\\!\\left(AB\\right)\\le AB\\le\\mathtt{fl}_{\\bigtriangleup}\\!\\left(AB\\right)\n",
    "$$\n",
    "\n",
    "このようにすると丸め方向の制御で区間演算が容易にできる．しかし，行列ベクトル積，行列積を高速に実装することは職人芸のレベルの難しさである（例えば，キャシュサイズをみて最適なブロック分割などを行う）．そのため通常は数値計算ライブラリを利用するのが主流である．\n"
   ]
  },
  {
   "cell_type": "markdown",
   "id": "2575497c-0bb7-48a1-8805-fca7c911dce8",
   "metadata": {},
   "source": [
    "Juliaの`setrounding_raw`という関数が方向付き丸めを制御できる。\n",
    "\n",
    "```\n",
    "setrounding_raw(::Type{<:Union{Float32,Float64}}, i::Integer) = ccall(:jl_set_fenv_rounding, Int32, (Int32,), i)\n",
    "```\n",
    "\n",
    "中身は単に`ccall`で`fesetround`を呼び出している。"
   ]
  },
  {
   "cell_type": "code",
   "execution_count": 1,
   "id": "8324ae22-e9ad-409f-8f01-0c0660c0b1aa",
   "metadata": {},
   "outputs": [
    {
     "name": "stdout",
     "output_type": "stream",
     "text": [
      "Julia Version 1.9.0\n",
      "Commit 8e630552924 (2023-05-07 11:25 UTC)\n",
      "Platform Info:\n",
      "  OS: macOS (arm64-apple-darwin22.4.0)\n",
      "  CPU: 8 × Apple M2\n",
      "  WORD_SIZE: 64\n",
      "  LIBM: libopenlibm\n",
      "  LLVM: libLLVM-14.0.6 (ORCJIT, apple-m1)\n",
      "  Threads: 2 on 4 virtual cores\n"
     ]
    }
   ],
   "source": [
    "versioninfo()"
   ]
  },
  {
   "cell_type": "code",
   "execution_count": 2,
   "id": "1bbe5573-ab8e-443e-a916-9364cb7c2ade",
   "metadata": {},
   "outputs": [
    {
     "name": "stdout",
     "output_type": "stream",
     "text": [
      "\u001b[32m\u001b[1mStatus\u001b[22m\u001b[39m `~/.julia/environments/v1.9/Project.toml`\n",
      "  \u001b[90m[d1acc4aa] \u001b[39mIntervalArithmetic v0.20.8\n"
     ]
    }
   ],
   "source": [
    "using Pkg\n",
    "Pkg.status(\"IntervalArithmetic\")"
   ]
  },
  {
   "cell_type": "markdown",
   "id": "70268a0c-6da4-43a0-b824-55bcf7bc502f",
   "metadata": {
    "tags": []
   },
   "source": [
    "## 上向き／下向き丸めをJuliaでどう制御する？\n",
    "\n",
    "Julia v1.0.5からFloat32/Float64で[**丸めの向きを制御できない**](https://github.com/JuliaLang/julia/pull/27166)という致命的な状況になった。\n",
    "\n",
    "現在は`setrounding(Interval, rounding_type::Symbol)`という関数で、区間演算の方向付き丸めの制御の方法を選ぶことになっている。`rounding_type::Symbol`は\n",
    "\n",
    "- `:fast`: [FastRounding.jl](https://github.com/JeffreySarnoff/FastRounding.jl)を使った方向付き丸めの実装（無誤差変換を使うエミュレーション）、速いが極端な入力に対して**バグがある**！\n",
    "- `:tight`: （デフォルト）柏木先生の「[最近点丸めのみによる方向付き丸めのエミュレート](http://verifiedby.me/kv/rounding/emu.pdf)」の実装、kvの`-DKV_NOHWROUND`オプションの実装に相当\n",
    "- `:accurate`: `prevfloat`, `nextfloat` を使った丸めの実装、速いけど区間幅が大きくなる\n",
    "- `:slow`: 丸めの向きを変更する実装（BigFloatで53bitに指定して、`setrounding`を使ってる？）、遅い\n",
    "- `:none`: 丸めの向き変更なし（精度保証なし）、スピード比較のためのテスト用\n",
    "\n",
    "`:fast`モードは非正規化数を扱う際に[バグ](https://github.com/JuliaIntervals/IntervalArithmetic.jl/issues/215)があるので注意が必要。"
   ]
  },
  {
   "cell_type": "code",
   "execution_count": 2,
   "id": "703c2a7c-d075-4d1d-9eb9-d187ddd997c0",
   "metadata": {},
   "outputs": [
    {
     "name": "stdout",
     "output_type": "stream",
     "text": [
      "\u001b[32m\u001b[1mStatus\u001b[22m\u001b[39m `~/.julia/environments/v1.8/Project.toml`\n",
      " \u001b[90m [d1acc4aa] \u001b[39mIntervalArithmetic v0.20.8\n"
     ]
    }
   ],
   "source": [
    "using IntervalArithmetic\n",
    "using Pkg; Pkg.status(\"IntervalArithmetic\")"
   ]
  },
  {
   "cell_type": "code",
   "execution_count": 3,
   "id": "6d71830b-327a-428c-9e9d-4e4009f04220",
   "metadata": {},
   "outputs": [
    {
     "name": "stdout",
     "output_type": "stream",
     "text": [
      "tiny * tiny = [0, 0]\n"
     ]
    },
    {
     "data": {
      "text/plain": [
       ":tight"
      ]
     },
     "execution_count": 3,
     "metadata": {},
     "output_type": "execute_result"
    }
   ],
   "source": [
    "setrounding(Interval,:fast)\n",
    "tiny = interval(0, floatmin())\n",
    "@show tiny * tiny\n",
    "# huge = interval(floatmax(), Inf)\n",
    "# @show huge * huge\n",
    "# @show huge / tiny\n",
    "# @show tiny / huge\n",
    "setrounding(Interval,:tight)"
   ]
  },
  {
   "cell_type": "markdown",
   "id": "a4724a1d-2103-4fc0-b8d9-0e186ca5c027",
   "metadata": {},
   "source": [
    "現在はデフォルトで`:tight`モードになっており、このバグは`:fast`モードで計算しない限り発生しない。"
   ]
  },
  {
   "cell_type": "code",
   "execution_count": 4,
   "id": "4f71f29c-395b-4dc9-b382-556d893eb6f3",
   "metadata": {},
   "outputs": [
    {
     "data": {
      "text/plain": [
       "[0, 4.94066e-324]"
      ]
     },
     "execution_count": 4,
     "metadata": {},
     "output_type": "execute_result"
    }
   ],
   "source": [
    "setrounding(Interval,:tight)\n",
    "tiny = interval(0, floatmin())\n",
    "tiny * tiny"
   ]
  },
  {
   "cell_type": "markdown",
   "id": "874dd611-c1f1-4fb7-b11d-f4e77425618a",
   "metadata": {},
   "source": [
    "そしてJuliaの`setrounding_raw`という関数が方向付き丸めを制御できる？\n",
    "\n",
    "```\n",
    "setrounding_raw(::Type{<:Union{Float32,Float64}}, i::Integer) = ccall(:jl_set_fenv_rounding, Int32, (Int32,), i)\n",
    "```\n",
    "\n",
    "中身は単に`ccall`で`fesetround`を呼び出している。"
   ]
  },
  {
   "cell_type": "code",
   "execution_count": 5,
   "id": "eddbcc40-a6dc-49fe-a3e0-f17865d33b89",
   "metadata": {},
   "outputs": [
    {
     "name": "stdout",
     "output_type": "stream",
     "text": [
      "xup = 0.1\n",
      "xdown = 0.09999999999999999\n"
     ]
    },
    {
     "data": {
      "text/plain": [
       "true"
      ]
     },
     "execution_count": 5,
     "metadata": {},
     "output_type": "execute_result"
    }
   ],
   "source": [
    "xup = Base.Rounding.setrounding_raw(Float64,4194304) do # RoundUp\n",
    "    parse(Float64, \"0.1\")# * parse(Float64, \"0.2\")\n",
    "end\n",
    "xdown = Base.Rounding.setrounding_raw(Float64,8388608) do # RoundDown\n",
    "    parse(Float64, \"0.1\")# * parse(Float64, \"0.2\")\n",
    "end\n",
    "@show xup\n",
    "@show xdown\n",
    "xup > xdown"
   ]
  },
  {
   "cell_type": "markdown",
   "id": "3112879c-1222-4995-b47b-e1d8f48f668d",
   "metadata": {},
   "source": [
    "謎の整数は環境によって異なるfenvの変数で、以下のコードで分かる。"
   ]
  },
  {
   "cell_type": "code",
   "execution_count": 7,
   "id": "2fd23c5d-2721-496f-88d2-d4175d927d00",
   "metadata": {},
   "outputs": [
    {
     "data": {
      "text/plain": [
       "4194304"
      ]
     },
     "execution_count": 7,
     "metadata": {},
     "output_type": "execute_result"
    }
   ],
   "source": [
    "Base.Rounding.to_fenv(RoundUp)"
   ]
  },
  {
   "cell_type": "code",
   "execution_count": 6,
   "id": "9c3ac81e-6d5e-4fb6-8db0-b6ae468a32e2",
   "metadata": {},
   "outputs": [
    {
     "name": "stdout",
     "output_type": "stream",
     "text": [
      "bitstring(1.0 + x) = \"0011111111110001100110011001100110011001100110011001100110011010\"\n",
      "bitstring(1.0 + x) = \"0011111111110001100110011001100110011001100110011001100110011001\"\n"
     ]
    },
    {
     "data": {
      "text/plain": [
       "RoundingMode{:Nearest}()"
      ]
     },
     "execution_count": 6,
     "metadata": {},
     "output_type": "execute_result"
    }
   ],
   "source": [
    "Base.Rounding.setrounding_raw(Float64,0) # RoundNearest\n",
    "x = 0.1\n",
    "Base.Rounding.setrounding_raw(Float64,Base.Rounding.to_fenv(RoundUp))\n",
    "@show bitstring(1.0+x)\n",
    "\n",
    "Base.Rounding.setrounding_raw(Float64,Base.Rounding.to_fenv(RoundDown))\n",
    "@show bitstring(1.0+x)\n",
    "\n",
    "Base.Rounding.setrounding_raw(Float64,0) # RoundNearest\n",
    "rounding(Float64)"
   ]
  },
  {
   "cell_type": "markdown",
   "id": "4f446257-1078-4c55-9162-3f8a02204a6d",
   "metadata": {},
   "source": [
    "丸めの向きを変えて元に戻すのを忘れることがよくあるので、ある関数`f`でやりたいことを定義しておいて、\n",
    "```\n",
    "setrounding(f::Function, T, mode)\n",
    "```\n",
    "と実行できる。"
   ]
  },
  {
   "cell_type": "code",
   "execution_count": 8,
   "id": "a2deef07-8067-4a60-b7c1-632dc98f4966",
   "metadata": {},
   "outputs": [
    {
     "data": {
      "text/plain": [
       "oneplusx (generic function with 1 method)"
      ]
     },
     "execution_count": 8,
     "metadata": {},
     "output_type": "execute_result"
    }
   ],
   "source": [
    "function oneplusx()\n",
    "    return bitstring(cos(x))\n",
    "end"
   ]
  },
  {
   "cell_type": "code",
   "execution_count": 12,
   "id": "2de4b5c1-8c76-467b-9874-8df9b5d355fb",
   "metadata": {},
   "outputs": [
    {
     "data": {
      "text/plain": [
       "\"0011111111101111110101110001001011111001101010000001011111000001\""
      ]
     },
     "execution_count": 12,
     "metadata": {},
     "output_type": "execute_result"
    }
   ],
   "source": [
    "setrounding(oneplusx,Float64,RoundUp)"
   ]
  },
  {
   "cell_type": "code",
   "execution_count": 9,
   "id": "2e35a426-84ab-4998-a0e2-f2a2e7a5bfc7",
   "metadata": {},
   "outputs": [
    {
     "data": {
      "text/plain": [
       "\"0011111111101111110101110001001011111001101010000001011111000000\""
      ]
     },
     "execution_count": 13,
     "metadata": {},
     "output_type": "execute_result"
    }
   ],
   "source": [
    "setrounding(oneplusx,Float64,RoundDown)"
   ]
  },
  {
   "cell_type": "code",
   "execution_count": 10,
   "id": "c42d3cd8-ab41-4c4a-8686-e11eaa209be9",
   "metadata": {},
   "outputs": [
    {
     "data": {
      "text/plain": [
       "RoundingMode{:Nearest}()"
      ]
     },
     "execution_count": 10,
     "metadata": {},
     "output_type": "execute_result"
    }
   ],
   "source": [
    "rounding(Float64)"
   ]
  },
  {
   "cell_type": "markdown",
   "id": "ed878d12-1005-42a4-ad23-7a41a3851814",
   "metadata": {},
   "source": [
    "しかし、この方法は`Float64`に対しては、正式にサポートしていない。。\n",
    "\n",
    "> Note that this is currently only supported for `T == BigFloat`.\n",
    "\n",
    "> !!! warning\n",
    ">     This function is not thread-safe. It will affect code running on all threads, but\n",
    ">     its behavior is undefined if called concurrently with computations that use the\n",
    ">     setting."
   ]
  },
  {
   "cell_type": "markdown",
   "id": "b9bb62d3-cc81-4808-8436-acd21e3f2874",
   "metadata": {},
   "source": [
    "## 最近、Juliaで方向付き丸めが実装できる？\n",
    "\n",
    "最近、LLVMのアップデートで`Float64`の[丸めの向きを制御できるようになった](https://github.com/JuliaLang/julia/pull/27166#issuecomment-1306908993)らしい。そこで[SetRoundingLLVM.jl](https://github.com/orkolorko/SetRoundingLLVM.jl)という怪しい（？）パッケージを使ってみる。\n",
    "\n",
    "```julia:\n",
    "(@v1.8) pkg> add https://github.com/orkolorko/SetRoundingLLVM.jl\n",
    "```\n",
    "\n",
    "と入力して、インストールする。インストールが完了したら、\n",
    "\n",
    "```julia:\n",
    "using SetRoundingLLVM\n",
    "```\n",
    "\n",
    "として呼び出す。"
   ]
  },
  {
   "cell_type": "code",
   "execution_count": 6,
   "id": "71308220-7c1f-4dd2-ab4f-e83da903b6b4",
   "metadata": {
    "tags": []
   },
   "outputs": [
    {
     "name": "stdout",
     "output_type": "stream",
     "text": [
      "bitstring(1.0 + x) = \"0011111111110001100110011001100110011001100110011001100110011010\"\n",
      "bitstring(1.0 + x) = \"0011111111110001100110011001100110011001100110011001100110011001\"\n"
     ]
    },
    {
     "data": {
      "text/plain": [
       "\"0011111111110001100110011001100110011001100110011001100110011001\""
      ]
     },
     "execution_count": 6,
     "metadata": {},
     "output_type": "execute_result"
    }
   ],
   "source": [
    "using SetRoundingLLVM\n",
    "x = 0.1\n",
    "\n",
    "llvm_setrounding(RoundUp) do\n",
    "    @show bitstring(1.0+x)\n",
    "end\n",
    "\n",
    "llvm_setrounding(RoundDown) do\n",
    "    @show bitstring(1.0+x)\n",
    "end"
   ]
  },
  {
   "cell_type": "code",
   "execution_count": 9,
   "id": "530bfc55-e039-4a9d-9406-f7f8dd76b22d",
   "metadata": {},
   "outputs": [
    {
     "data": {
      "text/plain": [
       "\"0011111111101111110101110001001011111001101010000001011111000001\""
      ]
     },
     "execution_count": 9,
     "metadata": {},
     "output_type": "execute_result"
    }
   ],
   "source": [
    "llvm_setrounding(oneplusx,RoundUp)"
   ]
  },
  {
   "cell_type": "code",
   "execution_count": 10,
   "id": "a224d4d1-128a-49a4-9ca5-31301991c15c",
   "metadata": {},
   "outputs": [
    {
     "data": {
      "text/plain": [
       "\"0011111111101111110101110001001011111001101010000001011111000000\""
      ]
     },
     "execution_count": 10,
     "metadata": {},
     "output_type": "execute_result"
    }
   ],
   "source": [
    "llvm_setrounding(oneplusx,RoundDown)"
   ]
  },
  {
   "cell_type": "code",
   "execution_count": 11,
   "id": "8f5cdc6e-e0ee-4881-8f4f-787577bcc9a4",
   "metadata": {},
   "outputs": [
    {
     "data": {
      "text/plain": [
       "RoundingMode{:Nearest}()"
      ]
     },
     "execution_count": 11,
     "metadata": {},
     "output_type": "execute_result"
    }
   ],
   "source": [
    "llvm_rounding()"
   ]
  },
  {
   "cell_type": "markdown",
   "id": "33f4298e-3336-4e41-b227-3dd247059f36",
   "metadata": {},
   "source": [
    "## BLASの方向付き丸め制御\n",
    "\n",
    "ここまできたらMATLABと同様、方向付き丸めの制御をしながら、BLASを実行して高速区間演算をしたい。MATLABコードは\n",
    "\n",
    "```MATLAB:\n",
    "for n = 60:70\n",
    "  disp(['n = ',num2str(n)])\n",
    "\n",
    "  A = randn(n); B = randn(n);\n",
    "\n",
    "  feature('setround',inf)\n",
    "  AB_sup = A * B;\n",
    "\n",
    "  feature('setround',-inf)\n",
    "  AB_inf = A * B;\n",
    "\n",
    "  feature('setround',.5)\n",
    "  if ~all(AB_sup - AB_inf > 0,\"all\")\n",
    "    break\n",
    "  end\n",
    "end\n",
    "```\n",
    "\n",
    "行列サイズが60〜70なのは $n>64$ でOpenBLASがマルチスレッドの計算に切り替わるサイズのようで、ここを境に[方向付き丸めが効かなくなる](https://siko1056.github.io/blog/2021/12/23/octave-matlab-directed-rounding.html)ことがよく観測されているから。"
   ]
  },
  {
   "cell_type": "code",
   "execution_count": 12,
   "id": "db8c4887-6324-4850-9141-b086c2b3af47",
   "metadata": {},
   "outputs": [
    {
     "data": {
      "text/plain": [
       "LinearAlgebra.BLAS.LBTConfig\n",
       "Libraries: \n",
       "└ [ILP64] libopenblas64_.dylib"
      ]
     },
     "execution_count": 12,
     "metadata": {},
     "output_type": "execute_result"
    }
   ],
   "source": [
    "using LinearAlgebra\n",
    "BLAS.get_config()"
   ]
  },
  {
   "cell_type": "code",
   "execution_count": 13,
   "id": "e95a7658-cbb0-4081-a0b3-f4981eed1258",
   "metadata": {},
   "outputs": [
    {
     "name": "stdout",
     "output_type": "stream",
     "text": [
      "n = 60\n",
      "all(Cup .> Cdown) = true\n",
      "n = 61\n",
      "all(Cup .> Cdown) = true\n",
      "n = 62\n",
      "all(Cup .> Cdown) = true\n",
      "n = 63\n",
      "all(Cup .> Cdown) = true\n",
      "n = 64\n",
      "all(Cup .> Cdown) = true\n",
      "n = 65\n",
      "all(Cup .> Cdown) = false\n",
      "n = 66\n",
      "all(Cup .> Cdown) = false\n",
      "n = 67\n",
      "all(Cup .> Cdown) = false\n",
      "n = 68\n",
      "all(Cup .> Cdown) = false\n",
      "n = 69\n",
      "all(Cup .> Cdown) = false\n",
      "n = 70\n",
      "all(Cup .> Cdown) = false\n"
     ]
    },
    {
     "data": {
      "text/plain": [
       "RoundingMode{:Nearest}()"
      ]
     },
     "execution_count": 13,
     "metadata": {},
     "output_type": "execute_result"
    }
   ],
   "source": [
    "for n = 60:70\n",
    "    @show n\n",
    "    A, B = randn(n,n), randn(n,n)\n",
    "    llvm_setrounding(RoundUp)\n",
    "    Cup = A*B;\n",
    "    Base.Rounding.setrounding_raw(Float64,Base.Rounding.to_fenv(RoundDown))\n",
    "    Cdown = A*B;\n",
    "    Base.Rounding.setrounding_raw(Float64,Base.Rounding.to_fenv(RoundNearest))\n",
    "    @show all(Cup .> Cdown)\n",
    "end\n",
    "rounding(Float64)"
   ]
  },
  {
   "cell_type": "markdown",
   "id": "702d671a-44d0-4fff-8168-f82c5018a314",
   "metadata": {},
   "source": [
    "$n=65$で丸め向き指定する演算が失敗している。最新のLLVMの丸め向き指定をしても結果は変わらず。"
   ]
  },
  {
   "cell_type": "code",
   "execution_count": 14,
   "id": "233a1890-9644-445a-9de2-2bf284753f16",
   "metadata": {},
   "outputs": [
    {
     "name": "stdout",
     "output_type": "stream",
     "text": [
      "n = 60\n",
      "all(Cup .> Cdown) = true\n",
      "n = 61\n",
      "all(Cup .> Cdown) = true\n",
      "n = 62\n",
      "all(Cup .> Cdown) = true\n",
      "n = 63\n",
      "all(Cup .> Cdown) = true\n",
      "n = 64\n",
      "all(Cup .> Cdown) = true\n",
      "n = 65\n",
      "all(Cup .> Cdown) = false\n",
      "n = 66\n",
      "all(Cup .> Cdown) = false\n",
      "n = 67\n",
      "all(Cup .> Cdown) = false\n",
      "n = 68\n",
      "all(Cup .> Cdown) = false\n",
      "n = 69\n",
      "all(Cup .> Cdown) = false\n",
      "n = 70\n",
      "all(Cup .> Cdown) = false\n"
     ]
    },
    {
     "data": {
      "text/plain": [
       "RoundingMode{:Nearest}()"
      ]
     },
     "execution_count": 14,
     "metadata": {},
     "output_type": "execute_result"
    }
   ],
   "source": [
    "for n = 60:70\n",
    "    @show n\n",
    "    A, B = randn(n,n), randn(n,n)\n",
    "    Cup = llvm_setrounding(RoundUp) do\n",
    "        A*B\n",
    "    end\n",
    "    Cdown = llvm_setrounding(RoundDown) do\n",
    "        A*B\n",
    "    end\n",
    "    @show all(Cup .> Cdown)\n",
    "end\n",
    "llvm_rounding()"
   ]
  },
  {
   "cell_type": "markdown",
   "id": "7c45896b-4b1f-4cfe-aca5-84ed9993da4c",
   "metadata": {},
   "source": [
    "これは予想通り。JuliaのデフォルトのOpenBLASで、方向付き丸めの制御が効かない。IntelのCPUでMKLを使っている人は方向付き丸めが変わるはず。Apple siliconの環境だと変わらない。"
   ]
  },
  {
   "cell_type": "code",
   "execution_count": null,
   "id": "f57c753f-3668-4684-b942-dc77f52b2a62",
   "metadata": {},
   "outputs": [],
   "source": [
    "using MKL\n",
    "BLAS.get_config()\n",
    "\n",
    "for n = 60:70\n",
    "    @show n\n",
    "    A, B = randn(n,n), randn(n,n)\n",
    "    Cup = llvm_setrounding(RoundUp) do\n",
    "        A*B\n",
    "    end\n",
    "    Cdown = llvm_setrounding(RoundDown) do\n",
    "        A*B\n",
    "    end\n",
    "    @show all(Cup .> Cdown)\n",
    "end\n",
    "llvm_rounding()"
   ]
  },
  {
   "cell_type": "markdown",
   "id": "68615743-9039-4f5a-9c4b-5518e6223075",
   "metadata": {},
   "source": [
    "他のBLAS?\n",
    "\n",
    "### BLISBLAS\n",
    "\n",
    "ごく最近、[BLIS](https://github.com/flame/blis)というBLAS-likeライブラリ（2023年のWilkinson Prize Winnerだそう）のラッパーが実装されていて、[BLISBLAS.jl](https://github.com/JuliaLinearAlgebra/BLISBLAS.jl)という名前で利用可能になっている。BLISについてはあまり良く知らないが、C99を使ったBLASの再実装のようなものだと思っている。"
   ]
  },
  {
   "cell_type": "code",
   "execution_count": 15,
   "id": "4b5e6bdc-c600-426e-9273-b28bdfcab9a8",
   "metadata": {},
   "outputs": [
    {
     "data": {
      "text/plain": [
       "LinearAlgebra.BLAS.LBTConfig\n",
       "Libraries: \n",
       "├ [ILP64] libopenblas64_.dylib└ [ILP64] libblis.4.0.0.dylib"
      ]
     },
     "execution_count": 15,
     "metadata": {},
     "output_type": "execute_result"
    },
    {
     "name": "stdout",
     "output_type": "stream",
     "text": [
      "\n"
     ]
    }
   ],
   "source": [
    "using BLISBLAS\n",
    "BLAS.get_config()\n",
    "# BLISBLAS.set_num_threads(8)\n",
    "# BLISBLAS.get_num_threads()"
   ]
  },
  {
   "cell_type": "code",
   "execution_count": 16,
   "id": "71cd3128-3532-4b72-a09e-42438e17da97",
   "metadata": {},
   "outputs": [],
   "source": [
    "BLISBLAS.set_num_threads(4)"
   ]
  },
  {
   "cell_type": "code",
   "execution_count": 31,
   "id": "42b030f5-199f-4ea5-b9c9-6b1e60488cd5",
   "metadata": {},
   "outputs": [],
   "source": [
    "using AppleAccelerateLinAlgWrapper\n",
    "# AppleAccelerateLinAlgWrapper.get_num_threads()"
   ]
  },
  {
   "cell_type": "code",
   "execution_count": 17,
   "id": "d9ca666b-2342-4038-bd8a-207a2ae3e808",
   "metadata": {},
   "outputs": [
    {
     "name": "stdout",
     "output_type": "stream",
     "text": [
      "n = 60\n",
      "all(Cup .> Cdown) = false\n",
      "n = 61\n",
      "all(Cup .> Cdown) = false\n",
      "n = 62\n",
      "all(Cup .> Cdown) = false\n",
      "n = 63\n",
      "all(Cup .> Cdown) = false\n",
      "n = 64\n",
      "all(Cup .> Cdown) = false\n",
      "n = 65\n",
      "all(Cup .> Cdown) = false\n",
      "n = 66\n",
      "all(Cup .> Cdown) = false\n",
      "n = 67\n",
      "all(Cup .> Cdown) = false\n",
      "n = 68\n",
      "all(Cup .> Cdown) = false\n",
      "n = 69\n",
      "all(Cup .> Cdown) = false\n",
      "n = 70\n",
      "all(Cup .> Cdown) = false\n"
     ]
    },
    {
     "data": {
      "text/plain": [
       "RoundingMode{:Nearest}()"
      ]
     },
     "execution_count": 17,
     "metadata": {},
     "output_type": "execute_result"
    }
   ],
   "source": [
    "using AppleAccelerateLinAlgWrapper\n",
    "for n = 60:70\n",
    "    @show n\n",
    "    A, B = randn(n,n), randn(n,n)\n",
    "    Cup = llvm_setrounding(RoundUp) do\n",
    "    # Cup = Base.Rounding.setrounding_raw(Float64,Base.Rounding.to_fenv(RoundUp)) do\n",
    "        A*B\n",
    "    end\n",
    "    Cdown = llvm_setrounding(RoundDown) do\n",
    "    # Cdown = Base.Rounding.setrounding_raw(Float64,Base.Rounding.to_fenv(RoundDown)) do\n",
    "        A*B\n",
    "    end\n",
    "    @show all(Cup .> Cdown)\n",
    "end\n",
    "llvm_rounding()\n",
    "# rounding(Float64)"
   ]
  },
  {
   "cell_type": "markdown",
   "id": "6f92b7e3-8a3f-4cef-ad6d-873b2fd90edb",
   "metadata": {},
   "source": [
    "やっぱり変わらない。そんなに甘くはない。"
   ]
  },
  {
   "cell_type": "code",
   "execution_count": null,
   "id": "61d09917-7e7b-4fd6-b943-342ec52ad93b",
   "metadata": {},
   "outputs": [],
   "source": []
  },
  {
   "cell_type": "markdown",
   "id": "8e27b4b4-06ef-4391-8d80-2ae761725672",
   "metadata": {},
   "source": [
    "### BLASの換装\n",
    "\n",
    "最終手段、OpenBLASをmakeし直して、BLASを換装する。幸い、[libblastrampoline](https://github.com/JuliaLinearAlgebra/libblastrampoline)という謎システムのおかげでBLASの換装が簡単らしいのだが…"
   ]
  },
  {
   "cell_type": "markdown",
   "id": "f1d2a1a3-bded-4645-9f7a-484bd26c31a1",
   "metadata": {
    "tags": []
   },
   "source": [
    "## 動作チェックのコード\n",
    "\n",
    "Juliaはバージョンがコロコロ変わるので、動作をチェックするコードが必要。\n",
    "以下の動作チェックのコードはいつしかの柏木先生のMATLABコード。\n",
    "\n",
    "```\n",
    "function testmm(n)\n",
    "\tdisp('testing multiplication...')\n",
    "\tflag = 1;\n",
    "\tfor k=1:n\n",
    "\t\ta=zeros(n);\n",
    "\t\ta(:,k)=ones(n,1)*1/3;\n",
    "\t\tb=zeros(n);\n",
    "\t\tb(k,:)=ones(1,n)*1/3;\n",
    "\t\tc = (rad(intval(a) * b) ~= 0) + 0.0;\n",
    "\t\tif prod(prod(c)) == 0\n",
    "\t\t\tdisp('multiplication error!')\n",
    "\t\t\tflag = 0;\n",
    "\t\t\tbreak\n",
    "\t\tend\n",
    "\tend\n",
    "\tif flag == 1\n",
    "\t\tdisp('multiplication OK!')\n",
    "\tend\n",
    "\n",
    "\tdisp('testing addition...')\n",
    "\tflag = 1;\n",
    "\tfor k=2:n\n",
    "\t\ta=zeros(n);\n",
    "\t\ta(:,1)=ones(n,1);\n",
    "\t\ta(:,k)=ones(n,1)*2^(-27);\n",
    "\t\tb=zeros(n);\n",
    "\t\tb(1,:)=ones(1,n);\n",
    "\t\tb(k,:)=ones(1,n)*2^(-27);\n",
    "\t\tc = (rad(intval(a) * b) ~= 0) + 0.0;\n",
    "\t\tif prod(prod(c)) == 0\n",
    "\t\t\tdisp('addition error!')\n",
    "\t\t\tflag = 0;\n",
    "\t\t\tbreak\n",
    "\t\tend\n",
    "\tend\n",
    "\tif flag == 1\n",
    "\t\tdisp('addition OK!')\n",
    "\tend\n",
    "end\n",
    "```\n"
   ]
  },
  {
   "cell_type": "code",
   "execution_count": 18,
   "id": "79db71c5-466a-47e6-bffa-a3b9992534a8",
   "metadata": {
    "tags": []
   },
   "outputs": [
    {
     "data": {
      "text/plain": [
       "testmm (generic function with 1 method)"
      ]
     },
     "execution_count": 18,
     "metadata": {},
     "output_type": "execute_result"
    }
   ],
   "source": [
    "function testmm(n)\n",
    "    println(\"testing multiplication...\")\n",
    "    flag = 1\n",
    "    for k=1:n\n",
    "        a=zeros(n,n)\n",
    "        a[:,k] = ones(n)*1/3.\n",
    "        b=zeros(n,n)\n",
    "        b[k,:] = ones(n)*1/3.\n",
    "        c = (radius.(map(Interval,a) * b) .!= 0) .+ 0.0\n",
    "        if prod(c) == 0\n",
    "            println(\"multiplication error!\")\n",
    "            flag = 0\n",
    "            break\n",
    "        end\n",
    "    end\n",
    "    if flag == 1\n",
    "        println(\"multiplication OK!\")\n",
    "    end\n",
    "    println(\"testing addition...\")\n",
    "    flag = 1\n",
    "    for k=2:n\n",
    "        a=zeros(n,n)\n",
    "        a[:,1]=ones(n)\n",
    "        a[:,k]=ones(n)*2^(-27)\n",
    "        b=zeros(n,n)\n",
    "        b[1,:]=ones(n)\n",
    "        b[k,:]=ones(n)*2^(-27)\n",
    "        c = (radius.(map(Interval,a) * b) .!= 0) .+ 0.0\n",
    "        if prod(c) == 0\n",
    "            println(\"addition error!\")\n",
    "            flag = 0\n",
    "            break\n",
    "        end\n",
    "    end\n",
    "    if flag == 1\n",
    "        println(\"addition OK!\")\n",
    "    end\n",
    "end"
   ]
  },
  {
   "cell_type": "code",
   "execution_count": 19,
   "id": "52605646-1370-43b2-a2aa-29ec4e774903",
   "metadata": {},
   "outputs": [
    {
     "name": "stdout",
     "output_type": "stream",
     "text": [
      "testing multiplication...\n",
      "multiplication OK!\n",
      "testing addition...\n",
      "addition OK!\n"
     ]
    }
   ],
   "source": [
    "testmm(70)"
   ]
  },
  {
   "cell_type": "code",
   "execution_count": 20,
   "id": "a2e20ccb-3f20-4c0c-86a3-1dd3160b64d2",
   "metadata": {},
   "outputs": [
    {
     "name": "stdout",
     "output_type": "stream",
     "text": [
      "n = 64\n",
      "all(Cup .> Cdown) = false\n",
      "n = 65\n",
      "all(Cup .> Cdown) = false\n"
     ]
    }
   ],
   "source": [
    "# import Pkg; Pkg.add(\"IntervalMatrices\")\n",
    "using IntervalMatrices\n",
    "# @show BLAS.vendor()\n",
    "# @show BLAS.get_config()\n",
    "for n = 64:65\n",
    "    # n=2^i\n",
    "    @show n\n",
    "    A, B = IntervalMatrix(randn(n,n)), IntervalMatrix(randn(n,n))\n",
    "    C = A * B\n",
    "    Cup = sup(C)\n",
    "    Cdown = inf(C)\n",
    "    @show all(Cup .> Cdown)\n",
    "end"
   ]
  },
  {
   "cell_type": "code",
   "execution_count": 21,
   "id": "97ee1295-2ff1-4b63-8e8a-6b45681a9372",
   "metadata": {},
   "outputs": [
    {
     "data": {
      "text/plain": [
       "testmm_intmat (generic function with 1 method)"
      ]
     },
     "execution_count": 21,
     "metadata": {},
     "output_type": "execute_result"
    }
   ],
   "source": [
    "function testmm_intmat(n)\n",
    "    println(\"testing multiplication...\")\n",
    "    flag = 1\n",
    "    for k=1:n\n",
    "        a=zeros(n,n)\n",
    "        a[:,k] = ones(n)*1/3.\n",
    "        b=zeros(n,n)\n",
    "        b[k,:] = ones(n)*1/3.\n",
    "        c = (radius.(IntervalMatrix(a) * b) .!= 0) .+ 0.0\n",
    "        if prod(c) == 0\n",
    "            println(\"multiplication error!\")\n",
    "            flag = 0\n",
    "            break\n",
    "        end\n",
    "    end\n",
    "    if flag == 1\n",
    "        println(\"multiplication OK!\")\n",
    "    end\n",
    "    println(\"testing addition...\")\n",
    "    flag = 1\n",
    "    for k=2:n\n",
    "        a=zeros(n,n)\n",
    "        a[:,1]=ones(n)\n",
    "        a[:,k]=ones(n)*2^(-27)\n",
    "        b=zeros(n,n)\n",
    "        b[1,:]=ones(n)\n",
    "        b[k,:]=ones(n)*2^(-27)\n",
    "        c = (radius.(IntervalMatrix(a) * b) .!= 0) .+ 0.0\n",
    "        if prod(c) == 0\n",
    "            println(\"addition error!\")\n",
    "            flag = 0\n",
    "            break\n",
    "        end\n",
    "    end\n",
    "    if flag == 1\n",
    "        println(\"addition OK!\")\n",
    "    end\n",
    "end"
   ]
  },
  {
   "cell_type": "code",
   "execution_count": 22,
   "id": "e2143653-27f3-47a3-b067-19e7b47ee9ad",
   "metadata": {},
   "outputs": [
    {
     "name": "stdout",
     "output_type": "stream",
     "text": [
      "testing multiplication...\n",
      "multiplication error!\n",
      "testing addition...\n",
      "addition error!\n"
     ]
    }
   ],
   "source": [
    "testmm_intmat(70)"
   ]
  },
  {
   "cell_type": "markdown",
   "id": "4e5d41cb-26f3-47f3-ba37-ed55e197339f",
   "metadata": {},
   "source": [
    "## 結論\n",
    "\n",
    "Apple siliconのJuliaではBLASの方向付き丸めの制御はまだ早い。。でもMATLABでできているので、技術的には可能なはず。"
   ]
  },
  {
   "cell_type": "markdown",
   "id": "18914f80-3512-40af-8b17-a98c33d61e75",
   "metadata": {},
   "source": [
    "### 謝辞\n",
    "\n",
    "本資料も筆者が学生の頃に精度保証付き数値計算を教えて下さった[柏木雅英](http://www.kashi.info.waseda.ac.jp/~kashi/)先生の「数値解析特論」の講義資料が基になっています.\n",
    "また, 以下のような文献・Web ページ等を参考にこの文章は書いています.\n",
    "\n",
    "### 参考文献\n",
    "\n",
    "1. 大石進一編著, 精度保証付き数値計算の基礎, コロナ社, 2018.<br>\n",
    "(精度保証付き数値計算の教科書. 浮動小数点数および区間演算に詳しい. この1章が読めたら大したもの)\n",
    "1. [Calculating with sets: Interval methods in Julia](https://github.com/dpsanders/IntervalsJuliaCon2020).<br>\n",
    "(Juliaで区間演算をするJuliaCon2020のチュートリアル資料、[動画](https://youtu.be/LAuRCy9jUU8)も公開されている)\n",
    "1. [IntervalArithmetic.jl: Basic usage](https://github.com/JuliaIntervals/IntervalArithmetic.jl/blob/master/docs/src/usage.md).<br>\n",
    "(IntervalArithmetic.jlの区間演算の説明ページ)\n",
    "1. matsueushi, [デフォルトの丸めモードで上付き丸め、下付き丸めをエミュレートする(Julia)](https://matsueushi.github.io/posts/rounding-emulator/).<br>\n",
    "(IntervalArithmetic.jlの丸め変更はこれを使用しているようです)\n",
    "1. matsueushi, [Juliaで丸めモードを指定して浮動小数点数の計算をする(したい)](https://matsueushi.github.io/posts/julia-rounding/).<br>\n",
    "(丸めモードの指定ができない！？最近点丸めだけで区間演算しないといけないのか...)\n",
    "\n",
    "\n",
    "<div align=\"right\"><a href=\"http://www.risk.tsukuba.ac.jp/~takitoshi/\">高安亮紀</a>，2020年8月6日（最終更新：2023年5月21日）</div>"
   ]
  }
 ],
 "metadata": {
  "kernelspec": {
   "display_name": "Julia 1.9.4",
   "language": "julia",
   "name": "julia-1.9"
  },
  "language_info": {
   "file_extension": ".jl",
   "mimetype": "application/julia",
   "name": "julia",
   "version": "1.9.4"
  }
 },
 "nbformat": 4,
 "nbformat_minor": 5
}
