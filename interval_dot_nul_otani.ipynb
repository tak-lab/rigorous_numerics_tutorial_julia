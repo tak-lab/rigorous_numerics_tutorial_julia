{
 "cells": [
  {
   "cell_type": "code",
   "execution_count": 5,
   "metadata": {},
   "outputs": [
    {
     "data": {
      "text/plain": [
       "ufp (generic function with 1 method)"
      ]
     },
     "execution_count": 5,
     "metadata": {},
     "output_type": "execute_result"
    }
   ],
   "source": [
    "function ufp(P)\n",
    "    u = 2^-53\n",
    "    a = 2^52+1\n",
    "    Q = a*P\n",
    "    T = (1 - u)*Q\n",
    "    S = abs(Q - T)\n",
    "    \n",
    "    S\n",
    "end"
   ]
  },
  {
   "cell_type": "code",
   "execution_count": 6,
   "metadata": {},
   "outputs": [
    {
     "data": {
      "text/plain": [
       "succ_near (generic function with 1 method)"
      ]
     },
     "execution_count": 6,
     "metadata": {},
     "output_type": "execute_result"
    }
   ],
   "source": [
    "function succ_near(c)\n",
    "    eta = 2^-1047\n",
    "    u = 2^-53\n",
    "    phi = u*(1 + 2*u)\n",
    "    if abs(c) >= (1/2)*u^-2*eta\n",
    "        e = phi*abs(c)\n",
    "        succ = c+e\n",
    "    elseif abs(c) < (1/2)*u^-1*eta\n",
    "        succ = c + eta\n",
    "    else\n",
    "        C = u^ - 1*c\n",
    "        e = phi*abs(C)\n",
    "        succ = (C + e)*u\n",
    "    end\n",
    "    succ\n",
    "end            "
   ]
  },
  {
   "cell_type": "code",
   "execution_count": 11,
   "metadata": {},
   "outputs": [
    {
     "data": {
      "text/plain": [
       "mm_ufp (generic function with 1 method)"
      ]
     },
     "execution_count": 11,
     "metadata": {},
     "output_type": "execute_result"
    }
   ],
   "source": [
    "function mm_ufp(A_mid,A_rad,B_mid,B_rad)\n",
    "    u = 2^-53\n",
    "    realmin = 2^-1022\n",
    "    n = length(A_mid)\n",
    "    \n",
    "    if(2*(n+2)*u>=1)\n",
    "        error(\"mm_ufp failed!(2(n+2)u>=1)\")\n",
    "    end\n",
    "    \n",
    "    C_mid = A_mid*B_mid\n",
    "    C_rad = (n+2)*u*ufp(abs(A_mid)*abs(B_mid))+realmin\n",
    "    \n",
    "    AmBr = abs(A_mid)*B_rad\n",
    "    AmBr = succ_near(AmBr+((n+2)*u*ufp(AmBr)+realmin));\n",
    "    \n",
    "    ArBm = A_rad*abs(B_mid);\n",
    "    ArBm = succ_near(ArBm+((n+2)*u*ufp(ArBm)+realmin));\n",
    "\n",
    "    ArBr = A_rad*B_rad;\n",
    "    ArBr = succ_near(ArBr+((n+2)*u*ufp(ArBr)+realmin));\n",
    "\n",
    "    rad_sum = C_rad + AmBr + ArBm + ArBr;\n",
    "\n",
    "    C_rad = succ_near((rad_sum) + 3*u*ufp(rad_sum));\n",
    "    \n",
    "    C_mid\n",
    "    C_rad\n",
    "    \n",
    "end\n"
   ]
  },
  {
   "cell_type": "code",
   "execution_count": 10,
   "metadata": {},
   "outputs": [
    {
     "data": {
      "text/plain": [
       "2.2300000000000004"
      ]
     },
     "execution_count": 10,
     "metadata": {},
     "output_type": "execute_result"
    }
   ],
   "source": [
    "succ_near(2.23)"
   ]
  },
  {
   "cell_type": "code",
   "execution_count": 12,
   "metadata": {},
   "outputs": [
    {
     "data": {
      "text/plain": [
       "7.990000000000006"
      ]
     },
     "execution_count": 12,
     "metadata": {},
     "output_type": "execute_result"
    }
   ],
   "source": [
    "mm_ufp(1,1.1,2.3,2.6)"
   ]
  },
  {
   "cell_type": "code",
   "execution_count": null,
   "metadata": {},
   "outputs": [],
   "source": []
  }
 ],
 "metadata": {
  "kernelspec": {
   "display_name": "Julia 1.4.2",
   "language": "julia",
   "name": "julia-1.4"
  },
  "language_info": {
   "file_extension": ".jl",
   "mimetype": "application/julia",
   "name": "julia",
   "version": "1.4.2"
  }
 },
 "nbformat": 4,
 "nbformat_minor": 4
}
