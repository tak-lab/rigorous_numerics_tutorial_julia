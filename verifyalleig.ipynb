{
 "cells": [
  {
   "cell_type": "markdown",
   "metadata": {},
   "source": [
    "# Juliaで固有値問題を精度保証付き数値計算したい\n",
    "\n",
    "\n",
    "## 固有値問題とは\n",
    "\n",
    "固有値問題は与えられた行列の固有値および固有ベクトルを求めること。つまり、\n",
    "$\n",
    "\\newcommand{\\C}{\\mathbb{C}}\n",
    "\\newcommand{\\IC}{\\mathbb{IC}}\n",
    "\\newcommand{\\bX}{\\bar{X}}\n",
    "$\n",
    "\n",
    "$$\n",
    "Ax=\\lambda x,\\quad A\\in \\C^{n\\times n}\n",
    "$$\n",
    "\n",
    "を満たす $\\lambda\\in \\C$, $x\\in \\C^{n\\times n}$ ($x\\neq 0$) を求める問題を指す。\n",
    "\n",
    "Juliaで固有値と固有ベクトルを求める際には、`LinearAlgebra`パッケージに含まれている関数`eigen`・`eigvals`・`eigvecs`で求めることができる。\n",
    "\n",
    "|関数| 役割 |\n",
    "|:-----------|:----------|\n",
    "| eigen()    | 固有値・固有ベクトル両方  |\n",
    "| eigvals()    | 固有値  |\n",
    "| eigvecs()  | 固有ベクトル |\n",
    "\n",
    "これらは行列の構造・サイズをみて適宜、Lapackの関数を呼び出している（はず）。"
   ]
  },
  {
   "cell_type": "code",
   "execution_count": 1,
   "metadata": {},
   "outputs": [
    {
     "data": {
      "text/plain": [
       "Eigen{Float64,Float64,Array{Float64,2},Array{Float64,1}}\n",
       "values:\n",
       "2-element Array{Float64,1}:\n",
       " -1.0\n",
       "  3.0\n",
       "vectors:\n",
       "2×2 Array{Float64,2}:\n",
       " -0.707107  0.707107\n",
       "  0.707107  0.707107"
      ]
     },
     "execution_count": 1,
     "metadata": {},
     "output_type": "execute_result"
    }
   ],
   "source": [
    "using LinearAlgebra\n",
    "val, vec  = eigen([1 2; 2 1])"
   ]
  },
  {
   "cell_type": "code",
   "execution_count": 2,
   "metadata": {},
   "outputs": [
    {
     "data": {
      "text/plain": [
       "2-element Array{Float64,1}:\n",
       " -1.0\n",
       "  3.0"
      ]
     },
     "execution_count": 2,
     "metadata": {},
     "output_type": "execute_result"
    }
   ],
   "source": [
    "val#固有値"
   ]
  },
  {
   "cell_type": "code",
   "execution_count": 3,
   "metadata": {},
   "outputs": [
    {
     "data": {
      "text/plain": [
       "2×2 Array{Float64,2}:\n",
       " -0.707107  0.707107\n",
       "  0.707107  0.707107"
      ]
     },
     "execution_count": 3,
     "metadata": {},
     "output_type": "execute_result"
    }
   ],
   "source": [
    "vec#固有ベクトル"
   ]
  },
  {
   "cell_type": "code",
   "execution_count": 4,
   "metadata": {},
   "outputs": [
    {
     "data": {
      "text/plain": [
       "2-element Array{Float64,1}:\n",
       " -1.0\n",
       "  3.0"
      ]
     },
     "execution_count": 4,
     "metadata": {},
     "output_type": "execute_result"
    }
   ],
   "source": [
    "eigvals([1 2; 2 1])#固有値"
   ]
  },
  {
   "cell_type": "code",
   "execution_count": 5,
   "metadata": {},
   "outputs": [
    {
     "data": {
      "text/plain": [
       "2×2 Array{Float64,2}:\n",
       " -0.707107  0.707107\n",
       "  0.707107  0.707107"
      ]
     },
     "execution_count": 5,
     "metadata": {},
     "output_type": "execute_result"
    }
   ],
   "source": [
    "eigvecs([1 2; 2 1])#固有ベクトル"
   ]
  },
  {
   "cell_type": "markdown",
   "metadata": {},
   "source": [
    "## 密行列の固有値問題に対する精度保証\n",
    "\n",
    "密行列とは、行列内のほとんどの要素が $0$ でない行列のことを指す。ここでは、行列$A\\in\\C^{n\\times n}$ $(i=1,2,\\cdots,n)$ の全ての固有値に対する精度保証アルゴリズムを考える。 \n",
    "\n",
    "### 実装したいアルゴリズム\n",
    "(1)\n",
    "ある行列 $A$ の全ての近似固有ベクトル $\\bX\\in\\C^{n\\times n}$ $(i=1,2,\\cdots,n)$ を求める。\n",
    "\n",
    "(2)\n",
    "$A\\cdot\\bX$ の包含 $C\\in\\IC^{n\\times n}$ を求める。\n",
    "\n",
    "(3)\n",
    "区間連立1次方程式 $\\bX G=C$ の解集合の包含 $G\\supset \\bX^{-1}\\cdot C$ ($G\\in\\IC^{n\\times n}$) を求める。\n",
    "\n",
    "(4)\n",
    "$G\\in\\IC^{n\\times n}$ に対してゲルシュゴリンの定理を適用することを考える。"
   ]
  },
  {
   "cell_type": "markdown",
   "metadata": {},
   "source": [
    "#### (1) 行列 $A$ の全ての近似固有ベクトル $\\bX\\in\\C^{n\\times n}$ $(i=1,2,\\cdots,n)$ を求める。\n",
    "\n",
    "行列 $A\\in\\C^{n\\times n}$ $(i=1,2,\\cdots,n)$ が対角化可能であるとするとき、$\\lambda_i$ に対する固有ベクトル$x^{(i)}\\in\\C^{n}$ $(i=1,2,\\cdots,n)$ を並べた行列\n",
    "\n",
    "$$\n",
    "X :=[x^{(1)},x^{(2)},\\cdots,x^{(n)}]\\in\\C^{n\\times n}\n",
    "$$\n",
    "\n",
    "によって、$A$ は\n",
    "\n",
    "$$\n",
    "X^{-1}AX = D = \\rm{diag}(\\lambda_1,\\lambda_2,\\cdots,\\lambda_n)\n",
    "$$\n",
    "\n",
    "と対角化される。"
   ]
  },
  {
   "cell_type": "code",
   "execution_count": 6,
   "metadata": {},
   "outputs": [],
   "source": [
    "using LinearAlgebra\n",
    "\n",
    "n =100;\n",
    "A = randn(n,n);\n",
    "\n",
    "λ, X = eigen(A);"
   ]
  },
  {
   "cell_type": "code",
   "execution_count": 7,
   "metadata": {},
   "outputs": [
    {
     "data": {
      "text/plain": [
       "100-element Array{Complex{Float64},1}:\n",
       " -9.961192369310917 + 0.0im\n",
       " -9.215869518856412 + 0.0im\n",
       " -8.740306277382984 - 1.9988252867031513im\n",
       " -8.740306277382984 + 1.9988252867031513im\n",
       " -8.018328257310497 - 3.2515807057187724im\n",
       " -8.018328257310497 + 3.2515807057187724im\n",
       " -6.512742465308605 - 4.677765622429611im\n",
       " -6.512742465308605 + 4.677765622429611im\n",
       " -6.318293259607612 - 3.611178536302632im\n",
       " -6.318293259607612 + 3.611178536302632im\n",
       " -5.994582642810717 - 7.55764309979742im\n",
       " -5.994582642810717 + 7.55764309979742im\n",
       " -5.691425205430149 - 5.98785091592985im\n",
       "                    ⋮\n",
       "  7.092282179321801 - 2.736437150194731im\n",
       "  7.092282179321801 + 2.736437150194731im\n",
       "  7.152557044516093 - 3.714052975672099im\n",
       "  7.152557044516093 + 3.714052975672099im\n",
       "  7.264053824021405 - 5.909306835724772im\n",
       "  7.264053824021405 + 5.909306835724772im\n",
       "  8.043439423791918 + 0.0im\n",
       "  9.011362502929387 - 4.50214366125669im\n",
       "  9.011362502929387 + 4.50214366125669im\n",
       "   9.10142438607042 + 0.0im\n",
       "  9.299449993201767 - 1.3559837588288128im\n",
       "  9.299449993201767 + 1.3559837588288128im"
      ]
     },
     "execution_count": 7,
     "metadata": {},
     "output_type": "execute_result"
    }
   ],
   "source": [
    "λ #固有値"
   ]
  },
  {
   "cell_type": "code",
   "execution_count": 8,
   "metadata": {},
   "outputs": [
    {
     "data": {
      "text/plain": [
       "100×100 Array{Complex{Float64},2}:\n",
       "  0.0588682+0.0im     0.0240404+0.0im  …   0.00519244-0.038179im\n",
       " -0.0352655+0.0im    -0.0306973+0.0im       -0.134082+0.0663388im\n",
       "  0.0217718+0.0im    -0.0477409+0.0im        0.156107-0.0844235im\n",
       "  0.0358934+0.0im    -0.0526908+0.0im       -0.054564-0.09071im\n",
       " -0.0597848+0.0im      0.151203+0.0im     -0.00219786+0.011702im\n",
       "   0.280233+0.0im      0.090524+0.0im  …    0.0513659+0.0239617im\n",
       "  0.0420283+0.0im      0.131476+0.0im       0.0213937+0.0480209im\n",
       "  -0.077432+0.0im     -0.145872+0.0im      -0.0772221+0.0442364im\n",
       "  -0.112937+0.0im     -0.259918+0.0im      -0.0202096+0.00681049im\n",
       "   0.128471+0.0im     0.0766326+0.0im      0.00396343+0.000157813im\n",
       "  -0.102035+0.0im     -0.120609+0.0im  …   -0.0551011+0.0308875im\n",
       " -0.0368095+0.0im  -0.000645029+0.0im       -0.151237-0.0167294im\n",
       " -0.0174966+0.0im     0.0455579+0.0im       -0.123029+0.0697973im\n",
       "           ⋮                           ⋱  \n",
       " -0.0547267+0.0im    -0.0216887+0.0im       -0.064514-0.00997912im\n",
       "  -0.145427+0.0im     0.0420554+0.0im        0.102878-0.0668148im\n",
       "  0.0365474+0.0im    -0.0429975+0.0im  …   -0.0607738-0.00845438im\n",
       "  0.0499556+0.0im    0.00556935+0.0im       -0.043761+0.000335983im\n",
       "  0.0503162+0.0im       0.10322+0.0im       0.0658396+0.0708377im\n",
       "  0.0466893+0.0im     -0.114081+0.0im       0.0447209-0.0657563im\n",
       " -0.0736098+0.0im      0.103799+0.0im      -0.0310481-0.0756214im\n",
       "   0.118561+0.0im    -0.0863833+0.0im  …     0.107892-0.0422011im\n",
       " -0.0167188+0.0im    -0.0919209+0.0im      -0.0675292+0.042752im\n",
       "   0.082022+0.0im     -0.074245+0.0im        0.049117+0.0678786im\n",
       "  0.0270272+0.0im      0.123121+0.0im      -0.0700617+0.0320097im\n",
       "  0.0838073+0.0im     0.0335206+0.0im        0.079172+0.0269316im"
      ]
     },
     "execution_count": 8,
     "metadata": {},
     "output_type": "execute_result"
    }
   ],
   "source": [
    "X #固有ベクトル"
   ]
  },
  {
   "cell_type": "markdown",
   "metadata": {},
   "source": [
    "しかし、実際のところ上記の数値計算で得られる固有ベクトル $X$ は近似の値 $\\bX\\in \\C^{n\\times n}$ (以下、近似固有ベクトルという) である。しかし、近似固有ベクトルを並べた行列を使って、対角化したものについては、対角優位性が期待できる。この行列を $G$ とすると、\n",
    "\n",
    "$$\n",
    "G := \\bX^{-1}A\\bX\n",
    "$$\n",
    "\n",
    "となり、行列 $G$ の対角成分は行列 $A$ の固有値の近似となる。\n",
    "\n",
    "また、対角優位性とは、ある行列$A=(a_{ij})$について、\n",
    "\n",
    "$$\n",
    "\\left|a_{i i}\\right|>\\sum_{{j} \\colon j \\neq i}\\left|a_{i j}\\right| \\quad(i=1,2, \\ldots, n)\n",
    "$$\n",
    "\n",
    "であること。つまり、行列のどの対角成分の絶対値も、それと同じ列にある非対角成分の和よりも大きい時。"
   ]
  },
  {
   "cell_type": "code",
   "execution_count": 9,
   "metadata": {},
   "outputs": [
    {
     "data": {
      "text/plain": [
       "8.29103969843101e-14"
      ]
     },
     "execution_count": 9,
     "metadata": {},
     "output_type": "execute_result"
    }
   ],
   "source": [
    "G = inv(X)*A*X; #G\n",
    "norm(diag(G) - λ,Inf) # Gの対角成分は固有値λにほぼ一致する"
   ]
  },
  {
   "cell_type": "markdown",
   "metadata": {},
   "source": [
    "#### (2) $A\\cdot\\bX$ の包含 $C\\in\\IC^{n\\times n}$ を求める。\n",
    "\n",
    "``方法1``各演算を区間演算に変更した方式(参考：[interval_dot-mul.ipynb](https://www.risk.tsukuba.ac.jp/~takitoshi/tutorial/interval_dot-mul.html \"タイトル\"))、行列のサイズが小さい場合はこちらの方が早い（たぶん）"
   ]
  },
  {
   "cell_type": "code",
   "execution_count": 10,
   "metadata": {},
   "outputs": [
    {
     "name": "stdout",
     "output_type": "stream",
     "text": [
      "  77.947 ms (8 allocations: 312.91 KiB)\n"
     ]
    }
   ],
   "source": [
    "using IntervalArithmetic, BenchmarkTools\n",
    "\n",
    "iA = map(Interval, A);\n",
    "iX = map(Interval, X);\n",
    "\n",
    "@btime C1 = $iA * $iX;"
   ]
  },
  {
   "cell_type": "code",
   "execution_count": 11,
   "metadata": {},
   "outputs": [
    {
     "name": "stdout",
     "output_type": "stream",
     "text": [
      "  0.088968 seconds (76 allocations: 317.188 KiB)\n",
      "max(maximum(radius.(real(C1[:]))), maximum(radius.(imag(C1[:])))) = 3.552713678800501e-15\n"
     ]
    },
    {
     "data": {
      "text/plain": [
       "3.552713678800501e-15"
      ]
     },
     "execution_count": 11,
     "metadata": {},
     "output_type": "execute_result"
    }
   ],
   "source": [
    "@time C1 = iA*iX;\n",
    "@show max(maximum(radius.(real(C1[:]))),maximum(radius.(imag(C1[:]))))"
   ]
  },
  {
   "cell_type": "markdown",
   "metadata": {},
   "source": [
    "``方法2``BLASを使う。int_num_linalg.jlの呼び出し。大きな行列に対してはこの方が早い。"
   ]
  },
  {
   "cell_type": "code",
   "execution_count": 12,
   "metadata": {},
   "outputs": [
    {
     "name": "stdout",
     "output_type": "stream",
     "text": [
      "  1.320303 seconds (4.65 M allocations: 222.701 MiB, 3.72% gc time)\n",
      "  0.184665 seconds (84.04 k allocations: 4.628 MiB)\n",
      "  0.188498 seconds (84.04 k allocations: 4.628 MiB)\n"
     ]
    }
   ],
   "source": [
    "include(\"IntervalLinearAlgebra.jl\"); # int_mulを使用する\n",
    "# @time C1 = mm_comp_interval_alt(iA,iX);\n",
    "@time C = int_mul(A,X); # A, X: complex matrices (not interval)\n",
    "@time C = int_mul(A,X); # A, X: complex matrices (not interval)\n",
    "@time C = int_mul(A,X); # A, X: complex matrices (not interval)\n"
   ]
  },
  {
   "cell_type": "code",
   "execution_count": 13,
   "metadata": {},
   "outputs": [
    {
     "data": {
      "text/plain": [
       "9.070522111187529e-14"
      ]
     },
     "execution_count": 13,
     "metadata": {},
     "output_type": "execute_result"
    }
   ],
   "source": [
    "max(maximum(radius.(real(C[:]))),maximum(radius.(imag(C[:]))))"
   ]
  },
  {
   "cell_type": "code",
   "execution_count": 14,
   "metadata": {},
   "outputs": [
    {
     "data": {
      "text/plain": [
       "100×100 Array{Interval{Float64},2}:\n",
       " [-0.586398, -0.586397]  …   [0.100057, 0.100058]\n",
       "  [0.351286, 0.351287]      [-1.33685, -1.33684]\n",
       " [-0.216874, -0.216873]      [1.56618, 1.56619]\n",
       " [-0.357542, -0.357541]     [-0.384415, -0.384414]\n",
       "  [0.595527, 0.595528]      [-0.0363066, -0.0363065]\n",
       " [-2.79146, -2.79145]    …   [0.445183, 0.445184]\n",
       " [-0.418653, -0.418652]      [0.133834, 0.133835]\n",
       "  [0.771314, 0.771315]      [-0.778108, -0.778107]\n",
       "  [1.12498, 1.12499]        [-0.197174, -0.197173]\n",
       " [-1.27973, -1.27972]        [0.0366437, 0.0366438]\n",
       "  [1.01639, 1.0164]      …  [-0.554293, -0.554292]\n",
       "  [0.366666, 0.366667]      [-1.38374, -1.38373]\n",
       "  [0.174287, 0.174288]      [-1.23875, -1.23874]\n",
       "   ⋮                     ⋱  \n",
       "  [0.545143, 0.545144]      [-0.586413, -0.586412]\n",
       "  [1.44862, 1.44863]         [1.04731, 1.04732]\n",
       " [-0.364056, -0.364055]  …  [-0.553699, -0.553698]\n",
       " [-0.497617, -0.497616]     [-0.407409, -0.407408]\n",
       " [-0.50121, -0.501209]       [0.516216, 0.516217]\n",
       " [-0.465081, -0.46508]       [0.505044, 0.505045]\n",
       "  [0.733241, 0.733242]      [-0.18619, -0.186189]\n",
       " [-1.18101, -1.181]      …   [1.06055, 1.06056]\n",
       "  [0.166539, 0.16654]       [-0.685956, -0.685955]\n",
       " [-0.817037, -0.817036]      [0.364719, 0.36472]\n",
       " [-0.269224, -0.269223]     [-0.69494, -0.694939]\n",
       " [-0.834821, -0.83482]       [0.699737, 0.699738]"
      ]
     },
     "execution_count": 14,
     "metadata": {},
     "output_type": "execute_result"
    }
   ],
   "source": [
    "real(C)"
   ]
  },
  {
   "cell_type": "code",
   "execution_count": 15,
   "metadata": {},
   "outputs": [
    {
     "data": {
      "text/plain": [
       "100×100 Array{Interval{Float64},2}:\n",
       " [-2.22508e-308, 2.22508e-308]  …  [-0.348004, -0.348003]\n",
       " [-2.22508e-308, 2.22508e-308]      [0.435101, 0.435102]\n",
       " [-2.22508e-308, 2.22508e-308]     [-0.573415, -0.573414]\n",
       " [-2.22508e-308, 2.22508e-308]     [-0.917542, -0.917541]\n",
       " [-2.22508e-308, 2.22508e-308]      [0.105841, 0.105842]\n",
       " [-2.22508e-308, 2.22508e-308]  …   [0.292481, 0.292482]\n",
       " [-2.22508e-308, 2.22508e-308]      [0.475577, 0.475578]\n",
       " [-2.22508e-308, 2.22508e-308]      [0.306662, 0.306663]\n",
       " [-2.22508e-308, 2.22508e-308]      [0.0359299, 0.03593]\n",
       " [-2.22508e-308, 2.22508e-308]      [0.00684192, 0.00684193]\n",
       " [-2.22508e-308, 2.22508e-308]  …   [0.21252, 0.212521]\n",
       " [-2.22508e-308, 2.22508e-308]     [-0.36065, -0.360649]\n",
       " [-2.22508e-308, 2.22508e-308]      [0.482251, 0.482252]\n",
       "   ⋮                            ⋱  \n",
       " [-2.22508e-308, 2.22508e-308]     [-0.180281, -0.18028]\n",
       " [-2.22508e-308, 2.22508e-308]     [-0.48184, -0.481839]\n",
       " [-2.22508e-308, 2.22508e-308]  …  [-0.16103, -0.161029]\n",
       " [-2.22508e-308, 2.22508e-308]     [-0.0562148, -0.0562147]\n",
       " [-2.22508e-308, 2.22508e-308]      [0.748028, 0.748029]\n",
       " [-2.22508e-308, 2.22508e-308]     [-0.550857, -0.550856]\n",
       " [-2.22508e-308, 2.22508e-308]     [-0.745339, -0.745338]\n",
       " [-2.22508e-308, 2.22508e-308]  …  [-0.246148, -0.246147]\n",
       " [-2.22508e-308, 2.22508e-308]      [0.306001, 0.306002]\n",
       " [-2.22508e-308, 2.22508e-308]      [0.697835, 0.697836]\n",
       " [-2.22508e-308, 2.22508e-308]      [0.202669, 0.20267]\n",
       " [-2.22508e-308, 2.22508e-308]      [0.357804, 0.357805]"
      ]
     },
     "execution_count": 15,
     "metadata": {},
     "output_type": "execute_result"
    }
   ],
   "source": [
    "imag(C)"
   ]
  },
  {
   "cell_type": "markdown",
   "metadata": {},
   "source": [
    "#### (3 )区間連立1次方程式 $\\hat XG=C$ の解集合の包含 $G\\supset\\hat X^{-1}\\cdot C$ を求める。"
   ]
  },
  {
   "cell_type": "code",
   "execution_count": 16,
   "metadata": {},
   "outputs": [
    {
     "data": {
      "text/plain": [
       "verifylss_iB (generic function with 1 method)"
      ]
     },
     "execution_count": 16,
     "metadata": {},
     "output_type": "execute_result"
    }
   ],
   "source": [
    "function verifylss_iB(A,iB) # verify the solution element-wisely\n",
    "    B = mid.(real(iB)) + mid.(imag(iB))*im;\n",
    "    X̄ = A\\B;\n",
    "    n = size(X̄,2);\n",
    "    R = inv(A);\n",
    "    #########\n",
    "    #C_mid, C_rad = mm_ufp(R,A);\n",
    "#     G = Matrix{Float64}(I, n, n) - int_mul(R,A);\n",
    "    G = Matrix{Float64}(I, n, n) - R*A;\n",
    "    α = opnorm(G,Inf)# Interval arithmetic\n",
    "    #########\n",
    "    if α < 1\n",
    "        η = (abs.(G)*ones(n))/(1-α);\n",
    "        Err = map(Interval,zeros(n,n));\n",
    "        X̄ = map(Interval,X̄);\n",
    "        r = A*X̄ - iB; # Interval arithmetic\n",
    "        Rr = R*r;\n",
    "        for i = 1:n\n",
    "            Err[:,i] = abs.(Rr[:,i]) + supremum(norm(Rr[:,i],Inf))*η; # Interval arithmetic\n",
    "        end\n",
    "        return (real(X̄) .± supremum.(Err)) + im*(imag(X̄) .± supremum.(Err))\n",
    "    else\n",
    "        println(\"Oh my way, verification is failed...\")\n",
    "        return nan;\n",
    "    end\n",
    "end"
   ]
  },
  {
   "cell_type": "code",
   "execution_count": 17,
   "metadata": {},
   "outputs": [
    {
     "data": {
      "text/plain": [
       "100×100 Array{Interval{Float64},2}:\n",
       " [-9.9612, -9.96119]          …  [-9.45756e-13, 9.12696e-13]\n",
       " [-8.35842e-13, 8.41743e-13]     [-9.44895e-13, 9.71221e-13]\n",
       " [-1.03768e-12, 1.04416e-12]     [-1.60831e-12, 1.64909e-12]\n",
       " [-1.03768e-12, 1.04416e-12]     [-1.60512e-12, 1.65392e-12]\n",
       " [-1.15987e-12, 1.15953e-12]     [-1.78706e-12, 1.80081e-12]\n",
       " [-1.15987e-12, 1.15953e-12]  …  [-1.80961e-12, 1.78357e-12]\n",
       " [-7.83076e-13, 7.74687e-13]     [-1.20822e-12, 1.22503e-12]\n",
       " [-7.83076e-13, 7.74687e-13]     [-1.21918e-12, 1.21431e-12]\n",
       " [-1.8956e-12, 1.8834e-12]       [-2.98696e-12, 2.93742e-12]\n",
       " [-1.8956e-12, 1.8834e-12]       [-2.96263e-12, 2.96011e-12]\n",
       " [-1.36037e-12, 1.36468e-12]  …  [-2.15135e-12, 2.12423e-12]\n",
       " [-1.36037e-12, 1.36468e-12]     [-2.13577e-12, 2.14566e-12]\n",
       " [-1.59177e-12, 1.58287e-12]     [-2.49663e-12, 2.4754e-12]\n",
       "   ⋮                          ⋱  \n",
       " [-3.73042e-12, 3.74064e-12]     [-5.80302e-12, 5.79631e-12]\n",
       " [-3.73042e-12, 3.74064e-12]     [-5.81552e-12, 5.79281e-12]\n",
       " [-3.2644e-12, 3.31818e-12]   …  [-5.13494e-12, 5.10567e-12]\n",
       " [-3.2644e-12, 3.31818e-12]      [-5.11075e-12, 5.1216e-12]\n",
       " [-2.43738e-12, 2.47034e-12]     [-3.88447e-12, 3.84296e-12]\n",
       " [-2.43738e-12, 2.47034e-12]     [-3.83118e-12, 3.89353e-12]\n",
       " [-2.75993e-12, 2.80915e-12]     [-3.19807e-12, 3.16352e-12]\n",
       " [-1.24255e-12, 1.23209e-12]  …  [-1.95331e-12, 1.95242e-12]\n",
       " [-1.24255e-12, 1.23209e-12]     [-1.96382e-12, 1.95242e-12]\n",
       " [-3.46153e-12, 3.47105e-12]     [-4.00488e-12, 3.97872e-12]\n",
       " [-1.46474e-12, 1.49056e-12]     [-2.30307e-12, 2.34599e-12]\n",
       " [-1.46474e-12, 1.49056e-12]      [9.29944, 9.29945]"
      ]
     },
     "execution_count": 17,
     "metadata": {},
     "output_type": "execute_result"
    }
   ],
   "source": [
    "# G = similar(C);\n",
    "G = verifylss_iB(X,C);\n",
    "real(G)"
   ]
  },
  {
   "cell_type": "code",
   "execution_count": 18,
   "metadata": {},
   "outputs": [
    {
     "data": {
      "text/plain": [
       "2-element Array{Array{T,1} where T,1}:\n",
       " Interval{Float64}[[-9.9612, -9.96119], [-9.21587, -9.21586], [-8.74031, -8.7403], [-8.74031, -8.7403], [-8.01833, -8.01832], [-8.01833, -8.01832], [-6.51275, -6.51274], [-6.51275, -6.51274], [-6.3183, -6.31829], [-6.3183, -6.31829]  …  [7.15255, 7.15256], [7.15255, 7.15256], [7.26405, 7.26406], [7.26405, 7.26406], [8.04343, 8.04344], [9.01136, 9.01137], [9.01136, 9.01137], [9.10142, 9.10143], [9.29944, 9.29945], [9.29944, 9.29945]]\n",
       " Complex{Float64}[-9.961192369310917 + 0.0im, -9.215869518856412 + 0.0im, -8.740306277382984 - 1.9988252867031513im, -8.740306277382984 + 1.9988252867031513im, -8.018328257310497 - 3.2515807057187724im, -8.018328257310497 + 3.2515807057187724im, -6.512742465308605 - 4.677765622429611im, -6.512742465308605 + 4.677765622429611im, -6.318293259607612 - 3.611178536302632im, -6.318293259607612 + 3.611178536302632im  …  7.152557044516093 - 3.714052975672099im, 7.152557044516093 + 3.714052975672099im, 7.264053824021405 - 5.909306835724772im, 7.264053824021405 + 5.909306835724772im, 8.043439423791918 + 0.0im, 9.011362502929387 - 4.50214366125669im, 9.011362502929387 + 4.50214366125669im, 9.10142438607042 + 0.0im, 9.299449993201767 - 1.3559837588288128im, 9.299449993201767 + 1.3559837588288128im]"
      ]
     },
     "execution_count": 18,
     "metadata": {},
     "output_type": "execute_result"
    }
   ],
   "source": [
    "[real(diag(G)), λ]"
   ]
  },
  {
   "cell_type": "markdown",
   "metadata": {},
   "source": [
    "#### 4) $G\\in\\IC^{n\\times n}$ に対してゲルシュゴリンの定理を適用することを考える。"
   ]
  },
  {
   "cell_type": "markdown",
   "metadata": {},
   "source": [
    "\n",
    "## ゲルシュゴリンの包含定理\n",
    "行列 $A=(A_{ij})\\in \\C^{n\\times n}$ について、$A$ の全ての固有値 $\\lambda_i$ は、$\\bigcup_{1\\le i \\le n}  U_i$ の内部に存在する。\n",
    "\n",
    "$$\n",
    "A\\subseteq\\bigcup_{1\\le i \\le n}  U_i \n",
    "$$\n",
    "\n",
    "ただし、\n",
    "\n",
    "$$\n",
    "U_i = \\left\\{z\\in\\mathbb{C}:|z-a_{ii}|\\le \\sum_{j\\neq i}|a_{ij}|\\right\\}\n",
    "$$\n",
    "\n",
    "である。円盤領域 $U_i$ をゲルシュゴリン円板といい、$A$ が強い優対角性を持つとき、$A$ の対角成分が $A$ の固有値の良い近似となる。今回の場合、$G=(g_{ij})_{1\\le i,j\\le n}\\in\\IC^{n\\times n}$ の対角成分 $(g_{ii})_{1\\le i\\le n}$ を $(c_{i})_{1\\le i\\le n}\\in \\IC^{n}$ とし、各成分の半径を $\\mathrm{rad}(c_i)$ とすると、\n",
    "\n",
    "$$\n",
    "\\begin{array}{ll}\n",
    "\\mbox{ゲルシュゴリン円の中心:}&\\mathrm{mid}(c_i)\\\\\n",
    "\\mbox{ゲルシュゴリン円の半径:}&r_i=\\sum_{j\\neq i}\\rm{mag}(g_{ij})+\\rm{rad}(c_{i})\\\\\n",
    "\\end{array}\n",
    "$$\n",
    "\n",
    "となる。"
   ]
  },
  {
   "cell_type": "code",
   "execution_count": 19,
   "metadata": {},
   "outputs": [
    {
     "data": {
      "text/plain": [
       "mid (generic function with 7 methods)"
      ]
     },
     "execution_count": 19,
     "metadata": {},
     "output_type": "execute_result"
    }
   ],
   "source": [
    "import IntervalArithmetic: mag, radius, mid\n",
    "function mag(v::Complex{Interval{T}}) where T# mag function for complex interval vectors\n",
    "    abs_v = abs(v);\n",
    "    return max(abs_v.lo,abs_v.hi)\n",
    "end\n",
    "\n",
    "function radius(v::Complex{Interval{T}}) where T# mag function for complex interval vectors\n",
    "    return sqrt(interval(radius(real(v)))^2 + interval(radius(imag(v)))^2)\n",
    "end\n",
    "\n",
    "function mid(v::Complex{Interval{T}}) where T# mag function for complex interval vectors\n",
    "    return mid(real(v)) + mid(imag(v))*im\n",
    "end"
   ]
  },
  {
   "cell_type": "code",
   "execution_count": 20,
   "metadata": {},
   "outputs": [],
   "source": [
    "r = zeros(n);\n",
    "c = diag(G);\n",
    "# G_org = G;\n",
    "# for i ∈ 1:n\n",
    "#     G[i,i] = 0;\n",
    "# end\n",
    "for i = 1:n\n",
    "    for j = 1:n\n",
    "        if i != j\n",
    "            r[i] += mag(G[i,j]);\n",
    "        end\n",
    "    end\n",
    "    r[i] += mag(radius.(c[i]));\n",
    "end\n",
    "λc = mid.(c);"
   ]
  },
  {
   "cell_type": "code",
   "execution_count": 21,
   "metadata": {},
   "outputs": [
    {
     "data": {
      "text/plain": [
       "100×2 Array{Interval{Float64},2}:\n",
       " [-9.9612, -9.96119]   [-1.41526e-10, 1.41526e-10]\n",
       " [-9.21587, -9.21586]  [-1.4381e-10, 1.4381e-10]\n",
       " [-8.74031, -8.7403]   [-1.99883, -1.99882]\n",
       " [-8.74031, -8.7403]    [1.99882, 1.99883]\n",
       " [-8.01833, -8.01832]  [-3.25159, -3.25158]\n",
       " [-8.01833, -8.01832]   [3.25158, 3.25159]\n",
       " [-6.51275, -6.51274]  [-4.67777, -4.67776]\n",
       " [-6.51275, -6.51274]   [4.67776, 4.67777]\n",
       " [-6.3183, -6.31829]   [-3.61118, -3.61117]\n",
       " [-6.3183, -6.31829]    [3.61117, 3.61118]\n",
       " [-5.99459, -5.99458]  [-7.55765, -7.55764]\n",
       " [-5.99459, -5.99458]   [7.55764, 7.55765]\n",
       " [-5.69143, -5.69142]  [-5.98786, -5.98785]\n",
       "   ⋮                   \n",
       "  [7.09228, 7.09229]   [-2.73644, -2.73643]\n",
       "  [7.09228, 7.09229]    [2.73643, 2.73644]\n",
       "  [7.15255, 7.15256]   [-3.71406, -3.71405]\n",
       "  [7.15255, 7.15256]    [3.71405, 3.71406]\n",
       "  [7.26405, 7.26406]   [-5.90931, -5.9093]\n",
       "  [7.26405, 7.26406]    [5.9093, 5.90931]\n",
       "  [8.04343, 8.04344]   [-4.82018e-10, 4.82046e-10]\n",
       "  [9.01136, 9.01137]   [-4.50215, -4.50214]\n",
       "  [9.01136, 9.01137]    [4.50214, 4.50215]\n",
       "  [9.10142, 9.10143]   [-6.02318e-10, 6.02332e-10]\n",
       "  [9.29944, 9.29945]   [-1.35599, -1.35598]\n",
       "  [9.29944, 9.29945]    [1.35598, 1.35599]"
      ]
     },
     "execution_count": 21,
     "metadata": {},
     "output_type": "execute_result"
    }
   ],
   "source": [
    "iλ = (real(λc) .± r) + im*(imag(λc) .± r);\n",
    "[real(iλ) imag(iλ)]"
   ]
  },
  {
   "cell_type": "code",
   "execution_count": 22,
   "metadata": {},
   "outputs": [
    {
     "data": {
      "text/plain": [
       "100"
      ]
     },
     "execution_count": 22,
     "metadata": {},
     "output_type": "execute_result"
    }
   ],
   "source": [
    "sum(λ .∈ iλ)"
   ]
  },
  {
   "cell_type": "code",
   "execution_count": 23,
   "metadata": {},
   "outputs": [
    {
     "data": {
      "text/plain": [
       "100-element Array{Float64,1}:\n",
       " 2.001478759336773e-10\n",
       " 2.0337934759839136e-10\n",
       " 3.495032093405561e-10\n",
       " 3.49472121509451e-10\n",
       " 3.8411997983206825e-10\n",
       " 3.838226043215496e-10\n",
       " 2.576710135795117e-10\n",
       " 2.576352154722192e-10\n",
       " 6.320090033755663e-10\n",
       " 6.314494224232915e-10\n",
       " 4.5679767563358974e-10\n",
       " 4.5653013187863004e-10\n",
       " 5.266768386367534e-10\n",
       " ⋮\n",
       " 1.2288956664873644e-9\n",
       " 1.229118933634869e-9\n",
       " 1.0821133748578913e-9\n",
       " 1.0822107205901475e-9\n",
       " 8.179164289829242e-10\n",
       " 8.177481150713533e-10\n",
       " 6.816972550393252e-10\n",
       " 4.126918943601236e-10\n",
       " 4.127427653543513e-10\n",
       " 8.518172777674981e-10\n",
       " 4.928801274364727e-10\n",
       " 4.928867218271999e-10"
      ]
     },
     "execution_count": 23,
     "metadata": {},
     "output_type": "execute_result"
    }
   ],
   "source": [
    "r = sup.(radius.(iλ))"
   ]
  },
  {
   "cell_type": "markdown",
   "metadata": {},
   "source": [
    "以上により、全固有値（ $n=100$ ）の精度保証がゲルシュゴリンの包含定理と区間演算によって成功した。"
   ]
  },
  {
   "cell_type": "markdown",
   "metadata": {},
   "source": [
    "WARNING: using Plots.center in module Main conflicts with an existing identifier."
   ]
  },
  {
   "cell_type": "code",
   "execution_count": 24,
   "metadata": {},
   "outputs": [
    {
     "data": {
      "image/svg+xml": [
       "<?xml version=\"1.0\" encoding=\"utf-8\"?>\n",
       "<svg xmlns=\"http://www.w3.org/2000/svg\" xmlns:xlink=\"http://www.w3.org/1999/xlink\" width=\"600\" height=\"400\" viewBox=\"0 0 2400 1600\">\n",
       "<defs>\n",
       "  <clipPath id=\"clip590\">\n",
       "    <rect x=\"0\" y=\"0\" width=\"2400\" height=\"1600\"/>\n",
       "  </clipPath>\n",
       "</defs>\n",
       "<path clip-path=\"url(#clip590)\" d=\"\n",
       "M0 1600 L2400 1600 L2400 0 L0 0  Z\n",
       "  \" fill=\"#ffffff\" fill-rule=\"evenodd\" fill-opacity=\"1\"/>\n",
       "<defs>\n",
       "  <clipPath id=\"clip591\">\n",
       "    <rect x=\"480\" y=\"0\" width=\"1681\" height=\"1600\"/>\n",
       "  </clipPath>\n",
       "</defs>\n",
       "<path clip-path=\"url(#clip590)\" d=\"\n",
       "M179.654 1486.45 L2352.76 1486.45 L2352.76 47.2441 L179.654 47.2441  Z\n",
       "  \" fill=\"#ffffff\" fill-rule=\"evenodd\" fill-opacity=\"1\"/>\n",
       "<defs>\n",
       "  <clipPath id=\"clip592\">\n",
       "    <rect x=\"179\" y=\"47\" width=\"2174\" height=\"1440\"/>\n",
       "  </clipPath>\n",
       "</defs>\n",
       "<polyline clip-path=\"url(#clip592)\" style=\"stroke:#000000; stroke-width:2; stroke-opacity:0.1; fill:none\" points=\"\n",
       "  237.026,1486.45 237.026,47.2441 \n",
       "  \"/>\n",
       "<polyline clip-path=\"url(#clip592)\" style=\"stroke:#000000; stroke-width:2; stroke-opacity:0.1; fill:none\" points=\"\n",
       "  769.224,1486.45 769.224,47.2441 \n",
       "  \"/>\n",
       "<polyline clip-path=\"url(#clip592)\" style=\"stroke:#000000; stroke-width:2; stroke-opacity:0.1; fill:none\" points=\"\n",
       "  1301.42,1486.45 1301.42,47.2441 \n",
       "  \"/>\n",
       "<polyline clip-path=\"url(#clip592)\" style=\"stroke:#000000; stroke-width:2; stroke-opacity:0.1; fill:none\" points=\"\n",
       "  1833.62,1486.45 1833.62,47.2441 \n",
       "  \"/>\n",
       "<polyline clip-path=\"url(#clip590)\" style=\"stroke:#000000; stroke-width:4; stroke-opacity:1; fill:none\" points=\"\n",
       "  179.654,1486.45 2352.76,1486.45 \n",
       "  \"/>\n",
       "<polyline clip-path=\"url(#clip590)\" style=\"stroke:#000000; stroke-width:4; stroke-opacity:1; fill:none\" points=\"\n",
       "  237.026,1486.45 237.026,1469.18 \n",
       "  \"/>\n",
       "<polyline clip-path=\"url(#clip590)\" style=\"stroke:#000000; stroke-width:4; stroke-opacity:1; fill:none\" points=\"\n",
       "  769.224,1486.45 769.224,1469.18 \n",
       "  \"/>\n",
       "<polyline clip-path=\"url(#clip590)\" style=\"stroke:#000000; stroke-width:4; stroke-opacity:1; fill:none\" points=\"\n",
       "  1301.42,1486.45 1301.42,1469.18 \n",
       "  \"/>\n",
       "<polyline clip-path=\"url(#clip590)\" style=\"stroke:#000000; stroke-width:4; stroke-opacity:1; fill:none\" points=\"\n",
       "  1833.62,1486.45 1833.62,1469.18 \n",
       "  \"/>\n",
       "<path clip-path=\"url(#clip590)\" d=\"M 0 0 M195.788 1530.29 L225.463 1530.29 L225.463 1534.23 L195.788 1534.23 L195.788 1530.29 Z\" fill=\"#000000\" fill-rule=\"evenodd\" fill-opacity=\"1\" /><path clip-path=\"url(#clip590)\" d=\"M 0 0 M231.343 1543.18 L238.982 1543.18 L238.982 1516.82 L230.672 1518.49 L230.672 1514.23 L238.936 1512.56 L243.612 1512.56 L243.612 1543.18 L251.25 1543.18 L251.25 1547.12 L231.343 1547.12 L231.343 1543.18 Z\" fill=\"#000000\" fill-rule=\"evenodd\" fill-opacity=\"1\" /><path clip-path=\"url(#clip590)\" d=\"M 0 0 M266.32 1515.64 Q262.709 1515.64 260.88 1519.2 Q259.074 1522.75 259.074 1529.87 Q259.074 1536.98 260.88 1540.55 Q262.709 1544.09 266.32 1544.09 Q269.954 1544.09 271.759 1540.55 Q273.588 1536.98 273.588 1529.87 Q273.588 1522.75 271.759 1519.2 Q269.954 1515.64 266.32 1515.64 M266.32 1511.93 Q272.13 1511.93 275.185 1516.54 Q278.264 1521.12 278.264 1529.87 Q278.264 1538.6 275.185 1543.21 Q272.13 1547.79 266.32 1547.79 Q260.51 1547.79 257.431 1543.21 Q254.375 1538.6 254.375 1529.87 Q254.375 1521.12 257.431 1516.54 Q260.51 1511.93 266.32 1511.93 Z\" fill=\"#000000\" fill-rule=\"evenodd\" fill-opacity=\"1\" /><path clip-path=\"url(#clip590)\" d=\"M 0 0 M741.377 1530.29 L771.053 1530.29 L771.053 1534.23 L741.377 1534.23 L741.377 1530.29 Z\" fill=\"#000000\" fill-rule=\"evenodd\" fill-opacity=\"1\" /><path clip-path=\"url(#clip590)\" d=\"M 0 0 M776.169 1512.56 L794.525 1512.56 L794.525 1516.5 L780.451 1516.5 L780.451 1524.97 Q781.47 1524.62 782.488 1524.46 Q783.507 1524.27 784.525 1524.27 Q790.312 1524.27 793.692 1527.44 Q797.071 1530.62 797.071 1536.03 Q797.071 1541.61 793.599 1544.71 Q790.127 1547.79 783.808 1547.79 Q781.632 1547.79 779.363 1547.42 Q777.118 1547.05 774.71 1546.31 L774.71 1541.61 Q776.794 1542.74 779.016 1543.3 Q781.238 1543.86 783.715 1543.86 Q787.72 1543.86 790.057 1541.75 Q792.395 1539.64 792.395 1536.03 Q792.395 1532.42 790.057 1530.31 Q787.72 1528.21 783.715 1528.21 Q781.84 1528.21 779.965 1528.62 Q778.113 1529.04 776.169 1529.92 L776.169 1512.56 Z\" fill=\"#000000\" fill-rule=\"evenodd\" fill-opacity=\"1\" /><path clip-path=\"url(#clip590)\" d=\"M 0 0 M1301.42 1515.64 Q1297.81 1515.64 1295.98 1519.2 Q1294.18 1522.75 1294.18 1529.87 Q1294.18 1536.98 1295.98 1540.55 Q1297.81 1544.09 1301.42 1544.09 Q1305.06 1544.09 1306.86 1540.55 Q1308.69 1536.98 1308.69 1529.87 Q1308.69 1522.75 1306.86 1519.2 Q1305.06 1515.64 1301.42 1515.64 M1301.42 1511.93 Q1307.23 1511.93 1310.29 1516.54 Q1313.37 1521.12 1313.37 1529.87 Q1313.37 1538.6 1310.29 1543.21 Q1307.23 1547.79 1301.42 1547.79 Q1295.61 1547.79 1292.53 1543.21 Q1289.48 1538.6 1289.48 1529.87 Q1289.48 1521.12 1292.53 1516.54 Q1295.61 1511.93 1301.42 1511.93 Z\" fill=\"#000000\" fill-rule=\"evenodd\" fill-opacity=\"1\" /><path clip-path=\"url(#clip590)\" d=\"M 0 0 M1823.9 1512.56 L1842.26 1512.56 L1842.26 1516.5 L1828.18 1516.5 L1828.18 1524.97 Q1829.2 1524.62 1830.22 1524.46 Q1831.24 1524.27 1832.26 1524.27 Q1838.04 1524.27 1841.42 1527.44 Q1844.8 1530.62 1844.8 1536.03 Q1844.8 1541.61 1841.33 1544.71 Q1837.86 1547.79 1831.54 1547.79 Q1829.36 1547.79 1827.09 1547.42 Q1824.85 1547.05 1822.44 1546.31 L1822.44 1541.61 Q1824.52 1542.74 1826.75 1543.3 Q1828.97 1543.86 1831.45 1543.86 Q1835.45 1543.86 1837.79 1541.75 Q1840.13 1539.64 1840.13 1536.03 Q1840.13 1532.42 1837.79 1530.31 Q1835.45 1528.21 1831.45 1528.21 Q1829.57 1528.21 1827.7 1528.62 Q1825.84 1529.04 1823.9 1529.92 L1823.9 1512.56 Z\" fill=\"#000000\" fill-rule=\"evenodd\" fill-opacity=\"1\" /><polyline clip-path=\"url(#clip592)\" style=\"stroke:#000000; stroke-width:2; stroke-opacity:0.1; fill:none\" points=\"\n",
       "  179.654,1306.73 2352.76,1306.73 \n",
       "  \"/>\n",
       "<polyline clip-path=\"url(#clip592)\" style=\"stroke:#000000; stroke-width:2; stroke-opacity:0.1; fill:none\" points=\"\n",
       "  179.654,1126.77 2352.76,1126.77 \n",
       "  \"/>\n",
       "<polyline clip-path=\"url(#clip592)\" style=\"stroke:#000000; stroke-width:2; stroke-opacity:0.1; fill:none\" points=\"\n",
       "  179.654,946.806 2352.76,946.806 \n",
       "  \"/>\n",
       "<polyline clip-path=\"url(#clip592)\" style=\"stroke:#000000; stroke-width:2; stroke-opacity:0.1; fill:none\" points=\"\n",
       "  179.654,766.846 2352.76,766.846 \n",
       "  \"/>\n",
       "<polyline clip-path=\"url(#clip592)\" style=\"stroke:#000000; stroke-width:2; stroke-opacity:0.1; fill:none\" points=\"\n",
       "  179.654,586.886 2352.76,586.886 \n",
       "  \"/>\n",
       "<polyline clip-path=\"url(#clip592)\" style=\"stroke:#000000; stroke-width:2; stroke-opacity:0.1; fill:none\" points=\"\n",
       "  179.654,406.925 2352.76,406.925 \n",
       "  \"/>\n",
       "<polyline clip-path=\"url(#clip592)\" style=\"stroke:#000000; stroke-width:2; stroke-opacity:0.1; fill:none\" points=\"\n",
       "  179.654,226.965 2352.76,226.965 \n",
       "  \"/>\n",
       "<polyline clip-path=\"url(#clip590)\" style=\"stroke:#000000; stroke-width:4; stroke-opacity:1; fill:none\" points=\"\n",
       "  179.654,1486.45 179.654,47.2441 \n",
       "  \"/>\n",
       "<polyline clip-path=\"url(#clip590)\" style=\"stroke:#000000; stroke-width:4; stroke-opacity:1; fill:none\" points=\"\n",
       "  179.654,1306.73 205.731,1306.73 \n",
       "  \"/>\n",
       "<polyline clip-path=\"url(#clip590)\" style=\"stroke:#000000; stroke-width:4; stroke-opacity:1; fill:none\" points=\"\n",
       "  179.654,1126.77 205.731,1126.77 \n",
       "  \"/>\n",
       "<polyline clip-path=\"url(#clip590)\" style=\"stroke:#000000; stroke-width:4; stroke-opacity:1; fill:none\" points=\"\n",
       "  179.654,946.806 205.731,946.806 \n",
       "  \"/>\n",
       "<polyline clip-path=\"url(#clip590)\" style=\"stroke:#000000; stroke-width:4; stroke-opacity:1; fill:none\" points=\"\n",
       "  179.654,766.846 205.731,766.846 \n",
       "  \"/>\n",
       "<polyline clip-path=\"url(#clip590)\" style=\"stroke:#000000; stroke-width:4; stroke-opacity:1; fill:none\" points=\"\n",
       "  179.654,586.886 205.731,586.886 \n",
       "  \"/>\n",
       "<polyline clip-path=\"url(#clip590)\" style=\"stroke:#000000; stroke-width:4; stroke-opacity:1; fill:none\" points=\"\n",
       "  179.654,406.925 205.731,406.925 \n",
       "  \"/>\n",
       "<polyline clip-path=\"url(#clip590)\" style=\"stroke:#000000; stroke-width:4; stroke-opacity:1; fill:none\" points=\"\n",
       "  179.654,226.965 205.731,226.965 \n",
       "  \"/>\n",
       "<path clip-path=\"url(#clip590)\" d=\"M 0 0 M51.8949 1307.18 L81.5707 1307.18 L81.5707 1311.11 L51.8949 1311.11 L51.8949 1307.18 Z\" fill=\"#000000\" fill-rule=\"evenodd\" fill-opacity=\"1\" /><path clip-path=\"url(#clip590)\" d=\"M 0 0 M85.4595 1289.45 L107.682 1289.45 L107.682 1291.44 L95.1354 1324.01 L90.2512 1324.01 L102.057 1293.38 L85.4595 1293.38 L85.4595 1289.45 Z\" fill=\"#000000\" fill-rule=\"evenodd\" fill-opacity=\"1\" /><path clip-path=\"url(#clip590)\" d=\"M 0 0 M112.751 1318.13 L117.635 1318.13 L117.635 1324.01 L112.751 1324.01 L112.751 1318.13 Z\" fill=\"#000000\" fill-rule=\"evenodd\" fill-opacity=\"1\" /><path clip-path=\"url(#clip590)\" d=\"M 0 0 M122.751 1289.45 L141.107 1289.45 L141.107 1293.38 L127.033 1293.38 L127.033 1301.85 Q128.052 1301.51 129.07 1301.35 Q130.089 1301.16 131.107 1301.16 Q136.894 1301.16 140.274 1304.33 Q143.654 1307.5 143.654 1312.92 Q143.654 1318.5 140.181 1321.6 Q136.709 1324.68 130.39 1324.68 Q128.214 1324.68 125.945 1324.31 Q123.7 1323.94 121.293 1323.2 L121.293 1318.5 Q123.376 1319.63 125.598 1320.19 Q127.82 1320.74 130.297 1320.74 Q134.302 1320.74 136.64 1318.64 Q138.978 1316.53 138.978 1312.92 Q138.978 1309.31 136.64 1307.2 Q134.302 1305.1 130.297 1305.1 Q128.422 1305.1 126.547 1305.51 Q124.695 1305.93 122.751 1306.81 L122.751 1289.45 Z\" fill=\"#000000\" fill-rule=\"evenodd\" fill-opacity=\"1\" /><path clip-path=\"url(#clip590)\" d=\"M 0 0 M50.9921 1127.22 L80.6679 1127.22 L80.6679 1131.15 L50.9921 1131.15 L50.9921 1127.22 Z\" fill=\"#000000\" fill-rule=\"evenodd\" fill-opacity=\"1\" /><path clip-path=\"url(#clip590)\" d=\"M 0 0 M85.7836 1109.49 L104.14 1109.49 L104.14 1113.42 L90.066 1113.42 L90.066 1121.89 Q91.0845 1121.55 92.103 1121.39 Q93.1215 1121.2 94.14 1121.2 Q99.927 1121.2 103.307 1124.37 Q106.686 1127.54 106.686 1132.96 Q106.686 1138.54 103.214 1141.64 Q99.7419 1144.72 93.4225 1144.72 Q91.2465 1144.72 88.978 1144.35 Q86.7327 1143.98 84.3253 1143.24 L84.3253 1138.54 Q86.4086 1139.67 88.6308 1140.23 Q90.853 1140.78 93.3299 1140.78 Q97.3345 1140.78 99.6724 1138.68 Q102.01 1136.57 102.01 1132.96 Q102.01 1129.35 99.6724 1127.24 Q97.3345 1125.13 93.3299 1125.13 Q91.4549 1125.13 89.5799 1125.55 Q87.728 1125.97 85.7836 1126.85 L85.7836 1109.49 Z\" fill=\"#000000\" fill-rule=\"evenodd\" fill-opacity=\"1\" /><path clip-path=\"url(#clip590)\" d=\"M 0 0 M111.756 1138.17 L116.64 1138.17 L116.64 1144.05 L111.756 1144.05 L111.756 1138.17 Z\" fill=\"#000000\" fill-rule=\"evenodd\" fill-opacity=\"1\" /><path clip-path=\"url(#clip590)\" d=\"M 0 0 M131.709 1112.57 Q128.098 1112.57 126.27 1116.13 Q124.464 1119.67 124.464 1126.8 Q124.464 1133.91 126.27 1137.47 Q128.098 1141.01 131.709 1141.01 Q135.344 1141.01 137.149 1137.47 Q138.978 1133.91 138.978 1126.8 Q138.978 1119.67 137.149 1116.13 Q135.344 1112.57 131.709 1112.57 M131.709 1108.86 Q137.519 1108.86 140.575 1113.47 Q143.654 1118.05 143.654 1126.8 Q143.654 1135.53 140.575 1140.13 Q137.519 1144.72 131.709 1144.72 Q125.899 1144.72 122.82 1140.13 Q119.765 1135.53 119.765 1126.8 Q119.765 1118.05 122.82 1113.47 Q125.899 1108.86 131.709 1108.86 Z\" fill=\"#000000\" fill-rule=\"evenodd\" fill-opacity=\"1\" /><path clip-path=\"url(#clip590)\" d=\"M 0 0 M52.5893 947.258 L82.2651 947.258 L82.2651 951.193 L52.5893 951.193 L52.5893 947.258 Z\" fill=\"#000000\" fill-rule=\"evenodd\" fill-opacity=\"1\" /><path clip-path=\"url(#clip590)\" d=\"M 0 0 M91.3623 960.151 L107.682 960.151 L107.682 964.086 L85.7373 964.086 L85.7373 960.151 Q88.3993 957.397 92.9826 952.767 Q97.5891 948.114 98.7696 946.772 Q101.015 944.249 101.895 942.512 Q102.797 940.753 102.797 939.063 Q102.797 936.309 100.853 934.573 Q98.9317 932.837 95.8298 932.837 Q93.6308 932.837 91.1771 933.601 Q88.7466 934.364 85.9688 935.915 L85.9688 931.193 Q88.7928 930.059 91.2465 929.48 Q93.7002 928.901 95.7373 928.901 Q101.108 928.901 104.302 931.587 Q107.496 934.272 107.496 938.763 Q107.496 940.892 106.686 942.813 Q105.899 944.712 103.793 947.304 Q103.214 947.975 100.112 951.193 Q97.0104 954.387 91.3623 960.151 Z\" fill=\"#000000\" fill-rule=\"evenodd\" fill-opacity=\"1\" /><path clip-path=\"url(#clip590)\" d=\"M 0 0 M112.751 958.207 L117.635 958.207 L117.635 964.086 L112.751 964.086 L112.751 958.207 Z\" fill=\"#000000\" fill-rule=\"evenodd\" fill-opacity=\"1\" /><path clip-path=\"url(#clip590)\" d=\"M 0 0 M122.751 929.526 L141.107 929.526 L141.107 933.462 L127.033 933.462 L127.033 941.934 Q128.052 941.587 129.07 941.425 Q130.089 941.239 131.107 941.239 Q136.894 941.239 140.274 944.411 Q143.654 947.582 143.654 952.999 Q143.654 958.577 140.181 961.679 Q136.709 964.758 130.39 964.758 Q128.214 964.758 125.945 964.387 Q123.7 964.017 121.293 963.276 L121.293 958.577 Q123.376 959.711 125.598 960.267 Q127.82 960.823 130.297 960.823 Q134.302 960.823 136.64 958.716 Q138.978 956.61 138.978 952.999 Q138.978 949.387 136.64 947.281 Q134.302 945.175 130.297 945.175 Q128.422 945.175 126.547 945.591 Q124.695 946.008 122.751 946.887 L122.751 929.526 Z\" fill=\"#000000\" fill-rule=\"evenodd\" fill-opacity=\"1\" /><path clip-path=\"url(#clip590)\" d=\"M 0 0 M94.7419 752.645 Q91.1308 752.645 89.3021 756.209 Q87.4966 759.751 87.4966 766.881 Q87.4966 773.987 89.3021 777.552 Q91.1308 781.094 94.7419 781.094 Q98.3761 781.094 100.182 777.552 Q102.01 773.987 102.01 766.881 Q102.01 759.751 100.182 756.209 Q98.3761 752.645 94.7419 752.645 M94.7419 748.941 Q100.552 748.941 103.608 753.547 Q106.686 758.131 106.686 766.881 Q106.686 775.608 103.608 780.214 Q100.552 784.797 94.7419 784.797 Q88.9317 784.797 85.8531 780.214 Q82.7975 775.608 82.7975 766.881 Q82.7975 758.131 85.8531 753.547 Q88.9317 748.941 94.7419 748.941 Z\" fill=\"#000000\" fill-rule=\"evenodd\" fill-opacity=\"1\" /><path clip-path=\"url(#clip590)\" d=\"M 0 0 M111.756 778.246 L116.64 778.246 L116.64 784.126 L111.756 784.126 L111.756 778.246 Z\" fill=\"#000000\" fill-rule=\"evenodd\" fill-opacity=\"1\" /><path clip-path=\"url(#clip590)\" d=\"M 0 0 M131.709 752.645 Q128.098 752.645 126.27 756.209 Q124.464 759.751 124.464 766.881 Q124.464 773.987 126.27 777.552 Q128.098 781.094 131.709 781.094 Q135.344 781.094 137.149 777.552 Q138.978 773.987 138.978 766.881 Q138.978 759.751 137.149 756.209 Q135.344 752.645 131.709 752.645 M131.709 748.941 Q137.519 748.941 140.575 753.547 Q143.654 758.131 143.654 766.881 Q143.654 775.608 140.575 780.214 Q137.519 784.797 131.709 784.797 Q125.899 784.797 122.82 780.214 Q119.765 775.608 119.765 766.881 Q119.765 758.131 122.82 753.547 Q125.899 748.941 131.709 748.941 Z\" fill=\"#000000\" fill-rule=\"evenodd\" fill-opacity=\"1\" /><path clip-path=\"url(#clip590)\" d=\"M 0 0 M91.3623 600.23 L107.682 600.23 L107.682 604.166 L85.7373 604.166 L85.7373 600.23 Q88.3993 597.476 92.9826 592.846 Q97.5891 588.193 98.7696 586.851 Q101.015 584.328 101.895 582.592 Q102.797 580.832 102.797 579.143 Q102.797 576.388 100.853 574.652 Q98.9317 572.916 95.8298 572.916 Q93.6308 572.916 91.1771 573.68 Q88.7466 574.443 85.9688 575.994 L85.9688 571.272 Q88.7928 570.138 91.2465 569.559 Q93.7002 568.981 95.7373 568.981 Q101.108 568.981 104.302 571.666 Q107.496 574.351 107.496 578.842 Q107.496 580.971 106.686 582.892 Q105.899 584.791 103.793 587.383 Q103.214 588.054 100.112 591.272 Q97.0104 594.466 91.3623 600.23 Z\" fill=\"#000000\" fill-rule=\"evenodd\" fill-opacity=\"1\" /><path clip-path=\"url(#clip590)\" d=\"M 0 0 M112.751 598.286 L117.635 598.286 L117.635 604.166 L112.751 604.166 L112.751 598.286 Z\" fill=\"#000000\" fill-rule=\"evenodd\" fill-opacity=\"1\" /><path clip-path=\"url(#clip590)\" d=\"M 0 0 M122.751 569.606 L141.107 569.606 L141.107 573.541 L127.033 573.541 L127.033 582.013 Q128.052 581.666 129.07 581.504 Q130.089 581.318 131.107 581.318 Q136.894 581.318 140.274 584.49 Q143.654 587.661 143.654 593.078 Q143.654 598.656 140.181 601.758 Q136.709 604.837 130.39 604.837 Q128.214 604.837 125.945 604.466 Q123.7 604.096 121.293 603.355 L121.293 598.656 Q123.376 599.791 125.598 600.346 Q127.82 600.902 130.297 600.902 Q134.302 600.902 136.64 598.795 Q138.978 596.689 138.978 593.078 Q138.978 589.467 136.64 587.36 Q134.302 585.254 130.297 585.254 Q128.422 585.254 126.547 585.67 Q124.695 586.087 122.751 586.967 L122.751 569.606 Z\" fill=\"#000000\" fill-rule=\"evenodd\" fill-opacity=\"1\" /><path clip-path=\"url(#clip590)\" d=\"M 0 0 M85.7836 389.645 L104.14 389.645 L104.14 393.58 L90.066 393.58 L90.066 402.052 Q91.0845 401.705 92.103 401.543 Q93.1215 401.358 94.14 401.358 Q99.927 401.358 103.307 404.529 Q106.686 407.701 106.686 413.117 Q106.686 418.696 103.214 421.798 Q99.7419 424.876 93.4225 424.876 Q91.2465 424.876 88.978 424.506 Q86.7327 424.136 84.3253 423.395 L84.3253 418.696 Q86.4086 419.83 88.6308 420.386 Q90.853 420.941 93.3299 420.941 Q97.3345 420.941 99.6724 418.835 Q102.01 416.728 102.01 413.117 Q102.01 409.506 99.6724 407.4 Q97.3345 405.293 93.3299 405.293 Q91.4549 405.293 89.5799 405.71 Q87.728 406.126 85.7836 407.006 L85.7836 389.645 Z\" fill=\"#000000\" fill-rule=\"evenodd\" fill-opacity=\"1\" /><path clip-path=\"url(#clip590)\" d=\"M 0 0 M111.756 418.325 L116.64 418.325 L116.64 424.205 L111.756 424.205 L111.756 418.325 Z\" fill=\"#000000\" fill-rule=\"evenodd\" fill-opacity=\"1\" /><path clip-path=\"url(#clip590)\" d=\"M 0 0 M131.709 392.724 Q128.098 392.724 126.27 396.289 Q124.464 399.83 124.464 406.96 Q124.464 414.066 126.27 417.631 Q128.098 421.173 131.709 421.173 Q135.344 421.173 137.149 417.631 Q138.978 414.066 138.978 406.96 Q138.978 399.83 137.149 396.289 Q135.344 392.724 131.709 392.724 M131.709 389.02 Q137.519 389.02 140.575 393.627 Q143.654 398.21 143.654 406.96 Q143.654 415.687 140.575 420.293 Q137.519 424.876 131.709 424.876 Q125.899 424.876 122.82 420.293 Q119.765 415.687 119.765 406.96 Q119.765 398.21 122.82 393.627 Q125.899 389.02 131.709 389.02 Z\" fill=\"#000000\" fill-rule=\"evenodd\" fill-opacity=\"1\" /><path clip-path=\"url(#clip590)\" d=\"M 0 0 M85.4595 209.685 L107.682 209.685 L107.682 211.675 L95.1354 244.245 L90.2512 244.245 L102.057 213.62 L85.4595 213.62 L85.4595 209.685 Z\" fill=\"#000000\" fill-rule=\"evenodd\" fill-opacity=\"1\" /><path clip-path=\"url(#clip590)\" d=\"M 0 0 M112.751 238.365 L117.635 238.365 L117.635 244.245 L112.751 244.245 L112.751 238.365 Z\" fill=\"#000000\" fill-rule=\"evenodd\" fill-opacity=\"1\" /><path clip-path=\"url(#clip590)\" d=\"M 0 0 M122.751 209.685 L141.107 209.685 L141.107 213.62 L127.033 213.62 L127.033 222.092 Q128.052 221.745 129.07 221.583 Q130.089 221.397 131.107 221.397 Q136.894 221.397 140.274 224.569 Q143.654 227.74 143.654 233.157 Q143.654 238.735 140.181 241.837 Q136.709 244.916 130.39 244.916 Q128.214 244.916 125.945 244.546 Q123.7 244.175 121.293 243.434 L121.293 238.735 Q123.376 239.87 125.598 240.425 Q127.82 240.981 130.297 240.981 Q134.302 240.981 136.64 238.874 Q138.978 236.768 138.978 233.157 Q138.978 229.546 136.64 227.439 Q134.302 225.333 130.297 225.333 Q128.422 225.333 126.547 225.749 Q124.695 226.166 122.751 227.046 L122.751 209.685 Z\" fill=\"#000000\" fill-rule=\"evenodd\" fill-opacity=\"1\" /><circle clip-path=\"url(#clip592)\" cx=\"241.157\" cy=\"766.846\" r=\"14\" fill=\"#009af9\" fill-rule=\"evenodd\" fill-opacity=\"1\" stroke=\"#000000\" stroke-opacity=\"1\" stroke-width=\"3.2\"/>\n",
       "<circle clip-path=\"url(#clip592)\" cx=\"320.488\" cy=\"766.846\" r=\"14\" fill=\"#009af9\" fill-rule=\"evenodd\" fill-opacity=\"1\" stroke=\"#000000\" stroke-opacity=\"1\" stroke-width=\"3.2\"/>\n",
       "<circle clip-path=\"url(#clip592)\" cx=\"371.107\" cy=\"910.73\" r=\"14\" fill=\"#009af9\" fill-rule=\"evenodd\" fill-opacity=\"1\" stroke=\"#000000\" stroke-opacity=\"1\" stroke-width=\"3.2\"/>\n",
       "<circle clip-path=\"url(#clip592)\" cx=\"371.107\" cy=\"622.962\" r=\"14\" fill=\"#009af9\" fill-rule=\"evenodd\" fill-opacity=\"1\" stroke=\"#000000\" stroke-opacity=\"1\" stroke-width=\"3.2\"/>\n",
       "<circle clip-path=\"url(#clip592)\" cx=\"447.954\" cy=\"1000.91\" r=\"14\" fill=\"#009af9\" fill-rule=\"evenodd\" fill-opacity=\"1\" stroke=\"#000000\" stroke-opacity=\"1\" stroke-width=\"3.2\"/>\n",
       "<circle clip-path=\"url(#clip592)\" cx=\"447.954\" cy=\"532.784\" r=\"14\" fill=\"#009af9\" fill-rule=\"evenodd\" fill-opacity=\"1\" stroke=\"#000000\" stroke-opacity=\"1\" stroke-width=\"3.2\"/>\n",
       "<circle clip-path=\"url(#clip592)\" cx=\"608.208\" cy=\"1103.57\" r=\"14\" fill=\"#009af9\" fill-rule=\"evenodd\" fill-opacity=\"1\" stroke=\"#000000\" stroke-opacity=\"1\" stroke-width=\"3.2\"/>\n",
       "<circle clip-path=\"url(#clip592)\" cx=\"608.208\" cy=\"430.121\" r=\"14\" fill=\"#009af9\" fill-rule=\"evenodd\" fill-opacity=\"1\" stroke=\"#000000\" stroke-opacity=\"1\" stroke-width=\"3.2\"/>\n",
       "<circle clip-path=\"url(#clip592)\" cx=\"628.906\" cy=\"1026.79\" r=\"14\" fill=\"#009af9\" fill-rule=\"evenodd\" fill-opacity=\"1\" stroke=\"#000000\" stroke-opacity=\"1\" stroke-width=\"3.2\"/>\n",
       "<circle clip-path=\"url(#clip592)\" cx=\"628.906\" cy=\"506.898\" r=\"14\" fill=\"#009af9\" fill-rule=\"evenodd\" fill-opacity=\"1\" stroke=\"#000000\" stroke-opacity=\"1\" stroke-width=\"3.2\"/>\n",
       "<circle clip-path=\"url(#clip592)\" cx=\"663.361\" cy=\"1310.88\" r=\"14\" fill=\"#009af9\" fill-rule=\"evenodd\" fill-opacity=\"1\" stroke=\"#000000\" stroke-opacity=\"1\" stroke-width=\"3.2\"/>\n",
       "<circle clip-path=\"url(#clip592)\" cx=\"663.361\" cy=\"222.815\" r=\"14\" fill=\"#009af9\" fill-rule=\"evenodd\" fill-opacity=\"1\" stroke=\"#000000\" stroke-opacity=\"1\" stroke-width=\"3.2\"/>\n",
       "<circle clip-path=\"url(#clip592)\" cx=\"695.629\" cy=\"1197.88\" r=\"14\" fill=\"#009af9\" fill-rule=\"evenodd\" fill-opacity=\"1\" stroke=\"#000000\" stroke-opacity=\"1\" stroke-width=\"3.2\"/>\n",
       "<circle clip-path=\"url(#clip592)\" cx=\"695.629\" cy=\"335.815\" r=\"14\" fill=\"#009af9\" fill-rule=\"evenodd\" fill-opacity=\"1\" stroke=\"#000000\" stroke-opacity=\"1\" stroke-width=\"3.2\"/>\n",
       "<circle clip-path=\"url(#clip592)\" cx=\"713.371\" cy=\"766.846\" r=\"14\" fill=\"#009af9\" fill-rule=\"evenodd\" fill-opacity=\"1\" stroke=\"#000000\" stroke-opacity=\"1\" stroke-width=\"3.2\"/>\n",
       "<circle clip-path=\"url(#clip592)\" cx=\"716.738\" cy=\"1365.45\" r=\"14\" fill=\"#009af9\" fill-rule=\"evenodd\" fill-opacity=\"1\" stroke=\"#000000\" stroke-opacity=\"1\" stroke-width=\"3.2\"/>\n",
       "<circle clip-path=\"url(#clip592)\" cx=\"716.738\" cy=\"168.239\" r=\"14\" fill=\"#009af9\" fill-rule=\"evenodd\" fill-opacity=\"1\" stroke=\"#000000\" stroke-opacity=\"1\" stroke-width=\"3.2\"/>\n",
       "<circle clip-path=\"url(#clip592)\" cx=\"746.73\" cy=\"766.846\" r=\"14\" fill=\"#009af9\" fill-rule=\"evenodd\" fill-opacity=\"1\" stroke=\"#000000\" stroke-opacity=\"1\" stroke-width=\"3.2\"/>\n",
       "<circle clip-path=\"url(#clip592)\" cx=\"752.666\" cy=\"931.373\" r=\"14\" fill=\"#009af9\" fill-rule=\"evenodd\" fill-opacity=\"1\" stroke=\"#000000\" stroke-opacity=\"1\" stroke-width=\"3.2\"/>\n",
       "<circle clip-path=\"url(#clip592)\" cx=\"752.666\" cy=\"602.319\" r=\"14\" fill=\"#009af9\" fill-rule=\"evenodd\" fill-opacity=\"1\" stroke=\"#000000\" stroke-opacity=\"1\" stroke-width=\"3.2\"/>\n",
       "<circle clip-path=\"url(#clip592)\" cx=\"819.471\" cy=\"1310.65\" r=\"14\" fill=\"#009af9\" fill-rule=\"evenodd\" fill-opacity=\"1\" stroke=\"#000000\" stroke-opacity=\"1\" stroke-width=\"3.2\"/>\n",
       "<circle clip-path=\"url(#clip592)\" cx=\"819.471\" cy=\"223.038\" r=\"14\" fill=\"#009af9\" fill-rule=\"evenodd\" fill-opacity=\"1\" stroke=\"#000000\" stroke-opacity=\"1\" stroke-width=\"3.2\"/>\n",
       "<circle clip-path=\"url(#clip592)\" cx=\"867.001\" cy=\"862.907\" r=\"14\" fill=\"#009af9\" fill-rule=\"evenodd\" fill-opacity=\"1\" stroke=\"#000000\" stroke-opacity=\"1\" stroke-width=\"3.2\"/>\n",
       "<circle clip-path=\"url(#clip592)\" cx=\"867.001\" cy=\"670.785\" r=\"14\" fill=\"#009af9\" fill-rule=\"evenodd\" fill-opacity=\"1\" stroke=\"#000000\" stroke-opacity=\"1\" stroke-width=\"3.2\"/>\n",
       "<circle clip-path=\"url(#clip592)\" cx=\"880.723\" cy=\"978.418\" r=\"14\" fill=\"#009af9\" fill-rule=\"evenodd\" fill-opacity=\"1\" stroke=\"#000000\" stroke-opacity=\"1\" stroke-width=\"3.2\"/>\n",
       "<circle clip-path=\"url(#clip592)\" cx=\"880.723\" cy=\"555.274\" r=\"14\" fill=\"#009af9\" fill-rule=\"evenodd\" fill-opacity=\"1\" stroke=\"#000000\" stroke-opacity=\"1\" stroke-width=\"3.2\"/>\n",
       "<circle clip-path=\"url(#clip592)\" cx=\"976.556\" cy=\"991.567\" r=\"14\" fill=\"#009af9\" fill-rule=\"evenodd\" fill-opacity=\"1\" stroke=\"#000000\" stroke-opacity=\"1\" stroke-width=\"3.2\"/>\n",
       "<circle clip-path=\"url(#clip592)\" cx=\"976.556\" cy=\"542.125\" r=\"14\" fill=\"#009af9\" fill-rule=\"evenodd\" fill-opacity=\"1\" stroke=\"#000000\" stroke-opacity=\"1\" stroke-width=\"3.2\"/>\n",
       "<circle clip-path=\"url(#clip592)\" cx=\"980.743\" cy=\"1074.39\" r=\"14\" fill=\"#009af9\" fill-rule=\"evenodd\" fill-opacity=\"1\" stroke=\"#000000\" stroke-opacity=\"1\" stroke-width=\"3.2\"/>\n",
       "<circle clip-path=\"url(#clip592)\" cx=\"980.743\" cy=\"459.298\" r=\"14\" fill=\"#009af9\" fill-rule=\"evenodd\" fill-opacity=\"1\" stroke=\"#000000\" stroke-opacity=\"1\" stroke-width=\"3.2\"/>\n",
       "<circle clip-path=\"url(#clip592)\" cx=\"993.357\" cy=\"1241.42\" r=\"14\" fill=\"#009af9\" fill-rule=\"evenodd\" fill-opacity=\"1\" stroke=\"#000000\" stroke-opacity=\"1\" stroke-width=\"3.2\"/>\n",
       "<circle clip-path=\"url(#clip592)\" cx=\"993.357\" cy=\"292.271\" r=\"14\" fill=\"#009af9\" fill-rule=\"evenodd\" fill-opacity=\"1\" stroke=\"#000000\" stroke-opacity=\"1\" stroke-width=\"3.2\"/>\n",
       "<circle clip-path=\"url(#clip592)\" cx=\"1074.79\" cy=\"1075.36\" r=\"14\" fill=\"#009af9\" fill-rule=\"evenodd\" fill-opacity=\"1\" stroke=\"#000000\" stroke-opacity=\"1\" stroke-width=\"3.2\"/>\n",
       "<circle clip-path=\"url(#clip592)\" cx=\"1074.79\" cy=\"458.333\" r=\"14\" fill=\"#009af9\" fill-rule=\"evenodd\" fill-opacity=\"1\" stroke=\"#000000\" stroke-opacity=\"1\" stroke-width=\"3.2\"/>\n",
       "<circle clip-path=\"url(#clip592)\" cx=\"1080.42\" cy=\"766.846\" r=\"14\" fill=\"#009af9\" fill-rule=\"evenodd\" fill-opacity=\"1\" stroke=\"#000000\" stroke-opacity=\"1\" stroke-width=\"3.2\"/>\n",
       "<circle clip-path=\"url(#clip592)\" cx=\"1125.02\" cy=\"766.846\" r=\"14\" fill=\"#009af9\" fill-rule=\"evenodd\" fill-opacity=\"1\" stroke=\"#000000\" stroke-opacity=\"1\" stroke-width=\"3.2\"/>\n",
       "<circle clip-path=\"url(#clip592)\" cx=\"1140.79\" cy=\"1105.25\" r=\"14\" fill=\"#009af9\" fill-rule=\"evenodd\" fill-opacity=\"1\" stroke=\"#000000\" stroke-opacity=\"1\" stroke-width=\"3.2\"/>\n",
       "<circle clip-path=\"url(#clip592)\" cx=\"1140.79\" cy=\"428.446\" r=\"14\" fill=\"#009af9\" fill-rule=\"evenodd\" fill-opacity=\"1\" stroke=\"#000000\" stroke-opacity=\"1\" stroke-width=\"3.2\"/>\n",
       "<circle clip-path=\"url(#clip592)\" cx=\"1160.58\" cy=\"1343.66\" r=\"14\" fill=\"#009af9\" fill-rule=\"evenodd\" fill-opacity=\"1\" stroke=\"#000000\" stroke-opacity=\"1\" stroke-width=\"3.2\"/>\n",
       "<circle clip-path=\"url(#clip592)\" cx=\"1160.58\" cy=\"190.032\" r=\"14\" fill=\"#009af9\" fill-rule=\"evenodd\" fill-opacity=\"1\" stroke=\"#000000\" stroke-opacity=\"1\" stroke-width=\"3.2\"/>\n",
       "<circle clip-path=\"url(#clip592)\" cx=\"1201.13\" cy=\"1027.27\" r=\"14\" fill=\"#009af9\" fill-rule=\"evenodd\" fill-opacity=\"1\" stroke=\"#000000\" stroke-opacity=\"1\" stroke-width=\"3.2\"/>\n",
       "<circle clip-path=\"url(#clip592)\" cx=\"1201.13\" cy=\"506.427\" r=\"14\" fill=\"#009af9\" fill-rule=\"evenodd\" fill-opacity=\"1\" stroke=\"#000000\" stroke-opacity=\"1\" stroke-width=\"3.2\"/>\n",
       "<circle clip-path=\"url(#clip592)\" cx=\"1216.47\" cy=\"1445.72\" r=\"14\" fill=\"#009af9\" fill-rule=\"evenodd\" fill-opacity=\"1\" stroke=\"#000000\" stroke-opacity=\"1\" stroke-width=\"3.2\"/>\n",
       "<circle clip-path=\"url(#clip592)\" cx=\"1216.47\" cy=\"87.9763\" r=\"14\" fill=\"#009af9\" fill-rule=\"evenodd\" fill-opacity=\"1\" stroke=\"#000000\" stroke-opacity=\"1\" stroke-width=\"3.2\"/>\n",
       "<circle clip-path=\"url(#clip592)\" cx=\"1220.35\" cy=\"816.814\" r=\"14\" fill=\"#009af9\" fill-rule=\"evenodd\" fill-opacity=\"1\" stroke=\"#000000\" stroke-opacity=\"1\" stroke-width=\"3.2\"/>\n",
       "<circle clip-path=\"url(#clip592)\" cx=\"1220.35\" cy=\"716.878\" r=\"14\" fill=\"#009af9\" fill-rule=\"evenodd\" fill-opacity=\"1\" stroke=\"#000000\" stroke-opacity=\"1\" stroke-width=\"3.2\"/>\n",
       "<circle clip-path=\"url(#clip592)\" cx=\"1255.48\" cy=\"1309.38\" r=\"14\" fill=\"#009af9\" fill-rule=\"evenodd\" fill-opacity=\"1\" stroke=\"#000000\" stroke-opacity=\"1\" stroke-width=\"3.2\"/>\n",
       "<circle clip-path=\"url(#clip592)\" cx=\"1255.48\" cy=\"224.309\" r=\"14\" fill=\"#009af9\" fill-rule=\"evenodd\" fill-opacity=\"1\" stroke=\"#000000\" stroke-opacity=\"1\" stroke-width=\"3.2\"/>\n",
       "<circle clip-path=\"url(#clip592)\" cx=\"1261.94\" cy=\"1142.8\" r=\"14\" fill=\"#009af9\" fill-rule=\"evenodd\" fill-opacity=\"1\" stroke=\"#000000\" stroke-opacity=\"1\" stroke-width=\"3.2\"/>\n",
       "<circle clip-path=\"url(#clip592)\" cx=\"1261.94\" cy=\"390.893\" r=\"14\" fill=\"#009af9\" fill-rule=\"evenodd\" fill-opacity=\"1\" stroke=\"#000000\" stroke-opacity=\"1\" stroke-width=\"3.2\"/>\n",
       "<circle clip-path=\"url(#clip592)\" cx=\"1289.26\" cy=\"1193.07\" r=\"14\" fill=\"#009af9\" fill-rule=\"evenodd\" fill-opacity=\"1\" stroke=\"#000000\" stroke-opacity=\"1\" stroke-width=\"3.2\"/>\n",
       "<circle clip-path=\"url(#clip592)\" cx=\"1289.26\" cy=\"340.621\" r=\"14\" fill=\"#009af9\" fill-rule=\"evenodd\" fill-opacity=\"1\" stroke=\"#000000\" stroke-opacity=\"1\" stroke-width=\"3.2\"/>\n",
       "<circle clip-path=\"url(#clip592)\" cx=\"1355.08\" cy=\"1079.36\" r=\"14\" fill=\"#009af9\" fill-rule=\"evenodd\" fill-opacity=\"1\" stroke=\"#000000\" stroke-opacity=\"1\" stroke-width=\"3.2\"/>\n",
       "<circle clip-path=\"url(#clip592)\" cx=\"1355.08\" cy=\"454.33\" r=\"14\" fill=\"#009af9\" fill-rule=\"evenodd\" fill-opacity=\"1\" stroke=\"#000000\" stroke-opacity=\"1\" stroke-width=\"3.2\"/>\n",
       "<circle clip-path=\"url(#clip592)\" cx=\"1373.49\" cy=\"1342.74\" r=\"14\" fill=\"#009af9\" fill-rule=\"evenodd\" fill-opacity=\"1\" stroke=\"#000000\" stroke-opacity=\"1\" stroke-width=\"3.2\"/>\n",
       "<circle clip-path=\"url(#clip592)\" cx=\"1373.49\" cy=\"190.951\" r=\"14\" fill=\"#009af9\" fill-rule=\"evenodd\" fill-opacity=\"1\" stroke=\"#000000\" stroke-opacity=\"1\" stroke-width=\"3.2\"/>\n",
       "<circle clip-path=\"url(#clip592)\" cx=\"1452.4\" cy=\"973.427\" r=\"14\" fill=\"#009af9\" fill-rule=\"evenodd\" fill-opacity=\"1\" stroke=\"#000000\" stroke-opacity=\"1\" stroke-width=\"3.2\"/>\n",
       "<circle clip-path=\"url(#clip592)\" cx=\"1452.4\" cy=\"560.265\" r=\"14\" fill=\"#009af9\" fill-rule=\"evenodd\" fill-opacity=\"1\" stroke=\"#000000\" stroke-opacity=\"1\" stroke-width=\"3.2\"/>\n",
       "<circle clip-path=\"url(#clip592)\" cx=\"1481.51\" cy=\"881.62\" r=\"14\" fill=\"#009af9\" fill-rule=\"evenodd\" fill-opacity=\"1\" stroke=\"#000000\" stroke-opacity=\"1\" stroke-width=\"3.2\"/>\n",
       "<circle clip-path=\"url(#clip592)\" cx=\"1481.51\" cy=\"652.072\" r=\"14\" fill=\"#009af9\" fill-rule=\"evenodd\" fill-opacity=\"1\" stroke=\"#000000\" stroke-opacity=\"1\" stroke-width=\"3.2\"/>\n",
       "<circle clip-path=\"url(#clip592)\" cx=\"1498.15\" cy=\"766.846\" r=\"14\" fill=\"#009af9\" fill-rule=\"evenodd\" fill-opacity=\"1\" stroke=\"#000000\" stroke-opacity=\"1\" stroke-width=\"3.2\"/>\n",
       "<circle clip-path=\"url(#clip592)\" cx=\"1499.12\" cy=\"1026.07\" r=\"14\" fill=\"#009af9\" fill-rule=\"evenodd\" fill-opacity=\"1\" stroke=\"#000000\" stroke-opacity=\"1\" stroke-width=\"3.2\"/>\n",
       "<circle clip-path=\"url(#clip592)\" cx=\"1499.12\" cy=\"507.622\" r=\"14\" fill=\"#009af9\" fill-rule=\"evenodd\" fill-opacity=\"1\" stroke=\"#000000\" stroke-opacity=\"1\" stroke-width=\"3.2\"/>\n",
       "<circle clip-path=\"url(#clip592)\" cx=\"1555.54\" cy=\"1354.02\" r=\"14\" fill=\"#009af9\" fill-rule=\"evenodd\" fill-opacity=\"1\" stroke=\"#000000\" stroke-opacity=\"1\" stroke-width=\"3.2\"/>\n",
       "<circle clip-path=\"url(#clip592)\" cx=\"1555.54\" cy=\"179.671\" r=\"14\" fill=\"#009af9\" fill-rule=\"evenodd\" fill-opacity=\"1\" stroke=\"#000000\" stroke-opacity=\"1\" stroke-width=\"3.2\"/>\n",
       "<circle clip-path=\"url(#clip592)\" cx=\"1595.77\" cy=\"1440.58\" r=\"14\" fill=\"#009af9\" fill-rule=\"evenodd\" fill-opacity=\"1\" stroke=\"#000000\" stroke-opacity=\"1\" stroke-width=\"3.2\"/>\n",
       "<circle clip-path=\"url(#clip592)\" cx=\"1595.77\" cy=\"93.1114\" r=\"14\" fill=\"#009af9\" fill-rule=\"evenodd\" fill-opacity=\"1\" stroke=\"#000000\" stroke-opacity=\"1\" stroke-width=\"3.2\"/>\n",
       "<circle clip-path=\"url(#clip592)\" cx=\"1596.53\" cy=\"975.626\" r=\"14\" fill=\"#009af9\" fill-rule=\"evenodd\" fill-opacity=\"1\" stroke=\"#000000\" stroke-opacity=\"1\" stroke-width=\"3.2\"/>\n",
       "<circle clip-path=\"url(#clip592)\" cx=\"1596.53\" cy=\"558.065\" r=\"14\" fill=\"#009af9\" fill-rule=\"evenodd\" fill-opacity=\"1\" stroke=\"#000000\" stroke-opacity=\"1\" stroke-width=\"3.2\"/>\n",
       "<circle clip-path=\"url(#clip592)\" cx=\"1596.78\" cy=\"766.846\" r=\"14\" fill=\"#009af9\" fill-rule=\"evenodd\" fill-opacity=\"1\" stroke=\"#000000\" stroke-opacity=\"1\" stroke-width=\"3.2\"/>\n",
       "<circle clip-path=\"url(#clip592)\" cx=\"1700.58\" cy=\"1093.07\" r=\"14\" fill=\"#009af9\" fill-rule=\"evenodd\" fill-opacity=\"1\" stroke=\"#000000\" stroke-opacity=\"1\" stroke-width=\"3.2\"/>\n",
       "<circle clip-path=\"url(#clip592)\" cx=\"1700.58\" cy=\"440.625\" r=\"14\" fill=\"#009af9\" fill-rule=\"evenodd\" fill-opacity=\"1\" stroke=\"#000000\" stroke-opacity=\"1\" stroke-width=\"3.2\"/>\n",
       "<circle clip-path=\"url(#clip592)\" cx=\"1710.05\" cy=\"1334.38\" r=\"14\" fill=\"#009af9\" fill-rule=\"evenodd\" fill-opacity=\"1\" stroke=\"#000000\" stroke-opacity=\"1\" stroke-width=\"3.2\"/>\n",
       "<circle clip-path=\"url(#clip592)\" cx=\"1710.05\" cy=\"199.312\" r=\"14\" fill=\"#009af9\" fill-rule=\"evenodd\" fill-opacity=\"1\" stroke=\"#000000\" stroke-opacity=\"1\" stroke-width=\"3.2\"/>\n",
       "<circle clip-path=\"url(#clip592)\" cx=\"1718.25\" cy=\"917.46\" r=\"14\" fill=\"#009af9\" fill-rule=\"evenodd\" fill-opacity=\"1\" stroke=\"#000000\" stroke-opacity=\"1\" stroke-width=\"3.2\"/>\n",
       "<circle clip-path=\"url(#clip592)\" cx=\"1718.25\" cy=\"616.232\" r=\"14\" fill=\"#009af9\" fill-rule=\"evenodd\" fill-opacity=\"1\" stroke=\"#000000\" stroke-opacity=\"1\" stroke-width=\"3.2\"/>\n",
       "<circle clip-path=\"url(#clip592)\" cx=\"1747.87\" cy=\"1263.04\" r=\"14\" fill=\"#009af9\" fill-rule=\"evenodd\" fill-opacity=\"1\" stroke=\"#000000\" stroke-opacity=\"1\" stroke-width=\"3.2\"/>\n",
       "<circle clip-path=\"url(#clip592)\" cx=\"1747.87\" cy=\"270.652\" r=\"14\" fill=\"#009af9\" fill-rule=\"evenodd\" fill-opacity=\"1\" stroke=\"#000000\" stroke-opacity=\"1\" stroke-width=\"3.2\"/>\n",
       "<circle clip-path=\"url(#clip592)\" cx=\"1767.83\" cy=\"766.846\" r=\"14\" fill=\"#009af9\" fill-rule=\"evenodd\" fill-opacity=\"1\" stroke=\"#000000\" stroke-opacity=\"1\" stroke-width=\"3.2\"/>\n",
       "<circle clip-path=\"url(#clip592)\" cx=\"1834.64\" cy=\"766.846\" r=\"14\" fill=\"#009af9\" fill-rule=\"evenodd\" fill-opacity=\"1\" stroke=\"#000000\" stroke-opacity=\"1\" stroke-width=\"3.2\"/>\n",
       "<circle clip-path=\"url(#clip592)\" cx=\"1870.27\" cy=\"1194.57\" r=\"14\" fill=\"#009af9\" fill-rule=\"evenodd\" fill-opacity=\"1\" stroke=\"#000000\" stroke-opacity=\"1\" stroke-width=\"3.2\"/>\n",
       "<circle clip-path=\"url(#clip592)\" cx=\"1870.27\" cy=\"339.117\" r=\"14\" fill=\"#009af9\" fill-rule=\"evenodd\" fill-opacity=\"1\" stroke=\"#000000\" stroke-opacity=\"1\" stroke-width=\"3.2\"/>\n",
       "<circle clip-path=\"url(#clip592)\" cx=\"1941.07\" cy=\"947.535\" r=\"14\" fill=\"#009af9\" fill-rule=\"evenodd\" fill-opacity=\"1\" stroke=\"#000000\" stroke-opacity=\"1\" stroke-width=\"3.2\"/>\n",
       "<circle clip-path=\"url(#clip592)\" cx=\"1941.07\" cy=\"586.157\" r=\"14\" fill=\"#009af9\" fill-rule=\"evenodd\" fill-opacity=\"1\" stroke=\"#000000\" stroke-opacity=\"1\" stroke-width=\"3.2\"/>\n",
       "<circle clip-path=\"url(#clip592)\" cx=\"1948.75\" cy=\"1009.22\" r=\"14\" fill=\"#009af9\" fill-rule=\"evenodd\" fill-opacity=\"1\" stroke=\"#000000\" stroke-opacity=\"1\" stroke-width=\"3.2\"/>\n",
       "<circle clip-path=\"url(#clip592)\" cx=\"1948.75\" cy=\"524.473\" r=\"14\" fill=\"#009af9\" fill-rule=\"evenodd\" fill-opacity=\"1\" stroke=\"#000000\" stroke-opacity=\"1\" stroke-width=\"3.2\"/>\n",
       "<circle clip-path=\"url(#clip592)\" cx=\"1980.83\" cy=\"1218.18\" r=\"14\" fill=\"#009af9\" fill-rule=\"evenodd\" fill-opacity=\"1\" stroke=\"#000000\" stroke-opacity=\"1\" stroke-width=\"3.2\"/>\n",
       "<circle clip-path=\"url(#clip592)\" cx=\"1980.83\" cy=\"315.513\" r=\"14\" fill=\"#009af9\" fill-rule=\"evenodd\" fill-opacity=\"1\" stroke=\"#000000\" stroke-opacity=\"1\" stroke-width=\"3.2\"/>\n",
       "<circle clip-path=\"url(#clip592)\" cx=\"2056.32\" cy=\"963.826\" r=\"14\" fill=\"#009af9\" fill-rule=\"evenodd\" fill-opacity=\"1\" stroke=\"#000000\" stroke-opacity=\"1\" stroke-width=\"3.2\"/>\n",
       "<circle clip-path=\"url(#clip592)\" cx=\"2056.32\" cy=\"569.866\" r=\"14\" fill=\"#009af9\" fill-rule=\"evenodd\" fill-opacity=\"1\" stroke=\"#000000\" stroke-opacity=\"1\" stroke-width=\"3.2\"/>\n",
       "<circle clip-path=\"url(#clip592)\" cx=\"2062.74\" cy=\"1034.2\" r=\"14\" fill=\"#009af9\" fill-rule=\"evenodd\" fill-opacity=\"1\" stroke=\"#000000\" stroke-opacity=\"1\" stroke-width=\"3.2\"/>\n",
       "<circle clip-path=\"url(#clip592)\" cx=\"2062.74\" cy=\"499.493\" r=\"14\" fill=\"#009af9\" fill-rule=\"evenodd\" fill-opacity=\"1\" stroke=\"#000000\" stroke-opacity=\"1\" stroke-width=\"3.2\"/>\n",
       "<circle clip-path=\"url(#clip592)\" cx=\"2074.61\" cy=\"1192.22\" r=\"14\" fill=\"#009af9\" fill-rule=\"evenodd\" fill-opacity=\"1\" stroke=\"#000000\" stroke-opacity=\"1\" stroke-width=\"3.2\"/>\n",
       "<circle clip-path=\"url(#clip592)\" cx=\"2074.61\" cy=\"341.469\" r=\"14\" fill=\"#009af9\" fill-rule=\"evenodd\" fill-opacity=\"1\" stroke=\"#000000\" stroke-opacity=\"1\" stroke-width=\"3.2\"/>\n",
       "<circle clip-path=\"url(#clip592)\" cx=\"2157.56\" cy=\"766.846\" r=\"14\" fill=\"#009af9\" fill-rule=\"evenodd\" fill-opacity=\"1\" stroke=\"#000000\" stroke-opacity=\"1\" stroke-width=\"3.2\"/>\n",
       "<circle clip-path=\"url(#clip592)\" cx=\"2260.59\" cy=\"1090.93\" r=\"14\" fill=\"#009af9\" fill-rule=\"evenodd\" fill-opacity=\"1\" stroke=\"#000000\" stroke-opacity=\"1\" stroke-width=\"3.2\"/>\n",
       "<circle clip-path=\"url(#clip592)\" cx=\"2260.59\" cy=\"442.763\" r=\"14\" fill=\"#009af9\" fill-rule=\"evenodd\" fill-opacity=\"1\" stroke=\"#000000\" stroke-opacity=\"1\" stroke-width=\"3.2\"/>\n",
       "<circle clip-path=\"url(#clip592)\" cx=\"2270.18\" cy=\"766.846\" r=\"14\" fill=\"#009af9\" fill-rule=\"evenodd\" fill-opacity=\"1\" stroke=\"#000000\" stroke-opacity=\"1\" stroke-width=\"3.2\"/>\n",
       "<circle clip-path=\"url(#clip592)\" cx=\"2291.25\" cy=\"864.455\" r=\"14\" fill=\"#009af9\" fill-rule=\"evenodd\" fill-opacity=\"1\" stroke=\"#000000\" stroke-opacity=\"1\" stroke-width=\"3.2\"/>\n",
       "<circle clip-path=\"url(#clip592)\" cx=\"2291.25\" cy=\"669.237\" r=\"14\" fill=\"#009af9\" fill-rule=\"evenodd\" fill-opacity=\"1\" stroke=\"#000000\" stroke-opacity=\"1\" stroke-width=\"3.2\"/>\n",
       "<path clip-path=\"url(#clip590)\" d=\"\n",
       "M1987.85 216.178 L2280.32 216.178 L2280.32 95.2176 L1987.85 95.2176  Z\n",
       "  \" fill=\"#ffffff\" fill-rule=\"evenodd\" fill-opacity=\"1\"/>\n",
       "<polyline clip-path=\"url(#clip590)\" style=\"stroke:#000000; stroke-width:4; stroke-opacity:1; fill:none\" points=\"\n",
       "  1987.85,216.178 2280.32,216.178 2280.32,95.2176 1987.85,95.2176 1987.85,216.178 \n",
       "  \"/>\n",
       "<circle clip-path=\"url(#clip590)\" cx=\"2084.43\" cy=\"155.698\" r=\"23\" fill=\"#009af9\" fill-rule=\"evenodd\" fill-opacity=\"1\" stroke=\"#000000\" stroke-opacity=\"1\" stroke-width=\"5.12\"/>\n",
       "<path clip-path=\"url(#clip590)\" d=\"M 0 0 M2194.85 175.385 Q2193.05 180.015 2191.33 181.427 Q2189.62 182.839 2186.75 182.839 L2183.35 182.839 L2183.35 179.274 L2185.85 179.274 Q2187.61 179.274 2188.58 178.44 Q2189.55 177.607 2190.73 174.505 L2191.5 172.561 L2181.01 147.052 L2185.52 147.052 L2193.63 167.329 L2201.73 147.052 L2206.24 147.052 L2194.85 175.385 Z\" fill=\"#000000\" fill-rule=\"evenodd\" fill-opacity=\"1\" /><path clip-path=\"url(#clip590)\" d=\"M 0 0 M2212.12 169.042 L2219.76 169.042 L2219.76 142.677 L2211.45 144.343 L2211.45 140.084 L2219.71 138.418 L2224.39 138.418 L2224.39 169.042 L2232.03 169.042 L2232.03 172.978 L2212.12 172.978 L2212.12 169.042 Z\" fill=\"#000000\" fill-rule=\"evenodd\" fill-opacity=\"1\" /></svg>\n"
      ]
     },
     "execution_count": 24,
     "metadata": {},
     "output_type": "execute_result"
    }
   ],
   "source": [
    "using Plots\n",
    "# i=1\n",
    "# zs = [ λ[i] +  r[i]*exp(im*t) for t in 0:pi/100:2pi ]\n",
    "# plot( real(zs), imag(zs),linewidth=1)\n",
    "# i = 2\n",
    "# zs = [ λ[i] +  r[i]*exp(im*t) for t in 0:pi/100:2pi ]\n",
    "# plot!( real(zs), imag(zs),linewidth=50)\n",
    "plot(real(λ), imag(λ), seriestype = :scatter)\n",
    "\n",
    "# end\n",
    "# xlabel(\"real part\")\n",
    "# ylabel(\"imag part\")\n",
    "# axhline(0, lw=0.5, color=\"k\")\n",
    "# axvline(0, lw=0.5, color=\"k\")\n",
    "# plt[:axes]()[:set_aspect](\"equal\")\n",
    "# plot(index, max_rad, yscale=:log10,\n",
    "#     xlabel       =\"n\",                #X軸のラベル\n",
    "#     ylabel       =\"maximum radius\",   #Y軸のラベル\n",
    "#     xlims        =(0,41),             #X軸の範囲\n",
    "#     title=\"Error bounds of IG\",       #タイトル\n",
    "#     linewidth    =2,                  #線幅\n",
    "#     seriestype = :scatter,            #点プロットに　\n",
    "#     size         =(400,300),          #プロットのサイズ\n",
    "#     label = \"without pre-conditioned\",#凡例のラベル\n",
    "#     legend = false,                   #凡例は今回は消す\n",
    "# )"
   ]
  },
  {
   "cell_type": "markdown",
   "metadata": {},
   "source": [
    "**メモ**　あと、一般化固有値問題を対象に非線形方程式の精度保証方法を利用することで、一部の固有値を精度保証する方法を今後、紹介したい。\n",
    "\n",
    "\n",
    "\n",
    "本資料は以下のような文献・Web ページ等を参考にこの文章は書いています.\n",
    "\n",
    "### 参考文献\n",
    "\n",
    "1. 大石進一編著, 精度保証付き数値計算の基礎, コロナ社, 2018.<br>\n",
    "精度保証付き数値計算の教科書、3.4.1章にある「密行列に対する精度保証法」を実装した。\n",
    "\n",
    "1. 齊藤 宣一, [計算数理演習](http://infsup.jp/saito/materials/na19exer.pdf).<br>\n",
    "2019年度に行われた、計算数理演習（東京大学理学部数学科，教養学部統合自然科学科）の講義資料．ゲルシュゴリンの包含定理について、MATLABで実装した例が掲載されている."
   ]
  },
  {
   "cell_type": "markdown",
   "metadata": {},
   "source": [
    "<div align=\"right\">井藤佳奈子, 高安亮紀, 2020年12月1日</div>"
   ]
  }
 ],
 "metadata": {
  "kernelspec": {
   "display_name": "Julia 1.5.0",
   "language": "julia",
   "name": "julia-1.5"
  },
  "language_info": {
   "file_extension": ".jl",
   "mimetype": "application/julia",
   "name": "julia",
   "version": "1.5.0"
  }
 },
 "nbformat": 4,
 "nbformat_minor": 4
}
