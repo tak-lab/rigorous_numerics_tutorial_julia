{
 "cells": [
  {
   "cell_type": "markdown",
   "metadata": {},
   "source": [
    "# Juliaで固有値問題を精度保証付き数値計算したい\n",
    "\n",
    "\n",
    "## 固有値問題とは\n",
    "\n",
    "固有値問題は与えられた行列の固有値および固有ベクトルを求めること。つまり、\n",
    "$\n",
    "\\newcommand{\\C}{\\mathbb{C}}\n",
    "\\newcommand{\\IC}{\\mathbb{IC}}\n",
    "\\newcommand{\\bX}{\\bar{X}}\n",
    "$\n",
    "\n",
    "$$\n",
    "Ax=\\lambda x,\\quad A\\in \\C^{n\\times n}\n",
    "$$\n",
    "\n",
    "を満たす$\\lambda\\in \\C$, $x\\in \\C^{n\\times n}$ ($x\\neq 0$) を求める問題を指す。\n",
    "\n",
    "Juliaで固有値と固有ベクトルを求める際には、`LinearAlgebra`パッケージに含まれている関数`eigen`・`eigvals`・`eigvecs`で求めることができる。\n",
    "\n",
    "|関数| 役割 |\n",
    "|:-----------|:----------|\n",
    "| eigen()    | 固有値・固有ベクトル両方  |\n",
    "| eigvals()    | 固有値  |\n",
    "| eigvecs()  | 固有ベクトル |\n",
    "\n",
    "多分、Lapackの何かを呼び足してるはず。"
   ]
  },
  {
   "cell_type": "code",
   "execution_count": 1,
   "metadata": {},
   "outputs": [
    {
     "data": {
      "text/plain": [
       "Eigen{Float64,Float64,Array{Float64,2},Array{Float64,1}}\n",
       "values:\n",
       "2-element Array{Float64,1}:\n",
       " -1.0\n",
       "  3.0\n",
       "vectors:\n",
       "2×2 Array{Float64,2}:\n",
       " -0.707107  0.707107\n",
       "  0.707107  0.707107"
      ]
     },
     "execution_count": 1,
     "metadata": {},
     "output_type": "execute_result"
    }
   ],
   "source": [
    "using LinearAlgebra\n",
    "val, vec  = eigen([1 2; 2 1])"
   ]
  },
  {
   "cell_type": "code",
   "execution_count": 2,
   "metadata": {},
   "outputs": [
    {
     "data": {
      "text/plain": [
       "2-element Array{Float64,1}:\n",
       " -1.0\n",
       "  3.0"
      ]
     },
     "execution_count": 2,
     "metadata": {},
     "output_type": "execute_result"
    }
   ],
   "source": [
    "val#固有値"
   ]
  },
  {
   "cell_type": "code",
   "execution_count": 3,
   "metadata": {},
   "outputs": [
    {
     "data": {
      "text/plain": [
       "2×2 Array{Float64,2}:\n",
       " -0.707107  0.707107\n",
       "  0.707107  0.707107"
      ]
     },
     "execution_count": 3,
     "metadata": {},
     "output_type": "execute_result"
    }
   ],
   "source": [
    "vec#固有ベクトル"
   ]
  },
  {
   "cell_type": "code",
   "execution_count": 4,
   "metadata": {},
   "outputs": [
    {
     "data": {
      "text/plain": [
       "2-element Array{Float64,1}:\n",
       " -1.0\n",
       "  3.0"
      ]
     },
     "execution_count": 4,
     "metadata": {},
     "output_type": "execute_result"
    }
   ],
   "source": [
    "eigvals([1 2; 2 1])#固有値"
   ]
  },
  {
   "cell_type": "code",
   "execution_count": 5,
   "metadata": {},
   "outputs": [
    {
     "data": {
      "text/plain": [
       "2×2 Array{Float64,2}:\n",
       " -0.707107  0.707107\n",
       "  0.707107  0.707107"
      ]
     },
     "execution_count": 5,
     "metadata": {},
     "output_type": "execute_result"
    }
   ],
   "source": [
    "eigvecs([1 2; 2 1])#固有ベクトル"
   ]
  },
  {
   "cell_type": "markdown",
   "metadata": {},
   "source": [
    "## 密行列の固有値問題に対する精度保証\n",
    "\n",
    "密行列とは、行列内のほとんどの要素が0でない行列のことを指す。\n",
    "\n",
    "ここでは、$A\\in\\C^{n\\times n}$ $(i=1,2,\\cdots,n)$ の全ての固有値に対する精度保証アルゴリズムを考える。 $A\\in\\C^{n\\times n}$ $(i=1,2,\\cdots,n)$ が対角化可能であるとするとき、$\\lambda_i$ に対する固有ベクトル$x^{(i)}\\in\\C^{n}$ $(i=1,2,\\cdots,n)$ を並べた行列\n",
    "\n",
    "$$\n",
    "X :=[x^{(1)},x^{(2)},\\cdots,x^{(n)}]\\in\\C^{n\\times n}\n",
    "$$\n",
    "\n",
    "によって、$A$ は\n",
    "\n",
    "$$\n",
    "X^{-1}AX = D = \\rm{diag}(\\lambda_1,\\lambda_2,\\cdots,\\lambda_n)\n",
    "$$\n",
    "\n",
    "と対角化される。"
   ]
  },
  {
   "cell_type": "code",
   "execution_count": 42,
   "metadata": {},
   "outputs": [],
   "source": [
    "using LinearAlgebra\n",
    "\n",
    "n =100;\n",
    "A = randn(n,n);\n",
    "\n",
    "λ, X = eigen(A);"
   ]
  },
  {
   "cell_type": "code",
   "execution_count": 7,
   "metadata": {},
   "outputs": [
    {
     "data": {
      "text/plain": [
       "1000-element Array{Complex{Float64},1}:\n",
       " -31.868640126423493 - 5.450802467825307im\n",
       " -31.868640126423493 + 5.450802467825307im\n",
       " -31.250662671974432 - 2.75132351709385im\n",
       " -31.250662671974432 + 2.75132351709385im\n",
       " -30.782975035711754 + 0.0im\n",
       " -30.334467460644653 + 0.0im\n",
       "  -30.08574653502795 - 6.304530921377505im\n",
       "  -30.08574653502795 + 6.304530921377505im\n",
       " -29.913674684078146 - 4.690613922539894im\n",
       " -29.913674684078146 + 4.690613922539894im\n",
       " -29.557195983835953 - 2.5681322786781515im\n",
       " -29.557195983835953 + 2.5681322786781515im\n",
       " -28.998780317691455 - 10.015201676527923im\n",
       "                     ⋮\n",
       "  29.310203923905725 + 5.803782131670605im\n",
       "   29.45341440058414 - 7.268895713419115im\n",
       "   29.45341440058414 + 7.268895713419115im\n",
       "  29.609770093298536 + 0.0im\n",
       "  29.795172960498338 - 1.7667865357849561im\n",
       "  29.795172960498338 + 1.7667865357849561im\n",
       "   29.99879220331391 - 5.888310732058667im\n",
       "   29.99879220331391 + 5.888310732058667im\n",
       "  30.420863691434388 + 0.0im\n",
       "   31.02424574948339 - 4.865477625482017im\n",
       "   31.02424574948339 + 4.865477625482017im\n",
       "  31.254182774108717 + 0.0im"
      ]
     },
     "execution_count": 7,
     "metadata": {},
     "output_type": "execute_result"
    }
   ],
   "source": [
    "λ #固有値"
   ]
  },
  {
   "cell_type": "code",
   "execution_count": 8,
   "metadata": {},
   "outputs": [
    {
     "data": {
      "text/plain": [
       "1000×1000 Array{Complex{Float64},2}:\n",
       "  -0.0227615-0.0252456im     -0.0227615+0.0252456im    …    -0.0250935+0.0im\n",
       "   -0.015367+0.00145606im     -0.015367-0.00145606im         0.0369837+0.0im\n",
       "  -0.0338425+0.0190005im     -0.0338425-0.0190005im       -0.000849358+0.0im\n",
       "   0.0293867-0.0122455im      0.0293867+0.0122455im         -0.0365244+0.0im\n",
       "   0.0458508+0.00926779im     0.0458508-0.00926779im        -0.0233102+0.0im\n",
       "  0.00375355-0.00554782im    0.00375355+0.00554782im   …    -0.0195326+0.0im\n",
       "  -0.0193358+0.00672237im    -0.0193358-0.00672237im        -0.0302525+0.0im\n",
       " -0.00460875+0.000184644im  -0.00460875-0.000184644im        0.0383023+0.0im\n",
       "   0.0209501+0.0135699im      0.0209501-0.0135699im          -0.029467+0.0im\n",
       "  7.77229e-6-0.0197333im     7.77229e-6+0.0197333im          0.0267163+0.0im\n",
       " -4.43395e-5-0.0271135im    -4.43395e-5+0.0271135im    …    -0.0163116+0.0im\n",
       "   0.0118441-0.00448818im     0.0118441+0.00448818im        -0.0206739+0.0im\n",
       "  0.00769983+0.0275175im     0.00769983-0.0275175im          0.0268899+0.0im\n",
       "            ⋮                                          ⋱  \n",
       "  -0.0197203-0.00537012im    -0.0197203+0.00537012im        -0.0165729+0.0im\n",
       "    0.014029-0.0298253im       0.014029+0.0298253im         -0.0472425+0.0im\n",
       "  -0.0162541-0.0123927im     -0.0162541+0.0123927im    …      0.031777+0.0im\n",
       "   0.0115259-0.0254174im      0.0115259+0.0254174im          0.0423536+0.0im\n",
       "    0.026491+0.0201396im       0.026491-0.0201396im         -0.0171111+0.0im\n",
       " -0.00977687+0.0504063im    -0.00977687-0.0504063im       -0.000640228+0.0im\n",
       "  -0.0105356-0.00766946im    -0.0105356+0.00766946im         0.0255561+0.0im\n",
       " -0.00562924+0.0205056im    -0.00562924-0.0205056im    …   -0.00248527+0.0im\n",
       "   0.0140447-0.00020606im     0.0140447+0.00020606im        -0.0303473+0.0im\n",
       " -0.00922542-0.0211653im    -0.00922542+0.0211653im         -0.0211714+0.0im\n",
       " -0.00291903-0.00222953im   -0.00291903+0.00222953im        0.00778499+0.0im\n",
       "   0.0284752+0.0287189im      0.0284752-0.0287189im         0.00146399+0.0im"
      ]
     },
     "execution_count": 8,
     "metadata": {},
     "output_type": "execute_result"
    }
   ],
   "source": [
    "X #固有ベクトル"
   ]
  },
  {
   "cell_type": "markdown",
   "metadata": {},
   "source": [
    "しかし、実際のところ上記の数値計算で得られる固有ベクトル $X$ は近似の値 $\\bX\\in \\C^{n\\times n}$ (以下、近似固有ベクトルという) である。しかし、近似固有ベクトルを並べた行列を使って、対角化したものについては、対優位性が期待できる。この行列を $G$ とすると、\n",
    "\n",
    "$$\n",
    "G := \\bX^{-1}A\\bX\n",
    "$$\n",
    "\n",
    "となり、行列 $G$ の対角成分は行列 $A$ の固有値の近似となる。\n",
    "\n",
    "ちなみに対角優位性とは..."
   ]
  },
  {
   "cell_type": "code",
   "execution_count": 43,
   "metadata": {},
   "outputs": [
    {
     "data": {
      "text/plain": [
       "8.215650382226158e-14"
      ]
     },
     "execution_count": 43,
     "metadata": {},
     "output_type": "execute_result"
    }
   ],
   "source": [
    "G = inv(X)*A*X; #G\n",
    "norm(diag(G) - λ,Inf) # Gの対角成分は固有値λにほぼ一致する"
   ]
  },
  {
   "cell_type": "markdown",
   "metadata": {},
   "source": [
    "### 精度保証付き数値計算の方法\n",
    "\n",
    "まず、行列積 $A\\cdot\\bX$ の包含 $C\\in \\IC^{n\\times n}$ を区間演算で求める。"
   ]
  },
  {
   "cell_type": "code",
   "execution_count": 93,
   "metadata": {},
   "outputs": [
    {
     "name": "stdout",
     "output_type": "stream",
     "text": [
      "  78.318 ms (8 allocations: 312.91 KiB)\n",
      "  32.655 ms (60028 allocations: 2.75 MiB)\n"
     ]
    }
   ],
   "source": [
    "using BenchmarkTools\n",
    "include(\"int_num_linalg.jl\"); # mm_ufpを使用する\n",
    "# function mm_real_interval(A,B) # A, B: real matrices\n",
    "#     C_mid, C_rad = imm_ufp(mid.(A),radius.(A),mid.(B),radius.(B));\n",
    "#     return C_mid .± C_rad\n",
    "# end\n",
    "# function mm_comp_interval(A,B) # A, B: complex matrices\n",
    "# #     (Ar + Ai)*(Br + Bi) = (Ar*Br - Ai*Bi) + im()\n",
    "#     Ar = real(A); Ai = imag(A);\n",
    "#     Br = real(B); Bi = imag(B);\n",
    "#     Cr = mm_real_interval(Ar, Br) - mm_real_interval(Ai, Bi);\n",
    "#     Ci = mm_real_interval(Ar, Bi) + mm_real_interval(Ai, Br);\n",
    "#     return Cr + im*Ci;\n",
    "# end\n",
    "function mm_comp_interval(A,B) # A, B: complex matrices (not interval)\n",
    "    C_mid, C_rad = mm_ufp(A,B);\n",
    "    return (real(C_mid) .± C_rad) + im*(imag(C_mid) .± C_rad)\n",
    "end\n",
    "\n",
    "using IntervalArithmetic\n",
    "\n",
    "iA = map(Interval, A);\n",
    "iX = map(Interval, X);\n",
    "\n",
    "@btime C1 = $iA * $iX;\n",
    "# @btime C = mm_comp_interval(iA,iX);\n",
    "@btime C = mm_comp_interval(A,X); # A, X: complex matrices (not interval)"
   ]
  },
  {
   "cell_type": "markdown",
   "metadata": {},
   "source": [
    "上記のようなエラーが出てしまった(ynが原因…？)。"
   ]
  },
  {
   "cell_type": "code",
   "execution_count": 92,
   "metadata": {},
   "outputs": [
    {
     "name": "stdout",
     "output_type": "stream",
     "text": [
      "max(maximum(radius.(real(C1[:]))), maximum(radius.(imag(C1[:])))) = 3.83026943495679e-15\n",
      "max(maximum(radius.(real(C[:]))), maximum(radius.(imag(C[:])))) = 9.14823772291129e-14\n"
     ]
    },
    {
     "data": {
      "text/plain": [
       "9.14823772291129e-14"
      ]
     },
     "execution_count": 92,
     "metadata": {},
     "output_type": "execute_result"
    }
   ],
   "source": [
    "@show max(maximum(radius.(real(C1[:]))),maximum(radius.(imag(C1[:]))))\n",
    "@show max(maximum(radius.(real(C[:]))),maximum(radius.(imag(C[:]))))"
   ]
  },
  {
   "cell_type": "code",
   "execution_count": 85,
   "metadata": {},
   "outputs": [
    {
     "data": {
      "text/plain": [
       "3×3 Array{Complex{Float64},2}:\n",
       "  0.064792-0.0652338im   0.064792+0.0652338im    0.107158+0.0im\n",
       " -0.165187-0.0968135im  -0.165187+0.0968135im   0.0976717+0.0im\n",
       " 0.0103834+0.0306873im  0.0103834-0.0306873im  -0.0492567+0.0im"
      ]
     },
     "execution_count": 85,
     "metadata": {},
     "output_type": "execute_result"
    }
   ],
   "source": [
    "X[1:3,1:3]"
   ]
  },
  {
   "cell_type": "code",
   "execution_count": null,
   "metadata": {},
   "outputs": [],
   "source": []
  },
  {
   "cell_type": "markdown",
   "metadata": {},
   "source": [
    "区間連立1次方程式$\\hat XG=C$の解集合の包含$G\\supset\\hat X^{-1}\\cdot C$を求める。"
   ]
  },
  {
   "cell_type": "code",
   "execution_count": null,
   "metadata": {},
   "outputs": [],
   "source": []
  },
  {
   "cell_type": "code",
   "execution_count": null,
   "metadata": {},
   "outputs": [],
   "source": []
  },
  {
   "cell_type": "code",
   "execution_count": null,
   "metadata": {},
   "outputs": [],
   "source": []
  },
  {
   "cell_type": "markdown",
   "metadata": {},
   "source": [
    "$G$に対してゲルシュゴリンの定理を適用することを考える。\n",
    "\n",
    "## ゲルシュゴリンの包含定理\n",
    "行列 $A=(A_{ij})\\in \\C^{n\\times n}$について、$A$の全ての固有値$\\lambda_i$は、$\\bigcup_{1\\le i \\le n}  U_i$の内部に存在する。\n",
    "\n",
    "$$\n",
    "A = \\bigcup_{1\\le i \\le n}  U_i\n",
    "$$\n",
    "\n",
    "ただし、\n",
    "\n",
    "$$\n",
    "U_i = \\{z\\in\\mathbb{C}:|z-a_{ii}|\\le \\sum_{j\\neq i}|a_{ij}|\\}\n",
    "$$\n",
    "\n",
    "である。\n",
    "\n",
    "円盤領域$U_i$をゲルシュゴリン円板といい、Aが強い優対角性を持つとき、Aの対角成分がAの固有値の良い近似となる。\n",
    "\n",
    "今回の場合、$G=(g_{ij})$の対角成分$[g_{ii}]$を$c_i$、半径を$\\rm{rad(g_{ii})}$とすると、\n",
    "\n",
    "$$\n",
    "\\begin{array}{ll}\n",
    "\\mbox{ゲルシュゴリン円の中心:}&c_i\\\\\n",
    "\\mbox{ゲルシュゴリン円の半径:}&r_i=\\sum_{j\\neq i}\\rm{mag}(g_{ij})+\\rm{rad}(g_{ii})\\\\\n",
    "\\end{array}\n",
    "$$\n",
    "\n",
    "となる。"
   ]
  },
  {
   "cell_type": "markdown",
   "metadata": {},
   "source": []
  }
 ],
 "metadata": {
  "kernelspec": {
   "display_name": "Julia 1.5.0",
   "language": "julia",
   "name": "julia-1.5"
  },
  "language_info": {
   "file_extension": ".jl",
   "mimetype": "application/julia",
   "name": "julia",
   "version": "1.5.0"
  }
 },
 "nbformat": 4,
 "nbformat_minor": 4
}
