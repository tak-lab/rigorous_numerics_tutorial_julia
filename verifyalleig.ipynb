{
 "cells": [
  {
   "cell_type": "markdown",
   "metadata": {},
   "source": [
    "# Juliaで固有値問題を精度保証付き数値計算したい\n",
    "\n",
    "\n",
    "## 固有値問題とは\n",
    "\n",
    "固有値問題は与えられた行列の固有値および固有ベクトルを求めること。つまり、\n",
    "$\n",
    "\\newcommand{\\C}{\\mathbb{C}}\n",
    "\\newcommand{\\IC}{\\mathbb{IC}}\n",
    "\\newcommand{\\bX}{\\bar{X}}\n",
    "$\n",
    "\n",
    "$$\n",
    "Ax=\\lambda x,\\quad A\\in \\C^{n\\times n}\n",
    "$$\n",
    "\n",
    "を満たす $\\lambda\\in \\C$, $x\\in \\C^{n\\times n}$ ($x\\neq 0$) を求める問題を指す。\n",
    "\n",
    "Juliaで固有値と固有ベクトルを求める際には、`LinearAlgebra`パッケージに含まれている関数`eigen`・`eigvals`・`eigvecs`で求めることができる。\n",
    "\n",
    "|関数| 役割 |\n",
    "|:-----------|:----------|\n",
    "| eigen()    | 固有値・固有ベクトル両方  |\n",
    "| eigvals()    | 固有値  |\n",
    "| eigvecs()  | 固有ベクトル |\n",
    "\n",
    "多分、Lapackの何かを呼び足してるはず。"
   ]
  },
  {
   "cell_type": "code",
   "execution_count": 11,
   "metadata": {},
   "outputs": [
    {
     "data": {
      "text/plain": [
       "Eigen{Float64,Float64,Array{Float64,2},Array{Float64,1}}\n",
       "values:\n",
       "2-element Array{Float64,1}:\n",
       " -1.0\n",
       "  3.0\n",
       "vectors:\n",
       "2×2 Array{Float64,2}:\n",
       " -0.707107  0.707107\n",
       "  0.707107  0.707107"
      ]
     },
     "execution_count": 11,
     "metadata": {},
     "output_type": "execute_result"
    }
   ],
   "source": [
    "using LinearAlgebra\n",
    "val, vec  = eigen([1 2; 2 1])"
   ]
  },
  {
   "cell_type": "code",
   "execution_count": 12,
   "metadata": {},
   "outputs": [
    {
     "data": {
      "text/plain": [
       "2-element Array{Float64,1}:\n",
       " -1.0\n",
       "  3.0"
      ]
     },
     "execution_count": 12,
     "metadata": {},
     "output_type": "execute_result"
    }
   ],
   "source": [
    "val#固有値"
   ]
  },
  {
   "cell_type": "code",
   "execution_count": 13,
   "metadata": {},
   "outputs": [
    {
     "data": {
      "text/plain": [
       "2×2 Array{Float64,2}:\n",
       " -0.707107  0.707107\n",
       "  0.707107  0.707107"
      ]
     },
     "execution_count": 13,
     "metadata": {},
     "output_type": "execute_result"
    }
   ],
   "source": [
    "vec#固有ベクトル"
   ]
  },
  {
   "cell_type": "code",
   "execution_count": 14,
   "metadata": {},
   "outputs": [
    {
     "data": {
      "text/plain": [
       "2-element Array{Float64,1}:\n",
       " -1.0\n",
       "  3.0"
      ]
     },
     "execution_count": 14,
     "metadata": {},
     "output_type": "execute_result"
    }
   ],
   "source": [
    "eigvals([1 2; 2 1])#固有値"
   ]
  },
  {
   "cell_type": "code",
   "execution_count": 15,
   "metadata": {},
   "outputs": [
    {
     "data": {
      "text/plain": [
       "2×2 Array{Float64,2}:\n",
       " -0.707107  0.707107\n",
       "  0.707107  0.707107"
      ]
     },
     "execution_count": 15,
     "metadata": {},
     "output_type": "execute_result"
    }
   ],
   "source": [
    "eigvecs([1 2; 2 1])#固有ベクトル"
   ]
  },
  {
   "cell_type": "markdown",
   "metadata": {},
   "source": [
    "## 密行列の固有値問題に対する精度保証\n",
    "\n",
    "密行列とは、行列内のほとんどの要素が $0$ でない行列のことを指す。ここでは、行列$A\\in\\C^{n\\times n}$ $(i=1,2,\\cdots,n)$ の全ての固有値に対する精度保証アルゴリズムを考える。 \n",
    "\n",
    "### 実装したいアルゴリズム\n",
    "(1)\n",
    "ある行列 $A$ の全ての近似固有ベクトル $\\bX\\in\\C^{n\\times n}$ $(i=1,2,\\cdots,n)$ を求める。\n",
    "\n",
    "(2)\n",
    "$A\\cdot\\bX$ の包含 $C\\in\\IC^{n\\times n}$ を求める。\n",
    "\n",
    "(3)\n",
    "区間連立1次方程式 $\\bX G=C$ の解集合の包含 $G\\supset \\bX^{-1}\\cdot C$ ($G\\in\\IC^{n\\times n}$) を求める。\n",
    "\n",
    "(4)\n",
    "$G\\in\\IC^{n\\times n}$ に対してゲルシュゴリンの定理を適用することを考える。"
   ]
  },
  {
   "cell_type": "markdown",
   "metadata": {},
   "source": [
    "#### (1) 行列 $A$ の全ての近似固有ベクトル $\\bX\\in\\C^{n\\times n}$ $(i=1,2,\\cdots,n)$ を求める。\n",
    "\n",
    "行列 $A\\in\\C^{n\\times n}$ $(i=1,2,\\cdots,n)$ が対角化可能であるとするとき、$\\lambda_i$ に対する固有ベクトル$x^{(i)}\\in\\C^{n}$ $(i=1,2,\\cdots,n)$ を並べた行列\n",
    "\n",
    "$$\n",
    "X :=[x^{(1)},x^{(2)},\\cdots,x^{(n)}]\\in\\C^{n\\times n}\n",
    "$$\n",
    "\n",
    "によって、$A$ は\n",
    "\n",
    "$$\n",
    "X^{-1}AX = D = \\rm{diag}(\\lambda_1,\\lambda_2,\\cdots,\\lambda_n)\n",
    "$$\n",
    "\n",
    "と対角化される。"
   ]
  },
  {
   "cell_type": "code",
   "execution_count": 1,
   "metadata": {},
   "outputs": [],
   "source": [
    "using LinearAlgebra\n",
    "\n",
    "n =100;\n",
    "A = randn(n,n);\n",
    "\n",
    "λ, X = eigen(A);"
   ]
  },
  {
   "cell_type": "code",
   "execution_count": 57,
   "metadata": {},
   "outputs": [
    {
     "data": {
      "text/plain": [
       "100-element Array{Complex{Float64},1}:\n",
       "  -9.978167802123481 + 0.0im\n",
       "  -9.381410794857814 + 0.0im\n",
       "   -8.13197323343574 - 1.4599032020954632im\n",
       "   -8.13197323343574 + 1.4599032020954632im\n",
       "  -7.842945302102529 - 3.7818914935497054im\n",
       "  -7.842945302102529 + 3.7818914935497054im\n",
       " -7.3788069663725295 - 4.375756128549122im\n",
       " -7.3788069663725295 + 4.375756128549122im\n",
       "  -6.829171365183653 + 0.0im\n",
       "  -6.724904090155478 - 1.8225633988152188im\n",
       "  -6.724904090155478 + 1.8225633988152188im\n",
       "  -6.476473550127473 - 6.797944455489788im\n",
       "  -6.476473550127473 + 6.797944455489788im\n",
       "                     ⋮\n",
       "   5.943846778834983 + 0.3623580716041321im\n",
       "   6.207025540249612 - 3.5853670145764394im\n",
       "   6.207025540249612 + 3.5853670145764394im\n",
       "   6.416757271516062 - 5.832232416517741im\n",
       "   6.416757271516062 + 5.832232416517741im\n",
       "   7.932581374289546 + 0.0im\n",
       "    7.93549997313656 - 4.906255647203692im\n",
       "    7.93549997313656 + 4.906255647203692im\n",
       "   8.369974260881728 - 1.9555232971578593im\n",
       "   8.369974260881728 + 1.9555232971578593im\n",
       "   9.349862683679024 + 0.0im\n",
       "   9.723360336386992 + 0.0im"
      ]
     },
     "execution_count": 57,
     "metadata": {},
     "output_type": "execute_result"
    }
   ],
   "source": [
    "λ #固有値"
   ]
  },
  {
   "cell_type": "code",
   "execution_count": 18,
   "metadata": {},
   "outputs": [
    {
     "data": {
      "text/plain": [
       "100×100 Array{Complex{Float64},2}:\n",
       "  -0.0471469-0.00428596im  …     0.0697578-0.0228959im\n",
       "   0.0771909+0.0138135im         0.0324054+0.0540673im\n",
       "  -0.0100356-0.0764188im        -0.0125529+0.0151425im\n",
       "   0.0688002+0.0755691im           0.23993+0.0im\n",
       "  -0.0930571+0.121296im         -0.0452431+0.0950594im\n",
       " -0.00383673-0.00805708im  …    -0.0399727-0.0528042im\n",
       "   0.0670406-0.0626803im         0.0633569+0.052725im\n",
       "    0.102931-0.102319im          -0.131716-0.0362948im\n",
       "   0.0715991+0.0436799im         -0.150623-0.181584im\n",
       "   0.0400742-0.0989377im        -0.0524599+0.0164176im\n",
       "  -0.0138912-0.015144im    …    0.00494904+0.0210263im\n",
       "   0.0738222+0.0672142im         0.0110069-0.162152im\n",
       "  -0.0133222-0.0223845im        -0.0300042-0.019619im\n",
       "            ⋮              ⋱  \n",
       "  -0.0969147-0.0380148im         0.0190995-0.0868385im\n",
       "   0.0902272-0.0398788im          0.035731-0.10258im\n",
       "  -0.0392593-0.0528965im   …    -0.0602592-0.092994im\n",
       "   -0.081594+0.0384713im         0.0414883+0.068602im\n",
       "   -0.136309+0.116448im         -0.0707691-0.00162445im\n",
       "  -0.0234577+0.0114764im         0.0895481-0.00506459im\n",
       "  -0.0320708+0.00445054im         0.100396+0.029865im\n",
       "   0.0265306-0.0317498im   …  -0.000610488+0.00706849im\n",
       "   0.0261796+0.101277im         -0.0168331-0.111655im\n",
       "    0.079178+0.111826im         -0.0648675-0.0714918im\n",
       "    0.137437-0.0519031im         -0.040573-0.0128815im\n",
       "  0.00514586-0.0962961im       -0.00691655-0.139464im"
      ]
     },
     "execution_count": 18,
     "metadata": {},
     "output_type": "execute_result"
    }
   ],
   "source": [
    "X #固有ベクトル"
   ]
  },
  {
   "cell_type": "markdown",
   "metadata": {},
   "source": [
    "しかし、実際のところ上記の数値計算で得られる固有ベクトル $X$ は近似の値 $\\bX\\in \\C^{n\\times n}$ (以下、近似固有ベクトルという) である。しかし、近似固有ベクトルを並べた行列を使って、対角化したものについては、対角優位性が期待できる。この行列を $G$ とすると、\n",
    "\n",
    "$$\n",
    "G := \\bX^{-1}A\\bX\n",
    "$$\n",
    "\n",
    "となり、行列 $G$ の対角成分は行列 $A$ の固有値の近似となる。\n",
    "\n",
    "また、対角優位性とは、ある行列$A=(a_{ij})$について、\n",
    "\n",
    "$$\n",
    "\\left|a_{i i}\\right|>\\sum_{{j} \\colon j \\neq i}\\left|a_{i j}\\right| \\quad(i=1,2, \\ldots, n)\n",
    "$$\n",
    "\n",
    "であること。つまり、行列のどの対角成分の絶対値も、それと同じ列にある非対角成分の和よりも大きい時。"
   ]
  },
  {
   "cell_type": "code",
   "execution_count": 2,
   "metadata": {},
   "outputs": [
    {
     "data": {
      "text/plain": [
       "7.287859939672374e-14"
      ]
     },
     "execution_count": 2,
     "metadata": {},
     "output_type": "execute_result"
    }
   ],
   "source": [
    "G = inv(X)*A*X; #G\n",
    "norm(diag(G) - λ,Inf) # Gの対角成分は固有値λにほぼ一致する"
   ]
  },
  {
   "cell_type": "markdown",
   "metadata": {},
   "source": [
    "#### (2) $A\\cdot\\bX$ の包含 $C\\in\\IC^{n\\times n}$ を求める。\n",
    "\n",
    "``方法1``各演算を区間演算に変更した方式(参考：[interval_dot-mul.ipynb](https://www.risk.tsukuba.ac.jp/~takitoshi/tutorial/interval_dot-mul.html \"タイトル\"))"
   ]
  },
  {
   "cell_type": "code",
   "execution_count": 3,
   "metadata": {},
   "outputs": [
    {
     "name": "stdout",
     "output_type": "stream",
     "text": [
      "  77.030 ms (8 allocations: 312.91 KiB)\n"
     ]
    }
   ],
   "source": [
    "using IntervalArithmetic, BenchmarkTools\n",
    "\n",
    "iA = map(Interval, A);\n",
    "iX = map(Interval, X);\n",
    "\n",
    "@btime C1 = $iA * $iX;"
   ]
  },
  {
   "cell_type": "code",
   "execution_count": 5,
   "metadata": {},
   "outputs": [
    {
     "ename": "LoadError",
     "evalue": "UndefVarError: C1 not defined",
     "output_type": "error",
     "traceback": [
      "UndefVarError: C1 not defined",
      "",
      "Stacktrace:",
      " [1] top-level scope at show.jl:641",
      " [2] include_string(::Function, ::Module, ::String, ::String) at ./loading.jl:1091"
     ]
    }
   ],
   "source": [
    "@show max(maximum(radius.(real(C1[:]))),maximum(radius.(imag(C1[:]))))"
   ]
  },
  {
   "cell_type": "markdown",
   "metadata": {},
   "source": [
    "``方法2``BLASを使う。int_num_linalg.jlの呼び出し。この方が早い。"
   ]
  },
  {
   "cell_type": "code",
   "execution_count": 4,
   "metadata": {},
   "outputs": [
    {
     "name": "stdout",
     "output_type": "stream",
     "text": [
      "  1.302181 seconds (4.65 M allocations: 222.687 MiB, 3.17% gc time)\n",
      "  0.155475 seconds (84.04 k allocations: 4.628 MiB)\n",
      "  0.163554 seconds (84.04 k allocations: 4.628 MiB)\n"
     ]
    }
   ],
   "source": [
    "using BenchmarkTools\n",
    "include(\"IntervalLinearAlgebra.jl\"); # int_mulを使用する\n",
    "# @time C1 = mm_comp_interval_alt(iA,iX);\n",
    "@time C = int_mul(A,X); # A, X: complex matrices (not interval)\n",
    "@time C = int_mul(A,X); # A, X: complex matrices (not interval)\n",
    "@time C = int_mul(A,X); # A, X: complex matrices (not interval)\n"
   ]
  },
  {
   "cell_type": "code",
   "execution_count": 23,
   "metadata": {},
   "outputs": [
    {
     "data": {
      "text/plain": [
       "4.574118861455645e-14"
      ]
     },
     "execution_count": 23,
     "metadata": {},
     "output_type": "execute_result"
    }
   ],
   "source": [
    "max(maximum(radius.(real(C[:]))),maximum(radius.(imag(C[:]))))"
   ]
  },
  {
   "cell_type": "code",
   "execution_count": 8,
   "metadata": {},
   "outputs": [
    {
     "data": {
      "text/plain": [
       "100×100 Array{Interval{Float64},2}:\n",
       " [-0.957696, -0.957695]    …  [-0.261251, -0.26125]\n",
       "  [0.583712, 0.583713]        [-0.890055, -0.890054]\n",
       " [-2.00467, -2.00466]          [0.974361, 0.974362]\n",
       " [-0.321647, -0.321646]       [-0.719869, -0.719868]\n",
       "  [0.1279, 0.127901]          [-0.129917, -0.129916]\n",
       " [-0.972016, -0.972015]    …   [0.197544, 0.197545]\n",
       "  [0.401453, 0.401454]         [1.02867, 1.02868]\n",
       "  [1.07488, 1.07489]           [0.327513, 0.327514]\n",
       "  [1.08726, 1.08727]           [1.38159, 1.3816]\n",
       "  [1.32679, 1.3268]           [-0.533184, -0.533183]\n",
       " [-1.18749, -1.18748]      …  [-0.272931, -0.27293]\n",
       "  [1.68066, 1.68067]           [0.938251, 0.938252]\n",
       "  [0.351804, 0.351805]        [-0.0587759, -0.0587758]\n",
       "   ⋮                       ⋱  \n",
       " [-0.517929, -0.517928]        [0.392765, 0.392766]\n",
       "  [0.516897, 0.516898]        [-0.44515, -0.445149]\n",
       " [-0.732545, -0.732544]    …  [-0.248713, -0.248712]\n",
       " [-1.07352, -1.07351]         [-0.669768, -0.669767]\n",
       " [-0.712745, -0.712744]       [-0.771838, -0.771837]\n",
       "  [2.95916, 2.95917]           [1.19059, 1.1906]\n",
       "  [0.968643, 0.968644]         [0.582499, 0.5825]\n",
       " [-0.0773432, -0.0773431]  …   [0.356852, 0.356853]\n",
       "  [0.913217, 0.913218]        [-0.934864, -0.934863]\n",
       "  [0.604383, 0.604384]        [-0.692008, -0.692007]\n",
       "  [0.289181, 0.289182]        [-0.0156733, -0.0156732]\n",
       "  [0.764396, 0.764397]        [-0.0252977, -0.0252976]"
      ]
     },
     "execution_count": 8,
     "metadata": {},
     "output_type": "execute_result"
    }
   ],
   "source": [
    "real(C)"
   ]
  },
  {
   "cell_type": "code",
   "execution_count": 9,
   "metadata": {},
   "outputs": [
    {
     "data": {
      "text/plain": [
       "100×100 Array{Interval{Float64},2}:\n",
       " [-2.22508e-308, 2.22508e-308]  …   [0.327299, 0.3273]\n",
       " [-2.22508e-308, 2.22508e-308]      [0.437695, 0.437696]\n",
       " [-2.22508e-308, 2.22508e-308]      [0.130328, 0.130329]\n",
       " [-2.22508e-308, 2.22508e-308]     [-1.5532, -1.55319]\n",
       " [-2.22508e-308, 2.22508e-308]     [-0.058642, -0.0586419]\n",
       " [-2.22508e-308, 2.22508e-308]  …  [-0.160517, -0.160516]\n",
       " [-2.22508e-308, 2.22508e-308]      [0.568468, 0.568469]\n",
       " [-2.22508e-308, 2.22508e-308]     [-0.994355, -0.994354]\n",
       " [-2.22508e-308, 2.22508e-308]      [0.703024, 0.703025]\n",
       " [-2.22508e-308, 2.22508e-308]     [-0.844976, -0.844975]\n",
       " [-2.22508e-308, 2.22508e-308]  …  [-1.11569, -1.11568]\n",
       " [-2.22508e-308, 2.22508e-308]      [0.536674, 0.536675]\n",
       " [-2.22508e-308, 2.22508e-308]     [-0.308824, -0.308823]\n",
       "   ⋮                            ⋱  \n",
       " [-2.22508e-308, 2.22508e-308]      [0.325833, 0.325834]\n",
       " [-2.22508e-308, 2.22508e-308]      [0.454863, 0.454864]\n",
       " [-2.22508e-308, 2.22508e-308]  …  [-0.425711, -0.42571]\n",
       " [-2.22508e-308, 2.22508e-308]      [0.294588, 0.294589]\n",
       " [-2.22508e-308, 2.22508e-308]     [-0.187985, -0.187984]\n",
       " [-2.22508e-308, 2.22508e-308]      [0.11212, 0.112121]\n",
       " [-2.22508e-308, 2.22508e-308]      [0.845415, 0.845416]\n",
       " [-2.22508e-308, 2.22508e-308]  …   [0.99061, 0.990611]\n",
       " [-2.22508e-308, 2.22508e-308]     [-0.515462, -0.515461]\n",
       " [-2.22508e-308, 2.22508e-308]      [0.114748, 0.114749]\n",
       " [-2.22508e-308, 2.22508e-308]     [-0.0127313, -0.0127312]\n",
       " [-2.22508e-308, 2.22508e-308]      [0.914926, 0.914927]"
      ]
     },
     "execution_count": 9,
     "metadata": {},
     "output_type": "execute_result"
    }
   ],
   "source": [
    "imag(C)"
   ]
  },
  {
   "cell_type": "markdown",
   "metadata": {},
   "source": [
    "#### (3 )区間連立1次方程式 $\\hat XG=C$ の解集合の包含 $G\\supset\\hat X^{-1}\\cdot C$ を求める。"
   ]
  },
  {
   "cell_type": "code",
   "execution_count": 5,
   "metadata": {},
   "outputs": [
    {
     "data": {
      "text/plain": [
       "verifylss_ib (generic function with 1 method)"
      ]
     },
     "execution_count": 5,
     "metadata": {},
     "output_type": "execute_result"
    }
   ],
   "source": [
    "function verifylss_ib(A,ib) # verify the solution element-wisely\n",
    "    b = mid.(real(ib)) + mid.(imag(ib))*im;\n",
    "    x̄ = A\\b;\n",
    "    n = length(x̄);\n",
    "    R = inv(A);\n",
    "    #########\n",
    "    #C_mid, C_rad = mm_ufp(R,A);\n",
    "    G = Matrix{Float64}(I, n, n) - int_mul(R,A);\n",
    "    α = opnorm(G,Inf)# Interval arithmetic\n",
    "    #########\n",
    "    if α < 1\n",
    "        x̄ = map(Interval,x̄);\n",
    "        r = A*x̄ - ib; # Interval arithmetic\n",
    "        Rr = R*r;\n",
    "        err = abs.(Rr) + supremum(norm(Rr,Inf))/(1-α)*(abs.(G)*ones(n)); # Interval arithmetic\n",
    "    else\n",
    "        println(\"Oh my way, verification is failed...\")\n",
    "        err = nan;\n",
    "    end\n",
    "    return x = (real(x̄) .± supremum.(err)) + im*(imag(x̄) .± supremum.(err))\n",
    "end"
   ]
  },
  {
   "cell_type": "code",
   "execution_count": 24,
   "metadata": {},
   "outputs": [
    {
     "data": {
      "text/plain": [
       "100×100 Array{Interval{Float64},2}:\n",
       " [-9.97817, -9.97816]         …  [-1.33891e-12, 1.32822e-12]\n",
       " [-1.42062e-12, 1.44033e-12]     [-1.24544e-12, 1.26573e-12]\n",
       " [-1.44355e-12, 1.4463e-12]      [-1.2612e-12, 1.26651e-12]\n",
       " [-1.44355e-12, 1.4463e-12]      [-1.25196e-12, 1.28567e-12]\n",
       " [-1.98669e-12, 1.97716e-12]     [-1.76054e-12, 1.74041e-12]\n",
       " [-1.98669e-12, 1.97716e-12]  …  [-1.76215e-12, 1.75355e-12]\n",
       " [-1.84089e-12, 1.85094e-12]     [-1.6172e-12, 1.64502e-12]\n",
       " [-1.84089e-12, 1.85094e-12]     [-1.61396e-12, 1.6711e-12]\n",
       " [-1.53564e-12, 1.52362e-12]     [-1.40897e-12, 1.34868e-12]\n",
       " [-2.01834e-12, 2.02317e-12]     [-1.78939e-12, 1.78731e-12]\n",
       " [-2.01834e-12, 2.02317e-12]  …  [-1.78803e-12, 1.80919e-12]\n",
       " [-2.16209e-12, 2.16544e-12]     [-1.8908e-12, 1.92338e-12]\n",
       " [-2.16209e-12, 2.16544e-12]     [-1.8834e-12, 1.94093e-12]\n",
       "   ⋮                          ⋱  \n",
       " [-6.432e-12, 6.39268e-12]       [-5.55967e-12, 5.58426e-12]\n",
       " [-2.78455e-12, 2.77869e-12]     [-2.44422e-12, 2.45302e-12]\n",
       " [-2.78455e-12, 2.77869e-12]  …  [-2.43802e-12, 2.43834e-12]\n",
       " [-1.60183e-12, 1.61886e-12]     [-1.41295e-12, 1.4209e-12]\n",
       " [-1.60183e-12, 1.61886e-12]     [-1.4114e-12, 1.42048e-12]\n",
       " [-1.14521e-12, 1.13796e-12]     [-1.01273e-12, 1.0052e-12]\n",
       " [-1.1424e-12, 1.14222e-12]      [-1.00618e-12, 9.95131e-13]\n",
       " [-1.1424e-12, 1.14222e-12]   …  [-1.00837e-12, 9.96039e-13]\n",
       " [-1.79171e-12, 1.78527e-12]     [-1.57196e-12, 1.5884e-12]\n",
       " [-1.79171e-12, 1.78527e-12]     [-1.5675e-12, 1.57914e-12]\n",
       " [-2.43971e-12, 2.51738e-12]     [-2.17843e-12, 2.19994e-12]\n",
       " [-2.17892e-12, 2.11898e-12]      [9.72336, 9.72337]"
      ]
     },
     "execution_count": 24,
     "metadata": {},
     "output_type": "execute_result"
    }
   ],
   "source": [
    "G = similar(C);\n",
    "for i = 1:n\n",
    "    G[:,i] = verifylss_ib(X,C[:,i]);\n",
    "end\n",
    "real(G)"
   ]
  },
  {
   "cell_type": "code",
   "execution_count": 59,
   "metadata": {},
   "outputs": [
    {
     "data": {
      "text/plain": [
       "2-element Array{Array{T,1} where T,1}:\n",
       " Interval{Float64}[[-9.97817, -9.97816], [-9.38142, -9.38141], [-8.13198, -8.13197], [-8.13198, -8.13197], [-7.84295, -7.84294], [-7.84295, -7.84294], [-7.37881, -7.3788], [-7.37881, -7.3788], [-6.82918, -6.82917], [-6.72491, -6.7249]  …  [6.20702, 6.20703], [6.41675, 6.41676], [6.41675, 6.41676], [7.93258, 7.93259], [7.93549, 7.9355], [7.93549, 7.9355], [8.36997, 8.36998], [8.36997, 8.36998], [9.34986, 9.34987], [9.72336, 9.72337]]\n",
       " Complex{Float64}[-9.978167802123481 + 0.0im, -9.381410794857814 + 0.0im, -8.13197323343574 - 1.4599032020954632im, -8.13197323343574 + 1.4599032020954632im, -7.842945302102529 - 3.7818914935497054im, -7.842945302102529 + 3.7818914935497054im, -7.3788069663725295 - 4.375756128549122im, -7.3788069663725295 + 4.375756128549122im, -6.829171365183653 + 0.0im, -6.724904090155478 - 1.8225633988152188im  …  6.207025540249612 + 3.5853670145764394im, 6.416757271516062 - 5.832232416517741im, 6.416757271516062 + 5.832232416517741im, 7.932581374289546 + 0.0im, 7.93549997313656 - 4.906255647203692im, 7.93549997313656 + 4.906255647203692im, 8.369974260881728 - 1.9555232971578593im, 8.369974260881728 + 1.9555232971578593im, 9.349862683679024 + 0.0im, 9.723360336386992 + 0.0im]"
      ]
     },
     "execution_count": 59,
     "metadata": {},
     "output_type": "execute_result"
    }
   ],
   "source": [
    "[real(diag(G)), λ]"
   ]
  },
  {
   "cell_type": "markdown",
   "metadata": {},
   "source": [
    "#### 4) $G\\in\\IC^{n\\times n}$ に対してゲルシュゴリンの定理を適用することを考える。"
   ]
  },
  {
   "cell_type": "markdown",
   "metadata": {},
   "source": [
    "\n",
    "## ゲルシュゴリンの包含定理\n",
    "行列 $A=(A_{ij})\\in \\C^{n\\times n}$ について、$A$ の全ての固有値 $\\lambda_i$ は、$\\bigcup_{1\\le i \\le n}  U_i$ の内部に存在する。\n",
    "\n",
    "$$\n",
    "A = \\bigcup_{1\\le i \\le n}  U_i \\mbox{（数式の意味がわからない）}\n",
    "$$\n",
    "\n",
    "ただし、\n",
    "\n",
    "$$\n",
    "U_i = \\left\\{z\\in\\mathbb{C}:|z-a_{ii}|\\le \\sum_{j\\neq i}|a_{ij}|\\right\\}\n",
    "$$\n",
    "\n",
    "である。円盤領域 $U_i$ をゲルシュゴリン円板といい、$A$ が強い優対角性を持つとき、$A$ の対角成分が $A$ の固有値の良い近似となる。今回の場合、$G=(g_{ij})_{1\\le i,j\\le n}\\in\\IC^{n\\times n}$ の対角成分 $(g_{ii})_{1\\le i\\le n}$ を $c\\in \\IC^{n}$ とし、各成分の半径を $\\mathrm{rad}(c_i)$ とすると、\n",
    "\n",
    "$$\n",
    "\\begin{array}{ll}\n",
    "\\mbox{ゲルシュゴリン円の中心:}&\\mathrm{mid}(c_i)\\\\\n",
    "\\mbox{ゲルシュゴリン円の半径:}&r_i=\\sum_{j\\neq i}\\rm{mag}(g_{ij})+\\rm{rad}(c_{i})\\\\\n",
    "\\end{array}\n",
    "$$\n",
    "\n",
    "となる。"
   ]
  },
  {
   "cell_type": "code",
   "execution_count": 47,
   "metadata": {},
   "outputs": [
    {
     "data": {
      "text/plain": [
       "mid (generic function with 9 methods)"
      ]
     },
     "execution_count": 47,
     "metadata": {},
     "output_type": "execute_result"
    }
   ],
   "source": [
    "import IntervalArithmetic: mag, radius, mid\n",
    "function mag(v::Complex{Interval{T}}) where T# mag function for complex interval vectors\n",
    "    abs_v = abs(v);\n",
    "    return max(abs_v.lo,abs_v.hi)\n",
    "end\n",
    "\n",
    "function radius(v::Complex{Interval{T}}) where T# mag function for complex interval vectors\n",
    "    return sqrt(interval(radius(real(v)))^2 + interval(radius(imag(v)))^2)\n",
    "end\n",
    "\n",
    "function mid(v::Complex{Interval{T}}) where T# mag function for complex interval vectors\n",
    "    return mid(real(v)) + mid(imag(v))*im\n",
    "end"
   ]
  },
  {
   "cell_type": "code",
   "execution_count": 48,
   "metadata": {},
   "outputs": [],
   "source": [
    "r = zeros(n);\n",
    "c = diag(G);\n",
    "# G_org = G;\n",
    "# for i ∈ 1:n\n",
    "#     G[i,i] = 0;\n",
    "# end\n",
    "for i = 1:n\n",
    "    for j = 1:n\n",
    "        if i != j\n",
    "            r[i] += mag(G[i,j]);\n",
    "        end\n",
    "    end\n",
    "    r[i] += mag(radius.(c[i]));\n",
    "end\n",
    "center = mid.(c);"
   ]
  },
  {
   "cell_type": "code",
   "execution_count": 60,
   "metadata": {},
   "outputs": [
    {
     "data": {
      "text/plain": [
       "100×2 Array{Interval{Float64},2}:\n",
       " [-9.97817, -9.97816]  [-2.43792e-10, 2.43792e-10]\n",
       " [-9.38142, -9.38141]  [-2.30911e-10, 2.30911e-10]\n",
       " [-8.13198, -8.13197]  [-1.45991, -1.4599]\n",
       " [-8.13198, -8.13197]   [1.4599, 1.45991]\n",
       " [-7.84295, -7.84294]  [-3.7819, -3.78189]\n",
       " [-7.84295, -7.84294]   [3.78189, 3.7819]\n",
       " [-7.37881, -7.3788]   [-4.37576, -4.37575]\n",
       " [-7.37881, -7.3788]    [4.37575, 4.37576]\n",
       " [-6.82918, -6.82917]  [-2.48793e-10, 2.48793e-10]\n",
       " [-6.72491, -6.7249]   [-1.82257, -1.82256]\n",
       " [-6.72491, -6.7249]    [1.82256, 1.82257]\n",
       " [-6.47648, -6.47647]  [-6.79795, -6.79794]\n",
       " [-6.47648, -6.47647]   [6.79794, 6.79795]\n",
       "   ⋮                   \n",
       "  [5.94384, 5.94385]    [0.362358, 0.362359]\n",
       "  [6.20702, 6.20703]   [-3.58537, -3.58536]\n",
       "  [6.20702, 6.20703]    [3.58536, 3.58537]\n",
       "  [6.41675, 6.41676]   [-5.83224, -5.83223]\n",
       "  [6.41675, 6.41676]    [5.83223, 5.83224]\n",
       "  [7.93258, 7.93259]   [-1.83806e-10, 1.83805e-10]\n",
       "  [7.93549, 7.9355]    [-4.90626, -4.90625]\n",
       "  [7.93549, 7.9355]     [4.90625, 4.90626]\n",
       "  [8.36997, 8.36998]   [-1.95553, -1.95552]\n",
       "  [8.36997, 8.36998]    [1.95552, 1.95553]\n",
       "  [9.34986, 9.34987]   [-4.0016e-10, 4.00153e-10]\n",
       "  [9.72336, 9.72337]   [-3.46912e-10, 3.4692e-10]"
      ]
     },
     "execution_count": 60,
     "metadata": {},
     "output_type": "execute_result"
    }
   ],
   "source": [
    "iλ = (real(center) .± r) + im*(imag(center) .± r);\n",
    "[real(iλ) imag(iλ)]"
   ]
  },
  {
   "cell_type": "code",
   "execution_count": 63,
   "metadata": {},
   "outputs": [
    {
     "data": {
      "text/plain": [
       "100"
      ]
     },
     "execution_count": 63,
     "metadata": {},
     "output_type": "execute_result"
    }
   ],
   "source": [
    "sum(λ .∈ iλ)"
   ]
  },
  {
   "cell_type": "code",
   "execution_count": null,
   "metadata": {},
   "outputs": [],
   "source": [
    "using Plots\n",
    "plot!(index, max_rad, yscale=:log10,\n",
    "    xlabel       =\"Real\",                #X軸のラベル\n",
    "    ylabel       =\"Imaginary\",   #Y軸のラベル\n",
    "    xlims        =(0,41),             #X軸の範囲\n",
    "    title=\"gershgorin\",       #タイトル\n",
    "    linewidth    =2,                  #線幅\n",
    "    seriestype = :scatter,            #点プロットに　\n",
    "    size         =(400,300),          #プロットのサイズ\n",
    ")"
   ]
  },
  {
   "cell_type": "code",
   "execution_count": null,
   "metadata": {},
   "outputs": [],
   "source": []
  },
  {
   "cell_type": "code",
   "execution_count": null,
   "metadata": {},
   "outputs": [],
   "source": []
  },
  {
   "cell_type": "code",
   "execution_count": null,
   "metadata": {},
   "outputs": [],
   "source": [
    "for i in 1:n\n",
    "    m = sum(mag.(imag(G[i,:])))-mag.(imag(diag(G)[i]))\n",
    "    maggi =m +magg\n",
    "end"
   ]
  },
  {
   "cell_type": "code",
   "execution_count": null,
   "metadata": {},
   "outputs": [],
   "source": []
  },
  {
   "cell_type": "code",
   "execution_count": null,
   "metadata": {},
   "outputs": [],
   "source": []
  },
  {
   "cell_type": "code",
   "execution_count": null,
   "metadata": {},
   "outputs": [],
   "source": []
  },
  {
   "cell_type": "code",
   "execution_count": null,
   "metadata": {},
   "outputs": [],
   "source": [
    "maggi = sum(mag.(imag(G[:])))-sum(mag.(imag(diag(G)[:])))"
   ]
  },
  {
   "cell_type": "code",
   "execution_count": null,
   "metadata": {},
   "outputs": [],
   "source": [
    "magg = maggr + maggi"
   ]
  },
  {
   "cell_type": "code",
   "execution_count": null,
   "metadata": {},
   "outputs": [],
   "source": [
    "radg = sum(radius.(real(diag(G)[:]))) + sum(radius.(imag(diag(G)[:])))"
   ]
  },
  {
   "cell_type": "code",
   "execution_count": null,
   "metadata": {},
   "outputs": [],
   "source": []
  },
  {
   "cell_type": "code",
   "execution_count": null,
   "metadata": {},
   "outputs": [],
   "source": []
  },
  {
   "cell_type": "code",
   "execution_count": null,
   "metadata": {},
   "outputs": [],
   "source": [
    "mag.(real(diag(G)[1]))"
   ]
  },
  {
   "cell_type": "code",
   "execution_count": null,
   "metadata": {},
   "outputs": [],
   "source": [
    "using IntervalArithmetic\n",
    "function gershgorin(G)\n",
    "    g=diag(G)\n",
    "    center=[real(g),imag(g)]\n",
    "    ##real\n",
    "    for i =1:n\n",
    "        re = real(g)\n",
    "        radr[i]=radius(re[i])\n",
    "    ##imag\n",
    "     for j =1:n\n",
    "        im = imag(g)\n",
    "        radim[j]=radius(im[j])\n",
    "end"
   ]
  },
  {
   "cell_type": "code",
   "execution_count": null,
   "metadata": {},
   "outputs": [],
   "source": []
  },
  {
   "cell_type": "code",
   "execution_count": null,
   "metadata": {},
   "outputs": [],
   "source": []
  },
  {
   "cell_type": "code",
   "execution_count": null,
   "metadata": {},
   "outputs": [],
   "source": []
  },
  {
   "cell_type": "code",
   "execution_count": null,
   "metadata": {},
   "outputs": [],
   "source": []
  },
  {
   "cell_type": "code",
   "execution_count": null,
   "metadata": {},
   "outputs": [],
   "source": []
  },
  {
   "cell_type": "markdown",
   "metadata": {},
   "source": [
    "対角優位\n",
    "http://www.math.ritsumei.ac.jp/~yasutomi/jugyo/Numerical_Analysis/note5.pdf\n",
    "\n",
    "計算途中がでる\n",
    "http://www.cas.cmc.osaka-u.ac.jp/~paoon/misc/julia/post/cg/\n",
    "\n",
    "\n",
    "http://infsup.jp/saito/materials/na19exer.pdf"
   ]
  },
  {
   "cell_type": "markdown",
   "metadata": {},
   "source": []
  }
 ],
 "metadata": {
  "kernelspec": {
   "display_name": "Julia 1.5.0",
   "language": "julia",
   "name": "julia-1.5"
  },
  "language_info": {
   "file_extension": ".jl",
   "mimetype": "application/julia",
   "name": "julia",
   "version": "1.5.0"
  }
 },
 "nbformat": 4,
 "nbformat_minor": 4
}
