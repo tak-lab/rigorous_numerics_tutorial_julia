{
 "cells": [
  {
   "cell_type": "markdown",
   "metadata": {},
   "source": [
    "# Juliaで固有値問題を精度保証付き数値計算したい\n",
    "\n",
    "\n",
    "## 固有値問題とは\n",
    "\n",
    "固有値問題は与えられた行列の固有値および固有ベクトルを求めること。つまり、\n",
    "$\n",
    "\\newcommand{\\C}{\\mathbb{C}}\n",
    "\\newcommand{\\IC}{\\mathbb{IC}}\n",
    "\\newcommand{\\bX}{\\bar{X}}\n",
    "$\n",
    "\n",
    "$$\n",
    "Ax=\\lambda x,\\quad A\\in \\C^{n\\times n}\n",
    "$$\n",
    "\n",
    "を満たす $\\lambda\\in \\C$, $x\\in \\C^{n\\times n}$ ($x\\neq 0$) を求める問題を指す。\n",
    "\n",
    "Juliaで固有値と固有ベクトルを求める際には、`LinearAlgebra`パッケージに含まれている関数`eigen`・`eigvals`・`eigvecs`で求めることができる。\n",
    "\n",
    "|関数| 役割 |\n",
    "|:-----------|:----------|\n",
    "| eigen()    | 固有値・固有ベクトル両方  |\n",
    "| eigvals()    | 固有値  |\n",
    "| eigvecs()  | 固有ベクトル |\n",
    "\n",
    "多分、Lapackの何かを呼び足してるはず。"
   ]
  },
  {
   "cell_type": "code",
   "execution_count": 1,
   "metadata": {},
   "outputs": [
    {
     "data": {
      "text/plain": [
       "Eigen{Float64,Float64,Array{Float64,2},Array{Float64,1}}\n",
       "values:\n",
       "2-element Array{Float64,1}:\n",
       " -1.0\n",
       "  3.0\n",
       "vectors:\n",
       "2×2 Array{Float64,2}:\n",
       " -0.707107  0.707107\n",
       "  0.707107  0.707107"
      ]
     },
     "execution_count": 1,
     "metadata": {},
     "output_type": "execute_result"
    }
   ],
   "source": [
    "using LinearAlgebra\n",
    "val, vec  = eigen([1 2; 2 1])"
   ]
  },
  {
   "cell_type": "code",
   "execution_count": 2,
   "metadata": {},
   "outputs": [
    {
     "data": {
      "text/plain": [
       "2-element Array{Float64,1}:\n",
       " -1.0\n",
       "  3.0"
      ]
     },
     "execution_count": 2,
     "metadata": {},
     "output_type": "execute_result"
    }
   ],
   "source": [
    "val#固有値"
   ]
  },
  {
   "cell_type": "code",
   "execution_count": 3,
   "metadata": {},
   "outputs": [
    {
     "data": {
      "text/plain": [
       "2×2 Array{Float64,2}:\n",
       " -0.707107  0.707107\n",
       "  0.707107  0.707107"
      ]
     },
     "execution_count": 3,
     "metadata": {},
     "output_type": "execute_result"
    }
   ],
   "source": [
    "vec#固有ベクトル"
   ]
  },
  {
   "cell_type": "code",
   "execution_count": 4,
   "metadata": {},
   "outputs": [
    {
     "data": {
      "text/plain": [
       "2-element Array{Float64,1}:\n",
       " -1.0\n",
       "  3.0"
      ]
     },
     "execution_count": 4,
     "metadata": {},
     "output_type": "execute_result"
    }
   ],
   "source": [
    "eigvals([1 2; 2 1])#固有値"
   ]
  },
  {
   "cell_type": "code",
   "execution_count": 5,
   "metadata": {},
   "outputs": [
    {
     "data": {
      "text/plain": [
       "2×2 Array{Float64,2}:\n",
       " -0.707107  0.707107\n",
       "  0.707107  0.707107"
      ]
     },
     "execution_count": 5,
     "metadata": {},
     "output_type": "execute_result"
    }
   ],
   "source": [
    "eigvecs([1 2; 2 1])#固有ベクトル"
   ]
  },
  {
   "cell_type": "markdown",
   "metadata": {},
   "source": [
    "## 密行列の固有値問題に対する精度保証\n",
    "\n",
    "密行列とは、行列内のほとんどの要素が $0$ でない行列のことを指す。ここでは、行列$A\\in\\C^{n\\times n}$ $(i=1,2,\\cdots,n)$ の全ての固有値に対する精度保証アルゴリズムを考える。 \n",
    "\n",
    "### 実装したいアルゴリズム\n",
    "(1)\n",
    "ある行列 $A$ の全ての近似固有ベクトル $\\bX\\in\\C^{n\\times n}$ $(i=1,2,\\cdots,n)$ を求める。\n",
    "\n",
    "(2)\n",
    "$A\\cdot\\bX$ の包含 $C\\in\\IC^{n\\times n}$ を求める。\n",
    "\n",
    "(3)\n",
    "区間連立1次方程式 $\\bX G=C$ の解集合の包含 $G\\supset \\bX^{-1}\\cdot C$ ($G\\in\\IC^{n\\times n}$) を求める。\n",
    "\n",
    "(4)\n",
    "$G\\in\\IC^{n\\times n}$ に対してゲルシュゴリンの定理を適用することを考える。"
   ]
  },
  {
   "cell_type": "markdown",
   "metadata": {},
   "source": [
    "#### (1) 行列 $A$ の全ての近似固有ベクトル $\\bX\\in\\C^{n\\times n}$ $(i=1,2,\\cdots,n)$ を求める。\n",
    "\n",
    "行列 $A\\in\\C^{n\\times n}$ $(i=1,2,\\cdots,n)$ が対角化可能であるとするとき、$\\lambda_i$ に対する固有ベクトル$x^{(i)}\\in\\C^{n}$ $(i=1,2,\\cdots,n)$ を並べた行列\n",
    "\n",
    "$$\n",
    "X :=[x^{(1)},x^{(2)},\\cdots,x^{(n)}]\\in\\C^{n\\times n}\n",
    "$$\n",
    "\n",
    "によって、$A$ は\n",
    "\n",
    "$$\n",
    "X^{-1}AX = D = \\rm{diag}(\\lambda_1,\\lambda_2,\\cdots,\\lambda_n)\n",
    "$$\n",
    "\n",
    "と対角化される。"
   ]
  },
  {
   "cell_type": "code",
   "execution_count": 6,
   "metadata": {},
   "outputs": [],
   "source": [
    "using LinearAlgebra\n",
    "\n",
    "n =100;\n",
    "A = randn(n,n);\n",
    "\n",
    "λ, X = eigen(A);"
   ]
  },
  {
   "cell_type": "code",
   "execution_count": 7,
   "metadata": {},
   "outputs": [
    {
     "data": {
      "text/plain": [
       "100-element Array{Complex{Float64},1}:\n",
       " -9.354993607755423 - 3.10521804510489im\n",
       " -9.354993607755423 + 3.10521804510489im\n",
       " -8.829914109169227 + 0.0im\n",
       " -8.596852246470185 - 1.420381695818213im\n",
       " -8.596852246470185 + 1.420381695818213im\n",
       " -7.736385006247817 - 4.386708899636766im\n",
       " -7.736385006247817 + 4.386708899636766im\n",
       " -7.288022105164716 - 3.0070994784994345im\n",
       " -7.288022105164716 + 3.0070994784994345im\n",
       " -6.957330762988619 - 1.9038291222117576im\n",
       " -6.957330762988619 + 1.9038291222117576im\n",
       " -6.688403708534512 - 4.062016699665395im\n",
       " -6.688403708534512 + 4.062016699665395im\n",
       "                    ⋮\n",
       "  6.424818025552053 - 0.7526839287969654im\n",
       "  6.424818025552053 + 0.7526839287969654im\n",
       "  6.684710107899111 - 2.2067326219374404im\n",
       "  6.684710107899111 + 2.2067326219374404im\n",
       "   7.06321456373899 - 5.976599344387202im\n",
       "   7.06321456373899 + 5.976599344387202im\n",
       "    8.0111505899481 + 0.0im\n",
       "  8.642183684411435 - 2.8700248930404797im\n",
       "  8.642183684411435 + 2.8700248930404797im\n",
       "  9.587731644661712 - 2.7672810501875404im\n",
       "  9.587731644661712 + 2.7672810501875404im\n",
       " 10.284764568645572 + 0.0im"
      ]
     },
     "execution_count": 7,
     "metadata": {},
     "output_type": "execute_result"
    }
   ],
   "source": [
    "λ #固有値"
   ]
  },
  {
   "cell_type": "code",
   "execution_count": 8,
   "metadata": {},
   "outputs": [
    {
     "data": {
      "text/plain": [
       "100×100 Array{Complex{Float64},2}:\n",
       "  -0.0324332-0.0676809im    -0.0324332+0.0676809im   …    -0.123008+0.0im\n",
       "  -0.0256079+0.073751im     -0.0256079-0.073751im          0.020085+0.0im\n",
       "   0.0166231+0.160937im      0.0166231-0.160937im        -0.0877203+0.0im\n",
       "   -0.221685-0.0im           -0.221685+0.0im             -0.0825351+0.0im\n",
       "  0.00644233+0.0717538im    0.00644233-0.0717538im         0.300167+0.0im\n",
       "  -0.0549602-0.006093im     -0.0549602+0.006093im    …     0.119811+0.0im\n",
       "   -0.137734+0.0202734im     -0.137734-0.0202734im        0.0253535+0.0im\n",
       "    0.160319-0.0596742im      0.160319+0.0596742im         0.064853+0.0im\n",
       "   0.0486162-0.040065im      0.0486162+0.040065im         -0.116457+0.0im\n",
       " -0.00727075+0.00947815im  -0.00727075-0.00947815im      -0.0671906+0.0im\n",
       "   -0.126487-0.10555im       -0.126487+0.10555im     …   -0.0373159+0.0im\n",
       "  -0.0181367-0.00657198im   -0.0181367+0.00657198im       -0.126041+0.0im\n",
       "  0.00204521+0.0281492im    0.00204521-0.0281492im        -0.085803+0.0im\n",
       "            ⋮                                        ⋱  \n",
       "  -0.0889089+0.0640921im    -0.0889089-0.0640921im         0.103589+0.0im\n",
       "   0.0465226-0.00550926im    0.0465226+0.00550926im      -0.0959642+0.0im\n",
       "  -0.0052202-0.0868992im    -0.0052202+0.0868992im   …     0.044368+0.0im\n",
       "     0.16958-0.0999079im       0.16958+0.0999079im        -0.126661+0.0im\n",
       "    0.106472-0.0916482im      0.106472+0.0916482im         0.126068+0.0im\n",
       "  -0.0316098+0.0714849im    -0.0316098-0.0714849im         0.046532+0.0im\n",
       "   0.0480925-0.113683im      0.0480925+0.113683im        -0.0793606+0.0im\n",
       "   0.0502719-0.105667im      0.0502719+0.105667im    …  -0.00418035+0.0im\n",
       "  -0.0124404-0.0375522im    -0.0124404+0.0375522im        0.0578407+0.0im\n",
       "    0.123979+0.0103887im      0.123979-0.0103887im       -0.0327439+0.0im\n",
       "  -0.0416222+0.0120935im    -0.0416222-0.0120935im        0.0617971+0.0im\n",
       "   -0.147051-0.0520259im     -0.147051+0.0520259im       -0.0442588+0.0im"
      ]
     },
     "execution_count": 8,
     "metadata": {},
     "output_type": "execute_result"
    }
   ],
   "source": [
    "X #固有ベクトル"
   ]
  },
  {
   "cell_type": "markdown",
   "metadata": {},
   "source": [
    "しかし、実際のところ上記の数値計算で得られる固有ベクトル $X$ は近似の値 $\\bX\\in \\C^{n\\times n}$ (以下、近似固有ベクトルという) である。しかし、近似固有ベクトルを並べた行列を使って、対角化したものについては、対角優位性が期待できる。この行列を $G$ とすると、\n",
    "\n",
    "$$\n",
    "G := \\bX^{-1}A\\bX\n",
    "$$\n",
    "\n",
    "となり、行列 $G$ の対角成分は行列 $A$ の固有値の近似となる。\n",
    "\n",
    "また、対角優位性とは、ある行列$A=(a_{ij})$について、\n",
    "\n",
    "$$\n",
    "\\left|a_{i i}\\right|>\\sum_{{j} \\colon j \\neq i}\\left|a_{i j}\\right| \\quad(i=1,2, \\ldots, n)\n",
    "$$\n",
    "\n",
    "であること。つまり、行列のどの対角成分の絶対値も、それと同じ列にある非対角成分の和よりも大きい時。"
   ]
  },
  {
   "cell_type": "code",
   "execution_count": 9,
   "metadata": {},
   "outputs": [
    {
     "data": {
      "text/plain": [
       "5.311895280018592e-14"
      ]
     },
     "execution_count": 9,
     "metadata": {},
     "output_type": "execute_result"
    }
   ],
   "source": [
    "G = inv(X)*A*X; #G\n",
    "norm(diag(G) - λ,Inf) # Gの対角成分は固有値λにほぼ一致する"
   ]
  },
  {
   "cell_type": "markdown",
   "metadata": {},
   "source": [
    "#### (2) $A\\cdot\\bX$ の包含 $C\\in\\IC^{n\\times n}$ を求める。\n",
    "\n",
    "``方法1``各演算を区間演算に変更した方式(参考：[interval_dot-mul.ipynb](https://www.risk.tsukuba.ac.jp/~takitoshi/tutorial/interval_dot-mul.html \"タイトル\"))"
   ]
  },
  {
   "cell_type": "code",
   "execution_count": 10,
   "metadata": {},
   "outputs": [
    {
     "name": "stdout",
     "output_type": "stream",
     "text": [
      "  82.239 ms (8 allocations: 312.91 KiB)\n"
     ]
    }
   ],
   "source": [
    "using IntervalArithmetic, BenchmarkTools\n",
    "\n",
    "iA = map(Interval, A);\n",
    "iX = map(Interval, X);\n",
    "\n",
    "@btime C1 = $iA * $iX;"
   ]
  },
  {
   "cell_type": "code",
   "execution_count": 11,
   "metadata": {},
   "outputs": [
    {
     "ename": "LoadError",
     "evalue": "UndefVarError: C1 not defined",
     "output_type": "error",
     "traceback": [
      "UndefVarError: C1 not defined",
      "",
      "Stacktrace:",
      " [1] top-level scope at show.jl:641",
      " [2] include_string(::Function, ::Module, ::String, ::String) at ./loading.jl:1091"
     ]
    }
   ],
   "source": [
    "@show max(maximum(radius.(real(C1[:]))),maximum(radius.(imag(C1[:]))))"
   ]
  },
  {
   "cell_type": "markdown",
   "metadata": {},
   "source": [
    "``方法2``BLASを使う。int_num_linalg.jlの呼び出し。この方が早い。"
   ]
  },
  {
   "cell_type": "code",
   "execution_count": 12,
   "metadata": {},
   "outputs": [
    {
     "name": "stdout",
     "output_type": "stream",
     "text": [
      "  1.273539 seconds (4.65 M allocations: 222.398 MiB, 3.12% gc time)\n",
      "  0.157668 seconds (80.04 k allocations: 4.366 MiB)\n",
      "  0.164723 seconds (80.04 k allocations: 4.366 MiB)\n"
     ]
    }
   ],
   "source": [
    "using BenchmarkTools\n",
    "include(\"IntervalLinearAlgebra.jl\"); # int_mulを使用する\n",
    "# @time C1 = mm_comp_interval_alt(iA,iX);\n",
    "@time C = int_mul(A,X); # A, X: complex matrices (not interval)\n",
    "@time C = int_mul(A,X); # A, X: complex matrices (not interval)\n",
    "@time C = int_mul(A,X); # A, X: complex matrices (not interval)\n"
   ]
  },
  {
   "cell_type": "code",
   "execution_count": 13,
   "metadata": {},
   "outputs": [
    {
     "data": {
      "text/plain": [
       "9.059419880941277e-14"
      ]
     },
     "execution_count": 13,
     "metadata": {},
     "output_type": "execute_result"
    }
   ],
   "source": [
    "max(maximum(radius.(real(C[:]))),maximum(radius.(imag(C[:]))))"
   ]
  },
  {
   "cell_type": "code",
   "execution_count": 14,
   "metadata": {},
   "outputs": [
    {
     "data": {
      "text/plain": [
       "100×100 Array{Interval{Float64},2}:\n",
       "  [0.093248, 0.0932481]       …  [-1.26511, -1.2651]\n",
       "  [0.468574, 0.468575]            [0.206569, 0.20657]\n",
       "  [0.344236, 0.344237]           [-0.902183, -0.902182]\n",
       "  [2.07386, 2.07387]             [-0.848854, -0.848853]\n",
       "  [0.162543, 0.162544]            [3.08715, 3.08716]\n",
       "  [0.495231, 0.495232]        …   [1.23223, 1.23224]\n",
       "  [1.35145, 1.35146]              [0.260754, 0.260755]\n",
       " [-1.68509, -1.68508]             [0.666997, 0.666998]\n",
       " [-0.579215, -0.579214]          [-1.19774, -1.19773]\n",
       "  [0.0974495, 0.0974496]         [-0.69104, -0.691039]\n",
       "  [0.855526, 0.855527]        …  [-0.383786, -0.383785]\n",
       "  [0.149261, 0.149262]           [-1.2963, -1.29629]\n",
       "  [0.0682766, 0.0682767]         [-0.882464, -0.882463]\n",
       "   ⋮                          ⋱  \n",
       "  [1.03076, 1.03077]              [1.06538, 1.06539]\n",
       " [-0.452326, -0.452325]          [-0.98697, -0.986969]\n",
       " [-0.221006, -0.221005]       …   [0.456314, 0.456315]\n",
       " [-1.89666, -1.89665]            [-1.30269, -1.30268]\n",
       " [-1.28064, -1.28063]             [1.29657, 1.29658]\n",
       "  [0.517685, 0.517686]            [0.47857, 0.478571]\n",
       " [-0.802916, -0.802915]          [-0.816205, -0.816204]\n",
       " [-0.798414, -0.798413]       …  [-0.042994, -0.0429939]\n",
       " [-0.000227661, -0.00022766]      [0.594878, 0.594879]\n",
       " [-1.12757, -1.12756]            [-0.336764, -0.336763]\n",
       "  [0.426928, 0.426929]            [0.635568, 0.635569]\n",
       "  [1.2141, 1.21411]              [-0.455192, -0.455191]"
      ]
     },
     "execution_count": 14,
     "metadata": {},
     "output_type": "execute_result"
    }
   ],
   "source": [
    "real(C)"
   ]
  },
  {
   "cell_type": "code",
   "execution_count": 15,
   "metadata": {},
   "outputs": [
    {
     "data": {
      "text/plain": [
       "100×100 Array{Interval{Float64},2}:\n",
       "  [0.733866, 0.733867]     …  [-2.22508e-308, 2.22508e-308]\n",
       " [-0.610422, -0.610421]       [-2.22508e-308, 2.22508e-308]\n",
       " [-1.55719, -1.55718]         [-2.22508e-308, 2.22508e-308]\n",
       "  [0.68838, 0.688381]         [-2.22508e-308, 2.22508e-308]\n",
       " [-0.691261, -0.69126]        [-2.22508e-308, 2.22508e-308]\n",
       "  [0.227663, 0.227664]     …  [-2.22508e-308, 2.22508e-308]\n",
       "  [0.238036, 0.238037]        [-2.22508e-308, 2.22508e-308]\n",
       "  [0.060425, 0.0604251]       [-2.22508e-308, 2.22508e-308]\n",
       "  [0.223843, 0.223844]        [-2.22508e-308, 2.22508e-308]\n",
       " [-0.0660908, -0.0660907]     [-2.22508e-308, 2.22508e-308]\n",
       "  [1.38019, 1.3802]        …  [-2.22508e-308, 2.22508e-308]\n",
       "  [0.117799, 0.1178]          [-2.22508e-308, 2.22508e-308]\n",
       " [-0.269687, -0.269686]       [-2.22508e-308, 2.22508e-308]\n",
       "   ⋮                       ⋱  \n",
       " [-0.3235, -0.323499]         [-2.22508e-308, 2.22508e-308]\n",
       " [-0.0929236, -0.0929235]     [-2.22508e-308, 2.22508e-308]\n",
       "  [0.82915, 0.829151]      …  [-2.22508e-308, 2.22508e-308]\n",
       "  [0.408055, 0.408056]        [-2.22508e-308, 2.22508e-308]\n",
       "  [0.526749, 0.52675]         [-2.22508e-308, 2.22508e-308]\n",
       " [-0.570586, -0.570585]       [-2.22508e-308, 2.22508e-308]\n",
       "  [0.914166, 0.914167]        [-2.22508e-308, 2.22508e-308]\n",
       "  [0.832412, 0.832413]     …  [-2.22508e-308, 2.22508e-308]\n",
       "  [0.38993, 0.389931]         [-2.22508e-308, 2.22508e-308]\n",
       " [-0.482169, -0.482168]       [-2.22508e-308, 2.22508e-308]\n",
       "  [0.0161112, 0.0161113]      [-2.22508e-308, 2.22508e-308]\n",
       "  [0.943325, 0.943326]        [-2.22508e-308, 2.22508e-308]"
      ]
     },
     "execution_count": 15,
     "metadata": {},
     "output_type": "execute_result"
    }
   ],
   "source": [
    "imag(C)"
   ]
  },
  {
   "cell_type": "markdown",
   "metadata": {},
   "source": [
    "#### (3 )区間連立1次方程式 $\\hat XG=C$ の解集合の包含 $G\\supset\\hat X^{-1}\\cdot C$ を求める。"
   ]
  },
  {
   "cell_type": "code",
   "execution_count": 16,
   "metadata": {},
   "outputs": [
    {
     "data": {
      "text/plain": [
       "verifylss_ib (generic function with 1 method)"
      ]
     },
     "execution_count": 16,
     "metadata": {},
     "output_type": "execute_result"
    }
   ],
   "source": [
    "function verifylss_ib(A,ib) # verify the solution element-wisely\n",
    "    b = mid.(real(ib)) + mid.(imag(ib))*im;\n",
    "    x̄ = A\\b;\n",
    "    n = length(x̄);\n",
    "    R = inv(A);\n",
    "    #########\n",
    "    #C_mid, C_rad = mm_ufp(R,A);\n",
    "    G = Matrix{Float64}(I, n, n) - int_mul(R,A);\n",
    "    α = opnorm(G,Inf)# Interval arithmetic\n",
    "    #########\n",
    "    if α < 1\n",
    "        x̄ = map(Interval,x̄);\n",
    "        r = A*x̄ - ib; # Interval arithmetic\n",
    "        Rr = R*r;\n",
    "        err = abs.(Rr) + supremum(norm(Rr,Inf))/(1-α)*(abs.(G)*ones(n)); # Interval arithmetic\n",
    "    else\n",
    "        println(\"Oh my way, verification is failed...\")\n",
    "        err = nan;\n",
    "    end\n",
    "    return x = (real(x̄) .± supremum.(err)) + im*(imag(x̄) .± supremum.(err))\n",
    "end"
   ]
  },
  {
   "cell_type": "code",
   "execution_count": 17,
   "metadata": {},
   "outputs": [
    {
     "data": {
      "text/plain": [
       "100×100 Array{Interval{Float64},2}:\n",
       " [-9.355, -9.35499]           …  [-8.01304e-13, 7.8056e-13]\n",
       " [-1.51816e-12, 1.50535e-12]     [-8.00194e-13, 7.78468e-13]\n",
       " [-1.14852e-12, 1.14896e-12]     [-8.39477e-13, 8.21206e-13]\n",
       " [-2.17584e-12, 2.17487e-12]     [-1.12967e-12, 1.13731e-12]\n",
       " [-2.17559e-12, 2.17473e-12]     [-1.13155e-12, 1.14369e-12]\n",
       " [-2.32439e-12, 2.32365e-12]  …  [-1.17874e-12, 1.19363e-12]\n",
       " [-2.32585e-12, 2.32249e-12]     [-1.18564e-12, 1.19771e-12]\n",
       " [-2.72926e-12, 2.73121e-12]     [-1.40096e-12, 1.42835e-12]\n",
       " [-2.73712e-12, 2.72649e-12]     [-1.40478e-12, 1.42781e-12]\n",
       " [-2.13365e-12, 2.12841e-12]     [-1.10685e-12, 1.09101e-12]\n",
       " [-2.13276e-12, 2.12938e-12]  …  [-1.10352e-12, 1.09056e-12]\n",
       " [-4.26999e-12, 4.27706e-12]     [-2.21585e-12, 2.15889e-12]\n",
       " [-4.26203e-12, 4.28501e-12]     [-2.20227e-12, 2.19006e-12]\n",
       "   ⋮                          ⋱  \n",
       " [-5.52117e-12, 5.51834e-12]     [-3.08927e-12, 3.08584e-12]\n",
       " [-5.50826e-12, 5.52845e-12]     [-3.08194e-12, 3.09883e-12]\n",
       " [-3.45936e-12, 3.47436e-12]  …  [-1.82855e-12, 1.82447e-12]\n",
       " [-3.46825e-12, 3.46806e-12]     [-1.82856e-12, 1.82157e-12]\n",
       " [-2.27859e-12, 2.29476e-12]     [-1.16294e-12, 1.15973e-12]\n",
       " [-2.28942e-12, 2.2859e-12]      [-1.16582e-12, 1.16316e-12]\n",
       " [-2.64913e-12, 2.65679e-12]     [-1.9283e-12, 1.9928e-12]\n",
       " [-2.12998e-12, 2.13851e-12]  …  [-1.10123e-12, 1.12874e-12]\n",
       " [-2.13731e-12, 2.12737e-12]     [-1.10307e-12, 1.11923e-12]\n",
       " [-1.74811e-12, 1.77518e-12]     [-9.17251e-13, 9.29722e-13]\n",
       " [-1.7687e-12, 1.75168e-12]      [-9.19445e-13, 9.34968e-13]\n",
       " [-1.58434e-12, 1.59921e-12]     [10.2847, 10.2848]"
      ]
     },
     "execution_count": 17,
     "metadata": {},
     "output_type": "execute_result"
    }
   ],
   "source": [
    "G = similar(C);\n",
    "for i = 1:n\n",
    "    G[:,i] = verifylss_ib(X,C[:,i]);\n",
    "end\n",
    "real(G)"
   ]
  },
  {
   "cell_type": "code",
   "execution_count": 18,
   "metadata": {},
   "outputs": [
    {
     "data": {
      "text/plain": [
       "2-element Array{Array{T,1} where T,1}:\n",
       " Interval{Float64}[[-9.355, -9.35499], [-9.355, -9.35499], [-8.82992, -8.82991], [-8.59686, -8.59685], [-8.59686, -8.59685], [-7.73639, -7.73638], [-7.73639, -7.73638], [-7.28803, -7.28802], [-7.28803, -7.28802], [-6.95734, -6.95733]  …  [6.68471, 6.68472], [6.68471, 6.68472], [7.06321, 7.06322], [7.06321, 7.06322], [8.01115, 8.01116], [8.64218, 8.64219], [8.64218, 8.64219], [9.58773, 9.58774], [9.58773, 9.58774], [10.2847, 10.2848]]\n",
       " Complex{Float64}[-9.354993607755423 - 3.10521804510489im, -9.354993607755423 + 3.10521804510489im, -8.829914109169227 + 0.0im, -8.596852246470185 - 1.420381695818213im, -8.596852246470185 + 1.420381695818213im, -7.736385006247817 - 4.386708899636766im, -7.736385006247817 + 4.386708899636766im, -7.288022105164716 - 3.0070994784994345im, -7.288022105164716 + 3.0070994784994345im, -6.957330762988619 - 1.9038291222117576im  …  6.684710107899111 - 2.2067326219374404im, 6.684710107899111 + 2.2067326219374404im, 7.06321456373899 - 5.976599344387202im, 7.06321456373899 + 5.976599344387202im, 8.0111505899481 + 0.0im, 8.642183684411435 - 2.8700248930404797im, 8.642183684411435 + 2.8700248930404797im, 9.587731644661712 - 2.7672810501875404im, 9.587731644661712 + 2.7672810501875404im, 10.284764568645572 + 0.0im]"
      ]
     },
     "execution_count": 18,
     "metadata": {},
     "output_type": "execute_result"
    }
   ],
   "source": [
    "[real(diag(G)), λ]"
   ]
  },
  {
   "cell_type": "markdown",
   "metadata": {},
   "source": [
    "#### 4) $G\\in\\IC^{n\\times n}$ に対してゲルシュゴリンの定理を適用することを考える。"
   ]
  },
  {
   "cell_type": "markdown",
   "metadata": {},
   "source": [
    "\n",
    "## ゲルシュゴリンの包含定理\n",
    "行列 $A=(A_{ij})\\in \\C^{n\\times n}$ について、$A$ の全ての固有値 $\\lambda_i$ は、$\\bigcup_{1\\le i \\le n}  U_i$ の内部に存在する。\n",
    "\n",
    "$$\n",
    "A\\subseteq\\bigcup_{1\\le i \\le n}  U_i \n",
    "$$\n",
    "\n",
    "ただし、\n",
    "\n",
    "$$\n",
    "U_i = \\left\\{z\\in\\mathbb{C}:|z-a_{ii}|\\le \\sum_{j\\neq i}|a_{ij}|\\right\\}\n",
    "$$\n",
    "\n",
    "である。円盤領域 $U_i$ をゲルシュゴリン円板といい、$A$ が強い優対角性を持つとき、$A$ の対角成分が $A$ の固有値の良い近似となる。今回の場合、$G=(g_{ij})_{1\\le i,j\\le n}\\in\\IC^{n\\times n}$ の対角成分 $(g_{ii})_{1\\le i\\le n}$ を $(c_{i})_{1\\le i\\le n}\\in \\IC^{n}$ とし、各成分の半径を $\\mathrm{rad}(c_i)$ とすると、\n",
    "\n",
    "$$\n",
    "\\begin{array}{ll}\n",
    "\\mbox{ゲルシュゴリン円の中心:}&\\mathrm{mid}(c_i)\\\\\n",
    "\\mbox{ゲルシュゴリン円の半径:}&r_i=\\sum_{j\\neq i}\\rm{mag}(g_{ij})+\\rm{rad}(c_{i})\\\\\n",
    "\\end{array}\n",
    "$$\n",
    "\n",
    "となる。"
   ]
  },
  {
   "cell_type": "code",
   "execution_count": 19,
   "metadata": {},
   "outputs": [
    {
     "data": {
      "text/plain": [
       "mid (generic function with 7 methods)"
      ]
     },
     "execution_count": 19,
     "metadata": {},
     "output_type": "execute_result"
    }
   ],
   "source": [
    "import IntervalArithmetic: mag, radius, mid\n",
    "function mag(v::Complex{Interval{T}}) where T# mag function for complex interval vectors\n",
    "    abs_v = abs(v);\n",
    "    return max(abs_v.lo,abs_v.hi)\n",
    "end\n",
    "\n",
    "function radius(v::Complex{Interval{T}}) where T# mag function for complex interval vectors\n",
    "    return sqrt(interval(radius(real(v)))^2 + interval(radius(imag(v)))^2)\n",
    "end\n",
    "\n",
    "function mid(v::Complex{Interval{T}}) where T# mag function for complex interval vectors\n",
    "    return mid(real(v)) + mid(imag(v))*im\n",
    "end"
   ]
  },
  {
   "cell_type": "code",
   "execution_count": 20,
   "metadata": {},
   "outputs": [],
   "source": [
    "r = zeros(n);\n",
    "c = diag(G);\n",
    "# G_org = G;\n",
    "# for i ∈ 1:n\n",
    "#     G[i,i] = 0;\n",
    "# end\n",
    "for i = 1:n\n",
    "    for j = 1:n\n",
    "        if i != j\n",
    "            r[i] += mag(G[i,j]);\n",
    "        end\n",
    "    end\n",
    "    r[i] += mag(radius.(c[i]));\n",
    "end\n",
    "center = mid.(c);"
   ]
  },
  {
   "cell_type": "code",
   "execution_count": 21,
   "metadata": {},
   "outputs": [
    {
     "data": {
      "text/plain": [
       "100×2 Array{Interval{Float64},2}:\n",
       " [-9.355, -9.35499]    [-3.10522, -3.10521]\n",
       " [-9.355, -9.35499]     [3.10521, 3.10522]\n",
       " [-8.82992, -8.82991]  [-1.5204e-10, 1.5204e-10]\n",
       " [-8.59686, -8.59685]  [-1.42039, -1.42038]\n",
       " [-8.59686, -8.59685]   [1.42038, 1.42039]\n",
       " [-7.73639, -7.73638]  [-4.38671, -4.3867]\n",
       " [-7.73639, -7.73638]   [4.3867, 4.38671]\n",
       " [-7.28803, -7.28802]  [-3.0071, -3.00709]\n",
       " [-7.28803, -7.28802]   [3.00709, 3.0071]\n",
       " [-6.95734, -6.95733]  [-1.90383, -1.90382]\n",
       " [-6.95734, -6.95733]   [1.90382, 1.90383]\n",
       " [-6.68841, -6.6884]   [-4.06202, -4.06201]\n",
       " [-6.68841, -6.6884]    [4.06201, 4.06202]\n",
       "   ⋮                   \n",
       "  [6.42481, 6.42482]   [-0.752684, -0.752683]\n",
       "  [6.42481, 6.42482]    [0.752683, 0.752684]\n",
       "  [6.68471, 6.68472]   [-2.20674, -2.20673]\n",
       "  [6.68471, 6.68472]    [2.20673, 2.20674]\n",
       "  [7.06321, 7.06322]   [-5.9766, -5.97659]\n",
       "  [7.06321, 7.06322]    [5.97659, 5.9766]\n",
       "  [8.01115, 8.01116]   [-3.50918e-10, 3.50909e-10]\n",
       "  [8.64218, 8.64219]   [-2.87003, -2.87002]\n",
       "  [8.64218, 8.64219]    [2.87002, 2.87003]\n",
       "  [9.58773, 9.58774]   [-2.76729, -2.76728]\n",
       "  [9.58773, 9.58774]    [2.76728, 2.76729]\n",
       " [10.2847, 10.2848]    [-2.12606e-10, 2.12596e-10]"
      ]
     },
     "execution_count": 21,
     "metadata": {},
     "output_type": "execute_result"
    }
   ],
   "source": [
    "iλ = (real(center) .± r) + im*(imag(center) .± r);\n",
    "[real(iλ) imag(iλ)]"
   ]
  },
  {
   "cell_type": "code",
   "execution_count": 22,
   "metadata": {},
   "outputs": [
    {
     "data": {
      "text/plain": [
       "100"
      ]
     },
     "execution_count": 22,
     "metadata": {},
     "output_type": "execute_result"
    }
   ],
   "source": [
    "sum(λ .∈ iλ)"
   ]
  },
  {
   "cell_type": "code",
   "execution_count": 23,
   "metadata": {},
   "outputs": [
    {
     "data": {
      "text/plain": [
       "100-element Array{Complex{Float64},1}:\n",
       " -9.354993607755416 - 3.1052180451048947im\n",
       " -9.354993607755416 + 3.1052180451048947im\n",
       " -8.829914109169218 + 9.247764451284438e-18im\n",
       " -8.596852246470188 - 1.4203816958181976im\n",
       " -8.596852246470188 + 1.4203816958182043im\n",
       " -7.736385006247786 - 4.386708899636768im\n",
       " -7.736385006247785 + 4.386708899636766im\n",
       " -7.288022105164693 - 3.0070994784994287im\n",
       " -7.288022105164693 + 3.0070994784994283im\n",
       " -6.957330762988644 - 1.903829122211765im\n",
       " -6.957330762988642 + 1.9038291222117634im\n",
       " -6.688403708534512 - 4.062016699665401im\n",
       " -6.688403708534514 + 4.062016699665399im\n",
       "                    ⋮\n",
       "  6.424818025552055 - 0.7526839287969693im\n",
       "  6.424818025552048 + 0.7526839287969844im\n",
       "  6.684710107899086 - 2.206732621937441im\n",
       "  6.684710107899084 + 2.20673262193744im\n",
       "  7.063214563739001 - 5.976599344387201im\n",
       "  7.063214563738992 + 5.976599344387202im\n",
       "   8.01115058994812 - 4.55701832400787e-15im\n",
       "  8.642183684411458 - 2.8700248930405im\n",
       "   8.64218368441146 + 2.870024893040492im\n",
       "  9.587731644661712 - 2.7672810501875356im\n",
       "  9.587731644661712 + 2.767281050187533im\n",
       " 10.284764568645585 - 4.712621587568052e-15im"
      ]
     },
     "execution_count": 23,
     "metadata": {},
     "output_type": "execute_result"
    }
   ],
   "source": [
    "center"
   ]
  },
  {
   "cell_type": "code",
   "execution_count": 24,
   "metadata": {},
   "outputs": [
    {
     "data": {
      "text/plain": [
       "100-element Array{Float64,1}:\n",
       " 1.953799849767863e-10\n",
       " 1.9536578211897714e-10\n",
       " 1.5203988546298948e-10\n",
       " 2.8000427662466046e-10\n",
       " 2.799556503764111e-10\n",
       " 2.952270832930534e-10\n",
       " 2.9510944431098485e-10\n",
       " 3.500235520876405e-10\n",
       " 3.4992355200693e-10\n",
       " 2.711870472964528e-10\n",
       " 2.711713790523422e-10\n",
       " 5.416159327673304e-10\n",
       " 5.412996700347579e-10\n",
       " ⋮\n",
       " 7.1685165985529e-10\n",
       " 7.167875476509642e-10\n",
       " 4.483507430050791e-10\n",
       " 4.483386415574522e-10\n",
       " 2.912886353227739e-10\n",
       " 2.91270955720974e-10\n",
       " 3.509132225021435e-10\n",
       " 2.747080236095069e-10\n",
       " 2.7465486045619395e-10\n",
       " 2.2749299994649791e-10\n",
       " 2.2746118225035116e-10\n",
       " 2.1260035206528936e-10"
      ]
     },
     "execution_count": 24,
     "metadata": {},
     "output_type": "execute_result"
    }
   ],
   "source": [
    "r"
   ]
  },
  {
   "cell_type": "markdown",
   "metadata": {},
   "source": [
    "※11/25↓\n",
    "https://hsugawa8651.github.io/memojuliav064/ch13.html#%E3%82%AC%E3%82%A6%E3%82%B9%E5%B9%B3%E9%9D%A2-1\n",
    "を参考に図示しようとしたが、Plotsが上手く作動せずにエラー。"
   ]
  },
  {
   "cell_type": "code",
   "execution_count": 40,
   "metadata": {},
   "outputs": [],
   "source": [
    "using PyPlot\n",
    "using Plots"
   ]
  },
  {
   "cell_type": "markdown",
   "metadata": {},
   "source": [
    "WARNING: using Plots.center in module Main conflicts with an existing identifier."
   ]
  },
  {
   "cell_type": "code",
   "execution_count": 47,
   "metadata": {},
   "outputs": [
    {
     "ename": "LoadError",
     "evalue": "Cannot convert String to series data for plotting",
     "output_type": "error",
     "traceback": [
      "Cannot convert String to series data for plotting",
      "",
      "Stacktrace:",
      " [1] error(::String) at ./error.jl:33",
      " [2] _prepare_series_data(::String) at /Users/K/.julia/packages/RecipesPipeline/uPBKQ/src/series.jl:8",
      " [3] _series_data_vector(::String, ::Dict{Symbol,Any}) at /Users/K/.julia/packages/RecipesPipeline/uPBKQ/src/series.jl:27",
      " [4] macro expansion at /Users/K/.julia/packages/RecipesPipeline/uPBKQ/src/series.jl:146 [inlined]",
      " [5] apply_recipe(::AbstractDict{Symbol,Any}, ::Type{RecipesPipeline.SliceIt}, ::Any, ::Any, ::Any) at /Users/K/.julia/packages/RecipesBase/AN696/src/RecipesBase.jl:282",
      " [6] _process_userrecipes!(::Any, ::Any, ::Any) at /Users/K/.julia/packages/RecipesPipeline/uPBKQ/src/user_recipe.jl:36",
      " [7] recipe_pipeline!(::Any, ::Any, ::Any) at /Users/K/.julia/packages/RecipesPipeline/uPBKQ/src/RecipesPipeline.jl:70",
      " [8] _plot!(::Plots.Plot, ::Any, ::Any) at /Users/K/.julia/packages/Plots/vsE7b/src/plot.jl:172",
      " [9] plot(::Any, ::Vararg{Any,N} where N; kw::Any) at /Users/K/.julia/packages/Plots/vsE7b/src/plot.jl:58",
      " [10] plot(::Any, ::Any, ::Vararg{Any,N} where N) at /Users/K/.julia/packages/Plots/vsE7b/src/plot.jl:52",
      " [11] top-level scope at In[47]:4",
      " [12] include_string(::Function, ::Module, ::String, ::String) at ./loading.jl:1091"
     ]
    }
   ],
   "source": [
    "using PyPlot\n",
    "zs = [ exp(im*t) for t in 0:pi/18:2pi ]\n",
    "\n",
    "plot( real.(zs), imag.(zs), \".\")\n",
    "xlabel(\"real part\")\n",
    "ylabel(\"imag part\")\n",
    "axhline(0, lw=0.5, color=\"k\")\n",
    "axvline(0, lw=0.5, color=\"k\")\n",
    "plt[:axes]()[:set_aspect](\"equal\")"
   ]
  },
  {
   "cell_type": "markdown",
   "metadata": {},
   "source": [
    "Cannot convert String to series data for plotting\n",
    "\n",
    "Stacktrace:\n",
    " [1] error(::String) at ./error.jl:33\n",
    " [2] _prepare_series_data(::String) at /Users/K/.julia/packages/RecipesPipeline/uPBKQ/src/series.jl:8\n",
    " [3] _series_data_vector(::String, ::Dict{Symbol,Any}) at /Users/K/.julia/packages/RecipesPipeline/uPBKQ/src/series.jl:27\n",
    " [4] macro expansion at /Users/K/.julia/packages/RecipesPipeline/uPBKQ/src/series.jl:146 [inlined]\n",
    " [5] apply_recipe(::AbstractDict{Symbol,Any}, ::Type{RecipesPipeline.SliceIt}, ::Any, ::Any, ::Any) at /Users/K/.julia/packages/RecipesBase/AN696/src/RecipesBase.jl:282\n",
    " [6] _process_userrecipes!(::Any, ::Any, ::Any) at /Users/K/.julia/packages/RecipesPipeline/uPBKQ/src/user_recipe.jl:36\n",
    " [7] recipe_pipeline!(::Any, ::Any, ::Any) at /Users/K/.julia/packages/RecipesPipeline/uPBKQ/src/RecipesPipeline.jl:70\n",
    " [8] _plot!(::Plots.Plot, ::Any, ::Any) at /Users/K/.julia/packages/Plots/vsE7b/src/plot.jl:172\n",
    " [9] plot(::Any, ::Vararg{Any,N} where N; kw::Any) at /Users/K/.julia/packages/Plots/vsE7b/src/plot.jl:58\n",
    " [10] plot(::Any, ::Any, ::Vararg{Any,N} where N) at /Users/K/.julia/packages/Plots/vsE7b/src/plot.jl:52\n",
    " [11] top-level scope at In[26]:3\n",
    " [12] include_string(::Function, ::Module, ::String, ::String) at ./loading.jl:1091"
   ]
  },
  {
   "cell_type": "code",
   "execution_count": 42,
   "metadata": {},
   "outputs": [],
   "source": [
    "# 開始値:ステップ:終了値\n",
    "x = -5.0:0.1:5.0\n",
    "# 関数\n",
    "f(x) = 1 ./ (1 .+ exp.(-x))\n",
    "\n",
    "y = f(x)\n",
    "\n",
    "using Plots\n",
    "plot(x, y)\n",
    "# 画像保存\n",
    "savefig(\"Sigmoid.png\")"
   ]
  },
  {
   "cell_type": "code",
   "execution_count": 43,
   "metadata": {},
   "outputs": [
    {
     "ename": "LoadError",
     "evalue": "UndefVarError: index not defined",
     "output_type": "error",
     "traceback": [
      "UndefVarError: index not defined",
      "",
      "Stacktrace:",
      " [1] top-level scope at In[43]:2",
      " [2] include_string(::Function, ::Module, ::String, ::String) at ./loading.jl:1091"
     ]
    }
   ],
   "source": [
    "\n",
    "plot!(index, max_rad, yscale=:log10,\n",
    "    xlabel       =\"Real\",                #X軸のラベル\n",
    "    ylabel       =\"Imaginary\",   #Y軸のラベル\n",
    "    xlims        =(0,41),             #X軸の範囲\n",
    "    title=\"gershgorin\",       #タイトル\n",
    "    linewidth    =2,                  #線幅\n",
    "    seriestype = :scatter,            #点プロットに　\n",
    "    size         =(400,300),          #プロットのサイズ\n",
    ")"
   ]
  },
  {
   "cell_type": "code",
   "execution_count": 44,
   "metadata": {},
   "outputs": [
    {
     "ename": "LoadError",
     "evalue": "Cannot convert String to series data for plotting",
     "output_type": "error",
     "traceback": [
      "Cannot convert String to series data for plotting",
      "",
      "Stacktrace:",
      " [1] error(::String) at ./error.jl:33",
      " [2] _prepare_series_data(::String) at /Users/K/.julia/packages/RecipesPipeline/uPBKQ/src/series.jl:8",
      " [3] _series_data_vector(::String, ::Dict{Symbol,Any}) at /Users/K/.julia/packages/RecipesPipeline/uPBKQ/src/series.jl:27",
      " [4] macro expansion at /Users/K/.julia/packages/RecipesPipeline/uPBKQ/src/series.jl:146 [inlined]",
      " [5] apply_recipe(::AbstractDict{Symbol,Any}, ::Type{RecipesPipeline.SliceIt}, ::Any, ::Any, ::Any) at /Users/K/.julia/packages/RecipesBase/AN696/src/RecipesBase.jl:282",
      " [6] _process_userrecipes!(::Any, ::Any, ::Any) at /Users/K/.julia/packages/RecipesPipeline/uPBKQ/src/user_recipe.jl:36",
      " [7] recipe_pipeline!(::Any, ::Any, ::Any) at /Users/K/.julia/packages/RecipesPipeline/uPBKQ/src/RecipesPipeline.jl:70",
      " [8] _plot!(::Plots.Plot, ::Any, ::Any) at /Users/K/.julia/packages/Plots/vsE7b/src/plot.jl:172",
      " [9] plot(::Any, ::Vararg{Any,N} where N; kw::Any) at /Users/K/.julia/packages/Plots/vsE7b/src/plot.jl:58",
      " [10] plot(::Any, ::Any, ::Vararg{Any,N} where N) at /Users/K/.julia/packages/Plots/vsE7b/src/plot.jl:52",
      " [11] top-level scope at In[44]:3",
      " [12] include_string(::Function, ::Module, ::String, ::String) at ./loading.jl:1091"
     ]
    }
   ],
   "source": [
    "zs = [ complex(0,0), complex(1,0), complex(1,1), complex(0,1), complex(0,0)]\n",
    "\n",
    "plot( real.(zs), imag.(zs), \".-\")\n",
    "xlabel(\"real part\")\n",
    "ylabel(\"imag part\")\n",
    "xlim(-2,2)\n",
    "ylim(-2,2)\n",
    "axhline(0, lw=0.5, color=\"k\")\n",
    "axvline(0, lw=0.5, color=\"k\")\n",
    "plt[:axes]()[:set_aspect](\"equal\")"
   ]
  },
  {
   "cell_type": "code",
   "execution_count": 45,
   "metadata": {},
   "outputs": [
    {
     "ename": "LoadError",
     "evalue": "Cannot convert String to series data for plotting",
     "output_type": "error",
     "traceback": [
      "Cannot convert String to series data for plotting",
      "",
      "Stacktrace:",
      " [1] error(::String) at ./error.jl:33",
      " [2] _prepare_series_data(::String) at /Users/K/.julia/packages/RecipesPipeline/uPBKQ/src/series.jl:8",
      " [3] _series_data_vector(::String, ::Dict{Symbol,Any}) at /Users/K/.julia/packages/RecipesPipeline/uPBKQ/src/series.jl:27",
      " [4] macro expansion at /Users/K/.julia/packages/RecipesPipeline/uPBKQ/src/series.jl:146 [inlined]",
      " [5] apply_recipe(::AbstractDict{Symbol,Any}, ::Type{RecipesPipeline.SliceIt}, ::Any, ::Any, ::Any) at /Users/K/.julia/packages/RecipesBase/AN696/src/RecipesBase.jl:282",
      " [6] _process_userrecipes!(::Any, ::Any, ::Any) at /Users/K/.julia/packages/RecipesPipeline/uPBKQ/src/user_recipe.jl:36",
      " [7] recipe_pipeline!(::Any, ::Any, ::Any) at /Users/K/.julia/packages/RecipesPipeline/uPBKQ/src/RecipesPipeline.jl:70",
      " [8] _plot!(::Plots.Plot, ::Any, ::Any) at /Users/K/.julia/packages/Plots/vsE7b/src/plot.jl:172",
      " [9] plot(::Any, ::Vararg{Any,N} where N; kw::Any) at /Users/K/.julia/packages/Plots/vsE7b/src/plot.jl:58",
      " [10] plot(::Any, ::Any, ::Vararg{Any,N} where N) at /Users/K/.julia/packages/Plots/vsE7b/src/plot.jl:52",
      " [11] top-level scope at In[45]:4",
      " [12] include_string(::Function, ::Module, ::String, ::String) at ./loading.jl:1091"
     ]
    }
   ],
   "source": [
    "using PyPlot\n",
    "zs = [ complex(0,0), complex(1,0), complex(1,1), complex(0,1), complex(0,0)]\n",
    "\n",
    "plot( real.(zs), imag.(zs), \".-\")\n",
    "xlabel(\"real part\")\n",
    "ylabel(\"imag part\")\n",
    "xlim(-2,2)\n",
    "ylim(-2,2)\n",
    "axhline(0, lw=0.5, color=\"k\")\n",
    "axvline(0, lw=0.5, color=\"k\")\n",
    "plt[:axes]()[:set_aspect](\"equal\")"
   ]
  },
  {
   "cell_type": "code",
   "execution_count": 50,
   "metadata": {},
   "outputs": [
    {
     "ename": "LoadError",
     "evalue": "UndefVarError: linspace not defined",
     "output_type": "error",
     "traceback": [
      "UndefVarError: linspace not defined",
      "",
      "Stacktrace:",
      " [1] top-level scope at In[50]:3",
      " [2] include_string(::Function, ::Module, ::String, ::String) at ./loading.jl:1091"
     ]
    }
   ],
   "source": [
    "using PyPlot\n",
    "b=1\n",
    "cs=linspace(-2,2)\n",
    "ds=complex(b.*b-4cs)\n",
    "x1s=(b+sqrt.(ds))/2;\n",
    "x2v=cs./x1s;\n",
    "plot(cs, real.(x1s), \"b-\", label=\"x1, real part\")\n",
    "plot(cs, imag.(x1s), \"b:\", label=\"x1, imag part\")\n",
    "plot(cs, real.(x2v), \"g-\", label=\"x2, real part\")\n",
    "plot(cs, imag.(x2v), \"g:\", label=\"x2, imag part\")\n",
    "legend()\n",
    "xlabel(\"c\")\n",
    "xlim(-2.5,2.5)\n",
    "ylim(-2.5,2.5)\n",
    "axhline(0, lw=0.5, color=\"k\")\n",
    "axvline(0, lw=0.5, color=\"k\")\n",
    "plt[:axes]()[:set_aspect](\"equal\")"
   ]
  },
  {
   "cell_type": "code",
   "execution_count": null,
   "metadata": {},
   "outputs": [],
   "source": []
  },
  {
   "cell_type": "code",
   "execution_count": null,
   "metadata": {},
   "outputs": [],
   "source": []
  },
  {
   "cell_type": "code",
   "execution_count": null,
   "metadata": {},
   "outputs": [],
   "source": []
  },
  {
   "cell_type": "code",
   "execution_count": null,
   "metadata": {},
   "outputs": [],
   "source": []
  },
  {
   "cell_type": "code",
   "execution_count": null,
   "metadata": {},
   "outputs": [],
   "source": []
  },
  {
   "cell_type": "markdown",
   "metadata": {},
   "source": [
    "対角優位\n",
    "http://www.math.ritsumei.ac.jp/~yasutomi/jugyo/Numerical_Analysis/note5.pdf\n",
    "\n",
    "計算途中がでる\n",
    "http://www.cas.cmc.osaka-u.ac.jp/~paoon/misc/julia/post/cg/\n",
    "\n",
    "\n",
    "http://infsup.jp/saito/materials/na19exer.pdf"
   ]
  },
  {
   "cell_type": "markdown",
   "metadata": {},
   "source": []
  }
 ],
 "metadata": {
  "kernelspec": {
   "display_name": "Julia 1.5.0",
   "language": "julia",
   "name": "julia-1.5"
  },
  "language_info": {
   "file_extension": ".jl",
   "mimetype": "application/julia",
   "name": "julia",
   "version": "1.5.0"
  }
 },
 "nbformat": 4,
 "nbformat_minor": 4
}
