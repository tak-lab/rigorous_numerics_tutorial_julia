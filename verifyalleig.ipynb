{
 "cells": [
  {
   "cell_type": "markdown",
   "metadata": {},
   "source": [
    "# Juliaで固有値問題を精度保証付き数値計算したい\n",
    "\n",
    "\n",
    "## 固有値問題とは\n",
    "\n",
    "固有値問題は与えられた行列の固有値および固有ベクトルを求めること。つまり、\n",
    "$\n",
    "\\newcommand{\\C}{\\mathbb{C}}\n",
    "\\newcommand{\\IC}{\\mathbb{IC}}\n",
    "\\newcommand{\\bX}{\\bar{X}}\n",
    "$\n",
    "\n",
    "$$\n",
    "Ax=\\lambda x,\\quad A\\in \\C^{n\\times n}\n",
    "$$\n",
    "\n",
    "を満たす $\\lambda\\in \\C$, $x\\in \\C^{n\\times n}$ ($x\\neq 0$) を求める問題を指す。\n",
    "\n",
    "Juliaで固有値と固有ベクトルを求める際には、`LinearAlgebra`パッケージに含まれている関数`eigen`・`eigvals`・`eigvecs`で求めることができる。\n",
    "\n",
    "|関数| 役割 |\n",
    "|:-----------|:----------|\n",
    "| eigen()    | 固有値・固有ベクトル両方  |\n",
    "| eigvals()    | 固有値  |\n",
    "| eigvecs()  | 固有ベクトル |\n",
    "\n",
    "多分、Lapackの何かを呼び出していると考えられる。"
   ]
  },
  {
   "cell_type": "code",
   "execution_count": 1,
   "metadata": {},
   "outputs": [
    {
     "data": {
      "text/plain": [
       "Eigen{Float64,Float64,Array{Float64,2},Array{Float64,1}}\n",
       "values:\n",
       "2-element Array{Float64,1}:\n",
       " -1.0\n",
       "  3.0\n",
       "vectors:\n",
       "2×2 Array{Float64,2}:\n",
       " -0.707107  0.707107\n",
       "  0.707107  0.707107"
      ]
     },
     "execution_count": 1,
     "metadata": {},
     "output_type": "execute_result"
    }
   ],
   "source": [
    "using LinearAlgebra\n",
    "val, vec  = eigen([1 2; 2 1])"
   ]
  },
  {
   "cell_type": "code",
   "execution_count": 2,
   "metadata": {},
   "outputs": [
    {
     "data": {
      "text/plain": [
       "2-element Array{Float64,1}:\n",
       " -1.0\n",
       "  3.0"
      ]
     },
     "execution_count": 2,
     "metadata": {},
     "output_type": "execute_result"
    }
   ],
   "source": [
    "val#固有値"
   ]
  },
  {
   "cell_type": "code",
   "execution_count": 3,
   "metadata": {},
   "outputs": [
    {
     "data": {
      "text/plain": [
       "2×2 Array{Float64,2}:\n",
       " -0.707107  0.707107\n",
       "  0.707107  0.707107"
      ]
     },
     "execution_count": 3,
     "metadata": {},
     "output_type": "execute_result"
    }
   ],
   "source": [
    "vec#固有ベクトル"
   ]
  },
  {
   "cell_type": "code",
   "execution_count": 4,
   "metadata": {},
   "outputs": [
    {
     "data": {
      "text/plain": [
       "2-element Array{Float64,1}:\n",
       " -1.0\n",
       "  3.0"
      ]
     },
     "execution_count": 4,
     "metadata": {},
     "output_type": "execute_result"
    }
   ],
   "source": [
    "eigvals([1 2; 2 1])#固有値"
   ]
  },
  {
   "cell_type": "code",
   "execution_count": 5,
   "metadata": {},
   "outputs": [
    {
     "data": {
      "text/plain": [
       "2×2 Array{Float64,2}:\n",
       " -0.707107  0.707107\n",
       "  0.707107  0.707107"
      ]
     },
     "execution_count": 5,
     "metadata": {},
     "output_type": "execute_result"
    }
   ],
   "source": [
    "eigvecs([1 2; 2 1])#固有ベクトル"
   ]
  },
  {
   "cell_type": "markdown",
   "metadata": {},
   "source": [
    "## 密行列の固有値問題に対する精度保証\n",
    "\n",
    "密行列とは、行列内のほとんどの要素が $0$ でない行列のことを指す。ここでは、行列$A\\in\\C^{n\\times n}$ $(i=1,2,\\cdots,n)$ の全ての固有値に対する精度保証アルゴリズムを考える。 \n",
    "\n",
    "### 実装したいアルゴリズム\n",
    "(1)\n",
    "ある行列 $A$ の全ての近似固有ベクトル $\\bX\\in\\C^{n\\times n}$ $(i=1,2,\\cdots,n)$ を求める。\n",
    "\n",
    "(2)\n",
    "$A\\cdot\\bX$ の包含 $C\\in\\IC^{n\\times n}$ を求める。\n",
    "\n",
    "(3)\n",
    "区間連立1次方程式 $\\bX G=C$ の解集合の包含 $G\\supset \\bX^{-1}\\cdot C$ ($G\\in\\IC^{n\\times n}$) を求める。\n",
    "\n",
    "(4)\n",
    "$G\\in\\IC^{n\\times n}$ に対してゲルシュゴリンの定理を適用することを考える。"
   ]
  },
  {
   "cell_type": "markdown",
   "metadata": {},
   "source": [
    "#### (1) 行列 $A$ の全ての近似固有ベクトル $\\bX\\in\\C^{n\\times n}$ $(i=1,2,\\cdots,n)$ を求める。\n",
    "\n",
    "行列 $A\\in\\C^{n\\times n}$ $(i=1,2,\\cdots,n)$ が対角化可能であるとするとき、$\\lambda_i$ に対する固有ベクトル$x^{(i)}\\in\\C^{n}$ $(i=1,2,\\cdots,n)$ を並べた行列\n",
    "\n",
    "$$\n",
    "X :=[x^{(1)},x^{(2)},\\cdots,x^{(n)}]\\in\\C^{n\\times n}\n",
    "$$\n",
    "\n",
    "によって、$A$ は\n",
    "\n",
    "$$\n",
    "X^{-1}AX = D = \\rm{diag}(\\lambda_1,\\lambda_2,\\cdots,\\lambda_n)\n",
    "$$\n",
    "\n",
    "と対角化される。"
   ]
  },
  {
   "cell_type": "code",
   "execution_count": 6,
   "metadata": {},
   "outputs": [],
   "source": [
    "using LinearAlgebra\n",
    "\n",
    "n =100;\n",
    "A = randn(n,n);\n",
    "\n",
    "λ, X = eigen(A);"
   ]
  },
  {
   "cell_type": "code",
   "execution_count": 7,
   "metadata": {},
   "outputs": [
    {
     "data": {
      "text/plain": [
       "100-element Array{Complex{Float64},1}:\n",
       "  -9.83498272948757 + 0.0im\n",
       " -9.559197240561314 + 0.0im\n",
       "  -9.41483622168295 - 2.2631663717093327im\n",
       "  -9.41483622168295 + 2.2631663717093327im\n",
       " -7.817434027062765 - 4.345557679034078im\n",
       " -7.817434027062765 + 4.345557679034078im\n",
       " -7.485146084175337 - 6.084615298221373im\n",
       " -7.485146084175337 + 6.084615298221373im\n",
       " -7.424921791169996 + 0.0im\n",
       " -7.016910529095613 - 2.771630821637285im\n",
       " -7.016910529095613 + 2.771630821637285im\n",
       " -6.716105512154545 - 2.2181209738308945im\n",
       " -6.716105512154545 + 2.2181209738308945im\n",
       "                    ⋮\n",
       "  6.884602243488263 - 6.57517641547183im\n",
       "  6.884602243488263 + 6.57517641547183im\n",
       "  7.358456287179839 - 4.04207556305271im\n",
       "  7.358456287179839 + 4.04207556305271im\n",
       "  7.624583513411149 - 2.5923496604510987im\n",
       "  7.624583513411149 + 2.5923496604510987im\n",
       "  8.097169363046469 - 4.164869288500941im\n",
       "  8.097169363046469 + 4.164869288500941im\n",
       "    9.0369664362832 - 0.7794861173332691im\n",
       "    9.0369664362832 + 0.7794861173332691im\n",
       " 10.429948427878326 - 1.0667820787346685im\n",
       " 10.429948427878326 + 1.0667820787346685im"
      ]
     },
     "execution_count": 7,
     "metadata": {},
     "output_type": "execute_result"
    }
   ],
   "source": [
    "λ #固有値"
   ]
  },
  {
   "cell_type": "code",
   "execution_count": 8,
   "metadata": {},
   "outputs": [
    {
     "data": {
      "text/plain": [
       "100×100 Array{Complex{Float64},2}:\n",
       "  -0.0420152+0.0im  -0.0978742+0.0im  …  -0.0316075+0.0446023im\n",
       "   0.0240231+0.0im  -0.0696461+0.0im        0.08445-0.00259636im\n",
       "  -0.0978306+0.0im  -0.0109147+0.0im      0.0791616-0.0213182im\n",
       "   -0.147223+0.0im     0.12729+0.0im     0.00168347-0.0364769im\n",
       "  -0.0590734+0.0im   0.0138666+0.0im      0.0182695-0.0429932im\n",
       "   -0.154695+0.0im   0.0633176+0.0im  …   0.0212084+0.0221273im\n",
       "  -0.0404721+0.0im  -0.0373216+0.0im     -0.0372861-0.0437127im\n",
       "  0.00976336+0.0im    0.028537+0.0im      0.0519217+0.0321181im\n",
       "  -0.0839981+0.0im  -0.0550691+0.0im     -0.0151312-0.0238524im\n",
       "  -0.0506456+0.0im  0.00135628+0.0im      0.0711217-0.00073722im\n",
       "   -0.111446+0.0im   0.0816964+0.0im  …   0.0256348+0.0762361im\n",
       "   -0.222489+0.0im   0.0859687+0.0im      -0.092138-0.0323264im\n",
       "   0.0861045+0.0im   -0.129767+0.0im      -0.170752-0.0107934im\n",
       "            ⋮                         ⋱  \n",
       "  -0.0147738+0.0im   0.0643241+0.0im       -0.11115-0.0333369im\n",
       "  -0.0065199+0.0im   0.0588024+0.0im      -0.145842-0.077936im\n",
       "   -0.233677+0.0im    0.127007+0.0im  …   -0.111222-0.0507554im\n",
       " -0.00629893+0.0im    0.113494+0.0im        0.10145-0.00669665im\n",
       "   0.0957734+0.0im  -0.0157579+0.0im      -0.100139+0.011761im\n",
       "  -0.0274542+0.0im   0.0383253+0.0im      -0.100513-0.0467585im\n",
       " -0.00132236+0.0im  -0.0558868+0.0im     -0.0918879-0.0278226im\n",
       "  -0.0912316+0.0im   0.0623668+0.0im  …   -0.041792+0.0218097im\n",
       "    0.015503+0.0im  -0.0263833+0.0im      0.0860724+0.0377431im\n",
       "    0.156822+0.0im   -0.268933+0.0im     -0.0492577+0.0538513im\n",
       "    -0.26463+0.0im    0.219014+0.0im     -0.0803722-0.0898707im\n",
       "   0.0100707+0.0im  -0.0661904+0.0im     -0.0454815-0.0547173im"
      ]
     },
     "execution_count": 8,
     "metadata": {},
     "output_type": "execute_result"
    }
   ],
   "source": [
    "X #固有ベクトル"
   ]
  },
  {
   "cell_type": "markdown",
   "metadata": {},
   "source": [
    "しかし、実際のところ上記の数値計算で得られる固有ベクトル $X$ は近似の値 $\\bX\\in \\C^{n\\times n}$ (以下、近似固有ベクトルという) である。しかし、近似固有ベクトルを並べた行列を使って、対角化したものについては、対角優位性が期待できる。この行列を $G$ とすると、\n",
    "\n",
    "$$\n",
    "G := \\bX^{-1}A\\bX\n",
    "$$\n",
    "\n",
    "となり、行列 $G$ の対角成分は行列 $A$ の固有値の近似となる。\n",
    "\n",
    "また、対角優位性とは、ある行列$A=(a_{ij})$について、\n",
    "\n",
    "$$\n",
    "\\left|a_{i i}\\right|>\\sum_{{j} \\colon j \\neq i}\\left|a_{i j}\\right| \\quad(i=1,2, \\ldots, n)\n",
    "$$\n",
    "\n",
    "であること。つまり、行列のどの対角成分の絶対値も、それと同じ列にある非対角成分の和よりも大きい時。"
   ]
  },
  {
   "cell_type": "code",
   "execution_count": 9,
   "metadata": {},
   "outputs": [
    {
     "data": {
      "text/plain": [
       "5.828406534472335e-14"
      ]
     },
     "execution_count": 9,
     "metadata": {},
     "output_type": "execute_result"
    }
   ],
   "source": [
    "G = inv(X)*A*X; #G\n",
    "norm(diag(G) - λ,Inf) # Gの対角成分は固有値λにほぼ一致する"
   ]
  },
  {
   "cell_type": "markdown",
   "metadata": {},
   "source": [
    "#### (2) $A\\cdot\\bX$ の包含 $C\\in\\IC^{n\\times n}$ を求める。\n",
    "\n",
    "``方法1``各演算を区間演算に変更した方式(参考：[interval_dot-mul.ipynb](https://www.risk.tsukuba.ac.jp/~takitoshi/tutorial/interval_dot-mul.html \"タイトル\"))"
   ]
  },
  {
   "cell_type": "code",
   "execution_count": 10,
   "metadata": {},
   "outputs": [
    {
     "name": "stdout",
     "output_type": "stream",
     "text": [
      "  87.474 ms (8 allocations: 312.91 KiB)\n"
     ]
    }
   ],
   "source": [
    "using IntervalArithmetic, BenchmarkTools\n",
    "\n",
    "iA = map(Interval, A);\n",
    "iX = map(Interval, X);\n",
    "\n",
    "@btime C1 = $iA * $iX;"
   ]
  },
  {
   "cell_type": "code",
   "execution_count": 34,
   "metadata": {},
   "outputs": [
    {
     "ename": "LoadError",
     "evalue": "UndefVarError: C1 not defined",
     "output_type": "error",
     "traceback": [
      "UndefVarError: C1 not defined",
      "",
      "Stacktrace:",
      " [1] top-level scope at show.jl:641",
      " [2] include_string(::Function, ::Module, ::String, ::String) at ./loading.jl:1091"
     ]
    }
   ],
   "source": [
    "@show max(maximum(radius.(real(C1[:]))),maximum(radius.(imag(C1[:]))))"
   ]
  },
  {
   "cell_type": "markdown",
   "metadata": {},
   "source": [
    "``方法2``BLASを使う。int_num_linalg.jlの呼び出し。この方が早い。"
   ]
  },
  {
   "cell_type": "code",
   "execution_count": 35,
   "metadata": {},
   "outputs": [
    {
     "name": "stdout",
     "output_type": "stream",
     "text": [
      "  1.544966 seconds (4.56 M allocations: 217.837 MiB, 5.41% gc time)\n",
      "  0.245091 seconds (76.04 k allocations: 4.103 MiB)\n",
      "  0.250032 seconds (76.04 k allocations: 4.103 MiB)\n"
     ]
    }
   ],
   "source": [
    "using BenchmarkTools\n",
    "include(\"IntervalLinearAlgebra.jl\"); # int_mulを使用する\n",
    "# @time C1 = mm_comp_interval_alt(iA,iX);\n",
    "@time C = int_mul(A,X); # A, X: complex matrices (not interval)\n",
    "@time C = int_mul(A,X); # A, X: complex matrices (not interval)\n",
    "@time C = int_mul(A,X); # A, X: complex matrices (not interval)\n"
   ]
  },
  {
   "cell_type": "code",
   "execution_count": 36,
   "metadata": {},
   "outputs": [
    {
     "data": {
      "text/plain": [
       "9.06219543850284e-14"
      ]
     },
     "execution_count": 36,
     "metadata": {},
     "output_type": "execute_result"
    }
   ],
   "source": [
    "max(maximum(radius.(real(C[:]))),maximum(radius.(imag(C[:]))))"
   ]
  },
  {
   "cell_type": "code",
   "execution_count": 37,
   "metadata": {},
   "outputs": [
    {
     "data": {
      "text/plain": [
       "100×100 Array{Interval{Float64},2}:\n",
       "  [0.413219, 0.41322]      …  [-0.377246, -0.377245]\n",
       " [-0.236267, -0.236266]        [0.883578, 0.883579]\n",
       "  [0.962161, 0.962162]         [0.848392, 0.848393]\n",
       "  [1.44793, 1.44794]           [0.0564713, 0.0564714]\n",
       "  [0.580985, 0.580986]         [0.236414, 0.236415]\n",
       "  [1.52142, 1.52143]       …   [0.197597, 0.197598]\n",
       "  [0.398042, 0.398043]        [-0.34226, -0.342259]\n",
       " [-0.0960225, -0.0960224]      [0.507277, 0.507278]\n",
       "  [0.826119, 0.82612]         [-0.132372, -0.132371]\n",
       "  [0.498098, 0.498099]         [0.742582, 0.742583]\n",
       "  [1.09607, 1.09608]       …   [0.186042, 0.186043]\n",
       "  [2.18817, 2.18818]          [-0.92651, -0.926509]\n",
       " [-0.846837, -0.846836]       [-1.76943, -1.76942]\n",
       "   ⋮                       ⋱  \n",
       "  [0.145299, 0.1453]          [-1.12373, -1.12372]\n",
       "  [0.064123, 0.0641231]       [-1.43799, -1.43798]\n",
       "  [2.29821, 2.29822]       …  [-1.10589, -1.10588]\n",
       "  [0.0619498, 0.0619499]       [1.06525, 1.06526]\n",
       " [-0.94193, -0.941929]        [-1.057, -1.05699]\n",
       "  [0.270011, 0.270012]        [-0.998465, -0.998464]\n",
       "  [0.0130054, 0.0130055]      [-0.928706, -0.928705]\n",
       "  [0.897261, 0.897262]     …  [-0.459155, -0.459154]\n",
       " [-0.152473, -0.152472]        [0.857467, 0.857468]\n",
       " [-1.54234, -1.54233]         [-0.571203, -0.571202]\n",
       "  [2.60263, 2.60264]          [-0.742406, -0.742405]\n",
       " [-0.0990449, -0.0990448]     [-0.415998, -0.415997]"
      ]
     },
     "execution_count": 37,
     "metadata": {},
     "output_type": "execute_result"
    }
   ],
   "source": [
    "real(C)"
   ]
  },
  {
   "cell_type": "code",
   "execution_count": 38,
   "metadata": {},
   "outputs": [
    {
     "data": {
      "text/plain": [
       "100×100 Array{Interval{Float64},2}:\n",
       " [-2.22508e-308, 2.22508e-308]  …   [0.431481, 0.431482]\n",
       " [-2.22508e-308, 2.22508e-308]      [0.0630098, 0.0630099]\n",
       " [-2.22508e-308, 2.22508e-308]     [-0.1379, -0.137899]\n",
       " [-2.22508e-308, 2.22508e-308]     [-0.378657, -0.378656]\n",
       " [-2.22508e-308, 2.22508e-308]     [-0.428928, -0.428927]\n",
       " [-2.22508e-308, 2.22508e-308]  …   [0.25341, 0.253411]\n",
       " [-2.22508e-308, 2.22508e-308]     [-0.495698, -0.495697]\n",
       " [-2.22508e-308, 2.22508e-308]      [0.390378, 0.390379]\n",
       " [-2.22508e-308, 2.22508e-308]     [-0.264921, -0.26492]\n",
       " [-2.22508e-308, 2.22508e-308]      [0.0681821, 0.0681822]\n",
       " [-2.22508e-308, 2.22508e-308]  …   [0.822484, 0.822485]\n",
       " [-2.22508e-308, 2.22508e-308]     [-0.435454, -0.435453]\n",
       " [-2.22508e-308, 2.22508e-308]     [-0.294731, -0.29473]\n",
       "   ⋮                            ⋱  \n",
       " [-2.22508e-308, 2.22508e-308]     [-0.466275, -0.466274]\n",
       " [-2.22508e-308, 2.22508e-308]     [-0.96845, -0.968449]\n",
       " [-2.22508e-308, 2.22508e-308]  …  [-0.648026, -0.648025]\n",
       " [-2.22508e-308, 2.22508e-308]      [0.0383791, 0.0383792]\n",
       " [-2.22508e-308, 2.22508e-308]      [0.0158395, 0.0158396]\n",
       " [-2.22508e-308, 2.22508e-308]     [-0.594915, -0.594914]\n",
       " [-2.22508e-308, 2.22508e-308]     [-0.388213, -0.388212]\n",
       " [-2.22508e-308, 2.22508e-308]  …   [0.182891, 0.182892]\n",
       " [-2.22508e-308, 2.22508e-308]      [0.485479, 0.48548]\n",
       " [-2.22508e-308, 2.22508e-308]      [0.509119, 0.50912]\n",
       " [-2.22508e-308, 2.22508e-308]     [-1.02309, -1.02308]\n",
       " [-2.22508e-308, 2.22508e-308]     [-0.619218, -0.619217]"
      ]
     },
     "execution_count": 38,
     "metadata": {},
     "output_type": "execute_result"
    }
   ],
   "source": [
    "imag(C)"
   ]
  },
  {
   "cell_type": "markdown",
   "metadata": {},
   "source": [
    "#### (3 )区間連立1次方程式 $\\hat XG=C$ の解集合の包含 $G\\supset\\hat X^{-1}\\cdot C$ を求める。"
   ]
  },
  {
   "cell_type": "code",
   "execution_count": 39,
   "metadata": {},
   "outputs": [
    {
     "data": {
      "text/plain": [
       "verifylss_ib (generic function with 1 method)"
      ]
     },
     "execution_count": 39,
     "metadata": {},
     "output_type": "execute_result"
    }
   ],
   "source": [
    "function verifylss_ib(A,ib) # verify the solution element-wisely\n",
    "    b = mid.(real(ib)) + mid.(imag(ib))*im;\n",
    "    x̄ = A\\b;\n",
    "    n = length(x̄);\n",
    "    R = inv(A);\n",
    "    #########\n",
    "    #C_mid, C_rad = mm_ufp(R,A);\n",
    "    G = Matrix{Float64}(I, n, n) - int_mul(R,A);\n",
    "    α = opnorm(G,Inf)# Interval arithmetic\n",
    "    #########\n",
    "    if α < 1\n",
    "        x̄ = map(Interval,x̄);\n",
    "        r = A*x̄ - ib; # Interval arithmetic\n",
    "        Rr = R*r;\n",
    "        err = abs.(Rr) + supremum(norm(Rr,Inf))/(1-α)*(abs.(G)*ones(n)); # Interval arithmetic\n",
    "    else\n",
    "        println(\"Oh my way, verification is failed...\")\n",
    "        err = nan;\n",
    "    end\n",
    "    return x = (real(x̄) .± supremum.(err)) + im*(imag(x̄) .± supremum.(err))\n",
    "end"
   ]
  },
  {
   "cell_type": "code",
   "execution_count": 40,
   "metadata": {},
   "outputs": [
    {
     "data": {
      "text/plain": [
       "100×100 Array{Interval{Float64},2}:\n",
       " [-9.83499, -9.83498]         …  [-1.44844e-12, 1.45776e-12]\n",
       " [-1.7576e-12, 1.7786e-12]       [-1.78859e-12, 1.79101e-12]\n",
       " [-8.99157e-13, 9.08355e-13]     [-1.22096e-12, 1.21885e-12]\n",
       " [-8.99157e-13, 9.08355e-13]     [-1.20796e-12, 1.21971e-12]\n",
       " [-1.51671e-12, 1.51352e-12]     [-2.02983e-12, 2.07229e-12]\n",
       " [-1.51671e-12, 1.51352e-12]  …  [-2.0388e-12, 2.05143e-12]\n",
       " [-1.06274e-12, 1.06064e-12]     [-1.41332e-12, 1.42159e-12]\n",
       " [-1.06274e-12, 1.06064e-12]     [-1.41768e-12, 1.42279e-12]\n",
       " [-1.93226e-12, 1.94579e-12]     [-1.91049e-12, 1.92915e-12]\n",
       " [-2.6772e-12, 2.68309e-12]      [-3.63652e-12, 3.58424e-12]\n",
       " [-2.6772e-12, 2.68309e-12]   …  [-3.60439e-12, 3.60296e-12]\n",
       " [-2.8079e-12, 2.79455e-12]      [-3.74458e-12, 3.71888e-12]\n",
       " [-2.8079e-12, 2.79455e-12]      [-3.74103e-12, 3.7263e-12]\n",
       "   ⋮                          ⋱  \n",
       " [-8.54223e-13, 8.89763e-13]     [-1.16324e-12, 1.16167e-12]\n",
       " [-8.54223e-13, 8.89763e-13]     [-1.16209e-12, 1.16714e-12]\n",
       " [-2.3841e-12, 2.43621e-12]   …  [-3.21745e-12, 3.21966e-12]\n",
       " [-2.3841e-12, 2.43621e-12]      [-3.21892e-12, 3.20759e-12]\n",
       " [-1.64624e-12, 1.623e-12]       [-2.20937e-12, 2.17456e-12]\n",
       " [-1.64624e-12, 1.623e-12]       [-2.18498e-12, 2.18348e-12]\n",
       " [-2.12752e-12, 2.0807e-12]      [-2.84279e-12, 2.82815e-12]\n",
       " [-2.12752e-12, 2.0807e-12]   …  [-2.83581e-12, 2.8318e-12]\n",
       " [-1.32434e-12, 1.3331e-12]      [-1.75078e-12, 1.75529e-12]\n",
       " [-1.32434e-12, 1.3331e-12]      [-1.75427e-12, 1.7489e-12]\n",
       " [-1.01028e-12, 9.82983e-13]     [-1.31452e-12, 1.29082e-12]\n",
       " [-1.01028e-12, 9.82983e-13]     [10.4299, 10.43]"
      ]
     },
     "execution_count": 40,
     "metadata": {},
     "output_type": "execute_result"
    }
   ],
   "source": [
    "G = similar(C);\n",
    "for i = 1:n\n",
    "    G[:,i] = verifylss_ib(X,C[:,i]);\n",
    "end\n",
    "real(G)"
   ]
  },
  {
   "cell_type": "code",
   "execution_count": 41,
   "metadata": {},
   "outputs": [
    {
     "data": {
      "text/plain": [
       "2-element Array{Array{T,1} where T,1}:\n",
       " Interval{Float64}[[-9.83499, -9.83498], [-9.5592, -9.55919], [-9.41484, -9.41483], [-9.41484, -9.41483], [-7.81744, -7.81743], [-7.81744, -7.81743], [-7.48515, -7.48514], [-7.48515, -7.48514], [-7.42493, -7.42492], [-7.01692, -7.01691]  …  [7.35845, 7.35846], [7.35845, 7.35846], [7.62458, 7.62459], [7.62458, 7.62459], [8.09716, 8.09717], [8.09716, 8.09717], [9.03696, 9.03697], [9.03696, 9.03697], [10.4299, 10.43], [10.4299, 10.43]]\n",
       " Complex{Float64}[-9.83498272948757 + 0.0im, -9.559197240561314 + 0.0im, -9.41483622168295 - 2.2631663717093327im, -9.41483622168295 + 2.2631663717093327im, -7.817434027062765 - 4.345557679034078im, -7.817434027062765 + 4.345557679034078im, -7.485146084175337 - 6.084615298221373im, -7.485146084175337 + 6.084615298221373im, -7.424921791169996 + 0.0im, -7.016910529095613 - 2.771630821637285im  …  7.358456287179839 - 4.04207556305271im, 7.358456287179839 + 4.04207556305271im, 7.624583513411149 - 2.5923496604510987im, 7.624583513411149 + 2.5923496604510987im, 8.097169363046469 - 4.164869288500941im, 8.097169363046469 + 4.164869288500941im, 9.0369664362832 - 0.7794861173332691im, 9.0369664362832 + 0.7794861173332691im, 10.429948427878326 - 1.0667820787346685im, 10.429948427878326 + 1.0667820787346685im]"
      ]
     },
     "execution_count": 41,
     "metadata": {},
     "output_type": "execute_result"
    }
   ],
   "source": [
    "[real(diag(G)), λ]"
   ]
  },
  {
   "cell_type": "markdown",
   "metadata": {},
   "source": [
    "#### 4) $G\\in\\IC^{n\\times n}$ に対してゲルシュゴリンの定理を適用することを考える。"
   ]
  },
  {
   "cell_type": "markdown",
   "metadata": {},
   "source": [
    "\n",
    "## ゲルシュゴリンの包含定理\n",
    "行列 $A=(A_{ij})\\in \\C^{n\\times n}$ について、$A$ の全ての固有値 $\\lambda_i$ は、$\\bigcup_{1\\le i \\le n}  U_i$ の内部に存在する。\n",
    "\n",
    "$$\n",
    "A\\subseteq\\bigcup_{1\\le i \\le n}  U_i \n",
    "$$\n",
    "\n",
    "ただし、\n",
    "\n",
    "$$\n",
    "U_i = \\left\\{z\\in\\mathbb{C}:|z-a_{ii}|\\le \\sum_{j\\neq i}|a_{ij}|\\right\\}\n",
    "$$\n",
    "\n",
    "である。円盤領域 $U_i$ をゲルシュゴリン円板といい、$A$ が強い優対角性を持つとき、$A$ の対角成分が $A$ の固有値の良い近似となる。今回の場合、$G=(g_{ij})_{1\\le i,j\\le n}\\in\\IC^{n\\times n}$ の対角成分 $(g_{ii})_{1\\le i\\le n}$ を $(c_{i})_{1\\le i\\le n}\\in \\IC^{n}$ とし、各成分の半径を $\\mathrm{rad}(c_i)$ とすると、\n",
    "\n",
    "$$\n",
    "\\begin{array}{ll}\n",
    "\\mbox{ゲルシュゴリン円の中心:}&\\mathrm{mid}(c_i)\\\\\n",
    "\\mbox{ゲルシュゴリン円の半径:}&r_i=\\sum_{j\\neq i}\\rm{mag}(g_{ij})+\\rm{rad}(c_{i})\\\\\n",
    "\\end{array}\n",
    "$$\n",
    "\n",
    "となる。"
   ]
  },
  {
   "cell_type": "code",
   "execution_count": 42,
   "metadata": {},
   "outputs": [
    {
     "data": {
      "text/plain": [
       "mid (generic function with 7 methods)"
      ]
     },
     "execution_count": 42,
     "metadata": {},
     "output_type": "execute_result"
    }
   ],
   "source": [
    "import IntervalArithmetic: mag, radius, mid\n",
    "function mag(v::Complex{Interval{T}}) where T# mag function for complex interval vectors\n",
    "    abs_v = abs(v);\n",
    "    return max(abs_v.lo,abs_v.hi)\n",
    "end\n",
    "\n",
    "function radius(v::Complex{Interval{T}}) where T# mag function for complex interval vectors\n",
    "    return sqrt(interval(radius(real(v)))^2 + interval(radius(imag(v)))^2)\n",
    "end\n",
    "\n",
    "function mid(v::Complex{Interval{T}}) where T# mag function for complex interval vectors\n",
    "    return mid(real(v)) + mid(imag(v))*im\n",
    "end"
   ]
  },
  {
   "cell_type": "code",
   "execution_count": 43,
   "metadata": {},
   "outputs": [],
   "source": [
    "r = zeros(n);\n",
    "c = diag(G);\n",
    "# G_org = G;\n",
    "# for i ∈ 1:n\n",
    "#     G[i,i] = 0;\n",
    "# end\n",
    "for i = 1:n\n",
    "    for j = 1:n\n",
    "        if i != j\n",
    "            r[i] += mag(G[i,j]);\n",
    "        end\n",
    "    end\n",
    "    r[i] += mag(radius.(c[i]));\n",
    "end\n",
    "λc = mid.(c);"
   ]
  },
  {
   "cell_type": "code",
   "execution_count": 44,
   "metadata": {},
   "outputs": [
    {
     "data": {
      "text/plain": [
       "100×2 Array{Interval{Float64},2}:\n",
       " [-9.83499, -9.83498]  [-2.37834e-10, 2.37834e-10]\n",
       " [-9.5592, -9.55919]   [-2.91736e-10, 2.91736e-10]\n",
       " [-9.41484, -9.41483]  [-2.26317, -2.26316]\n",
       " [-9.41484, -9.41483]   [2.26316, 2.26317]\n",
       " [-7.81744, -7.81743]  [-4.34556, -4.34555]\n",
       " [-7.81744, -7.81743]   [4.34555, 4.34556]\n",
       " [-7.48515, -7.48514]  [-6.08462, -6.08461]\n",
       " [-7.48515, -7.48514]   [6.08461, 6.08462]\n",
       " [-7.42493, -7.42492]  [-3.11188e-10, 3.11188e-10]\n",
       " [-7.01692, -7.01691]  [-2.77164, -2.77163]\n",
       " [-7.01692, -7.01691]   [2.77163, 2.77164]\n",
       " [-6.71611, -6.7161]   [-2.21813, -2.21812]\n",
       " [-6.71611, -6.7161]    [2.21812, 2.21813]\n",
       "   ⋮                   \n",
       "  [6.8846, 6.88461]    [-6.57518, -6.57517]\n",
       "  [6.8846, 6.88461]     [6.57517, 6.57518]\n",
       "  [7.35845, 7.35846]   [-4.04208, -4.04207]\n",
       "  [7.35845, 7.35846]    [4.04207, 4.04208]\n",
       "  [7.62458, 7.62459]   [-2.59235, -2.59234]\n",
       "  [7.62458, 7.62459]    [2.59234, 2.59235]\n",
       "  [8.09716, 8.09717]   [-4.16487, -4.16486]\n",
       "  [8.09716, 8.09717]    [4.16486, 4.16487]\n",
       "  [9.03696, 9.03697]   [-0.779487, -0.779486]\n",
       "  [9.03696, 9.03697]    [0.779486, 0.779487]\n",
       " [10.4299, 10.43]      [-1.06679, -1.06678]\n",
       " [10.4299, 10.43]       [1.06678, 1.06679]"
      ]
     },
     "execution_count": 44,
     "metadata": {},
     "output_type": "execute_result"
    }
   ],
   "source": [
    "iλ = (real(λc) .± r) + im*(imag(λc) .± r);\n",
    "[real(iλ) imag(iλ)]"
   ]
  },
  {
   "cell_type": "code",
   "execution_count": 45,
   "metadata": {},
   "outputs": [
    {
     "data": {
      "text/plain": [
       "100"
      ]
     },
     "execution_count": 45,
     "metadata": {},
     "output_type": "execute_result"
    }
   ],
   "source": [
    "sum(λ .∈ iλ)"
   ]
  },
  {
   "cell_type": "code",
   "execution_count": 46,
   "metadata": {},
   "outputs": [],
   "source": [
    "r = sup.(radius.(iλ));"
   ]
  },
  {
   "cell_type": "code",
   "execution_count": 47,
   "metadata": {},
   "outputs": [
    {
     "data": {
      "text/plain": [
       "100-element Array{Float64,1}:\n",
       " 3.363480957928052e-10\n",
       " 4.125754129556296e-10\n",
       " 2.8475887671440023e-10\n",
       " 2.847378374763197e-10\n",
       " 4.753699853088684e-10\n",
       " 4.752726395768449e-10\n",
       " 3.3158782635002123e-10\n",
       " 3.31366757331839e-10\n",
       " 4.400857381816067e-10\n",
       " 8.336107591814946e-10\n",
       " 8.336584899922386e-10\n",
       " 8.713202977988535e-10\n",
       " 8.710213521947201e-10\n",
       " ⋮\n",
       " 2.707787734623157e-10\n",
       " 2.707404632055955e-10\n",
       " 7.500476123641222e-10\n",
       " 7.50018094625636e-10\n",
       " 5.100021427071365e-10\n",
       " 5.099606922662274e-10\n",
       " 6.624747634264873e-10\n",
       " 6.624753914625777e-10\n",
       " 4.0847077928803334e-10\n",
       " 4.084891493711276e-10\n",
       " 3.026675083086962e-10\n",
       " 3.0266923541426953e-10"
      ]
     },
     "execution_count": 47,
     "metadata": {},
     "output_type": "execute_result"
    }
   ],
   "source": [
    "r"
   ]
  },
  {
   "cell_type": "markdown",
   "metadata": {},
   "source": [
    "i=1の場合についてプロットした結果を以下に示す。"
   ]
  },
  {
   "cell_type": "code",
   "execution_count": 48,
   "metadata": {},
   "outputs": [],
   "source": [
    "using Plots"
   ]
  },
  {
   "cell_type": "markdown",
   "metadata": {},
   "source": [
    "WARNING: using Plots.center in module Main conflicts with an existing identifier."
   ]
  },
  {
   "cell_type": "code",
   "execution_count": 59,
   "metadata": {},
   "outputs": [
    {
     "data": {
      "image/svg+xml": [
       "<?xml version=\"1.0\" encoding=\"utf-8\"?>\n",
       "<svg xmlns=\"http://www.w3.org/2000/svg\" xmlns:xlink=\"http://www.w3.org/1999/xlink\" width=\"600\" height=\"400\" viewBox=\"0 0 2400 1600\">\n",
       "<defs>\n",
       "  <clipPath id=\"clip170\">\n",
       "    <rect x=\"0\" y=\"0\" width=\"2400\" height=\"1600\"/>\n",
       "  </clipPath>\n",
       "</defs>\n",
       "<path clip-path=\"url(#clip170)\" d=\"\n",
       "M0 1600 L2400 1600 L2400 0 L0 0  Z\n",
       "  \" fill=\"#ffffff\" fill-rule=\"evenodd\" fill-opacity=\"1\"/>\n",
       "<defs>\n",
       "  <clipPath id=\"clip171\">\n",
       "    <rect x=\"480\" y=\"0\" width=\"1681\" height=\"1600\"/>\n",
       "  </clipPath>\n",
       "</defs>\n",
       "<path clip-path=\"url(#clip170)\" d=\"\n",
       "M169.469 1486.45 L2352.76 1486.45 L2352.76 47.2441 L169.469 47.2441  Z\n",
       "  \" fill=\"#ffffff\" fill-rule=\"evenodd\" fill-opacity=\"1\"/>\n",
       "<defs>\n",
       "  <clipPath id=\"clip172\">\n",
       "    <rect x=\"169\" y=\"47\" width=\"2184\" height=\"1440\"/>\n",
       "  </clipPath>\n",
       "</defs>\n",
       "<polyline clip-path=\"url(#clip172)\" style=\"stroke:#000000; stroke-width:2; stroke-opacity:0.1; fill:none\" points=\"\n",
       "  214.488,1486.45 214.488,47.2441 \n",
       "  \"/>\n",
       "<polyline clip-path=\"url(#clip172)\" style=\"stroke:#000000; stroke-width:2; stroke-opacity:0.1; fill:none\" points=\"\n",
       "  722.682,1486.45 722.682,47.2441 \n",
       "  \"/>\n",
       "<polyline clip-path=\"url(#clip172)\" style=\"stroke:#000000; stroke-width:2; stroke-opacity:0.1; fill:none\" points=\"\n",
       "  1230.88,1486.45 1230.88,47.2441 \n",
       "  \"/>\n",
       "<polyline clip-path=\"url(#clip172)\" style=\"stroke:#000000; stroke-width:2; stroke-opacity:0.1; fill:none\" points=\"\n",
       "  1739.07,1486.45 1739.07,47.2441 \n",
       "  \"/>\n",
       "<polyline clip-path=\"url(#clip172)\" style=\"stroke:#000000; stroke-width:2; stroke-opacity:0.1; fill:none\" points=\"\n",
       "  2247.27,1486.45 2247.27,47.2441 \n",
       "  \"/>\n",
       "<polyline clip-path=\"url(#clip170)\" style=\"stroke:#000000; stroke-width:4; stroke-opacity:1; fill:none\" points=\"\n",
       "  169.469,1486.45 2352.76,1486.45 \n",
       "  \"/>\n",
       "<polyline clip-path=\"url(#clip170)\" style=\"stroke:#000000; stroke-width:4; stroke-opacity:1; fill:none\" points=\"\n",
       "  214.488,1486.45 214.488,1469.18 \n",
       "  \"/>\n",
       "<polyline clip-path=\"url(#clip170)\" style=\"stroke:#000000; stroke-width:4; stroke-opacity:1; fill:none\" points=\"\n",
       "  722.682,1486.45 722.682,1469.18 \n",
       "  \"/>\n",
       "<polyline clip-path=\"url(#clip170)\" style=\"stroke:#000000; stroke-width:4; stroke-opacity:1; fill:none\" points=\"\n",
       "  1230.88,1486.45 1230.88,1469.18 \n",
       "  \"/>\n",
       "<polyline clip-path=\"url(#clip170)\" style=\"stroke:#000000; stroke-width:4; stroke-opacity:1; fill:none\" points=\"\n",
       "  1739.07,1486.45 1739.07,1469.18 \n",
       "  \"/>\n",
       "<polyline clip-path=\"url(#clip170)\" style=\"stroke:#000000; stroke-width:4; stroke-opacity:1; fill:none\" points=\"\n",
       "  2247.27,1486.45 2247.27,1469.18 \n",
       "  \"/>\n",
       "<path clip-path=\"url(#clip170)\" d=\"M 0 0 M173.249 1530.29 L202.925 1530.29 L202.925 1534.23 L173.249 1534.23 L173.249 1530.29 Z\" fill=\"#000000\" fill-rule=\"evenodd\" fill-opacity=\"1\" /><path clip-path=\"url(#clip170)\" d=\"M 0 0 M208.805 1543.18 L216.444 1543.18 L216.444 1516.82 L208.133 1518.49 L208.133 1514.23 L216.397 1512.56 L221.073 1512.56 L221.073 1543.18 L228.712 1543.18 L228.712 1547.12 L208.805 1547.12 L208.805 1543.18 Z\" fill=\"#000000\" fill-rule=\"evenodd\" fill-opacity=\"1\" /><path clip-path=\"url(#clip170)\" d=\"M 0 0 M243.781 1515.64 Q240.17 1515.64 238.342 1519.2 Q236.536 1522.75 236.536 1529.87 Q236.536 1536.98 238.342 1540.55 Q240.17 1544.09 243.781 1544.09 Q247.416 1544.09 249.221 1540.55 Q251.05 1536.98 251.05 1529.87 Q251.05 1522.75 249.221 1519.2 Q247.416 1515.64 243.781 1515.64 M243.781 1511.93 Q249.591 1511.93 252.647 1516.54 Q255.726 1521.12 255.726 1529.87 Q255.726 1538.6 252.647 1543.21 Q249.591 1547.79 243.781 1547.79 Q237.971 1547.79 234.892 1543.21 Q231.837 1538.6 231.837 1529.87 Q231.837 1521.12 234.892 1516.54 Q237.971 1511.93 243.781 1511.93 Z\" fill=\"#000000\" fill-rule=\"evenodd\" fill-opacity=\"1\" /><path clip-path=\"url(#clip170)\" d=\"M 0 0 M694.835 1530.29 L724.511 1530.29 L724.511 1534.23 L694.835 1534.23 L694.835 1530.29 Z\" fill=\"#000000\" fill-rule=\"evenodd\" fill-opacity=\"1\" /><path clip-path=\"url(#clip170)\" d=\"M 0 0 M729.626 1512.56 L747.983 1512.56 L747.983 1516.5 L733.909 1516.5 L733.909 1524.97 Q734.927 1524.62 735.946 1524.46 Q736.964 1524.27 737.983 1524.27 Q743.77 1524.27 747.149 1527.44 Q750.529 1530.62 750.529 1536.03 Q750.529 1541.61 747.057 1544.71 Q743.585 1547.79 737.265 1547.79 Q735.089 1547.79 732.821 1547.42 Q730.575 1547.05 728.168 1546.31 L728.168 1541.61 Q730.251 1542.74 732.474 1543.3 Q734.696 1543.86 737.173 1543.86 Q741.177 1543.86 743.515 1541.75 Q745.853 1539.64 745.853 1536.03 Q745.853 1532.42 743.515 1530.31 Q741.177 1528.21 737.173 1528.21 Q735.298 1528.21 733.423 1528.62 Q731.571 1529.04 729.626 1529.92 L729.626 1512.56 Z\" fill=\"#000000\" fill-rule=\"evenodd\" fill-opacity=\"1\" /><path clip-path=\"url(#clip170)\" d=\"M 0 0 M1230.88 1515.64 Q1227.27 1515.64 1225.44 1519.2 Q1223.63 1522.75 1223.63 1529.87 Q1223.63 1536.98 1225.44 1540.55 Q1227.27 1544.09 1230.88 1544.09 Q1234.51 1544.09 1236.32 1540.55 Q1238.14 1536.98 1238.14 1529.87 Q1238.14 1522.75 1236.32 1519.2 Q1234.51 1515.64 1230.88 1515.64 M1230.88 1511.93 Q1236.69 1511.93 1239.74 1516.54 Q1242.82 1521.12 1242.82 1529.87 Q1242.82 1538.6 1239.74 1543.21 Q1236.69 1547.79 1230.88 1547.79 Q1225.07 1547.79 1221.99 1543.21 Q1218.93 1538.6 1218.93 1529.87 Q1218.93 1521.12 1221.99 1516.54 Q1225.07 1511.93 1230.88 1511.93 Z\" fill=\"#000000\" fill-rule=\"evenodd\" fill-opacity=\"1\" /><path clip-path=\"url(#clip170)\" d=\"M 0 0 M1729.35 1512.56 L1747.71 1512.56 L1747.71 1516.5 L1733.63 1516.5 L1733.63 1524.97 Q1734.65 1524.62 1735.67 1524.46 Q1736.69 1524.27 1737.71 1524.27 Q1743.49 1524.27 1746.87 1527.44 Q1750.25 1530.62 1750.25 1536.03 Q1750.25 1541.61 1746.78 1544.71 Q1743.31 1547.79 1736.99 1547.79 Q1734.81 1547.79 1732.54 1547.42 Q1730.3 1547.05 1727.89 1546.31 L1727.89 1541.61 Q1729.97 1542.74 1732.2 1543.3 Q1734.42 1543.86 1736.89 1543.86 Q1740.9 1543.86 1743.24 1541.75 Q1745.58 1539.64 1745.58 1536.03 Q1745.58 1532.42 1743.24 1530.31 Q1740.9 1528.21 1736.89 1528.21 Q1735.02 1528.21 1733.14 1528.62 Q1731.29 1529.04 1729.35 1529.92 L1729.35 1512.56 Z\" fill=\"#000000\" fill-rule=\"evenodd\" fill-opacity=\"1\" /><path clip-path=\"url(#clip170)\" d=\"M 0 0 M2224.14 1543.18 L2231.78 1543.18 L2231.78 1516.82 L2223.47 1518.49 L2223.47 1514.23 L2231.73 1512.56 L2236.41 1512.56 L2236.41 1543.18 L2244.05 1543.18 L2244.05 1547.12 L2224.14 1547.12 L2224.14 1543.18 Z\" fill=\"#000000\" fill-rule=\"evenodd\" fill-opacity=\"1\" /><path clip-path=\"url(#clip170)\" d=\"M 0 0 M2259.12 1515.64 Q2255.51 1515.64 2253.68 1519.2 Q2251.87 1522.75 2251.87 1529.87 Q2251.87 1536.98 2253.68 1540.55 Q2255.51 1544.09 2259.12 1544.09 Q2262.75 1544.09 2264.56 1540.55 Q2266.39 1536.98 2266.39 1529.87 Q2266.39 1522.75 2264.56 1519.2 Q2262.75 1515.64 2259.12 1515.64 M2259.12 1511.93 Q2264.93 1511.93 2267.98 1516.54 Q2271.06 1521.12 2271.06 1529.87 Q2271.06 1538.6 2267.98 1543.21 Q2264.93 1547.79 2259.12 1547.79 Q2253.31 1547.79 2250.23 1543.21 Q2247.17 1538.6 2247.17 1529.87 Q2247.17 1521.12 2250.23 1516.54 Q2253.31 1511.93 2259.12 1511.93 Z\" fill=\"#000000\" fill-rule=\"evenodd\" fill-opacity=\"1\" /><polyline clip-path=\"url(#clip172)\" style=\"stroke:#000000; stroke-width:2; stroke-opacity:0.1; fill:none\" points=\"\n",
       "  169.469,1469.34 2352.76,1469.34 \n",
       "  \"/>\n",
       "<polyline clip-path=\"url(#clip172)\" style=\"stroke:#000000; stroke-width:2; stroke-opacity:0.1; fill:none\" points=\"\n",
       "  169.469,1118.09 2352.76,1118.09 \n",
       "  \"/>\n",
       "<polyline clip-path=\"url(#clip172)\" style=\"stroke:#000000; stroke-width:2; stroke-opacity:0.1; fill:none\" points=\"\n",
       "  169.469,766.846 2352.76,766.846 \n",
       "  \"/>\n",
       "<polyline clip-path=\"url(#clip172)\" style=\"stroke:#000000; stroke-width:2; stroke-opacity:0.1; fill:none\" points=\"\n",
       "  169.469,415.598 2352.76,415.598 \n",
       "  \"/>\n",
       "<polyline clip-path=\"url(#clip172)\" style=\"stroke:#000000; stroke-width:2; stroke-opacity:0.1; fill:none\" points=\"\n",
       "  169.469,64.3493 2352.76,64.3493 \n",
       "  \"/>\n",
       "<polyline clip-path=\"url(#clip170)\" style=\"stroke:#000000; stroke-width:4; stroke-opacity:1; fill:none\" points=\"\n",
       "  169.469,1486.45 169.469,47.2441 \n",
       "  \"/>\n",
       "<polyline clip-path=\"url(#clip170)\" style=\"stroke:#000000; stroke-width:4; stroke-opacity:1; fill:none\" points=\"\n",
       "  169.469,1469.34 195.668,1469.34 \n",
       "  \"/>\n",
       "<polyline clip-path=\"url(#clip170)\" style=\"stroke:#000000; stroke-width:4; stroke-opacity:1; fill:none\" points=\"\n",
       "  169.469,1118.09 195.668,1118.09 \n",
       "  \"/>\n",
       "<polyline clip-path=\"url(#clip170)\" style=\"stroke:#000000; stroke-width:4; stroke-opacity:1; fill:none\" points=\"\n",
       "  169.469,766.846 195.668,766.846 \n",
       "  \"/>\n",
       "<polyline clip-path=\"url(#clip170)\" style=\"stroke:#000000; stroke-width:4; stroke-opacity:1; fill:none\" points=\"\n",
       "  169.469,415.598 195.668,415.598 \n",
       "  \"/>\n",
       "<polyline clip-path=\"url(#clip170)\" style=\"stroke:#000000; stroke-width:4; stroke-opacity:1; fill:none\" points=\"\n",
       "  169.469,64.3493 195.668,64.3493 \n",
       "  \"/>\n",
       "<path clip-path=\"url(#clip170)\" d=\"M 0 0 M50.9921 1469.79 L80.6679 1469.79 L80.6679 1473.73 L50.9921 1473.73 L50.9921 1469.79 Z\" fill=\"#000000\" fill-rule=\"evenodd\" fill-opacity=\"1\" /><path clip-path=\"url(#clip170)\" d=\"M 0 0 M86.5475 1482.69 L94.1863 1482.69 L94.1863 1456.32 L85.8762 1457.99 L85.8762 1453.73 L94.14 1452.06 L98.8159 1452.06 L98.8159 1482.69 L106.455 1482.69 L106.455 1486.62 L86.5475 1486.62 L86.5475 1482.69 Z\" fill=\"#000000\" fill-rule=\"evenodd\" fill-opacity=\"1\" /><path clip-path=\"url(#clip170)\" d=\"M 0 0 M121.524 1455.14 Q117.913 1455.14 116.084 1458.71 Q114.279 1462.25 114.279 1469.38 Q114.279 1476.48 116.084 1480.05 Q117.913 1483.59 121.524 1483.59 Q125.158 1483.59 126.964 1480.05 Q128.793 1476.48 128.793 1469.38 Q128.793 1462.25 126.964 1458.71 Q125.158 1455.14 121.524 1455.14 M121.524 1451.44 Q127.334 1451.44 130.39 1456.04 Q133.469 1460.63 133.469 1469.38 Q133.469 1478.1 130.39 1482.71 Q127.334 1487.29 121.524 1487.29 Q115.714 1487.29 112.635 1482.71 Q109.58 1478.1 109.58 1469.38 Q109.58 1460.63 112.635 1456.04 Q115.714 1451.44 121.524 1451.44 Z\" fill=\"#000000\" fill-rule=\"evenodd\" fill-opacity=\"1\" /><path clip-path=\"url(#clip170)\" d=\"M 0 0 M77.7744 1118.55 L107.45 1118.55 L107.45 1122.48 L77.7744 1122.48 L77.7744 1118.55 Z\" fill=\"#000000\" fill-rule=\"evenodd\" fill-opacity=\"1\" /><path clip-path=\"url(#clip170)\" d=\"M 0 0 M112.566 1100.81 L130.922 1100.81 L130.922 1104.75 L116.848 1104.75 L116.848 1113.22 Q117.867 1112.87 118.885 1112.71 Q119.904 1112.53 120.922 1112.53 Q126.709 1112.53 130.089 1115.7 Q133.469 1118.87 133.469 1124.29 Q133.469 1129.87 129.996 1132.97 Q126.524 1136.05 120.205 1136.05 Q118.029 1136.05 115.76 1135.68 Q113.515 1135.3 111.108 1134.56 L111.108 1129.87 Q113.191 1131 115.413 1131.55 Q117.635 1132.11 120.112 1132.11 Q124.117 1132.11 126.455 1130 Q128.793 1127.9 128.793 1124.29 Q128.793 1120.68 126.455 1118.57 Q124.117 1116.46 120.112 1116.46 Q118.237 1116.46 116.362 1116.88 Q114.51 1117.3 112.566 1118.18 L112.566 1100.81 Z\" fill=\"#000000\" fill-rule=\"evenodd\" fill-opacity=\"1\" /><path clip-path=\"url(#clip170)\" d=\"M 0 0 M121.524 752.645 Q117.913 752.645 116.084 756.209 Q114.279 759.751 114.279 766.881 Q114.279 773.987 116.084 777.552 Q117.913 781.094 121.524 781.094 Q125.158 781.094 126.964 777.552 Q128.793 773.987 128.793 766.881 Q128.793 759.751 126.964 756.209 Q125.158 752.645 121.524 752.645 M121.524 748.941 Q127.334 748.941 130.39 753.547 Q133.469 758.131 133.469 766.881 Q133.469 775.608 130.39 780.214 Q127.334 784.797 121.524 784.797 Q115.714 784.797 112.635 780.214 Q109.58 775.608 109.58 766.881 Q109.58 758.131 112.635 753.547 Q115.714 748.941 121.524 748.941 Z\" fill=\"#000000\" fill-rule=\"evenodd\" fill-opacity=\"1\" /><path clip-path=\"url(#clip170)\" d=\"M 0 0 M112.566 398.318 L130.922 398.318 L130.922 402.253 L116.848 402.253 L116.848 410.725 Q117.867 410.378 118.885 410.216 Q119.904 410.031 120.922 410.031 Q126.709 410.031 130.089 413.202 Q133.469 416.373 133.469 421.79 Q133.469 427.368 129.996 430.47 Q126.524 433.549 120.205 433.549 Q118.029 433.549 115.76 433.179 Q113.515 432.808 111.108 432.067 L111.108 427.368 Q113.191 428.503 115.413 429.058 Q117.635 429.614 120.112 429.614 Q124.117 429.614 126.455 427.507 Q128.793 425.401 128.793 421.79 Q128.793 418.179 126.455 416.072 Q124.117 413.966 120.112 413.966 Q118.237 413.966 116.362 414.382 Q114.51 414.799 112.566 415.679 L112.566 398.318 Z\" fill=\"#000000\" fill-rule=\"evenodd\" fill-opacity=\"1\" /><path clip-path=\"url(#clip170)\" d=\"M 0 0 M86.5475 77.6941 L94.1863 77.6941 L94.1863 51.3285 L85.8762 52.9952 L85.8762 48.7359 L94.14 47.0693 L98.8159 47.0693 L98.8159 77.6941 L106.455 77.6941 L106.455 81.6293 L86.5475 81.6293 L86.5475 77.6941 Z\" fill=\"#000000\" fill-rule=\"evenodd\" fill-opacity=\"1\" /><path clip-path=\"url(#clip170)\" d=\"M 0 0 M121.524 50.1479 Q117.913 50.1479 116.084 53.7127 Q114.279 57.2544 114.279 64.384 Q114.279 71.4904 116.084 75.0552 Q117.913 78.5969 121.524 78.5969 Q125.158 78.5969 126.964 75.0552 Q128.793 71.4904 128.793 64.384 Q128.793 57.2544 126.964 53.7127 Q125.158 50.1479 121.524 50.1479 M121.524 46.4443 Q127.334 46.4443 130.39 51.0507 Q133.469 55.634 133.469 64.384 Q133.469 73.1108 130.39 77.7172 Q127.334 82.3006 121.524 82.3006 Q115.714 82.3006 112.635 77.7172 Q109.58 73.1108 109.58 64.384 Q109.58 55.634 112.635 51.0507 Q115.714 46.4443 121.524 46.4443 Z\" fill=\"#000000\" fill-rule=\"evenodd\" fill-opacity=\"1\" /><circle clip-path=\"url(#clip172)\" cx=\"231.26\" cy=\"766.846\" r=\"14\" fill=\"#009af9\" fill-rule=\"evenodd\" fill-opacity=\"1\" stroke=\"#000000\" stroke-opacity=\"1\" stroke-width=\"3.2\"/>\n",
       "<circle clip-path=\"url(#clip172)\" cx=\"259.29\" cy=\"766.846\" r=\"14\" fill=\"#009af9\" fill-rule=\"evenodd\" fill-opacity=\"1\" stroke=\"#000000\" stroke-opacity=\"1\" stroke-width=\"3.2\"/>\n",
       "<circle clip-path=\"url(#clip172)\" cx=\"273.963\" cy=\"925.833\" r=\"14\" fill=\"#009af9\" fill-rule=\"evenodd\" fill-opacity=\"1\" stroke=\"#000000\" stroke-opacity=\"1\" stroke-width=\"3.2\"/>\n",
       "<circle clip-path=\"url(#clip172)\" cx=\"273.963\" cy=\"607.859\" r=\"14\" fill=\"#009af9\" fill-rule=\"evenodd\" fill-opacity=\"1\" stroke=\"#000000\" stroke-opacity=\"1\" stroke-width=\"3.2\"/>\n",
       "<circle clip-path=\"url(#clip172)\" cx=\"436.321\" cy=\"1072.12\" r=\"14\" fill=\"#009af9\" fill-rule=\"evenodd\" fill-opacity=\"1\" stroke=\"#000000\" stroke-opacity=\"1\" stroke-width=\"3.2\"/>\n",
       "<circle clip-path=\"url(#clip172)\" cx=\"436.321\" cy=\"461.572\" r=\"14\" fill=\"#009af9\" fill-rule=\"evenodd\" fill-opacity=\"1\" stroke=\"#000000\" stroke-opacity=\"1\" stroke-width=\"3.2\"/>\n",
       "<circle clip-path=\"url(#clip172)\" cx=\"470.094\" cy=\"1194.29\" r=\"14\" fill=\"#009af9\" fill-rule=\"evenodd\" fill-opacity=\"1\" stroke=\"#000000\" stroke-opacity=\"1\" stroke-width=\"3.2\"/>\n",
       "<circle clip-path=\"url(#clip172)\" cx=\"470.094\" cy=\"339.404\" r=\"14\" fill=\"#009af9\" fill-rule=\"evenodd\" fill-opacity=\"1\" stroke=\"#000000\" stroke-opacity=\"1\" stroke-width=\"3.2\"/>\n",
       "<circle clip-path=\"url(#clip172)\" cx=\"476.216\" cy=\"766.846\" r=\"14\" fill=\"#009af9\" fill-rule=\"evenodd\" fill-opacity=\"1\" stroke=\"#000000\" stroke-opacity=\"1\" stroke-width=\"3.2\"/>\n",
       "<circle clip-path=\"url(#clip172)\" cx=\"517.685\" cy=\"961.552\" r=\"14\" fill=\"#009af9\" fill-rule=\"evenodd\" fill-opacity=\"1\" stroke=\"#000000\" stroke-opacity=\"1\" stroke-width=\"3.2\"/>\n",
       "<circle clip-path=\"url(#clip172)\" cx=\"517.685\" cy=\"572.14\" r=\"14\" fill=\"#009af9\" fill-rule=\"evenodd\" fill-opacity=\"1\" stroke=\"#000000\" stroke-opacity=\"1\" stroke-width=\"3.2\"/>\n",
       "<circle clip-path=\"url(#clip172)\" cx=\"548.259\" cy=\"922.668\" r=\"14\" fill=\"#009af9\" fill-rule=\"evenodd\" fill-opacity=\"1\" stroke=\"#000000\" stroke-opacity=\"1\" stroke-width=\"3.2\"/>\n",
       "<circle clip-path=\"url(#clip172)\" cx=\"548.259\" cy=\"611.024\" r=\"14\" fill=\"#009af9\" fill-rule=\"evenodd\" fill-opacity=\"1\" stroke=\"#000000\" stroke-opacity=\"1\" stroke-width=\"3.2\"/>\n",
       "<circle clip-path=\"url(#clip172)\" cx=\"564.657\" cy=\"766.846\" r=\"14\" fill=\"#009af9\" fill-rule=\"evenodd\" fill-opacity=\"1\" stroke=\"#000000\" stroke-opacity=\"1\" stroke-width=\"3.2\"/>\n",
       "<circle clip-path=\"url(#clip172)\" cx=\"600.641\" cy=\"1214.42\" r=\"14\" fill=\"#009af9\" fill-rule=\"evenodd\" fill-opacity=\"1\" stroke=\"#000000\" stroke-opacity=\"1\" stroke-width=\"3.2\"/>\n",
       "<circle clip-path=\"url(#clip172)\" cx=\"600.641\" cy=\"319.271\" r=\"14\" fill=\"#009af9\" fill-rule=\"evenodd\" fill-opacity=\"1\" stroke=\"#000000\" stroke-opacity=\"1\" stroke-width=\"3.2\"/>\n",
       "<circle clip-path=\"url(#clip172)\" cx=\"681.652\" cy=\"1314.22\" r=\"14\" fill=\"#009af9\" fill-rule=\"evenodd\" fill-opacity=\"1\" stroke=\"#000000\" stroke-opacity=\"1\" stroke-width=\"3.2\"/>\n",
       "<circle clip-path=\"url(#clip172)\" cx=\"681.652\" cy=\"219.476\" r=\"14\" fill=\"#009af9\" fill-rule=\"evenodd\" fill-opacity=\"1\" stroke=\"#000000\" stroke-opacity=\"1\" stroke-width=\"3.2\"/>\n",
       "<circle clip-path=\"url(#clip172)\" cx=\"693.598\" cy=\"982.687\" r=\"14\" fill=\"#009af9\" fill-rule=\"evenodd\" fill-opacity=\"1\" stroke=\"#000000\" stroke-opacity=\"1\" stroke-width=\"3.2\"/>\n",
       "<circle clip-path=\"url(#clip172)\" cx=\"693.598\" cy=\"551.005\" r=\"14\" fill=\"#009af9\" fill-rule=\"evenodd\" fill-opacity=\"1\" stroke=\"#000000\" stroke-opacity=\"1\" stroke-width=\"3.2\"/>\n",
       "<circle clip-path=\"url(#clip172)\" cx=\"699.411\" cy=\"856.273\" r=\"14\" fill=\"#009af9\" fill-rule=\"evenodd\" fill-opacity=\"1\" stroke=\"#000000\" stroke-opacity=\"1\" stroke-width=\"3.2\"/>\n",
       "<circle clip-path=\"url(#clip172)\" cx=\"699.411\" cy=\"677.419\" r=\"14\" fill=\"#009af9\" fill-rule=\"evenodd\" fill-opacity=\"1\" stroke=\"#000000\" stroke-opacity=\"1\" stroke-width=\"3.2\"/>\n",
       "<circle clip-path=\"url(#clip172)\" cx=\"739.878\" cy=\"1047.75\" r=\"14\" fill=\"#009af9\" fill-rule=\"evenodd\" fill-opacity=\"1\" stroke=\"#000000\" stroke-opacity=\"1\" stroke-width=\"3.2\"/>\n",
       "<circle clip-path=\"url(#clip172)\" cx=\"739.878\" cy=\"485.941\" r=\"14\" fill=\"#009af9\" fill-rule=\"evenodd\" fill-opacity=\"1\" stroke=\"#000000\" stroke-opacity=\"1\" stroke-width=\"3.2\"/>\n",
       "<circle clip-path=\"url(#clip172)\" cx=\"821.001\" cy=\"1248.31\" r=\"14\" fill=\"#009af9\" fill-rule=\"evenodd\" fill-opacity=\"1\" stroke=\"#000000\" stroke-opacity=\"1\" stroke-width=\"3.2\"/>\n",
       "<circle clip-path=\"url(#clip172)\" cx=\"821.001\" cy=\"285.38\" r=\"14\" fill=\"#009af9\" fill-rule=\"evenodd\" fill-opacity=\"1\" stroke=\"#000000\" stroke-opacity=\"1\" stroke-width=\"3.2\"/>\n",
       "<circle clip-path=\"url(#clip172)\" cx=\"829.686\" cy=\"1376.73\" r=\"14\" fill=\"#009af9\" fill-rule=\"evenodd\" fill-opacity=\"1\" stroke=\"#000000\" stroke-opacity=\"1\" stroke-width=\"3.2\"/>\n",
       "<circle clip-path=\"url(#clip172)\" cx=\"829.686\" cy=\"156.96\" r=\"14\" fill=\"#009af9\" fill-rule=\"evenodd\" fill-opacity=\"1\" stroke=\"#000000\" stroke-opacity=\"1\" stroke-width=\"3.2\"/>\n",
       "<circle clip-path=\"url(#clip172)\" cx=\"851.453\" cy=\"1041.84\" r=\"14\" fill=\"#009af9\" fill-rule=\"evenodd\" fill-opacity=\"1\" stroke=\"#000000\" stroke-opacity=\"1\" stroke-width=\"3.2\"/>\n",
       "<circle clip-path=\"url(#clip172)\" cx=\"851.453\" cy=\"491.852\" r=\"14\" fill=\"#009af9\" fill-rule=\"evenodd\" fill-opacity=\"1\" stroke=\"#000000\" stroke-opacity=\"1\" stroke-width=\"3.2\"/>\n",
       "<circle clip-path=\"url(#clip172)\" cx=\"860.968\" cy=\"1019.55\" r=\"14\" fill=\"#009af9\" fill-rule=\"evenodd\" fill-opacity=\"1\" stroke=\"#000000\" stroke-opacity=\"1\" stroke-width=\"3.2\"/>\n",
       "<circle clip-path=\"url(#clip172)\" cx=\"860.968\" cy=\"514.145\" r=\"14\" fill=\"#009af9\" fill-rule=\"evenodd\" fill-opacity=\"1\" stroke=\"#000000\" stroke-opacity=\"1\" stroke-width=\"3.2\"/>\n",
       "<circle clip-path=\"url(#clip172)\" cx=\"877.254\" cy=\"1128.41\" r=\"14\" fill=\"#009af9\" fill-rule=\"evenodd\" fill-opacity=\"1\" stroke=\"#000000\" stroke-opacity=\"1\" stroke-width=\"3.2\"/>\n",
       "<circle clip-path=\"url(#clip172)\" cx=\"877.254\" cy=\"405.282\" r=\"14\" fill=\"#009af9\" fill-rule=\"evenodd\" fill-opacity=\"1\" stroke=\"#000000\" stroke-opacity=\"1\" stroke-width=\"3.2\"/>\n",
       "<circle clip-path=\"url(#clip172)\" cx=\"992.236\" cy=\"924.182\" r=\"14\" fill=\"#009af9\" fill-rule=\"evenodd\" fill-opacity=\"1\" stroke=\"#000000\" stroke-opacity=\"1\" stroke-width=\"3.2\"/>\n",
       "<circle clip-path=\"url(#clip172)\" cx=\"992.236\" cy=\"609.51\" r=\"14\" fill=\"#009af9\" fill-rule=\"evenodd\" fill-opacity=\"1\" stroke=\"#000000\" stroke-opacity=\"1\" stroke-width=\"3.2\"/>\n",
       "<circle clip-path=\"url(#clip172)\" cx=\"1033.78\" cy=\"766.846\" r=\"14\" fill=\"#009af9\" fill-rule=\"evenodd\" fill-opacity=\"1\" stroke=\"#000000\" stroke-opacity=\"1\" stroke-width=\"3.2\"/>\n",
       "<circle clip-path=\"url(#clip172)\" cx=\"1047.59\" cy=\"1445.72\" r=\"14\" fill=\"#009af9\" fill-rule=\"evenodd\" fill-opacity=\"1\" stroke=\"#000000\" stroke-opacity=\"1\" stroke-width=\"3.2\"/>\n",
       "<circle clip-path=\"url(#clip172)\" cx=\"1047.59\" cy=\"87.9763\" r=\"14\" fill=\"#009af9\" fill-rule=\"evenodd\" fill-opacity=\"1\" stroke=\"#000000\" stroke-opacity=\"1\" stroke-width=\"3.2\"/>\n",
       "<circle clip-path=\"url(#clip172)\" cx=\"1084.98\" cy=\"1137.21\" r=\"14\" fill=\"#009af9\" fill-rule=\"evenodd\" fill-opacity=\"1\" stroke=\"#000000\" stroke-opacity=\"1\" stroke-width=\"3.2\"/>\n",
       "<circle clip-path=\"url(#clip172)\" cx=\"1084.98\" cy=\"396.486\" r=\"14\" fill=\"#009af9\" fill-rule=\"evenodd\" fill-opacity=\"1\" stroke=\"#000000\" stroke-opacity=\"1\" stroke-width=\"3.2\"/>\n",
       "<circle clip-path=\"url(#clip172)\" cx=\"1090.95\" cy=\"1311.38\" r=\"14\" fill=\"#009af9\" fill-rule=\"evenodd\" fill-opacity=\"1\" stroke=\"#000000\" stroke-opacity=\"1\" stroke-width=\"3.2\"/>\n",
       "<circle clip-path=\"url(#clip172)\" cx=\"1090.95\" cy=\"222.311\" r=\"14\" fill=\"#009af9\" fill-rule=\"evenodd\" fill-opacity=\"1\" stroke=\"#000000\" stroke-opacity=\"1\" stroke-width=\"3.2\"/>\n",
       "<circle clip-path=\"url(#clip172)\" cx=\"1099.19\" cy=\"1032.3\" r=\"14\" fill=\"#009af9\" fill-rule=\"evenodd\" fill-opacity=\"1\" stroke=\"#000000\" stroke-opacity=\"1\" stroke-width=\"3.2\"/>\n",
       "<circle clip-path=\"url(#clip172)\" cx=\"1099.19\" cy=\"501.395\" r=\"14\" fill=\"#009af9\" fill-rule=\"evenodd\" fill-opacity=\"1\" stroke=\"#000000\" stroke-opacity=\"1\" stroke-width=\"3.2\"/>\n",
       "<circle clip-path=\"url(#clip172)\" cx=\"1123.91\" cy=\"848.387\" r=\"14\" fill=\"#009af9\" fill-rule=\"evenodd\" fill-opacity=\"1\" stroke=\"#000000\" stroke-opacity=\"1\" stroke-width=\"3.2\"/>\n",
       "<circle clip-path=\"url(#clip172)\" cx=\"1123.91\" cy=\"685.305\" r=\"14\" fill=\"#009af9\" fill-rule=\"evenodd\" fill-opacity=\"1\" stroke=\"#000000\" stroke-opacity=\"1\" stroke-width=\"3.2\"/>\n",
       "<circle clip-path=\"url(#clip172)\" cx=\"1143.27\" cy=\"917.752\" r=\"14\" fill=\"#009af9\" fill-rule=\"evenodd\" fill-opacity=\"1\" stroke=\"#000000\" stroke-opacity=\"1\" stroke-width=\"3.2\"/>\n",
       "<circle clip-path=\"url(#clip172)\" cx=\"1143.27\" cy=\"615.94\" r=\"14\" fill=\"#009af9\" fill-rule=\"evenodd\" fill-opacity=\"1\" stroke=\"#000000\" stroke-opacity=\"1\" stroke-width=\"3.2\"/>\n",
       "<circle clip-path=\"url(#clip172)\" cx=\"1206.69\" cy=\"1040.38\" r=\"14\" fill=\"#009af9\" fill-rule=\"evenodd\" fill-opacity=\"1\" stroke=\"#000000\" stroke-opacity=\"1\" stroke-width=\"3.2\"/>\n",
       "<circle clip-path=\"url(#clip172)\" cx=\"1206.69\" cy=\"493.31\" r=\"14\" fill=\"#009af9\" fill-rule=\"evenodd\" fill-opacity=\"1\" stroke=\"#000000\" stroke-opacity=\"1\" stroke-width=\"3.2\"/>\n",
       "<circle clip-path=\"url(#clip172)\" cx=\"1223.38\" cy=\"766.846\" r=\"14\" fill=\"#009af9\" fill-rule=\"evenodd\" fill-opacity=\"1\" stroke=\"#000000\" stroke-opacity=\"1\" stroke-width=\"3.2\"/>\n",
       "<circle clip-path=\"url(#clip172)\" cx=\"1268\" cy=\"1216.98\" r=\"14\" fill=\"#009af9\" fill-rule=\"evenodd\" fill-opacity=\"1\" stroke=\"#000000\" stroke-opacity=\"1\" stroke-width=\"3.2\"/>\n",
       "<circle clip-path=\"url(#clip172)\" cx=\"1268\" cy=\"316.707\" r=\"14\" fill=\"#009af9\" fill-rule=\"evenodd\" fill-opacity=\"1\" stroke=\"#000000\" stroke-opacity=\"1\" stroke-width=\"3.2\"/>\n",
       "<circle clip-path=\"url(#clip172)\" cx=\"1353.06\" cy=\"1367.99\" r=\"14\" fill=\"#009af9\" fill-rule=\"evenodd\" fill-opacity=\"1\" stroke=\"#000000\" stroke-opacity=\"1\" stroke-width=\"3.2\"/>\n",
       "<circle clip-path=\"url(#clip172)\" cx=\"1353.06\" cy=\"165.703\" r=\"14\" fill=\"#009af9\" fill-rule=\"evenodd\" fill-opacity=\"1\" stroke=\"#000000\" stroke-opacity=\"1\" stroke-width=\"3.2\"/>\n",
       "<circle clip-path=\"url(#clip172)\" cx=\"1358.65\" cy=\"766.846\" r=\"14\" fill=\"#009af9\" fill-rule=\"evenodd\" fill-opacity=\"1\" stroke=\"#000000\" stroke-opacity=\"1\" stroke-width=\"3.2\"/>\n",
       "<circle clip-path=\"url(#clip172)\" cx=\"1378.51\" cy=\"1175.38\" r=\"14\" fill=\"#009af9\" fill-rule=\"evenodd\" fill-opacity=\"1\" stroke=\"#000000\" stroke-opacity=\"1\" stroke-width=\"3.2\"/>\n",
       "<circle clip-path=\"url(#clip172)\" cx=\"1378.51\" cy=\"358.311\" r=\"14\" fill=\"#009af9\" fill-rule=\"evenodd\" fill-opacity=\"1\" stroke=\"#000000\" stroke-opacity=\"1\" stroke-width=\"3.2\"/>\n",
       "<circle clip-path=\"url(#clip172)\" cx=\"1399.11\" cy=\"971.336\" r=\"14\" fill=\"#009af9\" fill-rule=\"evenodd\" fill-opacity=\"1\" stroke=\"#000000\" stroke-opacity=\"1\" stroke-width=\"3.2\"/>\n",
       "<circle clip-path=\"url(#clip172)\" cx=\"1399.11\" cy=\"562.356\" r=\"14\" fill=\"#009af9\" fill-rule=\"evenodd\" fill-opacity=\"1\" stroke=\"#000000\" stroke-opacity=\"1\" stroke-width=\"3.2\"/>\n",
       "<circle clip-path=\"url(#clip172)\" cx=\"1476.55\" cy=\"977.108\" r=\"14\" fill=\"#009af9\" fill-rule=\"evenodd\" fill-opacity=\"1\" stroke=\"#000000\" stroke-opacity=\"1\" stroke-width=\"3.2\"/>\n",
       "<circle clip-path=\"url(#clip172)\" cx=\"1476.55\" cy=\"556.583\" r=\"14\" fill=\"#009af9\" fill-rule=\"evenodd\" fill-opacity=\"1\" stroke=\"#000000\" stroke-opacity=\"1\" stroke-width=\"3.2\"/>\n",
       "<circle clip-path=\"url(#clip172)\" cx=\"1500.69\" cy=\"1306.17\" r=\"14\" fill=\"#009af9\" fill-rule=\"evenodd\" fill-opacity=\"1\" stroke=\"#000000\" stroke-opacity=\"1\" stroke-width=\"3.2\"/>\n",
       "<circle clip-path=\"url(#clip172)\" cx=\"1500.69\" cy=\"227.525\" r=\"14\" fill=\"#009af9\" fill-rule=\"evenodd\" fill-opacity=\"1\" stroke=\"#000000\" stroke-opacity=\"1\" stroke-width=\"3.2\"/>\n",
       "<circle clip-path=\"url(#clip172)\" cx=\"1517.81\" cy=\"1205.67\" r=\"14\" fill=\"#009af9\" fill-rule=\"evenodd\" fill-opacity=\"1\" stroke=\"#000000\" stroke-opacity=\"1\" stroke-width=\"3.2\"/>\n",
       "<circle clip-path=\"url(#clip172)\" cx=\"1517.81\" cy=\"328.023\" r=\"14\" fill=\"#009af9\" fill-rule=\"evenodd\" fill-opacity=\"1\" stroke=\"#000000\" stroke-opacity=\"1\" stroke-width=\"3.2\"/>\n",
       "<circle clip-path=\"url(#clip172)\" cx=\"1529.21\" cy=\"832.582\" r=\"14\" fill=\"#009af9\" fill-rule=\"evenodd\" fill-opacity=\"1\" stroke=\"#000000\" stroke-opacity=\"1\" stroke-width=\"3.2\"/>\n",
       "<circle clip-path=\"url(#clip172)\" cx=\"1529.21\" cy=\"701.11\" r=\"14\" fill=\"#009af9\" fill-rule=\"evenodd\" fill-opacity=\"1\" stroke=\"#000000\" stroke-opacity=\"1\" stroke-width=\"3.2\"/>\n",
       "<circle clip-path=\"url(#clip172)\" cx=\"1568.35\" cy=\"1135.91\" r=\"14\" fill=\"#009af9\" fill-rule=\"evenodd\" fill-opacity=\"1\" stroke=\"#000000\" stroke-opacity=\"1\" stroke-width=\"3.2\"/>\n",
       "<circle clip-path=\"url(#clip172)\" cx=\"1568.35\" cy=\"397.781\" r=\"14\" fill=\"#009af9\" fill-rule=\"evenodd\" fill-opacity=\"1\" stroke=\"#000000\" stroke-opacity=\"1\" stroke-width=\"3.2\"/>\n",
       "<circle clip-path=\"url(#clip172)\" cx=\"1570.13\" cy=\"766.846\" r=\"14\" fill=\"#009af9\" fill-rule=\"evenodd\" fill-opacity=\"1\" stroke=\"#000000\" stroke-opacity=\"1\" stroke-width=\"3.2\"/>\n",
       "<circle clip-path=\"url(#clip172)\" cx=\"1597.33\" cy=\"1085.68\" r=\"14\" fill=\"#009af9\" fill-rule=\"evenodd\" fill-opacity=\"1\" stroke=\"#000000\" stroke-opacity=\"1\" stroke-width=\"3.2\"/>\n",
       "<circle clip-path=\"url(#clip172)\" cx=\"1597.33\" cy=\"448.014\" r=\"14\" fill=\"#009af9\" fill-rule=\"evenodd\" fill-opacity=\"1\" stroke=\"#000000\" stroke-opacity=\"1\" stroke-width=\"3.2\"/>\n",
       "<circle clip-path=\"url(#clip172)\" cx=\"1604.12\" cy=\"1322.46\" r=\"14\" fill=\"#009af9\" fill-rule=\"evenodd\" fill-opacity=\"1\" stroke=\"#000000\" stroke-opacity=\"1\" stroke-width=\"3.2\"/>\n",
       "<circle clip-path=\"url(#clip172)\" cx=\"1604.12\" cy=\"211.227\" r=\"14\" fill=\"#009af9\" fill-rule=\"evenodd\" fill-opacity=\"1\" stroke=\"#000000\" stroke-opacity=\"1\" stroke-width=\"3.2\"/>\n",
       "<circle clip-path=\"url(#clip172)\" cx=\"1702.1\" cy=\"1254.03\" r=\"14\" fill=\"#009af9\" fill-rule=\"evenodd\" fill-opacity=\"1\" stroke=\"#000000\" stroke-opacity=\"1\" stroke-width=\"3.2\"/>\n",
       "<circle clip-path=\"url(#clip172)\" cx=\"1702.1\" cy=\"279.661\" r=\"14\" fill=\"#009af9\" fill-rule=\"evenodd\" fill-opacity=\"1\" stroke=\"#000000\" stroke-opacity=\"1\" stroke-width=\"3.2\"/>\n",
       "<circle clip-path=\"url(#clip172)\" cx=\"1732.58\" cy=\"812.695\" r=\"14\" fill=\"#009af9\" fill-rule=\"evenodd\" fill-opacity=\"1\" stroke=\"#000000\" stroke-opacity=\"1\" stroke-width=\"3.2\"/>\n",
       "<circle clip-path=\"url(#clip172)\" cx=\"1732.58\" cy=\"720.997\" r=\"14\" fill=\"#009af9\" fill-rule=\"evenodd\" fill-opacity=\"1\" stroke=\"#000000\" stroke-opacity=\"1\" stroke-width=\"3.2\"/>\n",
       "<circle clip-path=\"url(#clip172)\" cx=\"1787.9\" cy=\"958.509\" r=\"14\" fill=\"#009af9\" fill-rule=\"evenodd\" fill-opacity=\"1\" stroke=\"#000000\" stroke-opacity=\"1\" stroke-width=\"3.2\"/>\n",
       "<circle clip-path=\"url(#clip172)\" cx=\"1787.9\" cy=\"575.183\" r=\"14\" fill=\"#009af9\" fill-rule=\"evenodd\" fill-opacity=\"1\" stroke=\"#000000\" stroke-opacity=\"1\" stroke-width=\"3.2\"/>\n",
       "<circle clip-path=\"url(#clip172)\" cx=\"1793.47\" cy=\"1113.96\" r=\"14\" fill=\"#009af9\" fill-rule=\"evenodd\" fill-opacity=\"1\" stroke=\"#000000\" stroke-opacity=\"1\" stroke-width=\"3.2\"/>\n",
       "<circle clip-path=\"url(#clip172)\" cx=\"1793.47\" cy=\"419.727\" r=\"14\" fill=\"#009af9\" fill-rule=\"evenodd\" fill-opacity=\"1\" stroke=\"#000000\" stroke-opacity=\"1\" stroke-width=\"3.2\"/>\n",
       "<circle clip-path=\"url(#clip172)\" cx=\"1830.16\" cy=\"826.277\" r=\"14\" fill=\"#009af9\" fill-rule=\"evenodd\" fill-opacity=\"1\" stroke=\"#000000\" stroke-opacity=\"1\" stroke-width=\"3.2\"/>\n",
       "<circle clip-path=\"url(#clip172)\" cx=\"1830.16\" cy=\"707.415\" r=\"14\" fill=\"#009af9\" fill-rule=\"evenodd\" fill-opacity=\"1\" stroke=\"#000000\" stroke-opacity=\"1\" stroke-width=\"3.2\"/>\n",
       "<circle clip-path=\"url(#clip172)\" cx=\"1885.24\" cy=\"855.131\" r=\"14\" fill=\"#009af9\" fill-rule=\"evenodd\" fill-opacity=\"1\" stroke=\"#000000\" stroke-opacity=\"1\" stroke-width=\"3.2\"/>\n",
       "<circle clip-path=\"url(#clip172)\" cx=\"1885.24\" cy=\"678.561\" r=\"14\" fill=\"#009af9\" fill-rule=\"evenodd\" fill-opacity=\"1\" stroke=\"#000000\" stroke-opacity=\"1\" stroke-width=\"3.2\"/>\n",
       "<circle clip-path=\"url(#clip172)\" cx=\"1930.62\" cy=\"1228.75\" r=\"14\" fill=\"#009af9\" fill-rule=\"evenodd\" fill-opacity=\"1\" stroke=\"#000000\" stroke-opacity=\"1\" stroke-width=\"3.2\"/>\n",
       "<circle clip-path=\"url(#clip172)\" cx=\"1930.62\" cy=\"304.942\" r=\"14\" fill=\"#009af9\" fill-rule=\"evenodd\" fill-opacity=\"1\" stroke=\"#000000\" stroke-opacity=\"1\" stroke-width=\"3.2\"/>\n",
       "<circle clip-path=\"url(#clip172)\" cx=\"1978.78\" cy=\"1050.8\" r=\"14\" fill=\"#009af9\" fill-rule=\"evenodd\" fill-opacity=\"1\" stroke=\"#000000\" stroke-opacity=\"1\" stroke-width=\"3.2\"/>\n",
       "<circle clip-path=\"url(#clip172)\" cx=\"1978.78\" cy=\"482.892\" r=\"14\" fill=\"#009af9\" fill-rule=\"evenodd\" fill-opacity=\"1\" stroke=\"#000000\" stroke-opacity=\"1\" stroke-width=\"3.2\"/>\n",
       "<circle clip-path=\"url(#clip172)\" cx=\"2005.83\" cy=\"948.958\" r=\"14\" fill=\"#009af9\" fill-rule=\"evenodd\" fill-opacity=\"1\" stroke=\"#000000\" stroke-opacity=\"1\" stroke-width=\"3.2\"/>\n",
       "<circle clip-path=\"url(#clip172)\" cx=\"2005.83\" cy=\"584.734\" r=\"14\" fill=\"#009af9\" fill-rule=\"evenodd\" fill-opacity=\"1\" stroke=\"#000000\" stroke-opacity=\"1\" stroke-width=\"3.2\"/>\n",
       "<circle clip-path=\"url(#clip172)\" cx=\"2053.86\" cy=\"1059.43\" r=\"14\" fill=\"#009af9\" fill-rule=\"evenodd\" fill-opacity=\"1\" stroke=\"#000000\" stroke-opacity=\"1\" stroke-width=\"3.2\"/>\n",
       "<circle clip-path=\"url(#clip172)\" cx=\"2053.86\" cy=\"474.265\" r=\"14\" fill=\"#009af9\" fill-rule=\"evenodd\" fill-opacity=\"1\" stroke=\"#000000\" stroke-opacity=\"1\" stroke-width=\"3.2\"/>\n",
       "<circle clip-path=\"url(#clip172)\" cx=\"2149.38\" cy=\"821.605\" r=\"14\" fill=\"#009af9\" fill-rule=\"evenodd\" fill-opacity=\"1\" stroke=\"#000000\" stroke-opacity=\"1\" stroke-width=\"3.2\"/>\n",
       "<circle clip-path=\"url(#clip172)\" cx=\"2149.38\" cy=\"712.087\" r=\"14\" fill=\"#009af9\" fill-rule=\"evenodd\" fill-opacity=\"1\" stroke=\"#000000\" stroke-opacity=\"1\" stroke-width=\"3.2\"/>\n",
       "<circle clip-path=\"url(#clip172)\" cx=\"2290.96\" cy=\"841.787\" r=\"14\" fill=\"#009af9\" fill-rule=\"evenodd\" fill-opacity=\"1\" stroke=\"#000000\" stroke-opacity=\"1\" stroke-width=\"3.2\"/>\n",
       "<circle clip-path=\"url(#clip172)\" cx=\"2290.96\" cy=\"691.905\" r=\"14\" fill=\"#009af9\" fill-rule=\"evenodd\" fill-opacity=\"1\" stroke=\"#000000\" stroke-opacity=\"1\" stroke-width=\"3.2\"/>\n",
       "<path clip-path=\"url(#clip170)\" d=\"\n",
       "M1986.37 216.178 L2279.98 216.178 L2279.98 95.2176 L1986.37 95.2176  Z\n",
       "  \" fill=\"#ffffff\" fill-rule=\"evenodd\" fill-opacity=\"1\"/>\n",
       "<polyline clip-path=\"url(#clip170)\" style=\"stroke:#000000; stroke-width:4; stroke-opacity:1; fill:none\" points=\"\n",
       "  1986.37,216.178 2279.98,216.178 2279.98,95.2176 1986.37,95.2176 1986.37,216.178 \n",
       "  \"/>\n",
       "<circle clip-path=\"url(#clip170)\" cx=\"2083.41\" cy=\"155.698\" r=\"23\" fill=\"#009af9\" fill-rule=\"evenodd\" fill-opacity=\"1\" stroke=\"#000000\" stroke-opacity=\"1\" stroke-width=\"5.12\"/>\n",
       "<path clip-path=\"url(#clip170)\" d=\"M 0 0 M2194.29 175.385 Q2192.48 180.015 2190.77 181.427 Q2189.05 182.839 2186.18 182.839 L2182.78 182.839 L2182.78 179.274 L2185.28 179.274 Q2187.04 179.274 2188.01 178.44 Q2188.99 177.607 2190.17 174.505 L2190.93 172.561 L2180.44 147.052 L2184.96 147.052 L2193.06 167.329 L2201.16 147.052 L2205.68 147.052 L2194.29 175.385 Z\" fill=\"#000000\" fill-rule=\"evenodd\" fill-opacity=\"1\" /><path clip-path=\"url(#clip170)\" d=\"M 0 0 M2211.55 169.042 L2219.19 169.042 L2219.19 142.677 L2210.88 144.343 L2210.88 140.084 L2219.15 138.418 L2223.82 138.418 L2223.82 169.042 L2231.46 169.042 L2231.46 172.978 L2211.55 172.978 L2211.55 169.042 Z\" fill=\"#000000\" fill-rule=\"evenodd\" fill-opacity=\"1\" /></svg>\n"
      ]
     },
     "execution_count": 59,
     "metadata": {},
     "output_type": "execute_result"
    }
   ],
   "source": [
    "i=1\n",
    "zs = [ λ[i] +  r[i]*exp(im*t) for t in 0:pi/100:2pi ]\n",
    "# plot( real(zs), imag(zs),linewidth=1)\n",
    "# i = 2\n",
    "# zs = [ λ[i] +  r[i]*exp(im*t) for t in 0:pi/100:2pi ]\n",
    "# plot!( real(zs), imag(zs),linewidth=50)\n",
    "plot(real(λ), imag(λ), seriestype = :scatter)\n",
    "\n",
    "# end\n",
    "# xlabel(\"real part\")\n",
    "# ylabel(\"imag part\")\n",
    "# axhline(0, lw=0.5, color=\"k\")\n",
    "# axvline(0, lw=0.5, color=\"k\")\n",
    "# plt[:axes]()[:set_aspect](\"equal\")\n",
    "# plot(index, max_rad, yscale=:log10,\n",
    "#     xlabel       =\"n\",                #X軸のラベル\n",
    "#     ylabel       =\"maximum radius\",   #Y軸のラベル\n",
    "#     xlims        =(0,41),             #X軸の範囲\n",
    "#     title=\"Error bounds of IG\",       #タイトル\n",
    "#     linewidth    =2,                  #線幅\n",
    "#     seriestype = :scatter,            #点プロットに　\n",
    "#     size         =(400,300),          #プロットのサイズ\n",
    "#     label = \"without pre-conditioned\",#凡例のラベル\n",
    "#     legend = false,                   #凡例は今回は消す\n",
    "# )"
   ]
  },
  {
   "cell_type": "code",
   "execution_count": 50,
   "metadata": {},
   "outputs": [
    {
     "data": {
      "text/plain": [
       "(200,)"
      ]
     },
     "execution_count": 50,
     "metadata": {},
     "output_type": "execute_result"
    }
   ],
   "source": [
    "size([r*exp(im*t) for t in 0:pi/100:2pi ])"
   ]
  },
  {
   "cell_type": "code",
   "execution_count": 51,
   "metadata": {},
   "outputs": [
    {
     "data": {
      "text/plain": [
       "(200,)"
      ]
     },
     "execution_count": 51,
     "metadata": {},
     "output_type": "execute_result"
    }
   ],
   "source": [
    "zs = [ λ[1:3] +  r[1:3]*exp(im*t) for t in 0:pi/100:2pi ]\n",
    "size(zs)a"
   ]
  },
  {
   "cell_type": "code",
   "execution_count": 52,
   "metadata": {},
   "outputs": [],
   "source": []
  },
  {
   "cell_type": "markdown",
   "metadata": {},
   "source": [
    "本資料は以下のような文献・Web ページ等を参考にこの文章は書いています.\n",
    "\n",
    "### 参考文献\n",
    "\n",
    "1. 大石進一編著, 精度保証付き数値計算の基礎, コロナ社, 2018.<br>\n",
    "\n",
    "1. 齊藤 宣一, [計算数理演習](http://infsup.jp/saito/materials/na19exer.pdf).<br>\n",
    "(2019年度に行われた、計算数理演習（東京大学理学部数学科，教養学部統合自然科学科）の講義資料．ゲルシュゴリンの包含定理について、MATLABで実装した例が掲載されている.)"
   ]
  },
  {
   "cell_type": "markdown",
   "metadata": {},
   "source": [
    "<div align=\"right\">井藤佳奈子</a>，2020年12月1日</div>"
   ]
  }
 ],
 "metadata": {
  "kernelspec": {
   "display_name": "Julia 1.5.0",
   "language": "julia",
   "name": "julia-1.5"
  },
  "language_info": {
   "file_extension": ".jl",
   "mimetype": "application/julia",
   "name": "julia",
   "version": "1.5.0"
  }
 },
 "nbformat": 4,
 "nbformat_minor": 4
}
