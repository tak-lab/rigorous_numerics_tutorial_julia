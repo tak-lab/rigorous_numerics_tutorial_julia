{
 "cells": [
  {
   "cell_type": "markdown",
   "metadata": {},
   "source": [
    "# Juliaで固有値問題を精度保証付き数値計算したい\n",
    "\n",
    "\n",
    "## 固有値問題とは\n",
    "\n",
    "固有値問題は与えられた行列の固有値および固有ベクトルを求めること。つまり、\n",
    "$\n",
    "\\newcommand{\\C}{\\mathbb{C}}\n",
    "\\newcommand{\\IC}{\\mathbb{IC}}\n",
    "\\newcommand{\\bX}{\\bar{X}}\n",
    "$\n",
    "\n",
    "$$\n",
    "Ax=\\lambda x,\\quad A\\in \\C^{n\\times n}\n",
    "$$\n",
    "\n",
    "を満たす$\\lambda\\in \\C$, $x\\in \\C^{n\\times n}$ ($x\\neq 0$) を求める問題を指す。\n",
    "\n",
    "Juliaで固有値と固有ベクトルを求める際には、`LinearAlgebra`パッケージに含まれている関数`eigen`・`eigvals`・`eigvecs`で求めることができる。\n",
    "\n",
    "|関数| 役割 |\n",
    "|:-----------|:----------|\n",
    "| eigen()    | 固有値・固有ベクトル両方  |\n",
    "| eigvals()    | 固有値  |\n",
    "| eigvecs()  | 固有ベクトル |\n",
    "\n",
    "多分、Lapackの何かを呼び足してるはず。"
   ]
  },
  {
   "cell_type": "code",
   "execution_count": 1,
   "metadata": {},
   "outputs": [
    {
     "data": {
      "text/plain": [
       "Eigen{Float64,Float64,Array{Float64,2},Array{Float64,1}}\n",
       "values:\n",
       "2-element Array{Float64,1}:\n",
       " -1.0\n",
       "  3.0\n",
       "vectors:\n",
       "2×2 Array{Float64,2}:\n",
       " -0.707107  0.707107\n",
       "  0.707107  0.707107"
      ]
     },
     "execution_count": 1,
     "metadata": {},
     "output_type": "execute_result"
    }
   ],
   "source": [
    "using LinearAlgebra\n",
    "val, vec  = eigen([1 2; 2 1])"
   ]
  },
  {
   "cell_type": "code",
   "execution_count": null,
   "metadata": {},
   "outputs": [],
   "source": [
    "val#固有値"
   ]
  },
  {
   "cell_type": "code",
   "execution_count": null,
   "metadata": {},
   "outputs": [],
   "source": [
    "vec#固有ベクトル"
   ]
  },
  {
   "cell_type": "code",
   "execution_count": null,
   "metadata": {},
   "outputs": [],
   "source": [
    "eigvals([1 2; 2 1])#固有値"
   ]
  },
  {
   "cell_type": "code",
   "execution_count": null,
   "metadata": {},
   "outputs": [],
   "source": [
    "eigvecs([1 2; 2 1])#固有ベクトル"
   ]
  },
  {
   "cell_type": "markdown",
   "metadata": {},
   "source": [
    "## 密行列の固有値問題に対する精度保証\n",
    "\n",
    "密行列とは、行列内のほとんどの要素が0でない行列のことを指す。ここでは、行列$A\\in\\C^{n\\times n}$ $(i=1,2,\\cdots,n)$ の全ての固有値に対する精度保証アルゴリズムを考える。 \n",
    "\n",
    "### 実装したいアルゴリズム\n",
    "(1)\n",
    "ある行列$A$の全ての近似固有ベクトル$\\bX\\in\\C^{n\\times n}$ $(i=1,2,\\cdots,n)$ を求める。\n",
    "\n",
    "(2)\n",
    "$A\\cdot\\bX$ の包含 $C\\in\\IC^{n\\times n}$ を求める。\n",
    "\n",
    "(3)\n",
    "区間連立1次方程式 $\\bX G=C$ の解集合の包含 $G\\supset\\bX^{-1}\\cdot C$ を求める。\n",
    "\n",
    "(4)\n",
    "$G\\in\\IC^{n\\times n}$ に対してゲルシュゴリンの定理を適用することを考える。"
   ]
  },
  {
   "cell_type": "markdown",
   "metadata": {},
   "source": [
    "#### (1)行列$A$の全ての近似固有ベクトル$\\bX\\in\\C^{n\\times n}$ $(i=1,2,\\cdots,n)$ を求める。\n",
    "\n",
    "行列$A\\in\\C^{n\\times n}$ $(i=1,2,\\cdots,n)$ が対角化可能であるとするとき、$\\lambda_i$ に対する固有ベクトル$x^{(i)}\\in\\C^{n}$ $(i=1,2,\\cdots,n)$ を並べた行列\n",
    "\n",
    "$$\n",
    "X :=[x^{(1)},x^{(2)},\\cdots,x^{(n)}]\\in\\C^{n\\times n}\n",
    "$$\n",
    "\n",
    "によって、$A$ は\n",
    "\n",
    "$$\n",
    "X^{-1}AX = D = \\rm{diag}(\\lambda_1,\\lambda_2,\\cdots,\\lambda_n)\n",
    "$$\n",
    "\n",
    "と対角化される。"
   ]
  },
  {
   "cell_type": "code",
   "execution_count": 2,
   "metadata": {},
   "outputs": [],
   "source": [
    "using LinearAlgebra\n",
    "\n",
    "n =100;\n",
    "A = randn(n,n);\n",
    "\n",
    "λ, X = eigen(A);"
   ]
  },
  {
   "cell_type": "code",
   "execution_count": null,
   "metadata": {},
   "outputs": [],
   "source": [
    "λ #固有値"
   ]
  },
  {
   "cell_type": "code",
   "execution_count": null,
   "metadata": {},
   "outputs": [],
   "source": [
    "X #固有ベクトル"
   ]
  },
  {
   "cell_type": "markdown",
   "metadata": {},
   "source": [
    "しかし、実際のところ上記の数値計算で得られる固有ベクトル $X$ は近似の値 $\\bX\\in \\C^{n\\times n}$ (以下、近似固有ベクトルという) である。しかし、近似固有ベクトルを並べた行列を使って、対角化したものについては、対角優位性が期待できる。この行列を $G$ とすると、\n",
    "\n",
    "$$\n",
    "G := \\bX^{-1}A\\bX\n",
    "$$\n",
    "\n",
    "となり、行列 $G$ の対角成分は行列 $A$ の固有値の近似となる。\n",
    "\n",
    "また、対角優位性とは、ある行列$A=(a_{ij})$について、\n",
    "\n",
    "$$\n",
    "\\left|a_{i i}\\right|>\\sum_{{j} \\colon j \\neq i}\\left|a_{i j}\\right| \\quad(i=1,2, \\ldots, n)\n",
    "$$\n",
    "\n",
    "であること。つまり、行列のどの対角成分の絶対値も、それと同じ列にある非対角成分の和よりも大きい時。"
   ]
  },
  {
   "cell_type": "code",
   "execution_count": 3,
   "metadata": {},
   "outputs": [
    {
     "data": {
      "text/plain": [
       "4.796284432741295e-14"
      ]
     },
     "execution_count": 3,
     "metadata": {},
     "output_type": "execute_result"
    }
   ],
   "source": [
    "G = inv(X)*A*X; #G\n",
    "norm(diag(G) - λ,Inf) # Gの対角成分は固有値λにほぼ一致する"
   ]
  },
  {
   "cell_type": "markdown",
   "metadata": {},
   "source": [
    "#### (2)$A\\cdot\\bX$の包含$C\\in\\IC^{n\\times n}$を求める。\n",
    "\n",
    "``方法1``各演算を区間演算に変更した方式(参考：[interval_dot-mul.ipynb](https://www.risk.tsukuba.ac.jp/~takitoshi/tutorial/interval_dot-mul.html \"タイトル\"))"
   ]
  },
  {
   "cell_type": "code",
   "execution_count": 4,
   "metadata": {},
   "outputs": [
    {
     "name": "stdout",
     "output_type": "stream",
     "text": [
      "  83.171 ms (8 allocations: 312.91 KiB)\n"
     ]
    }
   ],
   "source": [
    "using IntervalArithmetic, BenchmarkTools\n",
    "\n",
    "iA = map(Interval, A);\n",
    "iX = map(Interval, X);\n",
    "\n",
    "@btime C1 = $iA * $iX;"
   ]
  },
  {
   "cell_type": "code",
   "execution_count": 5,
   "metadata": {},
   "outputs": [
    {
     "ename": "LoadError",
     "evalue": "UndefVarError: C1 not defined",
     "output_type": "error",
     "traceback": [
      "UndefVarError: C1 not defined",
      "",
      "Stacktrace:",
      " [1] top-level scope at show.jl:641",
      " [2] include_string(::Function, ::Module, ::String, ::String) at ./loading.jl:1091"
     ]
    }
   ],
   "source": [
    "@show max(maximum(radius.(real(C1[:]))),maximum(radius.(imag(C1[:]))))"
   ]
  },
  {
   "cell_type": "markdown",
   "metadata": {},
   "source": [
    "``方法2``BLASを使う。int_num_linalg.jlの呼び出し。この方が早い。"
   ]
  },
  {
   "cell_type": "code",
   "execution_count": 6,
   "metadata": {},
   "outputs": [
    {
     "name": "stdout",
     "output_type": "stream",
     "text": [
      "  1.237924 seconds (4.64 M allocations: 222.128 MiB, 3.57% gc time)\n"
     ]
    }
   ],
   "source": [
    "using BenchmarkTools\n",
    "include(\"int_num_linalg.jl\"); # int_mulを使用する\n",
    "# @time C1 = mm_comp_interval_alt(iA,iX);\n",
    "@time C = int_mul(A,X); # A, X: complex matrices (not interval)"
   ]
  },
  {
   "cell_type": "code",
   "execution_count": 7,
   "metadata": {},
   "outputs": [
    {
     "data": {
      "text/plain": [
       "9.103828801926284e-14"
      ]
     },
     "execution_count": 7,
     "metadata": {},
     "output_type": "execute_result"
    }
   ],
   "source": [
    "max(maximum(radius.(real(C[:]))),maximum(radius.(imag(C[:]))))"
   ]
  },
  {
   "cell_type": "code",
   "execution_count": 8,
   "metadata": {},
   "outputs": [
    {
     "data": {
      "text/plain": [
       "100×100 Array{Interval{Float64},2}:\n",
       " [-0.957696, -0.957695]    …  [-0.261251, -0.26125]\n",
       "  [0.583712, 0.583713]        [-0.890055, -0.890054]\n",
       " [-2.00467, -2.00466]          [0.974361, 0.974362]\n",
       " [-0.321647, -0.321646]       [-0.719869, -0.719868]\n",
       "  [0.1279, 0.127901]          [-0.129917, -0.129916]\n",
       " [-0.972016, -0.972015]    …   [0.197544, 0.197545]\n",
       "  [0.401453, 0.401454]         [1.02867, 1.02868]\n",
       "  [1.07488, 1.07489]           [0.327513, 0.327514]\n",
       "  [1.08726, 1.08727]           [1.38159, 1.3816]\n",
       "  [1.32679, 1.3268]           [-0.533184, -0.533183]\n",
       " [-1.18749, -1.18748]      …  [-0.272931, -0.27293]\n",
       "  [1.68066, 1.68067]           [0.938251, 0.938252]\n",
       "  [0.351804, 0.351805]        [-0.0587759, -0.0587758]\n",
       "   ⋮                       ⋱  \n",
       " [-0.517929, -0.517928]        [0.392765, 0.392766]\n",
       "  [0.516897, 0.516898]        [-0.44515, -0.445149]\n",
       " [-0.732545, -0.732544]    …  [-0.248713, -0.248712]\n",
       " [-1.07352, -1.07351]         [-0.669768, -0.669767]\n",
       " [-0.712745, -0.712744]       [-0.771838, -0.771837]\n",
       "  [2.95916, 2.95917]           [1.19059, 1.1906]\n",
       "  [0.968643, 0.968644]         [0.582499, 0.5825]\n",
       " [-0.0773432, -0.0773431]  …   [0.356852, 0.356853]\n",
       "  [0.913217, 0.913218]        [-0.934864, -0.934863]\n",
       "  [0.604383, 0.604384]        [-0.692008, -0.692007]\n",
       "  [0.289181, 0.289182]        [-0.0156733, -0.0156732]\n",
       "  [0.764396, 0.764397]        [-0.0252977, -0.0252976]"
      ]
     },
     "execution_count": 8,
     "metadata": {},
     "output_type": "execute_result"
    }
   ],
   "source": [
    "real(C)"
   ]
  },
  {
   "cell_type": "code",
   "execution_count": 9,
   "metadata": {},
   "outputs": [
    {
     "data": {
      "text/plain": [
       "100×100 Array{Interval{Float64},2}:\n",
       " [-2.22508e-308, 2.22508e-308]  …   [0.327299, 0.3273]\n",
       " [-2.22508e-308, 2.22508e-308]      [0.437695, 0.437696]\n",
       " [-2.22508e-308, 2.22508e-308]      [0.130328, 0.130329]\n",
       " [-2.22508e-308, 2.22508e-308]     [-1.5532, -1.55319]\n",
       " [-2.22508e-308, 2.22508e-308]     [-0.058642, -0.0586419]\n",
       " [-2.22508e-308, 2.22508e-308]  …  [-0.160517, -0.160516]\n",
       " [-2.22508e-308, 2.22508e-308]      [0.568468, 0.568469]\n",
       " [-2.22508e-308, 2.22508e-308]     [-0.994355, -0.994354]\n",
       " [-2.22508e-308, 2.22508e-308]      [0.703024, 0.703025]\n",
       " [-2.22508e-308, 2.22508e-308]     [-0.844976, -0.844975]\n",
       " [-2.22508e-308, 2.22508e-308]  …  [-1.11569, -1.11568]\n",
       " [-2.22508e-308, 2.22508e-308]      [0.536674, 0.536675]\n",
       " [-2.22508e-308, 2.22508e-308]     [-0.308824, -0.308823]\n",
       "   ⋮                            ⋱  \n",
       " [-2.22508e-308, 2.22508e-308]      [0.325833, 0.325834]\n",
       " [-2.22508e-308, 2.22508e-308]      [0.454863, 0.454864]\n",
       " [-2.22508e-308, 2.22508e-308]  …  [-0.425711, -0.42571]\n",
       " [-2.22508e-308, 2.22508e-308]      [0.294588, 0.294589]\n",
       " [-2.22508e-308, 2.22508e-308]     [-0.187985, -0.187984]\n",
       " [-2.22508e-308, 2.22508e-308]      [0.11212, 0.112121]\n",
       " [-2.22508e-308, 2.22508e-308]      [0.845415, 0.845416]\n",
       " [-2.22508e-308, 2.22508e-308]  …   [0.99061, 0.990611]\n",
       " [-2.22508e-308, 2.22508e-308]     [-0.515462, -0.515461]\n",
       " [-2.22508e-308, 2.22508e-308]      [0.114748, 0.114749]\n",
       " [-2.22508e-308, 2.22508e-308]     [-0.0127313, -0.0127312]\n",
       " [-2.22508e-308, 2.22508e-308]      [0.914926, 0.914927]"
      ]
     },
     "execution_count": 9,
     "metadata": {},
     "output_type": "execute_result"
    }
   ],
   "source": [
    "imag(C)"
   ]
  },
  {
   "cell_type": "code",
   "execution_count": null,
   "metadata": {},
   "outputs": [],
   "source": []
  },
  {
   "cell_type": "markdown",
   "metadata": {},
   "source": [
    "#### 3)区間連立1次方程式 $\\hat XG=C$ の解集合の包含 $G\\supset\\hat X^{-1}\\cdot C$ を求める。"
   ]
  },
  {
   "cell_type": "code",
   "execution_count": 10,
   "metadata": {},
   "outputs": [
    {
     "data": {
      "text/plain": [
       "verifylss_ib (generic function with 1 method)"
      ]
     },
     "execution_count": 10,
     "metadata": {},
     "output_type": "execute_result"
    }
   ],
   "source": [
    "function verifylss_ib(A,ib) # verify the solution element-wisely\n",
    "    b = mid.(real(ib)) + mid.(imag(ib))*im;\n",
    "    x̄ = A\\b;\n",
    "    n = length(x̄);\n",
    "    R = inv(A);\n",
    "    #########\n",
    "    #C_mid, C_rad = mm_ufp(R,A);\n",
    "    G = Matrix{Float64}(I, n, n) - int_mul(R,A);\n",
    "    α = opnorm(G,Inf)# Interval arithmetic\n",
    "    #########\n",
    "    if α < 1\n",
    "        x̄ = map(Interval,x̄);\n",
    "        r = A*x̄ - ib; # Interval arithmetic\n",
    "        Rr = R*r;\n",
    "        err = abs.(Rr) + supremum(norm(Rr,Inf))/(1-α)*(abs.(G)*ones(n)); # Interval arithmetic\n",
    "    else\n",
    "        println(\"Oh my way, verification is failed...\")\n",
    "        err = nan;\n",
    "    end\n",
    "    return x = (real(x̄) .± supremum.(err)) + im*(imag(x̄) .± supremum.(err))\n",
    "end"
   ]
  },
  {
   "cell_type": "code",
   "execution_count": 11,
   "metadata": {},
   "outputs": [
    {
     "data": {
      "text/plain": [
       "100×100 Array{Interval{Float64},2}:\n",
       " [-10.0668, -10.0667]          …  [-9.33731e-13, 9.2166e-13]\n",
       "  [-1.92634e-12, 1.92119e-12]     [-2.67348e-12, 2.68561e-12]\n",
       "  [-1.92634e-12, 1.92119e-12]     [-2.65954e-12, 2.68244e-12]\n",
       "  [-1.58058e-12, 1.57989e-12]     [-2.15458e-12, 2.14676e-12]\n",
       "  [-1.58058e-12, 1.57989e-12]     [-2.14928e-12, 2.15408e-12]\n",
       "  [-2.07963e-12, 2.07398e-12]  …  [-2.13588e-12, 2.11618e-12]\n",
       "  [-1.14231e-12, 1.14284e-12]     [-1.58972e-12, 1.58797e-12]\n",
       "  [-1.14231e-12, 1.14284e-12]     [-1.58938e-12, 1.57593e-12]\n",
       "  [-1.42994e-12, 1.42444e-12]     [-1.94004e-12, 1.95977e-12]\n",
       "  [-1.42994e-12, 1.42444e-12]     [-1.9593e-12, 1.93527e-12]\n",
       "  [-1.16847e-12, 1.16445e-12]  …  [-1.62268e-12, 1.65134e-12]\n",
       "  [-1.16847e-12, 1.16445e-12]     [-1.65479e-12, 1.61545e-12]\n",
       "  [-1.79504e-11, 1.79445e-11]     [-1.86165e-11, 1.86729e-11]\n",
       "    ⋮                          ⋱  \n",
       "  [-3.34569e-12, 3.33806e-12]     [-4.05122e-12, 4.02299e-12]\n",
       "  [-2.26444e-12, 2.2571e-12]      [-3.16517e-12, 3.20641e-12]\n",
       "  [-2.26444e-12, 2.2571e-12]   …  [-3.17516e-12, 3.19014e-12]\n",
       "  [-2.71263e-12, 2.77773e-12]     [-2.81174e-12, 2.80309e-12]\n",
       "  [-4.97325e-12, 5.06132e-12]     [-6.99698e-12, 7.00657e-12]\n",
       "  [-4.97325e-12, 5.06132e-12]     [-7.02147e-12, 6.99633e-12]\n",
       "  [-4.50285e-12, 4.59565e-12]     [-6.33419e-12, 6.35836e-12]\n",
       "  [-4.50285e-12, 4.59565e-12]  …  [-6.36039e-12, 6.33669e-12]\n",
       "  [-1.11501e-12, 1.13514e-12]     [-1.60167e-12, 1.60041e-12]\n",
       "  [-1.11501e-12, 1.13514e-12]     [-1.59549e-12, 1.61022e-12]\n",
       "  [-9.84698e-13, 9.74799e-13]     [-1.34753e-12, 1.4056e-12]\n",
       "  [-9.84698e-13, 9.74799e-13]      [9.07484, 9.07485]"
      ]
     },
     "execution_count": 11,
     "metadata": {},
     "output_type": "execute_result"
    }
   ],
   "source": [
    "G = similar(C);\n",
    "for i = 1:n\n",
    "    G[:,i] = verifylss_ib(X,C[:,i]);\n",
    "end\n",
    "real(G)"
   ]
  },
  {
   "cell_type": "code",
   "execution_count": 12,
   "metadata": {},
   "outputs": [
    {
     "data": {
      "text/plain": [
       "2-element Array{Array{T,1} where T,1}:\n",
       " Interval{Float64}[[-10.0668, -10.0667], [-9.24817, -9.24816], [-9.24817, -9.24816], [-8.29201, -8.292], [-8.29201, -8.292], [-8.2613, -8.26129], [-7.95267, -7.95266], [-7.95267, -7.95266], [-7.26121, -7.2612], [-7.26121, -7.2612]  …  [6.1344, 6.13441], [7.41688, 7.41689], [7.61274, 7.61275], [7.61274, 7.61275], [7.64689, 7.6469], [7.64689, 7.6469], [7.88647, 7.88648], [7.88647, 7.88648], [9.07484, 9.07485], [9.07484, 9.07485]]\n",
       " Complex{Float64}[-10.066707272334748 + 0.0im, -9.248167089231517 - 1.0456274909042635im, -9.248167089231517 + 1.0456274909042635im, -8.292007068922306 - 2.4140926260253006im, -8.292007068922306 + 2.4140926260253006im, -8.261290538048907 + 0.0im, -7.9526610078135604 - 3.5643946497725816im, -7.9526610078135604 + 3.5643946497725816im, -7.261205663364121 - 1.5766450345163427im, -7.261205663364121 + 1.5766450345163427im  …  6.1344070486837 + 4.8702745388511355im, 7.416886103712434 + 0.0im, 7.612741584002496 - 1.9093896548159726im, 7.612741584002496 + 1.9093896548159726im, 7.64689930753285 - 2.19074751803716im, 7.64689930753285 + 2.19074751803716im, 7.886479694502856 - 4.300360162600341im, 7.886479694502856 + 4.300360162600341im, 9.07484624450947 - 0.9551267365752761im, 9.07484624450947 + 0.9551267365752761im]"
      ]
     },
     "execution_count": 12,
     "metadata": {},
     "output_type": "execute_result"
    }
   ],
   "source": [
    "[real(diag(G)), λ]"
   ]
  },
  {
   "cell_type": "code",
   "execution_count": 13,
   "metadata": {},
   "outputs": [
    {
     "data": {
      "text/plain": [
       "[-0.957696, -0.957695]"
      ]
     },
     "execution_count": 13,
     "metadata": {},
     "output_type": "execute_result"
    }
   ],
   "source": [
    "C=real(C)+imag(C)\n",
    "C[1,1]"
   ]
  },
  {
   "cell_type": "markdown",
   "metadata": {},
   "source": [
    "#### 4)$G\\in\\IC^{n\\times n}$に対してゲルシュゴリンの定理を適用することを考える。"
   ]
  },
  {
   "cell_type": "markdown",
   "metadata": {},
   "source": [
    "\n",
    "## ゲルシュゴリンの包含定理\n",
    "行列 $A=(A_{ij})\\in \\C^{n\\times n}$について、$A$の全ての固有値$\\lambda_i$は、$\\bigcup_{1\\le i \\le n}  U_i$の内部に存在する。\n",
    "\n",
    "$$\n",
    "A = \\bigcup_{1\\le i \\le n}  U_i\n",
    "$$\n",
    "\n",
    "ただし、\n",
    "\n",
    "$$\n",
    "U_i = \\{z\\in\\mathbb{C}:|z-a_{ii}|\\le \\sum_{j\\neq i}|a_{ij}|\\}\n",
    "$$\n",
    "\n",
    "である。\n",
    "\n",
    "円盤領域$U_i$をゲルシュゴリン円板といい、Aが強い優対角性を持つとき、Aの対角成分がAの固有値の良い近似となる。\n",
    "\n",
    "今回の場合、$G=(g_{ij})$の対角成分$[g_{ii}]$を$c_i$、半径を$\\rm{rad(g_{ii})}$とすると、\n",
    "\n",
    "$$\n",
    "\\begin{array}{ll}\n",
    "\\mbox{ゲルシュゴリン円の中心:}&c_i\\\\\n",
    "\\mbox{ゲルシュゴリン円の半径:}&r_i=\\sum_{j\\neq i}\\rm{mag}(g_{ij})+\\rm{rad}(g_{ii})\\\\\n",
    "\\end{array}\n",
    "$$\n",
    "\n",
    "となる。"
   ]
  },
  {
   "cell_type": "code",
   "execution_count": 29,
   "metadata": {},
   "outputs": [
    {
     "ename": "LoadError",
     "evalue": "MethodError: no method matching +(::Array{Float64,1}, ::Float64)\nFor element-wise addition, use broadcasting with dot syntax: array .+ scalar\nClosest candidates are:\n  +(::Any, ::Any, !Matched::Any, !Matched::Any...) at operators.jl:538\n  +(!Matched::IntervalArithmetic.IntervalRounding{:none}, ::T, !Matched::T, !Matched::RoundingMode{:Down}) where T<:AbstractFloat at /Users/K/.julia/packages/IntervalArithmetic/sRFlx/src/intervals/rounding.jl:180\n  +(!Matched::IntervalArithmetic.IntervalRounding{:none}, ::T, !Matched::T, !Matched::RoundingMode{:Up}) where T<:AbstractFloat at /Users/K/.julia/packages/IntervalArithmetic/sRFlx/src/intervals/rounding.jl:180\n  ...",
     "output_type": "error",
     "traceback": [
      "MethodError: no method matching +(::Array{Float64,1}, ::Float64)\nFor element-wise addition, use broadcasting with dot syntax: array .+ scalar\nClosest candidates are:\n  +(::Any, ::Any, !Matched::Any, !Matched::Any...) at operators.jl:538\n  +(!Matched::IntervalArithmetic.IntervalRounding{:none}, ::T, !Matched::T, !Matched::RoundingMode{:Down}) where T<:AbstractFloat at /Users/K/.julia/packages/IntervalArithmetic/sRFlx/src/intervals/rounding.jl:180\n  +(!Matched::IntervalArithmetic.IntervalRounding{:none}, ::T, !Matched::T, !Matched::RoundingMode{:Up}) where T<:AbstractFloat at /Users/K/.julia/packages/IntervalArithmetic/sRFlx/src/intervals/rounding.jl:180\n  ...",
      "",
      "Stacktrace:",
      " [1] +(::Array{Float64,1}, ::Array{Float64,1}, ::Float64) at ./operators.jl:538",
      " [2] top-level scope at ./In[29]:6",
      " [3] include_string(::Function, ::Module, ::String, ::String) at ./loading.jl:1091"
     ]
    }
   ],
   "source": [
    "for i = 1:n\n",
    "    mr = mag.(real(G[i,:]))\n",
    "    mi = mag.(imag(G[i,:]))\n",
    "    magri = mr + mi\n",
    "    rad = radius.(real(diag(G)[i])) + radius.(imag(diag(G)[i]))\n",
    "    r = mr + mi + rad\n",
    "end"
   ]
  },
  {
   "cell_type": "code",
   "execution_count": 17,
   "metadata": {},
   "outputs": [
    {
     "ename": "LoadError",
     "evalue": "MethodError: no method matching -(::Array{Float64,1}, ::Float64)\nFor element-wise subtraction, use broadcasting with dot syntax: array .- scalar\nClosest candidates are:\n  -(!Matched::IntervalArithmetic.IntervalRounding{:none}, ::T, !Matched::T, !Matched::RoundingMode{:Down}) where T<:AbstractFloat at /Users/K/.julia/packages/IntervalArithmetic/sRFlx/src/intervals/rounding.jl:180\n  -(!Matched::IntervalArithmetic.IntervalRounding{:none}, ::T, !Matched::T, !Matched::RoundingMode{:Up}) where T<:AbstractFloat at /Users/K/.julia/packages/IntervalArithmetic/sRFlx/src/intervals/rounding.jl:180\n  -(!Matched::Missing, ::Number) at missing.jl:115\n  ...",
     "output_type": "error",
     "traceback": [
      "MethodError: no method matching -(::Array{Float64,1}, ::Float64)\nFor element-wise subtraction, use broadcasting with dot syntax: array .- scalar\nClosest candidates are:\n  -(!Matched::IntervalArithmetic.IntervalRounding{:none}, ::T, !Matched::T, !Matched::RoundingMode{:Down}) where T<:AbstractFloat at /Users/K/.julia/packages/IntervalArithmetic/sRFlx/src/intervals/rounding.jl:180\n  -(!Matched::IntervalArithmetic.IntervalRounding{:none}, ::T, !Matched::T, !Matched::RoundingMode{:Up}) where T<:AbstractFloat at /Users/K/.julia/packages/IntervalArithmetic/sRFlx/src/intervals/rounding.jl:180\n  -(!Matched::Missing, ::Number) at missing.jl:115\n  ...",
      "",
      "Stacktrace:",
      " [1] top-level scope at In[17]:1",
      " [2] include_string(::Function, ::Module, ::String, ::String) at ./loading.jl:1091"
     ]
    }
   ],
   "source": [
    "mag.(real(G[1,:]))-mag.(real(diag(G)[1]))"
   ]
  },
  {
   "cell_type": "code",
   "execution_count": null,
   "metadata": {},
   "outputs": [],
   "source": []
  },
  {
   "cell_type": "code",
   "execution_count": null,
   "metadata": {},
   "outputs": [],
   "source": [
    "using Plots\n",
    "plot!(index, max_rad, yscale=:log10,\n",
    "    xlabel       =\"Real\",                #X軸のラベル\n",
    "    ylabel       =\"Imaginary\",   #Y軸のラベル\n",
    "    xlims        =(0,41),             #X軸の範囲\n",
    "    title=\"gershgorin\",       #タイトル\n",
    "    linewidth    =2,                  #線幅\n",
    "    seriestype = :scatter,            #点プロットに　\n",
    "    size         =(400,300),          #プロットのサイズ\n",
    ")"
   ]
  },
  {
   "cell_type": "code",
   "execution_count": null,
   "metadata": {},
   "outputs": [],
   "source": []
  },
  {
   "cell_type": "code",
   "execution_count": null,
   "metadata": {},
   "outputs": [],
   "source": []
  },
  {
   "cell_type": "code",
   "execution_count": null,
   "metadata": {},
   "outputs": [],
   "source": [
    "for i in 1:n\n",
    "    m = sum(mag.(imag(G[i,:])))-mag.(imag(diag(G)[i]))\n",
    "    maggi =m +magg\n",
    "end"
   ]
  },
  {
   "cell_type": "code",
   "execution_count": null,
   "metadata": {},
   "outputs": [],
   "source": []
  },
  {
   "cell_type": "code",
   "execution_count": null,
   "metadata": {},
   "outputs": [],
   "source": []
  },
  {
   "cell_type": "code",
   "execution_count": null,
   "metadata": {},
   "outputs": [],
   "source": []
  },
  {
   "cell_type": "code",
   "execution_count": null,
   "metadata": {},
   "outputs": [],
   "source": [
    "maggi = sum(mag.(imag(G[:])))-sum(mag.(imag(diag(G)[:])))"
   ]
  },
  {
   "cell_type": "code",
   "execution_count": null,
   "metadata": {},
   "outputs": [],
   "source": [
    "magg = maggr + maggi"
   ]
  },
  {
   "cell_type": "code",
   "execution_count": null,
   "metadata": {},
   "outputs": [],
   "source": [
    "radg = sum(radius.(real(diag(G)[:]))) + sum(radius.(imag(diag(G)[:])))"
   ]
  },
  {
   "cell_type": "code",
   "execution_count": null,
   "metadata": {},
   "outputs": [],
   "source": []
  },
  {
   "cell_type": "code",
   "execution_count": null,
   "metadata": {},
   "outputs": [],
   "source": []
  },
  {
   "cell_type": "code",
   "execution_count": null,
   "metadata": {},
   "outputs": [],
   "source": [
    "mag.(real(diag(G)[1]))"
   ]
  },
  {
   "cell_type": "code",
   "execution_count": null,
   "metadata": {},
   "outputs": [],
   "source": [
    "using IntervalArithmetic\n",
    "function gershgorin(G)\n",
    "    g=diag(G)\n",
    "    center=[real(g),imag(g)]\n",
    "    ##real\n",
    "    for i =1:n\n",
    "        re = real(g)\n",
    "        radr[i]=radius(re[i])\n",
    "    ##imag\n",
    "     for j =1:n\n",
    "        im = imag(g)\n",
    "        radim[j]=radius(im[j])\n",
    "end"
   ]
  },
  {
   "cell_type": "code",
   "execution_count": null,
   "metadata": {},
   "outputs": [],
   "source": []
  },
  {
   "cell_type": "code",
   "execution_count": null,
   "metadata": {},
   "outputs": [],
   "source": []
  },
  {
   "cell_type": "code",
   "execution_count": null,
   "metadata": {},
   "outputs": [],
   "source": []
  },
  {
   "cell_type": "code",
   "execution_count": null,
   "metadata": {},
   "outputs": [],
   "source": []
  },
  {
   "cell_type": "code",
   "execution_count": null,
   "metadata": {},
   "outputs": [],
   "source": []
  },
  {
   "cell_type": "markdown",
   "metadata": {},
   "source": [
    "対角優位\n",
    "http://www.math.ritsumei.ac.jp/~yasutomi/jugyo/Numerical_Analysis/note5.pdf\n",
    "\n",
    "計算途中がでる\n",
    "http://www.cas.cmc.osaka-u.ac.jp/~paoon/misc/julia/post/cg/\n",
    "\n",
    "\n",
    "http://infsup.jp/saito/materials/na19exer.pdf"
   ]
  },
  {
   "cell_type": "markdown",
   "metadata": {},
   "source": []
  }
 ],
 "metadata": {
  "kernelspec": {
   "display_name": "Julia 1.5.0",
   "language": "julia",
   "name": "julia-1.5"
  },
  "language_info": {
   "file_extension": ".jl",
   "mimetype": "application/julia",
   "name": "julia",
   "version": "1.5.0"
  }
 },
 "nbformat": 4,
 "nbformat_minor": 4
}
