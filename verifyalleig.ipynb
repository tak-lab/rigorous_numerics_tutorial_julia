{
 "cells": [
  {
   "cell_type": "markdown",
   "metadata": {},
   "source": [
    "# Juliaで固有値問題を精度保証付き数値計算したい\n",
    "\n",
    "\n",
    "## 固有値問題とは\n",
    "\n",
    "固有値問題は与えられた行列の固有値および固有ベクトルを求めること。つまり、\n",
    "$\n",
    "\\newcommand{\\C}{\\mathbb{C}}\n",
    "\\newcommand{\\IC}{\\mathbb{IC}}\n",
    "\\newcommand{\\bX}{\\bar{X}}\n",
    "$\n",
    "\n",
    "$$\n",
    "Ax=\\lambda x,\\quad A\\in \\C^{n\\times n}\n",
    "$$\n",
    "\n",
    "を満たす $\\lambda\\in \\C$, $x\\in \\C^{n\\times n}$ ($x\\neq 0$) を求める問題を指す。\n",
    "\n",
    "Juliaで固有値と固有ベクトルを求める際には、`LinearAlgebra`パッケージに含まれている関数`eigen`・`eigvals`・`eigvecs`で求めることができる。\n",
    "\n",
    "|関数| 役割 |\n",
    "|:-----------|:----------|\n",
    "| eigen()    | 固有値・固有ベクトル両方  |\n",
    "| eigvals()    | 固有値  |\n",
    "| eigvecs()  | 固有ベクトル |\n",
    "\n",
    "多分、Lapackの何かを呼び足してるはず。"
   ]
  },
  {
   "cell_type": "code",
   "execution_count": 1,
   "metadata": {},
   "outputs": [
    {
     "data": {
      "text/plain": [
       "Eigen{Float64,Float64,Array{Float64,2},Array{Float64,1}}\n",
       "values:\n",
       "2-element Array{Float64,1}:\n",
       " -1.0\n",
       "  3.0\n",
       "vectors:\n",
       "2×2 Array{Float64,2}:\n",
       " -0.707107  0.707107\n",
       "  0.707107  0.707107"
      ]
     },
     "execution_count": 1,
     "metadata": {},
     "output_type": "execute_result"
    }
   ],
   "source": [
    "using LinearAlgebra\n",
    "val, vec  = eigen([1 2; 2 1])"
   ]
  },
  {
   "cell_type": "code",
   "execution_count": 2,
   "metadata": {},
   "outputs": [
    {
     "data": {
      "text/plain": [
       "2-element Array{Float64,1}:\n",
       " -1.0\n",
       "  3.0"
      ]
     },
     "execution_count": 2,
     "metadata": {},
     "output_type": "execute_result"
    }
   ],
   "source": [
    "val#固有値"
   ]
  },
  {
   "cell_type": "code",
   "execution_count": 3,
   "metadata": {},
   "outputs": [
    {
     "data": {
      "text/plain": [
       "2×2 Array{Float64,2}:\n",
       " -0.707107  0.707107\n",
       "  0.707107  0.707107"
      ]
     },
     "execution_count": 3,
     "metadata": {},
     "output_type": "execute_result"
    }
   ],
   "source": [
    "vec#固有ベクトル"
   ]
  },
  {
   "cell_type": "code",
   "execution_count": 4,
   "metadata": {},
   "outputs": [
    {
     "data": {
      "text/plain": [
       "2-element Array{Float64,1}:\n",
       " -1.0\n",
       "  3.0"
      ]
     },
     "execution_count": 4,
     "metadata": {},
     "output_type": "execute_result"
    }
   ],
   "source": [
    "eigvals([1 2; 2 1])#固有値"
   ]
  },
  {
   "cell_type": "code",
   "execution_count": 5,
   "metadata": {},
   "outputs": [
    {
     "data": {
      "text/plain": [
       "2×2 Array{Float64,2}:\n",
       " -0.707107  0.707107\n",
       "  0.707107  0.707107"
      ]
     },
     "execution_count": 5,
     "metadata": {},
     "output_type": "execute_result"
    }
   ],
   "source": [
    "eigvecs([1 2; 2 1])#固有ベクトル"
   ]
  },
  {
   "cell_type": "markdown",
   "metadata": {},
   "source": [
    "## 密行列の固有値問題に対する精度保証\n",
    "\n",
    "密行列とは、行列内のほとんどの要素が $0$ でない行列のことを指す。ここでは、行列$A\\in\\C^{n\\times n}$ $(i=1,2,\\cdots,n)$ の全ての固有値に対する精度保証アルゴリズムを考える。 \n",
    "\n",
    "### 実装したいアルゴリズム\n",
    "(1)\n",
    "ある行列 $A$ の全ての近似固有ベクトル $\\bX\\in\\C^{n\\times n}$ $(i=1,2,\\cdots,n)$ を求める。\n",
    "\n",
    "(2)\n",
    "$A\\cdot\\bX$ の包含 $C\\in\\IC^{n\\times n}$ を求める。\n",
    "\n",
    "(3)\n",
    "区間連立1次方程式 $\\bX G=C$ の解集合の包含 $G\\supset \\bX^{-1}\\cdot C$ ($G\\in\\IC^{n\\times n}$) を求める。\n",
    "\n",
    "(4)\n",
    "$G\\in\\IC^{n\\times n}$ に対してゲルシュゴリンの定理を適用することを考える。"
   ]
  },
  {
   "cell_type": "markdown",
   "metadata": {},
   "source": [
    "#### (1) 行列 $A$ の全ての近似固有ベクトル $\\bX\\in\\C^{n\\times n}$ $(i=1,2,\\cdots,n)$ を求める。\n",
    "\n",
    "行列 $A\\in\\C^{n\\times n}$ $(i=1,2,\\cdots,n)$ が対角化可能であるとするとき、$\\lambda_i$ に対する固有ベクトル$x^{(i)}\\in\\C^{n}$ $(i=1,2,\\cdots,n)$ を並べた行列\n",
    "\n",
    "$$\n",
    "X :=[x^{(1)},x^{(2)},\\cdots,x^{(n)}]\\in\\C^{n\\times n}\n",
    "$$\n",
    "\n",
    "によって、$A$ は\n",
    "\n",
    "$$\n",
    "X^{-1}AX = D = \\rm{diag}(\\lambda_1,\\lambda_2,\\cdots,\\lambda_n)\n",
    "$$\n",
    "\n",
    "と対角化される。"
   ]
  },
  {
   "cell_type": "code",
   "execution_count": 1,
   "metadata": {},
   "outputs": [],
   "source": [
    "using LinearAlgebra\n",
    "\n",
    "n =100;\n",
    "A = randn(n,n);\n",
    "\n",
    "λ, X = eigen(A);"
   ]
  },
  {
   "cell_type": "code",
   "execution_count": 7,
   "metadata": {},
   "outputs": [
    {
     "data": {
      "text/plain": [
       "100-element Array{Complex{Float64},1}:\n",
       " -9.354993607755423 - 3.10521804510489im\n",
       " -9.354993607755423 + 3.10521804510489im\n",
       " -8.829914109169227 + 0.0im\n",
       " -8.596852246470185 - 1.420381695818213im\n",
       " -8.596852246470185 + 1.420381695818213im\n",
       " -7.736385006247817 - 4.386708899636766im\n",
       " -7.736385006247817 + 4.386708899636766im\n",
       " -7.288022105164716 - 3.0070994784994345im\n",
       " -7.288022105164716 + 3.0070994784994345im\n",
       " -6.957330762988619 - 1.9038291222117576im\n",
       " -6.957330762988619 + 1.9038291222117576im\n",
       " -6.688403708534512 - 4.062016699665395im\n",
       " -6.688403708534512 + 4.062016699665395im\n",
       "                    ⋮\n",
       "  6.424818025552053 - 0.7526839287969654im\n",
       "  6.424818025552053 + 0.7526839287969654im\n",
       "  6.684710107899111 - 2.2067326219374404im\n",
       "  6.684710107899111 + 2.2067326219374404im\n",
       "   7.06321456373899 - 5.976599344387202im\n",
       "   7.06321456373899 + 5.976599344387202im\n",
       "    8.0111505899481 + 0.0im\n",
       "  8.642183684411435 - 2.8700248930404797im\n",
       "  8.642183684411435 + 2.8700248930404797im\n",
       "  9.587731644661712 - 2.7672810501875404im\n",
       "  9.587731644661712 + 2.7672810501875404im\n",
       " 10.284764568645572 + 0.0im"
      ]
     },
     "execution_count": 7,
     "metadata": {},
     "output_type": "execute_result"
    }
   ],
   "source": [
    "λ #固有値"
   ]
  },
  {
   "cell_type": "code",
   "execution_count": 8,
   "metadata": {},
   "outputs": [
    {
     "data": {
      "text/plain": [
       "100×100 Array{Complex{Float64},2}:\n",
       "  -0.0324332-0.0676809im    -0.0324332+0.0676809im   …    -0.123008+0.0im\n",
       "  -0.0256079+0.073751im     -0.0256079-0.073751im          0.020085+0.0im\n",
       "   0.0166231+0.160937im      0.0166231-0.160937im        -0.0877203+0.0im\n",
       "   -0.221685-0.0im           -0.221685+0.0im             -0.0825351+0.0im\n",
       "  0.00644233+0.0717538im    0.00644233-0.0717538im         0.300167+0.0im\n",
       "  -0.0549602-0.006093im     -0.0549602+0.006093im    …     0.119811+0.0im\n",
       "   -0.137734+0.0202734im     -0.137734-0.0202734im        0.0253535+0.0im\n",
       "    0.160319-0.0596742im      0.160319+0.0596742im         0.064853+0.0im\n",
       "   0.0486162-0.040065im      0.0486162+0.040065im         -0.116457+0.0im\n",
       " -0.00727075+0.00947815im  -0.00727075-0.00947815im      -0.0671906+0.0im\n",
       "   -0.126487-0.10555im       -0.126487+0.10555im     …   -0.0373159+0.0im\n",
       "  -0.0181367-0.00657198im   -0.0181367+0.00657198im       -0.126041+0.0im\n",
       "  0.00204521+0.0281492im    0.00204521-0.0281492im        -0.085803+0.0im\n",
       "            ⋮                                        ⋱  \n",
       "  -0.0889089+0.0640921im    -0.0889089-0.0640921im         0.103589+0.0im\n",
       "   0.0465226-0.00550926im    0.0465226+0.00550926im      -0.0959642+0.0im\n",
       "  -0.0052202-0.0868992im    -0.0052202+0.0868992im   …     0.044368+0.0im\n",
       "     0.16958-0.0999079im       0.16958+0.0999079im        -0.126661+0.0im\n",
       "    0.106472-0.0916482im      0.106472+0.0916482im         0.126068+0.0im\n",
       "  -0.0316098+0.0714849im    -0.0316098-0.0714849im         0.046532+0.0im\n",
       "   0.0480925-0.113683im      0.0480925+0.113683im        -0.0793606+0.0im\n",
       "   0.0502719-0.105667im      0.0502719+0.105667im    …  -0.00418035+0.0im\n",
       "  -0.0124404-0.0375522im    -0.0124404+0.0375522im        0.0578407+0.0im\n",
       "    0.123979+0.0103887im      0.123979-0.0103887im       -0.0327439+0.0im\n",
       "  -0.0416222+0.0120935im    -0.0416222-0.0120935im        0.0617971+0.0im\n",
       "   -0.147051-0.0520259im     -0.147051+0.0520259im       -0.0442588+0.0im"
      ]
     },
     "execution_count": 8,
     "metadata": {},
     "output_type": "execute_result"
    }
   ],
   "source": [
    "X #固有ベクトル"
   ]
  },
  {
   "cell_type": "markdown",
   "metadata": {},
   "source": [
    "しかし、実際のところ上記の数値計算で得られる固有ベクトル $X$ は近似の値 $\\bX\\in \\C^{n\\times n}$ (以下、近似固有ベクトルという) である。しかし、近似固有ベクトルを並べた行列を使って、対角化したものについては、対角優位性が期待できる。この行列を $G$ とすると、\n",
    "\n",
    "$$\n",
    "G := \\bX^{-1}A\\bX\n",
    "$$\n",
    "\n",
    "となり、行列 $G$ の対角成分は行列 $A$ の固有値の近似となる。\n",
    "\n",
    "また、対角優位性とは、ある行列$A=(a_{ij})$について、\n",
    "\n",
    "$$\n",
    "\\left|a_{i i}\\right|>\\sum_{{j} \\colon j \\neq i}\\left|a_{i j}\\right| \\quad(i=1,2, \\ldots, n)\n",
    "$$\n",
    "\n",
    "であること。つまり、行列のどの対角成分の絶対値も、それと同じ列にある非対角成分の和よりも大きい時。"
   ]
  },
  {
   "cell_type": "code",
   "execution_count": 9,
   "metadata": {},
   "outputs": [
    {
     "data": {
      "text/plain": [
       "5.311895280018592e-14"
      ]
     },
     "execution_count": 9,
     "metadata": {},
     "output_type": "execute_result"
    }
   ],
   "source": [
    "G = inv(X)*A*X; #G\n",
    "norm(diag(G) - λ,Inf) # Gの対角成分は固有値λにほぼ一致する"
   ]
  },
  {
   "cell_type": "markdown",
   "metadata": {},
   "source": [
    "#### (2) $A\\cdot\\bX$ の包含 $C\\in\\IC^{n\\times n}$ を求める。\n",
    "\n",
    "``方法1``各演算を区間演算に変更した方式(参考：[interval_dot-mul.ipynb](https://www.risk.tsukuba.ac.jp/~takitoshi/tutorial/interval_dot-mul.html \"タイトル\"))"
   ]
  },
  {
   "cell_type": "code",
   "execution_count": 10,
   "metadata": {},
   "outputs": [
    {
     "name": "stdout",
     "output_type": "stream",
     "text": [
      "  82.239 ms (8 allocations: 312.91 KiB)\n"
     ]
    }
   ],
   "source": [
    "using IntervalArithmetic, BenchmarkTools\n",
    "\n",
    "iA = map(Interval, A);\n",
    "iX = map(Interval, X);\n",
    "\n",
    "@btime C1 = $iA * $iX;"
   ]
  },
  {
   "cell_type": "code",
   "execution_count": 11,
   "metadata": {},
   "outputs": [
    {
     "ename": "LoadError",
     "evalue": "UndefVarError: C1 not defined",
     "output_type": "error",
     "traceback": [
      "UndefVarError: C1 not defined",
      "",
      "Stacktrace:",
      " [1] top-level scope at show.jl:641",
      " [2] include_string(::Function, ::Module, ::String, ::String) at ./loading.jl:1091"
     ]
    }
   ],
   "source": [
    "@show max(maximum(radius.(real(C1[:]))),maximum(radius.(imag(C1[:]))))"
   ]
  },
  {
   "cell_type": "markdown",
   "metadata": {},
   "source": [
    "``方法2``BLASを使う。int_num_linalg.jlの呼び出し。この方が早い。"
   ]
  },
  {
   "cell_type": "code",
   "execution_count": 2,
   "metadata": {},
   "outputs": [
    {
     "name": "stdout",
     "output_type": "stream",
     "text": [
      "  1.726199 seconds (6.24 M allocations: 291.731 MiB, 12.38% gc time)\n",
      "  0.150193 seconds (105.65 k allocations: 4.592 MiB)\n",
      "  0.155720 seconds (105.65 k allocations: 4.592 MiB)\n"
     ]
    }
   ],
   "source": [
    "using BenchmarkTools\n",
    "include(\"IntervalLinearAlgebra.jl\"); # int_mulを使用する\n",
    "# @time C1 = mm_comp_interval_alt(iA,iX);\n",
    "@time C = int_mul(A,X); # A, X: complex matrices (not interval)\n",
    "@time C = int_mul(A,X); # A, X: complex matrices (not interval)\n",
    "@time C = int_mul(A,X); # A, X: complex matrices (not interval)\n"
   ]
  },
  {
   "cell_type": "code",
   "execution_count": 13,
   "metadata": {},
   "outputs": [
    {
     "data": {
      "text/plain": [
       "9.059419880941277e-14"
      ]
     },
     "execution_count": 13,
     "metadata": {},
     "output_type": "execute_result"
    }
   ],
   "source": [
    "max(maximum(radius.(real(C[:]))),maximum(radius.(imag(C[:]))))"
   ]
  },
  {
   "cell_type": "code",
   "execution_count": 14,
   "metadata": {},
   "outputs": [
    {
     "data": {
      "text/plain": [
       "100×100 Array{Interval{Float64},2}:\n",
       "  [0.093248, 0.0932481]       …  [-1.26511, -1.2651]\n",
       "  [0.468574, 0.468575]            [0.206569, 0.20657]\n",
       "  [0.344236, 0.344237]           [-0.902183, -0.902182]\n",
       "  [2.07386, 2.07387]             [-0.848854, -0.848853]\n",
       "  [0.162543, 0.162544]            [3.08715, 3.08716]\n",
       "  [0.495231, 0.495232]        …   [1.23223, 1.23224]\n",
       "  [1.35145, 1.35146]              [0.260754, 0.260755]\n",
       " [-1.68509, -1.68508]             [0.666997, 0.666998]\n",
       " [-0.579215, -0.579214]          [-1.19774, -1.19773]\n",
       "  [0.0974495, 0.0974496]         [-0.69104, -0.691039]\n",
       "  [0.855526, 0.855527]        …  [-0.383786, -0.383785]\n",
       "  [0.149261, 0.149262]           [-1.2963, -1.29629]\n",
       "  [0.0682766, 0.0682767]         [-0.882464, -0.882463]\n",
       "   ⋮                          ⋱  \n",
       "  [1.03076, 1.03077]              [1.06538, 1.06539]\n",
       " [-0.452326, -0.452325]          [-0.98697, -0.986969]\n",
       " [-0.221006, -0.221005]       …   [0.456314, 0.456315]\n",
       " [-1.89666, -1.89665]            [-1.30269, -1.30268]\n",
       " [-1.28064, -1.28063]             [1.29657, 1.29658]\n",
       "  [0.517685, 0.517686]            [0.47857, 0.478571]\n",
       " [-0.802916, -0.802915]          [-0.816205, -0.816204]\n",
       " [-0.798414, -0.798413]       …  [-0.042994, -0.0429939]\n",
       " [-0.000227661, -0.00022766]      [0.594878, 0.594879]\n",
       " [-1.12757, -1.12756]            [-0.336764, -0.336763]\n",
       "  [0.426928, 0.426929]            [0.635568, 0.635569]\n",
       "  [1.2141, 1.21411]              [-0.455192, -0.455191]"
      ]
     },
     "execution_count": 14,
     "metadata": {},
     "output_type": "execute_result"
    }
   ],
   "source": [
    "real(C)"
   ]
  },
  {
   "cell_type": "code",
   "execution_count": 15,
   "metadata": {},
   "outputs": [
    {
     "data": {
      "text/plain": [
       "100×100 Array{Interval{Float64},2}:\n",
       "  [0.733866, 0.733867]     …  [-2.22508e-308, 2.22508e-308]\n",
       " [-0.610422, -0.610421]       [-2.22508e-308, 2.22508e-308]\n",
       " [-1.55719, -1.55718]         [-2.22508e-308, 2.22508e-308]\n",
       "  [0.68838, 0.688381]         [-2.22508e-308, 2.22508e-308]\n",
       " [-0.691261, -0.69126]        [-2.22508e-308, 2.22508e-308]\n",
       "  [0.227663, 0.227664]     …  [-2.22508e-308, 2.22508e-308]\n",
       "  [0.238036, 0.238037]        [-2.22508e-308, 2.22508e-308]\n",
       "  [0.060425, 0.0604251]       [-2.22508e-308, 2.22508e-308]\n",
       "  [0.223843, 0.223844]        [-2.22508e-308, 2.22508e-308]\n",
       " [-0.0660908, -0.0660907]     [-2.22508e-308, 2.22508e-308]\n",
       "  [1.38019, 1.3802]        …  [-2.22508e-308, 2.22508e-308]\n",
       "  [0.117799, 0.1178]          [-2.22508e-308, 2.22508e-308]\n",
       " [-0.269687, -0.269686]       [-2.22508e-308, 2.22508e-308]\n",
       "   ⋮                       ⋱  \n",
       " [-0.3235, -0.323499]         [-2.22508e-308, 2.22508e-308]\n",
       " [-0.0929236, -0.0929235]     [-2.22508e-308, 2.22508e-308]\n",
       "  [0.82915, 0.829151]      …  [-2.22508e-308, 2.22508e-308]\n",
       "  [0.408055, 0.408056]        [-2.22508e-308, 2.22508e-308]\n",
       "  [0.526749, 0.52675]         [-2.22508e-308, 2.22508e-308]\n",
       " [-0.570586, -0.570585]       [-2.22508e-308, 2.22508e-308]\n",
       "  [0.914166, 0.914167]        [-2.22508e-308, 2.22508e-308]\n",
       "  [0.832412, 0.832413]     …  [-2.22508e-308, 2.22508e-308]\n",
       "  [0.38993, 0.389931]         [-2.22508e-308, 2.22508e-308]\n",
       " [-0.482169, -0.482168]       [-2.22508e-308, 2.22508e-308]\n",
       "  [0.0161112, 0.0161113]      [-2.22508e-308, 2.22508e-308]\n",
       "  [0.943325, 0.943326]        [-2.22508e-308, 2.22508e-308]"
      ]
     },
     "execution_count": 15,
     "metadata": {},
     "output_type": "execute_result"
    }
   ],
   "source": [
    "imag(C)"
   ]
  },
  {
   "cell_type": "markdown",
   "metadata": {},
   "source": [
    "#### (3 )区間連立1次方程式 $\\hat XG=C$ の解集合の包含 $G\\supset\\hat X^{-1}\\cdot C$ を求める。"
   ]
  },
  {
   "cell_type": "code",
   "execution_count": 3,
   "metadata": {},
   "outputs": [
    {
     "data": {
      "text/plain": [
       "verifylss_ib (generic function with 1 method)"
      ]
     },
     "execution_count": 3,
     "metadata": {},
     "output_type": "execute_result"
    }
   ],
   "source": [
    "function verifylss_ib(A,ib) # verify the solution element-wisely\n",
    "    b = mid.(real(ib)) + mid.(imag(ib))*im;\n",
    "    x̄ = A\\b;\n",
    "    n = length(x̄);\n",
    "    R = inv(A);\n",
    "    #########\n",
    "    #C_mid, C_rad = mm_ufp(R,A);\n",
    "    G = Matrix{Float64}(I, n, n) - int_mul(R,A);\n",
    "    α = opnorm(G,Inf)# Interval arithmetic\n",
    "    #########\n",
    "    if α < 1\n",
    "        x̄ = map(Interval,x̄);\n",
    "        r = A*x̄ - ib; # Interval arithmetic\n",
    "        Rr = R*r;\n",
    "        err = abs.(Rr) + supremum(norm(Rr,Inf))/(1-α)*(abs.(G)*ones(n)); # Interval arithmetic\n",
    "    else\n",
    "        println(\"Oh my way, verification is failed...\")\n",
    "        err = nan;\n",
    "    end\n",
    "    return x = (real(x̄) .± supremum.(err)) + im*(imag(x̄) .± supremum.(err))\n",
    "end"
   ]
  },
  {
   "cell_type": "code",
   "execution_count": 4,
   "metadata": {},
   "outputs": [
    {
     "name": "stderr",
     "output_type": "stream",
     "text": [
      "┌ Warning: `supremum` is deprecated, use `sup` instead.\n",
      "│   caller = verifylss_ib(::Array{Complex{Float64},2}, ::Array{Complex{Interval{Float64}},1}) at In[3]:15\n",
      "└ @ Main ./In[3]:15\n",
      "┌ Warning: `supremum` is deprecated, use `sup` instead.\n",
      "│   caller = _broadcast_getindex_evalf at broadcast.jl:630 [inlined]\n",
      "└ @ Core ./broadcast.jl:630\n"
     ]
    },
    {
     "data": {
      "text/plain": [
       "100×100 Array{Interval{Float64},2}:\n",
       " [-10.8269, -10.8268]          …  [-1.31215e-12, 1.35827e-12]\n",
       "  [-1.0999e-12, 1.10066e-12]      [-1.80161e-12, 1.74029e-12]\n",
       "  [-1.0999e-12, 1.10066e-12]      [-1.76533e-12, 1.78192e-12]\n",
       "  [-1.56657e-12, 1.56793e-12]     [-1.83778e-12, 1.8581e-12] \n",
       "  [-3.04066e-12, 3.03839e-12]     [-3.59607e-12, 3.56427e-12]\n",
       "  [-2.18775e-12, 2.18753e-12]  …  [-3.63399e-12, 3.62538e-12]\n",
       "  [-2.18775e-12, 2.18753e-12]     [-3.62476e-12, 3.64271e-12]\n",
       "  [-3.25612e-12, 3.25702e-12]     [-5.16231e-12, 5.17514e-12]\n",
       "  [-3.25612e-12, 3.25702e-12]     [-5.18848e-12, 5.15823e-12]\n",
       "  [-1.35397e-12, 1.35342e-12]     [-2.20064e-12, 2.21401e-12]\n",
       "  [-1.35397e-12, 1.35342e-12]  …  [-2.21517e-12, 2.18259e-12]\n",
       "  [-3.23737e-12, 3.22412e-12]     [-3.78045e-12, 3.81705e-12]\n",
       "  [-1.94959e-12, 1.95817e-12]     [-3.16757e-12, 3.17731e-12]\n",
       "    ⋮                          ⋱                             \n",
       "  [-7.75792e-13, 7.68648e-13]     [-1.27434e-12, 1.28294e-12]\n",
       "  [-3.19351e-12, 3.19466e-12]     [-5.21871e-12, 5.29476e-12]\n",
       "  [-3.19351e-12, 3.19466e-12]  …  [-5.27392e-12, 5.25236e-12]\n",
       "  [-4.70339e-12, 4.73425e-12]     [-7.70996e-12, 7.74566e-12]\n",
       "  [-4.70339e-12, 4.73425e-12]     [-7.73581e-12, 7.70834e-12]\n",
       "  [-1.59639e-11, 1.58939e-11]     [-2.25755e-11, 2.25782e-11]\n",
       "  [-1.59639e-11, 1.58939e-11]     [-2.25733e-11, 2.25801e-11]\n",
       "  [-2.69649e-12, 2.7253e-12]   …  [-4.50864e-12, 4.45054e-12]\n",
       "  [-2.69649e-12, 2.7253e-12]      [-4.46549e-12, 4.49611e-12]\n",
       "  [-6.69012e-12, 6.5192e-12]      [-7.80794e-12, 7.85705e-12]\n",
       "  [-1.09663e-12, 1.10571e-12]     [-1.81011e-12, 1.75162e-12]\n",
       "  [-1.09663e-12, 1.10571e-12]      [8.87718, 8.87719]        "
      ]
     },
     "execution_count": 4,
     "metadata": {},
     "output_type": "execute_result"
    }
   ],
   "source": [
    "G = similar(C);\n",
    "for i = 1:n\n",
    "    G[:,i] = verifylss_ib(X,C[:,i]);\n",
    "end\n",
    "real(G)"
   ]
  },
  {
   "cell_type": "code",
   "execution_count": 18,
   "metadata": {},
   "outputs": [
    {
     "data": {
      "text/plain": [
       "2-element Array{Array{T,1} where T,1}:\n",
       " Interval{Float64}[[-9.355, -9.35499], [-9.355, -9.35499], [-8.82992, -8.82991], [-8.59686, -8.59685], [-8.59686, -8.59685], [-7.73639, -7.73638], [-7.73639, -7.73638], [-7.28803, -7.28802], [-7.28803, -7.28802], [-6.95734, -6.95733]  …  [6.68471, 6.68472], [6.68471, 6.68472], [7.06321, 7.06322], [7.06321, 7.06322], [8.01115, 8.01116], [8.64218, 8.64219], [8.64218, 8.64219], [9.58773, 9.58774], [9.58773, 9.58774], [10.2847, 10.2848]]\n",
       " Complex{Float64}[-9.354993607755423 - 3.10521804510489im, -9.354993607755423 + 3.10521804510489im, -8.829914109169227 + 0.0im, -8.596852246470185 - 1.420381695818213im, -8.596852246470185 + 1.420381695818213im, -7.736385006247817 - 4.386708899636766im, -7.736385006247817 + 4.386708899636766im, -7.288022105164716 - 3.0070994784994345im, -7.288022105164716 + 3.0070994784994345im, -6.957330762988619 - 1.9038291222117576im  …  6.684710107899111 - 2.2067326219374404im, 6.684710107899111 + 2.2067326219374404im, 7.06321456373899 - 5.976599344387202im, 7.06321456373899 + 5.976599344387202im, 8.0111505899481 + 0.0im, 8.642183684411435 - 2.8700248930404797im, 8.642183684411435 + 2.8700248930404797im, 9.587731644661712 - 2.7672810501875404im, 9.587731644661712 + 2.7672810501875404im, 10.284764568645572 + 0.0im]"
      ]
     },
     "execution_count": 18,
     "metadata": {},
     "output_type": "execute_result"
    }
   ],
   "source": [
    "[real(diag(G)), λ]"
   ]
  },
  {
   "cell_type": "markdown",
   "metadata": {},
   "source": [
    "#### 4) $G\\in\\IC^{n\\times n}$ に対してゲルシュゴリンの定理を適用することを考える。"
   ]
  },
  {
   "cell_type": "markdown",
   "metadata": {},
   "source": [
    "\n",
    "## ゲルシュゴリンの包含定理\n",
    "行列 $A=(A_{ij})\\in \\C^{n\\times n}$ について、$A$ の全ての固有値 $\\lambda_i$ は、$\\bigcup_{1\\le i \\le n}  U_i$ の内部に存在する。\n",
    "\n",
    "$$\n",
    "A\\subseteq\\bigcup_{1\\le i \\le n}  U_i \n",
    "$$\n",
    "\n",
    "ただし、\n",
    "\n",
    "$$\n",
    "U_i = \\left\\{z\\in\\mathbb{C}:|z-a_{ii}|\\le \\sum_{j\\neq i}|a_{ij}|\\right\\}\n",
    "$$\n",
    "\n",
    "である。円盤領域 $U_i$ をゲルシュゴリン円板といい、$A$ が強い優対角性を持つとき、$A$ の対角成分が $A$ の固有値の良い近似となる。今回の場合、$G=(g_{ij})_{1\\le i,j\\le n}\\in\\IC^{n\\times n}$ の対角成分 $(g_{ii})_{1\\le i\\le n}$ を $(c_{i})_{1\\le i\\le n}\\in \\IC^{n}$ とし、各成分の半径を $\\mathrm{rad}(c_i)$ とすると、\n",
    "\n",
    "$$\n",
    "\\begin{array}{ll}\n",
    "\\mbox{ゲルシュゴリン円の中心:}&\\mathrm{mid}(c_i)\\\\\n",
    "\\mbox{ゲルシュゴリン円の半径:}&r_i=\\sum_{j\\neq i}\\rm{mag}(g_{ij})+\\rm{rad}(c_{i})\\\\\n",
    "\\end{array}\n",
    "$$\n",
    "\n",
    "となる。"
   ]
  },
  {
   "cell_type": "code",
   "execution_count": 5,
   "metadata": {},
   "outputs": [
    {
     "data": {
      "text/plain": [
       "mid (generic function with 7 methods)"
      ]
     },
     "execution_count": 5,
     "metadata": {},
     "output_type": "execute_result"
    }
   ],
   "source": [
    "import IntervalArithmetic: mag, radius, mid\n",
    "function mag(v::Complex{Interval{T}}) where T# mag function for complex interval vectors\n",
    "    abs_v = abs(v);\n",
    "    return max(abs_v.lo,abs_v.hi)\n",
    "end\n",
    "\n",
    "function radius(v::Complex{Interval{T}}) where T# mag function for complex interval vectors\n",
    "    return sqrt(interval(radius(real(v)))^2 + interval(radius(imag(v)))^2)\n",
    "end\n",
    "\n",
    "function mid(v::Complex{Interval{T}}) where T# mag function for complex interval vectors\n",
    "    return mid(real(v)) + mid(imag(v))*im\n",
    "end"
   ]
  },
  {
   "cell_type": "code",
   "execution_count": 6,
   "metadata": {},
   "outputs": [],
   "source": [
    "r = zeros(n);\n",
    "c = diag(G);\n",
    "# G_org = G;\n",
    "# for i ∈ 1:n\n",
    "#     G[i,i] = 0;\n",
    "# end\n",
    "for i = 1:n\n",
    "    for j = 1:n\n",
    "        if i != j\n",
    "            r[i] += mag(G[i,j]);\n",
    "        end\n",
    "    end\n",
    "    r[i] += mag(radius.(c[i]));\n",
    "end\n",
    "λc = mid.(c);"
   ]
  },
  {
   "cell_type": "code",
   "execution_count": 7,
   "metadata": {},
   "outputs": [
    {
     "data": {
      "text/plain": [
       "100×2 Array{Interval{Float64},2}:\n",
       " [-10.8269, -10.8268]   [-1.82262e-10, 1.82262e-10]\n",
       "  [-9.42296, -9.42295]  [-3.20878, -3.20877]       \n",
       "  [-9.42296, -9.42295]   [3.20877, 3.20878]        \n",
       "  [-8.89599, -8.89598]  [-2.50883e-10, 2.50883e-10]\n",
       "  [-8.10239, -8.10238]  [-4.84469e-10, 4.84469e-10]\n",
       "  [-7.84368, -7.84367]  [-2.23218, -2.23217]       \n",
       "  [-7.84368, -7.84367]   [2.23217, 2.23218]        \n",
       "  [-7.71808, -7.71807]  [-1.36402, -1.36401]       \n",
       "  [-7.71808, -7.71807]   [1.36401, 1.36402]        \n",
       "  [-7.4548, -7.45479]   [-4.63452, -4.63451]       \n",
       "  [-7.4548, -7.45479]    [4.63451, 4.63452]        \n",
       "  [-6.74216, -6.74215]  [-5.10127e-10, 5.10127e-10]\n",
       "  [-5.68876, -5.68875]  [-6.01145, -6.01144]       \n",
       "    ⋮                                              \n",
       "   [6.89653, 6.89654]    [7.70166, 7.70167]        \n",
       "   [7.56557, 7.56558]   [-4.48812, -4.48811]       \n",
       "   [7.56557, 7.56558]    [4.48811, 4.48812]        \n",
       "   [7.7546, 7.75461]    [-3.80182, -3.80181]       \n",
       "   [7.7546, 7.75461]     [3.80181, 3.80182]        \n",
       "   [7.77256, 7.77257]   [-0.124108, -0.124107]     \n",
       "   [7.77256, 7.77257]    [0.124107, 0.124108]      \n",
       "   [8.34304, 8.34305]   [-3.17589, -3.17588]       \n",
       "   [8.34304, 8.34305]    [3.17588, 3.17589]        \n",
       "   [8.61871, 8.61872]   [-1.05088e-09, 1.05088e-09]\n",
       "   [8.87718, 8.87719]   [-2.41283, -2.41282]       \n",
       "   [8.87718, 8.87719]    [2.41282, 2.41283]        "
      ]
     },
     "execution_count": 7,
     "metadata": {},
     "output_type": "execute_result"
    }
   ],
   "source": [
    "iλ = (real(λc) .± r) + im*(imag(λc) .± r);\n",
    "[real(iλ) imag(iλ)]"
   ]
  },
  {
   "cell_type": "code",
   "execution_count": 22,
   "metadata": {},
   "outputs": [
    {
     "data": {
      "text/plain": [
       "100"
      ]
     },
     "execution_count": 22,
     "metadata": {},
     "output_type": "execute_result"
    }
   ],
   "source": [
    "sum(λ .∈ iλ)"
   ]
  },
  {
   "cell_type": "code",
   "execution_count": 23,
   "metadata": {},
   "outputs": [],
   "source": [
    "r = sup.(radius.(iλ));"
   ]
  },
  {
   "cell_type": "code",
   "execution_count": 24,
   "metadata": {},
   "outputs": [
    {
     "data": {
      "text/plain": [
       "100-element Array{Float64,1}:\n",
       " 2.5775689971618714e-10\n",
       " 3.3222214370332833e-10\n",
       " 3.3219796428020675e-10\n",
       " 3.548020512398507e-10 \n",
       " 6.851440445858652e-10 \n",
       " 6.685996941066956e-10 \n",
       " 6.685324941494641e-10 \n",
       " 9.538223761326248e-10 \n",
       " 9.534548174883701e-10 \n",
       " 4.099253914464924e-10 \n",
       " 4.0973949249938446e-10\n",
       " 7.214274516095858e-10 \n",
       " 5.884392516655053e-10 \n",
       " ⋮                     \n",
       " 2.3492414207592414e-10\n",
       " 9.642226685789462e-10 \n",
       " 9.642226685789462e-10 \n",
       " 1.419449937735395e-9  \n",
       " 1.4195278143213457e-9 \n",
       " 4.197765577932181e-9  \n",
       " 4.197684001815958e-9  \n",
       " 8.222994990908256e-10 \n",
       " 8.22450856004562e-10  \n",
       " 1.4861623885082022e-9 \n",
       " 3.3098114262398693e-10\n",
       " 3.309246192954744e-10 "
      ]
     },
     "execution_count": 24,
     "metadata": {},
     "output_type": "execute_result"
    }
   ],
   "source": [
    "r"
   ]
  },
  {
   "cell_type": "markdown",
   "metadata": {},
   "source": [
    "※11/25↓\n",
    "https://hsugawa8651.github.io/memojuliav064/ch13.html#%E3%82%AC%E3%82%A6%E3%82%B9%E5%B9%B3%E9%9D%A2-1\n",
    "を参考に図示しようとしたが、Plotsが上手く作動せずにエラー。"
   ]
  },
  {
   "cell_type": "code",
   "execution_count": 13,
   "metadata": {},
   "outputs": [
    {
     "name": "stderr",
     "output_type": "stream",
     "text": [
      "┌ Info: Precompiling Plots [91a5bcdd-55d7-5caf-9e0b-520d859cae80]\n",
      "└ @ Base loading.jl:1273\n"
     ]
    }
   ],
   "source": [
    "using Plots"
   ]
  },
  {
   "cell_type": "markdown",
   "metadata": {},
   "source": [
    "WARNING: using Plots.center in module Main conflicts with an existing identifier."
   ]
  },
  {
   "cell_type": "code",
   "execution_count": 67,
   "metadata": {},
   "outputs": [
    {
     "data": {
      "image/svg+xml": [
       "<?xml version=\"1.0\" encoding=\"utf-8\"?>\n",
       "<svg xmlns=\"http://www.w3.org/2000/svg\" xmlns:xlink=\"http://www.w3.org/1999/xlink\" width=\"600\" height=\"400\" viewBox=\"0 0 2400 1600\">\n",
       "<defs>\n",
       "  <clipPath id=\"clip830\">\n",
       "    <rect x=\"0\" y=\"0\" width=\"2400\" height=\"1600\"/>\n",
       "  </clipPath>\n",
       "</defs>\n",
       "<path clip-path=\"url(#clip830)\" d=\"\n",
       "M0 1600 L2400 1600 L2400 0 L0 0  Z\n",
       "  \" fill=\"#ffffff\" fill-rule=\"evenodd\" fill-opacity=\"1\"/>\n",
       "<defs>\n",
       "  <clipPath id=\"clip831\">\n",
       "    <rect x=\"480\" y=\"0\" width=\"1681\" height=\"1600\"/>\n",
       "  </clipPath>\n",
       "</defs>\n",
       "<path clip-path=\"url(#clip830)\" d=\"\n",
       "M179.654 1486.45 L2352.76 1486.45 L2352.76 47.2441 L179.654 47.2441  Z\n",
       "  \" fill=\"#ffffff\" fill-rule=\"evenodd\" fill-opacity=\"1\"/>\n",
       "<defs>\n",
       "  <clipPath id=\"clip832\">\n",
       "    <rect x=\"179\" y=\"47\" width=\"2174\" height=\"1440\"/>\n",
       "  </clipPath>\n",
       "</defs>\n",
       "<polyline clip-path=\"url(#clip832)\" style=\"stroke:#000000; stroke-width:2; stroke-opacity:0.1; fill:none\" points=\"\n",
       "  327.19,1486.45 327.19,47.2441 \n",
       "  \"/>\n",
       "<polyline clip-path=\"url(#clip832)\" style=\"stroke:#000000; stroke-width:2; stroke-opacity:0.1; fill:none\" points=\"\n",
       "  847.412,1486.45 847.412,47.2441 \n",
       "  \"/>\n",
       "<polyline clip-path=\"url(#clip832)\" style=\"stroke:#000000; stroke-width:2; stroke-opacity:0.1; fill:none\" points=\"\n",
       "  1367.63,1486.45 1367.63,47.2441 \n",
       "  \"/>\n",
       "<polyline clip-path=\"url(#clip832)\" style=\"stroke:#000000; stroke-width:2; stroke-opacity:0.1; fill:none\" points=\"\n",
       "  1887.85,1486.45 1887.85,47.2441 \n",
       "  \"/>\n",
       "<polyline clip-path=\"url(#clip830)\" style=\"stroke:#000000; stroke-width:4; stroke-opacity:1; fill:none\" points=\"\n",
       "  179.654,1486.45 2352.76,1486.45 \n",
       "  \"/>\n",
       "<polyline clip-path=\"url(#clip830)\" style=\"stroke:#000000; stroke-width:4; stroke-opacity:1; fill:none\" points=\"\n",
       "  327.19,1486.45 327.19,1469.18 \n",
       "  \"/>\n",
       "<polyline clip-path=\"url(#clip830)\" style=\"stroke:#000000; stroke-width:4; stroke-opacity:1; fill:none\" points=\"\n",
       "  847.412,1486.45 847.412,1469.18 \n",
       "  \"/>\n",
       "<polyline clip-path=\"url(#clip830)\" style=\"stroke:#000000; stroke-width:4; stroke-opacity:1; fill:none\" points=\"\n",
       "  1367.63,1486.45 1367.63,1469.18 \n",
       "  \"/>\n",
       "<polyline clip-path=\"url(#clip830)\" style=\"stroke:#000000; stroke-width:4; stroke-opacity:1; fill:none\" points=\"\n",
       "  1887.85,1486.45 1887.85,1469.18 \n",
       "  \"/>\n",
       "<path clip-path=\"url(#clip830)\" d=\"M 0 0 M285.952 1530.29 L315.628 1530.29 L315.628 1534.23 L285.952 1534.23 L285.952 1530.29 Z\" fill=\"#000000\" fill-rule=\"evenodd\" fill-opacity=\"1\" /><path clip-path=\"url(#clip830)\" d=\"M 0 0 M321.507 1543.18 L329.146 1543.18 L329.146 1516.82 L320.836 1518.49 L320.836 1514.23 L329.1 1512.56 L333.776 1512.56 L333.776 1543.18 L341.415 1543.18 L341.415 1547.12 L321.507 1547.12 L321.507 1543.18 Z\" fill=\"#000000\" fill-rule=\"evenodd\" fill-opacity=\"1\" /><path clip-path=\"url(#clip830)\" d=\"M 0 0 M356.484 1515.64 Q352.873 1515.64 351.044 1519.2 Q349.239 1522.75 349.239 1529.87 Q349.239 1536.98 351.044 1540.55 Q352.873 1544.09 356.484 1544.09 Q360.118 1544.09 361.924 1540.55 Q363.753 1536.98 363.753 1529.87 Q363.753 1522.75 361.924 1519.2 Q360.118 1515.64 356.484 1515.64 M356.484 1511.93 Q362.294 1511.93 365.35 1516.54 Q368.429 1521.12 368.429 1529.87 Q368.429 1538.6 365.35 1543.21 Q362.294 1547.79 356.484 1547.79 Q350.674 1547.79 347.595 1543.21 Q344.54 1538.6 344.54 1529.87 Q344.54 1521.12 347.595 1516.54 Q350.674 1511.93 356.484 1511.93 Z\" fill=\"#000000\" fill-rule=\"evenodd\" fill-opacity=\"1\" /><path clip-path=\"url(#clip830)\" d=\"M 0 0 M819.565 1530.29 L849.24 1530.29 L849.24 1534.23 L819.565 1534.23 L819.565 1530.29 Z\" fill=\"#000000\" fill-rule=\"evenodd\" fill-opacity=\"1\" /><path clip-path=\"url(#clip830)\" d=\"M 0 0 M854.356 1512.56 L872.713 1512.56 L872.713 1516.5 L858.639 1516.5 L858.639 1524.97 Q859.657 1524.62 860.676 1524.46 Q861.694 1524.27 862.713 1524.27 Q868.5 1524.27 871.879 1527.44 Q875.259 1530.62 875.259 1536.03 Q875.259 1541.61 871.787 1544.71 Q868.314 1547.79 861.995 1547.79 Q859.819 1547.79 857.551 1547.42 Q855.305 1547.05 852.898 1546.31 L852.898 1541.61 Q854.981 1542.74 857.203 1543.3 Q859.426 1543.86 861.902 1543.86 Q865.907 1543.86 868.245 1541.75 Q870.583 1539.64 870.583 1536.03 Q870.583 1532.42 868.245 1530.31 Q865.907 1528.21 861.902 1528.21 Q860.027 1528.21 858.152 1528.62 Q856.301 1529.04 854.356 1529.92 L854.356 1512.56 Z\" fill=\"#000000\" fill-rule=\"evenodd\" fill-opacity=\"1\" /><path clip-path=\"url(#clip830)\" d=\"M 0 0 M1367.63 1515.64 Q1364.02 1515.64 1362.19 1519.2 Q1360.39 1522.75 1360.39 1529.87 Q1360.39 1536.98 1362.19 1540.55 Q1364.02 1544.09 1367.63 1544.09 Q1371.27 1544.09 1373.07 1540.55 Q1374.9 1536.98 1374.9 1529.87 Q1374.9 1522.75 1373.07 1519.2 Q1371.27 1515.64 1367.63 1515.64 M1367.63 1511.93 Q1373.44 1511.93 1376.5 1516.54 Q1379.58 1521.12 1379.58 1529.87 Q1379.58 1538.6 1376.5 1543.21 Q1373.44 1547.79 1367.63 1547.79 Q1361.82 1547.79 1358.74 1543.21 Q1355.69 1538.6 1355.69 1529.87 Q1355.69 1521.12 1358.74 1516.54 Q1361.82 1511.93 1367.63 1511.93 Z\" fill=\"#000000\" fill-rule=\"evenodd\" fill-opacity=\"1\" /><path clip-path=\"url(#clip830)\" d=\"M 0 0 M1878.13 1512.56 L1896.49 1512.56 L1896.49 1516.5 L1882.41 1516.5 L1882.41 1524.97 Q1883.43 1524.62 1884.45 1524.46 Q1885.47 1524.27 1886.49 1524.27 Q1892.28 1524.27 1895.66 1527.44 Q1899.04 1530.62 1899.04 1536.03 Q1899.04 1541.61 1895.56 1544.71 Q1892.09 1547.79 1885.77 1547.79 Q1883.6 1547.79 1881.33 1547.42 Q1879.08 1547.05 1876.67 1546.31 L1876.67 1541.61 Q1878.76 1542.74 1880.98 1543.3 Q1883.2 1543.86 1885.68 1543.86 Q1889.68 1543.86 1892.02 1541.75 Q1894.36 1539.64 1894.36 1536.03 Q1894.36 1532.42 1892.02 1530.31 Q1889.68 1528.21 1885.68 1528.21 Q1883.8 1528.21 1881.93 1528.62 Q1880.08 1529.04 1878.13 1529.92 L1878.13 1512.56 Z\" fill=\"#000000\" fill-rule=\"evenodd\" fill-opacity=\"1\" /><polyline clip-path=\"url(#clip832)\" style=\"stroke:#000000; stroke-width:2; stroke-opacity:0.1; fill:none\" points=\"\n",
       "  179.654,1306.93 2352.76,1306.93 \n",
       "  \"/>\n",
       "<polyline clip-path=\"url(#clip832)\" style=\"stroke:#000000; stroke-width:2; stroke-opacity:0.1; fill:none\" points=\"\n",
       "  179.654,1126.9 2352.76,1126.9 \n",
       "  \"/>\n",
       "<polyline clip-path=\"url(#clip832)\" style=\"stroke:#000000; stroke-width:2; stroke-opacity:0.1; fill:none\" points=\"\n",
       "  179.654,946.875 2352.76,946.875 \n",
       "  \"/>\n",
       "<polyline clip-path=\"url(#clip832)\" style=\"stroke:#000000; stroke-width:2; stroke-opacity:0.1; fill:none\" points=\"\n",
       "  179.654,766.846 2352.76,766.846 \n",
       "  \"/>\n",
       "<polyline clip-path=\"url(#clip832)\" style=\"stroke:#000000; stroke-width:2; stroke-opacity:0.1; fill:none\" points=\"\n",
       "  179.654,586.817 2352.76,586.817 \n",
       "  \"/>\n",
       "<polyline clip-path=\"url(#clip832)\" style=\"stroke:#000000; stroke-width:2; stroke-opacity:0.1; fill:none\" points=\"\n",
       "  179.654,406.787 2352.76,406.787 \n",
       "  \"/>\n",
       "<polyline clip-path=\"url(#clip832)\" style=\"stroke:#000000; stroke-width:2; stroke-opacity:0.1; fill:none\" points=\"\n",
       "  179.654,226.758 2352.76,226.758 \n",
       "  \"/>\n",
       "<polyline clip-path=\"url(#clip830)\" style=\"stroke:#000000; stroke-width:4; stroke-opacity:1; fill:none\" points=\"\n",
       "  179.654,1486.45 179.654,47.2441 \n",
       "  \"/>\n",
       "<polyline clip-path=\"url(#clip830)\" style=\"stroke:#000000; stroke-width:4; stroke-opacity:1; fill:none\" points=\"\n",
       "  179.654,1306.93 205.731,1306.93 \n",
       "  \"/>\n",
       "<polyline clip-path=\"url(#clip830)\" style=\"stroke:#000000; stroke-width:4; stroke-opacity:1; fill:none\" points=\"\n",
       "  179.654,1126.9 205.731,1126.9 \n",
       "  \"/>\n",
       "<polyline clip-path=\"url(#clip830)\" style=\"stroke:#000000; stroke-width:4; stroke-opacity:1; fill:none\" points=\"\n",
       "  179.654,946.875 205.731,946.875 \n",
       "  \"/>\n",
       "<polyline clip-path=\"url(#clip830)\" style=\"stroke:#000000; stroke-width:4; stroke-opacity:1; fill:none\" points=\"\n",
       "  179.654,766.846 205.731,766.846 \n",
       "  \"/>\n",
       "<polyline clip-path=\"url(#clip830)\" style=\"stroke:#000000; stroke-width:4; stroke-opacity:1; fill:none\" points=\"\n",
       "  179.654,586.817 205.731,586.817 \n",
       "  \"/>\n",
       "<polyline clip-path=\"url(#clip830)\" style=\"stroke:#000000; stroke-width:4; stroke-opacity:1; fill:none\" points=\"\n",
       "  179.654,406.787 205.731,406.787 \n",
       "  \"/>\n",
       "<polyline clip-path=\"url(#clip830)\" style=\"stroke:#000000; stroke-width:4; stroke-opacity:1; fill:none\" points=\"\n",
       "  179.654,226.758 205.731,226.758 \n",
       "  \"/>\n",
       "<path clip-path=\"url(#clip830)\" d=\"M 0 0 M51.8949 1307.39 L81.5707 1307.39 L81.5707 1311.32 L51.8949 1311.32 L51.8949 1307.39 Z\" fill=\"#000000\" fill-rule=\"evenodd\" fill-opacity=\"1\" /><path clip-path=\"url(#clip830)\" d=\"M 0 0 M85.4595 1289.65 L107.682 1289.65 L107.682 1291.64 L95.1354 1324.21 L90.2512 1324.21 L102.057 1293.59 L85.4595 1293.59 L85.4595 1289.65 Z\" fill=\"#000000\" fill-rule=\"evenodd\" fill-opacity=\"1\" /><path clip-path=\"url(#clip830)\" d=\"M 0 0 M112.751 1318.33 L117.635 1318.33 L117.635 1324.21 L112.751 1324.21 L112.751 1318.33 Z\" fill=\"#000000\" fill-rule=\"evenodd\" fill-opacity=\"1\" /><path clip-path=\"url(#clip830)\" d=\"M 0 0 M122.751 1289.65 L141.107 1289.65 L141.107 1293.59 L127.033 1293.59 L127.033 1302.06 Q128.052 1301.71 129.07 1301.55 Q130.089 1301.37 131.107 1301.37 Q136.894 1301.37 140.274 1304.54 Q143.654 1307.71 143.654 1313.13 Q143.654 1318.7 140.181 1321.81 Q136.709 1324.89 130.39 1324.89 Q128.214 1324.89 125.945 1324.51 Q123.7 1324.14 121.293 1323.4 L121.293 1318.7 Q123.376 1319.84 125.598 1320.39 Q127.82 1320.95 130.297 1320.95 Q134.302 1320.95 136.64 1318.84 Q138.978 1316.74 138.978 1313.13 Q138.978 1309.51 136.64 1307.41 Q134.302 1305.3 130.297 1305.3 Q128.422 1305.3 126.547 1305.72 Q124.695 1306.14 122.751 1307.01 L122.751 1289.65 Z\" fill=\"#000000\" fill-rule=\"evenodd\" fill-opacity=\"1\" /><path clip-path=\"url(#clip830)\" d=\"M 0 0 M50.9921 1127.36 L80.6679 1127.36 L80.6679 1131.29 L50.9921 1131.29 L50.9921 1127.36 Z\" fill=\"#000000\" fill-rule=\"evenodd\" fill-opacity=\"1\" /><path clip-path=\"url(#clip830)\" d=\"M 0 0 M85.7836 1109.62 L104.14 1109.62 L104.14 1113.56 L90.066 1113.56 L90.066 1122.03 Q91.0845 1121.68 92.103 1121.52 Q93.1215 1121.34 94.14 1121.34 Q99.927 1121.34 103.307 1124.51 Q106.686 1127.68 106.686 1133.1 Q106.686 1138.68 103.214 1141.78 Q99.7419 1144.86 93.4225 1144.86 Q91.2465 1144.86 88.978 1144.49 Q86.7327 1144.12 84.3253 1143.37 L84.3253 1138.68 Q86.4086 1139.81 88.6308 1140.37 Q90.853 1140.92 93.3299 1140.92 Q97.3345 1140.92 99.6724 1138.81 Q102.01 1136.71 102.01 1133.1 Q102.01 1129.49 99.6724 1127.38 Q97.3345 1125.27 93.3299 1125.27 Q91.4549 1125.27 89.5799 1125.69 Q87.728 1126.11 85.7836 1126.99 L85.7836 1109.62 Z\" fill=\"#000000\" fill-rule=\"evenodd\" fill-opacity=\"1\" /><path clip-path=\"url(#clip830)\" d=\"M 0 0 M111.756 1138.3 L116.64 1138.3 L116.64 1144.18 L111.756 1144.18 L111.756 1138.3 Z\" fill=\"#000000\" fill-rule=\"evenodd\" fill-opacity=\"1\" /><path clip-path=\"url(#clip830)\" d=\"M 0 0 M131.709 1112.7 Q128.098 1112.7 126.27 1116.27 Q124.464 1119.81 124.464 1126.94 Q124.464 1134.05 126.27 1137.61 Q128.098 1141.15 131.709 1141.15 Q135.344 1141.15 137.149 1137.61 Q138.978 1134.05 138.978 1126.94 Q138.978 1119.81 137.149 1116.27 Q135.344 1112.7 131.709 1112.7 M131.709 1109 Q137.519 1109 140.575 1113.61 Q143.654 1118.19 143.654 1126.94 Q143.654 1135.67 140.575 1140.27 Q137.519 1144.86 131.709 1144.86 Q125.899 1144.86 122.82 1140.27 Q119.765 1135.67 119.765 1126.94 Q119.765 1118.19 122.82 1113.61 Q125.899 1109 131.709 1109 Z\" fill=\"#000000\" fill-rule=\"evenodd\" fill-opacity=\"1\" /><path clip-path=\"url(#clip830)\" d=\"M 0 0 M52.5893 947.327 L82.2651 947.327 L82.2651 951.262 L52.5893 951.262 L52.5893 947.327 Z\" fill=\"#000000\" fill-rule=\"evenodd\" fill-opacity=\"1\" /><path clip-path=\"url(#clip830)\" d=\"M 0 0 M91.3623 960.22 L107.682 960.22 L107.682 964.155 L85.7373 964.155 L85.7373 960.22 Q88.3993 957.465 92.9826 952.836 Q97.5891 948.183 98.7696 946.841 Q101.015 944.317 101.895 942.581 Q102.797 940.822 102.797 939.132 Q102.797 936.378 100.853 934.642 Q98.9317 932.905 95.8298 932.905 Q93.6308 932.905 91.1771 933.669 Q88.7466 934.433 85.9688 935.984 L85.9688 931.262 Q88.7928 930.128 91.2465 929.549 Q93.7002 928.97 95.7373 928.97 Q101.108 928.97 104.302 931.655 Q107.496 934.341 107.496 938.831 Q107.496 940.961 106.686 942.882 Q105.899 944.78 103.793 947.373 Q103.214 948.044 100.112 951.262 Q97.0104 954.456 91.3623 960.22 Z\" fill=\"#000000\" fill-rule=\"evenodd\" fill-opacity=\"1\" /><path clip-path=\"url(#clip830)\" d=\"M 0 0 M112.751 958.276 L117.635 958.276 L117.635 964.155 L112.751 964.155 L112.751 958.276 Z\" fill=\"#000000\" fill-rule=\"evenodd\" fill-opacity=\"1\" /><path clip-path=\"url(#clip830)\" d=\"M 0 0 M122.751 929.595 L141.107 929.595 L141.107 933.53 L127.033 933.53 L127.033 942.003 Q128.052 941.655 129.07 941.493 Q130.089 941.308 131.107 941.308 Q136.894 941.308 140.274 944.479 Q143.654 947.651 143.654 953.067 Q143.654 958.646 140.181 961.748 Q136.709 964.827 130.39 964.827 Q128.214 964.827 125.945 964.456 Q123.7 964.086 121.293 963.345 L121.293 958.646 Q123.376 959.78 125.598 960.336 Q127.82 960.891 130.297 960.891 Q134.302 960.891 136.64 958.785 Q138.978 956.678 138.978 953.067 Q138.978 949.456 136.64 947.35 Q134.302 945.243 130.297 945.243 Q128.422 945.243 126.547 945.66 Q124.695 946.077 122.751 946.956 L122.751 929.595 Z\" fill=\"#000000\" fill-rule=\"evenodd\" fill-opacity=\"1\" /><path clip-path=\"url(#clip830)\" d=\"M 0 0 M94.7419 752.645 Q91.1308 752.645 89.3021 756.209 Q87.4966 759.751 87.4966 766.881 Q87.4966 773.987 89.3021 777.552 Q91.1308 781.094 94.7419 781.094 Q98.3761 781.094 100.182 777.552 Q102.01 773.987 102.01 766.881 Q102.01 759.751 100.182 756.209 Q98.3761 752.645 94.7419 752.645 M94.7419 748.941 Q100.552 748.941 103.608 753.547 Q106.686 758.131 106.686 766.881 Q106.686 775.608 103.608 780.214 Q100.552 784.797 94.7419 784.797 Q88.9317 784.797 85.8531 780.214 Q82.7975 775.608 82.7975 766.881 Q82.7975 758.131 85.8531 753.547 Q88.9317 748.941 94.7419 748.941 Z\" fill=\"#000000\" fill-rule=\"evenodd\" fill-opacity=\"1\" /><path clip-path=\"url(#clip830)\" d=\"M 0 0 M111.756 778.246 L116.64 778.246 L116.64 784.126 L111.756 784.126 L111.756 778.246 Z\" fill=\"#000000\" fill-rule=\"evenodd\" fill-opacity=\"1\" /><path clip-path=\"url(#clip830)\" d=\"M 0 0 M131.709 752.645 Q128.098 752.645 126.27 756.209 Q124.464 759.751 124.464 766.881 Q124.464 773.987 126.27 777.552 Q128.098 781.094 131.709 781.094 Q135.344 781.094 137.149 777.552 Q138.978 773.987 138.978 766.881 Q138.978 759.751 137.149 756.209 Q135.344 752.645 131.709 752.645 M131.709 748.941 Q137.519 748.941 140.575 753.547 Q143.654 758.131 143.654 766.881 Q143.654 775.608 140.575 780.214 Q137.519 784.797 131.709 784.797 Q125.899 784.797 122.82 780.214 Q119.765 775.608 119.765 766.881 Q119.765 758.131 122.82 753.547 Q125.899 748.941 131.709 748.941 Z\" fill=\"#000000\" fill-rule=\"evenodd\" fill-opacity=\"1\" /><path clip-path=\"url(#clip830)\" d=\"M 0 0 M91.3623 600.162 L107.682 600.162 L107.682 604.097 L85.7373 604.097 L85.7373 600.162 Q88.3993 597.407 92.9826 592.777 Q97.5891 588.125 98.7696 586.782 Q101.015 584.259 101.895 582.523 Q102.797 580.764 102.797 579.074 Q102.797 576.319 100.853 574.583 Q98.9317 572.847 95.8298 572.847 Q93.6308 572.847 91.1771 573.611 Q88.7466 574.375 85.9688 575.926 L85.9688 571.203 Q88.7928 570.069 91.2465 569.49 Q93.7002 568.912 95.7373 568.912 Q101.108 568.912 104.302 571.597 Q107.496 574.282 107.496 578.773 Q107.496 580.902 106.686 582.824 Q105.899 584.722 103.793 587.314 Q103.214 587.986 100.112 591.203 Q97.0104 594.398 91.3623 600.162 Z\" fill=\"#000000\" fill-rule=\"evenodd\" fill-opacity=\"1\" /><path clip-path=\"url(#clip830)\" d=\"M 0 0 M112.751 598.217 L117.635 598.217 L117.635 604.097 L112.751 604.097 L112.751 598.217 Z\" fill=\"#000000\" fill-rule=\"evenodd\" fill-opacity=\"1\" /><path clip-path=\"url(#clip830)\" d=\"M 0 0 M122.751 569.537 L141.107 569.537 L141.107 573.472 L127.033 573.472 L127.033 581.944 Q128.052 581.597 129.07 581.435 Q130.089 581.25 131.107 581.25 Q136.894 581.25 140.274 584.421 Q143.654 587.592 143.654 593.009 Q143.654 598.587 140.181 601.689 Q136.709 604.768 130.39 604.768 Q128.214 604.768 125.945 604.398 Q123.7 604.027 121.293 603.287 L121.293 598.587 Q123.376 599.722 125.598 600.277 Q127.82 600.833 130.297 600.833 Q134.302 600.833 136.64 598.726 Q138.978 596.62 138.978 593.009 Q138.978 589.398 136.64 587.291 Q134.302 585.185 130.297 585.185 Q128.422 585.185 126.547 585.601 Q124.695 586.018 122.751 586.898 L122.751 569.537 Z\" fill=\"#000000\" fill-rule=\"evenodd\" fill-opacity=\"1\" /><path clip-path=\"url(#clip830)\" d=\"M 0 0 M85.7836 389.507 L104.14 389.507 L104.14 393.443 L90.066 393.443 L90.066 401.915 Q91.0845 401.568 92.103 401.406 Q93.1215 401.22 94.14 401.22 Q99.927 401.22 103.307 404.392 Q106.686 407.563 106.686 412.98 Q106.686 418.558 103.214 421.66 Q99.7419 424.739 93.4225 424.739 Q91.2465 424.739 88.978 424.368 Q86.7327 423.998 84.3253 423.257 L84.3253 418.558 Q86.4086 419.692 88.6308 420.248 Q90.853 420.804 93.3299 420.804 Q97.3345 420.804 99.6724 418.697 Q102.01 416.591 102.01 412.98 Q102.01 409.368 99.6724 407.262 Q97.3345 405.156 93.3299 405.156 Q91.4549 405.156 89.5799 405.572 Q87.728 405.989 85.7836 406.868 L85.7836 389.507 Z\" fill=\"#000000\" fill-rule=\"evenodd\" fill-opacity=\"1\" /><path clip-path=\"url(#clip830)\" d=\"M 0 0 M111.756 418.188 L116.64 418.188 L116.64 424.067 L111.756 424.067 L111.756 418.188 Z\" fill=\"#000000\" fill-rule=\"evenodd\" fill-opacity=\"1\" /><path clip-path=\"url(#clip830)\" d=\"M 0 0 M131.709 392.586 Q128.098 392.586 126.27 396.151 Q124.464 399.693 124.464 406.822 Q124.464 413.929 126.27 417.493 Q128.098 421.035 131.709 421.035 Q135.344 421.035 137.149 417.493 Q138.978 413.929 138.978 406.822 Q138.978 399.693 137.149 396.151 Q135.344 392.586 131.709 392.586 M131.709 388.882 Q137.519 388.882 140.575 393.489 Q143.654 398.072 143.654 406.822 Q143.654 415.549 140.575 420.155 Q137.519 424.739 131.709 424.739 Q125.899 424.739 122.82 420.155 Q119.765 415.549 119.765 406.822 Q119.765 398.072 122.82 393.489 Q125.899 388.882 131.709 388.882 Z\" fill=\"#000000\" fill-rule=\"evenodd\" fill-opacity=\"1\" /><path clip-path=\"url(#clip830)\" d=\"M 0 0 M85.4595 209.478 L107.682 209.478 L107.682 211.469 L95.1354 244.038 L90.2512 244.038 L102.057 213.413 L85.4595 213.413 L85.4595 209.478 Z\" fill=\"#000000\" fill-rule=\"evenodd\" fill-opacity=\"1\" /><path clip-path=\"url(#clip830)\" d=\"M 0 0 M112.751 238.159 L117.635 238.159 L117.635 244.038 L112.751 244.038 L112.751 238.159 Z\" fill=\"#000000\" fill-rule=\"evenodd\" fill-opacity=\"1\" /><path clip-path=\"url(#clip830)\" d=\"M 0 0 M122.751 209.478 L141.107 209.478 L141.107 213.413 L127.033 213.413 L127.033 221.886 Q128.052 221.538 129.07 221.376 Q130.089 221.191 131.107 221.191 Q136.894 221.191 140.274 224.362 Q143.654 227.534 143.654 232.95 Q143.654 238.529 140.181 241.631 Q136.709 244.709 130.39 244.709 Q128.214 244.709 125.945 244.339 Q123.7 243.969 121.293 243.228 L121.293 238.529 Q123.376 239.663 125.598 240.219 Q127.82 240.774 130.297 240.774 Q134.302 240.774 136.64 238.668 Q138.978 236.561 138.978 232.95 Q138.978 229.339 136.64 227.233 Q134.302 225.126 130.297 225.126 Q128.422 225.126 126.547 225.543 Q124.695 225.96 122.751 226.839 L122.751 209.478 Z\" fill=\"#000000\" fill-rule=\"evenodd\" fill-opacity=\"1\" /><circle clip-path=\"url(#clip832)\" cx=\"241.157\" cy=\"766.846\" r=\"14\" fill=\"#009af9\" fill-rule=\"evenodd\" fill-opacity=\"1\" stroke=\"#000000\" stroke-opacity=\"1\" stroke-width=\"3.2\"/>\n",
       "<circle clip-path=\"url(#clip832)\" cx=\"387.228\" cy=\"997.915\" r=\"14\" fill=\"#009af9\" fill-rule=\"evenodd\" fill-opacity=\"1\" stroke=\"#000000\" stroke-opacity=\"1\" stroke-width=\"3.2\"/>\n",
       "<circle clip-path=\"url(#clip832)\" cx=\"387.228\" cy=\"535.777\" r=\"14\" fill=\"#009af9\" fill-rule=\"evenodd\" fill-opacity=\"1\" stroke=\"#000000\" stroke-opacity=\"1\" stroke-width=\"3.2\"/>\n",
       "<circle clip-path=\"url(#clip832)\" cx=\"442.057\" cy=\"766.846\" r=\"14\" fill=\"#009af9\" fill-rule=\"evenodd\" fill-opacity=\"1\" stroke=\"#000000\" stroke-opacity=\"1\" stroke-width=\"3.2\"/>\n",
       "<circle clip-path=\"url(#clip832)\" cx=\"524.627\" cy=\"766.846\" r=\"14\" fill=\"#009af9\" fill-rule=\"evenodd\" fill-opacity=\"1\" stroke=\"#000000\" stroke-opacity=\"1\" stroke-width=\"3.2\"/>\n",
       "<circle clip-path=\"url(#clip832)\" cx=\"551.544\" cy=\"927.589\" r=\"14\" fill=\"#009af9\" fill-rule=\"evenodd\" fill-opacity=\"1\" stroke=\"#000000\" stroke-opacity=\"1\" stroke-width=\"3.2\"/>\n",
       "<circle clip-path=\"url(#clip832)\" cx=\"551.544\" cy=\"606.103\" r=\"14\" fill=\"#009af9\" fill-rule=\"evenodd\" fill-opacity=\"1\" stroke=\"#000000\" stroke-opacity=\"1\" stroke-width=\"3.2\"/>\n",
       "<circle clip-path=\"url(#clip832)\" cx=\"564.611\" cy=\"865.071\" r=\"14\" fill=\"#009af9\" fill-rule=\"evenodd\" fill-opacity=\"1\" stroke=\"#000000\" stroke-opacity=\"1\" stroke-width=\"3.2\"/>\n",
       "<circle clip-path=\"url(#clip832)\" cx=\"564.611\" cy=\"668.621\" r=\"14\" fill=\"#009af9\" fill-rule=\"evenodd\" fill-opacity=\"1\" stroke=\"#000000\" stroke-opacity=\"1\" stroke-width=\"3.2\"/>\n",
       "<circle clip-path=\"url(#clip832)\" cx=\"592.004\" cy=\"1100.59\" r=\"14\" fill=\"#009af9\" fill-rule=\"evenodd\" fill-opacity=\"1\" stroke=\"#000000\" stroke-opacity=\"1\" stroke-width=\"3.2\"/>\n",
       "<circle clip-path=\"url(#clip832)\" cx=\"592.004\" cy=\"433.107\" r=\"14\" fill=\"#009af9\" fill-rule=\"evenodd\" fill-opacity=\"1\" stroke=\"#000000\" stroke-opacity=\"1\" stroke-width=\"3.2\"/>\n",
       "<circle clip-path=\"url(#clip832)\" cx=\"666.15\" cy=\"766.846\" r=\"14\" fill=\"#009af9\" fill-rule=\"evenodd\" fill-opacity=\"1\" stroke=\"#000000\" stroke-opacity=\"1\" stroke-width=\"3.2\"/>\n",
       "<circle clip-path=\"url(#clip832)\" cx=\"775.75\" cy=\"1199.74\" r=\"14\" fill=\"#009af9\" fill-rule=\"evenodd\" fill-opacity=\"1\" stroke=\"#000000\" stroke-opacity=\"1\" stroke-width=\"3.2\"/>\n",
       "<circle clip-path=\"url(#clip832)\" cx=\"775.75\" cy=\"333.951\" r=\"14\" fill=\"#009af9\" fill-rule=\"evenodd\" fill-opacity=\"1\" stroke=\"#000000\" stroke-opacity=\"1\" stroke-width=\"3.2\"/>\n",
       "<circle clip-path=\"url(#clip832)\" cx=\"804.119\" cy=\"1078.82\" r=\"14\" fill=\"#009af9\" fill-rule=\"evenodd\" fill-opacity=\"1\" stroke=\"#000000\" stroke-opacity=\"1\" stroke-width=\"3.2\"/>\n",
       "<circle clip-path=\"url(#clip832)\" cx=\"804.119\" cy=\"454.871\" r=\"14\" fill=\"#009af9\" fill-rule=\"evenodd\" fill-opacity=\"1\" stroke=\"#000000\" stroke-opacity=\"1\" stroke-width=\"3.2\"/>\n",
       "<circle clip-path=\"url(#clip832)\" cx=\"813.997\" cy=\"991.971\" r=\"14\" fill=\"#009af9\" fill-rule=\"evenodd\" fill-opacity=\"1\" stroke=\"#000000\" stroke-opacity=\"1\" stroke-width=\"3.2\"/>\n",
       "<circle clip-path=\"url(#clip832)\" cx=\"813.997\" cy=\"541.721\" r=\"14\" fill=\"#009af9\" fill-rule=\"evenodd\" fill-opacity=\"1\" stroke=\"#000000\" stroke-opacity=\"1\" stroke-width=\"3.2\"/>\n",
       "<circle clip-path=\"url(#clip832)\" cx=\"817.068\" cy=\"1324.76\" r=\"14\" fill=\"#009af9\" fill-rule=\"evenodd\" fill-opacity=\"1\" stroke=\"#000000\" stroke-opacity=\"1\" stroke-width=\"3.2\"/>\n",
       "<circle clip-path=\"url(#clip832)\" cx=\"817.068\" cy=\"208.933\" r=\"14\" fill=\"#009af9\" fill-rule=\"evenodd\" fill-opacity=\"1\" stroke=\"#000000\" stroke-opacity=\"1\" stroke-width=\"3.2\"/>\n",
       "<circle clip-path=\"url(#clip832)\" cx=\"822.379\" cy=\"766.846\" r=\"14\" fill=\"#009af9\" fill-rule=\"evenodd\" fill-opacity=\"1\" stroke=\"#000000\" stroke-opacity=\"1\" stroke-width=\"3.2\"/>\n",
       "<circle clip-path=\"url(#clip832)\" cx=\"883.893\" cy=\"953.471\" r=\"14\" fill=\"#009af9\" fill-rule=\"evenodd\" fill-opacity=\"1\" stroke=\"#000000\" stroke-opacity=\"1\" stroke-width=\"3.2\"/>\n",
       "<circle clip-path=\"url(#clip832)\" cx=\"883.893\" cy=\"580.221\" r=\"14\" fill=\"#009af9\" fill-rule=\"evenodd\" fill-opacity=\"1\" stroke=\"#000000\" stroke-opacity=\"1\" stroke-width=\"3.2\"/>\n",
       "<circle clip-path=\"url(#clip832)\" cx=\"888.183\" cy=\"1255.64\" r=\"14\" fill=\"#009af9\" fill-rule=\"evenodd\" fill-opacity=\"1\" stroke=\"#000000\" stroke-opacity=\"1\" stroke-width=\"3.2\"/>\n",
       "<circle clip-path=\"url(#clip832)\" cx=\"888.183\" cy=\"278.056\" r=\"14\" fill=\"#009af9\" fill-rule=\"evenodd\" fill-opacity=\"1\" stroke=\"#000000\" stroke-opacity=\"1\" stroke-width=\"3.2\"/>\n",
       "<circle clip-path=\"url(#clip832)\" cx=\"929.735\" cy=\"766.846\" r=\"14\" fill=\"#009af9\" fill-rule=\"evenodd\" fill-opacity=\"1\" stroke=\"#000000\" stroke-opacity=\"1\" stroke-width=\"3.2\"/>\n",
       "<circle clip-path=\"url(#clip832)\" cx=\"956.94\" cy=\"895.254\" r=\"14\" fill=\"#009af9\" fill-rule=\"evenodd\" fill-opacity=\"1\" stroke=\"#000000\" stroke-opacity=\"1\" stroke-width=\"3.2\"/>\n",
       "<circle clip-path=\"url(#clip832)\" cx=\"956.94\" cy=\"638.438\" r=\"14\" fill=\"#009af9\" fill-rule=\"evenodd\" fill-opacity=\"1\" stroke=\"#000000\" stroke-opacity=\"1\" stroke-width=\"3.2\"/>\n",
       "<circle clip-path=\"url(#clip832)\" cx=\"1005.88\" cy=\"1134.4\" r=\"14\" fill=\"#009af9\" fill-rule=\"evenodd\" fill-opacity=\"1\" stroke=\"#000000\" stroke-opacity=\"1\" stroke-width=\"3.2\"/>\n",
       "<circle clip-path=\"url(#clip832)\" cx=\"1005.88\" cy=\"399.295\" r=\"14\" fill=\"#009af9\" fill-rule=\"evenodd\" fill-opacity=\"1\" stroke=\"#000000\" stroke-opacity=\"1\" stroke-width=\"3.2\"/>\n",
       "<circle clip-path=\"url(#clip832)\" cx=\"1036.03\" cy=\"1411.29\" r=\"14\" fill=\"#009af9\" fill-rule=\"evenodd\" fill-opacity=\"1\" stroke=\"#000000\" stroke-opacity=\"1\" stroke-width=\"3.2\"/>\n",
       "<circle clip-path=\"url(#clip832)\" cx=\"1036.03\" cy=\"122.4\" r=\"14\" fill=\"#009af9\" fill-rule=\"evenodd\" fill-opacity=\"1\" stroke=\"#000000\" stroke-opacity=\"1\" stroke-width=\"3.2\"/>\n",
       "<circle clip-path=\"url(#clip832)\" cx=\"1147.21\" cy=\"876.108\" r=\"14\" fill=\"#009af9\" fill-rule=\"evenodd\" fill-opacity=\"1\" stroke=\"#000000\" stroke-opacity=\"1\" stroke-width=\"3.2\"/>\n",
       "<circle clip-path=\"url(#clip832)\" cx=\"1147.21\" cy=\"657.584\" r=\"14\" fill=\"#009af9\" fill-rule=\"evenodd\" fill-opacity=\"1\" stroke=\"#000000\" stroke-opacity=\"1\" stroke-width=\"3.2\"/>\n",
       "<circle clip-path=\"url(#clip832)\" cx=\"1168.11\" cy=\"1111.59\" r=\"14\" fill=\"#009af9\" fill-rule=\"evenodd\" fill-opacity=\"1\" stroke=\"#000000\" stroke-opacity=\"1\" stroke-width=\"3.2\"/>\n",
       "<circle clip-path=\"url(#clip832)\" cx=\"1168.11\" cy=\"422.099\" r=\"14\" fill=\"#009af9\" fill-rule=\"evenodd\" fill-opacity=\"1\" stroke=\"#000000\" stroke-opacity=\"1\" stroke-width=\"3.2\"/>\n",
       "<circle clip-path=\"url(#clip832)\" cx=\"1177.32\" cy=\"989.224\" r=\"14\" fill=\"#009af9\" fill-rule=\"evenodd\" fill-opacity=\"1\" stroke=\"#000000\" stroke-opacity=\"1\" stroke-width=\"3.2\"/>\n",
       "<circle clip-path=\"url(#clip832)\" cx=\"1177.32\" cy=\"544.468\" r=\"14\" fill=\"#009af9\" fill-rule=\"evenodd\" fill-opacity=\"1\" stroke=\"#000000\" stroke-opacity=\"1\" stroke-width=\"3.2\"/>\n",
       "<circle clip-path=\"url(#clip832)\" cx=\"1199.05\" cy=\"766.846\" r=\"14\" fill=\"#009af9\" fill-rule=\"evenodd\" fill-opacity=\"1\" stroke=\"#000000\" stroke-opacity=\"1\" stroke-width=\"3.2\"/>\n",
       "<circle clip-path=\"url(#clip832)\" cx=\"1217.85\" cy=\"1269.17\" r=\"14\" fill=\"#009af9\" fill-rule=\"evenodd\" fill-opacity=\"1\" stroke=\"#000000\" stroke-opacity=\"1\" stroke-width=\"3.2\"/>\n",
       "<circle clip-path=\"url(#clip832)\" cx=\"1217.85\" cy=\"264.517\" r=\"14\" fill=\"#009af9\" fill-rule=\"evenodd\" fill-opacity=\"1\" stroke=\"#000000\" stroke-opacity=\"1\" stroke-width=\"3.2\"/>\n",
       "<circle clip-path=\"url(#clip832)\" cx=\"1245.64\" cy=\"1416.2\" r=\"14\" fill=\"#009af9\" fill-rule=\"evenodd\" fill-opacity=\"1\" stroke=\"#000000\" stroke-opacity=\"1\" stroke-width=\"3.2\"/>\n",
       "<circle clip-path=\"url(#clip832)\" cx=\"1245.64\" cy=\"117.489\" r=\"14\" fill=\"#009af9\" fill-rule=\"evenodd\" fill-opacity=\"1\" stroke=\"#000000\" stroke-opacity=\"1\" stroke-width=\"3.2\"/>\n",
       "<circle clip-path=\"url(#clip832)\" cx=\"1260.22\" cy=\"1026.51\" r=\"14\" fill=\"#009af9\" fill-rule=\"evenodd\" fill-opacity=\"1\" stroke=\"#000000\" stroke-opacity=\"1\" stroke-width=\"3.2\"/>\n",
       "<circle clip-path=\"url(#clip832)\" cx=\"1260.22\" cy=\"507.186\" r=\"14\" fill=\"#009af9\" fill-rule=\"evenodd\" fill-opacity=\"1\" stroke=\"#000000\" stroke-opacity=\"1\" stroke-width=\"3.2\"/>\n",
       "<circle clip-path=\"url(#clip832)\" cx=\"1263.34\" cy=\"1270.43\" r=\"14\" fill=\"#009af9\" fill-rule=\"evenodd\" fill-opacity=\"1\" stroke=\"#000000\" stroke-opacity=\"1\" stroke-width=\"3.2\"/>\n",
       "<circle clip-path=\"url(#clip832)\" cx=\"1263.34\" cy=\"263.261\" r=\"14\" fill=\"#009af9\" fill-rule=\"evenodd\" fill-opacity=\"1\" stroke=\"#000000\" stroke-opacity=\"1\" stroke-width=\"3.2\"/>\n",
       "<circle clip-path=\"url(#clip832)\" cx=\"1299.32\" cy=\"766.846\" r=\"14\" fill=\"#009af9\" fill-rule=\"evenodd\" fill-opacity=\"1\" stroke=\"#000000\" stroke-opacity=\"1\" stroke-width=\"3.2\"/>\n",
       "<circle clip-path=\"url(#clip832)\" cx=\"1360.67\" cy=\"1445.72\" r=\"14\" fill=\"#009af9\" fill-rule=\"evenodd\" fill-opacity=\"1\" stroke=\"#000000\" stroke-opacity=\"1\" stroke-width=\"3.2\"/>\n",
       "<circle clip-path=\"url(#clip832)\" cx=\"1360.67\" cy=\"87.9763\" r=\"14\" fill=\"#009af9\" fill-rule=\"evenodd\" fill-opacity=\"1\" stroke=\"#000000\" stroke-opacity=\"1\" stroke-width=\"3.2\"/>\n",
       "<circle clip-path=\"url(#clip832)\" cx=\"1369.77\" cy=\"1121.28\" r=\"14\" fill=\"#009af9\" fill-rule=\"evenodd\" fill-opacity=\"1\" stroke=\"#000000\" stroke-opacity=\"1\" stroke-width=\"3.2\"/>\n",
       "<circle clip-path=\"url(#clip832)\" cx=\"1369.77\" cy=\"412.409\" r=\"14\" fill=\"#009af9\" fill-rule=\"evenodd\" fill-opacity=\"1\" stroke=\"#000000\" stroke-opacity=\"1\" stroke-width=\"3.2\"/>\n",
       "<circle clip-path=\"url(#clip832)\" cx=\"1461.66\" cy=\"1406.25\" r=\"14\" fill=\"#009af9\" fill-rule=\"evenodd\" fill-opacity=\"1\" stroke=\"#000000\" stroke-opacity=\"1\" stroke-width=\"3.2\"/>\n",
       "<circle clip-path=\"url(#clip832)\" cx=\"1461.66\" cy=\"127.439\" r=\"14\" fill=\"#009af9\" fill-rule=\"evenodd\" fill-opacity=\"1\" stroke=\"#000000\" stroke-opacity=\"1\" stroke-width=\"3.2\"/>\n",
       "<circle clip-path=\"url(#clip832)\" cx=\"1478.32\" cy=\"1220.66\" r=\"14\" fill=\"#009af9\" fill-rule=\"evenodd\" fill-opacity=\"1\" stroke=\"#000000\" stroke-opacity=\"1\" stroke-width=\"3.2\"/>\n",
       "<circle clip-path=\"url(#clip832)\" cx=\"1478.32\" cy=\"313.029\" r=\"14\" fill=\"#009af9\" fill-rule=\"evenodd\" fill-opacity=\"1\" stroke=\"#000000\" stroke-opacity=\"1\" stroke-width=\"3.2\"/>\n",
       "<circle clip-path=\"url(#clip832)\" cx=\"1482.05\" cy=\"1075.23\" r=\"14\" fill=\"#009af9\" fill-rule=\"evenodd\" fill-opacity=\"1\" stroke=\"#000000\" stroke-opacity=\"1\" stroke-width=\"3.2\"/>\n",
       "<circle clip-path=\"url(#clip832)\" cx=\"1482.05\" cy=\"458.464\" r=\"14\" fill=\"#009af9\" fill-rule=\"evenodd\" fill-opacity=\"1\" stroke=\"#000000\" stroke-opacity=\"1\" stroke-width=\"3.2\"/>\n",
       "<circle clip-path=\"url(#clip832)\" cx=\"1487.66\" cy=\"766.846\" r=\"14\" fill=\"#009af9\" fill-rule=\"evenodd\" fill-opacity=\"1\" stroke=\"#000000\" stroke-opacity=\"1\" stroke-width=\"3.2\"/>\n",
       "<circle clip-path=\"url(#clip832)\" cx=\"1490.06\" cy=\"962.651\" r=\"14\" fill=\"#009af9\" fill-rule=\"evenodd\" fill-opacity=\"1\" stroke=\"#000000\" stroke-opacity=\"1\" stroke-width=\"3.2\"/>\n",
       "<circle clip-path=\"url(#clip832)\" cx=\"1490.06\" cy=\"571.041\" r=\"14\" fill=\"#009af9\" fill-rule=\"evenodd\" fill-opacity=\"1\" stroke=\"#000000\" stroke-opacity=\"1\" stroke-width=\"3.2\"/>\n",
       "<circle clip-path=\"url(#clip832)\" cx=\"1603.31\" cy=\"1288.63\" r=\"14\" fill=\"#009af9\" fill-rule=\"evenodd\" fill-opacity=\"1\" stroke=\"#000000\" stroke-opacity=\"1\" stroke-width=\"3.2\"/>\n",
       "<circle clip-path=\"url(#clip832)\" cx=\"1603.31\" cy=\"245.061\" r=\"14\" fill=\"#009af9\" fill-rule=\"evenodd\" fill-opacity=\"1\" stroke=\"#000000\" stroke-opacity=\"1\" stroke-width=\"3.2\"/>\n",
       "<circle clip-path=\"url(#clip832)\" cx=\"1643.96\" cy=\"1108.3\" r=\"14\" fill=\"#009af9\" fill-rule=\"evenodd\" fill-opacity=\"1\" stroke=\"#000000\" stroke-opacity=\"1\" stroke-width=\"3.2\"/>\n",
       "<circle clip-path=\"url(#clip832)\" cx=\"1643.96\" cy=\"425.39\" r=\"14\" fill=\"#009af9\" fill-rule=\"evenodd\" fill-opacity=\"1\" stroke=\"#000000\" stroke-opacity=\"1\" stroke-width=\"3.2\"/>\n",
       "<circle clip-path=\"url(#clip832)\" cx=\"1646.56\" cy=\"1189.41\" r=\"14\" fill=\"#009af9\" fill-rule=\"evenodd\" fill-opacity=\"1\" stroke=\"#000000\" stroke-opacity=\"1\" stroke-width=\"3.2\"/>\n",
       "<circle clip-path=\"url(#clip832)\" cx=\"1646.56\" cy=\"344.282\" r=\"14\" fill=\"#009af9\" fill-rule=\"evenodd\" fill-opacity=\"1\" stroke=\"#000000\" stroke-opacity=\"1\" stroke-width=\"3.2\"/>\n",
       "<circle clip-path=\"url(#clip832)\" cx=\"1659.06\" cy=\"830.296\" r=\"14\" fill=\"#009af9\" fill-rule=\"evenodd\" fill-opacity=\"1\" stroke=\"#000000\" stroke-opacity=\"1\" stroke-width=\"3.2\"/>\n",
       "<circle clip-path=\"url(#clip832)\" cx=\"1659.06\" cy=\"703.396\" r=\"14\" fill=\"#009af9\" fill-rule=\"evenodd\" fill-opacity=\"1\" stroke=\"#000000\" stroke-opacity=\"1\" stroke-width=\"3.2\"/>\n",
       "<circle clip-path=\"url(#clip832)\" cx=\"1680.97\" cy=\"1318.26\" r=\"14\" fill=\"#009af9\" fill-rule=\"evenodd\" fill-opacity=\"1\" stroke=\"#000000\" stroke-opacity=\"1\" stroke-width=\"3.2\"/>\n",
       "<circle clip-path=\"url(#clip832)\" cx=\"1680.97\" cy=\"215.434\" r=\"14\" fill=\"#009af9\" fill-rule=\"evenodd\" fill-opacity=\"1\" stroke=\"#000000\" stroke-opacity=\"1\" stroke-width=\"3.2\"/>\n",
       "<circle clip-path=\"url(#clip832)\" cx=\"1683.59\" cy=\"766.846\" r=\"14\" fill=\"#009af9\" fill-rule=\"evenodd\" fill-opacity=\"1\" stroke=\"#000000\" stroke-opacity=\"1\" stroke-width=\"3.2\"/>\n",
       "<circle clip-path=\"url(#clip832)\" cx=\"1687.84\" cy=\"943.315\" r=\"14\" fill=\"#009af9\" fill-rule=\"evenodd\" fill-opacity=\"1\" stroke=\"#000000\" stroke-opacity=\"1\" stroke-width=\"3.2\"/>\n",
       "<circle clip-path=\"url(#clip832)\" cx=\"1687.84\" cy=\"590.377\" r=\"14\" fill=\"#009af9\" fill-rule=\"evenodd\" fill-opacity=\"1\" stroke=\"#000000\" stroke-opacity=\"1\" stroke-width=\"3.2\"/>\n",
       "<circle clip-path=\"url(#clip832)\" cx=\"1767.69\" cy=\"1202.66\" r=\"14\" fill=\"#009af9\" fill-rule=\"evenodd\" fill-opacity=\"1\" stroke=\"#000000\" stroke-opacity=\"1\" stroke-width=\"3.2\"/>\n",
       "<circle clip-path=\"url(#clip832)\" cx=\"1767.69\" cy=\"331.032\" r=\"14\" fill=\"#009af9\" fill-rule=\"evenodd\" fill-opacity=\"1\" stroke=\"#000000\" stroke-opacity=\"1\" stroke-width=\"3.2\"/>\n",
       "<circle clip-path=\"url(#clip832)\" cx=\"1822.3\" cy=\"1053.92\" r=\"14\" fill=\"#009af9\" fill-rule=\"evenodd\" fill-opacity=\"1\" stroke=\"#000000\" stroke-opacity=\"1\" stroke-width=\"3.2\"/>\n",
       "<circle clip-path=\"url(#clip832)\" cx=\"1822.3\" cy=\"479.77\" r=\"14\" fill=\"#009af9\" fill-rule=\"evenodd\" fill-opacity=\"1\" stroke=\"#000000\" stroke-opacity=\"1\" stroke-width=\"3.2\"/>\n",
       "<circle clip-path=\"url(#clip832)\" cx=\"1867.58\" cy=\"1156.66\" r=\"14\" fill=\"#009af9\" fill-rule=\"evenodd\" fill-opacity=\"1\" stroke=\"#000000\" stroke-opacity=\"1\" stroke-width=\"3.2\"/>\n",
       "<circle clip-path=\"url(#clip832)\" cx=\"1867.58\" cy=\"377.027\" r=\"14\" fill=\"#009af9\" fill-rule=\"evenodd\" fill-opacity=\"1\" stroke=\"#000000\" stroke-opacity=\"1\" stroke-width=\"3.2\"/>\n",
       "<circle clip-path=\"url(#clip832)\" cx=\"1878.73\" cy=\"943.884\" r=\"14\" fill=\"#009af9\" fill-rule=\"evenodd\" fill-opacity=\"1\" stroke=\"#000000\" stroke-opacity=\"1\" stroke-width=\"3.2\"/>\n",
       "<circle clip-path=\"url(#clip832)\" cx=\"1878.73\" cy=\"589.808\" r=\"14\" fill=\"#009af9\" fill-rule=\"evenodd\" fill-opacity=\"1\" stroke=\"#000000\" stroke-opacity=\"1\" stroke-width=\"3.2\"/>\n",
       "<circle clip-path=\"url(#clip832)\" cx=\"1902.76\" cy=\"766.846\" r=\"14\" fill=\"#009af9\" fill-rule=\"evenodd\" fill-opacity=\"1\" stroke=\"#000000\" stroke-opacity=\"1\" stroke-width=\"3.2\"/>\n",
       "<circle clip-path=\"url(#clip832)\" cx=\"1949.09\" cy=\"887.773\" r=\"14\" fill=\"#009af9\" fill-rule=\"evenodd\" fill-opacity=\"1\" stroke=\"#000000\" stroke-opacity=\"1\" stroke-width=\"3.2\"/>\n",
       "<circle clip-path=\"url(#clip832)\" cx=\"1949.09\" cy=\"645.919\" r=\"14\" fill=\"#009af9\" fill-rule=\"evenodd\" fill-opacity=\"1\" stroke=\"#000000\" stroke-opacity=\"1\" stroke-width=\"3.2\"/>\n",
       "<circle clip-path=\"url(#clip832)\" cx=\"2077.69\" cy=\"885.052\" r=\"14\" fill=\"#009af9\" fill-rule=\"evenodd\" fill-opacity=\"1\" stroke=\"#000000\" stroke-opacity=\"1\" stroke-width=\"3.2\"/>\n",
       "<circle clip-path=\"url(#clip832)\" cx=\"2077.69\" cy=\"648.64\" r=\"14\" fill=\"#009af9\" fill-rule=\"evenodd\" fill-opacity=\"1\" stroke=\"#000000\" stroke-opacity=\"1\" stroke-width=\"3.2\"/>\n",
       "<circle clip-path=\"url(#clip832)\" cx=\"2085.18\" cy=\"1321.46\" r=\"14\" fill=\"#009af9\" fill-rule=\"evenodd\" fill-opacity=\"1\" stroke=\"#000000\" stroke-opacity=\"1\" stroke-width=\"3.2\"/>\n",
       "<circle clip-path=\"url(#clip832)\" cx=\"2085.18\" cy=\"212.236\" r=\"14\" fill=\"#009af9\" fill-rule=\"evenodd\" fill-opacity=\"1\" stroke=\"#000000\" stroke-opacity=\"1\" stroke-width=\"3.2\"/>\n",
       "<circle clip-path=\"url(#clip832)\" cx=\"2154.79\" cy=\"1090.04\" r=\"14\" fill=\"#009af9\" fill-rule=\"evenodd\" fill-opacity=\"1\" stroke=\"#000000\" stroke-opacity=\"1\" stroke-width=\"3.2\"/>\n",
       "<circle clip-path=\"url(#clip832)\" cx=\"2154.79\" cy=\"443.649\" r=\"14\" fill=\"#009af9\" fill-rule=\"evenodd\" fill-opacity=\"1\" stroke=\"#000000\" stroke-opacity=\"1\" stroke-width=\"3.2\"/>\n",
       "<circle clip-path=\"url(#clip832)\" cx=\"2174.46\" cy=\"1040.62\" r=\"14\" fill=\"#009af9\" fill-rule=\"evenodd\" fill-opacity=\"1\" stroke=\"#000000\" stroke-opacity=\"1\" stroke-width=\"3.2\"/>\n",
       "<circle clip-path=\"url(#clip832)\" cx=\"2174.46\" cy=\"493.07\" r=\"14\" fill=\"#009af9\" fill-rule=\"evenodd\" fill-opacity=\"1\" stroke=\"#000000\" stroke-opacity=\"1\" stroke-width=\"3.2\"/>\n",
       "<circle clip-path=\"url(#clip832)\" cx=\"2176.32\" cy=\"775.783\" r=\"14\" fill=\"#009af9\" fill-rule=\"evenodd\" fill-opacity=\"1\" stroke=\"#000000\" stroke-opacity=\"1\" stroke-width=\"3.2\"/>\n",
       "<circle clip-path=\"url(#clip832)\" cx=\"2176.32\" cy=\"757.909\" r=\"14\" fill=\"#009af9\" fill-rule=\"evenodd\" fill-opacity=\"1\" stroke=\"#000000\" stroke-opacity=\"1\" stroke-width=\"3.2\"/>\n",
       "<circle clip-path=\"url(#clip832)\" cx=\"2235.68\" cy=\"995.547\" r=\"14\" fill=\"#009af9\" fill-rule=\"evenodd\" fill-opacity=\"1\" stroke=\"#000000\" stroke-opacity=\"1\" stroke-width=\"3.2\"/>\n",
       "<circle clip-path=\"url(#clip832)\" cx=\"2235.68\" cy=\"538.145\" r=\"14\" fill=\"#009af9\" fill-rule=\"evenodd\" fill-opacity=\"1\" stroke=\"#000000\" stroke-opacity=\"1\" stroke-width=\"3.2\"/>\n",
       "<circle clip-path=\"url(#clip832)\" cx=\"2264.36\" cy=\"766.846\" r=\"14\" fill=\"#009af9\" fill-rule=\"evenodd\" fill-opacity=\"1\" stroke=\"#000000\" stroke-opacity=\"1\" stroke-width=\"3.2\"/>\n",
       "<circle clip-path=\"url(#clip832)\" cx=\"2291.25\" cy=\"940.598\" r=\"14\" fill=\"#009af9\" fill-rule=\"evenodd\" fill-opacity=\"1\" stroke=\"#000000\" stroke-opacity=\"1\" stroke-width=\"3.2\"/>\n",
       "<circle clip-path=\"url(#clip832)\" cx=\"2291.25\" cy=\"593.094\" r=\"14\" fill=\"#009af9\" fill-rule=\"evenodd\" fill-opacity=\"1\" stroke=\"#000000\" stroke-opacity=\"1\" stroke-width=\"3.2\"/>\n",
       "<path clip-path=\"url(#clip830)\" d=\"\n",
       "M1987.85 216.178 L2280.32 216.178 L2280.32 95.2176 L1987.85 95.2176  Z\n",
       "  \" fill=\"#ffffff\" fill-rule=\"evenodd\" fill-opacity=\"1\"/>\n",
       "<polyline clip-path=\"url(#clip830)\" style=\"stroke:#000000; stroke-width:4; stroke-opacity:1; fill:none\" points=\"\n",
       "  1987.85,216.178 2280.32,216.178 2280.32,95.2176 1987.85,95.2176 1987.85,216.178 \n",
       "  \"/>\n",
       "<circle clip-path=\"url(#clip830)\" cx=\"2084.43\" cy=\"155.698\" r=\"23\" fill=\"#009af9\" fill-rule=\"evenodd\" fill-opacity=\"1\" stroke=\"#000000\" stroke-opacity=\"1\" stroke-width=\"5.12\"/>\n",
       "<path clip-path=\"url(#clip830)\" d=\"M 0 0 M2194.85 175.385 Q2193.05 180.015 2191.33 181.427 Q2189.62 182.839 2186.75 182.839 L2183.35 182.839 L2183.35 179.274 L2185.85 179.274 Q2187.61 179.274 2188.58 178.44 Q2189.55 177.607 2190.73 174.505 L2191.5 172.561 L2181.01 147.052 L2185.52 147.052 L2193.63 167.329 L2201.73 147.052 L2206.24 147.052 L2194.85 175.385 Z\" fill=\"#000000\" fill-rule=\"evenodd\" fill-opacity=\"1\" /><path clip-path=\"url(#clip830)\" d=\"M 0 0 M2212.12 169.042 L2219.76 169.042 L2219.76 142.677 L2211.45 144.343 L2211.45 140.084 L2219.71 138.418 L2224.39 138.418 L2224.39 169.042 L2232.03 169.042 L2232.03 172.978 L2212.12 172.978 L2212.12 169.042 Z\" fill=\"#000000\" fill-rule=\"evenodd\" fill-opacity=\"1\" /></svg>\n"
      ]
     },
     "execution_count": 67,
     "metadata": {},
     "output_type": "execute_result"
    }
   ],
   "source": [
    "i=1\n",
    "zs = [ λ[i] +  r[i]*exp(im*t) for t in 0:pi/100:2pi ]\n",
    "# plot( real(zs), imag(zs),linewidth=1)\n",
    "# i = 2\n",
    "# zs = [ λ[i] +  r[i]*exp(im*t) for t in 0:pi/100:2pi ]\n",
    "# plot!( real(zs), imag(zs),linewidth=50)\n",
    "plot(real(λ), imag(λ), seriestype = :scatter)\n",
    "\n",
    "# end\n",
    "# xlabel(\"real part\")\n",
    "# ylabel(\"imag part\")\n",
    "# axhline(0, lw=0.5, color=\"k\")\n",
    "# axvline(0, lw=0.5, color=\"k\")\n",
    "# plt[:axes]()[:set_aspect](\"equal\")\n",
    "# plot(index, max_rad, yscale=:log10,\n",
    "#     xlabel       =\"n\",                #X軸のラベル\n",
    "#     ylabel       =\"maximum radius\",   #Y軸のラベル\n",
    "#     xlims        =(0,41),             #X軸の範囲\n",
    "#     title=\"Error bounds of IG\",       #タイトル\n",
    "#     linewidth    =2,                  #線幅\n",
    "#     seriestype = :scatter,            #点プロットに　\n",
    "#     size         =(400,300),          #プロットのサイズ\n",
    "#     label = \"without pre-conditioned\",#凡例のラベル\n",
    "#     legend = false,                   #凡例は今回は消す\n",
    "# )"
   ]
  },
  {
   "cell_type": "code",
   "execution_count": 54,
   "metadata": {},
   "outputs": [
    {
     "data": {
      "text/plain": [
       "(200,)"
      ]
     },
     "execution_count": 54,
     "metadata": {},
     "output_type": "execute_result"
    }
   ],
   "source": [
    "size([r*exp(im*t) for t in 0:pi/100:2pi ])"
   ]
  },
  {
   "cell_type": "code",
   "execution_count": 56,
   "metadata": {},
   "outputs": [
    {
     "data": {
      "text/plain": [
       "(200,)"
      ]
     },
     "execution_count": 56,
     "metadata": {},
     "output_type": "execute_result"
    }
   ],
   "source": [
    "zs = [ λ[1:3] +  r[1:3]*exp(im*t) for t in 0:pi/100:2pi ]\n",
    "size(zs)"
   ]
  },
  {
   "cell_type": "code",
   "execution_count": 42,
   "metadata": {},
   "outputs": [],
   "source": [
    "# 開始値:ステップ:終了値\n",
    "x = -5.0:0.1:5.0\n",
    "# 関数\n",
    "f(x) = 1 ./ (1 .+ exp.(-x))\n",
    "\n",
    "y = f(x)\n",
    "\n",
    "using Plots\n",
    "plot(x, y)\n",
    "# 画像保存\n",
    "savefig(\"Sigmoid.png\")"
   ]
  },
  {
   "cell_type": "code",
   "execution_count": 43,
   "metadata": {},
   "outputs": [
    {
     "ename": "LoadError",
     "evalue": "UndefVarError: index not defined",
     "output_type": "error",
     "traceback": [
      "UndefVarError: index not defined",
      "",
      "Stacktrace:",
      " [1] top-level scope at In[43]:2",
      " [2] include_string(::Function, ::Module, ::String, ::String) at ./loading.jl:1091"
     ]
    }
   ],
   "source": [
    "\n",
    "plot!(index, max_rad, yscale=:log10,\n",
    "    xlabel       =\"Real\",                #X軸のラベル\n",
    "    ylabel       =\"Imaginary\",   #Y軸のラベル\n",
    "    xlims        =(0,41),             #X軸の範囲\n",
    "    title=\"gershgorin\",       #タイトル\n",
    "    linewidth    =2,                  #線幅\n",
    "    seriestype = :scatter,            #点プロットに　\n",
    "    size         =(400,300),          #プロットのサイズ\n",
    ")"
   ]
  },
  {
   "cell_type": "code",
   "execution_count": 44,
   "metadata": {},
   "outputs": [
    {
     "ename": "LoadError",
     "evalue": "Cannot convert String to series data for plotting",
     "output_type": "error",
     "traceback": [
      "Cannot convert String to series data for plotting",
      "",
      "Stacktrace:",
      " [1] error(::String) at ./error.jl:33",
      " [2] _prepare_series_data(::String) at /Users/K/.julia/packages/RecipesPipeline/uPBKQ/src/series.jl:8",
      " [3] _series_data_vector(::String, ::Dict{Symbol,Any}) at /Users/K/.julia/packages/RecipesPipeline/uPBKQ/src/series.jl:27",
      " [4] macro expansion at /Users/K/.julia/packages/RecipesPipeline/uPBKQ/src/series.jl:146 [inlined]",
      " [5] apply_recipe(::AbstractDict{Symbol,Any}, ::Type{RecipesPipeline.SliceIt}, ::Any, ::Any, ::Any) at /Users/K/.julia/packages/RecipesBase/AN696/src/RecipesBase.jl:282",
      " [6] _process_userrecipes!(::Any, ::Any, ::Any) at /Users/K/.julia/packages/RecipesPipeline/uPBKQ/src/user_recipe.jl:36",
      " [7] recipe_pipeline!(::Any, ::Any, ::Any) at /Users/K/.julia/packages/RecipesPipeline/uPBKQ/src/RecipesPipeline.jl:70",
      " [8] _plot!(::Plots.Plot, ::Any, ::Any) at /Users/K/.julia/packages/Plots/vsE7b/src/plot.jl:172",
      " [9] plot(::Any, ::Vararg{Any,N} where N; kw::Any) at /Users/K/.julia/packages/Plots/vsE7b/src/plot.jl:58",
      " [10] plot(::Any, ::Any, ::Vararg{Any,N} where N) at /Users/K/.julia/packages/Plots/vsE7b/src/plot.jl:52",
      " [11] top-level scope at In[44]:3",
      " [12] include_string(::Function, ::Module, ::String, ::String) at ./loading.jl:1091"
     ]
    }
   ],
   "source": [
    "zs = [ complex(0,0), complex(1,0), complex(1,1), complex(0,1), complex(0,0)]\n",
    "\n",
    "plot( real.(zs), imag.(zs), \".-\")\n",
    "xlabel(\"real part\")\n",
    "ylabel(\"imag part\")\n",
    "xlim(-2,2)\n",
    "ylim(-2,2)\n",
    "axhline(0, lw=0.5, color=\"k\")\n",
    "axvline(0, lw=0.5, color=\"k\")\n",
    "plt[:axes]()[:set_aspect](\"equal\")"
   ]
  },
  {
   "cell_type": "code",
   "execution_count": 45,
   "metadata": {},
   "outputs": [
    {
     "ename": "LoadError",
     "evalue": "Cannot convert String to series data for plotting",
     "output_type": "error",
     "traceback": [
      "Cannot convert String to series data for plotting",
      "",
      "Stacktrace:",
      " [1] error(::String) at ./error.jl:33",
      " [2] _prepare_series_data(::String) at /Users/K/.julia/packages/RecipesPipeline/uPBKQ/src/series.jl:8",
      " [3] _series_data_vector(::String, ::Dict{Symbol,Any}) at /Users/K/.julia/packages/RecipesPipeline/uPBKQ/src/series.jl:27",
      " [4] macro expansion at /Users/K/.julia/packages/RecipesPipeline/uPBKQ/src/series.jl:146 [inlined]",
      " [5] apply_recipe(::AbstractDict{Symbol,Any}, ::Type{RecipesPipeline.SliceIt}, ::Any, ::Any, ::Any) at /Users/K/.julia/packages/RecipesBase/AN696/src/RecipesBase.jl:282",
      " [6] _process_userrecipes!(::Any, ::Any, ::Any) at /Users/K/.julia/packages/RecipesPipeline/uPBKQ/src/user_recipe.jl:36",
      " [7] recipe_pipeline!(::Any, ::Any, ::Any) at /Users/K/.julia/packages/RecipesPipeline/uPBKQ/src/RecipesPipeline.jl:70",
      " [8] _plot!(::Plots.Plot, ::Any, ::Any) at /Users/K/.julia/packages/Plots/vsE7b/src/plot.jl:172",
      " [9] plot(::Any, ::Vararg{Any,N} where N; kw::Any) at /Users/K/.julia/packages/Plots/vsE7b/src/plot.jl:58",
      " [10] plot(::Any, ::Any, ::Vararg{Any,N} where N) at /Users/K/.julia/packages/Plots/vsE7b/src/plot.jl:52",
      " [11] top-level scope at In[45]:4",
      " [12] include_string(::Function, ::Module, ::String, ::String) at ./loading.jl:1091"
     ]
    }
   ],
   "source": [
    "using PyPlot\n",
    "zs = [ complex(0,0), complex(1,0), complex(1,1), complex(0,1), complex(0,0)]\n",
    "\n",
    "plot( real.(zs), imag.(zs), \".-\")\n",
    "xlabel(\"real part\")\n",
    "ylabel(\"imag part\")\n",
    "xlim(-2,2)\n",
    "ylim(-2,2)\n",
    "axhline(0, lw=0.5, color=\"k\")\n",
    "axvline(0, lw=0.5, color=\"k\")\n",
    "plt[:axes]()[:set_aspect](\"equal\")"
   ]
  },
  {
   "cell_type": "code",
   "execution_count": 50,
   "metadata": {},
   "outputs": [
    {
     "ename": "LoadError",
     "evalue": "UndefVarError: linspace not defined",
     "output_type": "error",
     "traceback": [
      "UndefVarError: linspace not defined",
      "",
      "Stacktrace:",
      " [1] top-level scope at In[50]:3",
      " [2] include_string(::Function, ::Module, ::String, ::String) at ./loading.jl:1091"
     ]
    }
   ],
   "source": [
    "using PyPlot\n",
    "b=1\n",
    "cs=linspace(-2,2)\n",
    "ds=complex(b.*b-4cs)\n",
    "x1s=(b+sqrt.(ds))/2;\n",
    "x2v=cs./x1s;\n",
    "plot(cs, real.(x1s), \"b-\", label=\"x1, real part\")\n",
    "plot(cs, imag.(x1s), \"b:\", label=\"x1, imag part\")\n",
    "plot(cs, real.(x2v), \"g-\", label=\"x2, real part\")\n",
    "plot(cs, imag.(x2v), \"g:\", label=\"x2, imag part\")\n",
    "legend()\n",
    "xlabel(\"c\")\n",
    "xlim(-2.5,2.5)\n",
    "ylim(-2.5,2.5)\n",
    "axhline(0, lw=0.5, color=\"k\")\n",
    "axvline(0, lw=0.5, color=\"k\")\n",
    "plt[:axes]()[:set_aspect](\"equal\")"
   ]
  },
  {
   "cell_type": "code",
   "execution_count": null,
   "metadata": {},
   "outputs": [],
   "source": []
  },
  {
   "cell_type": "code",
   "execution_count": null,
   "metadata": {},
   "outputs": [],
   "source": []
  },
  {
   "cell_type": "code",
   "execution_count": null,
   "metadata": {},
   "outputs": [],
   "source": []
  },
  {
   "cell_type": "code",
   "execution_count": null,
   "metadata": {},
   "outputs": [],
   "source": []
  },
  {
   "cell_type": "code",
   "execution_count": null,
   "metadata": {},
   "outputs": [],
   "source": []
  },
  {
   "cell_type": "markdown",
   "metadata": {},
   "source": [
    "対角優位\n",
    "http://www.math.ritsumei.ac.jp/~yasutomi/jugyo/Numerical_Analysis/note5.pdf\n",
    "\n",
    "計算途中がでる\n",
    "http://www.cas.cmc.osaka-u.ac.jp/~paoon/misc/julia/post/cg/\n",
    "\n",
    "\n",
    "http://infsup.jp/saito/materials/na19exer.pdf"
   ]
  },
  {
   "cell_type": "markdown",
   "metadata": {},
   "source": []
  }
 ],
 "metadata": {
  "kernelspec": {
   "display_name": "Julia 1.3.0",
   "language": "julia",
   "name": "julia-1.3"
  },
  "language_info": {
   "file_extension": ".jl",
   "mimetype": "application/julia",
   "name": "julia",
   "version": "1.3.0"
  }
 },
 "nbformat": 4,
 "nbformat_minor": 4
}
