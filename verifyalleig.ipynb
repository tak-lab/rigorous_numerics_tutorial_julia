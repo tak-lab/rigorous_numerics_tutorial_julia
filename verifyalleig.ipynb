{
 "cells": [
  {
   "cell_type": "markdown",
   "metadata": {},
   "source": [
    "# Juliaで固有値問題を精度保証付き数値計算したい\n",
    "\n",
    "\n",
    "## 固有値問題とは\n",
    "\n",
    "固有値問題は与えられた行列の固有値および固有ベクトルを求めること。つまり、\n",
    "$\n",
    "\\newcommand{\\C}{\\mathbb{C}}\n",
    "\\newcommand{\\IC}{\\mathbb{IC}}\n",
    "\\newcommand{\\bX}{\\bar{X}}\n",
    "$\n",
    "\n",
    "$$\n",
    "Ax=\\lambda x,\\quad A\\in \\C^{n\\times n}\n",
    "$$\n",
    "\n",
    "を満たす $\\lambda\\in \\C$, $x\\in \\C^{n\\times n}$ ($x\\neq 0$) を求める問題を指す。\n",
    "\n",
    "Juliaで固有値と固有ベクトルを求める際には、`LinearAlgebra`パッケージに含まれている関数`eigen`・`eigvals`・`eigvecs`で求めることができる。\n",
    "\n",
    "|関数| 役割 |\n",
    "|:-----------|:----------|\n",
    "| eigen()    | 固有値・固有ベクトル両方  |\n",
    "| eigvals()    | 固有値  |\n",
    "| eigvecs()  | 固有ベクトル |\n",
    "\n",
    "これらは行列の構造・サイズをみて適宜、Lapackの関数を呼び出している（はず）。"
   ]
  },
  {
   "cell_type": "code",
   "execution_count": 1,
   "metadata": {},
   "outputs": [
    {
     "data": {
      "text/plain": [
       "Eigen{Float64,Float64,Array{Float64,2},Array{Float64,1}}\n",
       "values:\n",
       "2-element Array{Float64,1}:\n",
       " -1.0\n",
       "  3.0\n",
       "vectors:\n",
       "2×2 Array{Float64,2}:\n",
       " -0.707107  0.707107\n",
       "  0.707107  0.707107"
      ]
     },
     "execution_count": 1,
     "metadata": {},
     "output_type": "execute_result"
    }
   ],
   "source": [
    "using LinearAlgebra\n",
    "val, vec  = eigen([1 2; 2 1])"
   ]
  },
  {
   "cell_type": "code",
   "execution_count": 2,
   "metadata": {},
   "outputs": [
    {
     "data": {
      "text/plain": [
       "2-element Array{Float64,1}:\n",
       " -1.0\n",
       "  3.0"
      ]
     },
     "execution_count": 2,
     "metadata": {},
     "output_type": "execute_result"
    }
   ],
   "source": [
    "val#固有値"
   ]
  },
  {
   "cell_type": "code",
   "execution_count": 3,
   "metadata": {},
   "outputs": [
    {
     "data": {
      "text/plain": [
       "2×2 Array{Float64,2}:\n",
       " -0.707107  0.707107\n",
       "  0.707107  0.707107"
      ]
     },
     "execution_count": 3,
     "metadata": {},
     "output_type": "execute_result"
    }
   ],
   "source": [
    "vec#固有ベクトル"
   ]
  },
  {
   "cell_type": "code",
   "execution_count": 4,
   "metadata": {},
   "outputs": [
    {
     "data": {
      "text/plain": [
       "2-element Array{Float64,1}:\n",
       " -1.0\n",
       "  3.0"
      ]
     },
     "execution_count": 4,
     "metadata": {},
     "output_type": "execute_result"
    }
   ],
   "source": [
    "eigvals([1 2; 2 1])#固有値"
   ]
  },
  {
   "cell_type": "code",
   "execution_count": 5,
   "metadata": {},
   "outputs": [
    {
     "data": {
      "text/plain": [
       "2×2 Array{Float64,2}:\n",
       " -0.707107  0.707107\n",
       "  0.707107  0.707107"
      ]
     },
     "execution_count": 5,
     "metadata": {},
     "output_type": "execute_result"
    }
   ],
   "source": [
    "eigvecs([1 2; 2 1])#固有ベクトル"
   ]
  },
  {
   "cell_type": "markdown",
   "metadata": {},
   "source": [
    "## 密行列の固有値問題に対する精度保証\n",
    "\n",
    "密行列とは、行列内のほとんどの要素が $0$ でない行列のことを指す。ここでは、行列$A\\in\\C^{n\\times n}$ $(i=1,2,\\cdots,n)$ の全ての固有値に対する精度保証アルゴリズムを考える。 \n",
    "\n",
    "### 実装したいアルゴリズム\n",
    "(1)\n",
    "ある行列 $A$ の全ての近似固有ベクトル $\\bX\\in\\C^{n\\times n}$ $(i=1,2,\\cdots,n)$ を求める。\n",
    "\n",
    "(2)\n",
    "$A\\cdot\\bX$ の包含 $C\\in\\IC^{n\\times n}$ を求める。\n",
    "\n",
    "(3)\n",
    "区間連立1次方程式 $\\bX G=C$ の解集合の包含 $G\\supset \\bX^{-1}\\cdot C$ ($G\\in\\IC^{n\\times n}$) を求める。\n",
    "\n",
    "(4)\n",
    "$G\\in\\IC^{n\\times n}$ に対してゲルシュゴリンの定理を適用することを考える。"
   ]
  },
  {
   "cell_type": "markdown",
   "metadata": {},
   "source": [
    "#### (1) 行列 $A$ の全ての近似固有ベクトル $\\bX\\in\\C^{n\\times n}$ $(i=1,2,\\cdots,n)$ を求める。\n",
    "\n",
    "行列 $A\\in\\C^{n\\times n}$ $(i=1,2,\\cdots,n)$ が対角化可能であるとするとき、$\\lambda_i$ に対する固有ベクトル$x^{(i)}\\in\\C^{n}$ $(i=1,2,\\cdots,n)$ を並べた行列\n",
    "\n",
    "$$\n",
    "X :=[x^{(1)},x^{(2)},\\cdots,x^{(n)}]\\in\\C^{n\\times n}\n",
    "$$\n",
    "\n",
    "によって、$A$ は\n",
    "\n",
    "$$\n",
    "X^{-1}AX = D = \\rm{diag}(\\lambda_1,\\lambda_2,\\cdots,\\lambda_n)\n",
    "$$\n",
    "\n",
    "と対角化される。"
   ]
  },
  {
   "cell_type": "code",
   "execution_count": 6,
   "metadata": {},
   "outputs": [],
   "source": [
    "using LinearAlgebra\n",
    "\n",
    "n =100;\n",
    "A = randn(n,n);\n",
    "\n",
    "λ, X = eigen(A);"
   ]
  },
  {
   "cell_type": "code",
   "execution_count": 7,
   "metadata": {},
   "outputs": [
    {
     "data": {
      "text/plain": [
       "100-element Array{Complex{Float64},1}:\n",
       " -10.334998765054245 - 1.4375782505824524im\n",
       " -10.334998765054245 + 1.4375782505824524im\n",
       "  -9.056643317013055 - 4.8281281369335245im\n",
       "  -9.056643317013055 + 4.8281281369335245im\n",
       "  -8.969639337170891 - 0.556079393448037im\n",
       "  -8.969639337170891 + 0.556079393448037im\n",
       "  -8.105577905362017 + 0.0im\n",
       "  -7.543304265324336 - 6.355649546503725im\n",
       "  -7.543304265324336 + 6.355649546503725im\n",
       "  -7.317296486838995 - 1.1457484444900472im\n",
       "  -7.317296486838995 + 1.1457484444900472im\n",
       "  -6.217333220430129 - 1.4898231830193065im\n",
       "  -6.217333220430129 + 1.4898231830193065im\n",
       "                     ⋮\n",
       "   6.656681505379486 - 6.773571700619973im\n",
       "   6.656681505379486 + 6.773571700619973im\n",
       "   7.206332411350695 - 2.590350709898285im\n",
       "   7.206332411350695 + 2.590350709898285im\n",
       "   7.222747722434074 - 4.047540303614877im\n",
       "   7.222747722434074 + 4.047540303614877im\n",
       "   8.578777315993218 + 0.0im\n",
       "   8.693126029769473 - 1.5323184230367124im\n",
       "   8.693126029769473 + 1.5323184230367124im\n",
       "   8.925168781609903 - 3.4494423523727935im\n",
       "   8.925168781609903 + 3.4494423523727935im\n",
       "    9.75919008366727 + 0.0im"
      ]
     },
     "execution_count": 7,
     "metadata": {},
     "output_type": "execute_result"
    }
   ],
   "source": [
    "λ #固有値"
   ]
  },
  {
   "cell_type": "code",
   "execution_count": 8,
   "metadata": {},
   "outputs": [
    {
     "data": {
      "text/plain": [
       "100×100 Array{Complex{Float64},2}:\n",
       "    0.189682+0.0493865im      0.189682-0.0493865im   …    0.0414901+0.0im\n",
       "  -0.0758147+0.0389838im    -0.0758147-0.0389838im       -0.0157651+0.0im\n",
       "  -0.0956605+0.0156463im    -0.0956605-0.0156463im        -0.185878+0.0im\n",
       "  -0.0751127-0.0642244im    -0.0751127+0.0642244im          0.11745+0.0im\n",
       "  -0.0717371+0.075256im     -0.0717371-0.075256im        -0.0417688+0.0im\n",
       "    0.183103+0.00998231im     0.183103-0.00998231im  …  -0.00516998+0.0im\n",
       "  -0.0193559-0.101173im     -0.0193559+0.101173im         0.0318756+0.0im\n",
       "  -0.0259377+0.0424249im    -0.0259377-0.0424249im       -0.0929104+0.0im\n",
       "   0.0384281-0.0610285im     0.0384281+0.0610285im        -0.188137+0.0im\n",
       "   0.0403849-0.144245im      0.0403849+0.144245im         0.0740038+0.0im\n",
       "    0.145374+0.133596im       0.145374-0.133596im    …    -0.117848+0.0im\n",
       "  -0.0208717-0.0461199im    -0.0208717+0.0461199im        0.0167218+0.0im\n",
       "  -0.0649535-0.00758726im   -0.0649535+0.00758726im      -0.0228273+0.0im\n",
       "            ⋮                                        ⋱  \n",
       "    0.049567-0.00314303im     0.049567+0.00314303im       0.0997552+0.0im\n",
       "    0.034307-0.0414818im      0.034307+0.0414818im       -0.0662692+0.0im\n",
       "   0.0512124-0.0329215im     0.0512124+0.0329215im   …    -0.128858+0.0im\n",
       "   0.0499274+0.0627125im     0.0499274-0.0627125im        -0.097696+0.0im\n",
       "  -0.0201504+0.0405369im    -0.0201504-0.0405369im        0.0443153+0.0im\n",
       "  -0.0349378-0.00784807im   -0.0349378+0.00784807im       0.0117544+0.0im\n",
       "   0.0356188+0.0204784im     0.0356188-0.0204784im        -0.121057+0.0im\n",
       "   0.0488232-0.0342128im     0.0488232+0.0342128im   …      0.19332+0.0im\n",
       " -0.00916359+0.0247222im   -0.00916359-0.0247222im        -0.100573+0.0im\n",
       "    0.152117-0.0743971im      0.152117+0.0743971im         0.110158+0.0im\n",
       "   -0.115835+0.0432424im     -0.115835-0.0432424im         -0.21258+0.0im\n",
       "  0.00527727-0.0029459im    0.00527727+0.0029459im        0.0754973+0.0im"
      ]
     },
     "execution_count": 8,
     "metadata": {},
     "output_type": "execute_result"
    }
   ],
   "source": [
    "X #固有ベクトル"
   ]
  },
  {
   "cell_type": "markdown",
   "metadata": {},
   "source": [
    "しかし、実際のところ上記の数値計算で得られる固有ベクトル $X$ は近似の値 $\\bX\\in \\C^{n\\times n}$ (以下、近似固有ベクトルという) である。しかし、近似固有ベクトルを並べた行列を使って、対角化したものについては、対角優位性が期待できる。この行列を $G$ とすると、\n",
    "\n",
    "$$\n",
    "G := \\bX^{-1}A\\bX\n",
    "$$\n",
    "\n",
    "となり、行列 $G$ の対角成分は行列 $A$ の固有値の近似となる。\n",
    "\n",
    "また、対角優位性とは、ある行列$A=(a_{ij})$について、\n",
    "\n",
    "$$\n",
    "\\left|a_{i i}\\right|>\\sum_{{j} \\colon j \\neq i}\\left|a_{i j}\\right| \\quad(i=1,2, \\ldots, n)\n",
    "$$\n",
    "\n",
    "であること。つまり、行列のどの対角成分の絶対値も、それと同じ列にある非対角成分の和よりも大きい時。"
   ]
  },
  {
   "cell_type": "code",
   "execution_count": 9,
   "metadata": {},
   "outputs": [
    {
     "data": {
      "text/plain": [
       "5.052478490102847e-14"
      ]
     },
     "execution_count": 9,
     "metadata": {},
     "output_type": "execute_result"
    }
   ],
   "source": [
    "G = inv(X)*A*X; #G\n",
    "norm(diag(G) - λ,Inf) # Gの対角成分は固有値λにほぼ一致する"
   ]
  },
  {
   "cell_type": "markdown",
   "metadata": {},
   "source": [
    "#### (2) $A\\cdot\\bX$ の包含 $C\\in\\IC^{n\\times n}$ を求める。\n",
    "\n",
    "``方法1``各演算を区間演算に変更した方式(参考：[interval_dot-mul.ipynb](https://www.risk.tsukuba.ac.jp/~takitoshi/tutorial/interval_dot-mul.html \"タイトル\"))、行列のサイズが小さい場合はこちらの方が早い（たぶん）"
   ]
  },
  {
   "cell_type": "code",
   "execution_count": 10,
   "metadata": {},
   "outputs": [
    {
     "name": "stdout",
     "output_type": "stream",
     "text": [
      "  80.744 ms (8 allocations: 312.91 KiB)\n"
     ]
    }
   ],
   "source": [
    "using IntervalArithmetic, BenchmarkTools\n",
    "\n",
    "iA = map(Interval, A);\n",
    "iX = map(Interval, X);\n",
    "\n",
    "@btime C1 = $iA * $iX;"
   ]
  },
  {
   "cell_type": "code",
   "execution_count": 11,
   "metadata": {},
   "outputs": [
    {
     "name": "stdout",
     "output_type": "stream",
     "text": [
      "  0.086995 seconds (76 allocations: 317.188 KiB)\n",
      "max(maximum(radius.(real(C1[:]))), maximum(radius.(imag(C1[:])))) = 4.440892098500626e-15\n"
     ]
    },
    {
     "data": {
      "text/plain": [
       "4.440892098500626e-15"
      ]
     },
     "execution_count": 11,
     "metadata": {},
     "output_type": "execute_result"
    }
   ],
   "source": [
    "@time C1 = iA*iX;\n",
    "@show max(maximum(radius.(real(C1[:]))),maximum(radius.(imag(C1[:]))))"
   ]
  },
  {
   "cell_type": "markdown",
   "metadata": {},
   "source": [
    "``方法2``BLASを使う。int_num_linalg.jlの呼び出し。大きな行列に対してはこの方が早い。"
   ]
  },
  {
   "cell_type": "code",
   "execution_count": 12,
   "metadata": {},
   "outputs": [
    {
     "name": "stdout",
     "output_type": "stream",
     "text": [
      "  1.489722 seconds (4.64 M allocations: 222.176 MiB, 4.23% gc time)\n",
      "  0.146191 seconds (76.04 k allocations: 4.103 MiB)\n",
      "  0.143753 seconds (76.04 k allocations: 4.103 MiB)\n"
     ]
    }
   ],
   "source": [
    "include(\"IntervalLinearAlgebra.jl\"); # int_mulを使用する\n",
    "# @time C1 = mm_comp_interval_alt(iA,iX);\n",
    "@time C = int_mul(A,X); # A, X: complex matrices (not interval)\n",
    "@time C = int_mul(A,X); # A, X: complex matrices (not interval)\n",
    "@time C = int_mul(A,X); # A, X: complex matrices (not interval)\n"
   ]
  },
  {
   "cell_type": "code",
   "execution_count": 13,
   "metadata": {},
   "outputs": [
    {
     "data": {
      "text/plain": [
       "9.08162434143378e-14"
      ]
     },
     "execution_count": 13,
     "metadata": {},
     "output_type": "execute_result"
    }
   ],
   "source": [
    "max(maximum(radius.(real(C[:]))),maximum(radius.(imag(C[:]))))"
   ]
  },
  {
   "cell_type": "code",
   "execution_count": 14,
   "metadata": {},
   "outputs": [
    {
     "data": {
      "text/plain": [
       "100×100 Array{Interval{Float64},2}:\n",
       " [-1.88937, -1.88936]      …   [0.404909, 0.40491]\n",
       "  [0.839586, 0.839587]        [-0.153856, -0.153855]\n",
       "  [1.01114, 1.01115]          [-1.81403, -1.81402]\n",
       "  [0.683961, 0.683962]         [1.14621, 1.14622]\n",
       "  [0.849589, 0.84959]         [-0.40763, -0.407629]\n",
       " [-1.87802, -1.87801]      …  [-0.0504548, -0.0504547]\n",
       "  [0.0545994, 0.0545995]       [0.311079, 0.31108]\n",
       "  [0.329055, 0.329056]        [-0.906731, -0.90673]\n",
       " [-0.484888, -0.484887]       [-1.83607, -1.83606]\n",
       " [-0.624743, -0.624742]        [0.722217, 0.722218]\n",
       " [-1.31039, -1.31038]      …  [-1.1501, -1.15009]\n",
       "  [0.149407, 0.149408]         [0.16319, 0.163191]\n",
       "  [0.660387, 0.660388]        [-0.222776, -0.222775]\n",
       "   ⋮                       ⋱  \n",
       " [-0.516793, -0.516792]        [0.973529, 0.97353]\n",
       " [-0.414197, -0.414196]       [-0.646734, -0.646733]\n",
       " [-0.576608, -0.576607]    …  [-1.25755, -1.25754]\n",
       " [-0.425846, -0.425845]       [-0.953435, -0.953434]\n",
       "  [0.266529, 0.26653]          [0.432481, 0.432482]\n",
       "  [0.3498, 0.349801]           [0.114713, 0.114714]\n",
       " [-0.338682, -0.338681]       [-1.18143, -1.18142]\n",
       " [-0.553772, -0.553771]    …   [1.88664, 1.88665]\n",
       "  [0.130245, 0.130246]        [-0.98151, -0.981509]\n",
       " [-1.67909, -1.67908]          [1.07505, 1.07506]\n",
       "  [1.25931, 1.25932]          [-2.07461, -2.0746]\n",
       " [-0.0587756, -0.0587755]      [0.736792, 0.736793]"
      ]
     },
     "execution_count": 14,
     "metadata": {},
     "output_type": "execute_result"
    }
   ],
   "source": [
    "real(C)"
   ]
  },
  {
   "cell_type": "code",
   "execution_count": 15,
   "metadata": {},
   "outputs": [
    {
     "data": {
      "text/plain": [
       "100×100 Array{Interval{Float64},2}:\n",
       " [-0.783092, -0.783091]    …  [-2.22508e-308, 2.22508e-308]\n",
       " [-0.293909, -0.293908]       [-2.22508e-308, 2.22508e-308]\n",
       " [-0.0241849, -0.0241848]     [-2.22508e-308, 2.22508e-308]\n",
       "  [0.771739, 0.77174]         [-2.22508e-308, 2.22508e-308]\n",
       " [-0.674644, -0.674643]       [-2.22508e-308, 2.22508e-308]\n",
       " [-0.366392, -0.366391]    …  [-2.22508e-308, 2.22508e-308]\n",
       "  [1.07344, 1.07345]          [-2.22508e-308, 2.22508e-308]\n",
       " [-0.401174, -0.401173]       [-2.22508e-308, 2.22508e-308]\n",
       "  [0.575486, 0.575487]        [-2.22508e-308, 2.22508e-308]\n",
       "  [1.43271, 1.43272]          [-2.22508e-308, 2.22508e-308]\n",
       " [-1.58971, -1.5897]       …  [-2.22508e-308, 2.22508e-308]\n",
       "  [0.506654, 0.506655]        [-2.22508e-308, 2.22508e-308]\n",
       "  [0.17179, 0.171791]         [-2.22508e-308, 2.22508e-308]\n",
       "   ⋮                       ⋱  \n",
       " [-0.0387732, -0.0387731]     [-2.22508e-308, 2.22508e-308]\n",
       "  [0.379395, 0.379396]        [-2.22508e-308, 2.22508e-308]\n",
       "  [0.266621, 0.266622]     …  [-2.22508e-308, 2.22508e-308]\n",
       " [-0.719909, -0.719908]       [-2.22508e-308, 2.22508e-308]\n",
       " [-0.389981, -0.38998]        [-2.22508e-308, 2.22508e-308]\n",
       "  [0.131335, 0.131336]        [-2.22508e-308, 2.22508e-308]\n",
       " [-0.26285, -0.262849]        [-2.22508e-308, 2.22508e-308]\n",
       "  [0.283401, 0.283402]     …  [-2.22508e-308, 2.22508e-308]\n",
       " [-0.242331, -0.24233]        [-2.22508e-308, 2.22508e-308]\n",
       "  [0.550213, 0.550214]        [-2.22508e-308, 2.22508e-308]\n",
       " [-0.28039, -0.280389]        [-2.22508e-308, 2.22508e-308]\n",
       "  [0.0228593, 0.0228594]      [-2.22508e-308, 2.22508e-308]"
      ]
     },
     "execution_count": 15,
     "metadata": {},
     "output_type": "execute_result"
    }
   ],
   "source": [
    "imag(C)"
   ]
  },
  {
   "cell_type": "markdown",
   "metadata": {},
   "source": [
    "#### (3 )区間連立1次方程式 $\\hat XG=C$ の解集合の包含 $G\\supset\\hat X^{-1}\\cdot C$ を求める。"
   ]
  },
  {
   "cell_type": "code",
   "execution_count": 16,
   "metadata": {},
   "outputs": [
    {
     "data": {
      "text/plain": [
       "verifylss_iB (generic function with 1 method)"
      ]
     },
     "execution_count": 16,
     "metadata": {},
     "output_type": "execute_result"
    }
   ],
   "source": [
    "function verifylss_iB(A,iB) # verify the solution element-wisely\n",
    "    B = mid.(real(iB)) + mid.(imag(iB))*im;\n",
    "    X̄ = A\\B;\n",
    "    n = size(X̄,2);\n",
    "    R = inv(A);\n",
    "    #########\n",
    "    #C_mid, C_rad = mm_ufp(R,A);\n",
    "#     G = Matrix{Float64}(I, n, n) - int_mul(R,A);\n",
    "    G = Matrix{Float64}(I, n, n) - R*A;\n",
    "    α = opnorm(G,Inf)# Interval arithmetic\n",
    "    #########\n",
    "    if α < 1\n",
    "        η = (abs.(G)*ones(n))/(1-α);\n",
    "        Err = map(Interval,zeros(n,n));\n",
    "        X̄ = map(Interval,X̄);\n",
    "        r = A*X̄ - iB; # Interval arithmetic\n",
    "        Rr = R*r;\n",
    "        for i = 1:n\n",
    "            Err[:,i] = abs.(Rr[:,i]) + supremum(norm(Rr[:,i],Inf))*η; # Interval arithmetic\n",
    "        end\n",
    "        return (real(X̄) .± supremum.(Err)) + im*(imag(X̄) .± supremum.(Err))\n",
    "    else\n",
    "        println(\"Oh my way, verification is failed...\")\n",
    "        return nan;\n",
    "    end\n",
    "end"
   ]
  },
  {
   "cell_type": "code",
   "execution_count": 17,
   "metadata": {},
   "outputs": [
    {
     "data": {
      "text/plain": [
       "100×100 Array{Interval{Float64},2}:\n",
       " [-10.335, -10.3349]           …  [-9.77251e-13, 9.85516e-13]\n",
       "  [-1.71124e-12, 1.71236e-12]     [-9.72267e-13, 9.86786e-13]\n",
       "  [-1.66441e-12, 1.66465e-12]     [-9.30702e-13, 9.09046e-13]\n",
       "  [-1.6636e-12, 1.66636e-12]      [-9.25252e-13, 9.18869e-13]\n",
       "  [-3.34477e-12, 3.35495e-12]     [-2.08355e-12, 2.05155e-12]\n",
       "  [-3.3544e-12, 3.34596e-12]   …  [-2.04518e-12, 2.08556e-12]\n",
       "  [-1.60054e-12, 1.59483e-12]     [-1.22244e-12, 1.23467e-12]\n",
       "  [-1.59587e-12, 1.58591e-12]     [-8.81601e-13, 8.90536e-13]\n",
       "  [-1.59375e-12, 1.5886e-12]      [-8.8334e-13, 8.89049e-13]\n",
       "  [-2.67309e-12, 2.66948e-12]     [-1.50944e-12, 1.54047e-12]\n",
       "  [-2.66963e-12, 2.67588e-12]  …  [-1.52714e-12, 1.51484e-12]\n",
       "  [-3.1554e-12, 3.14518e-12]      [-1.73146e-12, 1.73966e-12]\n",
       "  [-3.15792e-12, 3.14571e-12]     [-1.72731e-12, 1.74069e-12]\n",
       "    ⋮                          ⋱  \n",
       "  [-1.91364e-12, 1.92134e-12]     [-1.0601e-12, 1.09298e-12]\n",
       "  [-1.93121e-12, 1.90364e-12]     [-1.06021e-12, 1.07892e-12]\n",
       "  [-2.60052e-12, 2.59245e-12]  …  [-1.41728e-12, 1.45194e-12]\n",
       "  [-2.61464e-12, 2.57915e-12]     [-1.43223e-12, 1.42321e-12]\n",
       "  [-1.93687e-12, 1.94393e-12]     [-1.07569e-12, 1.07101e-12]\n",
       "  [-1.93766e-12, 1.94568e-12]     [-1.07059e-12, 1.07405e-12]\n",
       "  [-2.25373e-12, 2.26438e-12]     [-1.75787e-12, 1.74689e-12]\n",
       "  [-2.56471e-12, 2.57065e-12]  …  [-1.47362e-12, 1.45585e-12]\n",
       "  [-2.56119e-12, 2.57688e-12]     [-1.45992e-12, 1.46379e-12]\n",
       "  [-1.47496e-12, 1.44802e-12]     [-8.01613e-13, 8.10361e-13]\n",
       "  [-1.46677e-12, 1.45727e-12]     [-8.0745e-13, 8.01281e-13]\n",
       "  [-2.19263e-12, 2.16409e-12]      [9.75919, 9.7592]"
      ]
     },
     "execution_count": 17,
     "metadata": {},
     "output_type": "execute_result"
    }
   ],
   "source": [
    "# G = similar(C);\n",
    "G = verifylss_iB(X,C);\n",
    "real(G)"
   ]
  },
  {
   "cell_type": "code",
   "execution_count": 18,
   "metadata": {},
   "outputs": [
    {
     "data": {
      "text/plain": [
       "2-element Array{Array{T,1} where T,1}:\n",
       " Interval{Float64}[[-10.335, -10.3349], [-10.335, -10.3349], [-9.05665, -9.05664], [-9.05665, -9.05664], [-8.96964, -8.96963], [-8.96964, -8.96963], [-8.10558, -8.10557], [-7.54331, -7.5433], [-7.54331, -7.5433], [-7.3173, -7.31729]  …  [7.20633, 7.20634], [7.20633, 7.20634], [7.22274, 7.22275], [7.22274, 7.22275], [8.57877, 8.57878], [8.69312, 8.69313], [8.69312, 8.69313], [8.92516, 8.92517], [8.92516, 8.92517], [9.75919, 9.7592]]\n",
       " Complex{Float64}[-10.334998765054245 - 1.4375782505824524im, -10.334998765054245 + 1.4375782505824524im, -9.056643317013055 - 4.8281281369335245im, -9.056643317013055 + 4.8281281369335245im, -8.969639337170891 - 0.556079393448037im, -8.969639337170891 + 0.556079393448037im, -8.105577905362017 + 0.0im, -7.543304265324336 - 6.355649546503725im, -7.543304265324336 + 6.355649546503725im, -7.317296486838995 - 1.1457484444900472im  …  7.206332411350695 - 2.590350709898285im, 7.206332411350695 + 2.590350709898285im, 7.222747722434074 - 4.047540303614877im, 7.222747722434074 + 4.047540303614877im, 8.578777315993218 + 0.0im, 8.693126029769473 - 1.5323184230367124im, 8.693126029769473 + 1.5323184230367124im, 8.925168781609903 - 3.4494423523727935im, 8.925168781609903 + 3.4494423523727935im, 9.75919008366727 + 0.0im]"
      ]
     },
     "execution_count": 18,
     "metadata": {},
     "output_type": "execute_result"
    }
   ],
   "source": [
    "[real(diag(G)), λ]"
   ]
  },
  {
   "cell_type": "markdown",
   "metadata": {},
   "source": [
    "#### 4) $G\\in\\IC^{n\\times n}$ に対してゲルシュゴリンの定理を適用することを考える。"
   ]
  },
  {
   "cell_type": "markdown",
   "metadata": {},
   "source": [
    "\n",
    "## ゲルシュゴリンの包含定理\n",
    "行列 $A=(A_{ij})\\in \\C^{n\\times n}$ について、$A$ の全ての固有値 $\\lambda_i$ は、$\\bigcup_{1\\le i \\le n}  U_i$ の内部に存在する。\n",
    "\n",
    "$$\n",
    "A\\subseteq\\bigcup_{1\\le i \\le n}  U_i \n",
    "$$\n",
    "\n",
    "ただし、\n",
    "\n",
    "$$\n",
    "U_i = \\left\\{z\\in\\mathbb{C}:|z-a_{ii}|\\le \\sum_{j\\neq i}|a_{ij}|\\right\\}\n",
    "$$\n",
    "\n",
    "である。円盤領域 $U_i$ をゲルシュゴリン円板といい、$A$ が強い優対角性を持つとき、$A$ の対角成分が $A$ の固有値の良い近似となる。今回の場合、$G=(g_{ij})_{1\\le i,j\\le n}\\in\\IC^{n\\times n}$ の対角成分 $(g_{ii})_{1\\le i\\le n}$ を $(c_{i})_{1\\le i\\le n}\\in \\IC^{n}$ とし、各成分の半径を $\\mathrm{rad}(c_i)$ とすると、\n",
    "\n",
    "$$\n",
    "\\begin{array}{ll}\n",
    "\\mbox{ゲルシュゴリン円の中心:}&\\mathrm{mid}(c_i)\\\\\n",
    "\\mbox{ゲルシュゴリン円の半径:}&r_i=\\sum_{j\\neq i}\\rm{mag}(g_{ij})+\\rm{rad}(c_{i})\\\\\n",
    "\\end{array}\n",
    "$$\n",
    "\n",
    "となる。"
   ]
  },
  {
   "cell_type": "code",
   "execution_count": 19,
   "metadata": {},
   "outputs": [
    {
     "data": {
      "text/plain": [
       "mid (generic function with 7 methods)"
      ]
     },
     "execution_count": 19,
     "metadata": {},
     "output_type": "execute_result"
    }
   ],
   "source": [
    "import IntervalArithmetic: mag, radius, mid\n",
    "function mag(v::Complex{Interval{T}}) where T# mag function for complex interval vectors\n",
    "    abs_v = abs(v);\n",
    "    return max(abs_v.lo,abs_v.hi)\n",
    "end\n",
    "\n",
    "function radius(v::Complex{Interval{T}}) where T# mag function for complex interval vectors\n",
    "    return sqrt(interval(radius(real(v)))^2 + interval(radius(imag(v)))^2)\n",
    "end\n",
    "\n",
    "function mid(v::Complex{Interval{T}}) where T# mag function for complex interval vectors\n",
    "    return mid(real(v)) + mid(imag(v))*im\n",
    "end"
   ]
  },
  {
   "cell_type": "code",
   "execution_count": 20,
   "metadata": {},
   "outputs": [],
   "source": [
    "r = zeros(n);\n",
    "c = diag(G);\n",
    "# G_org = G;\n",
    "# for i ∈ 1:n\n",
    "#     G[i,i] = 0;\n",
    "# end\n",
    "for i = 1:n\n",
    "    for j = 1:n\n",
    "        if i != j\n",
    "            r[i] += mag(G[i,j]);\n",
    "        end\n",
    "    end\n",
    "    r[i] += mag(radius.(c[i]));\n",
    "end\n",
    "λc = mid.(c);"
   ]
  },
  {
   "cell_type": "code",
   "execution_count": 21,
   "metadata": {},
   "outputs": [
    {
     "data": {
      "text/plain": [
       "100×2 Array{Interval{Float64},2}:\n",
       " [-10.335, -10.3349]    [-1.43758, -1.43757]\n",
       " [-10.335, -10.3349]     [1.43757, 1.43758]\n",
       "  [-9.05665, -9.05664]  [-4.82813, -4.82812]\n",
       "  [-9.05665, -9.05664]   [4.82812, 4.82813]\n",
       "  [-8.96964, -8.96963]  [-0.55608, -0.556079]\n",
       "  [-8.96964, -8.96963]   [0.556079, 0.55608]\n",
       "  [-8.10558, -8.10557]  [-2.17559e-10, 2.17559e-10]\n",
       "  [-7.54331, -7.5433]   [-6.35565, -6.35564]\n",
       "  [-7.54331, -7.5433]    [6.35564, 6.35565]\n",
       "  [-7.3173, -7.31729]   [-1.14575, -1.14574]\n",
       "  [-7.3173, -7.31729]    [1.14574, 1.14575]\n",
       "  [-6.21734, -6.21733]  [-1.48983, -1.48982]\n",
       "  [-6.21734, -6.21733]   [1.48982, 1.48983]\n",
       "    ⋮                   \n",
       "   [6.65668, 6.65669]   [-6.77358, -6.77357]\n",
       "   [6.65668, 6.65669]    [6.77357, 6.77358]\n",
       "   [7.20633, 7.20634]   [-2.59036, -2.59035]\n",
       "   [7.20633, 7.20634]    [2.59035, 2.59036]\n",
       "   [7.22274, 7.22275]   [-4.04755, -4.04754]\n",
       "   [7.22274, 7.22275]    [4.04754, 4.04755]\n",
       "   [8.57877, 8.57878]   [-3.06404e-10, 3.06415e-10]\n",
       "   [8.69312, 8.69313]   [-1.53232, -1.53231]\n",
       "   [8.69312, 8.69313]    [1.53231, 1.53232]\n",
       "   [8.92516, 8.92517]   [-3.44945, -3.44944]\n",
       "   [8.92516, 8.92517]    [3.44944, 3.44945]\n",
       "   [9.75919, 9.7592]    [-2.92973e-10, 2.92972e-10]"
      ]
     },
     "execution_count": 21,
     "metadata": {},
     "output_type": "execute_result"
    }
   ],
   "source": [
    "iλ = (real(λc) .± r) + im*(imag(λc) .± r);\n",
    "[real(iλ) imag(iλ)]"
   ]
  },
  {
   "cell_type": "code",
   "execution_count": 22,
   "metadata": {},
   "outputs": [
    {
     "data": {
      "text/plain": [
       "100"
      ]
     },
     "execution_count": 22,
     "metadata": {},
     "output_type": "execute_result"
    }
   ],
   "source": [
    "sum(λ .∈ iλ)"
   ]
  },
  {
   "cell_type": "code",
   "execution_count": 23,
   "metadata": {},
   "outputs": [
    {
     "data": {
      "text/plain": [
       "100-element Array{Float64,1}:\n",
       " 3.24015584442121e-10\n",
       " 3.239629863441848e-10\n",
       " 3.1307832037312513e-10\n",
       " 3.130444063760176e-10\n",
       " 6.307767948146167e-10\n",
       " 6.308247611389217e-10\n",
       " 3.0767466776525996e-10\n",
       " 3.0335882001690927e-10\n",
       " 3.034743788218681e-10\n",
       " 5.061709600988248e-10\n",
       " 5.059768966707367e-10\n",
       " 5.89653247154894e-10\n",
       " 5.894686042817529e-10\n",
       " ⋮\n",
       " 3.636484863187657e-10\n",
       " 3.635580489931455e-10\n",
       " 4.852474369665496e-10\n",
       " 4.852816649820474e-10\n",
       " 3.6516079937496993e-10\n",
       " 3.651808965584411e-10\n",
       " 4.3332917366529247e-10\n",
       " 4.802364868852004e-10\n",
       " 4.802410401543316e-10\n",
       " 2.7515336507015125e-10\n",
       " 2.7511034453660415e-10\n",
       " 4.143240267234001e-10"
      ]
     },
     "execution_count": 23,
     "metadata": {},
     "output_type": "execute_result"
    }
   ],
   "source": [
    "r = sup.(radius.(iλ))"
   ]
  },
  {
   "cell_type": "markdown",
   "metadata": {},
   "source": [
    "以上により、全固有値（ $n=100$ ）の精度保証がゲルシュゴリンの包含定理と区間演算によって成功した。"
   ]
  },
  {
   "cell_type": "markdown",
   "metadata": {},
   "source": [
    "WARNING: using Plots.center in module Main conflicts with an existing identifier."
   ]
  },
  {
   "cell_type": "code",
   "execution_count": 24,
   "metadata": {},
   "outputs": [
    {
     "data": {
      "image/svg+xml": [
       "<?xml version=\"1.0\" encoding=\"utf-8\"?>\n",
       "<svg xmlns=\"http://www.w3.org/2000/svg\" xmlns:xlink=\"http://www.w3.org/1999/xlink\" width=\"600\" height=\"400\" viewBox=\"0 0 2400 1600\">\n",
       "<defs>\n",
       "  <clipPath id=\"clip190\">\n",
       "    <rect x=\"0\" y=\"0\" width=\"2400\" height=\"1600\"/>\n",
       "  </clipPath>\n",
       "</defs>\n",
       "<path clip-path=\"url(#clip190)\" d=\"\n",
       "M0 1600 L2400 1600 L2400 0 L0 0  Z\n",
       "  \" fill=\"#ffffff\" fill-rule=\"evenodd\" fill-opacity=\"1\"/>\n",
       "<defs>\n",
       "  <clipPath id=\"clip191\">\n",
       "    <rect x=\"480\" y=\"0\" width=\"1681\" height=\"1600\"/>\n",
       "  </clipPath>\n",
       "</defs>\n",
       "<path clip-path=\"url(#clip190)\" d=\"\n",
       "M169.469 1486.45 L2352.76 1486.45 L2352.76 47.2441 L169.469 47.2441  Z\n",
       "  \" fill=\"#ffffff\" fill-rule=\"evenodd\" fill-opacity=\"1\"/>\n",
       "<defs>\n",
       "  <clipPath id=\"clip192\">\n",
       "    <rect x=\"169\" y=\"47\" width=\"2184\" height=\"1440\"/>\n",
       "  </clipPath>\n",
       "</defs>\n",
       "<polyline clip-path=\"url(#clip192)\" style=\"stroke:#000000; stroke-width:2; stroke-opacity:0.1; fill:none\" points=\"\n",
       "  265.598,1486.45 265.598,47.2441 \n",
       "  \"/>\n",
       "<polyline clip-path=\"url(#clip192)\" style=\"stroke:#000000; stroke-width:2; stroke-opacity:0.1; fill:none\" points=\"\n",
       "  778.111,1486.45 778.111,47.2441 \n",
       "  \"/>\n",
       "<polyline clip-path=\"url(#clip192)\" style=\"stroke:#000000; stroke-width:2; stroke-opacity:0.1; fill:none\" points=\"\n",
       "  1290.62,1486.45 1290.62,47.2441 \n",
       "  \"/>\n",
       "<polyline clip-path=\"url(#clip192)\" style=\"stroke:#000000; stroke-width:2; stroke-opacity:0.1; fill:none\" points=\"\n",
       "  1803.14,1486.45 1803.14,47.2441 \n",
       "  \"/>\n",
       "<polyline clip-path=\"url(#clip192)\" style=\"stroke:#000000; stroke-width:2; stroke-opacity:0.1; fill:none\" points=\"\n",
       "  2315.65,1486.45 2315.65,47.2441 \n",
       "  \"/>\n",
       "<polyline clip-path=\"url(#clip190)\" style=\"stroke:#000000; stroke-width:4; stroke-opacity:1; fill:none\" points=\"\n",
       "  169.469,1486.45 2352.76,1486.45 \n",
       "  \"/>\n",
       "<polyline clip-path=\"url(#clip190)\" style=\"stroke:#000000; stroke-width:4; stroke-opacity:1; fill:none\" points=\"\n",
       "  265.598,1486.45 265.598,1469.18 \n",
       "  \"/>\n",
       "<polyline clip-path=\"url(#clip190)\" style=\"stroke:#000000; stroke-width:4; stroke-opacity:1; fill:none\" points=\"\n",
       "  778.111,1486.45 778.111,1469.18 \n",
       "  \"/>\n",
       "<polyline clip-path=\"url(#clip190)\" style=\"stroke:#000000; stroke-width:4; stroke-opacity:1; fill:none\" points=\"\n",
       "  1290.62,1486.45 1290.62,1469.18 \n",
       "  \"/>\n",
       "<polyline clip-path=\"url(#clip190)\" style=\"stroke:#000000; stroke-width:4; stroke-opacity:1; fill:none\" points=\"\n",
       "  1803.14,1486.45 1803.14,1469.18 \n",
       "  \"/>\n",
       "<polyline clip-path=\"url(#clip190)\" style=\"stroke:#000000; stroke-width:4; stroke-opacity:1; fill:none\" points=\"\n",
       "  2315.65,1486.45 2315.65,1469.18 \n",
       "  \"/>\n",
       "<path clip-path=\"url(#clip190)\" d=\"M 0 0 M224.36 1530.29 L254.035 1530.29 L254.035 1534.23 L224.36 1534.23 L224.36 1530.29 Z\" fill=\"#000000\" fill-rule=\"evenodd\" fill-opacity=\"1\" /><path clip-path=\"url(#clip190)\" d=\"M 0 0 M259.915 1543.18 L267.554 1543.18 L267.554 1516.82 L259.244 1518.49 L259.244 1514.23 L267.508 1512.56 L272.184 1512.56 L272.184 1543.18 L279.822 1543.18 L279.822 1547.12 L259.915 1547.12 L259.915 1543.18 Z\" fill=\"#000000\" fill-rule=\"evenodd\" fill-opacity=\"1\" /><path clip-path=\"url(#clip190)\" d=\"M 0 0 M294.892 1515.64 Q291.281 1515.64 289.452 1519.2 Q287.646 1522.75 287.646 1529.87 Q287.646 1536.98 289.452 1540.55 Q291.281 1544.09 294.892 1544.09 Q298.526 1544.09 300.332 1540.55 Q302.16 1536.98 302.16 1529.87 Q302.16 1522.75 300.332 1519.2 Q298.526 1515.64 294.892 1515.64 M294.892 1511.93 Q300.702 1511.93 303.757 1516.54 Q306.836 1521.12 306.836 1529.87 Q306.836 1538.6 303.757 1543.21 Q300.702 1547.79 294.892 1547.79 Q289.082 1547.79 286.003 1543.21 Q282.947 1538.6 282.947 1529.87 Q282.947 1521.12 286.003 1516.54 Q289.082 1511.93 294.892 1511.93 Z\" fill=\"#000000\" fill-rule=\"evenodd\" fill-opacity=\"1\" /><path clip-path=\"url(#clip190)\" d=\"M 0 0 M750.263 1530.29 L779.939 1530.29 L779.939 1534.23 L750.263 1534.23 L750.263 1530.29 Z\" fill=\"#000000\" fill-rule=\"evenodd\" fill-opacity=\"1\" /><path clip-path=\"url(#clip190)\" d=\"M 0 0 M785.055 1512.56 L803.411 1512.56 L803.411 1516.5 L789.337 1516.5 L789.337 1524.97 Q790.356 1524.62 791.374 1524.46 Q792.393 1524.27 793.411 1524.27 Q799.198 1524.27 802.578 1527.44 Q805.958 1530.62 805.958 1536.03 Q805.958 1541.61 802.485 1544.71 Q799.013 1547.79 792.694 1547.79 Q790.518 1547.79 788.249 1547.42 Q786.004 1547.05 783.597 1546.31 L783.597 1541.61 Q785.68 1542.74 787.902 1543.3 Q790.124 1543.86 792.601 1543.86 Q796.606 1543.86 798.944 1541.75 Q801.282 1539.64 801.282 1536.03 Q801.282 1532.42 798.944 1530.31 Q796.606 1528.21 792.601 1528.21 Q790.726 1528.21 788.851 1528.62 Q786.999 1529.04 785.055 1529.92 L785.055 1512.56 Z\" fill=\"#000000\" fill-rule=\"evenodd\" fill-opacity=\"1\" /><path clip-path=\"url(#clip190)\" d=\"M 0 0 M1290.62 1515.64 Q1287.01 1515.64 1285.18 1519.2 Q1283.38 1522.75 1283.38 1529.87 Q1283.38 1536.98 1285.18 1540.55 Q1287.01 1544.09 1290.62 1544.09 Q1294.26 1544.09 1296.06 1540.55 Q1297.89 1536.98 1297.89 1529.87 Q1297.89 1522.75 1296.06 1519.2 Q1294.26 1515.64 1290.62 1515.64 M1290.62 1511.93 Q1296.43 1511.93 1299.49 1516.54 Q1302.57 1521.12 1302.57 1529.87 Q1302.57 1538.6 1299.49 1543.21 Q1296.43 1547.79 1290.62 1547.79 Q1284.81 1547.79 1281.73 1543.21 Q1278.68 1538.6 1278.68 1529.87 Q1278.68 1521.12 1281.73 1516.54 Q1284.81 1511.93 1290.62 1511.93 Z\" fill=\"#000000\" fill-rule=\"evenodd\" fill-opacity=\"1\" /><path clip-path=\"url(#clip190)\" d=\"M 0 0 M1793.41 1512.56 L1811.77 1512.56 L1811.77 1516.5 L1797.7 1516.5 L1797.7 1524.97 Q1798.71 1524.62 1799.73 1524.46 Q1800.75 1524.27 1801.77 1524.27 Q1807.56 1524.27 1810.94 1527.44 Q1814.32 1530.62 1814.32 1536.03 Q1814.32 1541.61 1810.84 1544.71 Q1807.37 1547.79 1801.05 1547.79 Q1798.88 1547.79 1796.61 1547.42 Q1794.36 1547.05 1791.96 1546.31 L1791.96 1541.61 Q1794.04 1542.74 1796.26 1543.3 Q1798.48 1543.86 1800.96 1543.86 Q1804.96 1543.86 1807.3 1541.75 Q1809.64 1539.64 1809.64 1536.03 Q1809.64 1532.42 1807.3 1530.31 Q1804.96 1528.21 1800.96 1528.21 Q1799.08 1528.21 1797.21 1528.62 Q1795.36 1529.04 1793.41 1529.92 L1793.41 1512.56 Z\" fill=\"#000000\" fill-rule=\"evenodd\" fill-opacity=\"1\" /><path clip-path=\"url(#clip190)\" d=\"M 0 0 M2292.52 1543.18 L2300.16 1543.18 L2300.16 1516.82 L2291.85 1518.49 L2291.85 1514.23 L2300.12 1512.56 L2304.79 1512.56 L2304.79 1543.18 L2312.43 1543.18 L2312.43 1547.12 L2292.52 1547.12 L2292.52 1543.18 Z\" fill=\"#000000\" fill-rule=\"evenodd\" fill-opacity=\"1\" /><path clip-path=\"url(#clip190)\" d=\"M 0 0 M2327.5 1515.64 Q2323.89 1515.64 2322.06 1519.2 Q2320.25 1522.75 2320.25 1529.87 Q2320.25 1536.98 2322.06 1540.55 Q2323.89 1544.09 2327.5 1544.09 Q2331.13 1544.09 2332.94 1540.55 Q2334.77 1536.98 2334.77 1529.87 Q2334.77 1522.75 2332.94 1519.2 Q2331.13 1515.64 2327.5 1515.64 M2327.5 1511.93 Q2333.31 1511.93 2336.37 1516.54 Q2339.44 1521.12 2339.44 1529.87 Q2339.44 1538.6 2336.37 1543.21 Q2333.31 1547.79 2327.5 1547.79 Q2321.69 1547.79 2318.61 1543.21 Q2315.56 1538.6 2315.56 1529.87 Q2315.56 1521.12 2318.61 1516.54 Q2321.69 1511.93 2327.5 1511.93 Z\" fill=\"#000000\" fill-rule=\"evenodd\" fill-opacity=\"1\" /><polyline clip-path=\"url(#clip192)\" style=\"stroke:#000000; stroke-width:2; stroke-opacity:0.1; fill:none\" points=\"\n",
       "  169.469,1439.44 2352.76,1439.44 \n",
       "  \"/>\n",
       "<polyline clip-path=\"url(#clip192)\" style=\"stroke:#000000; stroke-width:2; stroke-opacity:0.1; fill:none\" points=\"\n",
       "  169.469,1103.14 2352.76,1103.14 \n",
       "  \"/>\n",
       "<polyline clip-path=\"url(#clip192)\" style=\"stroke:#000000; stroke-width:2; stroke-opacity:0.1; fill:none\" points=\"\n",
       "  169.469,766.846 2352.76,766.846 \n",
       "  \"/>\n",
       "<polyline clip-path=\"url(#clip192)\" style=\"stroke:#000000; stroke-width:2; stroke-opacity:0.1; fill:none\" points=\"\n",
       "  169.469,430.55 2352.76,430.55 \n",
       "  \"/>\n",
       "<polyline clip-path=\"url(#clip192)\" style=\"stroke:#000000; stroke-width:2; stroke-opacity:0.1; fill:none\" points=\"\n",
       "  169.469,94.2547 2352.76,94.2547 \n",
       "  \"/>\n",
       "<polyline clip-path=\"url(#clip190)\" style=\"stroke:#000000; stroke-width:4; stroke-opacity:1; fill:none\" points=\"\n",
       "  169.469,1486.45 169.469,47.2441 \n",
       "  \"/>\n",
       "<polyline clip-path=\"url(#clip190)\" style=\"stroke:#000000; stroke-width:4; stroke-opacity:1; fill:none\" points=\"\n",
       "  169.469,1439.44 195.668,1439.44 \n",
       "  \"/>\n",
       "<polyline clip-path=\"url(#clip190)\" style=\"stroke:#000000; stroke-width:4; stroke-opacity:1; fill:none\" points=\"\n",
       "  169.469,1103.14 195.668,1103.14 \n",
       "  \"/>\n",
       "<polyline clip-path=\"url(#clip190)\" style=\"stroke:#000000; stroke-width:4; stroke-opacity:1; fill:none\" points=\"\n",
       "  169.469,766.846 195.668,766.846 \n",
       "  \"/>\n",
       "<polyline clip-path=\"url(#clip190)\" style=\"stroke:#000000; stroke-width:4; stroke-opacity:1; fill:none\" points=\"\n",
       "  169.469,430.55 195.668,430.55 \n",
       "  \"/>\n",
       "<polyline clip-path=\"url(#clip190)\" style=\"stroke:#000000; stroke-width:4; stroke-opacity:1; fill:none\" points=\"\n",
       "  169.469,94.2547 195.668,94.2547 \n",
       "  \"/>\n",
       "<path clip-path=\"url(#clip190)\" d=\"M 0 0 M50.9921 1439.89 L80.6679 1439.89 L80.6679 1443.82 L50.9921 1443.82 L50.9921 1439.89 Z\" fill=\"#000000\" fill-rule=\"evenodd\" fill-opacity=\"1\" /><path clip-path=\"url(#clip190)\" d=\"M 0 0 M86.5475 1452.78 L94.1863 1452.78 L94.1863 1426.42 L85.8762 1428.08 L85.8762 1423.82 L94.14 1422.16 L98.8159 1422.16 L98.8159 1452.78 L106.455 1452.78 L106.455 1456.72 L86.5475 1456.72 L86.5475 1452.78 Z\" fill=\"#000000\" fill-rule=\"evenodd\" fill-opacity=\"1\" /><path clip-path=\"url(#clip190)\" d=\"M 0 0 M121.524 1425.24 Q117.913 1425.24 116.084 1428.8 Q114.279 1432.34 114.279 1439.47 Q114.279 1446.58 116.084 1450.14 Q117.913 1453.68 121.524 1453.68 Q125.158 1453.68 126.964 1450.14 Q128.793 1446.58 128.793 1439.47 Q128.793 1432.34 126.964 1428.8 Q125.158 1425.24 121.524 1425.24 M121.524 1421.53 Q127.334 1421.53 130.39 1426.14 Q133.469 1430.72 133.469 1439.47 Q133.469 1448.2 130.39 1452.81 Q127.334 1457.39 121.524 1457.39 Q115.714 1457.39 112.635 1452.81 Q109.58 1448.2 109.58 1439.47 Q109.58 1430.72 112.635 1426.14 Q115.714 1421.53 121.524 1421.53 Z\" fill=\"#000000\" fill-rule=\"evenodd\" fill-opacity=\"1\" /><path clip-path=\"url(#clip190)\" d=\"M 0 0 M77.7744 1103.59 L107.45 1103.59 L107.45 1107.53 L77.7744 1107.53 L77.7744 1103.59 Z\" fill=\"#000000\" fill-rule=\"evenodd\" fill-opacity=\"1\" /><path clip-path=\"url(#clip190)\" d=\"M 0 0 M112.566 1085.86 L130.922 1085.86 L130.922 1089.8 L116.848 1089.8 L116.848 1098.27 Q117.867 1097.92 118.885 1097.76 Q119.904 1097.57 120.922 1097.57 Q126.709 1097.57 130.089 1100.75 Q133.469 1103.92 133.469 1109.33 Q133.469 1114.91 129.996 1118.01 Q126.524 1121.09 120.205 1121.09 Q118.029 1121.09 115.76 1120.72 Q113.515 1120.35 111.108 1119.61 L111.108 1114.91 Q113.191 1116.05 115.413 1116.6 Q117.635 1117.16 120.112 1117.16 Q124.117 1117.16 126.455 1115.05 Q128.793 1112.94 128.793 1109.33 Q128.793 1105.72 126.455 1103.62 Q124.117 1101.51 120.112 1101.51 Q118.237 1101.51 116.362 1101.93 Q114.51 1102.34 112.566 1103.22 L112.566 1085.86 Z\" fill=\"#000000\" fill-rule=\"evenodd\" fill-opacity=\"1\" /><path clip-path=\"url(#clip190)\" d=\"M 0 0 M121.524 752.645 Q117.913 752.645 116.084 756.209 Q114.279 759.751 114.279 766.881 Q114.279 773.987 116.084 777.552 Q117.913 781.094 121.524 781.094 Q125.158 781.094 126.964 777.552 Q128.793 773.987 128.793 766.881 Q128.793 759.751 126.964 756.209 Q125.158 752.645 121.524 752.645 M121.524 748.941 Q127.334 748.941 130.39 753.547 Q133.469 758.131 133.469 766.881 Q133.469 775.608 130.39 780.214 Q127.334 784.797 121.524 784.797 Q115.714 784.797 112.635 780.214 Q109.58 775.608 109.58 766.881 Q109.58 758.131 112.635 753.547 Q115.714 748.941 121.524 748.941 Z\" fill=\"#000000\" fill-rule=\"evenodd\" fill-opacity=\"1\" /><path clip-path=\"url(#clip190)\" d=\"M 0 0 M112.566 413.27 L130.922 413.27 L130.922 417.206 L116.848 417.206 L116.848 425.678 Q117.867 425.33 118.885 425.168 Q119.904 424.983 120.922 424.983 Q126.709 424.983 130.089 428.155 Q133.469 431.326 133.469 436.742 Q133.469 442.321 129.996 445.423 Q126.524 448.502 120.205 448.502 Q118.029 448.502 115.76 448.131 Q113.515 447.761 111.108 447.02 L111.108 442.321 Q113.191 443.455 115.413 444.011 Q117.635 444.566 120.112 444.566 Q124.117 444.566 126.455 442.46 Q128.793 440.354 128.793 436.742 Q128.793 433.131 126.455 431.025 Q124.117 428.918 120.112 428.918 Q118.237 428.918 116.362 429.335 Q114.51 429.752 112.566 430.631 L112.566 413.27 Z\" fill=\"#000000\" fill-rule=\"evenodd\" fill-opacity=\"1\" /><path clip-path=\"url(#clip190)\" d=\"M 0 0 M86.5475 107.6 L94.1863 107.6 L94.1863 81.2339 L85.8762 82.9006 L85.8762 78.6414 L94.14 76.9747 L98.8159 76.9747 L98.8159 107.6 L106.455 107.6 L106.455 111.535 L86.5475 111.535 L86.5475 107.6 Z\" fill=\"#000000\" fill-rule=\"evenodd\" fill-opacity=\"1\" /><path clip-path=\"url(#clip190)\" d=\"M 0 0 M121.524 80.0534 Q117.913 80.0534 116.084 83.6182 Q114.279 87.1598 114.279 94.2894 Q114.279 101.396 116.084 104.961 Q117.913 108.502 121.524 108.502 Q125.158 108.502 126.964 104.961 Q128.793 101.396 128.793 94.2894 Q128.793 87.1598 126.964 83.6182 Q125.158 80.0534 121.524 80.0534 M121.524 76.3497 Q127.334 76.3497 130.39 80.9562 Q133.469 85.5395 133.469 94.2894 Q133.469 103.016 130.39 107.623 Q127.334 112.206 121.524 112.206 Q115.714 112.206 112.635 107.623 Q109.58 103.016 109.58 94.2894 Q109.58 85.5395 112.635 80.9562 Q115.714 76.3497 121.524 76.3497 Z\" fill=\"#000000\" fill-rule=\"evenodd\" fill-opacity=\"1\" /><circle clip-path=\"url(#clip192)\" cx=\"231.26\" cy=\"863.536\" r=\"14\" fill=\"#009af9\" fill-rule=\"evenodd\" fill-opacity=\"1\" stroke=\"#000000\" stroke-opacity=\"1\" stroke-width=\"3.2\"/>\n",
       "<circle clip-path=\"url(#clip192)\" cx=\"231.26\" cy=\"670.156\" r=\"14\" fill=\"#009af9\" fill-rule=\"evenodd\" fill-opacity=\"1\" stroke=\"#000000\" stroke-opacity=\"1\" stroke-width=\"3.2\"/>\n",
       "<circle clip-path=\"url(#clip192)\" cx=\"362.294\" cy=\"1091.58\" r=\"14\" fill=\"#009af9\" fill-rule=\"evenodd\" fill-opacity=\"1\" stroke=\"#000000\" stroke-opacity=\"1\" stroke-width=\"3.2\"/>\n",
       "<circle clip-path=\"url(#clip192)\" cx=\"362.294\" cy=\"442.11\" r=\"14\" fill=\"#009af9\" fill-rule=\"evenodd\" fill-opacity=\"1\" stroke=\"#000000\" stroke-opacity=\"1\" stroke-width=\"3.2\"/>\n",
       "<circle clip-path=\"url(#clip192)\" cx=\"371.212\" cy=\"804.247\" r=\"14\" fill=\"#009af9\" fill-rule=\"evenodd\" fill-opacity=\"1\" stroke=\"#000000\" stroke-opacity=\"1\" stroke-width=\"3.2\"/>\n",
       "<circle clip-path=\"url(#clip192)\" cx=\"371.212\" cy=\"729.445\" r=\"14\" fill=\"#009af9\" fill-rule=\"evenodd\" fill-opacity=\"1\" stroke=\"#000000\" stroke-opacity=\"1\" stroke-width=\"3.2\"/>\n",
       "<circle clip-path=\"url(#clip192)\" cx=\"459.781\" cy=\"766.846\" r=\"14\" fill=\"#009af9\" fill-rule=\"evenodd\" fill-opacity=\"1\" stroke=\"#000000\" stroke-opacity=\"1\" stroke-width=\"3.2\"/>\n",
       "<circle clip-path=\"url(#clip192)\" cx=\"517.415\" cy=\"1194.32\" r=\"14\" fill=\"#009af9\" fill-rule=\"evenodd\" fill-opacity=\"1\" stroke=\"#000000\" stroke-opacity=\"1\" stroke-width=\"3.2\"/>\n",
       "<circle clip-path=\"url(#clip192)\" cx=\"517.415\" cy=\"339.371\" r=\"14\" fill=\"#009af9\" fill-rule=\"evenodd\" fill-opacity=\"1\" stroke=\"#000000\" stroke-opacity=\"1\" stroke-width=\"3.2\"/>\n",
       "<circle clip-path=\"url(#clip192)\" cx=\"540.582\" cy=\"843.908\" r=\"14\" fill=\"#009af9\" fill-rule=\"evenodd\" fill-opacity=\"1\" stroke=\"#000000\" stroke-opacity=\"1\" stroke-width=\"3.2\"/>\n",
       "<circle clip-path=\"url(#clip192)\" cx=\"540.582\" cy=\"689.784\" r=\"14\" fill=\"#009af9\" fill-rule=\"evenodd\" fill-opacity=\"1\" stroke=\"#000000\" stroke-opacity=\"1\" stroke-width=\"3.2\"/>\n",
       "<circle clip-path=\"url(#clip192)\" cx=\"653.331\" cy=\"867.05\" r=\"14\" fill=\"#009af9\" fill-rule=\"evenodd\" fill-opacity=\"1\" stroke=\"#000000\" stroke-opacity=\"1\" stroke-width=\"3.2\"/>\n",
       "<circle clip-path=\"url(#clip192)\" cx=\"653.331\" cy=\"666.642\" r=\"14\" fill=\"#009af9\" fill-rule=\"evenodd\" fill-opacity=\"1\" stroke=\"#000000\" stroke-opacity=\"1\" stroke-width=\"3.2\"/>\n",
       "<circle clip-path=\"url(#clip192)\" cx=\"670.429\" cy=\"1128.18\" r=\"14\" fill=\"#009af9\" fill-rule=\"evenodd\" fill-opacity=\"1\" stroke=\"#000000\" stroke-opacity=\"1\" stroke-width=\"3.2\"/>\n",
       "<circle clip-path=\"url(#clip192)\" cx=\"670.429\" cy=\"405.514\" r=\"14\" fill=\"#009af9\" fill-rule=\"evenodd\" fill-opacity=\"1\" stroke=\"#000000\" stroke-opacity=\"1\" stroke-width=\"3.2\"/>\n",
       "<circle clip-path=\"url(#clip192)\" cx=\"686.624\" cy=\"1010.19\" r=\"14\" fill=\"#009af9\" fill-rule=\"evenodd\" fill-opacity=\"1\" stroke=\"#000000\" stroke-opacity=\"1\" stroke-width=\"3.2\"/>\n",
       "<circle clip-path=\"url(#clip192)\" cx=\"686.624\" cy=\"523.505\" r=\"14\" fill=\"#009af9\" fill-rule=\"evenodd\" fill-opacity=\"1\" stroke=\"#000000\" stroke-opacity=\"1\" stroke-width=\"3.2\"/>\n",
       "<circle clip-path=\"url(#clip192)\" cx=\"705.565\" cy=\"828.183\" r=\"14\" fill=\"#009af9\" fill-rule=\"evenodd\" fill-opacity=\"1\" stroke=\"#000000\" stroke-opacity=\"1\" stroke-width=\"3.2\"/>\n",
       "<circle clip-path=\"url(#clip192)\" cx=\"705.565\" cy=\"705.509\" r=\"14\" fill=\"#009af9\" fill-rule=\"evenodd\" fill-opacity=\"1\" stroke=\"#000000\" stroke-opacity=\"1\" stroke-width=\"3.2\"/>\n",
       "<circle clip-path=\"url(#clip192)\" cx=\"739.576\" cy=\"1355.41\" r=\"14\" fill=\"#009af9\" fill-rule=\"evenodd\" fill-opacity=\"1\" stroke=\"#000000\" stroke-opacity=\"1\" stroke-width=\"3.2\"/>\n",
       "<circle clip-path=\"url(#clip192)\" cx=\"739.576\" cy=\"178.284\" r=\"14\" fill=\"#009af9\" fill-rule=\"evenodd\" fill-opacity=\"1\" stroke=\"#000000\" stroke-opacity=\"1\" stroke-width=\"3.2\"/>\n",
       "<circle clip-path=\"url(#clip192)\" cx=\"784.162\" cy=\"1096.05\" r=\"14\" fill=\"#009af9\" fill-rule=\"evenodd\" fill-opacity=\"1\" stroke=\"#000000\" stroke-opacity=\"1\" stroke-width=\"3.2\"/>\n",
       "<circle clip-path=\"url(#clip192)\" cx=\"784.162\" cy=\"437.639\" r=\"14\" fill=\"#009af9\" fill-rule=\"evenodd\" fill-opacity=\"1\" stroke=\"#000000\" stroke-opacity=\"1\" stroke-width=\"3.2\"/>\n",
       "<circle clip-path=\"url(#clip192)\" cx=\"850.054\" cy=\"1129.72\" r=\"14\" fill=\"#009af9\" fill-rule=\"evenodd\" fill-opacity=\"1\" stroke=\"#000000\" stroke-opacity=\"1\" stroke-width=\"3.2\"/>\n",
       "<circle clip-path=\"url(#clip192)\" cx=\"850.054\" cy=\"403.974\" r=\"14\" fill=\"#009af9\" fill-rule=\"evenodd\" fill-opacity=\"1\" stroke=\"#000000\" stroke-opacity=\"1\" stroke-width=\"3.2\"/>\n",
       "<circle clip-path=\"url(#clip192)\" cx=\"852.218\" cy=\"1069.47\" r=\"14\" fill=\"#009af9\" fill-rule=\"evenodd\" fill-opacity=\"1\" stroke=\"#000000\" stroke-opacity=\"1\" stroke-width=\"3.2\"/>\n",
       "<circle clip-path=\"url(#clip192)\" cx=\"852.218\" cy=\"464.218\" r=\"14\" fill=\"#009af9\" fill-rule=\"evenodd\" fill-opacity=\"1\" stroke=\"#000000\" stroke-opacity=\"1\" stroke-width=\"3.2\"/>\n",
       "<circle clip-path=\"url(#clip192)\" cx=\"891.395\" cy=\"766.846\" r=\"14\" fill=\"#009af9\" fill-rule=\"evenodd\" fill-opacity=\"1\" stroke=\"#000000\" stroke-opacity=\"1\" stroke-width=\"3.2\"/>\n",
       "<circle clip-path=\"url(#clip192)\" cx=\"937.937\" cy=\"1263.73\" r=\"14\" fill=\"#009af9\" fill-rule=\"evenodd\" fill-opacity=\"1\" stroke=\"#000000\" stroke-opacity=\"1\" stroke-width=\"3.2\"/>\n",
       "<circle clip-path=\"url(#clip192)\" cx=\"937.937\" cy=\"269.96\" r=\"14\" fill=\"#009af9\" fill-rule=\"evenodd\" fill-opacity=\"1\" stroke=\"#000000\" stroke-opacity=\"1\" stroke-width=\"3.2\"/>\n",
       "<circle clip-path=\"url(#clip192)\" cx=\"966.641\" cy=\"1028.16\" r=\"14\" fill=\"#009af9\" fill-rule=\"evenodd\" fill-opacity=\"1\" stroke=\"#000000\" stroke-opacity=\"1\" stroke-width=\"3.2\"/>\n",
       "<circle clip-path=\"url(#clip192)\" cx=\"966.641\" cy=\"505.537\" r=\"14\" fill=\"#009af9\" fill-rule=\"evenodd\" fill-opacity=\"1\" stroke=\"#000000\" stroke-opacity=\"1\" stroke-width=\"3.2\"/>\n",
       "<circle clip-path=\"url(#clip192)\" cx=\"1010.19\" cy=\"816.197\" r=\"14\" fill=\"#009af9\" fill-rule=\"evenodd\" fill-opacity=\"1\" stroke=\"#000000\" stroke-opacity=\"1\" stroke-width=\"3.2\"/>\n",
       "<circle clip-path=\"url(#clip192)\" cx=\"1010.19\" cy=\"717.495\" r=\"14\" fill=\"#009af9\" fill-rule=\"evenodd\" fill-opacity=\"1\" stroke=\"#000000\" stroke-opacity=\"1\" stroke-width=\"3.2\"/>\n",
       "<circle clip-path=\"url(#clip192)\" cx=\"1082.98\" cy=\"888.867\" r=\"14\" fill=\"#009af9\" fill-rule=\"evenodd\" fill-opacity=\"1\" stroke=\"#000000\" stroke-opacity=\"1\" stroke-width=\"3.2\"/>\n",
       "<circle clip-path=\"url(#clip192)\" cx=\"1082.98\" cy=\"644.825\" r=\"14\" fill=\"#009af9\" fill-rule=\"evenodd\" fill-opacity=\"1\" stroke=\"#000000\" stroke-opacity=\"1\" stroke-width=\"3.2\"/>\n",
       "<circle clip-path=\"url(#clip192)\" cx=\"1086.39\" cy=\"1207.61\" r=\"14\" fill=\"#009af9\" fill-rule=\"evenodd\" fill-opacity=\"1\" stroke=\"#000000\" stroke-opacity=\"1\" stroke-width=\"3.2\"/>\n",
       "<circle clip-path=\"url(#clip192)\" cx=\"1086.39\" cy=\"326.078\" r=\"14\" fill=\"#009af9\" fill-rule=\"evenodd\" fill-opacity=\"1\" stroke=\"#000000\" stroke-opacity=\"1\" stroke-width=\"3.2\"/>\n",
       "<circle clip-path=\"url(#clip192)\" cx=\"1096.02\" cy=\"766.846\" r=\"14\" fill=\"#009af9\" fill-rule=\"evenodd\" fill-opacity=\"1\" stroke=\"#000000\" stroke-opacity=\"1\" stroke-width=\"3.2\"/>\n",
       "<circle clip-path=\"url(#clip192)\" cx=\"1098.31\" cy=\"1253.28\" r=\"14\" fill=\"#009af9\" fill-rule=\"evenodd\" fill-opacity=\"1\" stroke=\"#000000\" stroke-opacity=\"1\" stroke-width=\"3.2\"/>\n",
       "<circle clip-path=\"url(#clip192)\" cx=\"1098.31\" cy=\"280.409\" r=\"14\" fill=\"#009af9\" fill-rule=\"evenodd\" fill-opacity=\"1\" stroke=\"#000000\" stroke-opacity=\"1\" stroke-width=\"3.2\"/>\n",
       "<circle clip-path=\"url(#clip192)\" cx=\"1129.69\" cy=\"1445.72\" r=\"14\" fill=\"#009af9\" fill-rule=\"evenodd\" fill-opacity=\"1\" stroke=\"#000000\" stroke-opacity=\"1\" stroke-width=\"3.2\"/>\n",
       "<circle clip-path=\"url(#clip192)\" cx=\"1129.69\" cy=\"87.9763\" r=\"14\" fill=\"#009af9\" fill-rule=\"evenodd\" fill-opacity=\"1\" stroke=\"#000000\" stroke-opacity=\"1\" stroke-width=\"3.2\"/>\n",
       "<circle clip-path=\"url(#clip192)\" cx=\"1134.55\" cy=\"992.32\" r=\"14\" fill=\"#009af9\" fill-rule=\"evenodd\" fill-opacity=\"1\" stroke=\"#000000\" stroke-opacity=\"1\" stroke-width=\"3.2\"/>\n",
       "<circle clip-path=\"url(#clip192)\" cx=\"1134.55\" cy=\"541.372\" r=\"14\" fill=\"#009af9\" fill-rule=\"evenodd\" fill-opacity=\"1\" stroke=\"#000000\" stroke-opacity=\"1\" stroke-width=\"3.2\"/>\n",
       "<circle clip-path=\"url(#clip192)\" cx=\"1225.1\" cy=\"1314.75\" r=\"14\" fill=\"#009af9\" fill-rule=\"evenodd\" fill-opacity=\"1\" stroke=\"#000000\" stroke-opacity=\"1\" stroke-width=\"3.2\"/>\n",
       "<circle clip-path=\"url(#clip192)\" cx=\"1225.1\" cy=\"218.938\" r=\"14\" fill=\"#009af9\" fill-rule=\"evenodd\" fill-opacity=\"1\" stroke=\"#000000\" stroke-opacity=\"1\" stroke-width=\"3.2\"/>\n",
       "<circle clip-path=\"url(#clip192)\" cx=\"1249.54\" cy=\"766.846\" r=\"14\" fill=\"#009af9\" fill-rule=\"evenodd\" fill-opacity=\"1\" stroke=\"#000000\" stroke-opacity=\"1\" stroke-width=\"3.2\"/>\n",
       "<circle clip-path=\"url(#clip192)\" cx=\"1253.61\" cy=\"982.087\" r=\"14\" fill=\"#009af9\" fill-rule=\"evenodd\" fill-opacity=\"1\" stroke=\"#000000\" stroke-opacity=\"1\" stroke-width=\"3.2\"/>\n",
       "<circle clip-path=\"url(#clip192)\" cx=\"1253.61\" cy=\"551.605\" r=\"14\" fill=\"#009af9\" fill-rule=\"evenodd\" fill-opacity=\"1\" stroke=\"#000000\" stroke-opacity=\"1\" stroke-width=\"3.2\"/>\n",
       "<circle clip-path=\"url(#clip192)\" cx=\"1310.55\" cy=\"1143.94\" r=\"14\" fill=\"#009af9\" fill-rule=\"evenodd\" fill-opacity=\"1\" stroke=\"#000000\" stroke-opacity=\"1\" stroke-width=\"3.2\"/>\n",
       "<circle clip-path=\"url(#clip192)\" cx=\"1310.55\" cy=\"389.749\" r=\"14\" fill=\"#009af9\" fill-rule=\"evenodd\" fill-opacity=\"1\" stroke=\"#000000\" stroke-opacity=\"1\" stroke-width=\"3.2\"/>\n",
       "<circle clip-path=\"url(#clip192)\" cx=\"1368.57\" cy=\"951.32\" r=\"14\" fill=\"#009af9\" fill-rule=\"evenodd\" fill-opacity=\"1\" stroke=\"#000000\" stroke-opacity=\"1\" stroke-width=\"3.2\"/>\n",
       "<circle clip-path=\"url(#clip192)\" cx=\"1368.57\" cy=\"582.372\" r=\"14\" fill=\"#009af9\" fill-rule=\"evenodd\" fill-opacity=\"1\" stroke=\"#000000\" stroke-opacity=\"1\" stroke-width=\"3.2\"/>\n",
       "<circle clip-path=\"url(#clip192)\" cx=\"1369.06\" cy=\"1415.29\" r=\"14\" fill=\"#009af9\" fill-rule=\"evenodd\" fill-opacity=\"1\" stroke=\"#000000\" stroke-opacity=\"1\" stroke-width=\"3.2\"/>\n",
       "<circle clip-path=\"url(#clip192)\" cx=\"1369.06\" cy=\"118.406\" r=\"14\" fill=\"#009af9\" fill-rule=\"evenodd\" fill-opacity=\"1\" stroke=\"#000000\" stroke-opacity=\"1\" stroke-width=\"3.2\"/>\n",
       "<circle clip-path=\"url(#clip192)\" cx=\"1369.48\" cy=\"1339.07\" r=\"14\" fill=\"#009af9\" fill-rule=\"evenodd\" fill-opacity=\"1\" stroke=\"#000000\" stroke-opacity=\"1\" stroke-width=\"3.2\"/>\n",
       "<circle clip-path=\"url(#clip192)\" cx=\"1369.48\" cy=\"194.626\" r=\"14\" fill=\"#009af9\" fill-rule=\"evenodd\" fill-opacity=\"1\" stroke=\"#000000\" stroke-opacity=\"1\" stroke-width=\"3.2\"/>\n",
       "<circle clip-path=\"url(#clip192)\" cx=\"1434.22\" cy=\"815.922\" r=\"14\" fill=\"#009af9\" fill-rule=\"evenodd\" fill-opacity=\"1\" stroke=\"#000000\" stroke-opacity=\"1\" stroke-width=\"3.2\"/>\n",
       "<circle clip-path=\"url(#clip192)\" cx=\"1434.22\" cy=\"717.77\" r=\"14\" fill=\"#009af9\" fill-rule=\"evenodd\" fill-opacity=\"1\" stroke=\"#000000\" stroke-opacity=\"1\" stroke-width=\"3.2\"/>\n",
       "<circle clip-path=\"url(#clip192)\" cx=\"1464.71\" cy=\"876.152\" r=\"14\" fill=\"#009af9\" fill-rule=\"evenodd\" fill-opacity=\"1\" stroke=\"#000000\" stroke-opacity=\"1\" stroke-width=\"3.2\"/>\n",
       "<circle clip-path=\"url(#clip192)\" cx=\"1464.71\" cy=\"657.54\" r=\"14\" fill=\"#009af9\" fill-rule=\"evenodd\" fill-opacity=\"1\" stroke=\"#000000\" stroke-opacity=\"1\" stroke-width=\"3.2\"/>\n",
       "<circle clip-path=\"url(#clip192)\" cx=\"1508.28\" cy=\"1281.61\" r=\"14\" fill=\"#009af9\" fill-rule=\"evenodd\" fill-opacity=\"1\" stroke=\"#000000\" stroke-opacity=\"1\" stroke-width=\"3.2\"/>\n",
       "<circle clip-path=\"url(#clip192)\" cx=\"1508.28\" cy=\"252.084\" r=\"14\" fill=\"#009af9\" fill-rule=\"evenodd\" fill-opacity=\"1\" stroke=\"#000000\" stroke-opacity=\"1\" stroke-width=\"3.2\"/>\n",
       "<circle clip-path=\"url(#clip192)\" cx=\"1520.39\" cy=\"1164.99\" r=\"14\" fill=\"#009af9\" fill-rule=\"evenodd\" fill-opacity=\"1\" stroke=\"#000000\" stroke-opacity=\"1\" stroke-width=\"3.2\"/>\n",
       "<circle clip-path=\"url(#clip192)\" cx=\"1520.39\" cy=\"368.697\" r=\"14\" fill=\"#009af9\" fill-rule=\"evenodd\" fill-opacity=\"1\" stroke=\"#000000\" stroke-opacity=\"1\" stroke-width=\"3.2\"/>\n",
       "<circle clip-path=\"url(#clip192)\" cx=\"1532.73\" cy=\"995.847\" r=\"14\" fill=\"#009af9\" fill-rule=\"evenodd\" fill-opacity=\"1\" stroke=\"#000000\" stroke-opacity=\"1\" stroke-width=\"3.2\"/>\n",
       "<circle clip-path=\"url(#clip192)\" cx=\"1532.73\" cy=\"537.845\" r=\"14\" fill=\"#009af9\" fill-rule=\"evenodd\" fill-opacity=\"1\" stroke=\"#000000\" stroke-opacity=\"1\" stroke-width=\"3.2\"/>\n",
       "<circle clip-path=\"url(#clip192)\" cx=\"1560.93\" cy=\"766.846\" r=\"14\" fill=\"#009af9\" fill-rule=\"evenodd\" fill-opacity=\"1\" stroke=\"#000000\" stroke-opacity=\"1\" stroke-width=\"3.2\"/>\n",
       "<circle clip-path=\"url(#clip192)\" cx=\"1577.72\" cy=\"1207.3\" r=\"14\" fill=\"#009af9\" fill-rule=\"evenodd\" fill-opacity=\"1\" stroke=\"#000000\" stroke-opacity=\"1\" stroke-width=\"3.2\"/>\n",
       "<circle clip-path=\"url(#clip192)\" cx=\"1577.72\" cy=\"326.397\" r=\"14\" fill=\"#009af9\" fill-rule=\"evenodd\" fill-opacity=\"1\" stroke=\"#000000\" stroke-opacity=\"1\" stroke-width=\"3.2\"/>\n",
       "<circle clip-path=\"url(#clip192)\" cx=\"1630.33\" cy=\"1034.26\" r=\"14\" fill=\"#009af9\" fill-rule=\"evenodd\" fill-opacity=\"1\" stroke=\"#000000\" stroke-opacity=\"1\" stroke-width=\"3.2\"/>\n",
       "<circle clip-path=\"url(#clip192)\" cx=\"1630.33\" cy=\"499.429\" r=\"14\" fill=\"#009af9\" fill-rule=\"evenodd\" fill-opacity=\"1\" stroke=\"#000000\" stroke-opacity=\"1\" stroke-width=\"3.2\"/>\n",
       "<circle clip-path=\"url(#clip192)\" cx=\"1669.5\" cy=\"1200.37\" r=\"14\" fill=\"#009af9\" fill-rule=\"evenodd\" fill-opacity=\"1\" stroke=\"#000000\" stroke-opacity=\"1\" stroke-width=\"3.2\"/>\n",
       "<circle clip-path=\"url(#clip192)\" cx=\"1669.5\" cy=\"333.325\" r=\"14\" fill=\"#009af9\" fill-rule=\"evenodd\" fill-opacity=\"1\" stroke=\"#000000\" stroke-opacity=\"1\" stroke-width=\"3.2\"/>\n",
       "<circle clip-path=\"url(#clip192)\" cx=\"1708.21\" cy=\"849.246\" r=\"14\" fill=\"#009af9\" fill-rule=\"evenodd\" fill-opacity=\"1\" stroke=\"#000000\" stroke-opacity=\"1\" stroke-width=\"3.2\"/>\n",
       "<circle clip-path=\"url(#clip192)\" cx=\"1708.21\" cy=\"684.446\" r=\"14\" fill=\"#009af9\" fill-rule=\"evenodd\" fill-opacity=\"1\" stroke=\"#000000\" stroke-opacity=\"1\" stroke-width=\"3.2\"/>\n",
       "<circle clip-path=\"url(#clip192)\" cx=\"1768.23\" cy=\"1291.45\" r=\"14\" fill=\"#009af9\" fill-rule=\"evenodd\" fill-opacity=\"1\" stroke=\"#000000\" stroke-opacity=\"1\" stroke-width=\"3.2\"/>\n",
       "<circle clip-path=\"url(#clip192)\" cx=\"1768.23\" cy=\"242.239\" r=\"14\" fill=\"#009af9\" fill-rule=\"evenodd\" fill-opacity=\"1\" stroke=\"#000000\" stroke-opacity=\"1\" stroke-width=\"3.2\"/>\n",
       "<circle clip-path=\"url(#clip192)\" cx=\"1855.47\" cy=\"1037.24\" r=\"14\" fill=\"#009af9\" fill-rule=\"evenodd\" fill-opacity=\"1\" stroke=\"#000000\" stroke-opacity=\"1\" stroke-width=\"3.2\"/>\n",
       "<circle clip-path=\"url(#clip192)\" cx=\"1855.47\" cy=\"496.456\" r=\"14\" fill=\"#009af9\" fill-rule=\"evenodd\" fill-opacity=\"1\" stroke=\"#000000\" stroke-opacity=\"1\" stroke-width=\"3.2\"/>\n",
       "<circle clip-path=\"url(#clip192)\" cx=\"1866.26\" cy=\"897.366\" r=\"14\" fill=\"#009af9\" fill-rule=\"evenodd\" fill-opacity=\"1\" stroke=\"#000000\" stroke-opacity=\"1\" stroke-width=\"3.2\"/>\n",
       "<circle clip-path=\"url(#clip192)\" cx=\"1866.26\" cy=\"636.326\" r=\"14\" fill=\"#009af9\" fill-rule=\"evenodd\" fill-opacity=\"1\" stroke=\"#000000\" stroke-opacity=\"1\" stroke-width=\"3.2\"/>\n",
       "<circle clip-path=\"url(#clip192)\" cx=\"1870.33\" cy=\"1140.1\" r=\"14\" fill=\"#009af9\" fill-rule=\"evenodd\" fill-opacity=\"1\" stroke=\"#000000\" stroke-opacity=\"1\" stroke-width=\"3.2\"/>\n",
       "<circle clip-path=\"url(#clip192)\" cx=\"1870.33\" cy=\"393.596\" r=\"14\" fill=\"#009af9\" fill-rule=\"evenodd\" fill-opacity=\"1\" stroke=\"#000000\" stroke-opacity=\"1\" stroke-width=\"3.2\"/>\n",
       "<circle clip-path=\"url(#clip192)\" cx=\"1925.29\" cy=\"766.846\" r=\"14\" fill=\"#009af9\" fill-rule=\"evenodd\" fill-opacity=\"1\" stroke=\"#000000\" stroke-opacity=\"1\" stroke-width=\"3.2\"/>\n",
       "<circle clip-path=\"url(#clip192)\" cx=\"1929.79\" cy=\"853.395\" r=\"14\" fill=\"#009af9\" fill-rule=\"evenodd\" fill-opacity=\"1\" stroke=\"#000000\" stroke-opacity=\"1\" stroke-width=\"3.2\"/>\n",
       "<circle clip-path=\"url(#clip192)\" cx=\"1929.79\" cy=\"680.297\" r=\"14\" fill=\"#009af9\" fill-rule=\"evenodd\" fill-opacity=\"1\" stroke=\"#000000\" stroke-opacity=\"1\" stroke-width=\"3.2\"/>\n",
       "<circle clip-path=\"url(#clip192)\" cx=\"1972.95\" cy=\"1222.43\" r=\"14\" fill=\"#009af9\" fill-rule=\"evenodd\" fill-opacity=\"1\" stroke=\"#000000\" stroke-opacity=\"1\" stroke-width=\"3.2\"/>\n",
       "<circle clip-path=\"url(#clip192)\" cx=\"1972.95\" cy=\"311.261\" r=\"14\" fill=\"#009af9\" fill-rule=\"evenodd\" fill-opacity=\"1\" stroke=\"#000000\" stroke-opacity=\"1\" stroke-width=\"3.2\"/>\n",
       "<circle clip-path=\"url(#clip192)\" cx=\"2029.29\" cy=\"941.071\" r=\"14\" fill=\"#009af9\" fill-rule=\"evenodd\" fill-opacity=\"1\" stroke=\"#000000\" stroke-opacity=\"1\" stroke-width=\"3.2\"/>\n",
       "<circle clip-path=\"url(#clip192)\" cx=\"2029.29\" cy=\"592.621\" r=\"14\" fill=\"#009af9\" fill-rule=\"evenodd\" fill-opacity=\"1\" stroke=\"#000000\" stroke-opacity=\"1\" stroke-width=\"3.2\"/>\n",
       "<circle clip-path=\"url(#clip192)\" cx=\"2030.97\" cy=\"1039.08\" r=\"14\" fill=\"#009af9\" fill-rule=\"evenodd\" fill-opacity=\"1\" stroke=\"#000000\" stroke-opacity=\"1\" stroke-width=\"3.2\"/>\n",
       "<circle clip-path=\"url(#clip192)\" cx=\"2030.97\" cy=\"494.612\" r=\"14\" fill=\"#009af9\" fill-rule=\"evenodd\" fill-opacity=\"1\" stroke=\"#000000\" stroke-opacity=\"1\" stroke-width=\"3.2\"/>\n",
       "<circle clip-path=\"url(#clip192)\" cx=\"2169.97\" cy=\"766.846\" r=\"14\" fill=\"#009af9\" fill-rule=\"evenodd\" fill-opacity=\"1\" stroke=\"#000000\" stroke-opacity=\"1\" stroke-width=\"3.2\"/>\n",
       "<circle clip-path=\"url(#clip192)\" cx=\"2181.69\" cy=\"869.908\" r=\"14\" fill=\"#009af9\" fill-rule=\"evenodd\" fill-opacity=\"1\" stroke=\"#000000\" stroke-opacity=\"1\" stroke-width=\"3.2\"/>\n",
       "<circle clip-path=\"url(#clip192)\" cx=\"2181.69\" cy=\"663.784\" r=\"14\" fill=\"#009af9\" fill-rule=\"evenodd\" fill-opacity=\"1\" stroke=\"#000000\" stroke-opacity=\"1\" stroke-width=\"3.2\"/>\n",
       "<circle clip-path=\"url(#clip192)\" cx=\"2205.48\" cy=\"998.852\" r=\"14\" fill=\"#009af9\" fill-rule=\"evenodd\" fill-opacity=\"1\" stroke=\"#000000\" stroke-opacity=\"1\" stroke-width=\"3.2\"/>\n",
       "<circle clip-path=\"url(#clip192)\" cx=\"2205.48\" cy=\"534.839\" r=\"14\" fill=\"#009af9\" fill-rule=\"evenodd\" fill-opacity=\"1\" stroke=\"#000000\" stroke-opacity=\"1\" stroke-width=\"3.2\"/>\n",
       "<circle clip-path=\"url(#clip192)\" cx=\"2290.96\" cy=\"766.846\" r=\"14\" fill=\"#009af9\" fill-rule=\"evenodd\" fill-opacity=\"1\" stroke=\"#000000\" stroke-opacity=\"1\" stroke-width=\"3.2\"/>\n",
       "<path clip-path=\"url(#clip190)\" d=\"\n",
       "M1986.37 216.178 L2279.98 216.178 L2279.98 95.2176 L1986.37 95.2176  Z\n",
       "  \" fill=\"#ffffff\" fill-rule=\"evenodd\" fill-opacity=\"1\"/>\n",
       "<polyline clip-path=\"url(#clip190)\" style=\"stroke:#000000; stroke-width:4; stroke-opacity:1; fill:none\" points=\"\n",
       "  1986.37,216.178 2279.98,216.178 2279.98,95.2176 1986.37,95.2176 1986.37,216.178 \n",
       "  \"/>\n",
       "<circle clip-path=\"url(#clip190)\" cx=\"2083.41\" cy=\"155.698\" r=\"23\" fill=\"#009af9\" fill-rule=\"evenodd\" fill-opacity=\"1\" stroke=\"#000000\" stroke-opacity=\"1\" stroke-width=\"5.12\"/>\n",
       "<path clip-path=\"url(#clip190)\" d=\"M 0 0 M2194.29 175.385 Q2192.48 180.015 2190.77 181.427 Q2189.05 182.839 2186.18 182.839 L2182.78 182.839 L2182.78 179.274 L2185.28 179.274 Q2187.04 179.274 2188.01 178.44 Q2188.99 177.607 2190.17 174.505 L2190.93 172.561 L2180.44 147.052 L2184.96 147.052 L2193.06 167.329 L2201.16 147.052 L2205.68 147.052 L2194.29 175.385 Z\" fill=\"#000000\" fill-rule=\"evenodd\" fill-opacity=\"1\" /><path clip-path=\"url(#clip190)\" d=\"M 0 0 M2211.55 169.042 L2219.19 169.042 L2219.19 142.677 L2210.88 144.343 L2210.88 140.084 L2219.15 138.418 L2223.82 138.418 L2223.82 169.042 L2231.46 169.042 L2231.46 172.978 L2211.55 172.978 L2211.55 169.042 Z\" fill=\"#000000\" fill-rule=\"evenodd\" fill-opacity=\"1\" /></svg>\n"
      ]
     },
     "execution_count": 24,
     "metadata": {},
     "output_type": "execute_result"
    }
   ],
   "source": [
    "using Plots\n",
    "# i=1\n",
    "# zs = [ λ[i] +  r[i]*exp(im*t) for t in 0:pi/100:2pi ]\n",
    "# plot( real(zs), imag(zs),linewidth=1)\n",
    "# i = 2\n",
    "# zs = [ λ[i] +  r[i]*exp(im*t) for t in 0:pi/100:2pi ]\n",
    "# plot!( real(zs), imag(zs),linewidth=50)\n",
    "plot(real(λ), imag(λ), seriestype = :scatter)\n",
    "\n",
    "# end\n",
    "# xlabel(\"real part\")\n",
    "# ylabel(\"imag part\")\n",
    "# axhline(0, lw=0.5, color=\"k\")\n",
    "# axvline(0, lw=0.5, color=\"k\")\n",
    "# plt[:axes]()[:set_aspect](\"equal\")\n",
    "# plot(index, max_rad, yscale=:log10,\n",
    "#     xlabel       =\"n\",                #X軸のラベル\n",
    "#     ylabel       =\"maximum radius\",   #Y軸のラベル\n",
    "#     xlims        =(0,41),             #X軸の範囲\n",
    "#     title=\"Error bounds of IG\",       #タイトル\n",
    "#     linewidth    =2,                  #線幅\n",
    "#     seriestype = :scatter,            #点プロットに　\n",
    "#     size         =(400,300),          #プロットのサイズ\n",
    "#     label = \"without pre-conditioned\",#凡例のラベル\n",
    "#     legend = false,                   #凡例は今回は消す\n",
    "# )"
   ]
  },
  {
   "cell_type": "markdown",
   "metadata": {},
   "source": [
    "**メモ**　あと、一般化固有値問題を対象に非線形方程式の精度保証方法を利用することで、一部の固有値を精度保証する方法を今後、紹介したい。\n",
    "\n",
    "\n",
    "\n",
    "本資料は以下のような文献・Web ページ等を参考にこの文章は書いています.\n",
    "\n",
    "### 参考文献\n",
    "\n",
    "1. 大石進一編著, 精度保証付き数値計算の基礎, コロナ社, 2018.<br>\n",
    "精度保証付き数値計算の教科書、3.4.1章にある「密行列に対する精度保証法」を実装した。\n",
    "\n",
    "1. 齊藤宣一, [計算数理演習](http://infsup.jp/saito/materials/na19exer.pdf), (最終閲覧日 12月9日).<br>\n",
    "2019年度に行われた、計算数理演習（東京大学理学部数学科，教養学部統合自然科学科）の講義資料．ゲルシュゴリンの包含定理について、MATLABで実装した例が掲載されている."
   ]
  },
  {
   "cell_type": "markdown",
   "metadata": {},
   "source": [
    "<div align=\"right\">井藤佳奈子, 高安亮紀, 2020年12月9日</div>"
   ]
  }
 ],
 "metadata": {
  "kernelspec": {
   "display_name": "Julia 1.5.0",
   "language": "julia",
   "name": "julia-1.5"
  },
  "language_info": {
   "file_extension": ".jl",
   "mimetype": "application/julia",
   "name": "julia",
   "version": "1.5.0"
  }
 },
 "nbformat": 4,
 "nbformat_minor": 4
}
