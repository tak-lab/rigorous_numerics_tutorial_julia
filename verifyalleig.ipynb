{
 "cells": [
  {
   "cell_type": "markdown",
   "metadata": {},
   "source": [
    "# Juliaで固有値問題を精度保証付き数値計算したい\n",
    "\n",
    "\n",
    "## 固有値問題とは\n",
    "\n",
    "固有値問題は与えられた行列の固有値および固有ベクトルを求めること。つまり、\n",
    "$\n",
    "\\newcommand{\\C}{\\mathbb{C}}\n",
    "\\newcommand{\\IC}{\\mathbb{IC}}\n",
    "\\newcommand{\\bX}{\\bar{X}}\n",
    "$\n",
    "\n",
    "$$\n",
    "Ax=\\lambda x,\\quad A\\in \\C^{n\\times n}\n",
    "$$\n",
    "\n",
    "を満たす$\\lambda\\in \\C$, $x\\in \\C^{n\\times n}$ ($x\\neq 0$) を求める問題を指す。\n",
    "\n",
    "Juliaで固有値と固有ベクトルを求める際には、`LinearAlgebra`パッケージに含まれている関数`eigen`・`eigvals`・`eigvecs`で求めることができる。\n",
    "\n",
    "|関数| 役割 |\n",
    "|:-----------|:----------|\n",
    "| eigen()    | 固有値・固有ベクトル両方  |\n",
    "| eigvals()    | 固有値  |\n",
    "| eigvecs()  | 固有ベクトル |\n",
    "\n",
    "多分、Lapackの何かを呼び足してるはず。"
   ]
  },
  {
   "cell_type": "code",
   "execution_count": 43,
   "metadata": {},
   "outputs": [
    {
     "data": {
      "text/plain": [
       "Eigen{Float64,Float64,Array{Float64,2},Array{Float64,1}}\n",
       "values:\n",
       "2-element Array{Float64,1}:\n",
       " -1.0\n",
       "  3.0\n",
       "vectors:\n",
       "2×2 Array{Float64,2}:\n",
       " -0.707107  0.707107\n",
       "  0.707107  0.707107"
      ]
     },
     "execution_count": 43,
     "metadata": {},
     "output_type": "execute_result"
    }
   ],
   "source": [
    "using LinearAlgebra\n",
    "val, vec  = eigen([1 2; 2 1])"
   ]
  },
  {
   "cell_type": "code",
   "execution_count": 45,
   "metadata": {},
   "outputs": [
    {
     "data": {
      "text/plain": [
       "2-element Array{Float64,1}:\n",
       " -1.0\n",
       "  3.0"
      ]
     },
     "execution_count": 45,
     "metadata": {},
     "output_type": "execute_result"
    }
   ],
   "source": [
    "val#固有値"
   ]
  },
  {
   "cell_type": "code",
   "execution_count": 3,
   "metadata": {},
   "outputs": [
    {
     "data": {
      "text/plain": [
       "2×2 Array{Float64,2}:\n",
       " -0.707107  0.707107\n",
       "  0.707107  0.707107"
      ]
     },
     "execution_count": 3,
     "metadata": {},
     "output_type": "execute_result"
    }
   ],
   "source": [
    "vec#固有ベクトル"
   ]
  },
  {
   "cell_type": "code",
   "execution_count": 4,
   "metadata": {},
   "outputs": [
    {
     "data": {
      "text/plain": [
       "2-element Array{Float64,1}:\n",
       " -1.0\n",
       "  3.0"
      ]
     },
     "execution_count": 4,
     "metadata": {},
     "output_type": "execute_result"
    }
   ],
   "source": [
    "eigvals([1 2; 2 1])#固有値"
   ]
  },
  {
   "cell_type": "code",
   "execution_count": 5,
   "metadata": {},
   "outputs": [
    {
     "data": {
      "text/plain": [
       "2×2 Array{Float64,2}:\n",
       " -0.707107  0.707107\n",
       "  0.707107  0.707107"
      ]
     },
     "execution_count": 5,
     "metadata": {},
     "output_type": "execute_result"
    }
   ],
   "source": [
    "eigvecs([1 2; 2 1])#固有ベクトル"
   ]
  },
  {
   "cell_type": "markdown",
   "metadata": {},
   "source": [
    "## 密行列の固有値問題に対する精度保証\n",
    "\n",
    "密行列とは、行列内のほとんどの要素が0でない行列のことを指す。ここでは、行列$A\\in\\C^{n\\times n}$ $(i=1,2,\\cdots,n)$ の全ての固有値に対する精度保証アルゴリズムを考える。 \n",
    "\n",
    "### 実装したいアルゴリズム\n",
    "(1)\n",
    "ある行列$A$の全ての近似固有ベクトル$\\bX\\in\\C^{n\\times n}$ $(i=1,2,\\cdots,n)$ を求める。\n",
    "\n",
    "(2)\n",
    "$A\\cdot\\bX$の包含$C\\in\\IC^{n\\times n}$を求める。\n",
    "\n",
    "(3)\n",
    "区間連立1次方程式$\\hat XG=C$の解集合の包含$G\\supset\\hat X^{-1}\\cdot C$を求める。\n",
    "\n",
    "(4)\n",
    "$G\\in\\IC^{n\\times n}$に対してゲルシュゴリンの定理を適用することを考える。"
   ]
  },
  {
   "cell_type": "markdown",
   "metadata": {},
   "source": [
    "#### (1)行列$A$の全ての近似固有ベクトル$\\bX\\in\\C^{n\\times n}$ $(i=1,2,\\cdots,n)$ を求める。\n",
    "\n",
    "行列$A\\in\\C^{n\\times n}$ $(i=1,2,\\cdots,n)$ が対角化可能であるとするとき、$\\lambda_i$ に対する固有ベクトル$x^{(i)}\\in\\C^{n}$ $(i=1,2,\\cdots,n)$ を並べた行列\n",
    "\n",
    "$$\n",
    "X :=[x^{(1)},x^{(2)},\\cdots,x^{(n)}]\\in\\C^{n\\times n}\n",
    "$$\n",
    "\n",
    "によって、$A$ は\n",
    "\n",
    "$$\n",
    "X^{-1}AX = D = \\rm{diag}(\\lambda_1,\\lambda_2,\\cdots,\\lambda_n)\n",
    "$$\n",
    "\n",
    "と対角化される。"
   ]
  },
  {
   "cell_type": "code",
   "execution_count": 1,
   "metadata": {},
   "outputs": [],
   "source": [
    "using LinearAlgebra\n",
    "\n",
    "n =100;\n",
    "A = randn(n,n);\n",
    "\n",
    "λ, X = eigen(A);"
   ]
  },
  {
   "cell_type": "code",
   "execution_count": 2,
   "metadata": {},
   "outputs": [
    {
     "data": {
      "text/plain": [
       "100-element Array{Complex{Float64},1}:\n",
       " -11.417918681190667 + 0.0im\n",
       "   -8.79054399093943 - 0.5566298995177359im\n",
       "   -8.79054399093943 + 0.5566298995177359im\n",
       "  -8.016744832148394 - 3.6807972237370503im\n",
       "  -8.016744832148394 + 3.6807972237370503im\n",
       "  -7.718761562333233 - 2.97251731506134im\n",
       "  -7.718761562333233 + 2.97251731506134im\n",
       "  -7.431888304622639 + 0.0im\n",
       "  -7.102439622035514 + 0.0im\n",
       " -6.8018771556541004 - 3.115130891602639im\n",
       " -6.8018771556541004 + 3.115130891602639im\n",
       "  -6.081601789368001 - 4.212801069806427im\n",
       "  -6.081601789368001 + 4.212801069806427im\n",
       "                     ⋮\n",
       "  6.7309475925059505 + 4.874586460426866im\n",
       "   6.973451473768223 + 0.0im\n",
       "   7.647069400209373 - 2.7142834362071353im\n",
       "   7.647069400209373 + 2.7142834362071353im\n",
       "   8.086548210673268 - 2.4974184600687193im\n",
       "   8.086548210673268 + 2.4974184600687193im\n",
       "   8.099236735528688 - 4.351962116295731im\n",
       "   8.099236735528688 + 4.351962116295731im\n",
       "   8.103075762607997 - 6.028347341155184im\n",
       "   8.103075762607997 + 6.028347341155184im\n",
       "   9.091525837242312 + 0.0im\n",
       "   9.529650253261737 + 0.0im"
      ]
     },
     "execution_count": 2,
     "metadata": {},
     "output_type": "execute_result"
    }
   ],
   "source": [
    "λ #固有値"
   ]
  },
  {
   "cell_type": "code",
   "execution_count": 3,
   "metadata": {},
   "outputs": [
    {
     "data": {
      "text/plain": [
       "100×100 Array{Complex{Float64},2}:\n",
       "    0.195146+0.0im  -0.0623861-0.000102105im  …    -0.118403+0.0im\n",
       "   -0.179806+0.0im   0.0396057+0.0437655im         0.0808506+0.0im\n",
       "   0.0812822+0.0im   0.0161132+0.0190642im          0.158881+0.0im\n",
       "   0.0714154+0.0im  -0.0650875-0.0352594im         0.0180217+0.0im\n",
       "  -0.0329468+0.0im   0.0491796-0.0712755im         -0.012017+0.0im\n",
       "   0.0656159+0.0im    0.123988+0.0221282im    …    0.0684151+0.0im\n",
       "   -0.246706+0.0im    0.135142-0.0204986im           0.12618+0.0im\n",
       "  0.00643457+0.0im   0.0384467-0.0131581im       -0.00459694+0.0im\n",
       "   0.0303654+0.0im   -0.175539-0.0113529im         -0.031536+0.0im\n",
       " -0.00258317+0.0im  -0.0383301-0.0610206im          0.116586+0.0im\n",
       "    0.152676+0.0im   -0.120556+0.0309086im    …     0.109128+0.0im\n",
       "  -0.0186614+0.0im  -0.0944224+0.0247647im           0.02055+0.0im\n",
       "   0.0131826+0.0im  -0.0107692+0.0204626im         -0.119328+0.0im\n",
       "            ⋮                                 ⋱  \n",
       " -0.00789016+0.0im  0.00437523-0.0170409im          0.072433+0.0im\n",
       "  -0.0400361+0.0im    0.102936-0.040425im          -0.159589+0.0im\n",
       "    0.152213+0.0im   -0.131223+0.00603113im   …   -0.0502747+0.0im\n",
       "  -0.0257533+0.0im  -0.0351911+0.00326821im       -0.0648465+0.0im\n",
       "    0.136053+0.0im   0.0917456-0.0881176im         0.0146551+0.0im\n",
       "  -0.0761009+0.0im   0.0465732-0.0189484im        -0.0934094+0.0im\n",
       "   0.0706826+0.0im  -0.0310529-0.0148926im        -0.0944689+0.0im\n",
       "  -0.0610219+0.0im    0.097643+0.0360327im    …    -0.028006+0.0im\n",
       "   0.0779171+0.0im  -0.0494747-0.00800376im       -0.0157728+0.0im\n",
       "  -0.0975982+0.0im   0.0435913-0.000254926im       -0.159591+0.0im\n",
       "    -0.10097+0.0im   0.0248087+0.0230606im          0.237647+0.0im\n",
       "   -0.150188+0.0im   0.0319646+0.027444im        -0.00345703+0.0im"
      ]
     },
     "execution_count": 3,
     "metadata": {},
     "output_type": "execute_result"
    }
   ],
   "source": [
    "X #固有ベクトル"
   ]
  },
  {
   "cell_type": "markdown",
   "metadata": {},
   "source": [
    "しかし、実際のところ上記の数値計算で得られる固有ベクトル $X$ は近似の値 $\\bX\\in \\C^{n\\times n}$ (以下、近似固有ベクトルという) である。しかし、近似固有ベクトルを並べた行列を使って、対角化したものについては、対角優位性が期待できる。この行列を $G$ とすると、\n",
    "\n",
    "$$\n",
    "G := \\bX^{-1}A\\bX\n",
    "$$\n",
    "\n",
    "となり、行列 $G$ の対角成分は行列 $A$ の固有値の近似となる。\n",
    "\n",
    "また、対角優位性とは、ある行列$A=(a_{ij})$について、\n",
    "\n",
    "$$\n",
    "\\left|a_{i i}\\right|>\\sum_{{j} \\colon j \\neq i}\\left|a_{i j}\\right| \\quad(i=1,2, \\ldots, n)\n",
    "$$\n",
    "\n",
    "であること。つまり、行列のどの対角成分の絶対値も、それと同じ列にある非対角成分の和よりも大きい時。"
   ]
  },
  {
   "cell_type": "code",
   "execution_count": 51,
   "metadata": {},
   "outputs": [
    {
     "data": {
      "text/plain": [
       "1.1117939889716233e-13"
      ]
     },
     "execution_count": 51,
     "metadata": {},
     "output_type": "execute_result"
    }
   ],
   "source": [
    "G = inv(X)*A*X; #G\n",
    "norm(diag(G) - λ,Inf) # Gの対角成分は固有値λにほぼ一致する"
   ]
  },
  {
   "cell_type": "markdown",
   "metadata": {},
   "source": [
    "#### (2)$A\\cdot\\bX$の包含$C\\in\\IC^{n\\times n}$を求める。\n",
    "\n",
    "``方法1``各演算を区間演算に変更した方式(参考：[interval_dot-mul.ipynb](https://www.risk.tsukuba.ac.jp/~takitoshi/tutorial/interval_dot-mul.html \"タイトル\"))"
   ]
  },
  {
   "cell_type": "code",
   "execution_count": 22,
   "metadata": {},
   "outputs": [
    {
     "name": "stdout",
     "output_type": "stream",
     "text": [
      "  81.944 ms (8 allocations: 312.91 KiB)\n"
     ]
    }
   ],
   "source": [
    "using IntervalArithmetic\n",
    "\n",
    "iA = map(Interval, A);\n",
    "iX = map(Interval, X);\n",
    "\n",
    "@btime C1 = $iA * $iX;"
   ]
  },
  {
   "cell_type": "code",
   "execution_count": 41,
   "metadata": {},
   "outputs": [
    {
     "data": {
      "text/plain": [
       "100×100 Array{Interval{Float64},2}:\n",
       " [-2.22817, -2.22816]      …  [-1.12834, -1.12833]\n",
       "  [2.05301, 2.05302]           [0.770477, 0.770478]\n",
       " [-0.928074, -0.928073]        [1.51408, 1.51409]\n",
       " [-0.815416, -0.815415]        [0.17174, 0.171741]\n",
       "  [0.376184, 0.376185]        [-0.114519, -0.114518]\n",
       " [-0.749198, -0.749197]    …   [0.651971, 0.651972]\n",
       "  [2.81687, 2.81688]           [1.20245, 1.20246]\n",
       " [-0.0734694, -0.0734693]     [-0.0438072, -0.0438071]\n",
       " [-0.34671, -0.346709]        [-0.300528, -0.300527]\n",
       "  [0.0294944, 0.0294945]       [1.11102, 1.11103]\n",
       " [-1.74325, -1.74324]      …   [1.03995, 1.03996]\n",
       "  [0.213074, 0.213075]         [0.195834, 0.195835]\n",
       " [-0.150519, -0.150518]       [-1.13716, -1.13715]\n",
       "   ⋮                       ⋱  \n",
       "  [0.0900892, 0.0900893]       [0.690261, 0.690262]\n",
       "  [0.457129, 0.45713]         [-1.52083, -1.52082]\n",
       " [-1.73796, -1.73795]      …  [-0.4791, -0.479099]\n",
       "  [0.294049, 0.29405]         [-0.617965, -0.617964]\n",
       " [-1.55344, -1.55343]          [0.139657, 0.139658]\n",
       "  [0.868914, 0.868915]        [-0.890159, -0.890158]\n",
       " [-0.807049, -0.807048]       [-0.900256, -0.900255]\n",
       "  [0.696742, 0.696743]     …  [-0.266887, -0.266886]\n",
       " [-0.889652, -0.889651]       [-0.15031, -0.150309]\n",
       "  [1.11436, 1.11437]          [-1.52086, -1.52085]\n",
       "  [1.15286, 1.15287]           [2.26468, 2.26469]\n",
       "  [1.71483, 1.71484]          [-0.0329444, -0.0329443]"
      ]
     },
     "execution_count": 41,
     "metadata": {},
     "output_type": "execute_result"
    }
   ],
   "source": [
    "real(C1)"
   ]
  },
  {
   "cell_type": "code",
   "execution_count": 37,
   "metadata": {},
   "outputs": [
    {
     "data": {
      "text/plain": [
       "100×100 Array{Interval{Float64},2}:\n",
       " [0, 0]   [0.0356235, 0.0356236]     …  [0, 0]  [0, 0]\n",
       " [0, 0]  [-0.406769, -0.406768]         [0, 0]  [0, 0]\n",
       " [0, 0]  [-0.176554, -0.176553]         [0, 0]  [0, 0]\n",
       " [0, 0]   [0.346179, 0.34618]           [0, 0]  [0, 0]\n",
       " [0, 0]   [0.599175, 0.599176]          [0, 0]  [0, 0]\n",
       " [0, 0]  [-0.263535, -0.263534]      …  [0, 0]  [0, 0]\n",
       " [0, 0]   [0.104969, 0.10497]           [0, 0]  [0, 0]\n",
       " [0, 0]   [0.0942661, 0.0942662]        [0, 0]  [0, 0]\n",
       " [0, 0]   [0.197508, 0.197509]          [0, 0]  [0, 0]\n",
       " [0, 0]   [0.55774, 0.557741]           [0, 0]  [0, 0]\n",
       " [0, 0]  [-0.204599, -0.204598]      …  [0, 0]  [0, 0]\n",
       " [0, 0]  [-0.165138, -0.165137]         [0, 0]  [0, 0]\n",
       " [0, 0]  [-0.173883, -0.173882]         [0, 0]  [0, 0]\n",
       "      ⋮                              ⋱          \n",
       " [0, 0]   [0.147363, 0.147364]          [0, 0]  [0, 0]\n",
       " [0, 0]   [0.29806, 0.298061]           [0, 0]  [0, 0]\n",
       " [0, 0]   [0.0200258, 0.0200259]     …  [0, 0]  [0, 0]\n",
       " [0, 0]  [-0.00914094, -0.00914093]     [0, 0]  [0, 0]\n",
       " [0, 0]   [0.723533, 0.723534]          [0, 0]  [0, 0]\n",
       " [0, 0]   [0.140642, 0.140643]          [0, 0]  [0, 0]\n",
       " [0, 0]   [0.148199, 0.1482]            [0, 0]  [0, 0]\n",
       " [0, 0]  [-0.371098, -0.371097]      …  [0, 0]  [0, 0]\n",
       " [0, 0]   [0.0978965, 0.0978966]        [0, 0]  [0, 0]\n",
       " [0, 0]  [-0.0220233, -0.0220232]       [0, 0]  [0, 0]\n",
       " [0, 0]  [-0.216525, -0.216524]         [0, 0]  [0, 0]\n",
       " [0, 0]  [-0.259041, -0.25904]          [0, 0]  [0, 0]"
      ]
     },
     "execution_count": 37,
     "metadata": {},
     "output_type": "execute_result"
    }
   ],
   "source": [
    "imag(C1)"
   ]
  },
  {
   "cell_type": "code",
   "execution_count": 61,
   "metadata": {},
   "outputs": [
    {
     "name": "stdout",
     "output_type": "stream",
     "text": [
      "max(maximum(radius.(real(C1[:]))), maximum(radius.(imag(C1[:])))) = 3.7192471324942744e-15\n"
     ]
    },
    {
     "data": {
      "text/plain": [
       "3.7192471324942744e-15"
      ]
     },
     "execution_count": 61,
     "metadata": {},
     "output_type": "execute_result"
    }
   ],
   "source": [
    "@show max(maximum(radius.(real(C1[:]))),maximum(radius.(imag(C1[:]))))"
   ]
  },
  {
   "cell_type": "markdown",
   "metadata": {},
   "source": [
    "``方法2``BLASを使う。int_num_linalg.jlの呼び出し。この方が早い。"
   ]
  },
  {
   "cell_type": "code",
   "execution_count": 14,
   "metadata": {},
   "outputs": [
    {
     "name": "stdout",
     "output_type": "stream",
     "text": [
      "  33.912 ms (60028 allocations: 2.75 MiB)\n"
     ]
    }
   ],
   "source": [
    "using BenchmarkTools\n",
    "include(\"int_num_linalg.jl\"); # mm_ufpを使用する\n",
    "# function mm_real_interval(A,B) # A, B: real matrices\n",
    "#     C_mid, C_rad = imm_ufp(mid.(A),radius.(A),mid.(B),radius.(B));\n",
    "#     return C_mid .± C_rad\n",
    "# end\n",
    "# function mm_comp_interval(A,B) # A, B: complex matrices\n",
    "# #     (Ar + Ai)*(Br + Bi) = (Ar*Br - Ai*Bi) + im()\n",
    "#     Ar = real(A); Ai = imag(A);\n",
    "#     Br = real(B); Bi = imag(B);\n",
    "#     Cr = mm_real_interval(Ar, Br) - mm_real_interval(Ai, Bi);\n",
    "#     Ci = mm_real_interval(Ar, Bi) + mm_real_interval(Ai, Br);\n",
    "#     return Cr + im*Ci;\n",
    "# end\n",
    "function mm_comp_interval(A,B) # A, B: complex matrices (not interval)\n",
    "    C_mid, C_rad = mm_ufp(A,B);\n",
    "    return (real(C_mid) .± C_rad) + im*(imag(C_mid) .± C_rad)\n",
    "end\n",
    "\n",
    "# @btime C = mm_comp_interval(iA,iX);\n",
    "@btime C = mm_comp_interval(A,X); # A, X: complex matrices (not interval)"
   ]
  },
  {
   "cell_type": "code",
   "execution_count": 62,
   "metadata": {},
   "outputs": [
    {
     "name": "stdout",
     "output_type": "stream",
     "text": [
      "max(maximum(radius.(real(C[:]))), maximum(radius.(imag(C[:])))) = 9.08162434143378e-14\n"
     ]
    },
    {
     "data": {
      "text/plain": [
       "9.08162434143378e-14"
      ]
     },
     "execution_count": 62,
     "metadata": {},
     "output_type": "execute_result"
    }
   ],
   "source": [
    "@show max(maximum(radius.(real(C[:]))),maximum(radius.(imag(C[:]))))"
   ]
  },
  {
   "cell_type": "markdown",
   "metadata": {},
   "source": [
    "#### 3)区間連立1次方程式$\\hat XG=C$の解集合の包含$G\\supset\\hat X^{-1}\\cdot C$を求める。"
   ]
  },
  {
   "cell_type": "code",
   "execution_count": 88,
   "metadata": {},
   "outputs": [
    {
     "data": {
      "text/plain": [
       "verifylss_yamamoto (generic function with 1 method)"
      ]
     },
     "execution_count": 88,
     "metadata": {},
     "output_type": "execute_result"
    }
   ],
   "source": [
    "function verifylss_yamamoto(A,b) # verify the solution element-wisely\n",
    "    x̄ = A\\b;\n",
    "    n = length(x̄);\n",
    "    R = inv(A);\n",
    "    #########\n",
    "    #C_mid, C_rad = mm_ufp(R,A);\n",
    "    mm_comp_interval(R,A)\n",
    "    C=real(C)+imag(C)\n",
    "    for i in 1:n\n",
    "        for j in 1:n\n",
    "            G[i,j]=R[i,j]*C[i,j]\n",
    "        end\n",
    "    end\n",
    "    #G = Matrix{Float64}(I, n, n) - C;\n",
    "    α = opnorm(G,Inf)# Interval arithmetic\n",
    "    #########\n",
    "    if α < 1\n",
    "        x̄ = map(Interval,x̄);\n",
    "        r = A*x̄ - b; # Interval arithmetic\n",
    "        Rr = R*r;\n",
    "        err = abs.(Rr) + supremum(norm(Rr,Inf))/(1-α)*(abs.(G)*ones(n)); # Interval arithmetic\n",
    "    else\n",
    "        println(\"Oh my way, verification is failed...\")\n",
    "        err = nan;\n",
    "    end\n",
    "    return x = x̄ .± supremum.(err)\n",
    "end"
   ]
  },
  {
   "cell_type": "code",
   "execution_count": null,
   "metadata": {},
   "outputs": [],
   "source": []
  },
  {
   "cell_type": "code",
   "execution_count": 85,
   "metadata": {},
   "outputs": [
    {
     "data": {
      "text/plain": [
       "0.05942443289846145 + 6.869504964868156e-16im"
      ]
     },
     "execution_count": 85,
     "metadata": {},
     "output_type": "execute_result"
    }
   ],
   "source": [
    "R=inv(X)\n",
    "R[1,1]"
   ]
  },
  {
   "cell_type": "code",
   "execution_count": 87,
   "metadata": {},
   "outputs": [
    {
     "data": {
      "text/plain": [
       "[-2.22817, -2.22816]"
      ]
     },
     "execution_count": 87,
     "metadata": {},
     "output_type": "execute_result"
    }
   ],
   "source": [
    "C=real(C)+imag(C)\n",
    "C[1,1]"
   ]
  },
  {
   "cell_type": "markdown",
   "metadata": {},
   "source": [
    "#### 4)$G\\in\\IC^{n\\times n}$に対してゲルシュゴリンの定理を適用することを考える。"
   ]
  },
  {
   "cell_type": "markdown",
   "metadata": {},
   "source": [
    "\n",
    "## ゲルシュゴリンの包含定理\n",
    "行列 $A=(A_{ij})\\in \\C^{n\\times n}$について、$A$の全ての固有値$\\lambda_i$は、$\\bigcup_{1\\le i \\le n}  U_i$の内部に存在する。\n",
    "\n",
    "$$\n",
    "A = \\bigcup_{1\\le i \\le n}  U_i\n",
    "$$\n",
    "\n",
    "ただし、\n",
    "\n",
    "$$\n",
    "U_i = \\{z\\in\\mathbb{C}:|z-a_{ii}|\\le \\sum_{j\\neq i}|a_{ij}|\\}\n",
    "$$\n",
    "\n",
    "である。\n",
    "\n",
    "円盤領域$U_i$をゲルシュゴリン円板といい、Aが強い優対角性を持つとき、Aの対角成分がAの固有値の良い近似となる。\n",
    "\n",
    "今回の場合、$G=(g_{ij})$の対角成分$[g_{ii}]$を$c_i$、半径を$\\rm{rad(g_{ii})}$とすると、\n",
    "\n",
    "$$\n",
    "\\begin{array}{ll}\n",
    "\\mbox{ゲルシュゴリン円の中心:}&c_i\\\\\n",
    "\\mbox{ゲルシュゴリン円の半径:}&r_i=\\sum_{j\\neq i}\\rm{mag}(g_{ij})+\\rm{rad}(g_{ii})\\\\\n",
    "\\end{array}\n",
    "$$\n",
    "\n",
    "となる。"
   ]
  },
  {
   "cell_type": "code",
   "execution_count": null,
   "metadata": {},
   "outputs": [],
   "source": []
  },
  {
   "cell_type": "code",
   "execution_count": null,
   "metadata": {},
   "outputs": [],
   "source": []
  },
  {
   "cell_type": "code",
   "execution_count": null,
   "metadata": {},
   "outputs": [],
   "source": []
  },
  {
   "cell_type": "markdown",
   "metadata": {},
   "source": []
  },
  {
   "cell_type": "markdown",
   "metadata": {},
   "source": [
    "対角優位\n",
    "http://www.math.ritsumei.ac.jp/~yasutomi/jugyo/Numerical_Analysis/note5.pdf\n",
    "\n",
    "計算途中がでる\n",
    "http://www.cas.cmc.osaka-u.ac.jp/~paoon/misc/julia/post/cg/"
   ]
  },
  {
   "cell_type": "code",
   "execution_count": null,
   "metadata": {},
   "outputs": [],
   "source": []
  }
 ],
 "metadata": {
  "kernelspec": {
   "display_name": "Julia 1.5.0",
   "language": "julia",
   "name": "julia-1.5"
  },
  "language_info": {
   "file_extension": ".jl",
   "mimetype": "application/julia",
   "name": "julia",
   "version": "1.5.0"
  }
 },
 "nbformat": 4,
 "nbformat_minor": 4
}
