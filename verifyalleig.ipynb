{
 "cells": [
  {
   "cell_type": "markdown",
   "metadata": {},
   "source": [
    "# Juliaで固有値問題を精度保証付き数値計算したい\n",
    "\n",
    "\n",
    "## 固有値問題とは\n",
    "\n",
    "固有値問題は与えられた行列の固有値および固有ベクトルを求めること。つまり、\n",
    "$\n",
    "\\newcommand{\\C}{\\mathbb{C}}\n",
    "\\newcommand{\\IC}{\\mathbb{IC}}\n",
    "\\newcommand{\\bX}{\\bar{X}}\n",
    "$\n",
    "\n",
    "$$\n",
    "Ax=\\lambda x,\\quad A\\in \\C^{n\\times n}\n",
    "$$\n",
    "\n",
    "を満たす$\\lambda\\in \\C$, $x\\in \\C^{n\\times n}$ ($x\\neq 0$) を求める問題を指す。\n",
    "\n",
    "Juliaで固有値と固有ベクトルを求める際には、`LinearAlgebra`パッケージに含まれている関数`eigen`・`eigvals`・`eigvecs`で求めることができる。\n",
    "\n",
    "|関数| 役割 |\n",
    "|:-----------|:----------|\n",
    "| eigen()    | 固有値・固有ベクトル両方  |\n",
    "| eigvals()    | 固有値  |\n",
    "| eigvecs()  | 固有ベクトル |\n",
    "\n",
    "多分、Lapackの何かを呼び足してるはず。"
   ]
  },
  {
   "cell_type": "code",
   "execution_count": 43,
   "metadata": {},
   "outputs": [
    {
     "data": {
      "text/plain": [
       "Eigen{Float64,Float64,Array{Float64,2},Array{Float64,1}}\n",
       "values:\n",
       "2-element Array{Float64,1}:\n",
       " -1.0\n",
       "  3.0\n",
       "vectors:\n",
       "2×2 Array{Float64,2}:\n",
       " -0.707107  0.707107\n",
       "  0.707107  0.707107"
      ]
     },
     "execution_count": 43,
     "metadata": {},
     "output_type": "execute_result"
    }
   ],
   "source": [
    "using LinearAlgebra\n",
    "val, vec  = eigen([1 2; 2 1])"
   ]
  },
  {
   "cell_type": "code",
   "execution_count": 45,
   "metadata": {},
   "outputs": [
    {
     "data": {
      "text/plain": [
       "2-element Array{Float64,1}:\n",
       " -1.0\n",
       "  3.0"
      ]
     },
     "execution_count": 45,
     "metadata": {},
     "output_type": "execute_result"
    }
   ],
   "source": [
    "val#固有値"
   ]
  },
  {
   "cell_type": "code",
   "execution_count": 3,
   "metadata": {},
   "outputs": [
    {
     "data": {
      "text/plain": [
       "2×2 Array{Float64,2}:\n",
       " -0.707107  0.707107\n",
       "  0.707107  0.707107"
      ]
     },
     "execution_count": 3,
     "metadata": {},
     "output_type": "execute_result"
    }
   ],
   "source": [
    "vec#固有ベクトル"
   ]
  },
  {
   "cell_type": "code",
   "execution_count": 4,
   "metadata": {},
   "outputs": [
    {
     "data": {
      "text/plain": [
       "2-element Array{Float64,1}:\n",
       " -1.0\n",
       "  3.0"
      ]
     },
     "execution_count": 4,
     "metadata": {},
     "output_type": "execute_result"
    }
   ],
   "source": [
    "eigvals([1 2; 2 1])#固有値"
   ]
  },
  {
   "cell_type": "code",
   "execution_count": 5,
   "metadata": {},
   "outputs": [
    {
     "data": {
      "text/plain": [
       "2×2 Array{Float64,2}:\n",
       " -0.707107  0.707107\n",
       "  0.707107  0.707107"
      ]
     },
     "execution_count": 5,
     "metadata": {},
     "output_type": "execute_result"
    }
   ],
   "source": [
    "eigvecs([1 2; 2 1])#固有ベクトル"
   ]
  },
  {
   "cell_type": "markdown",
   "metadata": {},
   "source": [
    "## 密行列の固有値問題に対する精度保証\n",
    "\n",
    "密行列とは、行列内のほとんどの要素が0でない行列のことを指す。ここでは、行列$A\\in\\C^{n\\times n}$ $(i=1,2,\\cdots,n)$ の全ての固有値に対する精度保証アルゴリズムを考える。 \n",
    "\n",
    "### 実装したいアルゴリズム\n",
    "(1)\n",
    "ある行列$A$の全ての近似固有ベクトル$\\bX\\in\\C^{n\\times n}$ $(i=1,2,\\cdots,n)$ を求める。\n",
    "\n",
    "(2)\n",
    "$A\\cdot\\bX$ の包含 $C\\in\\IC^{n\\times n}$ を求める。\n",
    "\n",
    "(3)\n",
    "区間連立1次方程式 $\\bX G=C$ の解集合の包含 $G\\supset\\bX^{-1}\\cdot C$ を求める。\n",
    "\n",
    "(4)\n",
    "$G\\in\\IC^{n\\times n}$ に対してゲルシュゴリンの定理を適用することを考える。"
   ]
  },
  {
   "cell_type": "markdown",
   "metadata": {},
   "source": [
    "#### (1)行列$A$の全ての近似固有ベクトル$\\bX\\in\\C^{n\\times n}$ $(i=1,2,\\cdots,n)$ を求める。\n",
    "\n",
    "行列$A\\in\\C^{n\\times n}$ $(i=1,2,\\cdots,n)$ が対角化可能であるとするとき、$\\lambda_i$ に対する固有ベクトル$x^{(i)}\\in\\C^{n}$ $(i=1,2,\\cdots,n)$ を並べた行列\n",
    "\n",
    "$$\n",
    "X :=[x^{(1)},x^{(2)},\\cdots,x^{(n)}]\\in\\C^{n\\times n}\n",
    "$$\n",
    "\n",
    "によって、$A$ は\n",
    "\n",
    "$$\n",
    "X^{-1}AX = D = \\rm{diag}(\\lambda_1,\\lambda_2,\\cdots,\\lambda_n)\n",
    "$$\n",
    "\n",
    "と対角化される。"
   ]
  },
  {
   "cell_type": "code",
   "execution_count": 1,
   "metadata": {},
   "outputs": [],
   "source": [
    "using LinearAlgebra\n",
    "\n",
    "n =100;\n",
    "A = randn(n,n);\n",
    "\n",
    "λ, X = eigen(A);"
   ]
  },
  {
   "cell_type": "code",
   "execution_count": 2,
   "metadata": {},
   "outputs": [
    {
     "data": {
      "text/plain": [
       "100-element Array{Complex{Float64},1}:\n",
       " -10.626975735953893 + 0.0im\n",
       "  -8.743512787633641 - 1.979586000857552im\n",
       "  -8.743512787633641 + 1.979586000857552im\n",
       "  -8.740445960075004 + 0.0im\n",
       "  -7.783469051758448 - 3.0262855307800436im\n",
       "  -7.783469051758448 + 3.0262855307800436im\n",
       "  -7.298423793683931 - 5.348790486047355im\n",
       "  -7.298423793683931 + 5.348790486047355im\n",
       "  -6.692017794617759 - 1.9496865160427062im\n",
       "  -6.692017794617759 + 1.9496865160427062im\n",
       "  -6.442644163177895 - 3.2444606706596173im\n",
       "  -6.442644163177895 + 3.2444606706596173im\n",
       " -6.1942651507751645 - 4.631973629851082im\n",
       "                     ⋮\n",
       "   6.539332578855065 + 2.233032075725359im\n",
       "   6.607228999015904 - 6.165445801895943im\n",
       "   6.607228999015904 + 6.165445801895943im\n",
       "    7.22169921106108 - 0.9377866741033362im\n",
       "    7.22169921106108 + 0.9377866741033362im\n",
       "   7.710962406320883 - 3.2613175020959546im\n",
       "   7.710962406320883 + 3.2613175020959546im\n",
       "  7.9204533755907915 + 0.0im\n",
       "   8.389166711396669 + 0.0im\n",
       "   9.654718397041066 - 2.536868237615443im\n",
       "   9.654718397041066 + 2.536868237615443im\n",
       "  10.656157942955321 + 0.0im"
      ]
     },
     "execution_count": 2,
     "metadata": {},
     "output_type": "execute_result"
    }
   ],
   "source": [
    "λ #固有値"
   ]
  },
  {
   "cell_type": "code",
   "execution_count": 3,
   "metadata": {},
   "outputs": [
    {
     "data": {
      "text/plain": [
       "100×100 Array{Complex{Float64},2}:\n",
       "   0.0501083+0.0im    0.0698407-0.0889616im   …  -0.00810006+0.0im\n",
       "  0.00532121+0.0im    0.0326682-0.0391103im       -0.0698515+0.0im\n",
       "   0.0742684+0.0im   -0.0484232-0.0138022im         0.114154+0.0im\n",
       "   -0.114341+0.0im   -0.0917039-0.04303im           0.102704+0.0im\n",
       "  0.00291354+0.0im    0.0857744-0.0352752im        -0.043013+0.0im\n",
       "   0.0265102+0.0im   -0.0405371-0.0074808im   …     0.137271+0.0im\n",
       "  -0.0601424+0.0im   -0.0431608+0.135273im        -0.0497497+0.0im\n",
       "  -0.0840584+0.0im    0.0649642+0.0714587im        -0.143419+0.0im\n",
       "   0.0713203+0.0im   -0.0561176-0.0289629im      -0.00568682+0.0im\n",
       "   0.0806892+0.0im   -0.0507801+0.0116821im        -0.138146+0.0im\n",
       "   -0.162551+0.0im  -0.00321608-0.0420719im   …    -0.163856+0.0im\n",
       "   0.0125974+0.0im    0.0558941-0.0561896im       -0.0776132+0.0im\n",
       "    0.186565+0.0im    -0.101876+0.0126954im        0.0461539+0.0im\n",
       "            ⋮                                 ⋱  \n",
       "   -0.040423+0.0im    0.0661698+0.032648im         0.0415502+0.0im\n",
       "   0.0349687+0.0im   -0.0316382-0.0608304im       -0.0168014+0.0im\n",
       "  -0.0876603+0.0im   -0.0906229+0.00539776im  …   -0.0283822+0.0im\n",
       "   -0.125824+0.0im    -0.133939-0.0128014im         0.153661+0.0im\n",
       "   -0.110275+0.0im     0.176763+0.0721944im       -0.0244454+0.0im\n",
       "  -0.0463346+0.0im   -0.0658098-0.0894903im        -0.160136+0.0im\n",
       "    0.076719+0.0im    -0.124621+0.0220209im        0.0274674+0.0im\n",
       "   -0.136563+0.0im     0.159525+0.0176952im   …  -0.00574412+0.0im\n",
       "  0.00742465+0.0im   -0.0379099+0.0488118im        0.0717518+0.0im\n",
       " -0.00151795+0.0im   -0.0482765+0.124604im          0.047609+0.0im\n",
       "  -0.0749245+0.0im     0.084088+0.039834im         0.0150828+0.0im\n",
       "    0.131001+0.0im     -0.06821+0.064881im        -0.0284973+0.0im"
      ]
     },
     "execution_count": 3,
     "metadata": {},
     "output_type": "execute_result"
    }
   ],
   "source": [
    "X #固有ベクトル"
   ]
  },
  {
   "cell_type": "markdown",
   "metadata": {},
   "source": [
    "しかし、実際のところ上記の数値計算で得られる固有ベクトル $X$ は近似の値 $\\bX\\in \\C^{n\\times n}$ (以下、近似固有ベクトルという) である。しかし、近似固有ベクトルを並べた行列を使って、対角化したものについては、対角優位性が期待できる。この行列を $G$ とすると、\n",
    "\n",
    "$$\n",
    "G := \\bX^{-1}A\\bX\n",
    "$$\n",
    "\n",
    "となり、行列 $G$ の対角成分は行列 $A$ の固有値の近似となる。\n",
    "\n",
    "また、対角優位性とは、ある行列$A=(a_{ij})$について、\n",
    "\n",
    "$$\n",
    "\\left|a_{i i}\\right|>\\sum_{{j} \\colon j \\neq i}\\left|a_{i j}\\right| \\quad(i=1,2, \\ldots, n)\n",
    "$$\n",
    "\n",
    "であること。つまり、行列のどの対角成分の絶対値も、それと同じ列にある非対角成分の和よりも大きい時。"
   ]
  },
  {
   "cell_type": "code",
   "execution_count": 4,
   "metadata": {},
   "outputs": [
    {
     "data": {
      "text/plain": [
       "6.034386413298531e-14"
      ]
     },
     "execution_count": 4,
     "metadata": {},
     "output_type": "execute_result"
    }
   ],
   "source": [
    "G = inv(X)*A*X; #G\n",
    "norm(diag(G) - λ,Inf) # Gの対角成分は固有値λにほぼ一致する"
   ]
  },
  {
   "cell_type": "markdown",
   "metadata": {},
   "source": [
    "#### (2)$A\\cdot\\bX$の包含$C\\in\\IC^{n\\times n}$を求める。\n",
    "\n",
    "``方法1``各演算を区間演算に変更した方式(参考：[interval_dot-mul.ipynb](https://www.risk.tsukuba.ac.jp/~takitoshi/tutorial/interval_dot-mul.html \"タイトル\"))"
   ]
  },
  {
   "cell_type": "code",
   "execution_count": 5,
   "metadata": {},
   "outputs": [
    {
     "ename": "LoadError",
     "evalue": "LoadError: UndefVarError: @btime not defined\nin expression starting at In[5]:6",
     "output_type": "error",
     "traceback": [
      "LoadError: UndefVarError: @btime not defined\nin expression starting at In[5]:6",
      "",
      "Stacktrace:",
      " [1] top-level scope",
      " [2] include_string(::Function, ::Module, ::String, ::String) at /Applications/Julia-1.5.app/Contents/Resources/julia/lib/julia/sys.dylib:?"
     ]
    }
   ],
   "source": [
    "using IntervalArithmetic\n",
    "\n",
    "iA = map(Interval, A);\n",
    "iX = map(Interval, X);\n",
    "\n",
    "@btime C1 = $iA * $iX;"
   ]
  },
  {
   "cell_type": "code",
   "execution_count": 41,
   "metadata": {},
   "outputs": [
    {
     "data": {
      "text/plain": [
       "100×100 Array{Interval{Float64},2}:\n",
       " [-2.22817, -2.22816]      …  [-1.12834, -1.12833]\n",
       "  [2.05301, 2.05302]           [0.770477, 0.770478]\n",
       " [-0.928074, -0.928073]        [1.51408, 1.51409]\n",
       " [-0.815416, -0.815415]        [0.17174, 0.171741]\n",
       "  [0.376184, 0.376185]        [-0.114519, -0.114518]\n",
       " [-0.749198, -0.749197]    …   [0.651971, 0.651972]\n",
       "  [2.81687, 2.81688]           [1.20245, 1.20246]\n",
       " [-0.0734694, -0.0734693]     [-0.0438072, -0.0438071]\n",
       " [-0.34671, -0.346709]        [-0.300528, -0.300527]\n",
       "  [0.0294944, 0.0294945]       [1.11102, 1.11103]\n",
       " [-1.74325, -1.74324]      …   [1.03995, 1.03996]\n",
       "  [0.213074, 0.213075]         [0.195834, 0.195835]\n",
       " [-0.150519, -0.150518]       [-1.13716, -1.13715]\n",
       "   ⋮                       ⋱  \n",
       "  [0.0900892, 0.0900893]       [0.690261, 0.690262]\n",
       "  [0.457129, 0.45713]         [-1.52083, -1.52082]\n",
       " [-1.73796, -1.73795]      …  [-0.4791, -0.479099]\n",
       "  [0.294049, 0.29405]         [-0.617965, -0.617964]\n",
       " [-1.55344, -1.55343]          [0.139657, 0.139658]\n",
       "  [0.868914, 0.868915]        [-0.890159, -0.890158]\n",
       " [-0.807049, -0.807048]       [-0.900256, -0.900255]\n",
       "  [0.696742, 0.696743]     …  [-0.266887, -0.266886]\n",
       " [-0.889652, -0.889651]       [-0.15031, -0.150309]\n",
       "  [1.11436, 1.11437]          [-1.52086, -1.52085]\n",
       "  [1.15286, 1.15287]           [2.26468, 2.26469]\n",
       "  [1.71483, 1.71484]          [-0.0329444, -0.0329443]"
      ]
     },
     "execution_count": 41,
     "metadata": {},
     "output_type": "execute_result"
    }
   ],
   "source": [
    "real(C1)"
   ]
  },
  {
   "cell_type": "code",
   "execution_count": 37,
   "metadata": {},
   "outputs": [
    {
     "data": {
      "text/plain": [
       "100×100 Array{Interval{Float64},2}:\n",
       " [0, 0]   [0.0356235, 0.0356236]     …  [0, 0]  [0, 0]\n",
       " [0, 0]  [-0.406769, -0.406768]         [0, 0]  [0, 0]\n",
       " [0, 0]  [-0.176554, -0.176553]         [0, 0]  [0, 0]\n",
       " [0, 0]   [0.346179, 0.34618]           [0, 0]  [0, 0]\n",
       " [0, 0]   [0.599175, 0.599176]          [0, 0]  [0, 0]\n",
       " [0, 0]  [-0.263535, -0.263534]      …  [0, 0]  [0, 0]\n",
       " [0, 0]   [0.104969, 0.10497]           [0, 0]  [0, 0]\n",
       " [0, 0]   [0.0942661, 0.0942662]        [0, 0]  [0, 0]\n",
       " [0, 0]   [0.197508, 0.197509]          [0, 0]  [0, 0]\n",
       " [0, 0]   [0.55774, 0.557741]           [0, 0]  [0, 0]\n",
       " [0, 0]  [-0.204599, -0.204598]      …  [0, 0]  [0, 0]\n",
       " [0, 0]  [-0.165138, -0.165137]         [0, 0]  [0, 0]\n",
       " [0, 0]  [-0.173883, -0.173882]         [0, 0]  [0, 0]\n",
       "      ⋮                              ⋱          \n",
       " [0, 0]   [0.147363, 0.147364]          [0, 0]  [0, 0]\n",
       " [0, 0]   [0.29806, 0.298061]           [0, 0]  [0, 0]\n",
       " [0, 0]   [0.0200258, 0.0200259]     …  [0, 0]  [0, 0]\n",
       " [0, 0]  [-0.00914094, -0.00914093]     [0, 0]  [0, 0]\n",
       " [0, 0]   [0.723533, 0.723534]          [0, 0]  [0, 0]\n",
       " [0, 0]   [0.140642, 0.140643]          [0, 0]  [0, 0]\n",
       " [0, 0]   [0.148199, 0.1482]            [0, 0]  [0, 0]\n",
       " [0, 0]  [-0.371098, -0.371097]      …  [0, 0]  [0, 0]\n",
       " [0, 0]   [0.0978965, 0.0978966]        [0, 0]  [0, 0]\n",
       " [0, 0]  [-0.0220233, -0.0220232]       [0, 0]  [0, 0]\n",
       " [0, 0]  [-0.216525, -0.216524]         [0, 0]  [0, 0]\n",
       " [0, 0]  [-0.259041, -0.25904]          [0, 0]  [0, 0]"
      ]
     },
     "execution_count": 37,
     "metadata": {},
     "output_type": "execute_result"
    }
   ],
   "source": [
    "imag(C1)"
   ]
  },
  {
   "cell_type": "code",
   "execution_count": 61,
   "metadata": {},
   "outputs": [
    {
     "name": "stdout",
     "output_type": "stream",
     "text": [
      "max(maximum(radius.(real(C1[:]))), maximum(radius.(imag(C1[:])))) = 3.7192471324942744e-15\n"
     ]
    },
    {
     "data": {
      "text/plain": [
       "3.7192471324942744e-15"
      ]
     },
     "execution_count": 61,
     "metadata": {},
     "output_type": "execute_result"
    }
   ],
   "source": [
    "@show max(maximum(radius.(real(C1[:]))),maximum(radius.(imag(C1[:]))))"
   ]
  },
  {
   "cell_type": "markdown",
   "metadata": {},
   "source": [
    "``方法2``BLASを使う。int_num_linalg.jlの呼び出し。この方が早い。"
   ]
  },
  {
   "cell_type": "code",
   "execution_count": 15,
   "metadata": {},
   "outputs": [
    {
     "name": "stdout",
     "output_type": "stream",
     "text": [
      "  0.201898 seconds (332.43 k allocations: 14.978 MiB)\n"
     ]
    }
   ],
   "source": [
    "using BenchmarkTools\n",
    "include(\"int_num_linalg.jl\"); # mm_ufpを使用する\n",
    "# function mm_real_interval(A,B) # A, B: real matrices\n",
    "#     C_mid, C_rad = imm_ufp(mid.(A),radius.(A),mid.(B),radius.(B));\n",
    "#     return C_mid .± C_rad\n",
    "# end\n",
    "# function mm_comp_interval_alt(A,B) # A, B: complex matrices\n",
    "# #     (Ar + Ai)*(Br + Bi) = (Ar*Br - Ai*Bi) + im()\n",
    "#     Ar = real(A); Ai = imag(A);\n",
    "#     Br = real(B); Bi = imag(B);\n",
    "#     Cr = mm_real_interval(Ar, Br) - mm_real_interval(Ai, Bi);\n",
    "#     Ci = mm_real_interval(Ar, Bi) + mm_real_interval(Ai, Br);\n",
    "#     return Cr + im*Ci;\n",
    "# end\n",
    "function mm_comp_interval(A,B) # A, B: complex matrices (not interval)\n",
    "    C_mid, C_rad = mm_ufp(A,B);\n",
    "    return (real(C_mid) .± C_rad) + im*(imag(C_mid) .± C_rad)\n",
    "end\n",
    "\n",
    "# @time C1 = mm_comp_interval_alt(iA,iX);\n",
    "@time C = mm_comp_interval(A,X); # A, X: complex matrices (not interval)"
   ]
  },
  {
   "cell_type": "code",
   "execution_count": 17,
   "metadata": {},
   "outputs": [
    {
     "data": {
      "text/plain": [
       "9.103828801926284e-14"
      ]
     },
     "execution_count": 17,
     "metadata": {},
     "output_type": "execute_result"
    }
   ],
   "source": [
    "max(maximum(radius.(real(C[:]))),maximum(radius.(imag(C[:]))))"
   ]
  },
  {
   "cell_type": "markdown",
   "metadata": {},
   "source": [
    "#### 3)区間連立1次方程式 $\\hat XG=C$ の解集合の包含 $G\\supset\\hat X^{-1}\\cdot C$ を求める。"
   ]
  },
  {
   "cell_type": "code",
   "execution_count": 49,
   "metadata": {},
   "outputs": [
    {
     "data": {
      "text/plain": [
       "verifylss_ib (generic function with 1 method)"
      ]
     },
     "execution_count": 49,
     "metadata": {},
     "output_type": "execute_result"
    }
   ],
   "source": [
    "function verifylss_ib(A,ib) # verify the solution element-wisely\n",
    "    b = mid.(real(ib)) + mid.(imag(ib))*im;\n",
    "    x̄ = A\\b;\n",
    "    n = length(x̄);\n",
    "    R = inv(A);\n",
    "    #########\n",
    "    #C_mid, C_rad = mm_ufp(R,A);\n",
    "    G = Matrix{Float64}(I, n, n) - mm_comp_interval(R,A);\n",
    "    α = opnorm(G,Inf)# Interval arithmetic\n",
    "    #########\n",
    "    if α < 1\n",
    "        x̄ = map(Interval,x̄);\n",
    "        r = A*x̄ - ib; # Interval arithmetic\n",
    "        Rr = R*r;\n",
    "        err = abs.(Rr) + supremum(norm(Rr,Inf))/(1-α)*(abs.(G)*ones(n)); # Interval arithmetic\n",
    "    else\n",
    "        println(\"Oh my way, verification is failed...\")\n",
    "        err = nan;\n",
    "    end\n",
    "    return x = (real(x̄) .± supremum.(err)) + im*(imag(x̄) .± supremum.(err))\n",
    "end"
   ]
  },
  {
   "cell_type": "code",
   "execution_count": 53,
   "metadata": {},
   "outputs": [
    {
     "data": {
      "text/plain": [
       "100×100 Array{Interval{Float64},2}:\n",
       " [-10.627, -10.6269]           …  [-1.13763e-12, 1.08021e-12]\n",
       "  [-3.55853e-12, 3.56038e-12]     [-3.31708e-12, 3.30127e-12]\n",
       "  [-3.55853e-12, 3.56038e-12]     [-3.34071e-12, 3.30339e-12]\n",
       "  [-2.49773e-12, 2.50091e-12]     [-2.32006e-12, 2.34947e-12]\n",
       "  [-3.30444e-12, 3.30623e-12]     [-3.09508e-12, 3.10892e-12]\n",
       "  [-3.30444e-12, 3.30623e-12]  …  [-3.09404e-12, 3.1362e-12]\n",
       "  [-2.90712e-12, 2.91473e-12]     [-2.78067e-12, 2.75303e-12]\n",
       "  [-2.90712e-12, 2.91473e-12]     [-2.764e-12, 2.75568e-12]\n",
       "  [-3.52756e-12, 3.52188e-12]     [-3.25582e-12, 3.31768e-12]\n",
       "  [-3.52756e-12, 3.52188e-12]     [-3.26588e-12, 3.32628e-12]\n",
       "  [-4.84495e-12, 4.84742e-12]  …  [-4.63311e-12, 4.53473e-12]\n",
       "  [-4.84495e-12, 4.84742e-12]     [-4.62198e-12, 4.5284e-12]\n",
       "  [-5.33161e-12, 5.33087e-12]     [-5.02182e-12, 5.01385e-12]\n",
       "    ⋮                          ⋱  \n",
       "  [-3.18687e-12, 3.19528e-12]     [-2.98856e-12, 3.01634e-12]\n",
       "  [-4.3154e-12, 4.32716e-12]      [-4.00724e-12, 4.04364e-12]\n",
       "  [-4.3154e-12, 4.32716e-12]   …  [-4.0107e-12, 4.03394e-12]\n",
       "  [-3.54886e-12, 3.58992e-12]     [-3.3435e-12, 3.34036e-12]\n",
       "  [-3.54886e-12, 3.58992e-12]     [-3.3429e-12, 3.33189e-12]\n",
       "  [-2.22542e-12, 2.21105e-12]     [-2.05332e-12, 2.0685e-12]\n",
       "  [-2.22542e-12, 2.21105e-12]     [-2.06356e-12, 2.06327e-12]\n",
       "  [-4.89718e-12, 4.92717e-12]  …  [-4.52886e-12, 4.50869e-12]\n",
       "  [-5.8108e-12, 5.84426e-12]      [-5.41601e-12, 5.45139e-12]\n",
       "  [-2.07e-12, 2.06054e-12]        [-1.92987e-12, 1.95285e-12]\n",
       "  [-2.07e-12, 2.06054e-12]        [-1.92814e-12, 1.95081e-12]\n",
       "  [-1.04149e-12, 1.09151e-12]     [10.6561, 10.6562]"
      ]
     },
     "execution_count": 53,
     "metadata": {},
     "output_type": "execute_result"
    }
   ],
   "source": [
    "G = similar(C);\n",
    "for i = 1:n\n",
    "    G[:,i] = verifylss_ib(X,C[:,i]);\n",
    "end\n",
    "real(G)"
   ]
  },
  {
   "cell_type": "code",
   "execution_count": 85,
   "metadata": {},
   "outputs": [
    {
     "data": {
      "text/plain": [
       "0.05942443289846145 + 6.869504964868156e-16im"
      ]
     },
     "execution_count": 85,
     "metadata": {},
     "output_type": "execute_result"
    }
   ],
   "source": [
    "R=inv(X)\n",
    "R[1,1]"
   ]
  },
  {
   "cell_type": "code",
   "execution_count": 87,
   "metadata": {},
   "outputs": [
    {
     "data": {
      "text/plain": [
       "[-2.22817, -2.22816]"
      ]
     },
     "execution_count": 87,
     "metadata": {},
     "output_type": "execute_result"
    }
   ],
   "source": [
    "C=real(C)+imag(C)\n",
    "C[1,1]"
   ]
  },
  {
   "cell_type": "markdown",
   "metadata": {},
   "source": [
    "#### 4)$G\\in\\IC^{n\\times n}$に対してゲルシュゴリンの定理を適用することを考える。"
   ]
  },
  {
   "cell_type": "markdown",
   "metadata": {},
   "source": [
    "\n",
    "## ゲルシュゴリンの包含定理\n",
    "行列 $A=(A_{ij})\\in \\C^{n\\times n}$について、$A$の全ての固有値$\\lambda_i$は、$\\bigcup_{1\\le i \\le n}  U_i$の内部に存在する。\n",
    "\n",
    "$$\n",
    "A = \\bigcup_{1\\le i \\le n}  U_i\n",
    "$$\n",
    "\n",
    "ただし、\n",
    "\n",
    "$$\n",
    "U_i = \\{z\\in\\mathbb{C}:|z-a_{ii}|\\le \\sum_{j\\neq i}|a_{ij}|\\}\n",
    "$$\n",
    "\n",
    "である。\n",
    "\n",
    "円盤領域$U_i$をゲルシュゴリン円板といい、Aが強い優対角性を持つとき、Aの対角成分がAの固有値の良い近似となる。\n",
    "\n",
    "今回の場合、$G=(g_{ij})$の対角成分$[g_{ii}]$を$c_i$、半径を$\\rm{rad(g_{ii})}$とすると、\n",
    "\n",
    "$$\n",
    "\\begin{array}{ll}\n",
    "\\mbox{ゲルシュゴリン円の中心:}&c_i\\\\\n",
    "\\mbox{ゲルシュゴリン円の半径:}&r_i=\\sum_{j\\neq i}\\rm{mag}(g_{ij})+\\rm{rad}(g_{ii})\\\\\n",
    "\\end{array}\n",
    "$$\n",
    "\n",
    "となる。"
   ]
  },
  {
   "cell_type": "code",
   "execution_count": null,
   "metadata": {},
   "outputs": [],
   "source": []
  },
  {
   "cell_type": "code",
   "execution_count": null,
   "metadata": {},
   "outputs": [],
   "source": []
  },
  {
   "cell_type": "code",
   "execution_count": null,
   "metadata": {},
   "outputs": [],
   "source": []
  },
  {
   "cell_type": "markdown",
   "metadata": {},
   "source": []
  },
  {
   "cell_type": "markdown",
   "metadata": {},
   "source": [
    "対角優位\n",
    "http://www.math.ritsumei.ac.jp/~yasutomi/jugyo/Numerical_Analysis/note5.pdf\n",
    "\n",
    "計算途中がでる\n",
    "http://www.cas.cmc.osaka-u.ac.jp/~paoon/misc/julia/post/cg/"
   ]
  },
  {
   "cell_type": "code",
   "execution_count": null,
   "metadata": {},
   "outputs": [],
   "source": []
  }
 ],
 "metadata": {
  "kernelspec": {
   "display_name": "Julia 1.5.0",
   "language": "julia",
   "name": "julia-1.5"
  },
  "language_info": {
   "file_extension": ".jl",
   "mimetype": "application/julia",
   "name": "julia",
   "version": "1.5.0"
  }
 },
 "nbformat": 4,
 "nbformat_minor": 4
}
