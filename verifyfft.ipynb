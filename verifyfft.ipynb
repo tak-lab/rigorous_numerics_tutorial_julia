{
 "cells": [
  {
   "cell_type": "markdown",
   "metadata": {},
   "source": [
    "# 高速フーリエ変換(FFT)の正確さ\n",
    "\n",
    "## 高速フーリエ変換(FFT)とは\n",
    "高速フーリエ変換(FFT:Fast Fourier Transform)とは、離散フーリエ変換(DFT:Discrete Fourier Transform)を高速に行うアルゴリズムを指す。\n",
    "\n",
    "### 離散フーリエ変換(DFT)\n",
    "\n",
    "$\\newcommand{\\C}{\\mathbb{C}}$\n",
    "\n",
    "データが $N$ 個の離散フーリエ変換を $X\\in\\C^N$ とした場合、以下のように書くことができる。\n",
    "\n",
    "$$\n",
    "\\left(\\begin{array}{c}\n",
    "X_{0} \\\\\n",
    "X_{1} \\\\\n",
    "X_{2} \\\\\n",
    "\\vdots \\\\\n",
    "X_{N-1}\n",
    "\\end{array}\\right)=\\left(\\begin{array}{ccccc}\n",
    "1 & 1 & 1 & \\cdots & 1 \\\\\n",
    "1 & e^{-i \\frac{2 \\pi}{N}} & e^{-i \\frac{4 \\pi}{N}} & \\cdots & e^{-i \\frac{2 \\pi(N-1)}{N}} \\\\\n",
    "1 & e^{-i \\frac{4 \\pi}{N}} & e^{-i \\frac{8 \\pi}{N}} & \\cdots & e^{-i \\frac{4 \\pi(N-1)}{N}} \\\\\n",
    "\\vdots & \\vdots & \\vdots & \\ddots & \\vdots \\\\\n",
    "1 & e^{-i \\frac{2 \\pi(N-1)}{N}} & e^{-i \\frac{4 \\pi(N-1)}{N}} & \\cdots & e^{-i \\frac{2 \\pi(N-1)(N-1)}{N}}\n",
    "\\end{array}\\right)\\left(\\begin{array}{c}\n",
    "x_{0} \\\\\n",
    "x_{1} \\\\\n",
    "x_{2} \\\\\n",
    "\\vdots \\\\\n",
    "x_{N-1}\n",
    "\\end{array}\\right)\n",
    "$$\n",
    "\n",
    "$W^n_N$は回転因子という。\n",
    "$$\n",
    "W^n_N = e^{-i \\frac{2 \\pi n}{N}} = \\cos \\left(\\frac{2 \\pi n}{N}\\right)-i \\sin \\left(\\frac{2 \\pi n}{N}\\right)\n",
    "$$\n",
    "\n",
    "これを用いると、\n",
    "\n",
    "$$\n",
    "\\left(\\begin{array}{c}\n",
    "X_{0} \\\\\n",
    "X_{1} \\\\\n",
    "X_{2} \\\\\n",
    "\\vdots \\\\\n",
    "X_{N-1}\n",
    "\\end{array}\\right)=\\left(\\begin{array}{ccccc}\n",
    "1 & 1 & 1 & \\cdots & 1 \\\\\n",
    "1 & W_{N} & W_{N}^{2} & \\cdots & W_{N}^{N-1} \\\\\n",
    "1 & W_{N}^{2} & W_{N}^{4} & \\cdots & W_{N}^{2(N-1)} \\\\\n",
    "\\vdots & \\vdots & \\vdots & \\ddots & \\vdots \\\\\n",
    "1 & W_{N}^{(N-1)} & W_{N}^{2(N-1)} & \\cdots & W_{N}^{(N-1)(N-1)}\n",
    "\\end{array}\\right)\\left(\\begin{array}{c}\n",
    "x_{0} \\\\\n",
    "x_{1} \\\\\n",
    "x_{2} \\\\\n",
    "\\vdots \\\\\n",
    "x_{N-1}\n",
    "\\end{array}\\right)\n",
    "$$\n",
    "\n",
    "$$\n",
    "X_{n}=\\sum_{k=0}^{N-1} x_{k} W_{N}^{n k}\n",
    "$$\n",
    "\n",
    "離散フーリエ変換では、 $X_0$ から $X_{N−1}$ の $N$ 回の離散フーリエ変換を行うために、 $N^2$ 回、複素数の四則演算を行う必要がある。しかし高速フーリエ変換では、この膨大な複素数の計算を$\\frac{N}{2}( \\log _{2} N-1)$回に減らすことができる。\n",
    "高速フーリエ変換では、データ数が2の冪乗である必要がある。"
   ]
  },
  {
   "cell_type": "markdown",
   "metadata": {},
   "source": [
    "$N=4$の時、\n",
    "$$\n",
    "\\left(\\begin{array}{c}\n",
    "X_{0} \\\\\n",
    "X_{1} \\\\\n",
    "X_{2} \\\\\n",
    "X_{3}\n",
    "\\end{array}\\right)=\\left(\\begin{array}{ccccc}\n",
    "1 & 1 & 1 &  1 \\\\\n",
    "1 & W_{4}^{1} & W_{4}^{2} &  W_{4}^{3} \\\\\n",
    "1 & W_{4}^{2} & W_{4}^{4} &  W_{4}^{6} \\\\\n",
    "1 & W_{4}^{3} & W_{4}^{6} &  W_{4}^{9} \\\\\n",
    "\\end{array}\\right)\\left(\\begin{array}{c}\n",
    "x_{0} \\\\\n",
    "x_{1} \\\\\n",
    "x_{2} \\\\\n",
    "x_{3}\n",
    "\\end{array}\\right)\n",
    "$$\n",
    "\n",
    "$$\n",
    "\\left(\\begin{array}{c}\n",
    "X_{0} \\\\\n",
    "X_{1} \\\\\n",
    "X_{2} \\\\\n",
    "X_{3}\n",
    "\\end{array}\\right)=\\left(\\begin{array}{ccccc}\n",
    "1 & 1 & 1 &  1 \\\\\n",
    "1 & W_{4}^{1} & -1 &  W_{4}^{3} \\\\\n",
    "1 & -1 & 1 & -1 \\\\\n",
    "1 & W_{4}^{3} & -1 &  W_{4}^{9} \\\\\n",
    "\\end{array}\\right)\\left(\\begin{array}{c}\n",
    "x_{0} \\\\\n",
    "x_{1} \\\\\n",
    "x_{2} \\\\\n",
    "x_{3}\n",
    "\\end{array}\\right)\n",
    "$$\n",
    "\n",
    "ここで、ビットリバース(データの値の数を2進数にしてビットの0と1を逆にする)を行うと、\n",
    "\n",
    "$$\n",
    "\\left(\\begin{array}{c}\n",
    "X_{0} \\\\\n",
    "X_{2} \\\\\n",
    "X_{1} \\\\\n",
    "X_{3}\n",
    "\\end{array}\\right)=\\left(\\begin{array}{ccccc}\n",
    "1 & 1 & 1 &  1 \\\\\n",
    "1 & -1 & 1 & -1 \\\\\n",
    "1 & W_{4}^{1} & -1 &  W_{4}^{3} \\\\\n",
    "1 & W_{4}^{3} & -1 &  W_{4}^{9} \\\\\n",
    "\\end{array}\\right)\\left(\\begin{array}{c}\n",
    "x_{0} \\\\\n",
    "x_{1} \\\\\n",
    "x_{2} \\\\\n",
    "x_{3}\n",
    "\\end{array}\\right)\n",
    "$$\n",
    "\n",
    "$$\n",
    "\\begin{array}{l}\n",
    "X_{0}=x_{0}+x_{1}+x_{2}+x_{3} \\\\\n",
    "X_{2}=x_{0}-x_{1}+x_{2}-x_{3} \\\\\n",
    "\\\\\n",
    "X_{1}=x_{0}+x_{1} W_{4}^{1}-x_{2}+x_{3} W_{4}^{3} \\\\\n",
    "X_{3}=x_{0}+x_{1} W_{4}^{3}-x_{2}+x_{3} W_{4}^{9}=x_{0}+x_{1} W_{4}^{3}-x_{2}+x_{3} W_{4}^{1}\n",
    "\\end{array}\n",
    "$$\n",
    "\n",
    "整理すると、\n",
    "\n",
    "$$\n",
    "\\begin{array}{l}\n",
    "X_{0}=\\left(x_{0}+x_{2}\\right)+\\left(x_{1}+x_{3}\\right) \\\\\n",
    "X_{2}=\\left(x_{0}+x_{2}\\right)-\\left(x_{1}+x_{3}\\right) \\\\\n",
    "\\\\\n",
    "X_{1}=\\left(x_{0}-x_{2}\\right)+W_{4}^{1}\\left(x_{1}+x_{3} W_{4}^{2}\\right)=W_{4}^{0}\\left(x_{0}-x_{2}\\right)+W_{4}^{1}\\left(x_{1}-x_{3}\\right) \\\\\n",
    "X_{3}=\\left(x_{0}-x_{2}\\right)+W_{4}^{1}\\left(x_{1} W_{4}^{2}+x_{3}\\right)=W_{4}^{0}\\left(x_{0}-x_{2}\\right)-W_{4}^{1}\\left(x_{1}-x_{3}\\right)\n",
    "\\end{array}\n",
    "$$"
   ]
  },
  {
   "cell_type": "markdown",
   "metadata": {},
   "source": [
    "Juliaでは高速フーリエ変換のライブラリとして、FFTW.jlが準備されている(OCamlで最適なCのコードを自動生成する仕組み)。"
   ]
  },
  {
   "cell_type": "code",
   "execution_count": 1,
   "metadata": {},
   "outputs": [
    {
     "name": "stdout",
     "output_type": "stream",
     "text": [
      "search: Cptrdi\u001b[0m\u001b[1mf\u001b[22m\u001b[0m\u001b[1mf\u001b[22m_\u001b[0m\u001b[1mt\u001b[22m \u001b[0m\u001b[1mf\u001b[22mind\u001b[0m\u001b[1mf\u001b[22mirs\u001b[0m\u001b[1mt\u001b[22m \u001b[0m\u001b[1mf\u001b[22mieldo\u001b[0m\u001b[1mf\u001b[22mfse\u001b[0m\u001b[1mt\u001b[22m\n",
      "\n",
      "Couldn't find \u001b[36mfft\u001b[39m\n",
      "Perhaps you meant fd, fld, fma, for, if, Out, Set, cat, cot, get, Int or let\n"
     ]
    },
    {
     "data": {
      "text/latex": [
       "No documentation found.\n",
       "\n",
       "Binding \\texttt{fft} does not exist.\n",
       "\n"
      ],
      "text/markdown": [
       "No documentation found.\n",
       "\n",
       "Binding `fft` does not exist.\n"
      ],
      "text/plain": [
       "  No documentation found.\n",
       "\n",
       "  Binding \u001b[36mfft\u001b[39m does not exist."
      ]
     },
     "execution_count": 1,
     "metadata": {},
     "output_type": "execute_result"
    }
   ],
   "source": [
    "?fft"
   ]
  },
  {
   "cell_type": "code",
   "execution_count": 2,
   "metadata": {},
   "outputs": [
    {
     "name": "stdout",
     "output_type": "stream",
     "text": [
      "search:\n",
      "\n",
      "Couldn't find \u001b[36mplan_fft\u001b[39m\n",
      "Perhaps you meant parent\n"
     ]
    },
    {
     "data": {
      "text/latex": [
       "No documentation found.\n",
       "\n",
       "Binding \\texttt{plan\\_fft} does not exist.\n",
       "\n"
      ],
      "text/markdown": [
       "No documentation found.\n",
       "\n",
       "Binding `plan_fft` does not exist.\n"
      ],
      "text/plain": [
       "  No documentation found.\n",
       "\n",
       "  Binding \u001b[36mplan_fft\u001b[39m does not exist."
      ]
     },
     "execution_count": 2,
     "metadata": {},
     "output_type": "execute_result"
    }
   ],
   "source": [
    "?plan_fft#plan_fftは、最適化されたfft関数（技術的には、プランとfftw_execute_dftのラッパー）を返すだけ?"
   ]
  },
  {
   "cell_type": "code",
   "execution_count": 1,
   "metadata": {},
   "outputs": [
    {
     "data": {
      "text/plain": [
       "generic_ifft_pow2 (generic function with 1 method)"
      ]
     },
     "execution_count": 1,
     "metadata": {},
     "output_type": "execute_result"
    }
   ],
   "source": [
    "#Cooley-Tukey FFTアルゴリズム\n",
    "function generic_fft_pow2!(x::Vector{T}) where T\n",
    "    n,big2=length(x),2one(T)\n",
    "    nn,j=n÷2,1\n",
    "    for i=1:2:n-1\n",
    "        if j>i\n",
    "            x[j], x[i] = x[i], x[j]\n",
    "            x[j+1], x[i+1] = x[i+1], x[j+1]\n",
    "        end\n",
    "        m = nn\n",
    "        while m ≥ 2 && j > m\n",
    "            j -= m\n",
    "            m = m÷2\n",
    "        end\n",
    "        j += m\n",
    "    end\n",
    "    logn = 2\n",
    "    while logn < n\n",
    "        θ=-big2/logn\n",
    "        wtemp = sinpi(θ/2)\n",
    "        wpr, wpi = -2wtemp^2, sinpi(θ)\n",
    "        wr, wi = one(T), zero(T)\n",
    "        for m=1:2:logn-1\n",
    "            for i=m:2logn:n\n",
    "                j=i+logn\n",
    "                mixr, mixi = wr*x[j]-wi*x[j+1], wr*x[j+1]+wi*x[j]\n",
    "                x[j], x[j+1] = x[i]-mixr, x[i+1]-mixi\n",
    "                x[i], x[i+1] = x[i]+mixr, x[i+1]+mixi\n",
    "            end\n",
    "            wr = (wtemp=wr)*wpr-wi*wpi+wr\n",
    "            wi = wi*wpr+wtemp*wpi+wi\n",
    "        end\n",
    "        logn = logn << 1\n",
    "    end\n",
    "    return x\n",
    "end\n",
    "\n",
    "function interlace(a::Vector{S},b::Vector{V}) where {S,V}\n",
    "    na=length(a);nb=length(b)\n",
    "    T=promote_type(S,V)\n",
    "    if nb≥na\n",
    "        ret=zeros(T,2nb)\n",
    "        ret[1:2:1+2*(na-1)]=a\n",
    "        ret[2:2:end]=b\n",
    "        ret\n",
    "    else\n",
    "        ret=zeros(T,2na-1)\n",
    "        ret[1:2:end]=a\n",
    "        if !isempty(b)\n",
    "            ret[2:2:2+2*(nb-1)]=b\n",
    "        end\n",
    "        ret\n",
    "    end\n",
    "end\n",
    "\n",
    "function generic_fft_pow2(x::Vector{Complex{T}}) where T\n",
    "    y = interlace(real(x),imag(x))\n",
    "    generic_fft_pow2!(y)\n",
    "    return complex.(y[1:2:end],y[2:2:end])\n",
    "end\n",
    "\n",
    "generic_fft_pow2(x::Vector{T}) where {T} = generic_fft_pow2(complex(x))\n",
    "\n",
    "#Bluesteinのアルゴリズム\n",
    "\n",
    "function washino_fft(x::Vector{T}) where T\n",
    "#     T <: FFTW.fftwNumber && (@warn(\"Using generic fft for FFTW number type.\"))\n",
    "    n = length(x)\n",
    "    ispow2(n) && return generic_fft_pow2(x)\n",
    "    ks = range(zero(real(T)),stop=n-one(real(T)),length=n)\n",
    "    Wks = exp.((-im).*convert(T,π).*ks.^2 ./ n)\n",
    "    xq, wq = x.*Wks, conj([exp(-im*convert(T,π)*n);reverse(Wks);Wks[2:end]])\n",
    "    return Wks.*conv(xq,wq)[n+1:2n]\n",
    "end\n",
    "\n",
    "function conv(u::StridedVector{T}, v::StridedVector{T}) where T\n",
    "    nu,nv = length(u),length(v)\n",
    "    n = nu + nv - 1\n",
    "    np2 = nextpow(2,n)\n",
    "    append!(u,zeros(T,np2-nu)),append!(v,zeros(T,np2-nv))\n",
    "    y = generic_ifft_pow2(generic_fft_pow2(u).*generic_fft_pow2(v))\n",
    "    #TODO This would not handle Dual/ComplexDual numbers correctly\n",
    "    y = T<:Real ? real(y[1:n]) : y[1:n]\n",
    "end\n",
    "\n",
    "function generic_ifft_pow2(x::Vector{Complex{T}}) where T\n",
    "    y = interlace(real(x),-imag(x))\n",
    "    generic_fft_pow2!(y)\n",
    "    return complex.(y[1:2:end],-y[2:2:end])/length(x)\n",
    "end"
   ]
  },
  {
   "cell_type": "code",
   "execution_count": 4,
   "metadata": {},
   "outputs": [
    {
     "name": "stdout",
     "output_type": "stream",
     "text": [
      "  0.299877 seconds (503 allocations: 20.019 MiB)\n",
      "  0.002934 seconds (35 allocations: 4.003 MiB)\n"
     ]
    }
   ],
   "source": [
    "# using BenchmarkTools\n",
    "using IntervalArithmetic, FFTW\n",
    "N=2^17\n",
    "A  = randn(N)\n",
    "iA = map(Interval, A)\n",
    "# fft(A_real)\n",
    "# generic_fft_pow2(A_real)\n",
    "@time generic_fft_pow2(iA)\n",
    "# @time generic_fft_pow2(A)\n",
    "@time fft(A);"
   ]
  },
  {
   "cell_type": "code",
   "execution_count": 11,
   "metadata": {},
   "outputs": [
    {
     "name": "stdout",
     "output_type": "stream",
     "text": [
      "  0.014686 seconds (14 allocations: 10.001 MiB)\n"
     ]
    }
   ],
   "source": [
    "using IntervalArithmetic\n",
    "A  = randn(N)\n",
    "iA = map(Interval, A)\n",
    "N=2^17\n",
    "@time washino_fft(A);"
   ]
  },
  {
   "cell_type": "code",
   "execution_count": 37,
   "metadata": {},
   "outputs": [
    {
     "name": "stdout",
     "output_type": "stream",
     "text": [
      "  0.001481 seconds (35 allocations: 2.003 MiB)\n",
      "  0.143938 seconds (474 allocations: 10.018 MiB, 2.44% gc time)\n"
     ]
    },
    {
     "data": {
      "text/plain": [
       "65536"
      ]
     },
     "execution_count": 37,
     "metadata": {},
     "output_type": "execute_result"
    }
   ],
   "source": [
    "using LinearAlgebra\n",
    "N=2^16\n",
    "B  = randn(N)\n",
    "iB = map(Interval, B)\n",
    "@time a1 = fft(B)\n",
    "@time a2 = washino_fft(iB);\n",
    "# norm(a1-a2,Inf)\n",
    "sum(a1 .∈ a2)"
   ]
  },
  {
   "cell_type": "code",
   "execution_count": null,
   "metadata": {},
   "outputs": [],
   "source": []
  },
  {
   "cell_type": "code",
   "execution_count": null,
   "metadata": {},
   "outputs": [],
   "source": []
  },
  {
   "cell_type": "code",
   "execution_count": null,
   "metadata": {},
   "outputs": [],
   "source": []
  },
  {
   "cell_type": "code",
   "execution_count": null,
   "metadata": {},
   "outputs": [],
   "source": []
  },
  {
   "cell_type": "code",
   "execution_count": null,
   "metadata": {},
   "outputs": [],
   "source": []
  },
  {
   "cell_type": "code",
   "execution_count": 8,
   "metadata": {},
   "outputs": [
    {
     "ename": "LoadError",
     "evalue": "UndefVarError: fft not defined",
     "output_type": "error",
     "traceback": [
      "UndefVarError: fft not defined",
      "",
      "Stacktrace:",
      " [1] top-level scope at In[8]:3",
      " [2] include_string(::Function, ::Module, ::String, ::String) at ./loading.jl:1091"
     ]
    }
   ],
   "source": [
    "N=2^11\n",
    "C_real = rand(N, N)\n",
    "FFT = fft(C_real);"
   ]
  },
  {
   "cell_type": "code",
   "execution_count": 9,
   "metadata": {},
   "outputs": [
    {
     "ename": "LoadError",
     "evalue": "LoadError: UndefVarError: @benchmark not defined\nin expression starting at In[9]:1",
     "output_type": "error",
     "traceback": [
      "LoadError: UndefVarError: @benchmark not defined\nin expression starting at In[9]:1",
      "",
      "Stacktrace:",
      " [1] top-level scope",
      " [2] include_string(::Function, ::Module, ::String, ::String) at ./loading.jl:1091"
     ]
    }
   ],
   "source": [
    "@benchmark D = FFT * C_real"
   ]
  },
  {
   "cell_type": "code",
   "execution_count": 10,
   "metadata": {},
   "outputs": [
    {
     "name": "stdout",
     "output_type": "stream",
     "text": [
      "Complex{Float64}[-2.220446049250313e-16 + 0.0im, 2.5 - 2.76434240485155e-16im, -2.220446049250313e-16 - 2.4926059914975068e-17im, -2.220446049250313e-16 + 2.4926059914975068e-17im, 2.5 + 2.76434240485155e-16im]\n"
     ]
    }
   ],
   "source": [
    "using FFTW\n",
    "\n",
    "len = 5\n",
    "x = [2pi*k/len for k = 0:len-1]\n",
    "cos_x = cos.(x)\n",
    "println(fft(cos_x))"
   ]
  },
  {
   "cell_type": "code",
   "execution_count": 11,
   "metadata": {},
   "outputs": [
    {
     "name": "stdout",
     "output_type": "stream",
     "text": [
      "Complex{Float64}[1.1102230246251565e-16 + 0.0im, -2.139456371091744e-16 - 2.5im, 1.5843448587791657e-16 - 4.3164793190846535e-17im, 1.5843448587791657e-16 + 4.3164793190846535e-17im, -2.139456371091744e-16 + 2.5im]\n"
     ]
    }
   ],
   "source": [
    "using FFTW\n",
    "\n",
    "len=5\n",
    "x = [2pi*k/len for k = 0:len-1]\n",
    "sin_x = sin.(x)\n",
    "println(fft(sin_x))"
   ]
  },
  {
   "cell_type": "markdown",
   "metadata": {},
   "source": [
    "### 早く計算するには\n",
    "- 並列処理の設定を行う。export JULIA_NUM_THREADS=8などと、スレッド数を指定。\n",
    "- planfftを利用し、inplace(計算機科学においてデータ構造の変換を行うにあたって、追加の記憶領域をほとんど使わずに行うアルゴリズム)を行う。\n",
    "- Juiaでも、MATLABと同じくMLKを使用する。"
   ]
  },
  {
   "cell_type": "markdown",
   "metadata": {},
   "source": [
    "下のコードはMATLABのverifyfftのコード"
   ]
  },
  {
   "cell_type": "markdown",
   "metadata": {},
   "source": [
    "function Z = verifyfft(z,sign)\n",
    "%VERIFYFFT    Verified forward and backward 1-dimensional FFT\n",
    "%\n",
    "%   res = verifyfft(z,sign)\n",
    "%\n",
    "%   z     input vector or matrix\n",
    "%         length of z must be a power of 2 \n",
    "%   sign   1 forward FFT (default)\n",
    "%         -1 inverse FFT\n",
    "% \n",
    "%As in Matlab, the inverse FFT is scaled such that forward and inverse FFT\n",
    "%are inverse operations.\n",
    "%For matrix input, FFT is performed on each column; row vector input\n",
    "%is converted into column vector. \n",
    "%For N-dimensional FFT apply verifyfft N times.\n",
    "% \n",
    "\n",
    "% written  09/24/14     S.M. Rump  (based no Marcio Gameiro's code)\n",
    "% modified 01/16/16     S.M. Rump  improved error estimates\n",
    "%\n",
    "\n",
    "% data generated by fft_data_gen\n",
    "%\n",
    "\n",
    "  global INTLAB_CONST\n",
    "  \n",
    "  [n,col] = size(z);\n",
    "  if n==1\n",
    "    if col==1\n",
    "      Z = intval(z);\n",
    "      return\n",
    "    else\n",
    "      isrow = 1;\n",
    "      z = z(:);\n",
    "      n = col;\n",
    "      col = 1;\n",
    "    end\n",
    "  else\n",
    "    isrow = 0;\n",
    "  end\n",
    "    \n",
    "  if nargin==1\n",
    "    sign = 1;       % default: forward\n",
    "  end\n",
    "  \n",
    "  % check dimension\n",
    "  log2n = round(log2(n));\n",
    "  if 2^log2n~=n\n",
    "    error('length must be power of 2')\n",
    "  end\n",
    "  \n",
    "  % bit-reversal\n",
    "  % v = bin2dec(fliplr(dec2bin(0:n-1,log2n))) + 1\n",
    "  f = 2^(log2n-1);\n",
    "  v = [0;f]; \n",
    "  for k=1:log2n-1\n",
    "    f = 0.5*f;\n",
    "    v = [ v ; f+v ];\n",
    "  end\n",
    "  z = z(v+1,:);\n",
    "  \n",
    "  % Danielson-Lanczos algorithm\n",
    "  Z = intval(z);\n",
    "  Index = reshape(1:n*col,n,col);\n",
    "  nmax = INTLAB_CONST.FFTDATA_NMAX; % maximum in fft_data\n",
    "  if n<=nmax\n",
    "    r = INTLAB_CONST.FFTDATA_R;     % roots of unity in  r +/- d\n",
    "    d = INTLAB_CONST.FFTDATA_D(log2n);\n",
    "    Phi = midrad(r(1:nmax/n:nmax),d);\n",
    "    if sign==-1\n",
    "      Phi = (Phi.')';      \n",
    "    end\n",
    "  else\n",
    "    % compute roots of unity, division exact because n is power of 2\n",
    "    theta = intval('pi') * ( sign*(0:(n-1))'/n ); \n",
    "    Phi = cos(theta) + 1i*sin(theta);\n",
    "  end\n",
    "  v = 1:2:n;\n",
    "  w = 2:2:n;\n",
    "  t = Z(w,:);\n",
    "  Z(w,:) = Z(v,:) - t;\n",
    "  Z(v,:) = Z(v,:) + t;\n",
    "  \n",
    "  for index=1:(log2n-1)     % Executed log2(n) times\n",
    "    m = 2^index;\n",
    "    m2 = 2*m;\n",
    "    vw = reshape(1:n,m2,n/m2);\n",
    "    v = vw(1:m,:);\n",
    "    w = vw(m+1:m2,:);\n",
    "%     t = bsxfun(@times,exp(1i*pi*(0:m-1)'/m),Z(w));  % doesn't work for intervals\n",
    "%     theta = intval('pi') * (sign*(0:(m-1))'/m);     % division exact because m=2^p\n",
    "%     t = exp(1i*theta) .* Z(w);\n",
    "    indexv = reshape(Index(v(:),:),m,col*n/m2);\n",
    "    indexw = reshape(Index(w(:),:),m,col*n/m2);\n",
    "%     t = repmat(Phi(1:n/m:end),1,n/m2*col);\n",
    "    t = Phi(1:n/m:end,ones(1,n/m2*col)) .* Z(indexw);   % Tony's trick\n",
    "    Z(indexw) = Z(indexv) - t;\n",
    "    Z(indexv) = Z(indexv) + t;\n",
    "  end\n",
    "  \n",
    "  Z = [Z(1,:); flipud(Z(2:end,:))];\n",
    "  if sign==-1\n",
    "    Z = Z/n;        % error-free since n is a power of 2\n",
    "  end\n",
    "  \n",
    "  if isrow          % change to row vector\n",
    "    Z = transpose(Z);\n",
    "  end\n",
    "  \n",
    "end\n"
   ]
  },
  {
   "cell_type": "markdown",
   "metadata": {},
   "source": [
    "参考に読んでいるサイト\n",
    "\n",
    "https://qiita.com/ageprocpp/items/0d63d4ed80de4a35fe79\n",
    "\n",
    "https://cognicull.com/ja/f5q2jl62\n",
    "\n",
    "・バタフライの説明\n",
    "http://ysmr-ry.hatenablog.com/entry/2017/11/09/102008\n",
    "\n",
    "https://wagtail.cds.tohoku.ac.jp/coda/python/p-8-function-part2-sup-fft.html\n",
    "\n"
   ]
  },
  {
   "cell_type": "code",
   "execution_count": null,
   "metadata": {},
   "outputs": [],
   "source": []
  }
 ],
 "metadata": {
  "kernelspec": {
   "display_name": "Julia 1.5.0",
   "language": "julia",
   "name": "julia-1.5"
  },
  "language_info": {
   "file_extension": ".jl",
   "mimetype": "application/julia",
   "name": "julia",
   "version": "1.5.0"
  }
 },
 "nbformat": 4,
 "nbformat_minor": 4
}
