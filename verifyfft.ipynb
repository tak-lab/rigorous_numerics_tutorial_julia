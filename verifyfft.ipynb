{
 "cells": [
  {
   "cell_type": "markdown",
   "metadata": {},
   "source": [
    "# Juliaで精度保証付き高速フーリエ変換\n",
    "\n",
    "データが $N$ 個の離散フーリエ変換 (DFT:discrete Fourier transform)$\\newcommand{\\C}{\\mathbb{C}}$\n",
    "\n",
    "$$\n",
    "X_{k}=\\sum_{n=0}^{N-1} x_{n} W_{N}^{k n},\\quad X\\in\\C^N\n",
    "$$\n",
    "\n",
    "に対する高速フーリエ変換 (FFT:Fast Fourier Transform) の精度保証付き数値計算を考える。\n",
    "FFTは20世紀の10大アルゴリズムの一つとも言われ、脚光を浴びるようになったのは1965年のJ.W.Cooleyと J.W.Tukey による論文（文献1）からである。なお、起源はガウスまで遡ると言われていて、巨人の大きさは果てしないようである。\n",
    "\n",
    "JuliaではFFTのライブラリとして、`FFTW.jl`が準備されており、OCamlで最適なCのコードを自動生成する仕組みとなっている（筆者は詳しく分かっていない）。"
   ]
  },
  {
   "cell_type": "markdown",
   "metadata": {},
   "source": [
    "## 離散フーリエ変換(DFT)\n",
    "$\\newcommand{\\C}{\\mathbb{C}}$\n",
    "データが $N$ 個の離散フーリエ変換を $X\\in\\C^N$ とした場合、入力を $x\\in\\C^N$ として離散フーリエ変換は以下のように書くことができる。\n",
    "\n",
    "$$\n",
    "\\left(\\begin{array}{c}\n",
    "X_{0} \\\\\n",
    "X_{1} \\\\\n",
    "X_{2} \\\\\n",
    "\\vdots \\\\\n",
    "X_{N-1}\n",
    "\\end{array}\\right)=\\left(\\begin{array}{ccccc}\n",
    "1 & 1 & 1 & \\cdots & 1 \\\\\n",
    "1 & e^{-i \\frac{2 \\pi}{N}} & e^{-i \\frac{4 \\pi}{N}} & \\cdots & e^{-i \\frac{2 \\pi(N-1)}{N}} \\\\\n",
    "1 & e^{-i \\frac{4 \\pi}{N}} & e^{-i \\frac{8 \\pi}{N}} & \\cdots & e^{-i \\frac{4 \\pi(N-1)}{N}} \\\\\n",
    "\\vdots & \\vdots & \\vdots & \\ddots & \\vdots \\\\\n",
    "1 & e^{-i \\frac{2 \\pi(N-1)}{N}} & e^{-i \\frac{4 \\pi(N-1)}{N}} & \\cdots & e^{-i \\frac{2 \\pi(N-1)(N-1)}{N}}\n",
    "\\end{array}\\right)\\left(\\begin{array}{c}\n",
    "x_{0} \\\\\n",
    "x_{1} \\\\\n",
    "x_{2} \\\\\n",
    "\\vdots \\\\\n",
    "x_{N-1}\n",
    "\\end{array}\\right).\n",
    "$$\n",
    "\n",
    "ここで $W^n_N$ は回転因子といい、以下で定義される。\n",
    "\n",
    "$$\n",
    "W^n_N := e^{-i\\frac{2 \\pi}{N}n} = \\cos \\left(\\frac{2 \\pi}{N}n\\right)-i \\sin \\left(\\frac{2 \\pi}{N}n\\right)\n",
    "$$\n",
    "\n",
    "これを用いると、\n",
    "\n",
    "$$\n",
    "\\left(\\begin{array}{c}\n",
    "X_{0} \\\\\n",
    "X_{1} \\\\\n",
    "X_{2} \\\\\n",
    "\\vdots \\\\\n",
    "X_{N-1}\n",
    "\\end{array}\\right)=\\left(\\begin{array}{ccccc}\n",
    "1 & 1 & 1 & \\cdots & 1 \\\\\n",
    "1 & W_{N} & W_{N}^{2} & \\cdots & W_{N}^{N-1} \\\\\n",
    "1 & W_{N}^{2} & W_{N}^{4} & \\cdots & W_{N}^{2(N-1)} \\\\\n",
    "\\vdots & \\vdots & \\vdots & \\ddots & \\vdots \\\\\n",
    "1 & W_{N}^{(N-1)} & W_{N}^{2(N-1)} & \\cdots & W_{N}^{(N-1)(N-1)}\n",
    "\\end{array}\\right)\\left(\\begin{array}{c}\n",
    "x_{0} \\\\\n",
    "x_{1} \\\\\n",
    "x_{2} \\\\\n",
    "\\vdots \\\\\n",
    "x_{N-1}\n",
    "\\end{array}\\right).\n",
    "$$\n",
    "\n",
    "すなわち\n",
    "\n",
    "$$\n",
    "X_{k}=\\sum_{n=0}^{N-1} x_{n} W_{N}^{k n},\n",
    "$$\n",
    "\n",
    "ただし、$0\\leq k < N$である。"
   ]
  },
  {
   "cell_type": "markdown",
   "metadata": {},
   "source": [
    "## 高速フーリエ変換(FFT)\n",
    "\n",
    "FFTはDFTを高速に行うアルゴリズムである。DFTでは、 $X_0$ から $X_{N−1}$ の $N$ 回の計算を行うために、単純な計算方法では $N^2$ 回複素数の四則演算を実行して計算する。しかし、データ数 $N$ が2の冪乗である場合、FFTアルゴリズムを用いることで、複素数の四則演算を $N \\log N$ に比例する回数に減らすことができる。\n",
    "\n",
    "$$\n",
    "\\begin{array}{l}\n",
    "\\displaystyle X_{k}^{(0)}=\\sum_{n=0}^{N / 2-1} W_{N / 2}^{n k} x_{2 n} \\quad(0 \\leq k<N / 2) \\\\[2mm]\n",
    "\\displaystyle X_{k}^{(1)}=\\sum_{n=0}^{N / 2-1} W_{N / 2}^{n k} x_{2 n+1} \\quad(0 \\leq k<N / 2)\\\\[2mm]\n",
    "\\end{array}\n",
    "$$\n",
    "\n",
    "$$\n",
    "\\left\\{\\begin{array}{l}\n",
    "\\displaystyle X_{k}=X_{n}^{(0)}+W_{N}^{k} X_{n}^{(1)}, \\\\\n",
    "\\displaystyle X_{k+N / 2}=X_{n}^{(0)}-W_{N}^{k} X_{n}^{(1)} \\quad(0 \\leq k<N / 2).\n",
    "\\end{array}\\right.\n",
    "$$\n",
    "\n",
    "この考え方を利用したものがCooley-Tukey FFTアルゴリズム(文献1)である。"
   ]
  },
  {
   "cell_type": "markdown",
   "metadata": {},
   "source": [
    "## Cooley-Tukey FFTアルゴリズムの実装\n",
    "\n",
    "Juliaを使ってCooley-Tukey FFTアルゴリズムに区間演算を実装する。以下のコードはJuliaApproximationの[`FastTransforms.jl`](https://github.com/JuliaApproximation/FastTransforms.jl)内のコード[`fftBigFloat.jl`](https://github.com/JuliaApproximation/FastTransforms.jl/blob/4a076c9fbacfe5201124cfe3b1d7002dbb0a8c7b/src/fftBigFloat.jl#L11)を参考に、引数に区間ベクトルを取れるように修正したものである。オリジナルは\"the Numerical Recipes in C\"の`c_radix2.c`である。"
   ]
  },
  {
   "cell_type": "code",
   "execution_count": 1,
   "metadata": {},
   "outputs": [
    {
     "name": "stdout",
     "output_type": "stream",
     "text": [
      "Julia Version 1.10.0\n",
      "Commit 3120989f39b (2023-12-25 18:01 UTC)\n",
      "Build Info:\n",
      "  Official https://julialang.org/ release\n",
      "Platform Info:\n",
      "  OS: macOS (arm64-apple-darwin22.4.0)\n",
      "  CPU: 14 × Apple M3 Max\n",
      "  WORD_SIZE: 64\n",
      "  LIBM: libopenlibm\n",
      "  LLVM: libLLVM-15.0.7 (ORCJIT, apple-m1)\n",
      "  Threads: 2 on 10 virtual cores\n"
     ]
    }
   ],
   "source": [
    "versioninfo()"
   ]
  },
  {
   "cell_type": "code",
   "execution_count": 2,
   "metadata": {},
   "outputs": [
    {
     "name": "stdout",
     "output_type": "stream",
     "text": [
      "\u001b[32m\u001b[1mStatus\u001b[22m\u001b[39m `~/.julia/environments/v1.10/Project.toml`\n",
      "  \u001b[90m[d1acc4aa] \u001b[39mIntervalArithmetic v0.22.7\n"
     ]
    }
   ],
   "source": [
    "using IntervalArithmetic\n",
    "using Pkg; Pkg.status(\"IntervalArithmetic\")"
   ]
  },
  {
   "cell_type": "markdown",
   "metadata": {},
   "source": [
    "追記（2024.2.7）IntervalArithmetic.jlの仕様変更によって、上のコードは区間演算のNGフラグが立ってしまう。そのため、`Vector{Interval{T}}`でコードを書き換えた。"
   ]
  },
  {
   "cell_type": "code",
   "execution_count": 3,
   "metadata": {},
   "outputs": [
    {
     "data": {
      "text/plain": [
       "generic_fft_pow2 (generic function with 2 methods)"
      ]
     },
     "execution_count": 3,
     "metadata": {},
     "output_type": "execute_result"
    }
   ],
   "source": [
    "#Cooley-Tukey FFTアルゴリズム\n",
    "function generic_fft_pow2!(x::Vector{Interval{T}}) where T # T is assumed numeric types, e.g., Float64, BigFloat...\n",
    "    n,big2 = length(x),interval(2)*one(Interval{T})\n",
    "    nn,j = n÷2,1\n",
    "    for i=1:2:n-1\n",
    "        if j>i\n",
    "            x[j], x[i] = x[i], x[j]\n",
    "            x[j+1], x[i+1] = x[i+1], x[j+1]\n",
    "        end\n",
    "        m = nn\n",
    "        while m ≥ 2 && j > m\n",
    "            j -= m\n",
    "            m = m÷2\n",
    "        end\n",
    "        j += m\n",
    "    end\n",
    "    logn = 2\n",
    "    while logn < n\n",
    "        θ = -big2/interval(logn)\n",
    "        wtemp = sinpi(θ/interval(2))\n",
    "        wpr, wpi = -interval(2)*wtemp^interval(2), sinpi(θ)\n",
    "        wr, wi = one(Interval{T}), zero(Interval{T})\n",
    "        for m=1:2:logn-1\n",
    "            for i=m:2logn:n\n",
    "                j = i+logn\n",
    "                mixr, mixi = wr*x[j]-wi*x[j+1], wr*x[j+1]+wi*x[j]\n",
    "                x[j], x[j+1] = x[i]-mixr, x[i+1]-mixi\n",
    "                x[i], x[i+1] = x[i]+mixr, x[i+1]+mixi\n",
    "            end\n",
    "            wr = (wtemp=wr)*wpr-wi*wpi+wr\n",
    "            wi = wi*wpr+wtemp*wpi+wi\n",
    "        end\n",
    "        logn = logn << 1\n",
    "    end\n",
    "    return x\n",
    "end\n",
    "\n",
    "function interlace(a::Vector{S},b::Vector{V}) where {S,V}\n",
    "    na=length(a);nb=length(b)\n",
    "    T=promote_type(S,V)\n",
    "    if nb≥na\n",
    "        ret=zeros(T,2nb)\n",
    "        ret[1:2:1+2*(na-1)]=a\n",
    "        ret[2:2:end]=b\n",
    "        return ret\n",
    "    else\n",
    "        ret=zeros(T,2na-1)\n",
    "        ret[1:2:end]=a\n",
    "        if !isempty(b)\n",
    "            ret[2:2:2+2*(nb-1)]=b\n",
    "        end\n",
    "        return ret\n",
    "    end\n",
    "end\n",
    "\n",
    "function generic_fft_pow2(x::Vector{Complex{T}}) where T\n",
    "    y = interlace(real(x),imag(x))\n",
    "    generic_fft_pow2!(y)\n",
    "    return complex.(y[1:2:end],y[2:2:end])\n",
    "end\n",
    "\n",
    "generic_fft_pow2(x::Vector{T}) where {T} = generic_fft_pow2(complex.(x))"
   ]
  },
  {
   "cell_type": "code",
   "execution_count": 4,
   "metadata": {},
   "outputs": [],
   "source": [
    "# #Cooley-Tukey FFTアルゴリズム (以前の実装)\n",
    "# function generic_fft_pow2!(x::Vector{T}) where T\n",
    "#     n,big2 = length(x),2one(T)\n",
    "#     nn,j = n÷2,1\n",
    "#     for i=1:2:n-1\n",
    "#         if j>i\n",
    "#             x[j], x[i] = x[i], x[j]\n",
    "#             x[j+1], x[i+1] = x[i+1], x[j+1]\n",
    "#         end\n",
    "#         m = nn\n",
    "#         while m ≥ 2 && j > m\n",
    "#             j -= m\n",
    "#             m = m÷2\n",
    "#         end\n",
    "#         j += m\n",
    "#     end\n",
    "#     logn = 2\n",
    "#     while logn < n\n",
    "#         θ = -big2/logn\n",
    "#         wtemp = sinpi(θ/2)\n",
    "#         wpr, wpi = -2wtemp^2, sinpi(θ)\n",
    "#         wr, wi = one(T), zero(T)\n",
    "#         for m=1:2:logn-1\n",
    "#             for i=m:2logn:n\n",
    "#                 j = i+logn\n",
    "#                 mixr, mixi = wr*x[j]-wi*x[j+1], wr*x[j+1]+wi*x[j]\n",
    "#                 x[j], x[j+1] = x[i]-mixr, x[i+1]-mixi\n",
    "#                 x[i], x[i+1] = x[i]+mixr, x[i+1]+mixi\n",
    "#             end\n",
    "#             wr = (wtemp=wr)*wpr-wi*wpi+wr\n",
    "#             wi = wi*wpr+wtemp*wpi+wi\n",
    "#         end\n",
    "#         logn = logn << 1\n",
    "#     end\n",
    "#     return x\n",
    "# end\n",
    "\n",
    "# function interlace(a::Vector{S},b::Vector{V}) where {S,V}\n",
    "#     na=length(a);nb=length(b)\n",
    "#     T=promote_type(S,V)\n",
    "#     if nb≥na\n",
    "#         ret=zeros(T,2nb)\n",
    "#         ret[1:2:1+2*(na-1)]=a\n",
    "#         ret[2:2:end]=b\n",
    "#         ret\n",
    "#     else\n",
    "#         ret=zeros(T,2na-1)\n",
    "#         ret[1:2:end]=a\n",
    "#         if !isempty(b)\n",
    "#             ret[2:2:2+2*(nb-1)]=b\n",
    "#         end\n",
    "#         ret\n",
    "#     end\n",
    "# end\n",
    "\n",
    "# function generic_fft_pow2(x::Vector{Complex{T}}) where T\n",
    "#     y = interlace(real(x),imag(x))\n",
    "#     generic_fft_pow2!(y)\n",
    "#     return complex.(y[1:2:end],y[2:2:end])\n",
    "# end\n",
    "\n",
    "# generic_fft_pow2(x::Vector{T}) where {T} = generic_fft_pow2(complex(x))"
   ]
  },
  {
   "cell_type": "markdown",
   "metadata": {},
   "source": [
    "## Bluestein(Chirp z)アルゴリズム\n",
    "\n",
    "Cooley-Tukey FFTアルゴリズムでは、データ数 $N$ が2の冪乗の場合しか計算できない。これを解決したのが[Bluestein(Chirp z)アルゴリズム](https://www.dsprelated.com/freebooks/mdft/Bluestein_s_FFT_Algorithm.html)である。任意のデータ数 $N$ のDFTを離散畳み込みを利用してFFTで計算する。\n",
    "\n",
    "\\begin{align*}\n",
    "X_{k} &=\\sum_{n=0}^{N-1} x_{n} W_{N}^{k n}\\\\\n",
    "        &=\\sum_{n=0}^{N-1} x_{n} W_{N}^{-\\frac{(k-n)^{2}}{2}+\\frac{k^{2}}{2}+\\frac{n^{2}}{2}}\\\\\n",
    "        &=W_{2 N}^{k^{2}} \\sum_{n=0}^{N-1}\\left\\{x_n W_{2N}^{n^{2}}\\right\\} W_{2 N}^{-(k-n)^{2}}\n",
    "\\end{align*}\n",
    "\n",
    "ここで、点列 $\\alpha=\\left\\{\\alpha_{n}\\right\\}$, $\\beta=\\left\\{\\beta_{n}\\right\\}$ を以下のように定め, $X_{k}$ を書き換える。\n",
    "\n",
    "$$\n",
    "\\alpha_{n} :=x_n W_{2 N}^{n^{2}},\\quad\\beta_{n} :=W_{2 N}^{-n^{2}}\n",
    "$$\n",
    "\n",
    "$$\n",
    "X_{k}=\\overline{\\beta_{k}} \\sum_{n=0}^{N-1} \\alpha_{n} \\beta_{k-n}=\\overline{\\beta_{k}}\\left(\\alpha * \\beta\\right)_{k}.\n",
    "$$\n",
    "\n",
    "次に、離散畳み込み $\\alpha * \\beta$ を考える。いま$\\alpha$, $\\beta$ の長さを $n_{u}$, $n_{v}$ として、$L$ を $L \\ge n_{u}+ n_{v} - 1$ を満たす最小の2の冪乗数とする。そして長さが $L$ の点列 $\\alpha'=\\left\\{\\alpha_{n}'\\right\\}$, $\\beta'=\\left\\{\\beta_{n}'\\right\\}$ を次のように定める。\n",
    "\n",
    "$$\n",
    "\\alpha_{n}^{\\prime}=\\left\\{\\begin{array}{ll}\n",
    "\\alpha_n & (0 \\leq n<N) \\\\\n",
    "0 & (N \\leq n<L)\n",
    "\\end{array}\\right.\n",
    "$$\n",
    "\n",
    "$$\n",
    "\\left\\{\\begin{aligned}\n",
    "\\beta_{0}^{\\prime} &=\\beta_{0}\\quad(n=0) \\\\\n",
    "\\beta_{n}^{\\prime}=\\beta_{L-n}^{\\prime} &=\\beta_{n} \\quad (0<n<N) \\\\\n",
    "\\beta_{n}^{\\prime} &=0 \\quad (N \\leq n \\leq L-N).\n",
    "\\end{aligned}\\right.\n",
    "$$\n",
    "\n",
    "Cooley-Tukey FFTを用いて$\\alpha^{\\prime}$, $\\beta^{\\prime}$ のDFTを計算し、ベクトルの要素毎の積をとり、そのベクトルを逆フーリエ変換 (IFFT:inverse fast Fourier transform) して出てくる値を $\\gamma_{k}^{\\prime}$ とすると $ \\gamma_{k}^{\\prime}=(\\alpha * \\beta)_{k} $ となる。以上より、$X_{k}$ が求まる。\n",
    "\n",
    "$$\n",
    "X_{k}=\\overline{\\beta_{k}} \\gamma_{k}^{\\prime}.\n",
    "$$\n",
    "\n"
   ]
  },
  {
   "cell_type": "code",
   "execution_count": 5,
   "metadata": {},
   "outputs": [
    {
     "data": {
      "text/plain": [
       "generic_ifft_pow2 (generic function with 1 method)"
      ]
     },
     "execution_count": 5,
     "metadata": {},
     "output_type": "execute_result"
    }
   ],
   "source": [
    "function Bluestein_fft(x::Vector{Interval{T}}) where T\n",
    "    n = length(x)\n",
    "    ispow2(n) && return generic_fft_pow2(x)\n",
    "    ks =  interval(convert.(T,range(0,stop=n-1,length=n)))\n",
    "    Wks = complex.(cos.(-interval(convert(T,π)).*ks.^2 ./ interval(convert(T,n))), sin.(-interval(convert(T,π)).*ks.^2 ./ interval(convert(T,n))))\n",
    "    xq, wq = x.*Wks, conj([complex(cos(-interval(convert(T,π)) * interval(convert(T,n))), sin(-interval(convert(T,π)) * interval(convert(T,n))));reverse(Wks);Wks[2:end]])\n",
    "    return Wks.*conv(xq,wq)[n+1:2n]\n",
    "end\n",
    "\n",
    "function conv(u::StridedVector{T}, v::StridedVector{T}) where T\n",
    "    nu,nv = length(u),length(v)\n",
    "    n = nu + nv - 1\n",
    "    np2 = nextpow(2,n)\n",
    "    append!(u,zeros(T,np2-nu)),append!(v,zeros(T,np2-nv))\n",
    "    y = generic_ifft_pow2(generic_fft_pow2(u).*generic_fft_pow2(v))\n",
    "    y = T<:Real ? real(y[1:n]) : y[1:n]\n",
    "end\n",
    "\n",
    "function generic_ifft_pow2(x::Vector{Complex{Interval{T}}}) where T\n",
    "    y = interlace(real(x),-imag(x))\n",
    "    generic_fft_pow2!(y)\n",
    "    return complex.(y[1:2:end],-y[2:2:end])/interval(length(x))\n",
    "end"
   ]
  },
  {
   "cell_type": "markdown",
   "metadata": {},
   "source": [
    "## 計算結果\n",
    "\n",
    "区間演算を用いたCooley-Tukey アルゴリズム、Bluesteinアルゴリズムと区間演算を用いない通常の`FFTW.jl`での計算時間を比較する。"
   ]
  },
  {
   "cell_type": "code",
   "execution_count": 6,
   "metadata": {},
   "outputs": [
    {
     "name": "stdout",
     "output_type": "stream",
     "text": [
      "  0.534145 seconds (909.68 k allocations: 88.656 MiB, 12.80% gc time, 55.56% compilation time)\n",
      "  0.206734 seconds (14 allocations: 30.000 MiB, 1.02% gc time)\n",
      "  0.003205 seconds (1.27 k allocations: 4.085 MiB, 55.40% compilation time)\n",
      "  0.001233 seconds (8 allocations: 4.000 MiB)\n"
     ]
    }
   ],
   "source": [
    "# using BenchmarkTools\n",
    "using IntervalArithmetic, FFTW\n",
    "N  = 2^17\n",
    "x  = randn(N)\n",
    "# ix = map(Interval, x)\n",
    "ix = interval(x)\n",
    "\n",
    "@time generic_fft_pow2(ix)\n",
    "@time generic_fft_pow2(ix)\n",
    "\n",
    "@time fft(x)\n",
    "@time fft(x);"
   ]
  },
  {
   "cell_type": "markdown",
   "metadata": {},
   "source": [
    "Cooley-Tukey FFTのアルゴリズムを用いたFFTの区間演算でFFTWの約100倍計算時間がかかる。"
   ]
  },
  {
   "cell_type": "code",
   "execution_count": 7,
   "metadata": {},
   "outputs": [
    {
     "name": "stdout",
     "output_type": "stream",
     "text": [
      "  0.442565 seconds (1.53 M allocations: 135.564 MiB, 3.07% gc time, 64.01% compilation time)\n",
      "  0.158193 seconds (83 allocations: 33.041 MiB, 2.30% gc time)\n",
      "  0.000099 seconds (8 allocations: 312.891 KiB)\n",
      "  0.000065 seconds (8 allocations: 312.891 KiB)\n"
     ]
    }
   ],
   "source": [
    "using IntervalArithmetic\n",
    "N  = 10000\n",
    "x  = randn(N)\n",
    "# ix = map(Interval, x)\n",
    "ix = interval(x)\n",
    "@time Bluestein_fft(ix)\n",
    "@time Bluestein_fft(ix)\n",
    "@time fft(x)\n",
    "@time fft(x);"
   ]
  },
  {
   "cell_type": "markdown",
   "metadata": {},
   "source": [
    "Bluesteinアルゴリズムでは約2100倍計算時間がかかってしまい、こちらは現実的でない。よって、FFTを区間演算する際はできるならばベクトルの長さを2の冪数に限定するのが現実的である（それでも100倍計算時間がかかるけれども）。"
   ]
  },
  {
   "cell_type": "code",
   "execution_count": 8,
   "metadata": {},
   "outputs": [
    {
     "name": "stdout",
     "output_type": "stream",
     "text": [
      "  0.000085 seconds (8 allocations: 256.391 KiB)\n",
      "  0.009943 seconds (14 allocations: 1.875 MiB)\n"
     ]
    },
    {
     "data": {
      "text/plain": [
       "true"
      ]
     },
     "execution_count": 8,
     "metadata": {},
     "output_type": "execute_result"
    }
   ],
   "source": [
    "using LinearAlgebra\n",
    "N  = 2^13\n",
    "b  = randn(N)\n",
    "# ib = map(Interval, b)\n",
    "ib = interval(b)\n",
    "@time a1 = fft(b)\n",
    "@time a2 = generic_fft_pow2(ib)\n",
    "issubset_interval(interval(a1),a2)"
   ]
  },
  {
   "cell_type": "markdown",
   "metadata": {},
   "source": [
    "一応、FFTWで計算した結果は精度保証された区間内に入っている。"
   ]
  },
  {
   "cell_type": "markdown",
   "metadata": {},
   "source": [
    "## INTLABのverifyfft.mのJuliaへの実装\n",
    "\n",
    "MATLAB上での区間演算パッケージINTLABでは、Danielson-Lanczosアルゴリズムと呼ばれているFFTの実装の区間演算版が実装されている。以下のコードはS.M.RumpによるINTLAB内の実装をJuliaに翻訳したものである。"
   ]
  },
  {
   "cell_type": "code",
   "execution_count": 9,
   "metadata": {},
   "outputs": [
    {
     "data": {
      "text/plain": [
       "verifyfft (generic function with 4 methods)"
      ]
     },
     "execution_count": 9,
     "metadata": {},
     "output_type": "execute_result"
    }
   ],
   "source": [
    "using IntervalArithmetic\n",
    "function verifyfft(z::Vector{Complex{Interval{T}}}, sign=1) where T\n",
    "    n = length(z); col = 1; array1 = true\n",
    "    if n==1\n",
    "        return z\n",
    "    else\n",
    "        isrow_ = false\n",
    "    end\n",
    "    log2n = Int(round(log2(n))) #check dimension\n",
    "    if 2^log2n ≠ n # return error if n is not the powers of 2\n",
    "        error(\"length must be power of 2\")\n",
    "    end\n",
    "    #bit-reversal\n",
    "    f = 2^(log2n-1)\n",
    "    v = [0;f]\n",
    "    for k = 1:log2n-1\n",
    "        f = f >> 1\n",
    "        v = append!(v,f.+v)\n",
    "    end\n",
    "    z2 = zeros(Complex{Interval{T}},n,col)\n",
    "    # if isa(real(z[1]),Interval)\n",
    "    #     z2 = map(Interval{T},z2)\n",
    "    # end\n",
    "    # replace z\n",
    "    for j = 1: n\n",
    "        z2[j,:] = z[v[j]+1,:]\n",
    "    end\n",
    "    #Danielson-Lanczos algorithm\n",
    "    # Z = complex.(interval(z2))\n",
    "    Z = z2\n",
    "    Index = reshape([1:n*col;],n,col)\n",
    "\n",
    "    theta = sign * (0:n-1)/n; # division exact because n is power of 2\n",
    "    itheta = interval(theta)\n",
    "    Phi = complex.(cospi.(itheta),sinpi.(itheta)) # SLOW?\n",
    "    # Phi = cospi.(theta) + im*sinpi.(theta)\n",
    "\n",
    "    v = [1:2:n;]\n",
    "    w = [2:2:n;]\n",
    "    t = Z[w,:]\n",
    "    Z[w,:]  = Z[v,:] - t\n",
    "    Z[v,:]  = Z[v,:] + t\n",
    "    for index in 1: (log2n-1)\n",
    "        m = 2^index\n",
    "        m2 = 2*m\n",
    "        vw = reshape([1:n;],m2,Int(n/m2))\n",
    "        v = vw[1: m, :]\n",
    "        w = vw[m+1: m2, : ]\n",
    "        indexv = reshape(Index[v[:],:],m,Int(col*n/m2))\n",
    "        indexw = reshape(Index[w[:],:],m,Int(col*n/m2))\n",
    "        Phi1 = repeat(Phi[1:Int(n/m):end],outer=[1,Int(col*n/m2)])\n",
    "        t = Phi1 .*  Z[indexw]\n",
    "        Z[indexw] = Z[indexv] - t\n",
    "        Z[indexv] = Z[indexv] + t\n",
    "    end\n",
    "    reverse(Z[2:end,:],dims=2)\n",
    "     if sign==-1\n",
    "        Z = Z/interval(n)\n",
    "    end\n",
    "    if isrow_\n",
    "        Z = transpose(Z) #transpose of Z\n",
    "    end\n",
    "    if array1\n",
    "        Z = Z[:,1]\n",
    "    end\n",
    "    return Z\n",
    "end\n",
    "\n",
    "verifyfft(z::Vector{Interval{T}}, sign=1) where {T} = verifyfft(complex.(z), sign)"
   ]
  },
  {
   "cell_type": "code",
   "execution_count": 10,
   "metadata": {},
   "outputs": [
    {
     "data": {
      "text/plain": [
       "8-element Vector{Complex{Interval{Float64}}}:\n",
       " [8.0, 8.0]_com + ([0.0, 0.0]_com)im\n",
       " [0.0, 0.0]_com + ([0.0, 0.0]_com)im\n",
       " [0.0, 0.0]_com + ([0.0, 0.0]_com)im\n",
       " [0.0, 0.0]_com + ([0.0, 0.0]_com)im\n",
       " [0.0, 0.0]_com + ([0.0, 0.0]_com)im\n",
       " [0.0, 0.0]_com + ([0.0, 0.0]_com)im\n",
       " [0.0, 0.0]_com + ([0.0, 0.0]_com)im\n",
       " [0.0, 0.0]_com + ([0.0, 0.0]_com)im"
      ]
     },
     "execution_count": 10,
     "metadata": {},
     "output_type": "execute_result"
    }
   ],
   "source": [
    "# z = map(Interval,ones(8))\n",
    "z = interval(ones(8))\n",
    "a = verifyfft((z),1)\n",
    "# a = verifyfft(verifyfft(z,-1))"
   ]
  },
  {
   "cell_type": "code",
   "execution_count": 11,
   "metadata": {},
   "outputs": [
    {
     "data": {
      "text/plain": [
       "8-element Vector{Complex{Interval{Float64}}}:\n",
       " [1.0, 1.0]_com + ([0.0, 0.0]_com)im\n",
       " [1.0, 1.0]_com + ([0.0, 0.0]_com)im\n",
       " [1.0, 1.0]_com + ([0.0, 0.0]_com)im\n",
       " [1.0, 1.0]_com + ([0.0, 0.0]_com)im\n",
       " [1.0, 1.0]_com + ([0.0, 0.0]_com)im\n",
       " [1.0, 1.0]_com + ([0.0, 0.0]_com)im\n",
       " [1.0, 1.0]_com + ([0.0, 0.0]_com)im\n",
       " [1.0, 1.0]_com + ([0.0, 0.0]_com)im"
      ]
     },
     "execution_count": 11,
     "metadata": {},
     "output_type": "execute_result"
    }
   ],
   "source": [
    "verifyfft(a,-1)"
   ]
  },
  {
   "cell_type": "code",
   "execution_count": 12,
   "metadata": {
    "tags": []
   },
   "outputs": [],
   "source": [
    "# # 複素区間の半径を計算する\n",
    "# import IntervalArithmetic: radius\n",
    "\n",
    "# function radius(v::Complex{Interval{T}}) where T# mag function for complex interval vectors\n",
    "#     return sqrt(interval(radius(real(v)))^2 + interval(radius(imag(v)))^2)\n",
    "# end\n"
   ]
  },
  {
   "cell_type": "markdown",
   "metadata": {},
   "source": [
    "## 計算結果\n",
    "\n",
    "`verifyfft`の計算結果とCooley-Tukey FFTアルゴリズムの計算時間を比較する。"
   ]
  },
  {
   "cell_type": "code",
   "execution_count": 13,
   "metadata": {},
   "outputs": [
    {
     "name": "stdout",
     "output_type": "stream",
     "text": [
      "  0.308556 seconds (132.27 k allocations: 478.878 MiB, 17.23% gc time, 0.36% compilation time)\n",
      "  0.253329 seconds (131.88 k allocations: 478.852 MiB, 1.62% gc time)\n",
      "  0.206383 seconds (14 allocations: 30.000 MiB, 0.39% gc time)\n",
      "  0.204568 seconds (14 allocations: 30.000 MiB)\n"
     ]
    },
    {
     "data": {
      "text/plain": [
       "(1.843432073656004e-10, 3.6779738366021775e-8)"
      ]
     },
     "execution_count": 13,
     "metadata": {},
     "output_type": "execute_result"
    }
   ],
   "source": [
    "using IntervalArithmetic, FFTW\n",
    "N  = 2^17\n",
    "x  = randn(N)\n",
    "# ix = map(Interval, x)\n",
    "ix = interval(x)\n",
    "\n",
    "# @time verifyfft(x)\n",
    "# @time verifyfft(x)\n",
    "@time verifyfft(ix)\n",
    "@time z1 = verifyfft(ix)\n",
    "\n",
    "@time generic_fft_pow2(ix)\n",
    "@time z2 = generic_fft_pow2(ix)\n",
    "    \n",
    "sup(maximum(radius,z1)),sup(maximum(radius,z2))"
   ]
  },
  {
   "cell_type": "markdown",
   "metadata": {},
   "source": [
    "こちらは上のCooley-Tukey FFTよりも若干計算速度が劣るが同程度。しかし区間演算による誤差拡大が2桁程度抑えられている。すなわちINTLABにおける実装の方が、高精度な区間演算結果を返すことができる。以下に入力のベクトルのサイズを変えた時の最大区間幅をプロットした図を示す。"
   ]
  },
  {
   "cell_type": "code",
   "execution_count": 14,
   "metadata": {},
   "outputs": [
    {
     "data": {
      "image/png": "[encoded data removed]",
      "image/svg+xml": [
       "<?xml version=\"1.0\" encoding=\"utf-8\"?>\n",
       "<svg xmlns=\"http://www.w3.org/2000/svg\" xmlns:xlink=\"http://www.w3.org/1999/xlink\" width=\"600\" height=\"400\" viewBox=\"0 0 2400 1600\">\n",
       "<defs>\n",
       "  <clipPath id=\"clip250\">\n",
       "    <rect x=\"0\" y=\"0\" width=\"2400\" height=\"1600\"/>\n",
       "  </clipPath>\n",
       "</defs>\n",
       "<path clip-path=\"url(#clip250)\" d=\"M0 1600 L2400 1600 L2400 8.88178e-14 L0 8.88178e-14  Z\" fill=\"#ffffff\" fill-rule=\"evenodd\" fill-opacity=\"1\"/>\n",
       "<defs>\n",
       "  <clipPath id=\"clip251\">\n",
       "    <rect x=\"480\" y=\"0\" width=\"1681\" height=\"1600\"/>\n",
       "  </clipPath>\n",
       "</defs>\n",
       "<path clip-path=\"url(#clip250)\" d=\"M276.876 1423.18 L2352.76 1423.18 L2352.76 123.472 L276.876 123.472  Z\" fill=\"#ffffff\" fill-rule=\"evenodd\" fill-opacity=\"1\"/>\n",
       "<defs>\n",
       "  <clipPath id=\"clip252\">\n",
       "    <rect x=\"276\" y=\"123\" width=\"2077\" height=\"1301\"/>\n",
       "  </clipPath>\n",
       "</defs>\n",
       "<polyline clip-path=\"url(#clip252)\" style=\"stroke:#000000; stroke-linecap:round; stroke-linejoin:round; stroke-width:2; stroke-opacity:0.1; fill:none\" points=\"692.052,1423.18 692.052,123.472 \"/>\n",
       "<polyline clip-path=\"url(#clip252)\" style=\"stroke:#000000; stroke-linecap:round; stroke-linejoin:round; stroke-width:2; stroke-opacity:0.1; fill:none\" points=\"1211.02,1423.18 1211.02,123.472 \"/>\n",
       "<polyline clip-path=\"url(#clip252)\" style=\"stroke:#000000; stroke-linecap:round; stroke-linejoin:round; stroke-width:2; stroke-opacity:0.1; fill:none\" points=\"1729.99,1423.18 1729.99,123.472 \"/>\n",
       "<polyline clip-path=\"url(#clip252)\" style=\"stroke:#000000; stroke-linecap:round; stroke-linejoin:round; stroke-width:2; stroke-opacity:0.1; fill:none\" points=\"2248.96,1423.18 2248.96,123.472 \"/>\n",
       "<polyline clip-path=\"url(#clip250)\" style=\"stroke:#000000; stroke-linecap:round; stroke-linejoin:round; stroke-width:4; stroke-opacity:1; fill:none\" points=\"276.876,1423.18 2352.76,1423.18 \"/>\n",
       "<polyline clip-path=\"url(#clip250)\" style=\"stroke:#000000; stroke-linecap:round; stroke-linejoin:round; stroke-width:4; stroke-opacity:1; fill:none\" points=\"692.052,1423.18 692.052,1404.28 \"/>\n",
       "<polyline clip-path=\"url(#clip250)\" style=\"stroke:#000000; stroke-linecap:round; stroke-linejoin:round; stroke-width:4; stroke-opacity:1; fill:none\" points=\"1211.02,1423.18 1211.02,1404.28 \"/>\n",
       "<polyline clip-path=\"url(#clip250)\" style=\"stroke:#000000; stroke-linecap:round; stroke-linejoin:round; stroke-width:4; stroke-opacity:1; fill:none\" points=\"1729.99,1423.18 1729.99,1404.28 \"/>\n",
       "<polyline clip-path=\"url(#clip250)\" style=\"stroke:#000000; stroke-linecap:round; stroke-linejoin:round; stroke-width:4; stroke-opacity:1; fill:none\" points=\"2248.96,1423.18 2248.96,1404.28 \"/>\n",
       "<path clip-path=\"url(#clip250)\" d=\"M682.329 1451.02 L700.686 1451.02 L700.686 1454.96 L686.612 1454.96 L686.612 1463.43 Q687.63 1463.08 688.649 1462.92 Q689.667 1462.73 690.686 1462.73 Q696.473 1462.73 699.852 1465.9 Q703.232 1469.08 703.232 1474.49 Q703.232 1480.07 699.76 1483.17 Q696.288 1486.25 689.968 1486.25 Q687.792 1486.25 685.524 1485.88 Q683.278 1485.51 680.871 1484.77 L680.871 1480.07 Q682.954 1481.2 685.177 1481.76 Q687.399 1482.32 689.876 1482.32 Q693.88 1482.32 696.218 1480.21 Q698.556 1478.1 698.556 1474.49 Q698.556 1470.88 696.218 1468.77 Q693.88 1466.67 689.876 1466.67 Q688.001 1466.67 686.126 1467.08 Q684.274 1467.5 682.329 1468.38 L682.329 1451.02 Z\" fill=\"#000000\" fill-rule=\"nonzero\" fill-opacity=\"1\" /><path clip-path=\"url(#clip250)\" d=\"M1185.71 1481.64 L1193.35 1481.64 L1193.35 1455.28 L1185.04 1456.95 L1185.04 1452.69 L1193.3 1451.02 L1197.98 1451.02 L1197.98 1481.64 L1205.62 1481.64 L1205.62 1485.58 L1185.71 1485.58 L1185.71 1481.64 Z\" fill=\"#000000\" fill-rule=\"nonzero\" fill-opacity=\"1\" /><path clip-path=\"url(#clip250)\" d=\"M1225.06 1454.1 Q1221.45 1454.1 1219.62 1457.66 Q1217.82 1461.2 1217.82 1468.33 Q1217.82 1475.44 1219.62 1479.01 Q1221.45 1482.55 1225.06 1482.55 Q1228.7 1482.55 1230.5 1479.01 Q1232.33 1475.44 1232.33 1468.33 Q1232.33 1461.2 1230.5 1457.66 Q1228.7 1454.1 1225.06 1454.1 M1225.06 1450.39 Q1230.87 1450.39 1233.93 1455 Q1237.01 1459.58 1237.01 1468.33 Q1237.01 1477.06 1233.93 1481.67 Q1230.87 1486.25 1225.06 1486.25 Q1219.25 1486.25 1216.17 1481.67 Q1213.12 1477.06 1213.12 1468.33 Q1213.12 1459.58 1216.17 1455 Q1219.25 1450.39 1225.06 1450.39 Z\" fill=\"#000000\" fill-rule=\"nonzero\" fill-opacity=\"1\" /><path clip-path=\"url(#clip250)\" d=\"M1705.18 1481.64 L1712.82 1481.64 L1712.82 1455.28 L1704.51 1456.95 L1704.51 1452.69 L1712.77 1451.02 L1717.45 1451.02 L1717.45 1481.64 L1725.08 1481.64 L1725.08 1485.58 L1705.18 1485.58 L1705.18 1481.64 Z\" fill=\"#000000\" fill-rule=\"nonzero\" fill-opacity=\"1\" /><path clip-path=\"url(#clip250)\" d=\"M1734.58 1451.02 L1752.93 1451.02 L1752.93 1454.96 L1738.86 1454.96 L1738.86 1463.43 Q1739.88 1463.08 1740.89 1462.92 Q1741.91 1462.73 1742.93 1462.73 Q1748.72 1462.73 1752.1 1465.9 Q1755.48 1469.08 1755.48 1474.49 Q1755.48 1480.07 1752.01 1483.17 Q1748.53 1486.25 1742.21 1486.25 Q1740.04 1486.25 1737.77 1485.88 Q1735.52 1485.51 1733.12 1484.77 L1733.12 1480.07 Q1735.2 1481.2 1737.42 1481.76 Q1739.64 1482.32 1742.12 1482.32 Q1746.13 1482.32 1748.46 1480.21 Q1750.8 1478.1 1750.8 1474.49 Q1750.8 1470.88 1748.46 1468.77 Q1746.13 1466.67 1742.12 1466.67 Q1740.25 1466.67 1738.37 1467.08 Q1736.52 1467.5 1734.58 1468.38 L1734.58 1451.02 Z\" fill=\"#000000\" fill-rule=\"nonzero\" fill-opacity=\"1\" /><path clip-path=\"url(#clip250)\" d=\"M2227.74 1481.64 L2244.05 1481.64 L2244.05 1485.58 L2222.11 1485.58 L2222.11 1481.64 Q2224.77 1478.89 2229.36 1474.26 Q2233.96 1469.61 2235.14 1468.27 Q2237.39 1465.74 2238.27 1464.01 Q2239.17 1462.25 2239.17 1460.56 Q2239.17 1457.8 2237.23 1456.07 Q2235.3 1454.33 2232.2 1454.33 Q2230 1454.33 2227.55 1455.09 Q2225.12 1455.86 2222.34 1457.41 L2222.34 1452.69 Q2225.17 1451.55 2227.62 1450.97 Q2230.07 1450.39 2232.11 1450.39 Q2237.48 1450.39 2240.67 1453.08 Q2243.87 1455.77 2243.87 1460.26 Q2243.87 1462.39 2243.06 1464.31 Q2242.27 1466.2 2240.17 1468.8 Q2239.59 1469.47 2236.49 1472.69 Q2233.38 1475.88 2227.74 1481.64 Z\" fill=\"#000000\" fill-rule=\"nonzero\" fill-opacity=\"1\" /><path clip-path=\"url(#clip250)\" d=\"M2263.87 1454.1 Q2260.26 1454.1 2258.43 1457.66 Q2256.62 1461.2 2256.62 1468.33 Q2256.62 1475.44 2258.43 1479.01 Q2260.26 1482.55 2263.87 1482.55 Q2267.5 1482.55 2269.31 1479.01 Q2271.14 1475.44 2271.14 1468.33 Q2271.14 1461.2 2269.31 1457.66 Q2267.5 1454.1 2263.87 1454.1 M2263.87 1450.39 Q2269.68 1450.39 2272.73 1455 Q2275.81 1459.58 2275.81 1468.33 Q2275.81 1477.06 2272.73 1481.67 Q2269.68 1486.25 2263.87 1486.25 Q2258.06 1486.25 2254.98 1481.67 Q2251.92 1477.06 2251.92 1468.33 Q2251.92 1459.58 2254.98 1455 Q2258.06 1450.39 2263.87 1450.39 Z\" fill=\"#000000\" fill-rule=\"nonzero\" fill-opacity=\"1\" /><path clip-path=\"url(#clip250)\" d=\"M1153.32 1562.7 L1153.32 1581.6 L1147.43 1581.6 L1147.43 1532.4 L1153.32 1532.4 L1153.32 1537.81 Q1155.16 1534.62 1157.96 1533.1 Q1160.8 1531.54 1164.71 1531.54 Q1171.21 1531.54 1175.25 1536.69 Q1179.32 1541.85 1179.32 1550.25 Q1179.32 1558.65 1175.25 1563.81 Q1171.21 1568.97 1164.71 1568.97 Q1160.8 1568.97 1157.96 1567.44 Q1155.16 1565.88 1153.32 1562.7 M1173.24 1550.25 Q1173.24 1543.79 1170.57 1540.13 Q1167.93 1536.44 1163.28 1536.44 Q1158.63 1536.44 1155.96 1540.13 Q1153.32 1543.79 1153.32 1550.25 Q1153.32 1556.71 1155.96 1560.4 Q1158.63 1564.07 1163.28 1564.07 Q1167.93 1564.07 1170.57 1560.4 Q1173.24 1556.71 1173.24 1550.25 Z\" fill=\"#000000\" fill-rule=\"nonzero\" fill-opacity=\"1\" /><path clip-path=\"url(#clip250)\" d=\"M1202.84 1536.5 Q1198.13 1536.5 1195.4 1540.19 Q1192.66 1543.85 1192.66 1550.25 Q1192.66 1556.65 1195.36 1560.34 Q1198.1 1564 1202.84 1564 Q1207.52 1564 1210.26 1560.31 Q1213 1556.62 1213 1550.25 Q1213 1543.92 1210.26 1540.23 Q1207.52 1536.5 1202.84 1536.5 M1202.84 1531.54 Q1210.48 1531.54 1214.84 1536.5 Q1219.2 1541.47 1219.2 1550.25 Q1219.2 1559 1214.84 1564 Q1210.48 1568.97 1202.84 1568.97 Q1195.17 1568.97 1190.81 1564 Q1186.48 1559 1186.48 1550.25 Q1186.48 1541.47 1190.81 1536.5 Q1195.17 1531.54 1202.84 1531.54 Z\" fill=\"#000000\" fill-rule=\"nonzero\" fill-opacity=\"1\" /><path clip-path=\"url(#clip250)\" d=\"M1225.5 1532.4 L1231.36 1532.4 L1238.68 1560.21 L1245.97 1532.4 L1252.88 1532.4 L1260.2 1560.21 L1267.49 1532.4 L1273.34 1532.4 L1264.02 1568.04 L1257.11 1568.04 L1249.44 1538.83 L1241.74 1568.04 L1234.83 1568.04 L1225.5 1532.4 Z\" fill=\"#000000\" fill-rule=\"nonzero\" fill-opacity=\"1\" /><path clip-path=\"url(#clip250)\" d=\"M1312.72 1548.76 L1312.72 1551.62 L1285.79 1551.62 Q1286.17 1557.67 1289.42 1560.85 Q1292.69 1564 1298.52 1564 Q1301.89 1564 1305.04 1563.17 Q1308.23 1562.35 1311.35 1560.69 L1311.35 1566.23 Q1308.2 1567.57 1304.89 1568.27 Q1301.58 1568.97 1298.17 1568.97 Q1289.64 1568.97 1284.64 1564 Q1279.68 1559.04 1279.68 1550.57 Q1279.68 1541.82 1284.39 1536.69 Q1289.13 1531.54 1297.15 1531.54 Q1304.34 1531.54 1308.51 1536.18 Q1312.72 1540.8 1312.72 1548.76 M1306.86 1547.04 Q1306.79 1542.23 1304.15 1539.37 Q1301.54 1536.5 1297.21 1536.5 Q1292.31 1536.5 1289.35 1539.27 Q1286.42 1542.04 1285.98 1547.07 L1306.86 1547.04 Z\" fill=\"#000000\" fill-rule=\"nonzero\" fill-opacity=\"1\" /><path clip-path=\"url(#clip250)\" d=\"M1342.98 1537.87 Q1342 1537.3 1340.82 1537.04 Q1339.67 1536.76 1338.27 1536.76 Q1333.31 1536.76 1330.63 1540 Q1327.99 1543.22 1327.99 1549.27 L1327.99 1568.04 L1322.1 1568.04 L1322.1 1532.4 L1327.99 1532.4 L1327.99 1537.93 Q1329.84 1534.69 1332.8 1533.13 Q1335.76 1531.54 1339.99 1531.54 Q1340.6 1531.54 1341.33 1531.63 Q1342.06 1531.7 1342.95 1531.85 L1342.98 1537.87 Z\" fill=\"#000000\" fill-rule=\"nonzero\" fill-opacity=\"1\" /><path clip-path=\"url(#clip250)\" d=\"M1383.66 1536.5 Q1378.95 1536.5 1376.21 1540.19 Q1373.48 1543.85 1373.48 1550.25 Q1373.48 1556.65 1376.18 1560.34 Q1378.92 1564 1383.66 1564 Q1388.34 1564 1391.08 1560.31 Q1393.81 1556.62 1393.81 1550.25 Q1393.81 1543.92 1391.08 1540.23 Q1388.34 1536.5 1383.66 1536.5 M1383.66 1531.54 Q1391.3 1531.54 1395.66 1536.5 Q1400.02 1541.47 1400.02 1550.25 Q1400.02 1559 1395.66 1564 Q1391.3 1568.97 1383.66 1568.97 Q1375.99 1568.97 1371.63 1564 Q1367.3 1559 1367.3 1550.25 Q1367.3 1541.47 1371.63 1536.5 Q1375.99 1531.54 1383.66 1531.54 Z\" fill=\"#000000\" fill-rule=\"nonzero\" fill-opacity=\"1\" /><path clip-path=\"url(#clip250)\" d=\"M1427.78 1518.52 L1427.78 1523.39 L1422.17 1523.39 Q1419.02 1523.39 1417.78 1524.66 Q1416.57 1525.93 1416.57 1529.24 L1416.57 1532.4 L1426.22 1532.4 L1426.22 1536.95 L1416.57 1536.95 L1416.57 1568.04 L1410.68 1568.04 L1410.68 1536.95 L1405.08 1536.95 L1405.08 1532.4 L1410.68 1532.4 L1410.68 1529.91 Q1410.68 1523.96 1413.45 1521.26 Q1416.22 1518.52 1422.24 1518.52 L1427.78 1518.52 Z\" fill=\"#000000\" fill-rule=\"nonzero\" fill-opacity=\"1\" /><path clip-path=\"url(#clip250)\" d=\"M1459.76 1562.63 L1482.2 1562.63 L1482.2 1568.04 L1452.03 1568.04 L1452.03 1562.63 Q1455.69 1558.85 1461.99 1552.48 Q1468.32 1546.08 1469.95 1544.24 Q1473.04 1540.77 1474.24 1538.38 Q1475.49 1535.96 1475.49 1533.64 Q1475.49 1529.85 1472.81 1527.46 Q1470.17 1525.08 1465.91 1525.08 Q1462.88 1525.08 1459.51 1526.13 Q1456.17 1527.18 1452.35 1529.31 L1452.35 1522.82 Q1456.23 1521.26 1459.6 1520.46 Q1462.98 1519.66 1465.78 1519.66 Q1473.16 1519.66 1477.55 1523.36 Q1481.95 1527.05 1481.95 1533.22 Q1481.95 1536.15 1480.83 1538.79 Q1479.75 1541.4 1476.85 1544.97 Q1476.06 1545.89 1471.79 1550.32 Q1467.53 1554.71 1459.76 1562.63 Z\" fill=\"#000000\" fill-rule=\"nonzero\" fill-opacity=\"1\" /><polyline clip-path=\"url(#clip252)\" style=\"stroke:#000000; stroke-linecap:round; stroke-linejoin:round; stroke-width:2; stroke-opacity:0.1; fill:none\" points=\"276.876,1339.8 2352.76,1339.8 \"/>\n",
       "<polyline clip-path=\"url(#clip252)\" style=\"stroke:#000000; stroke-linecap:round; stroke-linejoin:round; stroke-width:2; stroke-opacity:0.1; fill:none\" points=\"276.876,678.94 2352.76,678.94 \"/>\n",
       "<polyline clip-path=\"url(#clip250)\" style=\"stroke:#000000; stroke-linecap:round; stroke-linejoin:round; stroke-width:4; stroke-opacity:1; fill:none\" points=\"276.876,1423.18 276.876,123.472 \"/>\n",
       "<polyline clip-path=\"url(#clip250)\" style=\"stroke:#000000; stroke-linecap:round; stroke-linejoin:round; stroke-width:4; stroke-opacity:1; fill:none\" points=\"276.876,1339.8 295.773,1339.8 \"/>\n",
       "<polyline clip-path=\"url(#clip250)\" style=\"stroke:#000000; stroke-linecap:round; stroke-linejoin:round; stroke-width:4; stroke-opacity:1; fill:none\" points=\"276.876,678.94 295.773,678.94 \"/>\n",
       "<path clip-path=\"url(#clip250)\" d=\"M115.74 1359.59 L123.379 1359.59 L123.379 1333.23 L115.069 1334.89 L115.069 1330.64 L123.333 1328.97 L128.009 1328.97 L128.009 1359.59 L135.647 1359.59 L135.647 1363.53 L115.74 1363.53 L115.74 1359.59 Z\" fill=\"#000000\" fill-rule=\"nonzero\" fill-opacity=\"1\" /><path clip-path=\"url(#clip250)\" d=\"M155.092 1332.05 Q151.481 1332.05 149.652 1335.61 Q147.846 1339.15 147.846 1346.28 Q147.846 1353.39 149.652 1356.95 Q151.481 1360.5 155.092 1360.5 Q158.726 1360.5 160.532 1356.95 Q162.36 1353.39 162.36 1346.28 Q162.36 1339.15 160.532 1335.61 Q158.726 1332.05 155.092 1332.05 M155.092 1328.34 Q160.902 1328.34 163.958 1332.95 Q167.036 1337.53 167.036 1346.28 Q167.036 1355.01 163.958 1359.62 Q160.902 1364.2 155.092 1364.2 Q149.282 1364.2 146.203 1359.62 Q143.147 1355.01 143.147 1346.28 Q143.147 1337.53 146.203 1332.95 Q149.282 1328.34 155.092 1328.34 Z\" fill=\"#000000\" fill-rule=\"nonzero\" fill-opacity=\"1\" /><path clip-path=\"url(#clip250)\" d=\"M167.036 1322.44 L191.148 1322.44 L191.148 1325.64 L167.036 1325.64 L167.036 1322.44 Z\" fill=\"#000000\" fill-rule=\"nonzero\" fill-opacity=\"1\" /><path clip-path=\"url(#clip250)\" d=\"M200.006 1332.92 L206.213 1332.92 L206.213 1311.5 L199.461 1312.85 L199.461 1309.39 L206.175 1308.04 L209.974 1308.04 L209.974 1332.92 L216.181 1332.92 L216.181 1336.12 L200.006 1336.12 L200.006 1332.92 Z\" fill=\"#000000\" fill-rule=\"nonzero\" fill-opacity=\"1\" /><path clip-path=\"url(#clip250)\" d=\"M223.892 1308.04 L238.807 1308.04 L238.807 1311.24 L227.372 1311.24 L227.372 1318.12 Q228.199 1317.84 229.027 1317.71 Q229.854 1317.55 230.682 1317.55 Q235.384 1317.55 238.13 1320.13 Q240.876 1322.71 240.876 1327.11 Q240.876 1331.64 238.054 1334.16 Q235.233 1336.66 230.099 1336.66 Q228.331 1336.66 226.488 1336.36 Q224.663 1336.06 222.707 1335.46 L222.707 1331.64 Q224.4 1332.56 226.205 1333.01 Q228.011 1333.47 230.023 1333.47 Q233.277 1333.47 235.177 1331.75 Q237.076 1330.04 237.076 1327.11 Q237.076 1324.18 235.177 1322.46 Q233.277 1320.75 230.023 1320.75 Q228.5 1320.75 226.977 1321.09 Q225.472 1321.43 223.892 1322.14 L223.892 1308.04 Z\" fill=\"#000000\" fill-rule=\"nonzero\" fill-opacity=\"1\" /><path clip-path=\"url(#clip250)\" d=\"M114.931 698.732 L122.57 698.732 L122.57 672.367 L114.26 674.033 L114.26 669.774 L122.524 668.107 L127.2 668.107 L127.2 698.732 L134.839 698.732 L134.839 702.667 L114.931 702.667 L114.931 698.732 Z\" fill=\"#000000\" fill-rule=\"nonzero\" fill-opacity=\"1\" /><path clip-path=\"url(#clip250)\" d=\"M154.283 671.186 Q150.672 671.186 148.843 674.751 Q147.038 678.292 147.038 685.422 Q147.038 692.528 148.843 696.093 Q150.672 699.635 154.283 699.635 Q157.917 699.635 159.723 696.093 Q161.552 692.528 161.552 685.422 Q161.552 678.292 159.723 674.751 Q157.917 671.186 154.283 671.186 M154.283 667.482 Q160.093 667.482 163.149 672.089 Q166.227 676.672 166.227 685.422 Q166.227 694.149 163.149 698.755 Q160.093 703.339 154.283 703.339 Q148.473 703.339 145.394 698.755 Q142.339 694.149 142.339 685.422 Q142.339 676.672 145.394 672.089 Q148.473 667.482 154.283 667.482 Z\" fill=\"#000000\" fill-rule=\"nonzero\" fill-opacity=\"1\" /><path clip-path=\"url(#clip250)\" d=\"M166.227 661.584 L190.339 661.584 L190.339 664.781 L166.227 664.781 L166.227 661.584 Z\" fill=\"#000000\" fill-rule=\"nonzero\" fill-opacity=\"1\" /><path clip-path=\"url(#clip250)\" d=\"M199.197 672.06 L205.404 672.06 L205.404 650.638 L198.652 651.992 L198.652 648.531 L205.366 647.177 L209.166 647.177 L209.166 672.06 L215.372 672.06 L215.372 675.257 L199.197 675.257 L199.197 672.06 Z\" fill=\"#000000\" fill-rule=\"nonzero\" fill-opacity=\"1\" /><path clip-path=\"url(#clip250)\" d=\"M231.171 649.678 Q228.237 649.678 226.751 652.575 Q225.284 655.452 225.284 661.245 Q225.284 667.019 226.751 669.915 Q228.237 672.793 231.171 672.793 Q234.124 672.793 235.591 669.915 Q237.076 667.019 237.076 661.245 Q237.076 655.452 235.591 652.575 Q234.124 649.678 231.171 649.678 M231.171 646.669 Q235.891 646.669 238.374 650.412 Q240.876 654.136 240.876 661.245 Q240.876 668.336 238.374 672.078 Q235.891 675.802 231.171 675.802 Q226.45 675.802 223.949 672.078 Q221.466 668.336 221.466 661.245 Q221.466 654.136 223.949 650.412 Q226.45 646.669 231.171 646.669 Z\" fill=\"#000000\" fill-rule=\"nonzero\" fill-opacity=\"1\" /><path clip-path=\"url(#clip250)\" d=\"M35.1993 1104.23 Q31.2526 1102.04 29.3747 1098.98 Q27.4968 1095.92 27.4968 1091.79 Q27.4968 1086.22 31.4117 1083.19 Q35.2948 1080.17 42.4881 1080.17 L64.0042 1080.17 L64.0042 1086.06 L42.679 1086.06 Q37.5546 1086.06 35.072 1087.87 Q32.5894 1089.69 32.5894 1093.41 Q32.5894 1097.96 35.6131 1100.6 Q38.6368 1103.24 43.8567 1103.24 L64.0042 1103.24 L64.0042 1109.13 L42.679 1109.13 Q37.5228 1109.13 35.072 1110.95 Q32.5894 1112.76 32.5894 1116.55 Q32.5894 1121.04 35.6449 1123.68 Q38.6686 1126.32 43.8567 1126.32 L64.0042 1126.32 L64.0042 1132.21 L28.3562 1132.21 L28.3562 1126.32 L33.8944 1126.32 Q30.616 1124.32 29.0564 1121.51 Q27.4968 1118.71 27.4968 1114.86 Q27.4968 1110.98 29.4702 1108.27 Q31.4436 1105.54 35.1993 1104.23 Z\" fill=\"#000000\" fill-rule=\"nonzero\" fill-opacity=\"1\" /><path clip-path=\"url(#clip250)\" d=\"M46.0847 1052.29 Q46.0847 1059.38 47.7079 1062.12 Q49.3312 1064.86 53.2461 1064.86 Q56.3653 1064.86 58.2114 1062.82 Q60.0256 1060.75 60.0256 1057.22 Q60.0256 1052.35 56.5881 1049.42 Q53.1188 1046.46 47.3897 1046.46 L46.0847 1046.46 L46.0847 1052.29 M43.6657 1040.61 L64.0042 1040.61 L64.0042 1046.46 L58.5933 1046.46 Q61.8398 1048.47 63.3994 1051.46 Q64.9272 1054.45 64.9272 1058.78 Q64.9272 1064.25 61.8716 1067.5 Q58.7843 1070.72 53.6281 1070.72 Q47.6125 1070.72 44.5569 1066.71 Q41.5014 1062.66 41.5014 1054.67 L41.5014 1046.46 L40.9285 1046.46 Q36.8862 1046.46 34.6901 1049.14 Q32.4621 1051.78 32.4621 1056.58 Q32.4621 1059.64 33.1941 1062.54 Q33.9262 1065.43 35.3903 1068.11 L29.9795 1068.11 Q28.7381 1064.89 28.1334 1061.87 Q27.4968 1058.84 27.4968 1055.98 Q27.4968 1048.24 31.5072 1044.43 Q35.5176 1040.61 43.6657 1040.61 Z\" fill=\"#000000\" fill-rule=\"nonzero\" fill-opacity=\"1\" /><path clip-path=\"url(#clip250)\" d=\"M28.3562 998.911 L45.7028 1011.8 L64.0042 998.242 L64.0042 1005.15 L49.9996 1015.53 L64.0042 1025.9 L64.0042 1032.81 L45.3526 1018.96 L28.3562 1031.63 L28.3562 1024.72 L41.0558 1015.27 L28.3562 1005.82 L28.3562 998.911 Z\" fill=\"#000000\" fill-rule=\"nonzero\" fill-opacity=\"1\" /><path clip-path=\"url(#clip250)\" d=\"M28.3562 989.967 L28.3562 984.11 L64.0042 984.11 L64.0042 989.967 L28.3562 989.967 M14.479 989.967 L14.479 984.11 L21.895 984.11 L21.895 989.967 L14.479 989.967 Z\" fill=\"#000000\" fill-rule=\"nonzero\" fill-opacity=\"1\" /><path clip-path=\"url(#clip250)\" d=\"M35.1993 944.102 Q31.2526 941.906 29.3747 938.85 Q27.4968 935.795 27.4968 931.657 Q27.4968 926.087 31.4117 923.063 Q35.2948 920.04 42.4881 920.04 L64.0042 920.04 L64.0042 925.928 L42.679 925.928 Q37.5546 925.928 35.072 927.742 Q32.5894 929.556 32.5894 933.28 Q32.5894 937.832 35.6131 940.474 Q38.6368 943.115 43.8567 943.115 L64.0042 943.115 L64.0042 949.004 L42.679 949.004 Q37.5228 949.004 35.072 950.818 Q32.5894 952.632 32.5894 956.42 Q32.5894 960.907 35.6449 963.549 Q38.6686 966.191 43.8567 966.191 L64.0042 966.191 L64.0042 972.079 L28.3562 972.079 L28.3562 966.191 L33.8944 966.191 Q30.616 964.186 29.0564 961.385 Q27.4968 958.584 27.4968 954.733 Q27.4968 950.85 29.4702 948.144 Q31.4436 945.407 35.1993 944.102 Z\" fill=\"#000000\" fill-rule=\"nonzero\" fill-opacity=\"1\" /><path clip-path=\"url(#clip250)\" d=\"M49.9359 908.963 L28.3562 908.963 L28.3562 903.107 L49.7131 903.107 Q54.7739 903.107 57.3202 901.133 Q59.8346 899.16 59.8346 895.213 Q59.8346 890.471 56.8109 887.734 Q53.7872 884.965 48.5673 884.965 L28.3562 884.965 L28.3562 879.108 L64.0042 879.108 L64.0042 884.965 L58.5296 884.965 Q61.7762 887.097 63.3676 889.93 Q64.9272 892.731 64.9272 896.455 Q64.9272 902.598 61.1078 905.78 Q57.2883 908.963 49.9359 908.963 M27.4968 894.227 L27.4968 894.227 Z\" fill=\"#000000\" fill-rule=\"nonzero\" fill-opacity=\"1\" /><path clip-path=\"url(#clip250)\" d=\"M35.1993 839.291 Q31.2526 837.094 29.3747 834.039 Q27.4968 830.983 27.4968 826.846 Q27.4968 821.276 31.4117 818.252 Q35.2948 815.228 42.4881 815.228 L64.0042 815.228 L64.0042 821.117 L42.679 821.117 Q37.5546 821.117 35.072 822.931 Q32.5894 824.745 32.5894 828.469 Q32.5894 833.02 35.6131 835.662 Q38.6368 838.304 43.8567 838.304 L64.0042 838.304 L64.0042 844.192 L42.679 844.192 Q37.5228 844.192 35.072 846.006 Q32.5894 847.821 32.5894 851.608 Q32.5894 856.096 35.6449 858.738 Q38.6686 861.38 43.8567 861.38 L64.0042 861.38 L64.0042 867.268 L28.3562 867.268 L28.3562 861.38 L33.8944 861.38 Q30.616 859.374 29.0564 856.574 Q27.4968 853.773 27.4968 849.921 Q27.4968 846.038 29.4702 843.333 Q31.4436 840.596 35.1993 839.291 Z\" fill=\"#000000\" fill-rule=\"nonzero\" fill-opacity=\"1\" /><path clip-path=\"url(#clip250)\" d=\"M33.8307 762.17 Q33.2578 763.157 33.0032 764.334 Q32.7167 765.48 32.7167 766.881 Q32.7167 771.846 35.9632 774.52 Q39.1779 777.161 45.2253 777.161 L64.0042 777.161 L64.0042 783.05 L28.3562 783.05 L28.3562 777.161 L33.8944 777.161 Q30.6479 775.315 29.0883 772.355 Q27.4968 769.395 27.4968 765.162 Q27.4968 764.557 27.5923 763.825 Q27.656 763.093 27.8151 762.202 L33.8307 762.17 Z\" fill=\"#000000\" fill-rule=\"nonzero\" fill-opacity=\"1\" /><path clip-path=\"url(#clip250)\" d=\"M46.0847 739.826 Q46.0847 746.924 47.7079 749.661 Q49.3312 752.399 53.2461 752.399 Q56.3653 752.399 58.2114 750.362 Q60.0256 748.293 60.0256 744.76 Q60.0256 739.89 56.5881 736.962 Q53.1188 734.002 47.3897 734.002 L46.0847 734.002 L46.0847 739.826 M43.6657 728.145 L64.0042 728.145 L64.0042 734.002 L58.5933 734.002 Q61.8398 736.007 63.3994 738.999 Q64.9272 741.991 64.9272 746.319 Q64.9272 751.794 61.8716 755.04 Q58.7843 758.255 53.6281 758.255 Q47.6125 758.255 44.5569 754.245 Q41.5014 750.203 41.5014 742.214 L41.5014 734.002 L40.9285 734.002 Q36.8862 734.002 34.6901 736.675 Q32.4621 739.317 32.4621 744.123 Q32.4621 747.179 33.1941 750.075 Q33.9262 752.972 35.3903 755.645 L29.9795 755.645 Q28.7381 752.431 28.1334 749.407 Q27.4968 746.383 27.4968 743.519 Q27.4968 735.784 31.5072 731.965 Q35.5176 728.145 43.6657 728.145 Z\" fill=\"#000000\" fill-rule=\"nonzero\" fill-opacity=\"1\" /><path clip-path=\"url(#clip250)\" d=\"M33.7671 692.625 L14.479 692.625 L14.479 686.768 L64.0042 686.768 L64.0042 692.625 L58.657 692.625 Q61.8398 694.471 63.3994 697.304 Q64.9272 700.104 64.9272 704.051 Q64.9272 710.512 59.771 714.586 Q54.6147 718.629 46.212 718.629 Q37.8093 718.629 32.6531 714.586 Q27.4968 710.512 27.4968 704.051 Q27.4968 700.104 29.0564 697.304 Q30.5842 694.471 33.7671 692.625 M46.212 712.581 Q52.6732 712.581 56.3653 709.939 Q60.0256 707.266 60.0256 702.619 Q60.0256 697.972 56.3653 695.298 Q52.6732 692.625 46.212 692.625 Q39.7508 692.625 36.0905 695.298 Q32.3984 697.972 32.3984 702.619 Q32.3984 707.266 36.0905 709.939 Q39.7508 712.581 46.212 712.581 Z\" fill=\"#000000\" fill-rule=\"nonzero\" fill-opacity=\"1\" /><path clip-path=\"url(#clip250)\" d=\"M28.3562 674.705 L28.3562 668.849 L64.0042 668.849 L64.0042 674.705 L28.3562 674.705 M14.479 674.705 L14.479 668.849 L21.895 668.849 L21.895 674.705 L14.479 674.705 Z\" fill=\"#000000\" fill-rule=\"nonzero\" fill-opacity=\"1\" /><path clip-path=\"url(#clip250)\" d=\"M49.9359 657.2 L28.3562 657.2 L28.3562 651.343 L49.7131 651.343 Q54.7739 651.343 57.3202 649.37 Q59.8346 647.396 59.8346 643.45 Q59.8346 638.707 56.8109 635.97 Q53.7872 633.201 48.5673 633.201 L28.3562 633.201 L28.3562 627.344 L64.0042 627.344 L64.0042 633.201 L58.5296 633.201 Q61.7762 635.333 63.3676 638.166 Q64.9272 640.967 64.9272 644.691 Q64.9272 650.834 61.1078 654.017 Q57.2883 657.2 49.9359 657.2 M27.4968 642.463 L27.4968 642.463 Z\" fill=\"#000000\" fill-rule=\"nonzero\" fill-opacity=\"1\" /><path clip-path=\"url(#clip250)\" d=\"M29.4065 592.556 L34.9447 592.556 Q33.6716 595.038 33.035 597.712 Q32.3984 600.386 32.3984 603.25 Q32.3984 607.611 33.7352 609.807 Q35.072 611.971 37.7456 611.971 Q39.7826 611.971 40.9603 610.412 Q42.1061 608.852 43.1565 604.141 L43.6021 602.136 Q44.9389 595.898 47.3897 593.288 Q49.8086 590.646 54.1691 590.646 Q59.1344 590.646 62.0308 594.593 Q64.9272 598.508 64.9272 605.383 Q64.9272 608.247 64.3543 611.366 Q63.8132 614.454 62.6992 617.891 L56.6518 617.891 Q58.3387 614.645 59.198 611.494 Q60.0256 608.343 60.0256 605.255 Q60.0256 601.118 58.6251 598.89 Q57.1929 596.662 54.6147 596.662 Q52.2276 596.662 50.9545 598.285 Q49.6813 599.876 48.5037 605.319 L48.0262 607.356 Q46.8804 612.799 44.5251 615.218 Q42.138 617.637 38.0002 617.637 Q32.9713 617.637 30.2341 614.072 Q27.4968 610.507 27.4968 603.95 Q27.4968 600.704 27.9743 597.839 Q28.4517 594.975 29.4065 592.556 Z\" fill=\"#000000\" fill-rule=\"nonzero\" fill-opacity=\"1\" /><path clip-path=\"url(#clip250)\" d=\"M32.4621 546.786 Q32.4621 551.497 36.1542 554.234 Q39.8145 556.972 46.212 556.972 Q52.6095 556.972 56.3017 554.266 Q59.9619 551.529 59.9619 546.786 Q59.9619 542.108 56.2698 539.37 Q52.5777 536.633 46.212 536.633 Q39.8781 536.633 36.186 539.37 Q32.4621 542.108 32.4621 546.786 M27.4968 546.786 Q27.4968 539.148 32.4621 534.787 Q37.4273 530.427 46.212 530.427 Q54.9649 530.427 59.9619 534.787 Q64.9272 539.148 64.9272 546.786 Q64.9272 554.457 59.9619 558.818 Q54.9649 563.146 46.212 563.146 Q37.4273 563.146 32.4621 558.818 Q27.4968 554.457 27.4968 546.786 Z\" fill=\"#000000\" fill-rule=\"nonzero\" fill-opacity=\"1\" /><path clip-path=\"url(#clip250)\" d=\"M14.479 502.672 L19.3487 502.672 L19.3487 508.274 Q19.3487 511.425 20.6219 512.666 Q21.895 513.876 25.2052 513.876 L28.3562 513.876 L28.3562 504.232 L32.9077 504.232 L32.9077 513.876 L64.0042 513.876 L64.0042 519.764 L32.9077 519.764 L32.9077 525.366 L28.3562 525.366 L28.3562 519.764 L25.8736 519.764 Q19.9216 519.764 17.2162 516.995 Q14.479 514.226 14.479 508.21 L14.479 502.672 Z\" fill=\"#000000\" fill-rule=\"nonzero\" fill-opacity=\"1\" /><path clip-path=\"url(#clip250)\" d=\"M14.479 459.003 L19.3487 459.003 L19.3487 464.605 Q19.3487 467.756 20.6219 468.997 Q21.895 470.207 25.2052 470.207 L28.3562 470.207 L28.3562 460.563 L32.9077 460.563 L32.9077 470.207 L64.0042 470.207 L64.0042 476.095 L32.9077 476.095 L32.9077 481.697 L28.3562 481.697 L28.3562 476.095 L25.8736 476.095 Q19.9216 476.095 17.2162 473.326 Q14.479 470.557 14.479 464.541 L14.479 459.003 Z\" fill=\"#000000\" fill-rule=\"nonzero\" fill-opacity=\"1\" /><path clip-path=\"url(#clip250)\" d=\"M14.479 436.055 L19.3487 436.055 L19.3487 441.657 Q19.3487 444.808 20.6219 446.049 Q21.895 447.259 25.2052 447.259 L28.3562 447.259 L28.3562 437.615 L32.9077 437.615 L32.9077 447.259 L64.0042 447.259 L64.0042 453.147 L32.9077 453.147 L32.9077 458.749 L28.3562 458.749 L28.3562 453.147 L25.8736 453.147 Q19.9216 453.147 17.2162 450.378 Q14.479 447.609 14.479 441.593 L14.479 436.055 Z\" fill=\"#000000\" fill-rule=\"nonzero\" fill-opacity=\"1\" /><path clip-path=\"url(#clip250)\" d=\"M18.2347 426.506 L28.3562 426.506 L28.3562 414.443 L32.9077 414.443 L32.9077 426.506 L52.2594 426.506 Q56.6199 426.506 57.8613 425.329 Q59.1026 424.119 59.1026 420.459 L59.1026 414.443 L64.0042 414.443 L64.0042 420.459 Q64.0042 427.238 61.4897 429.817 Q58.9434 432.395 52.2594 432.395 L32.9077 432.395 L32.9077 436.692 L28.3562 436.692 L28.3562 432.395 L18.2347 432.395 L18.2347 426.506 Z\" fill=\"#000000\" fill-rule=\"nonzero\" fill-opacity=\"1\" /><path clip-path=\"url(#clip250)\" d=\"M475.873 16.7545 L475.873 25.383 Q471.742 21.5346 467.042 19.6307 Q462.384 17.7268 457.118 17.7268 Q446.747 17.7268 441.238 24.0867 Q435.729 30.4061 435.729 42.3968 Q435.729 54.3469 441.238 60.7069 Q446.747 67.0263 457.118 67.0263 Q462.384 67.0263 467.042 65.1223 Q471.742 63.2184 475.873 59.3701 L475.873 67.9175 Q471.579 70.8341 466.759 72.2924 Q461.979 73.7508 456.632 73.7508 Q442.899 73.7508 435 65.3654 Q427.101 56.9395 427.101 42.3968 Q427.101 27.8135 435 19.4281 Q442.899 11.0023 456.632 11.0023 Q462.06 11.0023 466.84 12.4606 Q471.661 13.8784 475.873 16.7545 Z\" fill=\"#000000\" fill-rule=\"nonzero\" fill-opacity=\"1\" /><path clip-path=\"url(#clip250)\" d=\"M505.769 32.4315 Q499.774 32.4315 496.29 37.1306 Q492.806 41.7891 492.806 49.9314 Q492.806 58.0738 496.249 62.7728 Q499.733 67.4314 505.769 67.4314 Q511.724 67.4314 515.208 62.7323 Q518.692 58.0333 518.692 49.9314 Q518.692 41.8701 515.208 37.1711 Q511.724 32.4315 505.769 32.4315 M505.769 26.1121 Q515.491 26.1121 521.041 32.4315 Q526.591 38.7509 526.591 49.9314 Q526.591 61.0714 521.041 67.4314 Q515.491 73.7508 505.769 73.7508 Q496.006 73.7508 490.457 67.4314 Q484.947 61.0714 484.947 49.9314 Q484.947 38.7509 490.457 32.4315 Q496.006 26.1121 505.769 26.1121 Z\" fill=\"#000000\" fill-rule=\"nonzero\" fill-opacity=\"1\" /><path clip-path=\"url(#clip250)\" d=\"M574.27 35.9153 Q577.065 30.8922 580.954 28.5022 Q584.843 26.1121 590.109 26.1121 Q597.198 26.1121 601.046 31.0947 Q604.895 36.0368 604.895 45.1919 L604.895 72.576 L597.401 72.576 L597.401 45.4349 Q597.401 38.913 595.092 35.7533 Q592.783 32.5936 588.043 32.5936 Q582.25 32.5936 578.888 36.4419 Q575.526 40.2903 575.526 46.9338 L575.526 72.576 L568.032 72.576 L568.032 45.4349 Q568.032 38.8725 565.722 35.7533 Q563.413 32.5936 558.593 32.5936 Q552.881 32.5936 549.519 36.4824 Q546.157 40.3308 546.157 46.9338 L546.157 72.576 L538.662 72.576 L538.662 27.2059 L546.157 27.2059 L546.157 34.2544 Q548.709 30.082 552.273 28.0971 Q555.838 26.1121 560.74 26.1121 Q565.682 26.1121 569.125 28.6237 Q572.609 31.1352 574.27 35.9153 Z\" fill=\"#000000\" fill-rule=\"nonzero\" fill-opacity=\"1\" /><path clip-path=\"url(#clip250)\" d=\"M626.972 65.7705 L626.972 89.8329 L619.478 89.8329 L619.478 27.2059 L626.972 27.2059 L626.972 34.0924 Q629.322 30.0415 632.886 28.0971 Q636.492 26.1121 641.474 26.1121 Q649.738 26.1121 654.883 32.6746 Q660.068 39.2371 660.068 49.9314 Q660.068 60.6258 654.883 67.1883 Q649.738 73.7508 641.474 73.7508 Q636.492 73.7508 632.886 71.8063 Q629.322 69.8214 626.972 65.7705 M652.331 49.9314 Q652.331 41.7081 648.928 37.0496 Q645.566 32.3505 639.652 32.3505 Q633.737 32.3505 630.334 37.0496 Q626.972 41.7081 626.972 49.9314 Q626.972 58.1548 630.334 62.8538 Q633.737 67.5124 639.652 67.5124 Q645.566 67.5124 648.928 62.8538 Q652.331 58.1548 652.331 49.9314 Z\" fill=\"#000000\" fill-rule=\"nonzero\" fill-opacity=\"1\" /><path clip-path=\"url(#clip250)\" d=\"M693.042 49.7694 Q684.009 49.7694 680.525 51.8354 Q677.041 53.9013 677.041 58.8839 Q677.041 62.8538 679.634 65.2034 Q682.267 67.5124 686.764 67.5124 Q692.961 67.5124 696.688 63.1374 Q700.456 58.7219 700.456 51.4303 L700.456 49.7694 L693.042 49.7694 M707.909 46.6907 L707.909 72.576 L700.456 72.576 L700.456 65.6895 Q697.904 69.8214 694.096 71.8063 Q690.288 73.7508 684.779 73.7508 Q677.811 73.7508 673.679 69.8619 Q669.588 65.9325 669.588 59.3701 Q669.588 51.7138 674.692 47.825 Q679.836 43.9361 690.004 43.9361 L700.456 43.9361 L700.456 43.2069 Q700.456 38.0623 697.053 35.2672 Q693.691 32.4315 687.574 32.4315 Q683.685 32.4315 679.999 33.3632 Q676.312 34.295 672.909 36.1584 L672.909 29.2718 Q677.001 27.692 680.849 26.9223 Q684.698 26.1121 688.343 26.1121 Q698.187 26.1121 703.048 31.2163 Q707.909 36.3204 707.909 46.6907 Z\" fill=\"#000000\" fill-rule=\"nonzero\" fill-opacity=\"1\" /><path clip-path=\"url(#clip250)\" d=\"M749.553 34.1734 Q748.297 33.4443 746.798 33.1202 Q745.34 32.7556 743.557 32.7556 Q737.238 32.7556 733.835 36.8875 Q730.473 40.9789 730.473 48.6757 L730.473 72.576 L722.979 72.576 L722.979 27.2059 L730.473 27.2059 L730.473 34.2544 Q732.822 30.1225 736.59 28.1376 Q740.357 26.1121 745.745 26.1121 Q746.514 26.1121 747.446 26.2337 Q748.378 26.3147 749.512 26.5172 L749.553 34.1734 Z\" fill=\"#000000\" fill-rule=\"nonzero\" fill-opacity=\"1\" /><path clip-path=\"url(#clip250)\" d=\"M757.371 27.2059 L764.824 27.2059 L764.824 72.576 L757.371 72.576 L757.371 27.2059 M757.371 9.54393 L764.824 9.54393 L764.824 18.9825 L757.371 18.9825 L757.371 9.54393 Z\" fill=\"#000000\" fill-rule=\"nonzero\" fill-opacity=\"1\" /><path clip-path=\"url(#clip250)\" d=\"M809.344 28.5427 L809.344 35.5912 Q806.184 33.9709 802.781 33.1607 Q799.379 32.3505 795.733 32.3505 Q790.183 32.3505 787.388 34.0519 Q784.633 35.7533 784.633 39.156 Q784.633 41.7486 786.618 43.2475 Q788.603 44.7058 794.599 46.0426 L797.151 46.6097 Q805.09 48.3111 808.412 51.4303 Q811.774 54.509 811.774 60.0587 Q811.774 66.3781 806.751 70.0644 Q801.769 73.7508 793.019 73.7508 Q789.373 73.7508 785.403 73.0216 Q781.474 72.3329 777.099 70.9151 L777.099 63.2184 Q781.231 65.3654 785.241 66.4591 Q789.251 67.5124 793.181 67.5124 Q798.447 67.5124 801.283 65.73 Q804.118 63.9071 804.118 60.6258 Q804.118 57.5877 802.052 55.9673 Q800.027 54.3469 793.1 52.8481 L790.507 52.2405 Q783.58 50.7821 780.501 47.7845 Q777.423 44.7463 777.423 39.4801 Q777.423 33.0797 781.96 29.5959 Q786.497 26.1121 794.842 26.1121 Q798.974 26.1121 802.619 26.7198 Q806.265 27.3274 809.344 28.5427 Z\" fill=\"#000000\" fill-rule=\"nonzero\" fill-opacity=\"1\" /><path clip-path=\"url(#clip250)\" d=\"M841.224 32.4315 Q835.229 32.4315 831.745 37.1306 Q828.262 41.7891 828.262 49.9314 Q828.262 58.0738 831.705 62.7728 Q835.189 67.4314 841.224 67.4314 Q847.179 67.4314 850.663 62.7323 Q854.147 58.0333 854.147 49.9314 Q854.147 41.8701 850.663 37.1711 Q847.179 32.4315 841.224 32.4315 M841.224 26.1121 Q850.947 26.1121 856.496 32.4315 Q862.046 38.7509 862.046 49.9314 Q862.046 61.0714 856.496 67.4314 Q850.947 73.7508 841.224 73.7508 Q831.462 73.7508 825.912 67.4314 Q820.403 61.0714 820.403 49.9314 Q820.403 38.7509 825.912 32.4315 Q831.462 26.1121 841.224 26.1121 Z\" fill=\"#000000\" fill-rule=\"nonzero\" fill-opacity=\"1\" /><path clip-path=\"url(#clip250)\" d=\"M912.115 45.1919 L912.115 72.576 L904.662 72.576 L904.662 45.4349 Q904.662 38.994 902.15 35.7938 Q899.639 32.5936 894.615 32.5936 Q888.58 32.5936 885.096 36.4419 Q881.612 40.2903 881.612 46.9338 L881.612 72.576 L874.118 72.576 L874.118 27.2059 L881.612 27.2059 L881.612 34.2544 Q884.286 30.163 887.891 28.1376 Q891.537 26.1121 896.276 26.1121 Q904.095 26.1121 908.105 30.9732 Q912.115 35.7938 912.115 45.1919 Z\" fill=\"#000000\" fill-rule=\"nonzero\" fill-opacity=\"1\" /><path clip-path=\"url(#clip250)\" d=\"M983.209 49.3643 Q983.209 41.2625 979.846 36.8065 Q976.525 32.3505 970.489 32.3505 Q964.494 32.3505 961.131 36.8065 Q957.81 41.2625 957.81 49.3643 Q957.81 57.4256 961.131 61.8816 Q964.494 66.3376 970.489 66.3376 Q976.525 66.3376 979.846 61.8816 Q983.209 57.4256 983.209 49.3643 M990.662 66.9452 Q990.662 78.5308 985.518 84.1616 Q980.373 89.8329 969.76 89.8329 Q965.83 89.8329 962.347 89.2252 Q958.863 88.6581 955.582 87.4428 L955.582 80.1917 Q958.863 81.9741 962.063 82.8248 Q965.263 83.6755 968.585 83.6755 Q975.917 83.6755 979.563 79.8271 Q983.209 76.0193 983.209 68.282 L983.209 64.5957 Q980.9 68.6061 977.294 70.5911 Q973.689 72.576 968.666 72.576 Q960.321 72.576 955.217 66.2161 Q950.113 59.8562 950.113 49.3643 Q950.113 38.832 955.217 32.472 Q960.321 26.1121 968.666 26.1121 Q973.689 26.1121 977.294 28.0971 Q980.9 30.082 983.209 34.0924 L983.209 27.2059 L990.662 27.2059 L990.662 66.9452 Z\" fill=\"#000000\" fill-rule=\"nonzero\" fill-opacity=\"1\" /><path clip-path=\"url(#clip250)\" d=\"M1044.82 48.0275 L1044.82 51.6733 L1010.55 51.6733 Q1011.04 59.3701 1015.17 63.421 Q1019.34 67.4314 1026.76 67.4314 Q1031.05 67.4314 1035.06 66.3781 Q1039.11 65.3249 1043.08 63.2184 L1043.08 70.267 Q1039.07 71.9684 1034.86 72.8596 Q1030.64 73.7508 1026.31 73.7508 Q1015.45 73.7508 1009.09 67.4314 Q1002.77 61.1119 1002.77 50.3365 Q1002.77 39.1965 1008.77 32.6746 Q1014.81 26.1121 1025.01 26.1121 Q1034.17 26.1121 1039.48 32.0264 Q1044.82 37.9003 1044.82 48.0275 M1037.37 45.84 Q1037.29 39.7232 1033.93 36.0774 Q1030.6 32.4315 1025.1 32.4315 Q1018.86 32.4315 1015.09 35.9558 Q1011.36 39.4801 1010.8 45.8805 L1037.37 45.84 Z\" fill=\"#000000\" fill-rule=\"nonzero\" fill-opacity=\"1\" /><path clip-path=\"url(#clip250)\" d=\"M1094.77 45.1919 L1094.77 72.576 L1087.32 72.576 L1087.32 45.4349 Q1087.32 38.994 1084.81 35.7938 Q1082.29 32.5936 1077.27 32.5936 Q1071.23 32.5936 1067.75 36.4419 Q1064.27 40.2903 1064.27 46.9338 L1064.27 72.576 L1056.77 72.576 L1056.77 27.2059 L1064.27 27.2059 L1064.27 34.2544 Q1066.94 30.163 1070.55 28.1376 Q1074.19 26.1121 1078.93 26.1121 Q1086.75 26.1121 1090.76 30.9732 Q1094.77 35.7938 1094.77 45.1919 Z\" fill=\"#000000\" fill-rule=\"nonzero\" fill-opacity=\"1\" /><path clip-path=\"url(#clip250)\" d=\"M1148.45 48.0275 L1148.45 51.6733 L1114.17 51.6733 Q1114.66 59.3701 1118.79 63.421 Q1122.96 67.4314 1130.38 67.4314 Q1134.67 67.4314 1138.68 66.3781 Q1142.73 65.3249 1146.7 63.2184 L1146.7 70.267 Q1142.69 71.9684 1138.48 72.8596 Q1134.27 73.7508 1129.93 73.7508 Q1119.08 73.7508 1112.72 67.4314 Q1106.4 61.1119 1106.4 50.3365 Q1106.4 39.1965 1112.39 32.6746 Q1118.43 26.1121 1128.64 26.1121 Q1137.79 26.1121 1143.1 32.0264 Q1148.45 37.9003 1148.45 48.0275 M1140.99 45.84 Q1140.91 39.7232 1137.55 36.0774 Q1134.23 32.4315 1128.72 32.4315 Q1122.48 32.4315 1118.71 35.9558 Q1114.98 39.4801 1114.42 45.8805 L1140.99 45.84 Z\" fill=\"#000000\" fill-rule=\"nonzero\" fill-opacity=\"1\" /><path clip-path=\"url(#clip250)\" d=\"M1186.97 34.1734 Q1185.71 33.4443 1184.21 33.1202 Q1182.76 32.7556 1180.97 32.7556 Q1174.65 32.7556 1171.25 36.8875 Q1167.89 40.9789 1167.89 48.6757 L1167.89 72.576 L1160.4 72.576 L1160.4 27.2059 L1167.89 27.2059 L1167.89 34.2544 Q1170.24 30.1225 1174.01 28.1376 Q1177.77 26.1121 1183.16 26.1121 Q1183.93 26.1121 1184.86 26.2337 Q1185.79 26.3147 1186.93 26.5172 L1186.97 34.1734 Z\" fill=\"#000000\" fill-rule=\"nonzero\" fill-opacity=\"1\" /><path clip-path=\"url(#clip250)\" d=\"M1194.79 27.2059 L1202.24 27.2059 L1202.24 72.576 L1194.79 72.576 L1194.79 27.2059 M1194.79 9.54393 L1202.24 9.54393 L1202.24 18.9825 L1194.79 18.9825 L1194.79 9.54393 Z\" fill=\"#000000\" fill-rule=\"nonzero\" fill-opacity=\"1\" /><path clip-path=\"url(#clip250)\" d=\"M1250.49 28.9478 L1250.49 35.9153 Q1247.33 34.1734 1244.13 33.3227 Q1240.97 32.4315 1237.73 32.4315 Q1230.48 32.4315 1226.47 37.0496 Q1222.46 41.6271 1222.46 49.9314 Q1222.46 58.2358 1226.47 62.8538 Q1230.48 67.4314 1237.73 67.4314 Q1240.97 67.4314 1244.13 66.5807 Q1247.33 65.6895 1250.49 63.9476 L1250.49 70.8341 Q1247.37 72.2924 1244.01 73.0216 Q1240.68 73.7508 1236.92 73.7508 Q1226.67 73.7508 1220.63 67.3098 Q1214.6 60.8689 1214.6 49.9314 Q1214.6 38.832 1220.67 32.472 Q1226.79 26.1121 1237.4 26.1121 Q1240.85 26.1121 1244.13 26.8413 Q1247.41 27.5299 1250.49 28.9478 Z\" fill=\"#000000\" fill-rule=\"nonzero\" fill-opacity=\"1\" /><path clip-path=\"url(#clip250)\" d=\"M1297.92 86.3491 L1297.92 92.1419 L1254.82 92.1419 L1254.82 86.3491 L1297.92 86.3491 Z\" fill=\"#000000\" fill-rule=\"nonzero\" fill-opacity=\"1\" /><path clip-path=\"url(#clip250)\" d=\"M1327.9 9.54393 L1327.9 15.7418 L1320.77 15.7418 Q1316.76 15.7418 1315.18 17.3622 Q1313.64 18.9825 1313.64 23.1955 L1313.64 27.2059 L1325.92 27.2059 L1325.92 32.9987 L1313.64 32.9987 L1313.64 72.576 L1306.15 72.576 L1306.15 32.9987 L1299.02 32.9987 L1299.02 27.2059 L1306.15 27.2059 L1306.15 24.0462 Q1306.15 16.471 1309.67 13.0277 Q1313.2 9.54393 1320.85 9.54393 L1327.9 9.54393 Z\" fill=\"#000000\" fill-rule=\"nonzero\" fill-opacity=\"1\" /><path clip-path=\"url(#clip250)\" d=\"M1357.11 9.54393 L1357.11 15.7418 L1349.98 15.7418 Q1345.97 15.7418 1344.39 17.3622 Q1342.85 18.9825 1342.85 23.1955 L1342.85 27.2059 L1355.12 27.2059 L1355.12 32.9987 L1342.85 32.9987 L1342.85 72.576 L1335.35 72.576 L1335.35 32.9987 L1328.22 32.9987 L1328.22 27.2059 L1335.35 27.2059 L1335.35 24.0462 Q1335.35 16.471 1338.88 13.0277 Q1342.4 9.54393 1350.06 9.54393 L1357.11 9.54393 Z\" fill=\"#000000\" fill-rule=\"nonzero\" fill-opacity=\"1\" /><path clip-path=\"url(#clip250)\" d=\"M1369.26 14.324 L1369.26 27.2059 L1384.61 27.2059 L1384.61 32.9987 L1369.26 32.9987 L1369.26 57.6282 Q1369.26 63.1779 1370.76 64.7578 Q1372.3 66.3376 1376.96 66.3376 L1384.61 66.3376 L1384.61 72.576 L1376.96 72.576 Q1368.33 72.576 1365.05 69.3758 Q1361.77 66.1351 1361.77 57.6282 L1361.77 32.9987 L1356.3 32.9987 L1356.3 27.2059 L1361.77 27.2059 L1361.77 14.324 L1369.26 14.324 Z\" fill=\"#000000\" fill-rule=\"nonzero\" fill-opacity=\"1\" /><path clip-path=\"url(#clip250)\" d=\"M1428.89 86.3491 L1428.89 92.1419 L1385.79 92.1419 L1385.79 86.3491 L1428.89 86.3491 Z\" fill=\"#000000\" fill-rule=\"nonzero\" fill-opacity=\"1\" /><path clip-path=\"url(#clip250)\" d=\"M1443.11 65.7705 L1443.11 89.8329 L1435.61 89.8329 L1435.61 27.2059 L1443.11 27.2059 L1443.11 34.0924 Q1445.46 30.0415 1449.02 28.0971 Q1452.63 26.1121 1457.61 26.1121 Q1465.87 26.1121 1471.02 32.6746 Q1476.2 39.2371 1476.2 49.9314 Q1476.2 60.6258 1471.02 67.1883 Q1465.87 73.7508 1457.61 73.7508 Q1452.63 73.7508 1449.02 71.8063 Q1445.46 69.8214 1443.11 65.7705 M1468.47 49.9314 Q1468.47 41.7081 1465.06 37.0496 Q1461.7 32.3505 1455.79 32.3505 Q1449.87 32.3505 1446.47 37.0496 Q1443.11 41.7081 1443.11 49.9314 Q1443.11 58.1548 1446.47 62.8538 Q1449.87 67.5124 1455.79 67.5124 Q1461.7 67.5124 1465.06 62.8538 Q1468.47 58.1548 1468.47 49.9314 Z\" fill=\"#000000\" fill-rule=\"nonzero\" fill-opacity=\"1\" /><path clip-path=\"url(#clip250)\" d=\"M1506.14 32.4315 Q1500.14 32.4315 1496.66 37.1306 Q1493.18 41.7891 1493.18 49.9314 Q1493.18 58.0738 1496.62 62.7728 Q1500.1 67.4314 1506.14 67.4314 Q1512.09 67.4314 1515.58 62.7323 Q1519.06 58.0333 1519.06 49.9314 Q1519.06 41.8701 1515.58 37.1711 Q1512.09 32.4315 1506.14 32.4315 M1506.14 26.1121 Q1515.86 26.1121 1521.41 32.4315 Q1526.96 38.7509 1526.96 49.9314 Q1526.96 61.0714 1521.41 67.4314 Q1515.86 73.7508 1506.14 73.7508 Q1496.38 73.7508 1490.83 67.4314 Q1485.32 61.0714 1485.32 49.9314 Q1485.32 38.7509 1490.83 32.4315 Q1496.38 26.1121 1506.14 26.1121 Z\" fill=\"#000000\" fill-rule=\"nonzero\" fill-opacity=\"1\" /><path clip-path=\"url(#clip250)\" d=\"M1534.98 27.2059 L1542.44 27.2059 L1551.75 62.6108 L1561.03 27.2059 L1569.82 27.2059 L1579.14 62.6108 L1588.41 27.2059 L1595.87 27.2059 L1584 72.576 L1575.21 72.576 L1565.45 35.3887 L1555.64 72.576 L1546.85 72.576 L1534.98 27.2059 Z\" fill=\"#000000\" fill-rule=\"nonzero\" fill-opacity=\"1\" /><path clip-path=\"url(#clip250)\" d=\"M1615.27 65.6895 L1643.83 65.6895 L1643.83 72.576 L1605.43 72.576 L1605.43 65.6895 Q1610.09 60.8689 1618.11 52.7671 Q1626.17 44.6248 1628.23 42.2752 Q1632.16 37.8598 1633.7 34.8216 Q1635.28 31.7429 1635.28 28.7857 Q1635.28 23.9651 1631.88 20.927 Q1628.52 17.8888 1623.09 17.8888 Q1619.24 17.8888 1614.95 19.2256 Q1610.69 20.5624 1605.83 23.2765 L1605.83 15.0127 Q1610.77 13.0277 1615.07 12.015 Q1619.36 11.0023 1622.93 11.0023 Q1632.33 11.0023 1637.92 15.7013 Q1643.51 20.4004 1643.51 28.2591 Q1643.51 31.9859 1642.09 35.3482 Q1640.71 38.6699 1637.02 43.2069 Q1636.01 44.3817 1630.58 50.0125 Q1625.16 55.6027 1615.27 65.6895 Z\" fill=\"#000000\" fill-rule=\"nonzero\" fill-opacity=\"1\" /><path clip-path=\"url(#clip250)\" d=\"M1681.99 27.2059 L1689.44 27.2059 L1698.76 62.6108 L1708.04 27.2059 L1716.83 27.2059 L1726.14 62.6108 L1735.42 27.2059 L1742.87 27.2059 L1731.01 72.576 L1722.22 72.576 L1712.45 35.3887 L1702.65 72.576 L1693.86 72.576 L1681.99 27.2059 Z\" fill=\"#000000\" fill-rule=\"nonzero\" fill-opacity=\"1\" /><path clip-path=\"url(#clip250)\" d=\"M1754.18 27.2059 L1761.63 27.2059 L1761.63 72.576 L1754.18 72.576 L1754.18 27.2059 M1754.18 9.54393 L1761.63 9.54393 L1761.63 18.9825 L1754.18 18.9825 L1754.18 9.54393 Z\" fill=\"#000000\" fill-rule=\"nonzero\" fill-opacity=\"1\" /><path clip-path=\"url(#clip250)\" d=\"M1784.6 14.324 L1784.6 27.2059 L1799.95 27.2059 L1799.95 32.9987 L1784.6 32.9987 L1784.6 57.6282 Q1784.6 63.1779 1786.1 64.7578 Q1787.64 66.3376 1792.3 66.3376 L1799.95 66.3376 L1799.95 72.576 L1792.3 72.576 Q1783.67 72.576 1780.39 69.3758 Q1777.1 66.1351 1777.1 57.6282 L1777.1 32.9987 L1771.64 32.9987 L1771.64 27.2059 L1777.1 27.2059 L1777.1 14.324 L1784.6 14.324 Z\" fill=\"#000000\" fill-rule=\"nonzero\" fill-opacity=\"1\" /><path clip-path=\"url(#clip250)\" d=\"M1847.47 45.1919 L1847.47 72.576 L1840.02 72.576 L1840.02 45.4349 Q1840.02 38.994 1837.5 35.7938 Q1834.99 32.5936 1829.97 32.5936 Q1823.93 32.5936 1820.45 36.4419 Q1816.97 40.2903 1816.97 46.9338 L1816.97 72.576 L1809.47 72.576 L1809.47 9.54393 L1816.97 9.54393 L1816.97 34.2544 Q1819.64 30.163 1823.24 28.1376 Q1826.89 26.1121 1831.63 26.1121 Q1839.45 26.1121 1843.46 30.9732 Q1847.47 35.7938 1847.47 45.1919 Z\" fill=\"#000000\" fill-rule=\"nonzero\" fill-opacity=\"1\" /><path clip-path=\"url(#clip250)\" d=\"M1883.36 27.2059 L1891.26 27.2059 L1905.44 65.2844 L1919.62 27.2059 L1927.51 27.2059 L1910.5 72.576 L1900.37 72.576 L1883.36 27.2059 Z\" fill=\"#000000\" fill-rule=\"nonzero\" fill-opacity=\"1\" /><path clip-path=\"url(#clip250)\" d=\"M1976.61 48.0275 L1976.61 51.6733 L1942.34 51.6733 Q1942.83 59.3701 1946.96 63.421 Q1951.13 67.4314 1958.54 67.4314 Q1962.84 67.4314 1966.85 66.3781 Q1970.9 65.3249 1974.87 63.2184 L1974.87 70.267 Q1970.86 71.9684 1966.65 72.8596 Q1962.43 73.7508 1958.1 73.7508 Q1947.24 73.7508 1940.88 67.4314 Q1934.56 61.1119 1934.56 50.3365 Q1934.56 39.1965 1940.56 32.6746 Q1946.59 26.1121 1956.8 26.1121 Q1965.96 26.1121 1971.26 32.0264 Q1976.61 37.9003 1976.61 48.0275 M1969.16 45.84 Q1969.08 39.7232 1965.71 36.0774 Q1962.39 32.4315 1956.88 32.4315 Q1950.65 32.4315 1946.88 35.9558 Q1943.15 39.4801 1942.58 45.8805 L1969.16 45.84 Z\" fill=\"#000000\" fill-rule=\"nonzero\" fill-opacity=\"1\" /><path clip-path=\"url(#clip250)\" d=\"M2015.14 34.1734 Q2013.88 33.4443 2012.38 33.1202 Q2010.92 32.7556 2009.14 32.7556 Q2002.82 32.7556 1999.42 36.8875 Q1996.06 40.9789 1996.06 48.6757 L1996.06 72.576 L1988.56 72.576 L1988.56 27.2059 L1996.06 27.2059 L1996.06 34.2544 Q1998.41 30.1225 2002.17 28.1376 Q2005.94 26.1121 2011.33 26.1121 Q2012.1 26.1121 2013.03 26.2337 Q2013.96 26.3147 2015.1 26.5172 L2015.14 34.1734 Z\" fill=\"#000000\" fill-rule=\"nonzero\" fill-opacity=\"1\" /><path clip-path=\"url(#clip250)\" d=\"M2022.95 27.2059 L2030.41 27.2059 L2030.41 72.576 L2022.95 72.576 L2022.95 27.2059 M2022.95 9.54393 L2030.41 9.54393 L2030.41 18.9825 L2022.95 18.9825 L2022.95 9.54393 Z\" fill=\"#000000\" fill-rule=\"nonzero\" fill-opacity=\"1\" /><path clip-path=\"url(#clip250)\" d=\"M2068.97 9.54393 L2068.97 15.7418 L2061.84 15.7418 Q2057.83 15.7418 2056.25 17.3622 Q2054.71 18.9825 2054.71 23.1955 L2054.71 27.2059 L2066.99 27.2059 L2066.99 32.9987 L2054.71 32.9987 L2054.71 72.576 L2047.22 72.576 L2047.22 32.9987 L2040.09 32.9987 L2040.09 27.2059 L2047.22 27.2059 L2047.22 24.0462 Q2047.22 16.471 2050.74 13.0277 Q2054.27 9.54393 2061.92 9.54393 L2068.97 9.54393 Z\" fill=\"#000000\" fill-rule=\"nonzero\" fill-opacity=\"1\" /><path clip-path=\"url(#clip250)\" d=\"M2092.63 76.7889 Q2089.47 84.8907 2086.47 87.3618 Q2083.47 89.8329 2078.45 89.8329 L2072.5 89.8329 L2072.5 83.5945 L2076.87 83.5945 Q2079.95 83.5945 2081.65 82.1361 Q2083.35 80.6778 2085.42 75.2496 L2086.76 71.8468 L2068.41 27.2059 L2076.3 27.2059 L2090.48 62.6918 L2104.66 27.2059 L2112.56 27.2059 L2092.63 76.7889 Z\" fill=\"#000000\" fill-rule=\"nonzero\" fill-opacity=\"1\" /><path clip-path=\"url(#clip250)\" d=\"M2145.82 9.54393 L2145.82 15.7418 L2138.69 15.7418 Q2134.68 15.7418 2133.1 17.3622 Q2131.56 18.9825 2131.56 23.1955 L2131.56 27.2059 L2143.83 27.2059 L2143.83 32.9987 L2131.56 32.9987 L2131.56 72.576 L2124.06 72.576 L2124.06 32.9987 L2116.94 32.9987 L2116.94 27.2059 L2124.06 27.2059 L2124.06 24.0462 Q2124.06 16.471 2127.59 13.0277 Q2131.11 9.54393 2138.77 9.54393 L2145.82 9.54393 Z\" fill=\"#000000\" fill-rule=\"nonzero\" fill-opacity=\"1\" /><path clip-path=\"url(#clip250)\" d=\"M2175.03 9.54393 L2175.03 15.7418 L2167.9 15.7418 Q2163.89 15.7418 2162.31 17.3622 Q2160.77 18.9825 2160.77 23.1955 L2160.77 27.2059 L2173.04 27.2059 L2173.04 32.9987 L2160.77 32.9987 L2160.77 72.576 L2153.27 72.576 L2153.27 32.9987 L2146.14 32.9987 L2146.14 27.2059 L2153.27 27.2059 L2153.27 24.0462 Q2153.27 16.471 2156.8 13.0277 Q2160.32 9.54393 2167.98 9.54393 L2175.03 9.54393 Z\" fill=\"#000000\" fill-rule=\"nonzero\" fill-opacity=\"1\" /><path clip-path=\"url(#clip250)\" d=\"M2187.18 14.324 L2187.18 27.2059 L2202.53 27.2059 L2202.53 32.9987 L2187.18 32.9987 L2187.18 57.6282 Q2187.18 63.1779 2188.68 64.7578 Q2190.22 66.3376 2194.87 66.3376 L2202.53 66.3376 L2202.53 72.576 L2194.87 72.576 Q2186.25 72.576 2182.96 69.3758 Q2179.68 66.1351 2179.68 57.6282 L2179.68 32.9987 L2174.22 32.9987 L2174.22 27.2059 L2179.68 27.2059 L2179.68 14.324 L2187.18 14.324 Z\" fill=\"#000000\" fill-rule=\"nonzero\" fill-opacity=\"1\" /><circle clip-path=\"url(#clip252)\" cx=\"380.67\" cy=\"1386.4\" r=\"14.4\" fill=\"#009af9\" fill-rule=\"evenodd\" fill-opacity=\"1\" stroke=\"#000000\" stroke-opacity=\"1\" stroke-width=\"3.2\"/>\n",
       "<circle clip-path=\"url(#clip252)\" cx=\"588.258\" cy=\"1267.03\" r=\"14.4\" fill=\"#009af9\" fill-rule=\"evenodd\" fill-opacity=\"1\" stroke=\"#000000\" stroke-opacity=\"1\" stroke-width=\"3.2\"/>\n",
       "<circle clip-path=\"url(#clip252)\" cx=\"795.846\" cy=\"1180.7\" r=\"14.4\" fill=\"#009af9\" fill-rule=\"evenodd\" fill-opacity=\"1\" stroke=\"#000000\" stroke-opacity=\"1\" stroke-width=\"3.2\"/>\n",
       "<circle clip-path=\"url(#clip252)\" cx=\"1003.43\" cy=\"1087.05\" r=\"14.4\" fill=\"#009af9\" fill-rule=\"evenodd\" fill-opacity=\"1\" stroke=\"#000000\" stroke-opacity=\"1\" stroke-width=\"3.2\"/>\n",
       "<circle clip-path=\"url(#clip252)\" cx=\"1211.02\" cy=\"981.757\" r=\"14.4\" fill=\"#009af9\" fill-rule=\"evenodd\" fill-opacity=\"1\" stroke=\"#000000\" stroke-opacity=\"1\" stroke-width=\"3.2\"/>\n",
       "<circle clip-path=\"url(#clip252)\" cx=\"1418.61\" cy=\"892.316\" r=\"14.4\" fill=\"#009af9\" fill-rule=\"evenodd\" fill-opacity=\"1\" stroke=\"#000000\" stroke-opacity=\"1\" stroke-width=\"3.2\"/>\n",
       "<circle clip-path=\"url(#clip252)\" cx=\"1626.2\" cy=\"791.982\" r=\"14.4\" fill=\"#009af9\" fill-rule=\"evenodd\" fill-opacity=\"1\" stroke=\"#000000\" stroke-opacity=\"1\" stroke-width=\"3.2\"/>\n",
       "<circle clip-path=\"url(#clip252)\" cx=\"1833.79\" cy=\"692.772\" r=\"14.4\" fill=\"#009af9\" fill-rule=\"evenodd\" fill-opacity=\"1\" stroke=\"#000000\" stroke-opacity=\"1\" stroke-width=\"3.2\"/>\n",
       "<circle clip-path=\"url(#clip252)\" cx=\"2041.37\" cy=\"594.21\" r=\"14.4\" fill=\"#009af9\" fill-rule=\"evenodd\" fill-opacity=\"1\" stroke=\"#000000\" stroke-opacity=\"1\" stroke-width=\"3.2\"/>\n",
       "<circle clip-path=\"url(#clip252)\" cx=\"2248.96\" cy=\"495.305\" r=\"14.4\" fill=\"#009af9\" fill-rule=\"evenodd\" fill-opacity=\"1\" stroke=\"#000000\" stroke-opacity=\"1\" stroke-width=\"3.2\"/>\n",
       "<circle clip-path=\"url(#clip252)\" cx=\"380.67\" cy=\"1386.4\" r=\"14.4\" fill=\"#e26f46\" fill-rule=\"evenodd\" fill-opacity=\"1\" stroke=\"#000000\" stroke-opacity=\"1\" stroke-width=\"3.2\"/>\n",
       "<circle clip-path=\"url(#clip252)\" cx=\"588.258\" cy=\"1171.85\" r=\"14.4\" fill=\"#e26f46\" fill-rule=\"evenodd\" fill-opacity=\"1\" stroke=\"#000000\" stroke-opacity=\"1\" stroke-width=\"3.2\"/>\n",
       "<circle clip-path=\"url(#clip252)\" cx=\"795.846\" cy=\"1036.49\" r=\"14.4\" fill=\"#e26f46\" fill-rule=\"evenodd\" fill-opacity=\"1\" stroke=\"#000000\" stroke-opacity=\"1\" stroke-width=\"3.2\"/>\n",
       "<circle clip-path=\"url(#clip252)\" cx=\"1003.43\" cy=\"903.491\" r=\"14.4\" fill=\"#e26f46\" fill-rule=\"evenodd\" fill-opacity=\"1\" stroke=\"#000000\" stroke-opacity=\"1\" stroke-width=\"3.2\"/>\n",
       "<circle clip-path=\"url(#clip252)\" cx=\"1211.02\" cy=\"790.968\" r=\"14.4\" fill=\"#e26f46\" fill-rule=\"evenodd\" fill-opacity=\"1\" stroke=\"#000000\" stroke-opacity=\"1\" stroke-width=\"3.2\"/>\n",
       "<circle clip-path=\"url(#clip252)\" cx=\"1418.61\" cy=\"656.483\" r=\"14.4\" fill=\"#e26f46\" fill-rule=\"evenodd\" fill-opacity=\"1\" stroke=\"#000000\" stroke-opacity=\"1\" stroke-width=\"3.2\"/>\n",
       "<circle clip-path=\"url(#clip252)\" cx=\"1626.2\" cy=\"532.532\" r=\"14.4\" fill=\"#e26f46\" fill-rule=\"evenodd\" fill-opacity=\"1\" stroke=\"#000000\" stroke-opacity=\"1\" stroke-width=\"3.2\"/>\n",
       "<circle clip-path=\"url(#clip252)\" cx=\"1833.79\" cy=\"406.95\" r=\"14.4\" fill=\"#e26f46\" fill-rule=\"evenodd\" fill-opacity=\"1\" stroke=\"#000000\" stroke-opacity=\"1\" stroke-width=\"3.2\"/>\n",
       "<circle clip-path=\"url(#clip252)\" cx=\"2041.37\" cy=\"284.342\" r=\"14.4\" fill=\"#e26f46\" fill-rule=\"evenodd\" fill-opacity=\"1\" stroke=\"#000000\" stroke-opacity=\"1\" stroke-width=\"3.2\"/>\n",
       "<circle clip-path=\"url(#clip252)\" cx=\"2248.96\" cy=\"160.256\" r=\"14.4\" fill=\"#e26f46\" fill-rule=\"evenodd\" fill-opacity=\"1\" stroke=\"#000000\" stroke-opacity=\"1\" stroke-width=\"3.2\"/>\n",
       "<path clip-path=\"url(#clip250)\" d=\"M346.072 322.316 L950.069 322.316 L950.069 166.796 L346.072 166.796  Z\" fill=\"#ffffff\" fill-rule=\"evenodd\" fill-opacity=\"1\"/>\n",
       "<polyline clip-path=\"url(#clip250)\" style=\"stroke:#000000; stroke-linecap:round; stroke-linejoin:round; stroke-width:4; stroke-opacity:1; fill:none\" points=\"346.072,322.316 950.069,322.316 950.069,166.796 346.072,166.796 346.072,322.316 \"/>\n",
       "<circle clip-path=\"url(#clip250)\" cx=\"438.333\" cy=\"218.636\" r=\"20.48\" fill=\"#009af9\" fill-rule=\"evenodd\" fill-opacity=\"1\" stroke=\"#000000\" stroke-opacity=\"1\" stroke-width=\"4.55111\"/>\n",
       "<path clip-path=\"url(#clip250)\" d=\"M530.594 209.99 L535.108 209.99 L543.21 231.749 L551.312 209.99 L555.826 209.99 L546.103 235.916 L540.316 235.916 L530.594 209.99 Z\" fill=\"#000000\" fill-rule=\"nonzero\" fill-opacity=\"1\" /><path clip-path=\"url(#clip250)\" d=\"M583.881 221.888 L583.881 223.971 L564.298 223.971 Q564.576 228.369 566.937 230.684 Q569.321 232.976 573.557 232.976 Q576.011 232.976 578.302 232.374 Q580.617 231.772 582.886 230.569 L582.886 234.596 Q580.594 235.568 578.187 236.078 Q575.779 236.587 573.302 236.587 Q567.099 236.587 563.464 232.976 Q559.853 229.365 559.853 223.207 Q559.853 216.842 563.279 213.115 Q566.728 209.365 572.562 209.365 Q577.793 209.365 580.825 212.745 Q583.881 216.101 583.881 221.888 M579.622 220.638 Q579.575 217.143 577.654 215.059 Q575.756 212.976 572.608 212.976 Q569.043 212.976 566.89 214.99 Q564.761 217.004 564.437 220.661 L579.622 220.638 Z\" fill=\"#000000\" fill-rule=\"nonzero\" fill-opacity=\"1\" /><path clip-path=\"url(#clip250)\" d=\"M605.895 213.971 Q605.177 213.555 604.321 213.37 Q603.487 213.161 602.469 213.161 Q598.858 213.161 596.913 215.522 Q594.992 217.86 594.992 222.258 L594.992 235.916 L590.71 235.916 L590.71 209.99 L594.992 209.99 L594.992 214.018 Q596.335 211.657 598.487 210.522 Q600.64 209.365 603.719 209.365 Q604.159 209.365 604.691 209.434 Q605.223 209.481 605.872 209.596 L605.895 213.971 Z\" fill=\"#000000\" fill-rule=\"nonzero\" fill-opacity=\"1\" /><path clip-path=\"url(#clip250)\" d=\"M610.362 209.99 L614.622 209.99 L614.622 235.916 L610.362 235.916 L610.362 209.99 M610.362 199.897 L614.622 199.897 L614.622 205.291 L610.362 205.291 L610.362 199.897 Z\" fill=\"#000000\" fill-rule=\"nonzero\" fill-opacity=\"1\" /><path clip-path=\"url(#clip250)\" d=\"M636.658 199.897 L636.658 203.439 L632.584 203.439 Q630.293 203.439 629.39 204.365 Q628.51 205.291 628.51 207.698 L628.51 209.99 L635.524 209.99 L635.524 213.3 L628.51 213.3 L628.51 235.916 L624.228 235.916 L624.228 213.3 L620.154 213.3 L620.154 209.99 L624.228 209.99 L624.228 208.184 Q624.228 203.856 626.242 201.888 Q628.256 199.897 632.631 199.897 L636.658 199.897 Z\" fill=\"#000000\" fill-rule=\"nonzero\" fill-opacity=\"1\" /><path clip-path=\"url(#clip250)\" d=\"M650.177 238.323 Q648.371 242.953 646.658 244.365 Q644.945 245.777 642.075 245.777 L638.672 245.777 L638.672 242.212 L641.172 242.212 Q642.932 242.212 643.904 241.379 Q644.876 240.545 646.057 237.443 L646.82 235.499 L636.334 209.99 L640.848 209.99 L648.95 230.268 L657.052 209.99 L661.566 209.99 L650.177 238.323 Z\" fill=\"#000000\" fill-rule=\"nonzero\" fill-opacity=\"1\" /><path clip-path=\"url(#clip250)\" d=\"M680.57 199.897 L680.57 203.439 L676.496 203.439 Q674.205 203.439 673.302 204.365 Q672.422 205.291 672.422 207.698 L672.422 209.99 L679.436 209.99 L679.436 213.3 L672.422 213.3 L672.422 235.916 L668.14 235.916 L668.14 213.3 L664.066 213.3 L664.066 209.99 L668.14 209.99 L668.14 208.184 Q668.14 203.856 670.154 201.888 Q672.168 199.897 676.543 199.897 L680.57 199.897 Z\" fill=\"#000000\" fill-rule=\"nonzero\" fill-opacity=\"1\" /><path clip-path=\"url(#clip250)\" d=\"M697.26 199.897 L697.26 203.439 L693.186 203.439 Q690.894 203.439 689.992 204.365 Q689.112 205.291 689.112 207.698 L689.112 209.99 L696.126 209.99 L696.126 213.3 L689.112 213.3 L689.112 235.916 L684.83 235.916 L684.83 213.3 L680.755 213.3 L680.755 209.99 L684.83 209.99 L684.83 208.184 Q684.83 203.856 686.843 201.888 Q688.857 199.897 693.232 199.897 L697.26 199.897 Z\" fill=\"#000000\" fill-rule=\"nonzero\" fill-opacity=\"1\" /><path clip-path=\"url(#clip250)\" d=\"M704.204 202.629 L704.204 209.99 L712.978 209.99 L712.978 213.3 L704.204 213.3 L704.204 227.374 Q704.204 230.545 705.061 231.448 Q705.941 232.351 708.603 232.351 L712.978 232.351 L712.978 235.916 L708.603 235.916 Q703.672 235.916 701.797 234.087 Q699.922 232.235 699.922 227.374 L699.922 213.3 L696.797 213.3 L696.797 209.99 L699.922 209.99 L699.922 202.629 L704.204 202.629 Z\" fill=\"#000000\" fill-rule=\"nonzero\" fill-opacity=\"1\" /><circle clip-path=\"url(#clip250)\" cx=\"438.333\" cy=\"270.476\" r=\"20.48\" fill=\"#e26f46\" fill-rule=\"evenodd\" fill-opacity=\"1\" stroke=\"#000000\" stroke-opacity=\"1\" stroke-width=\"4.55111\"/>\n",
       "<path clip-path=\"url(#clip250)\" d=\"M549.506 274.492 Q549.506 269.862 547.585 267.316 Q545.687 264.77 542.238 264.77 Q538.812 264.77 536.89 267.316 Q534.992 269.862 534.992 274.492 Q534.992 279.098 536.89 281.645 Q538.812 284.191 542.238 284.191 Q545.687 284.191 547.585 281.645 Q549.506 279.098 549.506 274.492 M553.765 284.538 Q553.765 291.158 550.826 294.376 Q547.886 297.617 541.821 297.617 Q539.576 297.617 537.585 297.27 Q535.594 296.945 533.719 296.251 L533.719 292.108 Q535.594 293.126 537.423 293.612 Q539.252 294.098 541.15 294.098 Q545.34 294.098 547.423 291.899 Q549.506 289.723 549.506 285.302 L549.506 283.196 Q548.187 285.487 546.127 286.621 Q544.066 287.756 541.196 287.756 Q536.428 287.756 533.511 284.121 Q530.594 280.487 530.594 274.492 Q530.594 268.473 533.511 264.839 Q536.428 261.205 541.196 261.205 Q544.066 261.205 546.127 262.339 Q548.187 263.473 549.506 265.765 L549.506 261.83 L553.765 261.83 L553.765 284.538 Z\" fill=\"#000000\" fill-rule=\"nonzero\" fill-opacity=\"1\" /><path clip-path=\"url(#clip250)\" d=\"M584.714 273.728 L584.714 275.811 L565.131 275.811 Q565.409 280.209 567.77 282.524 Q570.154 284.816 574.39 284.816 Q576.844 284.816 579.136 284.214 Q581.45 283.612 583.719 282.409 L583.719 286.436 Q581.427 287.408 579.02 287.918 Q576.612 288.427 574.136 288.427 Q567.932 288.427 564.298 284.816 Q560.687 281.205 560.687 275.047 Q560.687 268.682 564.113 264.955 Q567.562 261.205 573.395 261.205 Q578.626 261.205 581.659 264.585 Q584.714 267.941 584.714 273.728 M580.455 272.478 Q580.409 268.983 578.487 266.899 Q576.589 264.816 573.441 264.816 Q569.876 264.816 567.724 266.83 Q565.594 268.844 565.27 272.501 L580.455 272.478 Z\" fill=\"#000000\" fill-rule=\"nonzero\" fill-opacity=\"1\" /><path clip-path=\"url(#clip250)\" d=\"M613.256 272.108 L613.256 287.756 L608.997 287.756 L608.997 272.247 Q608.997 268.566 607.561 266.737 Q606.126 264.909 603.256 264.909 Q599.807 264.909 597.816 267.108 Q595.825 269.307 595.825 273.103 L595.825 287.756 L591.543 287.756 L591.543 261.83 L595.825 261.83 L595.825 265.858 Q597.353 263.52 599.413 262.362 Q601.497 261.205 604.205 261.205 Q608.673 261.205 610.964 263.983 Q613.256 266.737 613.256 272.108 Z\" fill=\"#000000\" fill-rule=\"nonzero\" fill-opacity=\"1\" /><path clip-path=\"url(#clip250)\" d=\"M643.927 273.728 L643.927 275.811 L624.344 275.811 Q624.621 280.209 626.983 282.524 Q629.367 284.816 633.603 284.816 Q636.057 284.816 638.348 284.214 Q640.663 283.612 642.932 282.409 L642.932 286.436 Q640.64 287.408 638.233 287.918 Q635.825 288.427 633.348 288.427 Q627.145 288.427 623.51 284.816 Q619.899 281.205 619.899 275.047 Q619.899 268.682 623.325 264.955 Q626.774 261.205 632.608 261.205 Q637.839 261.205 640.871 264.585 Q643.927 267.941 643.927 273.728 M639.668 272.478 Q639.621 268.983 637.7 266.899 Q635.802 264.816 632.654 264.816 Q629.089 264.816 626.936 266.83 Q624.807 268.844 624.483 272.501 L639.668 272.478 Z\" fill=\"#000000\" fill-rule=\"nonzero\" fill-opacity=\"1\" /><path clip-path=\"url(#clip250)\" d=\"M665.941 265.811 Q665.223 265.395 664.367 265.21 Q663.533 265.001 662.515 265.001 Q658.904 265.001 656.959 267.362 Q655.038 269.7 655.038 274.098 L655.038 287.756 L650.756 287.756 L650.756 261.83 L655.038 261.83 L655.038 265.858 Q656.381 263.497 658.533 262.362 Q660.686 261.205 663.765 261.205 Q664.205 261.205 664.737 261.274 Q665.269 261.321 665.918 261.436 L665.941 265.811 Z\" fill=\"#000000\" fill-rule=\"nonzero\" fill-opacity=\"1\" /><path clip-path=\"url(#clip250)\" d=\"M670.408 261.83 L674.668 261.83 L674.668 287.756 L670.408 287.756 L670.408 261.83 M670.408 251.737 L674.668 251.737 L674.668 257.131 L670.408 257.131 L670.408 251.737 Z\" fill=\"#000000\" fill-rule=\"nonzero\" fill-opacity=\"1\" /><path clip-path=\"url(#clip250)\" d=\"M702.237 262.825 L702.237 266.807 Q700.431 265.811 698.603 265.325 Q696.797 264.816 694.945 264.816 Q690.802 264.816 688.51 267.455 Q686.218 270.071 686.218 274.816 Q686.218 279.561 688.51 282.2 Q690.802 284.816 694.945 284.816 Q696.797 284.816 698.603 284.33 Q700.431 283.821 702.237 282.825 L702.237 286.76 Q700.454 287.594 698.533 288.01 Q696.635 288.427 694.482 288.427 Q688.626 288.427 685.177 284.746 Q681.728 281.066 681.728 274.816 Q681.728 268.473 685.2 264.839 Q688.695 261.205 694.76 261.205 Q696.728 261.205 698.603 261.622 Q700.478 262.015 702.237 262.825 Z\" fill=\"#000000\" fill-rule=\"nonzero\" fill-opacity=\"1\" /><path clip-path=\"url(#clip250)\" d=\"M729.343 295.626 L729.343 298.936 L704.714 298.936 L704.714 295.626 L729.343 295.626 Z\" fill=\"#000000\" fill-rule=\"nonzero\" fill-opacity=\"1\" /><path clip-path=\"url(#clip250)\" d=\"M746.473 251.737 L746.473 255.279 L742.399 255.279 Q740.107 255.279 739.204 256.205 Q738.325 257.131 738.325 259.538 L738.325 261.83 L745.338 261.83 L745.338 265.14 L738.325 265.14 L738.325 287.756 L734.042 287.756 L734.042 265.14 L729.968 265.14 L729.968 261.83 L734.042 261.83 L734.042 260.024 Q734.042 255.696 736.056 253.728 Q738.07 251.737 742.445 251.737 L746.473 251.737 Z\" fill=\"#000000\" fill-rule=\"nonzero\" fill-opacity=\"1\" /><path clip-path=\"url(#clip250)\" d=\"M763.162 251.737 L763.162 255.279 L759.088 255.279 Q756.797 255.279 755.894 256.205 Q755.014 257.131 755.014 259.538 L755.014 261.83 L762.028 261.83 L762.028 265.14 L755.014 265.14 L755.014 287.756 L750.732 287.756 L750.732 265.14 L746.658 265.14 L746.658 261.83 L750.732 261.83 L750.732 260.024 Q750.732 255.696 752.746 253.728 Q754.76 251.737 759.135 251.737 L763.162 251.737 Z\" fill=\"#000000\" fill-rule=\"nonzero\" fill-opacity=\"1\" /><path clip-path=\"url(#clip250)\" d=\"M770.107 254.469 L770.107 261.83 L778.88 261.83 L778.88 265.14 L770.107 265.14 L770.107 279.214 Q770.107 282.385 770.963 283.288 Q771.843 284.191 774.505 284.191 L778.88 284.191 L778.88 287.756 L774.505 287.756 Q769.574 287.756 767.699 285.927 Q765.824 284.075 765.824 279.214 L765.824 265.14 L762.699 265.14 L762.699 261.83 L765.824 261.83 L765.824 254.469 L770.107 254.469 Z\" fill=\"#000000\" fill-rule=\"nonzero\" fill-opacity=\"1\" /><path clip-path=\"url(#clip250)\" d=\"M804.181 295.626 L804.181 298.936 L779.551 298.936 L779.551 295.626 L804.181 295.626 Z\" fill=\"#000000\" fill-rule=\"nonzero\" fill-opacity=\"1\" /><path clip-path=\"url(#clip250)\" d=\"M812.306 283.867 L812.306 297.617 L808.023 297.617 L808.023 261.83 L812.306 261.83 L812.306 265.765 Q813.648 263.45 815.685 262.339 Q817.745 261.205 820.593 261.205 Q825.315 261.205 828.255 264.955 Q831.218 268.705 831.218 274.816 Q831.218 280.927 828.255 284.677 Q825.315 288.427 820.593 288.427 Q817.745 288.427 815.685 287.316 Q813.648 286.182 812.306 283.867 M826.796 274.816 Q826.796 270.117 824.852 267.455 Q822.931 264.77 819.551 264.77 Q816.171 264.77 814.227 267.455 Q812.306 270.117 812.306 274.816 Q812.306 279.515 814.227 282.2 Q816.171 284.862 819.551 284.862 Q822.931 284.862 824.852 282.2 Q826.796 279.515 826.796 274.816 Z\" fill=\"#000000\" fill-rule=\"nonzero\" fill-opacity=\"1\" /><path clip-path=\"url(#clip250)\" d=\"M848.324 264.816 Q844.898 264.816 842.907 267.501 Q840.917 270.163 840.917 274.816 Q840.917 279.469 842.884 282.154 Q844.875 284.816 848.324 284.816 Q851.727 284.816 853.717 282.131 Q855.708 279.446 855.708 274.816 Q855.708 270.21 853.717 267.524 Q851.727 264.816 848.324 264.816 M848.324 261.205 Q853.88 261.205 857.051 264.816 Q860.222 268.427 860.222 274.816 Q860.222 281.182 857.051 284.816 Q853.88 288.427 848.324 288.427 Q842.745 288.427 839.574 284.816 Q836.426 281.182 836.426 274.816 Q836.426 268.427 839.574 264.816 Q842.745 261.205 848.324 261.205 Z\" fill=\"#000000\" fill-rule=\"nonzero\" fill-opacity=\"1\" /><path clip-path=\"url(#clip250)\" d=\"M864.805 261.83 L869.065 261.83 L874.389 282.061 L879.69 261.83 L884.713 261.83 L890.037 282.061 L895.338 261.83 L899.597 261.83 L892.815 287.756 L887.791 287.756 L882.213 266.506 L876.611 287.756 L871.588 287.756 L864.805 261.83 Z\" fill=\"#000000\" fill-rule=\"nonzero\" fill-opacity=\"1\" /><path clip-path=\"url(#clip250)\" d=\"M910.685 283.821 L927.004 283.821 L927.004 287.756 L905.06 287.756 L905.06 283.821 Q907.722 281.066 912.305 276.436 Q916.912 271.784 918.092 270.441 Q920.338 267.918 921.217 266.182 Q922.12 264.423 922.12 262.733 Q922.12 259.978 920.175 258.242 Q918.254 256.506 915.152 256.506 Q912.953 256.506 910.5 257.27 Q908.069 258.034 905.291 259.585 L905.291 254.862 Q908.115 253.728 910.569 253.149 Q913.023 252.571 915.06 252.571 Q920.43 252.571 923.625 255.256 Q926.819 257.941 926.819 262.432 Q926.819 264.561 926.009 266.483 Q925.222 268.381 923.115 270.973 Q922.537 271.645 919.435 274.862 Q916.333 278.057 910.685 283.821 Z\" fill=\"#000000\" fill-rule=\"nonzero\" fill-opacity=\"1\" /></svg>\n"
      ],
      "text/html": [
       "<?xml version=\"1.0\" encoding=\"utf-8\"?>\n",
       "<svg xmlns=\"http://www.w3.org/2000/svg\" xmlns:xlink=\"http://www.w3.org/1999/xlink\" width=\"600\" height=\"400\" viewBox=\"0 0 2400 1600\">\n",
       "<defs>\n",
       "  <clipPath id=\"clip300\">\n",
       "    <rect x=\"0\" y=\"0\" width=\"2400\" height=\"1600\"/>\n",
       "  </clipPath>\n",
       "</defs>\n",
       "<path clip-path=\"url(#clip300)\" d=\"M0 1600 L2400 1600 L2400 8.88178e-14 L0 8.88178e-14  Z\" fill=\"#ffffff\" fill-rule=\"evenodd\" fill-opacity=\"1\"/>\n",
       "<defs>\n",
       "  <clipPath id=\"clip301\">\n",
       "    <rect x=\"480\" y=\"0\" width=\"1681\" height=\"1600\"/>\n",
       "  </clipPath>\n",
       "</defs>\n",
       "<path clip-path=\"url(#clip300)\" d=\"M276.876 1423.18 L2352.76 1423.18 L2352.76 123.472 L276.876 123.472  Z\" fill=\"#ffffff\" fill-rule=\"evenodd\" fill-opacity=\"1\"/>\n",
       "<defs>\n",
       "  <clipPath id=\"clip302\">\n",
       "    <rect x=\"276\" y=\"123\" width=\"2077\" height=\"1301\"/>\n",
       "  </clipPath>\n",
       "</defs>\n",
       "<polyline clip-path=\"url(#clip302)\" style=\"stroke:#000000; stroke-linecap:round; stroke-linejoin:round; stroke-width:2; stroke-opacity:0.1; fill:none\" points=\"692.052,1423.18 692.052,123.472 \"/>\n",
       "<polyline clip-path=\"url(#clip302)\" style=\"stroke:#000000; stroke-linecap:round; stroke-linejoin:round; stroke-width:2; stroke-opacity:0.1; fill:none\" points=\"1211.02,1423.18 1211.02,123.472 \"/>\n",
       "<polyline clip-path=\"url(#clip302)\" style=\"stroke:#000000; stroke-linecap:round; stroke-linejoin:round; stroke-width:2; stroke-opacity:0.1; fill:none\" points=\"1729.99,1423.18 1729.99,123.472 \"/>\n",
       "<polyline clip-path=\"url(#clip302)\" style=\"stroke:#000000; stroke-linecap:round; stroke-linejoin:round; stroke-width:2; stroke-opacity:0.1; fill:none\" points=\"2248.96,1423.18 2248.96,123.472 \"/>\n",
       "<polyline clip-path=\"url(#clip300)\" style=\"stroke:#000000; stroke-linecap:round; stroke-linejoin:round; stroke-width:4; stroke-opacity:1; fill:none\" points=\"276.876,1423.18 2352.76,1423.18 \"/>\n",
       "<polyline clip-path=\"url(#clip300)\" style=\"stroke:#000000; stroke-linecap:round; stroke-linejoin:round; stroke-width:4; stroke-opacity:1; fill:none\" points=\"692.052,1423.18 692.052,1404.28 \"/>\n",
       "<polyline clip-path=\"url(#clip300)\" style=\"stroke:#000000; stroke-linecap:round; stroke-linejoin:round; stroke-width:4; stroke-opacity:1; fill:none\" points=\"1211.02,1423.18 1211.02,1404.28 \"/>\n",
       "<polyline clip-path=\"url(#clip300)\" style=\"stroke:#000000; stroke-linecap:round; stroke-linejoin:round; stroke-width:4; stroke-opacity:1; fill:none\" points=\"1729.99,1423.18 1729.99,1404.28 \"/>\n",
       "<polyline clip-path=\"url(#clip300)\" style=\"stroke:#000000; stroke-linecap:round; stroke-linejoin:round; stroke-width:4; stroke-opacity:1; fill:none\" points=\"2248.96,1423.18 2248.96,1404.28 \"/>\n",
       "<path clip-path=\"url(#clip300)\" d=\"M682.329 1451.02 L700.686 1451.02 L700.686 1454.96 L686.612 1454.96 L686.612 1463.43 Q687.63 1463.08 688.649 1462.92 Q689.667 1462.73 690.686 1462.73 Q696.473 1462.73 699.852 1465.9 Q703.232 1469.08 703.232 1474.49 Q703.232 1480.07 699.76 1483.17 Q696.288 1486.25 689.968 1486.25 Q687.792 1486.25 685.524 1485.88 Q683.278 1485.51 680.871 1484.77 L680.871 1480.07 Q682.954 1481.2 685.177 1481.76 Q687.399 1482.32 689.876 1482.32 Q693.88 1482.32 696.218 1480.21 Q698.556 1478.1 698.556 1474.49 Q698.556 1470.88 696.218 1468.77 Q693.88 1466.67 689.876 1466.67 Q688.001 1466.67 686.126 1467.08 Q684.274 1467.5 682.329 1468.38 L682.329 1451.02 Z\" fill=\"#000000\" fill-rule=\"nonzero\" fill-opacity=\"1\" /><path clip-path=\"url(#clip300)\" d=\"M1185.71 1481.64 L1193.35 1481.64 L1193.35 1455.28 L1185.04 1456.95 L1185.04 1452.69 L1193.3 1451.02 L1197.98 1451.02 L1197.98 1481.64 L1205.62 1481.64 L1205.62 1485.58 L1185.71 1485.58 L1185.71 1481.64 Z\" fill=\"#000000\" fill-rule=\"nonzero\" fill-opacity=\"1\" /><path clip-path=\"url(#clip300)\" d=\"M1225.06 1454.1 Q1221.45 1454.1 1219.62 1457.66 Q1217.82 1461.2 1217.82 1468.33 Q1217.82 1475.44 1219.62 1479.01 Q1221.45 1482.55 1225.06 1482.55 Q1228.7 1482.55 1230.5 1479.01 Q1232.33 1475.44 1232.33 1468.33 Q1232.33 1461.2 1230.5 1457.66 Q1228.7 1454.1 1225.06 1454.1 M1225.06 1450.39 Q1230.87 1450.39 1233.93 1455 Q1237.01 1459.58 1237.01 1468.33 Q1237.01 1477.06 1233.93 1481.67 Q1230.87 1486.25 1225.06 1486.25 Q1219.25 1486.25 1216.17 1481.67 Q1213.12 1477.06 1213.12 1468.33 Q1213.12 1459.58 1216.17 1455 Q1219.25 1450.39 1225.06 1450.39 Z\" fill=\"#000000\" fill-rule=\"nonzero\" fill-opacity=\"1\" /><path clip-path=\"url(#clip300)\" d=\"M1705.18 1481.64 L1712.82 1481.64 L1712.82 1455.28 L1704.51 1456.95 L1704.51 1452.69 L1712.77 1451.02 L1717.45 1451.02 L1717.45 1481.64 L1725.08 1481.64 L1725.08 1485.58 L1705.18 1485.58 L1705.18 1481.64 Z\" fill=\"#000000\" fill-rule=\"nonzero\" fill-opacity=\"1\" /><path clip-path=\"url(#clip300)\" d=\"M1734.58 1451.02 L1752.93 1451.02 L1752.93 1454.96 L1738.86 1454.96 L1738.86 1463.43 Q1739.88 1463.08 1740.89 1462.92 Q1741.91 1462.73 1742.93 1462.73 Q1748.72 1462.73 1752.1 1465.9 Q1755.48 1469.08 1755.48 1474.49 Q1755.48 1480.07 1752.01 1483.17 Q1748.53 1486.25 1742.21 1486.25 Q1740.04 1486.25 1737.77 1485.88 Q1735.52 1485.51 1733.12 1484.77 L1733.12 1480.07 Q1735.2 1481.2 1737.42 1481.76 Q1739.64 1482.32 1742.12 1482.32 Q1746.13 1482.32 1748.46 1480.21 Q1750.8 1478.1 1750.8 1474.49 Q1750.8 1470.88 1748.46 1468.77 Q1746.13 1466.67 1742.12 1466.67 Q1740.25 1466.67 1738.37 1467.08 Q1736.52 1467.5 1734.58 1468.38 L1734.58 1451.02 Z\" fill=\"#000000\" fill-rule=\"nonzero\" fill-opacity=\"1\" /><path clip-path=\"url(#clip300)\" d=\"M2227.74 1481.64 L2244.05 1481.64 L2244.05 1485.58 L2222.11 1485.58 L2222.11 1481.64 Q2224.77 1478.89 2229.36 1474.26 Q2233.96 1469.61 2235.14 1468.27 Q2237.39 1465.74 2238.27 1464.01 Q2239.17 1462.25 2239.17 1460.56 Q2239.17 1457.8 2237.23 1456.07 Q2235.3 1454.33 2232.2 1454.33 Q2230 1454.33 2227.55 1455.09 Q2225.12 1455.86 2222.34 1457.41 L2222.34 1452.69 Q2225.17 1451.55 2227.62 1450.97 Q2230.07 1450.39 2232.11 1450.39 Q2237.48 1450.39 2240.67 1453.08 Q2243.87 1455.77 2243.87 1460.26 Q2243.87 1462.39 2243.06 1464.31 Q2242.27 1466.2 2240.17 1468.8 Q2239.59 1469.47 2236.49 1472.69 Q2233.38 1475.88 2227.74 1481.64 Z\" fill=\"#000000\" fill-rule=\"nonzero\" fill-opacity=\"1\" /><path clip-path=\"url(#clip300)\" d=\"M2263.87 1454.1 Q2260.26 1454.1 2258.43 1457.66 Q2256.62 1461.2 2256.62 1468.33 Q2256.62 1475.44 2258.43 1479.01 Q2260.26 1482.55 2263.87 1482.55 Q2267.5 1482.55 2269.31 1479.01 Q2271.14 1475.44 2271.14 1468.33 Q2271.14 1461.2 2269.31 1457.66 Q2267.5 1454.1 2263.87 1454.1 M2263.87 1450.39 Q2269.68 1450.39 2272.73 1455 Q2275.81 1459.58 2275.81 1468.33 Q2275.81 1477.06 2272.73 1481.67 Q2269.68 1486.25 2263.87 1486.25 Q2258.06 1486.25 2254.98 1481.67 Q2251.92 1477.06 2251.92 1468.33 Q2251.92 1459.58 2254.98 1455 Q2258.06 1450.39 2263.87 1450.39 Z\" fill=\"#000000\" fill-rule=\"nonzero\" fill-opacity=\"1\" /><path clip-path=\"url(#clip300)\" d=\"M1153.32 1562.7 L1153.32 1581.6 L1147.43 1581.6 L1147.43 1532.4 L1153.32 1532.4 L1153.32 1537.81 Q1155.16 1534.62 1157.96 1533.1 Q1160.8 1531.54 1164.71 1531.54 Q1171.21 1531.54 1175.25 1536.69 Q1179.32 1541.85 1179.32 1550.25 Q1179.32 1558.65 1175.25 1563.81 Q1171.21 1568.97 1164.71 1568.97 Q1160.8 1568.97 1157.96 1567.44 Q1155.16 1565.88 1153.32 1562.7 M1173.24 1550.25 Q1173.24 1543.79 1170.57 1540.13 Q1167.93 1536.44 1163.28 1536.44 Q1158.63 1536.44 1155.96 1540.13 Q1153.32 1543.79 1153.32 1550.25 Q1153.32 1556.71 1155.96 1560.4 Q1158.63 1564.07 1163.28 1564.07 Q1167.93 1564.07 1170.57 1560.4 Q1173.24 1556.71 1173.24 1550.25 Z\" fill=\"#000000\" fill-rule=\"nonzero\" fill-opacity=\"1\" /><path clip-path=\"url(#clip300)\" d=\"M1202.84 1536.5 Q1198.13 1536.5 1195.4 1540.19 Q1192.66 1543.85 1192.66 1550.25 Q1192.66 1556.65 1195.36 1560.34 Q1198.1 1564 1202.84 1564 Q1207.52 1564 1210.26 1560.31 Q1213 1556.62 1213 1550.25 Q1213 1543.92 1210.26 1540.23 Q1207.52 1536.5 1202.84 1536.5 M1202.84 1531.54 Q1210.48 1531.54 1214.84 1536.5 Q1219.2 1541.47 1219.2 1550.25 Q1219.2 1559 1214.84 1564 Q1210.48 1568.97 1202.84 1568.97 Q1195.17 1568.97 1190.81 1564 Q1186.48 1559 1186.48 1550.25 Q1186.48 1541.47 1190.81 1536.5 Q1195.17 1531.54 1202.84 1531.54 Z\" fill=\"#000000\" fill-rule=\"nonzero\" fill-opacity=\"1\" /><path clip-path=\"url(#clip300)\" d=\"M1225.5 1532.4 L1231.36 1532.4 L1238.68 1560.21 L1245.97 1532.4 L1252.88 1532.4 L1260.2 1560.21 L1267.49 1532.4 L1273.34 1532.4 L1264.02 1568.04 L1257.11 1568.04 L1249.44 1538.83 L1241.74 1568.04 L1234.83 1568.04 L1225.5 1532.4 Z\" fill=\"#000000\" fill-rule=\"nonzero\" fill-opacity=\"1\" /><path clip-path=\"url(#clip300)\" d=\"M1312.72 1548.76 L1312.72 1551.62 L1285.79 1551.62 Q1286.17 1557.67 1289.42 1560.85 Q1292.69 1564 1298.52 1564 Q1301.89 1564 1305.04 1563.17 Q1308.23 1562.35 1311.35 1560.69 L1311.35 1566.23 Q1308.2 1567.57 1304.89 1568.27 Q1301.58 1568.97 1298.17 1568.97 Q1289.64 1568.97 1284.64 1564 Q1279.68 1559.04 1279.68 1550.57 Q1279.68 1541.82 1284.39 1536.69 Q1289.13 1531.54 1297.15 1531.54 Q1304.34 1531.54 1308.51 1536.18 Q1312.72 1540.8 1312.72 1548.76 M1306.86 1547.04 Q1306.79 1542.23 1304.15 1539.37 Q1301.54 1536.5 1297.21 1536.5 Q1292.31 1536.5 1289.35 1539.27 Q1286.42 1542.04 1285.98 1547.07 L1306.86 1547.04 Z\" fill=\"#000000\" fill-rule=\"nonzero\" fill-opacity=\"1\" /><path clip-path=\"url(#clip300)\" d=\"M1342.98 1537.87 Q1342 1537.3 1340.82 1537.04 Q1339.67 1536.76 1338.27 1536.76 Q1333.31 1536.76 1330.63 1540 Q1327.99 1543.22 1327.99 1549.27 L1327.99 1568.04 L1322.1 1568.04 L1322.1 1532.4 L1327.99 1532.4 L1327.99 1537.93 Q1329.84 1534.69 1332.8 1533.13 Q1335.76 1531.54 1339.99 1531.54 Q1340.6 1531.54 1341.33 1531.63 Q1342.06 1531.7 1342.95 1531.85 L1342.98 1537.87 Z\" fill=\"#000000\" fill-rule=\"nonzero\" fill-opacity=\"1\" /><path clip-path=\"url(#clip300)\" d=\"M1383.66 1536.5 Q1378.95 1536.5 1376.21 1540.19 Q1373.48 1543.85 1373.48 1550.25 Q1373.48 1556.65 1376.18 1560.34 Q1378.92 1564 1383.66 1564 Q1388.34 1564 1391.08 1560.31 Q1393.81 1556.62 1393.81 1550.25 Q1393.81 1543.92 1391.08 1540.23 Q1388.34 1536.5 1383.66 1536.5 M1383.66 1531.54 Q1391.3 1531.54 1395.66 1536.5 Q1400.02 1541.47 1400.02 1550.25 Q1400.02 1559 1395.66 1564 Q1391.3 1568.97 1383.66 1568.97 Q1375.99 1568.97 1371.63 1564 Q1367.3 1559 1367.3 1550.25 Q1367.3 1541.47 1371.63 1536.5 Q1375.99 1531.54 1383.66 1531.54 Z\" fill=\"#000000\" fill-rule=\"nonzero\" fill-opacity=\"1\" /><path clip-path=\"url(#clip300)\" d=\"M1427.78 1518.52 L1427.78 1523.39 L1422.17 1523.39 Q1419.02 1523.39 1417.78 1524.66 Q1416.57 1525.93 1416.57 1529.24 L1416.57 1532.4 L1426.22 1532.4 L1426.22 1536.95 L1416.57 1536.95 L1416.57 1568.04 L1410.68 1568.04 L1410.68 1536.95 L1405.08 1536.95 L1405.08 1532.4 L1410.68 1532.4 L1410.68 1529.91 Q1410.68 1523.96 1413.45 1521.26 Q1416.22 1518.52 1422.24 1518.52 L1427.78 1518.52 Z\" fill=\"#000000\" fill-rule=\"nonzero\" fill-opacity=\"1\" /><path clip-path=\"url(#clip300)\" d=\"M1459.76 1562.63 L1482.2 1562.63 L1482.2 1568.04 L1452.03 1568.04 L1452.03 1562.63 Q1455.69 1558.85 1461.99 1552.48 Q1468.32 1546.08 1469.95 1544.24 Q1473.04 1540.77 1474.24 1538.38 Q1475.49 1535.96 1475.49 1533.64 Q1475.49 1529.85 1472.81 1527.46 Q1470.17 1525.08 1465.91 1525.08 Q1462.88 1525.08 1459.51 1526.13 Q1456.17 1527.18 1452.35 1529.31 L1452.35 1522.82 Q1456.23 1521.26 1459.6 1520.46 Q1462.98 1519.66 1465.78 1519.66 Q1473.16 1519.66 1477.55 1523.36 Q1481.95 1527.05 1481.95 1533.22 Q1481.95 1536.15 1480.83 1538.79 Q1479.75 1541.4 1476.85 1544.97 Q1476.06 1545.89 1471.79 1550.32 Q1467.53 1554.71 1459.76 1562.63 Z\" fill=\"#000000\" fill-rule=\"nonzero\" fill-opacity=\"1\" /><polyline clip-path=\"url(#clip302)\" style=\"stroke:#000000; stroke-linecap:round; stroke-linejoin:round; stroke-width:2; stroke-opacity:0.1; fill:none\" points=\"276.876,1339.8 2352.76,1339.8 \"/>\n",
       "<polyline clip-path=\"url(#clip302)\" style=\"stroke:#000000; stroke-linecap:round; stroke-linejoin:round; stroke-width:2; stroke-opacity:0.1; fill:none\" points=\"276.876,678.94 2352.76,678.94 \"/>\n",
       "<polyline clip-path=\"url(#clip300)\" style=\"stroke:#000000; stroke-linecap:round; stroke-linejoin:round; stroke-width:4; stroke-opacity:1; fill:none\" points=\"276.876,1423.18 276.876,123.472 \"/>\n",
       "<polyline clip-path=\"url(#clip300)\" style=\"stroke:#000000; stroke-linecap:round; stroke-linejoin:round; stroke-width:4; stroke-opacity:1; fill:none\" points=\"276.876,1339.8 295.773,1339.8 \"/>\n",
       "<polyline clip-path=\"url(#clip300)\" style=\"stroke:#000000; stroke-linecap:round; stroke-linejoin:round; stroke-width:4; stroke-opacity:1; fill:none\" points=\"276.876,678.94 295.773,678.94 \"/>\n",
       "<path clip-path=\"url(#clip300)\" d=\"M115.74 1359.59 L123.379 1359.59 L123.379 1333.23 L115.069 1334.89 L115.069 1330.64 L123.333 1328.97 L128.009 1328.97 L128.009 1359.59 L135.647 1359.59 L135.647 1363.53 L115.74 1363.53 L115.74 1359.59 Z\" fill=\"#000000\" fill-rule=\"nonzero\" fill-opacity=\"1\" /><path clip-path=\"url(#clip300)\" d=\"M155.092 1332.05 Q151.481 1332.05 149.652 1335.61 Q147.846 1339.15 147.846 1346.28 Q147.846 1353.39 149.652 1356.95 Q151.481 1360.5 155.092 1360.5 Q158.726 1360.5 160.532 1356.95 Q162.36 1353.39 162.36 1346.28 Q162.36 1339.15 160.532 1335.61 Q158.726 1332.05 155.092 1332.05 M155.092 1328.34 Q160.902 1328.34 163.958 1332.95 Q167.036 1337.53 167.036 1346.28 Q167.036 1355.01 163.958 1359.62 Q160.902 1364.2 155.092 1364.2 Q149.282 1364.2 146.203 1359.62 Q143.147 1355.01 143.147 1346.28 Q143.147 1337.53 146.203 1332.95 Q149.282 1328.34 155.092 1328.34 Z\" fill=\"#000000\" fill-rule=\"nonzero\" fill-opacity=\"1\" /><path clip-path=\"url(#clip300)\" d=\"M167.036 1322.44 L191.148 1322.44 L191.148 1325.64 L167.036 1325.64 L167.036 1322.44 Z\" fill=\"#000000\" fill-rule=\"nonzero\" fill-opacity=\"1\" /><path clip-path=\"url(#clip300)\" d=\"M200.006 1332.92 L206.213 1332.92 L206.213 1311.5 L199.461 1312.85 L199.461 1309.39 L206.175 1308.04 L209.974 1308.04 L209.974 1332.92 L216.181 1332.92 L216.181 1336.12 L200.006 1336.12 L200.006 1332.92 Z\" fill=\"#000000\" fill-rule=\"nonzero\" fill-opacity=\"1\" /><path clip-path=\"url(#clip300)\" d=\"M223.892 1308.04 L238.807 1308.04 L238.807 1311.24 L227.372 1311.24 L227.372 1318.12 Q228.199 1317.84 229.027 1317.71 Q229.854 1317.55 230.682 1317.55 Q235.384 1317.55 238.13 1320.13 Q240.876 1322.71 240.876 1327.11 Q240.876 1331.64 238.054 1334.16 Q235.233 1336.66 230.099 1336.66 Q228.331 1336.66 226.488 1336.36 Q224.663 1336.06 222.707 1335.46 L222.707 1331.64 Q224.4 1332.56 226.205 1333.01 Q228.011 1333.47 230.023 1333.47 Q233.277 1333.47 235.177 1331.75 Q237.076 1330.04 237.076 1327.11 Q237.076 1324.18 235.177 1322.46 Q233.277 1320.75 230.023 1320.75 Q228.5 1320.75 226.977 1321.09 Q225.472 1321.43 223.892 1322.14 L223.892 1308.04 Z\" fill=\"#000000\" fill-rule=\"nonzero\" fill-opacity=\"1\" /><path clip-path=\"url(#clip300)\" d=\"M114.931 698.732 L122.57 698.732 L122.57 672.367 L114.26 674.033 L114.26 669.774 L122.524 668.107 L127.2 668.107 L127.2 698.732 L134.839 698.732 L134.839 702.667 L114.931 702.667 L114.931 698.732 Z\" fill=\"#000000\" fill-rule=\"nonzero\" fill-opacity=\"1\" /><path clip-path=\"url(#clip300)\" d=\"M154.283 671.186 Q150.672 671.186 148.843 674.751 Q147.038 678.292 147.038 685.422 Q147.038 692.528 148.843 696.093 Q150.672 699.635 154.283 699.635 Q157.917 699.635 159.723 696.093 Q161.552 692.528 161.552 685.422 Q161.552 678.292 159.723 674.751 Q157.917 671.186 154.283 671.186 M154.283 667.482 Q160.093 667.482 163.149 672.089 Q166.227 676.672 166.227 685.422 Q166.227 694.149 163.149 698.755 Q160.093 703.339 154.283 703.339 Q148.473 703.339 145.394 698.755 Q142.339 694.149 142.339 685.422 Q142.339 676.672 145.394 672.089 Q148.473 667.482 154.283 667.482 Z\" fill=\"#000000\" fill-rule=\"nonzero\" fill-opacity=\"1\" /><path clip-path=\"url(#clip300)\" d=\"M166.227 661.584 L190.339 661.584 L190.339 664.781 L166.227 664.781 L166.227 661.584 Z\" fill=\"#000000\" fill-rule=\"nonzero\" fill-opacity=\"1\" /><path clip-path=\"url(#clip300)\" d=\"M199.197 672.06 L205.404 672.06 L205.404 650.638 L198.652 651.992 L198.652 648.531 L205.366 647.177 L209.166 647.177 L209.166 672.06 L215.372 672.06 L215.372 675.257 L199.197 675.257 L199.197 672.06 Z\" fill=\"#000000\" fill-rule=\"nonzero\" fill-opacity=\"1\" /><path clip-path=\"url(#clip300)\" d=\"M231.171 649.678 Q228.237 649.678 226.751 652.575 Q225.284 655.452 225.284 661.245 Q225.284 667.019 226.751 669.915 Q228.237 672.793 231.171 672.793 Q234.124 672.793 235.591 669.915 Q237.076 667.019 237.076 661.245 Q237.076 655.452 235.591 652.575 Q234.124 649.678 231.171 649.678 M231.171 646.669 Q235.891 646.669 238.374 650.412 Q240.876 654.136 240.876 661.245 Q240.876 668.336 238.374 672.078 Q235.891 675.802 231.171 675.802 Q226.45 675.802 223.949 672.078 Q221.466 668.336 221.466 661.245 Q221.466 654.136 223.949 650.412 Q226.45 646.669 231.171 646.669 Z\" fill=\"#000000\" fill-rule=\"nonzero\" fill-opacity=\"1\" /><path clip-path=\"url(#clip300)\" d=\"M35.1993 1104.23 Q31.2526 1102.04 29.3747 1098.98 Q27.4968 1095.92 27.4968 1091.79 Q27.4968 1086.22 31.4117 1083.19 Q35.2948 1080.17 42.4881 1080.17 L64.0042 1080.17 L64.0042 1086.06 L42.679 1086.06 Q37.5546 1086.06 35.072 1087.87 Q32.5894 1089.69 32.5894 1093.41 Q32.5894 1097.96 35.6131 1100.6 Q38.6368 1103.24 43.8567 1103.24 L64.0042 1103.24 L64.0042 1109.13 L42.679 1109.13 Q37.5228 1109.13 35.072 1110.95 Q32.5894 1112.76 32.5894 1116.55 Q32.5894 1121.04 35.6449 1123.68 Q38.6686 1126.32 43.8567 1126.32 L64.0042 1126.32 L64.0042 1132.21 L28.3562 1132.21 L28.3562 1126.32 L33.8944 1126.32 Q30.616 1124.32 29.0564 1121.51 Q27.4968 1118.71 27.4968 1114.86 Q27.4968 1110.98 29.4702 1108.27 Q31.4436 1105.54 35.1993 1104.23 Z\" fill=\"#000000\" fill-rule=\"nonzero\" fill-opacity=\"1\" /><path clip-path=\"url(#clip300)\" d=\"M46.0847 1052.29 Q46.0847 1059.38 47.7079 1062.12 Q49.3312 1064.86 53.2461 1064.86 Q56.3653 1064.86 58.2114 1062.82 Q60.0256 1060.75 60.0256 1057.22 Q60.0256 1052.35 56.5881 1049.42 Q53.1188 1046.46 47.3897 1046.46 L46.0847 1046.46 L46.0847 1052.29 M43.6657 1040.61 L64.0042 1040.61 L64.0042 1046.46 L58.5933 1046.46 Q61.8398 1048.47 63.3994 1051.46 Q64.9272 1054.45 64.9272 1058.78 Q64.9272 1064.25 61.8716 1067.5 Q58.7843 1070.72 53.6281 1070.72 Q47.6125 1070.72 44.5569 1066.71 Q41.5014 1062.66 41.5014 1054.67 L41.5014 1046.46 L40.9285 1046.46 Q36.8862 1046.46 34.6901 1049.14 Q32.4621 1051.78 32.4621 1056.58 Q32.4621 1059.64 33.1941 1062.54 Q33.9262 1065.43 35.3903 1068.11 L29.9795 1068.11 Q28.7381 1064.89 28.1334 1061.87 Q27.4968 1058.84 27.4968 1055.98 Q27.4968 1048.24 31.5072 1044.43 Q35.5176 1040.61 43.6657 1040.61 Z\" fill=\"#000000\" fill-rule=\"nonzero\" fill-opacity=\"1\" /><path clip-path=\"url(#clip300)\" d=\"M28.3562 998.911 L45.7028 1011.8 L64.0042 998.242 L64.0042 1005.15 L49.9996 1015.53 L64.0042 1025.9 L64.0042 1032.81 L45.3526 1018.96 L28.3562 1031.63 L28.3562 1024.72 L41.0558 1015.27 L28.3562 1005.82 L28.3562 998.911 Z\" fill=\"#000000\" fill-rule=\"nonzero\" fill-opacity=\"1\" /><path clip-path=\"url(#clip300)\" d=\"M28.3562 989.967 L28.3562 984.11 L64.0042 984.11 L64.0042 989.967 L28.3562 989.967 M14.479 989.967 L14.479 984.11 L21.895 984.11 L21.895 989.967 L14.479 989.967 Z\" fill=\"#000000\" fill-rule=\"nonzero\" fill-opacity=\"1\" /><path clip-path=\"url(#clip300)\" d=\"M35.1993 944.102 Q31.2526 941.906 29.3747 938.85 Q27.4968 935.795 27.4968 931.657 Q27.4968 926.087 31.4117 923.063 Q35.2948 920.04 42.4881 920.04 L64.0042 920.04 L64.0042 925.928 L42.679 925.928 Q37.5546 925.928 35.072 927.742 Q32.5894 929.556 32.5894 933.28 Q32.5894 937.832 35.6131 940.474 Q38.6368 943.115 43.8567 943.115 L64.0042 943.115 L64.0042 949.004 L42.679 949.004 Q37.5228 949.004 35.072 950.818 Q32.5894 952.632 32.5894 956.42 Q32.5894 960.907 35.6449 963.549 Q38.6686 966.191 43.8567 966.191 L64.0042 966.191 L64.0042 972.079 L28.3562 972.079 L28.3562 966.191 L33.8944 966.191 Q30.616 964.186 29.0564 961.385 Q27.4968 958.584 27.4968 954.733 Q27.4968 950.85 29.4702 948.144 Q31.4436 945.407 35.1993 944.102 Z\" fill=\"#000000\" fill-rule=\"nonzero\" fill-opacity=\"1\" /><path clip-path=\"url(#clip300)\" d=\"M49.9359 908.963 L28.3562 908.963 L28.3562 903.107 L49.7131 903.107 Q54.7739 903.107 57.3202 901.133 Q59.8346 899.16 59.8346 895.213 Q59.8346 890.471 56.8109 887.734 Q53.7872 884.965 48.5673 884.965 L28.3562 884.965 L28.3562 879.108 L64.0042 879.108 L64.0042 884.965 L58.5296 884.965 Q61.7762 887.097 63.3676 889.93 Q64.9272 892.731 64.9272 896.455 Q64.9272 902.598 61.1078 905.78 Q57.2883 908.963 49.9359 908.963 M27.4968 894.227 L27.4968 894.227 Z\" fill=\"#000000\" fill-rule=\"nonzero\" fill-opacity=\"1\" /><path clip-path=\"url(#clip300)\" d=\"M35.1993 839.291 Q31.2526 837.094 29.3747 834.039 Q27.4968 830.983 27.4968 826.846 Q27.4968 821.276 31.4117 818.252 Q35.2948 815.228 42.4881 815.228 L64.0042 815.228 L64.0042 821.117 L42.679 821.117 Q37.5546 821.117 35.072 822.931 Q32.5894 824.745 32.5894 828.469 Q32.5894 833.02 35.6131 835.662 Q38.6368 838.304 43.8567 838.304 L64.0042 838.304 L64.0042 844.192 L42.679 844.192 Q37.5228 844.192 35.072 846.006 Q32.5894 847.821 32.5894 851.608 Q32.5894 856.096 35.6449 858.738 Q38.6686 861.38 43.8567 861.38 L64.0042 861.38 L64.0042 867.268 L28.3562 867.268 L28.3562 861.38 L33.8944 861.38 Q30.616 859.374 29.0564 856.574 Q27.4968 853.773 27.4968 849.921 Q27.4968 846.038 29.4702 843.333 Q31.4436 840.596 35.1993 839.291 Z\" fill=\"#000000\" fill-rule=\"nonzero\" fill-opacity=\"1\" /><path clip-path=\"url(#clip300)\" d=\"M33.8307 762.17 Q33.2578 763.157 33.0032 764.334 Q32.7167 765.48 32.7167 766.881 Q32.7167 771.846 35.9632 774.52 Q39.1779 777.161 45.2253 777.161 L64.0042 777.161 L64.0042 783.05 L28.3562 783.05 L28.3562 777.161 L33.8944 777.161 Q30.6479 775.315 29.0883 772.355 Q27.4968 769.395 27.4968 765.162 Q27.4968 764.557 27.5923 763.825 Q27.656 763.093 27.8151 762.202 L33.8307 762.17 Z\" fill=\"#000000\" fill-rule=\"nonzero\" fill-opacity=\"1\" /><path clip-path=\"url(#clip300)\" d=\"M46.0847 739.826 Q46.0847 746.924 47.7079 749.661 Q49.3312 752.399 53.2461 752.399 Q56.3653 752.399 58.2114 750.362 Q60.0256 748.293 60.0256 744.76 Q60.0256 739.89 56.5881 736.962 Q53.1188 734.002 47.3897 734.002 L46.0847 734.002 L46.0847 739.826 M43.6657 728.145 L64.0042 728.145 L64.0042 734.002 L58.5933 734.002 Q61.8398 736.007 63.3994 738.999 Q64.9272 741.991 64.9272 746.319 Q64.9272 751.794 61.8716 755.04 Q58.7843 758.255 53.6281 758.255 Q47.6125 758.255 44.5569 754.245 Q41.5014 750.203 41.5014 742.214 L41.5014 734.002 L40.9285 734.002 Q36.8862 734.002 34.6901 736.675 Q32.4621 739.317 32.4621 744.123 Q32.4621 747.179 33.1941 750.075 Q33.9262 752.972 35.3903 755.645 L29.9795 755.645 Q28.7381 752.431 28.1334 749.407 Q27.4968 746.383 27.4968 743.519 Q27.4968 735.784 31.5072 731.965 Q35.5176 728.145 43.6657 728.145 Z\" fill=\"#000000\" fill-rule=\"nonzero\" fill-opacity=\"1\" /><path clip-path=\"url(#clip300)\" d=\"M33.7671 692.625 L14.479 692.625 L14.479 686.768 L64.0042 686.768 L64.0042 692.625 L58.657 692.625 Q61.8398 694.471 63.3994 697.304 Q64.9272 700.104 64.9272 704.051 Q64.9272 710.512 59.771 714.586 Q54.6147 718.629 46.212 718.629 Q37.8093 718.629 32.6531 714.586 Q27.4968 710.512 27.4968 704.051 Q27.4968 700.104 29.0564 697.304 Q30.5842 694.471 33.7671 692.625 M46.212 712.581 Q52.6732 712.581 56.3653 709.939 Q60.0256 707.266 60.0256 702.619 Q60.0256 697.972 56.3653 695.298 Q52.6732 692.625 46.212 692.625 Q39.7508 692.625 36.0905 695.298 Q32.3984 697.972 32.3984 702.619 Q32.3984 707.266 36.0905 709.939 Q39.7508 712.581 46.212 712.581 Z\" fill=\"#000000\" fill-rule=\"nonzero\" fill-opacity=\"1\" /><path clip-path=\"url(#clip300)\" d=\"M28.3562 674.705 L28.3562 668.849 L64.0042 668.849 L64.0042 674.705 L28.3562 674.705 M14.479 674.705 L14.479 668.849 L21.895 668.849 L21.895 674.705 L14.479 674.705 Z\" fill=\"#000000\" fill-rule=\"nonzero\" fill-opacity=\"1\" /><path clip-path=\"url(#clip300)\" d=\"M49.9359 657.2 L28.3562 657.2 L28.3562 651.343 L49.7131 651.343 Q54.7739 651.343 57.3202 649.37 Q59.8346 647.396 59.8346 643.45 Q59.8346 638.707 56.8109 635.97 Q53.7872 633.201 48.5673 633.201 L28.3562 633.201 L28.3562 627.344 L64.0042 627.344 L64.0042 633.201 L58.5296 633.201 Q61.7762 635.333 63.3676 638.166 Q64.9272 640.967 64.9272 644.691 Q64.9272 650.834 61.1078 654.017 Q57.2883 657.2 49.9359 657.2 M27.4968 642.463 L27.4968 642.463 Z\" fill=\"#000000\" fill-rule=\"nonzero\" fill-opacity=\"1\" /><path clip-path=\"url(#clip300)\" d=\"M29.4065 592.556 L34.9447 592.556 Q33.6716 595.038 33.035 597.712 Q32.3984 600.386 32.3984 603.25 Q32.3984 607.611 33.7352 609.807 Q35.072 611.971 37.7456 611.971 Q39.7826 611.971 40.9603 610.412 Q42.1061 608.852 43.1565 604.141 L43.6021 602.136 Q44.9389 595.898 47.3897 593.288 Q49.8086 590.646 54.1691 590.646 Q59.1344 590.646 62.0308 594.593 Q64.9272 598.508 64.9272 605.383 Q64.9272 608.247 64.3543 611.366 Q63.8132 614.454 62.6992 617.891 L56.6518 617.891 Q58.3387 614.645 59.198 611.494 Q60.0256 608.343 60.0256 605.255 Q60.0256 601.118 58.6251 598.89 Q57.1929 596.662 54.6147 596.662 Q52.2276 596.662 50.9545 598.285 Q49.6813 599.876 48.5037 605.319 L48.0262 607.356 Q46.8804 612.799 44.5251 615.218 Q42.138 617.637 38.0002 617.637 Q32.9713 617.637 30.2341 614.072 Q27.4968 610.507 27.4968 603.95 Q27.4968 600.704 27.9743 597.839 Q28.4517 594.975 29.4065 592.556 Z\" fill=\"#000000\" fill-rule=\"nonzero\" fill-opacity=\"1\" /><path clip-path=\"url(#clip300)\" d=\"M32.4621 546.786 Q32.4621 551.497 36.1542 554.234 Q39.8145 556.972 46.212 556.972 Q52.6095 556.972 56.3017 554.266 Q59.9619 551.529 59.9619 546.786 Q59.9619 542.108 56.2698 539.37 Q52.5777 536.633 46.212 536.633 Q39.8781 536.633 36.186 539.37 Q32.4621 542.108 32.4621 546.786 M27.4968 546.786 Q27.4968 539.148 32.4621 534.787 Q37.4273 530.427 46.212 530.427 Q54.9649 530.427 59.9619 534.787 Q64.9272 539.148 64.9272 546.786 Q64.9272 554.457 59.9619 558.818 Q54.9649 563.146 46.212 563.146 Q37.4273 563.146 32.4621 558.818 Q27.4968 554.457 27.4968 546.786 Z\" fill=\"#000000\" fill-rule=\"nonzero\" fill-opacity=\"1\" /><path clip-path=\"url(#clip300)\" d=\"M14.479 502.672 L19.3487 502.672 L19.3487 508.274 Q19.3487 511.425 20.6219 512.666 Q21.895 513.876 25.2052 513.876 L28.3562 513.876 L28.3562 504.232 L32.9077 504.232 L32.9077 513.876 L64.0042 513.876 L64.0042 519.764 L32.9077 519.764 L32.9077 525.366 L28.3562 525.366 L28.3562 519.764 L25.8736 519.764 Q19.9216 519.764 17.2162 516.995 Q14.479 514.226 14.479 508.21 L14.479 502.672 Z\" fill=\"#000000\" fill-rule=\"nonzero\" fill-opacity=\"1\" /><path clip-path=\"url(#clip300)\" d=\"M14.479 459.003 L19.3487 459.003 L19.3487 464.605 Q19.3487 467.756 20.6219 468.997 Q21.895 470.207 25.2052 470.207 L28.3562 470.207 L28.3562 460.563 L32.9077 460.563 L32.9077 470.207 L64.0042 470.207 L64.0042 476.095 L32.9077 476.095 L32.9077 481.697 L28.3562 481.697 L28.3562 476.095 L25.8736 476.095 Q19.9216 476.095 17.2162 473.326 Q14.479 470.557 14.479 464.541 L14.479 459.003 Z\" fill=\"#000000\" fill-rule=\"nonzero\" fill-opacity=\"1\" /><path clip-path=\"url(#clip300)\" d=\"M14.479 436.055 L19.3487 436.055 L19.3487 441.657 Q19.3487 444.808 20.6219 446.049 Q21.895 447.259 25.2052 447.259 L28.3562 447.259 L28.3562 437.615 L32.9077 437.615 L32.9077 447.259 L64.0042 447.259 L64.0042 453.147 L32.9077 453.147 L32.9077 458.749 L28.3562 458.749 L28.3562 453.147 L25.8736 453.147 Q19.9216 453.147 17.2162 450.378 Q14.479 447.609 14.479 441.593 L14.479 436.055 Z\" fill=\"#000000\" fill-rule=\"nonzero\" fill-opacity=\"1\" /><path clip-path=\"url(#clip300)\" d=\"M18.2347 426.506 L28.3562 426.506 L28.3562 414.443 L32.9077 414.443 L32.9077 426.506 L52.2594 426.506 Q56.6199 426.506 57.8613 425.329 Q59.1026 424.119 59.1026 420.459 L59.1026 414.443 L64.0042 414.443 L64.0042 420.459 Q64.0042 427.238 61.4897 429.817 Q58.9434 432.395 52.2594 432.395 L32.9077 432.395 L32.9077 436.692 L28.3562 436.692 L28.3562 432.395 L18.2347 432.395 L18.2347 426.506 Z\" fill=\"#000000\" fill-rule=\"nonzero\" fill-opacity=\"1\" /><path clip-path=\"url(#clip300)\" d=\"M475.873 16.7545 L475.873 25.383 Q471.742 21.5346 467.042 19.6307 Q462.384 17.7268 457.118 17.7268 Q446.747 17.7268 441.238 24.0867 Q435.729 30.4061 435.729 42.3968 Q435.729 54.3469 441.238 60.7069 Q446.747 67.0263 457.118 67.0263 Q462.384 67.0263 467.042 65.1223 Q471.742 63.2184 475.873 59.3701 L475.873 67.9175 Q471.579 70.8341 466.759 72.2924 Q461.979 73.7508 456.632 73.7508 Q442.899 73.7508 435 65.3654 Q427.101 56.9395 427.101 42.3968 Q427.101 27.8135 435 19.4281 Q442.899 11.0023 456.632 11.0023 Q462.06 11.0023 466.84 12.4606 Q471.661 13.8784 475.873 16.7545 Z\" fill=\"#000000\" fill-rule=\"nonzero\" fill-opacity=\"1\" /><path clip-path=\"url(#clip300)\" d=\"M505.769 32.4315 Q499.774 32.4315 496.29 37.1306 Q492.806 41.7891 492.806 49.9314 Q492.806 58.0738 496.249 62.7728 Q499.733 67.4314 505.769 67.4314 Q511.724 67.4314 515.208 62.7323 Q518.692 58.0333 518.692 49.9314 Q518.692 41.8701 515.208 37.1711 Q511.724 32.4315 505.769 32.4315 M505.769 26.1121 Q515.491 26.1121 521.041 32.4315 Q526.591 38.7509 526.591 49.9314 Q526.591 61.0714 521.041 67.4314 Q515.491 73.7508 505.769 73.7508 Q496.006 73.7508 490.457 67.4314 Q484.947 61.0714 484.947 49.9314 Q484.947 38.7509 490.457 32.4315 Q496.006 26.1121 505.769 26.1121 Z\" fill=\"#000000\" fill-rule=\"nonzero\" fill-opacity=\"1\" /><path clip-path=\"url(#clip300)\" d=\"M574.27 35.9153 Q577.065 30.8922 580.954 28.5022 Q584.843 26.1121 590.109 26.1121 Q597.198 26.1121 601.046 31.0947 Q604.895 36.0368 604.895 45.1919 L604.895 72.576 L597.401 72.576 L597.401 45.4349 Q597.401 38.913 595.092 35.7533 Q592.783 32.5936 588.043 32.5936 Q582.25 32.5936 578.888 36.4419 Q575.526 40.2903 575.526 46.9338 L575.526 72.576 L568.032 72.576 L568.032 45.4349 Q568.032 38.8725 565.722 35.7533 Q563.413 32.5936 558.593 32.5936 Q552.881 32.5936 549.519 36.4824 Q546.157 40.3308 546.157 46.9338 L546.157 72.576 L538.662 72.576 L538.662 27.2059 L546.157 27.2059 L546.157 34.2544 Q548.709 30.082 552.273 28.0971 Q555.838 26.1121 560.74 26.1121 Q565.682 26.1121 569.125 28.6237 Q572.609 31.1352 574.27 35.9153 Z\" fill=\"#000000\" fill-rule=\"nonzero\" fill-opacity=\"1\" /><path clip-path=\"url(#clip300)\" d=\"M626.972 65.7705 L626.972 89.8329 L619.478 89.8329 L619.478 27.2059 L626.972 27.2059 L626.972 34.0924 Q629.322 30.0415 632.886 28.0971 Q636.492 26.1121 641.474 26.1121 Q649.738 26.1121 654.883 32.6746 Q660.068 39.2371 660.068 49.9314 Q660.068 60.6258 654.883 67.1883 Q649.738 73.7508 641.474 73.7508 Q636.492 73.7508 632.886 71.8063 Q629.322 69.8214 626.972 65.7705 M652.331 49.9314 Q652.331 41.7081 648.928 37.0496 Q645.566 32.3505 639.652 32.3505 Q633.737 32.3505 630.334 37.0496 Q626.972 41.7081 626.972 49.9314 Q626.972 58.1548 630.334 62.8538 Q633.737 67.5124 639.652 67.5124 Q645.566 67.5124 648.928 62.8538 Q652.331 58.1548 652.331 49.9314 Z\" fill=\"#000000\" fill-rule=\"nonzero\" fill-opacity=\"1\" /><path clip-path=\"url(#clip300)\" d=\"M693.042 49.7694 Q684.009 49.7694 680.525 51.8354 Q677.041 53.9013 677.041 58.8839 Q677.041 62.8538 679.634 65.2034 Q682.267 67.5124 686.764 67.5124 Q692.961 67.5124 696.688 63.1374 Q700.456 58.7219 700.456 51.4303 L700.456 49.7694 L693.042 49.7694 M707.909 46.6907 L707.909 72.576 L700.456 72.576 L700.456 65.6895 Q697.904 69.8214 694.096 71.8063 Q690.288 73.7508 684.779 73.7508 Q677.811 73.7508 673.679 69.8619 Q669.588 65.9325 669.588 59.3701 Q669.588 51.7138 674.692 47.825 Q679.836 43.9361 690.004 43.9361 L700.456 43.9361 L700.456 43.2069 Q700.456 38.0623 697.053 35.2672 Q693.691 32.4315 687.574 32.4315 Q683.685 32.4315 679.999 33.3632 Q676.312 34.295 672.909 36.1584 L672.909 29.2718 Q677.001 27.692 680.849 26.9223 Q684.698 26.1121 688.343 26.1121 Q698.187 26.1121 703.048 31.2163 Q707.909 36.3204 707.909 46.6907 Z\" fill=\"#000000\" fill-rule=\"nonzero\" fill-opacity=\"1\" /><path clip-path=\"url(#clip300)\" d=\"M749.553 34.1734 Q748.297 33.4443 746.798 33.1202 Q745.34 32.7556 743.557 32.7556 Q737.238 32.7556 733.835 36.8875 Q730.473 40.9789 730.473 48.6757 L730.473 72.576 L722.979 72.576 L722.979 27.2059 L730.473 27.2059 L730.473 34.2544 Q732.822 30.1225 736.59 28.1376 Q740.357 26.1121 745.745 26.1121 Q746.514 26.1121 747.446 26.2337 Q748.378 26.3147 749.512 26.5172 L749.553 34.1734 Z\" fill=\"#000000\" fill-rule=\"nonzero\" fill-opacity=\"1\" /><path clip-path=\"url(#clip300)\" d=\"M757.371 27.2059 L764.824 27.2059 L764.824 72.576 L757.371 72.576 L757.371 27.2059 M757.371 9.54393 L764.824 9.54393 L764.824 18.9825 L757.371 18.9825 L757.371 9.54393 Z\" fill=\"#000000\" fill-rule=\"nonzero\" fill-opacity=\"1\" /><path clip-path=\"url(#clip300)\" d=\"M809.344 28.5427 L809.344 35.5912 Q806.184 33.9709 802.781 33.1607 Q799.379 32.3505 795.733 32.3505 Q790.183 32.3505 787.388 34.0519 Q784.633 35.7533 784.633 39.156 Q784.633 41.7486 786.618 43.2475 Q788.603 44.7058 794.599 46.0426 L797.151 46.6097 Q805.09 48.3111 808.412 51.4303 Q811.774 54.509 811.774 60.0587 Q811.774 66.3781 806.751 70.0644 Q801.769 73.7508 793.019 73.7508 Q789.373 73.7508 785.403 73.0216 Q781.474 72.3329 777.099 70.9151 L777.099 63.2184 Q781.231 65.3654 785.241 66.4591 Q789.251 67.5124 793.181 67.5124 Q798.447 67.5124 801.283 65.73 Q804.118 63.9071 804.118 60.6258 Q804.118 57.5877 802.052 55.9673 Q800.027 54.3469 793.1 52.8481 L790.507 52.2405 Q783.58 50.7821 780.501 47.7845 Q777.423 44.7463 777.423 39.4801 Q777.423 33.0797 781.96 29.5959 Q786.497 26.1121 794.842 26.1121 Q798.974 26.1121 802.619 26.7198 Q806.265 27.3274 809.344 28.5427 Z\" fill=\"#000000\" fill-rule=\"nonzero\" fill-opacity=\"1\" /><path clip-path=\"url(#clip300)\" d=\"M841.224 32.4315 Q835.229 32.4315 831.745 37.1306 Q828.262 41.7891 828.262 49.9314 Q828.262 58.0738 831.705 62.7728 Q835.189 67.4314 841.224 67.4314 Q847.179 67.4314 850.663 62.7323 Q854.147 58.0333 854.147 49.9314 Q854.147 41.8701 850.663 37.1711 Q847.179 32.4315 841.224 32.4315 M841.224 26.1121 Q850.947 26.1121 856.496 32.4315 Q862.046 38.7509 862.046 49.9314 Q862.046 61.0714 856.496 67.4314 Q850.947 73.7508 841.224 73.7508 Q831.462 73.7508 825.912 67.4314 Q820.403 61.0714 820.403 49.9314 Q820.403 38.7509 825.912 32.4315 Q831.462 26.1121 841.224 26.1121 Z\" fill=\"#000000\" fill-rule=\"nonzero\" fill-opacity=\"1\" /><path clip-path=\"url(#clip300)\" d=\"M912.115 45.1919 L912.115 72.576 L904.662 72.576 L904.662 45.4349 Q904.662 38.994 902.15 35.7938 Q899.639 32.5936 894.615 32.5936 Q888.58 32.5936 885.096 36.4419 Q881.612 40.2903 881.612 46.9338 L881.612 72.576 L874.118 72.576 L874.118 27.2059 L881.612 27.2059 L881.612 34.2544 Q884.286 30.163 887.891 28.1376 Q891.537 26.1121 896.276 26.1121 Q904.095 26.1121 908.105 30.9732 Q912.115 35.7938 912.115 45.1919 Z\" fill=\"#000000\" fill-rule=\"nonzero\" fill-opacity=\"1\" /><path clip-path=\"url(#clip300)\" d=\"M983.209 49.3643 Q983.209 41.2625 979.846 36.8065 Q976.525 32.3505 970.489 32.3505 Q964.494 32.3505 961.131 36.8065 Q957.81 41.2625 957.81 49.3643 Q957.81 57.4256 961.131 61.8816 Q964.494 66.3376 970.489 66.3376 Q976.525 66.3376 979.846 61.8816 Q983.209 57.4256 983.209 49.3643 M990.662 66.9452 Q990.662 78.5308 985.518 84.1616 Q980.373 89.8329 969.76 89.8329 Q965.83 89.8329 962.347 89.2252 Q958.863 88.6581 955.582 87.4428 L955.582 80.1917 Q958.863 81.9741 962.063 82.8248 Q965.263 83.6755 968.585 83.6755 Q975.917 83.6755 979.563 79.8271 Q983.209 76.0193 983.209 68.282 L983.209 64.5957 Q980.9 68.6061 977.294 70.5911 Q973.689 72.576 968.666 72.576 Q960.321 72.576 955.217 66.2161 Q950.113 59.8562 950.113 49.3643 Q950.113 38.832 955.217 32.472 Q960.321 26.1121 968.666 26.1121 Q973.689 26.1121 977.294 28.0971 Q980.9 30.082 983.209 34.0924 L983.209 27.2059 L990.662 27.2059 L990.662 66.9452 Z\" fill=\"#000000\" fill-rule=\"nonzero\" fill-opacity=\"1\" /><path clip-path=\"url(#clip300)\" d=\"M1044.82 48.0275 L1044.82 51.6733 L1010.55 51.6733 Q1011.04 59.3701 1015.17 63.421 Q1019.34 67.4314 1026.76 67.4314 Q1031.05 67.4314 1035.06 66.3781 Q1039.11 65.3249 1043.08 63.2184 L1043.08 70.267 Q1039.07 71.9684 1034.86 72.8596 Q1030.64 73.7508 1026.31 73.7508 Q1015.45 73.7508 1009.09 67.4314 Q1002.77 61.1119 1002.77 50.3365 Q1002.77 39.1965 1008.77 32.6746 Q1014.81 26.1121 1025.01 26.1121 Q1034.17 26.1121 1039.48 32.0264 Q1044.82 37.9003 1044.82 48.0275 M1037.37 45.84 Q1037.29 39.7232 1033.93 36.0774 Q1030.6 32.4315 1025.1 32.4315 Q1018.86 32.4315 1015.09 35.9558 Q1011.36 39.4801 1010.8 45.8805 L1037.37 45.84 Z\" fill=\"#000000\" fill-rule=\"nonzero\" fill-opacity=\"1\" /><path clip-path=\"url(#clip300)\" d=\"M1094.77 45.1919 L1094.77 72.576 L1087.32 72.576 L1087.32 45.4349 Q1087.32 38.994 1084.81 35.7938 Q1082.29 32.5936 1077.27 32.5936 Q1071.23 32.5936 1067.75 36.4419 Q1064.27 40.2903 1064.27 46.9338 L1064.27 72.576 L1056.77 72.576 L1056.77 27.2059 L1064.27 27.2059 L1064.27 34.2544 Q1066.94 30.163 1070.55 28.1376 Q1074.19 26.1121 1078.93 26.1121 Q1086.75 26.1121 1090.76 30.9732 Q1094.77 35.7938 1094.77 45.1919 Z\" fill=\"#000000\" fill-rule=\"nonzero\" fill-opacity=\"1\" /><path clip-path=\"url(#clip300)\" d=\"M1148.45 48.0275 L1148.45 51.6733 L1114.17 51.6733 Q1114.66 59.3701 1118.79 63.421 Q1122.96 67.4314 1130.38 67.4314 Q1134.67 67.4314 1138.68 66.3781 Q1142.73 65.3249 1146.7 63.2184 L1146.7 70.267 Q1142.69 71.9684 1138.48 72.8596 Q1134.27 73.7508 1129.93 73.7508 Q1119.08 73.7508 1112.72 67.4314 Q1106.4 61.1119 1106.4 50.3365 Q1106.4 39.1965 1112.39 32.6746 Q1118.43 26.1121 1128.64 26.1121 Q1137.79 26.1121 1143.1 32.0264 Q1148.45 37.9003 1148.45 48.0275 M1140.99 45.84 Q1140.91 39.7232 1137.55 36.0774 Q1134.23 32.4315 1128.72 32.4315 Q1122.48 32.4315 1118.71 35.9558 Q1114.98 39.4801 1114.42 45.8805 L1140.99 45.84 Z\" fill=\"#000000\" fill-rule=\"nonzero\" fill-opacity=\"1\" /><path clip-path=\"url(#clip300)\" d=\"M1186.97 34.1734 Q1185.71 33.4443 1184.21 33.1202 Q1182.76 32.7556 1180.97 32.7556 Q1174.65 32.7556 1171.25 36.8875 Q1167.89 40.9789 1167.89 48.6757 L1167.89 72.576 L1160.4 72.576 L1160.4 27.2059 L1167.89 27.2059 L1167.89 34.2544 Q1170.24 30.1225 1174.01 28.1376 Q1177.77 26.1121 1183.16 26.1121 Q1183.93 26.1121 1184.86 26.2337 Q1185.79 26.3147 1186.93 26.5172 L1186.97 34.1734 Z\" fill=\"#000000\" fill-rule=\"nonzero\" fill-opacity=\"1\" /><path clip-path=\"url(#clip300)\" d=\"M1194.79 27.2059 L1202.24 27.2059 L1202.24 72.576 L1194.79 72.576 L1194.79 27.2059 M1194.79 9.54393 L1202.24 9.54393 L1202.24 18.9825 L1194.79 18.9825 L1194.79 9.54393 Z\" fill=\"#000000\" fill-rule=\"nonzero\" fill-opacity=\"1\" /><path clip-path=\"url(#clip300)\" d=\"M1250.49 28.9478 L1250.49 35.9153 Q1247.33 34.1734 1244.13 33.3227 Q1240.97 32.4315 1237.73 32.4315 Q1230.48 32.4315 1226.47 37.0496 Q1222.46 41.6271 1222.46 49.9314 Q1222.46 58.2358 1226.47 62.8538 Q1230.48 67.4314 1237.73 67.4314 Q1240.97 67.4314 1244.13 66.5807 Q1247.33 65.6895 1250.49 63.9476 L1250.49 70.8341 Q1247.37 72.2924 1244.01 73.0216 Q1240.68 73.7508 1236.92 73.7508 Q1226.67 73.7508 1220.63 67.3098 Q1214.6 60.8689 1214.6 49.9314 Q1214.6 38.832 1220.67 32.472 Q1226.79 26.1121 1237.4 26.1121 Q1240.85 26.1121 1244.13 26.8413 Q1247.41 27.5299 1250.49 28.9478 Z\" fill=\"#000000\" fill-rule=\"nonzero\" fill-opacity=\"1\" /><path clip-path=\"url(#clip300)\" d=\"M1297.92 86.3491 L1297.92 92.1419 L1254.82 92.1419 L1254.82 86.3491 L1297.92 86.3491 Z\" fill=\"#000000\" fill-rule=\"nonzero\" fill-opacity=\"1\" /><path clip-path=\"url(#clip300)\" d=\"M1327.9 9.54393 L1327.9 15.7418 L1320.77 15.7418 Q1316.76 15.7418 1315.18 17.3622 Q1313.64 18.9825 1313.64 23.1955 L1313.64 27.2059 L1325.92 27.2059 L1325.92 32.9987 L1313.64 32.9987 L1313.64 72.576 L1306.15 72.576 L1306.15 32.9987 L1299.02 32.9987 L1299.02 27.2059 L1306.15 27.2059 L1306.15 24.0462 Q1306.15 16.471 1309.67 13.0277 Q1313.2 9.54393 1320.85 9.54393 L1327.9 9.54393 Z\" fill=\"#000000\" fill-rule=\"nonzero\" fill-opacity=\"1\" /><path clip-path=\"url(#clip300)\" d=\"M1357.11 9.54393 L1357.11 15.7418 L1349.98 15.7418 Q1345.97 15.7418 1344.39 17.3622 Q1342.85 18.9825 1342.85 23.1955 L1342.85 27.2059 L1355.12 27.2059 L1355.12 32.9987 L1342.85 32.9987 L1342.85 72.576 L1335.35 72.576 L1335.35 32.9987 L1328.22 32.9987 L1328.22 27.2059 L1335.35 27.2059 L1335.35 24.0462 Q1335.35 16.471 1338.88 13.0277 Q1342.4 9.54393 1350.06 9.54393 L1357.11 9.54393 Z\" fill=\"#000000\" fill-rule=\"nonzero\" fill-opacity=\"1\" /><path clip-path=\"url(#clip300)\" d=\"M1369.26 14.324 L1369.26 27.2059 L1384.61 27.2059 L1384.61 32.9987 L1369.26 32.9987 L1369.26 57.6282 Q1369.26 63.1779 1370.76 64.7578 Q1372.3 66.3376 1376.96 66.3376 L1384.61 66.3376 L1384.61 72.576 L1376.96 72.576 Q1368.33 72.576 1365.05 69.3758 Q1361.77 66.1351 1361.77 57.6282 L1361.77 32.9987 L1356.3 32.9987 L1356.3 27.2059 L1361.77 27.2059 L1361.77 14.324 L1369.26 14.324 Z\" fill=\"#000000\" fill-rule=\"nonzero\" fill-opacity=\"1\" /><path clip-path=\"url(#clip300)\" d=\"M1428.89 86.3491 L1428.89 92.1419 L1385.79 92.1419 L1385.79 86.3491 L1428.89 86.3491 Z\" fill=\"#000000\" fill-rule=\"nonzero\" fill-opacity=\"1\" /><path clip-path=\"url(#clip300)\" d=\"M1443.11 65.7705 L1443.11 89.8329 L1435.61 89.8329 L1435.61 27.2059 L1443.11 27.2059 L1443.11 34.0924 Q1445.46 30.0415 1449.02 28.0971 Q1452.63 26.1121 1457.61 26.1121 Q1465.87 26.1121 1471.02 32.6746 Q1476.2 39.2371 1476.2 49.9314 Q1476.2 60.6258 1471.02 67.1883 Q1465.87 73.7508 1457.61 73.7508 Q1452.63 73.7508 1449.02 71.8063 Q1445.46 69.8214 1443.11 65.7705 M1468.47 49.9314 Q1468.47 41.7081 1465.06 37.0496 Q1461.7 32.3505 1455.79 32.3505 Q1449.87 32.3505 1446.47 37.0496 Q1443.11 41.7081 1443.11 49.9314 Q1443.11 58.1548 1446.47 62.8538 Q1449.87 67.5124 1455.79 67.5124 Q1461.7 67.5124 1465.06 62.8538 Q1468.47 58.1548 1468.47 49.9314 Z\" fill=\"#000000\" fill-rule=\"nonzero\" fill-opacity=\"1\" /><path clip-path=\"url(#clip300)\" d=\"M1506.14 32.4315 Q1500.14 32.4315 1496.66 37.1306 Q1493.18 41.7891 1493.18 49.9314 Q1493.18 58.0738 1496.62 62.7728 Q1500.1 67.4314 1506.14 67.4314 Q1512.09 67.4314 1515.58 62.7323 Q1519.06 58.0333 1519.06 49.9314 Q1519.06 41.8701 1515.58 37.1711 Q1512.09 32.4315 1506.14 32.4315 M1506.14 26.1121 Q1515.86 26.1121 1521.41 32.4315 Q1526.96 38.7509 1526.96 49.9314 Q1526.96 61.0714 1521.41 67.4314 Q1515.86 73.7508 1506.14 73.7508 Q1496.38 73.7508 1490.83 67.4314 Q1485.32 61.0714 1485.32 49.9314 Q1485.32 38.7509 1490.83 32.4315 Q1496.38 26.1121 1506.14 26.1121 Z\" fill=\"#000000\" fill-rule=\"nonzero\" fill-opacity=\"1\" /><path clip-path=\"url(#clip300)\" d=\"M1534.98 27.2059 L1542.44 27.2059 L1551.75 62.6108 L1561.03 27.2059 L1569.82 27.2059 L1579.14 62.6108 L1588.41 27.2059 L1595.87 27.2059 L1584 72.576 L1575.21 72.576 L1565.45 35.3887 L1555.64 72.576 L1546.85 72.576 L1534.98 27.2059 Z\" fill=\"#000000\" fill-rule=\"nonzero\" fill-opacity=\"1\" /><path clip-path=\"url(#clip300)\" d=\"M1615.27 65.6895 L1643.83 65.6895 L1643.83 72.576 L1605.43 72.576 L1605.43 65.6895 Q1610.09 60.8689 1618.11 52.7671 Q1626.17 44.6248 1628.23 42.2752 Q1632.16 37.8598 1633.7 34.8216 Q1635.28 31.7429 1635.28 28.7857 Q1635.28 23.9651 1631.88 20.927 Q1628.52 17.8888 1623.09 17.8888 Q1619.24 17.8888 1614.95 19.2256 Q1610.69 20.5624 1605.83 23.2765 L1605.83 15.0127 Q1610.77 13.0277 1615.07 12.015 Q1619.36 11.0023 1622.93 11.0023 Q1632.33 11.0023 1637.92 15.7013 Q1643.51 20.4004 1643.51 28.2591 Q1643.51 31.9859 1642.09 35.3482 Q1640.71 38.6699 1637.02 43.2069 Q1636.01 44.3817 1630.58 50.0125 Q1625.16 55.6027 1615.27 65.6895 Z\" fill=\"#000000\" fill-rule=\"nonzero\" fill-opacity=\"1\" /><path clip-path=\"url(#clip300)\" d=\"M1681.99 27.2059 L1689.44 27.2059 L1698.76 62.6108 L1708.04 27.2059 L1716.83 27.2059 L1726.14 62.6108 L1735.42 27.2059 L1742.87 27.2059 L1731.01 72.576 L1722.22 72.576 L1712.45 35.3887 L1702.65 72.576 L1693.86 72.576 L1681.99 27.2059 Z\" fill=\"#000000\" fill-rule=\"nonzero\" fill-opacity=\"1\" /><path clip-path=\"url(#clip300)\" d=\"M1754.18 27.2059 L1761.63 27.2059 L1761.63 72.576 L1754.18 72.576 L1754.18 27.2059 M1754.18 9.54393 L1761.63 9.54393 L1761.63 18.9825 L1754.18 18.9825 L1754.18 9.54393 Z\" fill=\"#000000\" fill-rule=\"nonzero\" fill-opacity=\"1\" /><path clip-path=\"url(#clip300)\" d=\"M1784.6 14.324 L1784.6 27.2059 L1799.95 27.2059 L1799.95 32.9987 L1784.6 32.9987 L1784.6 57.6282 Q1784.6 63.1779 1786.1 64.7578 Q1787.64 66.3376 1792.3 66.3376 L1799.95 66.3376 L1799.95 72.576 L1792.3 72.576 Q1783.67 72.576 1780.39 69.3758 Q1777.1 66.1351 1777.1 57.6282 L1777.1 32.9987 L1771.64 32.9987 L1771.64 27.2059 L1777.1 27.2059 L1777.1 14.324 L1784.6 14.324 Z\" fill=\"#000000\" fill-rule=\"nonzero\" fill-opacity=\"1\" /><path clip-path=\"url(#clip300)\" d=\"M1847.47 45.1919 L1847.47 72.576 L1840.02 72.576 L1840.02 45.4349 Q1840.02 38.994 1837.5 35.7938 Q1834.99 32.5936 1829.97 32.5936 Q1823.93 32.5936 1820.45 36.4419 Q1816.97 40.2903 1816.97 46.9338 L1816.97 72.576 L1809.47 72.576 L1809.47 9.54393 L1816.97 9.54393 L1816.97 34.2544 Q1819.64 30.163 1823.24 28.1376 Q1826.89 26.1121 1831.63 26.1121 Q1839.45 26.1121 1843.46 30.9732 Q1847.47 35.7938 1847.47 45.1919 Z\" fill=\"#000000\" fill-rule=\"nonzero\" fill-opacity=\"1\" /><path clip-path=\"url(#clip300)\" d=\"M1883.36 27.2059 L1891.26 27.2059 L1905.44 65.2844 L1919.62 27.2059 L1927.51 27.2059 L1910.5 72.576 L1900.37 72.576 L1883.36 27.2059 Z\" fill=\"#000000\" fill-rule=\"nonzero\" fill-opacity=\"1\" /><path clip-path=\"url(#clip300)\" d=\"M1976.61 48.0275 L1976.61 51.6733 L1942.34 51.6733 Q1942.83 59.3701 1946.96 63.421 Q1951.13 67.4314 1958.54 67.4314 Q1962.84 67.4314 1966.85 66.3781 Q1970.9 65.3249 1974.87 63.2184 L1974.87 70.267 Q1970.86 71.9684 1966.65 72.8596 Q1962.43 73.7508 1958.1 73.7508 Q1947.24 73.7508 1940.88 67.4314 Q1934.56 61.1119 1934.56 50.3365 Q1934.56 39.1965 1940.56 32.6746 Q1946.59 26.1121 1956.8 26.1121 Q1965.96 26.1121 1971.26 32.0264 Q1976.61 37.9003 1976.61 48.0275 M1969.16 45.84 Q1969.08 39.7232 1965.71 36.0774 Q1962.39 32.4315 1956.88 32.4315 Q1950.65 32.4315 1946.88 35.9558 Q1943.15 39.4801 1942.58 45.8805 L1969.16 45.84 Z\" fill=\"#000000\" fill-rule=\"nonzero\" fill-opacity=\"1\" /><path clip-path=\"url(#clip300)\" d=\"M2015.14 34.1734 Q2013.88 33.4443 2012.38 33.1202 Q2010.92 32.7556 2009.14 32.7556 Q2002.82 32.7556 1999.42 36.8875 Q1996.06 40.9789 1996.06 48.6757 L1996.06 72.576 L1988.56 72.576 L1988.56 27.2059 L1996.06 27.2059 L1996.06 34.2544 Q1998.41 30.1225 2002.17 28.1376 Q2005.94 26.1121 2011.33 26.1121 Q2012.1 26.1121 2013.03 26.2337 Q2013.96 26.3147 2015.1 26.5172 L2015.14 34.1734 Z\" fill=\"#000000\" fill-rule=\"nonzero\" fill-opacity=\"1\" /><path clip-path=\"url(#clip300)\" d=\"M2022.95 27.2059 L2030.41 27.2059 L2030.41 72.576 L2022.95 72.576 L2022.95 27.2059 M2022.95 9.54393 L2030.41 9.54393 L2030.41 18.9825 L2022.95 18.9825 L2022.95 9.54393 Z\" fill=\"#000000\" fill-rule=\"nonzero\" fill-opacity=\"1\" /><path clip-path=\"url(#clip300)\" d=\"M2068.97 9.54393 L2068.97 15.7418 L2061.84 15.7418 Q2057.83 15.7418 2056.25 17.3622 Q2054.71 18.9825 2054.71 23.1955 L2054.71 27.2059 L2066.99 27.2059 L2066.99 32.9987 L2054.71 32.9987 L2054.71 72.576 L2047.22 72.576 L2047.22 32.9987 L2040.09 32.9987 L2040.09 27.2059 L2047.22 27.2059 L2047.22 24.0462 Q2047.22 16.471 2050.74 13.0277 Q2054.27 9.54393 2061.92 9.54393 L2068.97 9.54393 Z\" fill=\"#000000\" fill-rule=\"nonzero\" fill-opacity=\"1\" /><path clip-path=\"url(#clip300)\" d=\"M2092.63 76.7889 Q2089.47 84.8907 2086.47 87.3618 Q2083.47 89.8329 2078.45 89.8329 L2072.5 89.8329 L2072.5 83.5945 L2076.87 83.5945 Q2079.95 83.5945 2081.65 82.1361 Q2083.35 80.6778 2085.42 75.2496 L2086.76 71.8468 L2068.41 27.2059 L2076.3 27.2059 L2090.48 62.6918 L2104.66 27.2059 L2112.56 27.2059 L2092.63 76.7889 Z\" fill=\"#000000\" fill-rule=\"nonzero\" fill-opacity=\"1\" /><path clip-path=\"url(#clip300)\" d=\"M2145.82 9.54393 L2145.82 15.7418 L2138.69 15.7418 Q2134.68 15.7418 2133.1 17.3622 Q2131.56 18.9825 2131.56 23.1955 L2131.56 27.2059 L2143.83 27.2059 L2143.83 32.9987 L2131.56 32.9987 L2131.56 72.576 L2124.06 72.576 L2124.06 32.9987 L2116.94 32.9987 L2116.94 27.2059 L2124.06 27.2059 L2124.06 24.0462 Q2124.06 16.471 2127.59 13.0277 Q2131.11 9.54393 2138.77 9.54393 L2145.82 9.54393 Z\" fill=\"#000000\" fill-rule=\"nonzero\" fill-opacity=\"1\" /><path clip-path=\"url(#clip300)\" d=\"M2175.03 9.54393 L2175.03 15.7418 L2167.9 15.7418 Q2163.89 15.7418 2162.31 17.3622 Q2160.77 18.9825 2160.77 23.1955 L2160.77 27.2059 L2173.04 27.2059 L2173.04 32.9987 L2160.77 32.9987 L2160.77 72.576 L2153.27 72.576 L2153.27 32.9987 L2146.14 32.9987 L2146.14 27.2059 L2153.27 27.2059 L2153.27 24.0462 Q2153.27 16.471 2156.8 13.0277 Q2160.32 9.54393 2167.98 9.54393 L2175.03 9.54393 Z\" fill=\"#000000\" fill-rule=\"nonzero\" fill-opacity=\"1\" /><path clip-path=\"url(#clip300)\" d=\"M2187.18 14.324 L2187.18 27.2059 L2202.53 27.2059 L2202.53 32.9987 L2187.18 32.9987 L2187.18 57.6282 Q2187.18 63.1779 2188.68 64.7578 Q2190.22 66.3376 2194.87 66.3376 L2202.53 66.3376 L2202.53 72.576 L2194.87 72.576 Q2186.25 72.576 2182.96 69.3758 Q2179.68 66.1351 2179.68 57.6282 L2179.68 32.9987 L2174.22 32.9987 L2174.22 27.2059 L2179.68 27.2059 L2179.68 14.324 L2187.18 14.324 Z\" fill=\"#000000\" fill-rule=\"nonzero\" fill-opacity=\"1\" /><circle clip-path=\"url(#clip302)\" cx=\"380.67\" cy=\"1386.4\" r=\"14.4\" fill=\"#009af9\" fill-rule=\"evenodd\" fill-opacity=\"1\" stroke=\"#000000\" stroke-opacity=\"1\" stroke-width=\"3.2\"/>\n",
       "<circle clip-path=\"url(#clip302)\" cx=\"588.258\" cy=\"1267.03\" r=\"14.4\" fill=\"#009af9\" fill-rule=\"evenodd\" fill-opacity=\"1\" stroke=\"#000000\" stroke-opacity=\"1\" stroke-width=\"3.2\"/>\n",
       "<circle clip-path=\"url(#clip302)\" cx=\"795.846\" cy=\"1180.7\" r=\"14.4\" fill=\"#009af9\" fill-rule=\"evenodd\" fill-opacity=\"1\" stroke=\"#000000\" stroke-opacity=\"1\" stroke-width=\"3.2\"/>\n",
       "<circle clip-path=\"url(#clip302)\" cx=\"1003.43\" cy=\"1087.05\" r=\"14.4\" fill=\"#009af9\" fill-rule=\"evenodd\" fill-opacity=\"1\" stroke=\"#000000\" stroke-opacity=\"1\" stroke-width=\"3.2\"/>\n",
       "<circle clip-path=\"url(#clip302)\" cx=\"1211.02\" cy=\"981.757\" r=\"14.4\" fill=\"#009af9\" fill-rule=\"evenodd\" fill-opacity=\"1\" stroke=\"#000000\" stroke-opacity=\"1\" stroke-width=\"3.2\"/>\n",
       "<circle clip-path=\"url(#clip302)\" cx=\"1418.61\" cy=\"892.316\" r=\"14.4\" fill=\"#009af9\" fill-rule=\"evenodd\" fill-opacity=\"1\" stroke=\"#000000\" stroke-opacity=\"1\" stroke-width=\"3.2\"/>\n",
       "<circle clip-path=\"url(#clip302)\" cx=\"1626.2\" cy=\"791.982\" r=\"14.4\" fill=\"#009af9\" fill-rule=\"evenodd\" fill-opacity=\"1\" stroke=\"#000000\" stroke-opacity=\"1\" stroke-width=\"3.2\"/>\n",
       "<circle clip-path=\"url(#clip302)\" cx=\"1833.79\" cy=\"692.772\" r=\"14.4\" fill=\"#009af9\" fill-rule=\"evenodd\" fill-opacity=\"1\" stroke=\"#000000\" stroke-opacity=\"1\" stroke-width=\"3.2\"/>\n",
       "<circle clip-path=\"url(#clip302)\" cx=\"2041.37\" cy=\"594.21\" r=\"14.4\" fill=\"#009af9\" fill-rule=\"evenodd\" fill-opacity=\"1\" stroke=\"#000000\" stroke-opacity=\"1\" stroke-width=\"3.2\"/>\n",
       "<circle clip-path=\"url(#clip302)\" cx=\"2248.96\" cy=\"495.305\" r=\"14.4\" fill=\"#009af9\" fill-rule=\"evenodd\" fill-opacity=\"1\" stroke=\"#000000\" stroke-opacity=\"1\" stroke-width=\"3.2\"/>\n",
       "<circle clip-path=\"url(#clip302)\" cx=\"380.67\" cy=\"1386.4\" r=\"14.4\" fill=\"#e26f46\" fill-rule=\"evenodd\" fill-opacity=\"1\" stroke=\"#000000\" stroke-opacity=\"1\" stroke-width=\"3.2\"/>\n",
       "<circle clip-path=\"url(#clip302)\" cx=\"588.258\" cy=\"1171.85\" r=\"14.4\" fill=\"#e26f46\" fill-rule=\"evenodd\" fill-opacity=\"1\" stroke=\"#000000\" stroke-opacity=\"1\" stroke-width=\"3.2\"/>\n",
       "<circle clip-path=\"url(#clip302)\" cx=\"795.846\" cy=\"1036.49\" r=\"14.4\" fill=\"#e26f46\" fill-rule=\"evenodd\" fill-opacity=\"1\" stroke=\"#000000\" stroke-opacity=\"1\" stroke-width=\"3.2\"/>\n",
       "<circle clip-path=\"url(#clip302)\" cx=\"1003.43\" cy=\"903.491\" r=\"14.4\" fill=\"#e26f46\" fill-rule=\"evenodd\" fill-opacity=\"1\" stroke=\"#000000\" stroke-opacity=\"1\" stroke-width=\"3.2\"/>\n",
       "<circle clip-path=\"url(#clip302)\" cx=\"1211.02\" cy=\"790.968\" r=\"14.4\" fill=\"#e26f46\" fill-rule=\"evenodd\" fill-opacity=\"1\" stroke=\"#000000\" stroke-opacity=\"1\" stroke-width=\"3.2\"/>\n",
       "<circle clip-path=\"url(#clip302)\" cx=\"1418.61\" cy=\"656.483\" r=\"14.4\" fill=\"#e26f46\" fill-rule=\"evenodd\" fill-opacity=\"1\" stroke=\"#000000\" stroke-opacity=\"1\" stroke-width=\"3.2\"/>\n",
       "<circle clip-path=\"url(#clip302)\" cx=\"1626.2\" cy=\"532.532\" r=\"14.4\" fill=\"#e26f46\" fill-rule=\"evenodd\" fill-opacity=\"1\" stroke=\"#000000\" stroke-opacity=\"1\" stroke-width=\"3.2\"/>\n",
       "<circle clip-path=\"url(#clip302)\" cx=\"1833.79\" cy=\"406.95\" r=\"14.4\" fill=\"#e26f46\" fill-rule=\"evenodd\" fill-opacity=\"1\" stroke=\"#000000\" stroke-opacity=\"1\" stroke-width=\"3.2\"/>\n",
       "<circle clip-path=\"url(#clip302)\" cx=\"2041.37\" cy=\"284.342\" r=\"14.4\" fill=\"#e26f46\" fill-rule=\"evenodd\" fill-opacity=\"1\" stroke=\"#000000\" stroke-opacity=\"1\" stroke-width=\"3.2\"/>\n",
       "<circle clip-path=\"url(#clip302)\" cx=\"2248.96\" cy=\"160.256\" r=\"14.4\" fill=\"#e26f46\" fill-rule=\"evenodd\" fill-opacity=\"1\" stroke=\"#000000\" stroke-opacity=\"1\" stroke-width=\"3.2\"/>\n",
       "<path clip-path=\"url(#clip300)\" d=\"M346.072 322.316 L950.069 322.316 L950.069 166.796 L346.072 166.796  Z\" fill=\"#ffffff\" fill-rule=\"evenodd\" fill-opacity=\"1\"/>\n",
       "<polyline clip-path=\"url(#clip300)\" style=\"stroke:#000000; stroke-linecap:round; stroke-linejoin:round; stroke-width:4; stroke-opacity:1; fill:none\" points=\"346.072,322.316 950.069,322.316 950.069,166.796 346.072,166.796 346.072,322.316 \"/>\n",
       "<circle clip-path=\"url(#clip300)\" cx=\"438.333\" cy=\"218.636\" r=\"20.48\" fill=\"#009af9\" fill-rule=\"evenodd\" fill-opacity=\"1\" stroke=\"#000000\" stroke-opacity=\"1\" stroke-width=\"4.55111\"/>\n",
       "<path clip-path=\"url(#clip300)\" d=\"M530.594 209.99 L535.108 209.99 L543.21 231.749 L551.312 209.99 L555.826 209.99 L546.103 235.916 L540.316 235.916 L530.594 209.99 Z\" fill=\"#000000\" fill-rule=\"nonzero\" fill-opacity=\"1\" /><path clip-path=\"url(#clip300)\" d=\"M583.881 221.888 L583.881 223.971 L564.298 223.971 Q564.576 228.369 566.937 230.684 Q569.321 232.976 573.557 232.976 Q576.011 232.976 578.302 232.374 Q580.617 231.772 582.886 230.569 L582.886 234.596 Q580.594 235.568 578.187 236.078 Q575.779 236.587 573.302 236.587 Q567.099 236.587 563.464 232.976 Q559.853 229.365 559.853 223.207 Q559.853 216.842 563.279 213.115 Q566.728 209.365 572.562 209.365 Q577.793 209.365 580.825 212.745 Q583.881 216.101 583.881 221.888 M579.622 220.638 Q579.575 217.143 577.654 215.059 Q575.756 212.976 572.608 212.976 Q569.043 212.976 566.89 214.99 Q564.761 217.004 564.437 220.661 L579.622 220.638 Z\" fill=\"#000000\" fill-rule=\"nonzero\" fill-opacity=\"1\" /><path clip-path=\"url(#clip300)\" d=\"M605.895 213.971 Q605.177 213.555 604.321 213.37 Q603.487 213.161 602.469 213.161 Q598.858 213.161 596.913 215.522 Q594.992 217.86 594.992 222.258 L594.992 235.916 L590.71 235.916 L590.71 209.99 L594.992 209.99 L594.992 214.018 Q596.335 211.657 598.487 210.522 Q600.64 209.365 603.719 209.365 Q604.159 209.365 604.691 209.434 Q605.223 209.481 605.872 209.596 L605.895 213.971 Z\" fill=\"#000000\" fill-rule=\"nonzero\" fill-opacity=\"1\" /><path clip-path=\"url(#clip300)\" d=\"M610.362 209.99 L614.622 209.99 L614.622 235.916 L610.362 235.916 L610.362 209.99 M610.362 199.897 L614.622 199.897 L614.622 205.291 L610.362 205.291 L610.362 199.897 Z\" fill=\"#000000\" fill-rule=\"nonzero\" fill-opacity=\"1\" /><path clip-path=\"url(#clip300)\" d=\"M636.658 199.897 L636.658 203.439 L632.584 203.439 Q630.293 203.439 629.39 204.365 Q628.51 205.291 628.51 207.698 L628.51 209.99 L635.524 209.99 L635.524 213.3 L628.51 213.3 L628.51 235.916 L624.228 235.916 L624.228 213.3 L620.154 213.3 L620.154 209.99 L624.228 209.99 L624.228 208.184 Q624.228 203.856 626.242 201.888 Q628.256 199.897 632.631 199.897 L636.658 199.897 Z\" fill=\"#000000\" fill-rule=\"nonzero\" fill-opacity=\"1\" /><path clip-path=\"url(#clip300)\" d=\"M650.177 238.323 Q648.371 242.953 646.658 244.365 Q644.945 245.777 642.075 245.777 L638.672 245.777 L638.672 242.212 L641.172 242.212 Q642.932 242.212 643.904 241.379 Q644.876 240.545 646.057 237.443 L646.82 235.499 L636.334 209.99 L640.848 209.99 L648.95 230.268 L657.052 209.99 L661.566 209.99 L650.177 238.323 Z\" fill=\"#000000\" fill-rule=\"nonzero\" fill-opacity=\"1\" /><path clip-path=\"url(#clip300)\" d=\"M680.57 199.897 L680.57 203.439 L676.496 203.439 Q674.205 203.439 673.302 204.365 Q672.422 205.291 672.422 207.698 L672.422 209.99 L679.436 209.99 L679.436 213.3 L672.422 213.3 L672.422 235.916 L668.14 235.916 L668.14 213.3 L664.066 213.3 L664.066 209.99 L668.14 209.99 L668.14 208.184 Q668.14 203.856 670.154 201.888 Q672.168 199.897 676.543 199.897 L680.57 199.897 Z\" fill=\"#000000\" fill-rule=\"nonzero\" fill-opacity=\"1\" /><path clip-path=\"url(#clip300)\" d=\"M697.26 199.897 L697.26 203.439 L693.186 203.439 Q690.894 203.439 689.992 204.365 Q689.112 205.291 689.112 207.698 L689.112 209.99 L696.126 209.99 L696.126 213.3 L689.112 213.3 L689.112 235.916 L684.83 235.916 L684.83 213.3 L680.755 213.3 L680.755 209.99 L684.83 209.99 L684.83 208.184 Q684.83 203.856 686.843 201.888 Q688.857 199.897 693.232 199.897 L697.26 199.897 Z\" fill=\"#000000\" fill-rule=\"nonzero\" fill-opacity=\"1\" /><path clip-path=\"url(#clip300)\" d=\"M704.204 202.629 L704.204 209.99 L712.978 209.99 L712.978 213.3 L704.204 213.3 L704.204 227.374 Q704.204 230.545 705.061 231.448 Q705.941 232.351 708.603 232.351 L712.978 232.351 L712.978 235.916 L708.603 235.916 Q703.672 235.916 701.797 234.087 Q699.922 232.235 699.922 227.374 L699.922 213.3 L696.797 213.3 L696.797 209.99 L699.922 209.99 L699.922 202.629 L704.204 202.629 Z\" fill=\"#000000\" fill-rule=\"nonzero\" fill-opacity=\"1\" /><circle clip-path=\"url(#clip300)\" cx=\"438.333\" cy=\"270.476\" r=\"20.48\" fill=\"#e26f46\" fill-rule=\"evenodd\" fill-opacity=\"1\" stroke=\"#000000\" stroke-opacity=\"1\" stroke-width=\"4.55111\"/>\n",
       "<path clip-path=\"url(#clip300)\" d=\"M549.506 274.492 Q549.506 269.862 547.585 267.316 Q545.687 264.77 542.238 264.77 Q538.812 264.77 536.89 267.316 Q534.992 269.862 534.992 274.492 Q534.992 279.098 536.89 281.645 Q538.812 284.191 542.238 284.191 Q545.687 284.191 547.585 281.645 Q549.506 279.098 549.506 274.492 M553.765 284.538 Q553.765 291.158 550.826 294.376 Q547.886 297.617 541.821 297.617 Q539.576 297.617 537.585 297.27 Q535.594 296.945 533.719 296.251 L533.719 292.108 Q535.594 293.126 537.423 293.612 Q539.252 294.098 541.15 294.098 Q545.34 294.098 547.423 291.899 Q549.506 289.723 549.506 285.302 L549.506 283.196 Q548.187 285.487 546.127 286.621 Q544.066 287.756 541.196 287.756 Q536.428 287.756 533.511 284.121 Q530.594 280.487 530.594 274.492 Q530.594 268.473 533.511 264.839 Q536.428 261.205 541.196 261.205 Q544.066 261.205 546.127 262.339 Q548.187 263.473 549.506 265.765 L549.506 261.83 L553.765 261.83 L553.765 284.538 Z\" fill=\"#000000\" fill-rule=\"nonzero\" fill-opacity=\"1\" /><path clip-path=\"url(#clip300)\" d=\"M584.714 273.728 L584.714 275.811 L565.131 275.811 Q565.409 280.209 567.77 282.524 Q570.154 284.816 574.39 284.816 Q576.844 284.816 579.136 284.214 Q581.45 283.612 583.719 282.409 L583.719 286.436 Q581.427 287.408 579.02 287.918 Q576.612 288.427 574.136 288.427 Q567.932 288.427 564.298 284.816 Q560.687 281.205 560.687 275.047 Q560.687 268.682 564.113 264.955 Q567.562 261.205 573.395 261.205 Q578.626 261.205 581.659 264.585 Q584.714 267.941 584.714 273.728 M580.455 272.478 Q580.409 268.983 578.487 266.899 Q576.589 264.816 573.441 264.816 Q569.876 264.816 567.724 266.83 Q565.594 268.844 565.27 272.501 L580.455 272.478 Z\" fill=\"#000000\" fill-rule=\"nonzero\" fill-opacity=\"1\" /><path clip-path=\"url(#clip300)\" d=\"M613.256 272.108 L613.256 287.756 L608.997 287.756 L608.997 272.247 Q608.997 268.566 607.561 266.737 Q606.126 264.909 603.256 264.909 Q599.807 264.909 597.816 267.108 Q595.825 269.307 595.825 273.103 L595.825 287.756 L591.543 287.756 L591.543 261.83 L595.825 261.83 L595.825 265.858 Q597.353 263.52 599.413 262.362 Q601.497 261.205 604.205 261.205 Q608.673 261.205 610.964 263.983 Q613.256 266.737 613.256 272.108 Z\" fill=\"#000000\" fill-rule=\"nonzero\" fill-opacity=\"1\" /><path clip-path=\"url(#clip300)\" d=\"M643.927 273.728 L643.927 275.811 L624.344 275.811 Q624.621 280.209 626.983 282.524 Q629.367 284.816 633.603 284.816 Q636.057 284.816 638.348 284.214 Q640.663 283.612 642.932 282.409 L642.932 286.436 Q640.64 287.408 638.233 287.918 Q635.825 288.427 633.348 288.427 Q627.145 288.427 623.51 284.816 Q619.899 281.205 619.899 275.047 Q619.899 268.682 623.325 264.955 Q626.774 261.205 632.608 261.205 Q637.839 261.205 640.871 264.585 Q643.927 267.941 643.927 273.728 M639.668 272.478 Q639.621 268.983 637.7 266.899 Q635.802 264.816 632.654 264.816 Q629.089 264.816 626.936 266.83 Q624.807 268.844 624.483 272.501 L639.668 272.478 Z\" fill=\"#000000\" fill-rule=\"nonzero\" fill-opacity=\"1\" /><path clip-path=\"url(#clip300)\" d=\"M665.941 265.811 Q665.223 265.395 664.367 265.21 Q663.533 265.001 662.515 265.001 Q658.904 265.001 656.959 267.362 Q655.038 269.7 655.038 274.098 L655.038 287.756 L650.756 287.756 L650.756 261.83 L655.038 261.83 L655.038 265.858 Q656.381 263.497 658.533 262.362 Q660.686 261.205 663.765 261.205 Q664.205 261.205 664.737 261.274 Q665.269 261.321 665.918 261.436 L665.941 265.811 Z\" fill=\"#000000\" fill-rule=\"nonzero\" fill-opacity=\"1\" /><path clip-path=\"url(#clip300)\" d=\"M670.408 261.83 L674.668 261.83 L674.668 287.756 L670.408 287.756 L670.408 261.83 M670.408 251.737 L674.668 251.737 L674.668 257.131 L670.408 257.131 L670.408 251.737 Z\" fill=\"#000000\" fill-rule=\"nonzero\" fill-opacity=\"1\" /><path clip-path=\"url(#clip300)\" d=\"M702.237 262.825 L702.237 266.807 Q700.431 265.811 698.603 265.325 Q696.797 264.816 694.945 264.816 Q690.802 264.816 688.51 267.455 Q686.218 270.071 686.218 274.816 Q686.218 279.561 688.51 282.2 Q690.802 284.816 694.945 284.816 Q696.797 284.816 698.603 284.33 Q700.431 283.821 702.237 282.825 L702.237 286.76 Q700.454 287.594 698.533 288.01 Q696.635 288.427 694.482 288.427 Q688.626 288.427 685.177 284.746 Q681.728 281.066 681.728 274.816 Q681.728 268.473 685.2 264.839 Q688.695 261.205 694.76 261.205 Q696.728 261.205 698.603 261.622 Q700.478 262.015 702.237 262.825 Z\" fill=\"#000000\" fill-rule=\"nonzero\" fill-opacity=\"1\" /><path clip-path=\"url(#clip300)\" d=\"M729.343 295.626 L729.343 298.936 L704.714 298.936 L704.714 295.626 L729.343 295.626 Z\" fill=\"#000000\" fill-rule=\"nonzero\" fill-opacity=\"1\" /><path clip-path=\"url(#clip300)\" d=\"M746.473 251.737 L746.473 255.279 L742.399 255.279 Q740.107 255.279 739.204 256.205 Q738.325 257.131 738.325 259.538 L738.325 261.83 L745.338 261.83 L745.338 265.14 L738.325 265.14 L738.325 287.756 L734.042 287.756 L734.042 265.14 L729.968 265.14 L729.968 261.83 L734.042 261.83 L734.042 260.024 Q734.042 255.696 736.056 253.728 Q738.07 251.737 742.445 251.737 L746.473 251.737 Z\" fill=\"#000000\" fill-rule=\"nonzero\" fill-opacity=\"1\" /><path clip-path=\"url(#clip300)\" d=\"M763.162 251.737 L763.162 255.279 L759.088 255.279 Q756.797 255.279 755.894 256.205 Q755.014 257.131 755.014 259.538 L755.014 261.83 L762.028 261.83 L762.028 265.14 L755.014 265.14 L755.014 287.756 L750.732 287.756 L750.732 265.14 L746.658 265.14 L746.658 261.83 L750.732 261.83 L750.732 260.024 Q750.732 255.696 752.746 253.728 Q754.76 251.737 759.135 251.737 L763.162 251.737 Z\" fill=\"#000000\" fill-rule=\"nonzero\" fill-opacity=\"1\" /><path clip-path=\"url(#clip300)\" d=\"M770.107 254.469 L770.107 261.83 L778.88 261.83 L778.88 265.14 L770.107 265.14 L770.107 279.214 Q770.107 282.385 770.963 283.288 Q771.843 284.191 774.505 284.191 L778.88 284.191 L778.88 287.756 L774.505 287.756 Q769.574 287.756 767.699 285.927 Q765.824 284.075 765.824 279.214 L765.824 265.14 L762.699 265.14 L762.699 261.83 L765.824 261.83 L765.824 254.469 L770.107 254.469 Z\" fill=\"#000000\" fill-rule=\"nonzero\" fill-opacity=\"1\" /><path clip-path=\"url(#clip300)\" d=\"M804.181 295.626 L804.181 298.936 L779.551 298.936 L779.551 295.626 L804.181 295.626 Z\" fill=\"#000000\" fill-rule=\"nonzero\" fill-opacity=\"1\" /><path clip-path=\"url(#clip300)\" d=\"M812.306 283.867 L812.306 297.617 L808.023 297.617 L808.023 261.83 L812.306 261.83 L812.306 265.765 Q813.648 263.45 815.685 262.339 Q817.745 261.205 820.593 261.205 Q825.315 261.205 828.255 264.955 Q831.218 268.705 831.218 274.816 Q831.218 280.927 828.255 284.677 Q825.315 288.427 820.593 288.427 Q817.745 288.427 815.685 287.316 Q813.648 286.182 812.306 283.867 M826.796 274.816 Q826.796 270.117 824.852 267.455 Q822.931 264.77 819.551 264.77 Q816.171 264.77 814.227 267.455 Q812.306 270.117 812.306 274.816 Q812.306 279.515 814.227 282.2 Q816.171 284.862 819.551 284.862 Q822.931 284.862 824.852 282.2 Q826.796 279.515 826.796 274.816 Z\" fill=\"#000000\" fill-rule=\"nonzero\" fill-opacity=\"1\" /><path clip-path=\"url(#clip300)\" d=\"M848.324 264.816 Q844.898 264.816 842.907 267.501 Q840.917 270.163 840.917 274.816 Q840.917 279.469 842.884 282.154 Q844.875 284.816 848.324 284.816 Q851.727 284.816 853.717 282.131 Q855.708 279.446 855.708 274.816 Q855.708 270.21 853.717 267.524 Q851.727 264.816 848.324 264.816 M848.324 261.205 Q853.88 261.205 857.051 264.816 Q860.222 268.427 860.222 274.816 Q860.222 281.182 857.051 284.816 Q853.88 288.427 848.324 288.427 Q842.745 288.427 839.574 284.816 Q836.426 281.182 836.426 274.816 Q836.426 268.427 839.574 264.816 Q842.745 261.205 848.324 261.205 Z\" fill=\"#000000\" fill-rule=\"nonzero\" fill-opacity=\"1\" /><path clip-path=\"url(#clip300)\" d=\"M864.805 261.83 L869.065 261.83 L874.389 282.061 L879.69 261.83 L884.713 261.83 L890.037 282.061 L895.338 261.83 L899.597 261.83 L892.815 287.756 L887.791 287.756 L882.213 266.506 L876.611 287.756 L871.588 287.756 L864.805 261.83 Z\" fill=\"#000000\" fill-rule=\"nonzero\" fill-opacity=\"1\" /><path clip-path=\"url(#clip300)\" d=\"M910.685 283.821 L927.004 283.821 L927.004 287.756 L905.06 287.756 L905.06 283.821 Q907.722 281.066 912.305 276.436 Q916.912 271.784 918.092 270.441 Q920.338 267.918 921.217 266.182 Q922.12 264.423 922.12 262.733 Q922.12 259.978 920.175 258.242 Q918.254 256.506 915.152 256.506 Q912.953 256.506 910.5 257.27 Q908.069 258.034 905.291 259.585 L905.291 254.862 Q908.115 253.728 910.569 253.149 Q913.023 252.571 915.06 252.571 Q920.43 252.571 923.625 255.256 Q926.819 257.941 926.819 262.432 Q926.819 264.561 926.009 266.483 Q925.222 268.381 923.115 270.973 Q922.537 271.645 919.435 274.862 Q916.333 278.057 910.685 283.821 Z\" fill=\"#000000\" fill-rule=\"nonzero\" fill-opacity=\"1\" /></svg>\n"
      ]
     },
     "execution_count": 14,
     "metadata": {},
     "output_type": "execute_result"
    }
   ],
   "source": [
    "using Plots\n",
    "index = 2:2:20\n",
    "max_rad1 = zeros(size(index))\n",
    "max_rad2 = zeros(size(index))\n",
    "i = 1\n",
    "for n ∈ index\n",
    "    # a = map(Interval, randn(2^n))\n",
    "    a = interval(randn(2^n))\n",
    "\n",
    "    z1 = verifyfft(a)\n",
    "    z2 = generic_fft_pow2(a)\n",
    "\n",
    "    max_rad1[i] = sup(maximum(radius,z1))\n",
    "    max_rad2[i] = sup(maximum(radius,z2))\n",
    "\n",
    "    i += 1\n",
    "end\n",
    "max_rad1\n",
    "plot(index, max_rad1, yscale=:log10,\n",
    "    xlabel       = \"power of 2\",                #X軸のラベル\n",
    "    ylabel       = \"maximum radius of fft\",   #Y軸のラベル\n",
    "    xlims        =(1,21),             #X軸の範囲\n",
    "    title=\"Comparison generic_fft_pow2 with verifyfft\",       #タイトル\n",
    "    linewidth    =2,                  #線幅\n",
    "    seriestype = :scatter,            #点プロットに\n",
    "    size         =(600,400),          #プロットのサイズ\n",
    "    label = \"verifyfft\",#凡例のラベル\n",
    "    legend = false,                   #凡例は今回は消す   \n",
    ")\n",
    "\n",
    "plot!(index, max_rad2, yscale=:log10,\n",
    "#     xlabel       =\"2^n\",                #X軸のラベル\n",
    "#     ylabel       =\"maximum radius of fft\",   #Y軸のラベル\n",
    "#     xlims        =(1,21),             #X軸の範囲\n",
    "#     title=\"Comparison generic_fft_pow2 with verifyfft\",       #タイトル\n",
    "    linewidth    =2,                  #線幅\n",
    "    seriestype = :scatter,            #点プロットに　\n",
    "#     size         =(400,300),          #プロットのサイズ\n",
    "    label = \"generic_fft_pow2\",#凡例のラベル\n",
    "    legend = :topleft,                   #凡例は今回は消す\n",
    ")"
   ]
  },
  {
   "cell_type": "markdown",
   "metadata": {},
   "source": [
    "今回実装を行ったものは全て1次元のFFTである。2次元のFFTの計算を行う場合は\n",
    "```\n",
    "permutedims(verifyfft(permutedims(verifyfft(A),[2,1])),[2,1])\n",
    "```\n",
    "と計算を行えば良い。"
   ]
  },
  {
   "cell_type": "code",
   "execution_count": 15,
   "metadata": {},
   "outputs": [
    {
     "data": {
      "text/plain": [
       "8×8 Matrix{Complex{Interval{Float64}}}:\n",
       " [64.0, 64.0]_com + ([0.0, 0.0]_com)im  …  [0.0, 0.0]_com + ([0.0, 0.0]_com)im\n",
       "   [0.0, 0.0]_com + ([0.0, 0.0]_com)im     [0.0, 0.0]_com + ([0.0, 0.0]_com)im\n",
       "   [0.0, 0.0]_com + ([0.0, 0.0]_com)im     [0.0, 0.0]_com + ([0.0, 0.0]_com)im\n",
       "   [0.0, 0.0]_com + ([0.0, 0.0]_com)im     [0.0, 0.0]_com + ([0.0, 0.0]_com)im\n",
       "   [0.0, 0.0]_com + ([0.0, 0.0]_com)im     [0.0, 0.0]_com + ([0.0, 0.0]_com)im\n",
       "   [0.0, 0.0]_com + ([0.0, 0.0]_com)im  …  [0.0, 0.0]_com + ([0.0, 0.0]_com)im\n",
       "   [0.0, 0.0]_com + ([0.0, 0.0]_com)im     [0.0, 0.0]_com + ([0.0, 0.0]_com)im\n",
       "   [0.0, 0.0]_com + ([0.0, 0.0]_com)im     [0.0, 0.0]_com + ([0.0, 0.0]_com)im"
      ]
     },
     "execution_count": 15,
     "metadata": {},
     "output_type": "execute_result"
    }
   ],
   "source": [
    "using IntervalArithmetic\n",
    "\n",
    "function verifyfft(z::Matrix{Complex{Interval{T}}}, sign=1) where T\n",
    "    n, col = size(z); array1 = false\n",
    "    if n==1\n",
    "        if col==1\n",
    "            # Z = map(T,z)\n",
    "            return z\n",
    "        else\n",
    "            isrow_ = true\n",
    "            z = z[:]\n",
    "            n = col\n",
    "            col = 1\n",
    "        end\n",
    "    else\n",
    "        isrow_ = false\n",
    "    end\n",
    "    log2n = Int(round(log2(n))) #check dimension\n",
    "    if 2^log2n ≠ n #2の倍数でない場合はエラー表示\n",
    "        error(\"length must be power of 2\")\n",
    "    end\n",
    "    #bit-reversal(ビットリバース)\n",
    "    f = 2^(log2n-1)\n",
    "    v = [0;f]\n",
    "    for k = 1:log2n-1\n",
    "#         f = 0.5*f\n",
    "        f = f >> 1\n",
    "        v = append!(v,f.+v)\n",
    "    end\n",
    "    z2 = zeros(Complex{Interval{T}},n,col)\n",
    "    # if isa(real(z[1]),Interval)\n",
    "    #     z2 = map(T,z2)\n",
    "    # end\n",
    "    #zを入れ替え\n",
    "    for j = 1: n\n",
    "        z2[j,:] = z[v[j]+1,:]\n",
    "    end\n",
    "    #Danielson-Lanczos algorithm\n",
    "    Z = z2\n",
    "    # Z = complex.(interval(z2))\n",
    "    Index = reshape([1:n*col;],n,col)\n",
    "    \n",
    "    theta = sign * (0:n-1)/n; # division exact because n is power of 2\n",
    "    itheta = interval(theta)\n",
    "    Phi = complex.(cospi.(itheta),sinpi.(itheta)) # SLOW?\n",
    "    # Phi = cospi.(theta) + im*sinpi.(theta)\n",
    "\n",
    "    v = [1:2:n;]\n",
    "    w = [2:2:n;]\n",
    "    t = Z[w,:]\n",
    "    Z[w,:]  = Z[v,:] - t\n",
    "    Z[v,:]  = Z[v,:] + t\n",
    "    for index in 1: (log2n-1)    \n",
    "        m = 2^index\n",
    "        m2 = 2*m\n",
    "        vw = reshape([1:n;],m2,Int(n/m2))\n",
    "        v = vw[1: m, :]\n",
    "        w = vw[m+1: m2, : ]\n",
    "        indexv = reshape(Index[v[:],:],m,Int(col*n/m2))\n",
    "        indexw = reshape(Index[w[:],:],m,Int(col*n/m2))\n",
    "        Phi1 = repeat(Phi[1:Int(n/m):end],outer=[1,Int(col*n/m2)])\n",
    "        t = Phi1 .*  Z[indexw]\n",
    "        Z[indexw] = Z[indexv] - t \n",
    "        Z[indexv] = Z[indexv] + t\n",
    "    end\n",
    "    reverse(Z[2:end,:],dims=2)\n",
    "     if sign==-1\n",
    "        Z = Z/interval(n\n",
    "            )    end\n",
    "    if isrow_\n",
    "        Z = transpose(Z) #転置\n",
    "    end\n",
    "    if array1\n",
    "        Z = Z[:,1]\n",
    "    end\n",
    "    return Z\n",
    "end\n",
    "verifyfft(z::Matrix{Interval{T}}, sign=1) where {T} = verifyfft(complex.(z), sign)\n",
    "function verifyfft2(iA)\n",
    "    return permutedims(verifyfft(permutedims(verifyfft(iA),[2,1])),[2,1])\n",
    "end\n",
    "verifyfft2(interval(ones(8,8)))"
   ]
  },
  {
   "cell_type": "code",
   "execution_count": 16,
   "metadata": {},
   "outputs": [
    {
     "data": {
      "text/plain": [
       "8×8 Matrix{ComplexF64}:\n",
       " 64.0+0.0im  0.0+0.0im  0.0+0.0im  …  0.0+0.0im  0.0+0.0im  0.0+0.0im\n",
       "  0.0+0.0im  0.0+0.0im  0.0+0.0im     0.0+0.0im  0.0+0.0im  0.0+0.0im\n",
       "  0.0+0.0im  0.0+0.0im  0.0+0.0im     0.0+0.0im  0.0+0.0im  0.0+0.0im\n",
       "  0.0+0.0im  0.0+0.0im  0.0+0.0im     0.0+0.0im  0.0+0.0im  0.0+0.0im\n",
       "  0.0+0.0im  0.0+0.0im  0.0+0.0im     0.0+0.0im  0.0+0.0im  0.0+0.0im\n",
       "  0.0+0.0im  0.0+0.0im  0.0+0.0im  …  0.0+0.0im  0.0+0.0im  0.0+0.0im\n",
       "  0.0+0.0im  0.0+0.0im  0.0+0.0im     0.0+0.0im  0.0+0.0im  0.0+0.0im\n",
       "  0.0+0.0im  0.0+0.0im  0.0+0.0im     0.0+0.0im  0.0+0.0im  0.0+0.0im"
      ]
     },
     "execution_count": 16,
     "metadata": {},
     "output_type": "execute_result"
    }
   ],
   "source": [
    "fft(ones(8,8))"
   ]
  },
  {
   "cell_type": "markdown",
   "metadata": {},
   "source": [
    "## まとめ\n",
    "\n",
    "入力のベクトルに対して離散フーリエ変換を精度保証付き数値計算する方法を紹介した。現状、\n",
    "\n",
    "- Cooley-Tukey FFTアルゴリズム、Bluesteinアルゴリズム、`verifyfft`のうち`verifyfft`の実装が速度、計算精度ともに妥当である\n",
    "- それでもFFTWを使った数値計算よりも約100倍遅い（けど$N\\log N$のオーダーは素晴らしい）\n",
    "- FFTは離散畳み込みの精度保証に使える\n",
    "\n",
    "本資料は以下のような文献・Web ページ等を参考にこの文章は書いています.\n",
    "\n",
    "### 参考文献\n",
    "1. James W. Cooley and John W. Tukey, An algorithm for the machine calculation of complex Fourier series, Mathematics of Computation, 19 (1965), 297-301.\n",
    "1. L. R. Rabiner, R. W. Schafer, and C. M. Rader, The chirp z-transform algorithm and its application, Bell System Technical Journal, vol. 48, pp. 1249-1292, 1969, also published in IEEE Tr. Audio & Electroacoustics, vol. 17, no. 2, pp. 86-92, 1969.\n",
    "\n",
    "<div align=\"right\">井藤佳奈子, <a href=\"http://www.risk.tsukuba.ac.jp/~takitoshi/\">高安亮紀</a>，2021年3月2日（最終更新：2024年2月8日）</div>"
   ]
  }
 ],
 "metadata": {
  "kernelspec": {
   "display_name": "Julia 1.10.0",
   "language": "julia",
   "name": "julia-1.10"
  },
  "language_info": {
   "file_extension": ".jl",
   "mimetype": "application/julia",
   "name": "julia",
   "version": "1.10.0"
  }
 },
 "nbformat": 4,
 "nbformat_minor": 4
}
