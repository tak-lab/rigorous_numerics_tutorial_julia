{
 "cells": [
  {
   "cell_type": "markdown",
   "metadata": {},
   "source": [
    "# Juliaで精度保証付き高速フーリエ変換\n",
    "データが $N$ 個の離散フーリエ変換(DFT:discrete Fourier transform)\n",
    "$$\n",
    "X_{k}=\\sum_{n=0}^{N-1} x_{n} W_{N}^{k n},\\quad X\\in\\C^N\n",
    "$$\n",
    "に対する高速フーリエ変換(FFT:Fast Fourier Transform)の精度保証付き数値計算を考える。\n",
    "FFTの起源は1965年のJ.W.Cooleyと J.W.Tukey による論文だとされている。(これははじめにに使う)\n",
    "\n",
    "JuliaではFFTのライブラリとしては、FFTW.jlが準備されており、OCamlで最適なCのコードを自動生成する仕組みとなっている。"
   ]
  },
  {
   "cell_type": "code",
   "execution_count": 40,
   "metadata": {},
   "outputs": [
    {
     "name": "stdout",
     "output_type": "stream",
     "text": [
      "search: \u001b[0m\u001b[1mf\u001b[22m\u001b[0m\u001b[1mf\u001b[22m\u001b[0m\u001b[1mt\u001b[22m \u001b[0m\u001b[1mf\u001b[22m\u001b[0m\u001b[1mf\u001b[22m\u001b[0m\u001b[1mt\u001b[22m! \u001b[0m\u001b[1mf\u001b[22m\u001b[0m\u001b[1mf\u001b[22m\u001b[0m\u001b[1mt\u001b[22mfreq \u001b[0m\u001b[1mF\u001b[22m\u001b[0m\u001b[1mF\u001b[22m\u001b[0m\u001b[1mT\u001b[22mW \u001b[0m\u001b[1mf\u001b[22m\u001b[0m\u001b[1mf\u001b[22m\u001b[0m\u001b[1mt\u001b[22mshift r\u001b[0m\u001b[1mf\u001b[22m\u001b[0m\u001b[1mf\u001b[22m\u001b[0m\u001b[1mt\u001b[22m i\u001b[0m\u001b[1mf\u001b[22m\u001b[0m\u001b[1mf\u001b[22m\u001b[0m\u001b[1mt\u001b[22m b\u001b[0m\u001b[1mf\u001b[22m\u001b[0m\u001b[1mf\u001b[22m\u001b[0m\u001b[1mt\u001b[22m i\u001b[0m\u001b[1mf\u001b[22m\u001b[0m\u001b[1mf\u001b[22m\u001b[0m\u001b[1mt\u001b[22m! b\u001b[0m\u001b[1mf\u001b[22m\u001b[0m\u001b[1mf\u001b[22m\u001b[0m\u001b[1mt\u001b[22m! r\u001b[0m\u001b[1mf\u001b[22m\u001b[0m\u001b[1mf\u001b[22m\u001b[0m\u001b[1mt\u001b[22mfreq\n",
      "\n"
     ]
    },
    {
     "data": {
      "text/latex": [
       "\\begin{verbatim}\n",
       "fft(A [, dims])\n",
       "\\end{verbatim}\n",
       "Performs a multidimensional FFT of the array \\texttt{A}. The optional \\texttt{dims} argument specifies an iterable subset of dimensions (e.g. an integer, range, tuple, or array) to transform along. Most efficient if the size of \\texttt{A} along the transformed dimensions is a product of small primes; see \\texttt{Base.nextprod}. See also \\href{@ref}{\\texttt{plan\\_fft()}} for even greater efficiency.\n",
       "\n",
       "A one-dimensional FFT computes the one-dimensional discrete Fourier transform (DFT) as defined by\n",
       "\n",
       "$$\\operatorname{DFT}(A)[k] =\n",
       "  \\sum_{n=1}^{\\operatorname{length}(A)}\n",
       "  \\exp\\left(-i\\frac{2\\pi\n",
       "  (n-1)(k-1)}{\\operatorname{length}(A)} \\right) A[n].$$\n",
       "A multidimensional FFT simply performs this operation along each transformed dimension of \\texttt{A}.\n",
       "\n",
       "\\begin{quote}\n",
       "\\textbf{note}\n",
       "\n",
       "Note\n",
       "\n",
       "This performs a multidimensional FFT by default. FFT libraries in other languages such as Python and Octave perform a one-dimensional FFT along the first non-singleton dimension of the array. This is worth noting while performing comparisons.\n",
       "\n",
       "\\end{quote}\n"
      ],
      "text/markdown": [
       "```\n",
       "fft(A [, dims])\n",
       "```\n",
       "\n",
       "Performs a multidimensional FFT of the array `A`. The optional `dims` argument specifies an iterable subset of dimensions (e.g. an integer, range, tuple, or array) to transform along. Most efficient if the size of `A` along the transformed dimensions is a product of small primes; see `Base.nextprod`. See also [`plan_fft()`](@ref) for even greater efficiency.\n",
       "\n",
       "A one-dimensional FFT computes the one-dimensional discrete Fourier transform (DFT) as defined by\n",
       "\n",
       "$$\n",
       "\\operatorname{DFT}(A)[k] =\n",
       "  \\sum_{n=1}^{\\operatorname{length}(A)}\n",
       "  \\exp\\left(-i\\frac{2\\pi\n",
       "  (n-1)(k-1)}{\\operatorname{length}(A)} \\right) A[n].\n",
       "$$\n",
       "\n",
       "A multidimensional FFT simply performs this operation along each transformed dimension of `A`.\n",
       "\n",
       "!!! note\n",
       "    This performs a multidimensional FFT by default. FFT libraries in other languages such as Python and Octave perform a one-dimensional FFT along the first non-singleton dimension of the array. This is worth noting while performing comparisons.\n",
       "\n"
      ],
      "text/plain": [
       "\u001b[36m  fft(A [, dims])\u001b[39m\n",
       "\n",
       "  Performs a multidimensional FFT of the array \u001b[36mA\u001b[39m. The optional \u001b[36mdims\u001b[39m argument\n",
       "  specifies an iterable subset of dimensions (e.g. an integer, range, tuple,\n",
       "  or array) to transform along. Most efficient if the size of \u001b[36mA\u001b[39m along the\n",
       "  transformed dimensions is a product of small primes; see \u001b[36mBase.nextprod\u001b[39m. See\n",
       "  also \u001b[36mplan_fft()\u001b[39m for even greater efficiency.\n",
       "\n",
       "  A one-dimensional FFT computes the one-dimensional discrete Fourier\n",
       "  transform (DFT) as defined by\n",
       "\n",
       "\u001b[35m  \\operatorname{DFT}(A)[k] =\u001b[39m\n",
       "\u001b[35m  \\sum_{n=1}^{\\operatorname{length}(A)}\u001b[39m\n",
       "\u001b[35m  \\exp\\left(-i\\frac{2\\pi\u001b[39m\n",
       "\u001b[35m  (n-1)(k-1)}{\\operatorname{length}(A)} \\right) A[n].\u001b[39m\n",
       "\n",
       "  A multidimensional FFT simply performs this operation along each transformed\n",
       "  dimension of \u001b[36mA\u001b[39m.\n",
       "\n",
       "\u001b[36m\u001b[1m  │ \u001b[22m\u001b[39m\u001b[36m\u001b[1mNote\u001b[22m\u001b[39m\n",
       "\u001b[36m\u001b[1m  │\u001b[22m\u001b[39m\n",
       "\u001b[36m\u001b[1m  │\u001b[22m\u001b[39m  This performs a multidimensional FFT by default. FFT libraries in\n",
       "\u001b[36m\u001b[1m  │\u001b[22m\u001b[39m  other languages such as Python and Octave perform a\n",
       "\u001b[36m\u001b[1m  │\u001b[22m\u001b[39m  one-dimensional FFT along the first non-singleton dimension of the\n",
       "\u001b[36m\u001b[1m  │\u001b[22m\u001b[39m  array. This is worth noting while performing comparisons."
      ]
     },
     "execution_count": 40,
     "metadata": {},
     "output_type": "execute_result"
    }
   ],
   "source": [
    "?fft"
   ]
  },
  {
   "cell_type": "code",
   "execution_count": 41,
   "metadata": {},
   "outputs": [
    {
     "name": "stdout",
     "output_type": "stream",
     "text": [
      "search: \u001b[0m\u001b[1mp\u001b[22m\u001b[0m\u001b[1ml\u001b[22m\u001b[0m\u001b[1ma\u001b[22m\u001b[0m\u001b[1mn\u001b[22m\u001b[0m\u001b[1m_\u001b[22m\u001b[0m\u001b[1mf\u001b[22m\u001b[0m\u001b[1mf\u001b[22m\u001b[0m\u001b[1mt\u001b[22m \u001b[0m\u001b[1mp\u001b[22m\u001b[0m\u001b[1ml\u001b[22m\u001b[0m\u001b[1ma\u001b[22m\u001b[0m\u001b[1mn\u001b[22m\u001b[0m\u001b[1m_\u001b[22m\u001b[0m\u001b[1mf\u001b[22m\u001b[0m\u001b[1mf\u001b[22m\u001b[0m\u001b[1mt\u001b[22m! \u001b[0m\u001b[1mp\u001b[22m\u001b[0m\u001b[1ml\u001b[22m\u001b[0m\u001b[1ma\u001b[22m\u001b[0m\u001b[1mn\u001b[22m\u001b[0m\u001b[1m_\u001b[22mr\u001b[0m\u001b[1mf\u001b[22m\u001b[0m\u001b[1mf\u001b[22m\u001b[0m\u001b[1mt\u001b[22m \u001b[0m\u001b[1mp\u001b[22m\u001b[0m\u001b[1ml\u001b[22m\u001b[0m\u001b[1ma\u001b[22m\u001b[0m\u001b[1mn\u001b[22m\u001b[0m\u001b[1m_\u001b[22mi\u001b[0m\u001b[1mf\u001b[22m\u001b[0m\u001b[1mf\u001b[22m\u001b[0m\u001b[1mt\u001b[22m \u001b[0m\u001b[1mp\u001b[22m\u001b[0m\u001b[1ml\u001b[22m\u001b[0m\u001b[1ma\u001b[22m\u001b[0m\u001b[1mn\u001b[22m\u001b[0m\u001b[1m_\u001b[22mb\u001b[0m\u001b[1mf\u001b[22m\u001b[0m\u001b[1mf\u001b[22m\u001b[0m\u001b[1mt\u001b[22m \u001b[0m\u001b[1mp\u001b[22m\u001b[0m\u001b[1ml\u001b[22m\u001b[0m\u001b[1ma\u001b[22m\u001b[0m\u001b[1mn\u001b[22m\u001b[0m\u001b[1m_\u001b[22mi\u001b[0m\u001b[1mf\u001b[22m\u001b[0m\u001b[1mf\u001b[22m\u001b[0m\u001b[1mt\u001b[22m! \u001b[0m\u001b[1mp\u001b[22m\u001b[0m\u001b[1ml\u001b[22m\u001b[0m\u001b[1ma\u001b[22m\u001b[0m\u001b[1mn\u001b[22m\u001b[0m\u001b[1m_\u001b[22mb\u001b[0m\u001b[1mf\u001b[22m\u001b[0m\u001b[1mf\u001b[22m\u001b[0m\u001b[1mt\u001b[22m!\n",
      "\n"
     ]
    },
    {
     "data": {
      "text/latex": [
       "\\begin{verbatim}\n",
       "plan_fft(A [, dims]; flags=FFTW.ESTIMATE, timelimit=Inf)\n",
       "\\end{verbatim}\n",
       "Pre-plan an optimized FFT along given dimensions (\\texttt{dims}) of arrays matching the shape and type of \\texttt{A}.  (The first two arguments have the same meaning as for \\href{@ref}{\\texttt{fft}}.) Returns an object \\texttt{P} which represents the linear operator computed by the FFT, and which contains all of the information needed to compute \\texttt{fft(A, dims)} quickly.\n",
       "\n",
       "To apply \\texttt{P} to an array \\texttt{A}, use \\texttt{P * A}; in general, the syntax for applying plans is much like that of matrices.  (A plan can only be applied to arrays of the same size as the \\texttt{A} for which the plan was created.)  You can also apply a plan with a preallocated output array \\texttt{Â} by calling \\texttt{mul!(Â, plan, A)}.  (For \\texttt{mul!}, however, the input array \\texttt{A} must be a complex floating-point array like the output \\texttt{Â}.) You can compute the inverse-transform plan by \\texttt{inv(P)} and apply the inverse plan with \\texttt{P {\\textbackslash} Â} (the inverse plan is cached and reused for subsequent calls to \\texttt{inv} or \\texttt{{\\textbackslash}}), and apply the inverse plan to a pre-allocated output array \\texttt{A} with \\texttt{ldiv!(A, P, Â)}.\n",
       "\n",
       "The \\texttt{flags} argument is a bitwise-or of FFTW planner flags, defaulting to \\texttt{FFTW.ESTIMATE}. e.g. passing \\texttt{FFTW.MEASURE} or \\texttt{FFTW.PATIENT} will instead spend several seconds (or more) benchmarking different possible FFT algorithms and picking the fastest one; see the FFTW manual for more information on planner flags.  The optional \\texttt{timelimit} argument specifies a rough upper bound on the allowed planning time, in seconds. Passing \\texttt{FFTW.MEASURE} or \\texttt{FFTW.PATIENT} may cause the input array \\texttt{A} to be overwritten with zeros during plan creation.\n",
       "\n",
       "\\href{@ref}{\\texttt{plan\\_fft!}} is the same as \\href{@ref}{\\texttt{plan\\_fft}} but creates a plan that operates in-place on its argument (which must be an array of complex floating-point numbers). \\href{@ref}{\\texttt{plan\\_ifft}} and so on are similar but produce plans that perform the equivalent of the inverse transforms \\href{@ref}{\\texttt{ifft}} and so on.\n",
       "\n"
      ],
      "text/markdown": [
       "```\n",
       "plan_fft(A [, dims]; flags=FFTW.ESTIMATE, timelimit=Inf)\n",
       "```\n",
       "\n",
       "Pre-plan an optimized FFT along given dimensions (`dims`) of arrays matching the shape and type of `A`.  (The first two arguments have the same meaning as for [`fft`](@ref).) Returns an object `P` which represents the linear operator computed by the FFT, and which contains all of the information needed to compute `fft(A, dims)` quickly.\n",
       "\n",
       "To apply `P` to an array `A`, use `P * A`; in general, the syntax for applying plans is much like that of matrices.  (A plan can only be applied to arrays of the same size as the `A` for which the plan was created.)  You can also apply a plan with a preallocated output array `Â` by calling `mul!(Â, plan, A)`.  (For `mul!`, however, the input array `A` must be a complex floating-point array like the output `Â`.) You can compute the inverse-transform plan by `inv(P)` and apply the inverse plan with `P \\ Â` (the inverse plan is cached and reused for subsequent calls to `inv` or `\\`), and apply the inverse plan to a pre-allocated output array `A` with `ldiv!(A, P, Â)`.\n",
       "\n",
       "The `flags` argument is a bitwise-or of FFTW planner flags, defaulting to `FFTW.ESTIMATE`. e.g. passing `FFTW.MEASURE` or `FFTW.PATIENT` will instead spend several seconds (or more) benchmarking different possible FFT algorithms and picking the fastest one; see the FFTW manual for more information on planner flags.  The optional `timelimit` argument specifies a rough upper bound on the allowed planning time, in seconds. Passing `FFTW.MEASURE` or `FFTW.PATIENT` may cause the input array `A` to be overwritten with zeros during plan creation.\n",
       "\n",
       "[`plan_fft!`](@ref) is the same as [`plan_fft`](@ref) but creates a plan that operates in-place on its argument (which must be an array of complex floating-point numbers). [`plan_ifft`](@ref) and so on are similar but produce plans that perform the equivalent of the inverse transforms [`ifft`](@ref) and so on.\n"
      ],
      "text/plain": [
       "\u001b[36m  plan_fft(A [, dims]; flags=FFTW.ESTIMATE, timelimit=Inf)\u001b[39m\n",
       "\n",
       "  Pre-plan an optimized FFT along given dimensions (\u001b[36mdims\u001b[39m) of arrays matching\n",
       "  the shape and type of \u001b[36mA\u001b[39m. (The first two arguments have the same meaning as\n",
       "  for \u001b[36mfft\u001b[39m.) Returns an object \u001b[36mP\u001b[39m which represents the linear operator computed\n",
       "  by the FFT, and which contains all of the information needed to compute\n",
       "  \u001b[36mfft(A, dims)\u001b[39m quickly.\n",
       "\n",
       "  To apply \u001b[36mP\u001b[39m to an array \u001b[36mA\u001b[39m, use \u001b[36mP * A\u001b[39m; in general, the syntax for applying\n",
       "  plans is much like that of matrices. (A plan can only be applied to arrays\n",
       "  of the same size as the \u001b[36mA\u001b[39m for which the plan was created.) You can also\n",
       "  apply a plan with a preallocated output array \u001b[36mÂ\u001b[39m by calling \u001b[36mmul!(Â, plan, A)\u001b[39m.\n",
       "  (For \u001b[36mmul!\u001b[39m, however, the input array \u001b[36mA\u001b[39m must be a complex floating-point array\n",
       "  like the output \u001b[36mÂ\u001b[39m.) You can compute the inverse-transform plan by \u001b[36minv(P)\u001b[39m and\n",
       "  apply the inverse plan with \u001b[36mP \\ Â\u001b[39m (the inverse plan is cached and reused for\n",
       "  subsequent calls to \u001b[36minv\u001b[39m or \u001b[36m\\\u001b[39m), and apply the inverse plan to a pre-allocated\n",
       "  output array \u001b[36mA\u001b[39m with \u001b[36mldiv!(A, P, Â)\u001b[39m.\n",
       "\n",
       "  The \u001b[36mflags\u001b[39m argument is a bitwise-or of FFTW planner flags, defaulting to\n",
       "  \u001b[36mFFTW.ESTIMATE\u001b[39m. e.g. passing \u001b[36mFFTW.MEASURE\u001b[39m or \u001b[36mFFTW.PATIENT\u001b[39m will instead spend\n",
       "  several seconds (or more) benchmarking different possible FFT algorithms and\n",
       "  picking the fastest one; see the FFTW manual for more information on planner\n",
       "  flags. The optional \u001b[36mtimelimit\u001b[39m argument specifies a rough upper bound on the\n",
       "  allowed planning time, in seconds. Passing \u001b[36mFFTW.MEASURE\u001b[39m or \u001b[36mFFTW.PATIENT\u001b[39m may\n",
       "  cause the input array \u001b[36mA\u001b[39m to be overwritten with zeros during plan creation.\n",
       "\n",
       "  \u001b[36mplan_fft!\u001b[39m is the same as \u001b[36mplan_fft\u001b[39m but creates a plan that operates in-place\n",
       "  on its argument (which must be an array of complex floating-point numbers).\n",
       "  \u001b[36mplan_ifft\u001b[39m and so on are similar but produce plans that perform the\n",
       "  equivalent of the inverse transforms \u001b[36mifft\u001b[39m and so on."
      ]
     },
     "execution_count": 41,
     "metadata": {},
     "output_type": "execute_result"
    }
   ],
   "source": [
    "?plan_fft#plan_fftは、最適化されたfft関数（技術的には、プランとfftw_execute_dftのラッパー）を返すだけ?"
   ]
  },
  {
   "cell_type": "markdown",
   "metadata": {},
   "source": [
    "## 離散フーリエ変換(DFT)\n",
    "$\\newcommand{\\C}{\\mathbb{C}}$\n",
    "データが $N$ 個の離散フーリエ変換を $X\\in\\C^N$ とした場合、以下のように書くことができる。\n",
    "\n",
    "$$\n",
    "\\left(\\begin{array}{c}\n",
    "X_{0} \\\\\n",
    "X_{1} \\\\\n",
    "X_{2} \\\\\n",
    "\\vdots \\\\\n",
    "X_{k-1}\n",
    "\\end{array}\\right)=\\left(\\begin{array}{ccccc}\n",
    "1 & 1 & 1 & \\cdots & 1 \\\\\n",
    "1 & e^{-i \\frac{2 \\pi}{N}} & e^{-i \\frac{4 \\pi}{N}} & \\cdots & e^{-i \\frac{2 \\pi(N-1)}{N}} \\\\\n",
    "1 & e^{-i \\frac{4 \\pi}{N}} & e^{-i \\frac{8 \\pi}{N}} & \\cdots & e^{-i \\frac{4 \\pi(N-1)}{N}} \\\\\n",
    "\\vdots & \\vdots & \\vdots & \\ddots & \\vdots \\\\\n",
    "1 & e^{-i \\frac{2 \\pi(N-1)}{N}} & e^{-i \\frac{4 \\pi(N-1)}{N}} & \\cdots & e^{-i \\frac{2 \\pi(N-1)(N-1)}{N}}\n",
    "\\end{array}\\right)\\left(\\begin{array}{c}\n",
    "x_{0} \\\\\n",
    "x_{1} \\\\\n",
    "x_{2} \\\\\n",
    "\\vdots \\\\\n",
    "x_{n-1}\n",
    "\\end{array}\\right)\n",
    "$$\n",
    "\n",
    "$W^n_N$は回転因子という。\n",
    "$$\n",
    "W^n_N = e^{-i \\frac{2 \\pi n}{N}} = \\cos \\left(\\frac{2 \\pi n}{N}\\right)-i \\sin \\left(\\frac{2 \\pi n}{N}\\right)\n",
    "$$\n",
    "\n",
    "これを用いると、\n",
    "\n",
    "$$\n",
    "\\left(\\begin{array}{c}\n",
    "X_{0} \\\\\n",
    "X_{1} \\\\\n",
    "X_{2} \\\\\n",
    "\\vdots \\\\\n",
    "X_{k-1}\n",
    "\\end{array}\\right)=\\left(\\begin{array}{ccccc}\n",
    "1 & 1 & 1 & \\cdots & 1 \\\\\n",
    "1 & W_{N} & W_{N}^{2} & \\cdots & W_{N}^{N-1} \\\\\n",
    "1 & W_{N}^{2} & W_{N}^{4} & \\cdots & W_{N}^{2(N-1)} \\\\\n",
    "\\vdots & \\vdots & \\vdots & \\ddots & \\vdots \\\\\n",
    "1 & W_{N}^{(N-1)} & W_{N}^{2(N-1)} & \\cdots & W_{N}^{(N-1)(N-1)}\n",
    "\\end{array}\\right)\\left(\\begin{array}{c}\n",
    "x_{0} \\\\\n",
    "x_{1} \\\\\n",
    "x_{2} \\\\\n",
    "\\vdots \\\\\n",
    "x_{n-1}\n",
    "\\end{array}\\right)\n",
    "$$\n",
    "\n",
    "$$\n",
    "X_{k}=\\sum_{n=0}^{N-1} x_{n} W_{N}^{k n}\n",
    "$$\n",
    "\n",
    "ただし、$0\\leq k < n$である。"
   ]
  },
  {
   "cell_type": "markdown",
   "metadata": {},
   "source": [
    "## 高速フーリエ変換(FFT)\n",
    "FFTはDFTを高速に行うためのアルゴリズムである。DFTでは、 $X_0$ から $X_{N−1}$ の $N$ 回の計算を行うために、 $N^2$ 回複素数の四則演算を行う必要がある。しかし、データ数$N$が2の冪乗である場合、FFTを用いることで、この膨大な複素数の計算を$N \\log N$に比例する回数に減らすことができる。\n",
    "\n",
    "$$\n",
    "\\begin{array}{c}\n",
    "X_{k}^{(0)}=\\sum_{n=0}^{N / 2-1} W_{N / 2}^{n k} x_{2 n} \\quad(0 \\leq k<n / 2) \\\\\n",
    "X_{k}^{(1)}=\\sum_{n=0}^{N / 2-1} W_{N / 2}^{n k} x_{2 n+1} \\quad(0 \\leq k<n / 2) \\\\\n",
    "\\left\\{\\begin{array}{l}\n",
    "X_{k}=X_{n}^{(0)}+W_{N}^{k} X_{n}^{(1)}, \\\\\n",
    "X_{k+N / 2}=X_{n}^{(0)}-W_{N}^{k} X_{n}^{(1)} \\quad(0 \\leq k<n / 2)\n",
    "\\end{array}\\right.\n",
    "\\end{array}\n",
    "$$\n",
    "\n",
    "この考え方を利用したものがCooley-Tukey FFTアルゴリズムである。"
   ]
  },
  {
   "cell_type": "markdown",
   "metadata": {},
   "source": [
    "## Cooley-Tukey FFTアルゴリズムの実装\n",
    "Juliaを使ったCooley-Tukey FFTアルゴリズムでの精度保証付き数値計算の実装を行った。(https://github.com/JuliaApproximation/FastTransforms.jl/blob/4a076c9fbacfe5201124cfe3b1d7002dbb0a8c7b/src/fftBigFloat.jl#L11)"
   ]
  },
  {
   "cell_type": "code",
   "execution_count": 15,
   "metadata": {},
   "outputs": [
    {
     "data": {
      "text/plain": [
       "generic_fft_pow2 (generic function with 2 methods)"
      ]
     },
     "execution_count": 15,
     "metadata": {},
     "output_type": "execute_result"
    }
   ],
   "source": [
    "#Cooley-Tukey FFTアルゴリズム\n",
    "function generic_fft_pow2!(x::Vector{T}) where T\n",
    "    n,big2=length(x),2one(T)\n",
    "    nn,j=n÷2,1\n",
    "    for i=1:2:n-1\n",
    "        if j>i\n",
    "            x[j], x[i] = x[i], x[j]\n",
    "            x[j+1], x[i+1] = x[i+1], x[j+1]\n",
    "        end\n",
    "        m = nn\n",
    "        while m ≥ 2 && j > m\n",
    "            j -= m\n",
    "            m = m÷2\n",
    "        end\n",
    "        j += m\n",
    "    end\n",
    "    logn = 2\n",
    "    while logn < n\n",
    "        θ=-big2/logn\n",
    "        wtemp = sinpi(θ/2)\n",
    "        wpr, wpi = -2wtemp^2, sinpi(θ)\n",
    "        wr, wi = one(T), zero(T)\n",
    "        for m=1:2:logn-1\n",
    "            for i=m:2logn:n\n",
    "                j=i+logn\n",
    "                mixr, mixi = wr*x[j]-wi*x[j+1], wr*x[j+1]+wi*x[j]\n",
    "                x[j], x[j+1] = x[i]-mixr, x[i+1]-mixi\n",
    "                x[i], x[i+1] = x[i]+mixr, x[i+1]+mixi\n",
    "            end\n",
    "            wr = (wtemp=wr)*wpr-wi*wpi+wr\n",
    "            wi = wi*wpr+wtemp*wpi+wi\n",
    "        end\n",
    "        logn = logn << 1\n",
    "    end\n",
    "    return x\n",
    "end\n",
    "\n",
    "function interlace(a::Vector{S},b::Vector{V}) where {S,V}\n",
    "    na=length(a);nb=length(b)\n",
    "    T=promote_type(S,V)\n",
    "    if nb≥na\n",
    "        ret=zeros(T,2nb)\n",
    "        ret[1:2:1+2*(na-1)]=a\n",
    "        ret[2:2:end]=b\n",
    "        ret\n",
    "    else\n",
    "        ret=zeros(T,2na-1)\n",
    "        ret[1:2:end]=a\n",
    "        if !isempty(b)\n",
    "            ret[2:2:2+2*(nb-1)]=b\n",
    "        end\n",
    "        ret\n",
    "    end\n",
    "end\n",
    "\n",
    "function generic_fft_pow2(x::Vector{Complex{T}}) where T\n",
    "    y = interlace(real(x),imag(x))\n",
    "    generic_fft_pow2!(y)\n",
    "    return complex.(y[1:2:end],y[2:2:end])\n",
    "end\n",
    "\n",
    "generic_fft_pow2(x::Vector{T}) where {T} = generic_fft_pow2(complex(x))\n",
    "\n",
    "# function generic_fft_pow2(x::Matrix{T}) where {T} \n",
    "#     row, col = size(x)\n",
    "#     for i in 1:col\n",
    "#         x[:,i] = generic_fft_pow2(complex(x[:,i]))\n",
    "#     end\n",
    "#     return x\n",
    "# end"
   ]
  },
  {
   "cell_type": "markdown",
   "metadata": {},
   "source": [
    "## Bluestein(Chirp z)アルゴリズム\n",
    "https://www.dsprelated.com/freebooks/mdft/Bluestein_s_FFT_Algorithm.html\n",
    "\n",
    "\n",
    "Cooley-Tukey FFTアルゴリズムでは、データ数$N$が2の冪乗である場合しか計算できないという問題がある。これを解決したのがBluestein(Chirp z)アルゴリズムである。任意のデータ数$N$のDFTを畳み込みに変形してFFTで計算する。\n",
    "\\begin{align*}\n",
    "X_{k} &=\\sum_{n=0}^{N-1} x_{n} W_{N}^{k n}\\\\\n",
    "        &=\\sum_{n=0}^{N-1} x_{n} W_{N}^{-\\frac{(k-n)^{2}}{2}+\\frac{k^{2}}{2}+\\frac{n^{2}}{2}}\\\\\n",
    "        &=W_{2 N}^{k^{2}} \\sum_{n=0}^{N-1}\\left\\{x_n W_{2N}^{n^{2}}\\right\\} W_{2 N}^{-(k-n)^{2}}\n",
    "\\end{align*}\n",
    "ここで、$\\left\\{\\alpha_{n}\\right\\},\\left\\{\\beta_{n}\\right\\}$を以下のように定め,$X_{k}$を書き換える。\n",
    "$$\n",
    "\\begin{aligned}\n",
    "\\alpha_{n} &=x_n W_{2 N}^{n^{2}} \\\\\n",
    "\\beta_{n} &=W_{2 N}^{-n^{2}}\\\\\n",
    "X_{k}&=\\beta_{k}^{*} \\sum_{n=0}^{N-1} \\alpha_{n} \\beta_{k-n}\\\\\n",
    "&=\\beta_{k}^{*}\\left(\\alpha_{k} * \\beta_{k}\\right)\n",
    "\\end{aligned}\n",
    "$$\n",
    "次に、FFTでこの畳み込み演算$ \\alpha_{k} * \\beta_{k} $を考える。\n",
    "このときのFFTの長さ$ L $は、$\\alpha_{n},\\beta_{n}$の長さを$n_{u},n_{v}$とすれば、$ L $は$ L \\leq n_{u}+ n_{v} - 1$を満たす最小の2の冪乗数を選ぶこととする。\n",
    "これにより、$\\alpha_{n},\\beta_{n}$は、\n",
    "$$\n",
    "\\alpha_{n}^{\\prime}=\\left\\{\\begin{array}{ll}\n",
    "n & (0 \\leq n<N) \\\\\n",
    "0 & (N \\leq n<L)\n",
    "\\end{array}\\right.\n",
    "$$\n",
    "\n",
    "$$\n",
    "\\left\\{\\begin{aligned}\n",
    "\\beta_{0}^{\\prime} &=\\beta_{0}\\quad(n=0) \\\\\n",
    "\\beta_{n}^{\\prime}=\\beta_{L-n}^{\\prime} &=\\beta_{n} \\quad (0<n<N) \\\\\n",
    "\\beta_{n}^{\\prime} &=0 \\quad (N \\leq n \\leq L-N)\n",
    "\\end{aligned}\\right.\n",
    "$$\n",
    "\n",
    "となる。FFTを用いて$\\alpha_{n}^{\\prime},\\beta_{n}^{\\prime}$を計算し、その値を逆フーリエ変換(IFFT:inverse fast Fourier transform)して出てくる値を$\\gamma_{k}^{\\prime}$とする。これが$ \\alpha_{k} * \\beta_{k} $となる。以上より、$ X_{k} $が求まる。\n",
    "\n",
    "$$\n",
    "X_{k}=\\beta_{k}^{*} \\gamma_{k}^{\\prime}\n",
    "$$\n",
    "\n"
   ]
  },
  {
   "cell_type": "code",
   "execution_count": 16,
   "metadata": {},
   "outputs": [
    {
     "data": {
      "text/plain": [
       "generic_ifft_pow2 (generic function with 1 method)"
      ]
     },
     "execution_count": 16,
     "metadata": {},
     "output_type": "execute_result"
    }
   ],
   "source": [
    "function Bluestein_fft(x::Vector{T}) where T\n",
    "#     T <: FFTW.fftwNumber && (@warn(\"Using generic fft for FFTW number type.\"))\n",
    "    n = length(x)\n",
    "    ispow2(n) && return generic_fft_pow2(x)\n",
    "    ks = range(zero(real(T)),stop=n-one(real(T)),length=n)\n",
    "    Wks = exp.((-im).*convert(T,π).*ks.^2 ./ n)\n",
    "    xq, wq = x.*Wks, conj([exp(-im*convert(T,π)*n);reverse(Wks);Wks[2:end]])\n",
    "    return Wks.*conv(xq,wq)[n+1:2n]\n",
    "end\n",
    "\n",
    "function conv(u::StridedVector{T}, v::StridedVector{T}) where T\n",
    "    nu,nv = length(u),length(v)\n",
    "    n = nu + nv - 1\n",
    "    np2 = nextpow(2,n)\n",
    "    append!(u,zeros(T,np2-nu)),append!(v,zeros(T,np2-nv))\n",
    "    y = generic_ifft_pow2(generic_fft_pow2(u).*generic_fft_pow2(v))\n",
    "    #TODO This would not handle Dual/ComplexDual numbers correctly\n",
    "    y = T<:Real ? real(y[1:n]) : y[1:n]\n",
    "end\n",
    "\n",
    "function generic_ifft_pow2(x::Vector{Complex{T}}) where T\n",
    "    y = interlace(real(x),-imag(x))\n",
    "    generic_fft_pow2!(y)\n",
    "    return complex.(y[1:2:end],-y[2:2:end])/length(x)\n",
    "end"
   ]
  },
  {
   "cell_type": "code",
   "execution_count": null,
   "metadata": {},
   "outputs": [],
   "source": []
  },
  {
   "cell_type": "markdown",
   "metadata": {},
   "source": [
    "## 計算結果\n",
    "Cooley-Tukey アルゴリズム、Bluesteinアルゴリズム及び通常のFFTW.jlでの計算時間は以下のようになった。"
   ]
  },
  {
   "cell_type": "code",
   "execution_count": 23,
   "metadata": {},
   "outputs": [
    {
     "name": "stdout",
     "output_type": "stream",
     "text": [
      "  0.282398 seconds (503 allocations: 20.019 MiB)\n",
      "  0.258835 seconds (503 allocations: 20.019 MiB)\n",
      "  0.007379 seconds (35 allocations: 4.003 MiB, 45.29% gc time)\n",
      "  0.002169 seconds (35 allocations: 4.003 MiB)\n"
     ]
    }
   ],
   "source": [
    "# using BenchmarkTools\n",
    "using IntervalArithmetic, FFTW\n",
    "N=2^17\n",
    "A  = randn(N)\n",
    "iA = map(Interval, A)\n",
    "# fft(A_real)\n",
    "# generic_fft_pow2(A_real)\n",
    "@time generic_fft_pow2(iA)\n",
    "@time generic_fft_pow2(iA)\n",
    "\n",
    "# @time generic_fft_pow2(A)\n",
    "@time fft(A)\n",
    "@time fft(A);"
   ]
  },
  {
   "cell_type": "code",
   "execution_count": 21,
   "metadata": {},
   "outputs": [
    {
     "name": "stdout",
     "output_type": "stream",
     "text": [
      "  0.017196 seconds (14 allocations: 10.001 MiB)\n"
     ]
    }
   ],
   "source": [
    "using IntervalArithmetic\n",
    "A  = randn(N)\n",
    "iA = map(Interval, A)\n",
    "N=2^17\n",
    "@time Bluestein_fft(A);"
   ]
  },
  {
   "cell_type": "code",
   "execution_count": 60,
   "metadata": {},
   "outputs": [
    {
     "name": "stdout",
     "output_type": "stream",
     "text": [
      "  0.000325 seconds (35 allocations: 258.625 KiB)\n",
      "  0.014636 seconds (387 allocations: 1.265 MiB)\n"
     ]
    },
    {
     "data": {
      "text/plain": [
       "13.0"
      ]
     },
     "execution_count": 60,
     "metadata": {},
     "output_type": "execute_result"
    }
   ],
   "source": [
    "using LinearAlgebra\n",
    "N=2^13\n",
    "B  = randn(N)\n",
    "iB = map(Interval, B)\n",
    "@time a1 = fft(B)\n",
    "@time a2 = Bluestein_fft(iB);\n",
    "# norm(a1-a2,Inf)\n",
    "log2(sum(a1 .∈ a2))"
   ]
  },
  {
   "cell_type": "markdown",
   "metadata": {},
   "source": [
    "JuliaでCooley-Tukey アルゴリズム、Bluesteinアルゴリズムを用いた精度保証を行うと、通常の数値計算と比べて100倍ほどの時間がかかることがわかる。"
   ]
  },
  {
   "cell_type": "markdown",
   "metadata": {},
   "source": [
    "## MATLABからJuliaへのFTTの実装\n",
    "S.M.RumpはMATLAB上で精度保証付き数値計算を行うINTLABにて、精度保証付きFFTの実装を行った。以下のコードは、これをJuliaで実装できるようにしたものである。\n",
    "\n",
    "それにあたって、verifyfft.mで使用していた定数(INTLAB_CONST.FFTDATA_R,INTLAB_CONST.FFTDATA_D)に関してのみ、Juliaで使用できるよう、バイナリファイルで読み取りを行い使用している。"
   ]
  },
  {
   "cell_type": "code",
   "execution_count": 4,
   "metadata": {},
   "outputs": [],
   "source": [
    "r_real = Array{Float64}(undef, 2^14, 1)\n",
    "\n",
    "file = open(\"INTLAB_CONST.FFTDATA_R_real.bin\", \"r\")\n",
    "read!(file, r_real)\n",
    "close(file)\n",
    "\n",
    "r_imag = Array{Float64}(undef, 2^14, 1)\n",
    "file = open(\"INTLAB_CONST.FFTDATA_R_imag.bin\", \"r\")\n",
    "read!(file, r_imag)\n",
    "close(file)\n",
    "\n",
    "r = r_real + im*r_imag\n",
    "\n",
    "d = Array{Float64}(undef, 14, 1)\n",
    "file = open(\"INTLAB_CONST.FFTDATA_D.bin\", \"r\")\n",
    "read!(file, d)\n",
    "close(file)"
   ]
  },
  {
   "cell_type": "code",
   "execution_count": 5,
   "metadata": {},
   "outputs": [
    {
     "data": {
      "text/plain": [
       "verifyfft (generic function with 2 methods)"
      ]
     },
     "execution_count": 5,
     "metadata": {},
     "output_type": "execute_result"
    }
   ],
   "source": [
    "using IntervalArithmetic\n",
    "\n",
    "function verifyfft(z,sign=1)\n",
    "    Z = similar(z)\n",
    "    if isa(z,Array{T,1} where T)\n",
    "        n = length(z); col = 1; array1 = true\n",
    "    else\n",
    "        n, col = size(z); array1 = false\n",
    "    end\n",
    "    \n",
    "    if n==1\n",
    "        if col==1\n",
    "            Z = map(interval,z)\n",
    "            return Z\n",
    "        else\n",
    "            isrow_ = true\n",
    "            z = z[:]\n",
    "            n = col\n",
    "            col = 1\n",
    "        end\n",
    "    else\n",
    "        isrow_ = false\n",
    "    end\n",
    "    \n",
    "    log2n = Int(round(log2(n))) #check dimension\n",
    "    \n",
    "    if 2^log2n ≠ n #2の倍数でない場合はエラー表示\n",
    "        error(\"length must be power of 2\")\n",
    "    end\n",
    "    \n",
    "    #bit-reversal(ビットリバース)\n",
    "    f = 2^(log2n-1)\n",
    "    v = [0;f]\n",
    "    for k = 1:log2n-1\n",
    "        f = 0.5*f\n",
    "        v = append!(v,f.+v)\n",
    "    end\n",
    "    \n",
    "    z2 = zeros(n,col)\n",
    "\n",
    "    if isa(z[1],Interval)\n",
    "        z2 = map(Interval,z2)\n",
    "    end\n",
    "    \n",
    "    #zを入れ替え\n",
    "    for j = 1: n\n",
    "        z2[j,:] = z[v[j]+1,:]\n",
    "    end\n",
    "    \n",
    "    #Danielson-Lanczos algorithm\n",
    "    Z = complex(map(interval,z2))\n",
    "    Index = reshape([1:n*col;],n,col)\n",
    "    \n",
    "    nmax=2^14\n",
    "    \n",
    "    if n <=nmax\n",
    "        c =r[1:Int(nmax/n):nmax]\n",
    "        dd = d[log2n]\n",
    "        Phizero = zeros(n)\n",
    "        Phi = complex(map(interval,Phizero))\n",
    "        \n",
    "        for i = 1: n\n",
    "            Phi[i] = (real(c[i]).± dd) +  im * (imag(c[i]).± dd)\n",
    "        end\n",
    "        \n",
    "        if sign==-1\n",
    "            Phi = adjoint.(Phi)      \n",
    "        end\n",
    "    \n",
    "    else\n",
    "        h = (0:n-1)/n # division exact because n is power of 2\n",
    "    ##############\n",
    "        Phi = exp.(im*@interval(pi).*h) # SLOW (INTLAB uses table is better...)   \n",
    "    end\n",
    "    \n",
    "    v = [1:2:n;]\n",
    "    w = [2:2:n;]\n",
    "    t = Z[w,:]\n",
    "    Z[w,:]  = Z[v,:] - t\n",
    "    Z[v,:]  = Z[v,:] + t\n",
    "    \n",
    "    for index　in 1: (log2n-1)    \n",
    "        m = 2^index\n",
    "        m2 = 2*m\n",
    "        vw = reshape([1:n;],m2,Int(n/m2))\n",
    "        v = vw[1: m, :]\n",
    "        w = vw[m+1: m2, : ]\n",
    "\n",
    "        indexv = reshape(Index[v[:],:],m,Int(col*n/m2))\n",
    "        indexw = reshape(Index[w[:],:],m,Int(col*n/m2))\n",
    "    \n",
    "        Phi1 = repeat(Phi[1:Int(n/m):end],outer=[1,Int(col*n/m2)])\n",
    "\n",
    "        t = Phi1 .*  Z[indexw]\n",
    "        \n",
    "        Z[indexw] = Z[indexv] - t \n",
    "        Z[indexv] = Z[indexv] + t\n",
    "end\n",
    "\n",
    "    reverse(Z[2:end,:],dims=2)\n",
    "\n",
    "     if sign==-1\n",
    "        Z = Z/n\n",
    "    end\n",
    "    \n",
    "    if isrow_\n",
    "        Z = transpose(Z)　#転置\n",
    "    end\n",
    "    \n",
    "    if array1\n",
    "        Z = Z[:,1]\n",
    "    end\n",
    "    \n",
    "    return Z\n",
    "end"
   ]
  },
  {
   "cell_type": "code",
   "execution_count": 6,
   "metadata": {},
   "outputs": [
    {
     "name": "stdout",
     "output_type": "stream",
     "text": [
      "z = real(verifyfft(z)) = Interval{Float64}[[7.99999, 8.00001], [-0, 0], [-1.36717e-16, 1.36717e-16], [-0, 0], [-8.88179e-16, 4.4409e-16], [-0, 0], [-1.36717e-16, 1.36717e-16], [-0, 0]]\n"
     ]
    },
    {
     "data": {
      "text/plain": [
       "8-element Array{Interval{Float64},1}:\n",
       "      [7.99999, 8.00001]\n",
       " [-0, 0]\n",
       "     [-1.36717e-16, 1.36717e-16]\n",
       " [-0, 0]\n",
       "     [-8.88179e-16, 4.4409e-16]\n",
       " [-0, 0]\n",
       "     [-1.36717e-16, 1.36717e-16]\n",
       " [-0, 0]"
      ]
     },
     "execution_count": 6,
     "metadata": {},
     "output_type": "execute_result"
    }
   ],
   "source": [
    "z = map(Interval,ones(8))\n",
    "@show z = real(verifyfft(z))\n",
    "# n = length(z)\n",
    "# @show real(generic_fft_pow2(ones(8,1)))\n",
    "# isa(z[1],Interval)"
   ]
  },
  {
   "cell_type": "code",
   "execution_count": 20,
   "metadata": {},
   "outputs": [
    {
     "name": "stdout",
     "output_type": "stream",
     "text": [
      "  1.105904 seconds (12.52 M allocations: 919.372 MiB, 12.58% gc time)\n",
      "  0.270486 seconds (503 allocations: 20.019 MiB, 1.20% gc time)\n",
      "  0.002505 seconds (35 allocations: 4.003 MiB)\n"
     ]
    }
   ],
   "source": [
    "using IntervalArithmetic, FFTW\n",
    "N=2^17\n",
    "A  = randn(N)\n",
    "iA = map(Interval, A)\n",
    "\n",
    "@time z1 = verifyfft(A)\n",
    "\n",
    "@time generic_fft_pow2(iA)\n",
    "\n",
    " @time fft(A)\n",
    "# @time fft(A);\n"
   ]
  },
  {
   "cell_type": "markdown",
   "metadata": {},
   "source": [
    "今回実装を行ったものは全て1次元のFFTである。2次元のFFTの計算を行う場合は`verifyfft(verifyfft(A,1).',1).'`と計算を行えば良い。"
   ]
  },
  {
   "cell_type": "markdown",
   "metadata": {},
   "source": [
    "### さらに早く計算するには\n",
    "- 並列処理の設定を行う。export JULIA_NUM_THREADS=8などと、スレッド数を指定。\n",
    "- planfftを利用し、inplace(計算機科学においてデータ構造の変換を行うにあたって、追加の記憶領域をほとんど使わずに行うアルゴリズム)を行う。\n",
    "- Juiaでも、MATLABと同じくMLKを使用する。"
   ]
  },
  {
   "cell_type": "markdown",
   "metadata": {},
   "source": [
    "下のコードはMATLABのverifyfftのコード"
   ]
  },
  {
   "cell_type": "markdown",
   "metadata": {},
   "source": [
    "function Z = verifyfft(z,sign)\n",
    "%VERIFYFFT    Verified forward and backward 1-dimensional FFT\n",
    "%\n",
    "%   res = verifyfft(z,sign)\n",
    "%\n",
    "%   z     input vector or matrix\n",
    "%         length of z must be a power of 2 \n",
    "%   sign   1 forward FFT (default)\n",
    "%         -1 inverse FFT\n",
    "% \n",
    "%As in Matlab, the inverse FFT is scaled such that forward and inverse FFT\n",
    "%are inverse operations.\n",
    "%For matrix input, FFT is performed on each column; row vector input\n",
    "%is converted into column vector. \n",
    "%For N-dimensional FFT apply verifyfft N times.\n",
    "% \n",
    "\n",
    "% written  09/24/14     S.M. Rump  (based no Marcio Gameiro's code)\n",
    "% modified 01/16/16     S.M. Rump  improved error estimates\n",
    "%\n",
    "\n",
    "% data generated by fft_data_gen\n",
    "%\n",
    "\n",
    "  global INTLAB_CONST\n",
    "  \n",
    "  [n,col] = size(z);\n",
    "  if n==1\n",
    "    if col==1\n",
    "      Z = intval(z);\n",
    "      return\n",
    "    else\n",
    "      isrow = 1;\n",
    "      z = z(:);\n",
    "      n = col;\n",
    "      col = 1;\n",
    "    end\n",
    "  else\n",
    "    isrow = 0;\n",
    "  end\n",
    "    \n",
    "  if nargin==1\n",
    "    sign = 1;       % default: forward\n",
    "  end\n",
    "  \n",
    "  % check dimension\n",
    "  log2n = round(log2(n));\n",
    "  if 2^log2n~=n\n",
    "    error('length must be power of 2')\n",
    "  end\n",
    "  \n",
    "  % bit-reversal\n",
    "  % v = bin2dec(fliplr(dec2bin(0:n-1,log2n))) + 1\n",
    "  f = 2^(log2n-1);\n",
    "  v = [0;f]; \n",
    "  for k=1:log2n-1\n",
    "    f = 0.5*f;\n",
    "    v = [ v ; f+v ];\n",
    "  end\n",
    "  z = z(v+1,:);\n",
    "  \n",
    "  % Danielson-Lanczos algorithm\n",
    "  Z = intval(z);\n",
    "  Index = reshape(1:n*col,n,col);\n",
    "  nmax = INTLAB_CONST.FFTDATA_NMAX; % maximum in fft_data\n",
    "  if n<=nmax\n",
    "    r = INTLAB_CONST.FFTDATA_R;     % roots of unity in  r +/- d\n",
    "    d = INTLAB_CONST.FFTDATA_D(log2n);\n",
    "    Phi = midrad(r(1:nmax/n:nmax),d);\n",
    "    if sign==-1\n",
    "      Phi = (Phi.')';      \n",
    "    end\n",
    "  else\n",
    "    % compute roots of unity, division exact because n is power of 2\n",
    "    theta = intval('pi') * ( sign*(0:(n-1))'/n ); \n",
    "    Phi = cos(theta) + 1i*sin(theta);\n",
    "  end\n",
    "  v = 1:2:n;\n",
    "  w = 2:2:n;\n",
    "  t = Z(w,:);\n",
    "  Z(w,:) = Z(v,:) - t;\n",
    "  Z(v,:) = Z(v,:) + t;\n",
    "  \n",
    "  for index=1:(log2n-1)     % Executed log2(n) times\n",
    "    m = 2^index;\n",
    "    m2 = 2*m;\n",
    "    vw = reshape(1:n,m2,n/m2);\n",
    "    v = vw(1:m,:);\n",
    "    w = vw(m+1:m2,:);\n",
    "%     t = bsxfun(@times,exp(1i*pi*(0:m-1)'/m),Z(w));  % doesn't work for intervals\n",
    "%     theta = intval('pi') * (sign*(0:(m-1))'/m);     % division exact because m=2^p\n",
    "%     t = exp(1i*theta) .* Z(w);\n",
    "    indexv = reshape(Index(v(:),:),m,col*n/m2);\n",
    "    indexw = reshape(Index(w(:),:),m,col*n/m2);\n",
    "%     t = repmat(Phi(1:n/m:end),1,n/m2*col);\n",
    "    t = Phi(1:n/m:end,ones(1,n/m2*col)) .* Z(indexw);   % Tony's trick\n",
    "    Z(indexw) = Z(indexv) - t;\n",
    "    Z(indexv) = Z(indexv) + t;\n",
    "  end\n",
    "  \n",
    "  Z = [Z(1,:); flipud(Z(2:end,:))];\n",
    "  if sign==-1\n",
    "    Z = Z/n;        % error-free since n is a power of 2\n",
    "  end\n",
    "  \n",
    "  if isrow          % change to row vector\n",
    "    Z = transpose(Z);\n",
    "  end\n",
    "  \n",
    "end\n"
   ]
  },
  {
   "cell_type": "markdown",
   "metadata": {},
   "source": [
    "L. R. Rabiner, R. W. Schafer, and C. M. Rader, ``The chirp z-transform algorithm and its application,'' Bell System Technical Journal, vol. 48, pp. 1249-1292, 1969,\n",
    "also published in IEEE Tr. Audio & Electroacoustics, vol. 17, no. 2, pp. 86-92, 1969."
   ]
  },
  {
   "cell_type": "code",
   "execution_count": null,
   "metadata": {},
   "outputs": [],
   "source": []
  }
 ],
 "metadata": {
  "kernelspec": {
   "display_name": "Julia 1.5.0",
   "language": "julia",
   "name": "julia-1.5"
  },
  "language_info": {
   "file_extension": ".jl",
   "mimetype": "application/julia",
   "name": "julia",
   "version": "1.5.0"
  }
 },
 "nbformat": 4,
 "nbformat_minor": 4
}
