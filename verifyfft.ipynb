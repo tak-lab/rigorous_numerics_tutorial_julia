{
 "cells": [
  {
   "cell_type": "markdown",
   "metadata": {},
   "source": [
    "# 高速フーリエ変換(FFT)の正確さ\n",
    "\n",
    "## 高速フーリエ変換(FFT)とは\n",
    "高速フーリエ変換(FFT:Fast Fourier Transform)とは、離散フーリエ変換(DFT:Discrete Fourier Transform)を高速に行うアルゴリズムを指す。\n",
    "\n",
    "### 離散フーリエ変換(DFT)\n",
    "\n",
    "$\\newcommand{\\C}{\\mathbb{C}}$\n",
    "\n",
    "データが $N$ 個の離散フーリエ変換を $X\\in\\C^N$ とした場合、以下のように書くことができる。\n",
    "\n",
    "$$\n",
    "\\left(\\begin{array}{c}\n",
    "X_{0} \\\\\n",
    "X_{1} \\\\\n",
    "X_{2} \\\\\n",
    "\\vdots \\\\\n",
    "X_{N-1}\n",
    "\\end{array}\\right)=\\left(\\begin{array}{ccccc}\n",
    "1 & 1 & 1 & \\cdots & 1 \\\\\n",
    "1 & e^{-i \\frac{2 \\pi}{N}} & e^{-i \\frac{4 \\pi}{N}} & \\cdots & e^{-i \\frac{2 \\pi(N-1)}{N}} \\\\\n",
    "1 & e^{-i \\frac{4 \\pi}{N}} & e^{-i \\frac{8 \\pi}{N}} & \\cdots & e^{-i \\frac{4 \\pi(N-1)}{N}} \\\\\n",
    "\\vdots & \\vdots & \\vdots & \\ddots & \\vdots \\\\\n",
    "1 & e^{-i \\frac{2 \\pi(N-1)}{N}} & e^{-i \\frac{4 \\pi(N-1)}{N}} & \\cdots & e^{-i \\frac{2 \\pi(N-1)(N-1)}{N}}\n",
    "\\end{array}\\right)\\left(\\begin{array}{c}\n",
    "x_{0} \\\\\n",
    "x_{1} \\\\\n",
    "x_{2} \\\\\n",
    "\\vdots \\\\\n",
    "x_{N-1}\n",
    "\\end{array}\\right)\n",
    "$$\n",
    "\n",
    "$W^n_N$は回転因子という。\n",
    "$$\n",
    "W^n_N = e^{-i \\frac{2 \\pi n}{N}} = \\cos \\left(\\frac{2 \\pi n}{N}\\right)-i \\sin \\left(\\frac{2 \\pi n}{N}\\right)\n",
    "$$\n",
    "\n",
    "これを用いると、\n",
    "\n",
    "$$\n",
    "\\left(\\begin{array}{c}\n",
    "X_{0} \\\\\n",
    "X_{1} \\\\\n",
    "X_{2} \\\\\n",
    "\\vdots \\\\\n",
    "X_{N-1}\n",
    "\\end{array}\\right)=\\left(\\begin{array}{ccccc}\n",
    "1 & 1 & 1 & \\cdots & 1 \\\\\n",
    "1 & W_{N} & W_{N}^{2} & \\cdots & W_{N}^{N-1} \\\\\n",
    "1 & W_{N}^{2} & W_{N}^{4} & \\cdots & W_{N}^{2(N-1)} \\\\\n",
    "\\vdots & \\vdots & \\vdots & \\ddots & \\vdots \\\\\n",
    "1 & W_{N}^{(N-1)} & W_{N}^{2(N-1)} & \\cdots & W_{N}^{(N-1)(N-1)}\n",
    "\\end{array}\\right)\\left(\\begin{array}{c}\n",
    "x_{0} \\\\\n",
    "x_{1} \\\\\n",
    "x_{2} \\\\\n",
    "\\vdots \\\\\n",
    "x_{N-1}\n",
    "\\end{array}\\right)\n",
    "$$\n",
    "\n",
    "$$\n",
    "X_{n}=\\sum_{k=0}^{N-1} x_{k} W_{N}^{n k}\n",
    "$$\n",
    "\n",
    "離散フーリエ変換では、 $X_0$ から $X_{N−1}$ の $N$ 回の離散フーリエ変換を行うために、 $N^2$ 回、複素数の四則演算を行う必要がある。しかし高速フーリエ変換では、この膨大な複素数の計算を$\\frac{N}{2}( \\log _{2} N-1)$回に減らすことができる。\n",
    "高速フーリエ変換では、データ数が2の冪乗である必要がある。"
   ]
  },
  {
   "cell_type": "markdown",
   "metadata": {},
   "source": [
    "$N=4$の時、\n",
    "$$\n",
    "\\left(\\begin{array}{c}\n",
    "X_{0} \\\\\n",
    "X_{1} \\\\\n",
    "X_{2} \\\\\n",
    "X_{3}\n",
    "\\end{array}\\right)=\\left(\\begin{array}{ccccc}\n",
    "1 & 1 & 1 &  1 \\\\\n",
    "1 & W_{4}^{1} & W_{4}^{2} &  W_{4}^{3} \\\\\n",
    "1 & W_{4}^{2} & W_{4}^{4} &  W_{4}^{6} \\\\\n",
    "1 & W_{4}^{3} & W_{4}^{6} &  W_{4}^{9} \\\\\n",
    "\\end{array}\\right)\\left(\\begin{array}{c}\n",
    "x_{0} \\\\\n",
    "x_{1} \\\\\n",
    "x_{2} \\\\\n",
    "x_{3}\n",
    "\\end{array}\\right)\n",
    "$$\n",
    "\n",
    "$$\n",
    "\\left(\\begin{array}{c}\n",
    "X_{0} \\\\\n",
    "X_{1} \\\\\n",
    "X_{2} \\\\\n",
    "X_{3}\n",
    "\\end{array}\\right)=\\left(\\begin{array}{ccccc}\n",
    "1 & 1 & 1 &  1 \\\\\n",
    "1 & W_{4}^{1} & -1 &  W_{4}^{3} \\\\\n",
    "1 & -1 & 1 & -1 \\\\\n",
    "1 & W_{4}^{3} & -1 &  W_{4}^{9} \\\\\n",
    "\\end{array}\\right)\\left(\\begin{array}{c}\n",
    "x_{0} \\\\\n",
    "x_{1} \\\\\n",
    "x_{2} \\\\\n",
    "x_{3}\n",
    "\\end{array}\\right)\n",
    "$$\n",
    "\n",
    "ここで、ビットリバース(データの値の数を2進数にしてビットの0と1を逆にする)を行うと、\n",
    "\n",
    "$$\n",
    "\\left(\\begin{array}{c}\n",
    "X_{0} \\\\\n",
    "X_{2} \\\\\n",
    "X_{1} \\\\\n",
    "X_{3}\n",
    "\\end{array}\\right)=\\left(\\begin{array}{ccccc}\n",
    "1 & 1 & 1 &  1 \\\\\n",
    "1 & -1 & 1 & -1 \\\\\n",
    "1 & W_{4}^{1} & -1 &  W_{4}^{3} \\\\\n",
    "1 & W_{4}^{3} & -1 &  W_{4}^{9} \\\\\n",
    "\\end{array}\\right)\\left(\\begin{array}{c}\n",
    "x_{0} \\\\\n",
    "x_{1} \\\\\n",
    "x_{2} \\\\\n",
    "x_{3}\n",
    "\\end{array}\\right)\n",
    "$$\n",
    "\n",
    "$$\n",
    "\\begin{array}{l}\n",
    "X_{0}=x_{0}+x_{1}+x_{2}+x_{3} \\\\\n",
    "X_{2}=x_{0}-x_{1}+x_{2}-x_{3} \\\\\n",
    "\\\\\n",
    "X_{1}=x_{0}+x_{1} W_{4}^{1}-x_{2}+x_{3} W_{4}^{3} \\\\\n",
    "X_{3}=x_{0}+x_{1} W_{4}^{3}-x_{2}+x_{3} W_{4}^{9}=x_{0}+x_{1} W_{4}^{3}-x_{2}+x_{3} W_{4}^{1}\n",
    "\\end{array}\n",
    "$$\n",
    "\n",
    "整理すると、\n",
    "\n",
    "$$\n",
    "\\begin{array}{l}\n",
    "X_{0}=\\left(x_{0}+x_{2}\\right)+\\left(x_{1}+x_{3}\\right) \\\\\n",
    "X_{2}=\\left(x_{0}+x_{2}\\right)-\\left(x_{1}+x_{3}\\right) \\\\\n",
    "\\\\\n",
    "X_{1}=\\left(x_{0}-x_{2}\\right)+W_{4}^{1}\\left(x_{1}+x_{3} W_{4}^{2}\\right)=W_{4}^{0}\\left(x_{0}-x_{2}\\right)+W_{4}^{1}\\left(x_{1}-x_{3}\\right) \\\\\n",
    "X_{3}=\\left(x_{0}-x_{2}\\right)+W_{4}^{1}\\left(x_{1} W_{4}^{2}+x_{3}\\right)=W_{4}^{0}\\left(x_{0}-x_{2}\\right)-W_{4}^{1}\\left(x_{1}-x_{3}\\right)\n",
    "\\end{array}\n",
    "$$"
   ]
  },
  {
   "cell_type": "markdown",
   "metadata": {},
   "source": [
    "Juliaでは高速フーリエ変換のライブラリとして、FFTW.jlが準備されている(OCamlで最適なCのコードを自動生成する仕組み)。"
   ]
  },
  {
   "cell_type": "code",
   "execution_count": null,
   "metadata": {},
   "outputs": [],
   "source": [
    "using FFTW"
   ]
  },
  {
   "cell_type": "code",
   "execution_count": null,
   "metadata": {},
   "outputs": [],
   "source": [
    "?fft"
   ]
  },
  {
   "cell_type": "code",
   "execution_count": null,
   "metadata": {},
   "outputs": [],
   "source": [
    "?plan_fft#plan_fftは、最適化されたfft関数（技術的には、プランとfftw_execute_dftのラッパー）を返すだけ?"
   ]
  },
  {
   "cell_type": "code",
   "execution_count": 1,
   "metadata": {},
   "outputs": [
    {
     "data": {
      "text/plain": [
       "generic_ifft_pow2 (generic function with 1 method)"
      ]
     },
     "execution_count": 1,
     "metadata": {},
     "output_type": "execute_result"
    }
   ],
   "source": [
    "#Cooley-Tukey FFTアルゴリズム\n",
    "function generic_fft_pow2!(x::Vector{T}) where T\n",
    "    n,big2=length(x),2one(T)\n",
    "    nn,j=n÷2,1\n",
    "    for i=1:2:n-1\n",
    "        if j>i\n",
    "            x[j], x[i] = x[i], x[j]\n",
    "            x[j+1], x[i+1] = x[i+1], x[j+1]\n",
    "        end\n",
    "        m = nn\n",
    "        while m ≥ 2 && j > m\n",
    "            j -= m\n",
    "            m = m÷2\n",
    "        end\n",
    "        j += m\n",
    "    end\n",
    "    logn = 2\n",
    "    while logn < n\n",
    "        θ=-big2/logn\n",
    "        wtemp = sinpi(θ/2)\n",
    "        wpr, wpi = -2wtemp^2, sinpi(θ)\n",
    "        wr, wi = one(T), zero(T)\n",
    "        for m=1:2:logn-1\n",
    "            for i=m:2logn:n\n",
    "                j=i+logn\n",
    "                mixr, mixi = wr*x[j]-wi*x[j+1], wr*x[j+1]+wi*x[j]\n",
    "                x[j], x[j+1] = x[i]-mixr, x[i+1]-mixi\n",
    "                x[i], x[i+1] = x[i]+mixr, x[i+1]+mixi\n",
    "            end\n",
    "            wr = (wtemp=wr)*wpr-wi*wpi+wr\n",
    "            wi = wi*wpr+wtemp*wpi+wi\n",
    "        end\n",
    "        logn = logn << 1\n",
    "    end\n",
    "    return x\n",
    "end\n",
    "\n",
    "function interlace(a::Vector{S},b::Vector{V}) where {S,V}\n",
    "    na=length(a);nb=length(b)\n",
    "    T=promote_type(S,V)\n",
    "    if nb≥na\n",
    "        ret=zeros(T,2nb)\n",
    "        ret[1:2:1+2*(na-1)]=a\n",
    "        ret[2:2:end]=b\n",
    "        ret\n",
    "    else\n",
    "        ret=zeros(T,2na-1)\n",
    "        ret[1:2:end]=a\n",
    "        if !isempty(b)\n",
    "            ret[2:2:2+2*(nb-1)]=b\n",
    "        end\n",
    "        ret\n",
    "    end\n",
    "end\n",
    "\n",
    "function generic_fft_pow2(x::Vector{Complex{T}}) where T\n",
    "    y = interlace(real(x),imag(x))\n",
    "    generic_fft_pow2!(y)\n",
    "    return complex.(y[1:2:end],y[2:2:end])\n",
    "end\n",
    "\n",
    "generic_fft_pow2(x::Vector{T}) where {T} = generic_fft_pow2(complex(x))\n",
    "\n",
    "# function generic_fft_pow2(x::Matrix{T}) where {T} \n",
    "#     row, col = size(x)\n",
    "#     for i in 1:col\n",
    "#         x[:,i] = generic_fft_pow2(complex(x[:,i]))\n",
    "#     end\n",
    "#     return x\n",
    "# end\n",
    "\n",
    "#Bluesteinのアルゴリズム\n",
    "\n",
    "function washino_fft(x::Vector{T}) where T\n",
    "#     T <: FFTW.fftwNumber && (@warn(\"Using generic fft for FFTW number type.\"))\n",
    "    n = length(x)\n",
    "    ispow2(n) && return generic_fft_pow2(x)\n",
    "    ks = range(zero(real(T)),stop=n-one(real(T)),length=n)\n",
    "    Wks = exp.((-im).*convert(T,π).*ks.^2 ./ n)\n",
    "    xq, wq = x.*Wks, conj([exp(-im*convert(T,π)*n);reverse(Wks);Wks[2:end]])\n",
    "    return Wks.*conv(xq,wq)[n+1:2n]\n",
    "end\n",
    "\n",
    "function conv(u::StridedVector{T}, v::StridedVector{T}) where T\n",
    "    nu,nv = length(u),length(v)\n",
    "    n = nu + nv - 1\n",
    "    np2 = nextpow(2,n)\n",
    "    append!(u,zeros(T,np2-nu)),append!(v,zeros(T,np2-nv))\n",
    "    y = generic_ifft_pow2(generic_fft_pow2(u).*generic_fft_pow2(v))\n",
    "    #TODO This would not handle Dual/ComplexDual numbers correctly\n",
    "    y = T<:Real ? real(y[1:n]) : y[1:n]\n",
    "end\n",
    "\n",
    "function generic_ifft_pow2(x::Vector{Complex{T}}) where T\n",
    "    y = interlace(real(x),-imag(x))\n",
    "    generic_fft_pow2!(y)\n",
    "    return complex.(y[1:2:end],-y[2:2:end])/length(x)\n",
    "end"
   ]
  },
  {
   "cell_type": "code",
   "execution_count": 2,
   "metadata": {},
   "outputs": [
    {
     "name": "stdout",
     "output_type": "stream",
     "text": [
      "  1.845605 seconds (4.00 M allocations: 203.853 MiB, 10.11% gc time)\n",
      "  0.334384 seconds (503 allocations: 20.019 MiB)\n",
      "  0.672263 seconds (1.72 M allocations: 92.692 MiB, 4.01% gc time)\n",
      "  0.002963 seconds (35 allocations: 4.003 MiB)\n"
     ]
    }
   ],
   "source": [
    "# using BenchmarkTools\n",
    "using IntervalArithmetic, FFTW\n",
    "N=2^17\n",
    "A  = randn(N)\n",
    "iA = map(Interval, A)\n",
    "# fft(A_real)\n",
    "# generic_fft_pow2(A_real)\n",
    "@time generic_fft_pow2(iA)\n",
    "@time generic_fft_pow2(iA)\n",
    "\n",
    "# @time generic_fft_pow2(A)\n",
    "@time fft(A)\n",
    "@time fft(A);"
   ]
  },
  {
   "cell_type": "code",
   "execution_count": null,
   "metadata": {},
   "outputs": [],
   "source": [
    "using IntervalArithmetic\n",
    "A  = randn(N)\n",
    "iA = map(Interval, A)\n",
    "N=2^17\n",
    "@time washino_fft(A);"
   ]
  },
  {
   "cell_type": "code",
   "execution_count": null,
   "metadata": {},
   "outputs": [],
   "source": [
    "using LinearAlgebra\n",
    "N=2^16\n",
    "B  = randn(N)\n",
    "iB = map(Interval, B)\n",
    "@time a1 = fft(B)\n",
    "@time a2 = washino_fft(iB);\n",
    "# norm(a1-a2,Inf)\n",
    "log2(sum(a1 .∈ a2))"
   ]
  },
  {
   "cell_type": "markdown",
   "metadata": {},
   "source": [
    "以下Matlabのコードを書き換えたもの\n",
    "参考ページのバイナリを動かそうと試みたが、複素数？区間？に対応していないのかエラーが。"
   ]
  },
  {
   "cell_type": "code",
   "execution_count": null,
   "metadata": {},
   "outputs": [],
   "source": [
    "@time open(\"test.dat\", \"w\") do file\n",
    "    for i in 1:150\n",
    "        write(file, rand(Float64, 360, 640))\n",
    "    end\n",
    "end"
   ]
  },
  {
   "cell_type": "code",
   "execution_count": 37,
   "metadata": {},
   "outputs": [
    {
     "data": {
      "text/plain": [
       "14×1 Array{Float64,2}:\n",
       " 0.0\n",
       " 6.835808657661924e-17\n",
       " 6.835808657661924e-17\n",
       " 6.835808657661924e-17\n",
       " 6.835808657661924e-17\n",
       " 6.835808657661924e-17\n",
       " 6.917784572201795e-17\n",
       " 7.113686303921852e-17\n",
       " 7.113686303921852e-17\n",
       " 7.113686303921852e-17\n",
       " 7.241394152931138e-17\n",
       " 7.472101018825856e-17\n",
       " 7.54316629478651e-17\n",
       " 7.733500711723886e-17"
      ]
     },
     "execution_count": 37,
     "metadata": {},
     "output_type": "execute_result"
    }
   ],
   "source": [
    "r_real = Array{Float64}(undef, 2^14, 1)\n",
    "\n",
    "file = open(\"INTLAB_CONST.FFTDATA_R_real.bin\", \"r\")\n",
    "read!(file, r_real)\n",
    "close(file)\n",
    "\n",
    "r_imag = Array{Float64}(undef, 2^14, 1)\n",
    "file = open(\"INTLAB_CONST.FFTDATA_R_imag.bin\", \"r\")\n",
    "read!(file, r_imag)\n",
    "close(file)\n",
    "\n",
    "r = r_real + im*r_imag\n",
    "\n",
    "d = Array{Float64}(undef, 14, 1)\n",
    "file = open(\"INTLAB_CONST.FFTDATA_D.bin\", \"r\")\n",
    "read!(file, d)\n",
    "close(file)\n",
    "\n",
    "d\n",
    "\n"
   ]
  },
  {
   "cell_type": "markdown",
   "metadata": {},
   "source": [
    "参考元：https://qiita.com/shachah-svaahaa/items/079b97aa52f8450146fd"
   ]
  },
  {
   "cell_type": "code",
   "execution_count": null,
   "metadata": {},
   "outputs": [],
   "source": [
    "n=8\n",
    "h = (0:n-1)/n\n",
    "rr = @interval(pi)\n",
    "open(\"test_rr.bin\", \"w\") do io\n",
    "    write(io,n)\n",
    "    write(io,h)\n",
    "    write(rr, rr)\n",
    "end"
   ]
  },
  {
   "cell_type": "code",
   "execution_count": null,
   "metadata": {},
   "outputs": [],
   "source": [
    "using Mmap\n",
    "f = open(\"test_rr.bin\", \"r\")\n",
    "n=read(f, Int)\n",
    "h=read(f,Int)\n",
    "rr=read(rr,Array{Complex{Interval{Float64}}})\n",
    "close(f)\n",
    "h"
   ]
  },
  {
   "cell_type": "code",
   "execution_count": null,
   "metadata": {},
   "outputs": [],
   "source": []
  },
  {
   "cell_type": "code",
   "execution_count": null,
   "metadata": {},
   "outputs": [],
   "source": [
    "using Random\n",
    "\n",
    "# データ行列\n",
    "n = 2_000_000\n",
    "m = 100\n",
    "A = randn(Float64,(n,m))\n",
    "\n",
    "# 行列を1つのファイルに書き込む\n",
    "# ヘッダーとして行数と列数を付加\n",
    "open(\"test_mat.bin\", \"w\") do io\n",
    "    write(io, n)\n",
    "    write(io, m)\n",
    "    write(io, A)\n",
    "end\n",
    "\n",
    "# 行列を列ごとに個別のファイルに書き込む\n",
    "# ヘッダーとして行数を付加\n",
    "for i in 1:m\n",
    "    open(\"test_mat$i.bin\", \"w\") do io\n",
    "        write(io, n)\n",
    "        write(io, A[:,i])\n",
    "    end\n",
    "end"
   ]
  },
  {
   "cell_type": "code",
   "execution_count": null,
   "metadata": {},
   "outputs": [],
   "source": [
    "using Mmap\n",
    "@time function test_mmap_mat()\n",
    "    f = open(\"test_mat.bin\", \"r\")\n",
    "    row = read(f, Int)\n",
    "    col = read(f, Int)\n",
    "    A = Mmap.mmap(f, Matrix{Float64},(row,col))\n",
    "    close(f)\n",
    "    A'*A\n",
    "    nothing\n",
    "end"
   ]
  },
  {
   "cell_type": "markdown",
   "metadata": {},
   "source": [
    "別の読み込み方を考える（JLD2）読み込み書き出しはできた.\n"
   ]
  },
  {
   "cell_type": "code",
   "execution_count": 1,
   "metadata": {},
   "outputs": [],
   "source": [
    "using JLD2,FileIO\n",
    "using IntervalArithmetic\n",
    "\n",
    "n=8\n",
    "h = (0:n-1)/n\n",
    "rr = exp.(im*@interval(pi).*h)\n",
    "@save \"test1.jld2\" n\n",
    "@save \"test2.jld2\" h\n",
    "@save \"test3.jld2\" rr"
   ]
  },
  {
   "cell_type": "code",
   "execution_count": 2,
   "metadata": {},
   "outputs": [
    {
     "data": {
      "text/plain": [
       "1-element Array{Symbol,1}:\n",
       " :rr"
      ]
     },
     "execution_count": 2,
     "metadata": {},
     "output_type": "execute_result"
    }
   ],
   "source": [
    "#@load \"test1.jld2\"\n",
    "@load \"test2.jld2\"\n",
    "@load \"test3.jld2\""
   ]
  },
  {
   "cell_type": "code",
   "execution_count": null,
   "metadata": {},
   "outputs": [],
   "source": [
    "real(rr)"
   ]
  },
  {
   "cell_type": "markdown",
   "metadata": {},
   "source": [
    "pakagecomplierを使用するとパッケージの呼び出しが早くなる？（パスを通す必要あり）\n"
   ]
  },
  {
   "cell_type": "code",
   "execution_count": null,
   "metadata": {},
   "outputs": [],
   "source": [
    "using PackageCompiler\n",
    "create_sysimage(:IntervalArithmetic,sysimage_path=\"sys_IntervalArithmetic.so\")"
   ]
  },
  {
   "cell_type": "code",
   "execution_count": null,
   "metadata": {},
   "outputs": [],
   "source": [
    "using IntervalArithmetic\n",
    "@time exp.(im*@interval(pi).*h) "
   ]
  },
  {
   "cell_type": "code",
   "execution_count": null,
   "metadata": {},
   "outputs": [],
   "source": []
  },
  {
   "cell_type": "markdown",
   "metadata": {},
   "source": [
    "以下もとのコード"
   ]
  },
  {
   "cell_type": "code",
   "execution_count": 2,
   "metadata": {},
   "outputs": [
    {
     "data": {
      "text/plain": [
       "verifyfft (generic function with 2 methods)"
      ]
     },
     "execution_count": 2,
     "metadata": {},
     "output_type": "execute_result"
    }
   ],
   "source": [
    "# using JLD2,FileIO\n",
    "using IntervalArithmetic\n",
    "\n",
    "function verifyfft(z,sign=1)\n",
    "    Z = similar(z)\n",
    "    if isa(z,Array{T,1} where T)\n",
    "        n = length(z); col = 1; array1 = true\n",
    "    else\n",
    "        n, col = size(z); array1 = false\n",
    "    end\n",
    "    \n",
    "#     @load \"test1.jld2\"\n",
    "    \n",
    "    if n==1\n",
    "        if col==1\n",
    "            Z = map(interval,z)\n",
    "            return Z\n",
    "        else\n",
    "            isrow_ = true\n",
    "            z = z[:]\n",
    "            n = col\n",
    "            col = 1\n",
    "        end\n",
    "    else\n",
    "        isrow_ = false\n",
    "    end\n",
    "    \n",
    "    log2n = Int(round(log2(n))) #check dimension\n",
    "    \n",
    "    if 2^log2n ≠ n #2の倍数でない場合はエラー表示\n",
    "        error(\"length must be power of 2\")\n",
    "    end\n",
    "    \n",
    "    #bit-reversal(ビットリバース)\n",
    "    f = 2^(log2n-1)\n",
    "    v = [0;f]\n",
    "    for k = 1:log2n-1\n",
    "        f = 0.5*f\n",
    "        v = append!(v,f.+v)\n",
    "    end\n",
    "    \n",
    "    z2 = zeros(n,col)\n",
    "\n",
    "    if isa(z[1],Interval)\n",
    "        z2 = map(Interval,z2)\n",
    "    end\n",
    "    \n",
    "    #zを入れ替え\n",
    "    for j = 1: n\n",
    "        z2[j,:] = z[v[j]+1,:]\n",
    "    end\n",
    "\n",
    "    \n",
    "    #Danielson-Lanczos algorithm\n",
    "    Z = complex(map(interval,z2))\n",
    "    Index = reshape([1:n*col;],n,col)\n",
    "        \n",
    "    h = (0:n-1)/n # division exact because n is power of 2\n",
    "#     @load \"test2.jld2\"\n",
    "#     @load \"test3.jld2\"\n",
    "    ##############\n",
    "    rr = exp.(im*@interval(pi).*h) # SLOW (INTLAB uses table is better...)   \n",
    "    ##############\n",
    "    if sign==-1\n",
    "      rr = adjoint.(rr)      \n",
    "    end\n",
    "    \n",
    "    v = [1:2:n;]\n",
    "    w = [2:2:n;]\n",
    "    t = Z[w,:]\n",
    "    Z[w,:]  = Z[v,:] - t\n",
    "    Z[v,:]  = Z[v,:] + t\n",
    "    \n",
    "    @time for index　in 1: (log2n-1)    \n",
    "        m = 2^index\n",
    "        m2 = 2*m\n",
    "        vw = reshape([1:n;],m2,Int(n/m2))\n",
    "        v = vw[1: m, :]\n",
    "        w = vw[m+1: m2, : ]\n",
    "\n",
    "        indexv = reshape(Index[v[:],:],m,Int(col*n/m2))\n",
    "        indexw = reshape(Index[w[:],:],m,Int(col*n/m2))\n",
    "    \n",
    "        rr1 = repeat(rr[1:Int(n/m):end],outer=[1,Int(col*n/m2)])\n",
    "        \n",
    "\n",
    "        t = rr1 .*  Z[indexw]\n",
    "        \n",
    "        Z[indexw] = Z[indexv] - t #原因部分？\n",
    "        Z[indexv] = Z[indexv] + t\n",
    "end\n",
    "\n",
    "    reverse(Z[2:end,:],dims=2)\n",
    "\n",
    "     if sign==-1\n",
    "        Z = Z/n\n",
    "    end\n",
    "    \n",
    "    if isrow_\n",
    "        Z = transpose(Z)　#転置\n",
    "    end\n",
    "    \n",
    "    if array1\n",
    "        Z = Z[:,1]\n",
    "    end\n",
    "    \n",
    "    return Z\n",
    "end\n",
    "\n",
    "# real(verifyfft(ones(8,1),1))"
   ]
  },
  {
   "cell_type": "code",
   "execution_count": 3,
   "metadata": {},
   "outputs": [
    {
     "name": "stdout",
     "output_type": "stream",
     "text": [
      "  0.584999 seconds (2.13 M allocations: 110.916 MiB, 3.78% gc time)\n",
      "z = real(verifyfft(z)) = Interval{Float64}[[8, 8], [-0, 0], [-0, 0], [-0, 0], [-0, 0], [-0, 0], [-0, 0], [-0, 0]]\n"
     ]
    },
    {
     "data": {
      "text/plain": [
       "8-element Array{Interval{Float64},1}:\n",
       "  [8, 8]\n",
       " [-0, 0]\n",
       " [-0, 0]\n",
       " [-0, 0]\n",
       " [-0, 0]\n",
       " [-0, 0]\n",
       " [-0, 0]\n",
       " [-0, 0]"
      ]
     },
     "execution_count": 3,
     "metadata": {},
     "output_type": "execute_result"
    }
   ],
   "source": [
    "z = map(Interval,ones(8))\n",
    "@show z = real(verifyfft(z))\n",
    "# n = length(z)\n",
    "# @show real(generic_fft_pow2(ones(8,1)))\n",
    "# isa(z[1],Interval)"
   ]
  },
  {
   "cell_type": "code",
   "execution_count": 5,
   "metadata": {},
   "outputs": [
    {
     "name": "stdout",
     "output_type": "stream",
     "text": [
      "  0.026686 seconds (21.04 k allocations: 16.168 MiB, 24.66% gc time)\n",
      "  0.080505 seconds (783.16 k allocations: 52.490 MiB, 18.17% gc time)\n"
     ]
    },
    {
     "ename": "LoadError",
     "evalue": "UndefVarError: generic_fft_pow2 not defined",
     "output_type": "error",
     "traceback": [
      "UndefVarError: generic_fft_pow2 not defined",
      "",
      "Stacktrace:",
      " [1] top-level scope at ./timing.jl:174 [inlined]",
      " [2] top-level scope at ./In[5]:0",
      " [3] include_string(::Function, ::Module, ::String, ::String) at ./loading.jl:1091"
     ]
    }
   ],
   "source": [
    "using IntervalArithmetic, FFTW\n",
    "N=2^13\n",
    "A  = randn(N)\n",
    "iA = map(Interval, A)\n",
    "\n",
    "@time z1 = verifyfft(A)\n",
    "\n",
    "# @time generic_fft_pow2(iA)\n",
    "@time z2 = generic_fft_pow2(iA)\n",
    "\n",
    "# @time verifyfft(A)\n",
    "# @time verifyfft(A)\n",
    "\n",
    "# @time fft(A)\n",
    "# @time fft(A);\n"
   ]
  },
  {
   "cell_type": "code",
   "execution_count": 52,
   "metadata": {},
   "outputs": [
    {
     "data": {
      "text/plain": [
       "([1.45678e-09, 1.45679e-09], [4.59469e-08, 4.5947e-08])"
      ]
     },
     "execution_count": 52,
     "metadata": {},
     "output_type": "execute_result"
    }
   ],
   "source": [
    "import IntervalArithmetic: mag, radius, mid\n",
    "# function mag(v::Complex{Interval{T}}) where T# mag function for complex interval vectors\n",
    "#     abs_v = abs(v);\n",
    "#     return max(abs_v.lo,abs_v.hi)\n",
    "# end\n",
    "\n",
    "function radius(v::Complex{Interval{T}}) where T# mag function for complex interval vectors\n",
    "    return sqrt(interval(radius(real(v)))^2 + interval(radius(imag(v)))^2)\n",
    "end\n",
    "\n",
    "# function mid(v::Complex{Interval{T}}) where T# mag function for complex interval vectors\n",
    "#     return mid(real(v)) + mid(imag(v))*im\n",
    "# end\n",
    "maximum(radius.(z1)), maximum(radius.(z2))"
   ]
  },
  {
   "cell_type": "markdown",
   "metadata": {},
   "source": [
    "(メモ)虚数部分を含めた計算がうまく回っていない。下のコードはt(実数部分)のみで回したもの。"
   ]
  },
  {
   "cell_type": "code",
   "execution_count": 46,
   "metadata": {},
   "outputs": [
    {
     "data": {
      "text/plain": [
       "verifyfft (generic function with 1 method)"
      ]
     },
     "execution_count": 46,
     "metadata": {},
     "output_type": "execute_result"
    }
   ],
   "source": [
    "using IntervalArithmetic\n",
    "\n",
    "function verifyfft(z,sign)\n",
    "    Z = similar(z)\n",
    "    n = size(z)[1]\n",
    "    col = size(z)[2]\n",
    "    \n",
    "    if n==1\n",
    "        if col==1\n",
    "            Z = map(interval,z)\n",
    "            return Z\n",
    "        else\n",
    "            z = z[:]\n",
    "            n = col\n",
    "            col = 1\n",
    "        end\n",
    "    end\n",
    "    \n",
    "    log2n = Int(round(log2(n))) #check dimension\n",
    "    \n",
    "    if 2^log2n ≠ n #2の倍数でない場合はエラー表示\n",
    "        error(\"length must be power of 2\")\n",
    "    end\n",
    "    \n",
    "    #bit-reversal(ビットリバース)\n",
    "    f = 2^(log2n-1)\n",
    "    v = [0;f]\n",
    "    for k = 1:log2n-1\n",
    "        f = 0.5*f\n",
    "        v = append!(v,f.+v)\n",
    "    end\n",
    "    \n",
    "    z2 = zeros(n,col)\n",
    "    \n",
    "    #zを入れ替え\n",
    "    for j = 1: n\n",
    "        z2[j,:]=z[v[j]+1,:]\n",
    "    end\n",
    "    \n",
    "    #Danielson-Lanczos algorithm\n",
    "    Z = map(interval,z2)\n",
    "    Index = reshape([1:n*col;],n,col)\n",
    "        \n",
    "    h = (0:n-1)/n # division exact because n is power of 2\n",
    "    rr = exp.(im*@interval(pi).*h)    \n",
    "    \n",
    "    v = [1:2:n;]\n",
    "    w = [2:2:n;]\n",
    "    t = Z[w,:]\n",
    "    Z[w,:]  = Z[v,:] - t\n",
    "    Z[v,:]  = Z[v,:] + t\n",
    "    \n",
    "    for index　in 1: (log2n-1)    \n",
    "        m = 2^index\n",
    "        m2 = 2*m\n",
    "        vw = reshape([1:n;],m2,Int(n/m2))\n",
    "        v = vw[1: m, :]\n",
    "        w = vw[m+1: m2, : ]\n",
    "\n",
    "        indexv = reshape(Index[v[:],:],m,Int(col*n/m2))\n",
    "        indexw = reshape(Index[w[:],:],m,Int(col*n/m2))\n",
    "    \n",
    "        rr1 = rr[1:Int(n/m):end]\n",
    "        \n",
    "        t = rr1 .*  Z[indexw]\n",
    "\n",
    "        Z[indexw] = Z[indexv] - real(t)#実数\n",
    "        Z[indexv] = Z[indexv] + real(t)#実数\n",
    "end\n",
    "\n",
    "    reverse(Z[2:end,:],dims=2)\n",
    "    \n",
    "     if sign==-1\n",
    "        Z = Z/n\n",
    "    end\n",
    "    \n",
    "    if col ==1\n",
    "        Z = transpose(Z)　#転置\n",
    "    end\n",
    "    \n",
    "  return Z\n",
    "end"
   ]
  },
  {
   "cell_type": "code",
   "execution_count": 39,
   "metadata": {},
   "outputs": [
    {
     "data": {
      "text/plain": [
       "8×8 Array{Interval{Float64},2}:\n",
       "  [8, 8]   [8, 8]   [8, 8]   [8, 8]   [8, 8]   [8, 8]   [8, 8]   [8, 8]\n",
       " [-0, 0]  [-0, 0]  [-0, 0]  [-0, 0]  [-0, 0]  [-0, 0]  [-0, 0]  [-0, 0]\n",
       " [-0, 0]  [-0, 0]  [-0, 0]  [-0, 0]  [-0, 0]  [-0, 0]  [-0, 0]  [-0, 0]\n",
       " [-0, 0]  [-0, 0]  [-0, 0]  [-0, 0]  [-0, 0]  [-0, 0]  [-0, 0]  [-0, 0]\n",
       " [-0, 0]  [-0, 0]  [-0, 0]  [-0, 0]  [-0, 0]  [-0, 0]  [-0, 0]  [-0, 0]\n",
       " [-0, 0]  [-0, 0]  [-0, 0]  [-0, 0]  [-0, 0]  [-0, 0]  [-0, 0]  [-0, 0]\n",
       " [-0, 0]  [-0, 0]  [-0, 0]  [-0, 0]  [-0, 0]  [-0, 0]  [-0, 0]  [-0, 0]\n",
       " [-0, 0]  [-0, 0]  [-0, 0]  [-0, 0]  [-0, 0]  [-0, 0]  [-0, 0]  [-0, 0]"
      ]
     },
     "execution_count": 39,
     "metadata": {},
     "output_type": "execute_result"
    }
   ],
   "source": [
    "verifyfft(ones(8,8),1)#matlabと同じ結果(im部分が出せていない)"
   ]
  },
  {
   "cell_type": "code",
   "execution_count": 40,
   "metadata": {},
   "outputs": [
    {
     "data": {
      "text/plain": [
       "8×8 Array{Interval{Float64},2}:\n",
       " [36, 36]                   …  [484, 484]\n",
       "      [-6.82843, -6.82842]            [-6.82843, -6.82842]\n",
       "      [-4.00001, -3.99999]            [-4.00001, -3.99999]\n",
       "      [-1.17158, -1.17157]            [-1.17158, -1.17157]\n",
       " [-4, -4]                        [-4, -4]\n",
       "      [-1.17158, -1.17157]  …         [-1.17158, -1.17157]\n",
       "      [-4.00001, -3.99999]            [-4.00001, -3.99999]\n",
       "      [-6.82843, -6.82842]            [-6.82843, -6.82842]"
      ]
     },
     "execution_count": 40,
     "metadata": {},
     "output_type": "execute_result"
    }
   ],
   "source": [
    "verifyfft(reshape([1:64;],8,8),1)#微妙に違う"
   ]
  },
  {
   "cell_type": "code",
   "execution_count": 41,
   "metadata": {},
   "outputs": [
    {
     "data": {
      "text/plain": [
       "8×8 Array{Complex{Float64},2}:\n",
       " 2080.0+0.0im      -256.0+618.039im  …  -256.0-256.0im  -256.0-618.039im\n",
       "  -32.0+77.2548im     0.0+0.0im            0.0+0.0im       0.0+0.0im\n",
       "  -32.0+32.0im        0.0+0.0im            0.0+0.0im       0.0+0.0im\n",
       "  -32.0+13.2548im     0.0+0.0im            0.0+0.0im       0.0+0.0im\n",
       "  -32.0+0.0im         0.0+0.0im            0.0+0.0im       0.0+0.0im\n",
       "  -32.0-13.2548im     0.0+0.0im      …     0.0+0.0im       0.0+0.0im\n",
       "  -32.0-32.0im        0.0+0.0im            0.0+0.0im       0.0+0.0im\n",
       "  -32.0-77.2548im     0.0+0.0im            0.0+0.0im       0.0+0.0im"
      ]
     },
     "execution_count": 41,
     "metadata": {},
     "output_type": "execute_result"
    }
   ],
   "source": [
    "fft(reshape([1:64;],8,8))"
   ]
  },
  {
   "cell_type": "code",
   "execution_count": null,
   "metadata": {},
   "outputs": [],
   "source": []
  },
  {
   "cell_type": "code",
   "execution_count": null,
   "metadata": {},
   "outputs": [],
   "source": [
    "using IntervalArithmetic\n",
    "# compute roots of unity\n",
    "n = 2^4\n",
    "h = (0:n-1)/n # division exact because n is power of 2\n",
    "rr = exp.(im*@interval(pi).*h)\n",
    "\n",
    "real(rr)"
   ]
  },
  {
   "cell_type": "code",
   "execution_count": null,
   "metadata": {},
   "outputs": [],
   "source": [
    "@interval(π)"
   ]
  },
  {
   "cell_type": "code",
   "execution_count": null,
   "metadata": {},
   "outputs": [],
   "source": []
  },
  {
   "cell_type": "code",
   "execution_count": 12,
   "metadata": {},
   "outputs": [
    {
     "name": "stdout",
     "output_type": "stream",
     "text": [
      "a = Complex{Float64}[-1.3193507862363747 - 1.0561787397093225im, 0.2675739616614188 - 0.9043457440533725im, 0.18442910969097717 - 1.1387028686607847im, -0.16185124946497928 - 0.3591540125900511im, -1.7267308118821216 - 0.1347789239363774im, -0.2127236121050849 + 0.7707947889483675im, -0.09413913807605831 + 0.38078987799209835im, 0.7670255459342742 - 0.3220612429220512im, 0.023011666195862986 + 0.9155321276293177im, -1.6623981244765729 - 1.072573028080451im]\n"
     ]
    },
    {
     "data": {
      "text/plain": [
       "10-element Array{Complex{Float64},1}:\n",
       "  -1.3193507862363747 + 1.0561787397093225im\n",
       "   0.2675739616614188 + 0.9043457440533725im\n",
       "  0.18442910969097717 + 1.1387028686607847im\n",
       " -0.16185124946497928 + 0.3591540125900511im\n",
       "  -1.7267308118821216 + 0.1347789239363774im\n",
       "  -0.2127236121050849 - 0.7707947889483675im\n",
       " -0.09413913807605831 - 0.38078987799209835im\n",
       "   0.7670255459342742 + 0.3220612429220512im\n",
       " 0.023011666195862986 - 0.9155321276293177im\n",
       "  -1.6623981244765729 + 1.072573028080451im"
      ]
     },
     "execution_count": 12,
     "metadata": {},
     "output_type": "execute_result"
    }
   ],
   "source": [
    "n = 10; a = randn(n)+im*randn(n)\n",
    "@show a\n",
    "\n",
    "adjoint.(a)"
   ]
  },
  {
   "cell_type": "code",
   "execution_count": null,
   "metadata": {},
   "outputs": [],
   "source": []
  },
  {
   "cell_type": "code",
   "execution_count": null,
   "metadata": {},
   "outputs": [],
   "source": []
  },
  {
   "cell_type": "code",
   "execution_count": null,
   "metadata": {},
   "outputs": [],
   "source": []
  },
  {
   "cell_type": "code",
   "execution_count": null,
   "metadata": {},
   "outputs": [],
   "source": []
  },
  {
   "cell_type": "code",
   "execution_count": null,
   "metadata": {},
   "outputs": [],
   "source": []
  },
  {
   "cell_type": "code",
   "execution_count": null,
   "metadata": {},
   "outputs": [],
   "source": [
    "N=2^11\n",
    "C_real = rand(N, N)\n",
    "FFT = fft(C_real);"
   ]
  },
  {
   "cell_type": "code",
   "execution_count": null,
   "metadata": {},
   "outputs": [],
   "source": [
    "@benchmark D = FFT * C_real"
   ]
  },
  {
   "cell_type": "code",
   "execution_count": null,
   "metadata": {},
   "outputs": [],
   "source": [
    "using FFTW\n",
    "\n",
    "len = 5\n",
    "x = [2pi*k/len for k = 0:len-1]\n",
    "cos_x = cos.(x)\n",
    "println(fft(cos_x))"
   ]
  },
  {
   "cell_type": "code",
   "execution_count": null,
   "metadata": {},
   "outputs": [],
   "source": [
    "using FFTW\n",
    "\n",
    "len=5\n",
    "x = [2pi*k/len for k = 0:len-1]\n",
    "sin_x = sin.(x)\n",
    "println(fft(sin_x))"
   ]
  },
  {
   "cell_type": "markdown",
   "metadata": {},
   "source": [
    "### 早く計算するには\n",
    "- 並列処理の設定を行う。export JULIA_NUM_THREADS=8などと、スレッド数を指定。\n",
    "- planfftを利用し、inplace(計算機科学においてデータ構造の変換を行うにあたって、追加の記憶領域をほとんど使わずに行うアルゴリズム)を行う。\n",
    "- Juiaでも、MATLABと同じくMLKを使用する。"
   ]
  },
  {
   "cell_type": "markdown",
   "metadata": {},
   "source": [
    "下のコードはMATLABのverifyfftのコード"
   ]
  },
  {
   "cell_type": "markdown",
   "metadata": {},
   "source": [
    "function Z = verifyfft(z,sign)\n",
    "%VERIFYFFT    Verified forward and backward 1-dimensional FFT\n",
    "%\n",
    "%   res = verifyfft(z,sign)\n",
    "%\n",
    "%   z     input vector or matrix\n",
    "%         length of z must be a power of 2 \n",
    "%   sign   1 forward FFT (default)\n",
    "%         -1 inverse FFT\n",
    "% \n",
    "%As in Matlab, the inverse FFT is scaled such that forward and inverse FFT\n",
    "%are inverse operations.\n",
    "%For matrix input, FFT is performed on each column; row vector input\n",
    "%is converted into column vector. \n",
    "%For N-dimensional FFT apply verifyfft N times.\n",
    "% \n",
    "\n",
    "% written  09/24/14     S.M. Rump  (based no Marcio Gameiro's code)\n",
    "% modified 01/16/16     S.M. Rump  improved error estimates\n",
    "%\n",
    "\n",
    "% data generated by fft_data_gen\n",
    "%\n",
    "\n",
    "  global INTLAB_CONST\n",
    "  \n",
    "  [n,col] = size(z);\n",
    "  if n==1\n",
    "    if col==1\n",
    "      Z = intval(z);\n",
    "      return\n",
    "    else\n",
    "      isrow = 1;\n",
    "      z = z(:);\n",
    "      n = col;\n",
    "      col = 1;\n",
    "    end\n",
    "  else\n",
    "    isrow = 0;\n",
    "  end\n",
    "    \n",
    "  if nargin==1\n",
    "    sign = 1;       % default: forward\n",
    "  end\n",
    "  \n",
    "  % check dimension\n",
    "  log2n = round(log2(n));\n",
    "  if 2^log2n~=n\n",
    "    error('length must be power of 2')\n",
    "  end\n",
    "  \n",
    "  % bit-reversal\n",
    "  % v = bin2dec(fliplr(dec2bin(0:n-1,log2n))) + 1\n",
    "  f = 2^(log2n-1);\n",
    "  v = [0;f]; \n",
    "  for k=1:log2n-1\n",
    "    f = 0.5*f;\n",
    "    v = [ v ; f+v ];\n",
    "  end\n",
    "  z = z(v+1,:);\n",
    "  \n",
    "  % Danielson-Lanczos algorithm\n",
    "  Z = intval(z);\n",
    "  Index = reshape(1:n*col,n,col);\n",
    "  nmax = INTLAB_CONST.FFTDATA_NMAX; % maximum in fft_data\n",
    "  if n<=nmax\n",
    "    r = INTLAB_CONST.FFTDATA_R;     % roots of unity in  r +/- d\n",
    "    d = INTLAB_CONST.FFTDATA_D(log2n);\n",
    "    Phi = midrad(r(1:nmax/n:nmax),d);\n",
    "    if sign==-1\n",
    "      Phi = (Phi.')';      \n",
    "    end\n",
    "  else\n",
    "    % compute roots of unity, division exact because n is power of 2\n",
    "    theta = intval('pi') * ( sign*(0:(n-1))'/n ); \n",
    "    Phi = cos(theta) + 1i*sin(theta);\n",
    "  end\n",
    "  v = 1:2:n;\n",
    "  w = 2:2:n;\n",
    "  t = Z(w,:);\n",
    "  Z(w,:) = Z(v,:) - t;\n",
    "  Z(v,:) = Z(v,:) + t;\n",
    "  \n",
    "  for index=1:(log2n-1)     % Executed log2(n) times\n",
    "    m = 2^index;\n",
    "    m2 = 2*m;\n",
    "    vw = reshape(1:n,m2,n/m2);\n",
    "    v = vw(1:m,:);\n",
    "    w = vw(m+1:m2,:);\n",
    "%     t = bsxfun(@times,exp(1i*pi*(0:m-1)'/m),Z(w));  % doesn't work for intervals\n",
    "%     theta = intval('pi') * (sign*(0:(m-1))'/m);     % division exact because m=2^p\n",
    "%     t = exp(1i*theta) .* Z(w);\n",
    "    indexv = reshape(Index(v(:),:),m,col*n/m2);\n",
    "    indexw = reshape(Index(w(:),:),m,col*n/m2);\n",
    "%     t = repmat(Phi(1:n/m:end),1,n/m2*col);\n",
    "    t = Phi(1:n/m:end,ones(1,n/m2*col)) .* Z(indexw);   % Tony's trick\n",
    "    Z(indexw) = Z(indexv) - t;\n",
    "    Z(indexv) = Z(indexv) + t;\n",
    "  end\n",
    "  \n",
    "  Z = [Z(1,:); flipud(Z(2:end,:))];\n",
    "  if sign==-1\n",
    "    Z = Z/n;        % error-free since n is a power of 2\n",
    "  end\n",
    "  \n",
    "  if isrow          % change to row vector\n",
    "    Z = transpose(Z);\n",
    "  end\n",
    "  \n",
    "end\n"
   ]
  },
  {
   "cell_type": "markdown",
   "metadata": {},
   "source": [
    "参考に読んでいるサイト\n",
    "\n",
    "https://qiita.com/ageprocpp/items/0d63d4ed80de4a35fe79\n",
    "\n",
    "https://cognicull.com/ja/f5q2jl62\n",
    "\n",
    "・バタフライの説明\n",
    "http://ysmr-ry.hatenablog.com/entry/2017/11/09/102008\n",
    "\n",
    "https://wagtail.cds.tohoku.ac.jp/coda/python/p-8-function-part2-sup-fft.html\n",
    "\n"
   ]
  },
  {
   "cell_type": "markdown",
   "metadata": {},
   "source": [
    "もしも2D fftが必要ならば`verifyfft(verifyfft(A,1).',1).'`を実装する"
   ]
  }
 ],
 "metadata": {
  "kernelspec": {
   "display_name": "Julia 1.5.0",
   "language": "julia",
   "name": "julia-1.5"
  },
  "language_info": {
   "file_extension": ".jl",
   "mimetype": "application/julia",
   "name": "julia",
   "version": "1.5.0"
  }
 },
 "nbformat": 4,
 "nbformat_minor": 4
}
