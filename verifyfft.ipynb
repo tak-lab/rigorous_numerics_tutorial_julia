{
 "cells": [
  {
   "cell_type": "markdown",
   "metadata": {},
   "source": [
    "# Juliaで精度保証付き高速フーリエ変換\n",
    "\n",
    "データが $N$ 個の離散フーリエ変換 (DFT:discrete Fourier transform)$\\newcommand{\\C}{\\mathbb{C}}$\n",
    "\n",
    "$$\n",
    "X_{k}=\\sum_{n=0}^{N-1} x_{n} W_{N}^{k n},\\quad X\\in\\C^N\n",
    "$$\n",
    "\n",
    "に対する高速フーリエ変換 (FFT:Fast Fourier Transform) の精度保証付き数値計算を考える。\n",
    "FFTは20世紀の10大アルゴリズムの一つとも言われ、脚光を浴びるようになったのは1965年のJ.W.Cooleyと J.W.Tukey による論文（文献1）からである。なお、起源はガウスまで遡ると言われていて、巨人の大きさは果てしないようである。\n",
    "\n",
    "JuliaではFFTのライブラリとして、`FFTW.jl`が準備されており、OCamlで最適なCのコードを自動生成する仕組みとなっている（筆者は詳しく分かっていない）。"
   ]
  },
  {
   "cell_type": "markdown",
   "metadata": {},
   "source": [
    "## 離散フーリエ変換(DFT)\n",
    "$\\newcommand{\\C}{\\mathbb{C}}$\n",
    "データが $N$ 個の離散フーリエ変換を $X\\in\\C^N$ とした場合、入力を $x\\in\\C^N$ として離散フーリエ変換は以下のように書くことができる。\n",
    "\n",
    "$$\n",
    "\\left(\\begin{array}{c}\n",
    "X_{0} \\\\\n",
    "X_{1} \\\\\n",
    "X_{2} \\\\\n",
    "\\vdots \\\\\n",
    "X_{N-1}\n",
    "\\end{array}\\right)=\\left(\\begin{array}{ccccc}\n",
    "1 & 1 & 1 & \\cdots & 1 \\\\\n",
    "1 & e^{-i \\frac{2 \\pi}{N}} & e^{-i \\frac{4 \\pi}{N}} & \\cdots & e^{-i \\frac{2 \\pi(N-1)}{N}} \\\\\n",
    "1 & e^{-i \\frac{4 \\pi}{N}} & e^{-i \\frac{8 \\pi}{N}} & \\cdots & e^{-i \\frac{4 \\pi(N-1)}{N}} \\\\\n",
    "\\vdots & \\vdots & \\vdots & \\ddots & \\vdots \\\\\n",
    "1 & e^{-i \\frac{2 \\pi(N-1)}{N}} & e^{-i \\frac{4 \\pi(N-1)}{N}} & \\cdots & e^{-i \\frac{2 \\pi(N-1)(N-1)}{N}}\n",
    "\\end{array}\\right)\\left(\\begin{array}{c}\n",
    "x_{0} \\\\\n",
    "x_{1} \\\\\n",
    "x_{2} \\\\\n",
    "\\vdots \\\\\n",
    "x_{N-1}\n",
    "\\end{array}\\right).\n",
    "$$\n",
    "\n",
    "ここで $W^n_N$ は回転因子といい、以下で定義される。\n",
    "\n",
    "$$\n",
    "W^n_N := e^{-i\\frac{2 \\pi}{N}n} = \\cos \\left(\\frac{2 \\pi}{N}n\\right)-i \\sin \\left(\\frac{2 \\pi}{N}n\\right).\n",
    "$$\n",
    "\n",
    "これを用いると、\n",
    "\n",
    "$$\n",
    "\\left(\\begin{array}{c}\n",
    "X_{0} \\\\\n",
    "X_{1} \\\\\n",
    "X_{2} \\\\\n",
    "\\vdots \\\\\n",
    "X_{N-1}\n",
    "\\end{array}\\right)=\\left(\\begin{array}{ccccc}\n",
    "1 & 1 & 1 & \\cdots & 1 \\\\\n",
    "1 & W_{N} & W_{N}^{2} & \\cdots & W_{N}^{N-1} \\\\\n",
    "1 & W_{N}^{2} & W_{N}^{4} & \\cdots & W_{N}^{2(N-1)} \\\\\n",
    "\\vdots & \\vdots & \\vdots & \\ddots & \\vdots \\\\\n",
    "1 & W_{N}^{(N-1)} & W_{N}^{2(N-1)} & \\cdots & W_{N}^{(N-1)(N-1)}\n",
    "\\end{array}\\right)\\left(\\begin{array}{c}\n",
    "x_{0} \\\\\n",
    "x_{1} \\\\\n",
    "x_{2} \\\\\n",
    "\\vdots \\\\\n",
    "x_{N-1}\n",
    "\\end{array}\\right).\n",
    "$$\n",
    "\n",
    "すなわち\n",
    "\n",
    "$$\n",
    "X_{k}=\\sum_{n=0}^{N-1} x_{n} W_{N}^{k n},\n",
    "$$\n",
    "\n",
    "ただし、$0\\leq k < N$である。"
   ]
  },
  {
   "cell_type": "markdown",
   "metadata": {},
   "source": [
    "## 高速フーリエ変換(FFT)\n",
    "\n",
    "FFTはDFTを高速に行うアルゴリズムである。DFTでは、 $X_0$ から $X_{N−1}$ の $N$ 回の計算を行うために、単純な計算方法では $N^2$ 回複素数の四則演算を実行して計算する。しかし、データ数 $N$ が2の冪乗である場合、FFTアルゴリズムを用いることで、複素数の四則演算を $N \\log N$ に比例する回数に減らすことができる。\n",
    "\n",
    "$$\n",
    "\\begin{array}{l}\n",
    "\\displaystyle X_{k}^{(0)}=\\sum_{n=0}^{N / 2-1} W_{N / 2}^{n k} x_{2 n} \\quad(0 \\leq k<N / 2) \\\\[2mm]\n",
    "\\displaystyle X_{k}^{(1)}=\\sum_{n=0}^{N / 2-1} W_{N / 2}^{n k} x_{2 n+1} \\quad(0 \\leq k<N / 2)\\\\[2mm]\n",
    "\\end{array}\n",
    "$$\n",
    "\n",
    "$$\n",
    "\\left\\{\\begin{array}{l}\n",
    "\\displaystyle X_{k}=X_{n}^{(0)}+W_{N}^{k} X_{n}^{(1)}, \\\\\n",
    "\\displaystyle X_{k+N / 2}=X_{n}^{(0)}-W_{N}^{k} X_{n}^{(1)} \\quad(0 \\leq k<N / 2).\n",
    "\\end{array}\\right.\n",
    "$$\n",
    "\n",
    "この考え方を利用したものがCooley-Tukey FFTアルゴリズム(文献1)である。"
   ]
  },
  {
   "cell_type": "markdown",
   "metadata": {},
   "source": [
    "## Cooley-Tukey FFTアルゴリズムの実装\n",
    "\n",
    "Juliaを使ってCooley-Tukey FFTアルゴリズムに区間演算を実装する。以下のコードはJuliaApproximationの[`FastTransforms.jl`](https://github.com/JuliaApproximation/FastTransforms.jl)内のコード[`fftBigFloat.jl`](https://github.com/JuliaApproximation/FastTransforms.jl/blob/4a076c9fbacfe5201124cfe3b1d7002dbb0a8c7b/src/fftBigFloat.jl#L11)を参考に、引数に区間ベクトルを取れるように修正したものである。オリジナルは\"the Numerical Recipes in C\"の`c_radix2.c`である。"
   ]
  },
  {
   "cell_type": "code",
   "execution_count": 1,
   "metadata": {},
   "outputs": [
    {
     "data": {
      "text/plain": [
       "generic_fft_pow2 (generic function with 2 methods)"
      ]
     },
     "execution_count": 1,
     "metadata": {},
     "output_type": "execute_result"
    }
   ],
   "source": [
    "#Cooley-Tukey FFTアルゴリズム\n",
    "function generic_fft_pow2!(x::Vector{T}) where T\n",
    "    n,big2 = length(x),2one(T)\n",
    "    nn,j = n÷2,1\n",
    "    for i=1:2:n-1\n",
    "        if j>i\n",
    "            x[j], x[i] = x[i], x[j]\n",
    "            x[j+1], x[i+1] = x[i+1], x[j+1]\n",
    "        end\n",
    "        m = nn\n",
    "        while m ≥ 2 && j > m\n",
    "            j -= m\n",
    "            m = m÷2\n",
    "        end\n",
    "        j += m\n",
    "    end\n",
    "    logn = 2\n",
    "    while logn < n\n",
    "        θ = -big2/logn\n",
    "        wtemp = sinpi(interval(θ/2))\n",
    "        wpr, wpi = -2wtemp^2, sinpi(interval(θ))\n",
    "        wr, wi = one(T), zero(T)\n",
    "        for m=1:2:logn-1\n",
    "            for i=m:2logn:n\n",
    "                j = i+logn\n",
    "                mixr, mixi = wr*x[j]-wi*x[j+1], wr*x[j+1]+wi*x[j]\n",
    "                x[j], x[j+1] = x[i]-mixr, x[i+1]-mixi\n",
    "                x[i], x[i+1] = x[i]+mixr, x[i+1]+mixi\n",
    "            end\n",
    "            wr = (wtemp=wr)*wpr-wi*wpi+wr\n",
    "            wi = wi*wpr+wtemp*wpi+wi\n",
    "        end\n",
    "        logn = logn << 1\n",
    "    end\n",
    "    return x\n",
    "end\n",
    "\n",
    "function interlace(a::Vector{S},b::Vector{V}) where {S,V}\n",
    "    na=length(a);nb=length(b)\n",
    "    T=promote_type(S,V)\n",
    "    if nb≥na\n",
    "        ret=zeros(T,2nb)\n",
    "        ret[1:2:1+2*(na-1)]=a\n",
    "        ret[2:2:end]=b\n",
    "        ret\n",
    "    else\n",
    "        ret=zeros(T,2na-1)\n",
    "        ret[1:2:end]=a\n",
    "        if !isempty(b)\n",
    "            ret[2:2:2+2*(nb-1)]=b\n",
    "        end\n",
    "        ret\n",
    "    end\n",
    "end\n",
    "\n",
    "function generic_fft_pow2(x::Vector{Complex{T}}) where T\n",
    "    y = interlace(real(x),imag(x))\n",
    "    generic_fft_pow2!(y)\n",
    "    return complex.(y[1:2:end],y[2:2:end])\n",
    "end\n",
    "\n",
    "generic_fft_pow2(x::Vector{T}) where {T} = generic_fft_pow2(complex(x))"
   ]
  },
  {
   "cell_type": "markdown",
   "metadata": {},
   "source": [
    "## Bluestein(Chirp z)アルゴリズム\n",
    "\n",
    "Cooley-Tukey FFTアルゴリズムでは、データ数 $N$ が2の冪乗の場合しか計算できない。これを解決したのが[Bluestein(Chirp z)アルゴリズム](https://www.dsprelated.com/freebooks/mdft/Bluestein_s_FFT_Algorithm.html)（文献2）である。任意のデータ数 $N$ のDFTを離散畳み込みを利用してFFTで計算する。\n",
    "\n",
    "\\begin{align*}\n",
    "X_{k} &=\\sum_{n=0}^{N-1} x_{n} W_{N}^{k n}\\\\\n",
    "        &=\\sum_{n=0}^{N-1} x_{n} W_{N}^{-\\frac{(k-n)^{2}}{2}+\\frac{k^{2}}{2}+\\frac{n^{2}}{2}}\\\\\n",
    "        &=W_{2 N}^{k^{2}} \\sum_{n=0}^{N-1}\\left\\{x_n W_{2N}^{n^{2}}\\right\\} W_{2 N}^{-(k-n)^{2}}\n",
    "\\end{align*}\n",
    "\n",
    "ここで、点列 $\\alpha=\\left\\{\\alpha_{n}\\right\\}$, $\\beta=\\left\\{\\beta_{n}\\right\\}$ を以下のように定め, $X_{k}$ を書き換える。\n",
    "\n",
    "$$\n",
    "\\alpha_{n} :=x_n W_{2 N}^{n^{2}},\\quad\\beta_{n} :=W_{2 N}^{-n^{2}}\n",
    "$$\n",
    "\n",
    "$$\n",
    "X_{k}=\\overline{\\beta_{k}} \\sum_{n=0}^{N-1} \\alpha_{n} \\beta_{k-n}=\\overline{\\beta_{k}}\\left(\\alpha * \\beta\\right)_{k}.\n",
    "$$\n",
    "\n",
    "次に、離散畳み込み $\\alpha * \\beta$ を考える。いま$\\alpha$, $\\beta$ の長さを $n_{u}$, $n_{v}$ として、$L$ を $L \\ge n_{u}+ n_{v} - 1$ を満たす最小の2の冪乗数とする。そして長さが $L$ の点列 $\\alpha'=\\left\\{\\alpha_{n}'\\right\\}$, $\\beta'=\\left\\{\\beta_{n}'\\right\\}$ を次のように定める。\n",
    "\n",
    "$$\n",
    "\\alpha_{n}^{\\prime}=\\left\\{\\begin{array}{ll}\n",
    "\\alpha_n & (0 \\leq n<N) \\\\\n",
    "0 & (N \\leq n<L)\n",
    "\\end{array}\\right.\n",
    "$$\n",
    "\n",
    "$$\n",
    "\\left\\{\\begin{aligned}\n",
    "\\beta_{0}^{\\prime} &=\\beta_{0}\\quad(n=0) \\\\\n",
    "\\beta_{n}^{\\prime}=\\beta_{L-n}^{\\prime} &=\\beta_{n} \\quad (0<n<N) \\\\\n",
    "\\beta_{n}^{\\prime} &=0 \\quad (N \\leq n \\leq L-N).\n",
    "\\end{aligned}\\right.\n",
    "$$\n",
    "\n",
    "Cooley-Tukey FFTを用いて$\\alpha^{\\prime}$, $\\beta^{\\prime}$ のDFTを計算し、ベクトルの要素毎の積をとり、そのベクトルを逆フーリエ変換 (IFFT:inverse fast Fourier transform) して出てくる値を $\\gamma_{k}^{\\prime}$ とすると $ \\gamma_{k}^{\\prime}=(\\alpha * \\beta)_{k} $ となる。以上より、$X_{k}$ が求まる。\n",
    "\n",
    "$$\n",
    "X_{k}=\\overline{\\beta_{k}} \\gamma_{k}^{\\prime}.\n",
    "$$\n",
    "\n"
   ]
  },
  {
   "cell_type": "code",
   "execution_count": 2,
   "metadata": {},
   "outputs": [
    {
     "data": {
      "text/plain": [
       "generic_ifft_pow2 (generic function with 1 method)"
      ]
     },
     "execution_count": 2,
     "metadata": {},
     "output_type": "execute_result"
    }
   ],
   "source": [
    "function Bluestein_fft(x::Vector{T}) where T\n",
    "    n = length(x)\n",
    "    ispow2(n) && return generic_fft_pow2(x)\n",
    "    ks = range(zero(real(T)),stop=n-one(real(T)),length=n)\n",
    "    Wks = exp.((-im).*convert(T,π).*ks.^2 ./ n)\n",
    "    xq, wq = x.*Wks, conj([exp(-im*convert(T,π)*n);reverse(Wks);Wks[2:end]])\n",
    "    return Wks.*conv(xq,wq)[n+1:2n]\n",
    "end\n",
    "\n",
    "function conv(u::StridedVector{T}, v::StridedVector{T}) where T\n",
    "    nu,nv = length(u),length(v)\n",
    "    n = nu + nv - 1\n",
    "    np2 = nextpow(2,n)\n",
    "    append!(u,zeros(T,np2-nu)),append!(v,zeros(T,np2-nv))\n",
    "    y = generic_ifft_pow2(generic_fft_pow2(u).*generic_fft_pow2(v))\n",
    "    y = T<:Real ? real(y[1:n]) : y[1:n]\n",
    "end\n",
    "\n",
    "function generic_ifft_pow2(x::Vector{Complex{T}}) where T\n",
    "    y = interlace(real(x),-imag(x))\n",
    "    generic_fft_pow2!(y)\n",
    "    return complex.(y[1:2:end],-y[2:2:end])/length(x)\n",
    "end"
   ]
  },
  {
   "cell_type": "markdown",
   "metadata": {},
   "source": [
    "## 計算結果\n",
    "\n",
    "区間演算を用いたCooley-Tukey FFTアルゴリズム、Bluesteinアルゴリズムと区間演算を用いない通常の`FFTW.jl`での計算時間を比較する。"
   ]
  },
  {
   "cell_type": "code",
   "execution_count": 3,
   "metadata": {},
   "outputs": [
    {
     "name": "stdout",
     "output_type": "stream",
     "text": [
      "  1.494336 seconds (4.01 M allocations: 204.367 MiB, 3.40% gc time)\n",
      "  0.294570 seconds (503 allocations: 20.019 MiB, 4.61% gc time)\n",
      "  0.302620 seconds (965.78 k allocations: 54.959 MiB, 3.31% gc time)\n",
      "  0.003003 seconds (37 allocations: 4.003 MiB)\n"
     ]
    }
   ],
   "source": [
    "# using BenchmarkTools\n",
    "using IntervalArithmetic, FFTW\n",
    "N  = 2^17\n",
    "x  = randn(N)\n",
    "ix = map(Interval, x)\n",
    "\n",
    "@time generic_fft_pow2(ix)\n",
    "@time generic_fft_pow2(ix)\n",
    "\n",
    "@time fft(x)\n",
    "@time fft(x);"
   ]
  },
  {
   "cell_type": "markdown",
   "metadata": {},
   "source": [
    "Cooley-Tukey FFTのアルゴリズムを用いたFFTの区間演算でFFTWの約100倍計算時間がかかる。"
   ]
  },
  {
   "cell_type": "code",
   "execution_count": 4,
   "metadata": {},
   "outputs": [
    {
     "name": "stdout",
     "output_type": "stream",
     "text": [
      "  1.190760 seconds (4.05 M allocations: 202.499 MiB, 4.35% gc time)\n",
      "  0.191567 seconds (291.37 k allocations: 32.548 MiB, 5.24% gc time)\n",
      "  0.000220 seconds (37 allocations: 315.094 KiB)\n",
      "  0.000113 seconds (37 allocations: 315.094 KiB)\n"
     ]
    }
   ],
   "source": [
    "using IntervalArithmetic\n",
    "N  = 10000\n",
    "x  = randn(N)\n",
    "ix = map(Interval, x)\n",
    "@time Bluestein_fft(ix)\n",
    "@time Bluestein_fft(ix)\n",
    "@time fft(x)\n",
    "@time fft(x);"
   ]
  },
  {
   "cell_type": "markdown",
   "metadata": {},
   "source": [
    "Bluesteinアルゴリズムでは約1000倍計算時間がかかってしまい、こちらは現実的でない。よって、FFTを区間演算する際はできるならばベクトルの長さを2の冪数に限定するのが現実的である（それでも100倍計算時間がかかるけれども）。"
   ]
  },
  {
   "cell_type": "code",
   "execution_count": 5,
   "metadata": {},
   "outputs": [
    {
     "name": "stdout",
     "output_type": "stream",
     "text": [
      "  0.000248 seconds (37 allocations: 258.594 KiB)\n",
      "  0.013554 seconds (387 allocations: 1.265 MiB)\n"
     ]
    },
    {
     "data": {
      "text/plain": [
       "13.0"
      ]
     },
     "execution_count": 5,
     "metadata": {},
     "output_type": "execute_result"
    }
   ],
   "source": [
    "N  = 2^13\n",
    "b  = randn(N)\n",
    "ib = map(Interval, b)\n",
    "@time a1 = fft(b)\n",
    "@time a2 = generic_fft_pow2(ib);\n",
    "log2(sum(a1 .∈ a2))"
   ]
  },
  {
   "cell_type": "markdown",
   "metadata": {},
   "source": [
    "一応、FFTWで計算した結果は精度保証された区間内に入っている。"
   ]
  },
  {
   "cell_type": "markdown",
   "metadata": {},
   "source": [
    "## INTLABのverifyfft.mのJuliaへの実装\n",
    "\n",
    "MATLAB上での区間演算パッケージINTLABでは、Cooley-Tukey FFTアルゴリズムをDanielson-Lanczosアルゴリズムと呼んでいて、精度保証付きFFTの実装がされている。以下のコードはS.M.RumpによるINTLAB内の実装をJuliaに翻訳したものである。"
   ]
  },
  {
   "cell_type": "code",
   "execution_count": 6,
   "metadata": {},
   "outputs": [
    {
     "data": {
      "text/plain": [
       "verifyfft (generic function with 2 methods)"
      ]
     },
     "execution_count": 6,
     "metadata": {},
     "output_type": "execute_result"
    }
   ],
   "source": [
    "using IntervalArithmetic\n",
    "\n",
    "function verifyfft(z::Vector{T}, sign=1) where T\n",
    "    n = length(z); col = 1; array1 = true\n",
    "    if n==1\n",
    "        Z = map(T,z)\n",
    "        return Z\n",
    "    else\n",
    "        isrow_ = false\n",
    "    end\n",
    "    log2n = Int(round(log2(n))) #check dimension\n",
    "    if 2^log2n ≠ n #2の倍数でない場合はエラー表示\n",
    "        error(\"length must be power of 2\")\n",
    "    end\n",
    "    #bit-reversal(ビットリバース)\n",
    "    f = 2^(log2n-1)\n",
    "    v = [0;f]\n",
    "    for k = 1:log2n-1\n",
    "#         f = 0.5*f\n",
    "        f = f >> 1\n",
    "        v = append!(v,f.+v)\n",
    "    end\n",
    "    z2 = zeros(n,col)\n",
    "    if isa(real(z[1]),Interval)\n",
    "        z2 = map(T,z2)\n",
    "    end\n",
    "    #zを入れ替え\n",
    "    for j = 1: n\n",
    "        z2[j,:] = z[v[j]+1,:]\n",
    "    end\n",
    "    #Danielson-Lanczos algorithm\n",
    "    Z = complex(map(Interval,z2))\n",
    "    Index = reshape([1:n*col;],n,col)\n",
    "    \n",
    "#     nmax=2^14\n",
    "#     if n <=nmax\n",
    "#         r_real = Array{Float64}(undef, 2^14, 1)\n",
    "#         file = open(\"INTLAB_CONST.FFTDATA_R_real.bin\", \"r\")\n",
    "#         read!(file, r_real)\n",
    "\n",
    "#         close(file)\n",
    "#         r_imag = Array{Float64}(undef, 2^14, 1)\n",
    "#         file = open(\"INTLAB_CONST.FFTDATA_R_imag.bin\", \"r\")\n",
    "#         read!(file, r_imag)\n",
    "#         close(file)\n",
    "\n",
    "#         d = Array{Float64}(undef, 14, 1)\n",
    "#         file = open(\"INTLAB_CONST.FFTDATA_D.bin\", \"r\")\n",
    "#         read!(file, d)\n",
    "#         close(file)\n",
    "        \n",
    "# #         c =r[1:Int(nmax/n):nmax]\n",
    "#         dd = d[log2n]\n",
    "        \n",
    "# #         Phizero = zeros(n)\n",
    "# #         Phi = complex(map(interval,Phizero))\n",
    "#         Phi = (r_real[1:Int(nmax/n):nmax] .± dd) +  im * (r_imag[1:Int(nmax/n):nmax].± dd)\n",
    "# #         end\n",
    "#         if sign==-1\n",
    "#             Phi = adjoint.(Phi)      \n",
    "#         end\n",
    "#     else\n",
    "#     Phi = exp.(im*theta) # SLOW (INTLAB uses table)   \n",
    "#     theta = @interval(pi) * sign * (0:n-1)/n; # division exact because n is power of 2\n",
    "#     Phi = cos.(theta) + im*sin.(theta) # SLOW?\n",
    "    theta = map(Interval,sign * (0:n-1)/n); # division exact because n is power of 2\n",
    "    Phi = cospi.(theta) + im*sinpi.(theta) # SLOW?\n",
    "#     end\n",
    "\n",
    "    v = [1:2:n;]\n",
    "    w = [2:2:n;]\n",
    "    t = Z[w,:]\n",
    "    Z[w,:]  = Z[v,:] - t\n",
    "    Z[v,:]  = Z[v,:] + t\n",
    "    for index　in 1: (log2n-1)    \n",
    "        m = 2^index\n",
    "        m2 = 2*m\n",
    "        vw = reshape([1:n;],m2,Int(n/m2))\n",
    "        v = vw[1: m, :]\n",
    "        w = vw[m+1: m2, : ]\n",
    "        indexv = reshape(Index[v[:],:],m,Int(col*n/m2))\n",
    "        indexw = reshape(Index[w[:],:],m,Int(col*n/m2))\n",
    "        Phi1 = repeat(Phi[1:Int(n/m):end],outer=[1,Int(col*n/m2)])\n",
    "        t = Phi1 .*  Z[indexw]\n",
    "        Z[indexw] = Z[indexv] - t \n",
    "        Z[indexv] = Z[indexv] + t\n",
    "    end\n",
    "    reverse(Z[2:end,:],dims=2)\n",
    "     if sign==-1\n",
    "        Z = Z/n\n",
    "    end\n",
    "    if isrow_\n",
    "        Z = transpose(Z)　#転置\n",
    "    end\n",
    "    if array1\n",
    "        Z = Z[:,1]\n",
    "    end\n",
    "    return Z\n",
    "end"
   ]
  },
  {
   "cell_type": "code",
   "execution_count": 7,
   "metadata": {},
   "outputs": [
    {
     "data": {
      "text/plain": [
       "8-element Array{Complex{Interval{Float64}},1}:\n",
       "     [8, 8] + [0, 0]im\n",
       " [-0, 0] + [-0, 0]im\n",
       " [-0, 0] + [-0, 0]im\n",
       " [-0, 0] + [-0, 0]im\n",
       " [-0, 0] + [-0, 0]im\n",
       " [-0, 0] + [-0, 0]im\n",
       " [-0, 0] + [-0, 0]im\n",
       " [-0, 0] + [-0, 0]im"
      ]
     },
     "execution_count": 7,
     "metadata": {},
     "output_type": "execute_result"
    }
   ],
   "source": [
    "z = map(Interval,ones(8))\n",
    "a = verifyfft(complex(z))"
   ]
  },
  {
   "cell_type": "code",
   "execution_count": 8,
   "metadata": {},
   "outputs": [
    {
     "data": {
      "text/plain": [
       "8-element Array{Complex{Interval{Float64}},1}:\n",
       "    [1, 1] + [0, 0]im\n",
       " [1, 1] + [-0, 0]im\n",
       " [1, 1] + [-0, 0]im\n",
       " [1, 1] + [-0, 0]im\n",
       " [1, 1] + [-0, 0]im\n",
       " [1, 1] + [-0, 0]im\n",
       " [1, 1] + [-0, 0]im\n",
       " [1, 1] + [-0, 0]im"
      ]
     },
     "execution_count": 8,
     "metadata": {},
     "output_type": "execute_result"
    }
   ],
   "source": [
    "verifyfft(a,-1)"
   ]
  },
  {
   "cell_type": "code",
   "execution_count": 9,
   "metadata": {},
   "outputs": [
    {
     "data": {
      "text/plain": [
       "radius (generic function with 4 methods)"
      ]
     },
     "execution_count": 9,
     "metadata": {},
     "output_type": "execute_result"
    }
   ],
   "source": [
    "# 複素区間の半径を計算する\n",
    "import IntervalArithmetic: radius\n",
    "\n",
    "function radius(v::Complex{Interval{T}}) where T# mag function for complex interval vectors\n",
    "    return sqrt(interval(radius(real(v)))^2 + interval(radius(imag(v)))^2)\n",
    "end"
   ]
  },
  {
   "cell_type": "markdown",
   "metadata": {},
   "source": [
    "## 計算結果\n",
    "\n",
    "`verifyfft`の計算結果とCooley-Tukey FFTアルゴリズムの計算時間を比較する。"
   ]
  },
  {
   "cell_type": "code",
   "execution_count": 10,
   "metadata": {},
   "outputs": [
    {
     "name": "stdout",
     "output_type": "stream",
     "text": [
      "  0.900099 seconds (1.33 M allocations: 442.314 MiB, 18.74% gc time)\n",
      "  0.346166 seconds (459.70 k allocations: 400.371 MiB, 5.66% gc time)\n",
      "  0.319719 seconds (503 allocations: 20.019 MiB)\n",
      "  0.333308 seconds (503 allocations: 20.019 MiB, 1.83% gc time)\n"
     ]
    },
    {
     "data": {
      "text/plain": [
       "(5.657357161408017e-10, 4.5494222365109034e-8)"
      ]
     },
     "execution_count": 10,
     "metadata": {},
     "output_type": "execute_result"
    }
   ],
   "source": [
    "using IntervalArithmetic, FFTW\n",
    "N  = 2^17\n",
    "x  = randn(N)\n",
    "ix = map(Interval, x)\n",
    "\n",
    "# @time verifyfft(x)\n",
    "# @time verifyfft(x)\n",
    "@time verifyfft(ix)\n",
    "@time z1 = verifyfft(ix)\n",
    "\n",
    "@time generic_fft_pow2(ix)\n",
    "@time z2 = generic_fft_pow2(ix)\n",
    "    \n",
    "sup(maximum(radius,z1)),sup(maximum(radius,z2))"
   ]
  },
  {
   "cell_type": "markdown",
   "metadata": {},
   "source": [
    "こちらは上のCooley-Tukey FFTよりも若干計算速度が劣るが同程度。しかし区間演算による誤差拡大が2桁程度抑えられている。すなわちINTLABにおける実装の方が、高精度な区間演算結果を返すことができる。以下に入力のベクトルのサイズを変えた時の最大区間幅をプロットした図を示す。"
   ]
  },
  {
   "cell_type": "code",
   "execution_count": 11,
   "metadata": {},
   "outputs": [],
   "source": [
    "using Plots\n",
    "index = 2:2:20\n",
    "max_rad1 = zeros(size(index))\n",
    "max_rad2 = zeros(size(index))\n",
    "i = 1\n",
    "for n ∈ index\n",
    "    a = map(Interval, randn(2^n))\n",
    "\n",
    "    z1 = verifyfft(a)\n",
    "    z2 = generic_fft_pow2(a)\n",
    "\n",
    "    max_rad1[i] = sup(maximum(radius,z1))\n",
    "    max_rad2[i] = sup(maximum(radius,z2))\n",
    "\n",
    "    i += 1\n",
    "end"
   ]
  },
  {
   "cell_type": "code",
   "execution_count": 12,
   "metadata": {},
   "outputs": [
    {
     "data": {
      "image/svg+xml": [
       "<?xml version=\"1.0\" encoding=\"utf-8\"?>\n",
       "<svg xmlns=\"http://www.w3.org/2000/svg\" xmlns:xlink=\"http://www.w3.org/1999/xlink\" width=\"600\" height=\"400\" viewBox=\"0 0 2400 1600\">\n",
       "<defs>\n",
       "  <clipPath id=\"clip180\">\n",
       "    <rect x=\"0\" y=\"0\" width=\"2400\" height=\"1600\"/>\n",
       "  </clipPath>\n",
       "</defs>\n",
       "<path clip-path=\"url(#clip180)\" d=\"\n",
       "M0 1600 L2400 1600 L2400 0 L0 0  Z\n",
       "  \" fill=\"#ffffff\" fill-rule=\"evenodd\" fill-opacity=\"1\"/>\n",
       "<defs>\n",
       "  <clipPath id=\"clip181\">\n",
       "    <rect x=\"480\" y=\"0\" width=\"1681\" height=\"1600\"/>\n",
       "  </clipPath>\n",
       "</defs>\n",
       "<path clip-path=\"url(#clip180)\" d=\"\n",
       "M265.26 1423.18 L2352.76 1423.18 L2352.76 123.472 L265.26 123.472  Z\n",
       "  \" fill=\"#ffffff\" fill-rule=\"evenodd\" fill-opacity=\"1\"/>\n",
       "<defs>\n",
       "  <clipPath id=\"clip182\">\n",
       "    <rect x=\"265\" y=\"123\" width=\"2088\" height=\"1301\"/>\n",
       "  </clipPath>\n",
       "</defs>\n",
       "<polyline clip-path=\"url(#clip182)\" style=\"stroke:#000000; stroke-width:2; stroke-opacity:0.1; fill:none\" points=\"\n",
       "  682.759,1423.18 682.759,123.472 \n",
       "  \"/>\n",
       "<polyline clip-path=\"url(#clip182)\" style=\"stroke:#000000; stroke-width:2; stroke-opacity:0.1; fill:none\" points=\"\n",
       "  1204.63,1423.18 1204.63,123.472 \n",
       "  \"/>\n",
       "<polyline clip-path=\"url(#clip182)\" style=\"stroke:#000000; stroke-width:2; stroke-opacity:0.1; fill:none\" points=\"\n",
       "  1726.51,1423.18 1726.51,123.472 \n",
       "  \"/>\n",
       "<polyline clip-path=\"url(#clip182)\" style=\"stroke:#000000; stroke-width:2; stroke-opacity:0.1; fill:none\" points=\"\n",
       "  2248.38,1423.18 2248.38,123.472 \n",
       "  \"/>\n",
       "<polyline clip-path=\"url(#clip180)\" style=\"stroke:#000000; stroke-width:4; stroke-opacity:1; fill:none\" points=\"\n",
       "  265.26,1423.18 2352.76,1423.18 \n",
       "  \"/>\n",
       "<polyline clip-path=\"url(#clip180)\" style=\"stroke:#000000; stroke-width:4; stroke-opacity:1; fill:none\" points=\"\n",
       "  682.759,1423.18 682.759,1407.58 \n",
       "  \"/>\n",
       "<polyline clip-path=\"url(#clip180)\" style=\"stroke:#000000; stroke-width:4; stroke-opacity:1; fill:none\" points=\"\n",
       "  1204.63,1423.18 1204.63,1407.58 \n",
       "  \"/>\n",
       "<polyline clip-path=\"url(#clip180)\" style=\"stroke:#000000; stroke-width:4; stroke-opacity:1; fill:none\" points=\"\n",
       "  1726.51,1423.18 1726.51,1407.58 \n",
       "  \"/>\n",
       "<polyline clip-path=\"url(#clip180)\" style=\"stroke:#000000; stroke-width:4; stroke-opacity:1; fill:none\" points=\"\n",
       "  2248.38,1423.18 2248.38,1407.58 \n",
       "  \"/>\n",
       "<path clip-path=\"url(#clip180)\" d=\"M 0 0 M673.037 1449.29 L691.393 1449.29 L691.393 1453.23 L677.319 1453.23 L677.319 1461.7 Q678.338 1461.35 679.356 1461.19 Q680.375 1461 681.393 1461 Q687.18 1461 690.56 1464.18 Q693.939 1467.35 693.939 1472.76 Q693.939 1478.34 690.467 1481.44 Q686.995 1484.52 680.675 1484.52 Q678.5 1484.52 676.231 1484.15 Q673.986 1483.78 671.578 1483.04 L671.578 1478.34 Q673.662 1479.48 675.884 1480.03 Q678.106 1480.59 680.583 1480.59 Q684.588 1480.59 686.925 1478.48 Q689.263 1476.38 689.263 1472.76 Q689.263 1469.15 686.925 1467.05 Q684.588 1464.94 680.583 1464.94 Q678.708 1464.94 676.833 1465.36 Q674.981 1465.77 673.037 1466.65 L673.037 1449.29 Z\" fill=\"#000000\" fill-rule=\"evenodd\" fill-opacity=\"1\" /><path clip-path=\"url(#clip180)\" d=\"M 0 0 M1181.51 1479.92 L1189.15 1479.92 L1189.15 1453.55 L1180.84 1455.22 L1180.84 1450.96 L1189.1 1449.29 L1193.78 1449.29 L1193.78 1479.92 L1201.42 1479.92 L1201.42 1483.85 L1181.51 1483.85 L1181.51 1479.92 Z\" fill=\"#000000\" fill-rule=\"evenodd\" fill-opacity=\"1\" /><path clip-path=\"url(#clip180)\" d=\"M 0 0 M1216.48 1452.37 Q1212.87 1452.37 1211.04 1455.94 Q1209.24 1459.48 1209.24 1466.61 Q1209.24 1473.71 1211.04 1477.28 Q1212.87 1480.82 1216.48 1480.82 Q1220.12 1480.82 1221.92 1477.28 Q1223.75 1473.71 1223.75 1466.61 Q1223.75 1459.48 1221.92 1455.94 Q1220.12 1452.37 1216.48 1452.37 M1216.48 1448.67 Q1222.29 1448.67 1225.35 1453.27 Q1228.43 1457.86 1228.43 1466.61 Q1228.43 1475.33 1225.35 1479.94 Q1222.29 1484.52 1216.48 1484.52 Q1210.67 1484.52 1207.6 1479.94 Q1204.54 1475.33 1204.54 1466.61 Q1204.54 1457.86 1207.6 1453.27 Q1210.67 1448.67 1216.48 1448.67 Z\" fill=\"#000000\" fill-rule=\"evenodd\" fill-opacity=\"1\" /><path clip-path=\"url(#clip180)\" d=\"M 0 0 M1703.88 1479.92 L1711.52 1479.92 L1711.52 1453.55 L1703.21 1455.22 L1703.21 1450.96 L1711.47 1449.29 L1716.15 1449.29 L1716.15 1479.92 L1723.79 1479.92 L1723.79 1483.85 L1703.88 1483.85 L1703.88 1479.92 Z\" fill=\"#000000\" fill-rule=\"evenodd\" fill-opacity=\"1\" /><path clip-path=\"url(#clip180)\" d=\"M 0 0 M1728.9 1449.29 L1747.26 1449.29 L1747.26 1453.23 L1733.19 1453.23 L1733.19 1461.7 Q1734.2 1461.35 1735.22 1461.19 Q1736.24 1461 1737.26 1461 Q1743.05 1461 1746.43 1464.18 Q1749.81 1467.35 1749.81 1472.76 Q1749.81 1478.34 1746.33 1481.44 Q1742.86 1484.52 1736.54 1484.52 Q1734.37 1484.52 1732.1 1484.15 Q1729.85 1483.78 1727.44 1483.04 L1727.44 1478.34 Q1729.53 1479.48 1731.75 1480.03 Q1733.97 1480.59 1736.45 1480.59 Q1740.45 1480.59 1742.79 1478.48 Q1745.13 1476.38 1745.13 1472.76 Q1745.13 1469.15 1742.79 1467.05 Q1740.45 1464.94 1736.45 1464.94 Q1734.57 1464.94 1732.7 1465.36 Q1730.85 1465.77 1728.9 1466.65 L1728.9 1449.29 Z\" fill=\"#000000\" fill-rule=\"evenodd\" fill-opacity=\"1\" /><path clip-path=\"url(#clip180)\" d=\"M 0 0 M2229.53 1479.92 L2245.85 1479.92 L2245.85 1483.85 L2223.9 1483.85 L2223.9 1479.92 Q2226.56 1477.16 2231.15 1472.53 Q2235.75 1467.88 2236.93 1466.54 Q2239.18 1464.01 2240.06 1462.28 Q2240.96 1460.52 2240.96 1458.83 Q2240.96 1456.07 2239.02 1454.34 Q2237.1 1452.6 2233.99 1452.6 Q2231.8 1452.6 2229.34 1453.37 Q2226.91 1454.13 2224.13 1455.68 L2224.13 1450.96 Q2226.96 1449.82 2229.41 1449.25 Q2231.86 1448.67 2233.9 1448.67 Q2239.27 1448.67 2242.47 1451.35 Q2245.66 1454.04 2245.66 1458.53 Q2245.66 1460.66 2244.85 1462.58 Q2244.06 1464.48 2241.96 1467.07 Q2241.38 1467.74 2238.28 1470.96 Q2235.18 1474.15 2229.53 1479.92 Z\" fill=\"#000000\" fill-rule=\"evenodd\" fill-opacity=\"1\" /><path clip-path=\"url(#clip180)\" d=\"M 0 0 M2260.92 1452.37 Q2257.3 1452.37 2255.48 1455.94 Q2253.67 1459.48 2253.67 1466.61 Q2253.67 1473.71 2255.48 1477.28 Q2257.3 1480.82 2260.92 1480.82 Q2264.55 1480.82 2266.36 1477.28 Q2268.18 1473.71 2268.18 1466.61 Q2268.18 1459.48 2266.36 1455.94 Q2264.55 1452.37 2260.92 1452.37 M2260.92 1448.67 Q2266.73 1448.67 2269.78 1453.27 Q2272.86 1457.86 2272.86 1466.61 Q2272.86 1475.33 2269.78 1479.94 Q2266.73 1484.52 2260.92 1484.52 Q2255.11 1484.52 2252.03 1479.94 Q2248.97 1475.33 2248.97 1466.61 Q2248.97 1457.86 2252.03 1453.27 Q2255.11 1448.67 2260.92 1448.67 Z\" fill=\"#000000\" fill-rule=\"evenodd\" fill-opacity=\"1\" /><path clip-path=\"url(#clip180)\" d=\"M 0 0 M1155.34 1562.7 L1155.34 1581.6 L1149.45 1581.6 L1149.45 1532.4 L1155.34 1532.4 L1155.34 1537.81 Q1157.19 1534.62 1159.99 1533.1 Q1162.82 1531.54 1166.73 1531.54 Q1173.23 1531.54 1177.27 1536.69 Q1181.34 1541.85 1181.34 1550.25 Q1181.34 1558.65 1177.27 1563.81 Q1173.23 1568.97 1166.73 1568.97 Q1162.82 1568.97 1159.99 1567.44 Q1157.19 1565.88 1155.34 1562.7 M1175.26 1550.25 Q1175.26 1543.79 1172.59 1540.13 Q1169.95 1536.44 1165.3 1536.44 Q1160.65 1536.44 1157.98 1540.13 Q1155.34 1543.79 1155.34 1550.25 Q1155.34 1556.71 1157.98 1560.4 Q1160.65 1564.07 1165.3 1564.07 Q1169.95 1564.07 1172.59 1560.4 Q1175.26 1556.71 1175.26 1550.25 Z\" fill=\"#000000\" fill-rule=\"evenodd\" fill-opacity=\"1\" /><path clip-path=\"url(#clip180)\" d=\"M 0 0 M1201.3 1536.5 Q1196.59 1536.5 1193.85 1540.19 Q1191.11 1543.85 1191.11 1550.25 Q1191.11 1556.65 1193.82 1560.34 Q1196.56 1564 1201.3 1564 Q1205.98 1564 1208.72 1560.31 Q1211.45 1556.62 1211.45 1550.25 Q1211.45 1543.92 1208.72 1540.23 Q1205.98 1536.5 1201.3 1536.5 M1201.3 1531.54 Q1208.94 1531.54 1213.3 1536.5 Q1217.66 1541.47 1217.66 1550.25 Q1217.66 1559 1213.3 1564 Q1208.94 1568.97 1201.3 1568.97 Q1193.63 1568.97 1189.27 1564 Q1184.94 1559 1184.94 1550.25 Q1184.94 1541.47 1189.27 1536.5 Q1193.63 1531.54 1201.3 1531.54 Z\" fill=\"#000000\" fill-rule=\"evenodd\" fill-opacity=\"1\" /><path clip-path=\"url(#clip180)\" d=\"M 0 0 M1220.4 1532.4 L1226.25 1532.4 L1233.57 1560.21 L1240.86 1532.4 L1247.77 1532.4 L1255.09 1560.21 L1262.38 1532.4 L1268.24 1532.4 L1258.91 1568.04 L1252 1568.04 L1244.33 1538.83 L1236.63 1568.04 L1229.72 1568.04 L1220.4 1532.4 Z\" fill=\"#000000\" fill-rule=\"evenodd\" fill-opacity=\"1\" /><path clip-path=\"url(#clip180)\" d=\"M 0 0 M1304.87 1548.76 L1304.87 1551.62 L1277.94 1551.62 Q1278.33 1557.67 1281.57 1560.85 Q1284.85 1564 1290.67 1564 Q1294.05 1564 1297.2 1563.17 Q1300.38 1562.35 1303.5 1560.69 L1303.5 1566.23 Q1300.35 1567.57 1297.04 1568.27 Q1293.73 1568.97 1290.32 1568.97 Q1281.79 1568.97 1276.8 1564 Q1271.83 1559.04 1271.83 1550.57 Q1271.83 1541.82 1276.54 1536.69 Q1281.29 1531.54 1289.31 1531.54 Q1296.5 1531.54 1300.67 1536.18 Q1304.87 1540.8 1304.87 1548.76 M1299.01 1547.04 Q1298.95 1542.23 1296.31 1539.37 Q1293.7 1536.5 1289.37 1536.5 Q1284.47 1536.5 1281.51 1539.27 Q1278.58 1542.04 1278.13 1547.07 L1299.01 1547.04 Z\" fill=\"#000000\" fill-rule=\"evenodd\" fill-opacity=\"1\" /><path clip-path=\"url(#clip180)\" d=\"M 0 0 M1331.67 1537.87 Q1330.68 1537.3 1329.51 1537.04 Q1328.36 1536.76 1326.96 1536.76 Q1321.99 1536.76 1319.32 1540 Q1316.68 1543.22 1316.68 1549.27 L1316.68 1568.04 L1310.79 1568.04 L1310.79 1532.4 L1316.68 1532.4 L1316.68 1537.93 Q1318.52 1534.69 1321.48 1533.13 Q1324.44 1531.54 1328.68 1531.54 Q1329.28 1531.54 1330.01 1531.63 Q1330.75 1531.7 1331.64 1531.85 L1331.67 1537.87 Z\" fill=\"#000000\" fill-rule=\"evenodd\" fill-opacity=\"1\" /><path clip-path=\"url(#clip180)\" d=\"M 0 0 M1372.35 1536.5 Q1367.64 1536.5 1364.9 1540.19 Q1362.16 1543.85 1362.16 1550.25 Q1362.16 1556.65 1364.87 1560.34 Q1367.6 1564 1372.35 1564 Q1377.03 1564 1379.76 1560.31 Q1382.5 1556.62 1382.5 1550.25 Q1382.5 1543.92 1379.76 1540.23 Q1377.03 1536.5 1372.35 1536.5 M1372.35 1531.54 Q1379.99 1531.54 1384.35 1536.5 Q1388.71 1541.47 1388.71 1550.25 Q1388.71 1559 1384.35 1564 Q1379.99 1568.97 1372.35 1568.97 Q1364.68 1568.97 1360.32 1564 Q1355.99 1559 1355.99 1550.25 Q1355.99 1541.47 1360.32 1536.5 Q1364.68 1531.54 1372.35 1531.54 Z\" fill=\"#000000\" fill-rule=\"evenodd\" fill-opacity=\"1\" /><path clip-path=\"url(#clip180)\" d=\"M 0 0 M1412.9 1518.52 L1412.9 1523.39 L1407.29 1523.39 Q1404.14 1523.39 1402.9 1524.66 Q1401.69 1525.93 1401.69 1529.24 L1401.69 1532.4 L1411.34 1532.4 L1411.34 1536.95 L1401.69 1536.95 L1401.69 1568.04 L1395.8 1568.04 L1395.8 1536.95 L1390.2 1536.95 L1390.2 1532.4 L1395.8 1532.4 L1395.8 1529.91 Q1395.8 1523.96 1398.57 1521.26 Q1401.34 1518.52 1407.36 1518.52 L1412.9 1518.52 Z\" fill=\"#000000\" fill-rule=\"evenodd\" fill-opacity=\"1\" /><path clip-path=\"url(#clip180)\" d=\"M 0 0 M1446.13 1562.63 L1468.56 1562.63 L1468.56 1568.04 L1438.39 1568.04 L1438.39 1562.63 Q1442.05 1558.85 1448.35 1552.48 Q1454.69 1546.08 1456.31 1544.24 Q1459.4 1540.77 1460.61 1538.38 Q1461.85 1535.96 1461.85 1533.64 Q1461.85 1529.85 1459.17 1527.46 Q1456.53 1525.08 1452.27 1525.08 Q1449.24 1525.08 1445.87 1526.13 Q1442.53 1527.18 1438.71 1529.31 L1438.71 1522.82 Q1442.59 1521.26 1445.97 1520.46 Q1449.34 1519.66 1452.14 1519.66 Q1459.52 1519.66 1463.92 1523.36 Q1468.31 1527.05 1468.31 1533.22 Q1468.31 1536.15 1467.2 1538.79 Q1466.11 1541.4 1463.22 1544.97 Q1462.42 1545.89 1458.16 1550.32 Q1453.89 1554.71 1446.13 1562.63 Z\" fill=\"#000000\" fill-rule=\"evenodd\" fill-opacity=\"1\" /><polyline clip-path=\"url(#clip182)\" style=\"stroke:#000000; stroke-width:2; stroke-opacity:0.1; fill:none\" points=\"\n",
       "  265.26,1215.95 2352.76,1215.95 \n",
       "  \"/>\n",
       "<polyline clip-path=\"url(#clip182)\" style=\"stroke:#000000; stroke-width:2; stroke-opacity:0.1; fill:none\" points=\"\n",
       "  265.26,954.545 2352.76,954.545 \n",
       "  \"/>\n",
       "<polyline clip-path=\"url(#clip182)\" style=\"stroke:#000000; stroke-width:2; stroke-opacity:0.1; fill:none\" points=\"\n",
       "  265.26,693.141 2352.76,693.141 \n",
       "  \"/>\n",
       "<polyline clip-path=\"url(#clip182)\" style=\"stroke:#000000; stroke-width:2; stroke-opacity:0.1; fill:none\" points=\"\n",
       "  265.26,431.736 2352.76,431.736 \n",
       "  \"/>\n",
       "<polyline clip-path=\"url(#clip182)\" style=\"stroke:#000000; stroke-width:2; stroke-opacity:0.1; fill:none\" points=\"\n",
       "  265.26,170.331 2352.76,170.331 \n",
       "  \"/>\n",
       "<polyline clip-path=\"url(#clip180)\" style=\"stroke:#000000; stroke-width:4; stroke-opacity:1; fill:none\" points=\"\n",
       "  265.26,1423.18 265.26,123.472 \n",
       "  \"/>\n",
       "<polyline clip-path=\"url(#clip180)\" style=\"stroke:#000000; stroke-width:4; stroke-opacity:1; fill:none\" points=\"\n",
       "  265.26,1215.95 290.309,1215.95 \n",
       "  \"/>\n",
       "<polyline clip-path=\"url(#clip180)\" style=\"stroke:#000000; stroke-width:4; stroke-opacity:1; fill:none\" points=\"\n",
       "  265.26,954.545 290.309,954.545 \n",
       "  \"/>\n",
       "<polyline clip-path=\"url(#clip180)\" style=\"stroke:#000000; stroke-width:4; stroke-opacity:1; fill:none\" points=\"\n",
       "  265.26,693.141 290.309,693.141 \n",
       "  \"/>\n",
       "<polyline clip-path=\"url(#clip180)\" style=\"stroke:#000000; stroke-width:4; stroke-opacity:1; fill:none\" points=\"\n",
       "  265.26,431.736 290.309,431.736 \n",
       "  \"/>\n",
       "<polyline clip-path=\"url(#clip180)\" style=\"stroke:#000000; stroke-width:4; stroke-opacity:1; fill:none\" points=\"\n",
       "  265.26,170.331 290.309,170.331 \n",
       "  \"/>\n",
       "<path clip-path=\"url(#clip180)\" d=\"M 0 0 M114.931 1235.74 L122.57 1235.74 L122.57 1209.38 L114.26 1211.04 L114.26 1206.78 L122.524 1205.12 L127.2 1205.12 L127.2 1235.74 L134.839 1235.74 L134.839 1239.68 L114.931 1239.68 L114.931 1235.74 Z\" fill=\"#000000\" fill-rule=\"evenodd\" fill-opacity=\"1\" /><path clip-path=\"url(#clip180)\" d=\"M 0 0 M149.908 1208.2 Q146.297 1208.2 144.468 1211.76 Q142.663 1215.3 142.663 1222.43 Q142.663 1229.54 144.468 1233.1 Q146.297 1236.65 149.908 1236.65 Q153.542 1236.65 155.348 1233.1 Q157.177 1229.54 157.177 1222.43 Q157.177 1215.3 155.348 1211.76 Q153.542 1208.2 149.908 1208.2 M149.908 1204.49 Q155.718 1204.49 158.774 1209.1 Q161.852 1213.68 161.852 1222.43 Q161.852 1231.16 158.774 1235.77 Q155.718 1240.35 149.908 1240.35 Q144.098 1240.35 141.019 1235.77 Q137.964 1231.16 137.964 1222.43 Q137.964 1213.68 141.019 1209.1 Q144.098 1204.49 149.908 1204.49 Z\" fill=\"#000000\" fill-rule=\"evenodd\" fill-opacity=\"1\" /><path clip-path=\"url(#clip180)\" d=\"M 0 0 M161.852 1198.59 L185.964 1198.59 L185.964 1201.79 L161.852 1201.79 L161.852 1198.59 Z\" fill=\"#000000\" fill-rule=\"evenodd\" fill-opacity=\"1\" /><path clip-path=\"url(#clip180)\" d=\"M 0 0 M190.741 1209.07 L196.948 1209.07 L196.948 1187.65 L190.196 1189 L190.196 1185.54 L196.91 1184.19 L200.709 1184.19 L200.709 1209.07 L206.916 1209.07 L206.916 1212.27 L190.741 1212.27 L190.741 1209.07 Z\" fill=\"#000000\" fill-rule=\"evenodd\" fill-opacity=\"1\" /><path clip-path=\"url(#clip180)\" d=\"M 0 0 M221.473 1187.5 L211.881 1202.49 L221.473 1202.49 L221.473 1187.5 M220.476 1184.19 L225.253 1184.19 L225.253 1202.49 L229.26 1202.49 L229.26 1205.65 L225.253 1205.65 L225.253 1212.27 L221.473 1212.27 L221.473 1205.65 L208.797 1205.65 L208.797 1201.98 L220.476 1184.19 Z\" fill=\"#000000\" fill-rule=\"evenodd\" fill-opacity=\"1\" /><path clip-path=\"url(#clip180)\" d=\"M 0 0 M116.624 974.338 L124.263 974.338 L124.263 947.972 L115.953 949.639 L115.953 945.38 L124.217 943.713 L128.893 943.713 L128.893 974.338 L136.531 974.338 L136.531 978.273 L116.624 978.273 L116.624 974.338 Z\" fill=\"#000000\" fill-rule=\"evenodd\" fill-opacity=\"1\" /><path clip-path=\"url(#clip180)\" d=\"M 0 0 M151.601 946.792 Q147.99 946.792 146.161 950.356 Q144.355 953.898 144.355 961.028 Q144.355 968.134 146.161 971.699 Q147.99 975.241 151.601 975.241 Q155.235 975.241 157.041 971.699 Q158.869 968.134 158.869 961.028 Q158.869 953.898 157.041 950.356 Q155.235 946.792 151.601 946.792 M151.601 943.088 Q157.411 943.088 160.467 947.694 Q163.545 952.278 163.545 961.028 Q163.545 969.755 160.467 974.361 Q157.411 978.944 151.601 978.944 Q145.791 978.944 142.712 974.361 Q139.656 969.755 139.656 961.028 Q139.656 952.278 142.712 947.694 Q145.791 943.088 151.601 943.088 Z\" fill=\"#000000\" fill-rule=\"evenodd\" fill-opacity=\"1\" /><path clip-path=\"url(#clip180)\" d=\"M 0 0 M163.545 937.189 L187.657 937.189 L187.657 940.387 L163.545 940.387 L163.545 937.189 Z\" fill=\"#000000\" fill-rule=\"evenodd\" fill-opacity=\"1\" /><path clip-path=\"url(#clip180)\" d=\"M 0 0 M192.434 947.665 L198.64 947.665 L198.64 926.243 L191.889 927.597 L191.889 924.137 L198.603 922.783 L202.402 922.783 L202.402 947.665 L208.609 947.665 L208.609 950.863 L192.434 950.863 L192.434 947.665 Z\" fill=\"#000000\" fill-rule=\"evenodd\" fill-opacity=\"1\" /><path clip-path=\"url(#clip180)\" d=\"M 0 0 M216 947.665 L229.26 947.665 L229.26 950.863 L211.43 950.863 L211.43 947.665 Q213.593 945.427 217.317 941.666 Q221.059 937.885 222.019 936.794 Q223.843 934.744 224.558 933.334 Q225.291 931.904 225.291 930.531 Q225.291 928.293 223.711 926.883 Q222.15 925.472 219.63 925.472 Q217.843 925.472 215.85 926.093 Q213.875 926.713 211.618 927.974 L211.618 924.137 Q213.912 923.215 215.906 922.745 Q217.9 922.275 219.555 922.275 Q223.918 922.275 226.514 924.456 Q229.109 926.638 229.109 930.287 Q229.109 932.017 228.451 933.578 Q227.811 935.12 226.1 937.227 Q225.63 937.772 223.109 940.387 Q220.589 942.982 216 947.665 Z\" fill=\"#000000\" fill-rule=\"evenodd\" fill-opacity=\"1\" /><path clip-path=\"url(#clip180)\" d=\"M 0 0 M115.326 712.933 L122.965 712.933 L122.965 686.568 L114.655 688.234 L114.655 683.975 L122.919 682.308 L127.595 682.308 L127.595 712.933 L135.234 712.933 L135.234 716.868 L115.326 716.868 L115.326 712.933 Z\" fill=\"#000000\" fill-rule=\"evenodd\" fill-opacity=\"1\" /><path clip-path=\"url(#clip180)\" d=\"M 0 0 M150.303 685.387 Q146.692 685.387 144.863 688.952 Q143.058 692.493 143.058 699.623 Q143.058 706.729 144.863 710.294 Q146.692 713.836 150.303 713.836 Q153.937 713.836 155.743 710.294 Q157.572 706.729 157.572 699.623 Q157.572 692.493 155.743 688.952 Q153.937 685.387 150.303 685.387 M150.303 681.683 Q156.113 681.683 159.169 686.29 Q162.247 690.873 162.247 699.623 Q162.247 708.35 159.169 712.956 Q156.113 717.54 150.303 717.54 Q144.493 717.54 141.414 712.956 Q138.359 708.35 138.359 699.623 Q138.359 690.873 141.414 686.29 Q144.493 681.683 150.303 681.683 Z\" fill=\"#000000\" fill-rule=\"evenodd\" fill-opacity=\"1\" /><path clip-path=\"url(#clip180)\" d=\"M 0 0 M162.247 675.785 L186.359 675.785 L186.359 678.982 L162.247 678.982 L162.247 675.785 Z\" fill=\"#000000\" fill-rule=\"evenodd\" fill-opacity=\"1\" /><path clip-path=\"url(#clip180)\" d=\"M 0 0 M191.136 686.261 L197.343 686.261 L197.343 664.839 L190.591 666.193 L190.591 662.732 L197.305 661.378 L201.104 661.378 L201.104 686.261 L207.311 686.261 L207.311 689.458 L191.136 689.458 L191.136 686.261 Z\" fill=\"#000000\" fill-rule=\"evenodd\" fill-opacity=\"1\" /><path clip-path=\"url(#clip180)\" d=\"M 0 0 M219.555 663.879 Q216.621 663.879 215.135 666.776 Q213.668 669.653 213.668 675.446 Q213.668 681.22 215.135 684.117 Q216.621 686.994 219.555 686.994 Q222.508 686.994 223.975 684.117 Q225.46 681.22 225.46 675.446 Q225.46 669.653 223.975 666.776 Q222.508 663.879 219.555 663.879 M219.555 660.87 Q224.275 660.87 226.758 664.613 Q229.26 668.337 229.26 675.446 Q229.26 682.537 226.758 686.279 Q224.275 690.003 219.555 690.003 Q214.834 690.003 212.333 686.279 Q209.85 682.537 209.85 675.446 Q209.85 668.337 212.333 664.613 Q214.834 660.87 219.555 660.87 Z\" fill=\"#000000\" fill-rule=\"evenodd\" fill-opacity=\"1\" /><path clip-path=\"url(#clip180)\" d=\"M 0 0 M136.353 451.528 L143.992 451.528 L143.992 425.163 L135.682 426.83 L135.682 422.57 L143.946 420.904 L148.622 420.904 L148.622 451.528 L156.261 451.528 L156.261 455.464 L136.353 455.464 L136.353 451.528 Z\" fill=\"#000000\" fill-rule=\"evenodd\" fill-opacity=\"1\" /><path clip-path=\"url(#clip180)\" d=\"M 0 0 M171.33 423.982 Q167.719 423.982 165.89 427.547 Q164.085 431.089 164.085 438.218 Q164.085 445.325 165.89 448.89 Q167.719 452.431 171.33 452.431 Q174.964 452.431 176.77 448.89 Q178.599 445.325 178.599 438.218 Q178.599 431.089 176.77 427.547 Q174.964 423.982 171.33 423.982 M171.33 420.279 Q177.14 420.279 180.196 424.885 Q183.275 429.468 183.275 438.218 Q183.275 446.945 180.196 451.552 Q177.14 456.135 171.33 456.135 Q165.52 456.135 162.441 451.552 Q159.386 446.945 159.386 438.218 Q159.386 429.468 162.441 424.885 Q165.52 420.279 171.33 420.279 Z\" fill=\"#000000\" fill-rule=\"evenodd\" fill-opacity=\"1\" /><path clip-path=\"url(#clip180)\" d=\"M 0 0 M183.275 414.38 L207.386 414.38 L207.386 417.577 L183.275 417.577 L183.275 414.38 Z\" fill=\"#000000\" fill-rule=\"evenodd\" fill-opacity=\"1\" /><path clip-path=\"url(#clip180)\" d=\"M 0 0 M219.63 414.719 Q216.922 414.719 215.361 416.167 Q213.818 417.615 213.818 420.154 Q213.818 422.693 215.361 424.141 Q216.922 425.589 219.63 425.589 Q222.338 425.589 223.899 424.141 Q225.46 422.674 225.46 420.154 Q225.46 417.615 223.899 416.167 Q222.357 414.719 219.63 414.719 M215.831 413.101 Q213.386 412.499 212.013 410.825 Q210.659 409.151 210.659 406.744 Q210.659 403.377 213.047 401.421 Q215.455 399.465 219.63 399.465 Q223.824 399.465 226.213 401.421 Q228.601 403.377 228.601 406.744 Q228.601 409.151 227.228 410.825 Q225.874 412.499 223.448 413.101 Q226.194 413.741 227.717 415.603 Q229.26 417.464 229.26 420.154 Q229.26 424.235 226.758 426.417 Q224.275 428.599 219.63 428.599 Q214.984 428.599 212.483 426.417 Q210 424.235 210 420.154 Q210 417.464 211.543 415.603 Q213.085 413.741 215.831 413.101 M214.439 407.101 Q214.439 409.283 215.793 410.506 Q217.166 411.728 219.63 411.728 Q222.075 411.728 223.448 410.506 Q224.84 409.283 224.84 407.101 Q224.84 404.92 223.448 403.697 Q222.075 402.475 219.63 402.475 Q217.166 402.475 215.793 403.697 Q214.439 404.92 214.439 407.101 Z\" fill=\"#000000\" fill-rule=\"evenodd\" fill-opacity=\"1\" /><path clip-path=\"url(#clip180)\" d=\"M 0 0 M136.147 190.124 L143.785 190.124 L143.785 163.758 L135.475 165.425 L135.475 161.166 L143.739 159.499 L148.415 159.499 L148.415 190.124 L156.054 190.124 L156.054 194.059 L136.147 194.059 L136.147 190.124 Z\" fill=\"#000000\" fill-rule=\"evenodd\" fill-opacity=\"1\" /><path clip-path=\"url(#clip180)\" d=\"M 0 0 M171.123 162.578 Q167.512 162.578 165.683 166.142 Q163.878 169.684 163.878 176.814 Q163.878 183.92 165.683 187.485 Q167.512 191.027 171.123 191.027 Q174.758 191.027 176.563 187.485 Q178.392 183.92 178.392 176.814 Q178.392 169.684 176.563 166.142 Q174.758 162.578 171.123 162.578 M171.123 158.874 Q176.933 158.874 179.989 163.48 Q183.068 168.064 183.068 176.814 Q183.068 185.541 179.989 190.147 Q176.933 194.73 171.123 194.73 Q165.313 194.73 162.234 190.147 Q159.179 185.541 159.179 176.814 Q159.179 168.064 162.234 163.48 Q165.313 158.874 171.123 158.874 Z\" fill=\"#000000\" fill-rule=\"evenodd\" fill-opacity=\"1\" /><path clip-path=\"url(#clip180)\" d=\"M 0 0 M183.068 152.975 L207.179 152.975 L207.179 156.173 L183.068 156.173 L183.068 152.975 Z\" fill=\"#000000\" fill-rule=\"evenodd\" fill-opacity=\"1\" /><path clip-path=\"url(#clip180)\" d=\"M 0 0 M219.893 151.095 Q217.335 151.095 215.831 152.844 Q214.345 154.593 214.345 157.64 Q214.345 160.668 215.831 162.436 Q217.335 164.185 219.893 164.185 Q222.451 164.185 223.937 162.436 Q225.442 160.668 225.442 157.64 Q225.442 154.593 223.937 152.844 Q222.451 151.095 219.893 151.095 M227.435 139.189 L227.435 142.65 Q226.006 141.973 224.539 141.615 Q223.091 141.258 221.661 141.258 Q217.9 141.258 215.906 143.797 Q213.931 146.336 213.649 151.471 Q214.759 149.834 216.433 148.969 Q218.107 148.085 220.119 148.085 Q224.351 148.085 226.796 150.662 Q229.26 153.22 229.26 157.64 Q229.26 161.965 226.702 164.58 Q224.144 167.194 219.893 167.194 Q215.022 167.194 212.445 163.47 Q209.869 159.727 209.869 152.637 Q209.869 145.979 213.028 142.029 Q216.188 138.061 221.511 138.061 Q222.94 138.061 224.388 138.343 Q225.855 138.625 227.435 139.189 Z\" fill=\"#000000\" fill-rule=\"evenodd\" fill-opacity=\"1\" /><path clip-path=\"url(#clip180)\" d=\"M 0 0 M35.1993 1072.43 Q31.2526 1070.24 29.3747 1067.18 Q27.4968 1064.13 27.4968 1059.99 Q27.4968 1054.42 31.4117 1051.4 Q35.2948 1048.37 42.4881 1048.37 L64.0042 1048.37 L64.0042 1054.26 L42.679 1054.26 Q37.5546 1054.26 35.072 1056.07 Q32.5894 1057.89 32.5894 1061.61 Q32.5894 1066.16 35.6131 1068.81 Q38.6368 1071.45 43.8567 1071.45 L64.0042 1071.45 L64.0042 1077.34 L42.679 1077.34 Q37.5228 1077.34 35.072 1079.15 Q32.5894 1080.96 32.5894 1084.75 Q32.5894 1089.24 35.6449 1091.88 Q38.6686 1094.52 43.8567 1094.52 L64.0042 1094.52 L64.0042 1100.41 L28.3562 1100.41 L28.3562 1094.52 L33.8944 1094.52 Q30.616 1092.52 29.0564 1089.72 Q27.4968 1086.92 27.4968 1083.07 Q27.4968 1079.18 29.4702 1076.48 Q31.4436 1073.74 35.1993 1072.43 Z\" fill=\"#000000\" fill-rule=\"evenodd\" fill-opacity=\"1\" /><path clip-path=\"url(#clip180)\" d=\"M 0 0 M46.0847 1026.03 Q46.0847 1033.13 47.7079 1035.86 Q49.3312 1038.6 53.2461 1038.6 Q56.3653 1038.6 58.2114 1036.56 Q60.0256 1034.5 60.0256 1030.96 Q60.0256 1026.09 56.5881 1023.16 Q53.1188 1020.2 47.3897 1020.2 L46.0847 1020.2 L46.0847 1026.03 M43.6657 1014.35 L64.0042 1014.35 L64.0042 1020.2 L58.5933 1020.2 Q61.8398 1022.21 63.3994 1025.2 Q64.9272 1028.19 64.9272 1032.52 Q64.9272 1038 61.8716 1041.24 Q58.7843 1044.46 53.6281 1044.46 Q47.6125 1044.46 44.5569 1040.45 Q41.5014 1036.4 41.5014 1028.42 L41.5014 1020.2 L40.9285 1020.2 Q36.8862 1020.2 34.6901 1022.88 Q32.4621 1025.52 32.4621 1030.33 Q32.4621 1033.38 33.1941 1036.28 Q33.9262 1039.17 35.3903 1041.85 L29.9795 1041.85 Q28.7381 1038.63 28.1334 1035.61 Q27.4968 1032.59 27.4968 1029.72 Q27.4968 1021.99 31.5072 1018.17 Q35.5176 1014.35 43.6657 1014.35 Z\" fill=\"#000000\" fill-rule=\"evenodd\" fill-opacity=\"1\" /><path clip-path=\"url(#clip180)\" d=\"M 0 0 M28.3562 978.572 L45.7028 991.463 L64.0042 977.904 L64.0042 984.811 L49.9996 995.187 L64.0042 1005.56 L64.0042 1012.47 L45.3526 998.624 L28.3562 1011.29 L28.3562 1004.39 L41.0558 994.932 L28.3562 985.479 L28.3562 978.572 Z\" fill=\"#000000\" fill-rule=\"evenodd\" fill-opacity=\"1\" /><path clip-path=\"url(#clip180)\" d=\"M 0 0 M28.3562 971.761 L28.3562 965.905 L64.0042 965.905 L64.0042 971.761 L28.3562 971.761 M14.479 971.761 L14.479 965.905 L21.895 965.905 L21.895 971.761 L14.479 971.761 Z\" fill=\"#000000\" fill-rule=\"evenodd\" fill-opacity=\"1\" /><path clip-path=\"url(#clip180)\" d=\"M 0 0 M35.1993 932.007 Q31.2526 929.811 29.3747 926.755 Q27.4968 923.7 27.4968 919.562 Q27.4968 913.992 31.4117 910.968 Q35.2948 907.945 42.4881 907.945 L64.0042 907.945 L64.0042 913.833 L42.679 913.833 Q37.5546 913.833 35.072 915.647 Q32.5894 917.461 32.5894 921.185 Q32.5894 925.737 35.6131 928.379 Q38.6368 931.02 43.8567 931.02 L64.0042 931.02 L64.0042 936.909 L42.679 936.909 Q37.5228 936.909 35.072 938.723 Q32.5894 940.537 32.5894 944.325 Q32.5894 948.813 35.6449 951.454 Q38.6686 954.096 43.8567 954.096 L64.0042 954.096 L64.0042 959.984 L28.3562 959.984 L28.3562 954.096 L33.8944 954.096 Q30.616 952.091 29.0564 949.29 Q27.4968 946.489 27.4968 942.638 Q27.4968 938.755 29.4702 936.049 Q31.4436 933.312 35.1993 932.007 Z\" fill=\"#000000\" fill-rule=\"evenodd\" fill-opacity=\"1\" /><path clip-path=\"url(#clip180)\" d=\"M 0 0 M49.9359 902.407 L28.3562 902.407 L28.3562 896.55 L49.7131 896.55 Q54.7739 896.55 57.3202 894.577 Q59.8346 892.603 59.8346 888.657 Q59.8346 883.914 56.8109 881.177 Q53.7872 878.408 48.5673 878.408 L28.3562 878.408 L28.3562 872.551 L64.0042 872.551 L64.0042 878.408 L58.5296 878.408 Q61.7762 880.54 63.3676 883.373 Q64.9272 886.174 64.9272 889.898 Q64.9272 896.041 61.1078 899.224 Q57.2883 902.407 49.9359 902.407 M27.4968 887.67 L27.4968 887.67 Z\" fill=\"#000000\" fill-rule=\"evenodd\" fill-opacity=\"1\" /><path clip-path=\"url(#clip180)\" d=\"M 0 0 M35.1993 838.654 Q31.2526 836.458 29.3747 833.402 Q27.4968 830.347 27.4968 826.209 Q27.4968 820.639 31.4117 817.615 Q35.2948 814.592 42.4881 814.592 L64.0042 814.592 L64.0042 820.48 L42.679 820.48 Q37.5546 820.48 35.072 822.294 Q32.5894 824.108 32.5894 827.832 Q32.5894 832.384 35.6131 835.026 Q38.6368 837.667 43.8567 837.667 L64.0042 837.667 L64.0042 843.556 L42.679 843.556 Q37.5228 843.556 35.072 845.37 Q32.5894 847.184 32.5894 850.972 Q32.5894 855.46 35.6449 858.101 Q38.6686 860.743 43.8567 860.743 L64.0042 860.743 L64.0042 866.631 L28.3562 866.631 L28.3562 860.743 L33.8944 860.743 Q30.616 858.738 29.0564 855.937 Q27.4968 853.136 27.4968 849.285 Q27.4968 845.402 29.4702 842.696 Q31.4436 839.959 35.1993 838.654 Z\" fill=\"#000000\" fill-rule=\"evenodd\" fill-opacity=\"1\" /><path clip-path=\"url(#clip180)\" d=\"M 0 0 M33.8307 767.072 Q33.2578 768.058 33.0032 769.236 Q32.7167 770.382 32.7167 771.782 Q32.7167 776.748 35.9632 779.421 Q39.1779 782.063 45.2253 782.063 L64.0042 782.063 L64.0042 787.951 L28.3562 787.951 L28.3562 782.063 L33.8944 782.063 Q30.6479 780.217 29.0883 777.257 Q27.4968 774.297 27.4968 770.064 Q27.4968 769.459 27.5923 768.727 Q27.656 767.995 27.8151 767.104 L33.8307 767.072 Z\" fill=\"#000000\" fill-rule=\"evenodd\" fill-opacity=\"1\" /><path clip-path=\"url(#clip180)\" d=\"M 0 0 M46.0847 744.728 Q46.0847 751.826 47.7079 754.563 Q49.3312 757.3 53.2461 757.3 Q56.3653 757.3 58.2114 755.263 Q60.0256 753.194 60.0256 749.661 Q60.0256 744.792 56.5881 741.863 Q53.1188 738.903 47.3897 738.903 L46.0847 738.903 L46.0847 744.728 M43.6657 733.047 L64.0042 733.047 L64.0042 738.903 L58.5933 738.903 Q61.8398 740.909 63.3994 743.901 Q64.9272 746.892 64.9272 751.221 Q64.9272 756.696 61.8716 759.942 Q58.7843 763.157 53.6281 763.157 Q47.6125 763.157 44.5569 759.146 Q41.5014 755.104 41.5014 747.115 L41.5014 738.903 L40.9285 738.903 Q36.8862 738.903 34.6901 741.577 Q32.4621 744.219 32.4621 749.025 Q32.4621 752.08 33.1941 754.977 Q33.9262 757.873 35.3903 760.547 L29.9795 760.547 Q28.7381 757.332 28.1334 754.308 Q27.4968 751.285 27.4968 748.42 Q27.4968 740.686 31.5072 736.866 Q35.5176 733.047 43.6657 733.047 Z\" fill=\"#000000\" fill-rule=\"evenodd\" fill-opacity=\"1\" /><path clip-path=\"url(#clip180)\" d=\"M 0 0 M33.7671 703.446 L14.479 703.446 L14.479 697.59 L64.0042 697.59 L64.0042 703.446 L58.657 703.446 Q61.8398 705.292 63.3994 708.125 Q64.9272 710.926 64.9272 714.873 Q64.9272 721.334 59.771 725.408 Q54.6147 729.45 46.212 729.45 Q37.8093 729.45 32.6531 725.408 Q27.4968 721.334 27.4968 714.873 Q27.4968 710.926 29.0564 708.125 Q30.5842 705.292 33.7671 703.446 M46.212 723.403 Q52.6732 723.403 56.3653 720.761 Q60.0256 718.088 60.0256 713.441 Q60.0256 708.794 56.3653 706.12 Q52.6732 703.446 46.212 703.446 Q39.7508 703.446 36.0905 706.12 Q32.3984 708.794 32.3984 713.441 Q32.3984 718.088 36.0905 720.761 Q39.7508 723.403 46.212 723.403 Z\" fill=\"#000000\" fill-rule=\"evenodd\" fill-opacity=\"1\" /><path clip-path=\"url(#clip180)\" d=\"M 0 0 M28.3562 691.447 L28.3562 685.591 L64.0042 685.591 L64.0042 691.447 L28.3562 691.447 M14.479 691.447 L14.479 685.591 L21.895 685.591 L21.895 691.447 L14.479 691.447 Z\" fill=\"#000000\" fill-rule=\"evenodd\" fill-opacity=\"1\" /><path clip-path=\"url(#clip180)\" d=\"M 0 0 M49.9359 680.052 L28.3562 680.052 L28.3562 674.196 L49.7131 674.196 Q54.7739 674.196 57.3202 672.223 Q59.8346 670.249 59.8346 666.303 Q59.8346 661.56 56.8109 658.823 Q53.7872 656.054 48.5673 656.054 L28.3562 656.054 L28.3562 650.197 L64.0042 650.197 L64.0042 656.054 L58.5296 656.054 Q61.7762 658.186 63.3676 661.019 Q64.9272 663.82 64.9272 667.544 Q64.9272 673.687 61.1078 676.87 Q57.2883 680.052 49.9359 680.052 M27.4968 665.316 L27.4968 665.316 Z\" fill=\"#000000\" fill-rule=\"evenodd\" fill-opacity=\"1\" /><path clip-path=\"url(#clip180)\" d=\"M 0 0 M29.4065 621.329 L34.9447 621.329 Q33.6716 623.811 33.035 626.485 Q32.3984 629.159 32.3984 632.023 Q32.3984 636.384 33.7352 638.58 Q35.072 640.744 37.7456 640.744 Q39.7826 640.744 40.9603 639.185 Q42.1061 637.625 43.1565 632.914 L43.6021 630.909 Q44.9389 624.671 47.3897 622.061 Q49.8086 619.419 54.1691 619.419 Q59.1344 619.419 62.0308 623.366 Q64.9272 627.281 64.9272 634.156 Q64.9272 637.02 64.3543 640.139 Q63.8132 643.227 62.6992 646.664 L56.6518 646.664 Q58.3387 643.418 59.198 640.267 Q60.0256 637.116 60.0256 634.028 Q60.0256 629.891 58.6251 627.663 Q57.1929 625.435 54.6147 625.435 Q52.2276 625.435 50.9545 627.058 Q49.6813 628.649 48.5037 634.092 L48.0262 636.129 Q46.8804 641.572 44.5251 643.991 Q42.138 646.41 38.0002 646.41 Q32.9713 646.41 30.2341 642.845 Q27.4968 639.28 27.4968 632.723 Q27.4968 629.477 27.9743 626.612 Q28.4517 623.748 29.4065 621.329 Z\" fill=\"#000000\" fill-rule=\"evenodd\" fill-opacity=\"1\" /><path clip-path=\"url(#clip180)\" d=\"M 0 0 M32.4621 578.742 Q32.4621 583.453 36.1542 586.19 Q39.8145 588.927 46.212 588.927 Q52.6095 588.927 56.3017 586.222 Q59.9619 583.485 59.9619 578.742 Q59.9619 574.063 56.2698 571.326 Q52.5777 568.589 46.212 568.589 Q39.8781 568.589 36.186 571.326 Q32.4621 574.063 32.4621 578.742 M27.4968 578.742 Q27.4968 571.103 32.4621 566.743 Q37.4273 562.382 46.212 562.382 Q54.9649 562.382 59.9619 566.743 Q64.9272 571.103 64.9272 578.742 Q64.9272 586.413 59.9619 590.773 Q54.9649 595.102 46.212 595.102 Q37.4273 595.102 32.4621 590.773 Q27.4968 586.413 27.4968 578.742 Z\" fill=\"#000000\" fill-rule=\"evenodd\" fill-opacity=\"1\" /><path clip-path=\"url(#clip180)\" d=\"M 0 0 M14.479 538.193 L19.3487 538.193 L19.3487 543.795 Q19.3487 546.946 20.6219 548.187 Q21.895 549.396 25.2052 549.396 L28.3562 549.396 L28.3562 539.752 L32.9077 539.752 L32.9077 549.396 L64.0042 549.396 L64.0042 555.285 L32.9077 555.285 L32.9077 560.886 L28.3562 560.886 L28.3562 555.285 L25.8736 555.285 Q19.9216 555.285 17.2162 552.516 Q14.479 549.746 14.479 543.731 L14.479 538.193 Z\" fill=\"#000000\" fill-rule=\"evenodd\" fill-opacity=\"1\" /><path clip-path=\"url(#clip180)\" d=\"M 0 0 M14.479 493.283 L19.3487 493.283 L19.3487 498.884 Q19.3487 502.035 20.6219 503.277 Q21.895 504.486 25.2052 504.486 L28.3562 504.486 L28.3562 494.842 L32.9077 494.842 L32.9077 504.486 L64.0042 504.486 L64.0042 510.375 L32.9077 510.375 L32.9077 515.976 L28.3562 515.976 L28.3562 510.375 L25.8736 510.375 Q19.9216 510.375 17.2162 507.605 Q14.479 504.836 14.479 498.821 L14.479 493.283 Z\" fill=\"#000000\" fill-rule=\"evenodd\" fill-opacity=\"1\" /><path clip-path=\"url(#clip180)\" d=\"M 0 0 M14.479 469.093 L19.3487 469.093 L19.3487 474.695 Q19.3487 477.846 20.6219 479.087 Q21.895 480.297 25.2052 480.297 L28.3562 480.297 L28.3562 470.653 L32.9077 470.653 L32.9077 480.297 L64.0042 480.297 L64.0042 486.185 L32.9077 486.185 L32.9077 491.787 L28.3562 491.787 L28.3562 486.185 L25.8736 486.185 Q19.9216 486.185 17.2162 483.416 Q14.479 480.647 14.479 474.631 L14.479 469.093 Z\" fill=\"#000000\" fill-rule=\"evenodd\" fill-opacity=\"1\" /><path clip-path=\"url(#clip180)\" d=\"M 0 0 M18.2347 458.303 L28.3562 458.303 L28.3562 446.24 L32.9077 446.24 L32.9077 458.303 L52.2594 458.303 Q56.6199 458.303 57.8613 457.125 Q59.1026 455.916 59.1026 452.256 L59.1026 446.24 L64.0042 446.24 L64.0042 452.256 Q64.0042 459.035 61.4897 461.613 Q58.9434 464.191 52.2594 464.191 L32.9077 464.191 L32.9077 468.488 L28.3562 468.488 L28.3562 464.191 L18.2347 464.191 L18.2347 458.303 Z\" fill=\"#000000\" fill-rule=\"evenodd\" fill-opacity=\"1\" /><path clip-path=\"url(#clip180)\" d=\"M 0 0 M539.397 16.7545 L539.397 25.383 Q535.265 21.5346 530.566 19.6307 Q525.907 17.7268 520.641 17.7268 Q510.271 17.7268 504.761 24.0867 Q499.252 30.4061 499.252 42.3968 Q499.252 54.3469 504.761 60.7069 Q510.271 67.0263 520.641 67.0263 Q525.907 67.0263 530.566 65.1223 Q535.265 63.2184 539.397 59.3701 L539.397 67.9175 Q535.103 70.8341 530.282 72.2924 Q525.502 73.7508 520.155 73.7508 Q506.422 73.7508 498.523 65.3654 Q490.624 56.9395 490.624 42.3968 Q490.624 27.8135 498.523 19.4281 Q506.422 11.0023 520.155 11.0023 Q525.583 11.0023 530.363 12.4606 Q535.184 13.8784 539.397 16.7545 Z\" fill=\"#000000\" fill-rule=\"evenodd\" fill-opacity=\"1\" /><path clip-path=\"url(#clip180)\" d=\"M 0 0 M564.796 32.4315 Q558.801 32.4315 555.317 37.1306 Q551.833 41.7891 551.833 49.9314 Q551.833 58.0738 555.276 62.7728 Q558.76 67.4314 564.796 67.4314 Q570.751 67.4314 574.234 62.7323 Q577.718 58.0333 577.718 49.9314 Q577.718 41.8701 574.234 37.1711 Q570.751 32.4315 564.796 32.4315 M564.796 26.1121 Q574.518 26.1121 580.068 32.4315 Q585.618 38.7509 585.618 49.9314 Q585.618 61.0714 580.068 67.4314 Q574.518 73.7508 564.796 73.7508 Q555.033 73.7508 549.483 67.4314 Q543.974 61.0714 543.974 49.9314 Q543.974 38.7509 549.483 32.4315 Q555.033 26.1121 564.796 26.1121 Z\" fill=\"#000000\" fill-rule=\"evenodd\" fill-opacity=\"1\" /><path clip-path=\"url(#clip180)\" d=\"M 0 0 M628.76 35.9153 Q631.555 30.8922 635.444 28.5022 Q639.332 26.1121 644.599 26.1121 Q651.688 26.1121 655.536 31.0947 Q659.384 36.0368 659.384 45.1919 L659.384 72.576 L651.89 72.576 L651.89 45.4349 Q651.89 38.913 649.581 35.7533 Q647.272 32.5936 642.533 32.5936 Q636.74 32.5936 633.378 36.4419 Q630.015 40.2903 630.015 46.9338 L630.015 72.576 L622.521 72.576 L622.521 45.4349 Q622.521 38.8725 620.212 35.7533 Q617.903 32.5936 613.083 32.5936 Q607.371 32.5936 604.009 36.4824 Q600.646 40.3308 600.646 46.9338 L600.646 72.576 L593.152 72.576 L593.152 27.2059 L600.646 27.2059 L600.646 34.2544 Q603.198 30.082 606.763 28.0971 Q610.328 26.1121 615.23 26.1121 Q620.172 26.1121 623.615 28.6237 Q627.099 31.1352 628.76 35.9153 Z\" fill=\"#000000\" fill-rule=\"evenodd\" fill-opacity=\"1\" /><path clip-path=\"url(#clip180)\" d=\"M 0 0 M674.413 65.7705 L674.413 89.8329 L666.919 89.8329 L666.919 27.2059 L674.413 27.2059 L674.413 34.0924 Q676.763 30.0415 680.328 28.0971 Q683.933 26.1121 688.916 26.1121 Q697.179 26.1121 702.324 32.6746 Q707.509 39.2371 707.509 49.9314 Q707.509 60.6258 702.324 67.1883 Q697.179 73.7508 688.916 73.7508 Q683.933 73.7508 680.328 71.8063 Q676.763 69.8214 674.413 65.7705 M699.772 49.9314 Q699.772 41.7081 696.369 37.0496 Q693.007 32.3505 687.093 32.3505 Q681.178 32.3505 677.776 37.0496 Q674.413 41.7081 674.413 49.9314 Q674.413 58.1548 677.776 62.8538 Q681.178 67.5124 687.093 67.5124 Q693.007 67.5124 696.369 62.8538 Q699.772 58.1548 699.772 49.9314 Z\" fill=\"#000000\" fill-rule=\"evenodd\" fill-opacity=\"1\" /><path clip-path=\"url(#clip180)\" d=\"M 0 0 M735.947 49.7694 Q726.913 49.7694 723.429 51.8354 Q719.945 53.9013 719.945 58.8839 Q719.945 62.8538 722.538 65.2034 Q725.171 67.5124 729.668 67.5124 Q735.866 67.5124 739.592 63.1374 Q743.36 58.7219 743.36 51.4303 L743.36 49.7694 L735.947 49.7694 M750.813 46.6907 L750.813 72.576 L743.36 72.576 L743.36 65.6895 Q740.808 69.8214 737 71.8063 Q733.192 73.7508 727.683 73.7508 Q720.715 73.7508 716.583 69.8619 Q712.492 65.9325 712.492 59.3701 Q712.492 51.7138 717.596 47.825 Q722.741 43.9361 732.908 43.9361 L743.36 43.9361 L743.36 43.2069 Q743.36 38.0623 739.957 35.2672 Q736.595 32.4315 730.478 32.4315 Q726.589 32.4315 722.903 33.3632 Q719.216 34.295 715.814 36.1584 L715.814 29.2718 Q719.905 27.692 723.753 26.9223 Q727.602 26.1121 731.248 26.1121 Q741.091 26.1121 745.952 31.2163 Q750.813 36.3204 750.813 46.6907 Z\" fill=\"#000000\" fill-rule=\"evenodd\" fill-opacity=\"1\" /><path clip-path=\"url(#clip180)\" d=\"M 0 0 M784.922 34.1734 Q783.666 33.4443 782.167 33.1202 Q780.709 32.7556 778.927 32.7556 Q772.607 32.7556 769.204 36.8875 Q765.842 40.9789 765.842 48.6757 L765.842 72.576 L758.348 72.576 L758.348 27.2059 L765.842 27.2059 L765.842 34.2544 Q768.192 30.1225 771.959 28.1376 Q775.726 26.1121 781.114 26.1121 Q781.884 26.1121 782.816 26.2337 Q783.747 26.3147 784.881 26.5172 L784.922 34.1734 Z\" fill=\"#000000\" fill-rule=\"evenodd\" fill-opacity=\"1\" /><path clip-path=\"url(#clip180)\" d=\"M 0 0 M792.74 27.2059 L800.194 27.2059 L800.194 72.576 L792.74 72.576 L792.74 27.2059 M792.74 9.54393 L800.194 9.54393 L800.194 18.9825 L792.74 18.9825 L792.74 9.54393 Z\" fill=\"#000000\" fill-rule=\"evenodd\" fill-opacity=\"1\" /><path clip-path=\"url(#clip180)\" d=\"M 0 0 M836.936 28.5427 L836.936 35.5912 Q833.776 33.9709 830.373 33.1607 Q826.97 32.3505 823.325 32.3505 Q817.775 32.3505 814.98 34.0519 Q812.225 35.7533 812.225 39.156 Q812.225 41.7486 814.21 43.2475 Q816.195 44.7058 822.19 46.0426 L824.742 46.6097 Q832.682 48.3111 836.004 51.4303 Q839.366 54.509 839.366 60.0587 Q839.366 66.3781 834.343 70.0644 Q829.36 73.7508 820.61 73.7508 Q816.965 73.7508 812.995 73.0216 Q809.065 72.3329 804.69 70.9151 L804.69 63.2184 Q808.822 65.3654 812.833 66.4591 Q816.843 67.5124 820.772 67.5124 Q826.039 67.5124 828.874 65.73 Q831.71 63.9071 831.71 60.6258 Q831.71 57.5877 829.644 55.9673 Q827.619 54.3469 820.691 52.8481 L818.099 52.2405 Q811.172 50.7821 808.093 47.7845 Q805.014 44.7463 805.014 39.4801 Q805.014 33.0797 809.551 29.5959 Q814.089 26.1121 822.433 26.1121 Q826.565 26.1121 830.211 26.7198 Q833.857 27.3274 836.936 28.5427 Z\" fill=\"#000000\" fill-rule=\"evenodd\" fill-opacity=\"1\" /><path clip-path=\"url(#clip180)\" d=\"M 0 0 M864.765 32.4315 Q858.77 32.4315 855.286 37.1306 Q851.802 41.7891 851.802 49.9314 Q851.802 58.0738 855.246 62.7728 Q858.729 67.4314 864.765 67.4314 Q870.72 67.4314 874.204 62.7323 Q877.688 58.0333 877.688 49.9314 Q877.688 41.8701 874.204 37.1711 Q870.72 32.4315 864.765 32.4315 M864.765 26.1121 Q874.487 26.1121 880.037 32.4315 Q885.587 38.7509 885.587 49.9314 Q885.587 61.0714 880.037 67.4314 Q874.487 73.7508 864.765 73.7508 Q855.003 73.7508 849.453 67.4314 Q843.944 61.0714 843.944 49.9314 Q843.944 38.7509 849.453 32.4315 Q855.003 26.1121 864.765 26.1121 Z\" fill=\"#000000\" fill-rule=\"evenodd\" fill-opacity=\"1\" /><path clip-path=\"url(#clip180)\" d=\"M 0 0 M931.119 45.1919 L931.119 72.576 L923.665 72.576 L923.665 45.4349 Q923.665 38.994 921.154 35.7938 Q918.642 32.5936 913.619 32.5936 Q907.583 32.5936 904.1 36.4419 Q900.616 40.2903 900.616 46.9338 L900.616 72.576 L893.122 72.576 L893.122 27.2059 L900.616 27.2059 L900.616 34.2544 Q903.289 30.163 906.895 28.1376 Q910.541 26.1121 915.28 26.1121 Q923.098 26.1121 927.109 30.9732 Q931.119 35.7938 931.119 45.1919 Z\" fill=\"#000000\" fill-rule=\"evenodd\" fill-opacity=\"1\" /><path clip-path=\"url(#clip180)\" d=\"M 0 0 M995.164 49.3643 Q995.164 41.2625 991.802 36.8065 Q988.48 32.3505 982.444 32.3505 Q976.449 32.3505 973.086 36.8065 Q969.765 41.2625 969.765 49.3643 Q969.765 57.4256 973.086 61.8816 Q976.449 66.3376 982.444 66.3376 Q988.48 66.3376 991.802 61.8816 Q995.164 57.4256 995.164 49.3643 M1002.62 66.9452 Q1002.62 78.5308 997.473 84.1616 Q992.328 89.8329 981.715 89.8329 Q977.786 89.8329 974.302 89.2252 Q970.818 88.6581 967.537 87.4428 L967.537 80.1917 Q970.818 81.9741 974.018 82.8248 Q977.218 83.6755 980.54 83.6755 Q987.872 83.6755 991.518 79.8271 Q995.164 76.0193 995.164 68.282 L995.164 64.5957 Q992.855 68.6061 989.25 70.5911 Q985.644 72.576 980.621 72.576 Q972.276 72.576 967.172 66.2161 Q962.068 59.8562 962.068 49.3643 Q962.068 38.832 967.172 32.472 Q972.276 26.1121 980.621 26.1121 Q985.644 26.1121 989.25 28.0971 Q992.855 30.082 995.164 34.0924 L995.164 27.2059 L1002.62 27.2059 L1002.62 66.9452 Z\" fill=\"#000000\" fill-rule=\"evenodd\" fill-opacity=\"1\" /><path clip-path=\"url(#clip180)\" d=\"M 0 0 M1049.24 48.0275 L1049.24 51.6733 L1014.97 51.6733 Q1015.46 59.3701 1019.59 63.421 Q1023.76 67.4314 1031.18 67.4314 Q1035.47 67.4314 1039.48 66.3781 Q1043.53 65.3249 1047.5 63.2184 L1047.5 70.267 Q1043.49 71.9684 1039.28 72.8596 Q1035.07 73.7508 1030.73 73.7508 Q1019.87 73.7508 1013.51 67.4314 Q1007.2 61.1119 1007.2 50.3365 Q1007.2 39.1965 1013.19 32.6746 Q1019.23 26.1121 1029.43 26.1121 Q1038.59 26.1121 1043.9 32.0264 Q1049.24 37.9003 1049.24 48.0275 M1041.79 45.84 Q1041.71 39.7232 1038.35 36.0774 Q1035.02 32.4315 1029.52 32.4315 Q1023.28 32.4315 1019.51 35.9558 Q1015.78 39.4801 1015.22 45.8805 L1041.79 45.84 Z\" fill=\"#000000\" fill-rule=\"evenodd\" fill-opacity=\"1\" /><path clip-path=\"url(#clip180)\" d=\"M 0 0 M1094.78 45.1919 L1094.78 72.576 L1087.32 72.576 L1087.32 45.4349 Q1087.32 38.994 1084.81 35.7938 Q1082.3 32.5936 1077.28 32.5936 Q1071.24 32.5936 1067.76 36.4419 Q1064.27 40.2903 1064.27 46.9338 L1064.27 72.576 L1056.78 72.576 L1056.78 27.2059 L1064.27 27.2059 L1064.27 34.2544 Q1066.95 30.163 1070.55 28.1376 Q1074.2 26.1121 1078.94 26.1121 Q1086.75 26.1121 1090.77 30.9732 Q1094.78 35.7938 1094.78 45.1919 Z\" fill=\"#000000\" fill-rule=\"evenodd\" fill-opacity=\"1\" /><path clip-path=\"url(#clip180)\" d=\"M 0 0 M1141.4 48.0275 L1141.4 51.6733 L1107.13 51.6733 Q1107.62 59.3701 1111.75 63.421 Q1115.92 67.4314 1123.33 67.4314 Q1127.63 67.4314 1131.64 66.3781 Q1135.69 65.3249 1139.66 63.2184 L1139.66 70.267 Q1135.65 71.9684 1131.44 72.8596 Q1127.22 73.7508 1122.89 73.7508 Q1112.03 73.7508 1105.67 67.4314 Q1099.35 61.1119 1099.35 50.3365 Q1099.35 39.1965 1105.35 32.6746 Q1111.38 26.1121 1121.59 26.1121 Q1130.75 26.1121 1136.05 32.0264 Q1141.4 37.9003 1141.4 48.0275 M1133.95 45.84 Q1133.87 39.7232 1130.5 36.0774 Q1127.18 32.4315 1121.67 32.4315 Q1115.44 32.4315 1111.67 35.9558 Q1107.94 39.4801 1107.37 45.8805 L1133.95 45.84 Z\" fill=\"#000000\" fill-rule=\"evenodd\" fill-opacity=\"1\" /><path clip-path=\"url(#clip180)\" d=\"M 0 0 M1175.51 34.1734 Q1174.25 33.4443 1172.76 33.1202 Q1171.3 32.7556 1169.51 32.7556 Q1163.2 32.7556 1159.79 36.8875 Q1156.43 40.9789 1156.43 48.6757 L1156.43 72.576 L1148.94 72.576 L1148.94 27.2059 L1156.43 27.2059 L1156.43 34.2544 Q1158.78 30.1225 1162.55 28.1376 Q1166.31 26.1121 1171.7 26.1121 Q1172.47 26.1121 1173.4 26.2337 Q1174.34 26.3147 1175.47 26.5172 L1175.51 34.1734 Z\" fill=\"#000000\" fill-rule=\"evenodd\" fill-opacity=\"1\" /><path clip-path=\"url(#clip180)\" d=\"M 0 0 M1183.33 27.2059 L1190.78 27.2059 L1190.78 72.576 L1183.33 72.576 L1183.33 27.2059 M1183.33 9.54393 L1190.78 9.54393 L1190.78 18.9825 L1183.33 18.9825 L1183.33 9.54393 Z\" fill=\"#000000\" fill-rule=\"evenodd\" fill-opacity=\"1\" /><path clip-path=\"url(#clip180)\" d=\"M 0 0 M1231.25 28.9478 L1231.25 35.9153 Q1228.09 34.1734 1224.89 33.3227 Q1221.73 32.4315 1218.49 32.4315 Q1211.24 32.4315 1207.23 37.0496 Q1203.22 41.6271 1203.22 49.9314 Q1203.22 58.2358 1207.23 62.8538 Q1211.24 67.4314 1218.49 67.4314 Q1221.73 67.4314 1224.89 66.5807 Q1228.09 65.6895 1231.25 63.9476 L1231.25 70.8341 Q1228.13 72.2924 1224.77 73.0216 Q1221.45 73.7508 1217.68 73.7508 Q1207.43 73.7508 1201.4 67.3098 Q1195.36 60.8689 1195.36 49.9314 Q1195.36 38.832 1201.44 32.472 Q1207.55 26.1121 1218.17 26.1121 Q1221.61 26.1121 1224.89 26.8413 Q1228.17 27.5299 1231.25 28.9478 Z\" fill=\"#000000\" fill-rule=\"evenodd\" fill-opacity=\"1\" /><path clip-path=\"url(#clip180)\" d=\"M 0 0 M1273.54 86.3491 L1273.54 92.1419 L1230.44 92.1419 L1230.44 86.3491 L1273.54 86.3491 Z\" fill=\"#000000\" fill-rule=\"evenodd\" fill-opacity=\"1\" /><path clip-path=\"url(#clip180)\" d=\"M 0 0 M1304.33 9.54393 L1304.33 15.7418 L1297.2 15.7418 Q1293.19 15.7418 1291.61 17.3622 Q1290.07 18.9825 1290.07 23.1955 L1290.07 27.2059 L1302.34 27.2059 L1302.34 32.9987 L1290.07 32.9987 L1290.07 72.576 L1282.58 72.576 L1282.58 32.9987 L1275.45 32.9987 L1275.45 27.2059 L1282.58 27.2059 L1282.58 24.0462 Q1282.58 16.471 1286.1 13.0277 Q1289.62 9.54393 1297.28 9.54393 L1304.33 9.54393 Z\" fill=\"#000000\" fill-rule=\"evenodd\" fill-opacity=\"1\" /><path clip-path=\"url(#clip180)\" d=\"M 0 0 M1335.12 9.54393 L1335.12 15.7418 L1327.99 15.7418 Q1323.98 15.7418 1322.4 17.3622 Q1320.86 18.9825 1320.86 23.1955 L1320.86 27.2059 L1333.13 27.2059 L1333.13 32.9987 L1320.86 32.9987 L1320.86 72.576 L1313.36 72.576 L1313.36 32.9987 L1306.23 32.9987 L1306.23 27.2059 L1313.36 27.2059 L1313.36 24.0462 Q1313.36 16.471 1316.89 13.0277 Q1320.41 9.54393 1328.07 9.54393 L1335.12 9.54393 Z\" fill=\"#000000\" fill-rule=\"evenodd\" fill-opacity=\"1\" /><path clip-path=\"url(#clip180)\" d=\"M 0 0 M1348.85 14.324 L1348.85 27.2059 L1364.2 27.2059 L1364.2 32.9987 L1348.85 32.9987 L1348.85 57.6282 Q1348.85 63.1779 1350.35 64.7578 Q1351.89 66.3376 1356.55 66.3376 L1364.2 66.3376 L1364.2 72.576 L1356.55 72.576 Q1347.92 72.576 1344.64 69.3758 Q1341.35 66.1351 1341.35 57.6282 L1341.35 32.9987 L1335.89 32.9987 L1335.89 27.2059 L1341.35 27.2059 L1341.35 14.324 L1348.85 14.324 Z\" fill=\"#000000\" fill-rule=\"evenodd\" fill-opacity=\"1\" /><path clip-path=\"url(#clip180)\" d=\"M 0 0 M1406.49 86.3491 L1406.49 92.1419 L1363.39 92.1419 L1363.39 86.3491 L1406.49 86.3491 Z\" fill=\"#000000\" fill-rule=\"evenodd\" fill-opacity=\"1\" /><path clip-path=\"url(#clip180)\" d=\"M 0 0 M1421.52 65.7705 L1421.52 89.8329 L1414.03 89.8329 L1414.03 27.2059 L1421.52 27.2059 L1421.52 34.0924 Q1423.87 30.0415 1427.44 28.0971 Q1431.04 26.1121 1436.02 26.1121 Q1444.29 26.1121 1449.43 32.6746 Q1454.62 39.2371 1454.62 49.9314 Q1454.62 60.6258 1449.43 67.1883 Q1444.29 73.7508 1436.02 73.7508 Q1431.04 73.7508 1427.44 71.8063 Q1423.87 69.8214 1421.52 65.7705 M1446.88 49.9314 Q1446.88 41.7081 1443.48 37.0496 Q1440.12 32.3505 1434.2 32.3505 Q1428.29 32.3505 1424.88 37.0496 Q1421.52 41.7081 1421.52 49.9314 Q1421.52 58.1548 1424.88 62.8538 Q1428.29 67.5124 1434.2 67.5124 Q1440.12 67.5124 1443.48 62.8538 Q1446.88 58.1548 1446.88 49.9314 Z\" fill=\"#000000\" fill-rule=\"evenodd\" fill-opacity=\"1\" /><path clip-path=\"url(#clip180)\" d=\"M 0 0 M1480.02 32.4315 Q1474.02 32.4315 1470.54 37.1306 Q1467.05 41.7891 1467.05 49.9314 Q1467.05 58.0738 1470.5 62.7728 Q1473.98 67.4314 1480.02 67.4314 Q1485.97 67.4314 1489.46 62.7323 Q1492.94 58.0333 1492.94 49.9314 Q1492.94 41.8701 1489.46 37.1711 Q1485.97 32.4315 1480.02 32.4315 M1480.02 26.1121 Q1489.74 26.1121 1495.29 32.4315 Q1500.84 38.7509 1500.84 49.9314 Q1500.84 61.0714 1495.29 67.4314 Q1489.74 73.7508 1480.02 73.7508 Q1470.25 73.7508 1464.7 67.4314 Q1459.19 61.0714 1459.19 49.9314 Q1459.19 38.7509 1464.7 32.4315 Q1470.25 26.1121 1480.02 26.1121 Z\" fill=\"#000000\" fill-rule=\"evenodd\" fill-opacity=\"1\" /><path clip-path=\"url(#clip180)\" d=\"M 0 0 M1504.32 27.2059 L1511.78 27.2059 L1521.09 62.6108 L1530.37 27.2059 L1539.16 27.2059 L1548.48 62.6108 L1557.75 27.2059 L1565.21 27.2059 L1553.34 72.576 L1544.55 72.576 L1534.78 35.3887 L1524.98 72.576 L1516.19 72.576 L1504.32 27.2059 Z\" fill=\"#000000\" fill-rule=\"evenodd\" fill-opacity=\"1\" /><path clip-path=\"url(#clip180)\" d=\"M 0 0 M1581.13 65.6895 L1609.69 65.6895 L1609.69 72.576 L1571.28 72.576 L1571.28 65.6895 Q1575.94 60.8689 1583.96 52.7671 Q1592.02 44.6248 1594.09 42.2752 Q1598.02 37.8598 1599.56 34.8216 Q1601.14 31.7429 1601.14 28.7857 Q1601.14 23.9651 1597.74 20.927 Q1594.37 17.8888 1588.95 17.8888 Q1585.1 17.8888 1580.8 19.2256 Q1576.55 20.5624 1571.69 23.2765 L1571.69 15.0127 Q1576.63 13.0277 1580.92 12.015 Q1585.22 11.0023 1588.78 11.0023 Q1598.18 11.0023 1603.77 15.7013 Q1609.36 20.4004 1609.36 28.2591 Q1609.36 31.9859 1607.94 35.3482 Q1606.57 38.6699 1602.88 43.2069 Q1601.87 44.3817 1596.44 50.0125 Q1591.01 55.6027 1581.13 65.6895 Z\" fill=\"#000000\" fill-rule=\"evenodd\" fill-opacity=\"1\" /><path clip-path=\"url(#clip180)\" d=\"M 0 0 M1639.54 27.2059 L1646.99 27.2059 L1656.31 62.6108 L1665.59 27.2059 L1674.38 27.2059 L1683.7 62.6108 L1692.97 27.2059 L1700.43 27.2059 L1688.56 72.576 L1679.77 72.576 L1670 35.3887 L1660.2 72.576 L1651.41 72.576 L1639.54 27.2059 Z\" fill=\"#000000\" fill-rule=\"evenodd\" fill-opacity=\"1\" /><path clip-path=\"url(#clip180)\" d=\"M 0 0 M1708.24 27.2059 L1715.7 27.2059 L1715.7 72.576 L1708.24 72.576 L1708.24 27.2059 M1708.24 9.54393 L1715.7 9.54393 L1715.7 18.9825 L1708.24 18.9825 L1708.24 9.54393 Z\" fill=\"#000000\" fill-rule=\"evenodd\" fill-opacity=\"1\" /><path clip-path=\"url(#clip180)\" d=\"M 0 0 M1730.89 14.324 L1730.89 27.2059 L1746.24 27.2059 L1746.24 32.9987 L1730.89 32.9987 L1730.89 57.6282 Q1730.89 63.1779 1732.39 64.7578 Q1733.93 66.3376 1738.59 66.3376 L1746.24 66.3376 L1746.24 72.576 L1738.59 72.576 Q1729.96 72.576 1726.68 69.3758 Q1723.39 66.1351 1723.39 57.6282 L1723.39 32.9987 L1717.93 32.9987 L1717.93 27.2059 L1723.39 27.2059 L1723.39 14.324 L1730.89 14.324 Z\" fill=\"#000000\" fill-rule=\"evenodd\" fill-opacity=\"1\" /><path clip-path=\"url(#clip180)\" d=\"M 0 0 M1791.77 45.1919 L1791.77 72.576 L1784.32 72.576 L1784.32 45.4349 Q1784.32 38.994 1781.81 35.7938 Q1779.3 32.5936 1774.27 32.5936 Q1768.24 32.5936 1764.75 36.4419 Q1761.27 40.2903 1761.27 46.9338 L1761.27 72.576 L1753.78 72.576 L1753.78 9.54393 L1761.27 9.54393 L1761.27 34.2544 Q1763.94 30.163 1767.55 28.1376 Q1771.2 26.1121 1775.94 26.1121 Q1783.75 26.1121 1787.76 30.9732 Q1791.77 35.7938 1791.77 45.1919 Z\" fill=\"#000000\" fill-rule=\"evenodd\" fill-opacity=\"1\" /><path clip-path=\"url(#clip180)\" d=\"M 0 0 M1820.62 27.2059 L1828.52 27.2059 L1842.69 65.2844 L1856.87 27.2059 L1864.77 27.2059 L1847.76 72.576 L1837.63 72.576 L1820.62 27.2059 Z\" fill=\"#000000\" fill-rule=\"evenodd\" fill-opacity=\"1\" /><path clip-path=\"url(#clip180)\" d=\"M 0 0 M1911.4 48.0275 L1911.4 51.6733 L1877.13 51.6733 Q1877.61 59.3701 1881.74 63.421 Q1885.92 67.4314 1893.33 67.4314 Q1897.62 67.4314 1901.63 66.3781 Q1905.69 65.3249 1909.66 63.2184 L1909.66 70.267 Q1905.65 71.9684 1901.43 72.8596 Q1897.22 73.7508 1892.88 73.7508 Q1882.03 73.7508 1875.67 67.4314 Q1869.35 61.1119 1869.35 50.3365 Q1869.35 39.1965 1875.34 32.6746 Q1881.38 26.1121 1891.59 26.1121 Q1900.74 26.1121 1906.05 32.0264 Q1911.4 37.9003 1911.4 48.0275 M1903.94 45.84 Q1903.86 39.7232 1900.5 36.0774 Q1897.18 32.4315 1891.67 32.4315 Q1885.43 32.4315 1881.66 35.9558 Q1877.94 39.4801 1877.37 45.8805 L1903.94 45.84 Z\" fill=\"#000000\" fill-rule=\"evenodd\" fill-opacity=\"1\" /><path clip-path=\"url(#clip180)\" d=\"M 0 0 M1945.51 34.1734 Q1944.25 33.4443 1942.75 33.1202 Q1941.29 32.7556 1939.51 32.7556 Q1933.19 32.7556 1929.79 36.8875 Q1926.43 40.9789 1926.43 48.6757 L1926.43 72.576 L1918.93 72.576 L1918.93 27.2059 L1926.43 27.2059 L1926.43 34.2544 Q1928.78 30.1225 1932.54 28.1376 Q1936.31 26.1121 1941.7 26.1121 Q1942.47 26.1121 1943.4 26.2337 Q1944.33 26.3147 1945.47 26.5172 L1945.51 34.1734 Z\" fill=\"#000000\" fill-rule=\"evenodd\" fill-opacity=\"1\" /><path clip-path=\"url(#clip180)\" d=\"M 0 0 M1953.32 27.2059 L1960.78 27.2059 L1960.78 72.576 L1953.32 72.576 L1953.32 27.2059 M1953.32 9.54393 L1960.78 9.54393 L1960.78 18.9825 L1953.32 18.9825 L1953.32 9.54393 Z\" fill=\"#000000\" fill-rule=\"evenodd\" fill-opacity=\"1\" /><path clip-path=\"url(#clip180)\" d=\"M 0 0 M1991.56 9.54393 L1991.56 15.7418 L1984.44 15.7418 Q1980.42 15.7418 1978.84 17.3622 Q1977.31 18.9825 1977.31 23.1955 L1977.31 27.2059 L1989.58 27.2059 L1989.58 32.9987 L1977.31 32.9987 L1977.31 72.576 L1969.81 72.576 L1969.81 32.9987 L1962.68 32.9987 L1962.68 27.2059 L1969.81 27.2059 L1969.81 24.0462 Q1969.81 16.471 1973.34 13.0277 Q1976.86 9.54393 1984.52 9.54393 L1991.56 9.54393 Z\" fill=\"#000000\" fill-rule=\"evenodd\" fill-opacity=\"1\" /><path clip-path=\"url(#clip180)\" d=\"M 0 0 M2016.8 76.7889 Q2013.64 84.8907 2010.64 87.3618 Q2007.65 89.8329 2002.62 89.8329 L1996.67 89.8329 L1996.67 83.5945 L2001.04 83.5945 Q2004.12 83.5945 2005.82 82.1361 Q2007.53 80.6778 2009.59 75.2496 L2010.93 71.8468 L1992.58 27.2059 L2000.48 27.2059 L2014.65 62.6918 L2028.83 27.2059 L2036.73 27.2059 L2016.8 76.7889 Z\" fill=\"#000000\" fill-rule=\"evenodd\" fill-opacity=\"1\" /><path clip-path=\"url(#clip180)\" d=\"M 0 0 M2067.52 9.54393 L2067.52 15.7418 L2060.39 15.7418 Q2056.38 15.7418 2054.8 17.3622 Q2053.26 18.9825 2053.26 23.1955 L2053.26 27.2059 L2065.53 27.2059 L2065.53 32.9987 L2053.26 32.9987 L2053.26 72.576 L2045.77 72.576 L2045.77 32.9987 L2038.64 32.9987 L2038.64 27.2059 L2045.77 27.2059 L2045.77 24.0462 Q2045.77 16.471 2049.29 13.0277 Q2052.81 9.54393 2060.47 9.54393 L2067.52 9.54393 Z\" fill=\"#000000\" fill-rule=\"evenodd\" fill-opacity=\"1\" /><path clip-path=\"url(#clip180)\" d=\"M 0 0 M2098.31 9.54393 L2098.31 15.7418 L2091.18 15.7418 Q2087.17 15.7418 2085.59 17.3622 Q2084.05 18.9825 2084.05 23.1955 L2084.05 27.2059 L2096.32 27.2059 L2096.32 32.9987 L2084.05 32.9987 L2084.05 72.576 L2076.55 72.576 L2076.55 32.9987 L2069.42 32.9987 L2069.42 27.2059 L2076.55 27.2059 L2076.55 24.0462 Q2076.55 16.471 2080.08 13.0277 Q2083.6 9.54393 2091.26 9.54393 L2098.31 9.54393 Z\" fill=\"#000000\" fill-rule=\"evenodd\" fill-opacity=\"1\" /><path clip-path=\"url(#clip180)\" d=\"M 0 0 M2112.04 14.324 L2112.04 27.2059 L2127.39 27.2059 L2127.39 32.9987 L2112.04 32.9987 L2112.04 57.6282 Q2112.04 63.1779 2113.54 64.7578 Q2115.08 66.3376 2119.74 66.3376 L2127.39 66.3376 L2127.39 72.576 L2119.74 72.576 Q2111.11 72.576 2107.83 69.3758 Q2104.54 66.1351 2104.54 57.6282 L2104.54 32.9987 L2099.08 32.9987 L2099.08 27.2059 L2104.54 27.2059 L2104.54 14.324 L2112.04 14.324 Z\" fill=\"#000000\" fill-rule=\"evenodd\" fill-opacity=\"1\" /><circle clip-path=\"url(#clip182)\" cx=\"369.634\" cy=\"1386.4\" r=\"14\" fill=\"#009af9\" fill-rule=\"evenodd\" fill-opacity=\"1\" stroke=\"#000000\" stroke-opacity=\"1\" stroke-width=\"3.2\"/>\n",
       "<circle clip-path=\"url(#clip182)\" cx=\"578.384\" cy=\"1251.48\" r=\"14\" fill=\"#009af9\" fill-rule=\"evenodd\" fill-opacity=\"1\" stroke=\"#000000\" stroke-opacity=\"1\" stroke-width=\"3.2\"/>\n",
       "<circle clip-path=\"url(#clip182)\" cx=\"787.134\" cy=\"1130.69\" r=\"14\" fill=\"#009af9\" fill-rule=\"evenodd\" fill-opacity=\"1\" stroke=\"#000000\" stroke-opacity=\"1\" stroke-width=\"3.2\"/>\n",
       "<circle clip-path=\"url(#clip182)\" cx=\"995.883\" cy=\"1030.73\" r=\"14\" fill=\"#009af9\" fill-rule=\"evenodd\" fill-opacity=\"1\" stroke=\"#000000\" stroke-opacity=\"1\" stroke-width=\"3.2\"/>\n",
       "<circle clip-path=\"url(#clip182)\" cx=\"1204.63\" cy=\"935.988\" r=\"14\" fill=\"#009af9\" fill-rule=\"evenodd\" fill-opacity=\"1\" stroke=\"#000000\" stroke-opacity=\"1\" stroke-width=\"3.2\"/>\n",
       "<circle clip-path=\"url(#clip182)\" cx=\"1413.38\" cy=\"838.57\" r=\"14\" fill=\"#009af9\" fill-rule=\"evenodd\" fill-opacity=\"1\" stroke=\"#000000\" stroke-opacity=\"1\" stroke-width=\"3.2\"/>\n",
       "<circle clip-path=\"url(#clip182)\" cx=\"1622.13\" cy=\"741.296\" r=\"14\" fill=\"#009af9\" fill-rule=\"evenodd\" fill-opacity=\"1\" stroke=\"#000000\" stroke-opacity=\"1\" stroke-width=\"3.2\"/>\n",
       "<circle clip-path=\"url(#clip182)\" cx=\"1830.88\" cy=\"643.525\" r=\"14\" fill=\"#009af9\" fill-rule=\"evenodd\" fill-opacity=\"1\" stroke=\"#000000\" stroke-opacity=\"1\" stroke-width=\"3.2\"/>\n",
       "<circle clip-path=\"url(#clip182)\" cx=\"2039.63\" cy=\"546.124\" r=\"14\" fill=\"#009af9\" fill-rule=\"evenodd\" fill-opacity=\"1\" stroke=\"#000000\" stroke-opacity=\"1\" stroke-width=\"3.2\"/>\n",
       "<circle clip-path=\"url(#clip182)\" cx=\"2248.38\" cy=\"448.336\" r=\"14\" fill=\"#009af9\" fill-rule=\"evenodd\" fill-opacity=\"1\" stroke=\"#000000\" stroke-opacity=\"1\" stroke-width=\"3.2\"/>\n",
       "<circle clip-path=\"url(#clip182)\" cx=\"369.634\" cy=\"1351.66\" r=\"14\" fill=\"#e26f46\" fill-rule=\"evenodd\" fill-opacity=\"1\" stroke=\"#000000\" stroke-opacity=\"1\" stroke-width=\"3.2\"/>\n",
       "<circle clip-path=\"url(#clip182)\" cx=\"578.384\" cy=\"1160.22\" r=\"14\" fill=\"#e26f46\" fill-rule=\"evenodd\" fill-opacity=\"1\" stroke=\"#000000\" stroke-opacity=\"1\" stroke-width=\"3.2\"/>\n",
       "<circle clip-path=\"url(#clip182)\" cx=\"787.134\" cy=\"1015.61\" r=\"14\" fill=\"#e26f46\" fill-rule=\"evenodd\" fill-opacity=\"1\" stroke=\"#000000\" stroke-opacity=\"1\" stroke-width=\"3.2\"/>\n",
       "<circle clip-path=\"url(#clip182)\" cx=\"995.883\" cy=\"899.57\" r=\"14\" fill=\"#e26f46\" fill-rule=\"evenodd\" fill-opacity=\"1\" stroke=\"#000000\" stroke-opacity=\"1\" stroke-width=\"3.2\"/>\n",
       "<circle clip-path=\"url(#clip182)\" cx=\"1204.63\" cy=\"775.408\" r=\"14\" fill=\"#e26f46\" fill-rule=\"evenodd\" fill-opacity=\"1\" stroke=\"#000000\" stroke-opacity=\"1\" stroke-width=\"3.2\"/>\n",
       "<circle clip-path=\"url(#clip182)\" cx=\"1413.38\" cy=\"650.608\" r=\"14\" fill=\"#e26f46\" fill-rule=\"evenodd\" fill-opacity=\"1\" stroke=\"#000000\" stroke-opacity=\"1\" stroke-width=\"3.2\"/>\n",
       "<circle clip-path=\"url(#clip182)\" cx=\"1622.13\" cy=\"523.033\" r=\"14\" fill=\"#e26f46\" fill-rule=\"evenodd\" fill-opacity=\"1\" stroke=\"#000000\" stroke-opacity=\"1\" stroke-width=\"3.2\"/>\n",
       "<circle clip-path=\"url(#clip182)\" cx=\"1830.88\" cy=\"405.689\" r=\"14\" fill=\"#e26f46\" fill-rule=\"evenodd\" fill-opacity=\"1\" stroke=\"#000000\" stroke-opacity=\"1\" stroke-width=\"3.2\"/>\n",
       "<circle clip-path=\"url(#clip182)\" cx=\"2039.63\" cy=\"279.877\" r=\"14\" fill=\"#e26f46\" fill-rule=\"evenodd\" fill-opacity=\"1\" stroke=\"#000000\" stroke-opacity=\"1\" stroke-width=\"3.2\"/>\n",
       "<circle clip-path=\"url(#clip182)\" cx=\"2248.38\" cy=\"160.256\" r=\"14\" fill=\"#e26f46\" fill-rule=\"evenodd\" fill-opacity=\"1\" stroke=\"#000000\" stroke-opacity=\"1\" stroke-width=\"3.2\"/>\n",
       "<path clip-path=\"url(#clip180)\" d=\"\n",
       "M334.843 348.236 L936.854 348.236 L936.854 166.796 L334.843 166.796  Z\n",
       "  \" fill=\"#ffffff\" fill-rule=\"evenodd\" fill-opacity=\"1\"/>\n",
       "<polyline clip-path=\"url(#clip180)\" style=\"stroke:#000000; stroke-width:4; stroke-opacity:1; fill:none\" points=\"\n",
       "  334.843,348.236 936.854,348.236 936.854,166.796 334.843,166.796 334.843,348.236 \n",
       "  \"/>\n",
       "<circle clip-path=\"url(#clip180)\" cx=\"427.62\" cy=\"227.276\" r=\"23\" fill=\"#009af9\" fill-rule=\"evenodd\" fill-opacity=\"1\" stroke=\"#000000\" stroke-opacity=\"1\" stroke-width=\"5.12\"/>\n",
       "<path clip-path=\"url(#clip180)\" d=\"M 0 0 M520.398 218.63 L524.912 218.63 L533.014 240.389 L541.115 218.63 L545.629 218.63 L535.907 244.556 L530.12 244.556 L520.398 218.63 Z\" fill=\"#000000\" fill-rule=\"evenodd\" fill-opacity=\"1\" /><path clip-path=\"url(#clip180)\" d=\"M 0 0 M572.273 230.528 L572.273 232.611 L552.689 232.611 Q552.967 237.009 555.328 239.324 Q557.713 241.616 561.949 241.616 Q564.402 241.616 566.694 241.014 Q569.009 240.412 571.277 239.209 L571.277 243.236 Q568.986 244.208 566.578 244.718 Q564.171 245.227 561.694 245.227 Q555.49 245.227 551.856 241.616 Q548.245 238.005 548.245 231.847 Q548.245 225.482 551.671 221.755 Q555.12 218.005 560.953 218.005 Q566.185 218.005 569.217 221.385 Q572.273 224.741 572.273 230.528 M568.013 229.278 Q567.967 225.783 566.046 223.699 Q564.148 221.616 561 221.616 Q557.435 221.616 555.282 223.63 Q553.152 225.644 552.828 229.301 L568.013 229.278 Z\" fill=\"#000000\" fill-rule=\"evenodd\" fill-opacity=\"1\" /><path clip-path=\"url(#clip180)\" d=\"M 0 0 M591.763 222.611 Q591.046 222.195 590.189 222.01 Q589.356 221.801 588.337 221.801 Q584.726 221.801 582.782 224.162 Q580.861 226.5 580.861 230.898 L580.861 244.556 L576.578 244.556 L576.578 218.63 L580.861 218.63 L580.861 222.658 Q582.203 220.297 584.356 219.162 Q586.509 218.005 589.587 218.005 Q590.027 218.005 590.56 218.074 Q591.092 218.121 591.74 218.236 L591.763 222.611 Z\" fill=\"#000000\" fill-rule=\"evenodd\" fill-opacity=\"1\" /><path clip-path=\"url(#clip180)\" d=\"M 0 0 M596.231 218.63 L600.49 218.63 L600.49 244.556 L596.231 244.556 L596.231 218.63 M596.231 208.537 L600.49 208.537 L600.49 213.931 L596.231 213.931 L596.231 208.537 Z\" fill=\"#000000\" fill-rule=\"evenodd\" fill-opacity=\"1\" /><path clip-path=\"url(#clip180)\" d=\"M 0 0 M618.083 208.537 L618.083 212.079 L614.009 212.079 Q611.717 212.079 610.814 213.005 Q609.935 213.931 609.935 216.338 L609.935 218.63 L616.948 218.63 L616.948 221.94 L609.935 221.94 L609.935 244.556 L605.652 244.556 L605.652 221.94 L601.578 221.94 L601.578 218.63 L605.652 218.63 L605.652 216.824 Q605.652 212.496 607.666 210.528 Q609.68 208.537 614.055 208.537 L618.083 208.537 Z\" fill=\"#000000\" fill-rule=\"evenodd\" fill-opacity=\"1\" /><path clip-path=\"url(#clip180)\" d=\"M 0 0 M632.504 246.963 Q630.698 251.593 628.985 253.005 Q627.272 254.417 624.402 254.417 L620.999 254.417 L620.999 250.852 L623.499 250.852 Q625.259 250.852 626.231 250.019 Q627.203 249.185 628.384 246.083 L629.147 244.139 L618.661 218.63 L623.175 218.63 L631.277 238.908 L639.379 218.63 L643.893 218.63 L632.504 246.963 Z\" fill=\"#000000\" fill-rule=\"evenodd\" fill-opacity=\"1\" /><path clip-path=\"url(#clip180)\" d=\"M 0 0 M661.485 208.537 L661.485 212.079 L657.411 212.079 Q655.119 212.079 654.217 213.005 Q653.337 213.931 653.337 216.338 L653.337 218.63 L660.351 218.63 L660.351 221.94 L653.337 221.94 L653.337 244.556 L649.055 244.556 L649.055 221.94 L644.981 221.94 L644.981 218.63 L649.055 218.63 L649.055 216.824 Q649.055 212.496 651.069 210.528 Q653.082 208.537 657.457 208.537 L661.485 208.537 Z\" fill=\"#000000\" fill-rule=\"evenodd\" fill-opacity=\"1\" /><path clip-path=\"url(#clip180)\" d=\"M 0 0 M679.078 208.537 L679.078 212.079 L675.004 212.079 Q672.712 212.079 671.809 213.005 Q670.93 213.931 670.93 216.338 L670.93 218.63 L677.943 218.63 L677.943 221.94 L670.93 221.94 L670.93 244.556 L666.647 244.556 L666.647 221.94 L662.573 221.94 L662.573 218.63 L666.647 218.63 L666.647 216.824 Q666.647 212.496 668.661 210.528 Q670.675 208.537 675.05 208.537 L679.078 208.537 Z\" fill=\"#000000\" fill-rule=\"evenodd\" fill-opacity=\"1\" /><path clip-path=\"url(#clip180)\" d=\"M 0 0 M686.925 211.269 L686.925 218.63 L695.698 218.63 L695.698 221.94 L686.925 221.94 L686.925 236.014 Q686.925 239.185 687.781 240.088 Q688.661 240.991 691.323 240.991 L695.698 240.991 L695.698 244.556 L691.323 244.556 Q686.392 244.556 684.517 242.727 Q682.642 240.875 682.642 236.014 L682.642 221.94 L679.518 221.94 L679.518 218.63 L682.642 218.63 L682.642 211.269 L686.925 211.269 Z\" fill=\"#000000\" fill-rule=\"evenodd\" fill-opacity=\"1\" /><circle clip-path=\"url(#clip180)\" cx=\"427.62\" cy=\"287.756\" r=\"23\" fill=\"#e26f46\" fill-rule=\"evenodd\" fill-opacity=\"1\" stroke=\"#000000\" stroke-opacity=\"1\" stroke-width=\"5.12\"/>\n",
       "<path clip-path=\"url(#clip180)\" d=\"M 0 0 M539.31 291.772 Q539.31 287.142 537.389 284.596 Q535.49 282.05 532.041 282.05 Q528.616 282.05 526.694 284.596 Q524.796 287.142 524.796 291.772 Q524.796 296.378 526.694 298.925 Q528.616 301.471 532.041 301.471 Q535.49 301.471 537.389 298.925 Q539.31 296.378 539.31 291.772 M543.569 301.818 Q543.569 308.438 540.629 311.656 Q537.69 314.897 531.625 314.897 Q529.379 314.897 527.389 314.55 Q525.398 314.225 523.523 313.531 L523.523 309.388 Q525.398 310.406 527.227 310.892 Q529.055 311.378 530.953 311.378 Q535.143 311.378 537.227 309.179 Q539.31 307.003 539.31 302.582 L539.31 300.476 Q537.99 302.767 535.93 303.901 Q533.87 305.036 531 305.036 Q526.231 305.036 523.315 301.401 Q520.398 297.767 520.398 291.772 Q520.398 285.753 523.315 282.119 Q526.231 278.485 531 278.485 Q533.87 278.485 535.93 279.619 Q537.99 280.753 539.31 283.045 L539.31 279.11 L543.569 279.11 L543.569 301.818 Z\" fill=\"#000000\" fill-rule=\"evenodd\" fill-opacity=\"1\" /><path clip-path=\"url(#clip180)\" d=\"M 0 0 M570.213 291.008 L570.213 293.091 L550.629 293.091 Q550.907 297.489 553.268 299.804 Q555.652 302.096 559.889 302.096 Q562.342 302.096 564.634 301.494 Q566.949 300.892 569.217 299.689 L569.217 303.716 Q566.926 304.688 564.518 305.198 Q562.111 305.707 559.634 305.707 Q553.43 305.707 549.796 302.096 Q546.185 298.485 546.185 292.327 Q546.185 285.962 549.611 282.235 Q553.06 278.485 558.893 278.485 Q564.125 278.485 567.157 281.865 Q570.213 285.221 570.213 291.008 M565.953 289.758 Q565.907 286.263 563.986 284.179 Q562.088 282.096 558.939 282.096 Q555.375 282.096 553.222 284.11 Q551.092 286.124 550.768 289.781 L565.953 289.758 Z\" fill=\"#000000\" fill-rule=\"evenodd\" fill-opacity=\"1\" /><path clip-path=\"url(#clip180)\" d=\"M 0 0 M596.231 289.388 L596.231 305.036 L591.972 305.036 L591.972 289.527 Q591.972 285.846 590.536 284.017 Q589.101 282.189 586.231 282.189 Q582.782 282.189 580.791 284.388 Q578.8 286.587 578.8 290.383 L578.8 305.036 L574.518 305.036 L574.518 279.11 L578.8 279.11 L578.8 283.138 Q580.328 280.8 582.388 279.642 Q584.472 278.485 587.18 278.485 Q591.648 278.485 593.939 281.263 Q596.231 284.017 596.231 289.388 Z\" fill=\"#000000\" fill-rule=\"evenodd\" fill-opacity=\"1\" /><path clip-path=\"url(#clip180)\" d=\"M 0 0 M622.874 291.008 L622.874 293.091 L603.291 293.091 Q603.569 297.489 605.93 299.804 Q608.314 302.096 612.55 302.096 Q615.004 302.096 617.296 301.494 Q619.61 300.892 621.879 299.689 L621.879 303.716 Q619.587 304.688 617.18 305.198 Q614.772 305.707 612.296 305.707 Q606.092 305.707 602.458 302.096 Q598.847 298.485 598.847 292.327 Q598.847 285.962 602.273 282.235 Q605.722 278.485 611.555 278.485 Q616.786 278.485 619.819 281.865 Q622.874 285.221 622.874 291.008 M618.615 289.758 Q618.569 286.263 616.647 284.179 Q614.749 282.096 611.601 282.096 Q608.036 282.096 605.884 284.11 Q603.754 286.124 603.43 289.781 L618.615 289.758 Z\" fill=\"#000000\" fill-rule=\"evenodd\" fill-opacity=\"1\" /><path clip-path=\"url(#clip180)\" d=\"M 0 0 M642.365 283.091 Q641.647 282.675 640.791 282.49 Q639.958 282.281 638.939 282.281 Q635.328 282.281 633.383 284.642 Q631.462 286.98 631.462 291.378 L631.462 305.036 L627.18 305.036 L627.18 279.11 L631.462 279.11 L631.462 283.138 Q632.805 280.777 634.958 279.642 Q637.11 278.485 640.189 278.485 Q640.629 278.485 641.161 278.554 Q641.694 278.601 642.342 278.716 L642.365 283.091 Z\" fill=\"#000000\" fill-rule=\"evenodd\" fill-opacity=\"1\" /><path clip-path=\"url(#clip180)\" d=\"M 0 0 M646.832 279.11 L651.092 279.11 L651.092 305.036 L646.832 305.036 L646.832 279.11 M646.832 269.017 L651.092 269.017 L651.092 274.411 L646.832 274.411 L646.832 269.017 Z\" fill=\"#000000\" fill-rule=\"evenodd\" fill-opacity=\"1\" /><path clip-path=\"url(#clip180)\" d=\"M 0 0 M674.217 280.105 L674.217 284.087 Q672.411 283.091 670.582 282.605 Q668.777 282.096 666.925 282.096 Q662.781 282.096 660.49 284.735 Q658.198 287.351 658.198 292.096 Q658.198 296.841 660.49 299.48 Q662.781 302.096 666.925 302.096 Q668.777 302.096 670.582 301.61 Q672.411 301.101 674.217 300.105 L674.217 304.04 Q672.434 304.874 670.513 305.29 Q668.615 305.707 666.462 305.707 Q660.606 305.707 657.157 302.026 Q653.707 298.346 653.707 292.096 Q653.707 285.753 657.18 282.119 Q660.675 278.485 666.74 278.485 Q668.707 278.485 670.582 278.902 Q672.457 279.295 674.217 280.105 Z\" fill=\"#000000\" fill-rule=\"evenodd\" fill-opacity=\"1\" /><path clip-path=\"url(#clip180)\" d=\"M 0 0 M698.383 312.906 L698.383 316.216 L673.754 316.216 L673.754 312.906 L698.383 312.906 Z\" fill=\"#000000\" fill-rule=\"evenodd\" fill-opacity=\"1\" /><path clip-path=\"url(#clip180)\" d=\"M 0 0 M715.976 269.017 L715.976 272.559 L711.902 272.559 Q709.61 272.559 708.707 273.485 Q707.828 274.411 707.828 276.818 L707.828 279.11 L714.841 279.11 L714.841 282.42 L707.828 282.42 L707.828 305.036 L703.545 305.036 L703.545 282.42 L699.471 282.42 L699.471 279.11 L703.545 279.11 L703.545 277.304 Q703.545 272.976 705.559 271.008 Q707.573 269.017 711.948 269.017 L715.976 269.017 Z\" fill=\"#000000\" fill-rule=\"evenodd\" fill-opacity=\"1\" /><path clip-path=\"url(#clip180)\" d=\"M 0 0 M733.568 269.017 L733.568 272.559 L729.494 272.559 Q727.202 272.559 726.3 273.485 Q725.42 274.411 725.42 276.818 L725.42 279.11 L732.434 279.11 L732.434 282.42 L725.42 282.42 L725.42 305.036 L721.138 305.036 L721.138 282.42 L717.064 282.42 L717.064 279.11 L721.138 279.11 L721.138 277.304 Q721.138 272.976 723.152 271.008 Q725.165 269.017 729.54 269.017 L733.568 269.017 Z\" fill=\"#000000\" fill-rule=\"evenodd\" fill-opacity=\"1\" /><path clip-path=\"url(#clip180)\" d=\"M 0 0 M741.415 271.749 L741.415 279.11 L750.188 279.11 L750.188 282.42 L741.415 282.42 L741.415 296.494 Q741.415 299.665 742.272 300.568 Q743.151 301.471 745.813 301.471 L750.188 301.471 L750.188 305.036 L745.813 305.036 Q740.883 305.036 739.008 303.207 Q737.133 301.355 737.133 296.494 L737.133 282.42 L734.008 282.42 L734.008 279.11 L737.133 279.11 L737.133 271.749 L741.415 271.749 Z\" fill=\"#000000\" fill-rule=\"evenodd\" fill-opacity=\"1\" /><path clip-path=\"url(#clip180)\" d=\"M 0 0 M774.355 312.906 L774.355 316.216 L749.725 316.216 L749.725 312.906 L774.355 312.906 Z\" fill=\"#000000\" fill-rule=\"evenodd\" fill-opacity=\"1\" /><path clip-path=\"url(#clip180)\" d=\"M 0 0 M782.943 301.147 L782.943 314.897 L778.66 314.897 L778.66 279.11 L782.943 279.11 L782.943 283.045 Q784.285 280.73 786.322 279.619 Q788.383 278.485 791.23 278.485 Q795.952 278.485 798.892 282.235 Q801.855 285.985 801.855 292.096 Q801.855 298.207 798.892 301.957 Q795.952 305.707 791.23 305.707 Q788.383 305.707 786.322 304.596 Q784.285 303.462 782.943 301.147 M797.434 292.096 Q797.434 287.397 795.489 284.735 Q793.568 282.05 790.188 282.05 Q786.809 282.05 784.864 284.735 Q782.943 287.397 782.943 292.096 Q782.943 296.795 784.864 299.48 Q786.809 302.142 790.188 302.142 Q793.568 302.142 795.489 299.48 Q797.434 296.795 797.434 292.096 Z\" fill=\"#000000\" fill-rule=\"evenodd\" fill-opacity=\"1\" /><path clip-path=\"url(#clip180)\" d=\"M 0 0 M816.369 282.096 Q812.943 282.096 810.952 284.781 Q808.961 287.443 808.961 292.096 Q808.961 296.749 810.929 299.434 Q812.92 302.096 816.369 302.096 Q819.771 302.096 821.762 299.411 Q823.753 296.726 823.753 292.096 Q823.753 287.49 821.762 284.804 Q819.771 282.096 816.369 282.096 M816.369 278.485 Q821.924 278.485 825.095 282.096 Q828.267 285.707 828.267 292.096 Q828.267 298.462 825.095 302.096 Q821.924 305.707 816.369 305.707 Q810.79 305.707 807.619 302.096 Q804.471 298.462 804.471 292.096 Q804.471 285.707 807.619 282.096 Q810.79 278.485 816.369 278.485 Z\" fill=\"#000000\" fill-rule=\"evenodd\" fill-opacity=\"1\" /><path clip-path=\"url(#clip180)\" d=\"M 0 0 M830.257 279.11 L834.517 279.11 L839.841 299.341 L845.142 279.11 L850.165 279.11 L855.489 299.341 L860.79 279.11 L865.049 279.11 L858.267 305.036 L853.243 305.036 L847.665 283.786 L842.063 305.036 L837.04 305.036 L830.257 279.11 Z\" fill=\"#000000\" fill-rule=\"evenodd\" fill-opacity=\"1\" /><path clip-path=\"url(#clip180)\" d=\"M 0 0 M874.146 301.101 L890.465 301.101 L890.465 305.036 L868.521 305.036 L868.521 301.101 Q871.183 298.346 875.766 293.716 Q880.373 289.064 881.553 287.721 Q883.799 285.198 884.678 283.462 Q885.581 281.703 885.581 280.013 Q885.581 277.258 883.637 275.522 Q881.715 273.786 878.614 273.786 Q876.415 273.786 873.961 274.55 Q871.53 275.314 868.753 276.865 L868.753 272.142 Q871.577 271.008 874.03 270.429 Q876.484 269.851 878.521 269.851 Q883.891 269.851 887.086 272.536 Q890.28 275.221 890.28 279.712 Q890.28 281.841 889.47 283.763 Q888.683 285.661 886.577 288.253 Q885.998 288.925 882.896 292.142 Q879.794 295.337 874.146 301.101 Z\" fill=\"#000000\" fill-rule=\"evenodd\" fill-opacity=\"1\" /></svg>\n"
      ]
     },
     "execution_count": 12,
     "metadata": {},
     "output_type": "execute_result"
    }
   ],
   "source": [
    "plot(index, max_rad1, yscale=:log10,\n",
    "    xlabel       = \"power of 2\",              　　　　　　#X軸のラベル\n",
    "    ylabel       = \"maximum radius of fft\",   　　　　　　#Y軸のラベル\n",
    "    xlims        =(1,21),                               #X軸の範囲\n",
    "    title=\"Comparison generic_fft_pow2 with verifyfft\", #タイトル\n",
    "    seriestype = :scatter,                              #点プロットに\n",
    "    size         =(600,400),                            #プロットのサイズ\n",
    "    label = \"verifyfft\",                                #凡例のラベル\n",
    "    legend = false,                                     #凡例は今回は消す   \n",
    ")\n",
    "\n",
    "plot!(index, max_rad2, yscale=:log10,\n",
    "    seriestype = :scatter,            #点プロットに　\n",
    "    label = \"generic_fft_pow2\",       #凡例のラベル\n",
    "    legend = :topleft,                #凡例を左上に表示する\n",
    ")"
   ]
  },
  {
   "cell_type": "markdown",
   "metadata": {},
   "source": [
    "今回実装したのは全て1次元のFFTである。2次元のFFTの計算を行う場合は\n",
    "```\n",
    "permutedims(verifyfft(permutedims(verifyfft(A),[2,1])),[2,1])\n",
    "```\n",
    "と計算を行えば良い。"
   ]
  },
  {
   "cell_type": "code",
   "execution_count": 13,
   "metadata": {},
   "outputs": [
    {
     "data": {
      "text/plain": [
       "8×8 Array{Complex{Interval{Float64}},2}:\n",
       " [64, 64] + [0, 0]im  [-0, 0] + [-0, 0]im  …  [-0, 0] + [-0, 0]im\n",
       "  [-0, 0] + [0, 0]im  [-0, 0] + [-0, 0]im     [-0, 0] + [-0, 0]im\n",
       "  [-0, 0] + [0, 0]im  [-0, 0] + [-0, 0]im     [-0, 0] + [-0, 0]im\n",
       "  [-0, 0] + [0, 0]im  [-0, 0] + [-0, 0]im     [-0, 0] + [-0, 0]im\n",
       "  [-0, 0] + [0, 0]im  [-0, 0] + [-0, 0]im     [-0, 0] + [-0, 0]im\n",
       "  [-0, 0] + [0, 0]im  [-0, 0] + [-0, 0]im  …  [-0, 0] + [-0, 0]im\n",
       "  [-0, 0] + [0, 0]im  [-0, 0] + [-0, 0]im     [-0, 0] + [-0, 0]im\n",
       "  [-0, 0] + [0, 0]im  [-0, 0] + [-0, 0]im     [-0, 0] + [-0, 0]im"
      ]
     },
     "execution_count": 13,
     "metadata": {},
     "output_type": "execute_result"
    }
   ],
   "source": [
    "using IntervalArithmetic\n",
    "\n",
    "function verifyfft(z::Matrix{T}, sign=1) where T\n",
    "    n, col = size(z); array1 = false\n",
    "    if n==1\n",
    "        if col==1\n",
    "            Z = map(T,z)\n",
    "            return Z\n",
    "        else\n",
    "            isrow_ = true\n",
    "            z = z[:]\n",
    "            n = col\n",
    "            col = 1\n",
    "        end\n",
    "    else\n",
    "        isrow_ = false\n",
    "    end\n",
    "    log2n = Int(round(log2(n))) #check dimension\n",
    "    if 2^log2n ≠ n #2の倍数でない場合はエラー表示\n",
    "        error(\"length must be power of 2\")\n",
    "    end\n",
    "    #bit-reversal(ビットリバース)\n",
    "    f = 2^(log2n-1)\n",
    "    v = [0;f]\n",
    "    for k = 1:log2n-1\n",
    "#         f = 0.5*f\n",
    "        f = f >> 1\n",
    "        v = append!(v,f.+v)\n",
    "    end\n",
    "    z2 = zeros(n,col)\n",
    "    if isa(real(z[1]),Interval)\n",
    "        z2 = map(T,z2)\n",
    "    end\n",
    "    #zを入れ替え\n",
    "    for j = 1: n\n",
    "        z2[j,:] = z[v[j]+1,:]\n",
    "    end\n",
    "    #Danielson-Lanczos algorithm\n",
    "    Z = complex(map(Interval,z2))\n",
    "    Index = reshape([1:n*col;],n,col)\n",
    "    \n",
    "    theta = map(Interval,sign * (0:n-1)/n); # division exact because n is power of 2\n",
    "    Phi = cospi.(theta) + im*sinpi.(theta) # SLOW?\n",
    "\n",
    "    v = [1:2:n;]\n",
    "    w = [2:2:n;]\n",
    "    t = Z[w,:]\n",
    "    Z[w,:]  = Z[v,:] - t\n",
    "    Z[v,:]  = Z[v,:] + t\n",
    "    for index　in 1: (log2n-1)    \n",
    "        m = 2^index\n",
    "        m2 = 2*m\n",
    "        vw = reshape([1:n;],m2,Int(n/m2))\n",
    "        v = vw[1: m, :]\n",
    "        w = vw[m+1: m2, : ]\n",
    "        indexv = reshape(Index[v[:],:],m,Int(col*n/m2))\n",
    "        indexw = reshape(Index[w[:],:],m,Int(col*n/m2))\n",
    "        Phi1 = repeat(Phi[1:Int(n/m):end],outer=[1,Int(col*n/m2)])\n",
    "        t = Phi1 .*  Z[indexw]\n",
    "        Z[indexw] = Z[indexv] - t \n",
    "        Z[indexv] = Z[indexv] + t\n",
    "    end\n",
    "    reverse(Z[2:end,:],dims=2)\n",
    "     if sign==-1\n",
    "        Z = Z/n\n",
    "    end\n",
    "    if isrow_\n",
    "        Z = transpose(Z)　#転置\n",
    "    end\n",
    "    if array1\n",
    "        Z = Z[:,1]\n",
    "    end\n",
    "    return Z\n",
    "end\n",
    "function verifyfft2(iA)\n",
    "    return permutedims(verifyfft(permutedims(verifyfft(iA),[2,1])),[2,1])\n",
    "end\n",
    "verifyfft2(ones(8,8))"
   ]
  },
  {
   "cell_type": "code",
   "execution_count": 14,
   "metadata": {},
   "outputs": [
    {
     "data": {
      "text/plain": [
       "8×8 Array{Complex{Float64},2}:\n",
       " 64.0+0.0im  0.0+0.0im  0.0+0.0im  …  0.0+0.0im  0.0+0.0im  0.0+0.0im\n",
       "  0.0+0.0im  0.0+0.0im  0.0+0.0im     0.0+0.0im  0.0+0.0im  0.0+0.0im\n",
       "  0.0+0.0im  0.0+0.0im  0.0+0.0im     0.0+0.0im  0.0+0.0im  0.0+0.0im\n",
       "  0.0+0.0im  0.0+0.0im  0.0+0.0im     0.0+0.0im  0.0+0.0im  0.0+0.0im\n",
       "  0.0+0.0im  0.0+0.0im  0.0+0.0im     0.0+0.0im  0.0+0.0im  0.0+0.0im\n",
       "  0.0+0.0im  0.0+0.0im  0.0+0.0im  …  0.0+0.0im  0.0+0.0im  0.0+0.0im\n",
       "  0.0+0.0im  0.0+0.0im  0.0+0.0im     0.0+0.0im  0.0+0.0im  0.0+0.0im\n",
       "  0.0+0.0im  0.0+0.0im  0.0+0.0im     0.0+0.0im  0.0+0.0im  0.0+0.0im"
      ]
     },
     "execution_count": 14,
     "metadata": {},
     "output_type": "execute_result"
    }
   ],
   "source": [
    "fft(ones(8,8))"
   ]
  },
  {
   "cell_type": "markdown",
   "metadata": {},
   "source": [
    "## まとめ\n",
    "\n",
    "入力のベクトルに対して離散フーリエ変換を精度保証付き数値計算する方法を紹介した。現状、\n",
    "\n",
    "- Cooley-Tukey FFTアルゴリズム、Bluesteinアルゴリズム、`verifyfft`のうち`verifyfft`の実装が速度、計算精度ともに妥当である\n",
    "- それでもFFTWを使った数値計算よりも約100倍遅い（けど $N \\log N$ のオーダーは素晴らしい）\n",
    "- FFTは離散畳み込みの精度保証に使える（今後紹介予定）"
   ]
  },
  {
   "cell_type": "markdown",
   "metadata": {},
   "source": [
    "本資料は以下のような文献・Web ページ等を参考にこの文章は書いています.\n",
    "\n",
    "### 参考文献\n",
    "1. James W. Cooley and John W. Tukey, An algorithm for the machine calculation of complex Fourier series, Mathematics of Computation, 19 (1965), 297-301.\n",
    "1. L. R. Rabiner, R. W. Schafer, and C. M. Rader, The chirp z-transform algorithm and its application, Bell System Technical Journal, vol. 48, pp. 1249-1292, 1969, also published in IEEE Tr. Audio & Electroacoustics, vol. 17, no. 2, pp. 86-92, 1969.\n",
    "\n",
    "\n",
    "<div align=\"right\">井藤佳奈子, <a href=\"http://www.risk.tsukuba.ac.jp/~takitoshi/\">高安亮紀</a>，2021年3月2日</div>"
   ]
  }
 ],
 "metadata": {
  "kernelspec": {
   "display_name": "Julia 1.5.0",
   "language": "julia",
   "name": "julia-1.5"
  },
  "language_info": {
   "file_extension": ".jl",
   "mimetype": "application/julia",
   "name": "julia",
   "version": "1.5.0"
  }
 },
 "nbformat": 4,
 "nbformat_minor": 4
}
