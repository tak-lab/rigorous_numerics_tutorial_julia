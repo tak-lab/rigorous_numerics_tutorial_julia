{
 "cells": [
  {
   "cell_type": "markdown",
   "metadata": {},
   "source": [
    "# Juliaで非線型方程式の解の精度保証付き数値計算\n",
    "\n",
    "非線形方程式\n",
    "$$\n",
    "f(x) = 0,\\quad f:\\mathbb{R}^n \\rightarrow \\mathbb{R}^n\n",
    "$$\n",
    "の解を精度保証することを考える。\n",
    "\n",
    "今回は、区間解析の標準的な手法となっているR.Krawczykによる解の検証手法を紹介する。\n",
    "\n",
    "## Krawczyk法\n",
    "\n",
    "Krawczykの主張は、\n",
    "$X\\in \\mathbb{R}^n$を区間ベクトル（候補者集合）、$c = mid(X)$、$R\\simeq f'(c)^{-1}$、$E$を単位行列とし、\n",
    "\n",
    "\\begin{equation}\n",
    "K(X) = c-Rf(c)+(E-Rf'(X))(X-c)\n",
    "\\end{equation}\n",
    "\n",
    "としたとき、$K(X)\\in int(X)$ならば$X$に$f(x)=0$の解が唯一存在する。\n",
    "というものである。（$int(X)$：$X$の内部）\n",
    "\n",
    "この主張を成り立たせるためには、$g(x)=x-Rf(x)$に対して、平均値形式と縮小写像原理を適用する必要がある。"
   ]
  },
  {
   "cell_type": "markdown",
   "metadata": {},
   "source": [
    "## 平均値形式とKrawczyk写像\n",
    "\n",
    "$X\\in \\mathbb{R}^n$を区間ベクトルとし、写像$f$に対する簡易ニュートン写像$g:\\mathbb{R}^n\\rightarrow \\mathbb{R}^n$を次で定義する。\n",
    "\n",
    "$$\n",
    "g(x)=x-Rf(x)\n",
    "$$\n",
    "\n",
    "$R\\in \\mathbb{R}^{n\\times n}$は、$n$次元正方行列として、cにおけるヤコビ行列$J(c)$の逆近似行列$(R\\simeq f'(c)^{-1})$とする。\n",
    "\n",
    "このとき、$R$が正則であるならば、\n",
    "$$\n",
    "f(x)=0\\Longleftrightarrow g(x)=x\n",
    "$$\n",
    "が成り立つ。\n",
    "\n",
    "そして、$c$が、区間ベクトル$X$から$X$への縮小写像となれば、縮小写像の原理から、$f(x)=0$の真の解$x^*$が$X$内に一意存在することが示せる。しかし、写像$g$の区間$X$における区間拡張$s_{[]}(X)$を考えると、常に$s_{[]}(X)=X-Rf_{[]}(X)\\not\\subset X$となり、縮小写像の原理を生かすことができない。そこで、期間演算における区間の増大を抑制するための基本手法である平均値形式を導入する。"
   ]
  },
  {
   "cell_type": "markdown",
   "metadata": {},
   "source": [
    "## 自動微分を利用したヤコビ行列の計算\n",
    "\n",
    "Kwawczyk法を使う際には、区間拡張$f'(x)$を計算する必要がある。計算の方法として、最も標準的な実装方法は、自動微分を利用することである。\n",
    "\n",
    "Juliaで自動微分を適用する場合には、ForwardDiffパッケージを利用する。使用例は以下の通りである。"
   ]
  },
  {
   "cell_type": "code",
   "execution_count": 2,
   "metadata": {
    "scrolled": true
   },
   "outputs": [
    {
     "data": {
      "text/plain": [
       "2×2 Array{Interval{Float64},2}:\n",
       " [1.59999, 1.80001]  [-2, -1]\n",
       " [1.91999, 2.43001]   [-4, -0.5]"
      ]
     },
     "execution_count": 2,
     "metadata": {},
     "output_type": "execute_result"
    }
   ],
   "source": [
    "using LinearAlgebra,IntervalArithmetic, ForwardDiff\n",
    "X = [(0.8..0.9),(-1..(-0.5))]\n",
    "# mid(X)\n",
    "# X = rand(2)\n",
    "f(x, y) = x^2 + y^2 - 1\n",
    "g(x, y) = x^3 + y^4\n",
    "h( (x, y) ) = [f(x, y); g(x, y)]\n",
    "# ForwardDiff.jacobian(g, X::IntervalBox) = ForwardDiff.jacobian(g, X.v)\n",
    "J = ForwardDiff.jacobian(h,X)"
   ]
  },
  {
   "cell_type": "code",
   "execution_count": 3,
   "metadata": {},
   "outputs": [
    {
     "data": {
      "text/plain": [
       "2-element Array{Interval{Float64},1}:\n",
       " [-0.110001, 0.810001]\n",
       "  [0.574499, 1.72901]"
      ]
     },
     "execution_count": 3,
     "metadata": {},
     "output_type": "execute_result"
    }
   ],
   "source": [
    "h(X)"
   ]
  },
  {
   "cell_type": "markdown",
   "metadata": {},
   "source": [
    "## Krawczyk法の実装\n",
    "\n",
    "ここから、JuliaにおけるKrawczyk法の実装を行う。実装例は以下の通りである。"
   ]
  },
  {
   "cell_type": "code",
   "execution_count": 41,
   "metadata": {},
   "outputs": [
    {
     "data": {
      "text/plain": [
       "2×2 Array{Interval{Float64},2}:\n",
       "     [1.19999, 1.60001]        [1.19999, 1.60001]\n",
       " [1, 1]                  [-1, -1]"
      ]
     },
     "execution_count": 41,
     "metadata": {},
     "output_type": "execute_result"
    }
   ],
   "source": [
    "using LinearAlgebra,IntervalArithmetic, ForwardDiff\n",
    "#区間Xを定義\n",
    "X = [(0.6..0.8),(0.6..0.8)]\n",
    "\n",
    "#計算対象となる方程式を定義\n",
    "f(x, y) = x^2 + y^2 - 1\n",
    "g(x, y) = x - y\n",
    "h( (x, y) ) = [f(x, y); g(x, y)]\n",
    "# ForwardDiff.jacobian(g, X::IntervalBox) = ForwardDiff.jacobian(g, X.v)\n",
    "#J=f'(I)\n",
    "\n",
    "#区間Xにおけるヤコビ行列を計算\n",
    "J = ForwardDiff.jacobian(h,X)"
   ]
  },
  {
   "cell_type": "code",
   "execution_count": 50,
   "metadata": {
    "scrolled": true
   },
   "outputs": [
    {
     "data": {
      "text/plain": [
       "2×2 Array{Float64,2}:\n",
       " 1.4   1.4\n",
       " 1.0  -1.0"
      ]
     },
     "execution_count": 50,
     "metadata": {},
     "output_type": "execute_result"
    }
   ],
   "source": [
    "#mid(X)を定義\n",
    "C = map(Interval,X)\n",
    "c1 = mid(C[1])\n",
    "c2 = mid(C[2])\n",
    "\n",
    "c = [c1,c2]\n",
    "#Rを計算するためのf'(c)を求める\n",
    "T = ForwardDiff.jacobian(h,c)"
   ]
  },
  {
   "cell_type": "code",
   "execution_count": 43,
   "metadata": {},
   "outputs": [
    {
     "data": {
      "text/plain": [
       "2×2 Array{Float64,2}:\n",
       " 0.357143   0.5\n",
       " 0.357143  -0.5"
      ]
     },
     "execution_count": 43,
     "metadata": {},
     "output_type": "execute_result"
    }
   ],
   "source": [
    "#区間Xにおけるヤコビ行列Jの逆行列Rを定義する\n",
    "R = inv(T)"
   ]
  },
  {
   "cell_type": "code",
   "execution_count": 44,
   "metadata": {},
   "outputs": [
    {
     "data": {
      "text/plain": [
       "2×2 Array{Interval{Float64},2}:\n",
       " [-0.0714286, 0.0714286]  [-0.0714286, 0.0714286]\n",
       " [-0.0714286, 0.0714286]  [-0.0714286, 0.0714286]"
      ]
     },
     "execution_count": 44,
     "metadata": {},
     "output_type": "execute_result"
    }
   ],
   "source": [
    "#単位行列を生成\n",
    "Matrix{Float64}(I,2,2)\n",
    "\n",
    "M = Matrix{Float64}(I,2,2) - R*J"
   ]
  },
  {
   "cell_type": "code",
   "execution_count": 45,
   "metadata": {
    "scrolled": true
   },
   "outputs": [
    {
     "data": {
      "text/plain": [
       "2-element Array{Interval{Float64},1}:\n",
       " [0.692857, 0.721429]\n",
       " [0.692857, 0.721429]"
      ]
     },
     "execution_count": 45,
     "metadata": {},
     "output_type": "execute_result"
    }
   ],
   "source": [
    "#Krawczyk写像を計算\n",
    "K = c - R*h(c) + M*(X - c)"
   ]
  },
  {
   "cell_type": "code",
   "execution_count": 49,
   "metadata": {},
   "outputs": [
    {
     "ename": "LoadError",
     "evalue": "syntax: invalid character literal",
     "output_type": "error",
     "traceback": [
      "syntax: invalid character literal",
      ""
     ]
    }
   ],
   "source": [
    "#収束判定\n",
    "if \n",
    "    println('The exact solution is enclosed in')\n",
    "    println(X)\n",
    "else\n",
    "    println('Krawczyk test is failed')\n",
    "end"
   ]
  },
  {
   "cell_type": "markdown",
   "metadata": {},
   "source": [
    "以上の手順によって、Krawczyk法が実装される"
   ]
  },
  {
   "cell_type": "markdown",
   "metadata": {},
   "source": [
    "### 参考文献\n",
    "\n",
    "1. 大石進一編著, 精度保証付き数値計算の基礎, コロナ社, 2018.<br>\n",
    "(精度保証付き数値計算の教科書. 浮動小数点数および区間演算に詳しい. 今回は6章を参考にした)\n",
    "1. 非線形方程式の解の精度保証 (+ 自動微分)<br>\n",
    "http://www.kashi.info.waseda.ac.jp/~kashi/lec2020/nac/krawczyk.pdf"
   ]
  },
  {
   "cell_type": "code",
   "execution_count": null,
   "metadata": {},
   "outputs": [],
   "source": []
  }
 ],
 "metadata": {
  "kernelspec": {
   "display_name": "Julia 1.4.2",
   "language": "julia",
   "name": "julia-1.4"
  },
  "language_info": {
   "file_extension": ".jl",
   "mimetype": "application/julia",
   "name": "julia",
   "version": "1.4.2"
  }
 },
 "nbformat": 4,
 "nbformat_minor": 4
}
