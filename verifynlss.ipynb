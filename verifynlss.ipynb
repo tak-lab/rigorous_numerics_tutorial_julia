{
 "cells": [
  {
   "cell_type": "markdown",
   "metadata": {},
   "source": [
    "# Juliaで非線型方程式の解の精度保証付き数値計算\n",
    "\n",
    "非線形方程式\n",
    "$$\n",
    "f(x) = 0,~ f:\\mathbb{R}^n \\rightarrow \\mathbb{R}^n\n",
    "$$\n",
    "の解を精度保証することを考える。\n",
    "\n",
    "今回は、区間解析の標準的な手法となっているR.Krawczykによる解の検証手法を紹介する。\n",
    "\n",
    "## Krawczyk法\n",
    "\n",
    "Krawczykの主張は、\n",
    "$X\\in \\mathbb{R}^n$を区間ベクトル（候補者集合）、$c = mid(X)$、$R\\simeq f'(c)^{-1}$、$E$を単位行列とし、\n",
    "\n",
    "\\begin{equation}\n",
    "K(X) = c-Rf(c)+(E-Rf'(X))(X-c)\n",
    "\\end{equation}\n",
    "\n",
    "としたとき、$K(X)\\in int(X)$ならば$X$に$f(x)=0$の解が唯一存在する。\n",
    "というものである。（$int(X)$：$X$の内部）\n",
    "\n",
    "この主張を成り立たせるためには、$g(x)=x-Rf(x)$に対して、平均値形式と縮小写像原理を適用する必要がある。"
   ]
  },
  {
   "cell_type": "markdown",
   "metadata": {},
   "source": [
    "## 平均値形式とKrawczyk写像\n",
    "\n",
    "$X\\in \\mathbb{R}^n$を区間ベクトルとし、写像$f$に対する簡易ニュートン写像$g:\\mathbb{R}^n\\rightarrow \\mathbb{R}^n$を次で定義する。\n",
    "\n",
    "$$\n",
    "g(x)=x-Rf(x)\n",
    "$$\n",
    "\n",
    "$R\\in \\mathbb{R}^{n\\times n}$は、$n$次元正方行列として、cにおけるヤコビ行列$J(c)$の逆近似行列$(R\\simeq f'(c)^{-1})$とする。\n",
    "\n",
    "このとき、$R$が正則であるならば、\n",
    "$$\n",
    "f(x)=0\\Longleftrightarrow g(x)=x\n",
    "$$\n",
    "が成り立つ。\n",
    "\n",
    "そして、$c$が、区間ベクトル$X$から$X$への縮小写像となれば、縮小写像の原理から、$f(x)=0$の真の解$x^*$が$X$内に一意存在することが示せる。しかし、写像$g$の区間$X$における区間拡張$s_{[]}(X)$を考えると、常に$s_{[]}(X)=X-Rf_{[]}(X)\\not\\subset X$となり、縮小写像の原理を生かすことができない。そこで、期間演算における区間の増大を抑制するための基本手法である平均値形式を導入する。"
   ]
  },
  {
   "cell_type": "markdown",
   "metadata": {},
   "source": [
    "## 自動微分を利用したヤコビ行列の計算\n",
    "\n",
    "Kwawczyk法を使う際には、区間拡張$f'(x)$を計算する必要がある。計算の方法として、最も標準的な実装方法は、自動微分を利用することである。"
   ]
  },
  {
   "cell_type": "code",
   "execution_count": null,
   "metadata": {},
   "outputs": [],
   "source": [
    "#自動微分の実装でつまづきました。\n",
    "#ForwordDiffパッケージは、引数を1つだけしか持てない。"
   ]
  },
  {
   "cell_type": "code",
   "execution_count": 4,
   "metadata": {},
   "outputs": [
    {
     "data": {
      "text/plain": [
       "func (generic function with 1 method)"
      ]
     },
     "execution_count": 4,
     "metadata": {},
     "output_type": "execute_result"
    }
   ],
   "source": [
    "using LinearAlgebra,IntervalArithmetic\n",
    "\n",
    "function func(x,y)\n",
    "    [x^2+y^2-1,x^2-y^4]\n",
    "end"
   ]
  },
  {
   "cell_type": "code",
   "execution_count": 5,
   "metadata": {},
   "outputs": [
    {
     "data": {
      "text/plain": [
       "2-element Array{Int64,1}:\n",
       "  12\n",
       " -77"
      ]
     },
     "execution_count": 5,
     "metadata": {},
     "output_type": "execute_result"
    }
   ],
   "source": [
    "func(2,3)"
   ]
  },
  {
   "cell_type": "code",
   "execution_count": null,
   "metadata": {},
   "outputs": [],
   "source": [
    "tol = 1*10^-5\n",
    "x = [0.6,0.7]\n",
    "\n",
    "#解x0を計算する"
   ]
  },
  {
   "cell_type": "code",
   "execution_count": null,
   "metadata": {},
   "outputs": [],
   "source": [
    "#Matlabのコード\n",
    "\n",
    "#tol = 1e-5;\n",
    "#x = [0.6,0.7]\n",
    "\n",
    "#%Compute x0\n",
    "#while (1)\n",
    "    #Df = func(gradientint(x));#自動微分を行う\n",
    "    #J = Df.dx;\n",
    "    #x_new = x - J\\Df.x;\n",
    "    #if(norm(x_new-x,inf)/norm(x,inf)< tol)\n",
    "        #break\n",
    "    #end\n",
    "    #x = x_new;\n",
    "#end\n",
    "\n",
    "#disp('Approximate solution is')\n",
    "#disp(x)\n",
    "\n",
    "#%Krawczyk test\n",
    "#R = inv(Df.dx);\n",
    "#r = 2*norm(J\\Df.x,inf);\n",
    "#X = midrad(x,r);%Candidate interval\n",
    "#disp('X =')\n",
    "#disp(X)\n",
    "\n",
    "#Df = func(gradientint(x));\n",
    "#M = eye(size(x,1)) - R*Df.dx;\n",
    "#K = x - R*func(intval(x)) + M*(X-x);%Krawczyk mapping\n",
    "#disp('K =')\n",
    "#disp(K)\n",
    "\n",
    "#if all(in0(K,X))\n",
    "    #disp('The exact solution is enclosed in')\n",
    "    #disp(X)\n",
    "#else\n",
    "    #error('Krawczyk test is failed')\n",
    "#end\n",
    "\n",
    "#function y=func(x)\n",
    "    #y=[x(1)^2 + x(2)^2 -1; x(1)^2 -x(2)^4];\n",
    "#end\n"
   ]
  }
 ],
 "metadata": {
  "kernelspec": {
   "display_name": "Julia 1.4.2",
   "language": "julia",
   "name": "julia-1.4"
  },
  "language_info": {
   "file_extension": ".jl",
   "mimetype": "application/julia",
   "name": "julia",
   "version": "1.4.2"
  }
 },
 "nbformat": 4,
 "nbformat_minor": 4
}
