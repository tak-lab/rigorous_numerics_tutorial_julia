{
 "cells": [
  {
   "cell_type": "markdown",
   "metadata": {},
   "source": [
    "# Juliaで非線型方程式の解の精度保証付き数値計算\n",
    "\n",
    "非線形方程式\n",
    "\n",
    "$$\n",
    "f(x) = 0,\\quad f:\\mathbb{R}^n \\rightarrow \\mathbb{R}^n\n",
    "$$\n",
    "\n",
    "の解を精度保証することを考える。\n",
    "\n",
    "\n",
    "$x = x - Df(x)^{-1}f(x)$\n",
    "\n",
    "`X = verifynlss(function,xinit(point))`を作ってほしい。\n",
    "\n",
    "\n",
    "今回は、区間解析の標準的な手法となっているR. Krawczykによる解の検証手法を紹介する。\n",
    "\n",
    "## Krawczyk法\n",
    "\n",
    "Krawczykの主張は、\n",
    "    $X\\in \\mathbb{R}^n$を区間ベクトル（候補者集合）、$c = \\mathrm{mid}(X)$、$R\\simeq Df(c)^{-1}=J(c)^{-1}$、$E$ を単位行列とし、\n",
    "\n",
    "\\begin{equation}\n",
    "K(X) = c-Rf(c)+(E-RDf(X))(X-c)\n",
    "\\end{equation}\n",
    "\n",
    "としたとき、$K(X)\\subset \\mathrm{int}(X)$ ならば $X$ に $f(x)=0$ の解が唯一存在する。\n",
    "というものである。（$\\mathrm{int}(X)$：$X$ の内部）\n",
    "\n",
    "この主張を成り立たせるためには、$g(x)=x-Rf(x)$ に対して、平均値形式と縮小写像の原理を適用する必要がある。"
   ]
  },
  {
   "cell_type": "markdown",
   "metadata": {},
   "source": [
    "### Krawczyk写像\n",
    "\n",
    "$X\\in \\mathbb{IR}^n$ を区間ベクトルとし、写像 $f$ に対する簡易ニュートン写像 $g:\\mathbb{R}^n\\rightarrow \\mathbb{R}^n$ を次で定義する。\n",
    "\n",
    "$$\n",
    "g(x)=x-Rf(x)\n",
    "$$\n",
    "\n",
    "$R\\in \\mathbb{R}^{n\\times n}$ は、$n$ 次元正方行列として、$c\\in X$ におけるヤコビ行列 $J(c)$ の逆近似行列 $(R\\simeq f'(c)^{-1})$ とする。\n",
    "\n",
    "このとき、$R$ が正則であるならば、\n",
    "\n",
    "$$\n",
    "f(x)=0\\Longleftrightarrow g(x)=x\n",
    "$$\n",
    "\n",
    "が成り立つ。\n",
    "\n",
    "そして、$c$ が、区間ベクトル $X$ から $X$ への縮小写像となれば、縮小写像の原理から、$f(x)=0$ の真の解 $x^*$ が $X$ 内に一意存在することが示せる。しかし、写像 $g$ の区間 $X$ における区間拡張 $s_{[]}(X)$ を考えると、常に $s_{[]}(X)=X-Rf_{[]}(X)\\not\\subset X$ となり、縮小写像の原理を示すことができない。そこで、区間演算における区間の増大を抑制するための基本手法である平均値形式を導入する。\n",
    "\n",
    "$$\n",
    "s(X):=\\{s(x)\\mid x\\in X\\} (\\mbox{写像 $s$ の値域})\n",
    "$$\n",
    "\n",
    "$$\n",
    "s_{[]}(X)\\supset s(X)\n",
    "$$"
   ]
  },
  {
   "cell_type": "markdown",
   "metadata": {},
   "source": [
    "## 縮小写像の原理\n",
    "\n",
    "$X\\subseteq \\mathbb{R}^n$として、写像$T:X\\rightarrow X$を考える。このとき、全ての$x,y\\in X$において、距離空間$d(x,y)$が\n",
    "\n",
    "$$\n",
    "d(T(x),T(y))\\le \\alpha d(x,y)\n",
    "$$\n",
    "\n",
    "が成り立つとき、このような$T$を縮小写像という。（ただし、$\\alpha\\in [0,1)$ ）\n",
    "\n",
    "このとき、$g(x) = x$を満たす点$x^*$が$X$に唯一存在する。（不動点という）"
   ]
  },
  {
   "cell_type": "markdown",
   "metadata": {},
   "source": [
    "## 平均値形式\n",
    "\n",
    "写像$f: D \\rightarrow \\mathbb{R}^{n}$が区間$X\\subset D$において、1回連続微分可能とする。\n",
    "このとき、$x, \\tilde{x} \\in X$に対して、\n",
    "\n",
    "$$\n",
    "f(x) \\in f(\\tilde{x})+D f(X)(x-\\tilde{x})\n",
    "$$\n",
    "\n",
    "が成立する。\n",
    "（$Df(x)$は、写像$f$のヤコビ行列$J(x)$の区間$X$における区間拡張）"
   ]
  },
  {
   "cell_type": "markdown",
   "metadata": {},
   "source": [
    "## 自動微分を利用したヤコビ行列の計算\n",
    "\n",
    "Kwawczyk法を使う際には、区間拡張 $f_{[]}'(X)$ を計算する必要がある。計算の方法として、最も標準的な実装方法は、自動微分を利用することである。\n",
    "\n",
    "Juliaで自動微分を適用する場合には、ForwardDiffパッケージを利用する。使用例は以下の通りである。以下では $f(x,y) = x^2+y^2-1$, $g(x,y) = x^3 + y^4$ として\n",
    "\n",
    "$$\n",
    "    h(x,y) = \\left[\\begin{array}{c}f(x,y)\\\\ g(x,y)\\end{array}\\right]\n",
    "$$\n",
    "\n",
    "のヤコビ行列\n",
    "\n",
    "$$\n",
    "J(x) = \\left[\\begin{array}{cc}f_x(x,y) & f_y(x,y)\\\\ g_x(x,y) & g_y(x,y)\\end{array}\\right]= \\left[\\begin{array}{cc} 2x & 2y\\\\ 3x^2 & 4y^3\\end{array}\\right]\n",
    "$$\n",
    "\n",
    "の区間 $(x,y) = ([0.8,0.9], [-1,-0.5])$ における値を求める。"
   ]
  },
  {
   "cell_type": "code",
   "execution_count": 1,
   "metadata": {
    "scrolled": true
   },
   "outputs": [
    {
     "data": {
      "text/plain": [
       "2×2 Array{Interval{Float64},2}:\n",
       " [1.59999, 1.80001]  [-2, -1]\n",
       " [1.91999, 2.43001]   [-4, -0.5]"
      ]
     },
     "execution_count": 1,
     "metadata": {},
     "output_type": "execute_result"
    }
   ],
   "source": [
    "using LinearAlgebra,IntervalArithmetic, ForwardDiff\n",
    "X = [(0.8..0.9),(-1..(-0.5))]\n",
    "# mid(X)\n",
    "# X = rand(2)\n",
    "f(x, y) = x^2 + y^2 - 1\n",
    "g(x, y) = x^3 + y^4\n",
    "h( (x, y) ) = [f(x, y); g(x, y)]\n",
    "# ForwardDiff.jacobian(g, X::IntervalBox) = ForwardDiff.jacobian(g, X.v)\n",
    "J = ForwardDiff.jacobian(h,X)"
   ]
  },
  {
   "cell_type": "markdown",
   "metadata": {},
   "source": [
    "$h(x,y)$ の区間　$X = ([0.8,0.9], [-1,-0.5])$ における区間拡張 $h_{[]}(X)$ は"
   ]
  },
  {
   "cell_type": "code",
   "execution_count": 2,
   "metadata": {},
   "outputs": [
    {
     "data": {
      "text/plain": [
       "2-element Array{Interval{Float64},1}:\n",
       " [-0.110001, 0.810001]\n",
       "  [0.574499, 1.72901]"
      ]
     },
     "execution_count": 2,
     "metadata": {},
     "output_type": "execute_result"
    }
   ],
   "source": [
    "h(X)"
   ]
  },
  {
   "cell_type": "markdown",
   "metadata": {},
   "source": [
    "## Krawczyk法の実装\n",
    "\n",
    "ここから、JuliaにおけるKrawczyk法の実装を行う。実装例は以下の通りである。"
   ]
  },
  {
   "cell_type": "code",
   "execution_count": 3,
   "metadata": {},
   "outputs": [
    {
     "data": {
      "text/plain": [
       "2×2 Array{Interval{Float64},2}:\n",
       "     [1.19999, 1.60001]        [1.19999, 1.60001]\n",
       " [1, 1]                  [-1, -1]"
      ]
     },
     "execution_count": 3,
     "metadata": {},
     "output_type": "execute_result"
    }
   ],
   "source": [
    "using LinearAlgebra,IntervalArithmetic, ForwardDiff\n",
    "#区間Xを定義\n",
    "X = [(0.6..0.8),(0.6..0.8)]\n",
    "\n",
    "#計算対象となる方程式を定義\n",
    "f(x, y) = x^2 + y^2 - 1\n",
    "g(x, y) = x - y\n",
    "F( (x, y) ) = [f(x, y); g(x, y)]\n",
    "# ForwardDiff.jacobian(g, X::IntervalBox) = ForwardDiff.jacobian(g, X.v)\n",
    "#J=f'(I)\n",
    "\n",
    "#区間Xにおけるヤコビ行列を計算\n",
    "iDF = ForwardDiff.jacobian(F,X) # 区間演算必要"
   ]
  },
  {
   "cell_type": "code",
   "execution_count": 4,
   "metadata": {
    "scrolled": true
   },
   "outputs": [
    {
     "data": {
      "text/plain": [
       "2×2 Array{Float64,2}:\n",
       " 1.4   1.4\n",
       " 1.0  -1.0"
      ]
     },
     "execution_count": 4,
     "metadata": {},
     "output_type": "execute_result"
    }
   ],
   "source": [
    "#mid(X)を定義\n",
    "c = mid.(X)\n",
    "ic = map(Interval,c)\n",
    "#Rを計算するためのf'(c)を求める\n",
    "DF = ForwardDiff.jacobian(F,c) # 区間演算なしでOK"
   ]
  },
  {
   "cell_type": "code",
   "execution_count": 5,
   "metadata": {},
   "outputs": [
    {
     "data": {
      "text/plain": [
       "2×2 Array{Float64,2}:\n",
       " 0.357143   0.5\n",
       " 0.357143  -0.5"
      ]
     },
     "execution_count": 5,
     "metadata": {},
     "output_type": "execute_result"
    }
   ],
   "source": [
    "#区間Xにおけるヤコビ行列Jの逆行列Rを定義する\n",
    "R = inv(DF) # 区間演算なし"
   ]
  },
  {
   "cell_type": "code",
   "execution_count": 6,
   "metadata": {},
   "outputs": [
    {
     "data": {
      "text/plain": [
       "2×2 Array{Interval{Float64},2}:\n",
       " [-0.0714286, 0.0714286]  [-0.0714286, 0.0714286]\n",
       " [-0.0714286, 0.0714286]  [-0.0714286, 0.0714286]"
      ]
     },
     "execution_count": 6,
     "metadata": {},
     "output_type": "execute_result"
    }
   ],
   "source": [
    "#単位行列を生成\n",
    "# Matrix{Float64}(I,2,2)\n",
    "\n",
    "M = Matrix{Float64}(I,2,2) - R*iDF　# 区間演算必要"
   ]
  },
  {
   "cell_type": "code",
   "execution_count": 7,
   "metadata": {},
   "outputs": [
    {
     "data": {
      "text/plain": [
       "2-element Array{Interval{Float64},1}:\n",
       " [-0.00714286, -0.00714285]\n",
       " [-0.00714286, -0.00714285]"
      ]
     },
     "execution_count": 7,
     "metadata": {},
     "output_type": "execute_result"
    }
   ],
   "source": [
    "R*F(ic)"
   ]
  },
  {
   "cell_type": "code",
   "execution_count": 8,
   "metadata": {
    "scrolled": true
   },
   "outputs": [
    {
     "data": {
      "text/plain": [
       "2-element Array{Interval{Float64},1}:\n",
       " [0.692857, 0.721429]\n",
       " [0.692857, 0.721429]"
      ]
     },
     "execution_count": 8,
     "metadata": {},
     "output_type": "execute_result"
    }
   ],
   "source": [
    "#Krawczyk写像を計算\n",
    "K = c - R*F(ic) + M*(X - c)　# 区間演算必要"
   ]
  },
  {
   "cell_type": "code",
   "execution_count": 9,
   "metadata": {},
   "outputs": [
    {
     "data": {
      "text/plain": [
       "2-element BitArray{1}:\n",
       " 1\n",
       " 1"
      ]
     },
     "execution_count": 9,
     "metadata": {},
     "output_type": "execute_result"
    }
   ],
   "source": [
    "#収束判定\n",
    "K .⊂ X"
   ]
  },
  {
   "cell_type": "code",
   "execution_count": 10,
   "metadata": {},
   "outputs": [
    {
     "data": {
      "text/plain": [
       "krawczyk (generic function with 1 method)"
      ]
     },
     "execution_count": 10,
     "metadata": {},
     "output_type": "execute_result"
    }
   ],
   "source": [
    "function krawczyk(F,X)\n",
    "    iDF = ForwardDiff.jacobian(F,X);\n",
    "    c = mid.(X); ic = map(Interval,c);\n",
    "    DF = ForwardDiff.jacobian(F,c);\n",
    "    R = inv(DF);\n",
    "    M = Matrix{Float64}(I,2,2) - R*iDF;\n",
    "    return c - R*F(ic) + M*(X - c)\n",
    "end"
   ]
  },
  {
   "cell_type": "code",
   "execution_count": 11,
   "metadata": {},
   "outputs": [
    {
     "name": "stdout",
     "output_type": "stream",
     "text": [
      "K = Interval{Float64}[[0.707106, 0.707107], [0.707106, 0.707107]]\n"
     ]
    },
    {
     "data": {
      "text/plain": [
       "2-element Array{Float64,1}:\n",
       " 1.9761969838327786e-14\n",
       " 1.9761969838327786e-14"
      ]
     },
     "execution_count": 11,
     "metadata": {},
     "output_type": "execute_result"
    }
   ],
   "source": [
    "K = krawczyk(F,X);\n",
    "tol = 5e-10;\n",
    "while maximum(radius.(K)) >= tol\n",
    "    K = krawczyk(F,K)\n",
    "end\n",
    "@show K\n",
    "radius.(K)"
   ]
  },
  {
   "cell_type": "code",
   "execution_count": 12,
   "metadata": {
    "scrolled": false
   },
   "outputs": [
    {
     "data": {
      "text/plain": [
       "2-element BitArray{1}:\n",
       " 0\n",
       " 0"
      ]
     },
     "execution_count": 12,
     "metadata": {},
     "output_type": "execute_result"
    }
   ],
   "source": [
    "X = [(-1..0.8),(0.6..0.8)]\n",
    "K = krawczyk(F,X);\n",
    "K .⊂ X"
   ]
  },
  {
   "cell_type": "markdown",
   "metadata": {},
   "source": [
    "上記のように、候補区間Xの選び方次第では、$K(X)\\subset int(X)$が成立しない場合もある。その時は、柏木の方法によって、候補区間$X$を変更する必要がある。以下に、その手順を示す。"
   ]
  },
  {
   "cell_type": "markdown",
   "metadata": {},
   "source": [
    "$c\\in \\mathbb{F}^m$を非線形方程式の数値計算で得られた近似解とする。\n",
    "ここで、$r=|Rf(c)|\\in \\mathbb{F}^m$をベクトルとして考え、候補区間$X$を\n",
    "\n",
    "$$\n",
    "X=\\left[\\begin{array}{c}\n",
    "{\\left[c_{1}-u_{1}, c_{1}+u_{1}\\right]} \\\\\n",
    "{\\left[c_{2}-u_{2}, c_{2}+u_{2}\\right]} \\\\\n",
    "\\vdots \\\\\n",
    "{\\left[c_{m}-u_{m}, c_{m}+u_{m}\\right]}\n",
    "\\end{array}\\right], u_{i}=r_{i}+\\frac{1}{n} \\Sigma_{k} r_{k}\n",
    "$$\n",
    "\n",
    "とする。そうすることで、$K(X)\\subset int(X)$がより成立するようになる。以下に実装方法を示す。"
   ]
  },
  {
   "cell_type": "code",
   "execution_count": 13,
   "metadata": {
    "scrolled": true
   },
   "outputs": [
    {
     "data": {
      "text/plain": [
       "2-element Array{Float64,1}:\n",
       " 0.007142857142857189\n",
       " 0.007142857142857189"
      ]
     },
     "execution_count": 13,
     "metadata": {},
     "output_type": "execute_result"
    }
   ],
   "source": [
    "#rを計算\n",
    "r = abs.(R*F(c))"
   ]
  },
  {
   "cell_type": "code",
   "execution_count": 14,
   "metadata": {},
   "outputs": [
    {
     "data": {
      "text/plain": [
       "2-element Array{Float64,1}:\n",
       " 0.014285714285714377\n",
       " 0.014285714285714377"
      ]
     },
     "execution_count": 14,
     "metadata": {},
     "output_type": "execute_result"
    }
   ],
   "source": [
    "#uを計算\n",
    "u = r .+ (sum(r)/length(r))"
   ]
  },
  {
   "cell_type": "code",
   "execution_count": 15,
   "metadata": {},
   "outputs": [
    {
     "data": {
      "text/plain": [
       "2-element Array{Interval{Float64},1}:\n",
       " [0.692857, 0.707143]\n",
       " [0.692857, 0.707143]"
      ]
     },
     "execution_count": 15,
     "metadata": {},
     "output_type": "execute_result"
    }
   ],
   "source": [
    "#候補区間Xを新たに定める\n",
    "X = c .± r"
   ]
  },
  {
   "cell_type": "markdown",
   "metadata": {},
   "source": [
    "**matlabだと、midrad()で計算できる？**"
   ]
  },
  {
   "cell_type": "markdown",
   "metadata": {},
   "source": [
    "### 参考文献\n",
    "\n",
    "1. 大石進一編著, 精度保証付き数値計算の基礎, コロナ社, 2018.<br>\n",
    "(精度保証付き数値計算の教科書. 浮動小数点数および区間演算に詳しい. 今回は6章を参考にした)\n",
    "1. 非線形方程式の解の精度保証 (+ 自動微分)<br>\n",
    "http://www.kashi.info.waseda.ac.jp/~kashi/lec2020/nac/krawczyk.pdf"
   ]
  },
  {
   "cell_type": "code",
   "execution_count": null,
   "metadata": {},
   "outputs": [],
   "source": []
  }
 ],
 "metadata": {
  "kernelspec": {
   "display_name": "Julia 1.5.0",
   "language": "julia",
   "name": "julia-1.5"
  },
  "language_info": {
   "file_extension": ".jl",
   "mimetype": "application/julia",
   "name": "julia",
   "version": "1.5.0"
  }
 },
 "nbformat": 4,
 "nbformat_minor": 4
}
