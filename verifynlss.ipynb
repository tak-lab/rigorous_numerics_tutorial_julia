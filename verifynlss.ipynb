{
 "cells": [
  {
   "cell_type": "markdown",
   "metadata": {},
   "source": [
    "# Juliaで非線型方程式の解の精度保証付き数値計算\n",
    "\n",
    "非線形方程式\n",
    "\n",
    "$$\n",
    "f(x) = 0,\\quad f:\\mathbb{R}^n \\rightarrow \\mathbb{R}^n\n",
    "$$\n",
    "\n",
    "の解を精度保証することを考える。\n",
    "\n",
    "\n",
    "今回は、区間解析の標準的な手法となっているR. Krawczykによる解の検証手法、並びに区間ニュートン法による解の検証方法を紹介する。\n",
    "\n",
    "## Krawczyk法\n",
    "\n",
    "Krawczykの主張は、\n",
    "\n",
    "**定理**　$X\\in \\mathbb{R}^n$を区間ベクトル（候補者集合）、$c = \\mathrm{mid}(X)$、$R\\simeq Df(c)^{-1}=J(c)^{-1}$、$E$ を単位行列とし、\n",
    "\n",
    "\\begin{equation}\n",
    "K(X) = c-Rf(c)+(E-RDf(X))(X-c)\n",
    "\\end{equation}\n",
    "\n",
    "としたとき、$K(X)\\subset \\mathrm{int}(X)$ ならば $X$ に $f(x)=0$ の解が唯一存在する。\n",
    "\n",
    "というものである。（$\\mathrm{int}(X)$：$X$ の内部）\n",
    "\n",
    "この主張を成り立たせるためには、$g(x)=x-Rf(x)$ に対して、平均値形式と縮小写像の原理を適用する必要がある。"
   ]
  },
  {
   "cell_type": "markdown",
   "metadata": {},
   "source": [
    "### Krawczyk写像\n",
    "\n",
    "$X\\in \\mathbb{IR}^n$ を区間ベクトルとし、写像 $f$ に対する簡易ニュートン写像 $g:\\mathbb{R}^n\\rightarrow \\mathbb{R}^n$ を次で定義する。\n",
    "\n",
    "$$\n",
    "g(x)=x-Rf(x)\n",
    "$$\n",
    "\n",
    "$R\\in \\mathbb{R}^{n\\times n}$ は、$n$ 次元正方行列として、$c\\in X$ におけるヤコビ行列 $J(c)$ の逆近似行列 $(R\\simeq f'(c)^{-1})$ とする。\n",
    "\n",
    "このとき、$R$ が正則であるならば、\n",
    "\n",
    "$$\n",
    "f(x)=0\\Longleftrightarrow g(x)=x\n",
    "$$\n",
    "\n",
    "が成り立つ。\n",
    "\n",
    "そして、写像 $g$ が、区間ベクトル $X$ から $X$ への縮小写像となれば、縮小写像の原理から、$f(x)=0$ の真の解 $\\tilde{x}$ が $X$ 内に一意存在することが示せる。しかし、写像 $g$ の区間 $X$ における区間拡張 $s_{[]}(X)$ を考えると、常に $s_{[]}(X)=X-Rf_{[]}(X)\\not\\subset X$ となり、縮小写像の原理を示すことができない。そこで、区間演算における区間の増大を抑制するための基本手法である平均値形式を導入する。\n",
    "\n",
    "$$\n",
    "s(X):=\\{s(x)\\mid x\\in X\\} (\\mbox{写像 $s$ の値域})\n",
    "$$\n",
    "\n",
    "$$\n",
    "s_{[]}(X)\\supset s(X)\n",
    "$$\n",
    "\n",
    "以下に、具体的な例を示す。\n",
    "\n",
    "$$\n",
    "F(x,y) = \\left(\\begin{array}{c}f(x,y)\\\\ g(x,y)\\end{array}\\right) = \\left(\\begin{array}{c}x^2 + y^2 - 1\\\\ x - y\\end{array}\\right)\n",
    "$$\n",
    "\n",
    "とし、候補区間 $X$ を $ [0.707107 ± 1.0\\times 10^{-8}, 0.707107 ± 1.0\\times 10^{-8}]$ とする。\n",
    "\n",
    "区間拡張 $s_{[]}(X)$ を計算すると、\n",
    "\n",
    "$$\n",
    "s_{[]}(X)=X-Rf_{[]}(X) = [0.707106, 0.707107], [0.707106, 0.707107] \\not\\subset X\n",
    "$$\n",
    "\n",
    "となり、候補区間 $X$ に含まれないことがわかる。このような例を解決するために平均値形式を導入する。"
   ]
  },
  {
   "cell_type": "code",
   "execution_count": 51,
   "metadata": {},
   "outputs": [
    {
     "name": "stdout",
     "output_type": "stream",
     "text": [
      "s = Interval{Float64}[[0.707106, 0.707107], [0.707106, 0.707107]]\n",
      "s .⊂ X = Bool[0, 0]\n"
     ]
    },
    {
     "data": {
      "text/plain": [
       "2-element BitArray{1}:\n",
       " 0\n",
       " 0"
      ]
     },
     "execution_count": 51,
     "metadata": {},
     "output_type": "execute_result"
    }
   ],
   "source": [
    "using LinearAlgebra,IntervalArithmetic, ForwardDiff\n",
    "X = [0.707107 ± 1e-8, 0.707107 ± 1e-8];\n",
    "c = mid.(X);\n",
    "f(x, y) = x^2 + y^2 - 1;\n",
    "g(x, y) = x - y;\n",
    "F( (x, y) ) = [f(x, y); g(x, y)];\n",
    "DF = ForwardDiff.jacobian(F,c);\n",
    "R = inv(DF);\n",
    "s = X - R*F(X);\n",
    "@show s\n",
    "@show s .⊂ X"
   ]
  },
  {
   "cell_type": "markdown",
   "metadata": {},
   "source": [
    "## 縮小写像の原理\n",
    "\n",
    "**定義**　$X\\subseteq \\mathbb{R}^n$ として、写像 $T:X\\rightarrow X$ を考える。このとき、全ての $x,y\\in X$ において、距離 $d(x,y)$ を $d(x,y):=\\|x-y\\|_E$ で定義し、\n",
    "\n",
    "$$\n",
    "d(T(x),T(y))\\le \\alpha d(x,y)\n",
    "$$\n",
    "\n",
    "が成り立つ $\\alpha\\in [0,1)$ が存在するとき、このような $T$ を縮小写像という。\n",
    "\n",
    "このとき、$T(x) = x$ を満たす点 $\\tilde{x}$ が $X$ に唯一存在する。（不動点という）"
   ]
  },
  {
   "cell_type": "markdown",
   "metadata": {},
   "source": [
    "## 平均値形式\n",
    "\n",
    "**定義**　写像 $f: D \\rightarrow \\mathbb{R}^{n}$ が区間 $X\\subset D$ ($D$ は $f$  の定義域)において、1階連続微分可能とする。\n",
    "このとき、$x,~\\tilde{x} \\in X$に対して、\n",
    "\n",
    "$$\n",
    "f(x) \\in f(\\tilde{x})+Df_{[]}(X)(x-\\tilde{x})\n",
    "$$\n",
    "\n",
    "が成立する。（$Df_{[]}(x)$ は、写像 $f$ のヤコビ行列 $J(x)$ の区間 $X$ における区間拡張）上記の右辺を写像 $f$ の**平均値形式**と呼ぶ。"
   ]
  },
  {
   "cell_type": "markdown",
   "metadata": {},
   "source": [
    "## 自動微分を利用したヤコビ行列の計算\n",
    "\n",
    "Kwawczyk法を使う際には、区間拡張 $Df_{[]}(X)$ を計算する必要がある。計算の方法として、最も標準的な実装方法は、自動微分を利用することである。\n",
    "\n",
    "Juliaで自動微分を適用する場合には、ForwardDiffパッケージを利用する。使用例は以下の通りである。以下では $f(x,y) = x^2+y^2-1$, $g(x,y) = x^3 + y^4$ として\n",
    "\n",
    "$$\n",
    "    h(x,y) = \\left(\\begin{array}{c}f(x,y)\\\\ g(x,y)\\end{array}\\right)\n",
    "$$\n",
    "\n",
    "のヤコビ行列\n",
    "\n",
    "$$\n",
    "J(x) = \\left(\\begin{array}{cc}f_x(x,y) & f_y(x,y)\\\\ g_x(x,y) & g_y(x,y)\\end{array}\\right)= \\left(\\begin{array}{cc} 2x & 2y\\\\ 3x^2 & 4y^3\\end{array}\\right)\n",
    "$$\n",
    "\n",
    "の区間 $(x,y) = ([0.8,0.9], [-1,-0.5])$ における値を求める。"
   ]
  },
  {
   "cell_type": "code",
   "execution_count": 57,
   "metadata": {
    "scrolled": true
   },
   "outputs": [
    {
     "data": {
      "text/plain": [
       "2×2 Array{Interval{Float64},2}:\n",
       " [1.59999, 1.80001]  [-2, -1]\n",
       " [1.91999, 2.43001]   [-4, -0.5]"
      ]
     },
     "execution_count": 57,
     "metadata": {},
     "output_type": "execute_result"
    }
   ],
   "source": [
    "using LinearAlgebra,IntervalArithmetic, ForwardDiff\n",
    "X = [(0.8..0.9),(-1..(-0.5))]\n",
    "f(x, y) = x^2 + y^2 - 1\n",
    "g(x, y) = x^3 + y^4\n",
    "h( (x, y) ) = [f(x, y); g(x, y)]\n",
    "# ForwardDiff.jacobian(g, X::IntervalBox) = ForwardDiff.jacobian(g, X.v)\n",
    "J = ForwardDiff.jacobian(h,X)"
   ]
  },
  {
   "cell_type": "markdown",
   "metadata": {},
   "source": [
    "$h(x,y)$ の区間　$X = ([0.8,0.9], [-1,-0.5])$ における区間拡張 $h_{[]}(X)$ は"
   ]
  },
  {
   "cell_type": "code",
   "execution_count": 53,
   "metadata": {},
   "outputs": [
    {
     "data": {
      "text/plain": [
       "2-element Array{Interval{Float64},1}:\n",
       " [-0.110001, 0.810001]\n",
       "  [0.574499, 1.72901]"
      ]
     },
     "execution_count": 53,
     "metadata": {},
     "output_type": "execute_result"
    }
   ],
   "source": [
    "h(X)"
   ]
  },
  {
   "cell_type": "markdown",
   "metadata": {},
   "source": [
    "## Krawczyk法の実装\n",
    "\n",
    "ここから、Juliaを使ったKrawczyk法の実装を行う。実装例は以下の通りである。"
   ]
  },
  {
   "cell_type": "code",
   "execution_count": 58,
   "metadata": {},
   "outputs": [
    {
     "data": {
      "text/plain": [
       "2×2 Array{Interval{Float64},2}:\n",
       "     [1.19999, 1.60001]        [1.19999, 1.60001]\n",
       " [1, 1]                  [-1, -1]"
      ]
     },
     "execution_count": 58,
     "metadata": {},
     "output_type": "execute_result"
    }
   ],
   "source": [
    "using LinearAlgebra,IntervalArithmetic, ForwardDiff\n",
    "#区間Xを定義\n",
    "X = [(0.6..0.8),(0.6..0.8)]\n",
    "#計算対象となる方程式を定義\n",
    "f(x, y) = x^2 + y^2 - 1\n",
    "g(x, y) = x - y\n",
    "F( (x, y) ) = [f(x, y); g(x, y)]\n",
    "# ForwardDiff.jacobian(g, X::IntervalBox) = ForwardDiff.jacobian(g, X.v)\n",
    "#J=f'(I)\n",
    "#区間Xにおけるヤコビ行列を計算\n",
    "iDF = ForwardDiff.jacobian(F,X) # 区間演算必要"
   ]
  },
  {
   "cell_type": "code",
   "execution_count": 59,
   "metadata": {
    "scrolled": true
   },
   "outputs": [
    {
     "data": {
      "text/plain": [
       "2×2 Array{Float64,2}:\n",
       " 1.4   1.4\n",
       " 1.0  -1.0"
      ]
     },
     "execution_count": 59,
     "metadata": {},
     "output_type": "execute_result"
    }
   ],
   "source": [
    "#mid(X)を定義\n",
    "c = mid.(X)\n",
    "ic = map(Interval,c)\n",
    "#Rを計算するためのf'(c)を求める\n",
    "DF = ForwardDiff.jacobian(F,c) # 区間演算なしでOK"
   ]
  },
  {
   "cell_type": "code",
   "execution_count": 60,
   "metadata": {},
   "outputs": [
    {
     "data": {
      "text/plain": [
       "2×2 Array{Float64,2}:\n",
       " 0.357143   0.5\n",
       " 0.357143  -0.5"
      ]
     },
     "execution_count": 60,
     "metadata": {},
     "output_type": "execute_result"
    }
   ],
   "source": [
    "#区間Xにおけるヤコビ行列Jの逆行列Rを定義する\n",
    "R = inv(DF) # 区間演算なし"
   ]
  },
  {
   "cell_type": "code",
   "execution_count": 61,
   "metadata": {},
   "outputs": [
    {
     "data": {
      "text/plain": [
       "2×2 Array{Interval{Float64},2}:\n",
       " [-0.0714286, 0.0714286]  [-0.0714286, 0.0714286]\n",
       " [-0.0714286, 0.0714286]  [-0.0714286, 0.0714286]"
      ]
     },
     "execution_count": 61,
     "metadata": {},
     "output_type": "execute_result"
    }
   ],
   "source": [
    "#単位行列を生成\n",
    "# Matrix{Float64}(I,2,2)\n",
    "M = Matrix{Float64}(I,2,2) - R*iDF # 区間演算必要"
   ]
  },
  {
   "cell_type": "code",
   "execution_count": 59,
   "metadata": {},
   "outputs": [
    {
     "data": {
      "text/plain": [
       "2-element Array{Interval{Float64},1}:\n",
       " [-0.00714286, -0.00714285]\n",
       " [-0.00714286, -0.00714285]"
      ]
     },
     "execution_count": 59,
     "metadata": {},
     "output_type": "execute_result"
    }
   ],
   "source": [
    "R*F(ic) # 区間演算必要"
   ]
  },
  {
   "cell_type": "code",
   "execution_count": 62,
   "metadata": {
    "scrolled": true
   },
   "outputs": [
    {
     "data": {
      "text/plain": [
       "2-element Array{Interval{Float64},1}:\n",
       " [0.692857, 0.721429]\n",
       " [0.692857, 0.721429]"
      ]
     },
     "execution_count": 62,
     "metadata": {},
     "output_type": "execute_result"
    }
   ],
   "source": [
    "#Krawczyk写像を計算\n",
    "K = c - R*F(ic) + M*(X - c)　# 区間演算必要"
   ]
  },
  {
   "cell_type": "code",
   "execution_count": 63,
   "metadata": {},
   "outputs": [
    {
     "data": {
      "text/plain": [
       "2-element BitArray{1}:\n",
       " 1\n",
       " 1"
      ]
     },
     "execution_count": 63,
     "metadata": {},
     "output_type": "execute_result"
    }
   ],
   "source": [
    "#収束判定\n",
    "K .⊂ X"
   ]
  },
  {
   "cell_type": "code",
   "execution_count": 76,
   "metadata": {},
   "outputs": [
    {
     "data": {
      "text/plain": [
       "krawczyk (generic function with 2 methods)"
      ]
     },
     "execution_count": 76,
     "metadata": {},
     "output_type": "execute_result"
    }
   ],
   "source": [
    "function krawczyk(F,X)\n",
    "    iDF = ForwardDiff.jacobian(F,X);\n",
    "    c = mid.(X); ic = map(Interval,c);\n",
    "    DF = ForwardDiff.jacobian(F,c);\n",
    "    R = inv(DF);\n",
    "    M = Matrix{Float64}(I,2,2) - R*iDF;\n",
    "    return c - R*F(ic) + M*(X - c)\n",
    "end"
   ]
  },
  {
   "cell_type": "code",
   "execution_count": 65,
   "metadata": {},
   "outputs": [
    {
     "name": "stdout",
     "output_type": "stream",
     "text": [
      "K = Interval{Float64}[[0.707106, 0.707107], [0.707106, 0.707107]]\n"
     ]
    },
    {
     "data": {
      "text/plain": [
       "2-element Array{Float64,1}:\n",
       " 1.9761969838327786e-14\n",
       " 1.9761969838327786e-14"
      ]
     },
     "execution_count": 65,
     "metadata": {},
     "output_type": "execute_result"
    }
   ],
   "source": [
    " K = krawczyk(F,X);\n",
    " tol = 5e-10;\n",
    " while maximum(radius.(K)) >= tol\n",
    "     K = krawczyk(F,K)\n",
    " end\n",
    " @show K\n",
    " radius.(K)\n"
   ]
  },
  {
   "cell_type": "code",
   "execution_count": 66,
   "metadata": {},
   "outputs": [
    {
     "data": {
      "text/plain": [
       "2-element BitArray{1}:\n",
       " 0\n",
       " 0"
      ]
     },
     "execution_count": 66,
     "metadata": {},
     "output_type": "execute_result"
    }
   ],
   "source": [
    "err = 0.7;\n",
    "X = [0.7 ± err , 0.7 ± err ];\n",
    "c = mid.(X);\n",
    "K = krawczyk(F,X);\n",
    "K .⊂ X"
   ]
  },
  {
   "cell_type": "markdown",
   "metadata": {},
   "source": [
    "**上記のように**、候補区間 $X$ の選び方次第では、$K(X)\\subset \\mathrm{int}(X)$が成立しない場合もある。その時は、柏木の方法によって、候補区間$X$を変更する。以下に、その手順を示す。"
   ]
  },
  {
   "cell_type": "markdown",
   "metadata": {},
   "source": [
    "いま $c\\in \\mathbb{F}^m$ を非線形方程式の数値計算で得られた近似解とする。\n",
    "ここで、$r=|Rf(c)|\\in \\mathbb{F}^m$ をベクトルとして考え、候補区間 $X$ を\n",
    "\n",
    "$$\n",
    "X=\\left(\\begin{array}{c}\n",
    "{\\left[c_{1}-u_{1}, c_{1}+u_{1}\\right]} \\\\\n",
    "{\\left[c_{2}-u_{2}, c_{2}+u_{2}\\right]} \\\\\n",
    "\\vdots \\\\\n",
    "{\\left[c_{m}-u_{m}, c_{m}+u_{m}\\right]}\n",
    "\\end{array}\\right),\\quad u_{i}=r_{i}+\\frac{1}{n} \\Sigma_{k} r_{k}\n",
    "$$\n",
    "\n",
    "とする。そうすることで、$K(X)\\subset \\mathrm{int}(X)$ がより成立するようになる。以下に実装方法を示す。"
   ]
  },
  {
   "cell_type": "code",
   "execution_count": 67,
   "metadata": {
    "scrolled": true
   },
   "outputs": [
    {
     "data": {
      "text/plain": [
       "2-element Array{Float64,1}:\n",
       " 0.00714285714285707\n",
       " 0.00714285714285707"
      ]
     },
     "execution_count": 67,
     "metadata": {},
     "output_type": "execute_result"
    }
   ],
   "source": [
    "#rを計算\n",
    "r = abs.(R*F(c))"
   ]
  },
  {
   "cell_type": "code",
   "execution_count": 68,
   "metadata": {},
   "outputs": [
    {
     "data": {
      "text/plain": [
       "2-element Array{Float64,1}:\n",
       " 0.01428571428571414\n",
       " 0.01428571428571414"
      ]
     },
     "execution_count": 68,
     "metadata": {},
     "output_type": "execute_result"
    }
   ],
   "source": [
    "#uを計算\n",
    "u = r .+ (sum(r)/length(r))"
   ]
  },
  {
   "cell_type": "code",
   "execution_count": 69,
   "metadata": {},
   "outputs": [
    {
     "data": {
      "text/plain": [
       "2-element BitArray{1}:\n",
       " 1\n",
       " 1"
      ]
     },
     "execution_count": 69,
     "metadata": {},
     "output_type": "execute_result"
    }
   ],
   "source": [
    "#候補区間Xを新たに定める\n",
    "X_new = c .± u;\n",
    "X = X_new;\n",
    "K = krawczyk(F,X);\n",
    "K .⊂ X"
   ]
  },
  {
   "cell_type": "markdown",
   "metadata": {},
   "source": [
    "今までの結果を用いて、最終的なKrawczyk法のアルゴリズムを構築する。"
   ]
  },
  {
   "cell_type": "code",
   "execution_count": 83,
   "metadata": {},
   "outputs": [],
   "source": [
    "using LinearAlgebra,IntervalArithmetic, ForwardDiff\n",
    "\n",
    "#候補区間Xを定義\n",
    "X = [(0.6..0.7),(0.6..0.8)]\n",
    "\n",
    "#計算対象となる方程式を定義\n",
    "f(x, y) = x^2 + y^2 - 1\n",
    "g(x, y) = x^2 - y^4\n",
    "F( (x, y) ) = [f(x, y); g(x, y)]\n"
   ]
  },
  {
   "cell_type": "code",
   "execution_count": 87,
   "metadata": {},
   "outputs": [
    {
     "name": "stdout",
     "output_type": "stream",
     "text": [
      "Oh my way, verification is failed...return a improved approximate solution\n"
     ]
    },
    {
     "data": {
      "text/plain": [
       "(1, Interval{Float64}[[0.618033, 0.618034], [0.786151, 0.786152]])"
      ]
     },
     "execution_count": 87,
     "metadata": {},
     "output_type": "execute_result"
    }
   ],
   "source": [
    "function newton(F,x0)\n",
    "    tol = 5e-10; count = 0;\n",
    "    x = x0;\n",
    "    Fx = F(x);\n",
    "    while maximum(abs.(Fx)) ≥ tol && count ≤ 20\n",
    "        DF = ForwardDiff.jacobian(F,x);\n",
    "        x -= DF\\Fx;\n",
    "        Fx = F(x);\n",
    "        count += 1;\n",
    "    end\n",
    "    return x\n",
    "end\n",
    "\n",
    "function krawczyk(F,X,R)\n",
    "    c = mid.(X); ic = map(Interval,c);\n",
    "    iDF = ForwardDiff.jacobian(F,X);\n",
    "    M = Matrix{Float64}(I,2,2) - R*iDF;\n",
    "    return c - R*F(ic) + M*(X - c)\n",
    "end\n",
    "\n",
    "function verifynlss_krawczyk(F, c)\n",
    "    DF = ForwardDiff.jacobian(F,c);\n",
    "    R = inv(DF);\n",
    "    r = abs.(R*F(c));\n",
    "    u = r .+ (sum(r)/length(r));\n",
    "    X = c .± u;\n",
    "    K = krawczyk(F,X,R);\n",
    "    if all(K .⊂ X)\n",
    "        tol = 5e-10;\n",
    "        while maximum(radius.(K)) >= tol\n",
    "            K = krawczyk(F,K,R)\n",
    "        end\n",
    "        success = 1\n",
    "        return success, K\n",
    "    end\n",
    "    println(\"Oh my way, verification is failed...return a improved approximate solution\") # cをNewton法で改善しても良い。\n",
    "    success = 0\n",
    "    return success, newton(F,c)\n",
    "end\n",
    "\n",
    "\n",
    "success, X = verifynlss_krawczyk(F,[0.6,0.7]);\n",
    "if success == 0\n",
    "    success, X = verifynlss_krawczyk(F,X);\n",
    "end"
   ]
  },
  {
   "cell_type": "code",
   "execution_count": 55,
   "metadata": {},
   "outputs": [
    {
     "data": {
      "text/plain": [
       "2-element Array{Interval{Float64},1}:\n",
       " [0.577318, 0.65652]\n",
       " [0.757529, 0.837204]"
      ]
     },
     "execution_count": 55,
     "metadata": {},
     "output_type": "execute_result"
    }
   ],
   "source": [
    "K"
   ]
  },
  {
   "cell_type": "markdown",
   "metadata": {},
   "source": [
    "## 区間ニュートン法\n",
    "\n",
    "次に、もう1つの手法である区間ニュートン法について説明する。区間ニュートン法は、G.Alefeldによって提案された手法である。主張は以下の通りである。\n",
    "\n",
    "与えられた区間ベクトル$X\\in \\mathbb{IR}^n$に対して、$f:X\\rightarrow \\mathbb{R}^n$が1階連続微分可能な関数とする。$M\\in f'_{[]}(X)$を満たす任意の行列$M$が正則であると仮定し、ある$x_0\\in X$に対して、集合$N(x_0,X)$を\n",
    "\n",
    "$$\n",
    "N(x_0,X) = \\{x_0 - M^{-1}f(x_0)|M\\in f'_{[]}(X)\\}\n",
    "$$\n",
    "\n",
    "と定義する。この時、$N(x_0,X)\\subset X$が成立するならば、非線形方程式の真の解$x^*$が区間ベクトル$X$内に一意存在する。また、$N(x_0,X)\\cap X=$ならば、非線形方程式の解は$X$内に存在しない。さらに、$x^*\\in N(x_0,X)$である。"
   ]
  },
  {
   "cell_type": "markdown",
   "metadata": {},
   "source": [
    "### Krawczyk法との違い\n",
    "\n",
    "Krawczyk法と比較すると、解の存在検証部分は同一のプログラムで動作する。\n",
    "大きく違う部分は、区間連立1次方程式を解く必要がある点である。Krawczykは、近似解$c$におけるヤコビ行列$J(c)$の逆近似行列$R$だけを利用する手法である。区間連立1次方程式は要素数が大きくなると計算速度が遅くなり、さらに精度が悪くなるという問題点がある。\n",
    "\n",
    "したがって、区間ニュートン法とKrawczyk法は問題によって使い分けるのがよい。"
   ]
  },
  {
   "cell_type": "markdown",
   "metadata": {},
   "source": [
    "### 区間ニュートン法の実装\n"
   ]
  },
  {
   "cell_type": "markdown",
   "metadata": {},
   "source": [
    "以下では $f(x,y) = x^2+y^2-1$, $g(x,y) = x - y$ として問題を解く\n"
   ]
  },
  {
   "cell_type": "code",
   "execution_count": 23,
   "metadata": {},
   "outputs": [
    {
     "data": {
      "text/plain": [
       "2-element Array{Interval{Float64},1}:\n",
       "     [-0.0200001, -0.02]\n",
       " [-0, 0]"
      ]
     },
     "execution_count": 23,
     "metadata": {},
     "output_type": "execute_result"
    }
   ],
   "source": [
    "using LinearAlgebra,IntervalArithmetic, ForwardDiff\n",
    "#区間Xを定義\n",
    "X = [(0.6..0.8),(0.6..0.8)]\n",
    "c = mid.(X)\n",
    "ic = map(Interval,c)\n",
    "#計算対象となる方程式を定義\n",
    "f(x, y) = x^2 + y^2 - 1\n",
    "g(x, y) = x - y\n",
    "F( (x, y) ) = [f(x, y); g(x, y)]\n",
    "\n",
    "#区間Xにおけるヤコビ行列を計算\n",
    "A = ForwardDiff.jacobian(F,X) # 区間演算必要\n",
    "M = inv(A)\n",
    "b = F(ic)"
   ]
  },
  {
   "cell_type": "code",
   "execution_count": 24,
   "metadata": {},
   "outputs": [
    {
     "data": {
      "text/plain": [
       "verifylss_iAib (generic function with 1 method)"
      ]
     },
     "execution_count": 24,
     "metadata": {},
     "output_type": "execute_result"
    }
   ],
   "source": [
    "include(\"IntervalLinearAlgebra.jl\"); # int_mulを使用する\n",
    "function verifylss_iAib(iA,ib) # verify the solution element-wisely\n",
    "    b = mid.(real(ib)) + mid.(imag(ib))*im;\n",
    "    x̄ = iA\\ib;\n",
    "    n = length(x̄);\n",
    "    R = inv(iA);\n",
    "    #########\n",
    "    #C_mid, C_rad = mm_ufp(R,A);\n",
    "    G = Matrix{Float64}(I, n, n) - int_mul(R,iA);\n",
    "    α = opnorm(G,Inf)# Interval arithmetic\n",
    "    #########\n",
    "    if α < 1\n",
    "        x̄ = map(Interval,x̄);\n",
    "        r = A*x̄ - ib; # Interval arithmetic\n",
    "        Rr = R*r;\n",
    "        err = abs.(Rr) + supremum(norm(Rr,Inf))/(1-α)*(abs.(G)*ones(n)); # Interval arithmetic\n",
    "    else\n",
    "        println(\"Oh my way, verification is failed...\")\n",
    "        err = nan;\n",
    "    end\n",
    "    return x = (real(x̄) .± supremum.(err)) + im*(imag(x̄) .± supremum.(err))\n",
    "end"
   ]
  },
  {
   "cell_type": "code",
   "execution_count": 25,
   "metadata": {},
   "outputs": [
    {
     "ename": "MethodError",
     "evalue": "MethodError: no method matching atomic(::Type{Interval{Interval{Float64}}}, ::Interval{Float64})\nClosest candidates are:\n  atomic(!Matched::Type{Interval{T}}, ::Interval) where T<:AbstractFloat at /Users/otanishunsuke/.julia/packages/IntervalArithmetic/sRFlx/src/intervals/conversion.jl:123\n  atomic(!Matched::Type{Interval{T}}, ::S) where {T<:AbstractFloat, S<:Real} at /Users/otanishunsuke/.julia/packages/IntervalArithmetic/sRFlx/src/intervals/conversion.jl:96",
     "output_type": "error",
     "traceback": [
      "MethodError: no method matching atomic(::Type{Interval{Interval{Float64}}}, ::Interval{Float64})\nClosest candidates are:\n  atomic(!Matched::Type{Interval{T}}, ::Interval) where T<:AbstractFloat at /Users/otanishunsuke/.julia/packages/IntervalArithmetic/sRFlx/src/intervals/conversion.jl:123\n  atomic(!Matched::Type{Interval{T}}, ::S) where {T<:AbstractFloat, S<:Real} at /Users/otanishunsuke/.julia/packages/IntervalArithmetic/sRFlx/src/intervals/conversion.jl:96",
      "",
      "Stacktrace:",
      " [1] ..(::Interval{Float64}, ::Interval{Float64}) at /Users/otanishunsuke/.julia/packages/IntervalArithmetic/sRFlx/src/intervals/intervals.jl:144",
      " [2] ±(::Interval{Float64}, ::Interval{Float64}) at /Users/otanishunsuke/.julia/packages/IntervalArithmetic/sRFlx/src/intervals/intervals.jl:173",
      " [3] _broadcast_getindex_evalf at ./broadcast.jl:631 [inlined]",
      " [4] _broadcast_getindex at ./broadcast.jl:604 [inlined]",
      " [5] getindex at ./broadcast.jl:564 [inlined]",
      " [6] copy at ./broadcast.jl:854 [inlined]",
      " [7] materialize at ./broadcast.jl:820 [inlined]",
      " [8] int_mul(::Array{Interval{Float64},2}, ::Array{Interval{Float64},2}) at /Users/otanishunsuke/zemi/julia/rigorous_numerics_tutorial_julia/IntervalLinearAlgebra.jl:92",
      " [9] verifylss_iAib(::Array{Interval{Float64},2}, ::Array{Interval{Float64},1}) at ./In[24]:9",
      " [10] top-level scope at In[25]:1"
     ]
    }
   ],
   "source": [
    "verifylss_iAib(M,b)"
   ]
  },
  {
   "cell_type": "markdown",
   "metadata": {},
   "source": []
  },
  {
   "cell_type": "markdown",
   "metadata": {},
   "source": [
    "### 参考文献\n",
    "\n",
    "1. 大石進一編著, 精度保証付き数値計算の基礎, コロナ社, 2018.<br>\n",
    "(精度保証付き数値計算の教科書. 浮動小数点数および区間演算に詳しい. 今回は6章を参考にした)\n",
    "1. 非線形方程式の解の精度保証 (+ 自動微分)<br>\n",
    "http://www.kashi.info.waseda.ac.jp/~kashi/lec2020/nac/krawczyk.pdf"
   ]
  },
  {
   "cell_type": "code",
   "execution_count": null,
   "metadata": {},
   "outputs": [],
   "source": []
  }
 ],
 "metadata": {
  "kernelspec": {
   "display_name": "Julia 1.4.2",
   "language": "julia",
   "name": "julia-1.4"
  },
  "language_info": {
   "file_extension": ".jl",
   "mimetype": "application/julia",
   "name": "julia",
   "version": "1.4.2"
  }
 },
 "nbformat": 4,
 "nbformat_minor": 4
}
