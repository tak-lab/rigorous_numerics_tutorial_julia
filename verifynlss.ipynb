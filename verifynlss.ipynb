{
 "cells": [
  {
   "cell_type": "markdown",
   "metadata": {},
   "source": [
    "# Juliaで非線型方程式の解の精度保証付き数値計算\n",
    "\n",
    "非線形方程式\n",
    "\n",
    "$$\n",
    "f(x) = 0,\\quad f:D\\subset\\mathbb{R}^n \\rightarrow \\mathbb{R}^n\n",
    "$$\n",
    "\n",
    "の解を精度保証することを考える。$D$ は  $f$ の定義域とし、$f$ は一階連続微分可能な関数とする。\n",
    "\n",
    "\n",
    "今回は、区間解析の標準的な手法となっているR. Krawczykによる解の検証手法、ならびに区間ニュートン法による解の検証方法を紹介する。\n",
    "\n",
    "## Krawczyk（クラフチック）法\n",
    "\n",
    "Krawczykの主張は、以下の定理で表される。\n",
    "\n",
    "**定理**　$X\\in \\mathbb{R}^n$を区間ベクトル（候補者集合ともいう）、$c = \\mathrm{mid}(X)$、$R\\simeq Df(c)^{-1}=J(c)^{-1}$、$E$ を単位行列とし、\n",
    "\n",
    "\\begin{equation}\n",
    "K(X) = c-Rf(c)+(E-RDf(X))(X-c)\n",
    "\\end{equation}\n",
    "\n",
    "としたとき、$K(X)\\subset \\mathrm{int}(X)$ （$\\mathrm{int}(X)$：$X$ の内部）ならば $X$ に $f(x)=0$ の解が唯一存在する。\n",
    "\n",
    "この定理の証明は、簡易ニュートン写像 $g(x)=x-Rf(x)$ に対して、縮小写像の原理が成立することを確認する。\n",
    "\n",
    "#### 縮小写像の原理\n",
    "\n",
    "**定義**　$X\\subseteq \\mathbb{R}^n$ として、写像 $T:X\\rightarrow X$ を考える。このとき、全ての $x,y\\in X$ において、距離 $d(x,y)$ を $d(x,y):=\\|x-y\\|_E$ で定義し、\n",
    "\n",
    "$$\n",
    "d(T(x),T(y))\\le \\alpha d(x,y)\n",
    "$$\n",
    "\n",
    "が成り立つ $\\alpha\\in [0,1)$ が存在するとき、このような $T$ を縮小写像という。\n",
    "\n",
    "**定理**（縮小写像の原理） $X\\subseteq \\mathbb{R}^n$ が閉集合、写像 $T:X\\rightarrow X$ が縮小写像とする。このとき、$T(\\tilde{x}) = \\tilde{x}$ を満たす点 $\\tilde{x}$ が $X$ に唯一存在する。（$\\tilde{x}$ を不動点という）\n"
   ]
  },
  {
   "cell_type": "markdown",
   "metadata": {},
   "source": [
    "### Krawczyk写像と簡易ニュートン写像の関係\n",
    "\n",
    "$X\\in \\mathbb{IR}^n$ を区間ベクトルとし、写像 $f$ に対する簡易ニュートン写像 $g:\\mathbb{R}^n\\rightarrow \\mathbb{R}^n$ を次で定義する。\n",
    "\n",
    "$$\n",
    "g(x)=x-Rf(x).\n",
    "$$\n",
    "\n",
    "ここで $R\\in \\mathbb{R}^{n\\times n}$ は、$n$ 次元正方行列として、$c\\in X$ におけるヤコビ行列 $J(c)$ の逆近似行列 $(R\\simeq f'(c)^{-1})$ とする。\n",
    "\n",
    "このとき、$R$ が正則であるならば、\n",
    "\n",
    "$$\n",
    "f(x)=0\\Longleftrightarrow g(x)=x\n",
    "$$\n",
    "\n",
    "が成り立つ。\n",
    "\n",
    "そして、写像 $g$ が、区間ベクトル $X$ から $X$ への縮小写像となれば、縮小写像の原理から、$f(x)=0$ の真の解 $\\tilde{x}$ が $X$ 内に一意存在することが示せる。しかし、写像 $g$ の区間 $X$ における区間拡張 $g_{[~]}(X)$ を考えると、常に\n",
    "\n",
    "$$g_{[~]}(X)=X-Rf_{[~]}(X)\\not\\subset X$$\n",
    "\n",
    "となり、縮小写像の原理を示すことができない。ここで\n",
    "\n",
    "$$\n",
    "g(X):=\\{g(x)\\mid x\\in X\\} (\\mbox{写像 $g$ の値域})\n",
    "$$\n",
    "\n",
    "$$\n",
    "g_{[~]}(X)\\supset g(X)\n",
    "$$\n",
    "\n",
    "である。以下に、具体的な例を示す。\n",
    "\n",
    "$$\n",
    "F(x,y) = \\left(\\begin{array}{c}f(x,y)\\\\ g(x,y)\\end{array}\\right) = \\left(\\begin{array}{c}x^2 + y^2 - 1\\\\ x - y\\end{array}\\right)\n",
    "$$\n",
    "\n",
    "とし、候補区間 $X$ を $ (0.707107 ± 1.0\\times 10^{-8}, 0.707107 ± 1.0\\times 10^{-8})^T$ とする。\n",
    "\n",
    "区間拡張 $g_{[~]}(X)$ を計算すると、\n",
    "\n",
    "$$\n",
    "    g_{[~]}(X)=X-Rf_{[~]}(X) = ([0.707106, 0.707107], [0.707106, 0.707107])^T \\not\\subset X\n",
    "$$\n",
    "\n",
    "となり、候補区間 $X$ に含まれないことがわかる。"
   ]
  },
  {
   "cell_type": "code",
   "execution_count": 1,
   "metadata": {},
   "outputs": [
    {
     "name": "stdout",
     "output_type": "stream",
     "text": [
      "s = Interval{Float64}[[0.707106, 0.707107], [0.707106, 0.707107]]\n",
      "s .⊂ X = Bool[0, 0]\n"
     ]
    }
   ],
   "source": [
    "using LinearAlgebra,IntervalArithmetic, ForwardDiff\n",
    "X = [0.707107 ± 1e-8, 0.707107 ± 1e-8]\n",
    "c = mid.(X)\n",
    "f(x, y) = x^2 + y^2 - 1\n",
    "g(x, y) = x - y\n",
    "F( (x, y) ) = [f(x, y); g(x, y)]\n",
    "DF = ForwardDiff.jacobian(F,c)\n",
    "R = inv(DF)\n",
    "s = X - R*F(X)\n",
    "@show s\n",
    "@show s .⊂ X;"
   ]
  },
  {
   "cell_type": "markdown",
   "metadata": {},
   "source": [
    "この困難を解決するために平均値形式を導入する。平均値形式は区間演算における区間の増大を抑制するための基本手法である。\n",
    "\n",
    "#### 平均値形式\n",
    "\n",
    "**定義**　写像 $f: D \\rightarrow \\mathbb{R}^{n}$ が区間 $X\\subset D$ ($D$ は $f$ の定義域)において、1階連続微分可能とする。\n",
    "このとき、$x,~\\tilde{x} \\in X$に対して、\n",
    "\n",
    "$$\n",
    "f(x) \\in f(\\tilde{x})+Df_{[~]}(X)(x-\\tilde{x})\n",
    "$$\n",
    "\n",
    "が成立する。（$Df_{[~]}(x)$ は、写像 $f$ のヤコビ行列 $J(x)$ の区間 $X$ における区間拡張）上記の右辺を写像 $f$ の**平均値形式**と呼ぶ。\n",
    "\n",
    "今回は、簡易ニュートン写像 $g$ の点 $c\\in X$における平均値形式によって、Krawczyk写像 $K(X):\\mathbb{IR}^n \\rightarrow \\mathbb{IR}^n$が以下で定義することができる。\n",
    "\n",
    "$$\n",
    "K(X)=c-Rf_{[~]}(c)+(I-RDf_{[~]}(X))(X-c)\n",
    "$$\n",
    "\n",
    "ここでは、 $I\\in \\mathbb{R}^{n\\times n}$ 単位行列、$Df_{[~]}(X)$ は写像 $f$ のヤコビ行列 $J(x)$ の区間 $X$ における区間拡張とする。 "
   ]
  },
  {
   "cell_type": "markdown",
   "metadata": {},
   "source": [
    "### 自動微分を利用したヤコビ行列の計算\n",
    "\n",
    "Kwawczyk法を使う際には、区間拡張 $Df_{[~]}(X)$ を計算する必要がある。計算の方法として、最も標準的な実装方法は、自動微分を利用することである。\n",
    "\n",
    "Juliaで自動微分を適用する場合には、`ForwardDiff`パッケージを利用する。使用例は以下の通りである。以下では $f(x,y) = x^2+y^2-1$, $g(x,y) = x^3 + y^4$ として\n",
    "\n",
    "$$\n",
    "    h(x,y) = \\left(\\begin{array}{c}f(x,y)\\\\ g(x,y)\\end{array}\\right)\n",
    "$$\n",
    "\n",
    "のヤコビ行列\n",
    "\n",
    "$$\n",
    "J(x) = \\left(\\begin{array}{cc}f_x(x,y) & f_y(x,y)\\\\ g_x(x,y) & g_y(x,y)\\end{array}\\right)= \\left(\\begin{array}{cc} 2x & 2y\\\\ 3x^2 & 4y^3\\end{array}\\right)\n",
    "$$\n",
    "\n",
    "の区間 $(x,y) = ([0.8,0.9], [-1,-0.5])$ における値を求める。"
   ]
  },
  {
   "cell_type": "code",
   "execution_count": 2,
   "metadata": {
    "scrolled": true
   },
   "outputs": [
    {
     "data": {
      "text/plain": [
       "2×2 Array{Interval{Float64},2}:\n",
       " [1.59999, 1.80001]  [-2, -1]\n",
       " [1.91999, 2.43001]   [-4, -0.5]"
      ]
     },
     "execution_count": 2,
     "metadata": {},
     "output_type": "execute_result"
    }
   ],
   "source": [
    "using LinearAlgebra,IntervalArithmetic, ForwardDiff\n",
    "X = [(0.8..0.9),(-1..(-0.5))]\n",
    "f(x, y) = x^2 + y^2 - 1\n",
    "g(x, y) = x^3 + y^4\n",
    "h( (x, y) ) = [f(x, y); g(x, y)]\n",
    "# ForwardDiff.jacobian(g, X::IntervalBox) = ForwardDiff.jacobian(g, X.v)\n",
    "J = ForwardDiff.jacobian(h,X)"
   ]
  },
  {
   "cell_type": "markdown",
   "metadata": {},
   "source": [
    "関数 $h(x,y)$ の区間 $X = ([0.8,0.9], [-1,-0.5])$ における区間拡張 $h_{[~]}(X)$ は"
   ]
  },
  {
   "cell_type": "code",
   "execution_count": 3,
   "metadata": {},
   "outputs": [
    {
     "data": {
      "text/plain": [
       "2-element Array{Interval{Float64},1}:\n",
       " [-0.110001, 0.810001]\n",
       "  [0.574499, 1.72901]"
      ]
     },
     "execution_count": 3,
     "metadata": {},
     "output_type": "execute_result"
    }
   ],
   "source": [
    "h(X)"
   ]
  },
  {
   "cell_type": "markdown",
   "metadata": {},
   "source": [
    "## Krawczyk法の実装\n",
    "\n",
    "ここから、Juliaを使ったKrawczyk法の実装を行う。以下では、 $f(x,y) = x^2+y^2-1$, $g(x,y) = x - y$ とする。"
   ]
  },
  {
   "cell_type": "code",
   "execution_count": 4,
   "metadata": {},
   "outputs": [
    {
     "data": {
      "text/plain": [
       "2×2 Array{Interval{Float64},2}:\n",
       "     [1.19999, 1.60001]        [1.19999, 1.60001]\n",
       " [1, 1]                  [-1, -1]"
      ]
     },
     "execution_count": 4,
     "metadata": {},
     "output_type": "execute_result"
    }
   ],
   "source": [
    "using LinearAlgebra,IntervalArithmetic, ForwardDiff\n",
    "# 区間Xを定義\n",
    "X = [(0.6..0.8),(0.6..0.8)]\n",
    "# 計算対象となる方程式を定義\n",
    "f(x, y) = x^2 + y^2 - 1\n",
    "g(x, y) = x - y\n",
    "F( (x, y) ) = [f(x, y); g(x, y)]\n",
    "# ForwardDiff.jacobian(g, X::IntervalBox) = ForwardDiff.jacobian(g, X.v)\n",
    "# 区間Xにおけるヤコビ行列を計算\n",
    "iDF = ForwardDiff.jacobian(F,X)"
   ]
  },
  {
   "cell_type": "code",
   "execution_count": 5,
   "metadata": {
    "scrolled": true
   },
   "outputs": [
    {
     "data": {
      "text/plain": [
       "2×2 Array{Float64,2}:\n",
       " 1.4   1.4\n",
       " 1.0  -1.0"
      ]
     },
     "execution_count": 5,
     "metadata": {},
     "output_type": "execute_result"
    }
   ],
   "source": [
    "c = mid.(X)\n",
    "ic = map(Interval,c)\n",
    "# Rを計算するためのf'(c)を求める\n",
    "DF = ForwardDiff.jacobian(F,c) # 区間演算なし"
   ]
  },
  {
   "cell_type": "code",
   "execution_count": 6,
   "metadata": {},
   "outputs": [
    {
     "data": {
      "text/plain": [
       "2×2 Array{Float64,2}:\n",
       " 0.357143   0.5\n",
       " 0.357143  -0.5"
      ]
     },
     "execution_count": 6,
     "metadata": {},
     "output_type": "execute_result"
    }
   ],
   "source": [
    "# 区間Xにおけるヤコビ行列Jの逆行列Rを定義する\n",
    "R = inv(DF) # 区間演算なし"
   ]
  },
  {
   "cell_type": "code",
   "execution_count": 7,
   "metadata": {},
   "outputs": [
    {
     "data": {
      "text/plain": [
       "2×2 Array{Interval{Float64},2}:\n",
       " [-0.0714286, 0.0714286]  [-0.0714286, 0.0714286]\n",
       " [-0.0714286, 0.0714286]  [-0.0714286, 0.0714286]"
      ]
     },
     "execution_count": 7,
     "metadata": {},
     "output_type": "execute_result"
    }
   ],
   "source": [
    "M = Matrix{Float64}(I,size(R)) - R*iDF"
   ]
  },
  {
   "cell_type": "code",
   "execution_count": 8,
   "metadata": {},
   "outputs": [
    {
     "data": {
      "text/plain": [
       "2-element Array{Interval{Float64},1}:\n",
       " [-0.00714286, -0.00714285]\n",
       " [-0.00714286, -0.00714285]"
      ]
     },
     "execution_count": 8,
     "metadata": {},
     "output_type": "execute_result"
    }
   ],
   "source": [
    "R*F(ic)"
   ]
  },
  {
   "cell_type": "code",
   "execution_count": 9,
   "metadata": {
    "scrolled": true
   },
   "outputs": [
    {
     "data": {
      "text/plain": [
       "2-element Array{Interval{Float64},1}:\n",
       " [0.692857, 0.721429]\n",
       " [0.692857, 0.721429]"
      ]
     },
     "execution_count": 9,
     "metadata": {},
     "output_type": "execute_result"
    }
   ],
   "source": [
    "# Krawczyk写像を計算\n",
    "K = c - R*F(ic) + M*(X - c)　# 区間演算必要"
   ]
  },
  {
   "cell_type": "code",
   "execution_count": 10,
   "metadata": {},
   "outputs": [
    {
     "data": {
      "text/plain": [
       "2-element BitArray{1}:\n",
       " 1\n",
       " 1"
      ]
     },
     "execution_count": 10,
     "metadata": {},
     "output_type": "execute_result"
    }
   ],
   "source": [
    "# 収束判定\n",
    "K .⊂ X"
   ]
  },
  {
   "cell_type": "markdown",
   "metadata": {},
   "source": [
    "Krawczyk写像 $K$ が候補区間 $X$ に含まれているため、この方程式の解は $X$の中に一意に存在することが示される。\n",
    "以下では、上記の計算をまとめ、1つの関数として定義する。"
   ]
  },
  {
   "cell_type": "code",
   "execution_count": 11,
   "metadata": {},
   "outputs": [
    {
     "data": {
      "text/plain": [
       "krawczyk (generic function with 1 method)"
      ]
     },
     "execution_count": 11,
     "metadata": {},
     "output_type": "execute_result"
    }
   ],
   "source": [
    "function krawczyk(F,X)\n",
    "    iDF = ForwardDiff.jacobian(F,X)\n",
    "    c = mid.(X); ic = map(Interval,c)\n",
    "    DF = ForwardDiff.jacobian(F,c)\n",
    "    R = inv(DF)\n",
    "    M = Matrix{Float64}(I,size(R)) - R*iDF\n",
    "    return c - R*F(ic) + M*(X - c)\n",
    "end"
   ]
  },
  {
   "cell_type": "markdown",
   "metadata": {},
   "source": [
    "また、候補区間の範囲をできる限り絞るために、Krawczyk法を条件の範囲内で繰り返し行う。\n",
    "以下は、その計算を行った結果である。"
   ]
  },
  {
   "cell_type": "code",
   "execution_count": 12,
   "metadata": {},
   "outputs": [
    {
     "name": "stdout",
     "output_type": "stream",
     "text": [
      "radius.(K) = [0.00028860028860044906, 0.00028860028860044906]\n",
      "radius.(K) = [1.1779002662137827e-7, 1.1779002662137827e-7]\n",
      "radius.(K) = [1.9761969838327786e-14, 1.9761969838327786e-14]\n"
     ]
    },
    {
     "data": {
      "text/plain": [
       "2-element Array{Interval{Float64},1}:\n",
       " [0.707106, 0.707107]\n",
       " [0.707106, 0.707107]"
      ]
     },
     "execution_count": 12,
     "metadata": {},
     "output_type": "execute_result"
    }
   ],
   "source": [
    "K = krawczyk(F,X)\n",
    "tol = 5e-10\n",
    "while maximum(radius,K) >= tol\n",
    "    K = krawczyk(F,K)\n",
    "   @show radius.(K)\n",
    "end\n",
    "K"
   ]
  },
  {
   "cell_type": "markdown",
   "metadata": {},
   "source": [
    "以下の例のように候補区間 $X$ の選び方次第では、$K(X)\\subset \\mathrm{int}(X)$ が成立しない場合もある。"
   ]
  },
  {
   "cell_type": "code",
   "execution_count": 13,
   "metadata": {
    "scrolled": true
   },
   "outputs": [
    {
     "data": {
      "text/plain": [
       "2-element BitArray{1}:\n",
       " 0\n",
       " 0"
      ]
     },
     "execution_count": 13,
     "metadata": {},
     "output_type": "execute_result"
    }
   ],
   "source": [
    "err = 0.7;\n",
    "X = [0.7 ± err , 0.7 ± err ];\n",
    "c = mid.(X);\n",
    "K = krawczyk(F,X);\n",
    "K .⊂ X"
   ]
  },
  {
   "cell_type": "markdown",
   "metadata": {},
   "source": [
    "この時は、柏木の方法によって、候補区間 $X$ を変更すると有効であることがある。以下に、その手順を示す。いま $c\\in \\mathbb{F}^m$ を非線形方程式の数値計算で得られた近似解とする。\n",
    "ここで、$r=|Rf(c)|\\in \\mathbb{F}^m$ をベクトルとして考え、候補区間 $X$ を\n",
    "\n",
    "$$\n",
    "X=\\left(\\begin{array}{c}\n",
    "{\\left[c_{1}-u_{1}, c_{1}+u_{1}\\right]} \\\\\n",
    "{\\left[c_{2}-u_{2}, c_{2}+u_{2}\\right]} \\\\\n",
    "\\vdots \\\\\n",
    "{\\left[c_{m}-u_{m}, c_{m}+u_{m}\\right]}\n",
    "\\end{array}\\right),\\quad u_{i}=r_{i}+\\frac{1}{n} \\Sigma_{k} r_{k}\n",
    "$$\n",
    "\n",
    "とする。そうすることで、$K(X)\\subset \\mathrm{int}(X)$ がより成立するようになる。以下に実装方法を示す。"
   ]
  },
  {
   "cell_type": "code",
   "execution_count": 14,
   "metadata": {
    "scrolled": true
   },
   "outputs": [
    {
     "data": {
      "text/plain": [
       "2-element Array{Float64,1}:\n",
       " 0.00714285714285707\n",
       " 0.00714285714285707"
      ]
     },
     "execution_count": 14,
     "metadata": {},
     "output_type": "execute_result"
    }
   ],
   "source": [
    "# rを計算\n",
    "r = abs.(R*F(c))"
   ]
  },
  {
   "cell_type": "code",
   "execution_count": 15,
   "metadata": {},
   "outputs": [
    {
     "data": {
      "text/plain": [
       "2-element Array{Float64,1}:\n",
       " 0.01428571428571414\n",
       " 0.01428571428571414"
      ]
     },
     "execution_count": 15,
     "metadata": {},
     "output_type": "execute_result"
    }
   ],
   "source": [
    "# uを計算\n",
    "u = r .+ (sum(r)/length(r))"
   ]
  },
  {
   "cell_type": "code",
   "execution_count": 16,
   "metadata": {},
   "outputs": [
    {
     "data": {
      "text/plain": [
       "2-element BitArray{1}:\n",
       " 1\n",
       " 1"
      ]
     },
     "execution_count": 16,
     "metadata": {},
     "output_type": "execute_result"
    }
   ],
   "source": [
    "# 候補区間Xを新たに定める\n",
    "X_new = c .± u;\n",
    "X = X_new;\n",
    "K = krawczyk(F,X);\n",
    "K .⊂ X"
   ]
  },
  {
   "cell_type": "markdown",
   "metadata": {},
   "source": [
    "今までの結果を集約して、最終的なKrawczyk法のアルゴリズムを実装する。以下では $f(x,y) = x^2+y^2-1$, $g(x,y) = x^2 - y^4$ として計算を行った。"
   ]
  },
  {
   "cell_type": "code",
   "execution_count": 17,
   "metadata": {},
   "outputs": [
    {
     "data": {
      "text/plain": [
       "F (generic function with 1 method)"
      ]
     },
     "execution_count": 17,
     "metadata": {},
     "output_type": "execute_result"
    }
   ],
   "source": [
    "using LinearAlgebra, IntervalArithmetic, ForwardDiff\n",
    "\n",
    "# 候補区間Xを定義\n",
    "X = [(0.6..0.7),(0.6..0.8)]\n",
    "\n",
    "# 計算対象となる方程式を定義\n",
    "f(x, y) = x^2 + y^2 - 1\n",
    "g(x, y) = x^2 - y^4\n",
    "F( (x, y) ) = [f(x, y); g(x, y)]\n"
   ]
  },
  {
   "cell_type": "code",
   "execution_count": 18,
   "metadata": {},
   "outputs": [
    {
     "data": {
      "text/plain": [
       "(1, Interval{Float64}[[0.618033, 0.618034], [0.786151, 0.786152]])"
      ]
     },
     "execution_count": 18,
     "metadata": {},
     "output_type": "execute_result"
    }
   ],
   "source": [
    "#ニュートン法で近似解を計算する\n",
    "function newton(F,x0)\n",
    "    #初期値を設定\n",
    "    tol = 5e-10; count = 0;\n",
    "    x = x0;\n",
    "    Fx = F(x);\n",
    "    #条件の範囲内で計算を回す\n",
    "    while maximum(abs,Fx) ≥ tol && count ≤ 20\n",
    "        DF = ForwardDiff.jacobian(F,x);\n",
    "        x -= DF\\Fx;\n",
    "        Fx = F(x);\n",
    "        count += 1;\n",
    "    end\n",
    "    return x\n",
    "end\n",
    "\n",
    "#クラフチック法を計算する\n",
    "function krawczyk(F,X)\n",
    "    iDF = ForwardDiff.jacobian(F,X);\n",
    "    c = mid.(X); ic = map(Interval,c);\n",
    "    DF = ForwardDiff.jacobian(F,c);\n",
    "    R = inv(DF);\n",
    "    M = Matrix{Float64}(I,size(R)) - R*iDF;\n",
    "    #クラフチック写像の値を返す\n",
    "    return c - R*F(ic) + M*(X - c)\n",
    "end\n",
    "\n",
    "#最終的に完成した関数\n",
    "function verifynlss_krawczyk(F,c)\n",
    "    DF = ForwardDiff.jacobian(F,c)\n",
    "    R = inv(DF)\n",
    "    r = abs.(R*F(c))\n",
    "    u = r .+ (sum(r)/length(r))\n",
    "    X = c .± u\n",
    "    K = krawczyk(F,X)\n",
    "    #範囲内に入っていたら、さらに範囲の精度をあげていく\n",
    "    if all(K .⊂ X)\n",
    "        tol = 5e-10\n",
    "        count = 0\n",
    "        while maximum(radius,K) >= tol && count ≤ 100\n",
    "            K = krawczyk(F,K)\n",
    "            count += 1\n",
    "        end\n",
    "        success = 1\n",
    "        return success, K\n",
    "    end\n",
    "    println(\"Oh my way, verification is failed...return a improved approximate solution\") # cをNewton法で改善しても良い。\n",
    "    success = 0\n",
    "    return success, newton(F,c)\n",
    "end\n",
    "\n",
    "success, X = verifynlss_krawczyk(F,[0.61,0.78])\n",
    "if success == 0\n",
    "    success, X = verifynlss_krawczyk(F,X)\n",
    "end\n",
    "success, X"
   ]
  },
  {
   "cell_type": "markdown",
   "metadata": {},
   "source": [
    "## 区間ニュートン法\n",
    "\n",
    "次に、もう1つの手法である区間ニュートン法について説明する。区間ニュートン法は、G.Alefeldによって提案された手法である。主張は以下の通りである。\n",
    "\n",
    "与えられた区間ベクトル $X\\in \\mathbb{IR}^n$ に対して、$f:X\\rightarrow \\mathbb{R}^n$ が1階連続微分可能な関数とする。$M\\in Df_{[~]}(X)$ を満たす任意の行列 $M$ が正則であると仮定し、ある $c\\in X$ に対して、集合 $N(c,X)$ を\n",
    "\n",
    "$$\n",
    "N(c,X) := \\{c - M^{-1}f(c)|M\\in Df_{[~]}(X)\\}\n",
    "$$\n",
    "\n",
    "と定義する。この時、$N(c,X)\\subset X$ が成立するならば、非線形方程式の真の解 $\\tilde{x}$ が区間ベクトル $X$ 内に一意存在する。また、$N(c,X)\\cap X=\\emptyset$ ならば、非線形方程式の解は $X$ 内に存在しない。さらに、$\\tilde{x}\\in N(c,X)$ である。"
   ]
  },
  {
   "cell_type": "markdown",
   "metadata": {},
   "source": [
    "### Krawczyk法との違い\n",
    "\n",
    "Krawczyk法と比較すると、解の存在検証部分は同一のプログラムで動作する。\n",
    "大きく違う部分は、区間連立1次方程式を解く必要がある点である。Krawczyk法は、近似解 $c$ におけるヤコビ行列 $J(c)$ の逆近似行列 $R$ だけを利用する手法である。一方で区間ニュートン法は要素数が大きくなると区間連立1次方程式の計算速度が遅くなり、さらに精度が悪くなるという問題点がある。\n",
    "したがって、区間ニュートン法とKrawczyk法は問題によって使い分けるのがよい。\n",
    "以下は、Juliaで区間連立1次方程式を計算するアルゴリズムである。"
   ]
  },
  {
   "cell_type": "code",
   "execution_count": 19,
   "metadata": {},
   "outputs": [
    {
     "data": {
      "text/plain": [
       "verifylss_iAib (generic function with 1 method)"
      ]
     },
     "execution_count": 19,
     "metadata": {},
     "output_type": "execute_result"
    }
   ],
   "source": [
    "# include(\"IntervalLinearAlgebra.jl\");\n",
    "\n",
    "#区間連立1次方程式を解く関数\n",
    "function verifylss_iAib(iA,ib) \n",
    "    A = mid.(iA)\n",
    "    b = mid.(ib)\n",
    "    x̄ = A\\b\n",
    "    n = length(x̄)\n",
    "    R = inv(A)\n",
    "    #########\n",
    "    G = Matrix{Float64}(I, n, n) - R*iA\n",
    "    α = opnorm(G,Inf)# Interval arithmetic\n",
    "    #########\n",
    "    if α < 1\n",
    "        x̄ = map(Interval,x̄)\n",
    "        r = iA*x̄ - ib # Interval arithmetic\n",
    "        Rr = R*r\n",
    "        err = abs.(Rr) + supremum(norm(Rr,Inf))/(1-α)*(abs.(G)*ones(n)) # Interval arithmetic\n",
    "    else\n",
    "        println(\"Oh my way, verification is failed...\")\n",
    "        err = nan\n",
    "    end\n",
    "    return x̄ .± supremum.(err)\n",
    "end"
   ]
  },
  {
   "cell_type": "markdown",
   "metadata": {},
   "source": [
    "### 区間ニュートン法の実装\n"
   ]
  },
  {
   "cell_type": "markdown",
   "metadata": {},
   "source": [
    "以下では、上記の関数を用いて区間ニュートン法の手順を紹介する。ここでは $f(x,y) = x^2+y^2-1$, $g(x,y) = x^2 - y^4$ として問題を解く。\n"
   ]
  },
  {
   "cell_type": "code",
   "execution_count": 20,
   "metadata": {},
   "outputs": [
    {
     "data": {
      "text/plain": [
       "2-element Array{Interval{Float64},1}:\n",
       " [-0.0150001, -0.0149999]\n",
       "  [0.106093, 0.106094]"
      ]
     },
     "execution_count": 20,
     "metadata": {},
     "output_type": "execute_result"
    }
   ],
   "source": [
    "using LinearAlgebra,IntervalArithmetic, ForwardDiff\n",
    "# 区間Xを定義\n",
    "X = [(0.6.. 0.7),(0.7.. 0.8)]\n",
    "c = mid.(X)\n",
    "ic = map(Interval,c)\n",
    "\n",
    "# 計算対象となる方程式を定義\n",
    "f(x, y) = x^2 + y^2 - 1\n",
    "g(x, y) = x^2 - y^4\n",
    "F( (x, y) ) = [f(x, y); g(x, y)]\n",
    "\n",
    "# 区間Xにおけるヤコビ行列を計算\n",
    "iM  = ForwardDiff.jacobian(F,X) # 区間演算必要\n",
    "ifc = F(ic)"
   ]
  },
  {
   "cell_type": "code",
   "execution_count": 21,
   "metadata": {},
   "outputs": [
    {
     "data": {
      "text/plain": [
       "2-element Array{Interval{Float64},1}:\n",
       "  [0.0211518, 0.0428264]\n",
       " [-0.0467303, -0.0287175]"
      ]
     },
     "execution_count": 21,
     "metadata": {},
     "output_type": "execute_result"
    }
   ],
   "source": [
    "#区間連立1次方程式を計算\n",
    "verifylss_iAib(iM,ifc)"
   ]
  },
  {
   "cell_type": "code",
   "execution_count": 22,
   "metadata": {},
   "outputs": [
    {
     "data": {
      "text/plain": [
       "2-element Array{Interval{Float64},1}:\n",
       " [0.607173, 0.628849]\n",
       " [0.778717, 0.796731]"
      ]
     },
     "execution_count": 22,
     "metadata": {},
     "output_type": "execute_result"
    }
   ],
   "source": [
    "#N(c,X)を計算\n",
    "N = ic - verifylss_iAib(iM,ifc)"
   ]
  },
  {
   "cell_type": "code",
   "execution_count": 23,
   "metadata": {},
   "outputs": [
    {
     "data": {
      "text/plain": [
       "2-element BitArray{1}:\n",
       " 1\n",
       " 1"
      ]
     },
     "execution_count": 23,
     "metadata": {},
     "output_type": "execute_result"
    }
   ],
   "source": [
    "#収束判定\n",
    "N .⊂ X"
   ]
  },
  {
   "cell_type": "markdown",
   "metadata": {},
   "source": [
    "Krawczyk方と同じく、区間ニュートン法の最終的なアルゴリズムを実装する。"
   ]
  },
  {
   "cell_type": "code",
   "execution_count": 24,
   "metadata": {},
   "outputs": [
    {
     "data": {
      "text/plain": [
       "verifynlss_IntervalNewton (generic function with 1 method)"
      ]
     },
     "execution_count": 24,
     "metadata": {},
     "output_type": "execute_result"
    }
   ],
   "source": [
    "#ニュートン法を計算\n",
    "function newton(F,x0)\n",
    "    #初期値を設定\n",
    "    tol = 5e-10; count = 0;\n",
    "    x = x0;\n",
    "    Fx = F(x);\n",
    "    #条件によってニュートン法をまわす\n",
    "    while maximum(abs,Fx) ≥ tol && count ≤ 20\n",
    "        DF = ForwardDiff.jacobian(F,x);\n",
    "        x -= DF\\Fx;\n",
    "        Fx = F(x);\n",
    "        count += 1;\n",
    "    end\n",
    "    return x\n",
    "end\n",
    "\n",
    "#N(c,X)を計算する関数\n",
    "function IntervalNewton(F,X)\n",
    "    c = mid.(X);\n",
    "    ic = map(Interval,c);\n",
    "    iM = ForwardDiff.jacobian(F,X);\n",
    "    ib = F(ic);\n",
    "    #N(c,X)の値を返す\n",
    "    return ic - verifylss_iAib(iM,ib)\n",
    "#     return ic - iM\\ib\n",
    "end\n",
    "\n",
    "#最終的に構築した関数\n",
    "function verifynlss_IntervalNewton(F, c)\n",
    "    DF = ForwardDiff.jacobian(F,c);\n",
    "    R = inv(DF);\n",
    "    r = abs.(R*F(c));\n",
    "    u = r .+ (sum(r)/length(r));\n",
    "    X = c .± u;\n",
    "    K = IntervalNewton(F,X);\n",
    "    #範囲内に入っていたら、さらに解の精度をあげる\n",
    "    if all(K .⊂ X)\n",
    "        tol = 5e-10;\n",
    "        while maximum(radius,K) >= tol\n",
    "            K = IntervalNewton(F,K)\n",
    "        end\n",
    "        success = 1\n",
    "        return success, K\n",
    "    end\n",
    "    println(\"Oh my way, verification is failed...return a improved approximate solution\") \n",
    "    success = 0\n",
    "    return success, newton(F,c)\n",
    "end"
   ]
  },
  {
   "cell_type": "code",
   "execution_count": 25,
   "metadata": {},
   "outputs": [
    {
     "data": {
      "text/plain": [
       "(1, Interval{Float64}[[0.618033, 0.618034], [0.786151, 0.786152]])"
      ]
     },
     "execution_count": 25,
     "metadata": {},
     "output_type": "execute_result"
    }
   ],
   "source": [
    "verifynlss_IntervalNewton(F,[0.7,0.8])"
   ]
  },
  {
   "cell_type": "markdown",
   "metadata": {},
   "source": [
    "最後に、区間ニュートン法で3次方程式の解を求めてみる。ここでは、ロジスティック写像の３周期解を導く方程式を用いて計算する。解く式は以下のとおりである。\n",
    "\n",
    "$$\n",
    "\\left\\{\\begin{array}{l}\n",
    "x_{1}-\\lambda x_{3}\\left(1-x_{3}\\right)=0 \\\\\n",
    "x_{2}-\\lambda x_{1}\\left(1-x_{1}\\right)=0 \\\\\n",
    "x_{3}-\\lambda x_{2}\\left(1-x_{2}\\right)=0\n",
    "\\end{array}\\right.\n",
    "$$\n",
    "\n",
    "今回は、 $\\lambda=3.82843$として問題を解く。"
   ]
  },
  {
   "cell_type": "code",
   "execution_count": 26,
   "metadata": {},
   "outputs": [
    {
     "data": {
      "text/plain": [
       "3-element Array{Interval{Float64},1}:\n",
       " [0.899999, 1]\n",
       " [0.0999999, 0.200001]\n",
       " [0.5, 0.600001]"
      ]
     },
     "execution_count": 26,
     "metadata": {},
     "output_type": "execute_result"
    }
   ],
   "source": [
    "using LinearAlgebra,IntervalArithmetic, ForwardDiff\n",
    "\n",
    "#\\lambdaを設定\n",
    "lam = 3.82843\n",
    "\n",
    "#解く方程式を設定\n",
    "f(x, y, z) = x - lam*z*(1-z) \n",
    "g(x, y, z) = y - lam*x*(1-x)\n",
    "h(x, y, z) = z - lam*y*(1-y)\n",
    "F( (x, y, z) ) = [f(x, y, z); g(x, y, z); h(x, y, z)]\n",
    "\n",
    "#候補区間を設定\n",
    "X = [(0.9.. 1.0),(0.1.. 0.2),(0.5.. 0.6)]"
   ]
  },
  {
   "cell_type": "code",
   "execution_count": 27,
   "metadata": {},
   "outputs": [
    {
     "data": {
      "text/plain": [
       "3-element Array{Float64,1}:\n",
       " 0.9562724713863567\n",
       " 0.16008745377675246\n",
       " 0.5147686339721098"
      ]
     },
     "execution_count": 27,
     "metadata": {},
     "output_type": "execute_result"
    }
   ],
   "source": [
    "x0 = newton(F,mid.(X)) # 区間演算なし"
   ]
  },
  {
   "cell_type": "code",
   "execution_count": 28,
   "metadata": {},
   "outputs": [
    {
     "name": "stdout",
     "output_type": "stream",
     "text": [
      "  19.460 μs (231 allocations: 11.25 KiB)\n"
     ]
    },
    {
     "data": {
      "text/plain": [
       "(1, Interval{Float64}[[0.956272, 0.956273], [0.160087, 0.160088], [0.514768, 0.514769]])"
      ]
     },
     "execution_count": 28,
     "metadata": {},
     "output_type": "execute_result"
    }
   ],
   "source": [
    "using BenchmarkTools\n",
    "@btime verifynlss_IntervalNewton($F,$x0)"
   ]
  },
  {
   "cell_type": "code",
   "execution_count": 29,
   "metadata": {},
   "outputs": [
    {
     "name": "stdout",
     "output_type": "stream",
     "text": [
      "  15.077 μs (233 allocations: 11.00 KiB)\n"
     ]
    },
    {
     "data": {
      "text/plain": [
       "(1, Interval{Float64}[[0.956272, 0.956273], [0.160087, 0.160088], [0.514768, 0.514769]])"
      ]
     },
     "execution_count": 29,
     "metadata": {},
     "output_type": "execute_result"
    }
   ],
   "source": [
    "@btime verifynlss_krawczyk($F,$x0)"
   ]
  },
  {
   "cell_type": "markdown",
   "metadata": {},
   "source": [
    "### 参考文献\n",
    "\n",
    "1. 大石進一編著, 精度保証付き数値計算の基礎, コロナ社, 2018.<br>\n",
    "(精度保証付き数値計算の教科書. 浮動小数点数および区間演算に詳しい. 今回は6章を参考にした)\n",
    "1. 柏木雅英, 非線形方程式の解の精度保証 (+ 自動微分), 数値解析特論C (2020年度)講義資料<br>\n",
    "http://www.kashi.info.waseda.ac.jp/~kashi/lec2020/nac/krawczyk.pdf　（最終閲覧日：2020年12月24日）."
   ]
  },
  {
   "cell_type": "markdown",
   "metadata": {},
   "source": [
    "<div align=\"right\">大谷俊輔, <a href=\"http://www.risk.tsukuba.ac.jp/~takitoshi/\">高安亮紀</a>，2020年12月24日</div>"
   ]
  }
 ],
 "metadata": {
  "kernelspec": {
   "display_name": "Julia 1.5.3",
   "language": "julia",
   "name": "julia-1.5"
  },
  "language_info": {
   "file_extension": ".jl",
   "mimetype": "application/julia",
   "name": "julia",
   "version": "1.5.3"
  }
 },
 "nbformat": 4,
 "nbformat_minor": 4
}
