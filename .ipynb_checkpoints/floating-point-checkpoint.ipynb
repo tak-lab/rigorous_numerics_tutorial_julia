{
 "cells": [
  {
   "cell_type": "markdown",
   "metadata": {},
   "source": []
  },
  {
   "cell_type": "markdown",
   "metadata": {},
   "source": [
    "# 浮動小数点数\n",
    "計算機で扱える数「整数」と「浮動小数点数」について解説する\n",
    "\n",
    "## そもそも数値計算とは？\n",
    "* 数値計算（数値解析）とは\\\\数学の問題を有限桁の浮動小数点数を使って「数値的」に解く．数式処理とは違う\n",
    "* 数値計算でできること，できないこと\n",
    "* 数値計算は誤差との戦い\n",
    "* 整数（int）と浮動小数点数（double）\n",
    "\n",
    "## 整数型\n",
    "例えば，Pythonなら整数は\n",
    "\n",
    "|型| 機械内表現 |\n",
    "|:-----------|:----------|\n",
    "| char    | 8bit整数  |\n",
    "| int    | 32bit整数  |\n",
    "| long   | 64bit整数 |\n",
    "\n",
    "のような数値がある．\n",
    "\n",
    "（注）python 3.x ではintとlongが統合された．"
   ]
  },
  {
   "cell_type": "code",
   "execution_count": 1,
   "metadata": {},
   "outputs": [
    {
     "name": "stdout",
     "output_type": "stream",
     "text": [
      "a\n"
     ]
    }
   ],
   "source": [
    "a='a'\n",
    "print a"
   ]
  },
  {
   "cell_type": "code",
   "execution_count": 2,
   "metadata": {},
   "outputs": [
    {
     "name": "stdout",
     "output_type": "stream",
     "text": [
      "10\n"
     ]
    }
   ],
   "source": [
    "b=10\n",
    "print b"
   ]
  },
  {
   "cell_type": "code",
   "execution_count": 3,
   "metadata": {},
   "outputs": [
    {
     "name": "stdout",
     "output_type": "stream",
     "text": [
      "2147483647\n"
     ]
    }
   ],
   "source": [
    "c=2147483647\n",
    "print c"
   ]
  },
  {
   "cell_type": "code",
   "execution_count": 4,
   "metadata": {},
   "outputs": [
    {
     "name": "stdout",
     "output_type": "stream",
     "text": [
      "9223372036854775807\n"
     ]
    }
   ],
   "source": [
    "import sys\n",
    "print sys.maxint"
   ]
  },
  {
   "cell_type": "markdown",
   "metadata": {},
   "source": [
    "これからintの最大値が9223372036854775807であることがわかり\n",
    "$2^{63}-1=9223372036854775807$\n",
    "である．\n",
    "\n",
    "説明のために32bit整数（int型）を考えると\n",
    "\n",
    "|ビットパターン | 数値 |\n",
    "|:-----------:|:----------:|\n",
    "|01111111111111111111111111111111 | 2147483647|\n",
    "|00000000000000000000000000000010 | 2|\n",
    "|00000000000000000000000000000001 | 1|\n",
    "|00000000000000000000000000000000 | 0|\n",
    "|11111111111111111111111111111111 | -1|\n",
    "|11111111111111111111111111111110 |-2|\n",
    "|10000000000000000000000000000000 |-2147483648|\n",
    "\n",
    "このような負の数の表現形式を「**2の補数形式**」と呼ぶ．\n",
    "32個の各bitが次のような重みをもっていると考えられる．\n",
    "\n",
    "$$\\fbox{$-2^{31}$}\\fbox{$2^{30}$}\\fbox{$2^{29}$}\\,\\cdots\\fbox{$2^{1}$}\\fbox{$2^{0}$}$$\n",
    "\n",
    "2の補数形式の場合，$n$ビットで $-2^{n-1}$〜$2^{n-1}-1$の範囲の数を表現できる．つまり\n",
    "\n",
    "|型|表現範囲|\n",
    "|:-|:-:|\n",
    "|char|-128〜127|\n",
    "|int|-2147483648〜2147483647|\n",
    "|long|--9223372036854775808〜9223372036854775807|\n",
    "\n",
    "の範囲の整数が表せる．\n"
   ]
  },
  {
   "cell_type": "code",
   "execution_count": 5,
   "metadata": {},
   "outputs": [
    {
     "data": {
      "text/plain": [
       "2147483648"
      ]
     },
     "execution_count": 5,
     "metadata": {},
     "output_type": "execute_result"
    }
   ],
   "source": [
    "2147483647+1"
   ]
  },
  {
   "cell_type": "code",
   "execution_count": 6,
   "metadata": {},
   "outputs": [
    {
     "data": {
      "text/plain": [
       "9223372036854775808L"
      ]
     },
     "execution_count": 6,
     "metadata": {},
     "output_type": "execute_result"
    }
   ],
   "source": [
    "9223372036854775807+1"
   ]
  },
  {
   "cell_type": "markdown",
   "metadata": {
    "collapsed": true
   },
   "source": [
    "## 浮動小数点数\n",
    "\n",
    "**浮動小数点数**（double, float）は，「浮動小数点形式」と呼ばれる形式で表現できる．\n",
    "\n",
    "例えば，「$1234.5$」を「$1.2345\\times 10^3$」のように， 小数点の位置を1番左の数値と左から2番目の数値の間に移動（「正規化」と呼ぶ）し，それに指数を掛けた形式で数を表現する．\n",
    "この「$1.2345$」の部分を「仮数部」，「$10^3$」の部分（厳密には$~^3$）を「指数部」という．\n",
    "\n",
    "浮動小数点数は仮数部の長さ，指数部の長さ，指数が2，10，16など，多様な規格が考えられる．\n",
    "そこで1985年にWilliam Kahanが中心となって\n",
    "\n",
    "[IEEE 754: Standard for Binary Floating-Point Arithmetic](https://ja.wikipedia.org/wiki/IEEE_754)\n",
    "\n",
    "という標準規格が制定された．最近では世に出るハードウェアのほぼ全てがこの規格に従っている．\n",
    "\n",
    "### 倍精度 (double, float)\n",
    "倍精度は，符号（$\\pm$）に1ビット．指数部に11ビット，仮数部に 52ビットを使う．\n",
    "全部で64ビット=8バイトである．\n",
    "\n",
    "$\\fbox{1（符号）}\\fbox{11（指数部）}\\fbox{52（仮数部）}$\n",
    "\n",
    "* 符号は，0なら正，1なら負\n",
    "* 指数部は「$\\times 2^{\\mbox{指数}}$」の指数の部分に$1023$を加えたものが11ビット符号無しの整数の形で格納されている\n",
    "* 仮数部は，実際の仮数部の先頭の「1」を取り除いた残りが格納されている．仮数部の先頭は必ず1にしてメモリに格納しないことで1ビット分精度を稼いでいる\n",
    "\n",
    "数値$x$は\n",
    "\n",
    "$$x=\\pm\\; 1.d_1d_2\\cdots d_{52}\\times 2^{m}=\\pm\\left(\\frac{1}{2^0}+\\frac{d_1}{2^1}+\\frac{d_2}{2^2}+\\cdots+\\frac{d_{52}}{2^{52}}\\right)2^{e}_{(10)}$$\n",
    "\n",
    "と書ける（$-1022\\le e\\le 1023$，$m$：$e+1023$の2進表現）．\n",
    "\n",
    "例えば，5.25は2進数で書くと\n",
    "$$\n",
    "\t101.01_{(2)} = \\left(\\frac{1}{2^0}+\\frac{0}{2^1}+\\frac{1}{2^2}+\\frac{0}{2^{3}}+\\frac{1}{2^4}\\right)\\times 2^2_{(10)}\n",
    "$$\n",
    "であるから，計算機内では\n",
    "\n",
    "$\\fbox{0}\\fbox{10000000001}\\fbox{0101000000000000000000000000000000000000000000000000}$\n",
    "\n",
    "のように格納されている。指数部の「1000000001」は、「2+1023=1025」 を2進数にしたもの．\n",
    "\n",
    "これは**正規化数**と呼ばれる数の範囲．\n",
    "\n",
    "実際にpythonで浮動小数点数を見てみよう．"
   ]
  },
  {
   "cell_type": "code",
   "execution_count": 11,
   "metadata": {},
   "outputs": [
    {
     "name": "stdout",
     "output_type": "stream",
     "text": [
      "0100000000010101000000000000000000000000000000000000000000000000\n"
     ]
    }
   ],
   "source": [
    "import struct\n",
    "def binary(num):\n",
    "    return ''.join(bin(ord(c)).replace('0b', '').zfill(8) for c in struct.pack('!d', num))\n",
    "x = 5.25\n",
    "print binary(x)"
   ]
  },
  {
   "cell_type": "code",
   "execution_count": 14,
   "metadata": {},
   "outputs": [
    {
     "name": "stdout",
     "output_type": "stream",
     "text": [
      "0\n",
      "1025\n",
      "0b101000000000000000000000000000000000000000000000000\n",
      "1.3125\n",
      "5.25\n"
     ]
    }
   ],
   "source": [
    "xs = struct.pack('>d', x)\n",
    "xn = struct.unpack('>Q', xs)[0]\n",
    "sign = (xn >> 63)\n",
    "print sign\n",
    "exp = (xn >> 52) & ((1<<11)-1)\n",
    "print exp\n",
    "frac = xn & ((1<<52)-1)\n",
    "print bin(frac)\n",
    "frac2 = 1 + frac/float(1<<52)\n",
    "print frac2\n",
    "print (-1)**sign * frac2 * (2 ** (exp-1023))"
   ]
  },
  {
   "cell_type": "markdown",
   "metadata": {},
   "source": [
    "符号はsign = 0で正の数，　　\n",
    "指数部はexp-1023=1025-1023=2，  \n",
    "仮数部はfrac=(101000000000000000000000000000000000000000000000000)$_2$で2進数表示され，実際の値は1.3125，  \n",
    "元の浮動小数点数に戻すと\n",
    "\n",
    "$$(-1)^{\\mathrm{sign}}*\\mathrm{frac2}*2^{\\mathrm{exp}-1023}=5.25$$\n",
    "\n",
    "で確かに元の数に戻ることがわかる．\n",
    "\n",
    "次に$e$の範囲$-1022\\le e\\le 1023$に注目する．\n",
    "\n",
    "$e+1023$が11ビット符号無しの整数なら範囲は$0$〜$2047$であるが，$e$範囲から\n",
    "$e+1023=0$のときと$e+1023=2047$のときが使われていない．\n",
    "\n",
    "これらは特殊な数を表すのに使われる．それらは\n",
    "\n",
    "* 零\n",
    "* 無限大 (Inf)\n",
    "* NaN (Not a Number)\n",
    "* 非正規化数\n",
    "\n",
    "と呼ばれる．\n",
    "\n",
    "#### 零\n",
    "指数部が$e+1023=0$かつ仮数部が0のとき.\n",
    "\n",
    "$$\\pm\\; 0.00\\cdots 0\\times 2^{0}={\\pm\\left(\\frac{0}{2^0}+\\frac{0}{2^1}+\\frac{0}{2^2}+\\cdots+\\frac{0}{2^{52}}\\right)2^{-1023}}_{(10)}.$$\n",
    "\n",
    "\n",
    "#### 無限大\n",
    "$e+1023=2047$かつ仮数部が0のとき，$\\pm\\infty$を表す．\n",
    "\n",
    "$$\\pm\\; 0.00\\cdots 0\\times 2^{m}={\\pm\\left(\\frac{0}{2^0}+\\frac{0}{2^1}+\\frac{0}{2^2}+\\cdots+\\frac{0}{2^{52}}\\right)2^{1024}}_{(10)},$$\n",
    "\n",
    "$m$: 2047の2進表現."
   ]
  },
  {
   "cell_type": "code",
   "execution_count": 16,
   "metadata": {},
   "outputs": [
    {
     "name": "stdout",
     "output_type": "stream",
     "text": [
      "0111111111110000000000000000000000000000000000000000000000000000\n"
     ]
    }
   ],
   "source": [
    "x = float(\"inf\")\n",
    "print binary(x)"
   ]
  },
  {
   "cell_type": "markdown",
   "metadata": {},
   "source": [
    "#### NaN (Not a Number)\n",
    "$e+1023=2047$かつ仮数部が0でないとき．\n",
    "\n",
    "負数の平方根など，不可能な演算の結果を表すのに使われる．"
   ]
  },
  {
   "cell_type": "code",
   "execution_count": 17,
   "metadata": {},
   "outputs": [
    {
     "name": "stdout",
     "output_type": "stream",
     "text": [
      "nan\n",
      "0111111111111000000000000000000000000000000000000000000000000000\n",
      "nan\n",
      "1111111111111000000000000000000000000000000000000000000000000000\n"
     ]
    }
   ],
   "source": [
    "x = float(\"nan\")\n",
    "print x\n",
    "print binary(x)\n",
    "\n",
    "x = float(\"inf\") - float(\"inf\")\n",
    "print x\n",
    "print binary(x)"
   ]
  },
  {
   "cell_type": "markdown",
   "metadata": {},
   "source": [
    "#### 非正規化数\n",
    "指数部が$e+1023=0$かつ仮数部が0でないとき，\n",
    "\n",
    "仮数部の最初の桁を$0$にして\n",
    "\n",
    "$$\\pm\\; 0.d_1d_2\\cdots d_{52}\\times 2^{0}={\\pm\\left(\\frac{\\color{red}0}{2^0}+\\frac{d_1}{2^1}+\\frac{d_2}{2^2}+\\cdots+\\frac{d_{52}}{2^{52}}\\right)2^{{\\color{red}{-1022}}}}_{(10)}.$$\n",
    "\n",
    "という数の表現をする．\n",
    "非正規化数は文字通り「正規化していない」数．\n",
    "\n",
    "#### 正規化数の最大最小\n",
    "正の正規化数の最大の数は，$e+1023=2046$, かつ仮数部のビットが全て1のとき．\n",
    "\n",
    "$${\\left(\\frac{{1}}{2^0}+\\frac{1}{2^1}+\\frac{1}{2^2}+\\cdots+\\frac{1}{2^{52}}\\right)2^{{1023}}}_{(10)}= 2^{1024}-2^{971}\\approx10^{308.25}$$\n",
    "\n",
    "であり，これを1ビットでも超えたら無限大になる．これを**オーバーフロー**という．\n",
    "\n"
   ]
  },
  {
   "cell_type": "code",
   "execution_count": 19,
   "metadata": {},
   "outputs": [
    {
     "name": "stdout",
     "output_type": "stream",
     "text": [
      "1.79769313486e+308\n",
      "0111111111101111111111111111111111111111111111111111111111111111\n",
      "inf\n",
      "0111111111110000000000000000000000000000000000000000000000000000\n"
     ]
    }
   ],
   "source": [
    "x = (2.**53 - 1)*2.**971\n",
    "print x\n",
    "print binary(x)\n",
    "x = (2.**53)*2.**971\n",
    "print x\n",
    "print binary(x)"
   ]
  },
  {
   "cell_type": "markdown",
   "metadata": {},
   "source": [
    "正の正規化数の最小の数は，$e+1023=1$, かつ仮数部のビットが全て0のとき．\n",
    "\n",
    "$${\\left(\\frac{{1}}{2^0}+\\frac{0}{2^1}+\\frac{0}{2^2}+\\cdots+\\frac{0}{2^{52}}\\right)2^{-1022}}_{(10)}= 2^{-1022}\\approx10^{-307.65}$$\n",
    "\n",
    "であり，これを下回ると**アンダーフロー**というが，IEEE 754 では，ここでアンダーフローさせないで「悪あがき」をする．\n"
   ]
  },
  {
   "cell_type": "code",
   "execution_count": 20,
   "metadata": {},
   "outputs": [
    {
     "name": "stdout",
     "output_type": "stream",
     "text": [
      "2.22507385851e-308\n",
      "0000000000010000000000000000000000000000000000000000000000000000\n"
     ]
    }
   ],
   "source": [
    "x = 2.**(-1022)\n",
    "print x\n",
    "print binary(x)"
   ]
  },
  {
   "cell_type": "markdown",
   "metadata": {},
   "source": [
    "#### 漸近アンダーフロー\n",
    "正規化数の最小数の最終bitを1だけ減じると\n",
    "\n",
    "$${\\left(\\frac{{0}}{2^0}+\\frac{1}{2^1}+\\frac{1}{2^2}+\\cdots+\\frac{1}{2^{52}}\\right)2^{-1022}}_{(10)}$$\n",
    "\n",
    "となり，これを正規化すると\n",
    "\n",
    "$${\\left(\\frac{{1}}{2^0}+\\frac{1}{2^1}+\\frac{1}{2^2}+\\cdots+\\frac{0}{2^{52}}\\right)2^{-1023}}_{(10)}$$\n",
    "\n",
    "となって，指数部の下限$-1022\\le e$を超えてしまう．\n",
    "そこで，「$2^{-1022}$を下回ったら正規化をやめて指数部を$2^{-1022}$に固定して仮数部の最初の桁を0としてみて格納する」 とする．これが非正規化数であり，\n",
    "\n",
    "$${\\left(\\frac{{0}}{2^0}+\\frac{1}{2^1}+\\frac{1}{2^2}+\\cdots+\\frac{1}{2^{52}}\\right)2^{-1022}}_{(10)}$$\n",
    "$${\\left(\\frac{{0}}{2^0}+\\frac{1}{2^1}+\\frac{1}{2^2}+\\cdots+\\frac{0}{2^{52}}\\right)2^{-1022}}_{(10)}$$\n",
    "$$\\vdots$$\n",
    "%$$\\left(\\frac{{0}}{2^0}+\\frac{1}{2^1}+\\frac{0}{2^2}+\\cdots+\\frac{0}{2^{52}}\\right)2^{-1022}$$\n",
    "$${\\left(\\frac{{0}}{2^0}+\\frac{0}{2^1}+\\frac{1}{2^2}+\\cdots+\\frac{1}{2^{52}}\\right)2^{-1022}}_{(10)}$$\n",
    "$$\\vdots$$\n",
    "$${\\left(\\frac{{0}}{2^0}+\\frac{0}{2^1}+\\frac{0}{2^2}+\\cdots+\\frac{1}{2^{52}}\\right)2^{-1022}}_{(10)}=2^{-1074}\\approx10^{-323.31}$$\n",
    "\n",
    "のような数が表現できる．ただし，$2^{-1022}$と$2^{-1074}$の間の数は，本来53ビットあるべき仮数部の長さが52ビット〜1ビットまで減ってしまっており，精度が低下していることに注意．\n",
    "\n",
    "##### まとめると\n",
    "倍精度は\n",
    "\n",
    "||仮数部が0|仮数部が0でない|\n",
    "|:-:|:-:|:-:|\n",
    "|$e+1023=0$            | $\\pm0$      | 非正規化数|\n",
    "|$1\\le e+1023\\le 2046$ | 正規化数     | 正規化数 |\n",
    "|$e+1023=2047$         | $\\pm\\infty$ | NaN|\n",
    "\n",
    "\n",
    "単精度 (float, float32) は\n",
    "\n",
    "\n",
    "||仮数部が0|仮数部が0でない|\n",
    "|:-:|:-:|:-:|\n",
    "|$e+127=0$            | $\\pm0$      | 非正規化数|\n",
    "|$1\\le e+127\\le 254$ | 正規化数     | 正規化数 |\n",
    "|$e+127=255$         | $\\pm\\infty$ | NaN|"
   ]
  },
  {
   "cell_type": "code",
   "execution_count": 27,
   "metadata": {},
   "outputs": [
    {
     "name": "stdout",
     "output_type": "stream",
     "text": [
      "2.22507385851e-308\n",
      "0000000000010000000000000000000000000000000000000000000000000000\n",
      "2.22507385851e-308\n",
      "0000000000001111111111111111111111111111111111111111111111111111\n",
      "4.94065645841e-324\n",
      "0000000000000000000000000000000000000000000000000000000000000001\n",
      "0.0\n",
      "0000000000000000000000000000000000000000000000000000000000000000\n"
     ]
    }
   ],
   "source": [
    "x = 2.**(-1022)\n",
    "print x\n",
    "print binary(x)\n",
    "\n",
    "x = (1-2.**(-52))*2.**(-1022)\n",
    "print x\n",
    "print binary(x)\n",
    "\n",
    "x = 2.**(-1074)\n",
    "print x\n",
    "print binary(x)\n",
    "\n",
    "x = 2.**(-1074)/2.\n",
    "print x\n",
    "print binary(x)"
   ]
  },
  {
   "cell_type": "markdown",
   "metadata": {
    "collapsed": true
   },
   "source": [
    "今後，浮動小数点数全体の集合を$\\mathbb{F}$と表すことにする．特に断りがなければ，浮動小数点数は倍精度浮動小数点数（64bit）とする．IEEE754では**binary64**とも呼ばれている．"
   ]
  },
  {
   "cell_type": "markdown",
   "metadata": {
    "collapsed": true
   },
   "source": [
    "<div align=\"right\">[高安亮紀](http://www.risk.tsukuba.ac.jp/~takitoshi/)，2016年12月7日</div>"
   ]
  },
  {
   "cell_type": "code",
   "execution_count": null,
   "metadata": {
    "collapsed": true
   },
   "outputs": [],
   "source": []
  }
 ],
 "metadata": {
  "kernelspec": {
   "display_name": "Python 3",
   "language": "python",
   "name": "python3"
  },
  "language_info": {
   "codemirror_mode": {
    "name": "ipython",
    "version": 3
   },
   "file_extension": ".py",
   "mimetype": "text/x-python",
   "name": "python",
   "nbconvert_exporter": "python",
   "pygments_lexer": "ipython3",
   "version": "3.7.7"
  }
 },
 "nbformat": 4,
 "nbformat_minor": 1
}
