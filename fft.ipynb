{
 "cells": [
  {
   "cell_type": "markdown",
   "metadata": {},
   "source": [
    "# 高速フーリエ変換(FFT)の正確さ\n",
    "\n",
    "## 高速フーリエ変換(FFT)とは\n",
    "高速フーリエ変換(FFT:Fast Fourier Transform)とは、離散フーリエ変換(DFT:Discrete Fourier Transform)を高速に行うアルゴリズムを指す。\n",
    "\n",
    "### 離散フーリエ変換(DFT)\n",
    "データが $N$ 個の離散フーリエ変換を $X_n$ とした場合、以下のように書くことができる。\n",
    "\n",
    "$$\n",
    "\\left(\\begin{array}{c}\n",
    "X_{0} \\\\\n",
    "X_{1} \\\\\n",
    "X_{2} \\\\\n",
    "\\vdots \\\\\n",
    "X_{N-1}\n",
    "\\end{array}\\right)=\\left(\\begin{array}{ccccc}\n",
    "1 & 1 & 1 & \\cdots & 1 \\\\\n",
    "1 & e^{-i \\frac{2 \\pi}{N}} & e^{-i \\frac{4 \\pi}{N}} & \\cdots & e^{-i \\frac{2 \\pi(N-1)}{N}} \\\\\n",
    "1 & e^{-i \\frac{4 \\pi}{N}} & e^{-i \\frac{8 \\pi}{N}} & \\cdots & e^{-i \\frac{4 \\pi(N-1)}{N}} \\\\\n",
    "\\vdots & \\vdots & \\vdots & \\ddots & \\vdots \\\\\n",
    "1 & e^{-i \\frac{2 \\pi(N-1)}{N}} & e^{-i \\frac{4 \\pi(N-1)}{N}} & \\cdots & e^{-i \\frac{2 \\pi(N-1)(N-1)}{N}}\n",
    "\\end{array}\\right)\\left(\\begin{array}{c}\n",
    "x_{0} \\\\\n",
    "x_{1} \\\\\n",
    "x_{2} \\\\\n",
    "\\vdots \\\\\n",
    "x_{N-1}\n",
    "\\end{array}\\right)\n",
    "$$\n",
    "\n",
    "$W^n_N$は回転因子という。\n",
    "$$\n",
    "W^n_k = e^{-i \\frac{2 \\pi n}{N}}\n",
    "$$\n",
    "\n",
    "これを用いると、\n",
    "\n",
    "$$\n",
    "\\left(\\begin{array}{c}\n",
    "X_{0} \\\\\n",
    "X_{1} \\\\\n",
    "X_{2} \\\\\n",
    "\\vdots \\\\\n",
    "X_{N-1}\n",
    "\\end{array}\\right)=\\left(\\begin{array}{ccccc}\n",
    "1 & 1 & 1 & \\cdots & 1 \\\\\n",
    "1 & W_{N} & W_{N}^{2} & \\cdots & W_{N}^{N-1} \\\\\n",
    "1 & W_{N}^{2} & W_{N}^{4} & \\cdots & W_{N}^{2(N-1)} \\\\\n",
    "\\vdots & \\vdots & \\vdots & \\ddots & \\vdots \\\\\n",
    "1 & W_{N}^{(N-1)} & W_{N}^{2(N-1)} & \\cdots & W_{N}^{(N-1)(N-1)}\n",
    "\\end{array}\\right)\\left(\\begin{array}{c}\n",
    "x_{0} \\\\\n",
    "x_{1} \\\\\n",
    "x_{2} \\\\\n",
    "\\vdots \\\\\n",
    "x_{N-1}\n",
    "\\end{array}\\right)\n",
    "$$\n",
    "\n",
    "$$\n",
    "X_{n}=\\sum_{k=0}^{N-1} x_{k} W_{N}^{n k}\n",
    "$$\n",
    "\n",
    "離散フーリエ変換では、 $X_0$ から $X_{n−1}$ の $N$ 回の離散フーリエ変換を行うためには、 $N^2$ 回、複素数の計算を行う必要がある。しかし高速フーリエ変換では、この膨大な複素数の計算を減らすことができる。$\\frac{N}{2} \\log _{2} N$\n",
    "高速フーリエ変換では、データ数が2の冪乗である必要がある。\n",
    "\n",
    "(ここからはまだ調べている途中で記載できていないです：バタフライ演算)\n",
    "\n",
    "Juliaでは高速フーリエ変換のライブラリとして、FFTW.jlが準備されている(OCamlで最適なCのコードを自動生成する仕組み)。\n",
    "\n",
    "### 早く計算するには\n",
    "- 並列処理の設定を行う。export JULIA_NUM_THREADS=8などと、スレッド数を指定。\n",
    "- planfftを利用し、inplace(計算機科学においてデータ構造の変換を行うにあたって、追加の記憶領域をほとんど使わずに行うアルゴリズム)を行う。\n",
    "- Juiaでも、MATLABと同じくMLKを使用する。"
   ]
  },
  {
   "cell_type": "code",
   "execution_count": 4,
   "metadata": {},
   "outputs": [
    {
     "name": "stdout",
     "output_type": "stream",
     "text": [
      "search: \u001b[0m\u001b[1mf\u001b[22m\u001b[0m\u001b[1mf\u001b[22m\u001b[0m\u001b[1mt\u001b[22m \u001b[0m\u001b[1mf\u001b[22m\u001b[0m\u001b[1mf\u001b[22m\u001b[0m\u001b[1mt\u001b[22m! \u001b[0m\u001b[1mf\u001b[22m\u001b[0m\u001b[1mf\u001b[22m\u001b[0m\u001b[1mt\u001b[22mfreq \u001b[0m\u001b[1mF\u001b[22m\u001b[0m\u001b[1mF\u001b[22m\u001b[0m\u001b[1mT\u001b[22mW \u001b[0m\u001b[1mf\u001b[22m\u001b[0m\u001b[1mf\u001b[22m\u001b[0m\u001b[1mt\u001b[22mshift r\u001b[0m\u001b[1mf\u001b[22m\u001b[0m\u001b[1mf\u001b[22m\u001b[0m\u001b[1mt\u001b[22m i\u001b[0m\u001b[1mf\u001b[22m\u001b[0m\u001b[1mf\u001b[22m\u001b[0m\u001b[1mt\u001b[22m b\u001b[0m\u001b[1mf\u001b[22m\u001b[0m\u001b[1mf\u001b[22m\u001b[0m\u001b[1mt\u001b[22m i\u001b[0m\u001b[1mf\u001b[22m\u001b[0m\u001b[1mf\u001b[22m\u001b[0m\u001b[1mt\u001b[22m! b\u001b[0m\u001b[1mf\u001b[22m\u001b[0m\u001b[1mf\u001b[22m\u001b[0m\u001b[1mt\u001b[22m! r\u001b[0m\u001b[1mf\u001b[22m\u001b[0m\u001b[1mf\u001b[22m\u001b[0m\u001b[1mt\u001b[22mfreq\n",
      "\n"
     ]
    },
    {
     "data": {
      "text/latex": [
       "\\begin{verbatim}\n",
       "fft(A [, dims])\n",
       "\\end{verbatim}\n",
       "Performs a multidimensional FFT of the array \\texttt{A}. The optional \\texttt{dims} argument specifies an iterable subset of dimensions (e.g. an integer, range, tuple, or array) to transform along. Most efficient if the size of \\texttt{A} along the transformed dimensions is a product of small primes; see \\texttt{Base.nextprod}. See also \\href{@ref}{\\texttt{plan\\_fft()}} for even greater efficiency.\n",
       "\n",
       "A one-dimensional FFT computes the one-dimensional discrete Fourier transform (DFT) as defined by\n",
       "\n",
       "$$\\operatorname{DFT}(A)[k] =\n",
       "  \\sum_{n=1}^{\\operatorname{length}(A)}\n",
       "  \\exp\\left(-i\\frac{2\\pi\n",
       "  (n-1)(k-1)}{\\operatorname{length}(A)} \\right) A[n].$$\n",
       "A multidimensional FFT simply performs this operation along each transformed dimension of \\texttt{A}.\n",
       "\n",
       "\\begin{quote}\n",
       "\\textbf{note}\n",
       "\n",
       "Note\n",
       "\n",
       "This performs a multidimensional FFT by default. FFT libraries in other languages such as Python and Octave perform a one-dimensional FFT along the first non-singleton dimension of the array. This is worth noting while performing comparisons.\n",
       "\n",
       "\\end{quote}\n"
      ],
      "text/markdown": [
       "```\n",
       "fft(A [, dims])\n",
       "```\n",
       "\n",
       "Performs a multidimensional FFT of the array `A`. The optional `dims` argument specifies an iterable subset of dimensions (e.g. an integer, range, tuple, or array) to transform along. Most efficient if the size of `A` along the transformed dimensions is a product of small primes; see `Base.nextprod`. See also [`plan_fft()`](@ref) for even greater efficiency.\n",
       "\n",
       "A one-dimensional FFT computes the one-dimensional discrete Fourier transform (DFT) as defined by\n",
       "\n",
       "$$\n",
       "\\operatorname{DFT}(A)[k] =\n",
       "  \\sum_{n=1}^{\\operatorname{length}(A)}\n",
       "  \\exp\\left(-i\\frac{2\\pi\n",
       "  (n-1)(k-1)}{\\operatorname{length}(A)} \\right) A[n].\n",
       "$$\n",
       "\n",
       "A multidimensional FFT simply performs this operation along each transformed dimension of `A`.\n",
       "\n",
       "!!! note\n",
       "    This performs a multidimensional FFT by default. FFT libraries in other languages such as Python and Octave perform a one-dimensional FFT along the first non-singleton dimension of the array. This is worth noting while performing comparisons.\n",
       "\n"
      ],
      "text/plain": [
       "\u001b[36m  fft(A [, dims])\u001b[39m\n",
       "\n",
       "  Performs a multidimensional FFT of the array \u001b[36mA\u001b[39m. The optional \u001b[36mdims\u001b[39m argument\n",
       "  specifies an iterable subset of dimensions (e.g. an integer, range, tuple,\n",
       "  or array) to transform along. Most efficient if the size of \u001b[36mA\u001b[39m along the\n",
       "  transformed dimensions is a product of small primes; see \u001b[36mBase.nextprod\u001b[39m. See\n",
       "  also \u001b[36mplan_fft()\u001b[39m for even greater efficiency.\n",
       "\n",
       "  A one-dimensional FFT computes the one-dimensional discrete Fourier\n",
       "  transform (DFT) as defined by\n",
       "\n",
       "\u001b[35m  \\operatorname{DFT}(A)[k] =\u001b[39m\n",
       "\u001b[35m  \\sum_{n=1}^{\\operatorname{length}(A)}\u001b[39m\n",
       "\u001b[35m  \\exp\\left(-i\\frac{2\\pi\u001b[39m\n",
       "\u001b[35m  (n-1)(k-1)}{\\operatorname{length}(A)} \\right) A[n].\u001b[39m\n",
       "\n",
       "  A multidimensional FFT simply performs this operation along each transformed\n",
       "  dimension of \u001b[36mA\u001b[39m.\n",
       "\n",
       "\u001b[36m\u001b[1m  │ \u001b[22m\u001b[39m\u001b[36m\u001b[1mNote\u001b[22m\u001b[39m\n",
       "\u001b[36m\u001b[1m  │\u001b[22m\u001b[39m\n",
       "\u001b[36m\u001b[1m  │\u001b[22m\u001b[39m  This performs a multidimensional FFT by default. FFT libraries in\n",
       "\u001b[36m\u001b[1m  │\u001b[22m\u001b[39m  other languages such as Python and Octave perform a\n",
       "\u001b[36m\u001b[1m  │\u001b[22m\u001b[39m  one-dimensional FFT along the first non-singleton dimension of the\n",
       "\u001b[36m\u001b[1m  │\u001b[22m\u001b[39m  array. This is worth noting while performing comparisons."
      ]
     },
     "execution_count": 4,
     "metadata": {},
     "output_type": "execute_result"
    }
   ],
   "source": [
    "?fft"
   ]
  },
  {
   "cell_type": "code",
   "execution_count": 8,
   "metadata": {},
   "outputs": [
    {
     "name": "stdout",
     "output_type": "stream",
     "text": [
      "search: \u001b[0m\u001b[1mp\u001b[22m\u001b[0m\u001b[1ml\u001b[22m\u001b[0m\u001b[1ma\u001b[22m\u001b[0m\u001b[1mn\u001b[22m\u001b[0m\u001b[1m_\u001b[22m\u001b[0m\u001b[1mf\u001b[22m\u001b[0m\u001b[1mf\u001b[22m\u001b[0m\u001b[1mt\u001b[22m \u001b[0m\u001b[1mp\u001b[22m\u001b[0m\u001b[1ml\u001b[22m\u001b[0m\u001b[1ma\u001b[22m\u001b[0m\u001b[1mn\u001b[22m\u001b[0m\u001b[1m_\u001b[22m\u001b[0m\u001b[1mf\u001b[22m\u001b[0m\u001b[1mf\u001b[22m\u001b[0m\u001b[1mt\u001b[22m! \u001b[0m\u001b[1mp\u001b[22m\u001b[0m\u001b[1ml\u001b[22m\u001b[0m\u001b[1ma\u001b[22m\u001b[0m\u001b[1mn\u001b[22m\u001b[0m\u001b[1m_\u001b[22mr\u001b[0m\u001b[1mf\u001b[22m\u001b[0m\u001b[1mf\u001b[22m\u001b[0m\u001b[1mt\u001b[22m \u001b[0m\u001b[1mp\u001b[22m\u001b[0m\u001b[1ml\u001b[22m\u001b[0m\u001b[1ma\u001b[22m\u001b[0m\u001b[1mn\u001b[22m\u001b[0m\u001b[1m_\u001b[22mi\u001b[0m\u001b[1mf\u001b[22m\u001b[0m\u001b[1mf\u001b[22m\u001b[0m\u001b[1mt\u001b[22m \u001b[0m\u001b[1mp\u001b[22m\u001b[0m\u001b[1ml\u001b[22m\u001b[0m\u001b[1ma\u001b[22m\u001b[0m\u001b[1mn\u001b[22m\u001b[0m\u001b[1m_\u001b[22mb\u001b[0m\u001b[1mf\u001b[22m\u001b[0m\u001b[1mf\u001b[22m\u001b[0m\u001b[1mt\u001b[22m \u001b[0m\u001b[1mp\u001b[22m\u001b[0m\u001b[1ml\u001b[22m\u001b[0m\u001b[1ma\u001b[22m\u001b[0m\u001b[1mn\u001b[22m\u001b[0m\u001b[1m_\u001b[22mi\u001b[0m\u001b[1mf\u001b[22m\u001b[0m\u001b[1mf\u001b[22m\u001b[0m\u001b[1mt\u001b[22m! \u001b[0m\u001b[1mp\u001b[22m\u001b[0m\u001b[1ml\u001b[22m\u001b[0m\u001b[1ma\u001b[22m\u001b[0m\u001b[1mn\u001b[22m\u001b[0m\u001b[1m_\u001b[22mb\u001b[0m\u001b[1mf\u001b[22m\u001b[0m\u001b[1mf\u001b[22m\u001b[0m\u001b[1mt\u001b[22m!\n",
      "\n"
     ]
    },
    {
     "data": {
      "text/latex": [
       "\\begin{verbatim}\n",
       "plan_fft(A [, dims]; flags=FFTW.ESTIMATE, timelimit=Inf)\n",
       "\\end{verbatim}\n",
       "Pre-plan an optimized FFT along given dimensions (\\texttt{dims}) of arrays matching the shape and type of \\texttt{A}.  (The first two arguments have the same meaning as for \\href{@ref}{\\texttt{fft}}.) Returns an object \\texttt{P} which represents the linear operator computed by the FFT, and which contains all of the information needed to compute \\texttt{fft(A, dims)} quickly.\n",
       "\n",
       "To apply \\texttt{P} to an array \\texttt{A}, use \\texttt{P * A}; in general, the syntax for applying plans is much like that of matrices.  (A plan can only be applied to arrays of the same size as the \\texttt{A} for which the plan was created.)  You can also apply a plan with a preallocated output array \\texttt{Â} by calling \\texttt{mul!(Â, plan, A)}.  (For \\texttt{mul!}, however, the input array \\texttt{A} must be a complex floating-point array like the output \\texttt{Â}.) You can compute the inverse-transform plan by \\texttt{inv(P)} and apply the inverse plan with \\texttt{P {\\textbackslash} Â} (the inverse plan is cached and reused for subsequent calls to \\texttt{inv} or \\texttt{{\\textbackslash}}), and apply the inverse plan to a pre-allocated output array \\texttt{A} with \\texttt{ldiv!(A, P, Â)}.\n",
       "\n",
       "The \\texttt{flags} argument is a bitwise-or of FFTW planner flags, defaulting to \\texttt{FFTW.ESTIMATE}. e.g. passing \\texttt{FFTW.MEASURE} or \\texttt{FFTW.PATIENT} will instead spend several seconds (or more) benchmarking different possible FFT algorithms and picking the fastest one; see the FFTW manual for more information on planner flags.  The optional \\texttt{timelimit} argument specifies a rough upper bound on the allowed planning time, in seconds. Passing \\texttt{FFTW.MEASURE} or \\texttt{FFTW.PATIENT} may cause the input array \\texttt{A} to be overwritten with zeros during plan creation.\n",
       "\n",
       "\\href{@ref}{\\texttt{plan\\_fft!}} is the same as \\href{@ref}{\\texttt{plan\\_fft}} but creates a plan that operates in-place on its argument (which must be an array of complex floating-point numbers). \\href{@ref}{\\texttt{plan\\_ifft}} and so on are similar but produce plans that perform the equivalent of the inverse transforms \\href{@ref}{\\texttt{ifft}} and so on.\n",
       "\n"
      ],
      "text/markdown": [
       "```\n",
       "plan_fft(A [, dims]; flags=FFTW.ESTIMATE, timelimit=Inf)\n",
       "```\n",
       "\n",
       "Pre-plan an optimized FFT along given dimensions (`dims`) of arrays matching the shape and type of `A`.  (The first two arguments have the same meaning as for [`fft`](@ref).) Returns an object `P` which represents the linear operator computed by the FFT, and which contains all of the information needed to compute `fft(A, dims)` quickly.\n",
       "\n",
       "To apply `P` to an array `A`, use `P * A`; in general, the syntax for applying plans is much like that of matrices.  (A plan can only be applied to arrays of the same size as the `A` for which the plan was created.)  You can also apply a plan with a preallocated output array `Â` by calling `mul!(Â, plan, A)`.  (For `mul!`, however, the input array `A` must be a complex floating-point array like the output `Â`.) You can compute the inverse-transform plan by `inv(P)` and apply the inverse plan with `P \\ Â` (the inverse plan is cached and reused for subsequent calls to `inv` or `\\`), and apply the inverse plan to a pre-allocated output array `A` with `ldiv!(A, P, Â)`.\n",
       "\n",
       "The `flags` argument is a bitwise-or of FFTW planner flags, defaulting to `FFTW.ESTIMATE`. e.g. passing `FFTW.MEASURE` or `FFTW.PATIENT` will instead spend several seconds (or more) benchmarking different possible FFT algorithms and picking the fastest one; see the FFTW manual for more information on planner flags.  The optional `timelimit` argument specifies a rough upper bound on the allowed planning time, in seconds. Passing `FFTW.MEASURE` or `FFTW.PATIENT` may cause the input array `A` to be overwritten with zeros during plan creation.\n",
       "\n",
       "[`plan_fft!`](@ref) is the same as [`plan_fft`](@ref) but creates a plan that operates in-place on its argument (which must be an array of complex floating-point numbers). [`plan_ifft`](@ref) and so on are similar but produce plans that perform the equivalent of the inverse transforms [`ifft`](@ref) and so on.\n"
      ],
      "text/plain": [
       "\u001b[36m  plan_fft(A [, dims]; flags=FFTW.ESTIMATE, timelimit=Inf)\u001b[39m\n",
       "\n",
       "  Pre-plan an optimized FFT along given dimensions (\u001b[36mdims\u001b[39m) of arrays matching\n",
       "  the shape and type of \u001b[36mA\u001b[39m. (The first two arguments have the same meaning as\n",
       "  for \u001b[36mfft\u001b[39m.) Returns an object \u001b[36mP\u001b[39m which represents the linear operator computed\n",
       "  by the FFT, and which contains all of the information needed to compute\n",
       "  \u001b[36mfft(A, dims)\u001b[39m quickly.\n",
       "\n",
       "  To apply \u001b[36mP\u001b[39m to an array \u001b[36mA\u001b[39m, use \u001b[36mP * A\u001b[39m; in general, the syntax for applying\n",
       "  plans is much like that of matrices. (A plan can only be applied to arrays\n",
       "  of the same size as the \u001b[36mA\u001b[39m for which the plan was created.) You can also\n",
       "  apply a plan with a preallocated output array \u001b[36mÂ\u001b[39m by calling \u001b[36mmul!(Â, plan, A)\u001b[39m.\n",
       "  (For \u001b[36mmul!\u001b[39m, however, the input array \u001b[36mA\u001b[39m must be a complex floating-point array\n",
       "  like the output \u001b[36mÂ\u001b[39m.) You can compute the inverse-transform plan by \u001b[36minv(P)\u001b[39m and\n",
       "  apply the inverse plan with \u001b[36mP \\ Â\u001b[39m (the inverse plan is cached and reused for\n",
       "  subsequent calls to \u001b[36minv\u001b[39m or \u001b[36m\\\u001b[39m), and apply the inverse plan to a pre-allocated\n",
       "  output array \u001b[36mA\u001b[39m with \u001b[36mldiv!(A, P, Â)\u001b[39m.\n",
       "\n",
       "  The \u001b[36mflags\u001b[39m argument is a bitwise-or of FFTW planner flags, defaulting to\n",
       "  \u001b[36mFFTW.ESTIMATE\u001b[39m. e.g. passing \u001b[36mFFTW.MEASURE\u001b[39m or \u001b[36mFFTW.PATIENT\u001b[39m will instead spend\n",
       "  several seconds (or more) benchmarking different possible FFT algorithms and\n",
       "  picking the fastest one; see the FFTW manual for more information on planner\n",
       "  flags. The optional \u001b[36mtimelimit\u001b[39m argument specifies a rough upper bound on the\n",
       "  allowed planning time, in seconds. Passing \u001b[36mFFTW.MEASURE\u001b[39m or \u001b[36mFFTW.PATIENT\u001b[39m may\n",
       "  cause the input array \u001b[36mA\u001b[39m to be overwritten with zeros during plan creation.\n",
       "\n",
       "  \u001b[36mplan_fft!\u001b[39m is the same as \u001b[36mplan_fft\u001b[39m but creates a plan that operates in-place\n",
       "  on its argument (which must be an array of complex floating-point numbers).\n",
       "  \u001b[36mplan_ifft\u001b[39m and so on are similar but produce plans that perform the\n",
       "  equivalent of the inverse transforms \u001b[36mifft\u001b[39m and so on."
      ]
     },
     "execution_count": 8,
     "metadata": {},
     "output_type": "execute_result"
    }
   ],
   "source": [
    "?plan_fft#plan_fftは、最適化されたfft関数（技術的には、プランとfftw_execute_dftのラッパー）を返すだけ?"
   ]
  },
  {
   "cell_type": "code",
   "execution_count": 6,
   "metadata": {},
   "outputs": [],
   "source": [
    "using BenchmarkTools\n",
    "\n",
    "N=2^11\n",
    "A_real = rand(N, N)\n",
    "FFT = plan_fft(A_real);"
   ]
  },
  {
   "cell_type": "code",
   "execution_count": 7,
   "metadata": {},
   "outputs": [
    {
     "data": {
      "text/plain": [
       "BenchmarkTools.Trial: \n",
       "  memory estimate:  128.00 MiB\n",
       "  allocs estimate:  4\n",
       "  --------------\n",
       "  minimum time:     141.370 ms (0.48% GC)\n",
       "  median time:      155.255 ms (5.76% GC)\n",
       "  mean time:        158.071 ms (7.96% GC)\n",
       "  maximum time:     240.408 ms (37.25% GC)\n",
       "  --------------\n",
       "  samples:          32\n",
       "  evals/sample:     1"
      ]
     },
     "execution_count": 7,
     "metadata": {},
     "output_type": "execute_result"
    }
   ],
   "source": [
    "@benchmark B = FFT * A_real"
   ]
  },
  {
   "cell_type": "code",
   "execution_count": 10,
   "metadata": {},
   "outputs": [],
   "source": [
    "N=2^11\n",
    "C_real = rand(N, N)\n",
    "FFT = fft(C_real);"
   ]
  },
  {
   "cell_type": "code",
   "execution_count": 11,
   "metadata": {},
   "outputs": [
    {
     "data": {
      "text/plain": [
       "BenchmarkTools.Trial: \n",
       "  memory estimate:  64.00 MiB\n",
       "  allocs estimate:  2\n",
       "  --------------\n",
       "  minimum time:     344.108 ms (0.00% GC)\n",
       "  median time:      356.412 ms (0.00% GC)\n",
       "  mean time:        370.236 ms (2.96% GC)\n",
       "  maximum time:     486.717 ms (20.39% GC)\n",
       "  --------------\n",
       "  samples:          14\n",
       "  evals/sample:     1"
      ]
     },
     "execution_count": 11,
     "metadata": {},
     "output_type": "execute_result"
    }
   ],
   "source": [
    "@benchmark D = FFT * C_real"
   ]
  },
  {
   "cell_type": "code",
   "execution_count": 1,
   "metadata": {},
   "outputs": [
    {
     "name": "stderr",
     "output_type": "stream",
     "text": [
      "┌ Info: Precompiling FFTW [7a1cc6ca-52ef-59f5-83cd-3a7055c09341]\n",
      "└ @ Base loading.jl:1278\n"
     ]
    },
    {
     "name": "stdout",
     "output_type": "stream",
     "text": [
      "Complex{Float64}[-2.220446049250313e-16 + 0.0im, 2.5 - 2.76434240485155e-16im, -2.220446049250313e-16 - 2.4926059914975068e-17im, -2.220446049250313e-16 + 2.4926059914975068e-17im, 2.5 + 2.76434240485155e-16im]\n"
     ]
    }
   ],
   "source": [
    "using FFTW\n",
    "\n",
    "len = 5\n",
    "x = [2pi*k/len for k = 0:len-1]\n",
    "cos_x = cos.(x)\n",
    "println(fft(cos_x))"
   ]
  },
  {
   "cell_type": "code",
   "execution_count": 2,
   "metadata": {},
   "outputs": [
    {
     "name": "stdout",
     "output_type": "stream",
     "text": [
      "Complex{Float64}[1.1102230246251565e-16 + 0.0im, -2.139456371091744e-16 - 2.5im, 1.5843448587791657e-16 - 4.3164793190846535e-17im, 1.5843448587791657e-16 + 4.3164793190846535e-17im, -2.139456371091744e-16 + 2.5im]\n"
     ]
    }
   ],
   "source": [
    "using FFTW\n",
    "\n",
    "len=5\n",
    "x = [2pi*k/len for k = 0:len-1]\n",
    "sin_x = sin.(x)\n",
    "println(fft(sin_x))"
   ]
  },
  {
   "cell_type": "markdown",
   "metadata": {},
   "source": [
    "https://qiita.com/ageprocpp/items/0d63d4ed80de4a35fe79\n",
    "\n",
    "https://cognicull.com/ja/f5q2jl62\n",
    "\n",
    "下のコードはMATLABのverifyfftのコード"
   ]
  },
  {
   "cell_type": "markdown",
   "metadata": {},
   "source": [
    "function Z = verifyfft(z,sign)\n",
    "%VERIFYFFT    Verified forward and backward 1-dimensional FFT\n",
    "%\n",
    "%   res = verifyfft(z,sign)\n",
    "%\n",
    "%   z     input vector or matrix\n",
    "%         length of z must be a power of 2 \n",
    "%   sign   1 forward FFT (default)\n",
    "%         -1 inverse FFT\n",
    "% \n",
    "%As in Matlab, the inverse FFT is scaled such that forward and inverse FFT\n",
    "%are inverse operations.\n",
    "%For matrix input, FFT is performed on each column; row vector input\n",
    "%is converted into column vector. \n",
    "%For N-dimensional FFT apply verifyfft N times.\n",
    "% \n",
    "\n",
    "% written  09/24/14     S.M. Rump  (based no Marcio Gameiro's code)\n",
    "% modified 01/16/16     S.M. Rump  improved error estimates\n",
    "%\n",
    "\n",
    "% data generated by fft_data_gen\n",
    "%\n",
    "\n",
    "  global INTLAB_CONST\n",
    "  \n",
    "  [n,col] = size(z);\n",
    "  if n==1\n",
    "    if col==1\n",
    "      Z = intval(z);\n",
    "      return\n",
    "    else\n",
    "      isrow = 1;\n",
    "      z = z(:);\n",
    "      n = col;\n",
    "      col = 1;\n",
    "    end\n",
    "  else\n",
    "    isrow = 0;\n",
    "  end\n",
    "    \n",
    "  if nargin==1\n",
    "    sign = 1;       % default: forward\n",
    "  end\n",
    "  \n",
    "  % check dimension\n",
    "  log2n = round(log2(n));\n",
    "  if 2^log2n~=n\n",
    "    error('length must be power of 2')\n",
    "  end\n",
    "  \n",
    "  % bit-reversal\n",
    "  % v = bin2dec(fliplr(dec2bin(0:n-1,log2n))) + 1\n",
    "  f = 2^(log2n-1);\n",
    "  v = [0;f]; \n",
    "  for k=1:log2n-1\n",
    "    f = 0.5*f;\n",
    "    v = [ v ; f+v ];\n",
    "  end\n",
    "  z = z(v+1,:);\n",
    "  \n",
    "  % Danielson-Lanczos algorithm\n",
    "  Z = intval(z);\n",
    "  Index = reshape(1:n*col,n,col);\n",
    "  nmax = INTLAB_CONST.FFTDATA_NMAX; % maximum in fft_data\n",
    "  if n<=nmax\n",
    "    r = INTLAB_CONST.FFTDATA_R;     % roots of unity in  r +/- d\n",
    "    d = INTLAB_CONST.FFTDATA_D(log2n);\n",
    "    Phi = midrad(r(1:nmax/n:nmax),d);\n",
    "    if sign==-1\n",
    "      Phi = (Phi.')';      \n",
    "    end\n",
    "  else\n",
    "    % compute roots of unity, division exact because n is power of 2\n",
    "    theta = intval('pi') * ( sign*(0:(n-1))'/n ); \n",
    "    Phi = cos(theta) + 1i*sin(theta);\n",
    "  end\n",
    "  v = 1:2:n;\n",
    "  w = 2:2:n;\n",
    "  t = Z(w,:);\n",
    "  Z(w,:) = Z(v,:) - t;\n",
    "  Z(v,:) = Z(v,:) + t;\n",
    "  \n",
    "  for index=1:(log2n-1)     % Executed log2(n) times\n",
    "    m = 2^index;\n",
    "    m2 = 2*m;\n",
    "    vw = reshape(1:n,m2,n/m2);\n",
    "    v = vw(1:m,:);\n",
    "    w = vw(m+1:m2,:);\n",
    "%     t = bsxfun(@times,exp(1i*pi*(0:m-1)'/m),Z(w));  % doesn't work for intervals\n",
    "%     theta = intval('pi') * (sign*(0:(m-1))'/m);     % division exact because m=2^p\n",
    "%     t = exp(1i*theta) .* Z(w);\n",
    "    indexv = reshape(Index(v(:),:),m,col*n/m2);\n",
    "    indexw = reshape(Index(w(:),:),m,col*n/m2);\n",
    "%     t = repmat(Phi(1:n/m:end),1,n/m2*col);\n",
    "    t = Phi(1:n/m:end,ones(1,n/m2*col)) .* Z(indexw);   % Tony's trick\n",
    "    Z(indexw) = Z(indexv) - t;\n",
    "    Z(indexv) = Z(indexv) + t;\n",
    "  end\n",
    "  \n",
    "  Z = [Z(1,:); flipud(Z(2:end,:))];\n",
    "  if sign==-1\n",
    "    Z = Z/n;        % error-free since n is a power of 2\n",
    "  end\n",
    "  \n",
    "  if isrow          % change to row vector\n",
    "    Z = transpose(Z);\n",
    "  end\n",
    "  \n",
    "end\n"
   ]
  }
 ],
 "metadata": {
  "kernelspec": {
   "display_name": "Julia 1.5.0",
   "language": "julia",
   "name": "julia-1.5"
  },
  "language_info": {
   "file_extension": ".jl",
   "mimetype": "application/julia",
   "name": "julia",
   "version": "1.5.0"
  }
 },
 "nbformat": 4,
 "nbformat_minor": 4
}
